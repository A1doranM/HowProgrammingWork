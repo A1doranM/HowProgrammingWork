{
 "cells": [
  {
   "cell_type": "markdown",
   "id": "e9ff434c",
   "metadata": {},
   "source": [
    "## Types & NA Values Exercise\n",
    "\n",
    "**This exercise uses the `netflix_titles.csv` dataset**"
   ]
  },
  {
   "cell_type": "code",
   "execution_count": 21,
   "id": "1ebc3293",
   "metadata": {},
   "outputs": [],
   "source": [
    "# Import the netflix_titles.csv dataset, making sure to pass the correct separator character\n",
    "import pandas as pd\n",
    "netflix = pd.read_csv(\"data/netflix_titles.csv\", sep=\"|\", index_col=1)"
   ]
  },
  {
   "cell_type": "code",
   "execution_count": 23,
   "id": "77be6fb1",
   "metadata": {},
   "outputs": [],
   "source": [
    "#Quite a few rows are missing a value for country. Find the rows with no country\n"
   ]
  },
  {
   "cell_type": "code",
   "execution_count": 24,
   "id": "0a7a17c6",
   "metadata": {},
   "outputs": [],
   "source": [
    "#Find the rows with no director, cast, AND country listed\n"
   ]
  },
  {
   "cell_type": "code",
   "execution_count": 16,
   "id": "f6bc6c65",
   "metadata": {},
   "outputs": [],
   "source": [
    "#Drop all rows in the dataframe that have at least one NA value (not inplace!)\n"
   ]
  },
  {
   "cell_type": "code",
   "execution_count": 15,
   "id": "f621b49f",
   "metadata": {},
   "outputs": [],
   "source": [
    "#Drop all columns in the dataframe that contain at least one NA value, not inplace!\n"
   ]
  },
  {
   "cell_type": "code",
   "execution_count": 14,
   "id": "c8dc693d",
   "metadata": {
    "scrolled": true
   },
   "outputs": [],
   "source": [
    "#Drop all rows in the dataset that have a missing director or cast (not inplace!)\n"
   ]
  },
  {
   "cell_type": "code",
   "execution_count": 57,
   "id": "6834dd6b",
   "metadata": {},
   "outputs": [],
   "source": [
    "# Find the rows that are missing a \"rating\"\n",
    "# Replace the na ratings with \"TV-MA\" USING .loc[] \n"
   ]
  },
  {
   "cell_type": "code",
   "execution_count": 56,
   "id": "62b32541",
   "metadata": {},
   "outputs": [],
   "source": [
    "# Fill the missing \"country\" values with the most common (mode) country value, inplace!\n",
    "# Do this using fillna, rather than .loc  \n"
   ]
  }
 ],
 "metadata": {
  "kernelspec": {
   "display_name": "Python 3",
   "language": "python",
   "name": "python3"
  },
  "language_info": {
   "codemirror_mode": {
    "name": "ipython",
    "version": 3
   },
   "file_extension": ".py",
   "mimetype": "text/x-python",
   "name": "python",
   "nbconvert_exporter": "python",
   "pygments_lexer": "ipython3",
   "version": "3.8.8"
  }
 },
 "nbformat": 4,
 "nbformat_minor": 5
}
