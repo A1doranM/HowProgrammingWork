{
 "cells": [
  {
   "cell_type": "markdown",
   "id": "04b3f624",
   "metadata": {},
   "source": [
    "# DataFrame Analysis Exercise\n",
    "\n",
    "**Import the `bestsellers.csv` dataset and use it to answer the following questions:**\n",
    "\n",
    "* Find the lowest User Rating in the DF\n",
    "* Find the highest Price in the DF\n",
    "* What is the average User Rating?\n",
    "* What the average User Rating of the first 5 rows?\n",
    "* What User Review score appeared the most?\n",
    "* What is the total (sum) of all the values in the Reviews column?\n",
    "* How many different authors are featured in the dataset?\n",
    "* Which author wrote the most number of books on the list?  How many did they write?"
   ]
  },
  {
   "metadata": {
    "ExecuteTime": {
     "end_time": "2024-04-05T11:27:40.495392Z",
     "start_time": "2024-04-05T11:27:40.485769Z"
    }
   },
   "cell_type": "code",
   "source": [
    "import pandas as pd\n",
    "sellers = pd.read_csv(\"data/bestsellers.csv\")"
   ],
   "id": "22cc912d5a24473d",
   "outputs": [],
   "execution_count": 2
  },
  {
   "metadata": {
    "ExecuteTime": {
     "end_time": "2024-04-05T11:27:56.605481Z",
     "start_time": "2024-04-05T11:27:56.524764Z"
    }
   },
   "cell_type": "code",
   "source": "sellers.head()",
   "id": "beb4332c106f3477",
   "outputs": [
    {
     "data": {
      "text/plain": [
       "                                                Name  \\\n",
       "0                      10-Day Green Smoothie Cleanse   \n",
       "1                                  11/22/63: A Novel   \n",
       "2            12 Rules for Life: An Antidote to Chaos   \n",
       "3                             1984 (Signet Classics)   \n",
       "4  5,000 Awesome Facts (About Everything!) (Natio...   \n",
       "\n",
       "                     Author  User Rating  Reviews  Price  Year        Genre  \n",
       "0                  JJ Smith          4.7    17350      8  2016  Non Fiction  \n",
       "1              Stephen King          4.6     2052     22  2011      Fiction  \n",
       "2        Jordan B. Peterson          4.7    18979     15  2018  Non Fiction  \n",
       "3             George Orwell          4.7    21424      6  2017      Fiction  \n",
       "4  National Geographic Kids          4.8     7665     12  2019  Non Fiction  "
      ],
      "text/html": [
       "<div>\n",
       "<style scoped>\n",
       "    .dataframe tbody tr th:only-of-type {\n",
       "        vertical-align: middle;\n",
       "    }\n",
       "\n",
       "    .dataframe tbody tr th {\n",
       "        vertical-align: top;\n",
       "    }\n",
       "\n",
       "    .dataframe thead th {\n",
       "        text-align: right;\n",
       "    }\n",
       "</style>\n",
       "<table border=\"1\" class=\"dataframe\">\n",
       "  <thead>\n",
       "    <tr style=\"text-align: right;\">\n",
       "      <th></th>\n",
       "      <th>Name</th>\n",
       "      <th>Author</th>\n",
       "      <th>User Rating</th>\n",
       "      <th>Reviews</th>\n",
       "      <th>Price</th>\n",
       "      <th>Year</th>\n",
       "      <th>Genre</th>\n",
       "    </tr>\n",
       "  </thead>\n",
       "  <tbody>\n",
       "    <tr>\n",
       "      <th>0</th>\n",
       "      <td>10-Day Green Smoothie Cleanse</td>\n",
       "      <td>JJ Smith</td>\n",
       "      <td>4.7</td>\n",
       "      <td>17350</td>\n",
       "      <td>8</td>\n",
       "      <td>2016</td>\n",
       "      <td>Non Fiction</td>\n",
       "    </tr>\n",
       "    <tr>\n",
       "      <th>1</th>\n",
       "      <td>11/22/63: A Novel</td>\n",
       "      <td>Stephen King</td>\n",
       "      <td>4.6</td>\n",
       "      <td>2052</td>\n",
       "      <td>22</td>\n",
       "      <td>2011</td>\n",
       "      <td>Fiction</td>\n",
       "    </tr>\n",
       "    <tr>\n",
       "      <th>2</th>\n",
       "      <td>12 Rules for Life: An Antidote to Chaos</td>\n",
       "      <td>Jordan B. Peterson</td>\n",
       "      <td>4.7</td>\n",
       "      <td>18979</td>\n",
       "      <td>15</td>\n",
       "      <td>2018</td>\n",
       "      <td>Non Fiction</td>\n",
       "    </tr>\n",
       "    <tr>\n",
       "      <th>3</th>\n",
       "      <td>1984 (Signet Classics)</td>\n",
       "      <td>George Orwell</td>\n",
       "      <td>4.7</td>\n",
       "      <td>21424</td>\n",
       "      <td>6</td>\n",
       "      <td>2017</td>\n",
       "      <td>Fiction</td>\n",
       "    </tr>\n",
       "    <tr>\n",
       "      <th>4</th>\n",
       "      <td>5,000 Awesome Facts (About Everything!) (Natio...</td>\n",
       "      <td>National Geographic Kids</td>\n",
       "      <td>4.8</td>\n",
       "      <td>7665</td>\n",
       "      <td>12</td>\n",
       "      <td>2019</td>\n",
       "      <td>Non Fiction</td>\n",
       "    </tr>\n",
       "  </tbody>\n",
       "</table>\n",
       "</div>"
      ]
     },
     "execution_count": 3,
     "metadata": {},
     "output_type": "execute_result"
    }
   ],
   "execution_count": 3
  },
  {
   "metadata": {
    "ExecuteTime": {
     "end_time": "2024-04-05T11:28:46.097976Z",
     "start_time": "2024-04-05T11:28:46.093160Z"
    }
   },
   "cell_type": "code",
   "source": "urating = sellers['User Rating']",
   "id": "ce4ce75ece73380c",
   "outputs": [],
   "execution_count": 5
  },
  {
   "metadata": {
    "ExecuteTime": {
     "end_time": "2024-04-05T11:29:03.108172Z",
     "start_time": "2024-04-05T11:29:03.096807Z"
    }
   },
   "cell_type": "code",
   "source": "urating.describe()",
   "id": "d7bd5a87014e6013",
   "outputs": [
    {
     "data": {
      "text/plain": [
       "count    550.000000\n",
       "mean       4.618364\n",
       "std        0.226980\n",
       "min        3.300000\n",
       "25%        4.500000\n",
       "50%        4.700000\n",
       "75%        4.800000\n",
       "max        4.900000\n",
       "Name: User Rating, dtype: float64"
      ]
     },
     "execution_count": 6,
     "metadata": {},
     "output_type": "execute_result"
    }
   ],
   "execution_count": 6
  },
  {
   "metadata": {
    "ExecuteTime": {
     "end_time": "2024-04-05T11:29:41.062099Z",
     "start_time": "2024-04-05T11:29:41.051923Z"
    }
   },
   "cell_type": "code",
   "source": "urating.value_counts()",
   "id": "755692c08161f7a0",
   "outputs": [
    {
     "data": {
      "text/plain": [
       "User Rating\n",
       "4.8    127\n",
       "4.7    108\n",
       "4.6    105\n",
       "4.5     60\n",
       "4.9     52\n",
       "4.4     38\n",
       "4.3     25\n",
       "4.0     14\n",
       "4.2      8\n",
       "4.1      6\n",
       "3.9      3\n",
       "3.8      2\n",
       "3.6      1\n",
       "3.3      1\n",
       "Name: count, dtype: int64"
      ]
     },
     "execution_count": 7,
     "metadata": {},
     "output_type": "execute_result"
    }
   ],
   "execution_count": 7
  },
  {
   "metadata": {
    "ExecuteTime": {
     "end_time": "2024-04-05T11:30:33.563880Z",
     "start_time": "2024-04-05T11:30:33.555898Z"
    }
   },
   "cell_type": "code",
   "source": "urating.sum(numeric_only=True)",
   "id": "309b896688e21b1",
   "outputs": [
    {
     "data": {
      "text/plain": [
       "2540.1000000000004"
      ]
     },
     "execution_count": 8,
     "metadata": {},
     "output_type": "execute_result"
    }
   ],
   "execution_count": 8
  },
  {
   "metadata": {
    "ExecuteTime": {
     "end_time": "2024-04-05T11:32:32.685797Z",
     "start_time": "2024-04-05T11:32:32.676717Z"
    }
   },
   "cell_type": "code",
   "source": "sellers['Author'].value_counts()",
   "id": "96daa192ded233ac",
   "outputs": [
    {
     "data": {
      "text/plain": [
       "Author\n",
       "Jeff Kinney                           12\n",
       "Gary Chapman                          11\n",
       "Rick Riordan                          11\n",
       "Suzanne Collins                       11\n",
       "American Psychological Association    10\n",
       "                                      ..\n",
       "Keith Richards                         1\n",
       "Chris Cleave                           1\n",
       "Alice Schertle                         1\n",
       "Celeste Ng                             1\n",
       "Adam Gasiewski                         1\n",
       "Name: count, Length: 248, dtype: int64"
      ]
     },
     "execution_count": 13,
     "metadata": {},
     "output_type": "execute_result"
    }
   ],
   "execution_count": 13
  },
  {
   "metadata": {},
   "cell_type": "code",
   "outputs": [],
   "execution_count": null,
   "source": "",
   "id": "bdfd889f423bd11f"
  }
 ],
 "metadata": {
  "kernelspec": {
   "display_name": "Python 3",
   "language": "python",
   "name": "python3"
  },
  "language_info": {
   "codemirror_mode": {
    "name": "ipython",
    "version": 3
   },
   "file_extension": ".py",
   "mimetype": "text/x-python",
   "name": "python",
   "nbconvert_exporter": "python",
   "pygments_lexer": "ipython3",
   "version": "3.8.8"
  }
 },
 "nbformat": 4,
 "nbformat_minor": 5
}
