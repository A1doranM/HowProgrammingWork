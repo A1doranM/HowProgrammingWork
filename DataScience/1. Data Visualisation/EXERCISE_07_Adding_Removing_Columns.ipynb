{
 "cells": [
  {
   "cell_type": "markdown",
   "id": "b874a351",
   "metadata": {},
   "source": [
    "# Adding & Removing Columns Exercise"
   ]
  },
  {
   "cell_type": "code",
   "execution_count": 40,
   "id": "bcf7048c",
   "metadata": {},
   "outputs": [],
   "source": [
    "#Import the JoeBidenTweets.csv dataset.  Use the tweet \"id\" as the index\n"
   ]
  },
  {
   "cell_type": "code",
   "execution_count": 33,
   "id": "df28f3bf",
   "metadata": {},
   "outputs": [],
   "source": [
    "#Drop the \"url\" column (NOT inplace)\n"
   ]
  },
  {
   "cell_type": "code",
   "execution_count": 34,
   "id": "b1fe6a6a",
   "metadata": {},
   "outputs": [],
   "source": [
    "#Drop the row with the id of 361388562(NOT inplace)\n"
   ]
  },
  {
   "cell_type": "code",
   "execution_count": 35,
   "id": "17295a03",
   "metadata": {},
   "outputs": [],
   "source": [
    "#Add a new column called \"user\".  Set it to \"Joe Biden\" for all rows\n"
   ]
  },
  {
   "cell_type": "code",
   "execution_count": 36,
   "id": "1911cec5",
   "metadata": {},
   "outputs": [],
   "source": [
    "#Create a new column called \"ratio\".  It should contain the result of dividing each tweet's replies by its retweets\n"
   ]
  },
  {
   "cell_type": "code",
   "execution_count": 37,
   "id": "c1941517",
   "metadata": {},
   "outputs": [],
   "source": [
    "#Find the top 10 highest ratio tweets\n"
   ]
  },
  {
   "cell_type": "code",
   "execution_count": 38,
   "id": "882a29b2",
   "metadata": {},
   "outputs": [],
   "source": [
    "#Create a column called \"interactions\" that contains the sum of each tweet's replies, retweets, quotes, and likes\n"
   ]
  },
  {
   "cell_type": "code",
   "execution_count": 39,
   "id": "414c835d",
   "metadata": {},
   "outputs": [],
   "source": [
    "#Find the top 8 tweets by number of \"interactions\"\n"
   ]
  }
 ],
 "metadata": {
  "kernelspec": {
   "display_name": "Python 3",
   "language": "python",
   "name": "python3"
  },
  "language_info": {
   "codemirror_mode": {
    "name": "ipython",
    "version": 3
   },
   "file_extension": ".py",
   "mimetype": "text/x-python",
   "name": "python",
   "nbconvert_exporter": "python",
   "pygments_lexer": "ipython3",
   "version": "3.8.8"
  }
 },
 "nbformat": 4,
 "nbformat_minor": 5
}
