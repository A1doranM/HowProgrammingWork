{
 "cells": [
  {
   "cell_type": "markdown",
   "id": "fd53be39",
   "metadata": {},
   "source": [
    "# SOLUTION Series Basics Exercise\n",
    "\n",
    "**Work with the `bestsellers.csv` dataset to answer the following questions:**"
   ]
  },
  {
   "cell_type": "markdown",
   "id": "b0326851",
   "metadata": {},
   "source": [
    "## Part 1\n",
    "* Retrieve a series that contains the book Names\n",
    "* Retrieve a series that contains the User Ratings\n",
    "* Retrieve the first 8 Authors"
   ]
  },
  {
   "cell_type": "code",
   "execution_count": 1,
   "id": "237143f2",
   "metadata": {},
   "outputs": [],
   "source": [
    "import pandas as pd"
   ]
  },
  {
   "cell_type": "code",
   "execution_count": 2,
   "id": "bb8c2700",
   "metadata": {},
   "outputs": [],
   "source": [
    "books = pd.read_csv(\"data/bestsellers.csv\")"
   ]
  },
  {
   "cell_type": "code",
   "execution_count": 6,
   "id": "add4a8c1",
   "metadata": {},
   "outputs": [
    {
     "data": {
      "text/plain": [
       "0                          10-Day Green Smoothie Cleanse\n",
       "1                                      11/22/63: A Novel\n",
       "2                12 Rules for Life: An Antidote to Chaos\n",
       "3                                 1984 (Signet Classics)\n",
       "4      5,000 Awesome Facts (About Everything!) (Natio...\n",
       "                             ...                        \n",
       "545         Wrecking Ball (Diary of a Wimpy Kid Book 14)\n",
       "546    You Are a Badass: How to Stop Doubting Your Gr...\n",
       "547    You Are a Badass: How to Stop Doubting Your Gr...\n",
       "548    You Are a Badass: How to Stop Doubting Your Gr...\n",
       "549    You Are a Badass: How to Stop Doubting Your Gr...\n",
       "Name: Name, Length: 550, dtype: object"
      ]
     },
     "execution_count": 6,
     "metadata": {},
     "output_type": "execute_result"
    }
   ],
   "source": [
    "books[\"Name\"]"
   ]
  },
  {
   "cell_type": "code",
   "execution_count": 8,
   "id": "b8f2d7c9",
   "metadata": {},
   "outputs": [
    {
     "data": {
      "text/plain": [
       "0      4.7\n",
       "1      4.6\n",
       "2      4.7\n",
       "3      4.7\n",
       "4      4.8\n",
       "      ... \n",
       "545    4.9\n",
       "546    4.7\n",
       "547    4.7\n",
       "548    4.7\n",
       "549    4.7\n",
       "Name: User Rating, Length: 550, dtype: float64"
      ]
     },
     "execution_count": 8,
     "metadata": {},
     "output_type": "execute_result"
    }
   ],
   "source": [
    "books[\"User Rating\"]"
   ]
  },
  {
   "cell_type": "code",
   "execution_count": 13,
   "id": "af095c26",
   "metadata": {},
   "outputs": [
    {
     "data": {
      "text/plain": [
       "0                    JJ Smith\n",
       "1                Stephen King\n",
       "2          Jordan B. Peterson\n",
       "3               George Orwell\n",
       "4    National Geographic Kids\n",
       "5         George R. R. Martin\n",
       "6         George R. R. Martin\n",
       "7                 Amor Towles\n",
       "Name: Author, dtype: object"
      ]
     },
     "execution_count": 13,
     "metadata": {},
     "output_type": "execute_result"
    }
   ],
   "source": [
    "books.head(8)[\"Author\"]"
   ]
  },
  {
   "cell_type": "markdown",
   "id": "b073cc33",
   "metadata": {},
   "source": [
    "## Part 2\n",
    "* Find the unique Genres\n",
    "* Find the number of unique Authors\n",
    "* Find the average Price\n",
    "* Find the 10 highest prices"
   ]
  },
  {
   "cell_type": "code",
   "execution_count": 15,
   "id": "23c24782",
   "metadata": {},
   "outputs": [
    {
     "data": {
      "text/plain": [
       "array(['Non Fiction', 'Fiction'], dtype=object)"
      ]
     },
     "execution_count": 15,
     "metadata": {},
     "output_type": "execute_result"
    }
   ],
   "source": [
    "books[\"Genre\"].unique()"
   ]
  },
  {
   "cell_type": "code",
   "execution_count": 19,
   "id": "6712a2d3",
   "metadata": {},
   "outputs": [
    {
     "data": {
      "text/plain": [
       "248"
      ]
     },
     "execution_count": 19,
     "metadata": {},
     "output_type": "execute_result"
    }
   ],
   "source": [
    "books[\"Author\"].nunique()"
   ]
  },
  {
   "cell_type": "code",
   "execution_count": 21,
   "id": "a3efb77a",
   "metadata": {},
   "outputs": [
    {
     "data": {
      "text/plain": [
       "13.1"
      ]
     },
     "execution_count": 21,
     "metadata": {},
     "output_type": "execute_result"
    }
   ],
   "source": [
    "books[\"Price\"].mean()"
   ]
  },
  {
   "cell_type": "code",
   "execution_count": 22,
   "id": "78236e47",
   "metadata": {},
   "outputs": [
    {
     "data": {
      "text/plain": [
       "69     105\n",
       "70     105\n",
       "473     82\n",
       "151     54\n",
       "346     53\n",
       "159     52\n",
       "271     46\n",
       "272     46\n",
       "273     46\n",
       "274     46\n",
       "Name: Price, dtype: int64"
      ]
     },
     "execution_count": 22,
     "metadata": {},
     "output_type": "execute_result"
    }
   ],
   "source": [
    "books[\"Price\"].nlargest(10)"
   ]
  },
  {
   "cell_type": "markdown",
   "id": "696fdeae",
   "metadata": {},
   "source": [
    "## Part 3\n",
    "* Find the top 3 most common book titles in the dataset\n",
    "* Create a new dataframe with only Author and User Rating.\n",
    "* Using the new dataframe, find the most common combination of Author and User Review Score."
   ]
  },
  {
   "cell_type": "code",
   "execution_count": 26,
   "id": "b8340508",
   "metadata": {},
   "outputs": [
    {
     "data": {
      "text/plain": [
       "Publication Manual of the American Psychological Association, 6th Edition    10\n",
       "StrengthsFinder 2.0                                                           9\n",
       "Oh, the Places You'll Go!                                                     8\n",
       "Name: Name, dtype: int64"
      ]
     },
     "execution_count": 26,
     "metadata": {},
     "output_type": "execute_result"
    }
   ],
   "source": [
    "books[\"Name\"].value_counts().head(3)"
   ]
  },
  {
   "cell_type": "code",
   "execution_count": 32,
   "id": "e2164824",
   "metadata": {},
   "outputs": [
    {
     "data": {
      "text/html": [
       "<div>\n",
       "<style scoped>\n",
       "    .dataframe tbody tr th:only-of-type {\n",
       "        vertical-align: middle;\n",
       "    }\n",
       "\n",
       "    .dataframe tbody tr th {\n",
       "        vertical-align: top;\n",
       "    }\n",
       "\n",
       "    .dataframe thead th {\n",
       "        text-align: right;\n",
       "    }\n",
       "</style>\n",
       "<table border=\"1\" class=\"dataframe\">\n",
       "  <thead>\n",
       "    <tr style=\"text-align: right;\">\n",
       "      <th></th>\n",
       "      <th>Author</th>\n",
       "      <th>User Rating</th>\n",
       "    </tr>\n",
       "  </thead>\n",
       "  <tbody>\n",
       "    <tr>\n",
       "      <th>0</th>\n",
       "      <td>JJ Smith</td>\n",
       "      <td>4.7</td>\n",
       "    </tr>\n",
       "    <tr>\n",
       "      <th>1</th>\n",
       "      <td>Stephen King</td>\n",
       "      <td>4.6</td>\n",
       "    </tr>\n",
       "    <tr>\n",
       "      <th>2</th>\n",
       "      <td>Jordan B. Peterson</td>\n",
       "      <td>4.7</td>\n",
       "    </tr>\n",
       "    <tr>\n",
       "      <th>3</th>\n",
       "      <td>George Orwell</td>\n",
       "      <td>4.7</td>\n",
       "    </tr>\n",
       "    <tr>\n",
       "      <th>4</th>\n",
       "      <td>National Geographic Kids</td>\n",
       "      <td>4.8</td>\n",
       "    </tr>\n",
       "    <tr>\n",
       "      <th>...</th>\n",
       "      <td>...</td>\n",
       "      <td>...</td>\n",
       "    </tr>\n",
       "    <tr>\n",
       "      <th>545</th>\n",
       "      <td>Jeff Kinney</td>\n",
       "      <td>4.9</td>\n",
       "    </tr>\n",
       "    <tr>\n",
       "      <th>546</th>\n",
       "      <td>Jen Sincero</td>\n",
       "      <td>4.7</td>\n",
       "    </tr>\n",
       "    <tr>\n",
       "      <th>547</th>\n",
       "      <td>Jen Sincero</td>\n",
       "      <td>4.7</td>\n",
       "    </tr>\n",
       "    <tr>\n",
       "      <th>548</th>\n",
       "      <td>Jen Sincero</td>\n",
       "      <td>4.7</td>\n",
       "    </tr>\n",
       "    <tr>\n",
       "      <th>549</th>\n",
       "      <td>Jen Sincero</td>\n",
       "      <td>4.7</td>\n",
       "    </tr>\n",
       "  </tbody>\n",
       "</table>\n",
       "<p>550 rows × 2 columns</p>\n",
       "</div>"
      ],
      "text/plain": [
       "                       Author  User Rating\n",
       "0                    JJ Smith          4.7\n",
       "1                Stephen King          4.6\n",
       "2          Jordan B. Peterson          4.7\n",
       "3               George Orwell          4.7\n",
       "4    National Geographic Kids          4.8\n",
       "..                        ...          ...\n",
       "545               Jeff Kinney          4.9\n",
       "546               Jen Sincero          4.7\n",
       "547               Jen Sincero          4.7\n",
       "548               Jen Sincero          4.7\n",
       "549               Jen Sincero          4.7\n",
       "\n",
       "[550 rows x 2 columns]"
      ]
     },
     "execution_count": 32,
     "metadata": {},
     "output_type": "execute_result"
    }
   ],
   "source": [
    "books[[\"Author\", \"User Rating\"]]"
   ]
  },
  {
   "cell_type": "code",
   "execution_count": 33,
   "id": "9e6aacfe",
   "metadata": {},
   "outputs": [
    {
     "data": {
      "text/plain": [
       "Author                              User Rating\n",
       "Jeff Kinney                         4.8            10\n",
       "American Psychological Association  4.5            10\n",
       "Gallup                              4.0             9\n",
       "Rick Riordan                        4.8             9\n",
       "Dr. Seuss                           4.9             8\n",
       "                                                   ..\n",
       "Ken Follett                         4.5             1\n",
       "Kevin Kwan                          4.3             1\n",
       "Khaled Hosseini                     4.3             1\n",
       "DK                                  4.5             1\n",
       "Jeff Kinney                         4.9             1\n",
       "Length: 301, dtype: int64"
      ]
     },
     "execution_count": 33,
     "metadata": {},
     "output_type": "execute_result"
    }
   ],
   "source": [
    "books[[\"Author\", \"User Rating\"]].value_counts()"
   ]
  },
  {
   "cell_type": "markdown",
   "id": "bc945996",
   "metadata": {},
   "source": [
    "## Part 4\n",
    "* Create a pie chart showing the total number of times each Genre appears in the dataset.\n",
    "* Find out the top 10 most prolific authors and plot their number of books as a bar plot\n",
    "* BONUS: create a histogram showing the distribution of user review scores"
   ]
  },
  {
   "cell_type": "code",
   "execution_count": 37,
   "id": "684343a0",
   "metadata": {},
   "outputs": [
    {
     "data": {
      "text/plain": [
       "<AxesSubplot:ylabel='Genre'>"
      ]
     },
     "execution_count": 37,
     "metadata": {},
     "output_type": "execute_result"
    },
    {
     "data": {
      "image/png": "[encoded data removed]",
      "text/plain": [
       "<Figure size 432x288 with 1 Axes>"
      ]
     },
     "metadata": {},
     "output_type": "display_data"
    }
   ],
   "source": [
    "books[\"Genre\"].value_counts().plot(kind=\"pie\")"
   ]
  },
  {
   "cell_type": "code",
   "execution_count": 43,
   "id": "9ce175b4",
   "metadata": {},
   "outputs": [
    {
     "data": {
      "text/plain": [
       "<AxesSubplot:>"
      ]
     },
     "execution_count": 43,
     "metadata": {},
     "output_type": "execute_result"
    },
    {
     "data": {
      "image/png": "[encoded data removed]",
      "text/plain": [
       "<Figure size 432x288 with 1 Axes>"
      ]
     },
     "metadata": {
      "needs_background": "light"
     },
     "output_type": "display_data"
    }
   ],
   "source": [
    "books[\"Author\"].value_counts().head(10).plot(kind=\"bar\")"
   ]
  },
  {
   "cell_type": "code",
   "execution_count": 44,
   "id": "30eccad4",
   "metadata": {},
   "outputs": [
    {
     "data": {
      "text/plain": [
       "<AxesSubplot:>"
      ]
     },
     "execution_count": 44,
     "metadata": {},
     "output_type": "execute_result"
    },
    {
     "data": {
      "image/png": "[encoded data removed]",
      "text/plain": [
       "<Figure size 432x288 with 1 Axes>"
      ]
     },
     "metadata": {
      "needs_background": "light"
     },
     "output_type": "display_data"
    }
   ],
   "source": [
    "books[\"Author\"].value_counts().head(10).plot(kind=\"barh\")"
   ]
  },
  {
   "cell_type": "code",
   "execution_count": 46,
   "id": "4bdc8876",
   "metadata": {},
   "outputs": [
    {
     "data": {
      "text/plain": [
       "<AxesSubplot:ylabel='Frequency'>"
      ]
     },
     "execution_count": 46,
     "metadata": {},
     "output_type": "execute_result"
    },
    {
     "data": {
      "image/png": "[encoded data removed]",
      "text/plain": [
       "<Figure size 432x288 with 1 Axes>"
      ]
     },
     "metadata": {
      "needs_background": "light"
     },
     "output_type": "display_data"
    }
   ],
   "source": [
    "books[\"User Rating\"].plot(kind=\"hist\")"
   ]
  }
 ],
 "metadata": {
  "kernelspec": {
   "display_name": "Python 3",
   "language": "python",
   "name": "python3"
  },
  "language_info": {
   "codemirror_mode": {
    "name": "ipython",
    "version": 3
   },
   "file_extension": ".py",
   "mimetype": "text/x-python",
   "name": "python",
   "nbconvert_exporter": "python",
   "pygments_lexer": "ipython3",
   "version": "3.8.8"
  }
 },
 "nbformat": 4,
 "nbformat_minor": 5
}
