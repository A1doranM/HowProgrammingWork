{
 "cells": [
  {
   "cell_type": "markdown",
   "id": "3e108d57",
   "metadata": {},
   "source": [
    "## Updating Data Exercise\n",
    "\n",
    "**This exercise uses the `netflix_titles.csv` dataset**"
   ]
  },
  {
   "cell_type": "code",
   "execution_count": 139,
   "id": "19ac5eb7",
   "metadata": {},
   "outputs": [],
   "source": [
    "# read in the netflix_titles.csv dataset.  Make sure to tell pandas to use the correct separator character!\n"
   ]
  },
  {
   "cell_type": "code",
   "execution_count": 138,
   "id": "8f99135f",
   "metadata": {},
   "outputs": [],
   "source": [
    "# set the index to be the \"show_id\" (inplace)\n"
   ]
  },
  {
   "cell_type": "code",
   "execution_count": 137,
   "id": "4c922c11",
   "metadata": {},
   "outputs": [],
   "source": [
    "# Find the row with the id of s2202 and set its director to \"Greg Whiteley\"\n"
   ]
  },
  {
   "cell_type": "code",
   "execution_count": 136,
   "id": "95a016b3",
   "metadata": {},
   "outputs": [],
   "source": [
    "#Update the \"duration\" of the shows with index s2881 and s3601 to be \"GONE TOO SOON\"\n"
   ]
  },
  {
   "cell_type": "code",
   "execution_count": 135,
   "id": "69aca115",
   "metadata": {},
   "outputs": [],
   "source": [
    "#rename the release_year column to \"release_yr\" in place\n",
    "\n"
   ]
  },
  {
   "cell_type": "code",
   "execution_count": 133,
   "id": "37056b26",
   "metadata": {},
   "outputs": [],
   "source": [
    "# Find the show called \"Evil\"\n",
    "# Change its index label to s6666 inplace\n"
   ]
  },
  {
   "cell_type": "code",
   "execution_count": 131,
   "id": "36f40d03",
   "metadata": {},
   "outputs": [],
   "source": [
    "# In the rating column, please replace all instances of \"UR\" and \"NR\" with \"No Rating\".  Don't do it inplace!\n"
   ]
  },
  {
   "cell_type": "code",
   "execution_count": 132,
   "id": "ec64d4b5",
   "metadata": {},
   "outputs": [],
   "source": [
    "# Add a new column \"is_fav\" and set it to False for all rows\n",
    "# Update the \"is_fav\" column to True for the titles in my list of favs (provided below)\n",
    "favs = [\"Young Royals\", \"Dark\", \"Big Mouth\", \"BoJack Horseman\", \"The Queen's Gambit\", \"American Vandal\", \"Russian Doll\", \"Godless\"]\n",
    "\n"
   ]
  }
 ],
 "metadata": {
  "kernelspec": {
   "display_name": "Python 3",
   "language": "python",
   "name": "python3"
  },
  "language_info": {
   "codemirror_mode": {
    "name": "ipython",
    "version": 3
   },
   "file_extension": ".py",
   "mimetype": "text/x-python",
   "name": "python",
   "nbconvert_exporter": "python",
   "pygments_lexer": "ipython3",
   "version": "3.8.8"
  }
 },
 "nbformat": 4,
 "nbformat_minor": 5
}
