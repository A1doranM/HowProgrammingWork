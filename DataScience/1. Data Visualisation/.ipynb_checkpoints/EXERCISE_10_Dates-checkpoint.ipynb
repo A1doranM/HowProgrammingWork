{
 "cells": [
  {
   "cell_type": "markdown",
   "id": "1beed2c3",
   "metadata": {},
   "source": [
    "# Working With Dates Exercise"
   ]
  },
  {
   "cell_type": "code",
   "execution_count": 1,
   "id": "31d62f44",
   "metadata": {},
   "outputs": [],
   "source": [
    "import pandas as pd"
   ]
  },
  {
   "cell_type": "code",
   "execution_count": 106,
   "id": "816d2101",
   "metadata": {},
   "outputs": [],
   "source": [
    "# Import the \"kc_house_data.csv\" and parse the \"date\" column in a single line\n"
   ]
  },
  {
   "cell_type": "code",
   "execution_count": 107,
   "id": "9c7b08f1",
   "metadata": {},
   "outputs": [],
   "source": [
    "# Calculate how many days the dataset spans\n"
   ]
  },
  {
   "cell_type": "code",
   "execution_count": 108,
   "id": "7f13ebaa",
   "metadata": {},
   "outputs": [],
   "source": [
    "#find the date that had the most house sales\n",
    "#find all the homes sold on that date\n"
   ]
  },
  {
   "cell_type": "code",
   "execution_count": 109,
   "id": "3bf3023f",
   "metadata": {},
   "outputs": [],
   "source": [
    "# Create a pie chart showing the years that home sales took place in (2014 and 2015)\n"
   ]
  },
  {
   "cell_type": "code",
   "execution_count": 110,
   "id": "88fb60ab",
   "metadata": {},
   "outputs": [],
   "source": [
    "#Find all the homes sold in 2014, sorted from earliest to latest\n"
   ]
  },
  {
   "cell_type": "code",
   "execution_count": 111,
   "id": "a3642207",
   "metadata": {},
   "outputs": [],
   "source": [
    "#Count up the number of sales that took place in each month of the year.  Which month had the most?\n"
   ]
  },
  {
   "cell_type": "code",
   "execution_count": 112,
   "id": "b077a422",
   "metadata": {},
   "outputs": [],
   "source": [
    "# Find the homes sold between May 1st 2014 and May 1st 2015\n",
    "# Create a bar plot showing the total number of sales per month in that period\n",
    "# The x axis should be in calendar order (1-12)\n"
   ]
  },
  {
   "cell_type": "code",
   "execution_count": 113,
   "id": "566e186c",
   "metadata": {},
   "outputs": [],
   "source": [
    "# Count up the number of homesales by day of the week\n"
   ]
  },
  {
   "cell_type": "code",
   "execution_count": 114,
   "id": "5bd96ebe",
   "metadata": {},
   "outputs": [],
   "source": [
    "# Create a line plot showing the total number of sales by week of the year number (1-52)\n",
    "\n"
   ]
  },
  {
   "cell_type": "code",
   "execution_count": 115,
   "id": "9ff28a09",
   "metadata": {},
   "outputs": [],
   "source": [
    "#Create a bar plot showing the total number of sales that took place in December, January, and February\n"
   ]
  },
  {
   "cell_type": "code",
   "execution_count": 117,
   "id": "5d27f32e",
   "metadata": {},
   "outputs": [],
   "source": [
    "#Work with the homes sold between May 1st 2014 and May 1st 2015\n",
    "#Within that year, find the waterfront homes that were sold\n",
    "#Which quarter of that year had the most waterfront home sales?  The least?\n",
    "#Create a bar plot showing the number of waterfront home sales per quarter\n"
   ]
  }
 ],
 "metadata": {
  "kernelspec": {
   "display_name": "Python 3",
   "language": "python",
   "name": "python3"
  },
  "language_info": {
   "codemirror_mode": {
    "name": "ipython",
    "version": 3
   },
   "file_extension": ".py",
   "mimetype": "text/x-python",
   "name": "python",
   "nbconvert_exporter": "python",
   "pygments_lexer": "ipython3",
   "version": "3.8.8"
  }
 },
 "nbformat": 4,
 "nbformat_minor": 5
}
