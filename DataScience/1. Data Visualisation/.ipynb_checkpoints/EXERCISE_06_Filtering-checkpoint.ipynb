{
 "cells": [
  {
   "cell_type": "markdown",
   "id": "28ff2de7",
   "metadata": {},
   "source": [
    "# Filtering Data Exercise\n",
    "Answer the following questions using the `bestsellers.csv` dataset"
   ]
  },
  {
   "cell_type": "code",
   "execution_count": 88,
   "id": "99c9a6ac",
   "metadata": {},
   "outputs": [],
   "source": [
    "#Find the books written by Pete Souza\n"
   ]
  },
  {
   "cell_type": "code",
   "execution_count": 89,
   "id": "bf560820",
   "metadata": {},
   "outputs": [],
   "source": [
    "# Find the books that are under 10 dollars\n"
   ]
  },
  {
   "cell_type": "code",
   "execution_count": 90,
   "id": "1c7bfb22",
   "metadata": {},
   "outputs": [],
   "source": [
    "#Find the books that have a price between 50 and 60 dollars\n"
   ]
  },
  {
   "cell_type": "code",
   "execution_count": 91,
   "id": "7f66b452",
   "metadata": {},
   "outputs": [],
   "source": [
    "#Find all the books written by Kristin Hannah, Andy Weir, or Delia Owens\n"
   ]
  },
  {
   "cell_type": "code",
   "execution_count": 92,
   "id": "757cc234",
   "metadata": {
    "scrolled": true
   },
   "outputs": [],
   "source": [
    "#Find the Non Fiction books that are rated 4.9\n"
   ]
  },
  {
   "cell_type": "code",
   "execution_count": 94,
   "id": "6ffb6df0",
   "metadata": {},
   "outputs": [],
   "source": [
    "#Find the fiction book with the lowest User Rating\n"
   ]
  },
  {
   "cell_type": "code",
   "execution_count": 96,
   "id": "f8f94e67",
   "metadata": {},
   "outputs": [],
   "source": [
    "#Find 2012's top 5 Fiction books with the most Reviews\n"
   ]
  },
  {
   "cell_type": "code",
   "execution_count": 97,
   "id": "1e6dd101",
   "metadata": {},
   "outputs": [],
   "source": [
    "#Create a bar plot showing the 5 authors who have the most books with a rating under 4.5\n"
   ]
  }
 ],
 "metadata": {
  "kernelspec": {
   "display_name": "Python 3",
   "language": "python",
   "name": "python3"
  },
  "language_info": {
   "codemirror_mode": {
    "name": "ipython",
    "version": 3
   },
   "file_extension": ".py",
   "mimetype": "text/x-python",
   "name": "python",
   "nbconvert_exporter": "python",
   "pygments_lexer": "ipython3",
   "version": "3.8.8"
  }
 },
 "nbformat": 4,
 "nbformat_minor": 5
}
