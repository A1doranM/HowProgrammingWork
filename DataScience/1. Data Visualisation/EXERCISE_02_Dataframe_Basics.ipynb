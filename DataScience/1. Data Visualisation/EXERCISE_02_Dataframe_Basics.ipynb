{
 "cells": [
  {
   "cell_type": "markdown",
   "id": "577b8d54",
   "metadata": {},
   "source": [
    "# DataFrame Basics Exercise"
   ]
  },
  {
   "cell_type": "markdown",
   "id": "96471a54",
   "metadata": {},
   "source": [
    "## Part 1\n",
    "* Use pandas to read the `bestsellers` dataset into a DataFrame \n",
    "* Once you've done that, use Pandas to figure out how many rows and columns the DF has\n",
    "* Inspect the first 5 rows\n",
    "* Inspect the first 19 rows\n",
    "* Inspect the last 5 rows\n",
    "* Inspect the last 2 rows \n",
    "* Which columns (if any) are missing values?\n",
    "* What datatype did Pandas assign to \"User Rating\"?\n",
    "* How many integer columns are in the DataFrame?"
   ]
  },
  {
   "cell_type": "code",
   "execution_count": null,
   "id": "74669814",
   "metadata": {},
   "outputs": [],
   "source": []
  },
  {
   "cell_type": "markdown",
   "id": "d7752689",
   "metadata": {},
   "source": [
    "## Part 2\n",
    "\n",
    "* The `mount_everest_deaths` dataset has its own index column provided in the dataset.  When importing it, use the existing index column.\n",
    "* Which columns have zero null values?\n",
    "* Which column has the most null values?\n"
   ]
  },
  {
   "cell_type": "code",
   "execution_count": null,
   "id": "b6103562",
   "metadata": {},
   "outputs": [],
   "source": []
  },
  {
   "cell_type": "markdown",
   "id": "21d726d2",
   "metadata": {},
   "source": [
    "## Part 3\n",
    "* Import the `movie_titles.tsv` dataset\n",
    "* You'll notice that it is not comma-separated! You'll need to tell `read_csv` what the separator actually is.\n",
    "* The dataset does not come with its own column headings, so you'll need to provide those as well.  The columns are, in order, `id`, `title`, `year`, `imdb_rating`, `imdb_id`, and `genres`\n",
    "* Once you have successfully read the dataset into a DataFrame, inspect the last 7 rows!"
   ]
  },
  {
   "cell_type": "code",
   "execution_count": null,
   "id": "e71a07c2",
   "metadata": {},
   "outputs": [],
   "source": []
  }
 ],
 "metadata": {
  "kernelspec": {
   "display_name": "Python 3",
   "language": "python",
   "name": "python3"
  },
  "language_info": {
   "codemirror_mode": {
    "name": "ipython",
    "version": 3
   },
   "file_extension": ".py",
   "mimetype": "text/x-python",
   "name": "python",
   "nbconvert_exporter": "python",
   "pygments_lexer": "ipython3",
   "version": "3.8.8"
  }
 },
 "nbformat": 4,
 "nbformat_minor": 5
}
