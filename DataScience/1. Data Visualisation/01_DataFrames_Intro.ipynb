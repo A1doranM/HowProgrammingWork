{
 "cells": [
  {
   "cell_type": "markdown",
   "id": "25451953",
   "metadata": {},
   "source": [
    "# DataFrames Basics"
   ]
  },
  {
   "cell_type": "code",
   "outputs": [
    {
     "name": "stdout",
     "output_type": "stream",
     "text": [
      "Collecting pandas\n",
      "  Downloading pandas-2.2.1-cp312-cp312-win_amd64.whl.metadata (19 kB)\n",
      "Collecting numpy<2,>=1.26.0 (from pandas)\n",
      "  Downloading numpy-1.26.4-cp312-cp312-win_amd64.whl.metadata (61 kB)\n",
      "     ---------------------------------------- 0.0/61.0 kB ? eta -:--:--\n",
      "     ------ --------------------------------- 10.2/61.0 kB ? eta -:--:--\n",
      "     ------------------- ------------------ 30.7/61.0 kB 435.7 kB/s eta 0:00:01\n",
      "     ------------------------------- ------ 51.2/61.0 kB 525.1 kB/s eta 0:00:01\n",
      "     -------------------------------------- 61.0/61.0 kB 360.3 kB/s eta 0:00:00\n",
      "Requirement already satisfied: python-dateutil>=2.8.2 in e:\\python\\lib\\site-packages (from pandas) (2.9.0.post0)\n",
      "Collecting pytz>=2020.1 (from pandas)\n",
      "  Downloading pytz-2024.1-py2.py3-none-any.whl.metadata (22 kB)\n",
      "Collecting tzdata>=2022.7 (from pandas)\n",
      "  Downloading tzdata-2024.1-py2.py3-none-any.whl.metadata (1.4 kB)\n",
      "Requirement already satisfied: six>=1.5 in e:\\python\\lib\\site-packages (from python-dateutil>=2.8.2->pandas) (1.16.0)\n",
      "Downloading pandas-2.2.1-cp312-cp312-win_amd64.whl (11.5 MB)\n",
      "   ---------------------------------------- 0.0/11.5 MB ? eta -:--:--\n",
      "   ---------------------------------------- 0.1/11.5 MB 3.2 MB/s eta 0:00:04\n",
      "   ---------------------------------------- 0.1/11.5 MB 2.1 MB/s eta 0:00:06\n",
      "    --------------------------------------- 0.3/11.5 MB 2.3 MB/s eta 0:00:05\n",
      "   - -------------------------------------- 0.4/11.5 MB 2.2 MB/s eta 0:00:06\n",
      "   - -------------------------------------- 0.5/11.5 MB 2.2 MB/s eta 0:00:05\n",
      "   -- ------------------------------------- 0.6/11.5 MB 2.3 MB/s eta 0:00:05\n",
      "   -- ------------------------------------- 0.7/11.5 MB 2.3 MB/s eta 0:00:05\n",
      "   -- ------------------------------------- 0.9/11.5 MB 2.4 MB/s eta 0:00:05\n",
      "   --- ------------------------------------ 1.0/11.5 MB 2.5 MB/s eta 0:00:05\n",
      "   ---- ----------------------------------- 1.2/11.5 MB 2.6 MB/s eta 0:00:05\n",
      "   ---- ----------------------------------- 1.3/11.5 MB 2.6 MB/s eta 0:00:04\n",
      "   ----- ---------------------------------- 1.5/11.5 MB 2.8 MB/s eta 0:00:04\n",
      "   ----- ---------------------------------- 1.7/11.5 MB 2.9 MB/s eta 0:00:04\n",
      "   ------ --------------------------------- 1.8/11.5 MB 2.9 MB/s eta 0:00:04\n",
      "   ------ --------------------------------- 2.0/11.5 MB 2.9 MB/s eta 0:00:04\n",
      "   ------- -------------------------------- 2.1/11.5 MB 2.8 MB/s eta 0:00:04\n",
      "   ------- -------------------------------- 2.3/11.5 MB 2.9 MB/s eta 0:00:04\n",
      "   -------- ------------------------------- 2.5/11.5 MB 3.0 MB/s eta 0:00:04\n",
      "   --------- ------------------------------ 2.6/11.5 MB 3.0 MB/s eta 0:00:03\n",
      "   --------- ------------------------------ 2.8/11.5 MB 3.0 MB/s eta 0:00:03\n",
      "   ---------- ----------------------------- 3.0/11.5 MB 3.1 MB/s eta 0:00:03\n",
      "   ----------- ---------------------------- 3.2/11.5 MB 3.1 MB/s eta 0:00:03\n",
      "   ----------- ---------------------------- 3.3/11.5 MB 3.1 MB/s eta 0:00:03\n",
      "   ------------ --------------------------- 3.5/11.5 MB 3.1 MB/s eta 0:00:03\n",
      "   ------------ --------------------------- 3.6/11.5 MB 3.1 MB/s eta 0:00:03\n",
      "   ------------- -------------------------- 3.8/11.5 MB 3.2 MB/s eta 0:00:03\n",
      "   ------------- -------------------------- 4.0/11.5 MB 3.2 MB/s eta 0:00:03\n",
      "   -------------- ------------------------- 4.2/11.5 MB 3.2 MB/s eta 0:00:03\n",
      "   --------------- ------------------------ 4.3/11.5 MB 3.2 MB/s eta 0:00:03\n",
      "   --------------- ------------------------ 4.5/11.5 MB 3.2 MB/s eta 0:00:03\n",
      "   ---------------- ----------------------- 4.7/11.5 MB 3.3 MB/s eta 0:00:03\n",
      "   ---------------- ----------------------- 4.9/11.5 MB 3.3 MB/s eta 0:00:03\n",
      "   ----------------- ---------------------- 5.0/11.5 MB 3.3 MB/s eta 0:00:02\n",
      "   ------------------ --------------------- 5.2/11.5 MB 3.3 MB/s eta 0:00:02\n",
      "   ------------------ --------------------- 5.4/11.5 MB 3.3 MB/s eta 0:00:02\n",
      "   ------------------- -------------------- 5.6/11.5 MB 3.3 MB/s eta 0:00:02\n",
      "   ------------------- -------------------- 5.7/11.5 MB 3.3 MB/s eta 0:00:02\n",
      "   -------------------- ------------------- 5.9/11.5 MB 3.4 MB/s eta 0:00:02\n",
      "   --------------------- ------------------ 6.1/11.5 MB 3.3 MB/s eta 0:00:02\n",
      "   --------------------- ------------------ 6.2/11.5 MB 3.4 MB/s eta 0:00:02\n",
      "   ---------------------- ----------------- 6.4/11.5 MB 3.4 MB/s eta 0:00:02\n",
      "   ---------------------- ----------------- 6.6/11.5 MB 3.4 MB/s eta 0:00:02\n",
      "   ----------------------- ---------------- 6.8/11.5 MB 3.4 MB/s eta 0:00:02\n",
      "   ------------------------ --------------- 6.9/11.5 MB 3.4 MB/s eta 0:00:02\n",
      "   ------------------------ --------------- 7.1/11.5 MB 3.4 MB/s eta 0:00:02\n",
      "   ------------------------- -------------- 7.3/11.5 MB 3.4 MB/s eta 0:00:02\n",
      "   ------------------------- -------------- 7.4/11.5 MB 3.4 MB/s eta 0:00:02\n",
      "   -------------------------- ------------- 7.6/11.5 MB 3.4 MB/s eta 0:00:02\n",
      "   -------------------------- ------------- 7.7/11.5 MB 3.4 MB/s eta 0:00:02\n",
      "   --------------------------- ------------ 7.9/11.5 MB 3.4 MB/s eta 0:00:02\n",
      "   ---------------------------- ----------- 8.0/11.5 MB 3.4 MB/s eta 0:00:02\n",
      "   ---------------------------- ----------- 8.2/11.5 MB 3.4 MB/s eta 0:00:01\n",
      "   ----------------------------- ---------- 8.4/11.5 MB 3.4 MB/s eta 0:00:01\n",
      "   ----------------------------- ---------- 8.6/11.5 MB 3.4 MB/s eta 0:00:01\n",
      "   ------------------------------ --------- 8.8/11.5 MB 3.4 MB/s eta 0:00:01\n",
      "   ------------------------------- -------- 8.9/11.5 MB 3.4 MB/s eta 0:00:01\n",
      "   ------------------------------- -------- 9.1/11.5 MB 3.4 MB/s eta 0:00:01\n",
      "   -------------------------------- ------- 9.3/11.5 MB 3.4 MB/s eta 0:00:01\n",
      "   -------------------------------- ------- 9.4/11.5 MB 3.4 MB/s eta 0:00:01\n",
      "   --------------------------------- ------ 9.5/11.5 MB 3.4 MB/s eta 0:00:01\n",
      "   --------------------------------- ------ 9.7/11.5 MB 3.4 MB/s eta 0:00:01\n",
      "   ---------------------------------- ----- 9.9/11.5 MB 3.4 MB/s eta 0:00:01\n",
      "   ---------------------------------- ----- 10.0/11.5 MB 3.4 MB/s eta 0:00:01\n",
      "   ----------------------------------- ---- 10.2/11.5 MB 3.4 MB/s eta 0:00:01\n",
      "   ------------------------------------ --- 10.3/11.5 MB 3.4 MB/s eta 0:00:01\n",
      "   ------------------------------------ --- 10.5/11.5 MB 3.5 MB/s eta 0:00:01\n",
      "   ------------------------------------- -- 10.7/11.5 MB 3.5 MB/s eta 0:00:01\n",
      "   ------------------------------------- -- 10.9/11.5 MB 3.6 MB/s eta 0:00:01\n",
      "   -------------------------------------- - 11.0/11.5 MB 3.6 MB/s eta 0:00:01\n",
      "   -------------------------------------- - 11.2/11.5 MB 3.6 MB/s eta 0:00:01\n",
      "   ---------------------------------------  11.4/11.5 MB 3.6 MB/s eta 0:00:01\n",
      "   ---------------------------------------  11.5/11.5 MB 3.6 MB/s eta 0:00:01\n",
      "   ---------------------------------------  11.5/11.5 MB 3.6 MB/s eta 0:00:01\n",
      "   ---------------------------------------  11.5/11.5 MB 3.6 MB/s eta 0:00:01\n",
      "   ---------------------------------------- 11.5/11.5 MB 3.4 MB/s eta 0:00:00\n",
      "Downloading numpy-1.26.4-cp312-cp312-win_amd64.whl (15.5 MB)\n",
      "   ---------------------------------------- 0.0/15.5 MB ? eta -:--:--\n",
      "   ---------------------------------------- 0.0/15.5 MB ? eta -:--:--\n",
      "   ---------------------------------------- 0.1/15.5 MB 1.3 MB/s eta 0:00:12\n",
      "   ---------------------------------------- 0.2/15.5 MB 1.5 MB/s eta 0:00:11\n",
      "    --------------------------------------- 0.2/15.5 MB 1.5 MB/s eta 0:00:11\n",
      "    --------------------------------------- 0.3/15.5 MB 1.5 MB/s eta 0:00:11\n",
      "    --------------------------------------- 0.3/15.5 MB 1.3 MB/s eta 0:00:12\n",
      "   - -------------------------------------- 0.5/15.5 MB 1.7 MB/s eta 0:00:10\n",
      "   - -------------------------------------- 0.7/15.5 MB 2.0 MB/s eta 0:00:08\n",
      "   -- ------------------------------------- 0.8/15.5 MB 2.1 MB/s eta 0:00:07\n",
      "   -- ------------------------------------- 1.0/15.5 MB 2.3 MB/s eta 0:00:07\n",
      "   -- ------------------------------------- 1.1/15.5 MB 2.3 MB/s eta 0:00:07\n",
      "   --- ------------------------------------ 1.3/15.5 MB 2.4 MB/s eta 0:00:06\n",
      "   --- ------------------------------------ 1.4/15.5 MB 2.5 MB/s eta 0:00:06\n",
      "   --- ------------------------------------ 1.5/15.5 MB 2.5 MB/s eta 0:00:06\n",
      "   ---- ----------------------------------- 1.6/15.5 MB 2.4 MB/s eta 0:00:06\n",
      "   ---- ----------------------------------- 1.7/15.5 MB 2.4 MB/s eta 0:00:06\n",
      "   ---- ----------------------------------- 1.8/15.5 MB 2.4 MB/s eta 0:00:06\n",
      "   ---- ----------------------------------- 1.9/15.5 MB 2.4 MB/s eta 0:00:06\n",
      "   ----- ---------------------------------- 2.1/15.5 MB 2.4 MB/s eta 0:00:06\n",
      "   ----- ---------------------------------- 2.2/15.5 MB 2.5 MB/s eta 0:00:06\n",
      "   ------ --------------------------------- 2.4/15.5 MB 2.5 MB/s eta 0:00:06\n",
      "   ------ --------------------------------- 2.5/15.5 MB 2.5 MB/s eta 0:00:06\n",
      "   ------ --------------------------------- 2.7/15.5 MB 2.5 MB/s eta 0:00:06\n",
      "   ------- -------------------------------- 2.8/15.5 MB 2.6 MB/s eta 0:00:05\n",
      "   ------- -------------------------------- 2.9/15.5 MB 2.6 MB/s eta 0:00:05\n",
      "   ------- -------------------------------- 3.0/15.5 MB 2.6 MB/s eta 0:00:05\n",
      "   ------- -------------------------------- 3.1/15.5 MB 2.5 MB/s eta 0:00:05\n",
      "   -------- ------------------------------- 3.1/15.5 MB 2.4 MB/s eta 0:00:06\n",
      "   -------- ------------------------------- 3.3/15.5 MB 2.4 MB/s eta 0:00:06\n",
      "   -------- ------------------------------- 3.3/15.5 MB 2.4 MB/s eta 0:00:06\n",
      "   -------- ------------------------------- 3.5/15.5 MB 2.4 MB/s eta 0:00:05\n",
      "   --------- ------------------------------ 3.6/15.5 MB 2.5 MB/s eta 0:00:05\n",
      "   --------- ------------------------------ 3.7/15.5 MB 2.5 MB/s eta 0:00:05\n",
      "   ---------- ----------------------------- 3.9/15.5 MB 2.5 MB/s eta 0:00:05\n",
      "   ---------- ----------------------------- 4.0/15.5 MB 2.5 MB/s eta 0:00:05\n",
      "   ---------- ----------------------------- 4.1/15.5 MB 2.5 MB/s eta 0:00:05\n",
      "   ---------- ----------------------------- 4.1/15.5 MB 2.5 MB/s eta 0:00:05\n",
      "   ---------- ----------------------------- 4.2/15.5 MB 2.4 MB/s eta 0:00:05\n",
      "   ----------- ---------------------------- 4.3/15.5 MB 2.4 MB/s eta 0:00:05\n",
      "   ----------- ---------------------------- 4.4/15.5 MB 2.4 MB/s eta 0:00:05\n",
      "   ----------- ---------------------------- 4.5/15.5 MB 2.4 MB/s eta 0:00:05\n",
      "   ----------- ---------------------------- 4.6/15.5 MB 2.4 MB/s eta 0:00:05\n",
      "   ------------ --------------------------- 4.8/15.5 MB 2.4 MB/s eta 0:00:05\n",
      "   ------------- -------------------------- 5.1/15.5 MB 2.5 MB/s eta 0:00:05\n",
      "   ------------- -------------------------- 5.2/15.5 MB 2.5 MB/s eta 0:00:05\n",
      "   ------------- -------------------------- 5.4/15.5 MB 2.5 MB/s eta 0:00:05\n",
      "   -------------- ------------------------- 5.6/15.5 MB 2.6 MB/s eta 0:00:04\n",
      "   -------------- ------------------------- 5.8/15.5 MB 2.6 MB/s eta 0:00:04\n",
      "   --------------- ------------------------ 6.0/15.5 MB 2.7 MB/s eta 0:00:04\n",
      "   ---------------- ----------------------- 6.2/15.5 MB 2.7 MB/s eta 0:00:04\n",
      "   ---------------- ----------------------- 6.4/15.5 MB 2.7 MB/s eta 0:00:04\n",
      "   ----------------- ---------------------- 6.7/15.5 MB 2.8 MB/s eta 0:00:04\n",
      "   ----------------- ---------------------- 6.9/15.5 MB 2.8 MB/s eta 0:00:04\n",
      "   ------------------ --------------------- 7.2/15.5 MB 2.9 MB/s eta 0:00:03\n",
      "   ------------------ --------------------- 7.3/15.5 MB 2.9 MB/s eta 0:00:03\n",
      "   ------------------- -------------------- 7.5/15.5 MB 2.9 MB/s eta 0:00:03\n",
      "   -------------------- ------------------- 7.8/15.5 MB 2.9 MB/s eta 0:00:03\n",
      "   -------------------- ------------------- 8.1/15.5 MB 3.0 MB/s eta 0:00:03\n",
      "   --------------------- ------------------ 8.3/15.5 MB 3.0 MB/s eta 0:00:03\n",
      "   ---------------------- ----------------- 8.6/15.5 MB 3.1 MB/s eta 0:00:03\n",
      "   ---------------------- ----------------- 8.8/15.5 MB 3.1 MB/s eta 0:00:03\n",
      "   ----------------------- ---------------- 9.0/15.5 MB 3.1 MB/s eta 0:00:03\n",
      "   ----------------------- ---------------- 9.3/15.5 MB 3.2 MB/s eta 0:00:02\n",
      "   ------------------------ --------------- 9.6/15.5 MB 3.2 MB/s eta 0:00:02\n",
      "   ------------------------- -------------- 9.7/15.5 MB 3.2 MB/s eta 0:00:02\n",
      "   ------------------------- -------------- 10.0/15.5 MB 3.3 MB/s eta 0:00:02\n",
      "   -------------------------- ------------- 10.2/15.5 MB 3.3 MB/s eta 0:00:02\n",
      "   -------------------------- ------------- 10.3/15.5 MB 3.3 MB/s eta 0:00:02\n",
      "   --------------------------- ------------ 10.5/15.5 MB 3.4 MB/s eta 0:00:02\n",
      "   --------------------------- ------------ 10.7/15.5 MB 3.5 MB/s eta 0:00:02\n",
      "   ---------------------------- ----------- 11.0/15.5 MB 3.5 MB/s eta 0:00:02\n",
      "   ---------------------------- ----------- 11.1/15.5 MB 3.5 MB/s eta 0:00:02\n",
      "   ---------------------------- ----------- 11.1/15.5 MB 3.5 MB/s eta 0:00:02\n",
      "   ---------------------------- ----------- 11.1/15.5 MB 3.5 MB/s eta 0:00:02\n",
      "   ---------------------------- ----------- 11.1/15.5 MB 3.5 MB/s eta 0:00:02\n",
      "   ---------------------------- ----------- 11.1/15.5 MB 3.5 MB/s eta 0:00:02\n",
      "   ----------------------------- ---------- 11.5/15.5 MB 3.3 MB/s eta 0:00:02\n",
      "   ------------------------------- -------- 12.3/15.5 MB 3.7 MB/s eta 0:00:01\n",
      "   -------------------------------- ------- 12.5/15.5 MB 3.7 MB/s eta 0:00:01\n",
      "   -------------------------------- ------- 12.6/15.5 MB 3.7 MB/s eta 0:00:01\n",
      "   --------------------------------- ------ 12.9/15.5 MB 3.8 MB/s eta 0:00:01\n",
      "   --------------------------------- ------ 13.1/15.5 MB 3.8 MB/s eta 0:00:01\n",
      "   ---------------------------------- ----- 13.4/15.5 MB 4.0 MB/s eta 0:00:01\n",
      "   ----------------------------------- ---- 13.7/15.5 MB 4.1 MB/s eta 0:00:01\n",
      "   ----------------------------------- ---- 13.9/15.5 MB 4.1 MB/s eta 0:00:01\n",
      "   ------------------------------------ --- 14.1/15.5 MB 4.2 MB/s eta 0:00:01\n",
      "   ------------------------------------- -- 14.4/15.5 MB 4.5 MB/s eta 0:00:01\n",
      "   ------------------------------------- -- 14.5/15.5 MB 4.5 MB/s eta 0:00:01\n",
      "   ------------------------------------- -- 14.5/15.5 MB 4.5 MB/s eta 0:00:01\n",
      "   ------------------------------------- -- 14.5/15.5 MB 4.5 MB/s eta 0:00:01\n",
      "   -------------------------------------- - 15.0/15.5 MB 4.5 MB/s eta 0:00:01\n",
      "   ---------------------------------------  15.3/15.5 MB 4.6 MB/s eta 0:00:01\n",
      "   ---------------------------------------  15.5/15.5 MB 4.6 MB/s eta 0:00:01\n",
      "   ---------------------------------------  15.5/15.5 MB 4.6 MB/s eta 0:00:01\n",
      "   ---------------------------------------  15.5/15.5 MB 4.6 MB/s eta 0:00:01\n",
      "   ---------------------------------------  15.5/15.5 MB 4.6 MB/s eta 0:00:01\n",
      "   ---------------------------------------- 15.5/15.5 MB 4.3 MB/s eta 0:00:00\n",
      "Downloading pytz-2024.1-py2.py3-none-any.whl (505 kB)\n",
      "   ---------------------------------------- 0.0/505.5 kB ? eta -:--:--\n",
      "   --------------- ------------------------ 194.6/505.5 kB 5.8 MB/s eta 0:00:01\n",
      "   ----------------------------------- ---- 450.6/505.5 kB 5.6 MB/s eta 0:00:01\n",
      "   ---------------------------------------  501.8/505.5 kB 5.2 MB/s eta 0:00:01\n",
      "   ---------------------------------------- 505.5/505.5 kB 3.5 MB/s eta 0:00:00\n",
      "Downloading tzdata-2024.1-py2.py3-none-any.whl (345 kB)\n",
      "   ---------------------------------------- 0.0/345.4 kB ? eta -:--:--\n",
      "   ----------------------------------- ---- 307.2/345.4 kB 6.3 MB/s eta 0:00:01\n",
      "   ---------------------------------------  337.9/345.4 kB 5.3 MB/s eta 0:00:01\n",
      "   ---------------------------------------- 345.4/345.4 kB 3.1 MB/s eta 0:00:00\n",
      "Installing collected packages: pytz, tzdata, numpy, pandas\n",
      "Successfully installed numpy-1.26.4 pandas-2.2.1 pytz-2024.1 tzdata-2024.1\n"
     ]
    }
   ],
   "source": [
    "!{sys.executable} -m pip install pandas"
   ],
   "metadata": {
    "collapsed": false,
    "ExecuteTime": {
     "end_time": "2024-04-03T10:38:37.741513Z",
     "start_time": "2024-04-03T10:37:23.180982Z"
    }
   },
   "id": "a5463a34957e5e7d",
   "execution_count": 3
  },
  {
   "cell_type": "code",
   "execution_count": 4,
   "id": "4d931c70",
   "metadata": {
    "ExecuteTime": {
     "end_time": "2024-04-03T10:38:40.686159Z",
     "start_time": "2024-04-03T10:38:37.744526Z"
    }
   },
   "outputs": [],
   "source": [
    "import pandas as pd"
   ]
  },
  {
   "cell_type": "markdown",
   "id": "7089c67e",
   "metadata": {},
   "source": [
    "The `read_csv` method will read in a CSV file and returns to us a DataFrame"
   ]
  },
  {
   "cell_type": "code",
   "execution_count": 5,
   "id": "fbee59b2",
   "metadata": {
    "ExecuteTime": {
     "end_time": "2024-04-03T10:38:48.980456Z",
     "start_time": "2024-04-03T10:38:48.925583Z"
    }
   },
   "outputs": [
    {
     "data": {
      "text/plain": "                   State  Abbrev Code\n0                Alabama    Ala.   AL\n1                 Alaska  Alaska   AK\n2                Arizona   Ariz.   AZ\n3               Arkansas    Ark.   AR\n4             California  Calif.   CA\n5               Colorado   Colo.   CO\n6            Connecticut   Conn.   CT\n7               Delaware    Del.   DE\n8   District of Columbia    D.C.   DC\n9                Florida    Fla.   FL\n10               Georgia     Ga.   GA\n11                Hawaii  Hawaii   HI\n12                 Idaho   Idaho   ID\n13              Illinois    Ill.   IL\n14               Indiana    Ind.   IN\n15                  Iowa    Iowa   IA\n16                Kansas   Kans.   KS\n17              Kentucky     Ky.   KY\n18             Louisiana     La.   LA\n19                 Maine   Maine   ME\n20              Maryland     Md.   MD\n21         Massachusetts   Mass.   MA\n22              Michigan   Mich.   MI\n23             Minnesota   Minn.   MN\n24           Mississippi   Miss.   MS\n25              Missouri     Mo.   MO\n26               Montana   Mont.   MT\n27              Nebraska   Nebr.   NE\n28                Nevada    Nev.   NV\n29         New Hampshire    N.H.   NH\n30            New Jersey    N.J.   NJ\n31            New Mexico    N.M.   NM\n32              New York    N.Y.   NY\n33        North Carolina    N.C.   NC\n34          North Dakota    N.D.   ND\n35                  Ohio    Ohio   OH\n36              Oklahoma   Okla.   OK\n37                Oregon    Ore.   OR\n38          Pennsylvania     Pa.   PA\n39          Rhode Island    R.I.   RI\n40        South Carolina    S.C.   SC\n41          South Dakota    S.D.   SD\n42             Tennessee   Tenn.   TN\n43                 Texas    Tex.   TX\n44                  Utah    Utah   UT\n45               Vermont     Vt.   VT\n46              Virginia     Va.   VA\n47            Washington   Wash.   WA\n48         West Virginia   W.Va.   WV\n49             Wisconsin    Wis.   WI\n50               Wyoming    Wyo.   WY",
      "text/html": "<div>\n<style scoped>\n    .dataframe tbody tr th:only-of-type {\n        vertical-align: middle;\n    }\n\n    .dataframe tbody tr th {\n        vertical-align: top;\n    }\n\n    .dataframe thead th {\n        text-align: right;\n    }\n</style>\n<table border=\"1\" class=\"dataframe\">\n  <thead>\n    <tr style=\"text-align: right;\">\n      <th></th>\n      <th>State</th>\n      <th>Abbrev</th>\n      <th>Code</th>\n    </tr>\n  </thead>\n  <tbody>\n    <tr>\n      <th>0</th>\n      <td>Alabama</td>\n      <td>Ala.</td>\n      <td>AL</td>\n    </tr>\n    <tr>\n      <th>1</th>\n      <td>Alaska</td>\n      <td>Alaska</td>\n      <td>AK</td>\n    </tr>\n    <tr>\n      <th>2</th>\n      <td>Arizona</td>\n      <td>Ariz.</td>\n      <td>AZ</td>\n    </tr>\n    <tr>\n      <th>3</th>\n      <td>Arkansas</td>\n      <td>Ark.</td>\n      <td>AR</td>\n    </tr>\n    <tr>\n      <th>4</th>\n      <td>California</td>\n      <td>Calif.</td>\n      <td>CA</td>\n    </tr>\n    <tr>\n      <th>5</th>\n      <td>Colorado</td>\n      <td>Colo.</td>\n      <td>CO</td>\n    </tr>\n    <tr>\n      <th>6</th>\n      <td>Connecticut</td>\n      <td>Conn.</td>\n      <td>CT</td>\n    </tr>\n    <tr>\n      <th>7</th>\n      <td>Delaware</td>\n      <td>Del.</td>\n      <td>DE</td>\n    </tr>\n    <tr>\n      <th>8</th>\n      <td>District of Columbia</td>\n      <td>D.C.</td>\n      <td>DC</td>\n    </tr>\n    <tr>\n      <th>9</th>\n      <td>Florida</td>\n      <td>Fla.</td>\n      <td>FL</td>\n    </tr>\n    <tr>\n      <th>10</th>\n      <td>Georgia</td>\n      <td>Ga.</td>\n      <td>GA</td>\n    </tr>\n    <tr>\n      <th>11</th>\n      <td>Hawaii</td>\n      <td>Hawaii</td>\n      <td>HI</td>\n    </tr>\n    <tr>\n      <th>12</th>\n      <td>Idaho</td>\n      <td>Idaho</td>\n      <td>ID</td>\n    </tr>\n    <tr>\n      <th>13</th>\n      <td>Illinois</td>\n      <td>Ill.</td>\n      <td>IL</td>\n    </tr>\n    <tr>\n      <th>14</th>\n      <td>Indiana</td>\n      <td>Ind.</td>\n      <td>IN</td>\n    </tr>\n    <tr>\n      <th>15</th>\n      <td>Iowa</td>\n      <td>Iowa</td>\n      <td>IA</td>\n    </tr>\n    <tr>\n      <th>16</th>\n      <td>Kansas</td>\n      <td>Kans.</td>\n      <td>KS</td>\n    </tr>\n    <tr>\n      <th>17</th>\n      <td>Kentucky</td>\n      <td>Ky.</td>\n      <td>KY</td>\n    </tr>\n    <tr>\n      <th>18</th>\n      <td>Louisiana</td>\n      <td>La.</td>\n      <td>LA</td>\n    </tr>\n    <tr>\n      <th>19</th>\n      <td>Maine</td>\n      <td>Maine</td>\n      <td>ME</td>\n    </tr>\n    <tr>\n      <th>20</th>\n      <td>Maryland</td>\n      <td>Md.</td>\n      <td>MD</td>\n    </tr>\n    <tr>\n      <th>21</th>\n      <td>Massachusetts</td>\n      <td>Mass.</td>\n      <td>MA</td>\n    </tr>\n    <tr>\n      <th>22</th>\n      <td>Michigan</td>\n      <td>Mich.</td>\n      <td>MI</td>\n    </tr>\n    <tr>\n      <th>23</th>\n      <td>Minnesota</td>\n      <td>Minn.</td>\n      <td>MN</td>\n    </tr>\n    <tr>\n      <th>24</th>\n      <td>Mississippi</td>\n      <td>Miss.</td>\n      <td>MS</td>\n    </tr>\n    <tr>\n      <th>25</th>\n      <td>Missouri</td>\n      <td>Mo.</td>\n      <td>MO</td>\n    </tr>\n    <tr>\n      <th>26</th>\n      <td>Montana</td>\n      <td>Mont.</td>\n      <td>MT</td>\n    </tr>\n    <tr>\n      <th>27</th>\n      <td>Nebraska</td>\n      <td>Nebr.</td>\n      <td>NE</td>\n    </tr>\n    <tr>\n      <th>28</th>\n      <td>Nevada</td>\n      <td>Nev.</td>\n      <td>NV</td>\n    </tr>\n    <tr>\n      <th>29</th>\n      <td>New Hampshire</td>\n      <td>N.H.</td>\n      <td>NH</td>\n    </tr>\n    <tr>\n      <th>30</th>\n      <td>New Jersey</td>\n      <td>N.J.</td>\n      <td>NJ</td>\n    </tr>\n    <tr>\n      <th>31</th>\n      <td>New Mexico</td>\n      <td>N.M.</td>\n      <td>NM</td>\n    </tr>\n    <tr>\n      <th>32</th>\n      <td>New York</td>\n      <td>N.Y.</td>\n      <td>NY</td>\n    </tr>\n    <tr>\n      <th>33</th>\n      <td>North Carolina</td>\n      <td>N.C.</td>\n      <td>NC</td>\n    </tr>\n    <tr>\n      <th>34</th>\n      <td>North Dakota</td>\n      <td>N.D.</td>\n      <td>ND</td>\n    </tr>\n    <tr>\n      <th>35</th>\n      <td>Ohio</td>\n      <td>Ohio</td>\n      <td>OH</td>\n    </tr>\n    <tr>\n      <th>36</th>\n      <td>Oklahoma</td>\n      <td>Okla.</td>\n      <td>OK</td>\n    </tr>\n    <tr>\n      <th>37</th>\n      <td>Oregon</td>\n      <td>Ore.</td>\n      <td>OR</td>\n    </tr>\n    <tr>\n      <th>38</th>\n      <td>Pennsylvania</td>\n      <td>Pa.</td>\n      <td>PA</td>\n    </tr>\n    <tr>\n      <th>39</th>\n      <td>Rhode Island</td>\n      <td>R.I.</td>\n      <td>RI</td>\n    </tr>\n    <tr>\n      <th>40</th>\n      <td>South Carolina</td>\n      <td>S.C.</td>\n      <td>SC</td>\n    </tr>\n    <tr>\n      <th>41</th>\n      <td>South Dakota</td>\n      <td>S.D.</td>\n      <td>SD</td>\n    </tr>\n    <tr>\n      <th>42</th>\n      <td>Tennessee</td>\n      <td>Tenn.</td>\n      <td>TN</td>\n    </tr>\n    <tr>\n      <th>43</th>\n      <td>Texas</td>\n      <td>Tex.</td>\n      <td>TX</td>\n    </tr>\n    <tr>\n      <th>44</th>\n      <td>Utah</td>\n      <td>Utah</td>\n      <td>UT</td>\n    </tr>\n    <tr>\n      <th>45</th>\n      <td>Vermont</td>\n      <td>Vt.</td>\n      <td>VT</td>\n    </tr>\n    <tr>\n      <th>46</th>\n      <td>Virginia</td>\n      <td>Va.</td>\n      <td>VA</td>\n    </tr>\n    <tr>\n      <th>47</th>\n      <td>Washington</td>\n      <td>Wash.</td>\n      <td>WA</td>\n    </tr>\n    <tr>\n      <th>48</th>\n      <td>West Virginia</td>\n      <td>W.Va.</td>\n      <td>WV</td>\n    </tr>\n    <tr>\n      <th>49</th>\n      <td>Wisconsin</td>\n      <td>Wis.</td>\n      <td>WI</td>\n    </tr>\n    <tr>\n      <th>50</th>\n      <td>Wyoming</td>\n      <td>Wyo.</td>\n      <td>WY</td>\n    </tr>\n  </tbody>\n</table>\n</div>"
     },
     "execution_count": 5,
     "metadata": {},
     "output_type": "execute_result"
    }
   ],
   "source": [
    "states = pd.read_csv(\"data/states.csv\")\n",
    "states"
   ]
  },
  {
   "cell_type": "markdown",
   "id": "0f34c258",
   "metadata": {},
   "source": [
    "## King County Home Sales Data Set\n",
    "This dataset includes the home sales from 2014-2015 in King County, WA (the county Seattle is located in)\n",
    "* `id` - house's unique id\n",
    "* `date` - sale date\n",
    "* `price` - sale price\n",
    "* `bedrooms` - number of bedrooms\n",
    "* `bathrooms` - numbers of bathrooms\n",
    "* `sqft_living` - living space square footage \n",
    "* `sqft_lot` - total lot square footage\n",
    "* `floors` - numbers of floors\n",
    "* `waterfront` - is the house waterfront (1) or not (0)\n",
    "* `view` - rating from 0 to 4 of how good the view from the house is\n",
    "* `condition` - rating from 1 (poor) to 5 (very good) of the condition of the house\n",
    "* `grade` - rating from 1-13 representing the construction quality of improvements. 1-3 Falls short of minimum building standards (cabins, etc.) 7 is avg grade, 11-13 have high-quality design & construction\n",
    "* `sqft_above` - square footage of the interior that is above ground level\n",
    "* `sqft_basement` - square footage of the interior that is below ground level\n",
    "* `yr_built` - year the house was initially built\n",
    "* `yr_renovated` - The year of the house’s last renovation (if any)\n",
    "* `zipcode` - zipcode that the house is located in\n",
    "* `lat` - the property's latitude\n",
    "* `long` - the property's longitude\n",
    "* `sqft_living15` - average interior space square footage of the nearest 15 neighbors\n",
    "* `sqft_lot15` - average lot square footage of the nearest 15 neighbors"
   ]
  },
  {
   "cell_type": "code",
   "execution_count": 6,
   "id": "c970c51f",
   "metadata": {
    "ExecuteTime": {
     "end_time": "2024-04-03T10:41:46.437995Z",
     "start_time": "2024-04-03T10:41:46.258920Z"
    }
   },
   "outputs": [],
   "source": [
    "houses = pd.read_csv(\"data/kc_house_data.csv\")"
   ]
  },
  {
   "cell_type": "code",
   "execution_count": 7,
   "id": "4d496e26",
   "metadata": {
    "ExecuteTime": {
     "end_time": "2024-04-03T10:41:46.823710Z",
     "start_time": "2024-04-03T10:41:46.801310Z"
    }
   },
   "outputs": [
    {
     "data": {
      "text/plain": "           id             date     price  bedrooms  bathrooms  sqft_living  \\\n0  7129300520  20141013T000000  221900.0         3       1.00         1180   \n1  6414100192  20141209T000000  538000.0         3       2.25         2570   \n2  5631500400  20150225T000000  180000.0         2       1.00          770   \n3  2487200875  20141209T000000  604000.0         4       3.00         1960   \n4  1954400510  20150218T000000  510000.0         3       2.00         1680   \n\n   sqft_lot  floors  waterfront  view  ...  grade  sqft_above  sqft_basement  \\\n0      5650     1.0           0     0  ...      7        1180              0   \n1      7242     2.0           0     0  ...      7        2170            400   \n2     10000     1.0           0     0  ...      6         770              0   \n3      5000     1.0           0     0  ...      7        1050            910   \n4      8080     1.0           0     0  ...      8        1680              0   \n\n   yr_built  yr_renovated  zipcode      lat     long  sqft_living15  \\\n0      1955             0    98178  47.5112 -122.257           1340   \n1      1951          1991    98125  47.7210 -122.319           1690   \n2      1933             0    98028  47.7379 -122.233           2720   \n3      1965             0    98136  47.5208 -122.393           1360   \n4      1987             0    98074  47.6168 -122.045           1800   \n\n   sqft_lot15  \n0        5650  \n1        7639  \n2        8062  \n3        5000  \n4        7503  \n\n[5 rows x 21 columns]",
      "text/html": "<div>\n<style scoped>\n    .dataframe tbody tr th:only-of-type {\n        vertical-align: middle;\n    }\n\n    .dataframe tbody tr th {\n        vertical-align: top;\n    }\n\n    .dataframe thead th {\n        text-align: right;\n    }\n</style>\n<table border=\"1\" class=\"dataframe\">\n  <thead>\n    <tr style=\"text-align: right;\">\n      <th></th>\n      <th>id</th>\n      <th>date</th>\n      <th>price</th>\n      <th>bedrooms</th>\n      <th>bathrooms</th>\n      <th>sqft_living</th>\n      <th>sqft_lot</th>\n      <th>floors</th>\n      <th>waterfront</th>\n      <th>view</th>\n      <th>...</th>\n      <th>grade</th>\n      <th>sqft_above</th>\n      <th>sqft_basement</th>\n      <th>yr_built</th>\n      <th>yr_renovated</th>\n      <th>zipcode</th>\n      <th>lat</th>\n      <th>long</th>\n      <th>sqft_living15</th>\n      <th>sqft_lot15</th>\n    </tr>\n  </thead>\n  <tbody>\n    <tr>\n      <th>0</th>\n      <td>7129300520</td>\n      <td>20141013T000000</td>\n      <td>221900.0</td>\n      <td>3</td>\n      <td>1.00</td>\n      <td>1180</td>\n      <td>5650</td>\n      <td>1.0</td>\n      <td>0</td>\n      <td>0</td>\n      <td>...</td>\n      <td>7</td>\n      <td>1180</td>\n      <td>0</td>\n      <td>1955</td>\n      <td>0</td>\n      <td>98178</td>\n      <td>47.5112</td>\n      <td>-122.257</td>\n      <td>1340</td>\n      <td>5650</td>\n    </tr>\n    <tr>\n      <th>1</th>\n      <td>6414100192</td>\n      <td>20141209T000000</td>\n      <td>538000.0</td>\n      <td>3</td>\n      <td>2.25</td>\n      <td>2570</td>\n      <td>7242</td>\n      <td>2.0</td>\n      <td>0</td>\n      <td>0</td>\n      <td>...</td>\n      <td>7</td>\n      <td>2170</td>\n      <td>400</td>\n      <td>1951</td>\n      <td>1991</td>\n      <td>98125</td>\n      <td>47.7210</td>\n      <td>-122.319</td>\n      <td>1690</td>\n      <td>7639</td>\n    </tr>\n    <tr>\n      <th>2</th>\n      <td>5631500400</td>\n      <td>20150225T000000</td>\n      <td>180000.0</td>\n      <td>2</td>\n      <td>1.00</td>\n      <td>770</td>\n      <td>10000</td>\n      <td>1.0</td>\n      <td>0</td>\n      <td>0</td>\n      <td>...</td>\n      <td>6</td>\n      <td>770</td>\n      <td>0</td>\n      <td>1933</td>\n      <td>0</td>\n      <td>98028</td>\n      <td>47.7379</td>\n      <td>-122.233</td>\n      <td>2720</td>\n      <td>8062</td>\n    </tr>\n    <tr>\n      <th>3</th>\n      <td>2487200875</td>\n      <td>20141209T000000</td>\n      <td>604000.0</td>\n      <td>4</td>\n      <td>3.00</td>\n      <td>1960</td>\n      <td>5000</td>\n      <td>1.0</td>\n      <td>0</td>\n      <td>0</td>\n      <td>...</td>\n      <td>7</td>\n      <td>1050</td>\n      <td>910</td>\n      <td>1965</td>\n      <td>0</td>\n      <td>98136</td>\n      <td>47.5208</td>\n      <td>-122.393</td>\n      <td>1360</td>\n      <td>5000</td>\n    </tr>\n    <tr>\n      <th>4</th>\n      <td>1954400510</td>\n      <td>20150218T000000</td>\n      <td>510000.0</td>\n      <td>3</td>\n      <td>2.00</td>\n      <td>1680</td>\n      <td>8080</td>\n      <td>1.0</td>\n      <td>0</td>\n      <td>0</td>\n      <td>...</td>\n      <td>8</td>\n      <td>1680</td>\n      <td>0</td>\n      <td>1987</td>\n      <td>0</td>\n      <td>98074</td>\n      <td>47.6168</td>\n      <td>-122.045</td>\n      <td>1800</td>\n      <td>7503</td>\n    </tr>\n  </tbody>\n</table>\n<p>5 rows × 21 columns</p>\n</div>"
     },
     "execution_count": 7,
     "metadata": {},
     "output_type": "execute_result"
    }
   ],
   "source": [
    "houses.head()"
   ]
  },
  {
   "cell_type": "code",
   "execution_count": 8,
   "id": "3a2c52d4",
   "metadata": {
    "ExecuteTime": {
     "end_time": "2024-04-03T10:43:10.924448Z",
     "start_time": "2024-04-03T10:43:10.891639Z"
    }
   },
   "outputs": [
    {
     "data": {
      "text/plain": "               id             date     price  bedrooms  bathrooms  \\\n0      7129300520  20141013T000000  221900.0         3       1.00   \n1      6414100192  20141209T000000  538000.0         3       2.25   \n2      5631500400  20150225T000000  180000.0         2       1.00   \n3      2487200875  20141209T000000  604000.0         4       3.00   \n4      1954400510  20150218T000000  510000.0         3       2.00   \n...           ...              ...       ...       ...        ...   \n21608   263000018  20140521T000000  360000.0         3       2.50   \n21609  6600060120  20150223T000000  400000.0         4       2.50   \n21610  1523300141  20140623T000000  402101.0         2       0.75   \n21611   291310100  20150116T000000  400000.0         3       2.50   \n21612  1523300157  20141015T000000  325000.0         2       0.75   \n\n       sqft_living  sqft_lot  floors  waterfront  view  ...  grade  \\\n0             1180      5650     1.0           0     0  ...      7   \n1             2570      7242     2.0           0     0  ...      7   \n2              770     10000     1.0           0     0  ...      6   \n3             1960      5000     1.0           0     0  ...      7   \n4             1680      8080     1.0           0     0  ...      8   \n...            ...       ...     ...         ...   ...  ...    ...   \n21608         1530      1131     3.0           0     0  ...      8   \n21609         2310      5813     2.0           0     0  ...      8   \n21610         1020      1350     2.0           0     0  ...      7   \n21611         1600      2388     2.0           0     0  ...      8   \n21612         1020      1076     2.0           0     0  ...      7   \n\n       sqft_above  sqft_basement  yr_built  yr_renovated  zipcode      lat  \\\n0            1180              0      1955             0    98178  47.5112   \n1            2170            400      1951          1991    98125  47.7210   \n2             770              0      1933             0    98028  47.7379   \n3            1050            910      1965             0    98136  47.5208   \n4            1680              0      1987             0    98074  47.6168   \n...           ...            ...       ...           ...      ...      ...   \n21608        1530              0      2009             0    98103  47.6993   \n21609        2310              0      2014             0    98146  47.5107   \n21610        1020              0      2009             0    98144  47.5944   \n21611        1600              0      2004             0    98027  47.5345   \n21612        1020              0      2008             0    98144  47.5941   \n\n          long  sqft_living15  sqft_lot15  \n0     -122.257           1340        5650  \n1     -122.319           1690        7639  \n2     -122.233           2720        8062  \n3     -122.393           1360        5000  \n4     -122.045           1800        7503  \n...        ...            ...         ...  \n21608 -122.346           1530        1509  \n21609 -122.362           1830        7200  \n21610 -122.299           1020        2007  \n21611 -122.069           1410        1287  \n21612 -122.299           1020        1357  \n\n[21613 rows x 21 columns]",
      "text/html": "<div>\n<style scoped>\n    .dataframe tbody tr th:only-of-type {\n        vertical-align: middle;\n    }\n\n    .dataframe tbody tr th {\n        vertical-align: top;\n    }\n\n    .dataframe thead th {\n        text-align: right;\n    }\n</style>\n<table border=\"1\" class=\"dataframe\">\n  <thead>\n    <tr style=\"text-align: right;\">\n      <th></th>\n      <th>id</th>\n      <th>date</th>\n      <th>price</th>\n      <th>bedrooms</th>\n      <th>bathrooms</th>\n      <th>sqft_living</th>\n      <th>sqft_lot</th>\n      <th>floors</th>\n      <th>waterfront</th>\n      <th>view</th>\n      <th>...</th>\n      <th>grade</th>\n      <th>sqft_above</th>\n      <th>sqft_basement</th>\n      <th>yr_built</th>\n      <th>yr_renovated</th>\n      <th>zipcode</th>\n      <th>lat</th>\n      <th>long</th>\n      <th>sqft_living15</th>\n      <th>sqft_lot15</th>\n    </tr>\n  </thead>\n  <tbody>\n    <tr>\n      <th>0</th>\n      <td>7129300520</td>\n      <td>20141013T000000</td>\n      <td>221900.0</td>\n      <td>3</td>\n      <td>1.00</td>\n      <td>1180</td>\n      <td>5650</td>\n      <td>1.0</td>\n      <td>0</td>\n      <td>0</td>\n      <td>...</td>\n      <td>7</td>\n      <td>1180</td>\n      <td>0</td>\n      <td>1955</td>\n      <td>0</td>\n      <td>98178</td>\n      <td>47.5112</td>\n      <td>-122.257</td>\n      <td>1340</td>\n      <td>5650</td>\n    </tr>\n    <tr>\n      <th>1</th>\n      <td>6414100192</td>\n      <td>20141209T000000</td>\n      <td>538000.0</td>\n      <td>3</td>\n      <td>2.25</td>\n      <td>2570</td>\n      <td>7242</td>\n      <td>2.0</td>\n      <td>0</td>\n      <td>0</td>\n      <td>...</td>\n      <td>7</td>\n      <td>2170</td>\n      <td>400</td>\n      <td>1951</td>\n      <td>1991</td>\n      <td>98125</td>\n      <td>47.7210</td>\n      <td>-122.319</td>\n      <td>1690</td>\n      <td>7639</td>\n    </tr>\n    <tr>\n      <th>2</th>\n      <td>5631500400</td>\n      <td>20150225T000000</td>\n      <td>180000.0</td>\n      <td>2</td>\n      <td>1.00</td>\n      <td>770</td>\n      <td>10000</td>\n      <td>1.0</td>\n      <td>0</td>\n      <td>0</td>\n      <td>...</td>\n      <td>6</td>\n      <td>770</td>\n      <td>0</td>\n      <td>1933</td>\n      <td>0</td>\n      <td>98028</td>\n      <td>47.7379</td>\n      <td>-122.233</td>\n      <td>2720</td>\n      <td>8062</td>\n    </tr>\n    <tr>\n      <th>3</th>\n      <td>2487200875</td>\n      <td>20141209T000000</td>\n      <td>604000.0</td>\n      <td>4</td>\n      <td>3.00</td>\n      <td>1960</td>\n      <td>5000</td>\n      <td>1.0</td>\n      <td>0</td>\n      <td>0</td>\n      <td>...</td>\n      <td>7</td>\n      <td>1050</td>\n      <td>910</td>\n      <td>1965</td>\n      <td>0</td>\n      <td>98136</td>\n      <td>47.5208</td>\n      <td>-122.393</td>\n      <td>1360</td>\n      <td>5000</td>\n    </tr>\n    <tr>\n      <th>4</th>\n      <td>1954400510</td>\n      <td>20150218T000000</td>\n      <td>510000.0</td>\n      <td>3</td>\n      <td>2.00</td>\n      <td>1680</td>\n      <td>8080</td>\n      <td>1.0</td>\n      <td>0</td>\n      <td>0</td>\n      <td>...</td>\n      <td>8</td>\n      <td>1680</td>\n      <td>0</td>\n      <td>1987</td>\n      <td>0</td>\n      <td>98074</td>\n      <td>47.6168</td>\n      <td>-122.045</td>\n      <td>1800</td>\n      <td>7503</td>\n    </tr>\n    <tr>\n      <th>...</th>\n      <td>...</td>\n      <td>...</td>\n      <td>...</td>\n      <td>...</td>\n      <td>...</td>\n      <td>...</td>\n      <td>...</td>\n      <td>...</td>\n      <td>...</td>\n      <td>...</td>\n      <td>...</td>\n      <td>...</td>\n      <td>...</td>\n      <td>...</td>\n      <td>...</td>\n      <td>...</td>\n      <td>...</td>\n      <td>...</td>\n      <td>...</td>\n      <td>...</td>\n      <td>...</td>\n    </tr>\n    <tr>\n      <th>21608</th>\n      <td>263000018</td>\n      <td>20140521T000000</td>\n      <td>360000.0</td>\n      <td>3</td>\n      <td>2.50</td>\n      <td>1530</td>\n      <td>1131</td>\n      <td>3.0</td>\n      <td>0</td>\n      <td>0</td>\n      <td>...</td>\n      <td>8</td>\n      <td>1530</td>\n      <td>0</td>\n      <td>2009</td>\n      <td>0</td>\n      <td>98103</td>\n      <td>47.6993</td>\n      <td>-122.346</td>\n      <td>1530</td>\n      <td>1509</td>\n    </tr>\n    <tr>\n      <th>21609</th>\n      <td>6600060120</td>\n      <td>20150223T000000</td>\n      <td>400000.0</td>\n      <td>4</td>\n      <td>2.50</td>\n      <td>2310</td>\n      <td>5813</td>\n      <td>2.0</td>\n      <td>0</td>\n      <td>0</td>\n      <td>...</td>\n      <td>8</td>\n      <td>2310</td>\n      <td>0</td>\n      <td>2014</td>\n      <td>0</td>\n      <td>98146</td>\n      <td>47.5107</td>\n      <td>-122.362</td>\n      <td>1830</td>\n      <td>7200</td>\n    </tr>\n    <tr>\n      <th>21610</th>\n      <td>1523300141</td>\n      <td>20140623T000000</td>\n      <td>402101.0</td>\n      <td>2</td>\n      <td>0.75</td>\n      <td>1020</td>\n      <td>1350</td>\n      <td>2.0</td>\n      <td>0</td>\n      <td>0</td>\n      <td>...</td>\n      <td>7</td>\n      <td>1020</td>\n      <td>0</td>\n      <td>2009</td>\n      <td>0</td>\n      <td>98144</td>\n      <td>47.5944</td>\n      <td>-122.299</td>\n      <td>1020</td>\n      <td>2007</td>\n    </tr>\n    <tr>\n      <th>21611</th>\n      <td>291310100</td>\n      <td>20150116T000000</td>\n      <td>400000.0</td>\n      <td>3</td>\n      <td>2.50</td>\n      <td>1600</td>\n      <td>2388</td>\n      <td>2.0</td>\n      <td>0</td>\n      <td>0</td>\n      <td>...</td>\n      <td>8</td>\n      <td>1600</td>\n      <td>0</td>\n      <td>2004</td>\n      <td>0</td>\n      <td>98027</td>\n      <td>47.5345</td>\n      <td>-122.069</td>\n      <td>1410</td>\n      <td>1287</td>\n    </tr>\n    <tr>\n      <th>21612</th>\n      <td>1523300157</td>\n      <td>20141015T000000</td>\n      <td>325000.0</td>\n      <td>2</td>\n      <td>0.75</td>\n      <td>1020</td>\n      <td>1076</td>\n      <td>2.0</td>\n      <td>0</td>\n      <td>0</td>\n      <td>...</td>\n      <td>7</td>\n      <td>1020</td>\n      <td>0</td>\n      <td>2008</td>\n      <td>0</td>\n      <td>98144</td>\n      <td>47.5941</td>\n      <td>-122.299</td>\n      <td>1020</td>\n      <td>1357</td>\n    </tr>\n  </tbody>\n</table>\n<p>21613 rows × 21 columns</p>\n</div>"
     },
     "execution_count": 8,
     "metadata": {},
     "output_type": "execute_result"
    }
   ],
   "source": [
    "houses"
   ]
  },
  {
   "cell_type": "code",
   "execution_count": 9,
   "id": "14b7ebe1",
   "metadata": {
    "ExecuteTime": {
     "end_time": "2024-04-03T10:43:17.734139Z",
     "start_time": "2024-04-03T10:43:17.726309Z"
    }
   },
   "outputs": [
    {
     "data": {
      "text/plain": "pandas.core.frame.DataFrame"
     },
     "execution_count": 9,
     "metadata": {},
     "output_type": "execute_result"
    }
   ],
   "source": [
    "type(houses)"
   ]
  },
  {
   "cell_type": "code",
   "execution_count": 10,
   "id": "0e2d201e",
   "metadata": {
    "ExecuteTime": {
     "end_time": "2024-04-03T10:43:19.949756Z",
     "start_time": "2024-04-03T10:43:19.941773Z"
    }
   },
   "outputs": [
    {
     "data": {
      "text/plain": "Index(['id', 'date', 'price', 'bedrooms', 'bathrooms', 'sqft_living',\n       'sqft_lot', 'floors', 'waterfront', 'view', 'condition', 'grade',\n       'sqft_above', 'sqft_basement', 'yr_built', 'yr_renovated', 'zipcode',\n       'lat', 'long', 'sqft_living15', 'sqft_lot15'],\n      dtype='object')"
     },
     "execution_count": 10,
     "metadata": {},
     "output_type": "execute_result"
    }
   ],
   "source": [
    "houses.columns"
   ]
  },
  {
   "cell_type": "code",
   "execution_count": 11,
   "id": "64170814",
   "metadata": {
    "ExecuteTime": {
     "end_time": "2024-04-03T10:43:21.127548Z",
     "start_time": "2024-04-03T10:43:21.119807Z"
    }
   },
   "outputs": [
    {
     "data": {
      "text/plain": "Index(['State', 'Abbrev', 'Code'], dtype='object')"
     },
     "execution_count": 11,
     "metadata": {},
     "output_type": "execute_result"
    }
   ],
   "source": [
    "states.columns"
   ]
  },
  {
   "cell_type": "code",
   "execution_count": 12,
   "id": "9e7dfdb5",
   "metadata": {
    "ExecuteTime": {
     "end_time": "2024-04-03T10:43:23.454433Z",
     "start_time": "2024-04-03T10:43:23.447628Z"
    }
   },
   "outputs": [
    {
     "data": {
      "text/plain": "21613"
     },
     "execution_count": 12,
     "metadata": {},
     "output_type": "execute_result"
    }
   ],
   "source": [
    "len(houses)"
   ]
  },
  {
   "cell_type": "code",
   "execution_count": 13,
   "id": "35f9ec9c",
   "metadata": {
    "ExecuteTime": {
     "end_time": "2024-04-03T10:43:24.535943Z",
     "start_time": "2024-04-03T10:43:24.527802Z"
    }
   },
   "outputs": [
    {
     "data": {
      "text/plain": "(21613, 21)"
     },
     "execution_count": 13,
     "metadata": {},
     "output_type": "execute_result"
    }
   ],
   "source": [
    "houses.shape"
   ]
  },
  {
   "cell_type": "code",
   "execution_count": 14,
   "id": "936a04ea",
   "metadata": {
    "ExecuteTime": {
     "end_time": "2024-04-03T10:43:31.860458Z",
     "start_time": "2024-04-03T10:43:31.853795Z"
    }
   },
   "outputs": [
    {
     "data": {
      "text/plain": "453873"
     },
     "execution_count": 14,
     "metadata": {},
     "output_type": "execute_result"
    }
   ],
   "source": [
    "houses.size"
   ]
  },
  {
   "cell_type": "code",
   "execution_count": 15,
   "id": "2cef0710",
   "metadata": {
    "ExecuteTime": {
     "end_time": "2024-04-03T10:43:35.536842Z",
     "start_time": "2024-04-03T10:43:35.532315Z"
    }
   },
   "outputs": [],
   "source": [
    "pd.options.display.min_rows = 15"
   ]
  },
  {
   "cell_type": "code",
   "execution_count": 16,
   "id": "f0896234",
   "metadata": {
    "ExecuteTime": {
     "end_time": "2024-04-03T10:43:36.690304Z",
     "start_time": "2024-04-03T10:43:36.655602Z"
    }
   },
   "outputs": [
    {
     "data": {
      "text/plain": "               id             date      price  bedrooms  bathrooms  \\\n0      7129300520  20141013T000000   221900.0         3       1.00   \n1      6414100192  20141209T000000   538000.0         3       2.25   \n2      5631500400  20150225T000000   180000.0         2       1.00   \n3      2487200875  20141209T000000   604000.0         4       3.00   \n4      1954400510  20150218T000000   510000.0         3       2.00   \n5      7237550310  20140512T000000  1225000.0         4       4.50   \n6      1321400060  20140627T000000   257500.0         3       2.25   \n...           ...              ...        ...       ...        ...   \n21606  7936000429  20150326T000000  1007500.0         4       3.50   \n21607  2997800021  20150219T000000   475000.0         3       2.50   \n21608   263000018  20140521T000000   360000.0         3       2.50   \n21609  6600060120  20150223T000000   400000.0         4       2.50   \n21610  1523300141  20140623T000000   402101.0         2       0.75   \n21611   291310100  20150116T000000   400000.0         3       2.50   \n21612  1523300157  20141015T000000   325000.0         2       0.75   \n\n       sqft_living  sqft_lot  floors  waterfront  view  ...  grade  \\\n0             1180      5650     1.0           0     0  ...      7   \n1             2570      7242     2.0           0     0  ...      7   \n2              770     10000     1.0           0     0  ...      6   \n3             1960      5000     1.0           0     0  ...      7   \n4             1680      8080     1.0           0     0  ...      8   \n5             5420    101930     1.0           0     0  ...     11   \n6             1715      6819     2.0           0     0  ...      7   \n...            ...       ...     ...         ...   ...  ...    ...   \n21606         3510      7200     2.0           0     0  ...      9   \n21607         1310      1294     2.0           0     0  ...      8   \n21608         1530      1131     3.0           0     0  ...      8   \n21609         2310      5813     2.0           0     0  ...      8   \n21610         1020      1350     2.0           0     0  ...      7   \n21611         1600      2388     2.0           0     0  ...      8   \n21612         1020      1076     2.0           0     0  ...      7   \n\n       sqft_above  sqft_basement  yr_built  yr_renovated  zipcode      lat  \\\n0            1180              0      1955             0    98178  47.5112   \n1            2170            400      1951          1991    98125  47.7210   \n2             770              0      1933             0    98028  47.7379   \n3            1050            910      1965             0    98136  47.5208   \n4            1680              0      1987             0    98074  47.6168   \n5            3890           1530      2001             0    98053  47.6561   \n6            1715              0      1995             0    98003  47.3097   \n...           ...            ...       ...           ...      ...      ...   \n21606        2600            910      2009             0    98136  47.5537   \n21607        1180            130      2008             0    98116  47.5773   \n21608        1530              0      2009             0    98103  47.6993   \n21609        2310              0      2014             0    98146  47.5107   \n21610        1020              0      2009             0    98144  47.5944   \n21611        1600              0      2004             0    98027  47.5345   \n21612        1020              0      2008             0    98144  47.5941   \n\n          long  sqft_living15  sqft_lot15  \n0     -122.257           1340        5650  \n1     -122.319           1690        7639  \n2     -122.233           2720        8062  \n3     -122.393           1360        5000  \n4     -122.045           1800        7503  \n5     -122.005           4760      101930  \n6     -122.327           2238        6819  \n...        ...            ...         ...  \n21606 -122.398           2050        6200  \n21607 -122.409           1330        1265  \n21608 -122.346           1530        1509  \n21609 -122.362           1830        7200  \n21610 -122.299           1020        2007  \n21611 -122.069           1410        1287  \n21612 -122.299           1020        1357  \n\n[21613 rows x 21 columns]",
      "text/html": "<div>\n<style scoped>\n    .dataframe tbody tr th:only-of-type {\n        vertical-align: middle;\n    }\n\n    .dataframe tbody tr th {\n        vertical-align: top;\n    }\n\n    .dataframe thead th {\n        text-align: right;\n    }\n</style>\n<table border=\"1\" class=\"dataframe\">\n  <thead>\n    <tr style=\"text-align: right;\">\n      <th></th>\n      <th>id</th>\n      <th>date</th>\n      <th>price</th>\n      <th>bedrooms</th>\n      <th>bathrooms</th>\n      <th>sqft_living</th>\n      <th>sqft_lot</th>\n      <th>floors</th>\n      <th>waterfront</th>\n      <th>view</th>\n      <th>...</th>\n      <th>grade</th>\n      <th>sqft_above</th>\n      <th>sqft_basement</th>\n      <th>yr_built</th>\n      <th>yr_renovated</th>\n      <th>zipcode</th>\n      <th>lat</th>\n      <th>long</th>\n      <th>sqft_living15</th>\n      <th>sqft_lot15</th>\n    </tr>\n  </thead>\n  <tbody>\n    <tr>\n      <th>0</th>\n      <td>7129300520</td>\n      <td>20141013T000000</td>\n      <td>221900.0</td>\n      <td>3</td>\n      <td>1.00</td>\n      <td>1180</td>\n      <td>5650</td>\n      <td>1.0</td>\n      <td>0</td>\n      <td>0</td>\n      <td>...</td>\n      <td>7</td>\n      <td>1180</td>\n      <td>0</td>\n      <td>1955</td>\n      <td>0</td>\n      <td>98178</td>\n      <td>47.5112</td>\n      <td>-122.257</td>\n      <td>1340</td>\n      <td>5650</td>\n    </tr>\n    <tr>\n      <th>1</th>\n      <td>6414100192</td>\n      <td>20141209T000000</td>\n      <td>538000.0</td>\n      <td>3</td>\n      <td>2.25</td>\n      <td>2570</td>\n      <td>7242</td>\n      <td>2.0</td>\n      <td>0</td>\n      <td>0</td>\n      <td>...</td>\n      <td>7</td>\n      <td>2170</td>\n      <td>400</td>\n      <td>1951</td>\n      <td>1991</td>\n      <td>98125</td>\n      <td>47.7210</td>\n      <td>-122.319</td>\n      <td>1690</td>\n      <td>7639</td>\n    </tr>\n    <tr>\n      <th>2</th>\n      <td>5631500400</td>\n      <td>20150225T000000</td>\n      <td>180000.0</td>\n      <td>2</td>\n      <td>1.00</td>\n      <td>770</td>\n      <td>10000</td>\n      <td>1.0</td>\n      <td>0</td>\n      <td>0</td>\n      <td>...</td>\n      <td>6</td>\n      <td>770</td>\n      <td>0</td>\n      <td>1933</td>\n      <td>0</td>\n      <td>98028</td>\n      <td>47.7379</td>\n      <td>-122.233</td>\n      <td>2720</td>\n      <td>8062</td>\n    </tr>\n    <tr>\n      <th>3</th>\n      <td>2487200875</td>\n      <td>20141209T000000</td>\n      <td>604000.0</td>\n      <td>4</td>\n      <td>3.00</td>\n      <td>1960</td>\n      <td>5000</td>\n      <td>1.0</td>\n      <td>0</td>\n      <td>0</td>\n      <td>...</td>\n      <td>7</td>\n      <td>1050</td>\n      <td>910</td>\n      <td>1965</td>\n      <td>0</td>\n      <td>98136</td>\n      <td>47.5208</td>\n      <td>-122.393</td>\n      <td>1360</td>\n      <td>5000</td>\n    </tr>\n    <tr>\n      <th>4</th>\n      <td>1954400510</td>\n      <td>20150218T000000</td>\n      <td>510000.0</td>\n      <td>3</td>\n      <td>2.00</td>\n      <td>1680</td>\n      <td>8080</td>\n      <td>1.0</td>\n      <td>0</td>\n      <td>0</td>\n      <td>...</td>\n      <td>8</td>\n      <td>1680</td>\n      <td>0</td>\n      <td>1987</td>\n      <td>0</td>\n      <td>98074</td>\n      <td>47.6168</td>\n      <td>-122.045</td>\n      <td>1800</td>\n      <td>7503</td>\n    </tr>\n    <tr>\n      <th>5</th>\n      <td>7237550310</td>\n      <td>20140512T000000</td>\n      <td>1225000.0</td>\n      <td>4</td>\n      <td>4.50</td>\n      <td>5420</td>\n      <td>101930</td>\n      <td>1.0</td>\n      <td>0</td>\n      <td>0</td>\n      <td>...</td>\n      <td>11</td>\n      <td>3890</td>\n      <td>1530</td>\n      <td>2001</td>\n      <td>0</td>\n      <td>98053</td>\n      <td>47.6561</td>\n      <td>-122.005</td>\n      <td>4760</td>\n      <td>101930</td>\n    </tr>\n    <tr>\n      <th>6</th>\n      <td>1321400060</td>\n      <td>20140627T000000</td>\n      <td>257500.0</td>\n      <td>3</td>\n      <td>2.25</td>\n      <td>1715</td>\n      <td>6819</td>\n      <td>2.0</td>\n      <td>0</td>\n      <td>0</td>\n      <td>...</td>\n      <td>7</td>\n      <td>1715</td>\n      <td>0</td>\n      <td>1995</td>\n      <td>0</td>\n      <td>98003</td>\n      <td>47.3097</td>\n      <td>-122.327</td>\n      <td>2238</td>\n      <td>6819</td>\n    </tr>\n    <tr>\n      <th>...</th>\n      <td>...</td>\n      <td>...</td>\n      <td>...</td>\n      <td>...</td>\n      <td>...</td>\n      <td>...</td>\n      <td>...</td>\n      <td>...</td>\n      <td>...</td>\n      <td>...</td>\n      <td>...</td>\n      <td>...</td>\n      <td>...</td>\n      <td>...</td>\n      <td>...</td>\n      <td>...</td>\n      <td>...</td>\n      <td>...</td>\n      <td>...</td>\n      <td>...</td>\n      <td>...</td>\n    </tr>\n    <tr>\n      <th>21606</th>\n      <td>7936000429</td>\n      <td>20150326T000000</td>\n      <td>1007500.0</td>\n      <td>4</td>\n      <td>3.50</td>\n      <td>3510</td>\n      <td>7200</td>\n      <td>2.0</td>\n      <td>0</td>\n      <td>0</td>\n      <td>...</td>\n      <td>9</td>\n      <td>2600</td>\n      <td>910</td>\n      <td>2009</td>\n      <td>0</td>\n      <td>98136</td>\n      <td>47.5537</td>\n      <td>-122.398</td>\n      <td>2050</td>\n      <td>6200</td>\n    </tr>\n    <tr>\n      <th>21607</th>\n      <td>2997800021</td>\n      <td>20150219T000000</td>\n      <td>475000.0</td>\n      <td>3</td>\n      <td>2.50</td>\n      <td>1310</td>\n      <td>1294</td>\n      <td>2.0</td>\n      <td>0</td>\n      <td>0</td>\n      <td>...</td>\n      <td>8</td>\n      <td>1180</td>\n      <td>130</td>\n      <td>2008</td>\n      <td>0</td>\n      <td>98116</td>\n      <td>47.5773</td>\n      <td>-122.409</td>\n      <td>1330</td>\n      <td>1265</td>\n    </tr>\n    <tr>\n      <th>21608</th>\n      <td>263000018</td>\n      <td>20140521T000000</td>\n      <td>360000.0</td>\n      <td>3</td>\n      <td>2.50</td>\n      <td>1530</td>\n      <td>1131</td>\n      <td>3.0</td>\n      <td>0</td>\n      <td>0</td>\n      <td>...</td>\n      <td>8</td>\n      <td>1530</td>\n      <td>0</td>\n      <td>2009</td>\n      <td>0</td>\n      <td>98103</td>\n      <td>47.6993</td>\n      <td>-122.346</td>\n      <td>1530</td>\n      <td>1509</td>\n    </tr>\n    <tr>\n      <th>21609</th>\n      <td>6600060120</td>\n      <td>20150223T000000</td>\n      <td>400000.0</td>\n      <td>4</td>\n      <td>2.50</td>\n      <td>2310</td>\n      <td>5813</td>\n      <td>2.0</td>\n      <td>0</td>\n      <td>0</td>\n      <td>...</td>\n      <td>8</td>\n      <td>2310</td>\n      <td>0</td>\n      <td>2014</td>\n      <td>0</td>\n      <td>98146</td>\n      <td>47.5107</td>\n      <td>-122.362</td>\n      <td>1830</td>\n      <td>7200</td>\n    </tr>\n    <tr>\n      <th>21610</th>\n      <td>1523300141</td>\n      <td>20140623T000000</td>\n      <td>402101.0</td>\n      <td>2</td>\n      <td>0.75</td>\n      <td>1020</td>\n      <td>1350</td>\n      <td>2.0</td>\n      <td>0</td>\n      <td>0</td>\n      <td>...</td>\n      <td>7</td>\n      <td>1020</td>\n      <td>0</td>\n      <td>2009</td>\n      <td>0</td>\n      <td>98144</td>\n      <td>47.5944</td>\n      <td>-122.299</td>\n      <td>1020</td>\n      <td>2007</td>\n    </tr>\n    <tr>\n      <th>21611</th>\n      <td>291310100</td>\n      <td>20150116T000000</td>\n      <td>400000.0</td>\n      <td>3</td>\n      <td>2.50</td>\n      <td>1600</td>\n      <td>2388</td>\n      <td>2.0</td>\n      <td>0</td>\n      <td>0</td>\n      <td>...</td>\n      <td>8</td>\n      <td>1600</td>\n      <td>0</td>\n      <td>2004</td>\n      <td>0</td>\n      <td>98027</td>\n      <td>47.5345</td>\n      <td>-122.069</td>\n      <td>1410</td>\n      <td>1287</td>\n    </tr>\n    <tr>\n      <th>21612</th>\n      <td>1523300157</td>\n      <td>20141015T000000</td>\n      <td>325000.0</td>\n      <td>2</td>\n      <td>0.75</td>\n      <td>1020</td>\n      <td>1076</td>\n      <td>2.0</td>\n      <td>0</td>\n      <td>0</td>\n      <td>...</td>\n      <td>7</td>\n      <td>1020</td>\n      <td>0</td>\n      <td>2008</td>\n      <td>0</td>\n      <td>98144</td>\n      <td>47.5941</td>\n      <td>-122.299</td>\n      <td>1020</td>\n      <td>1357</td>\n    </tr>\n  </tbody>\n</table>\n<p>21613 rows × 21 columns</p>\n</div>"
     },
     "execution_count": 16,
     "metadata": {},
     "output_type": "execute_result"
    }
   ],
   "source": [
    "houses"
   ]
  },
  {
   "cell_type": "markdown",
   "id": "70eb009b",
   "metadata": {},
   "source": [
    "The `head()` method returns the first n rows in a NEW DataFrame"
   ]
  },
  {
   "cell_type": "code",
   "execution_count": 17,
   "id": "40a4a52c",
   "metadata": {
    "ExecuteTime": {
     "end_time": "2024-04-03T10:43:40.617885Z",
     "start_time": "2024-04-03T10:43:40.593324Z"
    }
   },
   "outputs": [
    {
     "data": {
      "text/plain": "           id             date     price  bedrooms  bathrooms  sqft_living  \\\n0  7129300520  20141013T000000  221900.0         3       1.00         1180   \n1  6414100192  20141209T000000  538000.0         3       2.25         2570   \n2  5631500400  20150225T000000  180000.0         2       1.00          770   \n3  2487200875  20141209T000000  604000.0         4       3.00         1960   \n4  1954400510  20150218T000000  510000.0         3       2.00         1680   \n\n   sqft_lot  floors  waterfront  view  ...  grade  sqft_above  sqft_basement  \\\n0      5650     1.0           0     0  ...      7        1180              0   \n1      7242     2.0           0     0  ...      7        2170            400   \n2     10000     1.0           0     0  ...      6         770              0   \n3      5000     1.0           0     0  ...      7        1050            910   \n4      8080     1.0           0     0  ...      8        1680              0   \n\n   yr_built  yr_renovated  zipcode      lat     long  sqft_living15  \\\n0      1955             0    98178  47.5112 -122.257           1340   \n1      1951          1991    98125  47.7210 -122.319           1690   \n2      1933             0    98028  47.7379 -122.233           2720   \n3      1965             0    98136  47.5208 -122.393           1360   \n4      1987             0    98074  47.6168 -122.045           1800   \n\n   sqft_lot15  \n0        5650  \n1        7639  \n2        8062  \n3        5000  \n4        7503  \n\n[5 rows x 21 columns]",
      "text/html": "<div>\n<style scoped>\n    .dataframe tbody tr th:only-of-type {\n        vertical-align: middle;\n    }\n\n    .dataframe tbody tr th {\n        vertical-align: top;\n    }\n\n    .dataframe thead th {\n        text-align: right;\n    }\n</style>\n<table border=\"1\" class=\"dataframe\">\n  <thead>\n    <tr style=\"text-align: right;\">\n      <th></th>\n      <th>id</th>\n      <th>date</th>\n      <th>price</th>\n      <th>bedrooms</th>\n      <th>bathrooms</th>\n      <th>sqft_living</th>\n      <th>sqft_lot</th>\n      <th>floors</th>\n      <th>waterfront</th>\n      <th>view</th>\n      <th>...</th>\n      <th>grade</th>\n      <th>sqft_above</th>\n      <th>sqft_basement</th>\n      <th>yr_built</th>\n      <th>yr_renovated</th>\n      <th>zipcode</th>\n      <th>lat</th>\n      <th>long</th>\n      <th>sqft_living15</th>\n      <th>sqft_lot15</th>\n    </tr>\n  </thead>\n  <tbody>\n    <tr>\n      <th>0</th>\n      <td>7129300520</td>\n      <td>20141013T000000</td>\n      <td>221900.0</td>\n      <td>3</td>\n      <td>1.00</td>\n      <td>1180</td>\n      <td>5650</td>\n      <td>1.0</td>\n      <td>0</td>\n      <td>0</td>\n      <td>...</td>\n      <td>7</td>\n      <td>1180</td>\n      <td>0</td>\n      <td>1955</td>\n      <td>0</td>\n      <td>98178</td>\n      <td>47.5112</td>\n      <td>-122.257</td>\n      <td>1340</td>\n      <td>5650</td>\n    </tr>\n    <tr>\n      <th>1</th>\n      <td>6414100192</td>\n      <td>20141209T000000</td>\n      <td>538000.0</td>\n      <td>3</td>\n      <td>2.25</td>\n      <td>2570</td>\n      <td>7242</td>\n      <td>2.0</td>\n      <td>0</td>\n      <td>0</td>\n      <td>...</td>\n      <td>7</td>\n      <td>2170</td>\n      <td>400</td>\n      <td>1951</td>\n      <td>1991</td>\n      <td>98125</td>\n      <td>47.7210</td>\n      <td>-122.319</td>\n      <td>1690</td>\n      <td>7639</td>\n    </tr>\n    <tr>\n      <th>2</th>\n      <td>5631500400</td>\n      <td>20150225T000000</td>\n      <td>180000.0</td>\n      <td>2</td>\n      <td>1.00</td>\n      <td>770</td>\n      <td>10000</td>\n      <td>1.0</td>\n      <td>0</td>\n      <td>0</td>\n      <td>...</td>\n      <td>6</td>\n      <td>770</td>\n      <td>0</td>\n      <td>1933</td>\n      <td>0</td>\n      <td>98028</td>\n      <td>47.7379</td>\n      <td>-122.233</td>\n      <td>2720</td>\n      <td>8062</td>\n    </tr>\n    <tr>\n      <th>3</th>\n      <td>2487200875</td>\n      <td>20141209T000000</td>\n      <td>604000.0</td>\n      <td>4</td>\n      <td>3.00</td>\n      <td>1960</td>\n      <td>5000</td>\n      <td>1.0</td>\n      <td>0</td>\n      <td>0</td>\n      <td>...</td>\n      <td>7</td>\n      <td>1050</td>\n      <td>910</td>\n      <td>1965</td>\n      <td>0</td>\n      <td>98136</td>\n      <td>47.5208</td>\n      <td>-122.393</td>\n      <td>1360</td>\n      <td>5000</td>\n    </tr>\n    <tr>\n      <th>4</th>\n      <td>1954400510</td>\n      <td>20150218T000000</td>\n      <td>510000.0</td>\n      <td>3</td>\n      <td>2.00</td>\n      <td>1680</td>\n      <td>8080</td>\n      <td>1.0</td>\n      <td>0</td>\n      <td>0</td>\n      <td>...</td>\n      <td>8</td>\n      <td>1680</td>\n      <td>0</td>\n      <td>1987</td>\n      <td>0</td>\n      <td>98074</td>\n      <td>47.6168</td>\n      <td>-122.045</td>\n      <td>1800</td>\n      <td>7503</td>\n    </tr>\n  </tbody>\n</table>\n<p>5 rows × 21 columns</p>\n</div>"
     },
     "execution_count": 17,
     "metadata": {},
     "output_type": "execute_result"
    }
   ],
   "source": [
    "first_5 = houses.head()\n",
    "first_5"
   ]
  },
  {
   "cell_type": "code",
   "execution_count": 18,
   "id": "8ee6434a",
   "metadata": {
    "ExecuteTime": {
     "end_time": "2024-04-03T10:43:41.176421Z",
     "start_time": "2024-04-03T10:43:41.168218Z"
    }
   },
   "outputs": [
    {
     "data": {
      "text/plain": "pandas.core.frame.DataFrame"
     },
     "execution_count": 18,
     "metadata": {},
     "output_type": "execute_result"
    }
   ],
   "source": [
    "type(first_5)"
   ]
  },
  {
   "cell_type": "code",
   "execution_count": 19,
   "id": "3788752d",
   "metadata": {
    "ExecuteTime": {
     "end_time": "2024-04-03T10:43:41.618395Z",
     "start_time": "2024-04-03T10:43:41.589360Z"
    }
   },
   "outputs": [
    {
     "data": {
      "text/plain": "             id             date      price  bedrooms  bathrooms  sqft_living  \\\n0    7129300520  20141013T000000   221900.0         3       1.00         1180   \n1    6414100192  20141209T000000   538000.0         3       2.25         2570   \n2    5631500400  20150225T000000   180000.0         2       1.00          770   \n3    2487200875  20141209T000000   604000.0         4       3.00         1960   \n4    1954400510  20150218T000000   510000.0         3       2.00         1680   \n5    7237550310  20140512T000000  1225000.0         4       4.50         5420   \n6    1321400060  20140627T000000   257500.0         3       2.25         1715   \n..          ...              ...        ...       ...        ...          ...   \n193  3663500060  20140625T000000   400000.0         3       2.50         2180   \n194  3996900125  20141201T000000   230000.0         3       1.00         1060   \n195  7796450200  20140515T000000   256883.0         3       2.50         1690   \n196  7549802535  20141111T000000   423000.0         4       2.00         1970   \n197  3278600320  20140723T000000   465000.0         3       2.50         2150   \n198  2824079053  20150113T000000   440000.0         3       2.50         1910   \n199  1222069094  20141014T000000   385000.0         3       1.75         1350   \n\n     sqft_lot  floors  waterfront  view  ...  grade  sqft_above  \\\n0        5650     1.0           0     0  ...      7        1180   \n1        7242     2.0           0     0  ...      7        2170   \n2       10000     1.0           0     0  ...      6         770   \n3        5000     1.0           0     0  ...      7        1050   \n4        8080     1.0           0     0  ...      8        1680   \n5      101930     1.0           0     0  ...     11        3890   \n6        6819     2.0           0     0  ...      7        1715   \n..        ...     ...         ...   ...  ...    ...         ...   \n193      7508     1.0           0     0  ...      7        1420   \n194     10228     1.0           0     0  ...      7        1060   \n195      5025     2.0           0     0  ...      8        1690   \n196      6480     1.5           0     0  ...      7        1130   \n197      4084     2.0           0     0  ...      8        2150   \n198     66211     2.0           0     0  ...      7        1910   \n199    155073     1.0           0     0  ...      7        1350   \n\n     sqft_basement  yr_built  yr_renovated  zipcode      lat     long  \\\n0                0      1955             0    98178  47.5112 -122.257   \n1              400      1951          1991    98125  47.7210 -122.319   \n2                0      1933             0    98028  47.7379 -122.233   \n3              910      1965             0    98136  47.5208 -122.393   \n4                0      1987             0    98074  47.6168 -122.045   \n5             1530      2001             0    98053  47.6561 -122.005   \n6                0      1995             0    98003  47.3097 -122.327   \n..             ...       ...           ...      ...      ...      ...   \n193            760      1962             0    98133  47.7606 -122.336   \n194              0      1948             0    98155  47.7481 -122.300   \n195              0      2003             0    98023  47.2779 -122.347   \n196            840      1920             0    98108  47.5511 -122.312   \n197              0      2007             0    98126  47.5488 -122.372   \n198              0      1997             0    98024  47.5385 -121.911   \n199              0      1969             0    98038  47.4058 -121.994   \n\n     sqft_living15  sqft_lot15  \n0             1340        5650  \n1             1690        7639  \n2             2720        8062  \n3             1360        5000  \n4             1800        7503  \n5             4760      101930  \n6             2238        6819  \n..             ...         ...  \n193           1900        7818  \n194           1570       10228  \n195           2550        5001  \n196           1500        6480  \n197           1750        2385  \n198           2330       67268  \n199           1560       50965  \n\n[200 rows x 21 columns]",
      "text/html": "<div>\n<style scoped>\n    .dataframe tbody tr th:only-of-type {\n        vertical-align: middle;\n    }\n\n    .dataframe tbody tr th {\n        vertical-align: top;\n    }\n\n    .dataframe thead th {\n        text-align: right;\n    }\n</style>\n<table border=\"1\" class=\"dataframe\">\n  <thead>\n    <tr style=\"text-align: right;\">\n      <th></th>\n      <th>id</th>\n      <th>date</th>\n      <th>price</th>\n      <th>bedrooms</th>\n      <th>bathrooms</th>\n      <th>sqft_living</th>\n      <th>sqft_lot</th>\n      <th>floors</th>\n      <th>waterfront</th>\n      <th>view</th>\n      <th>...</th>\n      <th>grade</th>\n      <th>sqft_above</th>\n      <th>sqft_basement</th>\n      <th>yr_built</th>\n      <th>yr_renovated</th>\n      <th>zipcode</th>\n      <th>lat</th>\n      <th>long</th>\n      <th>sqft_living15</th>\n      <th>sqft_lot15</th>\n    </tr>\n  </thead>\n  <tbody>\n    <tr>\n      <th>0</th>\n      <td>7129300520</td>\n      <td>20141013T000000</td>\n      <td>221900.0</td>\n      <td>3</td>\n      <td>1.00</td>\n      <td>1180</td>\n      <td>5650</td>\n      <td>1.0</td>\n      <td>0</td>\n      <td>0</td>\n      <td>...</td>\n      <td>7</td>\n      <td>1180</td>\n      <td>0</td>\n      <td>1955</td>\n      <td>0</td>\n      <td>98178</td>\n      <td>47.5112</td>\n      <td>-122.257</td>\n      <td>1340</td>\n      <td>5650</td>\n    </tr>\n    <tr>\n      <th>1</th>\n      <td>6414100192</td>\n      <td>20141209T000000</td>\n      <td>538000.0</td>\n      <td>3</td>\n      <td>2.25</td>\n      <td>2570</td>\n      <td>7242</td>\n      <td>2.0</td>\n      <td>0</td>\n      <td>0</td>\n      <td>...</td>\n      <td>7</td>\n      <td>2170</td>\n      <td>400</td>\n      <td>1951</td>\n      <td>1991</td>\n      <td>98125</td>\n      <td>47.7210</td>\n      <td>-122.319</td>\n      <td>1690</td>\n      <td>7639</td>\n    </tr>\n    <tr>\n      <th>2</th>\n      <td>5631500400</td>\n      <td>20150225T000000</td>\n      <td>180000.0</td>\n      <td>2</td>\n      <td>1.00</td>\n      <td>770</td>\n      <td>10000</td>\n      <td>1.0</td>\n      <td>0</td>\n      <td>0</td>\n      <td>...</td>\n      <td>6</td>\n      <td>770</td>\n      <td>0</td>\n      <td>1933</td>\n      <td>0</td>\n      <td>98028</td>\n      <td>47.7379</td>\n      <td>-122.233</td>\n      <td>2720</td>\n      <td>8062</td>\n    </tr>\n    <tr>\n      <th>3</th>\n      <td>2487200875</td>\n      <td>20141209T000000</td>\n      <td>604000.0</td>\n      <td>4</td>\n      <td>3.00</td>\n      <td>1960</td>\n      <td>5000</td>\n      <td>1.0</td>\n      <td>0</td>\n      <td>0</td>\n      <td>...</td>\n      <td>7</td>\n      <td>1050</td>\n      <td>910</td>\n      <td>1965</td>\n      <td>0</td>\n      <td>98136</td>\n      <td>47.5208</td>\n      <td>-122.393</td>\n      <td>1360</td>\n      <td>5000</td>\n    </tr>\n    <tr>\n      <th>4</th>\n      <td>1954400510</td>\n      <td>20150218T000000</td>\n      <td>510000.0</td>\n      <td>3</td>\n      <td>2.00</td>\n      <td>1680</td>\n      <td>8080</td>\n      <td>1.0</td>\n      <td>0</td>\n      <td>0</td>\n      <td>...</td>\n      <td>8</td>\n      <td>1680</td>\n      <td>0</td>\n      <td>1987</td>\n      <td>0</td>\n      <td>98074</td>\n      <td>47.6168</td>\n      <td>-122.045</td>\n      <td>1800</td>\n      <td>7503</td>\n    </tr>\n    <tr>\n      <th>5</th>\n      <td>7237550310</td>\n      <td>20140512T000000</td>\n      <td>1225000.0</td>\n      <td>4</td>\n      <td>4.50</td>\n      <td>5420</td>\n      <td>101930</td>\n      <td>1.0</td>\n      <td>0</td>\n      <td>0</td>\n      <td>...</td>\n      <td>11</td>\n      <td>3890</td>\n      <td>1530</td>\n      <td>2001</td>\n      <td>0</td>\n      <td>98053</td>\n      <td>47.6561</td>\n      <td>-122.005</td>\n      <td>4760</td>\n      <td>101930</td>\n    </tr>\n    <tr>\n      <th>6</th>\n      <td>1321400060</td>\n      <td>20140627T000000</td>\n      <td>257500.0</td>\n      <td>3</td>\n      <td>2.25</td>\n      <td>1715</td>\n      <td>6819</td>\n      <td>2.0</td>\n      <td>0</td>\n      <td>0</td>\n      <td>...</td>\n      <td>7</td>\n      <td>1715</td>\n      <td>0</td>\n      <td>1995</td>\n      <td>0</td>\n      <td>98003</td>\n      <td>47.3097</td>\n      <td>-122.327</td>\n      <td>2238</td>\n      <td>6819</td>\n    </tr>\n    <tr>\n      <th>...</th>\n      <td>...</td>\n      <td>...</td>\n      <td>...</td>\n      <td>...</td>\n      <td>...</td>\n      <td>...</td>\n      <td>...</td>\n      <td>...</td>\n      <td>...</td>\n      <td>...</td>\n      <td>...</td>\n      <td>...</td>\n      <td>...</td>\n      <td>...</td>\n      <td>...</td>\n      <td>...</td>\n      <td>...</td>\n      <td>...</td>\n      <td>...</td>\n      <td>...</td>\n      <td>...</td>\n    </tr>\n    <tr>\n      <th>193</th>\n      <td>3663500060</td>\n      <td>20140625T000000</td>\n      <td>400000.0</td>\n      <td>3</td>\n      <td>2.50</td>\n      <td>2180</td>\n      <td>7508</td>\n      <td>1.0</td>\n      <td>0</td>\n      <td>0</td>\n      <td>...</td>\n      <td>7</td>\n      <td>1420</td>\n      <td>760</td>\n      <td>1962</td>\n      <td>0</td>\n      <td>98133</td>\n      <td>47.7606</td>\n      <td>-122.336</td>\n      <td>1900</td>\n      <td>7818</td>\n    </tr>\n    <tr>\n      <th>194</th>\n      <td>3996900125</td>\n      <td>20141201T000000</td>\n      <td>230000.0</td>\n      <td>3</td>\n      <td>1.00</td>\n      <td>1060</td>\n      <td>10228</td>\n      <td>1.0</td>\n      <td>0</td>\n      <td>0</td>\n      <td>...</td>\n      <td>7</td>\n      <td>1060</td>\n      <td>0</td>\n      <td>1948</td>\n      <td>0</td>\n      <td>98155</td>\n      <td>47.7481</td>\n      <td>-122.300</td>\n      <td>1570</td>\n      <td>10228</td>\n    </tr>\n    <tr>\n      <th>195</th>\n      <td>7796450200</td>\n      <td>20140515T000000</td>\n      <td>256883.0</td>\n      <td>3</td>\n      <td>2.50</td>\n      <td>1690</td>\n      <td>5025</td>\n      <td>2.0</td>\n      <td>0</td>\n      <td>0</td>\n      <td>...</td>\n      <td>8</td>\n      <td>1690</td>\n      <td>0</td>\n      <td>2003</td>\n      <td>0</td>\n      <td>98023</td>\n      <td>47.2779</td>\n      <td>-122.347</td>\n      <td>2550</td>\n      <td>5001</td>\n    </tr>\n    <tr>\n      <th>196</th>\n      <td>7549802535</td>\n      <td>20141111T000000</td>\n      <td>423000.0</td>\n      <td>4</td>\n      <td>2.00</td>\n      <td>1970</td>\n      <td>6480</td>\n      <td>1.5</td>\n      <td>0</td>\n      <td>0</td>\n      <td>...</td>\n      <td>7</td>\n      <td>1130</td>\n      <td>840</td>\n      <td>1920</td>\n      <td>0</td>\n      <td>98108</td>\n      <td>47.5511</td>\n      <td>-122.312</td>\n      <td>1500</td>\n      <td>6480</td>\n    </tr>\n    <tr>\n      <th>197</th>\n      <td>3278600320</td>\n      <td>20140723T000000</td>\n      <td>465000.0</td>\n      <td>3</td>\n      <td>2.50</td>\n      <td>2150</td>\n      <td>4084</td>\n      <td>2.0</td>\n      <td>0</td>\n      <td>0</td>\n      <td>...</td>\n      <td>8</td>\n      <td>2150</td>\n      <td>0</td>\n      <td>2007</td>\n      <td>0</td>\n      <td>98126</td>\n      <td>47.5488</td>\n      <td>-122.372</td>\n      <td>1750</td>\n      <td>2385</td>\n    </tr>\n    <tr>\n      <th>198</th>\n      <td>2824079053</td>\n      <td>20150113T000000</td>\n      <td>440000.0</td>\n      <td>3</td>\n      <td>2.50</td>\n      <td>1910</td>\n      <td>66211</td>\n      <td>2.0</td>\n      <td>0</td>\n      <td>0</td>\n      <td>...</td>\n      <td>7</td>\n      <td>1910</td>\n      <td>0</td>\n      <td>1997</td>\n      <td>0</td>\n      <td>98024</td>\n      <td>47.5385</td>\n      <td>-121.911</td>\n      <td>2330</td>\n      <td>67268</td>\n    </tr>\n    <tr>\n      <th>199</th>\n      <td>1222069094</td>\n      <td>20141014T000000</td>\n      <td>385000.0</td>\n      <td>3</td>\n      <td>1.75</td>\n      <td>1350</td>\n      <td>155073</td>\n      <td>1.0</td>\n      <td>0</td>\n      <td>0</td>\n      <td>...</td>\n      <td>7</td>\n      <td>1350</td>\n      <td>0</td>\n      <td>1969</td>\n      <td>0</td>\n      <td>98038</td>\n      <td>47.4058</td>\n      <td>-121.994</td>\n      <td>1560</td>\n      <td>50965</td>\n    </tr>\n  </tbody>\n</table>\n<p>200 rows × 21 columns</p>\n</div>"
     },
     "execution_count": 19,
     "metadata": {},
     "output_type": "execute_result"
    }
   ],
   "source": [
    "houses.head(200)"
   ]
  },
  {
   "cell_type": "markdown",
   "id": "30194f8a",
   "metadata": {},
   "source": [
    "The `tail()` method is like `head()` but it works from the END of a DataFrame.  By default it returns the last 5 rows in a new DataFrame."
   ]
  },
  {
   "cell_type": "code",
   "execution_count": 20,
   "id": "ed1ebafb",
   "metadata": {
    "ExecuteTime": {
     "end_time": "2024-04-03T10:43:42.449943Z",
     "start_time": "2024-04-03T10:43:42.418009Z"
    }
   },
   "outputs": [
    {
     "data": {
      "text/plain": "               id             date     price  bedrooms  bathrooms  \\\n21608   263000018  20140521T000000  360000.0         3       2.50   \n21609  6600060120  20150223T000000  400000.0         4       2.50   \n21610  1523300141  20140623T000000  402101.0         2       0.75   \n21611   291310100  20150116T000000  400000.0         3       2.50   \n21612  1523300157  20141015T000000  325000.0         2       0.75   \n\n       sqft_living  sqft_lot  floors  waterfront  view  ...  grade  \\\n21608         1530      1131     3.0           0     0  ...      8   \n21609         2310      5813     2.0           0     0  ...      8   \n21610         1020      1350     2.0           0     0  ...      7   \n21611         1600      2388     2.0           0     0  ...      8   \n21612         1020      1076     2.0           0     0  ...      7   \n\n       sqft_above  sqft_basement  yr_built  yr_renovated  zipcode      lat  \\\n21608        1530              0      2009             0    98103  47.6993   \n21609        2310              0      2014             0    98146  47.5107   \n21610        1020              0      2009             0    98144  47.5944   \n21611        1600              0      2004             0    98027  47.5345   \n21612        1020              0      2008             0    98144  47.5941   \n\n          long  sqft_living15  sqft_lot15  \n21608 -122.346           1530        1509  \n21609 -122.362           1830        7200  \n21610 -122.299           1020        2007  \n21611 -122.069           1410        1287  \n21612 -122.299           1020        1357  \n\n[5 rows x 21 columns]",
      "text/html": "<div>\n<style scoped>\n    .dataframe tbody tr th:only-of-type {\n        vertical-align: middle;\n    }\n\n    .dataframe tbody tr th {\n        vertical-align: top;\n    }\n\n    .dataframe thead th {\n        text-align: right;\n    }\n</style>\n<table border=\"1\" class=\"dataframe\">\n  <thead>\n    <tr style=\"text-align: right;\">\n      <th></th>\n      <th>id</th>\n      <th>date</th>\n      <th>price</th>\n      <th>bedrooms</th>\n      <th>bathrooms</th>\n      <th>sqft_living</th>\n      <th>sqft_lot</th>\n      <th>floors</th>\n      <th>waterfront</th>\n      <th>view</th>\n      <th>...</th>\n      <th>grade</th>\n      <th>sqft_above</th>\n      <th>sqft_basement</th>\n      <th>yr_built</th>\n      <th>yr_renovated</th>\n      <th>zipcode</th>\n      <th>lat</th>\n      <th>long</th>\n      <th>sqft_living15</th>\n      <th>sqft_lot15</th>\n    </tr>\n  </thead>\n  <tbody>\n    <tr>\n      <th>21608</th>\n      <td>263000018</td>\n      <td>20140521T000000</td>\n      <td>360000.0</td>\n      <td>3</td>\n      <td>2.50</td>\n      <td>1530</td>\n      <td>1131</td>\n      <td>3.0</td>\n      <td>0</td>\n      <td>0</td>\n      <td>...</td>\n      <td>8</td>\n      <td>1530</td>\n      <td>0</td>\n      <td>2009</td>\n      <td>0</td>\n      <td>98103</td>\n      <td>47.6993</td>\n      <td>-122.346</td>\n      <td>1530</td>\n      <td>1509</td>\n    </tr>\n    <tr>\n      <th>21609</th>\n      <td>6600060120</td>\n      <td>20150223T000000</td>\n      <td>400000.0</td>\n      <td>4</td>\n      <td>2.50</td>\n      <td>2310</td>\n      <td>5813</td>\n      <td>2.0</td>\n      <td>0</td>\n      <td>0</td>\n      <td>...</td>\n      <td>8</td>\n      <td>2310</td>\n      <td>0</td>\n      <td>2014</td>\n      <td>0</td>\n      <td>98146</td>\n      <td>47.5107</td>\n      <td>-122.362</td>\n      <td>1830</td>\n      <td>7200</td>\n    </tr>\n    <tr>\n      <th>21610</th>\n      <td>1523300141</td>\n      <td>20140623T000000</td>\n      <td>402101.0</td>\n      <td>2</td>\n      <td>0.75</td>\n      <td>1020</td>\n      <td>1350</td>\n      <td>2.0</td>\n      <td>0</td>\n      <td>0</td>\n      <td>...</td>\n      <td>7</td>\n      <td>1020</td>\n      <td>0</td>\n      <td>2009</td>\n      <td>0</td>\n      <td>98144</td>\n      <td>47.5944</td>\n      <td>-122.299</td>\n      <td>1020</td>\n      <td>2007</td>\n    </tr>\n    <tr>\n      <th>21611</th>\n      <td>291310100</td>\n      <td>20150116T000000</td>\n      <td>400000.0</td>\n      <td>3</td>\n      <td>2.50</td>\n      <td>1600</td>\n      <td>2388</td>\n      <td>2.0</td>\n      <td>0</td>\n      <td>0</td>\n      <td>...</td>\n      <td>8</td>\n      <td>1600</td>\n      <td>0</td>\n      <td>2004</td>\n      <td>0</td>\n      <td>98027</td>\n      <td>47.5345</td>\n      <td>-122.069</td>\n      <td>1410</td>\n      <td>1287</td>\n    </tr>\n    <tr>\n      <th>21612</th>\n      <td>1523300157</td>\n      <td>20141015T000000</td>\n      <td>325000.0</td>\n      <td>2</td>\n      <td>0.75</td>\n      <td>1020</td>\n      <td>1076</td>\n      <td>2.0</td>\n      <td>0</td>\n      <td>0</td>\n      <td>...</td>\n      <td>7</td>\n      <td>1020</td>\n      <td>0</td>\n      <td>2008</td>\n      <td>0</td>\n      <td>98144</td>\n      <td>47.5941</td>\n      <td>-122.299</td>\n      <td>1020</td>\n      <td>1357</td>\n    </tr>\n  </tbody>\n</table>\n<p>5 rows × 21 columns</p>\n</div>"
     },
     "execution_count": 20,
     "metadata": {},
     "output_type": "execute_result"
    }
   ],
   "source": [
    "houses.tail()"
   ]
  },
  {
   "cell_type": "code",
   "execution_count": 50,
   "id": "7bae705f",
   "metadata": {},
   "outputs": [
    {
     "data": {
      "text/html": [
       "<div>\n",
       "<style scoped>\n",
       "    .dataframe tbody tr th:only-of-type {\n",
       "        vertical-align: middle;\n",
       "    }\n",
       "\n",
       "    .dataframe tbody tr th {\n",
       "        vertical-align: top;\n",
       "    }\n",
       "\n",
       "    .dataframe thead th {\n",
       "        text-align: right;\n",
       "    }\n",
       "</style>\n",
       "<table border=\"1\" class=\"dataframe\">\n",
       "  <thead>\n",
       "    <tr style=\"text-align: right;\">\n",
       "      <th></th>\n",
       "      <th>id</th>\n",
       "      <th>date</th>\n",
       "      <th>price</th>\n",
       "      <th>bedrooms</th>\n",
       "      <th>bathrooms</th>\n",
       "      <th>sqft_living</th>\n",
       "      <th>sqft_lot</th>\n",
       "      <th>floors</th>\n",
       "      <th>waterfront</th>\n",
       "      <th>view</th>\n",
       "      <th>...</th>\n",
       "      <th>grade</th>\n",
       "      <th>sqft_above</th>\n",
       "      <th>sqft_basement</th>\n",
       "      <th>yr_built</th>\n",
       "      <th>yr_renovated</th>\n",
       "      <th>zipcode</th>\n",
       "      <th>lat</th>\n",
       "      <th>long</th>\n",
       "      <th>sqft_living15</th>\n",
       "      <th>sqft_lot15</th>\n",
       "    </tr>\n",
       "  </thead>\n",
       "  <tbody>\n",
       "    <tr>\n",
       "      <th>21604</th>\n",
       "      <td>9834201367</td>\n",
       "      <td>20150126T000000</td>\n",
       "      <td>429000.0</td>\n",
       "      <td>3</td>\n",
       "      <td>2.00</td>\n",
       "      <td>1490</td>\n",
       "      <td>1126</td>\n",
       "      <td>3.0</td>\n",
       "      <td>0</td>\n",
       "      <td>0</td>\n",
       "      <td>...</td>\n",
       "      <td>8</td>\n",
       "      <td>1490</td>\n",
       "      <td>0</td>\n",
       "      <td>2014</td>\n",
       "      <td>0</td>\n",
       "      <td>98144</td>\n",
       "      <td>47.5699</td>\n",
       "      <td>-122.288</td>\n",
       "      <td>1400</td>\n",
       "      <td>1230</td>\n",
       "    </tr>\n",
       "    <tr>\n",
       "      <th>21605</th>\n",
       "      <td>3448900210</td>\n",
       "      <td>20141014T000000</td>\n",
       "      <td>610685.0</td>\n",
       "      <td>4</td>\n",
       "      <td>2.50</td>\n",
       "      <td>2520</td>\n",
       "      <td>6023</td>\n",
       "      <td>2.0</td>\n",
       "      <td>0</td>\n",
       "      <td>0</td>\n",
       "      <td>...</td>\n",
       "      <td>9</td>\n",
       "      <td>2520</td>\n",
       "      <td>0</td>\n",
       "      <td>2014</td>\n",
       "      <td>0</td>\n",
       "      <td>98056</td>\n",
       "      <td>47.5137</td>\n",
       "      <td>-122.167</td>\n",
       "      <td>2520</td>\n",
       "      <td>6023</td>\n",
       "    </tr>\n",
       "    <tr>\n",
       "      <th>21606</th>\n",
       "      <td>7936000429</td>\n",
       "      <td>20150326T000000</td>\n",
       "      <td>1007500.0</td>\n",
       "      <td>4</td>\n",
       "      <td>3.50</td>\n",
       "      <td>3510</td>\n",
       "      <td>7200</td>\n",
       "      <td>2.0</td>\n",
       "      <td>0</td>\n",
       "      <td>0</td>\n",
       "      <td>...</td>\n",
       "      <td>9</td>\n",
       "      <td>2600</td>\n",
       "      <td>910</td>\n",
       "      <td>2009</td>\n",
       "      <td>0</td>\n",
       "      <td>98136</td>\n",
       "      <td>47.5537</td>\n",
       "      <td>-122.398</td>\n",
       "      <td>2050</td>\n",
       "      <td>6200</td>\n",
       "    </tr>\n",
       "    <tr>\n",
       "      <th>21607</th>\n",
       "      <td>2997800021</td>\n",
       "      <td>20150219T000000</td>\n",
       "      <td>475000.0</td>\n",
       "      <td>3</td>\n",
       "      <td>2.50</td>\n",
       "      <td>1310</td>\n",
       "      <td>1294</td>\n",
       "      <td>2.0</td>\n",
       "      <td>0</td>\n",
       "      <td>0</td>\n",
       "      <td>...</td>\n",
       "      <td>8</td>\n",
       "      <td>1180</td>\n",
       "      <td>130</td>\n",
       "      <td>2008</td>\n",
       "      <td>0</td>\n",
       "      <td>98116</td>\n",
       "      <td>47.5773</td>\n",
       "      <td>-122.409</td>\n",
       "      <td>1330</td>\n",
       "      <td>1265</td>\n",
       "    </tr>\n",
       "    <tr>\n",
       "      <th>21608</th>\n",
       "      <td>263000018</td>\n",
       "      <td>20140521T000000</td>\n",
       "      <td>360000.0</td>\n",
       "      <td>3</td>\n",
       "      <td>2.50</td>\n",
       "      <td>1530</td>\n",
       "      <td>1131</td>\n",
       "      <td>3.0</td>\n",
       "      <td>0</td>\n",
       "      <td>0</td>\n",
       "      <td>...</td>\n",
       "      <td>8</td>\n",
       "      <td>1530</td>\n",
       "      <td>0</td>\n",
       "      <td>2009</td>\n",
       "      <td>0</td>\n",
       "      <td>98103</td>\n",
       "      <td>47.6993</td>\n",
       "      <td>-122.346</td>\n",
       "      <td>1530</td>\n",
       "      <td>1509</td>\n",
       "    </tr>\n",
       "    <tr>\n",
       "      <th>21609</th>\n",
       "      <td>6600060120</td>\n",
       "      <td>20150223T000000</td>\n",
       "      <td>400000.0</td>\n",
       "      <td>4</td>\n",
       "      <td>2.50</td>\n",
       "      <td>2310</td>\n",
       "      <td>5813</td>\n",
       "      <td>2.0</td>\n",
       "      <td>0</td>\n",
       "      <td>0</td>\n",
       "      <td>...</td>\n",
       "      <td>8</td>\n",
       "      <td>2310</td>\n",
       "      <td>0</td>\n",
       "      <td>2014</td>\n",
       "      <td>0</td>\n",
       "      <td>98146</td>\n",
       "      <td>47.5107</td>\n",
       "      <td>-122.362</td>\n",
       "      <td>1830</td>\n",
       "      <td>7200</td>\n",
       "    </tr>\n",
       "    <tr>\n",
       "      <th>21610</th>\n",
       "      <td>1523300141</td>\n",
       "      <td>20140623T000000</td>\n",
       "      <td>402101.0</td>\n",
       "      <td>2</td>\n",
       "      <td>0.75</td>\n",
       "      <td>1020</td>\n",
       "      <td>1350</td>\n",
       "      <td>2.0</td>\n",
       "      <td>0</td>\n",
       "      <td>0</td>\n",
       "      <td>...</td>\n",
       "      <td>7</td>\n",
       "      <td>1020</td>\n",
       "      <td>0</td>\n",
       "      <td>2009</td>\n",
       "      <td>0</td>\n",
       "      <td>98144</td>\n",
       "      <td>47.5944</td>\n",
       "      <td>-122.299</td>\n",
       "      <td>1020</td>\n",
       "      <td>2007</td>\n",
       "    </tr>\n",
       "    <tr>\n",
       "      <th>21611</th>\n",
       "      <td>291310100</td>\n",
       "      <td>20150116T000000</td>\n",
       "      <td>400000.0</td>\n",
       "      <td>3</td>\n",
       "      <td>2.50</td>\n",
       "      <td>1600</td>\n",
       "      <td>2388</td>\n",
       "      <td>2.0</td>\n",
       "      <td>0</td>\n",
       "      <td>0</td>\n",
       "      <td>...</td>\n",
       "      <td>8</td>\n",
       "      <td>1600</td>\n",
       "      <td>0</td>\n",
       "      <td>2004</td>\n",
       "      <td>0</td>\n",
       "      <td>98027</td>\n",
       "      <td>47.5345</td>\n",
       "      <td>-122.069</td>\n",
       "      <td>1410</td>\n",
       "      <td>1287</td>\n",
       "    </tr>\n",
       "    <tr>\n",
       "      <th>21612</th>\n",
       "      <td>1523300157</td>\n",
       "      <td>20141015T000000</td>\n",
       "      <td>325000.0</td>\n",
       "      <td>2</td>\n",
       "      <td>0.75</td>\n",
       "      <td>1020</td>\n",
       "      <td>1076</td>\n",
       "      <td>2.0</td>\n",
       "      <td>0</td>\n",
       "      <td>0</td>\n",
       "      <td>...</td>\n",
       "      <td>7</td>\n",
       "      <td>1020</td>\n",
       "      <td>0</td>\n",
       "      <td>2008</td>\n",
       "      <td>0</td>\n",
       "      <td>98144</td>\n",
       "      <td>47.5941</td>\n",
       "      <td>-122.299</td>\n",
       "      <td>1020</td>\n",
       "      <td>1357</td>\n",
       "    </tr>\n",
       "  </tbody>\n",
       "</table>\n",
       "<p>9 rows × 21 columns</p>\n",
       "</div>"
      ],
      "text/plain": [
       "               id             date      price  bedrooms  bathrooms  \\\n",
       "21604  9834201367  20150126T000000   429000.0         3       2.00   \n",
       "21605  3448900210  20141014T000000   610685.0         4       2.50   \n",
       "21606  7936000429  20150326T000000  1007500.0         4       3.50   \n",
       "21607  2997800021  20150219T000000   475000.0         3       2.50   \n",
       "21608   263000018  20140521T000000   360000.0         3       2.50   \n",
       "21609  6600060120  20150223T000000   400000.0         4       2.50   \n",
       "21610  1523300141  20140623T000000   402101.0         2       0.75   \n",
       "21611   291310100  20150116T000000   400000.0         3       2.50   \n",
       "21612  1523300157  20141015T000000   325000.0         2       0.75   \n",
       "\n",
       "       sqft_living  sqft_lot  floors  waterfront  view  ...  grade  \\\n",
       "21604         1490      1126     3.0           0     0  ...      8   \n",
       "21605         2520      6023     2.0           0     0  ...      9   \n",
       "21606         3510      7200     2.0           0     0  ...      9   \n",
       "21607         1310      1294     2.0           0     0  ...      8   \n",
       "21608         1530      1131     3.0           0     0  ...      8   \n",
       "21609         2310      5813     2.0           0     0  ...      8   \n",
       "21610         1020      1350     2.0           0     0  ...      7   \n",
       "21611         1600      2388     2.0           0     0  ...      8   \n",
       "21612         1020      1076     2.0           0     0  ...      7   \n",
       "\n",
       "       sqft_above  sqft_basement  yr_built  yr_renovated  zipcode      lat  \\\n",
       "21604        1490              0      2014             0    98144  47.5699   \n",
       "21605        2520              0      2014             0    98056  47.5137   \n",
       "21606        2600            910      2009             0    98136  47.5537   \n",
       "21607        1180            130      2008             0    98116  47.5773   \n",
       "21608        1530              0      2009             0    98103  47.6993   \n",
       "21609        2310              0      2014             0    98146  47.5107   \n",
       "21610        1020              0      2009             0    98144  47.5944   \n",
       "21611        1600              0      2004             0    98027  47.5345   \n",
       "21612        1020              0      2008             0    98144  47.5941   \n",
       "\n",
       "          long  sqft_living15  sqft_lot15  \n",
       "21604 -122.288           1400        1230  \n",
       "21605 -122.167           2520        6023  \n",
       "21606 -122.398           2050        6200  \n",
       "21607 -122.409           1330        1265  \n",
       "21608 -122.346           1530        1509  \n",
       "21609 -122.362           1830        7200  \n",
       "21610 -122.299           1020        2007  \n",
       "21611 -122.069           1410        1287  \n",
       "21612 -122.299           1020        1357  \n",
       "\n",
       "[9 rows x 21 columns]"
      ]
     },
     "execution_count": 50,
     "metadata": {},
     "output_type": "execute_result"
    }
   ],
   "source": [
    "houses.tail(9)"
   ]
  },
  {
   "cell_type": "code",
   "execution_count": 21,
   "id": "1e8704fe",
   "metadata": {
    "ExecuteTime": {
     "end_time": "2024-04-03T10:44:03.785487Z",
     "start_time": "2024-04-03T10:44:03.769710Z"
    }
   },
   "outputs": [
    {
     "name": "stdout",
     "output_type": "stream",
     "text": [
      "<class 'pandas.core.frame.DataFrame'>\n",
      "RangeIndex: 21613 entries, 0 to 21612\n",
      "Data columns (total 21 columns):\n",
      " #   Column         Non-Null Count  Dtype  \n",
      "---  ------         --------------  -----  \n",
      " 0   id             21613 non-null  int64  \n",
      " 1   date           21613 non-null  object \n",
      " 2   price          21613 non-null  float64\n",
      " 3   bedrooms       21613 non-null  int64  \n",
      " 4   bathrooms      21613 non-null  float64\n",
      " 5   sqft_living    21613 non-null  int64  \n",
      " 6   sqft_lot       21613 non-null  int64  \n",
      " 7   floors         21613 non-null  float64\n",
      " 8   waterfront     21613 non-null  int64  \n",
      " 9   view           21613 non-null  int64  \n",
      " 10  condition      21613 non-null  int64  \n",
      " 11  grade          21613 non-null  int64  \n",
      " 12  sqft_above     21613 non-null  int64  \n",
      " 13  sqft_basement  21613 non-null  int64  \n",
      " 14  yr_built       21613 non-null  int64  \n",
      " 15  yr_renovated   21613 non-null  int64  \n",
      " 16  zipcode        21613 non-null  int64  \n",
      " 17  lat            21613 non-null  float64\n",
      " 18  long           21613 non-null  float64\n",
      " 19  sqft_living15  21613 non-null  int64  \n",
      " 20  sqft_lot15     21613 non-null  int64  \n",
      "dtypes: float64(5), int64(15), object(1)\n",
      "memory usage: 3.5+ MB\n"
     ]
    }
   ],
   "source": [
    "houses.info()"
   ]
  },
  {
   "cell_type": "code",
   "execution_count": 22,
   "id": "9a9ec41c",
   "metadata": {
    "ExecuteTime": {
     "end_time": "2024-04-03T10:44:11.325869Z",
     "start_time": "2024-04-03T10:44:11.315676Z"
    }
   },
   "outputs": [
    {
     "name": "stdout",
     "output_type": "stream",
     "text": [
      "<class 'pandas.core.frame.DataFrame'>\n",
      "RangeIndex: 51 entries, 0 to 50\n",
      "Data columns (total 3 columns):\n",
      " #   Column  Non-Null Count  Dtype \n",
      "---  ------  --------------  ----- \n",
      " 0   State   51 non-null     object\n",
      " 1   Abbrev  51 non-null     object\n",
      " 2   Code    51 non-null     object\n",
      "dtypes: object(3)\n",
      "memory usage: 1.3+ KB\n"
     ]
    }
   ],
   "source": [
    "states.info()"
   ]
  },
  {
   "cell_type": "code",
   "execution_count": 23,
   "id": "81f39194",
   "metadata": {
    "ExecuteTime": {
     "end_time": "2024-04-03T10:44:55.959458Z",
     "start_time": "2024-04-03T10:44:55.948945Z"
    }
   },
   "outputs": [
    {
     "data": {
      "text/plain": "id                 int64\ndate              object\nprice            float64\nbedrooms           int64\nbathrooms        float64\nsqft_living        int64\nsqft_lot           int64\nfloors           float64\nwaterfront         int64\nview               int64\ncondition          int64\ngrade              int64\nsqft_above         int64\nsqft_basement      int64\nyr_built           int64\nyr_renovated       int64\nzipcode            int64\nlat              float64\nlong             float64\nsqft_living15      int64\nsqft_lot15         int64\ndtype: object"
     },
     "execution_count": 23,
     "metadata": {},
     "output_type": "execute_result"
    }
   ],
   "source": [
    "houses.dtypes"
   ]
  },
  {
   "cell_type": "markdown",
   "id": "5269be98",
   "metadata": {},
   "source": [
    "## Introducing The Titanic Dataset"
   ]
  },
  {
   "cell_type": "code",
   "execution_count": 24,
   "id": "1b4be389",
   "metadata": {
    "ExecuteTime": {
     "end_time": "2024-04-03T10:44:57.436079Z",
     "start_time": "2024-04-03T10:44:57.384008Z"
    }
   },
   "outputs": [
    {
     "data": {
      "text/plain": "   pclass  survived                                             name     sex  \\\n0       1         1                    Allen, Miss. Elisabeth Walton  female   \n1       1         1                   Allison, Master. Hudson Trevor    male   \n2       1         0                     Allison, Miss. Helen Loraine  female   \n3       1         0             Allison, Mr. Hudson Joshua Creighton    male   \n4       1         0  Allison, Mrs. Hudson J C (Bessie Waldo Daniels)  female   \n\n      age  sibsp  parch  ticket      fare    cabin embarked boat body  \\\n0      29      0      0   24160  211.3375       B5        S    2    ?   \n1  0.9167      1      2  113781    151.55  C22 C26        S   11    ?   \n2       2      1      2  113781    151.55  C22 C26        S    ?    ?   \n3      30      1      2  113781    151.55  C22 C26        S    ?  135   \n4      25      1      2  113781    151.55  C22 C26        S    ?    ?   \n\n                         home.dest  \n0                     St Louis, MO  \n1  Montreal, PQ / Chesterville, ON  \n2  Montreal, PQ / Chesterville, ON  \n3  Montreal, PQ / Chesterville, ON  \n4  Montreal, PQ / Chesterville, ON  ",
      "text/html": "<div>\n<style scoped>\n    .dataframe tbody tr th:only-of-type {\n        vertical-align: middle;\n    }\n\n    .dataframe tbody tr th {\n        vertical-align: top;\n    }\n\n    .dataframe thead th {\n        text-align: right;\n    }\n</style>\n<table border=\"1\" class=\"dataframe\">\n  <thead>\n    <tr style=\"text-align: right;\">\n      <th></th>\n      <th>pclass</th>\n      <th>survived</th>\n      <th>name</th>\n      <th>sex</th>\n      <th>age</th>\n      <th>sibsp</th>\n      <th>parch</th>\n      <th>ticket</th>\n      <th>fare</th>\n      <th>cabin</th>\n      <th>embarked</th>\n      <th>boat</th>\n      <th>body</th>\n      <th>home.dest</th>\n    </tr>\n  </thead>\n  <tbody>\n    <tr>\n      <th>0</th>\n      <td>1</td>\n      <td>1</td>\n      <td>Allen, Miss. Elisabeth Walton</td>\n      <td>female</td>\n      <td>29</td>\n      <td>0</td>\n      <td>0</td>\n      <td>24160</td>\n      <td>211.3375</td>\n      <td>B5</td>\n      <td>S</td>\n      <td>2</td>\n      <td>?</td>\n      <td>St Louis, MO</td>\n    </tr>\n    <tr>\n      <th>1</th>\n      <td>1</td>\n      <td>1</td>\n      <td>Allison, Master. Hudson Trevor</td>\n      <td>male</td>\n      <td>0.9167</td>\n      <td>1</td>\n      <td>2</td>\n      <td>113781</td>\n      <td>151.55</td>\n      <td>C22 C26</td>\n      <td>S</td>\n      <td>11</td>\n      <td>?</td>\n      <td>Montreal, PQ / Chesterville, ON</td>\n    </tr>\n    <tr>\n      <th>2</th>\n      <td>1</td>\n      <td>0</td>\n      <td>Allison, Miss. Helen Loraine</td>\n      <td>female</td>\n      <td>2</td>\n      <td>1</td>\n      <td>2</td>\n      <td>113781</td>\n      <td>151.55</td>\n      <td>C22 C26</td>\n      <td>S</td>\n      <td>?</td>\n      <td>?</td>\n      <td>Montreal, PQ / Chesterville, ON</td>\n    </tr>\n    <tr>\n      <th>3</th>\n      <td>1</td>\n      <td>0</td>\n      <td>Allison, Mr. Hudson Joshua Creighton</td>\n      <td>male</td>\n      <td>30</td>\n      <td>1</td>\n      <td>2</td>\n      <td>113781</td>\n      <td>151.55</td>\n      <td>C22 C26</td>\n      <td>S</td>\n      <td>?</td>\n      <td>135</td>\n      <td>Montreal, PQ / Chesterville, ON</td>\n    </tr>\n    <tr>\n      <th>4</th>\n      <td>1</td>\n      <td>0</td>\n      <td>Allison, Mrs. Hudson J C (Bessie Waldo Daniels)</td>\n      <td>female</td>\n      <td>25</td>\n      <td>1</td>\n      <td>2</td>\n      <td>113781</td>\n      <td>151.55</td>\n      <td>C22 C26</td>\n      <td>S</td>\n      <td>?</td>\n      <td>?</td>\n      <td>Montreal, PQ / Chesterville, ON</td>\n    </tr>\n  </tbody>\n</table>\n</div>"
     },
     "execution_count": 24,
     "metadata": {},
     "output_type": "execute_result"
    }
   ],
   "source": [
    "titanic = pd.read_csv(\"data/titanic.csv\")\n",
    "titanic.head()"
   ]
  },
  {
   "cell_type": "code",
   "execution_count": 25,
   "id": "25457bee",
   "metadata": {
    "ExecuteTime": {
     "end_time": "2024-04-03T10:45:12.969018Z",
     "start_time": "2024-04-03T10:45:12.961260Z"
    }
   },
   "outputs": [
    {
     "data": {
      "text/plain": "Index(['pclass', 'survived', 'name', 'sex', 'age', 'sibsp', 'parch', 'ticket',\n       'fare', 'cabin', 'embarked', 'boat', 'body', 'home.dest'],\n      dtype='object')"
     },
     "execution_count": 25,
     "metadata": {},
     "output_type": "execute_result"
    }
   ],
   "source": [
    "titanic.columns"
   ]
  },
  {
   "cell_type": "markdown",
   "id": "1171c90d",
   "metadata": {},
   "source": [
    "* `pclass` - Passenger Class (1 = 1st; 2 = 2nd; 3 = 3rd)\n",
    "* `survived` - Survival (0 = No; 1 = Yes)\n",
    "* `name` - Name\n",
    "* `sex` - Sex\n",
    "* `age` - Age\n",
    "* `sibsp` - Number of Siblings/Spouses Aboard\n",
    "* `parch` - Number of Parents/Children Aboard\n",
    "* `ticket` - Ticket Number\n",
    "* `fare` - Passenger Fare\n",
    "* `cabin` - Cabin\n",
    "* `embarked` - Port of Embarkation (C = Cherbourg; Q = Queenstown; S = Southampton)\n",
    "* `boat` - Lifeboat (if survived)\n",
    "* `body` - Body number (if did not survive and body was recovered)\n",
    "* `home.dest` - Home/Destination"
   ]
  },
  {
   "cell_type": "code",
   "execution_count": 27,
   "id": "de8235bb",
   "metadata": {
    "ExecuteTime": {
     "end_time": "2024-04-03T10:46:14.101489Z",
     "start_time": "2024-04-03T10:46:14.083231Z"
    }
   },
   "outputs": [
    {
     "data": {
      "text/plain": "      pclass  survived                                     name     sex   age  \\\n1299       3         0                      Yasbeck, Mr. Antoni    male    27   \n1300       3         1  Yasbeck, Mrs. Antoni (Selini Alexander)  female    15   \n1301       3         0                     Youseff, Mr. Gerious    male  45.5   \n1302       3         0                        Yousif, Mr. Wazli    male     ?   \n1303       3         0                    Yousseff, Mr. Gerious    male     ?   \n1304       3         0                     Zabour, Miss. Hileni  female  14.5   \n1305       3         0                    Zabour, Miss. Thamine  female     ?   \n1306       3         0                Zakarian, Mr. Mapriededer    male  26.5   \n1307       3         0                      Zakarian, Mr. Ortin    male    27   \n1308       3         0                       Zimmerman, Mr. Leo    male    29   \n\n      sibsp  parch  ticket     fare cabin embarked boat body home.dest  \n1299      1      0    2659  14.4542     ?        C    C    ?         ?  \n1300      1      0    2659  14.4542     ?        C    ?    ?         ?  \n1301      0      0    2628    7.225     ?        C    ?  312         ?  \n1302      0      0    2647    7.225     ?        C    ?    ?         ?  \n1303      0      0    2627  14.4583     ?        C    ?    ?         ?  \n1304      1      0    2665  14.4542     ?        C    ?  328         ?  \n1305      1      0    2665  14.4542     ?        C    ?    ?         ?  \n1306      0      0    2656    7.225     ?        C    ?  304         ?  \n1307      0      0    2670    7.225     ?        C    ?    ?         ?  \n1308      0      0  315082    7.875     ?        S    ?    ?         ?  ",
      "text/html": "<div>\n<style scoped>\n    .dataframe tbody tr th:only-of-type {\n        vertical-align: middle;\n    }\n\n    .dataframe tbody tr th {\n        vertical-align: top;\n    }\n\n    .dataframe thead th {\n        text-align: right;\n    }\n</style>\n<table border=\"1\" class=\"dataframe\">\n  <thead>\n    <tr style=\"text-align: right;\">\n      <th></th>\n      <th>pclass</th>\n      <th>survived</th>\n      <th>name</th>\n      <th>sex</th>\n      <th>age</th>\n      <th>sibsp</th>\n      <th>parch</th>\n      <th>ticket</th>\n      <th>fare</th>\n      <th>cabin</th>\n      <th>embarked</th>\n      <th>boat</th>\n      <th>body</th>\n      <th>home.dest</th>\n    </tr>\n  </thead>\n  <tbody>\n    <tr>\n      <th>1299</th>\n      <td>3</td>\n      <td>0</td>\n      <td>Yasbeck, Mr. Antoni</td>\n      <td>male</td>\n      <td>27</td>\n      <td>1</td>\n      <td>0</td>\n      <td>2659</td>\n      <td>14.4542</td>\n      <td>?</td>\n      <td>C</td>\n      <td>C</td>\n      <td>?</td>\n      <td>?</td>\n    </tr>\n    <tr>\n      <th>1300</th>\n      <td>3</td>\n      <td>1</td>\n      <td>Yasbeck, Mrs. Antoni (Selini Alexander)</td>\n      <td>female</td>\n      <td>15</td>\n      <td>1</td>\n      <td>0</td>\n      <td>2659</td>\n      <td>14.4542</td>\n      <td>?</td>\n      <td>C</td>\n      <td>?</td>\n      <td>?</td>\n      <td>?</td>\n    </tr>\n    <tr>\n      <th>1301</th>\n      <td>3</td>\n      <td>0</td>\n      <td>Youseff, Mr. Gerious</td>\n      <td>male</td>\n      <td>45.5</td>\n      <td>0</td>\n      <td>0</td>\n      <td>2628</td>\n      <td>7.225</td>\n      <td>?</td>\n      <td>C</td>\n      <td>?</td>\n      <td>312</td>\n      <td>?</td>\n    </tr>\n    <tr>\n      <th>1302</th>\n      <td>3</td>\n      <td>0</td>\n      <td>Yousif, Mr. Wazli</td>\n      <td>male</td>\n      <td>?</td>\n      <td>0</td>\n      <td>0</td>\n      <td>2647</td>\n      <td>7.225</td>\n      <td>?</td>\n      <td>C</td>\n      <td>?</td>\n      <td>?</td>\n      <td>?</td>\n    </tr>\n    <tr>\n      <th>1303</th>\n      <td>3</td>\n      <td>0</td>\n      <td>Yousseff, Mr. Gerious</td>\n      <td>male</td>\n      <td>?</td>\n      <td>0</td>\n      <td>0</td>\n      <td>2627</td>\n      <td>14.4583</td>\n      <td>?</td>\n      <td>C</td>\n      <td>?</td>\n      <td>?</td>\n      <td>?</td>\n    </tr>\n    <tr>\n      <th>1304</th>\n      <td>3</td>\n      <td>0</td>\n      <td>Zabour, Miss. Hileni</td>\n      <td>female</td>\n      <td>14.5</td>\n      <td>1</td>\n      <td>0</td>\n      <td>2665</td>\n      <td>14.4542</td>\n      <td>?</td>\n      <td>C</td>\n      <td>?</td>\n      <td>328</td>\n      <td>?</td>\n    </tr>\n    <tr>\n      <th>1305</th>\n      <td>3</td>\n      <td>0</td>\n      <td>Zabour, Miss. Thamine</td>\n      <td>female</td>\n      <td>?</td>\n      <td>1</td>\n      <td>0</td>\n      <td>2665</td>\n      <td>14.4542</td>\n      <td>?</td>\n      <td>C</td>\n      <td>?</td>\n      <td>?</td>\n      <td>?</td>\n    </tr>\n    <tr>\n      <th>1306</th>\n      <td>3</td>\n      <td>0</td>\n      <td>Zakarian, Mr. Mapriededer</td>\n      <td>male</td>\n      <td>26.5</td>\n      <td>0</td>\n      <td>0</td>\n      <td>2656</td>\n      <td>7.225</td>\n      <td>?</td>\n      <td>C</td>\n      <td>?</td>\n      <td>304</td>\n      <td>?</td>\n    </tr>\n    <tr>\n      <th>1307</th>\n      <td>3</td>\n      <td>0</td>\n      <td>Zakarian, Mr. Ortin</td>\n      <td>male</td>\n      <td>27</td>\n      <td>0</td>\n      <td>0</td>\n      <td>2670</td>\n      <td>7.225</td>\n      <td>?</td>\n      <td>C</td>\n      <td>?</td>\n      <td>?</td>\n      <td>?</td>\n    </tr>\n    <tr>\n      <th>1308</th>\n      <td>3</td>\n      <td>0</td>\n      <td>Zimmerman, Mr. Leo</td>\n      <td>male</td>\n      <td>29</td>\n      <td>0</td>\n      <td>0</td>\n      <td>315082</td>\n      <td>7.875</td>\n      <td>?</td>\n      <td>S</td>\n      <td>?</td>\n      <td>?</td>\n      <td>?</td>\n    </tr>\n  </tbody>\n</table>\n</div>"
     },
     "execution_count": 27,
     "metadata": {},
     "output_type": "execute_result"
    }
   ],
   "source": [
    "titanic.tail(10)"
   ]
  },
  {
   "cell_type": "code",
   "execution_count": 28,
   "id": "8e595f57",
   "metadata": {
    "ExecuteTime": {
     "end_time": "2024-04-03T10:46:15.151815Z",
     "start_time": "2024-04-03T10:46:15.134244Z"
    }
   },
   "outputs": [
    {
     "name": "stdout",
     "output_type": "stream",
     "text": [
      "<class 'pandas.core.frame.DataFrame'>\n",
      "RangeIndex: 1309 entries, 0 to 1308\n",
      "Data columns (total 14 columns):\n",
      " #   Column     Non-Null Count  Dtype \n",
      "---  ------     --------------  ----- \n",
      " 0   pclass     1309 non-null   int64 \n",
      " 1   survived   1309 non-null   int64 \n",
      " 2   name       1309 non-null   object\n",
      " 3   sex        1309 non-null   object\n",
      " 4   age        1309 non-null   object\n",
      " 5   sibsp      1309 non-null   int64 \n",
      " 6   parch      1309 non-null   int64 \n",
      " 7   ticket     1309 non-null   object\n",
      " 8   fare       1309 non-null   object\n",
      " 9   cabin      1309 non-null   object\n",
      " 10  embarked   1309 non-null   object\n",
      " 11  boat       1309 non-null   object\n",
      " 12  body       1309 non-null   object\n",
      " 13  home.dest  1309 non-null   object\n",
      "dtypes: int64(4), object(10)\n",
      "memory usage: 143.3+ KB\n"
     ]
    }
   ],
   "source": [
    "titanic.info()"
   ]
  },
  {
   "cell_type": "code",
   "execution_count": 29,
   "id": "1b888ceb",
   "metadata": {
    "scrolled": true,
    "ExecuteTime": {
     "end_time": "2024-04-03T10:46:18.922690Z",
     "start_time": "2024-04-03T10:46:18.904349Z"
    }
   },
   "outputs": [
    {
     "data": {
      "text/plain": "   pclass  survived                                             name     sex  \\\n0       1         1                    Allen, Miss. Elisabeth Walton  female   \n1       1         1                   Allison, Master. Hudson Trevor    male   \n2       1         0                     Allison, Miss. Helen Loraine  female   \n3       1         0             Allison, Mr. Hudson Joshua Creighton    male   \n4       1         0  Allison, Mrs. Hudson J C (Bessie Waldo Daniels)  female   \n\n      age  sibsp  parch  ticket      fare    cabin embarked boat body  \\\n0      29      0      0   24160  211.3375       B5        S    2    ?   \n1  0.9167      1      2  113781    151.55  C22 C26        S   11    ?   \n2       2      1      2  113781    151.55  C22 C26        S    ?    ?   \n3      30      1      2  113781    151.55  C22 C26        S    ?  135   \n4      25      1      2  113781    151.55  C22 C26        S    ?    ?   \n\n                         home.dest  \n0                     St Louis, MO  \n1  Montreal, PQ / Chesterville, ON  \n2  Montreal, PQ / Chesterville, ON  \n3  Montreal, PQ / Chesterville, ON  \n4  Montreal, PQ / Chesterville, ON  ",
      "text/html": "<div>\n<style scoped>\n    .dataframe tbody tr th:only-of-type {\n        vertical-align: middle;\n    }\n\n    .dataframe tbody tr th {\n        vertical-align: top;\n    }\n\n    .dataframe thead th {\n        text-align: right;\n    }\n</style>\n<table border=\"1\" class=\"dataframe\">\n  <thead>\n    <tr style=\"text-align: right;\">\n      <th></th>\n      <th>pclass</th>\n      <th>survived</th>\n      <th>name</th>\n      <th>sex</th>\n      <th>age</th>\n      <th>sibsp</th>\n      <th>parch</th>\n      <th>ticket</th>\n      <th>fare</th>\n      <th>cabin</th>\n      <th>embarked</th>\n      <th>boat</th>\n      <th>body</th>\n      <th>home.dest</th>\n    </tr>\n  </thead>\n  <tbody>\n    <tr>\n      <th>0</th>\n      <td>1</td>\n      <td>1</td>\n      <td>Allen, Miss. Elisabeth Walton</td>\n      <td>female</td>\n      <td>29</td>\n      <td>0</td>\n      <td>0</td>\n      <td>24160</td>\n      <td>211.3375</td>\n      <td>B5</td>\n      <td>S</td>\n      <td>2</td>\n      <td>?</td>\n      <td>St Louis, MO</td>\n    </tr>\n    <tr>\n      <th>1</th>\n      <td>1</td>\n      <td>1</td>\n      <td>Allison, Master. Hudson Trevor</td>\n      <td>male</td>\n      <td>0.9167</td>\n      <td>1</td>\n      <td>2</td>\n      <td>113781</td>\n      <td>151.55</td>\n      <td>C22 C26</td>\n      <td>S</td>\n      <td>11</td>\n      <td>?</td>\n      <td>Montreal, PQ / Chesterville, ON</td>\n    </tr>\n    <tr>\n      <th>2</th>\n      <td>1</td>\n      <td>0</td>\n      <td>Allison, Miss. Helen Loraine</td>\n      <td>female</td>\n      <td>2</td>\n      <td>1</td>\n      <td>2</td>\n      <td>113781</td>\n      <td>151.55</td>\n      <td>C22 C26</td>\n      <td>S</td>\n      <td>?</td>\n      <td>?</td>\n      <td>Montreal, PQ / Chesterville, ON</td>\n    </tr>\n    <tr>\n      <th>3</th>\n      <td>1</td>\n      <td>0</td>\n      <td>Allison, Mr. Hudson Joshua Creighton</td>\n      <td>male</td>\n      <td>30</td>\n      <td>1</td>\n      <td>2</td>\n      <td>113781</td>\n      <td>151.55</td>\n      <td>C22 C26</td>\n      <td>S</td>\n      <td>?</td>\n      <td>135</td>\n      <td>Montreal, PQ / Chesterville, ON</td>\n    </tr>\n    <tr>\n      <th>4</th>\n      <td>1</td>\n      <td>0</td>\n      <td>Allison, Mrs. Hudson J C (Bessie Waldo Daniels)</td>\n      <td>female</td>\n      <td>25</td>\n      <td>1</td>\n      <td>2</td>\n      <td>113781</td>\n      <td>151.55</td>\n      <td>C22 C26</td>\n      <td>S</td>\n      <td>?</td>\n      <td>?</td>\n      <td>Montreal, PQ / Chesterville, ON</td>\n    </tr>\n  </tbody>\n</table>\n</div>"
     },
     "execution_count": 29,
     "metadata": {},
     "output_type": "execute_result"
    }
   ],
   "source": [
    "titanic.head()"
   ]
  },
  {
   "cell_type": "markdown",
   "id": "d33b85d9",
   "metadata": {},
   "source": [
    "## read_csv with non-comma separators\n",
    "The `netflix_titles.csv` file is actually pipe (`|`) separated.  We can tell `read_csv` to expect this using the `sep=\"|\"` option. \n",
    "\n",
    "Additionally, the netflix dataset includes an index column as the very first column.  We can let `read_csv` know using `index_col=0`"
   ]
  },
  {
   "cell_type": "code",
   "execution_count": 30,
   "id": "1bc741e0",
   "metadata": {
    "ExecuteTime": {
     "end_time": "2024-04-03T10:46:40.573153Z",
     "start_time": "2024-04-03T10:46:40.296732Z"
    }
   },
   "outputs": [],
   "source": [
    "netflix = pd.read_csv(\"data/netflix_titles.csv\", sep=\"|\", index_col=0)"
   ]
  },
  {
   "cell_type": "code",
   "execution_count": 31,
   "id": "41654810",
   "metadata": {
    "ExecuteTime": {
     "end_time": "2024-04-03T10:46:41.502292Z",
     "start_time": "2024-04-03T10:46:41.485927Z"
    }
   },
   "outputs": [
    {
     "name": "stdout",
     "output_type": "stream",
     "text": [
      "<class 'pandas.core.frame.DataFrame'>\n",
      "Index: 8807 entries, 0 to 8806\n",
      "Data columns (total 12 columns):\n",
      " #   Column        Non-Null Count  Dtype \n",
      "---  ------        --------------  ----- \n",
      " 0   show_id       8807 non-null   object\n",
      " 1   type          8807 non-null   object\n",
      " 2   title         8807 non-null   object\n",
      " 3   director      6173 non-null   object\n",
      " 4   cast          7982 non-null   object\n",
      " 5   country       7976 non-null   object\n",
      " 6   date_added    8797 non-null   object\n",
      " 7   release_year  8807 non-null   int64 \n",
      " 8   rating        8803 non-null   object\n",
      " 9   duration      8804 non-null   object\n",
      " 10  listed_in     8807 non-null   object\n",
      " 11  description   8807 non-null   object\n",
      "dtypes: int64(1), object(11)\n",
      "memory usage: 894.5+ KB\n"
     ]
    }
   ],
   "source": [
    "netflix.info()"
   ]
  },
  {
   "cell_type": "code",
   "execution_count": 32,
   "id": "158806e9",
   "metadata": {
    "ExecuteTime": {
     "end_time": "2024-04-03T10:46:43.240803Z",
     "start_time": "2024-04-03T10:46:43.224246Z"
    }
   },
   "outputs": [
    {
     "data": {
      "text/plain": "  show_id     type                  title         director  \\\n0      s1    Movie   Dick Johnson Is Dead  Kirsten Johnson   \n1      s2  TV Show          Blood & Water              NaN   \n2      s3  TV Show              Ganglands  Julien Leclercq   \n3      s4  TV Show  Jailbirds New Orleans              NaN   \n4      s5  TV Show           Kota Factory              NaN   \n\n                                                cast        country  \\\n0                                                NaN  United States   \n1  Ama Qamata, Khosi Ngema, Gail Mabalane, Thaban...   South Africa   \n2  Sami Bouajila, Tracy Gotoas, Samuel Jouy, Nabi...            NaN   \n3                                                NaN            NaN   \n4  Mayur More, Jitendra Kumar, Ranjan Raj, Alam K...          India   \n\n           date_added  release_year rating   duration  \\\n0  September 25, 2021          2020  PG-13     90 min   \n1  September 24, 2021          2021  TV-MA  2 Seasons   \n2  September 24, 2021          2021  TV-MA   1 Season   \n3  September 24, 2021          2021  TV-MA   1 Season   \n4  September 24, 2021          2021  TV-MA  2 Seasons   \n\n                                           listed_in  \\\n0                                      Documentaries   \n1    International TV Shows, TV Dramas, TV Mysteries   \n2  Crime TV Shows, International TV Shows, TV Act...   \n3                             Docuseries, Reality TV   \n4  International TV Shows, Romantic TV Shows, TV ...   \n\n                                         description  \n0  As her father nears the end of his life, filmm...  \n1  After crossing paths at a party, a Cape Town t...  \n2  To protect his family from a powerful drug lor...  \n3  Feuds, flirtations and toilet talk go down amo...  \n4  In a city of coaching centers known to train I...  ",
      "text/html": "<div>\n<style scoped>\n    .dataframe tbody tr th:only-of-type {\n        vertical-align: middle;\n    }\n\n    .dataframe tbody tr th {\n        vertical-align: top;\n    }\n\n    .dataframe thead th {\n        text-align: right;\n    }\n</style>\n<table border=\"1\" class=\"dataframe\">\n  <thead>\n    <tr style=\"text-align: right;\">\n      <th></th>\n      <th>show_id</th>\n      <th>type</th>\n      <th>title</th>\n      <th>director</th>\n      <th>cast</th>\n      <th>country</th>\n      <th>date_added</th>\n      <th>release_year</th>\n      <th>rating</th>\n      <th>duration</th>\n      <th>listed_in</th>\n      <th>description</th>\n    </tr>\n  </thead>\n  <tbody>\n    <tr>\n      <th>0</th>\n      <td>s1</td>\n      <td>Movie</td>\n      <td>Dick Johnson Is Dead</td>\n      <td>Kirsten Johnson</td>\n      <td>NaN</td>\n      <td>United States</td>\n      <td>September 25, 2021</td>\n      <td>2020</td>\n      <td>PG-13</td>\n      <td>90 min</td>\n      <td>Documentaries</td>\n      <td>As her father nears the end of his life, filmm...</td>\n    </tr>\n    <tr>\n      <th>1</th>\n      <td>s2</td>\n      <td>TV Show</td>\n      <td>Blood &amp; Water</td>\n      <td>NaN</td>\n      <td>Ama Qamata, Khosi Ngema, Gail Mabalane, Thaban...</td>\n      <td>South Africa</td>\n      <td>September 24, 2021</td>\n      <td>2021</td>\n      <td>TV-MA</td>\n      <td>2 Seasons</td>\n      <td>International TV Shows, TV Dramas, TV Mysteries</td>\n      <td>After crossing paths at a party, a Cape Town t...</td>\n    </tr>\n    <tr>\n      <th>2</th>\n      <td>s3</td>\n      <td>TV Show</td>\n      <td>Ganglands</td>\n      <td>Julien Leclercq</td>\n      <td>Sami Bouajila, Tracy Gotoas, Samuel Jouy, Nabi...</td>\n      <td>NaN</td>\n      <td>September 24, 2021</td>\n      <td>2021</td>\n      <td>TV-MA</td>\n      <td>1 Season</td>\n      <td>Crime TV Shows, International TV Shows, TV Act...</td>\n      <td>To protect his family from a powerful drug lor...</td>\n    </tr>\n    <tr>\n      <th>3</th>\n      <td>s4</td>\n      <td>TV Show</td>\n      <td>Jailbirds New Orleans</td>\n      <td>NaN</td>\n      <td>NaN</td>\n      <td>NaN</td>\n      <td>September 24, 2021</td>\n      <td>2021</td>\n      <td>TV-MA</td>\n      <td>1 Season</td>\n      <td>Docuseries, Reality TV</td>\n      <td>Feuds, flirtations and toilet talk go down amo...</td>\n    </tr>\n    <tr>\n      <th>4</th>\n      <td>s5</td>\n      <td>TV Show</td>\n      <td>Kota Factory</td>\n      <td>NaN</td>\n      <td>Mayur More, Jitendra Kumar, Ranjan Raj, Alam K...</td>\n      <td>India</td>\n      <td>September 24, 2021</td>\n      <td>2021</td>\n      <td>TV-MA</td>\n      <td>2 Seasons</td>\n      <td>International TV Shows, Romantic TV Shows, TV ...</td>\n      <td>In a city of coaching centers known to train I...</td>\n    </tr>\n  </tbody>\n</table>\n</div>"
     },
     "execution_count": 32,
     "metadata": {},
     "output_type": "execute_result"
    }
   ],
   "source": [
    "netflix.head()"
   ]
  },
  {
   "cell_type": "markdown",
   "id": "f0e1842d",
   "metadata": {},
   "source": [
    "## Proving Column Names\n",
    "\n",
    "We can provide a list of custom column names to `read_csv` using the `names` parameter.  Additionally, we need to specify `header=0` to tell `read_csv` that the file still contains the original headers on the first line and that it should ignore them!"
   ]
  },
  {
   "cell_type": "code",
   "execution_count": 33,
   "id": "29d2cc38",
   "metadata": {
    "ExecuteTime": {
     "end_time": "2024-04-03T10:46:47.533633Z",
     "start_time": "2024-04-03T10:46:47.473857Z"
    }
   },
   "outputs": [
    {
     "data": {
      "text/plain": "    sumlev region division  state                  name  census2010pop  \\\n0       10      0        0      0         United States      308745538   \n1       20      1        0      0      Northeast Region       55317240   \n2       20      2        0      0        Midwest Region       66927001   \n3       20      3        0      0          South Region      114555744   \n4       20      4        0      0           West Region       71945553   \n5       40      3        6      1               Alabama        4779736   \n6       40      4        9      2                Alaska         710231   \n7       40      4        8      4               Arizona        6392017   \n8       40      3        7      5              Arkansas        2915918   \n9       40      4        9      6            California       37253956   \n10      40      4        8      8              Colorado        5029196   \n11      40      1        1      9           Connecticut        3574097   \n12      40      3        5     10              Delaware         897934   \n13      40      3        5     11  District of Columbia         601723   \n14      40      3        5     12               Florida       18801310   \n15      40      3        5     13               Georgia        9687653   \n16      40      4        9     15                Hawaii        1360301   \n17      40      4        8     16                 Idaho        1567582   \n18      40      2        3     17              Illinois       12830632   \n19      40      2        3     18               Indiana        6483802   \n20      40      2        4     19                  Iowa        3046355   \n21      40      2        4     20                Kansas        2853118   \n22      40      3        6     21              Kentucky        4339367   \n23      40      3        7     22             Louisiana        4533372   \n24      40      1        1     23                 Maine        1328361   \n25      40      3        5     24              Maryland        5773552   \n26      40      1        1     25         Massachusetts        6547629   \n27      40      2        3     26              Michigan        9883640   \n28      40      2        4     27             Minnesota        5303925   \n29      40      3        6     28           Mississippi        2967297   \n30      40      2        4     29              Missouri        5988927   \n31      40      4        8     30               Montana         989415   \n32      40      2        4     31              Nebraska        1826341   \n33      40      4        8     32                Nevada        2700551   \n34      40      1        1     33         New Hampshire        1316470   \n35      40      1        2     34            New Jersey        8791894   \n36      40      4        8     35            New Mexico        2059179   \n37      40      1        2     36              New York       19378102   \n38      40      3        5     37        North Carolina        9535483   \n39      40      2        4     38          North Dakota         672591   \n40      40      2        3     39                  Ohio       11536504   \n41      40      3        7     40              Oklahoma        3751351   \n42      40      4        9     41                Oregon        3831074   \n43      40      1        2     42          Pennsylvania       12702379   \n44      40      1        1     44          Rhode Island        1052567   \n45      40      3        5     45        South Carolina        4625364   \n46      40      2        4     46          South Dakota         814180   \n47      40      3        6     47             Tennessee        6346105   \n48      40      3        7     48                 Texas       25145561   \n49      40      4        8     49                  Utah        2763885   \n50      40      1        1     50               Vermont         625741   \n51      40      3        5     51              Virginia        8001024   \n52      40      4        9     53            Washington        6724540   \n53      40      3        5     54         West Virginia        1852994   \n54      40      2        3     55             Wisconsin        5686986   \n55      40      4        8     56               Wyoming         563626   \n56      40      X        X     72           Puerto Rico        3725789   \n\n    estimatesbase2010  popestimate2010  popestimate2011  popestimate2012  \\\n0           308758105        309327143        311583481        313877662   \n1            55318414         55380764         55608318         55782661   \n2            66929737         66975328         67164092         67348275   \n3           114563042        114869421        116019483        117264196   \n4            71946912         72101630         72791588         73482530   \n5             4780118          4785514          4799642          4816632   \n6              710246           713982           722349           730810   \n7             6392292          6407342          6473416          6556344   \n8             2916029          2921998          2941038          2952876   \n9            37254522         37319550         37636311         37944551   \n10            5029319          5047539          5121900          5193660   \n11            3574151          3579173          3588632          3595211   \n12             897947           899647           907590           915518   \n13             601767           605282           620290           635737   \n14           18804589         18846143         19055607         19302016   \n15            9688737          9712209          9803630          9903580   \n16            1360304          1364004          1379562          1395199   \n17            1567658          1570819          1584272          1595910   \n18           12831572         12840545         12867783         12883029   \n19            6484050          6490555          6517250          6538989   \n20            3046877          3050819          3066772          3076844   \n21            2853120          2858266          2869677          2886024   \n22            4339330          4348464          4370817          4387865   \n23            4533500          4544635          4576244          4602067   \n24            1328354          1327651          1328473          1328094   \n25            5773787          5788784          5840241          5888375   \n26            6547788          6566440          6614218          6664269   \n27            9884112          9877597          9883053          9898289   \n28            5303933          5310934          5346620          5377500   \n29            2968129          2970615          2979147          2984599   \n30            5988941          5996089          6011182          6026027   \n31             989400           990730           997518          1004168   \n32            1826311          1829591          1840914          1853691   \n33            2700683          2702483          2713114          2744670   \n34            1316457          1316807          1320444          1324677   \n35            8791959          8799451          8828552          8845671   \n36            2059199          2064614          2080707          2087715   \n37           19378117         19399956         19499921         19574362   \n38            9535762          9574586          9658913          9751810   \n39             672575           674752           685526           702227   \n40           11536763         11539449         11545735         11550971   \n41            3751582          3760014          3788824          3819320   \n42            3831083          3837614          3872672          3900102   \n43           12702891         12711406         12747052         12769123   \n44            1052970          1053994          1053829          1054893   \n45            4625358          4635846          4672655          4719027   \n46             814198           816193           823740           833859   \n47            6346281          6355518          6400298          6455752   \n48           25146072         25241897         25645504         26084120   \n49            2763891          2775413          2814797          2854146   \n50             625727           625886           627197           626361   \n51            8001046          8024004          8102437          8187456   \n52            6724540          6743009          6827479          6898599   \n53            1853008          1854265          1856606          1857446   \n54            5687285          5690538          5705840          5720825   \n55             563775           564531           567491           576656   \n56            3726157          3721525          3678732          3634488   \n\n    popestimate2013  popestimate2014  popestimate2015  popestimate2016  \\\n0         316059947        318386329        320738994        323071755   \n1          55912775         56021339         56052790         56063777   \n2          67576524         67765576         67885682         68018175   \n3         118397213        119666248        121049223        122419547   \n4          74173435         74933166         75751299         76570256   \n5           4831586          4843737          4854803          4866824   \n6            737626           737075           738430           742575   \n7           6634690          6732873          6832810          6944767   \n8           2960459          2968759          2979732          2991815   \n9          38253768         38586706         38904296         39149186   \n10          5270774          5352637          5454328          5543844   \n11          3595792          3595697          3588561          3579830   \n12           924062           933131           942065           949989   \n13           651559           663603           677014           687576   \n14         19551678         19853880         20219111         20627237   \n15          9975592         10071204         10183353         10308442   \n16          1408822          1415335          1422999          1428885   \n17          1612053          1632248          1652495          1684036   \n18         12895778         12885092         12859585         12821709   \n19          6570575          6596019          6611442          6637898   \n20          3093935          3110643          3122541          3133210   \n21          2894306          2901861          2910717          2912977   \n22          4406906          4416992          4429126          4440306   \n23          4626040          4645938          4666998          4681346   \n24          1328543          1331217          1329098          1332348   \n25          5925197          5960064          5988528          6007014   \n26          6715158          6764864          6797484          6827280   \n27          9914802          9932033          9934483          9954117   \n28          5414722          5452665          5484002          5525360   \n29          2989839          2991892          2990231          2990595   \n30          6042989          6059130          6075411          6091384   \n31          1014158          1022657          1031495          1042137   \n32          1865813          1879955          1892059          1906483   \n33          2776956          2818935          2868531          2919555   \n34          1327272          1334257          1337480          1343694   \n35          8857821          8867277          8870312          8873584   \n36          2092833          2090236          2090071          2092555   \n37         19626488         19653431         19657321         19636391   \n38          9846717          9937295         10037218         10161802   \n39           723149           738736           755537           756114   \n40         11579692         11606573         11622315         11640060   \n41          3853891          3879187          3910518          3928143   \n42          3924110          3965447          4018542          4093271   \n43         12779538         12792392         12789838         12788468   \n44          1055560          1056511          1056886          1057816   \n45          4766469          4826858          4896006          4963031   \n46           842751           849670           854663           863693   \n47          6496943          6544617          6595354          6651277   \n48         26479646         26963092         27468531         27914064   \n49          2898773          2938327          2983626          3044241   \n50           626603           625693           625810           624366   \n51          8255861          8315430          8367303          8417651   \n52          6966252          7057531          7167287          7299961   \n53          1854768          1850569          1843332          1832435   \n54          5738012          5753199          5762927          5775170   \n55           582620           583159           586389           585243   \n56          3593077          3534874          3473232          3406672   \n\n    popestimate2017  popestimate2018  popestimate2019  popestimate042020  \\\n0         325122128        326838199        328329953          329398742   \n1          56083383         56084543         56002934           55924275   \n2          68160342         68263019         68340091           68357895   \n3         123611036        124649156        125686544          126494232   \n4          77267367         77841481         78300384           78622340   \n5           4877989          4891628          4907965            4920706   \n6            740983           736624           733603             732074   \n7           7048088          7164228          7291843            7393900   \n8           3003855          3012161          3020985            3029672   \n9          39337785         39437463         39437610           39418894   \n10          5617421          5697155          5758486            5798266   \n11          3575324          3574561          3566022            3561494   \n12           957942           966985           976668             984899   \n13           697079           704147           708253             712185   \n14         20977089         21254926         21492056           21688239   \n15         10417031         10519389         10628020           10695662   \n16          1425763          1423102          1415615            1410587   \n17          1719745          1752074          1789060            1818238   \n18         12779893         12724685         12667017           12615162   \n19          6662068          6698481          6731010            6752183   \n20          3143734          3149900          3159596            3164115   \n21          2910892          2912748          2912635            2915024   \n22          4455590          4464273          4472345            4477899   \n23          4673673          4664450          4658285            4650984   \n24          1335743          1340123          1345770            1349647   \n25          6028186          6042153          6054954            6059529   \n26          6863560          6885720          6894883            6898116   \n27          9976752          9987286          9984795            9976330   \n28          5569283          5608762          5640053            5655855   \n29          2990674          2982879          2978227            2971253   \n30          6111382          6125986          6140475            6151737   \n31          1053862          1061818          1070123            1078405   \n32          1916998          1925512          1932571            1937258   \n33          2972097          3030725          3090771            3128500   \n34          1350395          1355064          1360783            1365533   \n35          8888147          8891730          8891258            8890883   \n36          2092844          2093754          2099634            2106117   \n37         19593849         19544098         19463131           19382373   \n38         10275758         10391358         10501384           10581885   \n39           756755           760062           763724             765224   \n40         11665706         11680892         11696507           11699855   \n41          3933602          3943488          3960676            3977682   \n42          4147294          4183538          4216116            4237408   \n43         12794679         12809107         12798883           12794404   \n44          1056554          1059338          1058158            1058004   \n45          5027102          5091702          5157702            5205864   \n46           873732           879386           887127             891688   \n47          6714748          6778180          6830325            6875939   \n48         28291024         28624564         28986794           29286467   \n49          3103540          3155153          3203383            3239542   \n50           625132           624802           624046             623821   \n51          8471011          8510920          8556642            8587217   \n52          7427951          7526793          7614024            7678379   \n53          1818683          1805953          1795263            1788150   \n54          5793147          5809319          5824581            5833464   \n55           579994           579054           580116             582030   \n56          3325284          3193344          3193553            3167851   \n\n    popestimate2020  \n0         329484123  \n1          55849869  \n2          68316744  \n3         126662754  \n4          78654756  \n5           4921532  \n6            731158  \n7           7421401  \n8           3030522  \n9          39368078  \n10          5807719  \n11          3557006  \n12           986809  \n13           712816  \n14         21733312  \n15         10710017  \n16          1407006  \n17          1826913  \n18         12587530  \n19          6754953  \n20          3163561  \n21          2913805  \n22          4477251  \n23          4645318  \n24          1350141  \n25          6055802  \n26          6893574  \n27          9966555  \n28          5657342  \n29          2966786  \n30          6151548  \n31          1080577  \n32          1937552  \n33          3138259  \n34          1366275  \n35          8882371  \n36          2106319  \n37         19336776  \n38         10600823  \n39           765309  \n40         11693217  \n41          3980783  \n42          4241507  \n43         12783254  \n44          1057125  \n45          5218040  \n46           892717  \n47          6886834  \n48         29360759  \n49          3249879  \n50           623347  \n51          8590563  \n52          7693612  \n53          1784787  \n54          5832655  \n55           582328  \n56          3159343  ",
      "text/html": "<div>\n<style scoped>\n    .dataframe tbody tr th:only-of-type {\n        vertical-align: middle;\n    }\n\n    .dataframe tbody tr th {\n        vertical-align: top;\n    }\n\n    .dataframe thead th {\n        text-align: right;\n    }\n</style>\n<table border=\"1\" class=\"dataframe\">\n  <thead>\n    <tr style=\"text-align: right;\">\n      <th></th>\n      <th>sumlev</th>\n      <th>region</th>\n      <th>division</th>\n      <th>state</th>\n      <th>name</th>\n      <th>census2010pop</th>\n      <th>estimatesbase2010</th>\n      <th>popestimate2010</th>\n      <th>popestimate2011</th>\n      <th>popestimate2012</th>\n      <th>popestimate2013</th>\n      <th>popestimate2014</th>\n      <th>popestimate2015</th>\n      <th>popestimate2016</th>\n      <th>popestimate2017</th>\n      <th>popestimate2018</th>\n      <th>popestimate2019</th>\n      <th>popestimate042020</th>\n      <th>popestimate2020</th>\n    </tr>\n  </thead>\n  <tbody>\n    <tr>\n      <th>0</th>\n      <td>10</td>\n      <td>0</td>\n      <td>0</td>\n      <td>0</td>\n      <td>United States</td>\n      <td>308745538</td>\n      <td>308758105</td>\n      <td>309327143</td>\n      <td>311583481</td>\n      <td>313877662</td>\n      <td>316059947</td>\n      <td>318386329</td>\n      <td>320738994</td>\n      <td>323071755</td>\n      <td>325122128</td>\n      <td>326838199</td>\n      <td>328329953</td>\n      <td>329398742</td>\n      <td>329484123</td>\n    </tr>\n    <tr>\n      <th>1</th>\n      <td>20</td>\n      <td>1</td>\n      <td>0</td>\n      <td>0</td>\n      <td>Northeast Region</td>\n      <td>55317240</td>\n      <td>55318414</td>\n      <td>55380764</td>\n      <td>55608318</td>\n      <td>55782661</td>\n      <td>55912775</td>\n      <td>56021339</td>\n      <td>56052790</td>\n      <td>56063777</td>\n      <td>56083383</td>\n      <td>56084543</td>\n      <td>56002934</td>\n      <td>55924275</td>\n      <td>55849869</td>\n    </tr>\n    <tr>\n      <th>2</th>\n      <td>20</td>\n      <td>2</td>\n      <td>0</td>\n      <td>0</td>\n      <td>Midwest Region</td>\n      <td>66927001</td>\n      <td>66929737</td>\n      <td>66975328</td>\n      <td>67164092</td>\n      <td>67348275</td>\n      <td>67576524</td>\n      <td>67765576</td>\n      <td>67885682</td>\n      <td>68018175</td>\n      <td>68160342</td>\n      <td>68263019</td>\n      <td>68340091</td>\n      <td>68357895</td>\n      <td>68316744</td>\n    </tr>\n    <tr>\n      <th>3</th>\n      <td>20</td>\n      <td>3</td>\n      <td>0</td>\n      <td>0</td>\n      <td>South Region</td>\n      <td>114555744</td>\n      <td>114563042</td>\n      <td>114869421</td>\n      <td>116019483</td>\n      <td>117264196</td>\n      <td>118397213</td>\n      <td>119666248</td>\n      <td>121049223</td>\n      <td>122419547</td>\n      <td>123611036</td>\n      <td>124649156</td>\n      <td>125686544</td>\n      <td>126494232</td>\n      <td>126662754</td>\n    </tr>\n    <tr>\n      <th>4</th>\n      <td>20</td>\n      <td>4</td>\n      <td>0</td>\n      <td>0</td>\n      <td>West Region</td>\n      <td>71945553</td>\n      <td>71946912</td>\n      <td>72101630</td>\n      <td>72791588</td>\n      <td>73482530</td>\n      <td>74173435</td>\n      <td>74933166</td>\n      <td>75751299</td>\n      <td>76570256</td>\n      <td>77267367</td>\n      <td>77841481</td>\n      <td>78300384</td>\n      <td>78622340</td>\n      <td>78654756</td>\n    </tr>\n    <tr>\n      <th>5</th>\n      <td>40</td>\n      <td>3</td>\n      <td>6</td>\n      <td>1</td>\n      <td>Alabama</td>\n      <td>4779736</td>\n      <td>4780118</td>\n      <td>4785514</td>\n      <td>4799642</td>\n      <td>4816632</td>\n      <td>4831586</td>\n      <td>4843737</td>\n      <td>4854803</td>\n      <td>4866824</td>\n      <td>4877989</td>\n      <td>4891628</td>\n      <td>4907965</td>\n      <td>4920706</td>\n      <td>4921532</td>\n    </tr>\n    <tr>\n      <th>6</th>\n      <td>40</td>\n      <td>4</td>\n      <td>9</td>\n      <td>2</td>\n      <td>Alaska</td>\n      <td>710231</td>\n      <td>710246</td>\n      <td>713982</td>\n      <td>722349</td>\n      <td>730810</td>\n      <td>737626</td>\n      <td>737075</td>\n      <td>738430</td>\n      <td>742575</td>\n      <td>740983</td>\n      <td>736624</td>\n      <td>733603</td>\n      <td>732074</td>\n      <td>731158</td>\n    </tr>\n    <tr>\n      <th>7</th>\n      <td>40</td>\n      <td>4</td>\n      <td>8</td>\n      <td>4</td>\n      <td>Arizona</td>\n      <td>6392017</td>\n      <td>6392292</td>\n      <td>6407342</td>\n      <td>6473416</td>\n      <td>6556344</td>\n      <td>6634690</td>\n      <td>6732873</td>\n      <td>6832810</td>\n      <td>6944767</td>\n      <td>7048088</td>\n      <td>7164228</td>\n      <td>7291843</td>\n      <td>7393900</td>\n      <td>7421401</td>\n    </tr>\n    <tr>\n      <th>8</th>\n      <td>40</td>\n      <td>3</td>\n      <td>7</td>\n      <td>5</td>\n      <td>Arkansas</td>\n      <td>2915918</td>\n      <td>2916029</td>\n      <td>2921998</td>\n      <td>2941038</td>\n      <td>2952876</td>\n      <td>2960459</td>\n      <td>2968759</td>\n      <td>2979732</td>\n      <td>2991815</td>\n      <td>3003855</td>\n      <td>3012161</td>\n      <td>3020985</td>\n      <td>3029672</td>\n      <td>3030522</td>\n    </tr>\n    <tr>\n      <th>9</th>\n      <td>40</td>\n      <td>4</td>\n      <td>9</td>\n      <td>6</td>\n      <td>California</td>\n      <td>37253956</td>\n      <td>37254522</td>\n      <td>37319550</td>\n      <td>37636311</td>\n      <td>37944551</td>\n      <td>38253768</td>\n      <td>38586706</td>\n      <td>38904296</td>\n      <td>39149186</td>\n      <td>39337785</td>\n      <td>39437463</td>\n      <td>39437610</td>\n      <td>39418894</td>\n      <td>39368078</td>\n    </tr>\n    <tr>\n      <th>10</th>\n      <td>40</td>\n      <td>4</td>\n      <td>8</td>\n      <td>8</td>\n      <td>Colorado</td>\n      <td>5029196</td>\n      <td>5029319</td>\n      <td>5047539</td>\n      <td>5121900</td>\n      <td>5193660</td>\n      <td>5270774</td>\n      <td>5352637</td>\n      <td>5454328</td>\n      <td>5543844</td>\n      <td>5617421</td>\n      <td>5697155</td>\n      <td>5758486</td>\n      <td>5798266</td>\n      <td>5807719</td>\n    </tr>\n    <tr>\n      <th>11</th>\n      <td>40</td>\n      <td>1</td>\n      <td>1</td>\n      <td>9</td>\n      <td>Connecticut</td>\n      <td>3574097</td>\n      <td>3574151</td>\n      <td>3579173</td>\n      <td>3588632</td>\n      <td>3595211</td>\n      <td>3595792</td>\n      <td>3595697</td>\n      <td>3588561</td>\n      <td>3579830</td>\n      <td>3575324</td>\n      <td>3574561</td>\n      <td>3566022</td>\n      <td>3561494</td>\n      <td>3557006</td>\n    </tr>\n    <tr>\n      <th>12</th>\n      <td>40</td>\n      <td>3</td>\n      <td>5</td>\n      <td>10</td>\n      <td>Delaware</td>\n      <td>897934</td>\n      <td>897947</td>\n      <td>899647</td>\n      <td>907590</td>\n      <td>915518</td>\n      <td>924062</td>\n      <td>933131</td>\n      <td>942065</td>\n      <td>949989</td>\n      <td>957942</td>\n      <td>966985</td>\n      <td>976668</td>\n      <td>984899</td>\n      <td>986809</td>\n    </tr>\n    <tr>\n      <th>13</th>\n      <td>40</td>\n      <td>3</td>\n      <td>5</td>\n      <td>11</td>\n      <td>District of Columbia</td>\n      <td>601723</td>\n      <td>601767</td>\n      <td>605282</td>\n      <td>620290</td>\n      <td>635737</td>\n      <td>651559</td>\n      <td>663603</td>\n      <td>677014</td>\n      <td>687576</td>\n      <td>697079</td>\n      <td>704147</td>\n      <td>708253</td>\n      <td>712185</td>\n      <td>712816</td>\n    </tr>\n    <tr>\n      <th>14</th>\n      <td>40</td>\n      <td>3</td>\n      <td>5</td>\n      <td>12</td>\n      <td>Florida</td>\n      <td>18801310</td>\n      <td>18804589</td>\n      <td>18846143</td>\n      <td>19055607</td>\n      <td>19302016</td>\n      <td>19551678</td>\n      <td>19853880</td>\n      <td>20219111</td>\n      <td>20627237</td>\n      <td>20977089</td>\n      <td>21254926</td>\n      <td>21492056</td>\n      <td>21688239</td>\n      <td>21733312</td>\n    </tr>\n    <tr>\n      <th>15</th>\n      <td>40</td>\n      <td>3</td>\n      <td>5</td>\n      <td>13</td>\n      <td>Georgia</td>\n      <td>9687653</td>\n      <td>9688737</td>\n      <td>9712209</td>\n      <td>9803630</td>\n      <td>9903580</td>\n      <td>9975592</td>\n      <td>10071204</td>\n      <td>10183353</td>\n      <td>10308442</td>\n      <td>10417031</td>\n      <td>10519389</td>\n      <td>10628020</td>\n      <td>10695662</td>\n      <td>10710017</td>\n    </tr>\n    <tr>\n      <th>16</th>\n      <td>40</td>\n      <td>4</td>\n      <td>9</td>\n      <td>15</td>\n      <td>Hawaii</td>\n      <td>1360301</td>\n      <td>1360304</td>\n      <td>1364004</td>\n      <td>1379562</td>\n      <td>1395199</td>\n      <td>1408822</td>\n      <td>1415335</td>\n      <td>1422999</td>\n      <td>1428885</td>\n      <td>1425763</td>\n      <td>1423102</td>\n      <td>1415615</td>\n      <td>1410587</td>\n      <td>1407006</td>\n    </tr>\n    <tr>\n      <th>17</th>\n      <td>40</td>\n      <td>4</td>\n      <td>8</td>\n      <td>16</td>\n      <td>Idaho</td>\n      <td>1567582</td>\n      <td>1567658</td>\n      <td>1570819</td>\n      <td>1584272</td>\n      <td>1595910</td>\n      <td>1612053</td>\n      <td>1632248</td>\n      <td>1652495</td>\n      <td>1684036</td>\n      <td>1719745</td>\n      <td>1752074</td>\n      <td>1789060</td>\n      <td>1818238</td>\n      <td>1826913</td>\n    </tr>\n    <tr>\n      <th>18</th>\n      <td>40</td>\n      <td>2</td>\n      <td>3</td>\n      <td>17</td>\n      <td>Illinois</td>\n      <td>12830632</td>\n      <td>12831572</td>\n      <td>12840545</td>\n      <td>12867783</td>\n      <td>12883029</td>\n      <td>12895778</td>\n      <td>12885092</td>\n      <td>12859585</td>\n      <td>12821709</td>\n      <td>12779893</td>\n      <td>12724685</td>\n      <td>12667017</td>\n      <td>12615162</td>\n      <td>12587530</td>\n    </tr>\n    <tr>\n      <th>19</th>\n      <td>40</td>\n      <td>2</td>\n      <td>3</td>\n      <td>18</td>\n      <td>Indiana</td>\n      <td>6483802</td>\n      <td>6484050</td>\n      <td>6490555</td>\n      <td>6517250</td>\n      <td>6538989</td>\n      <td>6570575</td>\n      <td>6596019</td>\n      <td>6611442</td>\n      <td>6637898</td>\n      <td>6662068</td>\n      <td>6698481</td>\n      <td>6731010</td>\n      <td>6752183</td>\n      <td>6754953</td>\n    </tr>\n    <tr>\n      <th>20</th>\n      <td>40</td>\n      <td>2</td>\n      <td>4</td>\n      <td>19</td>\n      <td>Iowa</td>\n      <td>3046355</td>\n      <td>3046877</td>\n      <td>3050819</td>\n      <td>3066772</td>\n      <td>3076844</td>\n      <td>3093935</td>\n      <td>3110643</td>\n      <td>3122541</td>\n      <td>3133210</td>\n      <td>3143734</td>\n      <td>3149900</td>\n      <td>3159596</td>\n      <td>3164115</td>\n      <td>3163561</td>\n    </tr>\n    <tr>\n      <th>21</th>\n      <td>40</td>\n      <td>2</td>\n      <td>4</td>\n      <td>20</td>\n      <td>Kansas</td>\n      <td>2853118</td>\n      <td>2853120</td>\n      <td>2858266</td>\n      <td>2869677</td>\n      <td>2886024</td>\n      <td>2894306</td>\n      <td>2901861</td>\n      <td>2910717</td>\n      <td>2912977</td>\n      <td>2910892</td>\n      <td>2912748</td>\n      <td>2912635</td>\n      <td>2915024</td>\n      <td>2913805</td>\n    </tr>\n    <tr>\n      <th>22</th>\n      <td>40</td>\n      <td>3</td>\n      <td>6</td>\n      <td>21</td>\n      <td>Kentucky</td>\n      <td>4339367</td>\n      <td>4339330</td>\n      <td>4348464</td>\n      <td>4370817</td>\n      <td>4387865</td>\n      <td>4406906</td>\n      <td>4416992</td>\n      <td>4429126</td>\n      <td>4440306</td>\n      <td>4455590</td>\n      <td>4464273</td>\n      <td>4472345</td>\n      <td>4477899</td>\n      <td>4477251</td>\n    </tr>\n    <tr>\n      <th>23</th>\n      <td>40</td>\n      <td>3</td>\n      <td>7</td>\n      <td>22</td>\n      <td>Louisiana</td>\n      <td>4533372</td>\n      <td>4533500</td>\n      <td>4544635</td>\n      <td>4576244</td>\n      <td>4602067</td>\n      <td>4626040</td>\n      <td>4645938</td>\n      <td>4666998</td>\n      <td>4681346</td>\n      <td>4673673</td>\n      <td>4664450</td>\n      <td>4658285</td>\n      <td>4650984</td>\n      <td>4645318</td>\n    </tr>\n    <tr>\n      <th>24</th>\n      <td>40</td>\n      <td>1</td>\n      <td>1</td>\n      <td>23</td>\n      <td>Maine</td>\n      <td>1328361</td>\n      <td>1328354</td>\n      <td>1327651</td>\n      <td>1328473</td>\n      <td>1328094</td>\n      <td>1328543</td>\n      <td>1331217</td>\n      <td>1329098</td>\n      <td>1332348</td>\n      <td>1335743</td>\n      <td>1340123</td>\n      <td>1345770</td>\n      <td>1349647</td>\n      <td>1350141</td>\n    </tr>\n    <tr>\n      <th>25</th>\n      <td>40</td>\n      <td>3</td>\n      <td>5</td>\n      <td>24</td>\n      <td>Maryland</td>\n      <td>5773552</td>\n      <td>5773787</td>\n      <td>5788784</td>\n      <td>5840241</td>\n      <td>5888375</td>\n      <td>5925197</td>\n      <td>5960064</td>\n      <td>5988528</td>\n      <td>6007014</td>\n      <td>6028186</td>\n      <td>6042153</td>\n      <td>6054954</td>\n      <td>6059529</td>\n      <td>6055802</td>\n    </tr>\n    <tr>\n      <th>26</th>\n      <td>40</td>\n      <td>1</td>\n      <td>1</td>\n      <td>25</td>\n      <td>Massachusetts</td>\n      <td>6547629</td>\n      <td>6547788</td>\n      <td>6566440</td>\n      <td>6614218</td>\n      <td>6664269</td>\n      <td>6715158</td>\n      <td>6764864</td>\n      <td>6797484</td>\n      <td>6827280</td>\n      <td>6863560</td>\n      <td>6885720</td>\n      <td>6894883</td>\n      <td>6898116</td>\n      <td>6893574</td>\n    </tr>\n    <tr>\n      <th>27</th>\n      <td>40</td>\n      <td>2</td>\n      <td>3</td>\n      <td>26</td>\n      <td>Michigan</td>\n      <td>9883640</td>\n      <td>9884112</td>\n      <td>9877597</td>\n      <td>9883053</td>\n      <td>9898289</td>\n      <td>9914802</td>\n      <td>9932033</td>\n      <td>9934483</td>\n      <td>9954117</td>\n      <td>9976752</td>\n      <td>9987286</td>\n      <td>9984795</td>\n      <td>9976330</td>\n      <td>9966555</td>\n    </tr>\n    <tr>\n      <th>28</th>\n      <td>40</td>\n      <td>2</td>\n      <td>4</td>\n      <td>27</td>\n      <td>Minnesota</td>\n      <td>5303925</td>\n      <td>5303933</td>\n      <td>5310934</td>\n      <td>5346620</td>\n      <td>5377500</td>\n      <td>5414722</td>\n      <td>5452665</td>\n      <td>5484002</td>\n      <td>5525360</td>\n      <td>5569283</td>\n      <td>5608762</td>\n      <td>5640053</td>\n      <td>5655855</td>\n      <td>5657342</td>\n    </tr>\n    <tr>\n      <th>29</th>\n      <td>40</td>\n      <td>3</td>\n      <td>6</td>\n      <td>28</td>\n      <td>Mississippi</td>\n      <td>2967297</td>\n      <td>2968129</td>\n      <td>2970615</td>\n      <td>2979147</td>\n      <td>2984599</td>\n      <td>2989839</td>\n      <td>2991892</td>\n      <td>2990231</td>\n      <td>2990595</td>\n      <td>2990674</td>\n      <td>2982879</td>\n      <td>2978227</td>\n      <td>2971253</td>\n      <td>2966786</td>\n    </tr>\n    <tr>\n      <th>30</th>\n      <td>40</td>\n      <td>2</td>\n      <td>4</td>\n      <td>29</td>\n      <td>Missouri</td>\n      <td>5988927</td>\n      <td>5988941</td>\n      <td>5996089</td>\n      <td>6011182</td>\n      <td>6026027</td>\n      <td>6042989</td>\n      <td>6059130</td>\n      <td>6075411</td>\n      <td>6091384</td>\n      <td>6111382</td>\n      <td>6125986</td>\n      <td>6140475</td>\n      <td>6151737</td>\n      <td>6151548</td>\n    </tr>\n    <tr>\n      <th>31</th>\n      <td>40</td>\n      <td>4</td>\n      <td>8</td>\n      <td>30</td>\n      <td>Montana</td>\n      <td>989415</td>\n      <td>989400</td>\n      <td>990730</td>\n      <td>997518</td>\n      <td>1004168</td>\n      <td>1014158</td>\n      <td>1022657</td>\n      <td>1031495</td>\n      <td>1042137</td>\n      <td>1053862</td>\n      <td>1061818</td>\n      <td>1070123</td>\n      <td>1078405</td>\n      <td>1080577</td>\n    </tr>\n    <tr>\n      <th>32</th>\n      <td>40</td>\n      <td>2</td>\n      <td>4</td>\n      <td>31</td>\n      <td>Nebraska</td>\n      <td>1826341</td>\n      <td>1826311</td>\n      <td>1829591</td>\n      <td>1840914</td>\n      <td>1853691</td>\n      <td>1865813</td>\n      <td>1879955</td>\n      <td>1892059</td>\n      <td>1906483</td>\n      <td>1916998</td>\n      <td>1925512</td>\n      <td>1932571</td>\n      <td>1937258</td>\n      <td>1937552</td>\n    </tr>\n    <tr>\n      <th>33</th>\n      <td>40</td>\n      <td>4</td>\n      <td>8</td>\n      <td>32</td>\n      <td>Nevada</td>\n      <td>2700551</td>\n      <td>2700683</td>\n      <td>2702483</td>\n      <td>2713114</td>\n      <td>2744670</td>\n      <td>2776956</td>\n      <td>2818935</td>\n      <td>2868531</td>\n      <td>2919555</td>\n      <td>2972097</td>\n      <td>3030725</td>\n      <td>3090771</td>\n      <td>3128500</td>\n      <td>3138259</td>\n    </tr>\n    <tr>\n      <th>34</th>\n      <td>40</td>\n      <td>1</td>\n      <td>1</td>\n      <td>33</td>\n      <td>New Hampshire</td>\n      <td>1316470</td>\n      <td>1316457</td>\n      <td>1316807</td>\n      <td>1320444</td>\n      <td>1324677</td>\n      <td>1327272</td>\n      <td>1334257</td>\n      <td>1337480</td>\n      <td>1343694</td>\n      <td>1350395</td>\n      <td>1355064</td>\n      <td>1360783</td>\n      <td>1365533</td>\n      <td>1366275</td>\n    </tr>\n    <tr>\n      <th>35</th>\n      <td>40</td>\n      <td>1</td>\n      <td>2</td>\n      <td>34</td>\n      <td>New Jersey</td>\n      <td>8791894</td>\n      <td>8791959</td>\n      <td>8799451</td>\n      <td>8828552</td>\n      <td>8845671</td>\n      <td>8857821</td>\n      <td>8867277</td>\n      <td>8870312</td>\n      <td>8873584</td>\n      <td>8888147</td>\n      <td>8891730</td>\n      <td>8891258</td>\n      <td>8890883</td>\n      <td>8882371</td>\n    </tr>\n    <tr>\n      <th>36</th>\n      <td>40</td>\n      <td>4</td>\n      <td>8</td>\n      <td>35</td>\n      <td>New Mexico</td>\n      <td>2059179</td>\n      <td>2059199</td>\n      <td>2064614</td>\n      <td>2080707</td>\n      <td>2087715</td>\n      <td>2092833</td>\n      <td>2090236</td>\n      <td>2090071</td>\n      <td>2092555</td>\n      <td>2092844</td>\n      <td>2093754</td>\n      <td>2099634</td>\n      <td>2106117</td>\n      <td>2106319</td>\n    </tr>\n    <tr>\n      <th>37</th>\n      <td>40</td>\n      <td>1</td>\n      <td>2</td>\n      <td>36</td>\n      <td>New York</td>\n      <td>19378102</td>\n      <td>19378117</td>\n      <td>19399956</td>\n      <td>19499921</td>\n      <td>19574362</td>\n      <td>19626488</td>\n      <td>19653431</td>\n      <td>19657321</td>\n      <td>19636391</td>\n      <td>19593849</td>\n      <td>19544098</td>\n      <td>19463131</td>\n      <td>19382373</td>\n      <td>19336776</td>\n    </tr>\n    <tr>\n      <th>38</th>\n      <td>40</td>\n      <td>3</td>\n      <td>5</td>\n      <td>37</td>\n      <td>North Carolina</td>\n      <td>9535483</td>\n      <td>9535762</td>\n      <td>9574586</td>\n      <td>9658913</td>\n      <td>9751810</td>\n      <td>9846717</td>\n      <td>9937295</td>\n      <td>10037218</td>\n      <td>10161802</td>\n      <td>10275758</td>\n      <td>10391358</td>\n      <td>10501384</td>\n      <td>10581885</td>\n      <td>10600823</td>\n    </tr>\n    <tr>\n      <th>39</th>\n      <td>40</td>\n      <td>2</td>\n      <td>4</td>\n      <td>38</td>\n      <td>North Dakota</td>\n      <td>672591</td>\n      <td>672575</td>\n      <td>674752</td>\n      <td>685526</td>\n      <td>702227</td>\n      <td>723149</td>\n      <td>738736</td>\n      <td>755537</td>\n      <td>756114</td>\n      <td>756755</td>\n      <td>760062</td>\n      <td>763724</td>\n      <td>765224</td>\n      <td>765309</td>\n    </tr>\n    <tr>\n      <th>40</th>\n      <td>40</td>\n      <td>2</td>\n      <td>3</td>\n      <td>39</td>\n      <td>Ohio</td>\n      <td>11536504</td>\n      <td>11536763</td>\n      <td>11539449</td>\n      <td>11545735</td>\n      <td>11550971</td>\n      <td>11579692</td>\n      <td>11606573</td>\n      <td>11622315</td>\n      <td>11640060</td>\n      <td>11665706</td>\n      <td>11680892</td>\n      <td>11696507</td>\n      <td>11699855</td>\n      <td>11693217</td>\n    </tr>\n    <tr>\n      <th>41</th>\n      <td>40</td>\n      <td>3</td>\n      <td>7</td>\n      <td>40</td>\n      <td>Oklahoma</td>\n      <td>3751351</td>\n      <td>3751582</td>\n      <td>3760014</td>\n      <td>3788824</td>\n      <td>3819320</td>\n      <td>3853891</td>\n      <td>3879187</td>\n      <td>3910518</td>\n      <td>3928143</td>\n      <td>3933602</td>\n      <td>3943488</td>\n      <td>3960676</td>\n      <td>3977682</td>\n      <td>3980783</td>\n    </tr>\n    <tr>\n      <th>42</th>\n      <td>40</td>\n      <td>4</td>\n      <td>9</td>\n      <td>41</td>\n      <td>Oregon</td>\n      <td>3831074</td>\n      <td>3831083</td>\n      <td>3837614</td>\n      <td>3872672</td>\n      <td>3900102</td>\n      <td>3924110</td>\n      <td>3965447</td>\n      <td>4018542</td>\n      <td>4093271</td>\n      <td>4147294</td>\n      <td>4183538</td>\n      <td>4216116</td>\n      <td>4237408</td>\n      <td>4241507</td>\n    </tr>\n    <tr>\n      <th>43</th>\n      <td>40</td>\n      <td>1</td>\n      <td>2</td>\n      <td>42</td>\n      <td>Pennsylvania</td>\n      <td>12702379</td>\n      <td>12702891</td>\n      <td>12711406</td>\n      <td>12747052</td>\n      <td>12769123</td>\n      <td>12779538</td>\n      <td>12792392</td>\n      <td>12789838</td>\n      <td>12788468</td>\n      <td>12794679</td>\n      <td>12809107</td>\n      <td>12798883</td>\n      <td>12794404</td>\n      <td>12783254</td>\n    </tr>\n    <tr>\n      <th>44</th>\n      <td>40</td>\n      <td>1</td>\n      <td>1</td>\n      <td>44</td>\n      <td>Rhode Island</td>\n      <td>1052567</td>\n      <td>1052970</td>\n      <td>1053994</td>\n      <td>1053829</td>\n      <td>1054893</td>\n      <td>1055560</td>\n      <td>1056511</td>\n      <td>1056886</td>\n      <td>1057816</td>\n      <td>1056554</td>\n      <td>1059338</td>\n      <td>1058158</td>\n      <td>1058004</td>\n      <td>1057125</td>\n    </tr>\n    <tr>\n      <th>45</th>\n      <td>40</td>\n      <td>3</td>\n      <td>5</td>\n      <td>45</td>\n      <td>South Carolina</td>\n      <td>4625364</td>\n      <td>4625358</td>\n      <td>4635846</td>\n      <td>4672655</td>\n      <td>4719027</td>\n      <td>4766469</td>\n      <td>4826858</td>\n      <td>4896006</td>\n      <td>4963031</td>\n      <td>5027102</td>\n      <td>5091702</td>\n      <td>5157702</td>\n      <td>5205864</td>\n      <td>5218040</td>\n    </tr>\n    <tr>\n      <th>46</th>\n      <td>40</td>\n      <td>2</td>\n      <td>4</td>\n      <td>46</td>\n      <td>South Dakota</td>\n      <td>814180</td>\n      <td>814198</td>\n      <td>816193</td>\n      <td>823740</td>\n      <td>833859</td>\n      <td>842751</td>\n      <td>849670</td>\n      <td>854663</td>\n      <td>863693</td>\n      <td>873732</td>\n      <td>879386</td>\n      <td>887127</td>\n      <td>891688</td>\n      <td>892717</td>\n    </tr>\n    <tr>\n      <th>47</th>\n      <td>40</td>\n      <td>3</td>\n      <td>6</td>\n      <td>47</td>\n      <td>Tennessee</td>\n      <td>6346105</td>\n      <td>6346281</td>\n      <td>6355518</td>\n      <td>6400298</td>\n      <td>6455752</td>\n      <td>6496943</td>\n      <td>6544617</td>\n      <td>6595354</td>\n      <td>6651277</td>\n      <td>6714748</td>\n      <td>6778180</td>\n      <td>6830325</td>\n      <td>6875939</td>\n      <td>6886834</td>\n    </tr>\n    <tr>\n      <th>48</th>\n      <td>40</td>\n      <td>3</td>\n      <td>7</td>\n      <td>48</td>\n      <td>Texas</td>\n      <td>25145561</td>\n      <td>25146072</td>\n      <td>25241897</td>\n      <td>25645504</td>\n      <td>26084120</td>\n      <td>26479646</td>\n      <td>26963092</td>\n      <td>27468531</td>\n      <td>27914064</td>\n      <td>28291024</td>\n      <td>28624564</td>\n      <td>28986794</td>\n      <td>29286467</td>\n      <td>29360759</td>\n    </tr>\n    <tr>\n      <th>49</th>\n      <td>40</td>\n      <td>4</td>\n      <td>8</td>\n      <td>49</td>\n      <td>Utah</td>\n      <td>2763885</td>\n      <td>2763891</td>\n      <td>2775413</td>\n      <td>2814797</td>\n      <td>2854146</td>\n      <td>2898773</td>\n      <td>2938327</td>\n      <td>2983626</td>\n      <td>3044241</td>\n      <td>3103540</td>\n      <td>3155153</td>\n      <td>3203383</td>\n      <td>3239542</td>\n      <td>3249879</td>\n    </tr>\n    <tr>\n      <th>50</th>\n      <td>40</td>\n      <td>1</td>\n      <td>1</td>\n      <td>50</td>\n      <td>Vermont</td>\n      <td>625741</td>\n      <td>625727</td>\n      <td>625886</td>\n      <td>627197</td>\n      <td>626361</td>\n      <td>626603</td>\n      <td>625693</td>\n      <td>625810</td>\n      <td>624366</td>\n      <td>625132</td>\n      <td>624802</td>\n      <td>624046</td>\n      <td>623821</td>\n      <td>623347</td>\n    </tr>\n    <tr>\n      <th>51</th>\n      <td>40</td>\n      <td>3</td>\n      <td>5</td>\n      <td>51</td>\n      <td>Virginia</td>\n      <td>8001024</td>\n      <td>8001046</td>\n      <td>8024004</td>\n      <td>8102437</td>\n      <td>8187456</td>\n      <td>8255861</td>\n      <td>8315430</td>\n      <td>8367303</td>\n      <td>8417651</td>\n      <td>8471011</td>\n      <td>8510920</td>\n      <td>8556642</td>\n      <td>8587217</td>\n      <td>8590563</td>\n    </tr>\n    <tr>\n      <th>52</th>\n      <td>40</td>\n      <td>4</td>\n      <td>9</td>\n      <td>53</td>\n      <td>Washington</td>\n      <td>6724540</td>\n      <td>6724540</td>\n      <td>6743009</td>\n      <td>6827479</td>\n      <td>6898599</td>\n      <td>6966252</td>\n      <td>7057531</td>\n      <td>7167287</td>\n      <td>7299961</td>\n      <td>7427951</td>\n      <td>7526793</td>\n      <td>7614024</td>\n      <td>7678379</td>\n      <td>7693612</td>\n    </tr>\n    <tr>\n      <th>53</th>\n      <td>40</td>\n      <td>3</td>\n      <td>5</td>\n      <td>54</td>\n      <td>West Virginia</td>\n      <td>1852994</td>\n      <td>1853008</td>\n      <td>1854265</td>\n      <td>1856606</td>\n      <td>1857446</td>\n      <td>1854768</td>\n      <td>1850569</td>\n      <td>1843332</td>\n      <td>1832435</td>\n      <td>1818683</td>\n      <td>1805953</td>\n      <td>1795263</td>\n      <td>1788150</td>\n      <td>1784787</td>\n    </tr>\n    <tr>\n      <th>54</th>\n      <td>40</td>\n      <td>2</td>\n      <td>3</td>\n      <td>55</td>\n      <td>Wisconsin</td>\n      <td>5686986</td>\n      <td>5687285</td>\n      <td>5690538</td>\n      <td>5705840</td>\n      <td>5720825</td>\n      <td>5738012</td>\n      <td>5753199</td>\n      <td>5762927</td>\n      <td>5775170</td>\n      <td>5793147</td>\n      <td>5809319</td>\n      <td>5824581</td>\n      <td>5833464</td>\n      <td>5832655</td>\n    </tr>\n    <tr>\n      <th>55</th>\n      <td>40</td>\n      <td>4</td>\n      <td>8</td>\n      <td>56</td>\n      <td>Wyoming</td>\n      <td>563626</td>\n      <td>563775</td>\n      <td>564531</td>\n      <td>567491</td>\n      <td>576656</td>\n      <td>582620</td>\n      <td>583159</td>\n      <td>586389</td>\n      <td>585243</td>\n      <td>579994</td>\n      <td>579054</td>\n      <td>580116</td>\n      <td>582030</td>\n      <td>582328</td>\n    </tr>\n    <tr>\n      <th>56</th>\n      <td>40</td>\n      <td>X</td>\n      <td>X</td>\n      <td>72</td>\n      <td>Puerto Rico</td>\n      <td>3725789</td>\n      <td>3726157</td>\n      <td>3721525</td>\n      <td>3678732</td>\n      <td>3634488</td>\n      <td>3593077</td>\n      <td>3534874</td>\n      <td>3473232</td>\n      <td>3406672</td>\n      <td>3325284</td>\n      <td>3193344</td>\n      <td>3193553</td>\n      <td>3167851</td>\n      <td>3159343</td>\n    </tr>\n  </tbody>\n</table>\n</div>"
     },
     "execution_count": 33,
     "metadata": {},
     "output_type": "execute_result"
    }
   ],
   "source": [
    "names = ['sumlev', 'region', 'division', 'state', 'name', 'census2010pop', 'estimatesbase2010', 'popestimate2010', 'popestimate2011', 'popestimate2012', 'popestimate2013', 'popestimate2014', 'popestimate2015', 'popestimate2016', 'popestimate2017', 'popestimate2018', 'popestimate2019', 'popestimate042020', 'popestimate2020']\n",
    "state_pops = pd.read_csv(\"data/nst-est2020.csv\", names=names, header=0)\n",
    "state_pops"
   ]
  }
 ],
 "metadata": {
  "kernelspec": {
   "display_name": "Python 3",
   "language": "python",
   "name": "python3"
  },
  "language_info": {
   "codemirror_mode": {
    "name": "ipython",
    "version": 3
   },
   "file_extension": ".py",
   "mimetype": "text/x-python",
   "name": "python",
   "nbconvert_exporter": "python",
   "pygments_lexer": "ipython3",
   "version": "3.8.8"
  }
 },
 "nbformat": 4,
 "nbformat_minor": 5
}
