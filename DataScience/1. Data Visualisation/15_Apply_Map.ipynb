{
 "cells": [
  {
   "cell_type": "markdown",
   "id": "e1c69c27",
   "metadata": {},
   "source": [
    "# Apply( ), Map( ), & ApplyMap( )"
   ]
  },
  {
   "cell_type": "code",
   "execution_count": 31,
   "id": "03456e07",
   "metadata": {},
   "outputs": [],
   "source": [
    "import pandas as pd"
   ]
  },
  {
   "cell_type": "code",
   "execution_count": 35,
   "id": "97c563cd",
   "metadata": {},
   "outputs": [],
   "source": [
    "titanic = pd.read_csv(\"data/titanic.csv\")\n",
    "titanic[\"age\"] = titanic[\"age\"].replace([\"?\"], [None]).astype(\"float\")\n",
    "titanic[\"fare\"] = titanic[\"fare\"].replace([\"?\"], [None]).astype(\"float\")"
   ]
  },
  {
   "cell_type": "markdown",
   "id": "9c6c439f",
   "metadata": {},
   "source": [
    "## The Series apply( ) method"
   ]
  },
  {
   "cell_type": "code",
   "execution_count": 42,
   "id": "e793fd29",
   "metadata": {},
   "outputs": [
    {
     "data": {
      "text/plain": [
       "0       10585.0000\n",
       "1         334.5955\n",
       "2         730.0000\n",
       "3       10950.0000\n",
       "4        9125.0000\n",
       "           ...    \n",
       "1304     5292.5000\n",
       "1305           NaN\n",
       "1306     9672.5000\n",
       "1307     9855.0000\n",
       "1308    10585.0000\n",
       "Name: age, Length: 1309, dtype: float64"
      ]
     },
     "execution_count": 42,
     "metadata": {},
     "output_type": "execute_result"
    }
   ],
   "source": [
    "def years_to_days(yrs):\n",
    "    return yrs*365\n",
    "\n",
    "titanic[\"age\"].apply(years_to_days)"
   ]
  },
  {
   "cell_type": "code",
   "execution_count": 44,
   "id": "ceff1248",
   "metadata": {},
   "outputs": [
    {
     "data": {
      "text/plain": [
       "0       10585.0000\n",
       "1         334.5955\n",
       "2         730.0000\n",
       "3       10950.0000\n",
       "4        9125.0000\n",
       "           ...    \n",
       "1304     5292.5000\n",
       "1305           NaN\n",
       "1306     9672.5000\n",
       "1307     9855.0000\n",
       "1308    10585.0000\n",
       "Name: age, Length: 1309, dtype: float64"
      ]
     },
     "execution_count": 44,
     "metadata": {},
     "output_type": "execute_result"
    }
   ],
   "source": [
    "titanic[\"age\"] * 365"
   ]
  },
  {
   "cell_type": "code",
   "execution_count": 45,
   "id": "96befa12",
   "metadata": {},
   "outputs": [],
   "source": [
    "def get_age_group(age):\n",
    "    if age < 2:\n",
    "        return \"infant\"\n",
    "    elif age < 12:\n",
    "        return \"child\"\n",
    "    elif age < 18:\n",
    "        return \"teen\"\n",
    "    elif age < 50:\n",
    "        return \"adult\"\n",
    "    else:\n",
    "        return \"senior\""
   ]
  },
  {
   "cell_type": "code",
   "execution_count": 53,
   "id": "0cfe0051",
   "metadata": {},
   "outputs": [],
   "source": [
    "titanic[\"age_group\"] = titanic[\"age\"].apply(get_age_group)"
   ]
  },
  {
   "cell_type": "code",
   "execution_count": 55,
   "id": "3332744a",
   "metadata": {},
   "outputs": [
    {
     "data": {
      "text/plain": [
       "adult     782\n",
       "senior    373\n",
       "child      69\n",
       "teen       63\n",
       "infant     22\n",
       "Name: age_group, dtype: int64"
      ]
     },
     "execution_count": 55,
     "metadata": {},
     "output_type": "execute_result"
    }
   ],
   "source": [
    "titanic.age_group.value_counts()"
   ]
  },
  {
   "cell_type": "code",
   "execution_count": 57,
   "id": "55159f50",
   "metadata": {},
   "outputs": [
    {
     "data": {
      "text/plain": [
       "age_group\n",
       "adult     0.386189\n",
       "child     0.492754\n",
       "infant    0.772727\n",
       "senior    0.313673\n",
       "teen      0.476190\n",
       "Name: survived, dtype: float64"
      ]
     },
     "execution_count": 57,
     "metadata": {},
     "output_type": "execute_result"
    }
   ],
   "source": [
    "titanic.groupby(\"age_group\").survived.mean()"
   ]
  },
  {
   "cell_type": "code",
   "execution_count": 59,
   "id": "6ac8a47a",
   "metadata": {},
   "outputs": [
    {
     "data": {
      "text/plain": [
       "age_group  sex   \n",
       "adult      female    0.748201\n",
       "           male      0.186508\n",
       "child      female    0.515152\n",
       "           male      0.472222\n",
       "infant     female    0.888889\n",
       "           male      0.692308\n",
       "senior     female    0.698276\n",
       "           male      0.140078\n",
       "teen       female    0.833333\n",
       "           male      0.151515\n",
       "Name: survived, dtype: float64"
      ]
     },
     "execution_count": 59,
     "metadata": {},
     "output_type": "execute_result"
    }
   ],
   "source": [
    "titanic.groupby([\"age_group\", \"sex\"]).survived.mean()"
   ]
  },
  {
   "cell_type": "code",
   "execution_count": 79,
   "id": "21442979",
   "metadata": {},
   "outputs": [
    {
     "data": {
      "text/plain": [
       "0       5072.1000\n",
       "1       3637.2000\n",
       "2       3637.2000\n",
       "3       3637.2000\n",
       "4       3637.2000\n",
       "          ...    \n",
       "1304     346.9008\n",
       "1305     346.9008\n",
       "1306     173.4000\n",
       "1307     173.4000\n",
       "1308     189.0000\n",
       "Name: fare, Length: 1309, dtype: float64"
      ]
     },
     "execution_count": 79,
     "metadata": {},
     "output_type": "execute_result"
    }
   ],
   "source": [
    "titanic[\"fare\"] * 24"
   ]
  },
  {
   "cell_type": "code",
   "execution_count": 80,
   "id": "daa930d6",
   "metadata": {},
   "outputs": [
    {
     "data": {
      "text/plain": [
       "0                   $5072.1\n",
       "1       $3637.2000000000003\n",
       "2       $3637.2000000000003\n",
       "3       $3637.2000000000003\n",
       "4       $3637.2000000000003\n",
       "               ...         \n",
       "1304              $346.9008\n",
       "1305              $346.9008\n",
       "1306    $173.39999999999998\n",
       "1307    $173.39999999999998\n",
       "1308                 $189.0\n",
       "Name: fare, Length: 1309, dtype: object"
      ]
     },
     "execution_count": 80,
     "metadata": {},
     "output_type": "execute_result"
    }
   ],
   "source": [
    "titanic[\"fare\"].apply(lambda x: f\"${x*24}\")"
   ]
  },
  {
   "cell_type": "code",
   "execution_count": 81,
   "id": "715bb1bc",
   "metadata": {},
   "outputs": [],
   "source": [
    "def convert_currency(num, multiplier):\n",
    "    return f\"${num*multiplier}\""
   ]
  },
  {
   "cell_type": "code",
   "execution_count": 84,
   "id": "c1c95cc5",
   "metadata": {},
   "outputs": [
    {
     "data": {
      "text/plain": [
       "0                   $5072.1\n",
       "1       $3637.2000000000003\n",
       "2       $3637.2000000000003\n",
       "3       $3637.2000000000003\n",
       "4       $3637.2000000000003\n",
       "               ...         \n",
       "1304              $346.9008\n",
       "1305              $346.9008\n",
       "1306    $173.39999999999998\n",
       "1307    $173.39999999999998\n",
       "1308                 $189.0\n",
       "Name: fare, Length: 1309, dtype: object"
      ]
     },
     "execution_count": 84,
     "metadata": {},
     "output_type": "execute_result"
    }
   ],
   "source": [
    "titanic[\"fare\"].apply(convert_currency, args=(24,))"
   ]
  },
  {
   "cell_type": "markdown",
   "id": "07e9fb14",
   "metadata": {},
   "source": [
    "## The DataFrame apply( ) method"
   ]
  },
  {
   "cell_type": "code",
   "execution_count": 92,
   "id": "cb2d979c",
   "metadata": {},
   "outputs": [],
   "source": [
    "df = titanic[[\"pclass\", \"survived\", \"age\", \"fare\"]]"
   ]
  },
  {
   "cell_type": "code",
   "execution_count": 93,
   "id": "28c21210",
   "metadata": {},
   "outputs": [
    {
     "data": {
      "text/html": [
       "<div>\n",
       "<style scoped>\n",
       "    .dataframe tbody tr th:only-of-type {\n",
       "        vertical-align: middle;\n",
       "    }\n",
       "\n",
       "    .dataframe tbody tr th {\n",
       "        vertical-align: top;\n",
       "    }\n",
       "\n",
       "    .dataframe thead th {\n",
       "        text-align: right;\n",
       "    }\n",
       "</style>\n",
       "<table border=\"1\" class=\"dataframe\">\n",
       "  <thead>\n",
       "    <tr style=\"text-align: right;\">\n",
       "      <th></th>\n",
       "      <th>pclass</th>\n",
       "      <th>survived</th>\n",
       "      <th>age</th>\n",
       "      <th>fare</th>\n",
       "    </tr>\n",
       "  </thead>\n",
       "  <tbody>\n",
       "    <tr>\n",
       "      <th>0</th>\n",
       "      <td>1</td>\n",
       "      <td>1</td>\n",
       "      <td>29.0000</td>\n",
       "      <td>211.3375</td>\n",
       "    </tr>\n",
       "    <tr>\n",
       "      <th>1</th>\n",
       "      <td>1</td>\n",
       "      <td>1</td>\n",
       "      <td>0.9167</td>\n",
       "      <td>151.5500</td>\n",
       "    </tr>\n",
       "    <tr>\n",
       "      <th>2</th>\n",
       "      <td>1</td>\n",
       "      <td>0</td>\n",
       "      <td>2.0000</td>\n",
       "      <td>151.5500</td>\n",
       "    </tr>\n",
       "    <tr>\n",
       "      <th>3</th>\n",
       "      <td>1</td>\n",
       "      <td>0</td>\n",
       "      <td>30.0000</td>\n",
       "      <td>151.5500</td>\n",
       "    </tr>\n",
       "    <tr>\n",
       "      <th>4</th>\n",
       "      <td>1</td>\n",
       "      <td>0</td>\n",
       "      <td>25.0000</td>\n",
       "      <td>151.5500</td>\n",
       "    </tr>\n",
       "    <tr>\n",
       "      <th>...</th>\n",
       "      <td>...</td>\n",
       "      <td>...</td>\n",
       "      <td>...</td>\n",
       "      <td>...</td>\n",
       "    </tr>\n",
       "    <tr>\n",
       "      <th>1304</th>\n",
       "      <td>3</td>\n",
       "      <td>0</td>\n",
       "      <td>14.5000</td>\n",
       "      <td>14.4542</td>\n",
       "    </tr>\n",
       "    <tr>\n",
       "      <th>1305</th>\n",
       "      <td>3</td>\n",
       "      <td>0</td>\n",
       "      <td>NaN</td>\n",
       "      <td>14.4542</td>\n",
       "    </tr>\n",
       "    <tr>\n",
       "      <th>1306</th>\n",
       "      <td>3</td>\n",
       "      <td>0</td>\n",
       "      <td>26.5000</td>\n",
       "      <td>7.2250</td>\n",
       "    </tr>\n",
       "    <tr>\n",
       "      <th>1307</th>\n",
       "      <td>3</td>\n",
       "      <td>0</td>\n",
       "      <td>27.0000</td>\n",
       "      <td>7.2250</td>\n",
       "    </tr>\n",
       "    <tr>\n",
       "      <th>1308</th>\n",
       "      <td>3</td>\n",
       "      <td>0</td>\n",
       "      <td>29.0000</td>\n",
       "      <td>7.8750</td>\n",
       "    </tr>\n",
       "  </tbody>\n",
       "</table>\n",
       "<p>1309 rows × 4 columns</p>\n",
       "</div>"
      ],
      "text/plain": [
       "      pclass  survived      age      fare\n",
       "0          1         1  29.0000  211.3375\n",
       "1          1         1   0.9167  151.5500\n",
       "2          1         0   2.0000  151.5500\n",
       "3          1         0  30.0000  151.5500\n",
       "4          1         0  25.0000  151.5500\n",
       "...      ...       ...      ...       ...\n",
       "1304       3         0  14.5000   14.4542\n",
       "1305       3         0      NaN   14.4542\n",
       "1306       3         0  26.5000    7.2250\n",
       "1307       3         0  27.0000    7.2250\n",
       "1308       3         0  29.0000    7.8750\n",
       "\n",
       "[1309 rows x 4 columns]"
      ]
     },
     "execution_count": 93,
     "metadata": {},
     "output_type": "execute_result"
    }
   ],
   "source": [
    "df"
   ]
  },
  {
   "cell_type": "code",
   "execution_count": 90,
   "id": "9e3cee12",
   "metadata": {},
   "outputs": [],
   "source": [
    "def get_range(s):\n",
    "    return s.max() - s.min()"
   ]
  },
  {
   "cell_type": "code",
   "execution_count": 94,
   "id": "af0a3ea1",
   "metadata": {},
   "outputs": [
    {
     "data": {
      "text/plain": [
       "pclass        2.0000\n",
       "survived      1.0000\n",
       "age          79.8333\n",
       "fare        512.3292\n",
       "dtype: float64"
      ]
     },
     "execution_count": 94,
     "metadata": {},
     "output_type": "execute_result"
    }
   ],
   "source": [
    "df.apply(get_range)"
   ]
  },
  {
   "cell_type": "code",
   "execution_count": 95,
   "id": "82a7e625",
   "metadata": {},
   "outputs": [
    {
     "data": {
      "text/plain": [
       "pclass        2.0000\n",
       "survived      1.0000\n",
       "age          79.8333\n",
       "fare        512.3292\n",
       "dtype: float64"
      ]
     },
     "execution_count": 95,
     "metadata": {},
     "output_type": "execute_result"
    }
   ],
   "source": [
    "df.apply(get_range, axis=0)"
   ]
  },
  {
   "cell_type": "code",
   "execution_count": 104,
   "id": "16eb1951",
   "metadata": {},
   "outputs": [
    {
     "data": {
      "text/plain": [
       "0       210.3375\n",
       "1       150.6333\n",
       "2       151.5500\n",
       "3       151.5500\n",
       "4       151.5500\n",
       "          ...   \n",
       "1304     14.5000\n",
       "1305     14.4542\n",
       "1306     26.5000\n",
       "1307     27.0000\n",
       "1308     29.0000\n",
       "Length: 1309, dtype: float64"
      ]
     },
     "execution_count": 104,
     "metadata": {},
     "output_type": "execute_result"
    }
   ],
   "source": [
    "df.apply(get_range, axis=1)"
   ]
  },
  {
   "cell_type": "code",
   "execution_count": 107,
   "id": "89839e20",
   "metadata": {},
   "outputs": [],
   "source": [
    "def get_fam_size(s):\n",
    "    fam_size = s.sibsp + s.parch\n",
    "    if fam_size == 0:\n",
    "        return \"solo\"\n",
    "    elif fam_size < 5:\n",
    "        return \"average\"\n",
    "    else:\n",
    "        return \"large\""
   ]
  },
  {
   "cell_type": "code",
   "execution_count": 108,
   "id": "0b73ab0b",
   "metadata": {},
   "outputs": [
    {
     "data": {
      "text/plain": [
       "0          solo\n",
       "1       average\n",
       "2       average\n",
       "3       average\n",
       "4       average\n",
       "         ...   \n",
       "1304    average\n",
       "1305    average\n",
       "1306       solo\n",
       "1307       solo\n",
       "1308       solo\n",
       "Length: 1309, dtype: object"
      ]
     },
     "execution_count": 108,
     "metadata": {},
     "output_type": "execute_result"
    }
   ],
   "source": [
    "titanic.apply(get_fam_size, axis=1)"
   ]
  },
  {
   "cell_type": "code",
   "execution_count": 109,
   "id": "0f374f41",
   "metadata": {},
   "outputs": [],
   "source": [
    "titanic[\"fam_size\"] = titanic.apply(get_fam_size, axis=1)"
   ]
  },
  {
   "cell_type": "code",
   "execution_count": 111,
   "id": "48558c87",
   "metadata": {},
   "outputs": [
    {
     "data": {
      "text/plain": [
       "solo       790\n",
       "average    459\n",
       "large       60\n",
       "Name: fam_size, dtype: int64"
      ]
     },
     "execution_count": 111,
     "metadata": {},
     "output_type": "execute_result"
    }
   ],
   "source": [
    "titanic[\"fam_size\"].value_counts()"
   ]
  },
  {
   "cell_type": "code",
   "execution_count": 113,
   "id": "3522b35f",
   "metadata": {},
   "outputs": [
    {
     "data": {
      "text/plain": [
       "fam_size\n",
       "average    0.549020\n",
       "large      0.150000\n",
       "solo       0.302532\n",
       "Name: survived, dtype: float64"
      ]
     },
     "execution_count": 113,
     "metadata": {},
     "output_type": "execute_result"
    }
   ],
   "source": [
    "titanic.groupby(\"fam_size\").survived.mean()"
   ]
  },
  {
   "cell_type": "code",
   "execution_count": 114,
   "id": "325c9f8a",
   "metadata": {},
   "outputs": [
    {
     "data": {
      "text/plain": [
       "fam_size  sex   \n",
       "average   female    0.771429\n",
       "          male      0.294393\n",
       "large     female    0.296296\n",
       "          male      0.030303\n",
       "solo      female    0.731959\n",
       "          male      0.162752\n",
       "Name: survived, dtype: float64"
      ]
     },
     "execution_count": 114,
     "metadata": {},
     "output_type": "execute_result"
    }
   ],
   "source": [
    "titanic.groupby([\"fam_size\", \"sex\"]).survived.mean()"
   ]
  },
  {
   "cell_type": "markdown",
   "id": "550c2600",
   "metadata": {},
   "source": [
    "## The map( ) method"
   ]
  },
  {
   "cell_type": "code",
   "execution_count": 115,
   "id": "d0795ded",
   "metadata": {},
   "outputs": [
    {
     "data": {
      "text/plain": [
       "0       1\n",
       "1       1\n",
       "2       1\n",
       "3       1\n",
       "4       1\n",
       "       ..\n",
       "1304    3\n",
       "1305    3\n",
       "1306    3\n",
       "1307    3\n",
       "1308    3\n",
       "Name: pclass, Length: 1309, dtype: int64"
      ]
     },
     "execution_count": 115,
     "metadata": {},
     "output_type": "execute_result"
    }
   ],
   "source": [
    "titanic[\"pclass\"]"
   ]
  },
  {
   "cell_type": "code",
   "execution_count": 116,
   "id": "6b7301e7",
   "metadata": {},
   "outputs": [
    {
     "data": {
      "text/plain": [
       "0       1st\n",
       "1       1st\n",
       "2       1st\n",
       "3       1st\n",
       "4       1st\n",
       "       ... \n",
       "1304    3rd\n",
       "1305    3rd\n",
       "1306    3rd\n",
       "1307    3rd\n",
       "1308    3rd\n",
       "Name: pclass, Length: 1309, dtype: object"
      ]
     },
     "execution_count": 116,
     "metadata": {},
     "output_type": "execute_result"
    }
   ],
   "source": [
    "titanic[\"pclass\"].map({1:\"1st\", 2:\"2nd\", 3:\"3rd\"})"
   ]
  },
  {
   "cell_type": "code",
   "execution_count": 120,
   "id": "746f1465",
   "metadata": {},
   "outputs": [
    {
     "data": {
      "text/plain": [
       "0       False\n",
       "1        True\n",
       "2        True\n",
       "3       False\n",
       "4       False\n",
       "        ...  \n",
       "1304     True\n",
       "1305    False\n",
       "1306    False\n",
       "1307    False\n",
       "1308    False\n",
       "Name: age, Length: 1309, dtype: bool"
      ]
     },
     "execution_count": 120,
     "metadata": {},
     "output_type": "execute_result"
    }
   ],
   "source": [
    "titanic[\"age\"].map(lambda a: a < 18)"
   ]
  },
  {
   "cell_type": "markdown",
   "id": "ea086b39",
   "metadata": {},
   "source": [
    "## The applymap( ) method"
   ]
  },
  {
   "cell_type": "code",
   "execution_count": 127,
   "id": "c8d194e1",
   "metadata": {},
   "outputs": [
    {
     "data": {
      "text/html": [
       "<div>\n",
       "<style scoped>\n",
       "    .dataframe tbody tr th:only-of-type {\n",
       "        vertical-align: middle;\n",
       "    }\n",
       "\n",
       "    .dataframe tbody tr th {\n",
       "        vertical-align: top;\n",
       "    }\n",
       "\n",
       "    .dataframe thead th {\n",
       "        text-align: right;\n",
       "    }\n",
       "</style>\n",
       "<table border=\"1\" class=\"dataframe\">\n",
       "  <thead>\n",
       "    <tr style=\"text-align: right;\">\n",
       "      <th></th>\n",
       "      <th>name</th>\n",
       "      <th>sex</th>\n",
       "      <th>age_group</th>\n",
       "    </tr>\n",
       "  </thead>\n",
       "  <tbody>\n",
       "    <tr>\n",
       "      <th>0</th>\n",
       "      <td>ALLEN, MISS. ELISABETH WALTON</td>\n",
       "      <td>FEMALE</td>\n",
       "      <td>ADULT</td>\n",
       "    </tr>\n",
       "    <tr>\n",
       "      <th>1</th>\n",
       "      <td>ALLISON, MASTER. HUDSON TREVOR</td>\n",
       "      <td>MALE</td>\n",
       "      <td>INFANT</td>\n",
       "    </tr>\n",
       "    <tr>\n",
       "      <th>2</th>\n",
       "      <td>ALLISON, MISS. HELEN LORAINE</td>\n",
       "      <td>FEMALE</td>\n",
       "      <td>CHILD</td>\n",
       "    </tr>\n",
       "    <tr>\n",
       "      <th>3</th>\n",
       "      <td>ALLISON, MR. HUDSON JOSHUA CREIGHTON</td>\n",
       "      <td>MALE</td>\n",
       "      <td>ADULT</td>\n",
       "    </tr>\n",
       "    <tr>\n",
       "      <th>4</th>\n",
       "      <td>ALLISON, MRS. HUDSON J C (BESSIE WALDO DANIELS)</td>\n",
       "      <td>FEMALE</td>\n",
       "      <td>ADULT</td>\n",
       "    </tr>\n",
       "    <tr>\n",
       "      <th>...</th>\n",
       "      <td>...</td>\n",
       "      <td>...</td>\n",
       "      <td>...</td>\n",
       "    </tr>\n",
       "    <tr>\n",
       "      <th>1304</th>\n",
       "      <td>ZABOUR, MISS. HILENI</td>\n",
       "      <td>FEMALE</td>\n",
       "      <td>TEEN</td>\n",
       "    </tr>\n",
       "    <tr>\n",
       "      <th>1305</th>\n",
       "      <td>ZABOUR, MISS. THAMINE</td>\n",
       "      <td>FEMALE</td>\n",
       "      <td>SENIOR</td>\n",
       "    </tr>\n",
       "    <tr>\n",
       "      <th>1306</th>\n",
       "      <td>ZAKARIAN, MR. MAPRIEDEDER</td>\n",
       "      <td>MALE</td>\n",
       "      <td>ADULT</td>\n",
       "    </tr>\n",
       "    <tr>\n",
       "      <th>1307</th>\n",
       "      <td>ZAKARIAN, MR. ORTIN</td>\n",
       "      <td>MALE</td>\n",
       "      <td>ADULT</td>\n",
       "    </tr>\n",
       "    <tr>\n",
       "      <th>1308</th>\n",
       "      <td>ZIMMERMAN, MR. LEO</td>\n",
       "      <td>MALE</td>\n",
       "      <td>ADULT</td>\n",
       "    </tr>\n",
       "  </tbody>\n",
       "</table>\n",
       "<p>1309 rows × 3 columns</p>\n",
       "</div>"
      ],
      "text/plain": [
       "                                                 name     sex age_group\n",
       "0                       ALLEN, MISS. ELISABETH WALTON  FEMALE     ADULT\n",
       "1                      ALLISON, MASTER. HUDSON TREVOR    MALE    INFANT\n",
       "2                        ALLISON, MISS. HELEN LORAINE  FEMALE     CHILD\n",
       "3                ALLISON, MR. HUDSON JOSHUA CREIGHTON    MALE     ADULT\n",
       "4     ALLISON, MRS. HUDSON J C (BESSIE WALDO DANIELS)  FEMALE     ADULT\n",
       "...                                               ...     ...       ...\n",
       "1304                             ZABOUR, MISS. HILENI  FEMALE      TEEN\n",
       "1305                            ZABOUR, MISS. THAMINE  FEMALE    SENIOR\n",
       "1306                        ZAKARIAN, MR. MAPRIEDEDER    MALE     ADULT\n",
       "1307                              ZAKARIAN, MR. ORTIN    MALE     ADULT\n",
       "1308                               ZIMMERMAN, MR. LEO    MALE     ADULT\n",
       "\n",
       "[1309 rows x 3 columns]"
      ]
     },
     "execution_count": 127,
     "metadata": {},
     "output_type": "execute_result"
    }
   ],
   "source": [
    "titanic[[\"name\", \"sex\", \"age_group\"]].applymap(str.upper)"
   ]
  },
  {
   "cell_type": "code",
   "execution_count": 139,
   "id": "583cba47",
   "metadata": {},
   "outputs": [
    {
     "data": {
      "text/html": [
       "<div>\n",
       "<style scoped>\n",
       "    .dataframe tbody tr th:only-of-type {\n",
       "        vertical-align: middle;\n",
       "    }\n",
       "\n",
       "    .dataframe tbody tr th {\n",
       "        vertical-align: top;\n",
       "    }\n",
       "\n",
       "    .dataframe thead th {\n",
       "        text-align: right;\n",
       "    }\n",
       "</style>\n",
       "<table border=\"1\" class=\"dataframe\">\n",
       "  <thead>\n",
       "    <tr style=\"text-align: right;\">\n",
       "      <th></th>\n",
       "      <th>pclass</th>\n",
       "      <th>survived</th>\n",
       "      <th>age</th>\n",
       "      <th>fare</th>\n",
       "    </tr>\n",
       "  </thead>\n",
       "  <tbody>\n",
       "    <tr>\n",
       "      <th>0</th>\n",
       "      <td>7</td>\n",
       "      <td>7</td>\n",
       "      <td>203.0000</td>\n",
       "      <td>1479.3625</td>\n",
       "    </tr>\n",
       "    <tr>\n",
       "      <th>1</th>\n",
       "      <td>7</td>\n",
       "      <td>7</td>\n",
       "      <td>6.4169</td>\n",
       "      <td>1060.8500</td>\n",
       "    </tr>\n",
       "    <tr>\n",
       "      <th>2</th>\n",
       "      <td>7</td>\n",
       "      <td>0</td>\n",
       "      <td>14.0000</td>\n",
       "      <td>1060.8500</td>\n",
       "    </tr>\n",
       "    <tr>\n",
       "      <th>3</th>\n",
       "      <td>7</td>\n",
       "      <td>0</td>\n",
       "      <td>210.0000</td>\n",
       "      <td>1060.8500</td>\n",
       "    </tr>\n",
       "    <tr>\n",
       "      <th>4</th>\n",
       "      <td>7</td>\n",
       "      <td>0</td>\n",
       "      <td>175.0000</td>\n",
       "      <td>1060.8500</td>\n",
       "    </tr>\n",
       "    <tr>\n",
       "      <th>...</th>\n",
       "      <td>...</td>\n",
       "      <td>...</td>\n",
       "      <td>...</td>\n",
       "      <td>...</td>\n",
       "    </tr>\n",
       "    <tr>\n",
       "      <th>1304</th>\n",
       "      <td>21</td>\n",
       "      <td>0</td>\n",
       "      <td>101.5000</td>\n",
       "      <td>101.1794</td>\n",
       "    </tr>\n",
       "    <tr>\n",
       "      <th>1305</th>\n",
       "      <td>21</td>\n",
       "      <td>0</td>\n",
       "      <td>NaN</td>\n",
       "      <td>101.1794</td>\n",
       "    </tr>\n",
       "    <tr>\n",
       "      <th>1306</th>\n",
       "      <td>21</td>\n",
       "      <td>0</td>\n",
       "      <td>185.5000</td>\n",
       "      <td>50.5750</td>\n",
       "    </tr>\n",
       "    <tr>\n",
       "      <th>1307</th>\n",
       "      <td>21</td>\n",
       "      <td>0</td>\n",
       "      <td>189.0000</td>\n",
       "      <td>50.5750</td>\n",
       "    </tr>\n",
       "    <tr>\n",
       "      <th>1308</th>\n",
       "      <td>21</td>\n",
       "      <td>0</td>\n",
       "      <td>203.0000</td>\n",
       "      <td>55.1250</td>\n",
       "    </tr>\n",
       "  </tbody>\n",
       "</table>\n",
       "<p>1309 rows × 4 columns</p>\n",
       "</div>"
      ],
      "text/plain": [
       "      pclass  survived       age       fare\n",
       "0          7         7  203.0000  1479.3625\n",
       "1          7         7    6.4169  1060.8500\n",
       "2          7         0   14.0000  1060.8500\n",
       "3          7         0  210.0000  1060.8500\n",
       "4          7         0  175.0000  1060.8500\n",
       "...      ...       ...       ...        ...\n",
       "1304      21         0  101.5000   101.1794\n",
       "1305      21         0       NaN   101.1794\n",
       "1306      21         0  185.5000    50.5750\n",
       "1307      21         0  189.0000    50.5750\n",
       "1308      21         0  203.0000    55.1250\n",
       "\n",
       "[1309 rows x 4 columns]"
      ]
     },
     "execution_count": 139,
     "metadata": {},
     "output_type": "execute_result"
    }
   ],
   "source": [
    "df.applymap(lambda el: el * 7)"
   ]
  },
  {
   "cell_type": "code",
   "execution_count": 140,
   "id": "2be08173",
   "metadata": {},
   "outputs": [
    {
     "data": {
      "text/html": [
       "<div>\n",
       "<style scoped>\n",
       "    .dataframe tbody tr th:only-of-type {\n",
       "        vertical-align: middle;\n",
       "    }\n",
       "\n",
       "    .dataframe tbody tr th {\n",
       "        vertical-align: top;\n",
       "    }\n",
       "\n",
       "    .dataframe thead th {\n",
       "        text-align: right;\n",
       "    }\n",
       "</style>\n",
       "<table border=\"1\" class=\"dataframe\">\n",
       "  <thead>\n",
       "    <tr style=\"text-align: right;\">\n",
       "      <th></th>\n",
       "      <th>pclass</th>\n",
       "      <th>survived</th>\n",
       "      <th>age</th>\n",
       "      <th>fare</th>\n",
       "    </tr>\n",
       "  </thead>\n",
       "  <tbody>\n",
       "    <tr>\n",
       "      <th>0</th>\n",
       "      <td>7</td>\n",
       "      <td>7</td>\n",
       "      <td>203.0000</td>\n",
       "      <td>1479.3625</td>\n",
       "    </tr>\n",
       "    <tr>\n",
       "      <th>1</th>\n",
       "      <td>7</td>\n",
       "      <td>7</td>\n",
       "      <td>6.4169</td>\n",
       "      <td>1060.8500</td>\n",
       "    </tr>\n",
       "    <tr>\n",
       "      <th>2</th>\n",
       "      <td>7</td>\n",
       "      <td>0</td>\n",
       "      <td>14.0000</td>\n",
       "      <td>1060.8500</td>\n",
       "    </tr>\n",
       "    <tr>\n",
       "      <th>3</th>\n",
       "      <td>7</td>\n",
       "      <td>0</td>\n",
       "      <td>210.0000</td>\n",
       "      <td>1060.8500</td>\n",
       "    </tr>\n",
       "    <tr>\n",
       "      <th>4</th>\n",
       "      <td>7</td>\n",
       "      <td>0</td>\n",
       "      <td>175.0000</td>\n",
       "      <td>1060.8500</td>\n",
       "    </tr>\n",
       "    <tr>\n",
       "      <th>...</th>\n",
       "      <td>...</td>\n",
       "      <td>...</td>\n",
       "      <td>...</td>\n",
       "      <td>...</td>\n",
       "    </tr>\n",
       "    <tr>\n",
       "      <th>1304</th>\n",
       "      <td>21</td>\n",
       "      <td>0</td>\n",
       "      <td>101.5000</td>\n",
       "      <td>101.1794</td>\n",
       "    </tr>\n",
       "    <tr>\n",
       "      <th>1305</th>\n",
       "      <td>21</td>\n",
       "      <td>0</td>\n",
       "      <td>NaN</td>\n",
       "      <td>101.1794</td>\n",
       "    </tr>\n",
       "    <tr>\n",
       "      <th>1306</th>\n",
       "      <td>21</td>\n",
       "      <td>0</td>\n",
       "      <td>185.5000</td>\n",
       "      <td>50.5750</td>\n",
       "    </tr>\n",
       "    <tr>\n",
       "      <th>1307</th>\n",
       "      <td>21</td>\n",
       "      <td>0</td>\n",
       "      <td>189.0000</td>\n",
       "      <td>50.5750</td>\n",
       "    </tr>\n",
       "    <tr>\n",
       "      <th>1308</th>\n",
       "      <td>21</td>\n",
       "      <td>0</td>\n",
       "      <td>203.0000</td>\n",
       "      <td>55.1250</td>\n",
       "    </tr>\n",
       "  </tbody>\n",
       "</table>\n",
       "<p>1309 rows × 4 columns</p>\n",
       "</div>"
      ],
      "text/plain": [
       "      pclass  survived       age       fare\n",
       "0          7         7  203.0000  1479.3625\n",
       "1          7         7    6.4169  1060.8500\n",
       "2          7         0   14.0000  1060.8500\n",
       "3          7         0  210.0000  1060.8500\n",
       "4          7         0  175.0000  1060.8500\n",
       "...      ...       ...       ...        ...\n",
       "1304      21         0  101.5000   101.1794\n",
       "1305      21         0       NaN   101.1794\n",
       "1306      21         0  185.5000    50.5750\n",
       "1307      21         0  189.0000    50.5750\n",
       "1308      21         0  203.0000    55.1250\n",
       "\n",
       "[1309 rows x 4 columns]"
      ]
     },
     "execution_count": 140,
     "metadata": {},
     "output_type": "execute_result"
    }
   ],
   "source": [
    "df * 7"
   ]
  },
  {
   "cell_type": "code",
   "execution_count": 142,
   "id": "84c6ad7d",
   "metadata": {},
   "outputs": [
    {
     "data": {
      "text/html": [
       "<div>\n",
       "<style scoped>\n",
       "    .dataframe tbody tr th:only-of-type {\n",
       "        vertical-align: middle;\n",
       "    }\n",
       "\n",
       "    .dataframe tbody tr th {\n",
       "        vertical-align: top;\n",
       "    }\n",
       "\n",
       "    .dataframe thead th {\n",
       "        text-align: right;\n",
       "    }\n",
       "</style>\n",
       "<table border=\"1\" class=\"dataframe\">\n",
       "  <thead>\n",
       "    <tr style=\"text-align: right;\">\n",
       "      <th></th>\n",
       "      <th>name</th>\n",
       "      <th>sex</th>\n",
       "      <th>age_group</th>\n",
       "    </tr>\n",
       "  </thead>\n",
       "  <tbody>\n",
       "    <tr>\n",
       "      <th>0</th>\n",
       "      <td>29</td>\n",
       "      <td>6</td>\n",
       "      <td>5</td>\n",
       "    </tr>\n",
       "    <tr>\n",
       "      <th>1</th>\n",
       "      <td>30</td>\n",
       "      <td>4</td>\n",
       "      <td>6</td>\n",
       "    </tr>\n",
       "    <tr>\n",
       "      <th>2</th>\n",
       "      <td>28</td>\n",
       "      <td>6</td>\n",
       "      <td>5</td>\n",
       "    </tr>\n",
       "    <tr>\n",
       "      <th>3</th>\n",
       "      <td>36</td>\n",
       "      <td>4</td>\n",
       "      <td>5</td>\n",
       "    </tr>\n",
       "    <tr>\n",
       "      <th>4</th>\n",
       "      <td>47</td>\n",
       "      <td>6</td>\n",
       "      <td>5</td>\n",
       "    </tr>\n",
       "    <tr>\n",
       "      <th>...</th>\n",
       "      <td>...</td>\n",
       "      <td>...</td>\n",
       "      <td>...</td>\n",
       "    </tr>\n",
       "    <tr>\n",
       "      <th>1304</th>\n",
       "      <td>20</td>\n",
       "      <td>6</td>\n",
       "      <td>4</td>\n",
       "    </tr>\n",
       "    <tr>\n",
       "      <th>1305</th>\n",
       "      <td>21</td>\n",
       "      <td>6</td>\n",
       "      <td>6</td>\n",
       "    </tr>\n",
       "    <tr>\n",
       "      <th>1306</th>\n",
       "      <td>25</td>\n",
       "      <td>4</td>\n",
       "      <td>5</td>\n",
       "    </tr>\n",
       "    <tr>\n",
       "      <th>1307</th>\n",
       "      <td>19</td>\n",
       "      <td>4</td>\n",
       "      <td>5</td>\n",
       "    </tr>\n",
       "    <tr>\n",
       "      <th>1308</th>\n",
       "      <td>18</td>\n",
       "      <td>4</td>\n",
       "      <td>5</td>\n",
       "    </tr>\n",
       "  </tbody>\n",
       "</table>\n",
       "<p>1309 rows × 3 columns</p>\n",
       "</div>"
      ],
      "text/plain": [
       "      name  sex  age_group\n",
       "0       29    6          5\n",
       "1       30    4          6\n",
       "2       28    6          5\n",
       "3       36    4          5\n",
       "4       47    6          5\n",
       "...    ...  ...        ...\n",
       "1304    20    6          4\n",
       "1305    21    6          6\n",
       "1306    25    4          5\n",
       "1307    19    4          5\n",
       "1308    18    4          5\n",
       "\n",
       "[1309 rows x 3 columns]"
      ]
     },
     "execution_count": 142,
     "metadata": {},
     "output_type": "execute_result"
    }
   ],
   "source": [
    "titanic[[\"name\", \"sex\", \"age_group\"]].applymap(len)"
   ]
  }
 ],
 "metadata": {
  "kernelspec": {
   "display_name": "Python 3",
   "language": "python",
   "name": "python3"
  },
  "language_info": {
   "codemirror_mode": {
    "name": "ipython",
    "version": 3
   },
   "file_extension": ".py",
   "mimetype": "text/x-python",
   "name": "python",
   "nbconvert_exporter": "python",
   "pygments_lexer": "ipython3",
   "version": "3.8.8"
  }
 },
 "nbformat": 4,
 "nbformat_minor": 5
}
