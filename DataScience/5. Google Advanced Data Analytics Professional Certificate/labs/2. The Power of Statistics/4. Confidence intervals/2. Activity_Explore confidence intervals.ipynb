{
 "cells": [
  {
   "cell_type": "markdown",
   "metadata": {
    "id": "d25eed62-5910-4d10-a976-c18c4f7d99f7"
   },
   "source": [
    "# Activity: Explore confidence intervals"
   ]
  },
  {
   "cell_type": "markdown",
   "metadata": {
    "id": "b50579ec-09df-4bb1-ad5a-d28f4790ca16"
   },
   "source": [
    "## Introduction"
   ]
  },
  {
   "cell_type": "markdown",
   "metadata": {
    "id": "6a8992ac-22d5-41db-aa09-263b464950e0"
   },
   "source": [
    "The Air Quality Index (AQI) is the Environmental Protection Agency's index for reporting air quality. A value close to 0 signals little to no public health concern, while higher values are associated with increased risk to public health. The United States is considering a new federal policy that would create a subsidy for renewable energy in states observing an average AQI of 10 or above. <br>\n",
    "\n",
    "You've just started your new role as a data analyst in the Strategy division of Ripple Renewable Energy (RRE). **RRE operates in the following U.S. states: `California`, `Florida`, `Michigan`, `Ohio`, `Pennsylvania`, `Texas`.** You've been tasked with constructing an analysis which identifies which of these states are most likely to be affected, should the new federal policy be enacted."
   ]
  },
  {
   "cell_type": "markdown",
   "metadata": {
    "id": "6e4e3b8a-b5f9-4fe1-a824-0bd3aece693c"
   },
   "source": [
    "Your manager has requested that you do the following for your analysis:\n",
    "1. Provide a summary of the mean AQI for the states in which RRE operates.\n",
    "2. Construct a boxplot visualization for AQI of these states using `seaborn`.\n",
    "3. Evaluate which state(s) may be most affected by this policy, based on the data and your boxplot visualization.\n",
    "4. Construct a confidence interval for the RRE state with the highest mean AQI."
   ]
  },
  {
   "cell_type": "markdown",
   "metadata": {
    "id": "3b4dc9a5-d724-4696-a704-57fefa9d5938"
   },
   "source": [
    "## Step 1: Imports\n",
    "\n",
    "### Import packages\n",
    "\n",
    "Import `pandas` and `numpy`."
   ]
  },
  {
   "cell_type": "code",
   "execution_count": 1,
   "metadata": {
    "id": "0b3d0e1c-23b9-4491-82a5-ac1e4bd36f30"
   },
   "outputs": [],
   "source": [
    "# Import relevant packages\n",
    "\n",
    "### YOUR CODE HERE ###\n",
    "\n",
    "import pandas as pd\n",
    "import numpy as np"
   ]
  },
  {
   "cell_type": "markdown",
   "metadata": {
    "id": "a4f7c0d0-027e-475a-bce5-ad96d059cd04"
   },
   "source": [
    "### Load the dataset\n",
    "\n",
    "The dataset provided gives national Air Quality Index (AQI) measurements by state over time.  `Pandas` is used to import the file `c4_epa_air_quality.csv` as a DataFrame named `aqi`. As shown in this cell, the dataset has been automatically loaded in for you. You do not need to download the .csv file, or provide more code, in order to access the dataset and proceed with this lab. Please continue with this activity by completing the following instructions.\n",
    "\n",
    "*Note: For the purposes of your analysis, you can assume this data is randomly sampled from a larger population.*"
   ]
  },
  {
   "cell_type": "code",
   "execution_count": 2,
   "metadata": {
    "id": "1ce82ed7-cf32-4028-ac77-a377e7638458",
    "tags": []
   },
   "outputs": [],
   "source": [
    "# RUN THIS CELL TO IMPORT YOUR DATA\n",
    "\n",
    "### YOUR CODE HERE ###\n",
    "aqi = pd.read_csv('../../../data/c4_epa_air_quality.csv')"
   ]
  },
  {
   "cell_type": "markdown",
   "metadata": {
    "id": "JLW4ftpm15LA"
   },
   "source": [
    "## Step 2: Data exploration"
   ]
  },
  {
   "cell_type": "markdown",
   "metadata": {
    "id": "c1ee0813-5e74-4564-8ea1-8d724700754a"
   },
   "source": [
    "### Explore your dataset\n",
    "\n",
    "Before proceeding to your deliverables, spend some time exploring the `aqi` DataFrame. "
   ]
  },
  {
   "cell_type": "code",
   "execution_count": 3,
   "metadata": {
    "id": "0444122d-6fba-4051-8b09-b15392aacebf"
   },
   "outputs": [
    {
     "data": {
      "text/html": [
       "<div>\n",
       "<style scoped>\n",
       "    .dataframe tbody tr th:only-of-type {\n",
       "        vertical-align: middle;\n",
       "    }\n",
       "\n",
       "    .dataframe tbody tr th {\n",
       "        vertical-align: top;\n",
       "    }\n",
       "\n",
       "    .dataframe thead th {\n",
       "        text-align: right;\n",
       "    }\n",
       "</style>\n",
       "<table border=\"1\" class=\"dataframe\">\n",
       "  <thead>\n",
       "    <tr style=\"text-align: right;\">\n",
       "      <th></th>\n",
       "      <th>Unnamed: 0</th>\n",
       "      <th>date_local</th>\n",
       "      <th>state_name</th>\n",
       "      <th>county_name</th>\n",
       "      <th>city_name</th>\n",
       "      <th>local_site_name</th>\n",
       "      <th>parameter_name</th>\n",
       "      <th>units_of_measure</th>\n",
       "      <th>arithmetic_mean</th>\n",
       "      <th>aqi</th>\n",
       "    </tr>\n",
       "  </thead>\n",
       "  <tbody>\n",
       "    <tr>\n",
       "      <th>0</th>\n",
       "      <td>0</td>\n",
       "      <td>2018-01-01</td>\n",
       "      <td>Arizona</td>\n",
       "      <td>Maricopa</td>\n",
       "      <td>Buckeye</td>\n",
       "      <td>BUCKEYE</td>\n",
       "      <td>Carbon monoxide</td>\n",
       "      <td>Parts per million</td>\n",
       "      <td>0.473684</td>\n",
       "      <td>7</td>\n",
       "    </tr>\n",
       "    <tr>\n",
       "      <th>1</th>\n",
       "      <td>1</td>\n",
       "      <td>2018-01-01</td>\n",
       "      <td>Ohio</td>\n",
       "      <td>Belmont</td>\n",
       "      <td>Shadyside</td>\n",
       "      <td>Shadyside</td>\n",
       "      <td>Carbon monoxide</td>\n",
       "      <td>Parts per million</td>\n",
       "      <td>0.263158</td>\n",
       "      <td>5</td>\n",
       "    </tr>\n",
       "    <tr>\n",
       "      <th>2</th>\n",
       "      <td>2</td>\n",
       "      <td>2018-01-01</td>\n",
       "      <td>Wyoming</td>\n",
       "      <td>Teton</td>\n",
       "      <td>Not in a city</td>\n",
       "      <td>Yellowstone National Park - Old Faithful Snow ...</td>\n",
       "      <td>Carbon monoxide</td>\n",
       "      <td>Parts per million</td>\n",
       "      <td>0.111111</td>\n",
       "      <td>2</td>\n",
       "    </tr>\n",
       "    <tr>\n",
       "      <th>3</th>\n",
       "      <td>3</td>\n",
       "      <td>2018-01-01</td>\n",
       "      <td>Pennsylvania</td>\n",
       "      <td>Philadelphia</td>\n",
       "      <td>Philadelphia</td>\n",
       "      <td>North East Waste (NEW)</td>\n",
       "      <td>Carbon monoxide</td>\n",
       "      <td>Parts per million</td>\n",
       "      <td>0.300000</td>\n",
       "      <td>3</td>\n",
       "    </tr>\n",
       "    <tr>\n",
       "      <th>4</th>\n",
       "      <td>4</td>\n",
       "      <td>2018-01-01</td>\n",
       "      <td>Iowa</td>\n",
       "      <td>Polk</td>\n",
       "      <td>Des Moines</td>\n",
       "      <td>CARPENTER</td>\n",
       "      <td>Carbon monoxide</td>\n",
       "      <td>Parts per million</td>\n",
       "      <td>0.215789</td>\n",
       "      <td>3</td>\n",
       "    </tr>\n",
       "    <tr>\n",
       "      <th>5</th>\n",
       "      <td>5</td>\n",
       "      <td>2018-01-01</td>\n",
       "      <td>Hawaii</td>\n",
       "      <td>Honolulu</td>\n",
       "      <td>Not in a city</td>\n",
       "      <td>Kapolei</td>\n",
       "      <td>Carbon monoxide</td>\n",
       "      <td>Parts per million</td>\n",
       "      <td>0.994737</td>\n",
       "      <td>14</td>\n",
       "    </tr>\n",
       "    <tr>\n",
       "      <th>6</th>\n",
       "      <td>6</td>\n",
       "      <td>2018-01-01</td>\n",
       "      <td>Hawaii</td>\n",
       "      <td>Honolulu</td>\n",
       "      <td>Not in a city</td>\n",
       "      <td>Kapolei</td>\n",
       "      <td>Carbon monoxide</td>\n",
       "      <td>Parts per million</td>\n",
       "      <td>0.200000</td>\n",
       "      <td>2</td>\n",
       "    </tr>\n",
       "    <tr>\n",
       "      <th>7</th>\n",
       "      <td>7</td>\n",
       "      <td>2018-01-01</td>\n",
       "      <td>Pennsylvania</td>\n",
       "      <td>Erie</td>\n",
       "      <td>Erie</td>\n",
       "      <td>NaN</td>\n",
       "      <td>Carbon monoxide</td>\n",
       "      <td>Parts per million</td>\n",
       "      <td>0.200000</td>\n",
       "      <td>2</td>\n",
       "    </tr>\n",
       "    <tr>\n",
       "      <th>8</th>\n",
       "      <td>8</td>\n",
       "      <td>2018-01-01</td>\n",
       "      <td>Hawaii</td>\n",
       "      <td>Honolulu</td>\n",
       "      <td>Honolulu</td>\n",
       "      <td>Honolulu</td>\n",
       "      <td>Carbon monoxide</td>\n",
       "      <td>Parts per million</td>\n",
       "      <td>0.400000</td>\n",
       "      <td>5</td>\n",
       "    </tr>\n",
       "    <tr>\n",
       "      <th>9</th>\n",
       "      <td>9</td>\n",
       "      <td>2018-01-01</td>\n",
       "      <td>Colorado</td>\n",
       "      <td>Larimer</td>\n",
       "      <td>Fort Collins</td>\n",
       "      <td>Fort Collins - CSU - S. Mason</td>\n",
       "      <td>Carbon monoxide</td>\n",
       "      <td>Parts per million</td>\n",
       "      <td>0.300000</td>\n",
       "      <td>6</td>\n",
       "    </tr>\n",
       "  </tbody>\n",
       "</table>\n",
       "</div>"
      ],
      "text/plain": [
       "   Unnamed: 0  date_local    state_name   county_name      city_name  \\\n",
       "0           0  2018-01-01       Arizona      Maricopa        Buckeye   \n",
       "1           1  2018-01-01          Ohio       Belmont      Shadyside   \n",
       "2           2  2018-01-01       Wyoming         Teton  Not in a city   \n",
       "3           3  2018-01-01  Pennsylvania  Philadelphia   Philadelphia   \n",
       "4           4  2018-01-01          Iowa          Polk     Des Moines   \n",
       "5           5  2018-01-01        Hawaii      Honolulu  Not in a city   \n",
       "6           6  2018-01-01        Hawaii      Honolulu  Not in a city   \n",
       "7           7  2018-01-01  Pennsylvania          Erie           Erie   \n",
       "8           8  2018-01-01        Hawaii      Honolulu       Honolulu   \n",
       "9           9  2018-01-01      Colorado       Larimer   Fort Collins   \n",
       "\n",
       "                                     local_site_name   parameter_name  \\\n",
       "0                                            BUCKEYE  Carbon monoxide   \n",
       "1                                          Shadyside  Carbon monoxide   \n",
       "2  Yellowstone National Park - Old Faithful Snow ...  Carbon monoxide   \n",
       "3                             North East Waste (NEW)  Carbon monoxide   \n",
       "4                                          CARPENTER  Carbon monoxide   \n",
       "5                                            Kapolei  Carbon monoxide   \n",
       "6                                            Kapolei  Carbon monoxide   \n",
       "7                                                NaN  Carbon monoxide   \n",
       "8                                           Honolulu  Carbon monoxide   \n",
       "9                      Fort Collins - CSU - S. Mason  Carbon monoxide   \n",
       "\n",
       "    units_of_measure  arithmetic_mean  aqi  \n",
       "0  Parts per million         0.473684    7  \n",
       "1  Parts per million         0.263158    5  \n",
       "2  Parts per million         0.111111    2  \n",
       "3  Parts per million         0.300000    3  \n",
       "4  Parts per million         0.215789    3  \n",
       "5  Parts per million         0.994737   14  \n",
       "6  Parts per million         0.200000    2  \n",
       "7  Parts per million         0.200000    2  \n",
       "8  Parts per million         0.400000    5  \n",
       "9  Parts per million         0.300000    6  "
      ]
     },
     "execution_count": 3,
     "metadata": {},
     "output_type": "execute_result"
    }
   ],
   "source": [
    "# Explore your DataFrame `aqi`.\n",
    "\n",
    "### YOUR CODE HERE ###\n",
    "\n",
    "aqi.head(10)"
   ]
  },
  {
   "cell_type": "markdown",
   "metadata": {
    "id": "DOPQ6EL9ZmrB"
   },
   "source": [
    "**Question:** What time range does this data cover?\n",
    "\n",
    "[Write your response here. Double-click (or enter) to edit.]\n"
   ]
  },
  {
   "cell_type": "markdown",
   "metadata": {
    "id": "Sw0U5NWpZ1wp"
   },
   "source": [
    "**Question:** What are the minimum and maximum AQI values observed in the dataset?\n",
    "\n",
    "[Write your response here. Double-click (or enter) to edit.]"
   ]
  },
  {
   "cell_type": "markdown",
   "metadata": {
    "id": "LWBj7cKZZ_du"
   },
   "source": [
    "**Question:** Are all states equally represented in the dataset?\n",
    "\n",
    "[Write your response here. Double-click (or enter) to edit.]"
   ]
  },
  {
   "cell_type": "markdown",
   "metadata": {
    "id": "e3fe028b-178b-49c0-9765-a566f862ab1b"
   },
   "source": [
    "<details>\n",
    "  <summary><h4><strong>Hint 1</strong></h4></summary>\n",
    "\n",
    "Refer to [the content about descriptive statisics](https://www.coursera.org/learn/the-power-of-statistics/lecture/jVRS4/measures-of-central-tendency).\n",
    "</details>"
   ]
  },
  {
   "cell_type": "markdown",
   "metadata": {
    "id": "d7cba139-a71c-4b21-aef6-47e248da9315"
   },
   "source": [
    "<details>\n",
    "  <summary><h4><strong>Hint 2</strong></h4></summary>\n",
    "\n",
    "Use `pandas` or `numpy` to explore the `aqi` DataFrame.\n",
    "</details>"
   ]
  },
  {
   "cell_type": "markdown",
   "metadata": {
    "id": "8b7138ff-2e02-42df-8946-c0bd1076169c"
   },
   "source": [
    "<details>\n",
    "  <summary><h4><strong>Hint 3</strong></h4></summary>\n",
    "\n",
    "Use any of the following functions:\n",
    "- `pandas`: `describe()`,`value_counts()`,`shape()`\n",
    "- `numpy`: `unique()`,`mean()`\n",
    "    \n",
    "</details>"
   ]
  },
  {
   "cell_type": "markdown",
   "metadata": {
    "id": "fd48d0f0-3f90-455e-87a1-0da43fcac202"
   },
   "source": [
    "## Step 3: Statistical tests\n",
    "\n",
    "### Summarize the mean AQI for RRE states\n",
    "\n",
    "Start with your first deliverable. Summarize the mean AQI for the states in which RRE operates (California, Florida, Michigan, Ohio, Pennsylvania, and Texas)."
   ]
  },
  {
   "cell_type": "code",
   "execution_count": 14,
   "metadata": {
    "id": "83ef0d80-48ec-4a5a-8acd-0fab137243c3",
    "tags": []
   },
   "outputs": [
    {
     "data": {
      "text/html": [
       "<div>\n",
       "<style scoped>\n",
       "    .dataframe tbody tr th:only-of-type {\n",
       "        vertical-align: middle;\n",
       "    }\n",
       "\n",
       "    .dataframe tbody tr th {\n",
       "        vertical-align: top;\n",
       "    }\n",
       "\n",
       "    .dataframe thead th {\n",
       "        text-align: right;\n",
       "    }\n",
       "</style>\n",
       "<table border=\"1\" class=\"dataframe\">\n",
       "  <thead>\n",
       "    <tr style=\"text-align: right;\">\n",
       "      <th></th>\n",
       "      <th>aqi</th>\n",
       "      <th>state_name</th>\n",
       "    </tr>\n",
       "    <tr>\n",
       "      <th>state_name</th>\n",
       "      <th></th>\n",
       "      <th></th>\n",
       "    </tr>\n",
       "  </thead>\n",
       "  <tbody>\n",
       "    <tr>\n",
       "      <th>California</th>\n",
       "      <td>12.121212</td>\n",
       "      <td>66</td>\n",
       "    </tr>\n",
       "    <tr>\n",
       "      <th>Florida</th>\n",
       "      <td>5.500000</td>\n",
       "      <td>12</td>\n",
       "    </tr>\n",
       "    <tr>\n",
       "      <th>Michigan</th>\n",
       "      <td>8.111111</td>\n",
       "      <td>9</td>\n",
       "    </tr>\n",
       "    <tr>\n",
       "      <th>Ohio</th>\n",
       "      <td>3.333333</td>\n",
       "      <td>12</td>\n",
       "    </tr>\n",
       "    <tr>\n",
       "      <th>Pennsylvania</th>\n",
       "      <td>2.900000</td>\n",
       "      <td>10</td>\n",
       "    </tr>\n",
       "    <tr>\n",
       "      <th>Texas</th>\n",
       "      <td>2.700000</td>\n",
       "      <td>10</td>\n",
       "    </tr>\n",
       "  </tbody>\n",
       "</table>\n",
       "</div>"
      ],
      "text/plain": [
       "                    aqi  state_name\n",
       "state_name                         \n",
       "California    12.121212          66\n",
       "Florida        5.500000          12\n",
       "Michigan       8.111111           9\n",
       "Ohio           3.333333          12\n",
       "Pennsylvania   2.900000          10\n",
       "Texas          2.700000          10"
      ]
     },
     "execution_count": 14,
     "metadata": {},
     "output_type": "execute_result"
    }
   ],
   "source": [
    "# Summarize the mean AQI for RRE states.\n",
    "\n",
    "### YOUR CODE HERE ###\n",
    "\n",
    "# Create a list of RRE states.\n",
    "rre_states = ['California','Florida','Michigan','Ohio','Pennsylvania','Texas']\n",
    "\n",
    "# Subset `aqi` to only consider these states.\n",
    "aqi_rre = aqi[aqi['state_name'].isin(rre_states)]\n",
    "\n",
    "# Find the mean aqi for each of the RRE states.\n",
    "aqi_rre.groupby(['state_name']).agg({\"aqi\":\"mean\",\"state_name\":\"count\"})"
   ]
  },
  {
   "cell_type": "markdown",
   "metadata": {
    "id": "1078da6e-ce25-45c1-9707-9bf32ecc128f"
   },
   "source": [
    "<details>\n",
    "  <summary><h4><strong>Hint 1</strong></h4></summary>\n",
    "\n",
    "Subset your DataFrame to only include those states in which RRE operates. \n",
    "    \n",
    "</details>"
   ]
  },
  {
   "cell_type": "markdown",
   "metadata": {
    "id": "096f97f3-7d89-4f0f-805a-2517807eec0d"
   },
   "source": [
    "<details>\n",
    "  <summary><h4><strong>Hint 2</strong></h4></summary>\n",
    "\n",
    "Define a list consisting of the states in which RRE operates and use that list to subset your DataFrame. \n",
    "    \n",
    "</details>"
   ]
  },
  {
   "cell_type": "markdown",
   "metadata": {
    "id": "77d4a686-be3d-40c1-9d27-099677f182b9"
   },
   "source": [
    "<details>\n",
    "  <summary><h4><strong>Hint 3</strong></h4></summary>\n",
    "\n",
    "Use `pandas` `isin.()` to subset your DataFrame by the list of RRE states.\n",
    "    \n",
    "</details>"
   ]
  },
  {
   "cell_type": "markdown",
   "metadata": {
    "id": "883abc8c-5aa9-480e-ac4b-c1c64f8ae0fd"
   },
   "source": [
    "### Construct a boxplot visualization for the AQI of these states\n",
    "\n",
    "Seaborn is a simple visualization library, commonly imported as `sns`. Import `seaborn`. Then utilize a boxplot visualization from this library to compare the distributions of AQI scores by state."
   ]
  },
  {
   "cell_type": "code",
   "execution_count": 15,
   "metadata": {
    "id": "ca381599-7cba-4454-922c-3383a2b7608d"
   },
   "outputs": [],
   "source": [
    "# Import seaborn as sns.\n",
    "\n",
    "### YOUR CODE HERE ###\n",
    "\n",
    "import seaborn as sns"
   ]
  },
  {
   "cell_type": "markdown",
   "metadata": {
    "id": "01510e30-26e6-4408-9599-e7016fdb9948"
   },
   "source": [
    "### Create an in-line visualization showing the distribution of `aqi` by `state_name`\n",
    "\n",
    "Now, create an in-line visualization showing the distribution of `aqi` by `state_name`."
   ]
  },
  {
   "cell_type": "code",
   "execution_count": 16,
   "metadata": {
    "id": "50040050-1ff3-4d0e-a9e1-d2fd00454ce3"
   },
   "outputs": [
    {
     "data": {
      "text/plain": [
       "<Axes: xlabel='state_name', ylabel='aqi'>"
      ]
     },
     "execution_count": 16,
     "metadata": {},
     "output_type": "execute_result"
    },
    {
     "data": {
      "image/png": "[encoded data removed]",
      "text/plain": [
       "<Figure size 640x480 with 1 Axes>"
      ]
     },
     "metadata": {},
     "output_type": "display_data"
    }
   ],
   "source": [
    "### YOUR CODE HERE ###\n",
    "\n",
    "sns.boxplot(x=aqi_rre[\"state_name\"],y=aqi_rre[\"aqi\"])"
   ]
  },
  {
   "cell_type": "markdown",
   "metadata": {
    "id": "2ec7b69d-072c-4c42-b0b4-7cff1aaa1579"
   },
   "source": [
    "<details>\n",
    "  <summary><h4><strong>Hint 1</strong></h4></summary>\n",
    "\n",
    "Use the boxplot visual for this purpose.\n",
    "    \n",
    "</details>"
   ]
  },
  {
   "cell_type": "markdown",
   "metadata": {
    "id": "4218e686-47fc-49cc-b98d-fbca88144a34",
    "tags": []
   },
   "source": [
    "<details>\n",
    "  <summary><h4><strong>Hint 2</strong></h4></summary>\n",
    "\n",
    "Reference [Seaborn's boxplot visualization documentation](https://seaborn.pydata.org/generated/seaborn.boxplot.html). \n",
    "    \n",
    "</details>"
   ]
  },
  {
   "cell_type": "markdown",
   "metadata": {
    "id": "a3f8a76b-a277-4488-adf2-0ffc9d89e496",
    "tags": []
   },
   "source": [
    "<details>\n",
    "  <summary><h4><strong>Hint 3</strong></h4></summary>\n",
    "\n",
    "Assign `state_name` to the x argument and `aqi` to the y.\n",
    "    \n",
    "</details>"
   ]
  },
  {
   "cell_type": "markdown",
   "metadata": {
    "id": "5e2af1a1-7816-4d8b-929b-41268234a579"
   },
   "source": [
    "**Question:** Based on the data and your visualizations, which state(s) do you suspect will be most affected by this policy?"
   ]
  },
  {
   "cell_type": "markdown",
   "metadata": {
    "id": "ZbPjfp_wgVpg"
   },
   "source": [
    "[Write your response here. Double-click (or enter) to edit.]"
   ]
  },
  {
   "cell_type": "markdown",
   "metadata": {
    "id": "30760c51-641f-4971-9837-4ae60b72cd64"
   },
   "source": [
    "<details>\n",
    "  <summary><h4><strong>Hint 1</strong></h4></summary>\n",
    "\n",
    "Consider the mean AQI for the RRE states, as well as the distribution in the boxplots relative to the policy limit (10).\n",
    "    \n",
    "</details>"
   ]
  },
  {
   "cell_type": "markdown",
   "metadata": {
    "id": "b01231e9-0a80-4457-a47e-c62c2c230ae4"
   },
   "source": [
    "### Construct a confidence interval for the RRE state with the highest mean AQI\n",
    "\n",
    "Recall the 4-step process in constructing a confidence interval:\n",
    "\n",
    "1.   Identify a sample statistic.\n",
    "2.   Choose a confidence level.\n",
    "3.   Find the margin of error. \n",
    "4.   Calculate the interval."
   ]
  },
  {
   "cell_type": "markdown",
   "metadata": {
    "id": "587f8053-6cbd-454a-a390-9307e5a65b1b"
   },
   "source": [
    "### Construct your sample statistic\n",
    "\n",
    "To contruct your sample statistic, find the mean AQI for your state."
   ]
  },
  {
   "cell_type": "code",
   "execution_count": 17,
   "metadata": {
    "id": "58af6462-80ab-4055-85de-c99c87129752"
   },
   "outputs": [
    {
     "data": {
      "text/plain": [
       "np.float64(8.11111111111111)"
      ]
     },
     "execution_count": 17,
     "metadata": {},
     "output_type": "execute_result"
    }
   ],
   "source": [
    "# Find the mean aqi for your state.\n",
    "\n",
    "### YOUR CODE HERE ###\n",
    "\n",
    "\n",
    "aqi_ca = aqi[aqi['state_name']=='Michigan']\n",
    "\n",
    "sample_mean = aqi_ca['aqi'].mean()\n",
    "sample_mean"
   ]
  },
  {
   "cell_type": "markdown",
   "metadata": {
    "id": "3361efb6-9def-4140-8d55-061487583b3e"
   },
   "source": [
    "<details>\n",
    "  <summary><h4><strong>Hint 1</strong></h4></summary>\n",
    "\n",
    "Reference what you've previously learned to recall what a [sample statistic](https://www.coursera.org/learn/the-power-of-statistics/supplement/cdOx7/construct-a-confidence-interval-for-a-small-sample-size) is.\n",
    "    \n",
    "</details>"
   ]
  },
  {
   "cell_type": "markdown",
   "metadata": {
    "id": "54189c3c-a318-447b-b48f-b7bcd9b8a178"
   },
   "source": [
    "<details>\n",
    "  <summary><h4><strong>Hint 2</strong></h4></summary>\n",
    "\n",
    "Calculate the mean for your highest AQI state to arrive at your sample statistic.\n",
    "    \n",
    "</details>"
   ]
  },
  {
   "cell_type": "markdown",
   "metadata": {
    "id": "a2659e8e-1f67-441f-825c-8473c9f88081"
   },
   "source": [
    "<details>\n",
    " <summary><h4><strong>Hint 3</strong></h4></summary>\n",
    "\n",
    "Call the `mean()` function within `pandas` on your DataFrame.\n",
    "    \n",
    "</details>"
   ]
  },
  {
   "cell_type": "markdown",
   "metadata": {
    "id": "9a15605d-5b99-4033-940f-1fab630ad6c1"
   },
   "source": [
    "### Choose your confidence level\n",
    "\n",
    "Choose your confidence level for your analysis. The most typical confidence level chosen is 95%; however, you can choose 90% or 99% if you want decrease or increase (respectively) your level of confidence about your result."
   ]
  },
  {
   "cell_type": "code",
   "execution_count": 23,
   "metadata": {
    "id": "0a9c1f39-b4e2-4ec3-9369-dd313fd2d835",
    "outputId": "c035e170-c781-46b7-d1ec-5af2c66a7b1f"
   },
   "outputs": [],
   "source": [
    "# Input your confidence level here:\n",
    "\n",
    "### YOUR CODE HERE ###\n",
    "\n",
    "confidence_level = 0.99"
   ]
  },
  {
   "cell_type": "markdown",
   "metadata": {
    "id": "ac18cb1b-40ca-4de3-bc0a-08be82f64781"
   },
   "source": [
    "### Find your margin of error (ME)\n",
    "\n",
    "Recall **margin of error = z * standard error**, where z is the appropriate z-value for the given confidence level. To calculate your margin of error:\n",
    "\n",
    "- Find your z-value. \n",
    "- Find the approximate z for common confidence levels.\n",
    "- Calculate your **standard error** estimate. \n",
    "\n",
    "| Confidence Level | Z Score |\n",
    "| --- | --- |\n",
    "| 90% | 1.65 |\n",
    "| 95% | 1.96 |\n",
    "| 99% | 2.58 |\n"
   ]
  },
  {
   "cell_type": "code",
   "execution_count": 24,
   "metadata": {
    "id": "930e5fb6-171c-4bba-a601-d5e3b84e2fdb"
   },
   "outputs": [],
   "source": [
    "# Calculate your margin of error.\n",
    "\n",
    "### YOUR CODE HERE ###\n",
    "\n",
    "# Begin by identifying the z associated with your chosen confidence level.\n",
    "z_value = 2.58\n",
    "\n",
    "# Next, calculate your standard error.\n",
    "standard_error = aqi_ca['aqi'].std() / np.sqrt(aqi_ca.shape[0])\n",
    "\n",
    "# Lastly, use the preceding result to calculate your margin of error.\n",
    "\n",
    "margin_of_error = standard_error * z_value"
   ]
  },
  {
   "cell_type": "markdown",
   "metadata": {
    "id": "6b0d173b-06d4-4e82-81d8-092b24132bd2"
   },
   "source": [
    "### Calculate your interval\n",
    "\n",
    "Calculate both a lower and upper limit surrounding your sample mean to create your interval."
   ]
  },
  {
   "cell_type": "code",
   "execution_count": 25,
   "metadata": {
    "id": "f83a7ba7-afdd-4d8c-8b78-849cff363180"
   },
   "outputs": [
    {
     "data": {
      "text/plain": [
       "(np.float64(5.309686870161915), np.float64(10.912535352060306))"
      ]
     },
     "execution_count": 25,
     "metadata": {},
     "output_type": "execute_result"
    }
   ],
   "source": [
    "# Calculate your confidence interval (upper and lower limits).\n",
    "\n",
    "### YOUR CODE HERE ###\n",
    "\n",
    "upper_ci_limit = sample_mean + margin_of_error\n",
    "lower_ci_limit = sample_mean - margin_of_error\n",
    "(lower_ci_limit, upper_ci_limit)"
   ]
  },
  {
   "cell_type": "markdown",
   "metadata": {
    "id": "5c6af474-8803-40c3-88fe-3ae8d4523097"
   },
   "source": [
    "<details>\n",
    "  <summary><h4><strong>Hint 1</strong></h4></summary>\n",
    "\n",
    "Refer to [the content about constructing a confidence interval](https://www.coursera.org/learn/the-power-of-statistics/lecture/3jbsX/construct-a-confidence-interval-for-a-proportion).\n",
    "    \n",
    "</details>"
   ]
  },
  {
   "cell_type": "markdown",
   "metadata": {
    "id": "d515ba65-5524-492e-ba06-64d3a4e90e8f"
   },
   "source": [
    "<details>\n",
    "  <summary><h4><strong>Hint 2</strong></h4></summary>\n",
    "\n",
    "Identify the sample mean from your prior work. Then use the margin of error to construct your upper and lower limits.  \n",
    "    \n",
    "</details>"
   ]
  },
  {
   "cell_type": "markdown",
   "metadata": {
    "id": "22532a0b-8db5-4874-9869-39d3e80a5ea9"
   },
   "source": [
    "<details>\n",
    "  <summary><h4><strong>Hint 3</strong></h4></summary>\n",
    "\n",
    "Subtract the margin of error from the sample mean to construct your lower limit, and add the margin of error to your sample mean to construct your upper limit.\n",
    "    \n",
    "</details>"
   ]
  },
  {
   "cell_type": "markdown",
   "metadata": {
    "id": "82e06ed3-2ec3-4851-b3df-2c6d969ea616"
   },
   "source": [
    "### Alternative: Construct the interval using `scipy.stats.norm.interval()`\n",
    "\n",
    "`scipy` presents a simpler solution to developing a confidence interval. To use this, first import the `stats` module from `scipy`."
   ]
  },
  {
   "cell_type": "code",
   "execution_count": 26,
   "metadata": {
    "id": "0b6d2ecc-03ff-47ab-9d2d-57857fc38ca0"
   },
   "outputs": [],
   "source": [
    "# Import stats from scipy.\n",
    "\n",
    "### YOUR CODE HERE ###\n",
    "\n",
    "from scipy import stats"
   ]
  },
  {
   "cell_type": "markdown",
   "metadata": {
    "id": "ba8af068-f28e-4c29-82c9-238bc0f16ed1"
   },
   "source": [
    "## Step 4: Results and evaluation\n",
    "\n",
    "### Recalculate your confidence interval\n",
    "\n",
    "Provide your chosen `confidence_level`, `sample_mean`, and `standard_error` to `stats.norm.interval()` and recalculate your confidence interval."
   ]
  },
  {
   "cell_type": "code",
   "execution_count": 28,
   "metadata": {
    "id": "f908eb99-ce5c-472f-891e-80a47cef5fed"
   },
   "outputs": [
    {
     "data": {
      "text/plain": [
       "(np.float64(5.314215509750966), np.float64(10.908006712471256))"
      ]
     },
     "execution_count": 28,
     "metadata": {},
     "output_type": "execute_result"
    }
   ],
   "source": [
    "### YOUR CODE HERE ###\n",
    "\n",
    "stats.norm.interval(confidence=confidence_level, loc=sample_mean, scale=standard_error)"
   ]
  },
  {
   "cell_type": "markdown",
   "metadata": {
    "id": "feb3e273-1aab-4965-bceb-8b8933c743b5"
   },
   "source": [
    "# Considerations\n",
    "\n",
    "**What are some key takeaways that you learned from this lab?**\n",
    "\n",
    "[Write your response here. Double-click (or enter) to edit.]\n",
    "\n",
    "**What findings would you share with others?**\n",
    "\n",
    "[Write your response here. Double-click (or enter) to edit.]\n",
    "\n",
    "**What would you convey to external stakeholders?**\n",
    "\n",
    "[Write your response here. Double-click (or enter) to edit.]"
   ]
  },
  {
   "cell_type": "markdown",
   "metadata": {
    "id": "0IVWUekbeFEq"
   },
   "source": [
    "**References**\n",
    "\n",
    "[seaborn.boxplot — seaborn 0.12.1 documentation](https://seaborn.pydata.org/generated/seaborn.boxplot.html). (n.d.). "
   ]
  },
  {
   "cell_type": "markdown",
   "metadata": {},
   "source": [
    "**Congratulations!** You've completed this lab. However, you may not notice a green check mark next to this item on Coursera's platform. Please continue your progress regardless of the check mark. Just click on the \"save\" icon at the top of this notebook to ensure your work has been logged."
   ]
  }
 ],
 "metadata": {
  "colab": {
   "collapsed_sections": [],
   "provenance": []
  },
  "kernelspec": {
   "display_name": ".venv",
   "language": "python",
   "name": "python3"
  },
  "language_info": {
   "codemirror_mode": {
    "name": "ipython",
    "version": 3
   },
   "file_extension": ".py",
   "mimetype": "text/x-python",
   "name": "python",
   "nbconvert_exporter": "python",
   "pygments_lexer": "ipython3",
   "version": "3.12.11"
  }
 },
 "nbformat": 4,
 "nbformat_minor": 5
}
