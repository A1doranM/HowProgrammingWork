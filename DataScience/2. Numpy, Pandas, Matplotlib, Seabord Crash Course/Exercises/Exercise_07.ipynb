{
 "cells": [
  {
   "cell_type": "markdown",
   "metadata": {},
   "source": [
    "# Coding Exercises (Appendix 3)"
   ]
  },
  {
   "cell_type": "markdown",
   "metadata": {},
   "source": [
    "Now, you will have the opportunity to practice what you have learned. <br>\n",
    "__Follow the instructions__ and insert your code! "
   ]
  },
  {
   "cell_type": "markdown",
   "metadata": {},
   "source": [
    "The correct answer is provided below your coding cell. There you can check whether your code is correct."
   ]
  },
  {
   "cell_type": "markdown",
   "metadata": {},
   "source": [
    "If you need some help or if you want to check your code, you can also have a look at the __solutions__."
   ]
  },
  {
   "cell_type": "markdown",
   "metadata": {},
   "source": [
    "### Have Fun!"
   ]
  },
  {
   "cell_type": "markdown",
   "metadata": {},
   "source": [
    "--------------------------------------------------------------------------------------------------------------"
   ]
  },
  {
   "cell_type": "markdown",
   "metadata": {},
   "source": [
    "## Exercise 7: The Numpy Package: Working with numbers made easy!"
   ]
  },
  {
   "cell_type": "markdown",
   "metadata": {},
   "source": [
    "1. Import Numpy!"
   ]
  },
  {
   "cell_type": "code",
   "metadata": {
    "ExecuteTime": {
     "end_time": "2024-10-09T09:09:01.899270Z",
     "start_time": "2024-10-09T09:09:01.802936Z"
    }
   },
   "source": "import numpy as np  ",
   "outputs": [],
   "execution_count": 1
  },
  {
   "cell_type": "code",
   "metadata": {
    "ExecuteTime": {
     "end_time": "2024-10-09T09:09:01.919990Z",
     "start_time": "2024-10-09T09:09:01.916562Z"
    }
   },
   "source": "eur_cur = np.array([23.65, 43.21, 73.01, 87.32])",
   "outputs": [],
   "execution_count": 2
  },
  {
   "cell_type": "markdown",
   "metadata": {},
   "source": [
    "2. You have the following stock Prices in EUR Currency : [23.65, 43.21, 73.01, 87.32]<br>\n",
    "\n",
    "Create a __Numpy array__ and __convert all prices__ to USD Currency @ an fx rate of __1.2__ (1.2 USD per 1 EUR)."
   ]
  },
  {
   "cell_type": "code",
   "metadata": {
    "ExecuteTime": {
     "end_time": "2024-10-09T09:09:02.069900Z",
     "start_time": "2024-10-09T09:09:02.067283Z"
    }
   },
   "source": "usd_cur = eur_cur * 1.2",
   "outputs": [],
   "execution_count": 3
  },
  {
   "cell_type": "code",
   "metadata": {
    "ExecuteTime": {
     "end_time": "2024-10-09T09:09:02.131020Z",
     "start_time": "2024-10-09T09:09:02.124101Z"
    }
   },
   "source": "usd_cur",
   "outputs": [
    {
     "data": {
      "text/plain": [
       "array([ 28.38 ,  51.852,  87.612, 104.784])"
      ]
     },
     "execution_count": 4,
     "metadata": {},
     "output_type": "execute_result"
    }
   ],
   "execution_count": 4
  },
  {
   "cell_type": "markdown",
   "metadata": {},
   "source": [
    "(result: array([ 28.38 ,  51.852,  87.612, 104.784])"
   ]
  },
  {
   "cell_type": "code",
   "metadata": {
    "ExecuteTime": {
     "end_time": "2024-10-09T09:09:02.247464Z",
     "start_time": "2024-10-09T09:09:02.244865Z"
    }
   },
   "source": [
    "end_of_2017 = np.array([33.65, 63.21, 53.01, 17.32])\n",
    "end_of_2018 = np.array([36.54, 61.59, 60.31, 10.40])"
   ],
   "outputs": [],
   "execution_count": 5
  },
  {
   "cell_type": "markdown",
   "metadata": {},
   "source": [
    "You have the \n",
    "- end-of-2017 stock prices for four companies: [33.65, 63.21, 53.01, 17.32]\n",
    "- end-of-2018 stock prices for the same companies: [36.54, 61.59, 60.31, 10.40]"
   ]
  },
  {
   "cell_type": "markdown",
   "metadata": {},
   "source": [
    "3. Calculate the __absolute__ price increase / decrease in 2018 __for all four companies__. Use __vectorized__ numpy code!"
   ]
  },
  {
   "cell_type": "code",
   "metadata": {
    "ExecuteTime": {
     "end_time": "2024-10-09T09:09:02.295926Z",
     "start_time": "2024-10-09T09:09:02.293760Z"
    }
   },
   "source": [],
   "outputs": [],
   "execution_count": null
  },
  {
   "cell_type": "code",
   "metadata": {
    "ExecuteTime": {
     "end_time": "2024-10-09T09:09:02.347195Z",
     "start_time": "2024-10-09T09:09:02.344943Z"
    }
   },
   "source": [],
   "outputs": [],
   "execution_count": null
  },
  {
   "cell_type": "code",
   "metadata": {
    "ExecuteTime": {
     "end_time": "2024-10-09T09:09:02.403071Z",
     "start_time": "2024-10-09T09:09:02.401317Z"
    }
   },
   "source": [],
   "outputs": [],
   "execution_count": null
  },
  {
   "cell_type": "markdown",
   "metadata": {},
   "source": [
    "4. Calculate the __price return__ in 2018 __for all four companies__. Use __vectorized__ numpy code!"
   ]
  },
  {
   "cell_type": "code",
   "metadata": {
    "ExecuteTime": {
     "end_time": "2024-10-09T09:09:02.462332Z",
     "start_time": "2024-10-09T09:09:02.460301Z"
    }
   },
   "source": [],
   "outputs": [],
   "execution_count": null
  },
  {
   "cell_type": "code",
   "metadata": {
    "ExecuteTime": {
     "end_time": "2024-10-09T09:09:02.514581Z",
     "start_time": "2024-10-09T09:09:02.512246Z"
    }
   },
   "source": [],
   "outputs": [],
   "execution_count": null
  },
  {
   "cell_type": "markdown",
   "metadata": {},
   "source": [
    "You have the following list with cashflows (starting today at t0): [-500, -100, 200, 600, 1000, 800]"
   ]
  },
  {
   "cell_type": "code",
   "metadata": {
    "ExecuteTime": {
     "end_time": "2024-10-09T09:09:02.562471Z",
     "start_time": "2024-10-09T09:09:02.558477Z"
    }
   },
   "source": [
    "#run the cell!\n",
    "l  = [-500, -100, 200, 600, 1000, 800]"
   ],
   "outputs": [],
   "execution_count": 6
  },
  {
   "cell_type": "markdown",
   "metadata": {},
   "source": [
    "5. Convert l into a __numpy array__ and __save__ the array in memory! __Select__ the __second cashflow__ at t1."
   ]
  },
  {
   "cell_type": "code",
   "metadata": {
    "ExecuteTime": {
     "end_time": "2024-10-09T09:09:02.612431Z",
     "start_time": "2024-10-09T09:09:02.610661Z"
    }
   },
   "source": [],
   "outputs": [],
   "execution_count": null
  },
  {
   "cell_type": "code",
   "metadata": {
    "ExecuteTime": {
     "end_time": "2024-10-09T09:09:02.659300Z",
     "start_time": "2024-10-09T09:09:02.656888Z"
    }
   },
   "source": [],
   "outputs": [],
   "execution_count": null
  },
  {
   "cell_type": "markdown",
   "metadata": {},
   "source": [
    "6. __Slice__ the array for the __last two cashflows__!"
   ]
  },
  {
   "cell_type": "code",
   "metadata": {
    "ExecuteTime": {
     "end_time": "2024-10-09T09:09:02.712117Z",
     "start_time": "2024-10-09T09:09:02.709339Z"
    }
   },
   "source": [],
   "outputs": [],
   "execution_count": null
  },
  {
   "cell_type": "markdown",
   "metadata": {},
   "source": [
    "7. __Slice__ the array for the cashflows in __t2, t3 and t4__."
   ]
  },
  {
   "cell_type": "code",
   "metadata": {
    "ExecuteTime": {
     "end_time": "2024-10-09T09:09:02.766347Z",
     "start_time": "2024-10-09T09:09:02.764267Z"
    }
   },
   "source": [],
   "outputs": [],
   "execution_count": null
  },
  {
   "cell_type": "code",
   "metadata": {
    "ExecuteTime": {
     "end_time": "2024-10-09T09:09:02.818022Z",
     "start_time": "2024-10-09T09:09:02.815651Z"
    }
   },
   "source": [],
   "outputs": [],
   "execution_count": null
  },
  {
   "cell_type": "markdown",
   "metadata": {},
   "source": [
    "The ABC Company evaluates to buy an additional machine that will increase future profits/cashflows by\n",
    "- 50 USD in t1, \n",
    "- 80 USD in t2,\n",
    "- 120 USD in t3, \n",
    "- 150 USD in t4,\n",
    "- 200 USD in t5. (each cf at period´s end)<br>"
   ]
  },
  {
   "cell_type": "markdown",
   "metadata": {},
   "source": [
    "8. The machine costs 500 USD (Investment in to). Calculate the __Project´s NPV__ and evaluate whether ABC should pursue the project. <br> ABC´s required rate of return (Cost of Capital) is 7.5% p.a. Use __vectorized__ numpy code!"
   ]
  },
  {
   "cell_type": "code",
   "metadata": {
    "ExecuteTime": {
     "end_time": "2024-10-09T09:09:02.868919Z",
     "start_time": "2024-10-09T09:09:02.863880Z"
    }
   },
   "source": [
    "# run the cell\n",
    "cf = np.array([-500, 50, 80, 120, 150, 200])\n",
    "cf"
   ],
   "outputs": [
    {
     "data": {
      "text/plain": [
       "array([-500,   50,   80,  120,  150,  200])"
      ]
     },
     "execution_count": 7,
     "metadata": {},
     "output_type": "execute_result"
    }
   ],
   "execution_count": 7
  },
  {
   "cell_type": "code",
   "metadata": {
    "ExecuteTime": {
     "end_time": "2024-10-09T09:09:02.930366Z",
     "start_time": "2024-10-09T09:09:02.928069Z"
    }
   },
   "source": [],
   "outputs": [],
   "execution_count": null
  },
  {
   "cell_type": "code",
   "metadata": {
    "ExecuteTime": {
     "end_time": "2024-10-09T09:09:02.978412Z",
     "start_time": "2024-10-09T09:09:02.976392Z"
    }
   },
   "source": [],
   "outputs": [],
   "execution_count": null
  },
  {
   "cell_type": "code",
   "metadata": {
    "ExecuteTime": {
     "end_time": "2024-10-09T09:09:03.032672Z",
     "start_time": "2024-10-09T09:09:03.029832Z"
    }
   },
   "source": [],
   "outputs": [],
   "execution_count": null
  },
  {
   "cell_type": "markdown",
   "metadata": {},
   "source": [
    "(result: -36.03468883756554 -> no!)"
   ]
  },
  {
   "cell_type": "code",
   "metadata": {
    "ExecuteTime": {
     "end_time": "2024-10-09T09:09:03.087208Z",
     "start_time": "2024-10-09T09:09:03.084774Z"
    }
   },
   "source": [],
   "outputs": [],
   "execution_count": null
  },
  {
   "cell_type": "markdown",
   "metadata": {},
   "source": [
    "9. __Slice__ the array cf (from question 8) for the positive inflows (__from t1__) and __save__ the slice in the __variable cf_pos__. <br> Make sure that once you __change the slice cf_pos__, the array __cf shall change as well__!"
   ]
  },
  {
   "cell_type": "code",
   "metadata": {
    "ExecuteTime": {
     "end_time": "2024-10-09T09:09:03.136831Z",
     "start_time": "2024-10-09T09:09:03.134896Z"
    }
   },
   "source": [],
   "outputs": [],
   "execution_count": null
  },
  {
   "cell_type": "code",
   "metadata": {
    "ExecuteTime": {
     "end_time": "2024-10-09T09:09:03.212830Z",
     "start_time": "2024-10-09T09:09:03.210320Z"
    }
   },
   "source": [],
   "outputs": [],
   "execution_count": null
  },
  {
   "cell_type": "markdown",
   "metadata": {},
   "source": [
    "10. Change the first cashflow (t1) of __cf_pos to 70__. Check whether __cf gets mutated as well__!"
   ]
  },
  {
   "cell_type": "code",
   "metadata": {
    "ExecuteTime": {
     "end_time": "2024-10-09T09:09:03.274516Z",
     "start_time": "2024-10-09T09:09:03.272457Z"
    }
   },
   "source": [],
   "outputs": [],
   "execution_count": null
  },
  {
   "cell_type": "code",
   "metadata": {
    "ExecuteTime": {
     "end_time": "2024-10-09T09:09:03.322544Z",
     "start_time": "2024-10-09T09:09:03.320690Z"
    }
   },
   "source": [],
   "outputs": [],
   "execution_count": null
  },
  {
   "cell_type": "code",
   "metadata": {
    "ExecuteTime": {
     "end_time": "2024-10-09T09:09:03.384410Z",
     "start_time": "2024-10-09T09:09:03.381997Z"
    }
   },
   "source": [],
   "outputs": [],
   "execution_count": null
  },
  {
   "cell_type": "markdown",
   "metadata": {},
   "source": [
    "11. __Restore cf__ and __redo Q9 and Q10__. This time make sure that cf and cf_pos are __independent objects__! "
   ]
  },
  {
   "cell_type": "code",
   "metadata": {
    "ExecuteTime": {
     "end_time": "2024-10-09T09:09:03.432819Z",
     "start_time": "2024-10-09T09:09:03.430973Z"
    }
   },
   "source": [],
   "outputs": [],
   "execution_count": null
  },
  {
   "cell_type": "code",
   "metadata": {
    "ExecuteTime": {
     "end_time": "2024-10-09T09:09:03.485244Z",
     "start_time": "2024-10-09T09:09:03.483344Z"
    }
   },
   "source": [],
   "outputs": [],
   "execution_count": null
  },
  {
   "cell_type": "code",
   "metadata": {
    "ExecuteTime": {
     "end_time": "2024-10-09T09:09:03.537769Z",
     "start_time": "2024-10-09T09:09:03.535830Z"
    }
   },
   "source": [],
   "outputs": [],
   "execution_count": null
  },
  {
   "cell_type": "code",
   "metadata": {
    "ExecuteTime": {
     "end_time": "2024-10-09T09:09:03.585468Z",
     "start_time": "2024-10-09T09:09:03.582599Z"
    }
   },
   "source": [],
   "outputs": [],
   "execution_count": null
  },
  {
   "cell_type": "code",
   "metadata": {
    "ExecuteTime": {
     "end_time": "2024-10-09T09:09:03.640715Z",
     "start_time": "2024-10-09T09:09:03.638642Z"
    }
   },
   "source": [],
   "outputs": [],
   "execution_count": null
  },
  {
   "cell_type": "markdown",
   "metadata": {},
   "source": [
    "12. Calculate the __total sum__ over all cashflows of cf!"
   ]
  },
  {
   "cell_type": "code",
   "metadata": {
    "ExecuteTime": {
     "end_time": "2024-10-09T09:09:03.719491Z",
     "start_time": "2024-10-09T09:09:03.714334Z"
    }
   },
   "source": [
    "# run the cell\n",
    "cf = np.array([-500, 50, 80, 120, 150, 200])\n",
    "cf"
   ],
   "outputs": [
    {
     "data": {
      "text/plain": [
       "array([-500,   50,   80,  120,  150,  200])"
      ]
     },
     "execution_count": 8,
     "metadata": {},
     "output_type": "execute_result"
    }
   ],
   "execution_count": 8
  },
  {
   "cell_type": "code",
   "metadata": {
    "ExecuteTime": {
     "end_time": "2024-10-09T09:09:03.791855Z",
     "start_time": "2024-10-09T09:09:03.789757Z"
    }
   },
   "source": [],
   "outputs": [],
   "execution_count": null
  },
  {
   "cell_type": "code",
   "metadata": {
    "ExecuteTime": {
     "end_time": "2024-10-09T09:09:03.838260Z",
     "start_time": "2024-10-09T09:09:03.836417Z"
    }
   },
   "source": [],
   "outputs": [],
   "execution_count": null
  },
  {
   "cell_type": "markdown",
   "metadata": {},
   "source": [
    "13. Return the __highest Value__ of cf!"
   ]
  },
  {
   "cell_type": "code",
   "metadata": {
    "ExecuteTime": {
     "end_time": "2024-10-09T09:09:03.889524Z",
     "start_time": "2024-10-09T09:09:03.887290Z"
    }
   },
   "source": [],
   "outputs": [],
   "execution_count": null
  },
  {
   "cell_type": "markdown",
   "metadata": {},
   "source": [
    "14. Calculate the __cumulative cashflows__ for cf!"
   ]
  },
  {
   "cell_type": "code",
   "metadata": {
    "ExecuteTime": {
     "end_time": "2024-10-09T09:09:03.943588Z",
     "start_time": "2024-10-09T09:09:03.941377Z"
    }
   },
   "source": [],
   "outputs": [],
   "execution_count": null
  },
  {
   "cell_type": "code",
   "metadata": {
    "ExecuteTime": {
     "end_time": "2024-10-09T09:09:03.990944Z",
     "start_time": "2024-10-09T09:09:03.988545Z"
    }
   },
   "source": [],
   "outputs": [],
   "execution_count": null
  },
  {
   "cell_type": "markdown",
   "metadata": {},
   "source": [
    "15. Assume the following list: [3, 10, 6, 45, 100]. Calculate the __square root__ for all elements in the list. "
   ]
  },
  {
   "cell_type": "code",
   "metadata": {
    "ExecuteTime": {
     "end_time": "2024-10-09T09:09:04.063953Z",
     "start_time": "2024-10-09T09:09:04.061883Z"
    }
   },
   "source": [],
   "outputs": [],
   "execution_count": null
  },
  {
   "cell_type": "code",
   "metadata": {
    "ExecuteTime": {
     "end_time": "2024-10-09T09:09:04.114813Z",
     "start_time": "2024-10-09T09:09:04.111619Z"
    }
   },
   "source": [],
   "outputs": [],
   "execution_count": null
  },
  {
   "cell_type": "markdown",
   "metadata": {},
   "source": [
    "Assume the following stock prices:"
   ]
  },
  {
   "cell_type": "code",
   "metadata": {
    "ExecuteTime": {
     "end_time": "2024-10-09T09:09:04.163711Z",
     "start_time": "2024-10-09T09:09:04.159520Z"
    }
   },
   "source": [
    "# run the cell!\n",
    "a = np.array([0.34, 43.56, 32.12, 67.43, 0.87, 9.87])\n",
    "a"
   ],
   "outputs": [
    {
     "data": {
      "text/plain": [
       "array([ 0.34, 43.56, 32.12, 67.43,  0.87,  9.87])"
      ]
     },
     "execution_count": 9,
     "metadata": {},
     "output_type": "execute_result"
    }
   ],
   "execution_count": 9
  },
  {
   "cell_type": "markdown",
   "metadata": {},
   "source": [
    "16. __Filter__ a for all penny stocks! (price less than 1)"
   ]
  },
  {
   "cell_type": "code",
   "metadata": {
    "ExecuteTime": {
     "end_time": "2024-10-09T09:09:04.237840Z",
     "start_time": "2024-10-09T09:09:04.235878Z"
    }
   },
   "source": [],
   "outputs": [],
   "execution_count": null
  },
  {
   "cell_type": "markdown",
   "metadata": {},
   "source": [
    "(result: array([0.34, 0.87]))"
   ]
  },
  {
   "cell_type": "code",
   "metadata": {
    "ExecuteTime": {
     "end_time": "2024-10-09T09:09:04.286197Z",
     "start_time": "2024-10-09T09:09:04.283967Z"
    }
   },
   "source": [],
   "outputs": [],
   "execution_count": null
  },
  {
   "cell_type": "code",
   "metadata": {
    "ExecuteTime": {
     "end_time": "2024-10-09T09:09:04.333743Z",
     "start_time": "2024-10-09T09:09:04.331191Z"
    }
   },
   "source": [],
   "outputs": [],
   "execution_count": null
  },
  {
   "cell_type": "markdown",
   "metadata": {},
   "source": [
    "# Well Done!"
   ]
  },
  {
   "cell_type": "code",
   "metadata": {
    "ExecuteTime": {
     "end_time": "2024-10-09T09:09:04.390135Z",
     "start_time": "2024-10-09T09:09:04.387929Z"
    }
   },
   "source": [],
   "outputs": [],
   "execution_count": null
  },
  {
   "cell_type": "markdown",
   "metadata": {},
   "source": [
    "# Solutions (Stop here if you want to code on your own!)"
   ]
  },
  {
   "cell_type": "markdown",
   "metadata": {},
   "source": [
    "# ++++++++++++++++++++++++++++++++++++++++++++++++++++++++++++++"
   ]
  },
  {
   "cell_type": "markdown",
   "metadata": {},
   "source": [
    "1. Import Numpy!"
   ]
  },
  {
   "cell_type": "code",
   "metadata": {
    "ExecuteTime": {
     "end_time": "2024-10-09T09:09:04.438421Z",
     "start_time": "2024-10-09T09:09:04.436124Z"
    }
   },
   "source": [
    "import numpy as np"
   ],
   "outputs": [],
   "execution_count": 10
  },
  {
   "cell_type": "code",
   "metadata": {
    "ExecuteTime": {
     "end_time": "2024-10-09T09:09:04.490509Z",
     "start_time": "2024-10-09T09:09:04.488524Z"
    }
   },
   "source": [],
   "outputs": [],
   "execution_count": null
  },
  {
   "cell_type": "markdown",
   "metadata": {},
   "source": [
    "2. You have the following stock Prices in EUR Currency : [23.65, 43.21, 73.01, 87.32]<br>\n",
    "\n",
    "Create a __Numpy array__ and __convert all prices__ to USD Currency @ an fx rate of __1.2__ (1.2 USD per 1 EUR)."
   ]
  },
  {
   "cell_type": "code",
   "metadata": {
    "ExecuteTime": {
     "end_time": "2024-10-09T09:09:04.547333Z",
     "start_time": "2024-10-09T09:09:04.543056Z"
    }
   },
   "source": [
    "a = np.array([23.65, 43.21, 73.01, 87.32])\n",
    "a"
   ],
   "outputs": [
    {
     "data": {
      "text/plain": [
       "array([23.65, 43.21, 73.01, 87.32])"
      ]
     },
     "execution_count": 11,
     "metadata": {},
     "output_type": "execute_result"
    }
   ],
   "execution_count": 11
  },
  {
   "cell_type": "code",
   "metadata": {
    "ExecuteTime": {
     "end_time": "2024-10-09T09:09:04.607751Z",
     "start_time": "2024-10-09T09:09:04.603956Z"
    }
   },
   "source": [
    "a * 1.2"
   ],
   "outputs": [
    {
     "data": {
      "text/plain": [
       "array([ 28.38 ,  51.852,  87.612, 104.784])"
      ]
     },
     "execution_count": 12,
     "metadata": {},
     "output_type": "execute_result"
    }
   ],
   "execution_count": 12
  },
  {
   "cell_type": "markdown",
   "metadata": {},
   "source": [
    "(result: array([ 28.38 ,  51.852,  87.612, 104.784])"
   ]
  },
  {
   "cell_type": "code",
   "metadata": {
    "ExecuteTime": {
     "end_time": "2024-10-09T09:09:04.672268Z",
     "start_time": "2024-10-09T09:09:04.669833Z"
    }
   },
   "source": [],
   "outputs": [],
   "execution_count": null
  },
  {
   "cell_type": "markdown",
   "metadata": {},
   "source": [
    "You have the \n",
    "- end-of-2017 stock prices for four companies: [33.65, 63.21, 53.01, 17.32]\n",
    "- end-of-2018 stock prices for the same companies: [36.54, 61.59, 60.31, 10.40]"
   ]
  },
  {
   "cell_type": "markdown",
   "metadata": {},
   "source": [
    "3. Calculate the __absolute__ price increase / decrease in 2018 __for all four companies__. Use __vectorized__ numpy code!"
   ]
  },
  {
   "cell_type": "code",
   "metadata": {
    "ExecuteTime": {
     "end_time": "2024-10-09T09:09:04.720466Z",
     "start_time": "2024-10-09T09:09:04.717480Z"
    }
   },
   "source": [
    "p_2017 = np.array([33.65, 63.21, 53.01, 17.32])\n",
    "p_2018 = np.array([36.54, 61.59, 60.31, 10.40])"
   ],
   "outputs": [],
   "execution_count": 13
  },
  {
   "cell_type": "code",
   "metadata": {
    "ExecuteTime": {
     "end_time": "2024-10-09T09:09:04.770809Z",
     "start_time": "2024-10-09T09:09:04.767302Z"
    }
   },
   "source": [
    "p_2018 - p_2017"
   ],
   "outputs": [
    {
     "data": {
      "text/plain": [
       "array([ 2.89, -1.62,  7.3 , -6.92])"
      ]
     },
     "execution_count": 14,
     "metadata": {},
     "output_type": "execute_result"
    }
   ],
   "execution_count": 14
  },
  {
   "cell_type": "code",
   "metadata": {
    "ExecuteTime": {
     "end_time": "2024-10-09T09:09:04.828702Z",
     "start_time": "2024-10-09T09:09:04.826562Z"
    }
   },
   "source": [],
   "outputs": [],
   "execution_count": null
  },
  {
   "cell_type": "markdown",
   "metadata": {},
   "source": [
    "4. Calculate the __price return__ in 2018 __for all four companies__. Use __vectorized__ numpy code!"
   ]
  },
  {
   "cell_type": "code",
   "metadata": {
    "ExecuteTime": {
     "end_time": "2024-10-09T09:09:04.885458Z",
     "start_time": "2024-10-09T09:09:04.880856Z"
    }
   },
   "source": [
    "(p_2018 / p_2017) -1 "
   ],
   "outputs": [
    {
     "data": {
      "text/plain": [
       "array([ 0.0858841 , -0.02562886,  0.13770987, -0.39953811])"
      ]
     },
     "execution_count": 15,
     "metadata": {},
     "output_type": "execute_result"
    }
   ],
   "execution_count": 15
  },
  {
   "cell_type": "code",
   "metadata": {
    "ExecuteTime": {
     "end_time": "2024-10-09T09:09:04.950872Z",
     "start_time": "2024-10-09T09:09:04.948837Z"
    }
   },
   "source": [],
   "outputs": [],
   "execution_count": null
  },
  {
   "cell_type": "markdown",
   "metadata": {},
   "source": [
    "You have the following list with cashflows (starting today at t0): [-500, -100, 200, 600, 1000, 800]"
   ]
  },
  {
   "cell_type": "code",
   "metadata": {
    "ExecuteTime": {
     "end_time": "2024-10-09T09:09:05.003437Z",
     "start_time": "2024-10-09T09:09:05.000949Z"
    }
   },
   "source": [
    "#run the cell!\n",
    "l  = [-500, -100, 200, 600, 1000, 800]"
   ],
   "outputs": [],
   "execution_count": 16
  },
  {
   "cell_type": "markdown",
   "metadata": {},
   "source": [
    "5. Convert l into a __numpy array__ and __save__ the array in memory! __Select__ the __second cashflow__ at t1."
   ]
  },
  {
   "cell_type": "code",
   "metadata": {
    "ExecuteTime": {
     "end_time": "2024-10-09T09:09:05.054045Z",
     "start_time": "2024-10-09T09:09:05.050003Z"
    }
   },
   "source": [
    "a = np.array(l)\n",
    "a"
   ],
   "outputs": [
    {
     "data": {
      "text/plain": [
       "array([-500, -100,  200,  600, 1000,  800])"
      ]
     },
     "execution_count": 17,
     "metadata": {},
     "output_type": "execute_result"
    }
   ],
   "execution_count": 17
  },
  {
   "cell_type": "code",
   "metadata": {
    "ExecuteTime": {
     "end_time": "2024-10-09T09:09:05.121096Z",
     "start_time": "2024-10-09T09:09:05.117881Z"
    }
   },
   "source": [
    "a[1]"
   ],
   "outputs": [
    {
     "data": {
      "text/plain": [
       "-100"
      ]
     },
     "execution_count": 18,
     "metadata": {},
     "output_type": "execute_result"
    }
   ],
   "execution_count": 18
  },
  {
   "cell_type": "markdown",
   "metadata": {},
   "source": [
    "6. __Slice__ the array for the __last two cashflows__!"
   ]
  },
  {
   "cell_type": "code",
   "metadata": {
    "ExecuteTime": {
     "end_time": "2024-10-09T09:09:05.179910Z",
     "start_time": "2024-10-09T09:09:05.175877Z"
    }
   },
   "source": [
    "a[-2:]"
   ],
   "outputs": [
    {
     "data": {
      "text/plain": [
       "array([1000,  800])"
      ]
     },
     "execution_count": 19,
     "metadata": {},
     "output_type": "execute_result"
    }
   ],
   "execution_count": 19
  },
  {
   "cell_type": "markdown",
   "metadata": {},
   "source": [
    "7. __Slice__ the array for the cashflows in __t2, t3 and t4__."
   ]
  },
  {
   "cell_type": "code",
   "metadata": {
    "ExecuteTime": {
     "end_time": "2024-10-09T09:09:05.256442Z",
     "start_time": "2024-10-09T09:09:05.252244Z"
    }
   },
   "source": [
    "a[2:5]"
   ],
   "outputs": [
    {
     "data": {
      "text/plain": [
       "array([ 200,  600, 1000])"
      ]
     },
     "execution_count": 20,
     "metadata": {},
     "output_type": "execute_result"
    }
   ],
   "execution_count": 20
  },
  {
   "cell_type": "code",
   "metadata": {
    "ExecuteTime": {
     "end_time": "2024-10-09T09:09:05.318592Z",
     "start_time": "2024-10-09T09:09:05.316470Z"
    }
   },
   "source": [],
   "outputs": [],
   "execution_count": null
  },
  {
   "cell_type": "markdown",
   "metadata": {},
   "source": [
    "The ABC Company evaluates to buy an additional machine that will increase future profits/cashflows by\n",
    "- 50 USD in t1, \n",
    "- 80 USD in t2,\n",
    "- 120 USD in t3, \n",
    "- 150 USD in t4,\n",
    "- 200 USD in t5. (each cf at period´s end)<br>"
   ]
  },
  {
   "cell_type": "code",
   "metadata": {
    "ExecuteTime": {
     "end_time": "2024-10-09T09:09:05.372465Z",
     "start_time": "2024-10-09T09:09:05.367010Z"
    }
   },
   "source": [
    "# run the cell\n",
    "cf = np.array([-500, 50, 80, 120, 150, 200])\n",
    "cf"
   ],
   "outputs": [
    {
     "data": {
      "text/plain": [
       "array([-500,   50,   80,  120,  150,  200])"
      ]
     },
     "execution_count": 21,
     "metadata": {},
     "output_type": "execute_result"
    }
   ],
   "execution_count": 21
  },
  {
   "cell_type": "markdown",
   "metadata": {},
   "source": [
    "8. The machine costs 500 USD (Investment in to). Calculate the __Project´s NPV__ and evaluate whether ABC should pursue the project. <br> ABC´s required rate of return (Cost of Capital) is 7.5% p.a. Use __vectorized__ numpy code!"
   ]
  },
  {
   "cell_type": "code",
   "metadata": {
    "ExecuteTime": {
     "end_time": "2024-10-09T09:09:05.491432Z",
     "start_time": "2024-10-09T09:09:05.489120Z"
    }
   },
   "source": [
    "r = 0.075\n",
    "f = 1 + r"
   ],
   "outputs": [],
   "execution_count": 22
  },
  {
   "cell_type": "code",
   "metadata": {
    "ExecuteTime": {
     "end_time": "2024-10-09T09:09:05.544758Z",
     "start_time": "2024-10-09T09:09:05.539914Z"
    }
   },
   "source": [
    "n = np.array([0, 1, 2, 3, 4, 5])\n",
    "n"
   ],
   "outputs": [
    {
     "data": {
      "text/plain": [
       "array([0, 1, 2, 3, 4, 5])"
      ]
     },
     "execution_count": 23,
     "metadata": {},
     "output_type": "execute_result"
    }
   ],
   "execution_count": 23
  },
  {
   "cell_type": "code",
   "metadata": {
    "ExecuteTime": {
     "end_time": "2024-10-09T09:09:05.671923Z",
     "start_time": "2024-10-09T09:09:05.668168Z"
    }
   },
   "source": [
    "(cf / f**n).sum()"
   ],
   "outputs": [
    {
     "data": {
      "text/plain": [
       "-36.03468883756551"
      ]
     },
     "execution_count": 24,
     "metadata": {},
     "output_type": "execute_result"
    }
   ],
   "execution_count": 24
  },
  {
   "cell_type": "markdown",
   "metadata": {},
   "source": [
    "(result: -36.03468883756554 -> no!)"
   ]
  },
  {
   "cell_type": "code",
   "metadata": {
    "ExecuteTime": {
     "end_time": "2024-10-09T09:09:05.797465Z",
     "start_time": "2024-10-09T09:09:05.795781Z"
    }
   },
   "source": [],
   "outputs": [],
   "execution_count": null
  },
  {
   "cell_type": "markdown",
   "metadata": {},
   "source": [
    "9. __Slice__ the array cf (from question 8) for the positive inflows (__from t1__) and __save__ the slice in the __variable cf_pos__. <br> Make sure that once you __change the slice cf_pos__, the array __cf shall change as well__!"
   ]
  },
  {
   "cell_type": "code",
   "metadata": {
    "ExecuteTime": {
     "end_time": "2024-10-09T09:09:05.858720Z",
     "start_time": "2024-10-09T09:09:05.854860Z"
    }
   },
   "source": [
    "cf_pos = cf[1:]\n",
    "cf_pos"
   ],
   "outputs": [
    {
     "data": {
      "text/plain": [
       "array([ 50,  80, 120, 150, 200])"
      ]
     },
     "execution_count": 25,
     "metadata": {},
     "output_type": "execute_result"
    }
   ],
   "execution_count": 25
  },
  {
   "cell_type": "code",
   "metadata": {
    "ExecuteTime": {
     "end_time": "2024-10-09T09:09:06.008490Z",
     "start_time": "2024-10-09T09:09:06.005509Z"
    }
   },
   "source": [],
   "outputs": [],
   "execution_count": null
  },
  {
   "cell_type": "markdown",
   "metadata": {},
   "source": [
    "10. Change the first cashflow (t1) of __cf_pos to 70__. Check whether __cf gets mutated as well__!"
   ]
  },
  {
   "cell_type": "code",
   "metadata": {
    "ExecuteTime": {
     "end_time": "2024-10-09T09:09:06.061199Z",
     "start_time": "2024-10-09T09:09:06.057794Z"
    }
   },
   "source": [
    "cf_pos[0] = 70"
   ],
   "outputs": [],
   "execution_count": 26
  },
  {
   "cell_type": "code",
   "metadata": {
    "ExecuteTime": {
     "end_time": "2024-10-09T09:09:06.110658Z",
     "start_time": "2024-10-09T09:09:06.106589Z"
    }
   },
   "source": [
    "cf"
   ],
   "outputs": [
    {
     "data": {
      "text/plain": [
       "array([-500,   70,   80,  120,  150,  200])"
      ]
     },
     "execution_count": 27,
     "metadata": {},
     "output_type": "execute_result"
    }
   ],
   "execution_count": 27
  },
  {
   "cell_type": "code",
   "metadata": {
    "ExecuteTime": {
     "end_time": "2024-10-09T09:09:06.165782Z",
     "start_time": "2024-10-09T09:09:06.163818Z"
    }
   },
   "source": [],
   "outputs": [],
   "execution_count": null
  },
  {
   "cell_type": "markdown",
   "metadata": {},
   "source": [
    "11. __Restore cf__ and __redo Q9 and Q10__. This time make sure that cf and cf_pos are __independent objects__! "
   ]
  },
  {
   "cell_type": "code",
   "metadata": {
    "ExecuteTime": {
     "end_time": "2024-10-09T09:09:06.221048Z",
     "start_time": "2024-10-09T09:09:06.215969Z"
    }
   },
   "source": [
    "cf = np.array([-500, 50, 80, 120, 150, 200])\n",
    "cf"
   ],
   "outputs": [
    {
     "data": {
      "text/plain": [
       "array([-500,   50,   80,  120,  150,  200])"
      ]
     },
     "execution_count": 28,
     "metadata": {},
     "output_type": "execute_result"
    }
   ],
   "execution_count": 28
  },
  {
   "cell_type": "code",
   "metadata": {
    "ExecuteTime": {
     "end_time": "2024-10-09T09:09:06.289316Z",
     "start_time": "2024-10-09T09:09:06.285981Z"
    }
   },
   "source": [
    "cf_pos = cf[1:].copy()\n",
    "cf_pos"
   ],
   "outputs": [
    {
     "data": {
      "text/plain": [
       "array([ 50,  80, 120, 150, 200])"
      ]
     },
     "execution_count": 29,
     "metadata": {},
     "output_type": "execute_result"
    }
   ],
   "execution_count": 29
  },
  {
   "cell_type": "code",
   "metadata": {
    "ExecuteTime": {
     "end_time": "2024-10-09T09:09:06.357491Z",
     "start_time": "2024-10-09T09:09:06.352868Z"
    }
   },
   "source": [
    "cf_pos[0] = 70\n",
    "cf_pos"
   ],
   "outputs": [
    {
     "data": {
      "text/plain": [
       "array([ 70,  80, 120, 150, 200])"
      ]
     },
     "execution_count": 30,
     "metadata": {},
     "output_type": "execute_result"
    }
   ],
   "execution_count": 30
  },
  {
   "cell_type": "code",
   "metadata": {
    "ExecuteTime": {
     "end_time": "2024-10-09T09:09:06.417119Z",
     "start_time": "2024-10-09T09:09:06.413503Z"
    }
   },
   "source": [
    "cf"
   ],
   "outputs": [
    {
     "data": {
      "text/plain": [
       "array([-500,   50,   80,  120,  150,  200])"
      ]
     },
     "execution_count": 31,
     "metadata": {},
     "output_type": "execute_result"
    }
   ],
   "execution_count": 31
  },
  {
   "cell_type": "code",
   "metadata": {
    "ExecuteTime": {
     "end_time": "2024-10-09T09:09:06.481241Z",
     "start_time": "2024-10-09T09:09:06.479312Z"
    }
   },
   "source": [],
   "outputs": [],
   "execution_count": null
  },
  {
   "cell_type": "markdown",
   "metadata": {},
   "source": [
    "12. Calculate the __total sum__ over all cashflows of cf!"
   ]
  },
  {
   "cell_type": "code",
   "metadata": {
    "ExecuteTime": {
     "end_time": "2024-10-09T09:09:06.535036Z",
     "start_time": "2024-10-09T09:09:06.530455Z"
    }
   },
   "source": [
    "# run the cell\n",
    "cf = np.array([-500, 50, 80, 120, 150, 200])\n",
    "cf"
   ],
   "outputs": [
    {
     "data": {
      "text/plain": [
       "array([-500,   50,   80,  120,  150,  200])"
      ]
     },
     "execution_count": 32,
     "metadata": {},
     "output_type": "execute_result"
    }
   ],
   "execution_count": 32
  },
  {
   "cell_type": "code",
   "metadata": {
    "ExecuteTime": {
     "end_time": "2024-10-09T09:09:06.595750Z",
     "start_time": "2024-10-09T09:09:06.590598Z"
    }
   },
   "source": [
    "cf.sum()"
   ],
   "outputs": [
    {
     "data": {
      "text/plain": [
       "100"
      ]
     },
     "execution_count": 33,
     "metadata": {},
     "output_type": "execute_result"
    }
   ],
   "execution_count": 33
  },
  {
   "cell_type": "code",
   "metadata": {
    "ExecuteTime": {
     "end_time": "2024-10-09T09:09:06.653849Z",
     "start_time": "2024-10-09T09:09:06.651766Z"
    }
   },
   "source": [],
   "outputs": [],
   "execution_count": null
  },
  {
   "cell_type": "markdown",
   "metadata": {},
   "source": [
    "13. Return the __highest Value__ of cf!"
   ]
  },
  {
   "cell_type": "code",
   "metadata": {
    "ExecuteTime": {
     "end_time": "2024-10-09T09:09:06.715455Z",
     "start_time": "2024-10-09T09:09:06.712475Z"
    }
   },
   "source": [
    "cf.max()"
   ],
   "outputs": [
    {
     "data": {
      "text/plain": [
       "200"
      ]
     },
     "execution_count": 34,
     "metadata": {},
     "output_type": "execute_result"
    }
   ],
   "execution_count": 34
  },
  {
   "cell_type": "markdown",
   "metadata": {},
   "source": [
    "14. Calculate the __cumulative cashflows__ for cf!"
   ]
  },
  {
   "cell_type": "code",
   "metadata": {
    "ExecuteTime": {
     "end_time": "2024-10-09T09:09:06.779812Z",
     "start_time": "2024-10-09T09:09:06.775640Z"
    }
   },
   "source": [
    "cf.cumsum()"
   ],
   "outputs": [
    {
     "data": {
      "text/plain": [
       "array([-500, -450, -370, -250, -100,  100])"
      ]
     },
     "execution_count": 35,
     "metadata": {},
     "output_type": "execute_result"
    }
   ],
   "execution_count": 35
  },
  {
   "cell_type": "code",
   "metadata": {
    "ExecuteTime": {
     "end_time": "2024-10-09T09:09:06.853064Z",
     "start_time": "2024-10-09T09:09:06.850691Z"
    }
   },
   "source": [],
   "outputs": [],
   "execution_count": null
  },
  {
   "cell_type": "markdown",
   "metadata": {},
   "source": [
    "15. Assume the following list: [3, 10, 6, 45, 100]. Calculate the __square root__ for all elements in the list. "
   ]
  },
  {
   "cell_type": "code",
   "metadata": {
    "ExecuteTime": {
     "end_time": "2024-10-09T09:09:06.940267Z",
     "start_time": "2024-10-09T09:09:06.935038Z"
    }
   },
   "source": [
    "np.sqrt([3, 10, 6, 45, 100])"
   ],
   "outputs": [
    {
     "data": {
      "text/plain": [
       "array([ 1.73205081,  3.16227766,  2.44948974,  6.70820393, 10.        ])"
      ]
     },
     "execution_count": 36,
     "metadata": {},
     "output_type": "execute_result"
    }
   ],
   "execution_count": 36
  },
  {
   "cell_type": "code",
   "metadata": {
    "ExecuteTime": {
     "end_time": "2024-10-09T09:09:07.015433Z",
     "start_time": "2024-10-09T09:09:07.012970Z"
    }
   },
   "source": [],
   "outputs": [],
   "execution_count": null
  },
  {
   "cell_type": "markdown",
   "metadata": {},
   "source": [
    "Assume the following stock prices:"
   ]
  },
  {
   "cell_type": "code",
   "metadata": {
    "ExecuteTime": {
     "end_time": "2024-10-09T09:09:07.075916Z",
     "start_time": "2024-10-09T09:09:07.069510Z"
    }
   },
   "source": [
    "# run the cell!\n",
    "a = np.array([0.34, 43.56, 32.12, 67.43, 0.87, 9.87])\n",
    "a"
   ],
   "outputs": [
    {
     "data": {
      "text/plain": [
       "array([ 0.34, 43.56, 32.12, 67.43,  0.87,  9.87])"
      ]
     },
     "execution_count": 37,
     "metadata": {},
     "output_type": "execute_result"
    }
   ],
   "execution_count": 37
  },
  {
   "cell_type": "markdown",
   "metadata": {},
   "source": [
    "16. __Filter__ a for all penny stocks! (price less than 1)"
   ]
  },
  {
   "cell_type": "code",
   "metadata": {
    "ExecuteTime": {
     "end_time": "2024-10-09T09:09:07.140782Z",
     "start_time": "2024-10-09T09:09:07.136087Z"
    }
   },
   "source": [
    "a[a < 1]"
   ],
   "outputs": [
    {
     "data": {
      "text/plain": [
       "array([0.34, 0.87])"
      ]
     },
     "execution_count": 38,
     "metadata": {},
     "output_type": "execute_result"
    }
   ],
   "execution_count": 38
  },
  {
   "cell_type": "markdown",
   "metadata": {},
   "source": [
    "(result: array([0.34, 0.87]))"
   ]
  },
  {
   "cell_type": "code",
   "metadata": {
    "ExecuteTime": {
     "end_time": "2024-10-09T09:09:07.198772Z",
     "start_time": "2024-10-09T09:09:07.196798Z"
    }
   },
   "source": [],
   "outputs": [],
   "execution_count": null
  }
 ],
 "metadata": {
  "kernelspec": {
   "display_name": "Python 3 (ipykernel)",
   "language": "python",
   "name": "python3"
  },
  "language_info": {
   "codemirror_mode": {
    "name": "ipython",
    "version": 3
   },
   "file_extension": ".py",
   "mimetype": "text/x-python",
   "name": "python",
   "nbconvert_exporter": "python",
   "pygments_lexer": "ipython3",
   "version": "3.11.7"
  }
 },
 "nbformat": 4,
 "nbformat_minor": 2
}
