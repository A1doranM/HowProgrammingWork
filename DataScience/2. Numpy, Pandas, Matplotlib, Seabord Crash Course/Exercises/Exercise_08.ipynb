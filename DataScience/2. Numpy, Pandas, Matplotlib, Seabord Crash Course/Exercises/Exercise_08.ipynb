{
 "cells": [
  {
   "cell_type": "markdown",
   "metadata": {},
   "source": [
    "# Coding Exercises (Appendix 3)"
   ]
  },
  {
   "cell_type": "markdown",
   "metadata": {},
   "source": [
    "Now, you will have the opportunity to practice what you have learned. <br>\n",
    "__Follow the instructions__ and insert your code! "
   ]
  },
  {
   "cell_type": "markdown",
   "metadata": {},
   "source": [
    "The correct answer is provided below your coding cell. There you can check whether your code is correct."
   ]
  },
  {
   "cell_type": "markdown",
   "metadata": {},
   "source": [
    "If you need some help or if you want to check your code, you can also have a look at the __solutions__."
   ]
  },
  {
   "cell_type": "markdown",
   "metadata": {},
   "source": [
    "### Have Fun!"
   ]
  },
  {
   "cell_type": "markdown",
   "metadata": {},
   "source": [
    "--------------------------------------------------------------------------------------------------------------"
   ]
  },
  {
   "cell_type": "markdown",
   "metadata": {},
   "source": [
    "## Exercise 8: N-Dimensional Numpy Arrays"
   ]
  },
  {
   "cell_type": "code",
   "metadata": {
    "ExecuteTime": {
     "end_time": "2024-10-09T09:23:01.814165Z",
     "start_time": "2024-10-09T09:23:01.802679Z"
    }
   },
   "source": [
    "# run the cell!\n",
    "import numpy as np\n",
    "np.set_printoptions(precision=2, suppress= True)"
   ],
   "outputs": [],
   "execution_count": 5
  },
  {
   "cell_type": "markdown",
   "metadata": {},
   "source": [
    "Let´s assume we have three investment projects with the following cashflow plans:"
   ]
  },
  {
   "cell_type": "code",
   "metadata": {
    "ExecuteTime": {
     "end_time": "2024-10-09T09:23:01.864438Z",
     "start_time": "2024-10-09T09:23:01.855038Z"
    }
   },
   "source": [
    "# run the cell!\n",
    "project_1 = [-500, 100, 150, 200, 200, 175, 100, 50]\n",
    "project_2 = [-750, 100, 125, 150, 175, 200, 250, 0]\n",
    "project_3 = [-2000, 500, 1000, 2500, 0, 0, 0, 0]"
   ],
   "outputs": [],
   "execution_count": 6
  },
  {
   "cell_type": "markdown",
   "metadata": {},
   "source": [
    "1. Create and save a __2-dimensional Numpy Array__ (in the variable __projects__)."
   ]
  },
  {
   "cell_type": "code",
   "metadata": {
    "ExecuteTime": {
     "end_time": "2024-10-09T09:23:01.985863Z",
     "start_time": "2024-10-09T09:23:01.969239Z"
    }
   },
   "source": [
    "projects = np.array([project_1, project_2, project_3])"
   ],
   "outputs": [],
   "execution_count": 7
  },
  {
   "cell_type": "code",
   "metadata": {
    "ExecuteTime": {
     "end_time": "2024-10-09T09:23:02.083156Z",
     "start_time": "2024-10-09T09:23:02.076540Z"
    }
   },
   "source": [
    "projects"
   ],
   "outputs": [
    {
     "data": {
      "text/plain": [
       "array([[ -500,   100,   150,   200,   200,   175,   100,    50],\n",
       "       [ -750,   100,   125,   150,   175,   200,   250,     0],\n",
       "       [-2000,   500,  1000,  2500,     0,     0,     0,     0]])"
      ]
     },
     "execution_count": 8,
     "metadata": {},
     "output_type": "execute_result"
    }
   ],
   "execution_count": 8
  },
  {
   "cell_type": "code",
   "metadata": {
    "ExecuteTime": {
     "end_time": "2024-10-09T09:23:02.998430Z",
     "start_time": "2024-10-09T09:23:02.996167Z"
    }
   },
   "source": [],
   "outputs": [],
   "execution_count": null
  },
  {
   "cell_type": "markdown",
   "metadata": {},
   "source": [
    "2. Check the __shape__ of projects. __How many rows/columns__ do we have?"
   ]
  },
  {
   "cell_type": "code",
   "metadata": {
    "ExecuteTime": {
     "end_time": "2024-10-09T09:23:03.156374Z",
     "start_time": "2024-10-09T09:23:03.151763Z"
    }
   },
   "source": [
    "projects.shape"
   ],
   "outputs": [
    {
     "data": {
      "text/plain": [
       "(3, 8)"
      ]
     },
     "execution_count": 9,
     "metadata": {},
     "output_type": "execute_result"
    }
   ],
   "execution_count": 9
  },
  {
   "cell_type": "markdown",
   "metadata": {},
   "source": [
    "(result: 3 rows, 8 columns)"
   ]
  },
  {
   "cell_type": "code",
   "metadata": {
    "ExecuteTime": {
     "end_time": "2024-10-09T09:23:03.237791Z",
     "start_time": "2024-10-09T09:23:03.235322Z"
    }
   },
   "source": [],
   "outputs": [],
   "execution_count": null
  },
  {
   "cell_type": "markdown",
   "metadata": {},
   "source": [
    "3. __Slice__ projects for __the second project__."
   ]
  },
  {
   "cell_type": "code",
   "metadata": {
    "ExecuteTime": {
     "end_time": "2024-10-09T09:23:03.448690Z",
     "start_time": "2024-10-09T09:23:03.441037Z"
    }
   },
   "source": [
    "projects[1]"
   ],
   "outputs": [
    {
     "data": {
      "text/plain": [
       "array([-750,  100,  125,  150,  175,  200,  250,    0])"
      ]
     },
     "execution_count": 10,
     "metadata": {},
     "output_type": "execute_result"
    }
   ],
   "execution_count": 10
  },
  {
   "cell_type": "code",
   "metadata": {
    "ExecuteTime": {
     "end_time": "2024-10-09T09:23:03.616540Z",
     "start_time": "2024-10-09T09:23:03.614035Z"
    }
   },
   "source": [],
   "outputs": [],
   "execution_count": null
  },
  {
   "cell_type": "markdown",
   "metadata": {},
   "source": [
    "4. Return the __initial Investment__ of __Project 3__."
   ]
  },
  {
   "cell_type": "code",
   "metadata": {
    "ExecuteTime": {
     "end_time": "2024-10-09T09:23:03.729457Z",
     "start_time": "2024-10-09T09:23:03.716562Z"
    }
   },
   "source": [
    "projects[-1, 0]"
   ],
   "outputs": [
    {
     "data": {
      "text/plain": [
       "-2000"
      ]
     },
     "execution_count": 11,
     "metadata": {},
     "output_type": "execute_result"
    }
   ],
   "execution_count": 11
  },
  {
   "cell_type": "markdown",
   "metadata": {},
   "source": [
    "(result: -2000)"
   ]
  },
  {
   "cell_type": "code",
   "metadata": {
    "ExecuteTime": {
     "end_time": "2024-10-09T09:23:03.850838Z",
     "start_time": "2024-10-09T09:23:03.847176Z"
    }
   },
   "source": [],
   "outputs": [],
   "execution_count": null
  },
  {
   "cell_type": "markdown",
   "metadata": {},
   "source": [
    "5. Return the __final cashflow__ in year 7 for __all projects__."
   ]
  },
  {
   "cell_type": "code",
   "metadata": {
    "ExecuteTime": {
     "end_time": "2024-10-09T09:23:03.960958Z",
     "start_time": "2024-10-09T09:23:03.932158Z"
    }
   },
   "source": [
    "projects[:, -1]"
   ],
   "outputs": [
    {
     "data": {
      "text/plain": [
       "array([50,  0,  0])"
      ]
     },
     "execution_count": 12,
     "metadata": {},
     "output_type": "execute_result"
    }
   ],
   "execution_count": 12
  },
  {
   "cell_type": "code",
   "metadata": {
    "ExecuteTime": {
     "end_time": "2024-10-09T09:23:04.031864Z",
     "start_time": "2024-10-09T09:23:04.027006Z"
    }
   },
   "source": [],
   "outputs": [],
   "execution_count": null
  },
  {
   "cell_type": "markdown",
   "metadata": {},
   "source": [
    "6. Return the first positive cashflows (__Year 1__) for __Projects 1 and 2__."
   ]
  },
  {
   "cell_type": "code",
   "metadata": {
    "ExecuteTime": {
     "end_time": "2024-10-09T09:23:04.190389Z",
     "start_time": "2024-10-09T09:23:04.179316Z"
    }
   },
   "source": [
    "projects[:2, 1]"
   ],
   "outputs": [
    {
     "data": {
      "text/plain": [
       "array([100, 100])"
      ]
     },
     "execution_count": 13,
     "metadata": {},
     "output_type": "execute_result"
    }
   ],
   "execution_count": 13
  },
  {
   "cell_type": "markdown",
   "metadata": {},
   "source": [
    "(result: array([100, 100]))"
   ]
  },
  {
   "cell_type": "code",
   "metadata": {
    "ExecuteTime": {
     "end_time": "2024-10-09T09:23:04.324817Z",
     "start_time": "2024-10-09T09:23:04.322592Z"
    }
   },
   "source": [],
   "outputs": [],
   "execution_count": null
  },
  {
   "cell_type": "markdown",
   "metadata": {},
   "source": [
    "7. __Change__ the initial investment for __project 3__ to __-1900__."
   ]
  },
  {
   "cell_type": "code",
   "metadata": {
    "ExecuteTime": {
     "end_time": "2024-10-09T09:23:04.494920Z",
     "start_time": "2024-10-09T09:23:04.491795Z"
    }
   },
   "source": [
    "projects[-1, 0] = -1900"
   ],
   "outputs": [],
   "execution_count": 14
  },
  {
   "cell_type": "code",
   "metadata": {
    "ExecuteTime": {
     "end_time": "2024-10-09T09:23:04.604415Z",
     "start_time": "2024-10-09T09:23:04.599548Z"
    }
   },
   "source": [
    "projects"
   ],
   "outputs": [
    {
     "data": {
      "text/plain": [
       "array([[ -500,   100,   150,   200,   200,   175,   100,    50],\n",
       "       [ -750,   100,   125,   150,   175,   200,   250,     0],\n",
       "       [-1900,   500,  1000,  2500,     0,     0,     0,     0]])"
      ]
     },
     "execution_count": 15,
     "metadata": {},
     "output_type": "execute_result"
    }
   ],
   "execution_count": 15
  },
  {
   "cell_type": "code",
   "metadata": {
    "ExecuteTime": {
     "end_time": "2024-10-09T09:23:04.860103Z",
     "start_time": "2024-10-09T09:23:04.849052Z"
    }
   },
   "source": [],
   "outputs": [],
   "execution_count": null
  },
  {
   "cell_type": "markdown",
   "metadata": {},
   "source": [
    "8. Change the __last cashflows__ in year 7 for all projects to __25__."
   ]
  },
  {
   "cell_type": "code",
   "metadata": {
    "ExecuteTime": {
     "end_time": "2024-10-09T09:23:05.292735Z",
     "start_time": "2024-10-09T09:23:05.290032Z"
    }
   },
   "source": [
    "projects[:, -1] = 25"
   ],
   "outputs": [],
   "execution_count": 16
  },
  {
   "cell_type": "code",
   "metadata": {
    "ExecuteTime": {
     "end_time": "2024-10-09T09:23:05.389974Z",
     "start_time": "2024-10-09T09:23:05.385159Z"
    }
   },
   "source": [
    "projects"
   ],
   "outputs": [
    {
     "data": {
      "text/plain": [
       "array([[ -500,   100,   150,   200,   200,   175,   100,    25],\n",
       "       [ -750,   100,   125,   150,   175,   200,   250,    25],\n",
       "       [-1900,   500,  1000,  2500,     0,     0,     0,    25]])"
      ]
     },
     "execution_count": 17,
     "metadata": {},
     "output_type": "execute_result"
    }
   ],
   "execution_count": 17
  },
  {
   "cell_type": "code",
   "metadata": {
    "ExecuteTime": {
     "end_time": "2024-10-09T09:23:05.458517Z",
     "start_time": "2024-10-09T09:23:05.456355Z"
    }
   },
   "source": [],
   "outputs": [],
   "execution_count": null
  },
  {
   "cell_type": "markdown",
   "metadata": {},
   "source": [
    "9. Calculate the total cashflows on each timestamp over all three projects (__column-wise sum__)."
   ]
  },
  {
   "cell_type": "code",
   "metadata": {
    "ExecuteTime": {
     "end_time": "2024-10-09T09:23:05.548412Z",
     "start_time": "2024-10-09T09:23:05.538490Z"
    }
   },
   "source": [
    "projects.sum(axis = 0)"
   ],
   "outputs": [
    {
     "data": {
      "text/plain": [
       "array([-3150,   700,  1275,  2850,   375,   375,   350,    75])"
      ]
     },
     "execution_count": 18,
     "metadata": {},
     "output_type": "execute_result"
    }
   ],
   "execution_count": 18
  },
  {
   "cell_type": "markdown",
   "metadata": {},
   "source": [
    "(results: array([-3150,   700,  1275,  2850,   375,   375,   350,    75]))"
   ]
  },
  {
   "cell_type": "code",
   "metadata": {
    "ExecuteTime": {
     "end_time": "2024-10-09T09:23:05.725989Z",
     "start_time": "2024-10-09T09:23:05.717795Z"
    }
   },
   "source": [],
   "outputs": [],
   "execution_count": null
  },
  {
   "cell_type": "markdown",
   "metadata": {},
   "source": [
    "10. Calculate __cumulative cashflows__ for all three projects."
   ]
  },
  {
   "cell_type": "code",
   "metadata": {
    "ExecuteTime": {
     "end_time": "2024-10-09T09:23:05.819529Z",
     "start_time": "2024-10-09T09:23:05.802940Z"
    }
   },
   "source": [
    "projects.cumsum(axis = 1)"
   ],
   "outputs": [
    {
     "data": {
      "text/plain": [
       "array([[ -500,  -400,  -250,   -50,   150,   325,   425,   450],\n",
       "       [ -750,  -650,  -525,  -375,  -200,     0,   250,   275],\n",
       "       [-1900, -1400,  -400,  2100,  2100,  2100,  2100,  2125]])"
      ]
     },
     "execution_count": 19,
     "metadata": {},
     "output_type": "execute_result"
    }
   ],
   "execution_count": 19
  },
  {
   "cell_type": "code",
   "metadata": {
    "ExecuteTime": {
     "end_time": "2024-10-09T09:23:05.928964Z",
     "start_time": "2024-10-09T09:23:05.923756Z"
    }
   },
   "source": [],
   "outputs": [],
   "execution_count": null
  },
  {
   "cell_type": "markdown",
   "metadata": {},
   "source": [
    "11. Convert __all projects__ to EUR currency (__multiply with 0.9__)."
   ]
  },
  {
   "cell_type": "code",
   "metadata": {
    "ExecuteTime": {
     "end_time": "2024-10-09T09:23:06.150979Z",
     "start_time": "2024-10-09T09:23:06.138974Z"
    }
   },
   "source": [
    "projects * 0.9"
   ],
   "outputs": [
    {
     "data": {
      "text/plain": [
       "array([[ -450. ,    90. ,   135. ,   180. ,   180. ,   157.5,    90. ,\n",
       "           22.5],\n",
       "       [ -675. ,    90. ,   112.5,   135. ,   157.5,   180. ,   225. ,\n",
       "           22.5],\n",
       "       [-1710. ,   450. ,   900. ,  2250. ,     0. ,     0. ,     0. ,\n",
       "           22.5]])"
      ]
     },
     "execution_count": 20,
     "metadata": {},
     "output_type": "execute_result"
    }
   ],
   "execution_count": 20
  },
  {
   "cell_type": "code",
   "metadata": {
    "ExecuteTime": {
     "end_time": "2024-10-09T09:23:06.244167Z",
     "start_time": "2024-10-09T09:23:06.241570Z"
    }
   },
   "source": [],
   "outputs": [],
   "execution_count": null
  }
 ],
 "metadata": {
  "kernelspec": {
   "display_name": "Python 3 (ipykernel)",
   "language": "python",
   "name": "python3"
  },
  "language_info": {
   "codemirror_mode": {
    "name": "ipython",
    "version": 3
   },
   "file_extension": ".py",
   "mimetype": "text/x-python",
   "name": "python",
   "nbconvert_exporter": "python",
   "pygments_lexer": "ipython3",
   "version": "3.11.7"
  }
 },
 "nbformat": 4,
 "nbformat_minor": 2
}
