{
 "cells": [
  {
   "cell_type": "markdown",
   "metadata": {},
   "source": [
    "# Appendix 3: Python Libraries Crash Course"
   ]
  },
  {
   "cell_type": "markdown",
   "metadata": {},
   "source": [
    "## Part 2: Multi-Dimensional Numpy Arrays"
   ]
  },
  {
   "cell_type": "markdown",
   "metadata": {},
   "source": [
    "### Nested Lists"
   ]
  },
  {
   "cell_type": "code",
   "metadata": {
    "ExecuteTime": {
     "end_time": "2024-10-09T09:11:27.691384Z",
     "start_time": "2024-10-09T09:11:27.686295Z"
    }
   },
   "source": [
    "project_1 = [-200, 20, 50, 70, 100, 50]\n",
    "project_2 = [-50, 10, 25, 25, 50]\n",
    "project_3 = [-1000, 200, 200, 300, 500, 500, 750, 250]"
   ],
   "outputs": [],
   "execution_count": 1
  },
  {
   "cell_type": "code",
   "metadata": {
    "ExecuteTime": {
     "end_time": "2024-10-09T09:11:27.746027Z",
     "start_time": "2024-10-09T09:11:27.741787Z"
    }
   },
   "source": [
    "all_proj = [project_1, project_2, project_3]"
   ],
   "outputs": [],
   "execution_count": 2
  },
  {
   "cell_type": "code",
   "metadata": {
    "ExecuteTime": {
     "end_time": "2024-10-09T09:11:27.894844Z",
     "start_time": "2024-10-09T09:11:27.886599Z"
    }
   },
   "source": [
    "all_proj"
   ],
   "outputs": [
    {
     "data": {
      "text/plain": [
       "[[-200, 20, 50, 70, 100, 50],\n",
       " [-50, 10, 25, 25, 50],\n",
       " [-1000, 200, 200, 300, 500, 500, 750, 250]]"
      ]
     },
     "execution_count": 3,
     "metadata": {},
     "output_type": "execute_result"
    }
   ],
   "execution_count": 3
  },
  {
   "cell_type": "code",
   "metadata": {
    "ExecuteTime": {
     "end_time": "2024-10-09T09:11:28.014641Z",
     "start_time": "2024-10-09T09:11:28.011427Z"
    }
   },
   "source": [
    "type(all_proj)"
   ],
   "outputs": [
    {
     "data": {
      "text/plain": [
       "list"
      ]
     },
     "execution_count": 4,
     "metadata": {},
     "output_type": "execute_result"
    }
   ],
   "execution_count": 4
  },
  {
   "cell_type": "code",
   "metadata": {
    "ExecuteTime": {
     "end_time": "2024-10-09T09:11:28.134526Z",
     "start_time": "2024-10-09T09:11:28.131795Z"
    }
   },
   "source": [
    "len(all_proj)"
   ],
   "outputs": [
    {
     "data": {
      "text/plain": [
       "3"
      ]
     },
     "execution_count": 5,
     "metadata": {},
     "output_type": "execute_result"
    }
   ],
   "execution_count": 5
  },
  {
   "cell_type": "code",
   "metadata": {
    "ExecuteTime": {
     "end_time": "2024-10-09T09:11:28.255809Z",
     "start_time": "2024-10-09T09:11:28.250540Z"
    }
   },
   "source": [
    "all_proj[0]"
   ],
   "outputs": [
    {
     "data": {
      "text/plain": [
       "[-200, 20, 50, 70, 100, 50]"
      ]
     },
     "execution_count": 6,
     "metadata": {},
     "output_type": "execute_result"
    }
   ],
   "execution_count": 6
  },
  {
   "cell_type": "code",
   "metadata": {
    "ExecuteTime": {
     "end_time": "2024-10-09T09:11:28.363497Z",
     "start_time": "2024-10-09T09:11:28.359681Z"
    }
   },
   "source": [
    "all_proj[2]"
   ],
   "outputs": [
    {
     "data": {
      "text/plain": [
       "[-1000, 200, 200, 300, 500, 500, 750, 250]"
      ]
     },
     "execution_count": 7,
     "metadata": {},
     "output_type": "execute_result"
    }
   ],
   "execution_count": 7
  },
  {
   "cell_type": "code",
   "metadata": {
    "ExecuteTime": {
     "end_time": "2024-10-09T09:11:28.431494Z",
     "start_time": "2024-10-09T09:11:28.426892Z"
    }
   },
   "source": [
    "all_proj[-1]"
   ],
   "outputs": [
    {
     "data": {
      "text/plain": [
       "[-1000, 200, 200, 300, 500, 500, 750, 250]"
      ]
     },
     "execution_count": 8,
     "metadata": {},
     "output_type": "execute_result"
    }
   ],
   "execution_count": 8
  },
  {
   "cell_type": "code",
   "metadata": {
    "ExecuteTime": {
     "end_time": "2024-10-09T09:11:28.494338Z",
     "start_time": "2024-10-09T09:11:28.490457Z"
    }
   },
   "source": [
    "all_proj[:2]"
   ],
   "outputs": [
    {
     "data": {
      "text/plain": [
       "[[-200, 20, 50, 70, 100, 50], [-50, 10, 25, 25, 50]]"
      ]
     },
     "execution_count": 9,
     "metadata": {},
     "output_type": "execute_result"
    }
   ],
   "execution_count": 9
  },
  {
   "cell_type": "code",
   "metadata": {
    "ExecuteTime": {
     "end_time": "2024-10-09T09:11:28.559154Z",
     "start_time": "2024-10-09T09:11:28.555393Z"
    }
   },
   "source": [
    "all_proj[-2:]"
   ],
   "outputs": [
    {
     "data": {
      "text/plain": [
       "[[-50, 10, 25, 25, 50], [-1000, 200, 200, 300, 500, 500, 750, 250]]"
      ]
     },
     "execution_count": 10,
     "metadata": {},
     "output_type": "execute_result"
    }
   ],
   "execution_count": 10
  },
  {
   "cell_type": "code",
   "metadata": {
    "ExecuteTime": {
     "end_time": "2024-10-09T09:11:28.622936Z",
     "start_time": "2024-10-09T09:11:28.619257Z"
    }
   },
   "source": [
    "all_proj[0][0]"
   ],
   "outputs": [
    {
     "data": {
      "text/plain": [
       "-200"
      ]
     },
     "execution_count": 11,
     "metadata": {},
     "output_type": "execute_result"
    }
   ],
   "execution_count": 11
  },
  {
   "cell_type": "code",
   "metadata": {
    "ExecuteTime": {
     "end_time": "2024-10-09T09:11:28.691070Z",
     "start_time": "2024-10-09T09:11:28.687315Z"
    }
   },
   "source": [
    "all_proj[:][0]"
   ],
   "outputs": [
    {
     "data": {
      "text/plain": [
       "[-200, 20, 50, 70, 100, 50]"
      ]
     },
     "execution_count": 12,
     "metadata": {},
     "output_type": "execute_result"
    }
   ],
   "execution_count": 12
  },
  {
   "cell_type": "code",
   "metadata": {
    "ExecuteTime": {
     "end_time": "2024-10-09T09:11:28.746122Z",
     "start_time": "2024-10-09T09:11:28.743443Z"
    }
   },
   "source": [
    "I0 = []\n",
    "for proj in all_proj:\n",
    "    I0.append(proj[0])"
   ],
   "outputs": [],
   "execution_count": 13
  },
  {
   "cell_type": "code",
   "metadata": {
    "ExecuteTime": {
     "end_time": "2024-10-09T09:11:28.804019Z",
     "start_time": "2024-10-09T09:11:28.800516Z"
    }
   },
   "source": [
    "I0"
   ],
   "outputs": [
    {
     "data": {
      "text/plain": [
       "[-200, -50, -1000]"
      ]
     },
     "execution_count": 14,
     "metadata": {},
     "output_type": "execute_result"
    }
   ],
   "execution_count": 14
  },
  {
   "cell_type": "code",
   "metadata": {
    "ExecuteTime": {
     "end_time": "2024-10-09T09:11:28.862070Z",
     "start_time": "2024-10-09T09:11:28.860232Z"
    }
   },
   "source": [],
   "outputs": [],
   "execution_count": null
  },
  {
   "cell_type": "markdown",
   "metadata": {},
   "source": [
    "### 2-dim Numpy Arrays"
   ]
  },
  {
   "cell_type": "code",
   "metadata": {
    "ExecuteTime": {
     "end_time": "2024-10-09T09:11:28.974815Z",
     "start_time": "2024-10-09T09:11:28.912355Z"
    }
   },
   "source": [
    "import numpy as np"
   ],
   "outputs": [],
   "execution_count": 15
  },
  {
   "cell_type": "code",
   "metadata": {
    "ExecuteTime": {
     "end_time": "2024-10-09T09:11:29.000929Z",
     "start_time": "2024-10-09T09:11:28.997911Z"
    }
   },
   "source": [
    "cf1 = [-200, 20, 50, 70, 100, 50]\n",
    "cf2 = [-150, 25, 60, 50, 50, 40]\n",
    "cf3 = [-250, 10, 25, 50, 125, 200]\n",
    "nl = [cf1, cf2, cf3]"
   ],
   "outputs": [],
   "execution_count": 16
  },
  {
   "cell_type": "code",
   "metadata": {
    "ExecuteTime": {
     "end_time": "2024-10-09T09:11:29.052076Z",
     "start_time": "2024-10-09T09:11:29.048648Z"
    }
   },
   "source": [
    "nl"
   ],
   "outputs": [
    {
     "data": {
      "text/plain": [
       "[[-200, 20, 50, 70, 100, 50],\n",
       " [-150, 25, 60, 50, 50, 40],\n",
       " [-250, 10, 25, 50, 125, 200]]"
      ]
     },
     "execution_count": 17,
     "metadata": {},
     "output_type": "execute_result"
    }
   ],
   "execution_count": 17
  },
  {
   "cell_type": "code",
   "metadata": {
    "ExecuteTime": {
     "end_time": "2024-10-09T09:11:29.119136Z",
     "start_time": "2024-10-09T09:11:29.115781Z"
    }
   },
   "source": [
    "np.array(nl)"
   ],
   "outputs": [
    {
     "data": {
      "text/plain": [
       "array([[-200,   20,   50,   70,  100,   50],\n",
       "       [-150,   25,   60,   50,   50,   40],\n",
       "       [-250,   10,   25,   50,  125,  200]])"
      ]
     },
     "execution_count": 18,
     "metadata": {},
     "output_type": "execute_result"
    }
   ],
   "execution_count": 18
  },
  {
   "cell_type": "code",
   "metadata": {
    "ExecuteTime": {
     "end_time": "2024-10-09T09:11:29.183101Z",
     "start_time": "2024-10-09T09:11:29.180775Z"
    }
   },
   "source": [
    "cfs = np.array(nl)"
   ],
   "outputs": [],
   "execution_count": 19
  },
  {
   "cell_type": "code",
   "metadata": {
    "ExecuteTime": {
     "end_time": "2024-10-09T09:11:29.481988Z",
     "start_time": "2024-10-09T09:11:29.479127Z"
    }
   },
   "source": [
    "cfs"
   ],
   "outputs": [
    {
     "data": {
      "text/plain": [
       "array([[-200,   20,   50,   70,  100,   50],\n",
       "       [-150,   25,   60,   50,   50,   40],\n",
       "       [-250,   10,   25,   50,  125,  200]])"
      ]
     },
     "execution_count": 20,
     "metadata": {},
     "output_type": "execute_result"
    }
   ],
   "execution_count": 20
  },
  {
   "cell_type": "code",
   "metadata": {
    "ExecuteTime": {
     "end_time": "2024-10-09T09:11:29.694118Z",
     "start_time": "2024-10-09T09:11:29.690763Z"
    }
   },
   "source": [
    "type(cfs)"
   ],
   "outputs": [
    {
     "data": {
      "text/plain": [
       "numpy.ndarray"
      ]
     },
     "execution_count": 21,
     "metadata": {},
     "output_type": "execute_result"
    }
   ],
   "execution_count": 21
  },
  {
   "cell_type": "code",
   "metadata": {
    "ExecuteTime": {
     "end_time": "2024-10-09T09:11:29.885580Z",
     "start_time": "2024-10-09T09:11:29.882058Z"
    }
   },
   "source": [
    "cfs.shape"
   ],
   "outputs": [
    {
     "data": {
      "text/plain": [
       "(3, 6)"
      ]
     },
     "execution_count": 22,
     "metadata": {},
     "output_type": "execute_result"
    }
   ],
   "execution_count": 22
  },
  {
   "cell_type": "code",
   "metadata": {
    "ExecuteTime": {
     "end_time": "2024-10-09T09:11:30.097149Z",
     "start_time": "2024-10-09T09:11:30.092530Z"
    }
   },
   "source": [
    "cfs[0]"
   ],
   "outputs": [
    {
     "data": {
      "text/plain": [
       "array([-200,   20,   50,   70,  100,   50])"
      ]
     },
     "execution_count": 23,
     "metadata": {},
     "output_type": "execute_result"
    }
   ],
   "execution_count": 23
  },
  {
   "cell_type": "code",
   "metadata": {
    "ExecuteTime": {
     "end_time": "2024-10-09T09:11:30.173517Z",
     "start_time": "2024-10-09T09:11:30.169644Z"
    }
   },
   "source": [
    "cfs[-1]"
   ],
   "outputs": [
    {
     "data": {
      "text/plain": [
       "array([-250,   10,   25,   50,  125,  200])"
      ]
     },
     "execution_count": 24,
     "metadata": {},
     "output_type": "execute_result"
    }
   ],
   "execution_count": 24
  },
  {
   "cell_type": "code",
   "metadata": {
    "ExecuteTime": {
     "end_time": "2024-10-09T09:11:30.339937Z",
     "start_time": "2024-10-09T09:11:30.336582Z"
    }
   },
   "source": [
    "cfs[1:]"
   ],
   "outputs": [
    {
     "data": {
      "text/plain": [
       "array([[-150,   25,   60,   50,   50,   40],\n",
       "       [-250,   10,   25,   50,  125,  200]])"
      ]
     },
     "execution_count": 25,
     "metadata": {},
     "output_type": "execute_result"
    }
   ],
   "execution_count": 25
  },
  {
   "cell_type": "code",
   "metadata": {
    "ExecuteTime": {
     "end_time": "2024-10-09T09:11:30.418845Z",
     "start_time": "2024-10-09T09:11:30.404420Z"
    }
   },
   "source": [
    "cfs[0][0]"
   ],
   "outputs": [
    {
     "data": {
      "text/plain": [
       "-200"
      ]
     },
     "execution_count": 26,
     "metadata": {},
     "output_type": "execute_result"
    }
   ],
   "execution_count": 26
  },
  {
   "cell_type": "code",
   "metadata": {
    "ExecuteTime": {
     "end_time": "2024-10-09T09:11:30.521862Z",
     "start_time": "2024-10-09T09:11:30.517271Z"
    }
   },
   "source": [
    "cfs[0, 0]"
   ],
   "outputs": [
    {
     "data": {
      "text/plain": [
       "-200"
      ]
     },
     "execution_count": 27,
     "metadata": {},
     "output_type": "execute_result"
    }
   ],
   "execution_count": 27
  },
  {
   "cell_type": "code",
   "metadata": {
    "ExecuteTime": {
     "end_time": "2024-10-09T09:11:30.700784Z",
     "start_time": "2024-10-09T09:11:30.697141Z"
    }
   },
   "source": [],
   "outputs": [],
   "execution_count": null
  },
  {
   "cell_type": "markdown",
   "metadata": {},
   "source": [
    "### Slicing 2-dim Numpy Arrays (Part 1)"
   ]
  },
  {
   "cell_type": "code",
   "metadata": {
    "ExecuteTime": {
     "end_time": "2024-10-09T09:11:30.752487Z",
     "start_time": "2024-10-09T09:11:30.746264Z"
    }
   },
   "source": [
    "import numpy as np"
   ],
   "outputs": [],
   "execution_count": 28
  },
  {
   "cell_type": "code",
   "metadata": {
    "ExecuteTime": {
     "end_time": "2024-10-09T09:11:30.867147Z",
     "start_time": "2024-10-09T09:11:30.860716Z"
    }
   },
   "source": [
    "cf1 = [-200, 20, 50, 70, 100, 50]\n",
    "cf2 = [-150, 25, 60, 50, 50, 40]\n",
    "cf3 = [-250, 10, 25, 50, 125, 200]"
   ],
   "outputs": [],
   "execution_count": 29
  },
  {
   "cell_type": "code",
   "metadata": {
    "ExecuteTime": {
     "end_time": "2024-10-09T09:11:30.927596Z",
     "start_time": "2024-10-09T09:11:30.920256Z"
    }
   },
   "source": [
    "cfs = np.array([cf1, cf2, cf3])\n",
    "cfs"
   ],
   "outputs": [
    {
     "data": {
      "text/plain": [
       "array([[-200,   20,   50,   70,  100,   50],\n",
       "       [-150,   25,   60,   50,   50,   40],\n",
       "       [-250,   10,   25,   50,  125,  200]])"
      ]
     },
     "execution_count": 30,
     "metadata": {},
     "output_type": "execute_result"
    }
   ],
   "execution_count": 30
  },
  {
   "cell_type": "code",
   "metadata": {
    "ExecuteTime": {
     "end_time": "2024-10-09T09:11:31.161434Z",
     "start_time": "2024-10-09T09:11:31.149618Z"
    }
   },
   "source": [
    "cfs.shape"
   ],
   "outputs": [
    {
     "data": {
      "text/plain": [
       "(3, 6)"
      ]
     },
     "execution_count": 31,
     "metadata": {},
     "output_type": "execute_result"
    }
   ],
   "execution_count": 31
  },
  {
   "cell_type": "code",
   "metadata": {
    "ExecuteTime": {
     "end_time": "2024-10-09T09:11:31.280308Z",
     "start_time": "2024-10-09T09:11:31.274144Z"
    }
   },
   "source": [
    "cfs[:, 0]"
   ],
   "outputs": [
    {
     "data": {
      "text/plain": [
       "array([-200, -150, -250])"
      ]
     },
     "execution_count": 32,
     "metadata": {},
     "output_type": "execute_result"
    }
   ],
   "execution_count": 32
  },
  {
   "cell_type": "code",
   "metadata": {
    "ExecuteTime": {
     "end_time": "2024-10-09T09:11:31.403600Z",
     "start_time": "2024-10-09T09:11:31.396318Z"
    }
   },
   "source": [
    "cfs[:, -1]"
   ],
   "outputs": [
    {
     "data": {
      "text/plain": [
       "array([ 50,  40, 200])"
      ]
     },
     "execution_count": 33,
     "metadata": {},
     "output_type": "execute_result"
    }
   ],
   "execution_count": 33
  },
  {
   "cell_type": "code",
   "metadata": {
    "ExecuteTime": {
     "end_time": "2024-10-09T09:11:31.471817Z",
     "start_time": "2024-10-09T09:11:31.465381Z"
    }
   },
   "source": [
    "cfs[:, :2]"
   ],
   "outputs": [
    {
     "data": {
      "text/plain": [
       "array([[-200,   20],\n",
       "       [-150,   25],\n",
       "       [-250,   10]])"
      ]
     },
     "execution_count": 34,
     "metadata": {},
     "output_type": "execute_result"
    }
   ],
   "execution_count": 34
  },
  {
   "cell_type": "code",
   "metadata": {
    "ExecuteTime": {
     "end_time": "2024-10-09T09:11:31.580522Z",
     "start_time": "2024-10-09T09:11:31.573243Z"
    }
   },
   "source": [
    "cfs[2, 1:]"
   ],
   "outputs": [
    {
     "data": {
      "text/plain": [
       "array([ 10,  25,  50, 125, 200])"
      ]
     },
     "execution_count": 35,
     "metadata": {},
     "output_type": "execute_result"
    }
   ],
   "execution_count": 35
  },
  {
   "cell_type": "code",
   "metadata": {
    "ExecuteTime": {
     "end_time": "2024-10-09T09:11:31.642913Z",
     "start_time": "2024-10-09T09:11:31.639057Z"
    }
   },
   "source": [
    "cfs[-2:, :2]"
   ],
   "outputs": [
    {
     "data": {
      "text/plain": [
       "array([[-150,   25],\n",
       "       [-250,   10]])"
      ]
     },
     "execution_count": 36,
     "metadata": {},
     "output_type": "execute_result"
    }
   ],
   "execution_count": 36
  },
  {
   "cell_type": "code",
   "metadata": {
    "ExecuteTime": {
     "end_time": "2024-10-09T09:11:31.773275Z",
     "start_time": "2024-10-09T09:11:31.769555Z"
    }
   },
   "source": [
    "project_1 = [-200, 20, 50, 70, 100, 50]\n",
    "project_2 = [-50, 10, 25, 25, 50]\n",
    "project_3 = [-1000, 200, 200, 300, 500, 500, 750, 250]"
   ],
   "outputs": [],
   "execution_count": 37
  },
  {
   "cell_type": "code",
   "metadata": {
    "ExecuteTime": {
     "end_time": "2024-10-09T09:11:31.840449Z",
     "start_time": "2024-10-09T09:11:31.838059Z"
    }
   },
   "source": [
    "# array = np.array([project_1, project_2, project_3]) # no longer working"
   ],
   "outputs": [],
   "execution_count": 38
  },
  {
   "cell_type": "code",
   "metadata": {
    "ExecuteTime": {
     "end_time": "2024-10-09T09:11:31.917226Z",
     "start_time": "2024-10-09T09:11:31.912008Z"
    }
   },
   "source": [
    "#array"
   ],
   "outputs": [],
   "execution_count": 39
  },
  {
   "cell_type": "code",
   "metadata": {
    "ExecuteTime": {
     "end_time": "2024-10-09T09:11:31.993421Z",
     "start_time": "2024-10-09T09:11:31.989631Z"
    }
   },
   "source": [
    "#array.shape"
   ],
   "outputs": [],
   "execution_count": 40
  },
  {
   "cell_type": "code",
   "metadata": {
    "ExecuteTime": {
     "end_time": "2024-10-09T09:11:32.102075Z",
     "start_time": "2024-10-09T09:11:32.096645Z"
    }
   },
   "source": [
    "# array[:, 0]"
   ],
   "outputs": [],
   "execution_count": 41
  },
  {
   "cell_type": "code",
   "metadata": {
    "ExecuteTime": {
     "end_time": "2024-10-09T09:11:32.153905Z",
     "start_time": "2024-10-09T09:11:32.143772Z"
    }
   },
   "source": [
    "project_1 = np.array([-200, 20, 50, 70, 100, 50, 0, 0])\n",
    "project_2 = np.array([-50, 10, 25, 25, 50, 0, 0, 0])\n",
    "project_3 = np.array([-1000, 200, 200, 300, 500, 500, 750, 250])"
   ],
   "outputs": [],
   "execution_count": 42
  },
  {
   "cell_type": "code",
   "metadata": {
    "ExecuteTime": {
     "end_time": "2024-10-09T09:11:32.206894Z",
     "start_time": "2024-10-09T09:11:32.204348Z"
    }
   },
   "source": [
    "projects = np.array([project_1, project_2, project_3])"
   ],
   "outputs": [],
   "execution_count": 43
  },
  {
   "cell_type": "code",
   "metadata": {
    "ExecuteTime": {
     "end_time": "2024-10-09T09:11:32.264680Z",
     "start_time": "2024-10-09T09:11:32.260542Z"
    }
   },
   "source": [
    "projects"
   ],
   "outputs": [
    {
     "data": {
      "text/plain": [
       "array([[ -200,    20,    50,    70,   100,    50,     0,     0],\n",
       "       [  -50,    10,    25,    25,    50,     0,     0,     0],\n",
       "       [-1000,   200,   200,   300,   500,   500,   750,   250]])"
      ]
     },
     "execution_count": 44,
     "metadata": {},
     "output_type": "execute_result"
    }
   ],
   "execution_count": 44
  },
  {
   "cell_type": "code",
   "metadata": {
    "ExecuteTime": {
     "end_time": "2024-10-09T09:11:32.362401Z",
     "start_time": "2024-10-09T09:11:32.358044Z"
    }
   },
   "source": [
    "projects.shape"
   ],
   "outputs": [
    {
     "data": {
      "text/plain": [
       "(3, 8)"
      ]
     },
     "execution_count": 45,
     "metadata": {},
     "output_type": "execute_result"
    }
   ],
   "execution_count": 45
  },
  {
   "cell_type": "code",
   "metadata": {
    "ExecuteTime": {
     "end_time": "2024-10-09T09:11:32.422823Z",
     "start_time": "2024-10-09T09:11:32.414223Z"
    }
   },
   "source": [
    "projects[:, 0]"
   ],
   "outputs": [
    {
     "data": {
      "text/plain": [
       "array([ -200,   -50, -1000])"
      ]
     },
     "execution_count": 46,
     "metadata": {},
     "output_type": "execute_result"
    }
   ],
   "execution_count": 46
  },
  {
   "cell_type": "code",
   "metadata": {
    "ExecuteTime": {
     "end_time": "2024-10-09T09:11:32.586948Z",
     "start_time": "2024-10-09T09:11:32.576897Z"
    }
   },
   "source": [
    "project_1 = np.array([-200, 20, 50, 70, 100, 50])"
   ],
   "outputs": [],
   "execution_count": 47
  },
  {
   "cell_type": "code",
   "metadata": {
    "ExecuteTime": {
     "end_time": "2024-10-09T09:11:32.653957Z",
     "start_time": "2024-10-09T09:11:32.648379Z"
    }
   },
   "source": [
    "project_1.resize(8)"
   ],
   "outputs": [],
   "execution_count": 48
  },
  {
   "cell_type": "code",
   "metadata": {
    "ExecuteTime": {
     "end_time": "2024-10-09T09:11:32.709749Z",
     "start_time": "2024-10-09T09:11:32.704662Z"
    }
   },
   "source": [
    "project_1"
   ],
   "outputs": [
    {
     "data": {
      "text/plain": [
       "array([-200,   20,   50,   70,  100,   50,    0,    0])"
      ]
     },
     "execution_count": 49,
     "metadata": {},
     "output_type": "execute_result"
    }
   ],
   "execution_count": 49
  },
  {
   "cell_type": "code",
   "metadata": {
    "ExecuteTime": {
     "end_time": "2024-10-09T09:11:32.778689Z",
     "start_time": "2024-10-09T09:11:32.776489Z"
    }
   },
   "source": [],
   "outputs": [],
   "execution_count": null
  },
  {
   "cell_type": "markdown",
   "metadata": {},
   "source": [
    "### Slicing 2-dim Numpy Arrays (Part 2)"
   ]
  },
  {
   "cell_type": "code",
   "metadata": {
    "ExecuteTime": {
     "end_time": "2024-10-09T09:11:32.838543Z",
     "start_time": "2024-10-09T09:11:32.833069Z"
    }
   },
   "source": [
    "import numpy as np"
   ],
   "outputs": [],
   "execution_count": 50
  },
  {
   "cell_type": "code",
   "metadata": {
    "ExecuteTime": {
     "end_time": "2024-10-09T09:11:32.892657Z",
     "start_time": "2024-10-09T09:11:32.888293Z"
    }
   },
   "source": [
    "cf1 = np.array([-200, 20, 50, 70, 100, 50])\n",
    "cf2 = np.array([-150, 25, 60, 50, 50, 40])\n",
    "cf3 = np.array([-250, 10, 25, 50, 125, 200])"
   ],
   "outputs": [],
   "execution_count": 51
  },
  {
   "cell_type": "code",
   "metadata": {
    "ExecuteTime": {
     "end_time": "2024-10-09T09:11:32.958291Z",
     "start_time": "2024-10-09T09:11:32.947718Z"
    }
   },
   "source": [
    "cfs = np.array([cf1, cf2, cf3])\n",
    "cfs"
   ],
   "outputs": [
    {
     "data": {
      "text/plain": [
       "array([[-200,   20,   50,   70,  100,   50],\n",
       "       [-150,   25,   60,   50,   50,   40],\n",
       "       [-250,   10,   25,   50,  125,  200]])"
      ]
     },
     "execution_count": 52,
     "metadata": {},
     "output_type": "execute_result"
    }
   ],
   "execution_count": 52
  },
  {
   "cell_type": "code",
   "metadata": {
    "ExecuteTime": {
     "end_time": "2024-10-09T09:11:33.065537Z",
     "start_time": "2024-10-09T09:11:33.052742Z"
    }
   },
   "source": [
    "cf1[[0, 3, -1]]"
   ],
   "outputs": [
    {
     "data": {
      "text/plain": [
       "array([-200,   70,   50])"
      ]
     },
     "execution_count": 53,
     "metadata": {},
     "output_type": "execute_result"
    }
   ],
   "execution_count": 53
  },
  {
   "cell_type": "code",
   "metadata": {
    "ExecuteTime": {
     "end_time": "2024-10-09T09:11:33.116705Z",
     "start_time": "2024-10-09T09:11:33.112044Z"
    }
   },
   "source": [
    "cfs[[0,-1], 0]"
   ],
   "outputs": [
    {
     "data": {
      "text/plain": [
       "array([-200, -250])"
      ]
     },
     "execution_count": 54,
     "metadata": {},
     "output_type": "execute_result"
    }
   ],
   "execution_count": 54
  },
  {
   "cell_type": "code",
   "metadata": {
    "ExecuteTime": {
     "end_time": "2024-10-09T09:11:33.247943Z",
     "start_time": "2024-10-09T09:11:33.243729Z"
    }
   },
   "source": [
    "cfs[0, [0, 2, -1]]"
   ],
   "outputs": [
    {
     "data": {
      "text/plain": [
       "array([-200,   50,   50])"
      ]
     },
     "execution_count": 55,
     "metadata": {},
     "output_type": "execute_result"
    }
   ],
   "execution_count": 55
  },
  {
   "cell_type": "code",
   "metadata": {
    "ExecuteTime": {
     "end_time": "2024-10-09T09:11:33.311043Z",
     "start_time": "2024-10-09T09:11:33.308833Z"
    }
   },
   "source": [],
   "outputs": [],
   "execution_count": null
  },
  {
   "cell_type": "markdown",
   "metadata": {},
   "source": [
    "### Recap: Changing Elements in a Numpy Array / slice"
   ]
  },
  {
   "cell_type": "code",
   "metadata": {
    "ExecuteTime": {
     "end_time": "2024-10-09T09:11:33.364918Z",
     "start_time": "2024-10-09T09:11:33.361889Z"
    }
   },
   "source": [
    "import numpy as np"
   ],
   "outputs": [],
   "execution_count": 56
  },
  {
   "cell_type": "code",
   "metadata": {
    "ExecuteTime": {
     "end_time": "2024-10-09T09:11:33.413283Z",
     "start_time": "2024-10-09T09:11:33.409845Z"
    }
   },
   "source": [
    "cf1 = [-200, 20, 50, 70, 100, 50]\n",
    "cf2 = [-150, 25, 60, 50, 50, 40]\n",
    "cf3 = [-250, 10, 25, 50, 125, 200]"
   ],
   "outputs": [],
   "execution_count": 57
  },
  {
   "cell_type": "code",
   "metadata": {
    "ExecuteTime": {
     "end_time": "2024-10-09T09:11:33.468138Z",
     "start_time": "2024-10-09T09:11:33.462567Z"
    }
   },
   "source": [
    "cfs = np.array([cf1, cf2, cf3])\n",
    "cfs"
   ],
   "outputs": [
    {
     "data": {
      "text/plain": [
       "array([[-200,   20,   50,   70,  100,   50],\n",
       "       [-150,   25,   60,   50,   50,   40],\n",
       "       [-250,   10,   25,   50,  125,  200]])"
      ]
     },
     "execution_count": 58,
     "metadata": {},
     "output_type": "execute_result"
    }
   ],
   "execution_count": 58
  },
  {
   "cell_type": "code",
   "metadata": {
    "ExecuteTime": {
     "end_time": "2024-10-09T09:11:33.565614Z",
     "start_time": "2024-10-09T09:11:33.562205Z"
    }
   },
   "source": [
    "cfs[:, 0] = -200"
   ],
   "outputs": [],
   "execution_count": 59
  },
  {
   "cell_type": "code",
   "metadata": {
    "ExecuteTime": {
     "end_time": "2024-10-09T09:11:33.613580Z",
     "start_time": "2024-10-09T09:11:33.610435Z"
    }
   },
   "source": [
    "cfs"
   ],
   "outputs": [
    {
     "data": {
      "text/plain": [
       "array([[-200,   20,   50,   70,  100,   50],\n",
       "       [-200,   25,   60,   50,   50,   40],\n",
       "       [-200,   10,   25,   50,  125,  200]])"
      ]
     },
     "execution_count": 60,
     "metadata": {},
     "output_type": "execute_result"
    }
   ],
   "execution_count": 60
  },
  {
   "cell_type": "code",
   "metadata": {
    "ExecuteTime": {
     "end_time": "2024-10-09T09:11:33.724536Z",
     "start_time": "2024-10-09T09:11:33.719186Z"
    }
   },
   "source": [
    "cfs[:, 0] = cfs[:, 0] - 10"
   ],
   "outputs": [],
   "execution_count": 61
  },
  {
   "cell_type": "code",
   "metadata": {
    "ExecuteTime": {
     "end_time": "2024-10-09T09:11:33.768891Z",
     "start_time": "2024-10-09T09:11:33.764218Z"
    }
   },
   "source": [
    "cfs"
   ],
   "outputs": [
    {
     "data": {
      "text/plain": [
       "array([[-210,   20,   50,   70,  100,   50],\n",
       "       [-210,   25,   60,   50,   50,   40],\n",
       "       [-210,   10,   25,   50,  125,  200]])"
      ]
     },
     "execution_count": 62,
     "metadata": {},
     "output_type": "execute_result"
    }
   ],
   "execution_count": 62
  },
  {
   "cell_type": "code",
   "metadata": {
    "ExecuteTime": {
     "end_time": "2024-10-09T09:11:33.935568Z",
     "start_time": "2024-10-09T09:11:33.932012Z"
    }
   },
   "source": [
    "cfs[:, 0] = [-200, -150, -250]"
   ],
   "outputs": [],
   "execution_count": 63
  },
  {
   "cell_type": "code",
   "metadata": {
    "ExecuteTime": {
     "end_time": "2024-10-09T09:11:33.985579Z",
     "start_time": "2024-10-09T09:11:33.981867Z"
    }
   },
   "source": [
    "cfs"
   ],
   "outputs": [
    {
     "data": {
      "text/plain": [
       "array([[-200,   20,   50,   70,  100,   50],\n",
       "       [-150,   25,   60,   50,   50,   40],\n",
       "       [-250,   10,   25,   50,  125,  200]])"
      ]
     },
     "execution_count": 64,
     "metadata": {},
     "output_type": "execute_result"
    }
   ],
   "execution_count": 64
  },
  {
   "cell_type": "code",
   "metadata": {
    "ExecuteTime": {
     "end_time": "2024-10-09T09:11:34.062370Z",
     "start_time": "2024-10-09T09:11:34.057882Z"
    }
   },
   "source": [
    "I0s = cfs[:, 0]\n",
    "I0s"
   ],
   "outputs": [
    {
     "data": {
      "text/plain": [
       "array([-200, -150, -250])"
      ]
     },
     "execution_count": 65,
     "metadata": {},
     "output_type": "execute_result"
    }
   ],
   "execution_count": 65
  },
  {
   "cell_type": "code",
   "metadata": {
    "ExecuteTime": {
     "end_time": "2024-10-09T09:11:34.325834Z",
     "start_time": "2024-10-09T09:11:34.316869Z"
    }
   },
   "source": [
    "I0s[0] = -180\n",
    "I0s"
   ],
   "outputs": [
    {
     "data": {
      "text/plain": [
       "array([-180, -150, -250])"
      ]
     },
     "execution_count": 66,
     "metadata": {},
     "output_type": "execute_result"
    }
   ],
   "execution_count": 66
  },
  {
   "cell_type": "code",
   "metadata": {
    "ExecuteTime": {
     "end_time": "2024-10-09T09:11:34.426545Z",
     "start_time": "2024-10-09T09:11:34.418467Z"
    }
   },
   "source": [
    "cfs"
   ],
   "outputs": [
    {
     "data": {
      "text/plain": [
       "array([[-180,   20,   50,   70,  100,   50],\n",
       "       [-150,   25,   60,   50,   50,   40],\n",
       "       [-250,   10,   25,   50,  125,  200]])"
      ]
     },
     "execution_count": 67,
     "metadata": {},
     "output_type": "execute_result"
    }
   ],
   "execution_count": 67
  },
  {
   "cell_type": "code",
   "metadata": {
    "ExecuteTime": {
     "end_time": "2024-10-09T09:11:34.616114Z",
     "start_time": "2024-10-09T09:11:34.611170Z"
    }
   },
   "source": [
    "cf5 = cfs[:, -1].copy()\n",
    "cf5"
   ],
   "outputs": [
    {
     "data": {
      "text/plain": [
       "array([ 50,  40, 200])"
      ]
     },
     "execution_count": 68,
     "metadata": {},
     "output_type": "execute_result"
    }
   ],
   "execution_count": 68
  },
  {
   "cell_type": "code",
   "metadata": {
    "ExecuteTime": {
     "end_time": "2024-10-09T09:11:34.754362Z",
     "start_time": "2024-10-09T09:11:34.749126Z"
    }
   },
   "source": [
    "cf5[-1] = 150\n",
    "cf5"
   ],
   "outputs": [
    {
     "data": {
      "text/plain": [
       "array([ 50,  40, 150])"
      ]
     },
     "execution_count": 69,
     "metadata": {},
     "output_type": "execute_result"
    }
   ],
   "execution_count": 69
  },
  {
   "cell_type": "code",
   "metadata": {
    "ExecuteTime": {
     "end_time": "2024-10-09T09:11:34.816365Z",
     "start_time": "2024-10-09T09:11:34.813279Z"
    }
   },
   "source": [
    "cfs"
   ],
   "outputs": [
    {
     "data": {
      "text/plain": [
       "array([[-180,   20,   50,   70,  100,   50],\n",
       "       [-150,   25,   60,   50,   50,   40],\n",
       "       [-250,   10,   25,   50,  125,  200]])"
      ]
     },
     "execution_count": 70,
     "metadata": {},
     "output_type": "execute_result"
    }
   ],
   "execution_count": 70
  },
  {
   "cell_type": "code",
   "metadata": {
    "ExecuteTime": {
     "end_time": "2024-10-09T09:11:34.931033Z",
     "start_time": "2024-10-09T09:11:34.928577Z"
    }
   },
   "source": [],
   "outputs": [],
   "execution_count": null
  },
  {
   "cell_type": "markdown",
   "metadata": {},
   "source": [
    "### Row- and Column wise operations"
   ]
  },
  {
   "cell_type": "code",
   "metadata": {
    "ExecuteTime": {
     "end_time": "2024-10-09T09:11:35.034692Z",
     "start_time": "2024-10-09T09:11:35.031573Z"
    }
   },
   "source": [
    "import numpy as np\n",
    "np.set_printoptions(precision=2, suppress= True)"
   ],
   "outputs": [],
   "execution_count": 71
  },
  {
   "cell_type": "code",
   "metadata": {
    "ExecuteTime": {
     "end_time": "2024-10-09T09:11:35.104303Z",
     "start_time": "2024-10-09T09:11:35.100970Z"
    }
   },
   "source": [
    "project_1 = [-200, 20, 50, 70, 100, 50, 0, 0]\n",
    "project_2 = [-50, 10, 25, 25, 50, 0, 0, 0]\n",
    "project_3 = [-1000, 200, 200, 300, 500, 500, 750, 250]"
   ],
   "outputs": [],
   "execution_count": 72
  },
  {
   "cell_type": "code",
   "metadata": {
    "ExecuteTime": {
     "end_time": "2024-10-09T09:11:35.181945Z",
     "start_time": "2024-10-09T09:11:35.178706Z"
    }
   },
   "source": [
    "projects = np.array([project_1, project_2, project_3])"
   ],
   "outputs": [],
   "execution_count": 73
  },
  {
   "cell_type": "code",
   "metadata": {
    "ExecuteTime": {
     "end_time": "2024-10-09T09:11:35.304180Z",
     "start_time": "2024-10-09T09:11:35.286376Z"
    }
   },
   "source": [
    "projects"
   ],
   "outputs": [
    {
     "data": {
      "text/plain": [
       "array([[ -200,    20,    50,    70,   100,    50,     0,     0],\n",
       "       [  -50,    10,    25,    25,    50,     0,     0,     0],\n",
       "       [-1000,   200,   200,   300,   500,   500,   750,   250]])"
      ]
     },
     "execution_count": 74,
     "metadata": {},
     "output_type": "execute_result"
    }
   ],
   "execution_count": 74
  },
  {
   "cell_type": "code",
   "metadata": {
    "ExecuteTime": {
     "end_time": "2024-10-09T09:11:35.467106Z",
     "start_time": "2024-10-09T09:11:35.464112Z"
    }
   },
   "source": [
    "np.sum(projects)"
   ],
   "outputs": [
    {
     "data": {
      "text/plain": [
       "1850"
      ]
     },
     "execution_count": 75,
     "metadata": {},
     "output_type": "execute_result"
    }
   ],
   "execution_count": 75
  },
  {
   "cell_type": "code",
   "metadata": {
    "ExecuteTime": {
     "end_time": "2024-10-09T09:11:35.526762Z",
     "start_time": "2024-10-09T09:11:35.519945Z"
    }
   },
   "source": [
    "np.sum(projects, axis = 0)"
   ],
   "outputs": [
    {
     "data": {
      "text/plain": [
       "array([-1250,   230,   275,   395,   650,   550,   750,   250])"
      ]
     },
     "execution_count": 76,
     "metadata": {},
     "output_type": "execute_result"
    }
   ],
   "execution_count": 76
  },
  {
   "cell_type": "code",
   "metadata": {
    "ExecuteTime": {
     "end_time": "2024-10-09T09:11:35.669476Z",
     "start_time": "2024-10-09T09:11:35.665387Z"
    }
   },
   "source": [
    "np.sum(projects, axis = 1)"
   ],
   "outputs": [
    {
     "data": {
      "text/plain": [
       "array([  90,   60, 1700])"
      ]
     },
     "execution_count": 77,
     "metadata": {},
     "output_type": "execute_result"
    }
   ],
   "execution_count": 77
  },
  {
   "cell_type": "code",
   "metadata": {
    "ExecuteTime": {
     "end_time": "2024-10-09T09:11:35.766851Z",
     "start_time": "2024-10-09T09:11:35.762798Z"
    }
   },
   "source": [
    "np.cumsum(projects, axis = 1)"
   ],
   "outputs": [
    {
     "data": {
      "text/plain": [
       "array([[ -200,  -180,  -130,   -60,    40,    90,    90,    90],\n",
       "       [  -50,   -40,   -15,    10,    60,    60,    60,    60],\n",
       "       [-1000,  -800,  -600,  -300,   200,   700,  1450,  1700]])"
      ]
     },
     "execution_count": 78,
     "metadata": {},
     "output_type": "execute_result"
    }
   ],
   "execution_count": 78
  },
  {
   "cell_type": "code",
   "metadata": {
    "ExecuteTime": {
     "end_time": "2024-10-09T09:11:35.872573Z",
     "start_time": "2024-10-09T09:11:35.867426Z"
    }
   },
   "source": [
    "np.mean(projects, axis = 1)"
   ],
   "outputs": [
    {
     "data": {
      "text/plain": [
       "array([ 11.25,   7.5 , 212.5 ])"
      ]
     },
     "execution_count": 79,
     "metadata": {},
     "output_type": "execute_result"
    }
   ],
   "execution_count": 79
  },
  {
   "cell_type": "code",
   "metadata": {
    "ExecuteTime": {
     "end_time": "2024-10-09T09:11:35.933120Z",
     "start_time": "2024-10-09T09:11:35.927982Z"
    }
   },
   "source": [
    "np.mean(projects, axis = 0)"
   ],
   "outputs": [
    {
     "data": {
      "text/plain": [
       "array([-416.67,   76.67,   91.67,  131.67,  216.67,  183.33,  250.  ,\n",
       "         83.33])"
      ]
     },
     "execution_count": 80,
     "metadata": {},
     "output_type": "execute_result"
    }
   ],
   "execution_count": 80
  },
  {
   "cell_type": "code",
   "metadata": {
    "ExecuteTime": {
     "end_time": "2024-10-09T09:11:36.125604Z",
     "start_time": "2024-10-09T09:11:36.116806Z"
    }
   },
   "source": [
    "np.mean(projects)"
   ],
   "outputs": [
    {
     "data": {
      "text/plain": [
       "77.08333333333333"
      ]
     },
     "execution_count": 81,
     "metadata": {},
     "output_type": "execute_result"
    }
   ],
   "execution_count": 81
  },
  {
   "cell_type": "code",
   "metadata": {
    "ExecuteTime": {
     "end_time": "2024-10-09T09:11:36.193145Z",
     "start_time": "2024-10-09T09:11:36.190065Z"
    }
   },
   "source": [],
   "outputs": [],
   "execution_count": null
  }
 ],
 "metadata": {
  "kernelspec": {
   "display_name": "Python 3 (ipykernel)",
   "language": "python",
   "name": "python3"
  },
  "language_info": {
   "codemirror_mode": {
    "name": "ipython",
    "version": 3
   },
   "file_extension": ".py",
   "mimetype": "text/x-python",
   "name": "python",
   "nbconvert_exporter": "python",
   "pygments_lexer": "ipython3",
   "version": "3.11.7"
  }
 },
 "nbformat": 4,
 "nbformat_minor": 2
}
