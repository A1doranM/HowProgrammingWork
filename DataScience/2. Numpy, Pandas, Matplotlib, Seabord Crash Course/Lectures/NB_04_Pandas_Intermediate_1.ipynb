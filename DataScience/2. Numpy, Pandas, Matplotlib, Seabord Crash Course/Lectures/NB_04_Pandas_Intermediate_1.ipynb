{
 "cells": [
  {
   "cell_type": "markdown",
   "metadata": {},
   "source": [
    "# Appendix 3: Python Libraries Crash Course"
   ]
  },
  {
   "cell_type": "markdown",
   "metadata": {},
   "source": [
    "## Part 4: Pandas Intermediate 1"
   ]
  },
  {
   "cell_type": "markdown",
   "metadata": {},
   "source": [
    "### First Steps with Pandas Series"
   ]
  },
  {
   "cell_type": "code",
   "metadata": {
    "ExecuteTime": {
     "end_time": "2024-10-14T13:50:05.886927Z",
     "start_time": "2024-10-14T13:50:05.648014Z"
    }
   },
   "source": [
    "import pandas as pd"
   ],
   "outputs": [],
   "execution_count": 1
  },
  {
   "cell_type": "code",
   "metadata": {
    "ExecuteTime": {
     "end_time": "2024-10-14T13:50:05.907562Z",
     "start_time": "2024-10-14T13:50:05.892958Z"
    }
   },
   "source": [
    "titanic = pd.read_csv(\"titanic.csv\")"
   ],
   "outputs": [],
   "execution_count": 2
  },
  {
   "cell_type": "code",
   "metadata": {
    "ExecuteTime": {
     "end_time": "2024-10-14T13:50:06.071377Z",
     "start_time": "2024-10-14T13:50:06.057841Z"
    }
   },
   "source": [
    "titanic"
   ],
   "outputs": [
    {
     "data": {
      "text/plain": [
       "     survived  pclass     sex   age  sibsp  parch     fare embarked deck\n",
       "0           0       3    male  22.0      1      0   7.2500        S  NaN\n",
       "1           1       1  female  38.0      1      0  71.2833        C    C\n",
       "2           1       3  female  26.0      0      0   7.9250        S  NaN\n",
       "3           1       1  female  35.0      1      0  53.1000        S    C\n",
       "4           0       3    male  35.0      0      0   8.0500        S  NaN\n",
       "..        ...     ...     ...   ...    ...    ...      ...      ...  ...\n",
       "886         0       2    male  27.0      0      0  13.0000        S  NaN\n",
       "887         1       1  female  19.0      0      0  30.0000        S    B\n",
       "888         0       3  female   NaN      1      2  23.4500        S  NaN\n",
       "889         1       1    male  26.0      0      0  30.0000        C    C\n",
       "890         0       3    male  32.0      0      0   7.7500        Q  NaN\n",
       "\n",
       "[891 rows x 9 columns]"
      ],
      "text/html": [
       "<div>\n",
       "<style scoped>\n",
       "    .dataframe tbody tr th:only-of-type {\n",
       "        vertical-align: middle;\n",
       "    }\n",
       "\n",
       "    .dataframe tbody tr th {\n",
       "        vertical-align: top;\n",
       "    }\n",
       "\n",
       "    .dataframe thead th {\n",
       "        text-align: right;\n",
       "    }\n",
       "</style>\n",
       "<table border=\"1\" class=\"dataframe\">\n",
       "  <thead>\n",
       "    <tr style=\"text-align: right;\">\n",
       "      <th></th>\n",
       "      <th>survived</th>\n",
       "      <th>pclass</th>\n",
       "      <th>sex</th>\n",
       "      <th>age</th>\n",
       "      <th>sibsp</th>\n",
       "      <th>parch</th>\n",
       "      <th>fare</th>\n",
       "      <th>embarked</th>\n",
       "      <th>deck</th>\n",
       "    </tr>\n",
       "  </thead>\n",
       "  <tbody>\n",
       "    <tr>\n",
       "      <th>0</th>\n",
       "      <td>0</td>\n",
       "      <td>3</td>\n",
       "      <td>male</td>\n",
       "      <td>22.0</td>\n",
       "      <td>1</td>\n",
       "      <td>0</td>\n",
       "      <td>7.2500</td>\n",
       "      <td>S</td>\n",
       "      <td>NaN</td>\n",
       "    </tr>\n",
       "    <tr>\n",
       "      <th>1</th>\n",
       "      <td>1</td>\n",
       "      <td>1</td>\n",
       "      <td>female</td>\n",
       "      <td>38.0</td>\n",
       "      <td>1</td>\n",
       "      <td>0</td>\n",
       "      <td>71.2833</td>\n",
       "      <td>C</td>\n",
       "      <td>C</td>\n",
       "    </tr>\n",
       "    <tr>\n",
       "      <th>2</th>\n",
       "      <td>1</td>\n",
       "      <td>3</td>\n",
       "      <td>female</td>\n",
       "      <td>26.0</td>\n",
       "      <td>0</td>\n",
       "      <td>0</td>\n",
       "      <td>7.9250</td>\n",
       "      <td>S</td>\n",
       "      <td>NaN</td>\n",
       "    </tr>\n",
       "    <tr>\n",
       "      <th>3</th>\n",
       "      <td>1</td>\n",
       "      <td>1</td>\n",
       "      <td>female</td>\n",
       "      <td>35.0</td>\n",
       "      <td>1</td>\n",
       "      <td>0</td>\n",
       "      <td>53.1000</td>\n",
       "      <td>S</td>\n",
       "      <td>C</td>\n",
       "    </tr>\n",
       "    <tr>\n",
       "      <th>4</th>\n",
       "      <td>0</td>\n",
       "      <td>3</td>\n",
       "      <td>male</td>\n",
       "      <td>35.0</td>\n",
       "      <td>0</td>\n",
       "      <td>0</td>\n",
       "      <td>8.0500</td>\n",
       "      <td>S</td>\n",
       "      <td>NaN</td>\n",
       "    </tr>\n",
       "    <tr>\n",
       "      <th>...</th>\n",
       "      <td>...</td>\n",
       "      <td>...</td>\n",
       "      <td>...</td>\n",
       "      <td>...</td>\n",
       "      <td>...</td>\n",
       "      <td>...</td>\n",
       "      <td>...</td>\n",
       "      <td>...</td>\n",
       "      <td>...</td>\n",
       "    </tr>\n",
       "    <tr>\n",
       "      <th>886</th>\n",
       "      <td>0</td>\n",
       "      <td>2</td>\n",
       "      <td>male</td>\n",
       "      <td>27.0</td>\n",
       "      <td>0</td>\n",
       "      <td>0</td>\n",
       "      <td>13.0000</td>\n",
       "      <td>S</td>\n",
       "      <td>NaN</td>\n",
       "    </tr>\n",
       "    <tr>\n",
       "      <th>887</th>\n",
       "      <td>1</td>\n",
       "      <td>1</td>\n",
       "      <td>female</td>\n",
       "      <td>19.0</td>\n",
       "      <td>0</td>\n",
       "      <td>0</td>\n",
       "      <td>30.0000</td>\n",
       "      <td>S</td>\n",
       "      <td>B</td>\n",
       "    </tr>\n",
       "    <tr>\n",
       "      <th>888</th>\n",
       "      <td>0</td>\n",
       "      <td>3</td>\n",
       "      <td>female</td>\n",
       "      <td>NaN</td>\n",
       "      <td>1</td>\n",
       "      <td>2</td>\n",
       "      <td>23.4500</td>\n",
       "      <td>S</td>\n",
       "      <td>NaN</td>\n",
       "    </tr>\n",
       "    <tr>\n",
       "      <th>889</th>\n",
       "      <td>1</td>\n",
       "      <td>1</td>\n",
       "      <td>male</td>\n",
       "      <td>26.0</td>\n",
       "      <td>0</td>\n",
       "      <td>0</td>\n",
       "      <td>30.0000</td>\n",
       "      <td>C</td>\n",
       "      <td>C</td>\n",
       "    </tr>\n",
       "    <tr>\n",
       "      <th>890</th>\n",
       "      <td>0</td>\n",
       "      <td>3</td>\n",
       "      <td>male</td>\n",
       "      <td>32.0</td>\n",
       "      <td>0</td>\n",
       "      <td>0</td>\n",
       "      <td>7.7500</td>\n",
       "      <td>Q</td>\n",
       "      <td>NaN</td>\n",
       "    </tr>\n",
       "  </tbody>\n",
       "</table>\n",
       "<p>891 rows × 9 columns</p>\n",
       "</div>"
      ]
     },
     "execution_count": 3,
     "metadata": {},
     "output_type": "execute_result"
    }
   ],
   "execution_count": 3
  },
  {
   "cell_type": "code",
   "metadata": {
    "ExecuteTime": {
     "end_time": "2024-10-14T13:50:06.140512Z",
     "start_time": "2024-10-14T13:50:06.128646Z"
    }
   },
   "source": [
    "titanic.info()"
   ],
   "outputs": [
    {
     "name": "stdout",
     "output_type": "stream",
     "text": [
      "<class 'pandas.core.frame.DataFrame'>\n",
      "RangeIndex: 891 entries, 0 to 890\n",
      "Data columns (total 9 columns):\n",
      " #   Column    Non-Null Count  Dtype  \n",
      "---  ------    --------------  -----  \n",
      " 0   survived  891 non-null    int64  \n",
      " 1   pclass    891 non-null    int64  \n",
      " 2   sex       891 non-null    object \n",
      " 3   age       714 non-null    float64\n",
      " 4   sibsp     891 non-null    int64  \n",
      " 5   parch     891 non-null    int64  \n",
      " 6   fare      891 non-null    float64\n",
      " 7   embarked  889 non-null    object \n",
      " 8   deck      203 non-null    object \n",
      "dtypes: float64(2), int64(4), object(3)\n",
      "memory usage: 62.8+ KB\n"
     ]
    }
   ],
   "execution_count": 4
  },
  {
   "cell_type": "code",
   "metadata": {
    "scrolled": true,
    "ExecuteTime": {
     "end_time": "2024-10-14T13:50:06.248343Z",
     "start_time": "2024-10-14T13:50:06.242580Z"
    }
   },
   "source": [
    "titanic[\"age\"]"
   ],
   "outputs": [
    {
     "data": {
      "text/plain": [
       "0      22.0\n",
       "1      38.0\n",
       "2      26.0\n",
       "3      35.0\n",
       "4      35.0\n",
       "       ... \n",
       "886    27.0\n",
       "887    19.0\n",
       "888     NaN\n",
       "889    26.0\n",
       "890    32.0\n",
       "Name: age, Length: 891, dtype: float64"
      ]
     },
     "execution_count": 5,
     "metadata": {},
     "output_type": "execute_result"
    }
   ],
   "execution_count": 5
  },
  {
   "cell_type": "code",
   "metadata": {
    "ExecuteTime": {
     "end_time": "2024-10-14T13:50:06.413687Z",
     "start_time": "2024-10-14T13:50:06.410442Z"
    }
   },
   "source": [
    "type(titanic[\"age\"])"
   ],
   "outputs": [
    {
     "data": {
      "text/plain": [
       "pandas.core.series.Series"
      ]
     },
     "execution_count": 6,
     "metadata": {},
     "output_type": "execute_result"
    }
   ],
   "execution_count": 6
  },
  {
   "cell_type": "code",
   "metadata": {
    "ExecuteTime": {
     "end_time": "2024-10-14T13:50:06.563479Z",
     "start_time": "2024-10-14T13:50:06.558370Z"
    }
   },
   "source": [
    "titanic[\"age\"].equals(titanic.age)"
   ],
   "outputs": [
    {
     "data": {
      "text/plain": [
       "True"
      ]
     },
     "execution_count": 7,
     "metadata": {},
     "output_type": "execute_result"
    }
   ],
   "execution_count": 7
  },
  {
   "cell_type": "code",
   "metadata": {
    "ExecuteTime": {
     "end_time": "2024-10-14T13:50:06.788285Z",
     "start_time": "2024-10-14T13:50:06.785061Z"
    }
   },
   "source": [
    "age = titanic[\"age\"]"
   ],
   "outputs": [],
   "execution_count": 8
  },
  {
   "cell_type": "code",
   "metadata": {
    "ExecuteTime": {
     "end_time": "2024-10-14T13:50:06.869274Z",
     "start_time": "2024-10-14T13:50:06.863840Z"
    }
   },
   "source": [
    "age.head(2)"
   ],
   "outputs": [
    {
     "data": {
      "text/plain": [
       "0    22.0\n",
       "1    38.0\n",
       "Name: age, dtype: float64"
      ]
     },
     "execution_count": 9,
     "metadata": {},
     "output_type": "execute_result"
    }
   ],
   "execution_count": 9
  },
  {
   "cell_type": "code",
   "metadata": {
    "ExecuteTime": {
     "end_time": "2024-10-14T13:50:07.064627Z",
     "start_time": "2024-10-14T13:50:07.059825Z"
    }
   },
   "source": [
    "age.tail()"
   ],
   "outputs": [
    {
     "data": {
      "text/plain": [
       "886    27.0\n",
       "887    19.0\n",
       "888     NaN\n",
       "889    26.0\n",
       "890    32.0\n",
       "Name: age, dtype: float64"
      ]
     },
     "execution_count": 10,
     "metadata": {},
     "output_type": "execute_result"
    }
   ],
   "execution_count": 10
  },
  {
   "cell_type": "code",
   "metadata": {
    "ExecuteTime": {
     "end_time": "2024-10-14T13:50:07.154928Z",
     "start_time": "2024-10-14T13:50:07.151385Z"
    }
   },
   "source": [
    "age.dtype"
   ],
   "outputs": [
    {
     "data": {
      "text/plain": [
       "dtype('float64')"
      ]
     },
     "execution_count": 11,
     "metadata": {},
     "output_type": "execute_result"
    }
   ],
   "execution_count": 11
  },
  {
   "cell_type": "code",
   "metadata": {
    "ExecuteTime": {
     "end_time": "2024-10-14T13:50:07.356519Z",
     "start_time": "2024-10-14T13:50:07.353034Z"
    }
   },
   "source": [
    "age.shape"
   ],
   "outputs": [
    {
     "data": {
      "text/plain": [
       "(891,)"
      ]
     },
     "execution_count": 12,
     "metadata": {},
     "output_type": "execute_result"
    }
   ],
   "execution_count": 12
  },
  {
   "cell_type": "code",
   "metadata": {
    "ExecuteTime": {
     "end_time": "2024-10-14T13:50:07.479453Z",
     "start_time": "2024-10-14T13:50:07.475383Z"
    }
   },
   "source": [
    "len(age)"
   ],
   "outputs": [
    {
     "data": {
      "text/plain": [
       "891"
      ]
     },
     "execution_count": 13,
     "metadata": {},
     "output_type": "execute_result"
    }
   ],
   "execution_count": 13
  },
  {
   "cell_type": "code",
   "metadata": {
    "ExecuteTime": {
     "end_time": "2024-10-14T13:50:07.638561Z",
     "start_time": "2024-10-14T13:50:07.629597Z"
    }
   },
   "source": [
    "age.index"
   ],
   "outputs": [
    {
     "data": {
      "text/plain": [
       "RangeIndex(start=0, stop=891, step=1)"
      ]
     },
     "execution_count": 14,
     "metadata": {},
     "output_type": "execute_result"
    }
   ],
   "execution_count": 14
  },
  {
   "cell_type": "code",
   "metadata": {
    "ExecuteTime": {
     "end_time": "2024-10-14T13:50:07.801288Z",
     "start_time": "2024-10-14T13:50:07.795204Z"
    }
   },
   "source": [
    "age.info()"
   ],
   "outputs": [
    {
     "name": "stdout",
     "output_type": "stream",
     "text": [
      "<class 'pandas.core.series.Series'>\n",
      "RangeIndex: 891 entries, 0 to 890\n",
      "Series name: age\n",
      "Non-Null Count  Dtype  \n",
      "--------------  -----  \n",
      "714 non-null    float64\n",
      "dtypes: float64(1)\n",
      "memory usage: 7.1 KB\n"
     ]
    }
   ],
   "execution_count": 15
  },
  {
   "cell_type": "code",
   "metadata": {
    "ExecuteTime": {
     "end_time": "2024-10-14T13:50:07.946998Z",
     "start_time": "2024-10-14T13:50:07.937833Z"
    }
   },
   "source": [
    "age.to_frame().info()"
   ],
   "outputs": [
    {
     "name": "stdout",
     "output_type": "stream",
     "text": [
      "<class 'pandas.core.frame.DataFrame'>\n",
      "RangeIndex: 891 entries, 0 to 890\n",
      "Data columns (total 1 columns):\n",
      " #   Column  Non-Null Count  Dtype  \n",
      "---  ------  --------------  -----  \n",
      " 0   age     714 non-null    float64\n",
      "dtypes: float64(1)\n",
      "memory usage: 7.1 KB\n"
     ]
    }
   ],
   "execution_count": 16
  },
  {
   "cell_type": "code",
   "metadata": {
    "ExecuteTime": {
     "end_time": "2024-10-14T13:50:08.049610Z",
     "start_time": "2024-10-14T13:50:08.044359Z"
    }
   },
   "source": [],
   "outputs": [],
   "execution_count": null
  },
  {
   "cell_type": "markdown",
   "metadata": {},
   "source": [
    "###  Analyzing Numerical Series"
   ]
  },
  {
   "cell_type": "code",
   "metadata": {
    "ExecuteTime": {
     "end_time": "2024-10-14T13:50:08.141164Z",
     "start_time": "2024-10-14T13:50:08.125619Z"
    }
   },
   "source": [
    "age"
   ],
   "outputs": [
    {
     "data": {
      "text/plain": [
       "0      22.0\n",
       "1      38.0\n",
       "2      26.0\n",
       "3      35.0\n",
       "4      35.0\n",
       "       ... \n",
       "886    27.0\n",
       "887    19.0\n",
       "888     NaN\n",
       "889    26.0\n",
       "890    32.0\n",
       "Name: age, Length: 891, dtype: float64"
      ]
     },
     "execution_count": 17,
     "metadata": {},
     "output_type": "execute_result"
    }
   ],
   "execution_count": 17
  },
  {
   "cell_type": "code",
   "metadata": {
    "ExecuteTime": {
     "end_time": "2024-10-14T13:50:08.224333Z",
     "start_time": "2024-10-14T13:50:08.214908Z"
    }
   },
   "source": [
    "age.describe()"
   ],
   "outputs": [
    {
     "data": {
      "text/plain": [
       "count    714.000000\n",
       "mean      29.699118\n",
       "std       14.526497\n",
       "min        0.420000\n",
       "25%       20.125000\n",
       "50%       28.000000\n",
       "75%       38.000000\n",
       "max       80.000000\n",
       "Name: age, dtype: float64"
      ]
     },
     "execution_count": 18,
     "metadata": {},
     "output_type": "execute_result"
    }
   ],
   "execution_count": 18
  },
  {
   "cell_type": "code",
   "metadata": {
    "ExecuteTime": {
     "end_time": "2024-10-14T13:50:08.521245Z",
     "start_time": "2024-10-14T13:50:08.372543Z"
    }
   },
   "source": [
    "age.count()"
   ],
   "outputs": [
    {
     "data": {
      "text/plain": [
       "714"
      ]
     },
     "execution_count": 19,
     "metadata": {},
     "output_type": "execute_result"
    }
   ],
   "execution_count": 19
  },
  {
   "cell_type": "code",
   "metadata": {
    "ExecuteTime": {
     "end_time": "2024-10-14T13:50:08.712562Z",
     "start_time": "2024-10-14T13:50:08.709318Z"
    }
   },
   "source": [
    "age.size"
   ],
   "outputs": [
    {
     "data": {
      "text/plain": [
       "891"
      ]
     },
     "execution_count": 20,
     "metadata": {},
     "output_type": "execute_result"
    }
   ],
   "execution_count": 20
  },
  {
   "cell_type": "code",
   "metadata": {
    "ExecuteTime": {
     "end_time": "2024-10-14T13:50:08.808483Z",
     "start_time": "2024-10-14T13:50:08.780889Z"
    }
   },
   "source": [
    "len(age)"
   ],
   "outputs": [
    {
     "data": {
      "text/plain": [
       "891"
      ]
     },
     "execution_count": 21,
     "metadata": {},
     "output_type": "execute_result"
    }
   ],
   "execution_count": 21
  },
  {
   "cell_type": "code",
   "metadata": {
    "ExecuteTime": {
     "end_time": "2024-10-14T13:50:09.017512Z",
     "start_time": "2024-10-14T13:50:09.013973Z"
    }
   },
   "source": [
    "age.sum(skipna = False)"
   ],
   "outputs": [
    {
     "data": {
      "text/plain": [
       "nan"
      ]
     },
     "execution_count": 22,
     "metadata": {},
     "output_type": "execute_result"
    }
   ],
   "execution_count": 22
  },
  {
   "cell_type": "code",
   "metadata": {
    "ExecuteTime": {
     "end_time": "2024-10-14T13:50:09.248490Z",
     "start_time": "2024-10-14T13:50:09.106738Z"
    }
   },
   "source": [
    "sum(age)"
   ],
   "outputs": [
    {
     "data": {
      "text/plain": [
       "nan"
      ]
     },
     "execution_count": 23,
     "metadata": {},
     "output_type": "execute_result"
    }
   ],
   "execution_count": 23
  },
  {
   "cell_type": "code",
   "metadata": {
    "ExecuteTime": {
     "end_time": "2024-10-14T13:50:09.377213Z",
     "start_time": "2024-10-14T13:50:09.282428Z"
    }
   },
   "source": [
    "age.mean()"
   ],
   "outputs": [
    {
     "data": {
      "text/plain": [
       "29.69911764705882"
      ]
     },
     "execution_count": 24,
     "metadata": {},
     "output_type": "execute_result"
    }
   ],
   "execution_count": 24
  },
  {
   "cell_type": "code",
   "metadata": {
    "ExecuteTime": {
     "end_time": "2024-10-14T13:50:10.102305Z",
     "start_time": "2024-10-14T13:50:09.438733Z"
    }
   },
   "source": [
    "age.median()"
   ],
   "outputs": [
    {
     "data": {
      "text/plain": [
       "28.0"
      ]
     },
     "execution_count": 25,
     "metadata": {},
     "output_type": "execute_result"
    }
   ],
   "execution_count": 25
  },
  {
   "cell_type": "code",
   "metadata": {
    "ExecuteTime": {
     "end_time": "2024-10-14T13:50:10.412059Z",
     "start_time": "2024-10-14T13:50:10.147Z"
    }
   },
   "source": [
    "age.std()"
   ],
   "outputs": [
    {
     "data": {
      "text/plain": [
       "14.526497332334042"
      ]
     },
     "execution_count": 26,
     "metadata": {},
     "output_type": "execute_result"
    }
   ],
   "execution_count": 26
  },
  {
   "cell_type": "code",
   "metadata": {
    "ExecuteTime": {
     "end_time": "2024-10-14T13:50:10.516367Z",
     "start_time": "2024-10-14T13:50:10.446807Z"
    }
   },
   "source": [
    "age.min()"
   ],
   "outputs": [
    {
     "data": {
      "text/plain": [
       "0.42"
      ]
     },
     "execution_count": 27,
     "metadata": {},
     "output_type": "execute_result"
    }
   ],
   "execution_count": 27
  },
  {
   "cell_type": "code",
   "metadata": {
    "ExecuteTime": {
     "end_time": "2024-10-14T13:50:10.771011Z",
     "start_time": "2024-10-14T13:50:10.547438Z"
    }
   },
   "source": [
    "age.max()"
   ],
   "outputs": [
    {
     "data": {
      "text/plain": [
       "80.0"
      ]
     },
     "execution_count": 28,
     "metadata": {},
     "output_type": "execute_result"
    }
   ],
   "execution_count": 28
  },
  {
   "cell_type": "code",
   "metadata": {
    "scrolled": true,
    "ExecuteTime": {
     "end_time": "2024-10-14T13:50:11.101289Z",
     "start_time": "2024-10-14T13:50:10.791141Z"
    }
   },
   "source": [
    "age.unique()"
   ],
   "outputs": [
    {
     "data": {
      "text/plain": [
       "array([22.  , 38.  , 26.  , 35.  ,   nan, 54.  ,  2.  , 27.  , 14.  ,\n",
       "        4.  , 58.  , 20.  , 39.  , 55.  , 31.  , 34.  , 15.  , 28.  ,\n",
       "        8.  , 19.  , 40.  , 66.  , 42.  , 21.  , 18.  ,  3.  ,  7.  ,\n",
       "       49.  , 29.  , 65.  , 28.5 ,  5.  , 11.  , 45.  , 17.  , 32.  ,\n",
       "       16.  , 25.  ,  0.83, 30.  , 33.  , 23.  , 24.  , 46.  , 59.  ,\n",
       "       71.  , 37.  , 47.  , 14.5 , 70.5 , 32.5 , 12.  ,  9.  , 36.5 ,\n",
       "       51.  , 55.5 , 40.5 , 44.  ,  1.  , 61.  , 56.  , 50.  , 36.  ,\n",
       "       45.5 , 20.5 , 62.  , 41.  , 52.  , 63.  , 23.5 ,  0.92, 43.  ,\n",
       "       60.  , 10.  , 64.  , 13.  , 48.  ,  0.75, 53.  , 57.  , 80.  ,\n",
       "       70.  , 24.5 ,  6.  ,  0.67, 30.5 ,  0.42, 34.5 , 74.  ])"
      ]
     },
     "execution_count": 29,
     "metadata": {},
     "output_type": "execute_result"
    }
   ],
   "execution_count": 29
  },
  {
   "cell_type": "code",
   "metadata": {
    "ExecuteTime": {
     "end_time": "2024-10-14T13:50:11.289279Z",
     "start_time": "2024-10-14T13:50:11.140981Z"
    }
   },
   "source": [
    "len(age.unique())"
   ],
   "outputs": [
    {
     "data": {
      "text/plain": [
       "89"
      ]
     },
     "execution_count": 30,
     "metadata": {},
     "output_type": "execute_result"
    }
   ],
   "execution_count": 30
  },
  {
   "cell_type": "code",
   "metadata": {
    "ExecuteTime": {
     "end_time": "2024-10-14T13:50:11.431229Z",
     "start_time": "2024-10-14T13:50:11.313263Z"
    }
   },
   "source": [
    "age.nunique(dropna = False)"
   ],
   "outputs": [
    {
     "data": {
      "text/plain": [
       "89"
      ]
     },
     "execution_count": 31,
     "metadata": {},
     "output_type": "execute_result"
    }
   ],
   "execution_count": 31
  },
  {
   "cell_type": "code",
   "metadata": {
    "scrolled": true,
    "ExecuteTime": {
     "end_time": "2024-10-14T13:50:11.637125Z",
     "start_time": "2024-10-14T13:50:11.456925Z"
    }
   },
   "source": [
    "age.value_counts()"
   ],
   "outputs": [
    {
     "data": {
      "text/plain": [
       "age\n",
       "24.00    30\n",
       "22.00    27\n",
       "18.00    26\n",
       "30.00    25\n",
       "19.00    25\n",
       "         ..\n",
       "66.00     1\n",
       "0.92      1\n",
       "23.50     1\n",
       "53.00     1\n",
       "80.00     1\n",
       "Name: count, Length: 88, dtype: int64"
      ]
     },
     "execution_count": 32,
     "metadata": {},
     "output_type": "execute_result"
    }
   ],
   "execution_count": 32
  },
  {
   "cell_type": "code",
   "metadata": {
    "scrolled": true,
    "ExecuteTime": {
     "end_time": "2024-10-14T13:50:11.686453Z",
     "start_time": "2024-10-14T13:50:11.681203Z"
    }
   },
   "source": [
    "age.value_counts(sort = True)"
   ],
   "outputs": [
    {
     "data": {
      "text/plain": [
       "age\n",
       "24.00    30\n",
       "22.00    27\n",
       "18.00    26\n",
       "30.00    25\n",
       "19.00    25\n",
       "         ..\n",
       "66.00     1\n",
       "0.92      1\n",
       "23.50     1\n",
       "53.00     1\n",
       "80.00     1\n",
       "Name: count, Length: 88, dtype: int64"
      ]
     },
     "execution_count": 33,
     "metadata": {},
     "output_type": "execute_result"
    }
   ],
   "execution_count": 33
  },
  {
   "cell_type": "code",
   "metadata": {
    "scrolled": true,
    "ExecuteTime": {
     "end_time": "2024-10-14T13:50:11.711353Z",
     "start_time": "2024-10-14T13:50:11.704964Z"
    }
   },
   "source": [
    "age.value_counts(sort = False)"
   ],
   "outputs": [
    {
     "data": {
      "text/plain": [
       "age\n",
       "22.00    27\n",
       "38.00    11\n",
       "26.00    18\n",
       "35.00    18\n",
       "54.00     8\n",
       "         ..\n",
       "0.67      1\n",
       "30.50     2\n",
       "0.42      1\n",
       "34.50     1\n",
       "74.00     1\n",
       "Name: count, Length: 88, dtype: int64"
      ]
     },
     "execution_count": 34,
     "metadata": {},
     "output_type": "execute_result"
    }
   ],
   "execution_count": 34
  },
  {
   "cell_type": "code",
   "metadata": {
    "ExecuteTime": {
     "end_time": "2024-10-14T13:50:11.831582Z",
     "start_time": "2024-10-14T13:50:11.825536Z"
    }
   },
   "source": [
    "age.value_counts(dropna = True)"
   ],
   "outputs": [
    {
     "data": {
      "text/plain": [
       "age\n",
       "24.00    30\n",
       "22.00    27\n",
       "18.00    26\n",
       "30.00    25\n",
       "19.00    25\n",
       "         ..\n",
       "66.00     1\n",
       "0.92      1\n",
       "23.50     1\n",
       "53.00     1\n",
       "80.00     1\n",
       "Name: count, Length: 88, dtype: int64"
      ]
     },
     "execution_count": 35,
     "metadata": {},
     "output_type": "execute_result"
    }
   ],
   "execution_count": 35
  },
  {
   "cell_type": "code",
   "metadata": {
    "ExecuteTime": {
     "end_time": "2024-10-14T13:50:11.975243Z",
     "start_time": "2024-10-14T13:50:11.968126Z"
    }
   },
   "source": [
    "age.value_counts(dropna = False)"
   ],
   "outputs": [
    {
     "data": {
      "text/plain": [
       "age\n",
       "NaN      177\n",
       "24.00     30\n",
       "22.00     27\n",
       "18.00     26\n",
       "30.00     25\n",
       "        ... \n",
       "36.50      1\n",
       "23.50      1\n",
       "0.92       1\n",
       "53.00      1\n",
       "74.00      1\n",
       "Name: count, Length: 89, dtype: int64"
      ]
     },
     "execution_count": 36,
     "metadata": {},
     "output_type": "execute_result"
    }
   ],
   "execution_count": 36
  },
  {
   "cell_type": "code",
   "metadata": {
    "ExecuteTime": {
     "end_time": "2024-10-14T13:50:12.146174Z",
     "start_time": "2024-10-14T13:50:12.140684Z"
    }
   },
   "source": [
    "age.value_counts(ascending = False)"
   ],
   "outputs": [
    {
     "data": {
      "text/plain": [
       "age\n",
       "24.00    30\n",
       "22.00    27\n",
       "18.00    26\n",
       "30.00    25\n",
       "19.00    25\n",
       "         ..\n",
       "66.00     1\n",
       "0.92      1\n",
       "23.50     1\n",
       "53.00     1\n",
       "80.00     1\n",
       "Name: count, Length: 88, dtype: int64"
      ]
     },
     "execution_count": 37,
     "metadata": {},
     "output_type": "execute_result"
    }
   ],
   "execution_count": 37
  },
  {
   "cell_type": "code",
   "metadata": {
    "ExecuteTime": {
     "end_time": "2024-10-14T13:50:12.325222Z",
     "start_time": "2024-10-14T13:50:12.320279Z"
    }
   },
   "source": [
    "age.value_counts(ascending = True)"
   ],
   "outputs": [
    {
     "data": {
      "text/plain": [
       "age\n",
       "80.00     1\n",
       "53.00     1\n",
       "23.50     1\n",
       "66.00     1\n",
       "0.92      1\n",
       "         ..\n",
       "28.00    25\n",
       "19.00    25\n",
       "18.00    26\n",
       "22.00    27\n",
       "24.00    30\n",
       "Name: count, Length: 88, dtype: int64"
      ]
     },
     "execution_count": 38,
     "metadata": {},
     "output_type": "execute_result"
    }
   ],
   "execution_count": 38
  },
  {
   "cell_type": "code",
   "metadata": {
    "scrolled": true,
    "ExecuteTime": {
     "end_time": "2024-10-14T13:50:12.483130Z",
     "start_time": "2024-10-14T13:50:12.475115Z"
    }
   },
   "source": [
    "age.value_counts(sort = True, dropna = True, ascending = False, normalize = False)"
   ],
   "outputs": [
    {
     "data": {
      "text/plain": [
       "age\n",
       "24.00    30\n",
       "22.00    27\n",
       "18.00    26\n",
       "30.00    25\n",
       "19.00    25\n",
       "         ..\n",
       "66.00     1\n",
       "0.92      1\n",
       "23.50     1\n",
       "53.00     1\n",
       "80.00     1\n",
       "Name: count, Length: 88, dtype: int64"
      ]
     },
     "execution_count": 39,
     "metadata": {},
     "output_type": "execute_result"
    }
   ],
   "execution_count": 39
  },
  {
   "cell_type": "code",
   "metadata": {
    "ExecuteTime": {
     "end_time": "2024-10-14T13:50:12.663337Z",
     "start_time": "2024-10-14T13:50:12.657207Z"
    }
   },
   "source": [
    "age.value_counts(sort = True, dropna = True, ascending = False, normalize = True)"
   ],
   "outputs": [
    {
     "data": {
      "text/plain": [
       "age\n",
       "24.00    0.042017\n",
       "22.00    0.037815\n",
       "18.00    0.036415\n",
       "30.00    0.035014\n",
       "19.00    0.035014\n",
       "           ...   \n",
       "66.00    0.001401\n",
       "0.92     0.001401\n",
       "23.50    0.001401\n",
       "53.00    0.001401\n",
       "80.00    0.001401\n",
       "Name: proportion, Length: 88, dtype: float64"
      ]
     },
     "execution_count": 40,
     "metadata": {},
     "output_type": "execute_result"
    }
   ],
   "execution_count": 40
  },
  {
   "cell_type": "code",
   "metadata": {
    "ExecuteTime": {
     "end_time": "2024-10-14T13:50:12.849273Z",
     "start_time": "2024-10-14T13:50:12.845803Z"
    }
   },
   "source": [
    "30/age.count()"
   ],
   "outputs": [
    {
     "data": {
      "text/plain": [
       "0.04201680672268908"
      ]
     },
     "execution_count": 41,
     "metadata": {},
     "output_type": "execute_result"
    }
   ],
   "execution_count": 41
  },
  {
   "cell_type": "code",
   "metadata": {
    "ExecuteTime": {
     "end_time": "2024-10-14T13:50:13.073124Z",
     "start_time": "2024-10-14T13:50:13.067178Z"
    }
   },
   "source": [
    "age.value_counts(sort = True, dropna = False, ascending = False, normalize = True)"
   ],
   "outputs": [
    {
     "data": {
      "text/plain": [
       "age\n",
       "NaN      0.198653\n",
       "24.00    0.033670\n",
       "22.00    0.030303\n",
       "18.00    0.029181\n",
       "30.00    0.028058\n",
       "           ...   \n",
       "36.50    0.001122\n",
       "23.50    0.001122\n",
       "0.92     0.001122\n",
       "53.00    0.001122\n",
       "74.00    0.001122\n",
       "Name: proportion, Length: 89, dtype: float64"
      ]
     },
     "execution_count": 42,
     "metadata": {},
     "output_type": "execute_result"
    }
   ],
   "execution_count": 42
  },
  {
   "cell_type": "code",
   "metadata": {
    "ExecuteTime": {
     "end_time": "2024-10-14T13:50:13.258224Z",
     "start_time": "2024-10-14T13:50:13.253210Z"
    }
   },
   "source": [
    "30/age.size"
   ],
   "outputs": [
    {
     "data": {
      "text/plain": [
       "0.03367003367003367"
      ]
     },
     "execution_count": 43,
     "metadata": {},
     "output_type": "execute_result"
    }
   ],
   "execution_count": 43
  },
  {
   "cell_type": "code",
   "metadata": {
    "ExecuteTime": {
     "end_time": "2024-10-14T13:50:13.382461Z",
     "start_time": "2024-10-14T13:50:13.371282Z"
    }
   },
   "source": [
    "age.value_counts(sort = True, dropna = True, ascending= False, normalize = False, bins = 5)"
   ],
   "outputs": [
    {
     "data": {
      "text/plain": [
       "(16.336, 32.252]    346\n",
       "(32.252, 48.168]    188\n",
       "(0.339, 16.336]     100\n",
       "(48.168, 64.084]     69\n",
       "(64.084, 80.0]       11\n",
       "Name: count, dtype: int64"
      ]
     },
     "execution_count": 44,
     "metadata": {},
     "output_type": "execute_result"
    }
   ],
   "execution_count": 44
  },
  {
   "cell_type": "code",
   "metadata": {
    "ExecuteTime": {
     "end_time": "2024-10-14T13:50:13.467103Z",
     "start_time": "2024-10-14T13:50:13.455712Z"
    }
   },
   "source": [
    "age.value_counts(sort = True, dropna = True, ascending= False, normalize = True, bins = 10)"
   ],
   "outputs": [
    {
     "data": {
      "text/plain": [
       "(16.336, 24.294]    0.198653\n",
       "(24.294, 32.252]    0.189675\n",
       "(32.252, 40.21]     0.132435\n",
       "(40.21, 48.168]     0.078563\n",
       "(0.339, 8.378]      0.060606\n",
       "(8.378, 16.336]     0.051627\n",
       "(48.168, 56.126]    0.050505\n",
       "(56.126, 64.084]    0.026936\n",
       "(64.084, 72.042]    0.010101\n",
       "(72.042, 80.0]      0.002245\n",
       "Name: proportion, dtype: float64"
      ]
     },
     "execution_count": 45,
     "metadata": {},
     "output_type": "execute_result"
    }
   ],
   "execution_count": 45
  },
  {
   "cell_type": "code",
   "metadata": {
    "ExecuteTime": {
     "end_time": "2024-10-14T13:50:13.600068Z",
     "start_time": "2024-10-14T13:50:13.593642Z"
    }
   },
   "source": [],
   "outputs": [],
   "execution_count": null
  },
  {
   "cell_type": "markdown",
   "metadata": {},
   "source": [
    "### Analyzing non-numerical Series"
   ]
  },
  {
   "cell_type": "code",
   "metadata": {
    "ExecuteTime": {
     "end_time": "2024-10-14T13:50:13.797693Z",
     "start_time": "2024-10-14T13:50:13.794354Z"
    }
   },
   "source": [
    "import pandas as pd"
   ],
   "outputs": [],
   "execution_count": 46
  },
  {
   "cell_type": "code",
   "metadata": {
    "ExecuteTime": {
     "end_time": "2024-10-14T13:50:13.947370Z",
     "start_time": "2024-10-14T13:50:13.901892Z"
    }
   },
   "source": [
    "summer = pd.read_csv(\"summer.csv\")"
   ],
   "outputs": [],
   "execution_count": 47
  },
  {
   "cell_type": "code",
   "metadata": {
    "ExecuteTime": {
     "end_time": "2024-10-14T13:50:14.063301Z",
     "start_time": "2024-10-14T13:50:14.053617Z"
    }
   },
   "source": [
    "summer.head()"
   ],
   "outputs": [
    {
     "data": {
      "text/plain": [
       "   Year    City     Sport Discipline             Athlete Country Gender  \\\n",
       "0  1896  Athens  Aquatics   Swimming       HAJOS, Alfred     HUN    Men   \n",
       "1  1896  Athens  Aquatics   Swimming    HERSCHMANN, Otto     AUT    Men   \n",
       "2  1896  Athens  Aquatics   Swimming   DRIVAS, Dimitrios     GRE    Men   \n",
       "3  1896  Athens  Aquatics   Swimming  MALOKINIS, Ioannis     GRE    Men   \n",
       "4  1896  Athens  Aquatics   Swimming  CHASAPIS, Spiridon     GRE    Men   \n",
       "\n",
       "                        Event   Medal  \n",
       "0              100M Freestyle    Gold  \n",
       "1              100M Freestyle  Silver  \n",
       "2  100M Freestyle For Sailors  Bronze  \n",
       "3  100M Freestyle For Sailors    Gold  \n",
       "4  100M Freestyle For Sailors  Silver  "
      ],
      "text/html": [
       "<div>\n",
       "<style scoped>\n",
       "    .dataframe tbody tr th:only-of-type {\n",
       "        vertical-align: middle;\n",
       "    }\n",
       "\n",
       "    .dataframe tbody tr th {\n",
       "        vertical-align: top;\n",
       "    }\n",
       "\n",
       "    .dataframe thead th {\n",
       "        text-align: right;\n",
       "    }\n",
       "</style>\n",
       "<table border=\"1\" class=\"dataframe\">\n",
       "  <thead>\n",
       "    <tr style=\"text-align: right;\">\n",
       "      <th></th>\n",
       "      <th>Year</th>\n",
       "      <th>City</th>\n",
       "      <th>Sport</th>\n",
       "      <th>Discipline</th>\n",
       "      <th>Athlete</th>\n",
       "      <th>Country</th>\n",
       "      <th>Gender</th>\n",
       "      <th>Event</th>\n",
       "      <th>Medal</th>\n",
       "    </tr>\n",
       "  </thead>\n",
       "  <tbody>\n",
       "    <tr>\n",
       "      <th>0</th>\n",
       "      <td>1896</td>\n",
       "      <td>Athens</td>\n",
       "      <td>Aquatics</td>\n",
       "      <td>Swimming</td>\n",
       "      <td>HAJOS, Alfred</td>\n",
       "      <td>HUN</td>\n",
       "      <td>Men</td>\n",
       "      <td>100M Freestyle</td>\n",
       "      <td>Gold</td>\n",
       "    </tr>\n",
       "    <tr>\n",
       "      <th>1</th>\n",
       "      <td>1896</td>\n",
       "      <td>Athens</td>\n",
       "      <td>Aquatics</td>\n",
       "      <td>Swimming</td>\n",
       "      <td>HERSCHMANN, Otto</td>\n",
       "      <td>AUT</td>\n",
       "      <td>Men</td>\n",
       "      <td>100M Freestyle</td>\n",
       "      <td>Silver</td>\n",
       "    </tr>\n",
       "    <tr>\n",
       "      <th>2</th>\n",
       "      <td>1896</td>\n",
       "      <td>Athens</td>\n",
       "      <td>Aquatics</td>\n",
       "      <td>Swimming</td>\n",
       "      <td>DRIVAS, Dimitrios</td>\n",
       "      <td>GRE</td>\n",
       "      <td>Men</td>\n",
       "      <td>100M Freestyle For Sailors</td>\n",
       "      <td>Bronze</td>\n",
       "    </tr>\n",
       "    <tr>\n",
       "      <th>3</th>\n",
       "      <td>1896</td>\n",
       "      <td>Athens</td>\n",
       "      <td>Aquatics</td>\n",
       "      <td>Swimming</td>\n",
       "      <td>MALOKINIS, Ioannis</td>\n",
       "      <td>GRE</td>\n",
       "      <td>Men</td>\n",
       "      <td>100M Freestyle For Sailors</td>\n",
       "      <td>Gold</td>\n",
       "    </tr>\n",
       "    <tr>\n",
       "      <th>4</th>\n",
       "      <td>1896</td>\n",
       "      <td>Athens</td>\n",
       "      <td>Aquatics</td>\n",
       "      <td>Swimming</td>\n",
       "      <td>CHASAPIS, Spiridon</td>\n",
       "      <td>GRE</td>\n",
       "      <td>Men</td>\n",
       "      <td>100M Freestyle For Sailors</td>\n",
       "      <td>Silver</td>\n",
       "    </tr>\n",
       "  </tbody>\n",
       "</table>\n",
       "</div>"
      ]
     },
     "execution_count": 48,
     "metadata": {},
     "output_type": "execute_result"
    }
   ],
   "execution_count": 48
  },
  {
   "cell_type": "code",
   "metadata": {
    "ExecuteTime": {
     "end_time": "2024-10-14T13:50:14.202742Z",
     "start_time": "2024-10-14T13:50:14.177441Z"
    }
   },
   "source": [
    "summer.info()"
   ],
   "outputs": [
    {
     "name": "stdout",
     "output_type": "stream",
     "text": [
      "<class 'pandas.core.frame.DataFrame'>\n",
      "RangeIndex: 31165 entries, 0 to 31164\n",
      "Data columns (total 9 columns):\n",
      " #   Column      Non-Null Count  Dtype \n",
      "---  ------      --------------  ----- \n",
      " 0   Year        31165 non-null  int64 \n",
      " 1   City        31165 non-null  object\n",
      " 2   Sport       31165 non-null  object\n",
      " 3   Discipline  31165 non-null  object\n",
      " 4   Athlete     31165 non-null  object\n",
      " 5   Country     31161 non-null  object\n",
      " 6   Gender      31165 non-null  object\n",
      " 7   Event       31165 non-null  object\n",
      " 8   Medal       31165 non-null  object\n",
      "dtypes: int64(1), object(8)\n",
      "memory usage: 2.1+ MB\n"
     ]
    }
   ],
   "execution_count": 49
  },
  {
   "cell_type": "code",
   "metadata": {
    "ExecuteTime": {
     "end_time": "2024-10-14T13:50:14.239113Z",
     "start_time": "2024-10-14T13:50:14.236272Z"
    }
   },
   "source": [
    "athlete = summer[\"Athlete\"]"
   ],
   "outputs": [],
   "execution_count": 50
  },
  {
   "cell_type": "code",
   "metadata": {
    "ExecuteTime": {
     "end_time": "2024-10-14T13:50:14.339737Z",
     "start_time": "2024-10-14T13:50:14.334673Z"
    }
   },
   "source": [
    "athlete.head()"
   ],
   "outputs": [
    {
     "data": {
      "text/plain": [
       "0         HAJOS, Alfred\n",
       "1      HERSCHMANN, Otto\n",
       "2     DRIVAS, Dimitrios\n",
       "3    MALOKINIS, Ioannis\n",
       "4    CHASAPIS, Spiridon\n",
       "Name: Athlete, dtype: object"
      ]
     },
     "execution_count": 51,
     "metadata": {},
     "output_type": "execute_result"
    }
   ],
   "execution_count": 51
  },
  {
   "cell_type": "code",
   "metadata": {
    "ExecuteTime": {
     "end_time": "2024-10-14T13:50:14.439246Z",
     "start_time": "2024-10-14T13:50:14.434369Z"
    }
   },
   "source": [
    "athlete.tail(5)"
   ],
   "outputs": [
    {
     "data": {
      "text/plain": [
       "31160           JANIKOWSKI, Damian\n",
       "31161    REZAEI, Ghasem Gholamreza\n",
       "31162               TOTROV, Rustam\n",
       "31163            ALEKSANYAN, Artur\n",
       "31164               LIDBERG, Jimmy\n",
       "Name: Athlete, dtype: object"
      ]
     },
     "execution_count": 52,
     "metadata": {},
     "output_type": "execute_result"
    }
   ],
   "execution_count": 52
  },
  {
   "cell_type": "code",
   "metadata": {
    "ExecuteTime": {
     "end_time": "2024-10-14T13:50:14.557372Z",
     "start_time": "2024-10-14T13:50:14.553574Z"
    }
   },
   "source": [
    "type(athlete)"
   ],
   "outputs": [
    {
     "data": {
      "text/plain": [
       "pandas.core.series.Series"
      ]
     },
     "execution_count": 53,
     "metadata": {},
     "output_type": "execute_result"
    }
   ],
   "execution_count": 53
  },
  {
   "cell_type": "code",
   "metadata": {
    "ExecuteTime": {
     "end_time": "2024-10-14T13:50:14.699695Z",
     "start_time": "2024-10-14T13:50:14.695785Z"
    }
   },
   "source": [
    "athlete.dtype"
   ],
   "outputs": [
    {
     "data": {
      "text/plain": [
       "dtype('O')"
      ]
     },
     "execution_count": 54,
     "metadata": {},
     "output_type": "execute_result"
    }
   ],
   "execution_count": 54
  },
  {
   "cell_type": "code",
   "metadata": {
    "ExecuteTime": {
     "end_time": "2024-10-14T13:50:14.781588Z",
     "start_time": "2024-10-14T13:50:14.778007Z"
    }
   },
   "source": [
    "athlete.shape"
   ],
   "outputs": [
    {
     "data": {
      "text/plain": [
       "(31165,)"
      ]
     },
     "execution_count": 55,
     "metadata": {},
     "output_type": "execute_result"
    }
   ],
   "execution_count": 55
  },
  {
   "cell_type": "code",
   "metadata": {
    "ExecuteTime": {
     "end_time": "2024-10-14T13:50:15.112964Z",
     "start_time": "2024-10-14T13:50:15.083481Z"
    }
   },
   "source": [
    "athlete.describe()"
   ],
   "outputs": [
    {
     "data": {
      "text/plain": [
       "count               31165\n",
       "unique              22762\n",
       "top       PHELPS, Michael\n",
       "freq                   22\n",
       "Name: Athlete, dtype: object"
      ]
     },
     "execution_count": 56,
     "metadata": {},
     "output_type": "execute_result"
    }
   ],
   "execution_count": 56
  },
  {
   "cell_type": "code",
   "metadata": {
    "ExecuteTime": {
     "end_time": "2024-10-14T13:50:15.275145Z",
     "start_time": "2024-10-14T13:50:15.271568Z"
    }
   },
   "source": [
    "athlete.size"
   ],
   "outputs": [
    {
     "data": {
      "text/plain": [
       "31165"
      ]
     },
     "execution_count": 57,
     "metadata": {},
     "output_type": "execute_result"
    }
   ],
   "execution_count": 57
  },
  {
   "cell_type": "code",
   "metadata": {
    "ExecuteTime": {
     "end_time": "2024-10-14T13:50:15.395589Z",
     "start_time": "2024-10-14T13:50:15.387767Z"
    }
   },
   "source": [
    "athlete.count()"
   ],
   "outputs": [
    {
     "data": {
      "text/plain": [
       "31165"
      ]
     },
     "execution_count": 58,
     "metadata": {},
     "output_type": "execute_result"
    }
   ],
   "execution_count": 58
  },
  {
   "cell_type": "code",
   "metadata": {
    "ExecuteTime": {
     "end_time": "2024-10-14T13:50:15.602334Z",
     "start_time": "2024-10-14T13:50:15.593369Z"
    }
   },
   "source": [
    "athlete.min()"
   ],
   "outputs": [
    {
     "data": {
      "text/plain": [
       "'AABYE, Edgar'"
      ]
     },
     "execution_count": 59,
     "metadata": {},
     "output_type": "execute_result"
    }
   ],
   "execution_count": 59
  },
  {
   "cell_type": "code",
   "metadata": {
    "ExecuteTime": {
     "end_time": "2024-10-14T13:50:15.730977Z",
     "start_time": "2024-10-14T13:50:15.718707Z"
    }
   },
   "source": [
    "athlete.unique()"
   ],
   "outputs": [
    {
     "data": {
      "text/plain": [
       "array(['HAJOS, Alfred', 'HERSCHMANN, Otto', 'DRIVAS, Dimitrios', ...,\n",
       "       'TOTROV, Rustam', 'ALEKSANYAN, Artur', 'LIDBERG, Jimmy'],\n",
       "      dtype=object)"
      ]
     },
     "execution_count": 60,
     "metadata": {},
     "output_type": "execute_result"
    }
   ],
   "execution_count": 60
  },
  {
   "cell_type": "code",
   "metadata": {
    "ExecuteTime": {
     "end_time": "2024-10-14T13:50:15.811852Z",
     "start_time": "2024-10-14T13:50:15.801467Z"
    }
   },
   "source": [
    "len(athlete.unique())"
   ],
   "outputs": [
    {
     "data": {
      "text/plain": [
       "22762"
      ]
     },
     "execution_count": 61,
     "metadata": {},
     "output_type": "execute_result"
    }
   ],
   "execution_count": 61
  },
  {
   "cell_type": "code",
   "metadata": {
    "ExecuteTime": {
     "end_time": "2024-10-14T13:50:15.893506Z",
     "start_time": "2024-10-14T13:50:15.885469Z"
    }
   },
   "source": [
    "athlete.nunique(dropna= False)"
   ],
   "outputs": [
    {
     "data": {
      "text/plain": [
       "22762"
      ]
     },
     "execution_count": 62,
     "metadata": {},
     "output_type": "execute_result"
    }
   ],
   "execution_count": 62
  },
  {
   "cell_type": "code",
   "metadata": {
    "scrolled": true,
    "ExecuteTime": {
     "end_time": "2024-10-14T13:50:15.966402Z",
     "start_time": "2024-10-14T13:50:15.950726Z"
    }
   },
   "source": [
    "athlete.value_counts()"
   ],
   "outputs": [
    {
     "data": {
      "text/plain": [
       "Athlete\n",
       "PHELPS, Michael             22\n",
       "LATYNINA, Larisa            18\n",
       "ANDRIANOV, Nikolay          15\n",
       "SHAKHLIN, Boris             13\n",
       "MANGIAROTTI, Edoardo        13\n",
       "                            ..\n",
       "UNDA, Maider                 1\n",
       "BURROUGHS, Jordan Ernest     1\n",
       "GOUDARZI, Sadegh Saeed       1\n",
       "HATOS, Gabor                 1\n",
       "TSARGUSH, Denis              1\n",
       "Name: count, Length: 22762, dtype: int64"
      ]
     },
     "execution_count": 63,
     "metadata": {},
     "output_type": "execute_result"
    }
   ],
   "execution_count": 63
  },
  {
   "cell_type": "code",
   "metadata": {
    "scrolled": true,
    "ExecuteTime": {
     "end_time": "2024-10-14T13:50:16.058486Z",
     "start_time": "2024-10-14T13:50:16.043760Z"
    }
   },
   "source": [
    "athlete.value_counts(sort = True, ascending=True)"
   ],
   "outputs": [
    {
     "data": {
      "text/plain": [
       "Athlete\n",
       "TANATAROV, Akzhurek          1\n",
       "VOROBIEVA, Natalia           1\n",
       "HRISTOVA, Stanka Zlateva     1\n",
       "MANYUROVA, Guzel             1\n",
       "UNDA, Maider                 1\n",
       "                            ..\n",
       "MANGIAROTTI, Edoardo        13\n",
       "ONO, Takashi                13\n",
       "ANDRIANOV, Nikolay          15\n",
       "LATYNINA, Larisa            18\n",
       "PHELPS, Michael             22\n",
       "Name: count, Length: 22762, dtype: int64"
      ]
     },
     "execution_count": 64,
     "metadata": {},
     "output_type": "execute_result"
    }
   ],
   "execution_count": 64
  },
  {
   "cell_type": "code",
   "metadata": {
    "ExecuteTime": {
     "end_time": "2024-10-14T13:50:16.108770Z",
     "start_time": "2024-10-14T13:50:16.090313Z"
    }
   },
   "source": [
    "athlete.value_counts(sort = True, ascending=False, normalize = True).head()"
   ],
   "outputs": [
    {
     "data": {
      "text/plain": [
       "Athlete\n",
       "PHELPS, Michael         0.000706\n",
       "LATYNINA, Larisa        0.000578\n",
       "ANDRIANOV, Nikolay      0.000481\n",
       "SHAKHLIN, Boris         0.000417\n",
       "MANGIAROTTI, Edoardo    0.000417\n",
       "Name: proportion, dtype: float64"
      ]
     },
     "execution_count": 65,
     "metadata": {},
     "output_type": "execute_result"
    }
   ],
   "execution_count": 65
  },
  {
   "cell_type": "code",
   "metadata": {
    "ExecuteTime": {
     "end_time": "2024-10-14T13:50:16.262990Z",
     "start_time": "2024-10-14T13:50:16.261324Z"
    }
   },
   "source": [],
   "outputs": [],
   "execution_count": null
  },
  {
   "cell_type": "markdown",
   "metadata": {},
   "source": [
    "### The copy() method "
   ]
  },
  {
   "cell_type": "code",
   "metadata": {
    "ExecuteTime": {
     "end_time": "2024-10-14T13:50:16.317804Z",
     "start_time": "2024-10-14T13:50:16.315450Z"
    }
   },
   "source": [
    "import pandas as pd"
   ],
   "outputs": [],
   "execution_count": 66
  },
  {
   "cell_type": "code",
   "metadata": {
    "ExecuteTime": {
     "end_time": "2024-10-14T13:50:16.447108Z",
     "start_time": "2024-10-14T13:50:16.440592Z"
    }
   },
   "source": [
    "titanic = pd.read_csv(\"titanic.csv\")"
   ],
   "outputs": [],
   "execution_count": 67
  },
  {
   "cell_type": "code",
   "metadata": {
    "scrolled": true,
    "ExecuteTime": {
     "end_time": "2024-10-14T13:50:16.529962Z",
     "start_time": "2024-10-14T13:50:16.522529Z"
    }
   },
   "source": [
    "titanic.head()"
   ],
   "outputs": [
    {
     "data": {
      "text/plain": [
       "   survived  pclass     sex   age  sibsp  parch     fare embarked deck\n",
       "0         0       3    male  22.0      1      0   7.2500        S  NaN\n",
       "1         1       1  female  38.0      1      0  71.2833        C    C\n",
       "2         1       3  female  26.0      0      0   7.9250        S  NaN\n",
       "3         1       1  female  35.0      1      0  53.1000        S    C\n",
       "4         0       3    male  35.0      0      0   8.0500        S  NaN"
      ],
      "text/html": [
       "<div>\n",
       "<style scoped>\n",
       "    .dataframe tbody tr th:only-of-type {\n",
       "        vertical-align: middle;\n",
       "    }\n",
       "\n",
       "    .dataframe tbody tr th {\n",
       "        vertical-align: top;\n",
       "    }\n",
       "\n",
       "    .dataframe thead th {\n",
       "        text-align: right;\n",
       "    }\n",
       "</style>\n",
       "<table border=\"1\" class=\"dataframe\">\n",
       "  <thead>\n",
       "    <tr style=\"text-align: right;\">\n",
       "      <th></th>\n",
       "      <th>survived</th>\n",
       "      <th>pclass</th>\n",
       "      <th>sex</th>\n",
       "      <th>age</th>\n",
       "      <th>sibsp</th>\n",
       "      <th>parch</th>\n",
       "      <th>fare</th>\n",
       "      <th>embarked</th>\n",
       "      <th>deck</th>\n",
       "    </tr>\n",
       "  </thead>\n",
       "  <tbody>\n",
       "    <tr>\n",
       "      <th>0</th>\n",
       "      <td>0</td>\n",
       "      <td>3</td>\n",
       "      <td>male</td>\n",
       "      <td>22.0</td>\n",
       "      <td>1</td>\n",
       "      <td>0</td>\n",
       "      <td>7.2500</td>\n",
       "      <td>S</td>\n",
       "      <td>NaN</td>\n",
       "    </tr>\n",
       "    <tr>\n",
       "      <th>1</th>\n",
       "      <td>1</td>\n",
       "      <td>1</td>\n",
       "      <td>female</td>\n",
       "      <td>38.0</td>\n",
       "      <td>1</td>\n",
       "      <td>0</td>\n",
       "      <td>71.2833</td>\n",
       "      <td>C</td>\n",
       "      <td>C</td>\n",
       "    </tr>\n",
       "    <tr>\n",
       "      <th>2</th>\n",
       "      <td>1</td>\n",
       "      <td>3</td>\n",
       "      <td>female</td>\n",
       "      <td>26.0</td>\n",
       "      <td>0</td>\n",
       "      <td>0</td>\n",
       "      <td>7.9250</td>\n",
       "      <td>S</td>\n",
       "      <td>NaN</td>\n",
       "    </tr>\n",
       "    <tr>\n",
       "      <th>3</th>\n",
       "      <td>1</td>\n",
       "      <td>1</td>\n",
       "      <td>female</td>\n",
       "      <td>35.0</td>\n",
       "      <td>1</td>\n",
       "      <td>0</td>\n",
       "      <td>53.1000</td>\n",
       "      <td>S</td>\n",
       "      <td>C</td>\n",
       "    </tr>\n",
       "    <tr>\n",
       "      <th>4</th>\n",
       "      <td>0</td>\n",
       "      <td>3</td>\n",
       "      <td>male</td>\n",
       "      <td>35.0</td>\n",
       "      <td>0</td>\n",
       "      <td>0</td>\n",
       "      <td>8.0500</td>\n",
       "      <td>S</td>\n",
       "      <td>NaN</td>\n",
       "    </tr>\n",
       "  </tbody>\n",
       "</table>\n",
       "</div>"
      ]
     },
     "execution_count": 68,
     "metadata": {},
     "output_type": "execute_result"
    }
   ],
   "execution_count": 68
  },
  {
   "cell_type": "code",
   "metadata": {
    "ExecuteTime": {
     "end_time": "2024-10-14T13:50:16.624434Z",
     "start_time": "2024-10-14T13:50:16.621678Z"
    }
   },
   "source": [
    "age = titanic.age.copy()"
   ],
   "outputs": [],
   "execution_count": 69
  },
  {
   "cell_type": "code",
   "metadata": {
    "ExecuteTime": {
     "end_time": "2024-10-14T13:50:16.670968Z",
     "start_time": "2024-10-14T13:50:16.665534Z"
    }
   },
   "source": [
    "age.head()"
   ],
   "outputs": [
    {
     "data": {
      "text/plain": [
       "0    22.0\n",
       "1    38.0\n",
       "2    26.0\n",
       "3    35.0\n",
       "4    35.0\n",
       "Name: age, dtype: float64"
      ]
     },
     "execution_count": 70,
     "metadata": {},
     "output_type": "execute_result"
    }
   ],
   "execution_count": 70
  },
  {
   "cell_type": "code",
   "metadata": {
    "ExecuteTime": {
     "end_time": "2024-10-14T13:50:16.757337Z",
     "start_time": "2024-10-14T13:50:16.753720Z"
    }
   },
   "source": [
    "age.iloc[2] = 29"
   ],
   "outputs": [],
   "execution_count": 71
  },
  {
   "cell_type": "code",
   "metadata": {
    "ExecuteTime": {
     "end_time": "2024-10-14T13:50:16.842370Z",
     "start_time": "2024-10-14T13:50:16.837702Z"
    }
   },
   "source": [
    "age.head()"
   ],
   "outputs": [
    {
     "data": {
      "text/plain": [
       "0    22.0\n",
       "1    38.0\n",
       "2    29.0\n",
       "3    35.0\n",
       "4    35.0\n",
       "Name: age, dtype: float64"
      ]
     },
     "execution_count": 72,
     "metadata": {},
     "output_type": "execute_result"
    }
   ],
   "execution_count": 72
  },
  {
   "cell_type": "code",
   "metadata": {
    "ExecuteTime": {
     "end_time": "2024-10-14T13:50:16.919154Z",
     "start_time": "2024-10-14T13:50:16.910663Z"
    }
   },
   "source": [
    "titanic.head()"
   ],
   "outputs": [
    {
     "data": {
      "text/plain": [
       "   survived  pclass     sex   age  sibsp  parch     fare embarked deck\n",
       "0         0       3    male  22.0      1      0   7.2500        S  NaN\n",
       "1         1       1  female  38.0      1      0  71.2833        C    C\n",
       "2         1       3  female  26.0      0      0   7.9250        S  NaN\n",
       "3         1       1  female  35.0      1      0  53.1000        S    C\n",
       "4         0       3    male  35.0      0      0   8.0500        S  NaN"
      ],
      "text/html": [
       "<div>\n",
       "<style scoped>\n",
       "    .dataframe tbody tr th:only-of-type {\n",
       "        vertical-align: middle;\n",
       "    }\n",
       "\n",
       "    .dataframe tbody tr th {\n",
       "        vertical-align: top;\n",
       "    }\n",
       "\n",
       "    .dataframe thead th {\n",
       "        text-align: right;\n",
       "    }\n",
       "</style>\n",
       "<table border=\"1\" class=\"dataframe\">\n",
       "  <thead>\n",
       "    <tr style=\"text-align: right;\">\n",
       "      <th></th>\n",
       "      <th>survived</th>\n",
       "      <th>pclass</th>\n",
       "      <th>sex</th>\n",
       "      <th>age</th>\n",
       "      <th>sibsp</th>\n",
       "      <th>parch</th>\n",
       "      <th>fare</th>\n",
       "      <th>embarked</th>\n",
       "      <th>deck</th>\n",
       "    </tr>\n",
       "  </thead>\n",
       "  <tbody>\n",
       "    <tr>\n",
       "      <th>0</th>\n",
       "      <td>0</td>\n",
       "      <td>3</td>\n",
       "      <td>male</td>\n",
       "      <td>22.0</td>\n",
       "      <td>1</td>\n",
       "      <td>0</td>\n",
       "      <td>7.2500</td>\n",
       "      <td>S</td>\n",
       "      <td>NaN</td>\n",
       "    </tr>\n",
       "    <tr>\n",
       "      <th>1</th>\n",
       "      <td>1</td>\n",
       "      <td>1</td>\n",
       "      <td>female</td>\n",
       "      <td>38.0</td>\n",
       "      <td>1</td>\n",
       "      <td>0</td>\n",
       "      <td>71.2833</td>\n",
       "      <td>C</td>\n",
       "      <td>C</td>\n",
       "    </tr>\n",
       "    <tr>\n",
       "      <th>2</th>\n",
       "      <td>1</td>\n",
       "      <td>3</td>\n",
       "      <td>female</td>\n",
       "      <td>26.0</td>\n",
       "      <td>0</td>\n",
       "      <td>0</td>\n",
       "      <td>7.9250</td>\n",
       "      <td>S</td>\n",
       "      <td>NaN</td>\n",
       "    </tr>\n",
       "    <tr>\n",
       "      <th>3</th>\n",
       "      <td>1</td>\n",
       "      <td>1</td>\n",
       "      <td>female</td>\n",
       "      <td>35.0</td>\n",
       "      <td>1</td>\n",
       "      <td>0</td>\n",
       "      <td>53.1000</td>\n",
       "      <td>S</td>\n",
       "      <td>C</td>\n",
       "    </tr>\n",
       "    <tr>\n",
       "      <th>4</th>\n",
       "      <td>0</td>\n",
       "      <td>3</td>\n",
       "      <td>male</td>\n",
       "      <td>35.0</td>\n",
       "      <td>0</td>\n",
       "      <td>0</td>\n",
       "      <td>8.0500</td>\n",
       "      <td>S</td>\n",
       "      <td>NaN</td>\n",
       "    </tr>\n",
       "  </tbody>\n",
       "</table>\n",
       "</div>"
      ]
     },
     "execution_count": 73,
     "metadata": {},
     "output_type": "execute_result"
    }
   ],
   "execution_count": 73
  },
  {
   "cell_type": "code",
   "metadata": {
    "ExecuteTime": {
     "end_time": "2024-10-14T13:50:17.039198Z",
     "start_time": "2024-10-14T13:50:17.035465Z"
    }
   },
   "source": [],
   "outputs": [],
   "execution_count": null
  },
  {
   "cell_type": "markdown",
   "metadata": {},
   "source": [
    "### Sorting and introduction to the  inplace-parameter"
   ]
  },
  {
   "cell_type": "code",
   "metadata": {
    "ExecuteTime": {
     "end_time": "2024-10-14T13:50:17.190549Z",
     "start_time": "2024-10-14T13:50:17.187514Z"
    }
   },
   "source": [
    "import pandas as pd"
   ],
   "outputs": [],
   "execution_count": 74
  },
  {
   "cell_type": "code",
   "metadata": {
    "ExecuteTime": {
     "end_time": "2024-10-14T13:50:17.288306Z",
     "start_time": "2024-10-14T13:50:17.284729Z"
    }
   },
   "source": [
    "dic = {1:10, 3:25, 2:6, 4:36, 5:2, 6:0, 7:None}\n",
    "dic"
   ],
   "outputs": [
    {
     "data": {
      "text/plain": [
       "{1: 10, 3: 25, 2: 6, 4: 36, 5: 2, 6: 0, 7: None}"
      ]
     },
     "execution_count": 75,
     "metadata": {},
     "output_type": "execute_result"
    }
   ],
   "execution_count": 75
  },
  {
   "cell_type": "code",
   "metadata": {
    "ExecuteTime": {
     "end_time": "2024-10-14T13:50:17.430549Z",
     "start_time": "2024-10-14T13:50:17.425895Z"
    }
   },
   "source": [
    "sales = pd.Series(dic)\n",
    "sales"
   ],
   "outputs": [
    {
     "data": {
      "text/plain": [
       "1    10.0\n",
       "3    25.0\n",
       "2     6.0\n",
       "4    36.0\n",
       "5     2.0\n",
       "6     0.0\n",
       "7     NaN\n",
       "dtype: float64"
      ]
     },
     "execution_count": 76,
     "metadata": {},
     "output_type": "execute_result"
    }
   ],
   "execution_count": 76
  },
  {
   "cell_type": "code",
   "metadata": {
    "ExecuteTime": {
     "end_time": "2024-10-14T13:50:17.574925Z",
     "start_time": "2024-10-14T13:50:17.569333Z"
    }
   },
   "source": [
    "sales.sort_index()"
   ],
   "outputs": [
    {
     "data": {
      "text/plain": [
       "1    10.0\n",
       "2     6.0\n",
       "3    25.0\n",
       "4    36.0\n",
       "5     2.0\n",
       "6     0.0\n",
       "7     NaN\n",
       "dtype: float64"
      ]
     },
     "execution_count": 77,
     "metadata": {},
     "output_type": "execute_result"
    }
   ],
   "execution_count": 77
  },
  {
   "cell_type": "code",
   "metadata": {
    "ExecuteTime": {
     "end_time": "2024-10-14T13:50:17.727160Z",
     "start_time": "2024-10-14T13:50:17.724593Z"
    }
   },
   "source": [
    "sales.sort_index(ascending = True, inplace= True)"
   ],
   "outputs": [],
   "execution_count": 78
  },
  {
   "cell_type": "code",
   "metadata": {
    "ExecuteTime": {
     "end_time": "2024-10-14T13:50:17.832837Z",
     "start_time": "2024-10-14T13:50:17.825986Z"
    }
   },
   "source": [
    "sales"
   ],
   "outputs": [
    {
     "data": {
      "text/plain": [
       "1    10.0\n",
       "2     6.0\n",
       "3    25.0\n",
       "4    36.0\n",
       "5     2.0\n",
       "6     0.0\n",
       "7     NaN\n",
       "dtype: float64"
      ]
     },
     "execution_count": 79,
     "metadata": {},
     "output_type": "execute_result"
    }
   ],
   "execution_count": 79
  },
  {
   "cell_type": "code",
   "metadata": {
    "ExecuteTime": {
     "end_time": "2024-10-14T13:50:17.979355Z",
     "start_time": "2024-10-14T13:50:17.972825Z"
    }
   },
   "source": [
    "sales.sort_values(inplace=False)"
   ],
   "outputs": [
    {
     "data": {
      "text/plain": [
       "6     0.0\n",
       "5     2.0\n",
       "2     6.0\n",
       "1    10.0\n",
       "3    25.0\n",
       "4    36.0\n",
       "7     NaN\n",
       "dtype: float64"
      ]
     },
     "execution_count": 80,
     "metadata": {},
     "output_type": "execute_result"
    }
   ],
   "execution_count": 80
  },
  {
   "cell_type": "code",
   "metadata": {
    "ExecuteTime": {
     "end_time": "2024-10-14T13:50:18.097977Z",
     "start_time": "2024-10-14T13:50:18.093124Z"
    }
   },
   "source": [
    "sales.sort_values(ascending=False, na_position=\"last\", inplace= True)"
   ],
   "outputs": [],
   "execution_count": 81
  },
  {
   "cell_type": "code",
   "metadata": {
    "ExecuteTime": {
     "end_time": "2024-10-14T13:50:18.174531Z",
     "start_time": "2024-10-14T13:50:18.170096Z"
    }
   },
   "source": [
    "sales"
   ],
   "outputs": [
    {
     "data": {
      "text/plain": [
       "4    36.0\n",
       "3    25.0\n",
       "1    10.0\n",
       "2     6.0\n",
       "5     2.0\n",
       "6     0.0\n",
       "7     NaN\n",
       "dtype: float64"
      ]
     },
     "execution_count": 82,
     "metadata": {},
     "output_type": "execute_result"
    }
   ],
   "execution_count": 82
  },
  {
   "cell_type": "code",
   "metadata": {
    "ExecuteTime": {
     "end_time": "2024-10-14T13:50:18.300249Z",
     "start_time": "2024-10-14T13:50:18.296624Z"
    }
   },
   "source": [
    "dic = {\"Mon\":10, \"Tue\":25, \"Wed\":6, \"Thu\": 36, \"Fri\": 2}\n",
    "dic"
   ],
   "outputs": [
    {
     "data": {
      "text/plain": [
       "{'Mon': 10, 'Tue': 25, 'Wed': 6, 'Thu': 36, 'Fri': 2}"
      ]
     },
     "execution_count": 83,
     "metadata": {},
     "output_type": "execute_result"
    }
   ],
   "execution_count": 83
  },
  {
   "cell_type": "code",
   "metadata": {
    "ExecuteTime": {
     "end_time": "2024-10-14T13:50:18.424610Z",
     "start_time": "2024-10-14T13:50:18.421297Z"
    }
   },
   "source": [
    "sales = pd.Series(dic)"
   ],
   "outputs": [],
   "execution_count": 84
  },
  {
   "cell_type": "code",
   "metadata": {
    "ExecuteTime": {
     "end_time": "2024-10-14T13:50:18.540815Z",
     "start_time": "2024-10-14T13:50:18.535612Z"
    }
   },
   "source": [
    "sales"
   ],
   "outputs": [
    {
     "data": {
      "text/plain": [
       "Mon    10\n",
       "Tue    25\n",
       "Wed     6\n",
       "Thu    36\n",
       "Fri     2\n",
       "dtype: int64"
      ]
     },
     "execution_count": 85,
     "metadata": {},
     "output_type": "execute_result"
    }
   ],
   "execution_count": 85
  },
  {
   "cell_type": "code",
   "metadata": {
    "ExecuteTime": {
     "end_time": "2024-10-14T13:50:18.646965Z",
     "start_time": "2024-10-14T13:50:18.640758Z"
    }
   },
   "source": [
    "sales.sort_index(ascending=False)"
   ],
   "outputs": [
    {
     "data": {
      "text/plain": [
       "Wed     6\n",
       "Tue    25\n",
       "Thu    36\n",
       "Mon    10\n",
       "Fri     2\n",
       "dtype: int64"
      ]
     },
     "execution_count": 86,
     "metadata": {},
     "output_type": "execute_result"
    }
   ],
   "execution_count": 86
  },
  {
   "cell_type": "code",
   "metadata": {
    "ExecuteTime": {
     "end_time": "2024-10-14T13:50:18.690039Z",
     "start_time": "2024-10-14T13:50:18.687666Z"
    }
   },
   "source": [],
   "outputs": [],
   "execution_count": null
  },
  {
   "cell_type": "markdown",
   "metadata": {},
   "source": [
    "### First Steps with Pandas Index Objects"
   ]
  },
  {
   "cell_type": "code",
   "metadata": {
    "ExecuteTime": {
     "end_time": "2024-10-14T13:50:18.761369Z",
     "start_time": "2024-10-14T13:50:18.758904Z"
    }
   },
   "source": [
    "import pandas as pd"
   ],
   "outputs": [],
   "execution_count": 87
  },
  {
   "cell_type": "code",
   "metadata": {
    "ExecuteTime": {
     "end_time": "2024-10-14T13:50:18.883794Z",
     "start_time": "2024-10-14T13:50:18.840711Z"
    }
   },
   "source": [
    "summer = pd.read_csv(\"summer.csv\", index_col=\"Athlete\")"
   ],
   "outputs": [],
   "execution_count": 88
  },
  {
   "cell_type": "code",
   "metadata": {
    "ExecuteTime": {
     "end_time": "2024-10-14T13:50:18.942277Z",
     "start_time": "2024-10-14T13:50:18.933451Z"
    }
   },
   "source": [
    "summer.head()"
   ],
   "outputs": [
    {
     "data": {
      "text/plain": [
       "                    Year    City     Sport Discipline Country Gender  \\\n",
       "Athlete                                                                \n",
       "HAJOS, Alfred       1896  Athens  Aquatics   Swimming     HUN    Men   \n",
       "HERSCHMANN, Otto    1896  Athens  Aquatics   Swimming     AUT    Men   \n",
       "DRIVAS, Dimitrios   1896  Athens  Aquatics   Swimming     GRE    Men   \n",
       "MALOKINIS, Ioannis  1896  Athens  Aquatics   Swimming     GRE    Men   \n",
       "CHASAPIS, Spiridon  1896  Athens  Aquatics   Swimming     GRE    Men   \n",
       "\n",
       "                                         Event   Medal  \n",
       "Athlete                                                 \n",
       "HAJOS, Alfred                   100M Freestyle    Gold  \n",
       "HERSCHMANN, Otto                100M Freestyle  Silver  \n",
       "DRIVAS, Dimitrios   100M Freestyle For Sailors  Bronze  \n",
       "MALOKINIS, Ioannis  100M Freestyle For Sailors    Gold  \n",
       "CHASAPIS, Spiridon  100M Freestyle For Sailors  Silver  "
      ],
      "text/html": [
       "<div>\n",
       "<style scoped>\n",
       "    .dataframe tbody tr th:only-of-type {\n",
       "        vertical-align: middle;\n",
       "    }\n",
       "\n",
       "    .dataframe tbody tr th {\n",
       "        vertical-align: top;\n",
       "    }\n",
       "\n",
       "    .dataframe thead th {\n",
       "        text-align: right;\n",
       "    }\n",
       "</style>\n",
       "<table border=\"1\" class=\"dataframe\">\n",
       "  <thead>\n",
       "    <tr style=\"text-align: right;\">\n",
       "      <th></th>\n",
       "      <th>Year</th>\n",
       "      <th>City</th>\n",
       "      <th>Sport</th>\n",
       "      <th>Discipline</th>\n",
       "      <th>Country</th>\n",
       "      <th>Gender</th>\n",
       "      <th>Event</th>\n",
       "      <th>Medal</th>\n",
       "    </tr>\n",
       "    <tr>\n",
       "      <th>Athlete</th>\n",
       "      <th></th>\n",
       "      <th></th>\n",
       "      <th></th>\n",
       "      <th></th>\n",
       "      <th></th>\n",
       "      <th></th>\n",
       "      <th></th>\n",
       "      <th></th>\n",
       "    </tr>\n",
       "  </thead>\n",
       "  <tbody>\n",
       "    <tr>\n",
       "      <th>HAJOS, Alfred</th>\n",
       "      <td>1896</td>\n",
       "      <td>Athens</td>\n",
       "      <td>Aquatics</td>\n",
       "      <td>Swimming</td>\n",
       "      <td>HUN</td>\n",
       "      <td>Men</td>\n",
       "      <td>100M Freestyle</td>\n",
       "      <td>Gold</td>\n",
       "    </tr>\n",
       "    <tr>\n",
       "      <th>HERSCHMANN, Otto</th>\n",
       "      <td>1896</td>\n",
       "      <td>Athens</td>\n",
       "      <td>Aquatics</td>\n",
       "      <td>Swimming</td>\n",
       "      <td>AUT</td>\n",
       "      <td>Men</td>\n",
       "      <td>100M Freestyle</td>\n",
       "      <td>Silver</td>\n",
       "    </tr>\n",
       "    <tr>\n",
       "      <th>DRIVAS, Dimitrios</th>\n",
       "      <td>1896</td>\n",
       "      <td>Athens</td>\n",
       "      <td>Aquatics</td>\n",
       "      <td>Swimming</td>\n",
       "      <td>GRE</td>\n",
       "      <td>Men</td>\n",
       "      <td>100M Freestyle For Sailors</td>\n",
       "      <td>Bronze</td>\n",
       "    </tr>\n",
       "    <tr>\n",
       "      <th>MALOKINIS, Ioannis</th>\n",
       "      <td>1896</td>\n",
       "      <td>Athens</td>\n",
       "      <td>Aquatics</td>\n",
       "      <td>Swimming</td>\n",
       "      <td>GRE</td>\n",
       "      <td>Men</td>\n",
       "      <td>100M Freestyle For Sailors</td>\n",
       "      <td>Gold</td>\n",
       "    </tr>\n",
       "    <tr>\n",
       "      <th>CHASAPIS, Spiridon</th>\n",
       "      <td>1896</td>\n",
       "      <td>Athens</td>\n",
       "      <td>Aquatics</td>\n",
       "      <td>Swimming</td>\n",
       "      <td>GRE</td>\n",
       "      <td>Men</td>\n",
       "      <td>100M Freestyle For Sailors</td>\n",
       "      <td>Silver</td>\n",
       "    </tr>\n",
       "  </tbody>\n",
       "</table>\n",
       "</div>"
      ]
     },
     "execution_count": 89,
     "metadata": {},
     "output_type": "execute_result"
    }
   ],
   "execution_count": 89
  },
  {
   "cell_type": "code",
   "metadata": {
    "ExecuteTime": {
     "end_time": "2024-10-14T13:50:19.057072Z",
     "start_time": "2024-10-14T13:50:19.049019Z"
    }
   },
   "source": [
    "summer.tail()"
   ],
   "outputs": [
    {
     "data": {
      "text/plain": [
       "                           Year    City      Sport           Discipline  \\\n",
       "Athlete                                                                   \n",
       "JANIKOWSKI, Damian         2012  London  Wrestling  Wrestling Freestyle   \n",
       "REZAEI, Ghasem Gholamreza  2012  London  Wrestling  Wrestling Freestyle   \n",
       "TOTROV, Rustam             2012  London  Wrestling  Wrestling Freestyle   \n",
       "ALEKSANYAN, Artur          2012  London  Wrestling  Wrestling Freestyle   \n",
       "LIDBERG, Jimmy             2012  London  Wrestling  Wrestling Freestyle   \n",
       "\n",
       "                          Country Gender     Event   Medal  \n",
       "Athlete                                                     \n",
       "JANIKOWSKI, Damian            POL    Men  Wg 84 KG  Bronze  \n",
       "REZAEI, Ghasem Gholamreza     IRI    Men  Wg 96 KG    Gold  \n",
       "TOTROV, Rustam                RUS    Men  Wg 96 KG  Silver  \n",
       "ALEKSANYAN, Artur             ARM    Men  Wg 96 KG  Bronze  \n",
       "LIDBERG, Jimmy                SWE    Men  Wg 96 KG  Bronze  "
      ],
      "text/html": [
       "<div>\n",
       "<style scoped>\n",
       "    .dataframe tbody tr th:only-of-type {\n",
       "        vertical-align: middle;\n",
       "    }\n",
       "\n",
       "    .dataframe tbody tr th {\n",
       "        vertical-align: top;\n",
       "    }\n",
       "\n",
       "    .dataframe thead th {\n",
       "        text-align: right;\n",
       "    }\n",
       "</style>\n",
       "<table border=\"1\" class=\"dataframe\">\n",
       "  <thead>\n",
       "    <tr style=\"text-align: right;\">\n",
       "      <th></th>\n",
       "      <th>Year</th>\n",
       "      <th>City</th>\n",
       "      <th>Sport</th>\n",
       "      <th>Discipline</th>\n",
       "      <th>Country</th>\n",
       "      <th>Gender</th>\n",
       "      <th>Event</th>\n",
       "      <th>Medal</th>\n",
       "    </tr>\n",
       "    <tr>\n",
       "      <th>Athlete</th>\n",
       "      <th></th>\n",
       "      <th></th>\n",
       "      <th></th>\n",
       "      <th></th>\n",
       "      <th></th>\n",
       "      <th></th>\n",
       "      <th></th>\n",
       "      <th></th>\n",
       "    </tr>\n",
       "  </thead>\n",
       "  <tbody>\n",
       "    <tr>\n",
       "      <th>JANIKOWSKI, Damian</th>\n",
       "      <td>2012</td>\n",
       "      <td>London</td>\n",
       "      <td>Wrestling</td>\n",
       "      <td>Wrestling Freestyle</td>\n",
       "      <td>POL</td>\n",
       "      <td>Men</td>\n",
       "      <td>Wg 84 KG</td>\n",
       "      <td>Bronze</td>\n",
       "    </tr>\n",
       "    <tr>\n",
       "      <th>REZAEI, Ghasem Gholamreza</th>\n",
       "      <td>2012</td>\n",
       "      <td>London</td>\n",
       "      <td>Wrestling</td>\n",
       "      <td>Wrestling Freestyle</td>\n",
       "      <td>IRI</td>\n",
       "      <td>Men</td>\n",
       "      <td>Wg 96 KG</td>\n",
       "      <td>Gold</td>\n",
       "    </tr>\n",
       "    <tr>\n",
       "      <th>TOTROV, Rustam</th>\n",
       "      <td>2012</td>\n",
       "      <td>London</td>\n",
       "      <td>Wrestling</td>\n",
       "      <td>Wrestling Freestyle</td>\n",
       "      <td>RUS</td>\n",
       "      <td>Men</td>\n",
       "      <td>Wg 96 KG</td>\n",
       "      <td>Silver</td>\n",
       "    </tr>\n",
       "    <tr>\n",
       "      <th>ALEKSANYAN, Artur</th>\n",
       "      <td>2012</td>\n",
       "      <td>London</td>\n",
       "      <td>Wrestling</td>\n",
       "      <td>Wrestling Freestyle</td>\n",
       "      <td>ARM</td>\n",
       "      <td>Men</td>\n",
       "      <td>Wg 96 KG</td>\n",
       "      <td>Bronze</td>\n",
       "    </tr>\n",
       "    <tr>\n",
       "      <th>LIDBERG, Jimmy</th>\n",
       "      <td>2012</td>\n",
       "      <td>London</td>\n",
       "      <td>Wrestling</td>\n",
       "      <td>Wrestling Freestyle</td>\n",
       "      <td>SWE</td>\n",
       "      <td>Men</td>\n",
       "      <td>Wg 96 KG</td>\n",
       "      <td>Bronze</td>\n",
       "    </tr>\n",
       "  </tbody>\n",
       "</table>\n",
       "</div>"
      ]
     },
     "execution_count": 90,
     "metadata": {},
     "output_type": "execute_result"
    }
   ],
   "execution_count": 90
  },
  {
   "cell_type": "code",
   "metadata": {
    "ExecuteTime": {
     "end_time": "2024-10-14T13:50:19.129417Z",
     "start_time": "2024-10-14T13:50:19.116044Z"
    }
   },
   "source": [
    "summer.info()"
   ],
   "outputs": [
    {
     "name": "stdout",
     "output_type": "stream",
     "text": [
      "<class 'pandas.core.frame.DataFrame'>\n",
      "Index: 31165 entries, HAJOS, Alfred to LIDBERG, Jimmy\n",
      "Data columns (total 8 columns):\n",
      " #   Column      Non-Null Count  Dtype \n",
      "---  ------      --------------  ----- \n",
      " 0   Year        31165 non-null  int64 \n",
      " 1   City        31165 non-null  object\n",
      " 2   Sport       31165 non-null  object\n",
      " 3   Discipline  31165 non-null  object\n",
      " 4   Country     31161 non-null  object\n",
      " 5   Gender      31165 non-null  object\n",
      " 6   Event       31165 non-null  object\n",
      " 7   Medal       31165 non-null  object\n",
      "dtypes: int64(1), object(7)\n",
      "memory usage: 2.1+ MB\n"
     ]
    }
   ],
   "execution_count": 91
  },
  {
   "cell_type": "code",
   "metadata": {
    "ExecuteTime": {
     "end_time": "2024-10-14T13:50:19.257972Z",
     "start_time": "2024-10-14T13:50:19.253334Z"
    }
   },
   "source": [
    "summer.index"
   ],
   "outputs": [
    {
     "data": {
      "text/plain": [
       "Index(['HAJOS, Alfred', 'HERSCHMANN, Otto', 'DRIVAS, Dimitrios',\n",
       "       'MALOKINIS, Ioannis', 'CHASAPIS, Spiridon', 'CHOROPHAS, Efstathios',\n",
       "       'HAJOS, Alfred', 'ANDREOU, Joannis', 'CHOROPHAS, Efstathios',\n",
       "       'NEUMANN, Paul',\n",
       "       ...\n",
       "       'AHMADOV, Emin', 'KAZAKEVIC, Aleksandr', 'KHUGAEV, Alan',\n",
       "       'EBRAHIM, Karam Mohamed Gaber', 'GAJIYEV, Danyal', 'JANIKOWSKI, Damian',\n",
       "       'REZAEI, Ghasem Gholamreza', 'TOTROV, Rustam', 'ALEKSANYAN, Artur',\n",
       "       'LIDBERG, Jimmy'],\n",
       "      dtype='object', name='Athlete', length=31165)"
      ]
     },
     "execution_count": 92,
     "metadata": {},
     "output_type": "execute_result"
    }
   ],
   "execution_count": 92
  },
  {
   "cell_type": "code",
   "metadata": {
    "ExecuteTime": {
     "end_time": "2024-10-14T13:50:19.440737Z",
     "start_time": "2024-10-14T13:50:19.437204Z"
    }
   },
   "source": [
    "type(summer.index)"
   ],
   "outputs": [
    {
     "data": {
      "text/plain": [
       "pandas.core.indexes.base.Index"
      ]
     },
     "execution_count": 93,
     "metadata": {},
     "output_type": "execute_result"
    }
   ],
   "execution_count": 93
  },
  {
   "cell_type": "code",
   "metadata": {
    "ExecuteTime": {
     "end_time": "2024-10-14T13:50:19.593227Z",
     "start_time": "2024-10-14T13:50:19.588623Z"
    }
   },
   "source": [
    "summer.columns"
   ],
   "outputs": [
    {
     "data": {
      "text/plain": [
       "Index(['Year', 'City', 'Sport', 'Discipline', 'Country', 'Gender', 'Event',\n",
       "       'Medal'],\n",
       "      dtype='object')"
      ]
     },
     "execution_count": 94,
     "metadata": {},
     "output_type": "execute_result"
    }
   ],
   "execution_count": 94
  },
  {
   "cell_type": "code",
   "metadata": {
    "ExecuteTime": {
     "end_time": "2024-10-14T13:50:19.698988Z",
     "start_time": "2024-10-14T13:50:19.695508Z"
    }
   },
   "source": [
    "type(summer.columns)"
   ],
   "outputs": [
    {
     "data": {
      "text/plain": [
       "pandas.core.indexes.base.Index"
      ]
     },
     "execution_count": 95,
     "metadata": {},
     "output_type": "execute_result"
    }
   ],
   "execution_count": 95
  },
  {
   "cell_type": "code",
   "metadata": {
    "ExecuteTime": {
     "end_time": "2024-10-14T13:50:19.786393Z",
     "start_time": "2024-10-14T13:50:19.779562Z"
    }
   },
   "source": [
    "summer.axes"
   ],
   "outputs": [
    {
     "data": {
      "text/plain": [
       "[Index(['HAJOS, Alfred', 'HERSCHMANN, Otto', 'DRIVAS, Dimitrios',\n",
       "        'MALOKINIS, Ioannis', 'CHASAPIS, Spiridon', 'CHOROPHAS, Efstathios',\n",
       "        'HAJOS, Alfred', 'ANDREOU, Joannis', 'CHOROPHAS, Efstathios',\n",
       "        'NEUMANN, Paul',\n",
       "        ...\n",
       "        'AHMADOV, Emin', 'KAZAKEVIC, Aleksandr', 'KHUGAEV, Alan',\n",
       "        'EBRAHIM, Karam Mohamed Gaber', 'GAJIYEV, Danyal', 'JANIKOWSKI, Damian',\n",
       "        'REZAEI, Ghasem Gholamreza', 'TOTROV, Rustam', 'ALEKSANYAN, Artur',\n",
       "        'LIDBERG, Jimmy'],\n",
       "       dtype='object', name='Athlete', length=31165),\n",
       " Index(['Year', 'City', 'Sport', 'Discipline', 'Country', 'Gender', 'Event',\n",
       "        'Medal'],\n",
       "       dtype='object')]"
      ]
     },
     "execution_count": 96,
     "metadata": {},
     "output_type": "execute_result"
    }
   ],
   "execution_count": 96
  },
  {
   "cell_type": "code",
   "metadata": {
    "ExecuteTime": {
     "end_time": "2024-10-14T13:50:19.867876Z",
     "start_time": "2024-10-14T13:50:19.863829Z"
    }
   },
   "source": [
    "summer.columns[:3]"
   ],
   "outputs": [
    {
     "data": {
      "text/plain": [
       "Index(['Year', 'City', 'Sport'], dtype='object')"
      ]
     },
     "execution_count": 97,
     "metadata": {},
     "output_type": "execute_result"
    }
   ],
   "execution_count": 97
  },
  {
   "cell_type": "code",
   "metadata": {
    "ExecuteTime": {
     "end_time": "2024-10-14T13:50:19.955823Z",
     "start_time": "2024-10-14T13:50:19.952809Z"
    }
   },
   "source": [
    "summer.index[0]"
   ],
   "outputs": [
    {
     "data": {
      "text/plain": [
       "'HAJOS, Alfred'"
      ]
     },
     "execution_count": 98,
     "metadata": {},
     "output_type": "execute_result"
    }
   ],
   "execution_count": 98
  },
  {
   "cell_type": "code",
   "metadata": {
    "ExecuteTime": {
     "end_time": "2024-10-14T13:50:20.018696Z",
     "start_time": "2024-10-14T13:50:20.013711Z"
    }
   },
   "source": [
    "summer.index[-1]"
   ],
   "outputs": [
    {
     "data": {
      "text/plain": [
       "'LIDBERG, Jimmy'"
      ]
     },
     "execution_count": 99,
     "metadata": {},
     "output_type": "execute_result"
    }
   ],
   "execution_count": 99
  },
  {
   "cell_type": "code",
   "metadata": {
    "ExecuteTime": {
     "end_time": "2024-10-14T13:50:20.082467Z",
     "start_time": "2024-10-14T13:50:20.077038Z"
    }
   },
   "source": [
    "summer.index[100:102]"
   ],
   "outputs": [
    {
     "data": {
      "text/plain": [
       "Index(['FLATOW, Alfred', 'FLATOW, Gustav Felix'], dtype='object', name='Athlete')"
      ]
     },
     "execution_count": 100,
     "metadata": {},
     "output_type": "execute_result"
    }
   ],
   "execution_count": 100
  },
  {
   "cell_type": "code",
   "metadata": {
    "scrolled": true,
    "ExecuteTime": {
     "end_time": "2024-10-14T13:50:20.143930Z",
     "start_time": "2024-10-14T13:50:20.139645Z"
    }
   },
   "source": [
    "summer.columns.tolist()"
   ],
   "outputs": [
    {
     "data": {
      "text/plain": [
       "['Year', 'City', 'Sport', 'Discipline', 'Country', 'Gender', 'Event', 'Medal']"
      ]
     },
     "execution_count": 101,
     "metadata": {},
     "output_type": "execute_result"
    }
   ],
   "execution_count": 101
  },
  {
   "cell_type": "code",
   "metadata": {
    "ExecuteTime": {
     "end_time": "2024-10-14T13:50:20.205587Z",
     "start_time": "2024-10-14T13:50:20.201251Z"
    }
   },
   "source": [
    "summer.index.is_unique"
   ],
   "outputs": [
    {
     "data": {
      "text/plain": [
       "False"
      ]
     },
     "execution_count": 102,
     "metadata": {},
     "output_type": "execute_result"
    }
   ],
   "execution_count": 102
  },
  {
   "cell_type": "code",
   "metadata": {
    "ExecuteTime": {
     "end_time": "2024-10-14T13:50:20.267828Z",
     "start_time": "2024-10-14T13:50:20.263341Z"
    }
   },
   "source": [
    "summer.index.get_loc(\"DRIVAS, Dimitrios\")"
   ],
   "outputs": [
    {
     "data": {
      "text/plain": [
       "2"
      ]
     },
     "execution_count": 103,
     "metadata": {},
     "output_type": "execute_result"
    }
   ],
   "execution_count": 103
  },
  {
   "cell_type": "code",
   "metadata": {
    "ExecuteTime": {
     "end_time": "2024-10-14T13:50:20.335970Z",
     "start_time": "2024-10-14T13:50:20.333954Z"
    }
   },
   "source": [],
   "outputs": [],
   "execution_count": null
  },
  {
   "cell_type": "markdown",
   "metadata": {},
   "source": [
    "### Changing Row Index Labels"
   ]
  },
  {
   "cell_type": "code",
   "metadata": {
    "ExecuteTime": {
     "end_time": "2024-10-14T13:50:20.384111Z",
     "start_time": "2024-10-14T13:50:20.381257Z"
    }
   },
   "source": [
    "import pandas as pd"
   ],
   "outputs": [],
   "execution_count": 104
  },
  {
   "cell_type": "code",
   "metadata": {
    "ExecuteTime": {
     "end_time": "2024-10-14T13:50:20.470027Z",
     "start_time": "2024-10-14T13:50:20.427412Z"
    }
   },
   "source": [
    "summer = pd.read_csv(\"summer.csv\", index_col=\"Athlete\")"
   ],
   "outputs": [],
   "execution_count": 105
  },
  {
   "cell_type": "code",
   "metadata": {
    "ExecuteTime": {
     "end_time": "2024-10-14T13:50:20.490834Z",
     "start_time": "2024-10-14T13:50:20.484439Z"
    }
   },
   "source": [
    "summer.head()"
   ],
   "outputs": [
    {
     "data": {
      "text/plain": [
       "                    Year    City     Sport Discipline Country Gender  \\\n",
       "Athlete                                                                \n",
       "HAJOS, Alfred       1896  Athens  Aquatics   Swimming     HUN    Men   \n",
       "HERSCHMANN, Otto    1896  Athens  Aquatics   Swimming     AUT    Men   \n",
       "DRIVAS, Dimitrios   1896  Athens  Aquatics   Swimming     GRE    Men   \n",
       "MALOKINIS, Ioannis  1896  Athens  Aquatics   Swimming     GRE    Men   \n",
       "CHASAPIS, Spiridon  1896  Athens  Aquatics   Swimming     GRE    Men   \n",
       "\n",
       "                                         Event   Medal  \n",
       "Athlete                                                 \n",
       "HAJOS, Alfred                   100M Freestyle    Gold  \n",
       "HERSCHMANN, Otto                100M Freestyle  Silver  \n",
       "DRIVAS, Dimitrios   100M Freestyle For Sailors  Bronze  \n",
       "MALOKINIS, Ioannis  100M Freestyle For Sailors    Gold  \n",
       "CHASAPIS, Spiridon  100M Freestyle For Sailors  Silver  "
      ],
      "text/html": [
       "<div>\n",
       "<style scoped>\n",
       "    .dataframe tbody tr th:only-of-type {\n",
       "        vertical-align: middle;\n",
       "    }\n",
       "\n",
       "    .dataframe tbody tr th {\n",
       "        vertical-align: top;\n",
       "    }\n",
       "\n",
       "    .dataframe thead th {\n",
       "        text-align: right;\n",
       "    }\n",
       "</style>\n",
       "<table border=\"1\" class=\"dataframe\">\n",
       "  <thead>\n",
       "    <tr style=\"text-align: right;\">\n",
       "      <th></th>\n",
       "      <th>Year</th>\n",
       "      <th>City</th>\n",
       "      <th>Sport</th>\n",
       "      <th>Discipline</th>\n",
       "      <th>Country</th>\n",
       "      <th>Gender</th>\n",
       "      <th>Event</th>\n",
       "      <th>Medal</th>\n",
       "    </tr>\n",
       "    <tr>\n",
       "      <th>Athlete</th>\n",
       "      <th></th>\n",
       "      <th></th>\n",
       "      <th></th>\n",
       "      <th></th>\n",
       "      <th></th>\n",
       "      <th></th>\n",
       "      <th></th>\n",
       "      <th></th>\n",
       "    </tr>\n",
       "  </thead>\n",
       "  <tbody>\n",
       "    <tr>\n",
       "      <th>HAJOS, Alfred</th>\n",
       "      <td>1896</td>\n",
       "      <td>Athens</td>\n",
       "      <td>Aquatics</td>\n",
       "      <td>Swimming</td>\n",
       "      <td>HUN</td>\n",
       "      <td>Men</td>\n",
       "      <td>100M Freestyle</td>\n",
       "      <td>Gold</td>\n",
       "    </tr>\n",
       "    <tr>\n",
       "      <th>HERSCHMANN, Otto</th>\n",
       "      <td>1896</td>\n",
       "      <td>Athens</td>\n",
       "      <td>Aquatics</td>\n",
       "      <td>Swimming</td>\n",
       "      <td>AUT</td>\n",
       "      <td>Men</td>\n",
       "      <td>100M Freestyle</td>\n",
       "      <td>Silver</td>\n",
       "    </tr>\n",
       "    <tr>\n",
       "      <th>DRIVAS, Dimitrios</th>\n",
       "      <td>1896</td>\n",
       "      <td>Athens</td>\n",
       "      <td>Aquatics</td>\n",
       "      <td>Swimming</td>\n",
       "      <td>GRE</td>\n",
       "      <td>Men</td>\n",
       "      <td>100M Freestyle For Sailors</td>\n",
       "      <td>Bronze</td>\n",
       "    </tr>\n",
       "    <tr>\n",
       "      <th>MALOKINIS, Ioannis</th>\n",
       "      <td>1896</td>\n",
       "      <td>Athens</td>\n",
       "      <td>Aquatics</td>\n",
       "      <td>Swimming</td>\n",
       "      <td>GRE</td>\n",
       "      <td>Men</td>\n",
       "      <td>100M Freestyle For Sailors</td>\n",
       "      <td>Gold</td>\n",
       "    </tr>\n",
       "    <tr>\n",
       "      <th>CHASAPIS, Spiridon</th>\n",
       "      <td>1896</td>\n",
       "      <td>Athens</td>\n",
       "      <td>Aquatics</td>\n",
       "      <td>Swimming</td>\n",
       "      <td>GRE</td>\n",
       "      <td>Men</td>\n",
       "      <td>100M Freestyle For Sailors</td>\n",
       "      <td>Silver</td>\n",
       "    </tr>\n",
       "  </tbody>\n",
       "</table>\n",
       "</div>"
      ]
     },
     "execution_count": 106,
     "metadata": {},
     "output_type": "execute_result"
    }
   ],
   "execution_count": 106
  },
  {
   "cell_type": "code",
   "metadata": {
    "ExecuteTime": {
     "end_time": "2024-10-14T13:50:20.561957Z",
     "start_time": "2024-10-14T13:50:20.557870Z"
    }
   },
   "source": [
    "summer.index"
   ],
   "outputs": [
    {
     "data": {
      "text/plain": [
       "Index(['HAJOS, Alfred', 'HERSCHMANN, Otto', 'DRIVAS, Dimitrios',\n",
       "       'MALOKINIS, Ioannis', 'CHASAPIS, Spiridon', 'CHOROPHAS, Efstathios',\n",
       "       'HAJOS, Alfred', 'ANDREOU, Joannis', 'CHOROPHAS, Efstathios',\n",
       "       'NEUMANN, Paul',\n",
       "       ...\n",
       "       'AHMADOV, Emin', 'KAZAKEVIC, Aleksandr', 'KHUGAEV, Alan',\n",
       "       'EBRAHIM, Karam Mohamed Gaber', 'GAJIYEV, Danyal', 'JANIKOWSKI, Damian',\n",
       "       'REZAEI, Ghasem Gholamreza', 'TOTROV, Rustam', 'ALEKSANYAN, Artur',\n",
       "       'LIDBERG, Jimmy'],\n",
       "      dtype='object', name='Athlete', length=31165)"
      ]
     },
     "execution_count": 107,
     "metadata": {},
     "output_type": "execute_result"
    }
   ],
   "execution_count": 107
  },
  {
   "cell_type": "code",
   "metadata": {
    "scrolled": true,
    "ExecuteTime": {
     "end_time": "2024-10-14T13:50:20.617333Z",
     "start_time": "2024-10-14T13:50:20.613529Z"
    }
   },
   "source": [
    "summer.reset_index(drop = False, inplace=True)"
   ],
   "outputs": [],
   "execution_count": 108
  },
  {
   "cell_type": "code",
   "metadata": {
    "ExecuteTime": {
     "end_time": "2024-10-14T13:50:20.717763Z",
     "start_time": "2024-10-14T13:50:20.709525Z"
    }
   },
   "source": [
    "summer.head()"
   ],
   "outputs": [
    {
     "data": {
      "text/plain": [
       "              Athlete  Year    City     Sport Discipline Country Gender  \\\n",
       "0       HAJOS, Alfred  1896  Athens  Aquatics   Swimming     HUN    Men   \n",
       "1    HERSCHMANN, Otto  1896  Athens  Aquatics   Swimming     AUT    Men   \n",
       "2   DRIVAS, Dimitrios  1896  Athens  Aquatics   Swimming     GRE    Men   \n",
       "3  MALOKINIS, Ioannis  1896  Athens  Aquatics   Swimming     GRE    Men   \n",
       "4  CHASAPIS, Spiridon  1896  Athens  Aquatics   Swimming     GRE    Men   \n",
       "\n",
       "                        Event   Medal  \n",
       "0              100M Freestyle    Gold  \n",
       "1              100M Freestyle  Silver  \n",
       "2  100M Freestyle For Sailors  Bronze  \n",
       "3  100M Freestyle For Sailors    Gold  \n",
       "4  100M Freestyle For Sailors  Silver  "
      ],
      "text/html": [
       "<div>\n",
       "<style scoped>\n",
       "    .dataframe tbody tr th:only-of-type {\n",
       "        vertical-align: middle;\n",
       "    }\n",
       "\n",
       "    .dataframe tbody tr th {\n",
       "        vertical-align: top;\n",
       "    }\n",
       "\n",
       "    .dataframe thead th {\n",
       "        text-align: right;\n",
       "    }\n",
       "</style>\n",
       "<table border=\"1\" class=\"dataframe\">\n",
       "  <thead>\n",
       "    <tr style=\"text-align: right;\">\n",
       "      <th></th>\n",
       "      <th>Athlete</th>\n",
       "      <th>Year</th>\n",
       "      <th>City</th>\n",
       "      <th>Sport</th>\n",
       "      <th>Discipline</th>\n",
       "      <th>Country</th>\n",
       "      <th>Gender</th>\n",
       "      <th>Event</th>\n",
       "      <th>Medal</th>\n",
       "    </tr>\n",
       "  </thead>\n",
       "  <tbody>\n",
       "    <tr>\n",
       "      <th>0</th>\n",
       "      <td>HAJOS, Alfred</td>\n",
       "      <td>1896</td>\n",
       "      <td>Athens</td>\n",
       "      <td>Aquatics</td>\n",
       "      <td>Swimming</td>\n",
       "      <td>HUN</td>\n",
       "      <td>Men</td>\n",
       "      <td>100M Freestyle</td>\n",
       "      <td>Gold</td>\n",
       "    </tr>\n",
       "    <tr>\n",
       "      <th>1</th>\n",
       "      <td>HERSCHMANN, Otto</td>\n",
       "      <td>1896</td>\n",
       "      <td>Athens</td>\n",
       "      <td>Aquatics</td>\n",
       "      <td>Swimming</td>\n",
       "      <td>AUT</td>\n",
       "      <td>Men</td>\n",
       "      <td>100M Freestyle</td>\n",
       "      <td>Silver</td>\n",
       "    </tr>\n",
       "    <tr>\n",
       "      <th>2</th>\n",
       "      <td>DRIVAS, Dimitrios</td>\n",
       "      <td>1896</td>\n",
       "      <td>Athens</td>\n",
       "      <td>Aquatics</td>\n",
       "      <td>Swimming</td>\n",
       "      <td>GRE</td>\n",
       "      <td>Men</td>\n",
       "      <td>100M Freestyle For Sailors</td>\n",
       "      <td>Bronze</td>\n",
       "    </tr>\n",
       "    <tr>\n",
       "      <th>3</th>\n",
       "      <td>MALOKINIS, Ioannis</td>\n",
       "      <td>1896</td>\n",
       "      <td>Athens</td>\n",
       "      <td>Aquatics</td>\n",
       "      <td>Swimming</td>\n",
       "      <td>GRE</td>\n",
       "      <td>Men</td>\n",
       "      <td>100M Freestyle For Sailors</td>\n",
       "      <td>Gold</td>\n",
       "    </tr>\n",
       "    <tr>\n",
       "      <th>4</th>\n",
       "      <td>CHASAPIS, Spiridon</td>\n",
       "      <td>1896</td>\n",
       "      <td>Athens</td>\n",
       "      <td>Aquatics</td>\n",
       "      <td>Swimming</td>\n",
       "      <td>GRE</td>\n",
       "      <td>Men</td>\n",
       "      <td>100M Freestyle For Sailors</td>\n",
       "      <td>Silver</td>\n",
       "    </tr>\n",
       "  </tbody>\n",
       "</table>\n",
       "</div>"
      ]
     },
     "execution_count": 109,
     "metadata": {},
     "output_type": "execute_result"
    }
   ],
   "execution_count": 109
  },
  {
   "cell_type": "code",
   "metadata": {
    "scrolled": false,
    "ExecuteTime": {
     "end_time": "2024-10-14T13:50:20.790633Z",
     "start_time": "2024-10-14T13:50:20.787778Z"
    }
   },
   "source": [
    "summer.set_index(\"Year\", drop = True, inplace = True)"
   ],
   "outputs": [],
   "execution_count": 110
  },
  {
   "cell_type": "code",
   "metadata": {
    "ExecuteTime": {
     "end_time": "2024-10-14T13:50:20.879028Z",
     "start_time": "2024-10-14T13:50:20.872034Z"
    }
   },
   "source": [
    "summer.head()"
   ],
   "outputs": [
    {
     "data": {
      "text/plain": [
       "                 Athlete    City     Sport Discipline Country Gender  \\\n",
       "Year                                                                   \n",
       "1896       HAJOS, Alfred  Athens  Aquatics   Swimming     HUN    Men   \n",
       "1896    HERSCHMANN, Otto  Athens  Aquatics   Swimming     AUT    Men   \n",
       "1896   DRIVAS, Dimitrios  Athens  Aquatics   Swimming     GRE    Men   \n",
       "1896  MALOKINIS, Ioannis  Athens  Aquatics   Swimming     GRE    Men   \n",
       "1896  CHASAPIS, Spiridon  Athens  Aquatics   Swimming     GRE    Men   \n",
       "\n",
       "                           Event   Medal  \n",
       "Year                                      \n",
       "1896              100M Freestyle    Gold  \n",
       "1896              100M Freestyle  Silver  \n",
       "1896  100M Freestyle For Sailors  Bronze  \n",
       "1896  100M Freestyle For Sailors    Gold  \n",
       "1896  100M Freestyle For Sailors  Silver  "
      ],
      "text/html": [
       "<div>\n",
       "<style scoped>\n",
       "    .dataframe tbody tr th:only-of-type {\n",
       "        vertical-align: middle;\n",
       "    }\n",
       "\n",
       "    .dataframe tbody tr th {\n",
       "        vertical-align: top;\n",
       "    }\n",
       "\n",
       "    .dataframe thead th {\n",
       "        text-align: right;\n",
       "    }\n",
       "</style>\n",
       "<table border=\"1\" class=\"dataframe\">\n",
       "  <thead>\n",
       "    <tr style=\"text-align: right;\">\n",
       "      <th></th>\n",
       "      <th>Athlete</th>\n",
       "      <th>City</th>\n",
       "      <th>Sport</th>\n",
       "      <th>Discipline</th>\n",
       "      <th>Country</th>\n",
       "      <th>Gender</th>\n",
       "      <th>Event</th>\n",
       "      <th>Medal</th>\n",
       "    </tr>\n",
       "    <tr>\n",
       "      <th>Year</th>\n",
       "      <th></th>\n",
       "      <th></th>\n",
       "      <th></th>\n",
       "      <th></th>\n",
       "      <th></th>\n",
       "      <th></th>\n",
       "      <th></th>\n",
       "      <th></th>\n",
       "    </tr>\n",
       "  </thead>\n",
       "  <tbody>\n",
       "    <tr>\n",
       "      <th>1896</th>\n",
       "      <td>HAJOS, Alfred</td>\n",
       "      <td>Athens</td>\n",
       "      <td>Aquatics</td>\n",
       "      <td>Swimming</td>\n",
       "      <td>HUN</td>\n",
       "      <td>Men</td>\n",
       "      <td>100M Freestyle</td>\n",
       "      <td>Gold</td>\n",
       "    </tr>\n",
       "    <tr>\n",
       "      <th>1896</th>\n",
       "      <td>HERSCHMANN, Otto</td>\n",
       "      <td>Athens</td>\n",
       "      <td>Aquatics</td>\n",
       "      <td>Swimming</td>\n",
       "      <td>AUT</td>\n",
       "      <td>Men</td>\n",
       "      <td>100M Freestyle</td>\n",
       "      <td>Silver</td>\n",
       "    </tr>\n",
       "    <tr>\n",
       "      <th>1896</th>\n",
       "      <td>DRIVAS, Dimitrios</td>\n",
       "      <td>Athens</td>\n",
       "      <td>Aquatics</td>\n",
       "      <td>Swimming</td>\n",
       "      <td>GRE</td>\n",
       "      <td>Men</td>\n",
       "      <td>100M Freestyle For Sailors</td>\n",
       "      <td>Bronze</td>\n",
       "    </tr>\n",
       "    <tr>\n",
       "      <th>1896</th>\n",
       "      <td>MALOKINIS, Ioannis</td>\n",
       "      <td>Athens</td>\n",
       "      <td>Aquatics</td>\n",
       "      <td>Swimming</td>\n",
       "      <td>GRE</td>\n",
       "      <td>Men</td>\n",
       "      <td>100M Freestyle For Sailors</td>\n",
       "      <td>Gold</td>\n",
       "    </tr>\n",
       "    <tr>\n",
       "      <th>1896</th>\n",
       "      <td>CHASAPIS, Spiridon</td>\n",
       "      <td>Athens</td>\n",
       "      <td>Aquatics</td>\n",
       "      <td>Swimming</td>\n",
       "      <td>GRE</td>\n",
       "      <td>Men</td>\n",
       "      <td>100M Freestyle For Sailors</td>\n",
       "      <td>Silver</td>\n",
       "    </tr>\n",
       "  </tbody>\n",
       "</table>\n",
       "</div>"
      ]
     },
     "execution_count": 111,
     "metadata": {},
     "output_type": "execute_result"
    }
   ],
   "execution_count": 111
  },
  {
   "cell_type": "code",
   "metadata": {
    "ExecuteTime": {
     "end_time": "2024-10-14T13:50:20.921476Z",
     "start_time": "2024-10-14T13:50:20.918387Z"
    }
   },
   "source": [
    "summer.index.is_unique"
   ],
   "outputs": [
    {
     "data": {
      "text/plain": [
       "False"
      ]
     },
     "execution_count": 112,
     "metadata": {},
     "output_type": "execute_result"
    }
   ],
   "execution_count": 112
  },
  {
   "cell_type": "code",
   "metadata": {
    "ExecuteTime": {
     "end_time": "2024-10-14T13:50:20.996929Z",
     "start_time": "2024-10-14T13:50:20.994271Z"
    }
   },
   "source": [
    "#summer.index[0] = 1894"
   ],
   "outputs": [],
   "execution_count": 113
  },
  {
   "cell_type": "code",
   "metadata": {
    "scrolled": true,
    "ExecuteTime": {
     "end_time": "2024-10-14T13:50:21.077210Z",
     "start_time": "2024-10-14T13:50:21.075058Z"
    }
   },
   "source": [
    "#summer.index = \"Before 2016\""
   ],
   "outputs": [],
   "execution_count": 114
  },
  {
   "cell_type": "code",
   "metadata": {
    "ExecuteTime": {
     "end_time": "2024-10-14T13:50:21.153058Z",
     "start_time": "2024-10-14T13:50:21.149271Z"
    }
   },
   "source": [
    "summer.index.size"
   ],
   "outputs": [
    {
     "data": {
      "text/plain": [
       "31165"
      ]
     },
     "execution_count": 115,
     "metadata": {},
     "output_type": "execute_result"
    }
   ],
   "execution_count": 115
  },
  {
   "cell_type": "code",
   "metadata": {
    "ExecuteTime": {
     "end_time": "2024-10-14T13:50:21.235214Z",
     "start_time": "2024-10-14T13:50:21.216891Z"
    }
   },
   "source": [
    "new_index = [\"Medal_No{}\".format(i) for i in range(1,summer.index.size+1)]\n",
    "new_index"
   ],
   "outputs": [
    {
     "data": {
      "text/plain": [
       "['Medal_No1',\n",
       " 'Medal_No2',\n",
       " 'Medal_No3',\n",
       " 'Medal_No4',\n",
       " 'Medal_No5',\n",
       " 'Medal_No6',\n",
       " 'Medal_No7',\n",
       " 'Medal_No8',\n",
       " 'Medal_No9',\n",
       " 'Medal_No10',\n",
       " 'Medal_No11',\n",
       " 'Medal_No12',\n",
       " 'Medal_No13',\n",
       " 'Medal_No14',\n",
       " 'Medal_No15',\n",
       " 'Medal_No16',\n",
       " 'Medal_No17',\n",
       " 'Medal_No18',\n",
       " 'Medal_No19',\n",
       " 'Medal_No20',\n",
       " 'Medal_No21',\n",
       " 'Medal_No22',\n",
       " 'Medal_No23',\n",
       " 'Medal_No24',\n",
       " 'Medal_No25',\n",
       " 'Medal_No26',\n",
       " 'Medal_No27',\n",
       " 'Medal_No28',\n",
       " 'Medal_No29',\n",
       " 'Medal_No30',\n",
       " 'Medal_No31',\n",
       " 'Medal_No32',\n",
       " 'Medal_No33',\n",
       " 'Medal_No34',\n",
       " 'Medal_No35',\n",
       " 'Medal_No36',\n",
       " 'Medal_No37',\n",
       " 'Medal_No38',\n",
       " 'Medal_No39',\n",
       " 'Medal_No40',\n",
       " 'Medal_No41',\n",
       " 'Medal_No42',\n",
       " 'Medal_No43',\n",
       " 'Medal_No44',\n",
       " 'Medal_No45',\n",
       " 'Medal_No46',\n",
       " 'Medal_No47',\n",
       " 'Medal_No48',\n",
       " 'Medal_No49',\n",
       " 'Medal_No50',\n",
       " 'Medal_No51',\n",
       " 'Medal_No52',\n",
       " 'Medal_No53',\n",
       " 'Medal_No54',\n",
       " 'Medal_No55',\n",
       " 'Medal_No56',\n",
       " 'Medal_No57',\n",
       " 'Medal_No58',\n",
       " 'Medal_No59',\n",
       " 'Medal_No60',\n",
       " 'Medal_No61',\n",
       " 'Medal_No62',\n",
       " 'Medal_No63',\n",
       " 'Medal_No64',\n",
       " 'Medal_No65',\n",
       " 'Medal_No66',\n",
       " 'Medal_No67',\n",
       " 'Medal_No68',\n",
       " 'Medal_No69',\n",
       " 'Medal_No70',\n",
       " 'Medal_No71',\n",
       " 'Medal_No72',\n",
       " 'Medal_No73',\n",
       " 'Medal_No74',\n",
       " 'Medal_No75',\n",
       " 'Medal_No76',\n",
       " 'Medal_No77',\n",
       " 'Medal_No78',\n",
       " 'Medal_No79',\n",
       " 'Medal_No80',\n",
       " 'Medal_No81',\n",
       " 'Medal_No82',\n",
       " 'Medal_No83',\n",
       " 'Medal_No84',\n",
       " 'Medal_No85',\n",
       " 'Medal_No86',\n",
       " 'Medal_No87',\n",
       " 'Medal_No88',\n",
       " 'Medal_No89',\n",
       " 'Medal_No90',\n",
       " 'Medal_No91',\n",
       " 'Medal_No92',\n",
       " 'Medal_No93',\n",
       " 'Medal_No94',\n",
       " 'Medal_No95',\n",
       " 'Medal_No96',\n",
       " 'Medal_No97',\n",
       " 'Medal_No98',\n",
       " 'Medal_No99',\n",
       " 'Medal_No100',\n",
       " 'Medal_No101',\n",
       " 'Medal_No102',\n",
       " 'Medal_No103',\n",
       " 'Medal_No104',\n",
       " 'Medal_No105',\n",
       " 'Medal_No106',\n",
       " 'Medal_No107',\n",
       " 'Medal_No108',\n",
       " 'Medal_No109',\n",
       " 'Medal_No110',\n",
       " 'Medal_No111',\n",
       " 'Medal_No112',\n",
       " 'Medal_No113',\n",
       " 'Medal_No114',\n",
       " 'Medal_No115',\n",
       " 'Medal_No116',\n",
       " 'Medal_No117',\n",
       " 'Medal_No118',\n",
       " 'Medal_No119',\n",
       " 'Medal_No120',\n",
       " 'Medal_No121',\n",
       " 'Medal_No122',\n",
       " 'Medal_No123',\n",
       " 'Medal_No124',\n",
       " 'Medal_No125',\n",
       " 'Medal_No126',\n",
       " 'Medal_No127',\n",
       " 'Medal_No128',\n",
       " 'Medal_No129',\n",
       " 'Medal_No130',\n",
       " 'Medal_No131',\n",
       " 'Medal_No132',\n",
       " 'Medal_No133',\n",
       " 'Medal_No134',\n",
       " 'Medal_No135',\n",
       " 'Medal_No136',\n",
       " 'Medal_No137',\n",
       " 'Medal_No138',\n",
       " 'Medal_No139',\n",
       " 'Medal_No140',\n",
       " 'Medal_No141',\n",
       " 'Medal_No142',\n",
       " 'Medal_No143',\n",
       " 'Medal_No144',\n",
       " 'Medal_No145',\n",
       " 'Medal_No146',\n",
       " 'Medal_No147',\n",
       " 'Medal_No148',\n",
       " 'Medal_No149',\n",
       " 'Medal_No150',\n",
       " 'Medal_No151',\n",
       " 'Medal_No152',\n",
       " 'Medal_No153',\n",
       " 'Medal_No154',\n",
       " 'Medal_No155',\n",
       " 'Medal_No156',\n",
       " 'Medal_No157',\n",
       " 'Medal_No158',\n",
       " 'Medal_No159',\n",
       " 'Medal_No160',\n",
       " 'Medal_No161',\n",
       " 'Medal_No162',\n",
       " 'Medal_No163',\n",
       " 'Medal_No164',\n",
       " 'Medal_No165',\n",
       " 'Medal_No166',\n",
       " 'Medal_No167',\n",
       " 'Medal_No168',\n",
       " 'Medal_No169',\n",
       " 'Medal_No170',\n",
       " 'Medal_No171',\n",
       " 'Medal_No172',\n",
       " 'Medal_No173',\n",
       " 'Medal_No174',\n",
       " 'Medal_No175',\n",
       " 'Medal_No176',\n",
       " 'Medal_No177',\n",
       " 'Medal_No178',\n",
       " 'Medal_No179',\n",
       " 'Medal_No180',\n",
       " 'Medal_No181',\n",
       " 'Medal_No182',\n",
       " 'Medal_No183',\n",
       " 'Medal_No184',\n",
       " 'Medal_No185',\n",
       " 'Medal_No186',\n",
       " 'Medal_No187',\n",
       " 'Medal_No188',\n",
       " 'Medal_No189',\n",
       " 'Medal_No190',\n",
       " 'Medal_No191',\n",
       " 'Medal_No192',\n",
       " 'Medal_No193',\n",
       " 'Medal_No194',\n",
       " 'Medal_No195',\n",
       " 'Medal_No196',\n",
       " 'Medal_No197',\n",
       " 'Medal_No198',\n",
       " 'Medal_No199',\n",
       " 'Medal_No200',\n",
       " 'Medal_No201',\n",
       " 'Medal_No202',\n",
       " 'Medal_No203',\n",
       " 'Medal_No204',\n",
       " 'Medal_No205',\n",
       " 'Medal_No206',\n",
       " 'Medal_No207',\n",
       " 'Medal_No208',\n",
       " 'Medal_No209',\n",
       " 'Medal_No210',\n",
       " 'Medal_No211',\n",
       " 'Medal_No212',\n",
       " 'Medal_No213',\n",
       " 'Medal_No214',\n",
       " 'Medal_No215',\n",
       " 'Medal_No216',\n",
       " 'Medal_No217',\n",
       " 'Medal_No218',\n",
       " 'Medal_No219',\n",
       " 'Medal_No220',\n",
       " 'Medal_No221',\n",
       " 'Medal_No222',\n",
       " 'Medal_No223',\n",
       " 'Medal_No224',\n",
       " 'Medal_No225',\n",
       " 'Medal_No226',\n",
       " 'Medal_No227',\n",
       " 'Medal_No228',\n",
       " 'Medal_No229',\n",
       " 'Medal_No230',\n",
       " 'Medal_No231',\n",
       " 'Medal_No232',\n",
       " 'Medal_No233',\n",
       " 'Medal_No234',\n",
       " 'Medal_No235',\n",
       " 'Medal_No236',\n",
       " 'Medal_No237',\n",
       " 'Medal_No238',\n",
       " 'Medal_No239',\n",
       " 'Medal_No240',\n",
       " 'Medal_No241',\n",
       " 'Medal_No242',\n",
       " 'Medal_No243',\n",
       " 'Medal_No244',\n",
       " 'Medal_No245',\n",
       " 'Medal_No246',\n",
       " 'Medal_No247',\n",
       " 'Medal_No248',\n",
       " 'Medal_No249',\n",
       " 'Medal_No250',\n",
       " 'Medal_No251',\n",
       " 'Medal_No252',\n",
       " 'Medal_No253',\n",
       " 'Medal_No254',\n",
       " 'Medal_No255',\n",
       " 'Medal_No256',\n",
       " 'Medal_No257',\n",
       " 'Medal_No258',\n",
       " 'Medal_No259',\n",
       " 'Medal_No260',\n",
       " 'Medal_No261',\n",
       " 'Medal_No262',\n",
       " 'Medal_No263',\n",
       " 'Medal_No264',\n",
       " 'Medal_No265',\n",
       " 'Medal_No266',\n",
       " 'Medal_No267',\n",
       " 'Medal_No268',\n",
       " 'Medal_No269',\n",
       " 'Medal_No270',\n",
       " 'Medal_No271',\n",
       " 'Medal_No272',\n",
       " 'Medal_No273',\n",
       " 'Medal_No274',\n",
       " 'Medal_No275',\n",
       " 'Medal_No276',\n",
       " 'Medal_No277',\n",
       " 'Medal_No278',\n",
       " 'Medal_No279',\n",
       " 'Medal_No280',\n",
       " 'Medal_No281',\n",
       " 'Medal_No282',\n",
       " 'Medal_No283',\n",
       " 'Medal_No284',\n",
       " 'Medal_No285',\n",
       " 'Medal_No286',\n",
       " 'Medal_No287',\n",
       " 'Medal_No288',\n",
       " 'Medal_No289',\n",
       " 'Medal_No290',\n",
       " 'Medal_No291',\n",
       " 'Medal_No292',\n",
       " 'Medal_No293',\n",
       " 'Medal_No294',\n",
       " 'Medal_No295',\n",
       " 'Medal_No296',\n",
       " 'Medal_No297',\n",
       " 'Medal_No298',\n",
       " 'Medal_No299',\n",
       " 'Medal_No300',\n",
       " 'Medal_No301',\n",
       " 'Medal_No302',\n",
       " 'Medal_No303',\n",
       " 'Medal_No304',\n",
       " 'Medal_No305',\n",
       " 'Medal_No306',\n",
       " 'Medal_No307',\n",
       " 'Medal_No308',\n",
       " 'Medal_No309',\n",
       " 'Medal_No310',\n",
       " 'Medal_No311',\n",
       " 'Medal_No312',\n",
       " 'Medal_No313',\n",
       " 'Medal_No314',\n",
       " 'Medal_No315',\n",
       " 'Medal_No316',\n",
       " 'Medal_No317',\n",
       " 'Medal_No318',\n",
       " 'Medal_No319',\n",
       " 'Medal_No320',\n",
       " 'Medal_No321',\n",
       " 'Medal_No322',\n",
       " 'Medal_No323',\n",
       " 'Medal_No324',\n",
       " 'Medal_No325',\n",
       " 'Medal_No326',\n",
       " 'Medal_No327',\n",
       " 'Medal_No328',\n",
       " 'Medal_No329',\n",
       " 'Medal_No330',\n",
       " 'Medal_No331',\n",
       " 'Medal_No332',\n",
       " 'Medal_No333',\n",
       " 'Medal_No334',\n",
       " 'Medal_No335',\n",
       " 'Medal_No336',\n",
       " 'Medal_No337',\n",
       " 'Medal_No338',\n",
       " 'Medal_No339',\n",
       " 'Medal_No340',\n",
       " 'Medal_No341',\n",
       " 'Medal_No342',\n",
       " 'Medal_No343',\n",
       " 'Medal_No344',\n",
       " 'Medal_No345',\n",
       " 'Medal_No346',\n",
       " 'Medal_No347',\n",
       " 'Medal_No348',\n",
       " 'Medal_No349',\n",
       " 'Medal_No350',\n",
       " 'Medal_No351',\n",
       " 'Medal_No352',\n",
       " 'Medal_No353',\n",
       " 'Medal_No354',\n",
       " 'Medal_No355',\n",
       " 'Medal_No356',\n",
       " 'Medal_No357',\n",
       " 'Medal_No358',\n",
       " 'Medal_No359',\n",
       " 'Medal_No360',\n",
       " 'Medal_No361',\n",
       " 'Medal_No362',\n",
       " 'Medal_No363',\n",
       " 'Medal_No364',\n",
       " 'Medal_No365',\n",
       " 'Medal_No366',\n",
       " 'Medal_No367',\n",
       " 'Medal_No368',\n",
       " 'Medal_No369',\n",
       " 'Medal_No370',\n",
       " 'Medal_No371',\n",
       " 'Medal_No372',\n",
       " 'Medal_No373',\n",
       " 'Medal_No374',\n",
       " 'Medal_No375',\n",
       " 'Medal_No376',\n",
       " 'Medal_No377',\n",
       " 'Medal_No378',\n",
       " 'Medal_No379',\n",
       " 'Medal_No380',\n",
       " 'Medal_No381',\n",
       " 'Medal_No382',\n",
       " 'Medal_No383',\n",
       " 'Medal_No384',\n",
       " 'Medal_No385',\n",
       " 'Medal_No386',\n",
       " 'Medal_No387',\n",
       " 'Medal_No388',\n",
       " 'Medal_No389',\n",
       " 'Medal_No390',\n",
       " 'Medal_No391',\n",
       " 'Medal_No392',\n",
       " 'Medal_No393',\n",
       " 'Medal_No394',\n",
       " 'Medal_No395',\n",
       " 'Medal_No396',\n",
       " 'Medal_No397',\n",
       " 'Medal_No398',\n",
       " 'Medal_No399',\n",
       " 'Medal_No400',\n",
       " 'Medal_No401',\n",
       " 'Medal_No402',\n",
       " 'Medal_No403',\n",
       " 'Medal_No404',\n",
       " 'Medal_No405',\n",
       " 'Medal_No406',\n",
       " 'Medal_No407',\n",
       " 'Medal_No408',\n",
       " 'Medal_No409',\n",
       " 'Medal_No410',\n",
       " 'Medal_No411',\n",
       " 'Medal_No412',\n",
       " 'Medal_No413',\n",
       " 'Medal_No414',\n",
       " 'Medal_No415',\n",
       " 'Medal_No416',\n",
       " 'Medal_No417',\n",
       " 'Medal_No418',\n",
       " 'Medal_No419',\n",
       " 'Medal_No420',\n",
       " 'Medal_No421',\n",
       " 'Medal_No422',\n",
       " 'Medal_No423',\n",
       " 'Medal_No424',\n",
       " 'Medal_No425',\n",
       " 'Medal_No426',\n",
       " 'Medal_No427',\n",
       " 'Medal_No428',\n",
       " 'Medal_No429',\n",
       " 'Medal_No430',\n",
       " 'Medal_No431',\n",
       " 'Medal_No432',\n",
       " 'Medal_No433',\n",
       " 'Medal_No434',\n",
       " 'Medal_No435',\n",
       " 'Medal_No436',\n",
       " 'Medal_No437',\n",
       " 'Medal_No438',\n",
       " 'Medal_No439',\n",
       " 'Medal_No440',\n",
       " 'Medal_No441',\n",
       " 'Medal_No442',\n",
       " 'Medal_No443',\n",
       " 'Medal_No444',\n",
       " 'Medal_No445',\n",
       " 'Medal_No446',\n",
       " 'Medal_No447',\n",
       " 'Medal_No448',\n",
       " 'Medal_No449',\n",
       " 'Medal_No450',\n",
       " 'Medal_No451',\n",
       " 'Medal_No452',\n",
       " 'Medal_No453',\n",
       " 'Medal_No454',\n",
       " 'Medal_No455',\n",
       " 'Medal_No456',\n",
       " 'Medal_No457',\n",
       " 'Medal_No458',\n",
       " 'Medal_No459',\n",
       " 'Medal_No460',\n",
       " 'Medal_No461',\n",
       " 'Medal_No462',\n",
       " 'Medal_No463',\n",
       " 'Medal_No464',\n",
       " 'Medal_No465',\n",
       " 'Medal_No466',\n",
       " 'Medal_No467',\n",
       " 'Medal_No468',\n",
       " 'Medal_No469',\n",
       " 'Medal_No470',\n",
       " 'Medal_No471',\n",
       " 'Medal_No472',\n",
       " 'Medal_No473',\n",
       " 'Medal_No474',\n",
       " 'Medal_No475',\n",
       " 'Medal_No476',\n",
       " 'Medal_No477',\n",
       " 'Medal_No478',\n",
       " 'Medal_No479',\n",
       " 'Medal_No480',\n",
       " 'Medal_No481',\n",
       " 'Medal_No482',\n",
       " 'Medal_No483',\n",
       " 'Medal_No484',\n",
       " 'Medal_No485',\n",
       " 'Medal_No486',\n",
       " 'Medal_No487',\n",
       " 'Medal_No488',\n",
       " 'Medal_No489',\n",
       " 'Medal_No490',\n",
       " 'Medal_No491',\n",
       " 'Medal_No492',\n",
       " 'Medal_No493',\n",
       " 'Medal_No494',\n",
       " 'Medal_No495',\n",
       " 'Medal_No496',\n",
       " 'Medal_No497',\n",
       " 'Medal_No498',\n",
       " 'Medal_No499',\n",
       " 'Medal_No500',\n",
       " 'Medal_No501',\n",
       " 'Medal_No502',\n",
       " 'Medal_No503',\n",
       " 'Medal_No504',\n",
       " 'Medal_No505',\n",
       " 'Medal_No506',\n",
       " 'Medal_No507',\n",
       " 'Medal_No508',\n",
       " 'Medal_No509',\n",
       " 'Medal_No510',\n",
       " 'Medal_No511',\n",
       " 'Medal_No512',\n",
       " 'Medal_No513',\n",
       " 'Medal_No514',\n",
       " 'Medal_No515',\n",
       " 'Medal_No516',\n",
       " 'Medal_No517',\n",
       " 'Medal_No518',\n",
       " 'Medal_No519',\n",
       " 'Medal_No520',\n",
       " 'Medal_No521',\n",
       " 'Medal_No522',\n",
       " 'Medal_No523',\n",
       " 'Medal_No524',\n",
       " 'Medal_No525',\n",
       " 'Medal_No526',\n",
       " 'Medal_No527',\n",
       " 'Medal_No528',\n",
       " 'Medal_No529',\n",
       " 'Medal_No530',\n",
       " 'Medal_No531',\n",
       " 'Medal_No532',\n",
       " 'Medal_No533',\n",
       " 'Medal_No534',\n",
       " 'Medal_No535',\n",
       " 'Medal_No536',\n",
       " 'Medal_No537',\n",
       " 'Medal_No538',\n",
       " 'Medal_No539',\n",
       " 'Medal_No540',\n",
       " 'Medal_No541',\n",
       " 'Medal_No542',\n",
       " 'Medal_No543',\n",
       " 'Medal_No544',\n",
       " 'Medal_No545',\n",
       " 'Medal_No546',\n",
       " 'Medal_No547',\n",
       " 'Medal_No548',\n",
       " 'Medal_No549',\n",
       " 'Medal_No550',\n",
       " 'Medal_No551',\n",
       " 'Medal_No552',\n",
       " 'Medal_No553',\n",
       " 'Medal_No554',\n",
       " 'Medal_No555',\n",
       " 'Medal_No556',\n",
       " 'Medal_No557',\n",
       " 'Medal_No558',\n",
       " 'Medal_No559',\n",
       " 'Medal_No560',\n",
       " 'Medal_No561',\n",
       " 'Medal_No562',\n",
       " 'Medal_No563',\n",
       " 'Medal_No564',\n",
       " 'Medal_No565',\n",
       " 'Medal_No566',\n",
       " 'Medal_No567',\n",
       " 'Medal_No568',\n",
       " 'Medal_No569',\n",
       " 'Medal_No570',\n",
       " 'Medal_No571',\n",
       " 'Medal_No572',\n",
       " 'Medal_No573',\n",
       " 'Medal_No574',\n",
       " 'Medal_No575',\n",
       " 'Medal_No576',\n",
       " 'Medal_No577',\n",
       " 'Medal_No578',\n",
       " 'Medal_No579',\n",
       " 'Medal_No580',\n",
       " 'Medal_No581',\n",
       " 'Medal_No582',\n",
       " 'Medal_No583',\n",
       " 'Medal_No584',\n",
       " 'Medal_No585',\n",
       " 'Medal_No586',\n",
       " 'Medal_No587',\n",
       " 'Medal_No588',\n",
       " 'Medal_No589',\n",
       " 'Medal_No590',\n",
       " 'Medal_No591',\n",
       " 'Medal_No592',\n",
       " 'Medal_No593',\n",
       " 'Medal_No594',\n",
       " 'Medal_No595',\n",
       " 'Medal_No596',\n",
       " 'Medal_No597',\n",
       " 'Medal_No598',\n",
       " 'Medal_No599',\n",
       " 'Medal_No600',\n",
       " 'Medal_No601',\n",
       " 'Medal_No602',\n",
       " 'Medal_No603',\n",
       " 'Medal_No604',\n",
       " 'Medal_No605',\n",
       " 'Medal_No606',\n",
       " 'Medal_No607',\n",
       " 'Medal_No608',\n",
       " 'Medal_No609',\n",
       " 'Medal_No610',\n",
       " 'Medal_No611',\n",
       " 'Medal_No612',\n",
       " 'Medal_No613',\n",
       " 'Medal_No614',\n",
       " 'Medal_No615',\n",
       " 'Medal_No616',\n",
       " 'Medal_No617',\n",
       " 'Medal_No618',\n",
       " 'Medal_No619',\n",
       " 'Medal_No620',\n",
       " 'Medal_No621',\n",
       " 'Medal_No622',\n",
       " 'Medal_No623',\n",
       " 'Medal_No624',\n",
       " 'Medal_No625',\n",
       " 'Medal_No626',\n",
       " 'Medal_No627',\n",
       " 'Medal_No628',\n",
       " 'Medal_No629',\n",
       " 'Medal_No630',\n",
       " 'Medal_No631',\n",
       " 'Medal_No632',\n",
       " 'Medal_No633',\n",
       " 'Medal_No634',\n",
       " 'Medal_No635',\n",
       " 'Medal_No636',\n",
       " 'Medal_No637',\n",
       " 'Medal_No638',\n",
       " 'Medal_No639',\n",
       " 'Medal_No640',\n",
       " 'Medal_No641',\n",
       " 'Medal_No642',\n",
       " 'Medal_No643',\n",
       " 'Medal_No644',\n",
       " 'Medal_No645',\n",
       " 'Medal_No646',\n",
       " 'Medal_No647',\n",
       " 'Medal_No648',\n",
       " 'Medal_No649',\n",
       " 'Medal_No650',\n",
       " 'Medal_No651',\n",
       " 'Medal_No652',\n",
       " 'Medal_No653',\n",
       " 'Medal_No654',\n",
       " 'Medal_No655',\n",
       " 'Medal_No656',\n",
       " 'Medal_No657',\n",
       " 'Medal_No658',\n",
       " 'Medal_No659',\n",
       " 'Medal_No660',\n",
       " 'Medal_No661',\n",
       " 'Medal_No662',\n",
       " 'Medal_No663',\n",
       " 'Medal_No664',\n",
       " 'Medal_No665',\n",
       " 'Medal_No666',\n",
       " 'Medal_No667',\n",
       " 'Medal_No668',\n",
       " 'Medal_No669',\n",
       " 'Medal_No670',\n",
       " 'Medal_No671',\n",
       " 'Medal_No672',\n",
       " 'Medal_No673',\n",
       " 'Medal_No674',\n",
       " 'Medal_No675',\n",
       " 'Medal_No676',\n",
       " 'Medal_No677',\n",
       " 'Medal_No678',\n",
       " 'Medal_No679',\n",
       " 'Medal_No680',\n",
       " 'Medal_No681',\n",
       " 'Medal_No682',\n",
       " 'Medal_No683',\n",
       " 'Medal_No684',\n",
       " 'Medal_No685',\n",
       " 'Medal_No686',\n",
       " 'Medal_No687',\n",
       " 'Medal_No688',\n",
       " 'Medal_No689',\n",
       " 'Medal_No690',\n",
       " 'Medal_No691',\n",
       " 'Medal_No692',\n",
       " 'Medal_No693',\n",
       " 'Medal_No694',\n",
       " 'Medal_No695',\n",
       " 'Medal_No696',\n",
       " 'Medal_No697',\n",
       " 'Medal_No698',\n",
       " 'Medal_No699',\n",
       " 'Medal_No700',\n",
       " 'Medal_No701',\n",
       " 'Medal_No702',\n",
       " 'Medal_No703',\n",
       " 'Medal_No704',\n",
       " 'Medal_No705',\n",
       " 'Medal_No706',\n",
       " 'Medal_No707',\n",
       " 'Medal_No708',\n",
       " 'Medal_No709',\n",
       " 'Medal_No710',\n",
       " 'Medal_No711',\n",
       " 'Medal_No712',\n",
       " 'Medal_No713',\n",
       " 'Medal_No714',\n",
       " 'Medal_No715',\n",
       " 'Medal_No716',\n",
       " 'Medal_No717',\n",
       " 'Medal_No718',\n",
       " 'Medal_No719',\n",
       " 'Medal_No720',\n",
       " 'Medal_No721',\n",
       " 'Medal_No722',\n",
       " 'Medal_No723',\n",
       " 'Medal_No724',\n",
       " 'Medal_No725',\n",
       " 'Medal_No726',\n",
       " 'Medal_No727',\n",
       " 'Medal_No728',\n",
       " 'Medal_No729',\n",
       " 'Medal_No730',\n",
       " 'Medal_No731',\n",
       " 'Medal_No732',\n",
       " 'Medal_No733',\n",
       " 'Medal_No734',\n",
       " 'Medal_No735',\n",
       " 'Medal_No736',\n",
       " 'Medal_No737',\n",
       " 'Medal_No738',\n",
       " 'Medal_No739',\n",
       " 'Medal_No740',\n",
       " 'Medal_No741',\n",
       " 'Medal_No742',\n",
       " 'Medal_No743',\n",
       " 'Medal_No744',\n",
       " 'Medal_No745',\n",
       " 'Medal_No746',\n",
       " 'Medal_No747',\n",
       " 'Medal_No748',\n",
       " 'Medal_No749',\n",
       " 'Medal_No750',\n",
       " 'Medal_No751',\n",
       " 'Medal_No752',\n",
       " 'Medal_No753',\n",
       " 'Medal_No754',\n",
       " 'Medal_No755',\n",
       " 'Medal_No756',\n",
       " 'Medal_No757',\n",
       " 'Medal_No758',\n",
       " 'Medal_No759',\n",
       " 'Medal_No760',\n",
       " 'Medal_No761',\n",
       " 'Medal_No762',\n",
       " 'Medal_No763',\n",
       " 'Medal_No764',\n",
       " 'Medal_No765',\n",
       " 'Medal_No766',\n",
       " 'Medal_No767',\n",
       " 'Medal_No768',\n",
       " 'Medal_No769',\n",
       " 'Medal_No770',\n",
       " 'Medal_No771',\n",
       " 'Medal_No772',\n",
       " 'Medal_No773',\n",
       " 'Medal_No774',\n",
       " 'Medal_No775',\n",
       " 'Medal_No776',\n",
       " 'Medal_No777',\n",
       " 'Medal_No778',\n",
       " 'Medal_No779',\n",
       " 'Medal_No780',\n",
       " 'Medal_No781',\n",
       " 'Medal_No782',\n",
       " 'Medal_No783',\n",
       " 'Medal_No784',\n",
       " 'Medal_No785',\n",
       " 'Medal_No786',\n",
       " 'Medal_No787',\n",
       " 'Medal_No788',\n",
       " 'Medal_No789',\n",
       " 'Medal_No790',\n",
       " 'Medal_No791',\n",
       " 'Medal_No792',\n",
       " 'Medal_No793',\n",
       " 'Medal_No794',\n",
       " 'Medal_No795',\n",
       " 'Medal_No796',\n",
       " 'Medal_No797',\n",
       " 'Medal_No798',\n",
       " 'Medal_No799',\n",
       " 'Medal_No800',\n",
       " 'Medal_No801',\n",
       " 'Medal_No802',\n",
       " 'Medal_No803',\n",
       " 'Medal_No804',\n",
       " 'Medal_No805',\n",
       " 'Medal_No806',\n",
       " 'Medal_No807',\n",
       " 'Medal_No808',\n",
       " 'Medal_No809',\n",
       " 'Medal_No810',\n",
       " 'Medal_No811',\n",
       " 'Medal_No812',\n",
       " 'Medal_No813',\n",
       " 'Medal_No814',\n",
       " 'Medal_No815',\n",
       " 'Medal_No816',\n",
       " 'Medal_No817',\n",
       " 'Medal_No818',\n",
       " 'Medal_No819',\n",
       " 'Medal_No820',\n",
       " 'Medal_No821',\n",
       " 'Medal_No822',\n",
       " 'Medal_No823',\n",
       " 'Medal_No824',\n",
       " 'Medal_No825',\n",
       " 'Medal_No826',\n",
       " 'Medal_No827',\n",
       " 'Medal_No828',\n",
       " 'Medal_No829',\n",
       " 'Medal_No830',\n",
       " 'Medal_No831',\n",
       " 'Medal_No832',\n",
       " 'Medal_No833',\n",
       " 'Medal_No834',\n",
       " 'Medal_No835',\n",
       " 'Medal_No836',\n",
       " 'Medal_No837',\n",
       " 'Medal_No838',\n",
       " 'Medal_No839',\n",
       " 'Medal_No840',\n",
       " 'Medal_No841',\n",
       " 'Medal_No842',\n",
       " 'Medal_No843',\n",
       " 'Medal_No844',\n",
       " 'Medal_No845',\n",
       " 'Medal_No846',\n",
       " 'Medal_No847',\n",
       " 'Medal_No848',\n",
       " 'Medal_No849',\n",
       " 'Medal_No850',\n",
       " 'Medal_No851',\n",
       " 'Medal_No852',\n",
       " 'Medal_No853',\n",
       " 'Medal_No854',\n",
       " 'Medal_No855',\n",
       " 'Medal_No856',\n",
       " 'Medal_No857',\n",
       " 'Medal_No858',\n",
       " 'Medal_No859',\n",
       " 'Medal_No860',\n",
       " 'Medal_No861',\n",
       " 'Medal_No862',\n",
       " 'Medal_No863',\n",
       " 'Medal_No864',\n",
       " 'Medal_No865',\n",
       " 'Medal_No866',\n",
       " 'Medal_No867',\n",
       " 'Medal_No868',\n",
       " 'Medal_No869',\n",
       " 'Medal_No870',\n",
       " 'Medal_No871',\n",
       " 'Medal_No872',\n",
       " 'Medal_No873',\n",
       " 'Medal_No874',\n",
       " 'Medal_No875',\n",
       " 'Medal_No876',\n",
       " 'Medal_No877',\n",
       " 'Medal_No878',\n",
       " 'Medal_No879',\n",
       " 'Medal_No880',\n",
       " 'Medal_No881',\n",
       " 'Medal_No882',\n",
       " 'Medal_No883',\n",
       " 'Medal_No884',\n",
       " 'Medal_No885',\n",
       " 'Medal_No886',\n",
       " 'Medal_No887',\n",
       " 'Medal_No888',\n",
       " 'Medal_No889',\n",
       " 'Medal_No890',\n",
       " 'Medal_No891',\n",
       " 'Medal_No892',\n",
       " 'Medal_No893',\n",
       " 'Medal_No894',\n",
       " 'Medal_No895',\n",
       " 'Medal_No896',\n",
       " 'Medal_No897',\n",
       " 'Medal_No898',\n",
       " 'Medal_No899',\n",
       " 'Medal_No900',\n",
       " 'Medal_No901',\n",
       " 'Medal_No902',\n",
       " 'Medal_No903',\n",
       " 'Medal_No904',\n",
       " 'Medal_No905',\n",
       " 'Medal_No906',\n",
       " 'Medal_No907',\n",
       " 'Medal_No908',\n",
       " 'Medal_No909',\n",
       " 'Medal_No910',\n",
       " 'Medal_No911',\n",
       " 'Medal_No912',\n",
       " 'Medal_No913',\n",
       " 'Medal_No914',\n",
       " 'Medal_No915',\n",
       " 'Medal_No916',\n",
       " 'Medal_No917',\n",
       " 'Medal_No918',\n",
       " 'Medal_No919',\n",
       " 'Medal_No920',\n",
       " 'Medal_No921',\n",
       " 'Medal_No922',\n",
       " 'Medal_No923',\n",
       " 'Medal_No924',\n",
       " 'Medal_No925',\n",
       " 'Medal_No926',\n",
       " 'Medal_No927',\n",
       " 'Medal_No928',\n",
       " 'Medal_No929',\n",
       " 'Medal_No930',\n",
       " 'Medal_No931',\n",
       " 'Medal_No932',\n",
       " 'Medal_No933',\n",
       " 'Medal_No934',\n",
       " 'Medal_No935',\n",
       " 'Medal_No936',\n",
       " 'Medal_No937',\n",
       " 'Medal_No938',\n",
       " 'Medal_No939',\n",
       " 'Medal_No940',\n",
       " 'Medal_No941',\n",
       " 'Medal_No942',\n",
       " 'Medal_No943',\n",
       " 'Medal_No944',\n",
       " 'Medal_No945',\n",
       " 'Medal_No946',\n",
       " 'Medal_No947',\n",
       " 'Medal_No948',\n",
       " 'Medal_No949',\n",
       " 'Medal_No950',\n",
       " 'Medal_No951',\n",
       " 'Medal_No952',\n",
       " 'Medal_No953',\n",
       " 'Medal_No954',\n",
       " 'Medal_No955',\n",
       " 'Medal_No956',\n",
       " 'Medal_No957',\n",
       " 'Medal_No958',\n",
       " 'Medal_No959',\n",
       " 'Medal_No960',\n",
       " 'Medal_No961',\n",
       " 'Medal_No962',\n",
       " 'Medal_No963',\n",
       " 'Medal_No964',\n",
       " 'Medal_No965',\n",
       " 'Medal_No966',\n",
       " 'Medal_No967',\n",
       " 'Medal_No968',\n",
       " 'Medal_No969',\n",
       " 'Medal_No970',\n",
       " 'Medal_No971',\n",
       " 'Medal_No972',\n",
       " 'Medal_No973',\n",
       " 'Medal_No974',\n",
       " 'Medal_No975',\n",
       " 'Medal_No976',\n",
       " 'Medal_No977',\n",
       " 'Medal_No978',\n",
       " 'Medal_No979',\n",
       " 'Medal_No980',\n",
       " 'Medal_No981',\n",
       " 'Medal_No982',\n",
       " 'Medal_No983',\n",
       " 'Medal_No984',\n",
       " 'Medal_No985',\n",
       " 'Medal_No986',\n",
       " 'Medal_No987',\n",
       " 'Medal_No988',\n",
       " 'Medal_No989',\n",
       " 'Medal_No990',\n",
       " 'Medal_No991',\n",
       " 'Medal_No992',\n",
       " 'Medal_No993',\n",
       " 'Medal_No994',\n",
       " 'Medal_No995',\n",
       " 'Medal_No996',\n",
       " 'Medal_No997',\n",
       " 'Medal_No998',\n",
       " 'Medal_No999',\n",
       " 'Medal_No1000',\n",
       " ...]"
      ]
     },
     "execution_count": 116,
     "metadata": {},
     "output_type": "execute_result"
    }
   ],
   "execution_count": 116
  },
  {
   "cell_type": "code",
   "metadata": {
    "ExecuteTime": {
     "end_time": "2024-10-14T13:50:21.304524Z",
     "start_time": "2024-10-14T13:50:21.298467Z"
    }
   },
   "source": [
    "summer.index = new_index"
   ],
   "outputs": [],
   "execution_count": 117
  },
  {
   "cell_type": "code",
   "metadata": {
    "scrolled": true,
    "ExecuteTime": {
     "end_time": "2024-10-14T13:50:21.349300Z",
     "start_time": "2024-10-14T13:50:21.341404Z"
    }
   },
   "source": [
    "summer.head()"
   ],
   "outputs": [
    {
     "data": {
      "text/plain": [
       "                      Athlete    City     Sport Discipline Country Gender  \\\n",
       "Medal_No1       HAJOS, Alfred  Athens  Aquatics   Swimming     HUN    Men   \n",
       "Medal_No2    HERSCHMANN, Otto  Athens  Aquatics   Swimming     AUT    Men   \n",
       "Medal_No3   DRIVAS, Dimitrios  Athens  Aquatics   Swimming     GRE    Men   \n",
       "Medal_No4  MALOKINIS, Ioannis  Athens  Aquatics   Swimming     GRE    Men   \n",
       "Medal_No5  CHASAPIS, Spiridon  Athens  Aquatics   Swimming     GRE    Men   \n",
       "\n",
       "                                Event   Medal  \n",
       "Medal_No1              100M Freestyle    Gold  \n",
       "Medal_No2              100M Freestyle  Silver  \n",
       "Medal_No3  100M Freestyle For Sailors  Bronze  \n",
       "Medal_No4  100M Freestyle For Sailors    Gold  \n",
       "Medal_No5  100M Freestyle For Sailors  Silver  "
      ],
      "text/html": [
       "<div>\n",
       "<style scoped>\n",
       "    .dataframe tbody tr th:only-of-type {\n",
       "        vertical-align: middle;\n",
       "    }\n",
       "\n",
       "    .dataframe tbody tr th {\n",
       "        vertical-align: top;\n",
       "    }\n",
       "\n",
       "    .dataframe thead th {\n",
       "        text-align: right;\n",
       "    }\n",
       "</style>\n",
       "<table border=\"1\" class=\"dataframe\">\n",
       "  <thead>\n",
       "    <tr style=\"text-align: right;\">\n",
       "      <th></th>\n",
       "      <th>Athlete</th>\n",
       "      <th>City</th>\n",
       "      <th>Sport</th>\n",
       "      <th>Discipline</th>\n",
       "      <th>Country</th>\n",
       "      <th>Gender</th>\n",
       "      <th>Event</th>\n",
       "      <th>Medal</th>\n",
       "    </tr>\n",
       "  </thead>\n",
       "  <tbody>\n",
       "    <tr>\n",
       "      <th>Medal_No1</th>\n",
       "      <td>HAJOS, Alfred</td>\n",
       "      <td>Athens</td>\n",
       "      <td>Aquatics</td>\n",
       "      <td>Swimming</td>\n",
       "      <td>HUN</td>\n",
       "      <td>Men</td>\n",
       "      <td>100M Freestyle</td>\n",
       "      <td>Gold</td>\n",
       "    </tr>\n",
       "    <tr>\n",
       "      <th>Medal_No2</th>\n",
       "      <td>HERSCHMANN, Otto</td>\n",
       "      <td>Athens</td>\n",
       "      <td>Aquatics</td>\n",
       "      <td>Swimming</td>\n",
       "      <td>AUT</td>\n",
       "      <td>Men</td>\n",
       "      <td>100M Freestyle</td>\n",
       "      <td>Silver</td>\n",
       "    </tr>\n",
       "    <tr>\n",
       "      <th>Medal_No3</th>\n",
       "      <td>DRIVAS, Dimitrios</td>\n",
       "      <td>Athens</td>\n",
       "      <td>Aquatics</td>\n",
       "      <td>Swimming</td>\n",
       "      <td>GRE</td>\n",
       "      <td>Men</td>\n",
       "      <td>100M Freestyle For Sailors</td>\n",
       "      <td>Bronze</td>\n",
       "    </tr>\n",
       "    <tr>\n",
       "      <th>Medal_No4</th>\n",
       "      <td>MALOKINIS, Ioannis</td>\n",
       "      <td>Athens</td>\n",
       "      <td>Aquatics</td>\n",
       "      <td>Swimming</td>\n",
       "      <td>GRE</td>\n",
       "      <td>Men</td>\n",
       "      <td>100M Freestyle For Sailors</td>\n",
       "      <td>Gold</td>\n",
       "    </tr>\n",
       "    <tr>\n",
       "      <th>Medal_No5</th>\n",
       "      <td>CHASAPIS, Spiridon</td>\n",
       "      <td>Athens</td>\n",
       "      <td>Aquatics</td>\n",
       "      <td>Swimming</td>\n",
       "      <td>GRE</td>\n",
       "      <td>Men</td>\n",
       "      <td>100M Freestyle For Sailors</td>\n",
       "      <td>Silver</td>\n",
       "    </tr>\n",
       "  </tbody>\n",
       "</table>\n",
       "</div>"
      ]
     },
     "execution_count": 118,
     "metadata": {},
     "output_type": "execute_result"
    }
   ],
   "execution_count": 118
  },
  {
   "cell_type": "code",
   "metadata": {
    "ExecuteTime": {
     "end_time": "2024-10-14T13:50:21.443914Z",
     "start_time": "2024-10-14T13:50:21.434464Z"
    }
   },
   "source": [
    "summer.tail()"
   ],
   "outputs": [
    {
     "data": {
      "text/plain": [
       "                                 Athlete    City      Sport  \\\n",
       "Medal_No31161         JANIKOWSKI, Damian  London  Wrestling   \n",
       "Medal_No31162  REZAEI, Ghasem Gholamreza  London  Wrestling   \n",
       "Medal_No31163             TOTROV, Rustam  London  Wrestling   \n",
       "Medal_No31164          ALEKSANYAN, Artur  London  Wrestling   \n",
       "Medal_No31165             LIDBERG, Jimmy  London  Wrestling   \n",
       "\n",
       "                        Discipline Country Gender     Event   Medal  \n",
       "Medal_No31161  Wrestling Freestyle     POL    Men  Wg 84 KG  Bronze  \n",
       "Medal_No31162  Wrestling Freestyle     IRI    Men  Wg 96 KG    Gold  \n",
       "Medal_No31163  Wrestling Freestyle     RUS    Men  Wg 96 KG  Silver  \n",
       "Medal_No31164  Wrestling Freestyle     ARM    Men  Wg 96 KG  Bronze  \n",
       "Medal_No31165  Wrestling Freestyle     SWE    Men  Wg 96 KG  Bronze  "
      ],
      "text/html": [
       "<div>\n",
       "<style scoped>\n",
       "    .dataframe tbody tr th:only-of-type {\n",
       "        vertical-align: middle;\n",
       "    }\n",
       "\n",
       "    .dataframe tbody tr th {\n",
       "        vertical-align: top;\n",
       "    }\n",
       "\n",
       "    .dataframe thead th {\n",
       "        text-align: right;\n",
       "    }\n",
       "</style>\n",
       "<table border=\"1\" class=\"dataframe\">\n",
       "  <thead>\n",
       "    <tr style=\"text-align: right;\">\n",
       "      <th></th>\n",
       "      <th>Athlete</th>\n",
       "      <th>City</th>\n",
       "      <th>Sport</th>\n",
       "      <th>Discipline</th>\n",
       "      <th>Country</th>\n",
       "      <th>Gender</th>\n",
       "      <th>Event</th>\n",
       "      <th>Medal</th>\n",
       "    </tr>\n",
       "  </thead>\n",
       "  <tbody>\n",
       "    <tr>\n",
       "      <th>Medal_No31161</th>\n",
       "      <td>JANIKOWSKI, Damian</td>\n",
       "      <td>London</td>\n",
       "      <td>Wrestling</td>\n",
       "      <td>Wrestling Freestyle</td>\n",
       "      <td>POL</td>\n",
       "      <td>Men</td>\n",
       "      <td>Wg 84 KG</td>\n",
       "      <td>Bronze</td>\n",
       "    </tr>\n",
       "    <tr>\n",
       "      <th>Medal_No31162</th>\n",
       "      <td>REZAEI, Ghasem Gholamreza</td>\n",
       "      <td>London</td>\n",
       "      <td>Wrestling</td>\n",
       "      <td>Wrestling Freestyle</td>\n",
       "      <td>IRI</td>\n",
       "      <td>Men</td>\n",
       "      <td>Wg 96 KG</td>\n",
       "      <td>Gold</td>\n",
       "    </tr>\n",
       "    <tr>\n",
       "      <th>Medal_No31163</th>\n",
       "      <td>TOTROV, Rustam</td>\n",
       "      <td>London</td>\n",
       "      <td>Wrestling</td>\n",
       "      <td>Wrestling Freestyle</td>\n",
       "      <td>RUS</td>\n",
       "      <td>Men</td>\n",
       "      <td>Wg 96 KG</td>\n",
       "      <td>Silver</td>\n",
       "    </tr>\n",
       "    <tr>\n",
       "      <th>Medal_No31164</th>\n",
       "      <td>ALEKSANYAN, Artur</td>\n",
       "      <td>London</td>\n",
       "      <td>Wrestling</td>\n",
       "      <td>Wrestling Freestyle</td>\n",
       "      <td>ARM</td>\n",
       "      <td>Men</td>\n",
       "      <td>Wg 96 KG</td>\n",
       "      <td>Bronze</td>\n",
       "    </tr>\n",
       "    <tr>\n",
       "      <th>Medal_No31165</th>\n",
       "      <td>LIDBERG, Jimmy</td>\n",
       "      <td>London</td>\n",
       "      <td>Wrestling</td>\n",
       "      <td>Wrestling Freestyle</td>\n",
       "      <td>SWE</td>\n",
       "      <td>Men</td>\n",
       "      <td>Wg 96 KG</td>\n",
       "      <td>Bronze</td>\n",
       "    </tr>\n",
       "  </tbody>\n",
       "</table>\n",
       "</div>"
      ]
     },
     "execution_count": 119,
     "metadata": {},
     "output_type": "execute_result"
    }
   ],
   "execution_count": 119
  },
  {
   "cell_type": "code",
   "metadata": {
    "ExecuteTime": {
     "end_time": "2024-10-14T13:50:21.486104Z",
     "start_time": "2024-10-14T13:50:21.480838Z"
    }
   },
   "source": [
    "summer.index.is_unique"
   ],
   "outputs": [
    {
     "data": {
      "text/plain": [
       "True"
      ]
     },
     "execution_count": 120,
     "metadata": {},
     "output_type": "execute_result"
    }
   ],
   "execution_count": 120
  },
  {
   "cell_type": "code",
   "metadata": {
    "ExecuteTime": {
     "end_time": "2024-10-14T13:50:21.610588Z",
     "start_time": "2024-10-14T13:50:21.608003Z"
    }
   },
   "source": [
    "summer.index.name = \"Medal_No\""
   ],
   "outputs": [],
   "execution_count": 121
  },
  {
   "cell_type": "code",
   "metadata": {
    "scrolled": true,
    "ExecuteTime": {
     "end_time": "2024-10-14T13:50:21.740594Z",
     "start_time": "2024-10-14T13:50:21.723799Z"
    }
   },
   "source": [
    "summer.reset_index()"
   ],
   "outputs": [
    {
     "data": {
      "text/plain": [
       "            Medal_No                    Athlete    City      Sport  \\\n",
       "0          Medal_No1              HAJOS, Alfred  Athens   Aquatics   \n",
       "1          Medal_No2           HERSCHMANN, Otto  Athens   Aquatics   \n",
       "2          Medal_No3          DRIVAS, Dimitrios  Athens   Aquatics   \n",
       "3          Medal_No4         MALOKINIS, Ioannis  Athens   Aquatics   \n",
       "4          Medal_No5         CHASAPIS, Spiridon  Athens   Aquatics   \n",
       "...              ...                        ...     ...        ...   \n",
       "31160  Medal_No31161         JANIKOWSKI, Damian  London  Wrestling   \n",
       "31161  Medal_No31162  REZAEI, Ghasem Gholamreza  London  Wrestling   \n",
       "31162  Medal_No31163             TOTROV, Rustam  London  Wrestling   \n",
       "31163  Medal_No31164          ALEKSANYAN, Artur  London  Wrestling   \n",
       "31164  Medal_No31165             LIDBERG, Jimmy  London  Wrestling   \n",
       "\n",
       "                Discipline Country Gender                       Event   Medal  \n",
       "0                 Swimming     HUN    Men              100M Freestyle    Gold  \n",
       "1                 Swimming     AUT    Men              100M Freestyle  Silver  \n",
       "2                 Swimming     GRE    Men  100M Freestyle For Sailors  Bronze  \n",
       "3                 Swimming     GRE    Men  100M Freestyle For Sailors    Gold  \n",
       "4                 Swimming     GRE    Men  100M Freestyle For Sailors  Silver  \n",
       "...                    ...     ...    ...                         ...     ...  \n",
       "31160  Wrestling Freestyle     POL    Men                    Wg 84 KG  Bronze  \n",
       "31161  Wrestling Freestyle     IRI    Men                    Wg 96 KG    Gold  \n",
       "31162  Wrestling Freestyle     RUS    Men                    Wg 96 KG  Silver  \n",
       "31163  Wrestling Freestyle     ARM    Men                    Wg 96 KG  Bronze  \n",
       "31164  Wrestling Freestyle     SWE    Men                    Wg 96 KG  Bronze  \n",
       "\n",
       "[31165 rows x 9 columns]"
      ],
      "text/html": [
       "<div>\n",
       "<style scoped>\n",
       "    .dataframe tbody tr th:only-of-type {\n",
       "        vertical-align: middle;\n",
       "    }\n",
       "\n",
       "    .dataframe tbody tr th {\n",
       "        vertical-align: top;\n",
       "    }\n",
       "\n",
       "    .dataframe thead th {\n",
       "        text-align: right;\n",
       "    }\n",
       "</style>\n",
       "<table border=\"1\" class=\"dataframe\">\n",
       "  <thead>\n",
       "    <tr style=\"text-align: right;\">\n",
       "      <th></th>\n",
       "      <th>Medal_No</th>\n",
       "      <th>Athlete</th>\n",
       "      <th>City</th>\n",
       "      <th>Sport</th>\n",
       "      <th>Discipline</th>\n",
       "      <th>Country</th>\n",
       "      <th>Gender</th>\n",
       "      <th>Event</th>\n",
       "      <th>Medal</th>\n",
       "    </tr>\n",
       "  </thead>\n",
       "  <tbody>\n",
       "    <tr>\n",
       "      <th>0</th>\n",
       "      <td>Medal_No1</td>\n",
       "      <td>HAJOS, Alfred</td>\n",
       "      <td>Athens</td>\n",
       "      <td>Aquatics</td>\n",
       "      <td>Swimming</td>\n",
       "      <td>HUN</td>\n",
       "      <td>Men</td>\n",
       "      <td>100M Freestyle</td>\n",
       "      <td>Gold</td>\n",
       "    </tr>\n",
       "    <tr>\n",
       "      <th>1</th>\n",
       "      <td>Medal_No2</td>\n",
       "      <td>HERSCHMANN, Otto</td>\n",
       "      <td>Athens</td>\n",
       "      <td>Aquatics</td>\n",
       "      <td>Swimming</td>\n",
       "      <td>AUT</td>\n",
       "      <td>Men</td>\n",
       "      <td>100M Freestyle</td>\n",
       "      <td>Silver</td>\n",
       "    </tr>\n",
       "    <tr>\n",
       "      <th>2</th>\n",
       "      <td>Medal_No3</td>\n",
       "      <td>DRIVAS, Dimitrios</td>\n",
       "      <td>Athens</td>\n",
       "      <td>Aquatics</td>\n",
       "      <td>Swimming</td>\n",
       "      <td>GRE</td>\n",
       "      <td>Men</td>\n",
       "      <td>100M Freestyle For Sailors</td>\n",
       "      <td>Bronze</td>\n",
       "    </tr>\n",
       "    <tr>\n",
       "      <th>3</th>\n",
       "      <td>Medal_No4</td>\n",
       "      <td>MALOKINIS, Ioannis</td>\n",
       "      <td>Athens</td>\n",
       "      <td>Aquatics</td>\n",
       "      <td>Swimming</td>\n",
       "      <td>GRE</td>\n",
       "      <td>Men</td>\n",
       "      <td>100M Freestyle For Sailors</td>\n",
       "      <td>Gold</td>\n",
       "    </tr>\n",
       "    <tr>\n",
       "      <th>4</th>\n",
       "      <td>Medal_No5</td>\n",
       "      <td>CHASAPIS, Spiridon</td>\n",
       "      <td>Athens</td>\n",
       "      <td>Aquatics</td>\n",
       "      <td>Swimming</td>\n",
       "      <td>GRE</td>\n",
       "      <td>Men</td>\n",
       "      <td>100M Freestyle For Sailors</td>\n",
       "      <td>Silver</td>\n",
       "    </tr>\n",
       "    <tr>\n",
       "      <th>...</th>\n",
       "      <td>...</td>\n",
       "      <td>...</td>\n",
       "      <td>...</td>\n",
       "      <td>...</td>\n",
       "      <td>...</td>\n",
       "      <td>...</td>\n",
       "      <td>...</td>\n",
       "      <td>...</td>\n",
       "      <td>...</td>\n",
       "    </tr>\n",
       "    <tr>\n",
       "      <th>31160</th>\n",
       "      <td>Medal_No31161</td>\n",
       "      <td>JANIKOWSKI, Damian</td>\n",
       "      <td>London</td>\n",
       "      <td>Wrestling</td>\n",
       "      <td>Wrestling Freestyle</td>\n",
       "      <td>POL</td>\n",
       "      <td>Men</td>\n",
       "      <td>Wg 84 KG</td>\n",
       "      <td>Bronze</td>\n",
       "    </tr>\n",
       "    <tr>\n",
       "      <th>31161</th>\n",
       "      <td>Medal_No31162</td>\n",
       "      <td>REZAEI, Ghasem Gholamreza</td>\n",
       "      <td>London</td>\n",
       "      <td>Wrestling</td>\n",
       "      <td>Wrestling Freestyle</td>\n",
       "      <td>IRI</td>\n",
       "      <td>Men</td>\n",
       "      <td>Wg 96 KG</td>\n",
       "      <td>Gold</td>\n",
       "    </tr>\n",
       "    <tr>\n",
       "      <th>31162</th>\n",
       "      <td>Medal_No31163</td>\n",
       "      <td>TOTROV, Rustam</td>\n",
       "      <td>London</td>\n",
       "      <td>Wrestling</td>\n",
       "      <td>Wrestling Freestyle</td>\n",
       "      <td>RUS</td>\n",
       "      <td>Men</td>\n",
       "      <td>Wg 96 KG</td>\n",
       "      <td>Silver</td>\n",
       "    </tr>\n",
       "    <tr>\n",
       "      <th>31163</th>\n",
       "      <td>Medal_No31164</td>\n",
       "      <td>ALEKSANYAN, Artur</td>\n",
       "      <td>London</td>\n",
       "      <td>Wrestling</td>\n",
       "      <td>Wrestling Freestyle</td>\n",
       "      <td>ARM</td>\n",
       "      <td>Men</td>\n",
       "      <td>Wg 96 KG</td>\n",
       "      <td>Bronze</td>\n",
       "    </tr>\n",
       "    <tr>\n",
       "      <th>31164</th>\n",
       "      <td>Medal_No31165</td>\n",
       "      <td>LIDBERG, Jimmy</td>\n",
       "      <td>London</td>\n",
       "      <td>Wrestling</td>\n",
       "      <td>Wrestling Freestyle</td>\n",
       "      <td>SWE</td>\n",
       "      <td>Men</td>\n",
       "      <td>Wg 96 KG</td>\n",
       "      <td>Bronze</td>\n",
       "    </tr>\n",
       "  </tbody>\n",
       "</table>\n",
       "<p>31165 rows × 9 columns</p>\n",
       "</div>"
      ]
     },
     "execution_count": 122,
     "metadata": {},
     "output_type": "execute_result"
    }
   ],
   "execution_count": 122
  },
  {
   "cell_type": "code",
   "metadata": {
    "ExecuteTime": {
     "end_time": "2024-10-14T13:50:21.809083Z",
     "start_time": "2024-10-14T13:50:21.807086Z"
    }
   },
   "source": [],
   "outputs": [],
   "execution_count": null
  },
  {
   "cell_type": "markdown",
   "metadata": {},
   "source": [
    "### Changing Column Labels"
   ]
  },
  {
   "cell_type": "code",
   "metadata": {
    "ExecuteTime": {
     "end_time": "2024-10-14T13:50:21.879039Z",
     "start_time": "2024-10-14T13:50:21.876500Z"
    }
   },
   "source": [
    "import pandas as pd"
   ],
   "outputs": [],
   "execution_count": 123
  },
  {
   "cell_type": "code",
   "metadata": {
    "ExecuteTime": {
     "end_time": "2024-10-14T13:50:21.996302Z",
     "start_time": "2024-10-14T13:50:21.992228Z"
    }
   },
   "source": [
    "titanic = pd.read_csv(\"titanic.csv\")"
   ],
   "outputs": [],
   "execution_count": 124
  },
  {
   "cell_type": "code",
   "metadata": {
    "ExecuteTime": {
     "end_time": "2024-10-14T13:50:22.074428Z",
     "start_time": "2024-10-14T13:50:22.062766Z"
    }
   },
   "source": [
    "titanic.head()"
   ],
   "outputs": [
    {
     "data": {
      "text/plain": [
       "   survived  pclass     sex   age  sibsp  parch     fare embarked deck\n",
       "0         0       3    male  22.0      1      0   7.2500        S  NaN\n",
       "1         1       1  female  38.0      1      0  71.2833        C    C\n",
       "2         1       3  female  26.0      0      0   7.9250        S  NaN\n",
       "3         1       1  female  35.0      1      0  53.1000        S    C\n",
       "4         0       3    male  35.0      0      0   8.0500        S  NaN"
      ],
      "text/html": [
       "<div>\n",
       "<style scoped>\n",
       "    .dataframe tbody tr th:only-of-type {\n",
       "        vertical-align: middle;\n",
       "    }\n",
       "\n",
       "    .dataframe tbody tr th {\n",
       "        vertical-align: top;\n",
       "    }\n",
       "\n",
       "    .dataframe thead th {\n",
       "        text-align: right;\n",
       "    }\n",
       "</style>\n",
       "<table border=\"1\" class=\"dataframe\">\n",
       "  <thead>\n",
       "    <tr style=\"text-align: right;\">\n",
       "      <th></th>\n",
       "      <th>survived</th>\n",
       "      <th>pclass</th>\n",
       "      <th>sex</th>\n",
       "      <th>age</th>\n",
       "      <th>sibsp</th>\n",
       "      <th>parch</th>\n",
       "      <th>fare</th>\n",
       "      <th>embarked</th>\n",
       "      <th>deck</th>\n",
       "    </tr>\n",
       "  </thead>\n",
       "  <tbody>\n",
       "    <tr>\n",
       "      <th>0</th>\n",
       "      <td>0</td>\n",
       "      <td>3</td>\n",
       "      <td>male</td>\n",
       "      <td>22.0</td>\n",
       "      <td>1</td>\n",
       "      <td>0</td>\n",
       "      <td>7.2500</td>\n",
       "      <td>S</td>\n",
       "      <td>NaN</td>\n",
       "    </tr>\n",
       "    <tr>\n",
       "      <th>1</th>\n",
       "      <td>1</td>\n",
       "      <td>1</td>\n",
       "      <td>female</td>\n",
       "      <td>38.0</td>\n",
       "      <td>1</td>\n",
       "      <td>0</td>\n",
       "      <td>71.2833</td>\n",
       "      <td>C</td>\n",
       "      <td>C</td>\n",
       "    </tr>\n",
       "    <tr>\n",
       "      <th>2</th>\n",
       "      <td>1</td>\n",
       "      <td>3</td>\n",
       "      <td>female</td>\n",
       "      <td>26.0</td>\n",
       "      <td>0</td>\n",
       "      <td>0</td>\n",
       "      <td>7.9250</td>\n",
       "      <td>S</td>\n",
       "      <td>NaN</td>\n",
       "    </tr>\n",
       "    <tr>\n",
       "      <th>3</th>\n",
       "      <td>1</td>\n",
       "      <td>1</td>\n",
       "      <td>female</td>\n",
       "      <td>35.0</td>\n",
       "      <td>1</td>\n",
       "      <td>0</td>\n",
       "      <td>53.1000</td>\n",
       "      <td>S</td>\n",
       "      <td>C</td>\n",
       "    </tr>\n",
       "    <tr>\n",
       "      <th>4</th>\n",
       "      <td>0</td>\n",
       "      <td>3</td>\n",
       "      <td>male</td>\n",
       "      <td>35.0</td>\n",
       "      <td>0</td>\n",
       "      <td>0</td>\n",
       "      <td>8.0500</td>\n",
       "      <td>S</td>\n",
       "      <td>NaN</td>\n",
       "    </tr>\n",
       "  </tbody>\n",
       "</table>\n",
       "</div>"
      ]
     },
     "execution_count": 125,
     "metadata": {},
     "output_type": "execute_result"
    }
   ],
   "execution_count": 125
  },
  {
   "cell_type": "code",
   "metadata": {
    "ExecuteTime": {
     "end_time": "2024-10-14T13:50:22.172355Z",
     "start_time": "2024-10-14T13:50:22.159594Z"
    }
   },
   "source": [
    "titanic.tail()"
   ],
   "outputs": [
    {
     "data": {
      "text/plain": [
       "     survived  pclass     sex   age  sibsp  parch   fare embarked deck\n",
       "886         0       2    male  27.0      0      0  13.00        S  NaN\n",
       "887         1       1  female  19.0      0      0  30.00        S    B\n",
       "888         0       3  female   NaN      1      2  23.45        S  NaN\n",
       "889         1       1    male  26.0      0      0  30.00        C    C\n",
       "890         0       3    male  32.0      0      0   7.75        Q  NaN"
      ],
      "text/html": [
       "<div>\n",
       "<style scoped>\n",
       "    .dataframe tbody tr th:only-of-type {\n",
       "        vertical-align: middle;\n",
       "    }\n",
       "\n",
       "    .dataframe tbody tr th {\n",
       "        vertical-align: top;\n",
       "    }\n",
       "\n",
       "    .dataframe thead th {\n",
       "        text-align: right;\n",
       "    }\n",
       "</style>\n",
       "<table border=\"1\" class=\"dataframe\">\n",
       "  <thead>\n",
       "    <tr style=\"text-align: right;\">\n",
       "      <th></th>\n",
       "      <th>survived</th>\n",
       "      <th>pclass</th>\n",
       "      <th>sex</th>\n",
       "      <th>age</th>\n",
       "      <th>sibsp</th>\n",
       "      <th>parch</th>\n",
       "      <th>fare</th>\n",
       "      <th>embarked</th>\n",
       "      <th>deck</th>\n",
       "    </tr>\n",
       "  </thead>\n",
       "  <tbody>\n",
       "    <tr>\n",
       "      <th>886</th>\n",
       "      <td>0</td>\n",
       "      <td>2</td>\n",
       "      <td>male</td>\n",
       "      <td>27.0</td>\n",
       "      <td>0</td>\n",
       "      <td>0</td>\n",
       "      <td>13.00</td>\n",
       "      <td>S</td>\n",
       "      <td>NaN</td>\n",
       "    </tr>\n",
       "    <tr>\n",
       "      <th>887</th>\n",
       "      <td>1</td>\n",
       "      <td>1</td>\n",
       "      <td>female</td>\n",
       "      <td>19.0</td>\n",
       "      <td>0</td>\n",
       "      <td>0</td>\n",
       "      <td>30.00</td>\n",
       "      <td>S</td>\n",
       "      <td>B</td>\n",
       "    </tr>\n",
       "    <tr>\n",
       "      <th>888</th>\n",
       "      <td>0</td>\n",
       "      <td>3</td>\n",
       "      <td>female</td>\n",
       "      <td>NaN</td>\n",
       "      <td>1</td>\n",
       "      <td>2</td>\n",
       "      <td>23.45</td>\n",
       "      <td>S</td>\n",
       "      <td>NaN</td>\n",
       "    </tr>\n",
       "    <tr>\n",
       "      <th>889</th>\n",
       "      <td>1</td>\n",
       "      <td>1</td>\n",
       "      <td>male</td>\n",
       "      <td>26.0</td>\n",
       "      <td>0</td>\n",
       "      <td>0</td>\n",
       "      <td>30.00</td>\n",
       "      <td>C</td>\n",
       "      <td>C</td>\n",
       "    </tr>\n",
       "    <tr>\n",
       "      <th>890</th>\n",
       "      <td>0</td>\n",
       "      <td>3</td>\n",
       "      <td>male</td>\n",
       "      <td>32.0</td>\n",
       "      <td>0</td>\n",
       "      <td>0</td>\n",
       "      <td>7.75</td>\n",
       "      <td>Q</td>\n",
       "      <td>NaN</td>\n",
       "    </tr>\n",
       "  </tbody>\n",
       "</table>\n",
       "</div>"
      ]
     },
     "execution_count": 126,
     "metadata": {},
     "output_type": "execute_result"
    }
   ],
   "execution_count": 126
  },
  {
   "cell_type": "code",
   "metadata": {
    "ExecuteTime": {
     "end_time": "2024-10-14T13:50:22.216978Z",
     "start_time": "2024-10-14T13:50:22.213148Z"
    }
   },
   "source": [
    "titanic.columns"
   ],
   "outputs": [
    {
     "data": {
      "text/plain": [
       "Index(['survived', 'pclass', 'sex', 'age', 'sibsp', 'parch', 'fare',\n",
       "       'embarked', 'deck'],\n",
       "      dtype='object')"
      ]
     },
     "execution_count": 127,
     "metadata": {},
     "output_type": "execute_result"
    }
   ],
   "execution_count": 127
  },
  {
   "cell_type": "code",
   "metadata": {
    "ExecuteTime": {
     "end_time": "2024-10-14T13:50:22.374929Z",
     "start_time": "2024-10-14T13:50:22.371394Z"
    }
   },
   "source": [
    "titanic.columns[0]"
   ],
   "outputs": [
    {
     "data": {
      "text/plain": [
       "'survived'"
      ]
     },
     "execution_count": 128,
     "metadata": {},
     "output_type": "execute_result"
    }
   ],
   "execution_count": 128
  },
  {
   "cell_type": "code",
   "metadata": {
    "ExecuteTime": {
     "end_time": "2024-10-14T13:50:22.507969Z",
     "start_time": "2024-10-14T13:50:22.505729Z"
    }
   },
   "source": [
    "#titanic.columns[0] = \"Alive\""
   ],
   "outputs": [],
   "execution_count": 129
  },
  {
   "cell_type": "code",
   "metadata": {
    "ExecuteTime": {
     "end_time": "2024-10-14T13:50:22.560160Z",
     "start_time": "2024-10-14T13:50:22.557494Z"
    }
   },
   "source": [
    "titanic.columns = [\"Alive\", \"Class\", \"Sex\", \"Age\", \"SibSp\", \"ParChi\", \"Fare\", \"Emb\", \"Deck\"]"
   ],
   "outputs": [],
   "execution_count": 130
  },
  {
   "cell_type": "code",
   "metadata": {
    "ExecuteTime": {
     "end_time": "2024-10-14T13:50:22.633907Z",
     "start_time": "2024-10-14T13:50:22.624433Z"
    }
   },
   "source": [
    "titanic.head()"
   ],
   "outputs": [
    {
     "data": {
      "text/plain": [
       "   Alive  Class     Sex   Age  SibSp  ParChi     Fare Emb Deck\n",
       "0      0      3    male  22.0      1       0   7.2500   S  NaN\n",
       "1      1      1  female  38.0      1       0  71.2833   C    C\n",
       "2      1      3  female  26.0      0       0   7.9250   S  NaN\n",
       "3      1      1  female  35.0      1       0  53.1000   S    C\n",
       "4      0      3    male  35.0      0       0   8.0500   S  NaN"
      ],
      "text/html": [
       "<div>\n",
       "<style scoped>\n",
       "    .dataframe tbody tr th:only-of-type {\n",
       "        vertical-align: middle;\n",
       "    }\n",
       "\n",
       "    .dataframe tbody tr th {\n",
       "        vertical-align: top;\n",
       "    }\n",
       "\n",
       "    .dataframe thead th {\n",
       "        text-align: right;\n",
       "    }\n",
       "</style>\n",
       "<table border=\"1\" class=\"dataframe\">\n",
       "  <thead>\n",
       "    <tr style=\"text-align: right;\">\n",
       "      <th></th>\n",
       "      <th>Alive</th>\n",
       "      <th>Class</th>\n",
       "      <th>Sex</th>\n",
       "      <th>Age</th>\n",
       "      <th>SibSp</th>\n",
       "      <th>ParChi</th>\n",
       "      <th>Fare</th>\n",
       "      <th>Emb</th>\n",
       "      <th>Deck</th>\n",
       "    </tr>\n",
       "  </thead>\n",
       "  <tbody>\n",
       "    <tr>\n",
       "      <th>0</th>\n",
       "      <td>0</td>\n",
       "      <td>3</td>\n",
       "      <td>male</td>\n",
       "      <td>22.0</td>\n",
       "      <td>1</td>\n",
       "      <td>0</td>\n",
       "      <td>7.2500</td>\n",
       "      <td>S</td>\n",
       "      <td>NaN</td>\n",
       "    </tr>\n",
       "    <tr>\n",
       "      <th>1</th>\n",
       "      <td>1</td>\n",
       "      <td>1</td>\n",
       "      <td>female</td>\n",
       "      <td>38.0</td>\n",
       "      <td>1</td>\n",
       "      <td>0</td>\n",
       "      <td>71.2833</td>\n",
       "      <td>C</td>\n",
       "      <td>C</td>\n",
       "    </tr>\n",
       "    <tr>\n",
       "      <th>2</th>\n",
       "      <td>1</td>\n",
       "      <td>3</td>\n",
       "      <td>female</td>\n",
       "      <td>26.0</td>\n",
       "      <td>0</td>\n",
       "      <td>0</td>\n",
       "      <td>7.9250</td>\n",
       "      <td>S</td>\n",
       "      <td>NaN</td>\n",
       "    </tr>\n",
       "    <tr>\n",
       "      <th>3</th>\n",
       "      <td>1</td>\n",
       "      <td>1</td>\n",
       "      <td>female</td>\n",
       "      <td>35.0</td>\n",
       "      <td>1</td>\n",
       "      <td>0</td>\n",
       "      <td>53.1000</td>\n",
       "      <td>S</td>\n",
       "      <td>C</td>\n",
       "    </tr>\n",
       "    <tr>\n",
       "      <th>4</th>\n",
       "      <td>0</td>\n",
       "      <td>3</td>\n",
       "      <td>male</td>\n",
       "      <td>35.0</td>\n",
       "      <td>0</td>\n",
       "      <td>0</td>\n",
       "      <td>8.0500</td>\n",
       "      <td>S</td>\n",
       "      <td>NaN</td>\n",
       "    </tr>\n",
       "  </tbody>\n",
       "</table>\n",
       "</div>"
      ]
     },
     "execution_count": 131,
     "metadata": {},
     "output_type": "execute_result"
    }
   ],
   "execution_count": 131
  },
  {
   "cell_type": "code",
   "metadata": {
    "ExecuteTime": {
     "end_time": "2024-10-14T13:50:22.720316Z",
     "start_time": "2024-10-14T13:50:22.716680Z"
    }
   },
   "source": [
    "titanic.columns.name"
   ],
   "outputs": [],
   "execution_count": 132
  },
  {
   "cell_type": "code",
   "metadata": {
    "ExecuteTime": {
     "end_time": "2024-10-14T13:50:22.775884Z",
     "start_time": "2024-10-14T13:50:22.772036Z"
    }
   },
   "source": [
    "titanic.columns.name = \"Pass_Charact\""
   ],
   "outputs": [],
   "execution_count": 133
  },
  {
   "cell_type": "code",
   "metadata": {
    "ExecuteTime": {
     "end_time": "2024-10-14T13:50:22.850584Z",
     "start_time": "2024-10-14T13:50:22.837895Z"
    }
   },
   "source": [
    "titanic.head()"
   ],
   "outputs": [
    {
     "data": {
      "text/plain": [
       "Pass_Charact  Alive  Class     Sex   Age  SibSp  ParChi     Fare Emb Deck\n",
       "0                 0      3    male  22.0      1       0   7.2500   S  NaN\n",
       "1                 1      1  female  38.0      1       0  71.2833   C    C\n",
       "2                 1      3  female  26.0      0       0   7.9250   S  NaN\n",
       "3                 1      1  female  35.0      1       0  53.1000   S    C\n",
       "4                 0      3    male  35.0      0       0   8.0500   S  NaN"
      ],
      "text/html": [
       "<div>\n",
       "<style scoped>\n",
       "    .dataframe tbody tr th:only-of-type {\n",
       "        vertical-align: middle;\n",
       "    }\n",
       "\n",
       "    .dataframe tbody tr th {\n",
       "        vertical-align: top;\n",
       "    }\n",
       "\n",
       "    .dataframe thead th {\n",
       "        text-align: right;\n",
       "    }\n",
       "</style>\n",
       "<table border=\"1\" class=\"dataframe\">\n",
       "  <thead>\n",
       "    <tr style=\"text-align: right;\">\n",
       "      <th>Pass_Charact</th>\n",
       "      <th>Alive</th>\n",
       "      <th>Class</th>\n",
       "      <th>Sex</th>\n",
       "      <th>Age</th>\n",
       "      <th>SibSp</th>\n",
       "      <th>ParChi</th>\n",
       "      <th>Fare</th>\n",
       "      <th>Emb</th>\n",
       "      <th>Deck</th>\n",
       "    </tr>\n",
       "  </thead>\n",
       "  <tbody>\n",
       "    <tr>\n",
       "      <th>0</th>\n",
       "      <td>0</td>\n",
       "      <td>3</td>\n",
       "      <td>male</td>\n",
       "      <td>22.0</td>\n",
       "      <td>1</td>\n",
       "      <td>0</td>\n",
       "      <td>7.2500</td>\n",
       "      <td>S</td>\n",
       "      <td>NaN</td>\n",
       "    </tr>\n",
       "    <tr>\n",
       "      <th>1</th>\n",
       "      <td>1</td>\n",
       "      <td>1</td>\n",
       "      <td>female</td>\n",
       "      <td>38.0</td>\n",
       "      <td>1</td>\n",
       "      <td>0</td>\n",
       "      <td>71.2833</td>\n",
       "      <td>C</td>\n",
       "      <td>C</td>\n",
       "    </tr>\n",
       "    <tr>\n",
       "      <th>2</th>\n",
       "      <td>1</td>\n",
       "      <td>3</td>\n",
       "      <td>female</td>\n",
       "      <td>26.0</td>\n",
       "      <td>0</td>\n",
       "      <td>0</td>\n",
       "      <td>7.9250</td>\n",
       "      <td>S</td>\n",
       "      <td>NaN</td>\n",
       "    </tr>\n",
       "    <tr>\n",
       "      <th>3</th>\n",
       "      <td>1</td>\n",
       "      <td>1</td>\n",
       "      <td>female</td>\n",
       "      <td>35.0</td>\n",
       "      <td>1</td>\n",
       "      <td>0</td>\n",
       "      <td>53.1000</td>\n",
       "      <td>S</td>\n",
       "      <td>C</td>\n",
       "    </tr>\n",
       "    <tr>\n",
       "      <th>4</th>\n",
       "      <td>0</td>\n",
       "      <td>3</td>\n",
       "      <td>male</td>\n",
       "      <td>35.0</td>\n",
       "      <td>0</td>\n",
       "      <td>0</td>\n",
       "      <td>8.0500</td>\n",
       "      <td>S</td>\n",
       "      <td>NaN</td>\n",
       "    </tr>\n",
       "  </tbody>\n",
       "</table>\n",
       "</div>"
      ]
     },
     "execution_count": 134,
     "metadata": {},
     "output_type": "execute_result"
    }
   ],
   "execution_count": 134
  },
  {
   "cell_type": "code",
   "metadata": {
    "ExecuteTime": {
     "end_time": "2024-10-14T13:50:22.920490Z",
     "start_time": "2024-10-14T13:50:22.917589Z"
    }
   },
   "source": [
    "titanic.index.name = \"Passenger_no\""
   ],
   "outputs": [],
   "execution_count": 135
  },
  {
   "cell_type": "code",
   "metadata": {
    "ExecuteTime": {
     "end_time": "2024-10-14T13:50:23.004832Z",
     "start_time": "2024-10-14T13:50:23.002818Z"
    }
   },
   "source": [],
   "outputs": [],
   "execution_count": null
  },
  {
   "cell_type": "markdown",
   "metadata": {},
   "source": [
    "### Renaming Index & Column Labels"
   ]
  },
  {
   "cell_type": "code",
   "metadata": {
    "ExecuteTime": {
     "end_time": "2024-10-14T13:50:23.052624Z",
     "start_time": "2024-10-14T13:50:23.049839Z"
    }
   },
   "source": [
    "import pandas as pd"
   ],
   "outputs": [],
   "execution_count": 136
  },
  {
   "cell_type": "code",
   "metadata": {
    "ExecuteTime": {
     "end_time": "2024-10-14T13:50:23.170731Z",
     "start_time": "2024-10-14T13:50:23.118732Z"
    }
   },
   "source": [
    "summer= pd.read_csv(\"summer.csv\", index_col = \"Athlete\")"
   ],
   "outputs": [],
   "execution_count": 137
  },
  {
   "cell_type": "code",
   "metadata": {
    "ExecuteTime": {
     "end_time": "2024-10-14T13:50:23.196356Z",
     "start_time": "2024-10-14T13:50:23.188274Z"
    }
   },
   "source": [
    "summer.head()"
   ],
   "outputs": [
    {
     "data": {
      "text/plain": [
       "                    Year    City     Sport Discipline Country Gender  \\\n",
       "Athlete                                                                \n",
       "HAJOS, Alfred       1896  Athens  Aquatics   Swimming     HUN    Men   \n",
       "HERSCHMANN, Otto    1896  Athens  Aquatics   Swimming     AUT    Men   \n",
       "DRIVAS, Dimitrios   1896  Athens  Aquatics   Swimming     GRE    Men   \n",
       "MALOKINIS, Ioannis  1896  Athens  Aquatics   Swimming     GRE    Men   \n",
       "CHASAPIS, Spiridon  1896  Athens  Aquatics   Swimming     GRE    Men   \n",
       "\n",
       "                                         Event   Medal  \n",
       "Athlete                                                 \n",
       "HAJOS, Alfred                   100M Freestyle    Gold  \n",
       "HERSCHMANN, Otto                100M Freestyle  Silver  \n",
       "DRIVAS, Dimitrios   100M Freestyle For Sailors  Bronze  \n",
       "MALOKINIS, Ioannis  100M Freestyle For Sailors    Gold  \n",
       "CHASAPIS, Spiridon  100M Freestyle For Sailors  Silver  "
      ],
      "text/html": [
       "<div>\n",
       "<style scoped>\n",
       "    .dataframe tbody tr th:only-of-type {\n",
       "        vertical-align: middle;\n",
       "    }\n",
       "\n",
       "    .dataframe tbody tr th {\n",
       "        vertical-align: top;\n",
       "    }\n",
       "\n",
       "    .dataframe thead th {\n",
       "        text-align: right;\n",
       "    }\n",
       "</style>\n",
       "<table border=\"1\" class=\"dataframe\">\n",
       "  <thead>\n",
       "    <tr style=\"text-align: right;\">\n",
       "      <th></th>\n",
       "      <th>Year</th>\n",
       "      <th>City</th>\n",
       "      <th>Sport</th>\n",
       "      <th>Discipline</th>\n",
       "      <th>Country</th>\n",
       "      <th>Gender</th>\n",
       "      <th>Event</th>\n",
       "      <th>Medal</th>\n",
       "    </tr>\n",
       "    <tr>\n",
       "      <th>Athlete</th>\n",
       "      <th></th>\n",
       "      <th></th>\n",
       "      <th></th>\n",
       "      <th></th>\n",
       "      <th></th>\n",
       "      <th></th>\n",
       "      <th></th>\n",
       "      <th></th>\n",
       "    </tr>\n",
       "  </thead>\n",
       "  <tbody>\n",
       "    <tr>\n",
       "      <th>HAJOS, Alfred</th>\n",
       "      <td>1896</td>\n",
       "      <td>Athens</td>\n",
       "      <td>Aquatics</td>\n",
       "      <td>Swimming</td>\n",
       "      <td>HUN</td>\n",
       "      <td>Men</td>\n",
       "      <td>100M Freestyle</td>\n",
       "      <td>Gold</td>\n",
       "    </tr>\n",
       "    <tr>\n",
       "      <th>HERSCHMANN, Otto</th>\n",
       "      <td>1896</td>\n",
       "      <td>Athens</td>\n",
       "      <td>Aquatics</td>\n",
       "      <td>Swimming</td>\n",
       "      <td>AUT</td>\n",
       "      <td>Men</td>\n",
       "      <td>100M Freestyle</td>\n",
       "      <td>Silver</td>\n",
       "    </tr>\n",
       "    <tr>\n",
       "      <th>DRIVAS, Dimitrios</th>\n",
       "      <td>1896</td>\n",
       "      <td>Athens</td>\n",
       "      <td>Aquatics</td>\n",
       "      <td>Swimming</td>\n",
       "      <td>GRE</td>\n",
       "      <td>Men</td>\n",
       "      <td>100M Freestyle For Sailors</td>\n",
       "      <td>Bronze</td>\n",
       "    </tr>\n",
       "    <tr>\n",
       "      <th>MALOKINIS, Ioannis</th>\n",
       "      <td>1896</td>\n",
       "      <td>Athens</td>\n",
       "      <td>Aquatics</td>\n",
       "      <td>Swimming</td>\n",
       "      <td>GRE</td>\n",
       "      <td>Men</td>\n",
       "      <td>100M Freestyle For Sailors</td>\n",
       "      <td>Gold</td>\n",
       "    </tr>\n",
       "    <tr>\n",
       "      <th>CHASAPIS, Spiridon</th>\n",
       "      <td>1896</td>\n",
       "      <td>Athens</td>\n",
       "      <td>Aquatics</td>\n",
       "      <td>Swimming</td>\n",
       "      <td>GRE</td>\n",
       "      <td>Men</td>\n",
       "      <td>100M Freestyle For Sailors</td>\n",
       "      <td>Silver</td>\n",
       "    </tr>\n",
       "  </tbody>\n",
       "</table>\n",
       "</div>"
      ]
     },
     "execution_count": 138,
     "metadata": {},
     "output_type": "execute_result"
    }
   ],
   "execution_count": 138
  },
  {
   "cell_type": "code",
   "metadata": {
    "ExecuteTime": {
     "end_time": "2024-10-14T13:50:23.271474Z",
     "start_time": "2024-10-14T13:50:23.268984Z"
    }
   },
   "source": [
    "#summer.index[0] = 'HAYOS, Alfred'"
   ],
   "outputs": [],
   "execution_count": 139
  },
  {
   "cell_type": "code",
   "metadata": {
    "scrolled": true,
    "ExecuteTime": {
     "end_time": "2024-10-14T13:50:23.322102Z",
     "start_time": "2024-10-14T13:50:23.311870Z"
    }
   },
   "source": [
    "summer.rename({\"HAJOS, Alfred\":'HAYOS, Alfred'}, axis = \"index\", inplace= True)"
   ],
   "outputs": [],
   "execution_count": 140
  },
  {
   "cell_type": "code",
   "metadata": {
    "ExecuteTime": {
     "end_time": "2024-10-14T13:50:23.364412Z",
     "start_time": "2024-10-14T13:50:23.355900Z"
    }
   },
   "source": [
    "summer.head()"
   ],
   "outputs": [
    {
     "data": {
      "text/plain": [
       "                    Year    City     Sport Discipline Country Gender  \\\n",
       "Athlete                                                                \n",
       "HAYOS, Alfred       1896  Athens  Aquatics   Swimming     HUN    Men   \n",
       "HERSCHMANN, Otto    1896  Athens  Aquatics   Swimming     AUT    Men   \n",
       "DRIVAS, Dimitrios   1896  Athens  Aquatics   Swimming     GRE    Men   \n",
       "MALOKINIS, Ioannis  1896  Athens  Aquatics   Swimming     GRE    Men   \n",
       "CHASAPIS, Spiridon  1896  Athens  Aquatics   Swimming     GRE    Men   \n",
       "\n",
       "                                         Event   Medal  \n",
       "Athlete                                                 \n",
       "HAYOS, Alfred                   100M Freestyle    Gold  \n",
       "HERSCHMANN, Otto                100M Freestyle  Silver  \n",
       "DRIVAS, Dimitrios   100M Freestyle For Sailors  Bronze  \n",
       "MALOKINIS, Ioannis  100M Freestyle For Sailors    Gold  \n",
       "CHASAPIS, Spiridon  100M Freestyle For Sailors  Silver  "
      ],
      "text/html": [
       "<div>\n",
       "<style scoped>\n",
       "    .dataframe tbody tr th:only-of-type {\n",
       "        vertical-align: middle;\n",
       "    }\n",
       "\n",
       "    .dataframe tbody tr th {\n",
       "        vertical-align: top;\n",
       "    }\n",
       "\n",
       "    .dataframe thead th {\n",
       "        text-align: right;\n",
       "    }\n",
       "</style>\n",
       "<table border=\"1\" class=\"dataframe\">\n",
       "  <thead>\n",
       "    <tr style=\"text-align: right;\">\n",
       "      <th></th>\n",
       "      <th>Year</th>\n",
       "      <th>City</th>\n",
       "      <th>Sport</th>\n",
       "      <th>Discipline</th>\n",
       "      <th>Country</th>\n",
       "      <th>Gender</th>\n",
       "      <th>Event</th>\n",
       "      <th>Medal</th>\n",
       "    </tr>\n",
       "    <tr>\n",
       "      <th>Athlete</th>\n",
       "      <th></th>\n",
       "      <th></th>\n",
       "      <th></th>\n",
       "      <th></th>\n",
       "      <th></th>\n",
       "      <th></th>\n",
       "      <th></th>\n",
       "      <th></th>\n",
       "    </tr>\n",
       "  </thead>\n",
       "  <tbody>\n",
       "    <tr>\n",
       "      <th>HAYOS, Alfred</th>\n",
       "      <td>1896</td>\n",
       "      <td>Athens</td>\n",
       "      <td>Aquatics</td>\n",
       "      <td>Swimming</td>\n",
       "      <td>HUN</td>\n",
       "      <td>Men</td>\n",
       "      <td>100M Freestyle</td>\n",
       "      <td>Gold</td>\n",
       "    </tr>\n",
       "    <tr>\n",
       "      <th>HERSCHMANN, Otto</th>\n",
       "      <td>1896</td>\n",
       "      <td>Athens</td>\n",
       "      <td>Aquatics</td>\n",
       "      <td>Swimming</td>\n",
       "      <td>AUT</td>\n",
       "      <td>Men</td>\n",
       "      <td>100M Freestyle</td>\n",
       "      <td>Silver</td>\n",
       "    </tr>\n",
       "    <tr>\n",
       "      <th>DRIVAS, Dimitrios</th>\n",
       "      <td>1896</td>\n",
       "      <td>Athens</td>\n",
       "      <td>Aquatics</td>\n",
       "      <td>Swimming</td>\n",
       "      <td>GRE</td>\n",
       "      <td>Men</td>\n",
       "      <td>100M Freestyle For Sailors</td>\n",
       "      <td>Bronze</td>\n",
       "    </tr>\n",
       "    <tr>\n",
       "      <th>MALOKINIS, Ioannis</th>\n",
       "      <td>1896</td>\n",
       "      <td>Athens</td>\n",
       "      <td>Aquatics</td>\n",
       "      <td>Swimming</td>\n",
       "      <td>GRE</td>\n",
       "      <td>Men</td>\n",
       "      <td>100M Freestyle For Sailors</td>\n",
       "      <td>Gold</td>\n",
       "    </tr>\n",
       "    <tr>\n",
       "      <th>CHASAPIS, Spiridon</th>\n",
       "      <td>1896</td>\n",
       "      <td>Athens</td>\n",
       "      <td>Aquatics</td>\n",
       "      <td>Swimming</td>\n",
       "      <td>GRE</td>\n",
       "      <td>Men</td>\n",
       "      <td>100M Freestyle For Sailors</td>\n",
       "      <td>Silver</td>\n",
       "    </tr>\n",
       "  </tbody>\n",
       "</table>\n",
       "</div>"
      ]
     },
     "execution_count": 141,
     "metadata": {},
     "output_type": "execute_result"
    }
   ],
   "execution_count": 141
  },
  {
   "cell_type": "code",
   "metadata": {
    "scrolled": true,
    "ExecuteTime": {
     "end_time": "2024-10-14T13:50:23.407664Z",
     "start_time": "2024-10-14T13:50:23.404469Z"
    }
   },
   "source": [
    "summer.rename({\"Gender\":'Sex', \"City\":\"Host_City\"}, axis = \"columns\", inplace=True)"
   ],
   "outputs": [],
   "execution_count": 142
  },
  {
   "cell_type": "code",
   "metadata": {
    "scrolled": true,
    "ExecuteTime": {
     "end_time": "2024-10-14T13:50:23.471511Z",
     "start_time": "2024-10-14T13:50:23.463618Z"
    }
   },
   "source": [
    "summer.head()"
   ],
   "outputs": [
    {
     "data": {
      "text/plain": [
       "                    Year Host_City     Sport Discipline Country  Sex  \\\n",
       "Athlete                                                                \n",
       "HAYOS, Alfred       1896    Athens  Aquatics   Swimming     HUN  Men   \n",
       "HERSCHMANN, Otto    1896    Athens  Aquatics   Swimming     AUT  Men   \n",
       "DRIVAS, Dimitrios   1896    Athens  Aquatics   Swimming     GRE  Men   \n",
       "MALOKINIS, Ioannis  1896    Athens  Aquatics   Swimming     GRE  Men   \n",
       "CHASAPIS, Spiridon  1896    Athens  Aquatics   Swimming     GRE  Men   \n",
       "\n",
       "                                         Event   Medal  \n",
       "Athlete                                                 \n",
       "HAYOS, Alfred                   100M Freestyle    Gold  \n",
       "HERSCHMANN, Otto                100M Freestyle  Silver  \n",
       "DRIVAS, Dimitrios   100M Freestyle For Sailors  Bronze  \n",
       "MALOKINIS, Ioannis  100M Freestyle For Sailors    Gold  \n",
       "CHASAPIS, Spiridon  100M Freestyle For Sailors  Silver  "
      ],
      "text/html": [
       "<div>\n",
       "<style scoped>\n",
       "    .dataframe tbody tr th:only-of-type {\n",
       "        vertical-align: middle;\n",
       "    }\n",
       "\n",
       "    .dataframe tbody tr th {\n",
       "        vertical-align: top;\n",
       "    }\n",
       "\n",
       "    .dataframe thead th {\n",
       "        text-align: right;\n",
       "    }\n",
       "</style>\n",
       "<table border=\"1\" class=\"dataframe\">\n",
       "  <thead>\n",
       "    <tr style=\"text-align: right;\">\n",
       "      <th></th>\n",
       "      <th>Year</th>\n",
       "      <th>Host_City</th>\n",
       "      <th>Sport</th>\n",
       "      <th>Discipline</th>\n",
       "      <th>Country</th>\n",
       "      <th>Sex</th>\n",
       "      <th>Event</th>\n",
       "      <th>Medal</th>\n",
       "    </tr>\n",
       "    <tr>\n",
       "      <th>Athlete</th>\n",
       "      <th></th>\n",
       "      <th></th>\n",
       "      <th></th>\n",
       "      <th></th>\n",
       "      <th></th>\n",
       "      <th></th>\n",
       "      <th></th>\n",
       "      <th></th>\n",
       "    </tr>\n",
       "  </thead>\n",
       "  <tbody>\n",
       "    <tr>\n",
       "      <th>HAYOS, Alfred</th>\n",
       "      <td>1896</td>\n",
       "      <td>Athens</td>\n",
       "      <td>Aquatics</td>\n",
       "      <td>Swimming</td>\n",
       "      <td>HUN</td>\n",
       "      <td>Men</td>\n",
       "      <td>100M Freestyle</td>\n",
       "      <td>Gold</td>\n",
       "    </tr>\n",
       "    <tr>\n",
       "      <th>HERSCHMANN, Otto</th>\n",
       "      <td>1896</td>\n",
       "      <td>Athens</td>\n",
       "      <td>Aquatics</td>\n",
       "      <td>Swimming</td>\n",
       "      <td>AUT</td>\n",
       "      <td>Men</td>\n",
       "      <td>100M Freestyle</td>\n",
       "      <td>Silver</td>\n",
       "    </tr>\n",
       "    <tr>\n",
       "      <th>DRIVAS, Dimitrios</th>\n",
       "      <td>1896</td>\n",
       "      <td>Athens</td>\n",
       "      <td>Aquatics</td>\n",
       "      <td>Swimming</td>\n",
       "      <td>GRE</td>\n",
       "      <td>Men</td>\n",
       "      <td>100M Freestyle For Sailors</td>\n",
       "      <td>Bronze</td>\n",
       "    </tr>\n",
       "    <tr>\n",
       "      <th>MALOKINIS, Ioannis</th>\n",
       "      <td>1896</td>\n",
       "      <td>Athens</td>\n",
       "      <td>Aquatics</td>\n",
       "      <td>Swimming</td>\n",
       "      <td>GRE</td>\n",
       "      <td>Men</td>\n",
       "      <td>100M Freestyle For Sailors</td>\n",
       "      <td>Gold</td>\n",
       "    </tr>\n",
       "    <tr>\n",
       "      <th>CHASAPIS, Spiridon</th>\n",
       "      <td>1896</td>\n",
       "      <td>Athens</td>\n",
       "      <td>Aquatics</td>\n",
       "      <td>Swimming</td>\n",
       "      <td>GRE</td>\n",
       "      <td>Men</td>\n",
       "      <td>100M Freestyle For Sailors</td>\n",
       "      <td>Silver</td>\n",
       "    </tr>\n",
       "  </tbody>\n",
       "</table>\n",
       "</div>"
      ]
     },
     "execution_count": 143,
     "metadata": {},
     "output_type": "execute_result"
    }
   ],
   "execution_count": 143
  },
  {
   "cell_type": "code",
   "metadata": {
    "ExecuteTime": {
     "end_time": "2024-10-14T13:50:23.533200Z",
     "start_time": "2024-10-14T13:50:23.531401Z"
    }
   },
   "source": [],
   "outputs": [],
   "execution_count": null
  }
 ],
 "metadata": {
  "kernelspec": {
   "display_name": "Python 3 (ipykernel)",
   "language": "python",
   "name": "python3"
  },
  "language_info": {
   "codemirror_mode": {
    "name": "ipython",
    "version": 3
   },
   "file_extension": ".py",
   "mimetype": "text/x-python",
   "name": "python",
   "nbconvert_exporter": "python",
   "pygments_lexer": "ipython3",
   "version": "3.11.7"
  }
 },
 "nbformat": 4,
 "nbformat_minor": 2
}
