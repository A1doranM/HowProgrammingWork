{
 "cells": [
  {
   "cell_type": "markdown",
   "metadata": {},
   "source": [
    "# Download the IMDB Dataset"
   ]
  },
  {
   "cell_type": "code",
   "execution_count": 1,
   "metadata": {
    "ExecuteTime": {
     "end_time": "2025-03-24T17:48:19.089938Z",
     "start_time": "2025-03-24T17:48:18.984730Z"
    }
   },
   "outputs": [],
   "source": [
    "# Download reviews.txt and labels.txt from here: https://github.com/udacity/deep-learning/tree/master/sentiment-network\n",
    "\n",
    "def pretty_print_review_and_label(i):\n",
    "   print(labels[i] + \"\\t:\\t\" + reviews[i][:80] + \"...\")\n",
    "\n",
    "g = open('reviews.txt','r') # What we know!\n",
    "reviews = list(map(lambda x:x[:-1],g.readlines()))\n",
    "g.close()\n",
    "\n",
    "g = open('labels.txt','r') # What we WANT to know!\n",
    "labels = list(map(lambda x:x[:-1].upper(),g.readlines()))\n",
    "g.close()"
   ]
  },
  {
   "cell_type": "markdown",
   "metadata": {},
   "source": [
    "# Capturing Word Correlation in Input Data"
   ]
  },
  {
   "cell_type": "code",
   "execution_count": 2,
   "metadata": {
    "ExecuteTime": {
     "end_time": "2025-03-24T17:48:19.253998Z",
     "start_time": "2025-03-24T17:48:19.091568Z"
    }
   },
   "outputs": [
    {
     "name": "stdout",
     "output_type": "stream",
     "text": [
      "Sent Encoding:[1 1 0 1]\n"
     ]
    }
   ],
   "source": [
    "import numpy as np\n",
    "\n",
    "onehots = {}\n",
    "onehots['cat'] = np.array([1,0,0,0])\n",
    "onehots['the'] = np.array([0,1,0,0])\n",
    "onehots['dog'] = np.array([0,0,1,0])\n",
    "onehots['sat'] = np.array([0,0,0,1])\n",
    "\n",
    "sentence = ['the','cat','sat']\n",
    "x = onehots[sentence[0]] + \\\n",
    "    onehots[sentence[1]] + \\\n",
    "    onehots[sentence[2]]\n",
    "\n",
    "print(\"Sent Encoding:\" + str(x))"
   ]
  },
  {
   "cell_type": "markdown",
   "metadata": {},
   "source": [
    "# Predicting Movie Reviews"
   ]
  },
  {
   "cell_type": "code",
   "execution_count": 3,
   "metadata": {
    "ExecuteTime": {
     "end_time": "2025-03-24T17:51:43.232671Z",
     "start_time": "2025-03-24T17:51:38.605740Z"
    }
   },
   "outputs": [],
   "source": [
    "import sys\n",
    "\n",
    "# 1) Reading the movie reviews\n",
    "f = open('reviews.txt')\n",
    "raw_reviews = f.readlines()\n",
    "f.close()\n",
    "\n",
    "# 'raw_reviews' is now a list of strings, each string is a movie review line.\n",
    "\n",
    "# 2) Reading the labels (positive/negative)\n",
    "f = open('labels.txt')\n",
    "raw_labels = f.readlines()\n",
    "f.close()\n",
    "\n",
    "# 'raw_labels' is now a list of strings, each string is either\n",
    "# 'positive\\n' or 'negative\\n'.\n",
    "\n",
    "# 3) Tokenizing reviews: split each review on spaces to get individual words\n",
    "#    then convert that list to a set (removing duplicates).\n",
    "tokens = list(map(lambda x: set(x.split(\" \")), raw_reviews))\n",
    "\n",
    "# Now 'tokens' is a list of sets of words:\n",
    "# Example: tokens[i] might be {\"this\", \"movie\", \"was\", \"awesome\\n\"}\n",
    "\n",
    "# 4) Build a global vocabulary of all unique words across all reviews\n",
    "vocab = set()\n",
    "for sent in tokens:\n",
    "    for word in sent:\n",
    "        if len(word) > 0:\n",
    "            vocab.add(word)\n",
    "# 'vocab' is now a set of all unique words encountered, ignoring empty strings.\n",
    "\n",
    "vocab = list(vocab)\n",
    "# Convert the set to a list so it has a fixed order (indexable).\n",
    "\n",
    "# 5) Create a mapping from word to index:\n",
    "#    Each unique word in 'vocab' is assigned a numeric ID.\n",
    "word2index = {}\n",
    "for i, word in enumerate(vocab):\n",
    "    word2index[word] = i\n",
    "\n",
    "# Example: word2index[\"movie\"] could be 0, word2index[\"great\"] could be 1, etc.\n",
    "\n",
    "# 6) Build the input dataset:\n",
    "#    For each review, convert the words to their indices.\n",
    "#    Then store these indices as a list (removing duplicates by using set).\n",
    "input_dataset = list()\n",
    "for sent in tokens:\n",
    "    sent_indices = list()\n",
    "    for word in sent:\n",
    "        try:\n",
    "            # If the word is in word2index, append its index\n",
    "            sent_indices.append(word2index[word])\n",
    "        except:\n",
    "            # If word isn't in dictionary (shouldn't happen if vocab built properly),\n",
    "            # ignore it.\n",
    "            pass\n",
    "    # Convert 'sent_indices' to a set to remove duplicates,\n",
    "    # then back to a list to store in input_dataset.\n",
    "    input_dataset.append(list(set(sent_indices)))\n",
    "\n",
    "# 'input_dataset' is now a list of lists:\n",
    "# e.g. input_dataset[i] = [23, 45, 122] means that review i\n",
    "# has words with these indices in the vocabulary.\n",
    "\n",
    "# 7) Build the target dataset from labels.txt:\n",
    "target_dataset = list()\n",
    "for label in raw_labels:\n",
    "    if label == 'positive\\n':\n",
    "        target_dataset.append(1)\n",
    "    else:\n",
    "        target_dataset.append(0)\n",
    "\n",
    "# So for each review, if 'labels.txt' has \"positive\\n\", we store 1,\n",
    "# otherwise 0 for negative.\n",
    "\n",
    "# 'target_dataset' is| now a list of 1s and 0s, parallel to 'input_dataset'.\n"
   ]
  },
  {
   "cell_type": "code",
   "execution_count": 4,
   "metadata": {
    "ExecuteTime": {
     "end_time": "2025-03-24T17:51:48.919932Z",
     "start_time": "2025-03-24T17:51:43.234289Z"
    }
   },
   "outputs": [
    {
     "name": "stdout",
     "output_type": "stream",
     "text": [
      "Iter:0 Progress:95.99% Training Accuracy:0.8323333333333334%%\n",
      "Iter:1 Progress:95.99% Training Accuracy:0.8661875%193582%7%\n",
      "Test Accuracy:0.852\n"
     ]
    }
   ],
   "source": [
    "import numpy as np\n",
    "import sys\n",
    "\n",
    "np.random.seed(1)  # Fix seed for reproducibility\n",
    "\n",
    "def sigmoid(x):\n",
    "    # The sigmoid activation function: outputs values in (0,1).\n",
    "    # For input x, output = 1 / (1 + e^-x).\n",
    "    return 1 / (1 + np.exp(-x))\n",
    "\n",
    "alpha, iterations = (0.01, 2)\n",
    "# alpha = learning rate\n",
    "# iterations = how many times we'll pass through the training set\n",
    "\n",
    "hidden_size = 100\n",
    "# The dimensionality of our \"hidden representation\" or embedding.\n",
    "\n",
    "# weights_0_1 is an embedding matrix of shape (vocab_size, hidden_size).\n",
    "#   Each row corresponds to a word in the vocabulary,\n",
    "#   each column is a dimension in the embedding space.\n",
    "weights_0_1 = 0.2*np.random.random((len(vocab), hidden_size)) - 0.1\n",
    "\n",
    "# weights_1_2 is a matrix of shape (hidden_size, 1).\n",
    "#   This connects the hidden embedding vector to the final output (one number).\n",
    "weights_1_2 = 0.2*np.random.random((hidden_size, 1)) - 0.1\n",
    "\n",
    "correct, total = (0, 0)  # We'll track training accuracy during training.\n",
    "\n",
    "for iter in range(iterations):\n",
    "    # We'll do multiple epochs; in this code, just 2 epochs (iterations=2).\n",
    "    \n",
    "    # Train on first (len(input_dataset)-1000) reviews\n",
    "    for i in range(len(input_dataset) - 1000):\n",
    "\n",
    "        x = input_dataset[i]    # Indices of words in the i-th review.\n",
    "        y = target_dataset[i]   # 0 or 1 for the i-th review's label.\n",
    "\n",
    "        # 1) EMBEDDING LOOKUP + SUM\n",
    "        # weights_0_1[x] returns the embeddings for all words in the review,\n",
    "        # shape (#words_in_review, hidden_size).\n",
    "        # Summation across axis=0 => we get a single vector of shape (hidden_size,).\n",
    "        layer_1 = sigmoid(np.sum(weights_0_1[x], axis=0))\n",
    "        # We apply sigmoid after summing, so each dimension is between (0,1).\n",
    "\n",
    "        # 2) PREDICTION LAYER\n",
    "        # Dot product: (hidden_size,) dot (hidden_size,1) => scalar => apply sigmoid.\n",
    "        layer_2 = sigmoid(np.dot(layer_1, weights_1_2))\n",
    "\n",
    "        # 3) CALCULATE ERROR\n",
    "        # Compare prediction (layer_2) to target y.\n",
    "        layer_2_delta = layer_2 - y  # If y=1, want layer_2 close to 1; if y=0, want layer_2 close to 0.\n",
    "\n",
    "        # 4) BACKPROP TO HIDDEN\n",
    "        # We push error back through weights_1_2: shape => (1,) dot (1, hidden_size)\n",
    "        # but actually we do a simpler approach: (layer_2_delta * weights_1_2^T).\n",
    "        layer_1_delta = layer_2_delta.dot(weights_1_2.T)\n",
    "        # This gives how each hidden dimension contributed to the final error.\n",
    "\n",
    "        # 5) UPDATE WEIGHTS\n",
    "        # a) Update embedding matrix weights_0_1 for each word in x\n",
    "        # We do 'weights_0_1[x] -= layer_1_delta * alpha' in place for all words in the review.\n",
    "        #   This spreads the gradient to each word's embedding that participated in the sum.\n",
    "        weights_0_1[x] -= layer_1_delta * alpha\n",
    "\n",
    "        # b) Update weights_1_2\n",
    "        # We'll do an outer product of (layer_1) (shape (hidden_size,))\n",
    "        # with (layer_2_delta) (shape (1,)) => shape (hidden_size, 1)\n",
    "        weights_1_2 -= np.outer(layer_1, layer_2_delta) * alpha\n",
    "\n",
    "        # 6) TRACK TRAINING ACCURACY\n",
    "        # If (layer_2 - y) is < 0.5 in absolute value, we consider it a correct guess.\n",
    "        # (This is a somewhat unusual measure, but used here as a rough approximation.)\n",
    "        if np.abs(layer_2_delta) < 0.5:\n",
    "            correct += 1\n",
    "        total += 1\n",
    "\n",
    "        # Show progress every 10 reviews\n",
    "        if (i % 10) == 9:\n",
    "            # progress is fraction of how far we are through the training portion\n",
    "            progress = str(i / float(len(input_dataset)))\n",
    "            sys.stdout.write(\n",
    "                '\\rIter:' + str(iter)\n",
    "                + ' Progress:' + progress[2:4] + '.' + progress[4:6] + '%'\n",
    "                + ' Training Accuracy:' + str(correct / float(total)) + '%'\n",
    "            )\n",
    "    print()\n",
    "\n",
    "# 7) AFTER TRAINING, EVALUATE ON LAST 1000 REVIEWS\n",
    "correct, total = (0, 0)\n",
    "for i in range(len(input_dataset) - 1000, len(input_dataset)):\n",
    "\n",
    "    x = input_dataset[i]  # word indices for this test review\n",
    "    y = target_dataset[i] # 0 or 1 for test label\n",
    "\n",
    "    # FORWARD PASS ONLY (no training updates)\n",
    "    layer_1 = sigmoid(np.sum(weights_0_1[x], axis=0))\n",
    "    layer_2 = sigmoid(np.dot(layer_1, weights_1_2))\n",
    "\n",
    "    # If the difference between pred and label is < 0.5, call it correct\n",
    "    if np.abs(layer_2 - y) < 0.5:\n",
    "        correct += 1\n",
    "    total += 1\n",
    "\n",
    "print(\"Test Accuracy:\" + str(correct / float(total)))\n"
   ]
  },
  {
   "cell_type": "code",
   "execution_count": 5,
   "metadata": {
    "ExecuteTime": {
     "end_time": "2025-03-24T17:51:48.928217Z",
     "start_time": "2025-03-24T17:51:48.921430Z"
    }
   },
   "outputs": [
    {
     "data": {
      "text/plain": [
       "{'',\n",
       " '\\n',\n",
       " '.',\n",
       " 'a',\n",
       " 'about',\n",
       " 'adults',\n",
       " 'age',\n",
       " 'all',\n",
       " 'and',\n",
       " 'as',\n",
       " 'at',\n",
       " 'believe',\n",
       " 'bromwell',\n",
       " 'burn',\n",
       " 'can',\n",
       " 'cartoon',\n",
       " 'classic',\n",
       " 'closer',\n",
       " 'comedy',\n",
       " 'down',\n",
       " 'episode',\n",
       " 'expect',\n",
       " 'far',\n",
       " 'fetched',\n",
       " 'financially',\n",
       " 'here',\n",
       " 'high',\n",
       " 'i',\n",
       " 'immediately',\n",
       " 'in',\n",
       " 'insightful',\n",
       " 'inspector',\n",
       " 'is',\n",
       " 'isn',\n",
       " 'it',\n",
       " 'knew',\n",
       " 'lead',\n",
       " 'life',\n",
       " 'line',\n",
       " 'm',\n",
       " 'many',\n",
       " 'me',\n",
       " 'much',\n",
       " 'my',\n",
       " 'of',\n",
       " 'one',\n",
       " 'other',\n",
       " 'pathetic',\n",
       " 'pettiness',\n",
       " 'pity',\n",
       " 'pomp',\n",
       " 'profession',\n",
       " 'programs',\n",
       " 'ran',\n",
       " 'reality',\n",
       " 'recalled',\n",
       " 'remind',\n",
       " 'repeatedly',\n",
       " 'right',\n",
       " 's',\n",
       " 'sack',\n",
       " 'same',\n",
       " 'satire',\n",
       " 'saw',\n",
       " 'school',\n",
       " 'schools',\n",
       " 'scramble',\n",
       " 'see',\n",
       " 'situation',\n",
       " 'some',\n",
       " 'student',\n",
       " 'students',\n",
       " 'such',\n",
       " 'survive',\n",
       " 't',\n",
       " 'teachers',\n",
       " 'teaching',\n",
       " 'than',\n",
       " 'that',\n",
       " 'the',\n",
       " 'their',\n",
       " 'think',\n",
       " 'through',\n",
       " 'time',\n",
       " 'to',\n",
       " 'tried',\n",
       " 'welcome',\n",
       " 'what',\n",
       " 'when',\n",
       " 'which',\n",
       " 'who',\n",
       " 'whole',\n",
       " 'years',\n",
       " 'your'}"
      ]
     },
     "execution_count": 5,
     "metadata": {},
     "output_type": "execute_result"
    }
   ],
   "source": [
    "tokens[0]"
   ]
  },
  {
   "cell_type": "markdown",
   "metadata": {},
   "source": [
    "# Comparing Word Embeddings"
   ]
  },
  {
   "cell_type": "code",
   "execution_count": 9,
   "metadata": {},
   "outputs": [],
   "source": [
    "from collections import Counter\n",
    "import math \n",
    "\n",
    "def similar(target='beautiful'):\n",
    "    # 'target' is the word we want to find neighbors (similar words) for.\n",
    "    # We'll compare all other words to this target.\n",
    "\n",
    "    target_index = word2index[target]\n",
    "    # Lookup the integer index for the target word from 'word2index'.\n",
    "    # 'word2index' maps each word to its index in 'weights_0_1'.\n",
    "\n",
    "    scores = Counter()\n",
    "    # We'll keep track of each word's similarity score in a Counter.\n",
    "    # A Counter in Python lets us easily retrieve top results with 'most_common'.\n",
    "\n",
    "    for word, index in word2index.items():\n",
    "        # Loop through each word in the vocabulary, along with its integer index.\n",
    "        \n",
    "        raw_difference = weights_0_1[index] - weights_0_1[target_index]\n",
    "        # Subtract the target word's embedding from the current word's embedding.\n",
    "        # This yields a vector representing the difference between the two embeddings.\n",
    "\n",
    "        squared_difference = raw_difference * raw_difference\n",
    "        # Elementwise square of that difference vector.\n",
    "\n",
    "        # Euclidean distance = sqrt of the sum of squared differences.\n",
    "        # We'll calculate it and then store the NEGATIVE distance in 'scores'.\n",
    "        # Why negative? Because Counter.most_common() sorts by largest value,\n",
    "        # so storing negative distance effectively makes 'closest' words rank first.\n",
    "        scores[word] = -math.sqrt(sum(squared_difference))\n",
    "\n",
    "    # Return the top 10 entries from the Counter (the words with smallest distance).\n",
    "    # 'most_common(10)' will give us the words with the \"highest\" (least negative)\n",
    "    # values, i.e., the smallest Euclidean distance from the target.\n",
    "    return scores.most_common(10)\n"
   ]
  },
  {
   "cell_type": "code",
   "execution_count": 7,
   "metadata": {},
   "outputs": [
    {
     "name": "stdout",
     "output_type": "stream",
     "text": [
      "[('beautiful', -0.0), ('cry', -0.70018246771713), ('entertaining', -0.7042909118877329), ('beautifully', -0.7533394067175685), ('simple', -0.7570735834153209), ('shows', -0.7614350096609824), ('favorite', -0.7631952942752108), ('fun', -0.7687566747677717), ('realistic', -0.7690851907215188), ('surprisingly', -0.7710630434834971)]\n"
     ]
    }
   ],
   "source": [
    "print(similar('beautiful'))"
   ]
  },
  {
   "cell_type": "code",
   "execution_count": 8,
   "metadata": {},
   "outputs": [
    {
     "name": "stdout",
     "output_type": "stream",
     "text": [
      "[('terrible', -0.0), ('lacks', -0.7401188100674893), ('fails', -0.7779077291892439), ('annoying', -0.7933438656652453), ('boring', -0.8071440180566011), ('disappointment', -0.80910574818041), ('worse', -0.8402021942764264), ('dull', -0.8488233841444136), ('horrible', -0.8491939210237277), ('laughable', -0.8562760637276858)]\n"
     ]
    }
   ],
   "source": [
    "print(similar('terrible'))"
   ]
  },
  {
   "cell_type": "markdown",
   "metadata": {},
   "source": [
    "# Filling in the Blank"
   ]
  },
  {
   "cell_type": "code",
   "execution_count": 10,
   "metadata": {},
   "outputs": [
    {
     "name": "stdout",
     "output_type": "stream",
     "text": [
      "Progress:0.36714 [('terrible', -0.0), ('horrible', -3.141910035029569), ('brilliant', -3.672210219060791), ('superb', -3.925677405794538), ('lame', -4.059408572809917), ('fine', -4.129043029429027), ('laughable', -4.16314118653493), ('fantastic', -4.175484995853935), ('pathetic', -4.270327456356103), ('bad', -4.279061942789954)]250625)])]1440742)]7280948)])]"
     ]
    },
    {
     "ename": "KeyboardInterrupt",
     "evalue": "",
     "output_type": "error",
     "traceback": [
      "\u001b[0;31m---------------------------------------------------------------------------\u001b[0m",
      "\u001b[0;31mKeyboardInterrupt\u001b[0m                         Traceback (most recent call last)",
      "Cell \u001b[0;32mIn[10], line 75\u001b[0m\n\u001b[1;32m     72\u001b[0m   layer_1_delta \u001b[38;5;241m=\u001b[39m layer_2_delta\u001b[38;5;241m.\u001b[39mdot(weights_1_2[target_samples])\n\u001b[1;32m     74\u001b[0m   weights_0_1[left_context\u001b[38;5;241m+\u001b[39mright_context] \u001b[38;5;241m-\u001b[39m\u001b[38;5;241m=\u001b[39m layer_1_delta \u001b[38;5;241m*\u001b[39m alpha\n\u001b[0;32m---> 75\u001b[0m   weights_1_2[target_samples] \u001b[38;5;241m-\u001b[39m\u001b[38;5;241m=\u001b[39m np\u001b[38;5;241m.\u001b[39mouter(layer_2_delta,layer_1)\u001b[38;5;241m*\u001b[39malpha\n\u001b[1;32m     77\u001b[0m \u001b[38;5;28;01mif\u001b[39;00m(rev_i \u001b[38;5;241m%\u001b[39m \u001b[38;5;241m250\u001b[39m \u001b[38;5;241m==\u001b[39m \u001b[38;5;241m0\u001b[39m):\n\u001b[1;32m     78\u001b[0m   sys\u001b[38;5;241m.\u001b[39mstdout\u001b[38;5;241m.\u001b[39mwrite(\u001b[38;5;124m'\u001b[39m\u001b[38;5;130;01m\\r\u001b[39;00m\u001b[38;5;124mProgress:\u001b[39m\u001b[38;5;124m'\u001b[39m\u001b[38;5;241m+\u001b[39m\u001b[38;5;28mstr\u001b[39m(rev_i\u001b[38;5;241m/\u001b[39m\u001b[38;5;28mfloat\u001b[39m(\u001b[38;5;28mlen\u001b[39m(input_dataset)\n\u001b[1;32m     79\u001b[0m       \u001b[38;5;241m*\u001b[39miterations)) \u001b[38;5;241m+\u001b[39m \u001b[38;5;124m\"\u001b[39m\u001b[38;5;124m   \u001b[39m\u001b[38;5;124m\"\u001b[39m \u001b[38;5;241m+\u001b[39m \u001b[38;5;28mstr\u001b[39m(similar(\u001b[38;5;124m'\u001b[39m\u001b[38;5;124mterrible\u001b[39m\u001b[38;5;124m'\u001b[39m)))\n",
      "\u001b[0;31mKeyboardInterrupt\u001b[0m: "
     ]
    }
   ],
   "source": [
    "import sys, random, math\n",
    "from collections import Counter\n",
    "import numpy as np\n",
    "\n",
    "# Fix random seeds for reproducible results\n",
    "np.random.seed(1)\n",
    "random.seed(1)\n",
    "\n",
    "# 1) READ THE RAW REVIEW TEXT\n",
    "f = open('reviews.txt')\n",
    "raw_reviews = f.readlines()\n",
    "f.close()\n",
    "\n",
    "# 2) TOKENIZE REVIEWS\n",
    "# Each line in 'raw_reviews' is split on spaces, forming a list of lists of tokens.\n",
    "tokens = list(map(lambda x: (x.split(\" \")), raw_reviews))\n",
    "\n",
    "# 3) BUILD A COUNTER OF WORD FREQUENCIES\n",
    "wordcnt = Counter()\n",
    "for sent in tokens:\n",
    "    for word in sent:\n",
    "        # We do 'wordcnt[word] -= 1' which effectively means the more frequent the word,\n",
    "        # the larger the negative number (since we subtract).\n",
    "        # It's unusual to do negative counts, but it might be for a sorting trick:\n",
    "        # words with highest absolute count appear first when we do most_common().\n",
    "        wordcnt[word] -= 1\n",
    "\n",
    "# 4) CREATE A VOCABULARY LIST\n",
    "# 'most_common()' gives pairs (word, count) sorted by count in ascending order\n",
    "# (because we used negative counts).\n",
    "vocab = list(set(map(lambda x: x[0], wordcnt.most_common())))\n",
    "\n",
    "# 5) BUILD A MAPPING FROM WORD TO INDEX\n",
    "word2index = {}\n",
    "for i, word in enumerate(vocab):\n",
    "    word2index[word] = i\n",
    "\n",
    "# 6) CREATE 'input_dataset' AND 'concatenated'\n",
    "#    'input_dataset' will be a list of lists (each containing word indices for one review).\n",
    "#    'concatenated' is a single array of all word indices in all reviews, for negative sampling.\n",
    "concatenated = list()\n",
    "input_dataset = list()\n",
    "for sent in tokens:\n",
    "    sent_indices = list()\n",
    "    for word in sent:\n",
    "        try:\n",
    "            sent_indices.append(word2index[word])\n",
    "            # We also append to 'concatenated' to keep track of all word indices.\n",
    "            concatenated.append(word2index[word])\n",
    "        except:\n",
    "            # If for some reason the word isn't in 'word2index' (shouldn't happen if built correctly), ignore it.\n",
    "            pass\n",
    "    input_dataset.append(sent_indices)\n",
    "\n",
    "# Convert 'concatenated' to a NumPy array and shuffle 'input_dataset' to randomize the order of reviews.\n",
    "concatenated = np.array(concatenated)\n",
    "random.shuffle(input_dataset)\n",
    "\n",
    "# 7) SET HYPERPARAMETERS\n",
    "alpha, iterations = (0.05, 2)        # Learning rate and how many passes (epochs)\n",
    "hidden_size, window, negative = (50, 2, 5)\n",
    "# hidden_size: dimension of the hidden layer / word embeddings\n",
    "# window: how many words on the left/right to consider as context\n",
    "# negative: how many negative samples to draw for each true target\n",
    "\n",
    "# 8) INITIALIZE WEIGHTS\n",
    "# weights_0_1: shape (vocab_size, hidden_size). Each row is an embedding for one word.\n",
    "weights_0_1 = (np.random.rand(len(vocab), hidden_size) - 0.5) * 0.2\n",
    "\n",
    "# weights_1_2: shape (vocab_size, hidden_size). \n",
    "# For negative sampling approach, we store a vector for each word in the output space as well.\n",
    "# Initialized to zero here.\n",
    "weights_1_2 = np.random.rand(len(vocab), hidden_size) * 0\n",
    "\n",
    "# 9) PREPARE THE TARGET VECTOR FOR NEGATIVE SAMPLING\n",
    "# layer_2_target has length = negative + 1 => e.g. 6 total if negative=5\n",
    "# The first element = 1 (the true word), the rest = 0 (the negative samples).\n",
    "layer_2_target = np.zeros(negative + 1)\n",
    "layer_2_target[0] = 1\n",
    "\n",
    "# 10) SIMILARITY FUNCTION\n",
    "# Returns the 10 closest words to 'target' in embedding space (Euclidean distance).\n",
    "def similar(target='beautiful'):\n",
    "    target_index = word2index[target]\n",
    "    scores = Counter()\n",
    "    for word, index in word2index.items():\n",
    "        raw_difference = weights_0_1[index] - weights_0_1[target_index]\n",
    "        squared_difference = raw_difference * raw_difference\n",
    "        scores[word] = -math.sqrt(sum(squared_difference))\n",
    "    return scores.most_common(10)\n",
    "\n",
    "# 11) DEFINE SIGMOID ACTIVATION\n",
    "def sigmoid(x):\n",
    "    return 1 / (1 + np.exp(-x))\n",
    "\n",
    "# 12) TRAINING LOOP\n",
    "# We'll iterate over input_dataset multiple times (in total 'iterations' times).\n",
    "for rev_i, review in enumerate(input_dataset * iterations):\n",
    "\n",
    "    # For each word in 'review', we will pick it as the \"missing\" word (target).\n",
    "    for target_i in range(len(review)):\n",
    "\n",
    "        # a) SELECT NEGATIVE SAMPLES\n",
    "        # 'target_samples' = the true word's index + some random words (negative samples).\n",
    "        target_samples = [review[target_i]] + list(\n",
    "            concatenated[(np.random.rand(negative) * len(concatenated)).astype('int').tolist()]\n",
    "        )\n",
    "\n",
    "        # b) BUILD CONTEXT\n",
    "        #   left_context are the words in the 'window' to the left,\n",
    "        #   right_context are the words in the 'window' to the right.\n",
    "        left_context = review[max(0, target_i - window) : target_i]\n",
    "        right_context = review[target_i + 1 : min(len(review), target_i + window)]\n",
    "\n",
    "        # c) FORWARD PASS\n",
    "        #   1) layer_1 = mean of the embeddings of context words from weights_0_1\n",
    "        layer_1 = np.mean(weights_0_1[left_context + right_context], axis=0)\n",
    "\n",
    "        #   2) layer_2 = sigmoid( layer_1 dot weights_1_2 for each sample in target_samples )\n",
    "        #   shape: (negative+1,) => first index is the true target word\n",
    "        layer_2 = sigmoid(layer_1.dot(weights_1_2[target_samples].T))\n",
    "\n",
    "        # d) BACKPROP\n",
    "        #   1) layer_2_delta = (predicted - target). target is [1,0,0,0,0,...]\n",
    "        layer_2_delta = layer_2 - layer_2_target\n",
    "\n",
    "        #   2) layer_1_delta: push error back to 'layer_1' via weights_1_2\n",
    "        layer_1_delta = layer_2_delta.dot(weights_1_2[target_samples])\n",
    "\n",
    "        # e) WEIGHT UPDATES\n",
    "        #   1) Update embeddings for context words\n",
    "        #      Subtract the error gradient from each context word's embedding.\n",
    "        weights_0_1[left_context + right_context] -= layer_1_delta * alpha\n",
    "\n",
    "        #   2) Update weights_1_2 for each sampled word\n",
    "        #      outer product of (layer_2_delta) and (layer_1).\n",
    "        #      shape: (negative+1, hidden_size)\n",
    "        weights_1_2[target_samples] -= np.outer(layer_2_delta, layer_1) * alpha\n",
    "\n",
    "    # Print progress every 250 reviews\n",
    "    if (rev_i % 250) == 0:\n",
    "        sys.stdout.write(\n",
    "            '\\rProgress:' + str(rev_i / float(len(input_dataset) * iterations))\n",
    "            + \"   \" + str(similar('terrible'))\n",
    "        )\n",
    "    # Also print progress after each review\n",
    "    sys.stdout.write(\n",
    "        '\\rProgress:' + str(rev_i / float(len(input_dataset) * iterations))\n",
    "    )\n",
    "\n",
    "# After training, show the 10 most similar words to 'terrible'.\n",
    "print(similar('terrible'))\n"
   ]
  },
  {
   "cell_type": "code",
   "execution_count": null,
   "metadata": {},
   "outputs": [],
   "source": [
    "def analogy(positive=['terrible','good'],negative=['bad']):\n",
    "    \n",
    "    norms = np.sum(weights_0_1 * weights_0_1,axis=1)\n",
    "    norms.resize(norms.shape[0],1)\n",
    "    \n",
    "    normed_weights = weights_0_1 * norms\n",
    "    \n",
    "    query_vect = np.zeros(len(weights_0_1[0]))\n",
    "    for word in positive:\n",
    "        query_vect += normed_weights[word2index[word]]\n",
    "    for word in negative:\n",
    "        query_vect -= normed_weights[word2index[word]]\n",
    "    \n",
    "    scores = Counter()\n",
    "    for word,index in word2index.items():\n",
    "        raw_difference = weights_0_1[index] - query_vect\n",
    "        squared_difference = raw_difference * raw_difference\n",
    "        scores[word] = -math.sqrt(sum(squared_difference))\n",
    "        \n",
    "    return scores.most_common(10)[1:]"
   ]
  },
  {
   "cell_type": "code",
   "execution_count": 71,
   "metadata": {},
   "outputs": [
    {
     "data": {
      "text/plain": [
       "[('terrific', -210.46593317724228),\n",
       " ('perfect', -210.52652806032205),\n",
       " ('worth', -210.53162266358495),\n",
       " ('good', -210.55072184482773),\n",
       " ('terrible', -210.58429046605724),\n",
       " ('decent', -210.87945442008805),\n",
       " ('superb', -211.01143515971094),\n",
       " ('great', -211.1327058081335),\n",
       " ('worthy', -211.13577238103477)]"
      ]
     },
     "execution_count": 71,
     "metadata": {},
     "output_type": "execute_result"
    }
   ],
   "source": [
    "analogy(['terrible','good'],['bad'])"
   ]
  },
  {
   "cell_type": "code",
   "execution_count": 72,
   "metadata": {},
   "outputs": [
    {
     "data": {
      "text/plain": [
       "[('simon', -193.82490698964878),\n",
       " ('obsessed', -193.91805919583555),\n",
       " ('stanwyck', -194.22311983847902),\n",
       " ('sandler', -194.22846640800597),\n",
       " ('branagh', -194.24551334589853),\n",
       " ('daniel', -194.24631020485714),\n",
       " ('peter', -194.29908544092078),\n",
       " ('tony', -194.31388897167716),\n",
       " ('aged', -194.35115773165094)]"
      ]
     },
     "execution_count": 72,
     "metadata": {},
     "output_type": "execute_result"
    }
   ],
   "source": [
    "analogy(['elizabeth','he'],['she'])"
   ]
  },
  {
   "cell_type": "code",
   "execution_count": null,
   "metadata": {},
   "outputs": [],
   "source": []
  }
 ],
 "metadata": {
  "kernelspec": {
   "display_name": "venv",
   "language": "python",
   "name": "python3"
  },
  "language_info": {
   "codemirror_mode": {
    "name": "ipython",
    "version": 3
   },
   "file_extension": ".py",
   "mimetype": "text/x-python",
   "name": "python",
   "nbconvert_exporter": "python",
   "pygments_lexer": "ipython3",
   "version": "3.10.12"
  }
 },
 "nbformat": 4,
 "nbformat_minor": 2
}
