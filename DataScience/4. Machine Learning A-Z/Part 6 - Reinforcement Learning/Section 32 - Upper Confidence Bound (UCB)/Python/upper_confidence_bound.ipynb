{
 "nbformat": 4,
 "nbformat_minor": 0,
 "metadata": {
  "colab": {
   "name": "Upper Confidence Bound",
   "provenance": [],
   "collapsed_sections": [],
   "toc_visible": true,
   "authorship_tag": "ABX9TyMz+roSgJuEsprRsPKmwoVD"
  },
  "kernelspec": {
   "name": "python3",
   "display_name": "Python 3"
  }
 },
 "cells": [
  {
   "cell_type": "markdown",
   "metadata": {},
   "source": "# What is UCB (Upper Confidence Bound)?\n\nA strategy for **choosing between options while learning** (the “multi-armed bandit” problem).\nRule of thumb: **“Try the thing that looks best, plus a bonus for uncertainty.”**\nThat bonus makes you **explore** options you don’t know well yet, instead of getting stuck too early.\n\nThink shopkeeper problem: you can feature **one** product at the top of your homepage each visit. You see if it gets a click/buy (reward), then immediately pick again for the next visitor. Which product should you show **today** while still learning?\n\n---\n\n# Core formula (UCB1)\n\nFor each option (arm) (i) at round (t):\n\n[\n\\\\text{UCB}_i(t) ;=; \\\\overline{r}_i ;+; \\\\sqrt{\\\\frac{2\\\\ln t}{n_i}}\n]\n\n* (\\\\overline{r}_i): current **average reward** for option (i) (e.g., click-through rate), using what you’ve seen so far.\n* (n_i): how many times you tried option (i).\n* (t): total number of trials so far (1,2,3,…)\n* The second term is the **exploration bonus**: big when (n_i) is small (we’re unsure), and it **shrinks** as we try (i) more.\n\n> Reward should be **bounded** in ([0,1]) (e.g., click = 1, no click = 0). If not, **scale** it.\n\n---\n\n# Step-by-step guide (shop example)\n\n**Goal:** pick among 3 banners (A, B, C) for each visitor to maximize clicks.\n**Reward:** click = 1, no click = 0.\n**Plan:** start by trying each banner once, then use UCB formula forever after.\n\n### Step 0 — Initialize\n\n* Set (\\\\overline{r}_A=\\\\overline{r}_B=\\\\overline{r}_C=0), (n_A=n_B=n_C=0), (t=0).\n\n### Step 1 — Try each option once (warm-up)\n\n* Round 1: show A → say user clicked → reward 1.\n  Update: (n_A=1, \\\\overline{r}_A=1.0, t=1).\n* Round 2: show B → no click → reward 0.\n  Update: (n_B=1, \\\\overline{r}_B=0.0, t=2).\n* Round 3: show C → click → reward 1.\n  Update: (n_C=1, \\\\overline{r}_C=1.0, t=3).\n\n### Round 4 — Compute UCBs, pick the max\n\nUse (\\\\text{UCB}=\\\\overline{r}+\\\\sqrt{\\\\tfrac{2\\\\ln t}{n}}) with (t=4) (and (\\\\ln 4\\\\approx1.386)):\n\n* A: (1.0 + \\\\sqrt{(2\\\\cdot1.386)/1} \\\\approx 1.0 + 1.665 = 2.665)\n* B: (0.0 + 1.665 = 1.665)\n* C: (1.0 + 1.665 = 2.665)\n\nPick the **largest** (tie → break arbitrarily). Suppose we choose **A**.\n\nAssume Round 4 reward for A = 0 (no click).\nUpdate: (n_A=2,; \\\\overline{r}_A=(1+0)/2=0.5,; t=4\\\\to5).\n\n### Round 5 — Recompute & pick again\n\nNow (t=5) ((\\\\ln 5\\\\approx1.609)):\n\n* A: (0.5 + \\\\sqrt{(2\\\\cdot1.609)/2} = 0.5 + \\\\sqrt{1.609} \\\\approx 0.5 + 1.269 = 1.769)\n* B: (0.0 + \\\\sqrt{3.218} \\\\approx 1.793)\n* C: (1.0 + 1.793 = 2.793)\n\nPick **C** (largest). Suppose C clicks (reward 1):\nUpdate: (n_C=2,; \\\\overline{r}_C=(1+1)/2=1.0,; t=5\\\\to6).\n\n### Keep going…\n\nAs (n_i) grows, the bonus **shrinks** for well-explored options.\n\n* A and C have decent knowledge now, so B (still uncertain) will periodically get pulled **up** by its larger bonus and be tested again.\n* Over time, UCB balances **exploration** (try B sometimes) with **exploitation** (mostly show the best-looking banner).\n\n---\n\n# Why UCB works (intuitively)\n\n* It’s **optimistic under uncertainty**: give each option the benefit of the doubt, proportional to how little we know about it.\n* If an option is truly worse, its average won’t improve, and the bonus shrinks → it gets chosen less and less.\n* If an option is secretly good, its bonus keeps it in play until we learn that its average reward is high.\n\n---\n\n# Pseudocode (UCB1)\n\n```\nInput: K arms, horizon T\nPlay each arm once:\n  for i in 1..K:\n    r = pull(i)                   # 0/1 reward (or scaled to [0,1])\n    n[i] = 1\n    avg[i] = r\nt = K\nLoop t = K+1..T:\n  for i in 1..K:\n    ucb[i] = avg[i] + sqrt( (2*ln(t)) / n[i] )\n  a = argmax_i ucb[i]\n  r = pull(a)\n  n[a] += 1\n  avg[a] = avg[a] + (r - avg[a]) / n[a]   # incremental mean update\n```\n\n---\n\n# Python (minimal, ready to paste)\n\n```python\nimport math\nimport random\n\ndef ucb1(arms, T):\n    '''\n    arms: list of callables returning a reward in [0,1], e.g., lambda: random.random() < 0.12\n    T: number of rounds\n    '''\n    K = len(arms)\n    n = [0]*K\n    avg = [0.0]*K\n    history = []\n\n    # warm-up: play each arm once\n    for i in range(K):\n        r = arms[i]()\n        n[i] = 1\n        avg[i] = r\n        history.append((i, r))\n\n    for t in range(K+1, T+1):\n        ucb = [avg[i] + math.sqrt((2.0*math.log(t))/n[i]) for i in range(K)]\n        a = max(range(K), key=lambda i: ucb[i])\n        r = arms[a]()\n        n[a] += 1\n        avg[a] += (r - avg[a]) / n[a]\n        history.append((a, r))\n    return n, avg, history\n\n# Example: true click probs for A,B,C\nrandom.seed(42)\narms = [\n    lambda: 1.0 if random.random() < 0.08 else 0.0,  # A: 8% CTR\n    lambda: 1.0 if random.random() < 0.05 else 0.0,  # B: 5% CTR\n    lambda: 1.0 if random.random() < 0.12 else 0.0,  # C: 12% CTR (best)\n]\nn, avg, hist = ucb1(arms, T=5000)\nprint('Plays:', n)          # should heavily favor arm 3 over time\nprint('Estimated CTRs:', avg)\n```\n\n---\n\n# When to use UCB (and how)\n\n**Use UCB when you:**\n\n* Make **repeated choices** with **immediate feedback** (click, signup, sale).\n* Want a **single best** option (A/B/n) while still learning.\n* Expect **stationary** rewards (probabilities don’t drift much hour-to-hour).\n\n**Examples in a shop/site:**\n\n* Which **banner** to show (CTR/CR as reward).\n* Which **coupon** or **price** to offer (profit scaled to [0,1]).\n* Which **recommendation slot** item to place (click/buy as reward).\n\n**How to deploy:**\n\n1. Define arms (variants).\n2. Define reward in **[0,1]** (e.g., click=1/no=0; or profit scaled by a known max).\n3. Start live traffic with UCB.\n4. Log **(arm, reward, timestamp)**.\n5. Monitor: cumulative reward, per-arm estimates, exploration rate.\n\n---\n\n# Variants & practical notes\n\n* **Exploration scale (c):** some use (\\\\overline{r} + c\\\\sqrt{\\\\frac{\\\\ln t}{n}}). Larger (c) = more exploration.\n* **UCB-Tuned:** adjusts the bonus using variance estimates (often better when rewards vary).\n* **Non-stationary rewards:** use **sliding-window UCB** or **discounted UCB** (recent data counts more).\n* **Context matters?** If the “best” option depends on features (device, time, user), use **contextual bandits** (e.g., **LinUCB**).\n* **Delayed rewards:** UCB assumes quick feedback; if delayed, queue updates carefully.\n* **Scaling:** if rewards aren’t naturally in ([0,1]), **normalize** by a safe max.\n\n---\n\n# Quick cheat sheet\n\n* **Rule:** pick option with **(current average) + (uncertainty bonus)**.\n* **Bonus shrinks** as you sample more → automatic explore/exploit balance.\n* **Great for online A/B/n** with immediate, bounded rewards.\n* Use **UCB1** first; consider **UCB-Tuned** or **contextual** versions as needs grow.\n"
  },
  {
   "cell_type": "markdown",
   "metadata": {
    "id": "QJdrJJQUv3-k",
    "colab_type": "text"
   },
   "source": [
    "# Upper Confidence Bound (UCB)"
   ]
  },
  {
   "cell_type": "markdown",
   "metadata": {
    "id": "2XCjepjJwEv-",
    "colab_type": "text"
   },
   "source": [
    "## Importing the libraries"
   ]
  },
  {
   "cell_type": "code",
   "metadata": {
    "id": "l_mBkG3YwNTt",
    "colab_type": "code",
    "colab": {}
   },
   "source": [
    "import numpy as np\n",
    "import matplotlib.pyplot as plt\n",
    "import pandas as pd"
   ],
   "execution_count": 0,
   "outputs": []
  },
  {
   "cell_type": "markdown",
   "metadata": {
    "id": "npqlXjaNwYTv",
    "colab_type": "text"
   },
   "source": [
    "## Importing the dataset"
   ]
  },
  {
   "cell_type": "code",
   "metadata": {
    "id": "HMJfUVLVwcFc",
    "colab_type": "code",
    "colab": {}
   },
   "source": [
    "dataset = pd.read_csv('Ads_CTR_Optimisation.csv')"
   ],
   "execution_count": 0,
   "outputs": []
  },
  {
   "cell_type": "markdown",
   "metadata": {
    "id": "PaSbots_wfoB",
    "colab_type": "text"
   },
   "source": [
    "## Implementing UCB"
   ]
  },
  {
   "cell_type": "code",
   "metadata": {
    "id": "V1K7jgDFwkRd",
    "colab_type": "code",
    "colab": {}
   },
   "source": [
    "import math\n",
    "N = 10000\n",
    "d = 10\n",
    "ads_selected = []\n",
    "numbers_of_selections = [0] * d\n",
    "sums_of_rewards = [0] * d\n",
    "total_reward = 0\n",
    "for n in range(0, N):\n",
    "    ad = 0\n",
    "    max_upper_bound = 0\n",
    "    for i in range(0, d):\n",
    "        if (numbers_of_selections[i] > 0):\n",
    "            average_reward = sums_of_rewards[i] / numbers_of_selections[i]\n",
    "            delta_i = math.sqrt(3/2 * math.log(n + 1) / numbers_of_selections[i])\n",
    "            upper_bound = average_reward + delta_i\n",
    "        else:\n",
    "            upper_bound = 1e400\n",
    "        if upper_bound > max_upper_bound:\n",
    "            max_upper_bound = upper_bound\n",
    "            ad = i\n",
    "    ads_selected.append(ad)\n",
    "    numbers_of_selections[ad] = numbers_of_selections[ad] + 1\n",
    "    reward = dataset.values[n, ad]\n",
    "    sums_of_rewards[ad] = sums_of_rewards[ad] + reward\n",
    "    total_reward = total_reward + reward"
   ],
   "execution_count": 0,
   "outputs": []
  },
  {
   "cell_type": "markdown",
   "metadata": {
    "id": "AXftWcjDwsYj",
    "colab_type": "text"
   },
   "source": [
    "## Visualising the results"
   ]
  },
  {
   "cell_type": "code",
   "metadata": {
    "id": "eVyD_EDXwtkK",
    "colab_type": "code",
    "colab": {
     "base_uri": "https://localhost:8080/",
     "height": 295
    },
    "outputId": "8cb6b886-8482-43be-e4ee-0313c17508c6",
    "executionInfo": {
     "status": "ok",
     "timestamp": 1586416167859,
     "user_tz": -240,
     "elapsed": 2141,
     "user": {
      "displayName": "Hadelin de Ponteves",
      "photoUrl": "https://lh3.googleusercontent.com/a-/AOh14GhEuXdT7eQweUmRPW8_laJuPggSK6hfvpl5a6WBaA=s64",
      "userId": "15047218817161520419"
     }
    }
   },
   "source": [
    "plt.hist(ads_selected)\n",
    "plt.title('Histogram of ads selections')\n",
    "plt.xlabel('Ads')\n",
    "plt.ylabel('Number of times each ad was selected')\n",
    "plt.show()"
   ],
   "execution_count": 4,
   "outputs": [
    {
     "output_type": "display_data",
     "data": {
      "image/png": "[encoded data removed]",
      "text/plain": [
       "<Figure size 432x288 with 1 Axes>"
      ]
     },
     "metadata": {
      "tags": []
     }
    }
   ]
  }
 ]
}
