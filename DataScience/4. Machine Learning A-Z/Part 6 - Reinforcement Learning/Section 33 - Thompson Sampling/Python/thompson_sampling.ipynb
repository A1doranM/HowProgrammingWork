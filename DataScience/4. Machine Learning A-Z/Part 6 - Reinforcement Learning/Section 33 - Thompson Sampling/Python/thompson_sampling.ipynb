{
 "cells": [
  {
   "cell_type": "markdown",
   "metadata": {},
   "source": [
    "Here’s the same “explain-like-I’m-5-but-useful” tour 👇\n",
    "\n",
    "# What is Thompson Sampling (TS)?\n",
    "\n",
    "A strategy for choosing between options **while learning**.\n",
    "Rule of thumb: **“Pretend each option has a hidden success rate. Keep a belief (distribution) about each one. Sample a guess from each belief and pick the option with the biggest sampled guess.”**\n",
    "This naturally balances **exploration** (try uncertain options) and **exploitation** (pick the best-looking).\n",
    "\n",
    "Nickname: **probability matching** — you pick each option roughly as often as the chance it’s actually the best.\n",
    "\n",
    "---\n",
    "\n",
    "# Shop example (click/no-click banners)\n",
    "\n",
    "You have 3 homepage banners: **A, B, C**.\n",
    "Each visit you show one banner and observe a **reward**: click=1, no click=0.\n",
    "We’ll model “click probability” of each banner with a **Beta** distribution and update it as we see outcomes.\n",
    "\n",
    "## Why Beta?\n",
    "\n",
    "For **Bernoulli** (0/1) rewards, **Beta** is the conjugate prior.\n",
    "\n",
    "* Prior: $$(\\theta \\sim \\text{Beta}(\\alpha,\\beta))$$\n",
    "* After seeing **s** clicks and **f** no-clicks:\n",
    "  $$(\\theta \\mid \\text{data} \\sim \\text{Beta}(\\alpha+s,; \\beta+f))$$\n",
    "\n",
    "Interpretation: $$(\\alpha-1) = prior “successes,” (\\beta-1) = prior “failures.”$$\n",
    "A common neutral start is **Beta(1,1)** (uniform).\n",
    "\n",
    "---\n",
    "\n",
    "# Thompson Sampling (Beta–Bernoulli) — step by step\n",
    "\n",
    "**Initialize** (for A, B, C):\n",
    "\n",
    "* $$((\\alpha,\\beta) = (1,1)) for-each-banner (no-knowledge-yet).$$\n",
    "\n",
    "For each round (t=1,2,3,\\dots):\n",
    "\n",
    "1. **Sample a guess** of click-rate for each banner:\n",
    "  $$ (\\hat\\theta_A \\sim \\text{Beta}(\\alpha_A,\\beta_A)), same for B, C.$$\n",
    "2. **Pick** the banner with the largest sampled (\\hat\\theta).\n",
    "3. **Show** it, observe reward (r \\in {0,1}).\n",
    "4. **Update** that banner’s Beta:\n",
    "\n",
    "   * if click (1): $$(\\alpha \\leftarrow \\alpha + 1)$$\n",
    "   * if no-click (0): $$(\\beta \\leftarrow \\beta + 1)$$\n",
    "     (others stay unchanged)\n",
    "5. Repeat.\n",
    "\n",
    "### Tiny walk-through (just a few rounds)\n",
    "\n",
    "Start: all Beta(1,1). Samples are random in (0,1).\n",
    "\n",
    "* **Round 1**: suppose samples were A=0.64, B=0.21, C=0.77 → pick **C**.\n",
    "  User **clicks** → C: (α,β) goes (1,1)→(2,1).\n",
    "* **Round 2**: sample again, say A=0.48, B=0.58, C=0.66 → pick **C**.\n",
    "  User **no-click** → C: (2,1)→(2,2).\n",
    "* **Round 3**: sample A=0.71, B=0.13, C=0.49 → pick **A**.\n",
    "  User **clicks** → A: (1,1)→(2,1).\n",
    "* …and so on.\n",
    "\n",
    "What happens: options with **better** observed performance tend to **win the sampling** more often, but **uncertain** options (with wide Beta) still get chances.\n",
    "\n",
    "---\n",
    "\n",
    "# Why TS works (intuition)\n",
    "\n",
    "* If you’re **uncertain**, your Beta is **wide**; sometimes it samples high → you **explore**.\n",
    "* As evidence accumulates, Betas **narrow**; the truly good option samples high more often → you **exploit**.\n",
    "* No manual “exploration rate” to tune — it’s built into the math.\n",
    "\n",
    "---\n",
    "\n",
    "# Pseudocode (Bernoulli rewards)\n",
    "\n",
    "```\n",
    "for each arm i:\n",
    "    alpha[i] = 1; beta[i] = 1   # prior\n",
    "\n",
    "for t in 1..T:\n",
    "    for each arm i:\n",
    "        theta_sample[i] = sample_from_Beta(alpha[i], beta[i])\n",
    "    a = argmax_i theta_sample[i]\n",
    "    r = pull(a)                 # 0 or 1\n",
    "    if r == 1: alpha[a] += 1\n",
    "    else:      beta[a]  += 1\n",
    "```\n",
    "\n",
    "---\n",
    "\n",
    "# Minimal Python (simulation-ready)\n",
    "\n",
    "```python\n",
    "import random\n",
    "import math\n",
    "from random import betavariate\n",
    "\n",
    "def thompson_sampling_bernoulli(arms, T, seed=42):\n",
    "    \"\"\"\n",
    "    arms: list of functions that return 0/1 reward (e.g., lambda: random.random() < 0.12)\n",
    "    T:    number of rounds\n",
    "    \"\"\"\n",
    "    random.seed(seed)\n",
    "    K = len(arms)\n",
    "    alpha = [1.0]*K  # successes + prior\n",
    "    beta = [1.0]*K   # failures  + prior\n",
    "    pulls = [0]*K\n",
    "    clicks = [0]*K\n",
    "\n",
    "    for t in range(1, T+1):\n",
    "        # 1) sample one theta per arm\n",
    "        samples = [betavariate(alpha[i], beta[i]) for i in range(K)]\n",
    "        # 2) pick the arm with the largest sample\n",
    "        a = max(range(K), key=lambda i: samples[i])\n",
    "        # 3) observe reward\n",
    "        r = arms[a]()\n",
    "        # 4) update alpha/beta\n",
    "        if r == 1:\n",
    "            alpha[a] += 1\n",
    "            clicks[a] += 1\n",
    "        else:\n",
    "            beta[a] += 1\n",
    "        pulls[a] += 1\n",
    "\n",
    "    estimates = [alpha[i] / (alpha[i] + beta[i]) for i in range(K)]\n",
    "    return pulls, clicks, estimates, list(zip(alpha, beta))\n",
    "\n",
    "# Example “true CTRs” for A,B,C:\n",
    "arms = [\n",
    "    lambda: 1 if random.random() < 0.08 else 0,  # A 8%\n",
    "    lambda: 1 if random.random() < 0.05 else 0,  # B 5%\n",
    "    lambda: 1 if random.random() < 0.12 else 0,  # C 12% (best)\n",
    "]\n",
    "\n",
    "pulls, clicks, est, post = thompson_sampling_bernoulli(arms, T=5000)\n",
    "print(\"Pull counts:\", pulls)\n",
    "print(\"Clicks:\", clicks)\n",
    "print(\"Posterior means:\", [round(x,4) for x in est])\n",
    "print(\"Posteriors (alpha,beta):\", post)\n",
    "```\n",
    "\n",
    "You should see the best arm (C) pulled the most, with posterior means close to true CTRs.\n",
    "\n",
    "---\n",
    "\n",
    "# When & how to use TS (practical)\n",
    "\n",
    "**Great for:**\n",
    "\n",
    "* **Online A/B/n** choices with immediate feedback (click, signup, purchase).\n",
    "* **Stationary** environments (probabilities don’t drift fast).\n",
    "* Situations where you have **prior beliefs** (e.g., past launches) — set ((\\alpha_0,\\beta_0)) accordingly.\n",
    "\n",
    "**Setup checklist:**\n",
    "\n",
    "1. Define **arms** (variants).\n",
    "2. Define **reward** in **[0,1]** (click=1/no=0; or scale profit by a safe max).\n",
    "3. Start with **Beta(1,1)** (neutral) or informative priors (e.g., Beta(2,20) ≈ 9% prior CTR).\n",
    "4. Run TS online; log arm, reward, and time.\n",
    "5. Track cumulative reward and per-arm posteriors.\n",
    "\n",
    "---\n",
    "\n",
    "# Variants beyond Bernoulli\n",
    "\n",
    "* **Gaussian rewards** (e.g., revenue with known variance (\\sigma^2)):\n",
    "\n",
    "  * Prior on mean: $$(\\mu \\sim \\mathcal{N}(\\mu_0, \\tau_0^2))$$.\n",
    "  * Posterior is normal; each round, **sample (\\tilde{\\mu}_i)** from the posterior of each arm’s mean and pick the max.\n",
    "  * If variance unknown, use Normal–Inverse-Gamma (posterior sampling yields a Student-t for the mean).\n",
    "\n",
    "* **Poisson counts** (e.g., #items sold):\n",
    "\n",
    "  * Gamma–Poisson: $$(\\lambda \\sim \\text{Gamma}(a,b))$$; observe counts; posterior remains Gamma; **sample (\\tilde{\\lambda})** and pick max.\n",
    "\n",
    "* **Categorical outcomes** with multiple categories:\n",
    "\n",
    "  * Dirichlet–Multinomial: $$(\\boldsymbol{p} \\sim \\text{Dirichlet}(\\boldsymbol{\\alpha}))$$; sample $$(\\tilde{\\boldsymbol{p}})$$; choose action by expected utility.\n",
    "\n",
    "* **Contextual TS (LinTS):** the best option depends on **features** (user/device/time).\n",
    "\n",
    "  * Model reward as linear in features: $$(r \\sim \\mathcal{N}(x^\\top \\theta, \\sigma^2))$$ with Bayesian linear regression.\n",
    "  * Each round, sample $$(\\tilde{\\theta})$$ from its posterior, pick arm with highest $$(x^\\top \\tilde{\\theta})$$.\n",
    "\n",
    "---\n",
    "\n",
    "# Thompson Sampling vs. UCB (quick compare)\n",
    "\n",
    "| Aspect           | Thompson Sampling                            | UCB (e.g., UCB1)                                       |\n",
    "| ---------------- | -------------------------------------------- | ------------------------------------------------------ |\n",
    "| Tuning           | Little to none (priors)                      | Needs exploration coefficient choices in some variants |\n",
    "| Philosophy       | Sample from belief; **probability matching** | **Optimism**: mean + bonus                             |\n",
    "| Priors           | Natural place to inject prior knowledge      | Not really                                             |\n",
    "| Behavior         | Often very strong in practice                | Strong, deterministic, simple                          |\n",
    "| Non-stationarity | Use **discounting** or **sliding windows**   | Use windowed/discounted UCB                            |\n",
    "\n",
    "Both are great; TS often edges out with fewer parameters to fuss over.\n",
    "\n",
    "---\n",
    "\n",
    "# Practical tips & guardrails\n",
    "\n",
    "* **Priors matter:** Neutral (=) Beta(1,1). If you expect ~5% CTR, Beta(1,19) is a light prior; stronger belief? scale up (e.g., Beta(5,95)).\n",
    "* **Cold start:** TS copes well, but ensure each arm gets at least a handful of trials early (TS naturally does).\n",
    "* **Delayed rewards:** queue updates once the outcome arrives; until then, the arm’s belief stays wider → more exploration.\n",
    "* **Non-stationary:** apply **decay** (e.g., every hour: (\\alpha\\leftarrow \\lambda \\alpha), (\\beta\\leftarrow \\lambda \\beta) with (\\lambda \\in [0.95,0.999])) or use **sliding windows**.\n",
    "* **Reward scaling:** keep rewards in ([0,1]). For money, divide by a safe max or use a Gaussian/Poisson model.\n",
    "* **Traffic constraints:** if you must guarantee each variant gets X% traffic, mix TS with a small **floor allocation**.\n",
    "* **Segmenting:** if behavior differs by country/device, run **separate** bandits or use **contextual TS**.\n",
    "\n",
    "---\n",
    "\n",
    "# One-liner intuition\n",
    "\n",
    "“Keep a belief about each option’s success rate, **draw a sample** from each belief, and pick the option with the **highest draw**. Update beliefs with outcomes, repeat.”\n",
    "\n",
    "If you want, I can spin up a tiny notebook that compares **Thompson Sampling vs UCB vs ε-greedy** on your actual variants and plot cumulative clicks/regret.\n"
   ]
  },
  {
   "cell_type": "markdown",
   "metadata": {
    "colab_type": "text",
    "id": "vPKTIRAtx232"
   },
   "source": [
    "# Thompson Sampling"
   ]
  },
  {
   "cell_type": "markdown",
   "metadata": {
    "colab_type": "text",
    "id": "PqPv9zpAx-EE"
   },
   "source": [
    "## Importing the libraries"
   ]
  },
  {
   "cell_type": "code",
   "execution_count": 0,
   "metadata": {
    "colab": {},
    "colab_type": "code",
    "id": "lozuE-Fhx_QB"
   },
   "outputs": [],
   "source": [
    "import numpy as np\n",
    "import matplotlib.pyplot as plt\n",
    "import pandas as pd"
   ]
  },
  {
   "cell_type": "markdown",
   "metadata": {
    "colab_type": "text",
    "id": "iqpVk5HhyGmO"
   },
   "source": [
    "## Importing the dataset"
   ]
  },
  {
   "cell_type": "code",
   "execution_count": 0,
   "metadata": {
    "colab": {},
    "colab_type": "code",
    "id": "kY4zzW4hyNfA"
   },
   "outputs": [],
   "source": [
    "dataset = pd.read_csv('Ads_CTR_Optimisation.csv')"
   ]
  },
  {
   "cell_type": "markdown",
   "metadata": {
    "colab_type": "text",
    "id": "WqoXeWOYyQhB"
   },
   "source": [
    "## Implementing Thompson Sampling"
   ]
  },
  {
   "cell_type": "code",
   "execution_count": 0,
   "metadata": {
    "colab": {},
    "colab_type": "code",
    "id": "PCiHv51pyUII"
   },
   "outputs": [],
   "source": [
    "import random\n",
    "N = 10000\n",
    "d = 10\n",
    "ads_selected = []\n",
    "numbers_of_rewards_1 = [0] * d\n",
    "numbers_of_rewards_0 = [0] * d\n",
    "total_reward = 0\n",
    "for n in range(0, N):\n",
    "    ad = 0\n",
    "    max_random = 0\n",
    "    for i in range(0, d):\n",
    "        random_beta = random.betavariate(numbers_of_rewards_1[i] + 1, numbers_of_rewards_0[i] + 1)\n",
    "        if random_beta > max_random:\n",
    "            max_random = random_beta\n",
    "            ad = i\n",
    "    ads_selected.append(ad)\n",
    "    reward = dataset.values[n, ad]\n",
    "    if reward == 1:\n",
    "        numbers_of_rewards_1[ad] = numbers_of_rewards_1[ad] + 1\n",
    "    else:\n",
    "        numbers_of_rewards_0[ad] = numbers_of_rewards_0[ad] + 1\n",
    "    total_reward = total_reward + reward"
   ]
  },
  {
   "cell_type": "markdown",
   "metadata": {
    "colab_type": "text",
    "id": "tweWsgTHyXhv"
   },
   "source": [
    "## Visualising the results - Histogram"
   ]
  },
  {
   "cell_type": "code",
   "execution_count": 4,
   "metadata": {
    "colab": {
     "base_uri": "https://localhost:8080/",
     "height": 295
    },
    "colab_type": "code",
    "executionInfo": {
     "elapsed": 2001,
     "status": "ok",
     "timestamp": 1586416557302,
     "user": {
      "displayName": "Hadelin de Ponteves",
      "photoUrl": "https://lh3.googleusercontent.com/a-/AOh14GhEuXdT7eQweUmRPW8_laJuPggSK6hfvpl5a6WBaA=s64",
      "userId": "15047218817161520419"
     },
     "user_tz": -240
    },
    "id": "k8DJmN06yak3",
    "outputId": "82f5fc5a-b478-410e-eeb2-b09c4b72c979"
   },
   "outputs": [
    {
     "data": {
      "image/png": "[encoded data removed]",
      "text/plain": [
       "<Figure size 432x288 with 1 Axes>"
      ]
     },
     "metadata": {
      "tags": []
     },
     "output_type": "display_data"
    }
   ],
   "source": [
    "plt.hist(ads_selected)\n",
    "plt.title('Histogram of ads selections')\n",
    "plt.xlabel('Ads')\n",
    "plt.ylabel('Number of times each ad was selected')\n",
    "plt.show()"
   ]
  }
 ],
 "metadata": {
  "colab": {
   "authorship_tag": "ABX9TyPYgZhJufkFAsCxlwVcjHND",
   "collapsed_sections": [],
   "name": "Thompson Sampling",
   "provenance": [],
   "toc_visible": true
  },
  "kernelspec": {
   "display_name": "Python 3",
   "name": "python3"
  }
 },
 "nbformat": 4,
 "nbformat_minor": 0
}
