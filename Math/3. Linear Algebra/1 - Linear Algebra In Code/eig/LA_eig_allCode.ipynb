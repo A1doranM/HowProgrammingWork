{
 "cells": [
  {
   "cell_type": "markdown",
   "metadata": {},
   "source": [
    "#     COURSE: Linear algebra: theory and implementation\n",
    "##    SECTION: Eigendecomposition\n",
    "\n",
    "#### Instructor: sincxpress.com\n",
    "##### Course url: https://www.udemy.com/course/linear-algebra-theory-and-implementation/?couponCode=202110"
   ]
  },
  {
   "cell_type": "code",
   "metadata": {
    "ExecuteTime": {
     "end_time": "2024-06-27T15:28:07.497545Z",
     "start_time": "2024-06-27T15:28:06.310785Z"
    }
   },
   "source": [
    "import numpy as np\n",
    "import matplotlib.pyplot as plt\n",
    "from sympy import *\n",
    "from mpl_toolkits.mplot3d import Axes3D"
   ],
   "outputs": [],
   "execution_count": 1
  },
  {
   "cell_type": "markdown",
   "metadata": {},
   "source": [
    "\n",
    "---\n",
    "# VIDEO: Finding eigenvalues\n",
    "---\n"
   ]
  },
  {
   "cell_type": "code",
   "metadata": {
    "ExecuteTime": {
     "end_time": "2024-06-25T07:44:29.703470Z",
     "start_time": "2024-06-25T07:44:28.569548Z"
    }
   },
   "source": [
    "# matrix\n",
    "A = [ [1,5], [2,3] ]\n",
    "\n",
    "# extract the eigenvalues\n",
    "eigvals = np.linalg.eig(A)\n",
    "\n",
    "# note that the eigenvalues are in the first element of eigvals:\n",
    "print(eigvals[0])\n",
    "\n",
    "\n",
    "# specify two vectors\n",
    "v1 = np.array([ 1,1 ])    # is an eigenvector!\n",
    "v2 = np.random.randn(2,1) # unlikely to be an eigenvector\n",
    "v2 = v2/np.linalg.norm(v2)# unit length for convenience\n",
    "\n",
    "# compute Av\n",
    "Av1 = A@v1\n",
    "Av2 = A@v2\n",
    "\n",
    "\n",
    "# plot the vectors and Av\n",
    "plt.plot([0,v1[0]] ,[0,v1[1]],'r')\n",
    "plt.plot([0,Av1[0]],[0,Av1[1]],'r--')\n",
    "plt.plot([0,v2[0]] ,[0,v2[1]],'k')\n",
    "plt.plot([0,Av2[0]],[0,Av2[1]],'k--')\n",
    "\n",
    "plt.axis([-8,8,-8,8])\n",
    "plt.show()\n"
   ],
   "outputs": [
    {
     "name": "stdout",
     "output_type": "stream",
     "text": [
      "[-1.31662479  5.31662479]\n"
     ]
    },
    {
     "ename": "ValueError",
     "evalue": "setting an array element with a sequence. The requested array has an inhomogeneous shape after 1 dimensions. The detected shape was (2,) + inhomogeneous part.",
     "output_type": "error",
     "traceback": [
      "\u001B[0;31m---------------------------------------------------------------------------\u001B[0m",
      "\u001B[0;31mValueError\u001B[0m                                Traceback (most recent call last)",
      "Cell \u001B[0;32mIn[2], line 24\u001B[0m\n\u001B[1;32m     22\u001B[0m plt\u001B[38;5;241m.\u001B[39mplot([\u001B[38;5;241m0\u001B[39m,v1[\u001B[38;5;241m0\u001B[39m]] ,[\u001B[38;5;241m0\u001B[39m,v1[\u001B[38;5;241m1\u001B[39m]],\u001B[38;5;124m'\u001B[39m\u001B[38;5;124mr\u001B[39m\u001B[38;5;124m'\u001B[39m)\n\u001B[1;32m     23\u001B[0m plt\u001B[38;5;241m.\u001B[39mplot([\u001B[38;5;241m0\u001B[39m,Av1[\u001B[38;5;241m0\u001B[39m]],[\u001B[38;5;241m0\u001B[39m,Av1[\u001B[38;5;241m1\u001B[39m]],\u001B[38;5;124m'\u001B[39m\u001B[38;5;124mr--\u001B[39m\u001B[38;5;124m'\u001B[39m)\n\u001B[0;32m---> 24\u001B[0m \u001B[43mplt\u001B[49m\u001B[38;5;241;43m.\u001B[39;49m\u001B[43mplot\u001B[49m\u001B[43m(\u001B[49m\u001B[43m[\u001B[49m\u001B[38;5;241;43m0\u001B[39;49m\u001B[43m,\u001B[49m\u001B[43mv2\u001B[49m\u001B[43m[\u001B[49m\u001B[38;5;241;43m0\u001B[39;49m\u001B[43m]\u001B[49m\u001B[43m]\u001B[49m\u001B[43m \u001B[49m\u001B[43m,\u001B[49m\u001B[43m[\u001B[49m\u001B[38;5;241;43m0\u001B[39;49m\u001B[43m,\u001B[49m\u001B[43mv2\u001B[49m\u001B[43m[\u001B[49m\u001B[38;5;241;43m1\u001B[39;49m\u001B[43m]\u001B[49m\u001B[43m]\u001B[49m\u001B[43m,\u001B[49m\u001B[38;5;124;43m'\u001B[39;49m\u001B[38;5;124;43mk\u001B[39;49m\u001B[38;5;124;43m'\u001B[39;49m\u001B[43m)\u001B[49m\n\u001B[1;32m     25\u001B[0m plt\u001B[38;5;241m.\u001B[39mplot([\u001B[38;5;241m0\u001B[39m,Av2[\u001B[38;5;241m0\u001B[39m]],[\u001B[38;5;241m0\u001B[39m,Av2[\u001B[38;5;241m1\u001B[39m]],\u001B[38;5;124m'\u001B[39m\u001B[38;5;124mk--\u001B[39m\u001B[38;5;124m'\u001B[39m)\n\u001B[1;32m     27\u001B[0m plt\u001B[38;5;241m.\u001B[39maxis([\u001B[38;5;241m-\u001B[39m\u001B[38;5;241m8\u001B[39m,\u001B[38;5;241m8\u001B[39m,\u001B[38;5;241m-\u001B[39m\u001B[38;5;241m8\u001B[39m,\u001B[38;5;241m8\u001B[39m])\n",
      "File \u001B[0;32m/usr/lib/python3/dist-packages/matplotlib/pyplot.py:2748\u001B[0m, in \u001B[0;36mplot\u001B[0;34m(scalex, scaley, data, *args, **kwargs)\u001B[0m\n\u001B[1;32m   2746\u001B[0m \u001B[38;5;129m@_copy_docstring_and_deprecators\u001B[39m(Axes\u001B[38;5;241m.\u001B[39mplot)\n\u001B[1;32m   2747\u001B[0m \u001B[38;5;28;01mdef\u001B[39;00m \u001B[38;5;21mplot\u001B[39m(\u001B[38;5;241m*\u001B[39margs, scalex\u001B[38;5;241m=\u001B[39m\u001B[38;5;28;01mTrue\u001B[39;00m, scaley\u001B[38;5;241m=\u001B[39m\u001B[38;5;28;01mTrue\u001B[39;00m, data\u001B[38;5;241m=\u001B[39m\u001B[38;5;28;01mNone\u001B[39;00m, \u001B[38;5;241m*\u001B[39m\u001B[38;5;241m*\u001B[39mkwargs):\n\u001B[0;32m-> 2748\u001B[0m     \u001B[38;5;28;01mreturn\u001B[39;00m \u001B[43mgca\u001B[49m\u001B[43m(\u001B[49m\u001B[43m)\u001B[49m\u001B[38;5;241;43m.\u001B[39;49m\u001B[43mplot\u001B[49m\u001B[43m(\u001B[49m\n\u001B[1;32m   2749\u001B[0m \u001B[43m        \u001B[49m\u001B[38;5;241;43m*\u001B[39;49m\u001B[43margs\u001B[49m\u001B[43m,\u001B[49m\u001B[43m \u001B[49m\u001B[43mscalex\u001B[49m\u001B[38;5;241;43m=\u001B[39;49m\u001B[43mscalex\u001B[49m\u001B[43m,\u001B[49m\u001B[43m \u001B[49m\u001B[43mscaley\u001B[49m\u001B[38;5;241;43m=\u001B[39;49m\u001B[43mscaley\u001B[49m\u001B[43m,\u001B[49m\n\u001B[1;32m   2750\u001B[0m \u001B[43m        \u001B[49m\u001B[38;5;241;43m*\u001B[39;49m\u001B[38;5;241;43m*\u001B[39;49m\u001B[43m(\u001B[49m\u001B[43m{\u001B[49m\u001B[38;5;124;43m\"\u001B[39;49m\u001B[38;5;124;43mdata\u001B[39;49m\u001B[38;5;124;43m\"\u001B[39;49m\u001B[43m:\u001B[49m\u001B[43m \u001B[49m\u001B[43mdata\u001B[49m\u001B[43m}\u001B[49m\u001B[43m \u001B[49m\u001B[38;5;28;43;01mif\u001B[39;49;00m\u001B[43m \u001B[49m\u001B[43mdata\u001B[49m\u001B[43m \u001B[49m\u001B[38;5;129;43;01mis\u001B[39;49;00m\u001B[43m \u001B[49m\u001B[38;5;129;43;01mnot\u001B[39;49;00m\u001B[43m \u001B[49m\u001B[38;5;28;43;01mNone\u001B[39;49;00m\u001B[43m \u001B[49m\u001B[38;5;28;43;01melse\u001B[39;49;00m\u001B[43m \u001B[49m\u001B[43m{\u001B[49m\u001B[43m}\u001B[49m\u001B[43m)\u001B[49m\u001B[43m,\u001B[49m\u001B[43m \u001B[49m\u001B[38;5;241;43m*\u001B[39;49m\u001B[38;5;241;43m*\u001B[39;49m\u001B[43mkwargs\u001B[49m\u001B[43m)\u001B[49m\n",
      "File \u001B[0;32m/usr/lib/python3/dist-packages/matplotlib/axes/_axes.py:1668\u001B[0m, in \u001B[0;36mAxes.plot\u001B[0;34m(self, scalex, scaley, data, *args, **kwargs)\u001B[0m\n\u001B[1;32m   1425\u001B[0m \u001B[38;5;250m\u001B[39m\u001B[38;5;124;03m\"\"\"\u001B[39;00m\n\u001B[1;32m   1426\u001B[0m \u001B[38;5;124;03mPlot y versus x as lines and/or markers.\u001B[39;00m\n\u001B[1;32m   1427\u001B[0m \n\u001B[0;32m   (...)\u001B[0m\n\u001B[1;32m   1665\u001B[0m \u001B[38;5;124;03m(``'green'``) or hex strings (``'#008000'``).\u001B[39;00m\n\u001B[1;32m   1666\u001B[0m \u001B[38;5;124;03m\"\"\"\u001B[39;00m\n\u001B[1;32m   1667\u001B[0m kwargs \u001B[38;5;241m=\u001B[39m cbook\u001B[38;5;241m.\u001B[39mnormalize_kwargs(kwargs, mlines\u001B[38;5;241m.\u001B[39mLine2D)\n\u001B[0;32m-> 1668\u001B[0m lines \u001B[38;5;241m=\u001B[39m [\u001B[38;5;241m*\u001B[39m\u001B[38;5;28mself\u001B[39m\u001B[38;5;241m.\u001B[39m_get_lines(\u001B[38;5;241m*\u001B[39margs, data\u001B[38;5;241m=\u001B[39mdata, \u001B[38;5;241m*\u001B[39m\u001B[38;5;241m*\u001B[39mkwargs)]\n\u001B[1;32m   1669\u001B[0m \u001B[38;5;28;01mfor\u001B[39;00m line \u001B[38;5;129;01min\u001B[39;00m lines:\n\u001B[1;32m   1670\u001B[0m     \u001B[38;5;28mself\u001B[39m\u001B[38;5;241m.\u001B[39madd_line(line)\n",
      "File \u001B[0;32m/usr/lib/python3/dist-packages/matplotlib/axes/_base.py:311\u001B[0m, in \u001B[0;36m_process_plot_var_args.__call__\u001B[0;34m(self, data, *args, **kwargs)\u001B[0m\n\u001B[1;32m    309\u001B[0m     this \u001B[38;5;241m+\u001B[39m\u001B[38;5;241m=\u001B[39m args[\u001B[38;5;241m0\u001B[39m],\n\u001B[1;32m    310\u001B[0m     args \u001B[38;5;241m=\u001B[39m args[\u001B[38;5;241m1\u001B[39m:]\n\u001B[0;32m--> 311\u001B[0m \u001B[38;5;28;01myield from\u001B[39;00m \u001B[38;5;28;43mself\u001B[39;49m\u001B[38;5;241;43m.\u001B[39;49m\u001B[43m_plot_args\u001B[49m\u001B[43m(\u001B[49m\n\u001B[1;32m    312\u001B[0m \u001B[43m    \u001B[49m\u001B[43mthis\u001B[49m\u001B[43m,\u001B[49m\u001B[43m \u001B[49m\u001B[43mkwargs\u001B[49m\u001B[43m,\u001B[49m\u001B[43m \u001B[49m\u001B[43mambiguous_fmt_datakey\u001B[49m\u001B[38;5;241;43m=\u001B[39;49m\u001B[43mambiguous_fmt_datakey\u001B[49m\u001B[43m)\u001B[49m\n",
      "File \u001B[0;32m/usr/lib/python3/dist-packages/matplotlib/axes/_base.py:493\u001B[0m, in \u001B[0;36m_process_plot_var_args._plot_args\u001B[0;34m(self, tup, kwargs, return_kwargs, ambiguous_fmt_datakey)\u001B[0m\n\u001B[1;32m    490\u001B[0m         kw[prop_name] \u001B[38;5;241m=\u001B[39m val\n\u001B[1;32m    492\u001B[0m \u001B[38;5;28;01mif\u001B[39;00m \u001B[38;5;28mlen\u001B[39m(xy) \u001B[38;5;241m==\u001B[39m \u001B[38;5;241m2\u001B[39m:\n\u001B[0;32m--> 493\u001B[0m     x \u001B[38;5;241m=\u001B[39m \u001B[43m_check_1d\u001B[49m\u001B[43m(\u001B[49m\u001B[43mxy\u001B[49m\u001B[43m[\u001B[49m\u001B[38;5;241;43m0\u001B[39;49m\u001B[43m]\u001B[49m\u001B[43m)\u001B[49m\n\u001B[1;32m    494\u001B[0m     y \u001B[38;5;241m=\u001B[39m _check_1d(xy[\u001B[38;5;241m1\u001B[39m])\n\u001B[1;32m    495\u001B[0m \u001B[38;5;28;01melse\u001B[39;00m:\n",
      "File \u001B[0;32m/usr/lib/python3/dist-packages/matplotlib/cbook/__init__.py:1382\u001B[0m, in \u001B[0;36m_check_1d\u001B[0;34m(x)\u001B[0m\n\u001B[1;32m   1376\u001B[0m \u001B[38;5;66;03m# plot requires `shape` and `ndim`.  If passed an\u001B[39;00m\n\u001B[1;32m   1377\u001B[0m \u001B[38;5;66;03m# object that doesn't provide them, then force to numpy array.\u001B[39;00m\n\u001B[1;32m   1378\u001B[0m \u001B[38;5;66;03m# Note this will strip unit information.\u001B[39;00m\n\u001B[1;32m   1379\u001B[0m \u001B[38;5;28;01mif\u001B[39;00m (\u001B[38;5;129;01mnot\u001B[39;00m \u001B[38;5;28mhasattr\u001B[39m(x, \u001B[38;5;124m'\u001B[39m\u001B[38;5;124mshape\u001B[39m\u001B[38;5;124m'\u001B[39m) \u001B[38;5;129;01mor\u001B[39;00m\n\u001B[1;32m   1380\u001B[0m         \u001B[38;5;129;01mnot\u001B[39;00m \u001B[38;5;28mhasattr\u001B[39m(x, \u001B[38;5;124m'\u001B[39m\u001B[38;5;124mndim\u001B[39m\u001B[38;5;124m'\u001B[39m) \u001B[38;5;129;01mor\u001B[39;00m\n\u001B[1;32m   1381\u001B[0m         \u001B[38;5;28mlen\u001B[39m(x\u001B[38;5;241m.\u001B[39mshape) \u001B[38;5;241m<\u001B[39m \u001B[38;5;241m1\u001B[39m):\n\u001B[0;32m-> 1382\u001B[0m     \u001B[38;5;28;01mreturn\u001B[39;00m \u001B[43mnp\u001B[49m\u001B[38;5;241;43m.\u001B[39;49m\u001B[43matleast_1d\u001B[49m\u001B[43m(\u001B[49m\u001B[43mx\u001B[49m\u001B[43m)\u001B[49m\n\u001B[1;32m   1383\u001B[0m \u001B[38;5;28;01melse\u001B[39;00m:\n\u001B[1;32m   1384\u001B[0m     \u001B[38;5;28;01mreturn\u001B[39;00m x\n",
      "File \u001B[0;32m/usr/lib/python3/dist-packages/numpy/core/shape_base.py:65\u001B[0m, in \u001B[0;36matleast_1d\u001B[0;34m(*arys)\u001B[0m\n\u001B[1;32m     63\u001B[0m res \u001B[38;5;241m=\u001B[39m []\n\u001B[1;32m     64\u001B[0m \u001B[38;5;28;01mfor\u001B[39;00m ary \u001B[38;5;129;01min\u001B[39;00m arys:\n\u001B[0;32m---> 65\u001B[0m     ary \u001B[38;5;241m=\u001B[39m \u001B[43masanyarray\u001B[49m\u001B[43m(\u001B[49m\u001B[43mary\u001B[49m\u001B[43m)\u001B[49m\n\u001B[1;32m     66\u001B[0m     \u001B[38;5;28;01mif\u001B[39;00m ary\u001B[38;5;241m.\u001B[39mndim \u001B[38;5;241m==\u001B[39m \u001B[38;5;241m0\u001B[39m:\n\u001B[1;32m     67\u001B[0m         result \u001B[38;5;241m=\u001B[39m ary\u001B[38;5;241m.\u001B[39mreshape(\u001B[38;5;241m1\u001B[39m)\n",
      "\u001B[0;31mValueError\u001B[0m: setting an array element with a sequence. The requested array has an inhomogeneous shape after 1 dimensions. The detected shape was (2,) + inhomogeneous part."
     ]
    },
    {
     "data": {
      "text/plain": [
       "<Figure size 640x480 with 1 Axes>"
      ],
      "image/png": "[encoded data removed]"
     },
     "metadata": {},
     "output_type": "display_data"
    }
   ],
   "execution_count": 2
  },
  {
   "cell_type": "code",
   "metadata": {
    "ExecuteTime": {
     "end_time": "2024-06-25T07:44:55.086627Z",
     "start_time": "2024-06-25T07:44:55.082442Z"
    }
   },
   "source": [
    "# confirm eigenvalues for a 3x3 matrix\n",
    "\n",
    "# specify matrix\n",
    "A = [ [-2,  2, -3 ],\n",
    "      [-4,  1, -6 ],\n",
    "      [-1, -2,  0 ]  ]\n",
    "\n",
    "# get eigenvalues\n",
    "evals = np.linalg.eig(A)\n",
    "print(evals[0])\n"
   ],
   "outputs": [
    {
     "name": "stdout",
     "output_type": "stream",
     "text": [
      "[-3. -1.  3.]\n"
     ]
    }
   ],
   "execution_count": 4
  },
  {
   "cell_type": "code",
   "metadata": {
    "ExecuteTime": {
     "end_time": "2024-06-25T07:44:55.774070Z",
     "start_time": "2024-06-25T07:44:55.771846Z"
    }
   },
   "source": [],
   "outputs": [],
   "execution_count": 4
  },
  {
   "cell_type": "markdown",
   "metadata": {},
   "source": [
    "\n",
    "---\n",
    "# VIDEO: Finding eigenvectors\n",
    "---\n"
   ]
  },
  {
   "cell_type": "code",
   "metadata": {
    "ExecuteTime": {
     "end_time": "2024-06-27T15:28:09.379902Z",
     "start_time": "2024-06-27T15:28:09.370143Z"
    }
   },
   "source": [
    "# matrix\n",
    "A = [ [1,2], [2,1] ]\n",
    "\n",
    "# eigenvectors (compare with code above)\n",
    "# note also the differences with MATLAB: different order, evals in vector\n",
    "evals,evecs = np.linalg.eig(A)\n",
    "print(evals), print(' ')\n",
    "print(evecs)"
   ],
   "outputs": [
    {
     "name": "stdout",
     "output_type": "stream",
     "text": [
      "[ 3. -1.]\n",
      " \n",
      "[[ 0.70710678 -0.70710678]\n",
      " [ 0.70710678  0.70710678]]\n"
     ]
    }
   ],
   "execution_count": 2
  },
  {
   "cell_type": "code",
   "metadata": {
    "ExecuteTime": {
     "end_time": "2024-06-27T15:28:10.311769Z",
     "start_time": "2024-06-27T15:28:10.009759Z"
    }
   },
   "source": [
    "# compute the norm of each eigenvector\n",
    "mag_v1 = np.sqrt( np.sum( np.square(evecs[:,0])) )\n",
    "mag_v2 = np.sqrt( np.sum( np.square(evecs[:,1])) )\n",
    "print(mag_v1,mag_v2)\n",
    "\n",
    "# plot\n",
    "plt.plot([0,evecs[0,0]],[0,evecs[1,0]],'r',label='v1')\n",
    "plt.plot([0,evecs[0,1]],[0,evecs[1,1]],'k',label='v2')\n",
    "\n",
    "\n",
    "plt.axis([-1,1,-1,1])\n",
    "plt.legend()\n",
    "plt.show()"
   ],
   "outputs": [
    {
     "name": "stdout",
     "output_type": "stream",
     "text": [
      "0.9999999999999999 0.9999999999999999\n"
     ]
    },
    {
     "data": {
      "text/plain": [
       "<Figure size 640x480 with 1 Axes>"
      ],
      "image/png": "[encoded data removed]"
     },
     "metadata": {},
     "output_type": "display_data"
    }
   ],
   "execution_count": 3
  },
  {
   "cell_type": "markdown",
   "metadata": {},
   "source": [
    "\n",
    "---\n",
    "# VIDEO: Diagonalization\n",
    "---\n"
   ]
  },
  {
   "cell_type": "code",
   "metadata": {
    "ExecuteTime": {
     "end_time": "2024-06-27T15:28:12.908150Z",
     "start_time": "2024-06-27T15:28:12.574101Z"
    }
   },
   "source": [
    "## eigendecomposition of A\n",
    "\n",
    "# make a symmetric matrix\n",
    "A = np.round(10*np.random.randn(4,4))\n",
    "A = A.T@A\n",
    "\n",
    "# eigendecomposition\n",
    "evals,evecs = np.linalg.eig(A)\n",
    "\n",
    "# test reconstruction\n",
    "Ap = evecs @ np.diag(evals) @ np.linalg.inv(evecs)\n",
    "\n",
    "\n",
    "# plot\n",
    "plt.subplot(121)\n",
    "plt.imshow(A)\n",
    "plt.axis('off')\n",
    "plt.title('A')\n",
    "\n",
    "plt.subplot(122)\n",
    "plt.imshow(Ap)\n",
    "plt.axis('off')\n",
    "plt.title('$V\\Lambda V^{-1}$')\n",
    "\n",
    "plt.show()\n",
    "\n",
    "# subtract the two (should be zero with rounding errors)\n",
    "recondiff = A-Ap\n",
    "\n",
    "# reconstruction error (note the numerical inaccuracies)\n",
    "rmsA = np.sqrt( np.mean(np.square( np.reshape(recondiff,(1,-1)) )) )\n",
    "\n",
    "print('Reconstruction RMS:', rmsA)\n"
   ],
   "outputs": [
    {
     "name": "stderr",
     "output_type": "stream",
     "text": [
      "<>:23: SyntaxWarning: invalid escape sequence '\\L'\n",
      "<>:23: SyntaxWarning: invalid escape sequence '\\L'\n",
      "/tmp/ipykernel_7556/100246639.py:23: SyntaxWarning: invalid escape sequence '\\L'\n",
      "  plt.title('$V\\Lambda V^{-1}$')\n"
     ]
    },
    {
     "data": {
      "text/plain": [
       "<Figure size 640x480 with 2 Axes>"
      ],
      "image/png": "[encoded data removed]"
     },
     "metadata": {},
     "output_type": "display_data"
    },
    {
     "name": "stdout",
     "output_type": "stream",
     "text": [
      "Reconstruction RMS: 1.9709132423138243e-13\n"
     ]
    }
   ],
   "execution_count": 4
  },
  {
   "cell_type": "code",
   "metadata": {
    "ExecuteTime": {
     "end_time": "2024-06-27T15:28:14.545051Z",
     "start_time": "2024-06-27T15:28:14.336625Z"
    }
   },
   "source": [
    "## diagonalization in images\n",
    "\n",
    "# A matrix\n",
    "A = np.random.randn(10,10)\n",
    "A = A.T@A\n",
    "\n",
    "# eigendecomposition\n",
    "D,V = np.linalg.eig(A)\n",
    "\n",
    "# show the results\n",
    "plt.subplot(141)\n",
    "plt.imshow(A)\n",
    "plt.title('A')\n",
    "plt.axis('off')\n",
    "\n",
    "plt.subplot(142)\n",
    "plt.imshow(V)\n",
    "plt.title('V')\n",
    "plt.axis('off')\n",
    "\n",
    "plt.subplot(143)\n",
    "plt.imshow(np.diag(D))\n",
    "plt.title('$\\Lambda$')\n",
    "plt.axis('off')\n",
    "\n",
    "plt.subplot(144)\n",
    "plt.imshow(np.linalg.inv(V))\n",
    "plt.title('$V^{-1}$')\n",
    "plt.axis('off')\n",
    "\n",
    "plt.show()"
   ],
   "outputs": [
    {
     "name": "stderr",
     "output_type": "stream",
     "text": [
      "<>:23: SyntaxWarning: invalid escape sequence '\\L'\n",
      "<>:23: SyntaxWarning: invalid escape sequence '\\L'\n",
      "/tmp/ipykernel_7556/2542996095.py:23: SyntaxWarning: invalid escape sequence '\\L'\n",
      "  plt.title('$\\Lambda$')\n"
     ]
    },
    {
     "data": {
      "text/plain": [
       "<Figure size 640x480 with 4 Axes>"
      ],
      "image/png": "[encoded data removed]"
     },
     "metadata": {},
     "output_type": "display_data"
    }
   ],
   "execution_count": 5
  },
  {
   "cell_type": "markdown",
   "metadata": {},
   "source": [
    "\n",
    "---\n",
    "# VIDEO: Matrix powers via diagonalization\n",
    "---\n"
   ]
  },
  {
   "cell_type": "code",
   "metadata": {
    "ExecuteTime": {
     "end_time": "2024-06-27T15:28:16.740295Z",
     "start_time": "2024-06-27T15:28:16.735303Z"
    }
   },
   "source": [
    "## matrix powers\n",
    "\n",
    "A = np.random.rand(2,2)\n",
    "\n",
    "# compute matrix power directly\n",
    "print( np.linalg.matrix_power(A,3) ) # A@A@A\n",
    "print(' ')\n",
    "\n",
    "# and via eigendecomposition\n",
    "D,V = np.linalg.eig(A)\n",
    "D = np.diag(D)\n",
    "\n",
    "# reproduce via diagonalization\n",
    "print(V @ np.linalg.matrix_power(D,3) @ np.linalg.inv(V) )"
   ],
   "outputs": [
    {
     "name": "stdout",
     "output_type": "stream",
     "text": [
      "[[0.66141488 0.64016952]\n",
      " [1.65556083 1.60238279]]\n",
      " \n",
      "[[0.66141488 0.64016952]\n",
      " [1.65556083 1.60238279]]\n"
     ]
    }
   ],
   "execution_count": 6
  },
  {
   "cell_type": "code",
   "execution_count": null,
   "metadata": {},
   "outputs": [],
   "source": [
    "## eigenvalues of A and A^3\n",
    "\n",
    "# create a symmetric matrix\n",
    "A = np.random.rand(3,3)\n",
    "A = A@A.T\n",
    "\n",
    "D,V   = np.linalg.eig(A)\n",
    "D3,V3 = np.linalg.eig( A@A@A )\n",
    "\n",
    "print(V), print(' ')\n",
    "print(V3)\n",
    "\n",
    "plt.subplot(221)\n",
    "plt.imshow(V)\n",
    "plt.axis('off')\n",
    "plt.title('evecs of A')\n",
    "\n",
    "plt.subplot(223)\n",
    "plt.imshow(V3)\n",
    "plt.axis('off')\n",
    "plt.title('evecs of A^3')\n",
    "\n",
    "plt.show()"
   ]
  },
  {
   "cell_type": "code",
   "execution_count": null,
   "metadata": {},
   "outputs": [],
   "source": [
    "## plot the eigenvectors and eigenvalues\n",
    "\n",
    "fig = plt.figure()\n",
    "ax = fig.gca(projection='3d')\n",
    "\n",
    "# plot eigenvectors of A\n",
    "ax.plot([0,V[0,0]],[0,V[1,0]],[0,V[2,0]],'r')\n",
    "ax.plot([0,V[0,1]],[0,V[1,1]],[0,V[2,1]],'k')\n",
    "ax.plot([0,V[0,2]],[0,V[1,2]],[0,V[2,2]],'b')\n",
    "\n",
    "# plot eigenvectors of A^3\n",
    "ax.plot([0,V3[0,0]],[0,V3[1,0]],[0,V3[2,0]],'r--')\n",
    "ax.plot([0,V3[0,1]],[0,V3[1,1]],[0,V3[2,1]],'k--')\n",
    "ax.plot([0,V3[0,2]],[0,V3[1,2]],[0,V3[2,2]],'b--')\n",
    "\n",
    "plt.show()\n",
    "\n",
    "## show the eigenvalues\n",
    "plt.plot([1,2,3],D,'bs-',label='A')\n",
    "plt.plot([1.1,2.1,3.1],D3,'rs-',label='A^3')\n",
    "plt.title('Eigenvalues')\n",
    "plt.legend()\n",
    "plt.show()"
   ]
  },
  {
   "cell_type": "code",
   "execution_count": null,
   "metadata": {},
   "outputs": [],
   "source": [
    "print(D), print(' ')\n",
    "print(D3), print(' ')\n",
    "print(D**3)"
   ]
  },
  {
   "cell_type": "code",
   "execution_count": null,
   "metadata": {},
   "outputs": [],
   "source": []
  },
  {
   "cell_type": "markdown",
   "metadata": {},
   "source": [
    "\n",
    "---\n",
    "# VIDEO: Eigenvectors of repeated eigenvalues\n",
    "---\n"
   ]
  },
  {
   "cell_type": "code",
   "execution_count": null,
   "metadata": {},
   "outputs": [],
   "source": [
    "### Note about this cell: you need first to run the following cell,\n",
    "#   then come back and run this one!\n",
    "\n",
    "# a matrix\n",
    "A = [ [ 5,  -1,  0], \n",
    "      [-1,   5,  0],\n",
    "      [1/3,-1/3, 4] ]\n",
    "\n",
    "# its eigendecomposition\n",
    "D,V = np.linalg.eig(A)\n",
    "\n",
    "# sort eigenvalues\n",
    "i = np.argsort(D)\n",
    "D = D[i]\n",
    "V = V[:,i]\n",
    "\n",
    "\n",
    "## plot eigenvectors\n",
    "fig = plt.figure()\n",
    "ax = fig.gca(projection='3d')\n",
    "\n",
    "# plot eigenvectors of A\n",
    "ax.plot([0,V[0,0]],[0,V[1,0]],[0,V[2,0]],'r',label='v_1 ($\\lambda$=%g)' %D[0])\n",
    "ax.plot([0,V[0,1]],[0,V[1,1]],[0,V[2,1]],'k',label='v_2 ($\\lambda$=%g)' %D[1])\n",
    "ax.plot([0,V[0,2]],[0,V[1,2]],[0,V[2,2]],'b',label='v_3 ($\\lambda$=%g)' %D[2])\n",
    "plt.legend()\n",
    "\n",
    "# plot subspace spanned by same-eigenvalued eigenvectors\n",
    "plot_plane(ax, V[:,0],V[:,1],size=3)\n",
    "ax.set_xlim3d(-1,1)\n",
    "ax.set_ylim3d(-1,1)\n",
    "ax.set_zlim3d(-1,1)\n",
    "\n",
    "plt.show()\n"
   ]
  },
  {
   "cell_type": "code",
   "execution_count": null,
   "metadata": {},
   "outputs": [],
   "source": [
    "# this code is copy-pasted with some light editing from:\n",
    "# https://stackoverflow.com/questions/3461869/plot-a-plane-based-on-a-normal-vector-and-a-point-in-matlab-or-matplotlib\n",
    "\n",
    "from matplotlib.patches import Circle, PathPatch\n",
    "from matplotlib.transforms import Affine2D\n",
    "from mpl_toolkits.mplot3d import art3d\n",
    "\n",
    "def plot_vector(fig, orig, v, color='blue'):\n",
    "   ax = fig.gca(projection='3d')\n",
    "   orig = np.array(orig); v=np.array(v)\n",
    "   ax.quiver(orig[0], orig[1], orig[2], v[0], v[1], v[2],color=color)\n",
    "   ax.set_xlim(0,10);ax.set_ylim(0,10);ax.set_zlim(0,10)\n",
    "   ax = fig.gca(projection='3d')  \n",
    "   return fig\n",
    "\n",
    "def rotation_matrix(d):\n",
    "    sin_angle = np.linalg.norm(d)\n",
    "    if sin_angle == 0:return np.identity(3)\n",
    "    d /= sin_angle\n",
    "    eye = np.eye(3)\n",
    "    ddt = np.outer(d, d)\n",
    "    skew = np.array([[    0,  d[2],  -d[1]],\n",
    "                  [-d[2],     0,  d[0]],\n",
    "                  [d[1], -d[0],    0]], dtype=np.float64)\n",
    "\n",
    "    M = ddt + np.sqrt(1 - sin_angle**2) * (eye - ddt) + sin_angle * skew\n",
    "    return M\n",
    "\n",
    "def pathpatch_2d_to_3d(pathpatch, z, normal):\n",
    "    if type(normal) is str: #Translate strings to normal vectors\n",
    "        index = \"xyz\".index(normal)\n",
    "        normal = np.roll((1.0,0,0), index)\n",
    "\n",
    "    normal /= np.linalg.norm(normal) #Make sure the vector is normalised\n",
    "    path = pathpatch.get_path() #Get the path and the associated transform\n",
    "    trans = pathpatch.get_patch_transform()\n",
    "\n",
    "    path = trans.transform_path(path) #Apply the transform\n",
    "\n",
    "    pathpatch.__class__ = art3d.PathPatch3D #Change the class\n",
    "    pathpatch._code3d = path.codes #Copy the codes\n",
    "    pathpatch._facecolor3d = pathpatch.get_facecolor #Get the face color    \n",
    "\n",
    "    verts = path.vertices #Get the vertices in 2D\n",
    "\n",
    "    d = np.cross(normal, (0, 0, 1)) #Obtain the rotation vector    \n",
    "    M = rotation_matrix(d) #Get the rotation matrix\n",
    "\n",
    "    pathpatch._segment3d = np.array([np.dot(M, (x, y, 0)) + (0, 0, z) for x, y in verts])\n",
    "\n",
    "def pathpatch_translate(pathpatch, delta):\n",
    "    pathpatch._segment3d += delta\n",
    "\n",
    "def plot_plane(ax, point, normal, size=10, color='g'):    \n",
    "    p = Circle((0, 0), size, facecolor = color, alpha = .8)\n",
    "    ax.add_patch(p)\n",
    "    pathpatch_2d_to_3d(p, z=0, normal=normal)\n",
    "    pathpatch_translate(p, (point[0], point[1], point[2]))\n",
    "\n",
    "\n",
    "o = np.array([5,5,5])\n",
    "v = np.array([3,3,3])\n",
    "n = [0.5, 0.5, 0.5]\n",
    "\n",
    "from mpl_toolkits.mplot3d import Axes3D"
   ]
  },
  {
   "cell_type": "markdown",
   "metadata": {},
   "source": [
    "\n",
    "---\n",
    "# Eigendecomposition of symmetric matrices\n",
    "---\n"
   ]
  },
  {
   "cell_type": "code",
   "execution_count": null,
   "metadata": {},
   "outputs": [],
   "source": [
    "# create a random matrix\n",
    "A = np.random.randn(14,14)\n",
    "\n",
    "# make it symmetric (additive method)\n",
    "A = A+A.T\n",
    "\n",
    "# diagonalize it\n",
    "evals,evecs = np.linalg.eig(A)\n",
    "print(evecs)\n",
    "# magnitudes of each vector\n",
    "print( np.sqrt( sum(evecs**2) ) )"
   ]
  },
  {
   "cell_type": "code",
   "execution_count": null,
   "metadata": {
    "scrolled": true
   },
   "outputs": [],
   "source": [
    "# and make plots\n",
    "plt.imshow(A)\n",
    "plt.axis('off')\n",
    "plt.title('A')\n",
    "plt.show()\n",
    "\n",
    "plt.imshow(evecs)\n",
    "plt.axis('off')\n",
    "plt.title('Eigenvectors')\n",
    "plt.show()\n",
    "\n",
    "plt.imshow(evecs@evecs.T)\n",
    "plt.axis('off')\n",
    "plt.title('VV^T')\n",
    "plt.show()"
   ]
  },
  {
   "cell_type": "code",
   "execution_count": null,
   "metadata": {},
   "outputs": [],
   "source": []
  },
  {
   "cell_type": "markdown",
   "metadata": {},
   "source": [
    "\n",
    "---\n",
    "# VIDEO: Generalized eigendecomposition\n",
    "---\n"
   ]
  },
  {
   "cell_type": "code",
   "execution_count": null,
   "metadata": {},
   "outputs": [],
   "source": [
    "import scipy.linalg # kindof annoying, but numpy doesn't do GED\n",
    "\n",
    "# define matrices\n",
    "A = np.array([ [3,2], [1,3]])\n",
    "B = np.array([ [1,1], [4,1]])\n",
    "\n",
    "# GED\n",
    "eigvals,eigvecs = scipy.linalg.eig(A,B)\n",
    "\n",
    "\n",
    "# matrix-vector multiplication\n",
    "Av = A@eigvecs[:,1]\n",
    "Bv = B@eigvecs[:,1]\n",
    "BinvAv = np.linalg.inv(B)@A@eigvecs[:,1]\n",
    "\n",
    "\n",
    "plt.plot([0,eigvecs[0,1]],[0,eigvecs[1,1]],'k',linewidth=4,label='$v_2$')\n",
    "plt.plot([0,Av[0]],[0,Av[1]],'r--',linewidth=2,label='$Av_2$')\n",
    "plt.xlim([-3,3]), plt.ylim([-3,3])\n",
    "plt.plot([-3,3],[0,0],'k:')\n",
    "plt.plot([0,0],[-3,3],'k:')\n",
    "plt.legend()\n",
    "plt.title('Av')\n",
    "plt.show()\n",
    "\n",
    "plt.plot([0,eigvecs[0,1]],[0,eigvecs[1,1]],'k',linewidth=4,label='$v_2$')\n",
    "plt.plot([0,Bv[0]],[0,Bv[1]],'r--',linewidth=2,label='$Bv_2$')\n",
    "plt.xlim([-3,3]), plt.ylim([-3,3])\n",
    "plt.plot([-3,3],[0,0],'k:')\n",
    "plt.plot([0,0],[-3,3],'k:')\n",
    "plt.legend()\n",
    "plt.title('Bv')\n",
    "plt.show()\n",
    "\n",
    "\n",
    "plt.plot([0,eigvecs[0,1]],[0,eigvecs[1,1]],'k',linewidth=4,label='$v_2$')\n",
    "plt.plot([0,BinvAv[0]],[0,BinvAv[1]],'r--',linewidth=2,label='B$^{-1}$Av_2')\n",
    "plt.xlim([-3,3]), plt.ylim([-3,3])\n",
    "plt.plot([-3,3],[0,0],'k:')\n",
    "plt.plot([0,0],[-3,3],'k:')\n",
    "plt.legend()\n",
    "plt.title('B$^{-1}$Av')\n",
    "plt.show()\n",
    "\n"
   ]
  }
 ],
 "metadata": {
  "kernelspec": {
   "display_name": "Python 3",
   "language": "python",
   "name": "python3"
  },
  "language_info": {
   "codemirror_mode": {
    "name": "ipython",
    "version": 3
   },
   "file_extension": ".py",
   "mimetype": "text/x-python",
   "name": "python",
   "nbconvert_exporter": "python",
   "pygments_lexer": "ipython3",
   "version": "3.7.3"
  }
 },
 "nbformat": 4,
 "nbformat_minor": 2
}
