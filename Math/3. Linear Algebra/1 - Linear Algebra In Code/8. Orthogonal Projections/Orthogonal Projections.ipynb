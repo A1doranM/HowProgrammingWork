{
 "cells": [
  {
   "metadata": {},
   "cell_type": "markdown",
   "source": "# Orthogonal projections",
   "id": "ed259f6eeb1c624"
  },
  {
   "metadata": {},
   "cell_type": "markdown",
   "source": [
    "## Projection onto subspace \n",
    "\n",
    "![](./images/img.png)\n",
    "\n"
   ],
   "id": "58df130d1a345ae9"
  }
 ],
 "metadata": {
  "kernelspec": {
   "display_name": "Python 3",
   "language": "python",
   "name": "python3"
  },
  "language_info": {
   "codemirror_mode": {
    "name": "ipython",
    "version": 2
   },
   "file_extension": ".py",
   "mimetype": "text/x-python",
   "name": "python",
   "nbconvert_exporter": "python",
   "pygments_lexer": "ipython2",
   "version": "2.7.6"
  }
 },
 "nbformat": 4,
 "nbformat_minor": 5
}
