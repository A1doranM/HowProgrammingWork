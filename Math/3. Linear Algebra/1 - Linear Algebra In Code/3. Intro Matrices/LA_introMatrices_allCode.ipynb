{
 "cells": [
  {
   "cell_type": "markdown",
   "metadata": {},
   "source": [
    "#     COURSE: Linear algebra: theory and implementation\n",
    "##    SECTION: Introduction to matrices\n",
    "\n",
    "#### Instructor: sincxpress.com\n",
    "##### Course url: https://www.udemy.com/course/linear-algebra-theory-and-implementation/?couponCode=202110"
   ]
  },
  {
   "cell_type": "code",
   "metadata": {
    "ExecuteTime": {
     "end_time": "2024-07-19T11:07:29.204979Z",
     "start_time": "2024-07-19T11:07:29.100923Z"
    }
   },
   "source": [
    "import numpy as np"
   ],
   "outputs": [],
   "execution_count": 1
  },
  {
   "cell_type": "markdown",
   "metadata": {},
   "source": [
    "\n",
    "---\n",
    "# A zoo of matrices\n",
    "---\n"
   ]
  },
  {
   "cell_type": "code",
   "metadata": {
    "ExecuteTime": {
     "end_time": "2024-07-19T11:07:29.333622Z",
     "start_time": "2024-07-19T11:07:29.205860Z"
    }
   },
   "source": [
    "\n",
    "# square vs. rectangular\n",
    "S = np.random.randn(5, 5)\n",
    "R = np.random.randn(5, 2)  # 5 rows, 2 columns\n",
    "print(S), print(' ')\n",
    "print(R)\n",
    "\n",
    "# identity\n",
    "I = np.eye(3)\n",
    "print(I), print(' ')\n",
    "\n",
    "# zeros\n",
    "Z = np.zeros((4, 4))\n",
    "print(Z), print(' ')\n",
    "\n",
    "# diagonal\n",
    "D = np.diag([1, 2, 3, 5, 2])\n",
    "print(D), print(' ')\n",
    "\n",
    "# create triangular matrix from full matrices\n",
    "S = np.random.randn(5, 5)\n",
    "U = np.triu(S)\n",
    "L = np.tril(S)\n",
    "print(L), print(' ')\n",
    "\n",
    "# concatenate matrices (sizes must match!)\n",
    "A = np.random.randn(3, 2)\n",
    "B = np.random.randn(4, 4)\n",
    "C = np.concatenate((A, B), axis=1)\n",
    "print(C)"
   ],
   "outputs": [
    {
     "name": "stdout",
     "output_type": "stream",
     "text": [
      "[[ 2.35058224 -0.40154064  0.29942109  0.17430237 -1.68468147]\n",
      " [-0.00522525  1.49173626 -0.51802445  1.18796797 -1.05011861]\n",
      " [-0.89326073  0.56870057  1.00700629  0.16466154  0.1449396 ]\n",
      " [-0.09513841  0.32819056 -2.00521275 -1.80077252 -1.67958604]\n",
      " [-0.28740774 -1.12150286 -0.78525631  0.76449827  0.2755754 ]]\n",
      " \n",
      "[[ 0.24653541 -0.87537577]\n",
      " [-0.78511682 -0.37380959]\n",
      " [ 0.0235158  -0.14353341]\n",
      " [-0.3373425  -0.13045002]\n",
      " [-0.15309596 -0.14388752]]\n",
      "[[1. 0. 0.]\n",
      " [0. 1. 0.]\n",
      " [0. 0. 1.]]\n",
      " \n",
      "[[0. 0. 0. 0.]\n",
      " [0. 0. 0. 0.]\n",
      " [0. 0. 0. 0.]\n",
      " [0. 0. 0. 0.]]\n",
      " \n",
      "[[1 0 0 0 0]\n",
      " [0 2 0 0 0]\n",
      " [0 0 3 0 0]\n",
      " [0 0 0 5 0]\n",
      " [0 0 0 0 2]]\n",
      " \n",
      "[[-1.8014022   0.          0.          0.          0.        ]\n",
      " [ 1.31427426  1.83728585  0.          0.          0.        ]\n",
      " [ 0.36624841  0.99919651  1.28934116  0.          0.        ]\n",
      " [-1.5703047  -0.16265934 -0.05542943 -1.82038286  0.        ]\n",
      " [ 0.9532183   0.2781282   0.09059743  0.39030282 -0.88451616]]\n",
      " \n"
     ]
    },
    {
     "ename": "ValueError",
     "evalue": "all the input array dimensions except for the concatenation axis must match exactly, but along dimension 0, the array at index 0 has size 3 and the array at index 1 has size 4",
     "output_type": "error",
     "traceback": [
      "\u001B[0;31m---------------------------------------------------------------------------\u001B[0m",
      "\u001B[0;31mValueError\u001B[0m                                Traceback (most recent call last)",
      "Cell \u001B[0;32mIn[2], line 28\u001B[0m\n\u001B[1;32m     26\u001B[0m A \u001B[38;5;241m=\u001B[39m np\u001B[38;5;241m.\u001B[39mrandom\u001B[38;5;241m.\u001B[39mrandn(\u001B[38;5;241m3\u001B[39m,\u001B[38;5;241m2\u001B[39m)\n\u001B[1;32m     27\u001B[0m B \u001B[38;5;241m=\u001B[39m np\u001B[38;5;241m.\u001B[39mrandom\u001B[38;5;241m.\u001B[39mrandn(\u001B[38;5;241m4\u001B[39m,\u001B[38;5;241m4\u001B[39m)\n\u001B[0;32m---> 28\u001B[0m C \u001B[38;5;241m=\u001B[39m \u001B[43mnp\u001B[49m\u001B[38;5;241;43m.\u001B[39;49m\u001B[43mconcatenate\u001B[49m\u001B[43m(\u001B[49m\u001B[43m(\u001B[49m\u001B[43mA\u001B[49m\u001B[43m,\u001B[49m\u001B[43mB\u001B[49m\u001B[43m)\u001B[49m\u001B[43m,\u001B[49m\u001B[43maxis\u001B[49m\u001B[38;5;241;43m=\u001B[39;49m\u001B[38;5;241;43m1\u001B[39;49m\u001B[43m)\u001B[49m\n\u001B[1;32m     29\u001B[0m \u001B[38;5;28mprint\u001B[39m(C)\n",
      "\u001B[0;31mValueError\u001B[0m: all the input array dimensions except for the concatenation axis must match exactly, but along dimension 0, the array at index 0 has size 3 and the array at index 1 has size 4"
     ]
    }
   ],
   "execution_count": 2
  },
  {
   "metadata": {},
   "cell_type": "markdown",
   "source": [
    "---\n",
    "# Matrix vector products\n",
    "---\n"
   ]
  },
  {
   "metadata": {},
   "cell_type": "markdown",
   "source": [
    "Let's see how we can multiply matrix by vector \n",
    "\n",
    "![](./images/img.png)\n",
    "\n",
    "To do such operation vector should have same number of rows as matrix columns. And then we do such operation, the result will be new vector.\n",
    "\n",
    "![](./images/img_1.png)"
   ]
  },
  {
   "metadata": {
    "ExecuteTime": {
     "end_time": "2024-07-19T11:10:47.304101Z",
     "start_time": "2024-07-19T11:10:47.295849Z"
    }
   },
   "cell_type": "code",
   "source": [
    "# Example \n",
    "\n",
    "matrix = [[1, 2, 3],\n",
    "          [4, 5, 6]]\n",
    "\n",
    "vector = [1, 2, 3]\n",
    "\n",
    "result = [1*1 + 2*2 + 3*3, 4*1 + 4*2 + 4*3]\n",
    "\n",
    "result"
   ],
   "outputs": [
    {
     "data": {
      "text/plain": [
       "[14, 24]"
      ]
     },
     "execution_count": 4,
     "metadata": {},
     "output_type": "execute_result"
    }
   ],
   "execution_count": 4
  },
  {
   "metadata": {},
   "cell_type": "markdown",
   "source": [
    "---\n",
    "# Matrix addition and subtraction\n",
    "---"
   ]
  },
  {
   "cell_type": "markdown",
   "metadata": {},
   "source": [
    "\n",
    "---\n",
    "# Matrix addition and subtraction\n",
    "---\n"
   ]
  },
  {
   "cell_type": "code",
   "metadata": {
    "ExecuteTime": {
     "end_time": "2024-07-18T15:06:47.114100Z",
     "start_time": "2024-07-18T15:06:47.097609Z"
    }
   },
   "source": [
    "\n",
    "# create random matrices\n",
    "A = np.random.randn(5, 4)\n",
    "B = np.random.randn(5, 3)\n",
    "C = np.random.randn(5, 4)\n",
    "\n",
    "# try to add them\n",
    "A + B\n",
    "A + C\n",
    "\n",
    "# \"shifting\" a matrix\n",
    "l = .03  # lambda\n",
    "N = 5  # size of square matrix\n",
    "D = np.random.randn(N, N)  # can only shift a square matrix\n",
    "\n",
    "Ds = D + l * np.eye(N)\n",
    "print(D), print(' '), print(Ds)"
   ],
   "outputs": [
    {
     "ename": "ValueError",
     "evalue": "operands could not be broadcast together with shapes (5,4) (5,3) ",
     "output_type": "error",
     "traceback": [
      "\u001B[0;31m---------------------------------------------------------------------------\u001B[0m",
      "\u001B[0;31mValueError\u001B[0m                                Traceback (most recent call last)",
      "Cell \u001B[0;32mIn[3], line 7\u001B[0m\n\u001B[1;32m      4\u001B[0m C \u001B[38;5;241m=\u001B[39m np\u001B[38;5;241m.\u001B[39mrandom\u001B[38;5;241m.\u001B[39mrandn(\u001B[38;5;241m5\u001B[39m,\u001B[38;5;241m4\u001B[39m)\n\u001B[1;32m      6\u001B[0m \u001B[38;5;66;03m# try to add them\u001B[39;00m\n\u001B[0;32m----> 7\u001B[0m \u001B[43mA\u001B[49m\u001B[38;5;241;43m+\u001B[39;49m\u001B[43mB\u001B[49m\n\u001B[1;32m      8\u001B[0m A\u001B[38;5;241m+\u001B[39mC\n\u001B[1;32m     12\u001B[0m \u001B[38;5;66;03m# \"shifting\" a matrix\u001B[39;00m\n",
      "\u001B[0;31mValueError\u001B[0m: operands could not be broadcast together with shapes (5,4) (5,3) "
     ]
    }
   ],
   "execution_count": 3
  },
  {
   "cell_type": "markdown",
   "metadata": {},
   "source": [
    "\n",
    "---\n",
    "# Matrix-scalar multiplication\n",
    "---\n"
   ]
  },
  {
   "cell_type": "code",
   "metadata": {
    "ExecuteTime": {
     "end_time": "2024-07-18T15:08:20.318526Z",
     "start_time": "2024-07-18T15:08:20.315111Z"
    }
   },
   "source": [
    "# define matrix and scalar\n",
    "M = np.array([[1, 2], [2, 5]])\n",
    "s = 2\n",
    "\n",
    "# pre- and post-multiplication is the same:\n",
    "print(M * s)\n",
    "print(s * M)\n"
   ],
   "outputs": [
    {
     "name": "stdout",
     "output_type": "stream",
     "text": [
      "[[ 2  4]\n",
      " [ 4 10]]\n",
      "[[ 2  4]\n",
      " [ 4 10]]\n"
     ]
    }
   ],
   "execution_count": 4
  },
  {
   "cell_type": "markdown",
   "metadata": {},
   "source": "# Transpose"
  },
  {
   "cell_type": "code",
   "metadata": {
    "ExecuteTime": {
     "end_time": "2024-06-21T12:06:46.307774Z",
     "start_time": "2024-06-21T12:06:46.303870Z"
    }
   },
   "source": [
    "M = np.array([[1, 2, 3],\n",
    "              [2, 3, 4]])\n",
    "\n",
    "print(M), print('')\n",
    "print(M.T), print('')  # one transpose\n",
    "print(M.T.T), print('')  # double-transpose returns the original matrix\n",
    "\n",
    "# can also use the function transpose\n",
    "print(np.transpose(M))"
   ],
   "outputs": [
    {
     "name": "stdout",
     "output_type": "stream",
     "text": [
      "[[1 2 3]\n",
      " [2 3 4]]\n",
      "\n",
      "[[1 2]\n",
      " [2 3]\n",
      " [3 4]]\n",
      "\n",
      "[[1 2 3]\n",
      " [2 3 4]]\n",
      "\n",
      "[[1 2]\n",
      " [2 3]\n",
      " [3 4]]\n"
     ]
    }
   ],
   "execution_count": 2
  },
  {
   "cell_type": "code",
   "metadata": {
    "ExecuteTime": {
     "end_time": "2024-06-21T12:06:47.157691Z",
     "start_time": "2024-06-21T12:06:47.152951Z"
    }
   },
   "source": [
    "# warning! be careful when using complex matrices\n",
    "C = np.array([[4 + 1j, 3, 2 - 4j]])\n",
    "\n",
    "print(C), print('')\n",
    "print(C.T), print('')\n",
    "print(np.transpose(C)), print('')\n",
    "\n",
    "# Note: In MATLAB, the transpose is the Hermitian transpose; \n",
    "#       in Python, you need to call the Hermitian explicitly by first converting from an array into a matrix\n",
    "print(C.conjugate().T)  # note the sign flips!\n",
    "# Another note: the code I used in the video will soon be depreciated; use the above line instead.\n"
   ],
   "outputs": [
    {
     "name": "stdout",
     "output_type": "stream",
     "text": [
      "[[4.+1.j 3.+0.j 2.-4.j]]\n",
      "\n",
      "[[4.+1.j]\n",
      " [3.+0.j]\n",
      " [2.-4.j]]\n",
      "\n",
      "[[4.+1.j]\n",
      " [3.+0.j]\n",
      " [2.-4.j]]\n",
      "\n",
      "[[4.-1.j]\n",
      " [3.-0.j]\n",
      " [2.+4.j]]\n"
     ]
    }
   ],
   "execution_count": 3
  },
  {
   "cell_type": "markdown",
   "metadata": {},
   "source": [
    "\n",
    "---\n",
    "# Diagonal and trace\n",
    "---\n"
   ]
  },
  {
   "cell_type": "code",
   "metadata": {
    "ExecuteTime": {
     "end_time": "2024-06-21T12:07:05.952991Z",
     "start_time": "2024-06-21T12:07:05.947539Z"
    }
   },
   "source": [
    "\n",
    "M = np.round(6 * np.random.randn(4, 4))\n",
    "print(M), print(' ')\n",
    "# extract the diagonals\n",
    "d = np.diag(M)\n",
    "\n",
    "# notice the two ways of using the diag function\n",
    "d = np.diag(M)  # input is matrix, output is vector\n",
    "D = np.diag(d)  # input is vector, output is matrix\n",
    "print(d)\n",
    "print(D)\n",
    "\n",
    "# trace as sum of diagonal elements\n",
    "tr = np.trace(M)\n",
    "tr2 = sum(np.diag(M))\n",
    "print(tr, tr2)"
   ],
   "outputs": [
    {
     "name": "stdout",
     "output_type": "stream",
     "text": [
      "[[ 1. -0. -6.  3.]\n",
      " [-2.  2.  1.  3.]\n",
      " [-2. -8. -1. -2.]\n",
      " [ 8. -2.  1. -7.]]\n",
      " \n",
      "[ 1.  2. -1. -7.]\n",
      "[[ 1.  0.  0.  0.]\n",
      " [ 0.  2.  0.  0.]\n",
      " [ 0.  0. -1.  0.]\n",
      " [ 0.  0.  0. -7.]]\n",
      "-5.0 -5.0\n"
     ]
    }
   ],
   "execution_count": 5
  },
  {
   "cell_type": "markdown",
   "metadata": {},
   "source": [
    "\n",
    "---\n",
    "# Broadcasting matrix arithmetic\n",
    "---\n"
   ]
  },
  {
   "cell_type": "code",
   "metadata": {
    "ExecuteTime": {
     "end_time": "2024-06-24T15:28:23.773272Z",
     "start_time": "2024-06-24T15:28:23.768629Z"
    }
   },
   "source": [
    "# create a matrix\n",
    "A = np.reshape(np.arange(1, 13), (3, 4), 'F')  # F=column, C=row\n",
    "\n",
    "# and two vectors\n",
    "r = [10, 20, 30, 40]\n",
    "c = [100, 200, 300]\n",
    "\n",
    "print(A), print(' ')\n",
    "print(r), print(' ')\n",
    "print(c), print(' ');"
   ],
   "outputs": [
    {
     "name": "stdout",
     "output_type": "stream",
     "text": [
      "[[ 1  4  7 10]\n",
      " [ 2  5  8 11]\n",
      " [ 3  6  9 12]]\n",
      " \n",
      "[10, 20, 30, 40]\n",
      " \n",
      "[100, 200, 300]\n",
      " \n"
     ]
    }
   ],
   "execution_count": 2
  },
  {
   "cell_type": "code",
   "metadata": {
    "ExecuteTime": {
     "end_time": "2024-06-24T15:28:24.145968Z",
     "start_time": "2024-06-24T15:28:24.135715Z"
    }
   },
   "source": [
    "# broadcast on the rows\n",
    "# print(A+r), print(' ')\n",
    "\n",
    "# broadcast on the columns\n",
    "print(A + c)\n",
    "# print(A+np.reshape(c,(len(c),1))) # only works for explicit column vectors\n"
   ],
   "outputs": [
    {
     "ename": "ValueError",
     "evalue": "operands could not be broadcast together with shapes (3,4) (3,) ",
     "output_type": "error",
     "traceback": [
      "\u001B[0;31m---------------------------------------------------------------------------\u001B[0m",
      "\u001B[0;31mValueError\u001B[0m                                Traceback (most recent call last)",
      "Cell \u001B[0;32mIn[3], line 5\u001B[0m\n\u001B[1;32m      1\u001B[0m \u001B[38;5;66;03m# broadcast on the rows\u001B[39;00m\n\u001B[1;32m      2\u001B[0m \u001B[38;5;66;03m# print(A+r), print(' ')\u001B[39;00m\n\u001B[1;32m      3\u001B[0m \n\u001B[1;32m      4\u001B[0m \u001B[38;5;66;03m# broadcast on the columns\u001B[39;00m\n\u001B[0;32m----> 5\u001B[0m \u001B[38;5;28mprint\u001B[39m(\u001B[43mA\u001B[49m\u001B[38;5;241;43m+\u001B[39;49m\u001B[43mc\u001B[49m)\n\u001B[1;32m      6\u001B[0m \u001B[38;5;66;03m# print(A+np.reshape(c,(len(c),1))) # only works for explicit column vectors\u001B[39;00m\n",
      "\u001B[0;31mValueError\u001B[0m: operands could not be broadcast together with shapes (3,4) (3,) "
     ]
    }
   ],
   "execution_count": 3
  },
  {
   "metadata": {},
   "cell_type": "code",
   "outputs": [],
   "execution_count": null,
   "source": ""
  }
 ],
 "metadata": {
  "kernelspec": {
   "display_name": "Python 3",
   "language": "python",
   "name": "python3"
  },
  "language_info": {
   "codemirror_mode": {
    "name": "ipython",
    "version": 3
   },
   "file_extension": ".py",
   "mimetype": "text/x-python",
   "name": "python",
   "nbconvert_exporter": "python",
   "pygments_lexer": "ipython3",
   "version": "3.7.3"
  }
 },
 "nbformat": 4,
 "nbformat_minor": 2
}
