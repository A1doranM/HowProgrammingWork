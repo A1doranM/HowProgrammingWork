{
 "cells": [
  {
   "metadata": {},
   "cell_type": "markdown",
   "source": [
    "# Content\n",
    "\n",
    "[A zoo of matrices](#-a-zoo-of-matrices)\n",
    "\n",
    "[Matrix vector products](#-matrix-vector-products)\n",
    "\n",
    "[Matrix Null space and calculation of Null space](#-matrix-null-space-and-calculation-of-null-space)\n",
    "\n",
    "[Matrix Column space](#-matrix-column-space)\n",
    "\n",
    "[Eigenvectors and Eigenspaces](#-linear-transformation-of-vectors-using-matrices)\n",
    "\n",
    "[Eigenvectors and Eigenspaces](#-expressing-a-projection-on-to-a-line-as-a-matrix-vector-product)\n",
    "\n",
    "[Eigenvectors and Eigenspaces](#-matrix-product)\n",
    "\n",
    "[Eigenvectors and Eigenspaces](#-matrix-addition-and-subtraction)"
   ]
  },
  {
   "cell_type": "markdown",
   "metadata": {},
   "source": [
    "#     COURSE: Linear algebra: theory and implementation\n",
    "##    SECTION: Introduction to matrices\n",
    "\n",
    "#### Instructor: sincxpress.com\n",
    "##### Course url: https://www.udemy.com/course/linear-algebra-theory-and-implementation/?couponCode=202110"
   ]
  },
  {
   "cell_type": "code",
   "metadata": {
    "ExecuteTime": {
     "end_time": "2024-07-31T14:42:59.129993Z",
     "start_time": "2024-07-31T14:42:59.119282Z"
    }
   },
   "source": [
    "import numpy as np"
   ],
   "outputs": [],
   "execution_count": 3
  },
  {
   "cell_type": "markdown",
   "metadata": {},
   "source": [
    "\n",
    "---\n",
    "# A zoo of matrices\n",
    "---\n"
   ]
  },
  {
   "cell_type": "code",
   "metadata": {
    "ExecuteTime": {
     "end_time": "2024-07-19T11:07:29.333622Z",
     "start_time": "2024-07-19T11:07:29.205860Z"
    }
   },
   "source": [
    "\n",
    "# square vs. rectangular\n",
    "S = np.random.randn(5, 5)\n",
    "R = np.random.randn(5, 2)  # 5 rows, 2 columns\n",
    "print(S), print(' ')\n",
    "print(R)\n",
    "\n",
    "# identity\n",
    "I = np.eye(3)\n",
    "print(I), print(' ')\n",
    "\n",
    "# zeros\n",
    "Z = np.zeros((4, 4))\n",
    "print(Z), print(' ')\n",
    "\n",
    "# diagonal\n",
    "D = np.diag([1, 2, 3, 5, 2])\n",
    "print(D), print(' ')\n",
    "\n",
    "# create triangular matrix from full matrices\n",
    "S = np.random.randn(5, 5)\n",
    "U = np.triu(S)\n",
    "L = np.tril(S)\n",
    "print(L), print(' ')\n",
    "\n",
    "# concatenate matrices (sizes must match!)\n",
    "A = np.random.randn(3, 2)\n",
    "B = np.random.randn(4, 4)\n",
    "C = np.concatenate((A, B), axis=1)\n",
    "print(C)"
   ],
   "outputs": [
    {
     "name": "stdout",
     "output_type": "stream",
     "text": [
      "[[ 2.35058224 -0.40154064  0.29942109  0.17430237 -1.68468147]\n",
      " [-0.00522525  1.49173626 -0.51802445  1.18796797 -1.05011861]\n",
      " [-0.89326073  0.56870057  1.00700629  0.16466154  0.1449396 ]\n",
      " [-0.09513841  0.32819056 -2.00521275 -1.80077252 -1.67958604]\n",
      " [-0.28740774 -1.12150286 -0.78525631  0.76449827  0.2755754 ]]\n",
      " \n",
      "[[ 0.24653541 -0.87537577]\n",
      " [-0.78511682 -0.37380959]\n",
      " [ 0.0235158  -0.14353341]\n",
      " [-0.3373425  -0.13045002]\n",
      " [-0.15309596 -0.14388752]]\n",
      "[[1. 0. 0.]\n",
      " [0. 1. 0.]\n",
      " [0. 0. 1.]]\n",
      " \n",
      "[[0. 0. 0. 0.]\n",
      " [0. 0. 0. 0.]\n",
      " [0. 0. 0. 0.]\n",
      " [0. 0. 0. 0.]]\n",
      " \n",
      "[[1 0 0 0 0]\n",
      " [0 2 0 0 0]\n",
      " [0 0 3 0 0]\n",
      " [0 0 0 5 0]\n",
      " [0 0 0 0 2]]\n",
      " \n",
      "[[-1.8014022   0.          0.          0.          0.        ]\n",
      " [ 1.31427426  1.83728585  0.          0.          0.        ]\n",
      " [ 0.36624841  0.99919651  1.28934116  0.          0.        ]\n",
      " [-1.5703047  -0.16265934 -0.05542943 -1.82038286  0.        ]\n",
      " [ 0.9532183   0.2781282   0.09059743  0.39030282 -0.88451616]]\n",
      " \n"
     ]
    },
    {
     "ename": "ValueError",
     "evalue": "all the input array dimensions except for the concatenation axis must match exactly, but along dimension 0, the array at index 0 has size 3 and the array at index 1 has size 4",
     "output_type": "error",
     "traceback": [
      "\u001B[0;31m---------------------------------------------------------------------------\u001B[0m",
      "\u001B[0;31mValueError\u001B[0m                                Traceback (most recent call last)",
      "Cell \u001B[0;32mIn[2], line 28\u001B[0m\n\u001B[1;32m     26\u001B[0m A \u001B[38;5;241m=\u001B[39m np\u001B[38;5;241m.\u001B[39mrandom\u001B[38;5;241m.\u001B[39mrandn(\u001B[38;5;241m3\u001B[39m,\u001B[38;5;241m2\u001B[39m)\n\u001B[1;32m     27\u001B[0m B \u001B[38;5;241m=\u001B[39m np\u001B[38;5;241m.\u001B[39mrandom\u001B[38;5;241m.\u001B[39mrandn(\u001B[38;5;241m4\u001B[39m,\u001B[38;5;241m4\u001B[39m)\n\u001B[0;32m---> 28\u001B[0m C \u001B[38;5;241m=\u001B[39m \u001B[43mnp\u001B[49m\u001B[38;5;241;43m.\u001B[39;49m\u001B[43mconcatenate\u001B[49m\u001B[43m(\u001B[49m\u001B[43m(\u001B[49m\u001B[43mA\u001B[49m\u001B[43m,\u001B[49m\u001B[43mB\u001B[49m\u001B[43m)\u001B[49m\u001B[43m,\u001B[49m\u001B[43maxis\u001B[49m\u001B[38;5;241;43m=\u001B[39;49m\u001B[38;5;241;43m1\u001B[39;49m\u001B[43m)\u001B[49m\n\u001B[1;32m     29\u001B[0m \u001B[38;5;28mprint\u001B[39m(C)\n",
      "\u001B[0;31mValueError\u001B[0m: all the input array dimensions except for the concatenation axis must match exactly, but along dimension 0, the array at index 0 has size 3 and the array at index 1 has size 4"
     ]
    }
   ],
   "execution_count": 2
  },
  {
   "metadata": {},
   "cell_type": "markdown",
   "source": [
    "---\n",
    "# Matrix vector products\n",
    "---\n"
   ]
  },
  {
   "metadata": {},
   "cell_type": "markdown",
   "source": [
    "Let's see how we can multiply matrix by vector \n",
    "\n",
    "![](./images/img.png)\n",
    "\n",
    "To do such operation vector should have same number of rows as matrix columns. And then we do such operation, the result will be new vector.\n",
    "\n",
    "![](./images/img_1.png)"
   ]
  },
  {
   "metadata": {
    "ExecuteTime": {
     "end_time": "2024-07-19T11:10:47.304101Z",
     "start_time": "2024-07-19T11:10:47.295849Z"
    }
   },
   "cell_type": "code",
   "source": [
    "# Example \n",
    "\n",
    "matrix = [[1, 2, 3],\n",
    "          [4, 5, 6]]\n",
    "\n",
    "vector = [1, 2, 3]\n",
    "\n",
    "result = [1*1 + 2*2 + 3*3, 4*1 + 4*2 + 4*3]\n",
    "\n",
    "result"
   ],
   "outputs": [
    {
     "data": {
      "text/plain": [
       "[14, 24]"
      ]
     },
     "execution_count": 4,
     "metadata": {},
     "output_type": "execute_result"
    }
   ],
   "execution_count": 4
  },
  {
   "metadata": {},
   "cell_type": "markdown",
   "source": [
    "---\n",
    "# Matrix null space and calculation of null space\n",
    "---"
   ]
  },
  {
   "metadata": {},
   "cell_type": "markdown",
   "source": [
    "The null space of matrix is the set of vectors. And when we multiply it times matrix we receive 0 vector. \n",
    "\n",
    "matrix = [[1, 2, 3, ... n],\n",
    "          [4, 5, 6, ... n]]\n",
    "\n",
    "vector = [x1, x2, x3, ... xn]\n",
    "\n",
    "matrix * vector = [0, 0, ... 0]\n",
    "\n",
    "In general, it will look like this \n",
    "\n",
    "## Calculating the Null Space of a Matrix\n",
    "\n",
    "To calculate the null space (or kernel) of a matrix, you need to find all the vectors that satisfy the equation A*X = R, where A is the given matrix and R is the zero vector. Here is a detailed explanation of how to do this:\n",
    "\n",
    "### Step-by-Step Process\n",
    "\n",
    "1. **Write the Matrix Equation**:\n",
    "   Suppose \\( A \\) is an \\( m \\times n \\) matrix. The null space consists of all vectors \\( \\mathbf{x} \\in \\mathbb{R}^n \\) such that:\n",
    "   \\[\n",
    "   A\\mathbf{x} = \\mathbf{0}\n",
    "   \\]\n",
    "\n",
    "2. **Set Up the Augmented Matrix**:\n",
    "   Form the augmented matrix \\([A | \\mathbf{0}]\\), where \\(\\mathbf{0}\\) is a zero column vector of appropriate dimension.\n",
    "\n",
    "3. **Row Reduce to Row Echelon Form (REF)**:\n",
    "   Use Gaussian elimination to row reduce the augmented matrix to its row echelon form. This involves performing a series of row operations to simplify the matrix:\n",
    "   - Swap rows.\n",
    "   - Multiply rows by non-zero scalars.\n",
    "   - Add or subtract multiples of rows from each other.\n",
    "\n",
    "4. **Identify Pivot Columns**:\n",
    "   In the row echelon form of the matrix, identify the pivot columns. These columns contain the leading entries (first non-zero entry from the left) in each row.\n",
    "\n",
    "5. **Determine Free Variables**:\n",
    "   The variables corresponding to the pivot columns are the basic variables, and the variables corresponding to the non-pivot columns are the free variables. Free variables can take any value.\n",
    "\n",
    "6. **Express Basic Variables in Terms of Free Variables**:\n",
    "   Solve the system of linear equations for the basic variables in terms of the free variables. This step involves back-substitution if necessary.\n",
    "\n",
    "7. **Form the General Solution**:\n",
    "   Express the general solution as a linear combination of vectors. Each free variable corresponds to a vector in the null space. The null space is the span of these vectors.\n",
    "\n",
    "\n",
    "### Example:\n",
    "\n",
    "Example\n",
    "\n",
    "![](./images/img_2.png)\n",
    "\n",
    "![](./images/img_3.png)\n",
    "\n",
    "![](./images/img_4.png)\n",
    "\n",
    "![](./images/img_5.png)\n",
    "\n",
    "![](./images/img_6.png)\n",
    "\n",
    "![](./images/img_7.png)\n",
    "\n",
    "![](./images/img_8.png)\n",
    "\n",
    "### Dimension of the Null Space (Rank) \n",
    "\n",
    "It is a number of elements in a basis for the subspace, so for example above it is 2.\n",
    "\n",
    "### Nullity of the Null Space \n",
    "\n",
    "It is the number of not pivot columns, so for example above it is 2."
   ]
  },
  {
   "metadata": {},
   "cell_type": "markdown",
   "source": [
    "### Relation to linear independence\n",
    "\n",
    "If matrix Null space contains only zero vector, it means that all vectors in matrix are linearly independent."
   ]
  },
  {
   "metadata": {},
   "cell_type": "markdown",
   "source": [
    "\n",
    "---\n",
    "# Matrix column space\n",
    "---"
   ]
  },
  {
   "metadata": {},
   "cell_type": "markdown",
   "source": "The column space of a matrix, also known as the range or image, is the set of all possible linear combinations of its column vectors. In simpler terms, it is the span of the columns of the matrix."
  },
  {
   "metadata": {},
   "cell_type": "markdown",
   "source": [
    "\n",
    "---\n",
    "# Linear transformation of vectors using matrices\n",
    "---"
   ]
  },
  {
   "metadata": {},
   "cell_type": "markdown",
   "source": [
    "Here us general representation for 2D space \n",
    "\n",
    "![](./images/img_9.png)\n",
    "\n",
    "For example if we have such space with two basis vectors green [1, 0] and red [0, 1]  \n",
    "\n",
    "![](./images/img_10.png)\n",
    "\n",
    "Then we apply some transformation where green becomes [1, -2], and red [3, 0]\n",
    "\n",
    "![](./images/img_11.png)\n",
    "\n",
    "So to represent all other vectors which depends on green and red basis we should just use method above."
   ]
  },
  {
   "metadata": {},
   "cell_type": "markdown",
   "source": [
    "---\n",
    "# Expressing a Projection on to a line as a Matrix Vector product.\n",
    "---"
   ]
  },
  {
   "metadata": {},
   "cell_type": "markdown",
   "source": [
    "![](./images/img_12.png)\n",
    "\n",
    "![](./images/img_13.png)\n",
    "\n",
    "![](./images/img_14.png)\n"
   ]
  },
  {
   "metadata": {},
   "cell_type": "markdown",
   "source": [
    "---\n",
    "# Matrix product\n",
    "---"
   ]
  },
  {
   "metadata": {},
   "cell_type": "markdown",
   "source": "https://www.mathsisfun.com/algebra/matrix-multiplying.html"
  },
  {
   "metadata": {},
   "cell_type": "markdown",
   "source": [
    "\n",
    "---\n",
    "# Matrix addition and subtraction\n",
    "---\n"
   ]
  },
  {
   "metadata": {},
   "cell_type": "code",
   "outputs": [
    {
     "name": "stdout",
     "output_type": "stream",
     "text": [
      "[[ 0.4133893   0.6777795   0.69210947  0.61558148  1.45966855]\n",
      " [ 1.20532356 -0.39421186 -1.66922713 -0.33701723  1.09002399]\n",
      " [ 1.5909845  -0.0347962  -0.54489463 -1.00695566 -0.50006721]\n",
      " [ 0.75169649  0.0845031   0.01217283 -1.23470959 -0.02118112]\n",
      " [ 0.23258404  0.22002119  0.09224822  0.24265218  1.24716761]]\n",
      " \n",
      "[[ 0.4433893   0.6777795   0.69210947  0.61558148  1.45966855]\n",
      " [ 1.20532356 -0.36421186 -1.66922713 -0.33701723  1.09002399]\n",
      " [ 1.5909845  -0.0347962  -0.51489463 -1.00695566 -0.50006721]\n",
      " [ 0.75169649  0.0845031   0.01217283 -1.20470959 -0.02118112]\n",
      " [ 0.23258404  0.22002119  0.09224822  0.24265218  1.27716761]]\n"
     ]
    },
    {
     "data": {
      "text/plain": [
       "(None, None, None)"
      ]
     },
     "execution_count": 4,
     "metadata": {},
     "output_type": "execute_result"
    }
   ],
   "execution_count": 4,
   "source": [
    "\n",
    "# create random matrices\n",
    "A = np.random.randn(5, 4)\n",
    "B = np.random.randn(5, 3)\n",
    "C = np.random.randn(5, 4)\n",
    "\n",
    "# try to add them\n",
    "# A + B # will be error because of 5x4 matrix can not be added to 5x3\n",
    "A + C \n",
    "\n",
    "# \"shifting\" a matrix\n",
    "l = .03  # lambda\n",
    "N = 5  # size of square matrix\n",
    "D = np.random.randn(N, N)  # can only shift a square matrix\n",
    "\n",
    "Ds = D + l * np.eye(N)\n",
    "print(D), print(' '), print(Ds)"
   ]
  },
  {
   "cell_type": "markdown",
   "metadata": {},
   "source": [
    "\n",
    "---\n",
    "# Matrix-scalar multiplication\n",
    "---\n"
   ]
  },
  {
   "cell_type": "code",
   "metadata": {
    "ExecuteTime": {
     "end_time": "2024-07-18T15:08:20.318526Z",
     "start_time": "2024-07-18T15:08:20.315111Z"
    }
   },
   "source": [
    "# define matrix and scalar\n",
    "M = np.array([[1, 2], [2, 5]])\n",
    "s = 2\n",
    "\n",
    "# pre- and post-multiplication is the same:\n",
    "print(M * s)\n",
    "print(s * M)\n"
   ],
   "outputs": [
    {
     "name": "stdout",
     "output_type": "stream",
     "text": [
      "[[ 2  4]\n",
      " [ 4 10]]\n",
      "[[ 2  4]\n",
      " [ 4 10]]\n"
     ]
    }
   ],
   "execution_count": 4
  },
  {
   "cell_type": "markdown",
   "metadata": {},
   "source": "# Transpose"
  },
  {
   "cell_type": "code",
   "metadata": {
    "ExecuteTime": {
     "end_time": "2024-06-21T12:06:46.307774Z",
     "start_time": "2024-06-21T12:06:46.303870Z"
    }
   },
   "source": [
    "M = np.array([[1, 2, 3],\n",
    "              [2, 3, 4]])\n",
    "\n",
    "print(M), print('')\n",
    "print(M.T), print('')  # one transpose\n",
    "print(M.T.T), print('')  # double-transpose returns the original matrix\n",
    "\n",
    "# can also use the function transpose\n",
    "print(np.transpose(M))"
   ],
   "outputs": [
    {
     "name": "stdout",
     "output_type": "stream",
     "text": [
      "[[1 2 3]\n",
      " [2 3 4]]\n",
      "\n",
      "[[1 2]\n",
      " [2 3]\n",
      " [3 4]]\n",
      "\n",
      "[[1 2 3]\n",
      " [2 3 4]]\n",
      "\n",
      "[[1 2]\n",
      " [2 3]\n",
      " [3 4]]\n"
     ]
    }
   ],
   "execution_count": 2
  },
  {
   "cell_type": "code",
   "metadata": {
    "ExecuteTime": {
     "end_time": "2024-06-21T12:06:47.157691Z",
     "start_time": "2024-06-21T12:06:47.152951Z"
    }
   },
   "source": [
    "# warning! be careful when using complex matrices\n",
    "C = np.array([[4 + 1j, 3, 2 - 4j]])\n",
    "\n",
    "print(C), print('')\n",
    "print(C.T), print('')\n",
    "print(np.transpose(C)), print('')\n",
    "\n",
    "# Note: In MATLAB, the transpose is the Hermitian transpose; \n",
    "#       in Python, you need to call the Hermitian explicitly by first converting from an array into a matrix\n",
    "print(C.conjugate().T)  # note the sign flips!\n",
    "# Another note: the code I used in the video will soon be depreciated; use the above line instead.\n"
   ],
   "outputs": [
    {
     "name": "stdout",
     "output_type": "stream",
     "text": [
      "[[4.+1.j 3.+0.j 2.-4.j]]\n",
      "\n",
      "[[4.+1.j]\n",
      " [3.+0.j]\n",
      " [2.-4.j]]\n",
      "\n",
      "[[4.+1.j]\n",
      " [3.+0.j]\n",
      " [2.-4.j]]\n",
      "\n",
      "[[4.-1.j]\n",
      " [3.-0.j]\n",
      " [2.+4.j]]\n"
     ]
    }
   ],
   "execution_count": 3
  },
  {
   "cell_type": "markdown",
   "metadata": {},
   "source": [
    "\n",
    "---\n",
    "# Diagonal and trace\n",
    "---\n"
   ]
  },
  {
   "cell_type": "code",
   "metadata": {
    "ExecuteTime": {
     "end_time": "2024-07-31T14:44:07.747277Z",
     "start_time": "2024-07-31T14:44:07.743024Z"
    }
   },
   "source": [
    "\n",
    "M = np.round(6 * np.random.randn(4, 4))\n",
    "print(\"M: \", M), print(' ')\n",
    "# extract the diagonals\n",
    "d = np.diag(M)\n",
    "\n",
    "# notice the two ways of using the diag function\n",
    "d = np.diag(M)  # input is matrix, output is vector\n",
    "D = np.diag(d)  # input is vector, output is matrix\n",
    "print(\"d: \", d)\n",
    "print(\"D: \", D)\n",
    "\n",
    "# trace as sum of diagonal elements\n",
    "tr = np.trace(M)\n",
    "tr2 = sum(np.diag(M))\n",
    "print(\"\\ntr, tr2: \", tr, tr2)"
   ],
   "outputs": [
    {
     "name": "stdout",
     "output_type": "stream",
     "text": [
      "M:  [[  1.  -6.  -3.   4.]\n",
      " [ -4.  -4.  -0.  -2.]\n",
      " [  7.  11.   9.  -3.]\n",
      " [ -0.   3. -10.  -4.]]\n",
      " \n",
      "d:  [ 1. -4.  9. -4.]\n",
      "D:  [[ 1.  0.  0.  0.]\n",
      " [ 0. -4.  0.  0.]\n",
      " [ 0.  0.  9.  0.]\n",
      " [ 0.  0.  0. -4.]]\n",
      "\n",
      "tr, tr2:  2.0 2.0\n"
     ]
    }
   ],
   "execution_count": 8
  }
 ],
 "metadata": {
  "kernelspec": {
   "display_name": "Python 3",
   "language": "python",
   "name": "python3"
  },
  "language_info": {
   "codemirror_mode": {
    "name": "ipython",
    "version": 3
   },
   "file_extension": ".py",
   "mimetype": "text/x-python",
   "name": "python",
   "nbconvert_exporter": "python",
   "pygments_lexer": "ipython3",
   "version": "3.7.3"
  }
 },
 "nbformat": 4,
 "nbformat_minor": 2
}
