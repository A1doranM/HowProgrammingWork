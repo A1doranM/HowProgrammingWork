{
 "cells": [
  {
   "metadata": {},
   "cell_type": "markdown",
   "source": "# Inverse functions ",
   "id": "76bd81aed5e96240"
  },
  {
   "metadata": {},
   "cell_type": "markdown",
   "source": "## What is inverse function",
   "id": "5cd02b14d6ed85c9"
  },
  {
   "metadata": {},
   "cell_type": "markdown",
   "source": [
    "![](./images/img.png)\n",
    "\n",
    "![](./images/img_1.png)"
   ],
   "id": "b8de40a15f2c280a"
  },
  {
   "metadata": {},
   "cell_type": "code",
   "outputs": [],
   "execution_count": null,
   "source": "",
   "id": "4f3cd32c71724f95"
  }
 ],
 "metadata": {
  "kernelspec": {
   "display_name": "Python 3",
   "language": "python",
   "name": "python3"
  },
  "language_info": {
   "codemirror_mode": {
    "name": "ipython",
    "version": 2
   },
   "file_extension": ".py",
   "mimetype": "text/x-python",
   "name": "python",
   "nbconvert_exporter": "python",
   "pygments_lexer": "ipython2",
   "version": "2.7.6"
  }
 },
 "nbformat": 4,
 "nbformat_minor": 5
}
