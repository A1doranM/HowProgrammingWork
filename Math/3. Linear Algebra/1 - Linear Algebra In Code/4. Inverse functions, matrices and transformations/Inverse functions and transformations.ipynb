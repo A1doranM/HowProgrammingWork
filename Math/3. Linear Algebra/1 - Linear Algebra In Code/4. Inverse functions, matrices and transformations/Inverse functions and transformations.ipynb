{
 "cells": [
  {
   "metadata": {},
   "cell_type": "markdown",
   "source": "# Inverse functions ",
   "id": "76bd81aed5e96240"
  },
  {
   "metadata": {},
   "cell_type": "markdown",
   "source": "## What is inverse function",
   "id": "5cd02b14d6ed85c9"
  },
  {
   "metadata": {},
   "cell_type": "markdown",
   "source": [
    "![](./images/img.png)\n",
    "\n",
    "![](./images/img_1.png)"
   ],
   "id": "b8de40a15f2c280a"
  },
  {
   "metadata": {},
   "cell_type": "markdown",
   "source": "## Surjective (onto) and injective (one-to-one) functions ",
   "id": "ee2722dace23d0d1"
  },
  {
   "metadata": {},
   "cell_type": "markdown",
   "source": [
    "![](./images/img_2.png)\n",
    "\n",
    "![](./images/img_3.png)\n",
    "\n",
    "![](./images/img_5.png)\n",
    "\n",
    "![](./images/img_6.png)\n",
    "\n",
    "![](./images/img_4.png)\n"
   ],
   "id": "5f3c79e6e1518a3d"
  },
  {
   "metadata": {},
   "cell_type": "markdown",
   "source": [
    "## Inverse transformation matrices\n",
    "\n",
    "![](./images/img_7.png)\n",
    "\n",
    "![](./images/img_8.png)\n",
    "\n",
    "![](./images/img_9.png)\n",
    "![](./images/img_10.png)\n",
    "\n",
    "![](./images/img_11.png)\n",
    "\n",
    "![](./images/img_12.png)\n",
    "\n",
    "![](./images/img_13.png)"
   ],
   "id": "50c575c5038572ed"
  },
  {
   "metadata": {},
   "cell_type": "code",
   "outputs": [],
   "execution_count": null,
   "source": "",
   "id": "2d13275dec97c1bf"
  }
 ],
 "metadata": {
  "kernelspec": {
   "display_name": "Python 3",
   "language": "python",
   "name": "python3"
  },
  "language_info": {
   "codemirror_mode": {
    "name": "ipython",
    "version": 2
   },
   "file_extension": ".py",
   "mimetype": "text/x-python",
   "name": "python",
   "nbconvert_exporter": "python",
   "pygments_lexer": "ipython2",
   "version": "2.7.6"
  }
 },
 "nbformat": 4,
 "nbformat_minor": 5
}
