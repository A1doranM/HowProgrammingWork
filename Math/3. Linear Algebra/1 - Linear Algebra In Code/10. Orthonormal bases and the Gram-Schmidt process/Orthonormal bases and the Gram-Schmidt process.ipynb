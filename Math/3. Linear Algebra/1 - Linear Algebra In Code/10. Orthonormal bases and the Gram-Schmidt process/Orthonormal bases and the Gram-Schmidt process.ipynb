{
 "cells": [
  {
   "metadata": {},
   "cell_type": "markdown",
   "source": "# Orthonormal bases and the Gram-Schmidt process",
   "id": "586c44c47a7c4ae1"
  },
  {
   "metadata": {},
   "cell_type": "markdown",
   "source": [
    "## Projections onto Subspaces with Orthonormal Bases\n",
    "\n",
    "\n",
    "![](./images/img.png)\n",
    "\n",
    "![](./images/img_1.png)\n",
    "\n",
    "![](./images/img_2.png)\n",
    "\n",
    "![](./images/img_3.png)"
   ],
   "id": "12ab47355a40b054"
  },
  {
   "metadata": {},
   "cell_type": "code",
   "outputs": [],
   "execution_count": null,
   "source": [
    "import numpy as np\n",
    "import matplotlib.pyplot as plt\n",
    "from mpl_toolkits.mplot3d import Axes3D\n",
    "\n",
    "# Define the orthonormal basis vectors\n",
    "u1 = np.array([1/np.sqrt(2), 1/np.sqrt(2), 0])\n",
    "u2 = np.array([-1/np.sqrt(2), 1/np.sqrt(2), 0])\n",
    "\n",
    "# Define the vector to project\n",
    "v = np.array([3, 1, 2])\n",
    "\n",
    "# Compute the projection onto the subspace\n",
    "proj_v = (np.dot(v, u1) * u1) + (np.dot(v, u2) * u2)\n",
    "\n",
    "# Plotting\n",
    "fig = plt.figure()\n",
    "ax = fig.add_subplot(111, projection='3d')\n",
    "\n",
    "# Original vector v\n",
    "ax.quiver(0, 0, 0, v[0], v[1], v[2], color='r', label='v')\n",
    "\n",
    "# Projection of v onto the subspace\n",
    "ax.quiver(0, 0, 0, proj_v[0], proj_v[1], proj_v[2], color='g', label='Proj_W(v)')\n",
    "\n",
    "# Basis vectors u1 and u2\n",
    "ax.quiver(0, 0, 0, u1[0], u1[1], u1[2], color='b', label='u1')\n",
    "ax.quiver(0, 0, 0, u2[0], u2[1], u2[2], color='purple', label='u2')\n",
    "\n",
    "ax.set_xlim([-1, 4])\n",
    "ax.set_ylim([-1, 4])\n",
    "ax.set_zlim([-1, 4])\n",
    "ax.set_xlabel('X')\n",
    "ax.set_ylabel('Y')\n",
    "ax.set_zlabel('Z')\n",
    "ax.legend()\n",
    "ax.set_title('Projection of v onto Subspace W with Orthonormal Basis')\n",
    "plt.show()\n"
   ],
   "id": "9a61ab17de645a48"
  }
 ],
 "metadata": {
  "kernelspec": {
   "display_name": "Python 3",
   "language": "python",
   "name": "python3"
  },
  "language_info": {
   "codemirror_mode": {
    "name": "ipython",
    "version": 2
   },
   "file_extension": ".py",
   "mimetype": "text/x-python",
   "name": "python",
   "nbconvert_exporter": "python",
   "pygments_lexer": "ipython2",
   "version": "2.7.6"
  }
 },
 "nbformat": 4,
 "nbformat_minor": 5
}
