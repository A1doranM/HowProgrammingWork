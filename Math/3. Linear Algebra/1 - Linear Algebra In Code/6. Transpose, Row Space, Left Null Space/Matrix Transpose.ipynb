{
 "cells": [
  {
   "metadata": {},
   "cell_type": "markdown",
   "source": "# Matrix Transpose",
   "id": "d981e8a04a6d2b80"
  },
  {
   "metadata": {},
   "cell_type": "markdown",
   "source": [
    "![](./images/img.png)\n",
    "\n",
    "![](./images/img_1.png)\n",
    "\n",
    "## Row Space\n",
    "\n",
    "![](./images/img_2.png)\n",
    "\n",
    "![](./images/img_3.png)\n",
    "\n",
    "![](./images/img_4.png)\n",
    "\n",
    "## Left Null Space\n",
    "\n",
    "![](./images/img_6.png)\n",
    "\n",
    "![](./images/img_7.png)\n",
    "\n",
    "![](./images/img_8.png)\n",
    "\n",
    "![](./images/img_9.png)\n",
    "\n",
    "\n"
   ],
   "id": "b20937aab3d87430"
  },
  {
   "metadata": {},
   "cell_type": "code",
   "outputs": [],
   "execution_count": null,
   "source": "",
   "id": "79c84b316c7a6098"
  }
 ],
 "metadata": {
  "kernelspec": {
   "display_name": "Python 3",
   "language": "python",
   "name": "python3"
  },
  "language_info": {
   "codemirror_mode": {
    "name": "ipython",
    "version": 2
   },
   "file_extension": ".py",
   "mimetype": "text/x-python",
   "name": "python",
   "nbconvert_exporter": "python",
   "pygments_lexer": "ipython2",
   "version": "2.7.6"
  }
 },
 "nbformat": 4,
 "nbformat_minor": 5
}
