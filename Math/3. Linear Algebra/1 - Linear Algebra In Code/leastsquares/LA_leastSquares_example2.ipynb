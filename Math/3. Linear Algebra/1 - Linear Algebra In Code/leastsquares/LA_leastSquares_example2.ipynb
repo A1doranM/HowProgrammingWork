{
 "cells": [
  {
   "cell_type": "markdown",
   "metadata": {},
   "source": [
    "#     COURSE: Linear algebra: theory and implementation\n",
    "##    SECTION: Least-squares\n",
    "###      VIDEO: Least-squares example 2\n",
    "\n",
    "#### Instructor: sincxpress.com\n",
    "##### Course url: https://www.udemy.com/course/linear-algebra-theory-and-implementation/?couponCode=202110"
   ]
  },
  {
   "cell_type": "code",
   "execution_count": null,
   "metadata": {},
   "outputs": [],
   "source": [
    "import numpy as np\n",
    "import matplotlib.pyplot as plt\n",
    "from sympy import *\n",
    "import scipy.io as sio\n",
    "from mpl_toolkits.mplot3d import Axes3D"
   ]
  },
  {
   "cell_type": "code",
   "execution_count": null,
   "metadata": {},
   "outputs": [],
   "source": [
    "\n",
    "# load data\n",
    "data = sio.loadmat('EEG_RT_data.mat')\n",
    "rts = data['rts']\n",
    "rts = rts[0]\n",
    "EEGdata = data['EEGdata']\n",
    "frex = data['frex']\n",
    "frex = frex[0]\n",
    "\n",
    "nTrials = len(rts)\n",
    "nFrex = len(frex)\n",
    "\n",
    "\n",
    "# show the data\n",
    "plt.plot(rts,'ks-')\n",
    "plt.xlabel('Trial')\n",
    "plt.show()\n",
    "\n",
    "plt.imshow(EEGdata,origin='lower')\n",
    "plt.xlabel('Trial'), plt.ylabel('Frequency')\n",
    "plt.show()"
   ]
  },
  {
   "cell_type": "code",
   "execution_count": null,
   "metadata": {},
   "outputs": [],
   "source": [
    "# create and fit the model for one frequency\n",
    "\n",
    "X = np.concatenate( [np.ones([nTrials-1,1]),                   # intercept\n",
    "                     np.reshape(rts[0:-1],(nTrials-1,1)),      # RTs\n",
    "                     np.reshape(EEGdata[10,:-1],(nTrials-1,1)) # brain\n",
    "                    ],axis=1)\n",
    "\n",
    "b1 = np.linalg.solve(X.T@X,X.T@rts[1:])\n",
    "b2 = np.linalg.lstsq(X,rts[1:],rcond=None)[0]\n",
    "print(b1)\n",
    "print(b2)"
   ]
  },
  {
   "cell_type": "code",
   "execution_count": null,
   "metadata": {},
   "outputs": [],
   "source": [
    "# initialize beta coefficients vector\n",
    "b = np.zeros(len(frex))\n",
    "\n",
    "# loop over frequencies\n",
    "for fi in np.arange(0,len(frex)):\n",
    "    \n",
    "    # design matrix\n",
    "    X = np.concatenate( [np.ones([nTrials,1]),                 # intercept\n",
    "                         np.reshape(EEGdata[fi,:],(nTrials,1)) # brain\n",
    "                        ],axis=1)\n",
    "    \n",
    "    # compute parameters\n",
    "    t = np.linalg.lstsq(X,rts,rcond=None)[0]\n",
    "    b[fi] = t[1]\n",
    "\n",
    "\n",
    "# plots\n",
    "plt.figure(figsize=(12,10))\n",
    "plt.subplot(211)\n",
    "plt.plot(frex,b,'rs-')\n",
    "plt.xlabel('Frequency (Hz)')\n",
    "plt.ylabel('beta-coefficient')\n",
    "\n",
    "plt.subplot(223)\n",
    "plt.plot(EEGdata[8,:],rts,'ks')\n",
    "plt.ylabel('RTs')\n",
    "plt.xlabel('Brain energy at ' + str(int(frex[8])) + ' Hz')\n",
    "\n",
    "plt.subplot(224)\n",
    "plt.plot(EEGdata[23,:],rts,'ks')\n",
    "plt.ylabel('RTs')\n",
    "plt.xlabel('Brain energy at ' + str(int(frex[23])) + ' Hz')\n",
    "plt.show()\n"
   ]
  },
  {
   "cell_type": "code",
   "execution_count": null,
   "metadata": {},
   "outputs": [],
   "source": []
  }
 ],
 "metadata": {
  "kernelspec": {
   "display_name": "Python 3",
   "language": "python",
   "name": "python3"
  },
  "language_info": {
   "codemirror_mode": {
    "name": "ipython",
    "version": 3
   },
   "file_extension": ".py",
   "mimetype": "text/x-python",
   "name": "python",
   "nbconvert_exporter": "python",
   "pygments_lexer": "ipython3",
   "version": "3.7.3"
  }
 },
 "nbformat": 4,
 "nbformat_minor": 2
}
