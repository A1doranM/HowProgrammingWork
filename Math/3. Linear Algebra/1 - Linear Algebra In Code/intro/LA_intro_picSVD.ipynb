{
 "cells": [
  {
   "cell_type": "markdown",
   "metadata": {},
   "source": [
    "#     COURSE: Linear algebra: theory and implementation\n",
    "##    SECTION: Introduction\n",
    "###      VIDEO: An enticing start to a linear algebra course!\n",
    "\n",
    "#### Instructor: sincxpress.com\n",
    "##### Course url: https://www.udemy.com/course/linear-algebra-theory-and-implementation/?couponCode=202110"
   ]
  },
  {
   "cell_type": "code",
   "execution_count": null,
   "metadata": {},
   "outputs": [],
   "source": [
    "import numpy as np\n",
    "import matplotlib.pyplot as plt\n",
    "from PIL import Image"
   ]
  },
  {
   "cell_type": "code",
   "execution_count": null,
   "metadata": {},
   "outputs": [],
   "source": [
    "# import picture\n",
    "pic = Image.open('Einstein_tongue.jpg')\n",
    "\n",
    "# let's have a look\n",
    "plt.imshow(pic)\n",
    "plt.show()\n",
    "\n",
    "# we need to convert it to floating-point precision\n",
    "pic = np.array(pic)\n",
    "plt.imshow(pic,cmap='gray')\n",
    "plt.show()"
   ]
  },
  {
   "cell_type": "code",
   "execution_count": null,
   "metadata": {},
   "outputs": [],
   "source": [
    "# SVD (singular value decomposition)\n",
    "\n",
    "# do the SVD. Note: You'll understand this decomposition by the end of the\n",
    "# course! Don't worry if it seems mysterious now!\n",
    "U,S,V = np.linalg.svd( pic )\n",
    "\n",
    "# plot the spectrum\n",
    "plt.plot(S,'s-')\n",
    "plt.xlim([0,100])\n",
    "plt.xlabel('Component number')\n",
    "plt.ylabel('Singular value (\\sigma)')\n",
    "plt.show()"
   ]
  },
  {
   "cell_type": "code",
   "execution_count": null,
   "metadata": {},
   "outputs": [],
   "source": [
    "# reconstruct the image based on some components\n",
    "\n",
    "# list the components you want to use for the reconstruction\n",
    "comps = np.arange(0,5)\n",
    "\n",
    "# reconstruct the low-rank version of the picture\n",
    "reconPic = U[:,comps]@np.diag(S[comps])@V[comps,:]\n",
    "\n",
    "\n",
    "# show the original and reconstructed pictures for comparison\n",
    "plt.figure(figsize=(5,10))\n",
    "plt.subplot(1,2,1)\n",
    "plt.imshow(pic,cmap='gray')\n",
    "plt.title('Original')\n",
    "plt.axis('off')\n",
    "\n",
    "plt.subplot(1,2,2)\n",
    "plt.imshow(reconPic,cmap='gray')\n",
    "plt.title('Components %s-%s' %(comps[0],comps[-1]))\n",
    "plt.axis('off')\n",
    "\n",
    "plt.show()\n",
    "\n",
    "# Aren't you SUPER-curious to know what all of this means and why it\n",
    "#  works!!??! You're going to learn all about this in the course!"
   ]
  },
  {
   "cell_type": "code",
   "execution_count": null,
   "metadata": {},
   "outputs": [],
   "source": []
  }
 ],
 "metadata": {
  "kernelspec": {
   "display_name": "Python 3",
   "language": "python",
   "name": "python3"
  },
  "language_info": {
   "codemirror_mode": {
    "name": "ipython",
    "version": 3
   },
   "file_extension": ".py",
   "mimetype": "text/x-python",
   "name": "python",
   "nbconvert_exporter": "python",
   "pygments_lexer": "ipython3",
   "version": "3.7.3"
  }
 },
 "nbformat": 4,
 "nbformat_minor": 2
}
