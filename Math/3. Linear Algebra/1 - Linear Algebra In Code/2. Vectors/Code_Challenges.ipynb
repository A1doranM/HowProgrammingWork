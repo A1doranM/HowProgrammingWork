{
 "cells": [
  {
   "cell_type": "code",
   "id": "initial_id",
   "metadata": {
    "collapsed": true,
    "ExecuteTime": {
     "end_time": "2024-06-05T18:18:03.982410Z",
     "start_time": "2024-06-05T18:18:02.962209Z"
    }
   },
   "source": [
    "import numpy as np\n",
    "import matplotlib.pyplot as plt"
   ],
   "outputs": [],
   "execution_count": 2
  },
  {
   "metadata": {},
   "cell_type": "markdown",
   "source": "# Dot products with matrix columns",
   "id": "9db73d54d32e0a0d"
  },
  {
   "metadata": {
    "ExecuteTime": {
     "end_time": "2024-06-04T06:48:34.339246Z",
     "start_time": "2024-06-04T06:48:34.335414Z"
    }
   },
   "cell_type": "code",
   "source": [
    "# Create 2 4x6 matrices of random numbers\n",
    "# Use for-loop to compute dot products between corresponding columns"
   ],
   "id": "50557794af68933",
   "outputs": [],
   "execution_count": 5
  },
  {
   "metadata": {},
   "cell_type": "markdown",
   "source": "",
   "id": "9c4409eaf7911c93"
  },
  {
   "metadata": {
    "ExecuteTime": {
     "end_time": "2024-06-04T07:14:09.086653Z",
     "start_time": "2024-06-04T07:14:09.076547Z"
    }
   },
   "cell_type": "code",
   "source": [
    "matrix1 = np.random.randn(4, 6)\n",
    "\n",
    "matrix2 = np.random.randn(4, 6)\n",
    "\n",
    "result = np.zeros(6)\n",
    "\n",
    "for i in range(6):\n",
    "    print(\"I: \", matrix1[:,i])\n",
    "    \n",
    "    result[i] = np.dot(matrix1[:, i], matrix2[:, i])\n",
    "\n",
    "result \n"
   ],
   "id": "6a5660345ece3e8",
   "outputs": [
    {
     "name": "stdout",
     "output_type": "stream",
     "text": [
      "I:  [ 0.1348009  -0.56393772  0.26143976  0.87736654]\n",
      "I:  [ 1.77964799  0.0164346  -0.6292349   0.44314302]\n",
      "I:  [-0.14984073  0.91374948 -0.01187002 -1.09348166]\n",
      "I:  [ 0.12225378 -0.1415926  -0.06224315 -0.05923465]\n",
      "I:  [ 0.40065984  1.56249362  0.87906785 -0.32097703]\n",
      "I:  [-0.63964526  0.27455479  1.09828605 -2.47521869]\n"
     ]
    },
    {
     "data": {
      "text/plain": [
       "array([ 0.25318901, -1.530857  , -0.94270829, -0.43529864,  2.26970656,\n",
       "       -3.89794122])"
      ]
     },
     "execution_count": 48,
     "metadata": {},
     "output_type": "execute_result"
    }
   ],
   "execution_count": 48
  },
  {
   "metadata": {},
   "cell_type": "markdown",
   "source": "# Is dot product commutative\n",
   "id": "1664e22befe7eec5"
  },
  {
   "metadata": {},
   "cell_type": "code",
   "outputs": [],
   "execution_count": null,
   "source": "# Generate two 6 elements vectors compute dot product A with B and B with A",
   "id": "f376f4c1039da521"
  },
  {
   "metadata": {
    "ExecuteTime": {
     "end_time": "2024-06-05T18:18:06.111605Z",
     "start_time": "2024-06-05T18:18:06.096210Z"
    }
   },
   "cell_type": "code",
   "source": [
    "vector1 = np.random.randn(1, 6)\n",
    "\n",
    "vector2 = np.random.randn(1, 6)\n",
    "\n",
    "vector1"
   ],
   "id": "cadd23fd8ff6a89",
   "outputs": [
    {
     "data": {
      "text/plain": [
       "array([[ 0.66119102,  0.76088681,  0.17095544, -0.9204711 , -0.71772082,\n",
       "        -1.93463468]])"
      ]
     },
     "execution_count": 3,
     "metadata": {},
     "output_type": "execute_result"
    }
   ],
   "execution_count": 3
  },
  {
   "metadata": {
    "ExecuteTime": {
     "end_time": "2024-06-05T18:20:36.870099Z",
     "start_time": "2024-06-05T18:20:36.863713Z"
    }
   },
   "cell_type": "code",
   "source": [
    "result12 = np.zeros(6)\n",
    "result21 = np.zeros(6)\n",
    "\n",
    "for i in range(6):\n",
    "    print(\"I: \", vector1[:,i], vector2[:,i])\n",
    "\n",
    "    result12[i] = np.dot(vector1[:, i], vector2[:, i])\n",
    "    result21[i] = np.dot(vector2[:, i], vector1[:, i])\n",
    "\n",
    "print(result12)\n",
    "print(result21)"
   ],
   "id": "4e853ec6df7280e6",
   "outputs": [
    {
     "name": "stdout",
     "output_type": "stream",
     "text": [
      "I:  [0.66119102] [-0.59660889]\n",
      "I:  [0.76088681] [-0.98930617]\n",
      "I:  [0.17095544] [1.87788249]\n",
      "I:  [-0.9204711] [-1.38332271]\n",
      "I:  [-0.71772082] [0.50607388]\n",
      "I:  [-1.93463468] [1.6797761]\n",
      "[-0.39447244 -0.75275002  0.32103423  1.27330857 -0.36321976 -3.2497531 ]\n",
      "[-0.39447244 -0.75275002  0.32103423  1.27330857 -0.36321976 -3.2497531 ]\n"
     ]
    }
   ],
   "execution_count": 8
  },
  {
   "metadata": {
    "ExecuteTime": {
     "end_time": "2024-06-05T18:18:46.157212Z",
     "start_time": "2024-06-05T18:18:46.153901Z"
    }
   },
   "cell_type": "code",
   "source": "",
   "id": "33dfc82092d8e7b2",
   "outputs": [],
   "execution_count": 4
  }
 ],
 "metadata": {
  "kernelspec": {
   "display_name": "Python 3",
   "language": "python",
   "name": "python3"
  },
  "language_info": {
   "codemirror_mode": {
    "name": "ipython",
    "version": 2
   },
   "file_extension": ".py",
   "mimetype": "text/x-python",
   "name": "python",
   "nbconvert_exporter": "python",
   "pygments_lexer": "ipython2",
   "version": "2.7.6"
  }
 },
 "nbformat": 4,
 "nbformat_minor": 5
}
