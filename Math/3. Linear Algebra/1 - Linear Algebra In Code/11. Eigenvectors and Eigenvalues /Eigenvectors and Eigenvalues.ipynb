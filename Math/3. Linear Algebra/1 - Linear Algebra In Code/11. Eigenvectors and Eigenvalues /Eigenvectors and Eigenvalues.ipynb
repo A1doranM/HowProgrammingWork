{
 "cells": [
  {
   "metadata": {},
   "cell_type": "markdown",
   "source": "# Eigenvectors and Eigenvalues",
   "id": "6592ef2cbc8c7a96"
  },
  {
   "metadata": {},
   "cell_type": "markdown",
   "source": [
    "![](./images/img.png)\n",
    "\n",
    "![](./images/img_1.png)\n",
    "\n",
    "![](./images/img_2.png)\n",
    "\n",
    "![](./images/img_6.png)\n",
    "\n",
    "![](./images/img_7.png)\n",
    "\n",
    "## More detailed explanation how we achieve such results\n",
    "\n",
    "![](./images/img_3.png)\n",
    "\n",
    "![](./images/img_4.png)\n",
    "\n",
    "![](./images/img_8.png)\n",
    "\n",
    "## And the same for Lambda = 2 \n",
    "\n",
    "![](./images/img_9.png)\n",
    "\n",
    "![](./images/img_10.png)\n",
    "\n",
    "![](./images/img_11.png)\n",
    "\n",
    "![](./images/img_12.png)\n"
   ],
   "id": "b01f269d55237d4"
  },
  {
   "metadata": {},
   "cell_type": "markdown",
   "source": "In code below we will see difference between eigenvectors. The difference we're seeing between the eigenvectors calculated manually and those provided by the Python `numpy` function is due to normalization. The numpy function `np.linalg.eig` automatically normalizes the eigenvectors. This means that each eigenvector is scaled so that its length (or norm) is 1. The resulting vectors are unit vectors.\n",
   "id": "ff2d0ce22f2a2b29"
  },
  {
   "metadata": {
    "ExecuteTime": {
     "end_time": "2024-08-27T06:54:04.755624Z",
     "start_time": "2024-08-27T06:54:04.570654Z"
    }
   },
   "cell_type": "code",
   "source": [
    "import numpy as np\n",
    "import matplotlib.pyplot as plt\n",
    "\n",
    "# Define the matrix\n",
    "A = np.array([[4, 1], [2, 3]])\n",
    "\n",
    "# Calculate eigenvalues and eigenvectors\n",
    "eigenvalues, eigenvectors = np.linalg.eig(A)\n",
    "\n",
    "# Print eigenvalues and eigenvectors\n",
    "print(\"Eigenvalues:\", eigenvalues)\n",
    "print(\"Eigenvectors:\\n\", eigenvectors)\n",
    "\n",
    "# Plot the eigenvectors\n",
    "origin = np.array([[0, 0], [0, 0]])  # origin point for the vectors\n",
    "\n",
    "# Eigenvectors need to be plotted separately, column-wise\n",
    "plt.quiver(*origin, eigenvectors[0, :], eigenvectors[1, :], color=['r', 'b'], scale=1, angles='xy', scale_units='xy')\n",
    "\n",
    "plt.xlim(-2, 2)\n",
    "plt.ylim(-2, 2)\n",
    "plt.axhline(0, color='black', linewidth=0.5)\n",
    "plt.axvline(0, color='black', linewidth=0.5)\n",
    "plt.grid(True)\n",
    "plt.gca().set_aspect('equal', adjustable='box')\n",
    "plt.title('Eigenvectors')\n",
    "plt.show()"
   ],
   "id": "e3f98b2df6bea5f1",
   "outputs": [
    {
     "name": "stdout",
     "output_type": "stream",
     "text": [
      "Eigenvalues: [5. 2.]\n",
      "Eigenvectors:\n",
      " [[ 0.70710678 -0.4472136 ]\n",
      " [ 0.70710678  0.89442719]]\n"
     ]
    },
    {
     "data": {
      "text/plain": [
       "<Figure size 640x480 with 1 Axes>"
      ],
      "image/png": "[encoded data removed]"
     },
     "metadata": {},
     "output_type": "display_data"
    }
   ],
   "execution_count": 2
  }
 ],
 "metadata": {
  "kernelspec": {
   "display_name": "Python 3",
   "language": "python",
   "name": "python3"
  },
  "language_info": {
   "codemirror_mode": {
    "name": "ipython",
    "version": 2
   },
   "file_extension": ".py",
   "mimetype": "text/x-python",
   "name": "python",
   "nbconvert_exporter": "python",
   "pygments_lexer": "ipython2",
   "version": "2.7.6"
  }
 },
 "nbformat": 4,
 "nbformat_minor": 5
}
