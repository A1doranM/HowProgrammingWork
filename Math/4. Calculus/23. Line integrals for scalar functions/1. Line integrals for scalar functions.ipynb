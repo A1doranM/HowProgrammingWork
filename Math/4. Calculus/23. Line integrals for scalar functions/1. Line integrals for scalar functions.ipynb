{
 "cells": [
  {
   "cell_type": "markdown",
   "id": "6d159378",
   "metadata": {},
   "source": [
    "# Content"
   ]
  },
  {
   "cell_type": "markdown",
   "id": "8737a31e",
   "metadata": {},
   "source": []
  }
 ],
 "metadata": {
  "language_info": {
   "name": "python"
  }
 },
 "nbformat": 4,
 "nbformat_minor": 5
}
