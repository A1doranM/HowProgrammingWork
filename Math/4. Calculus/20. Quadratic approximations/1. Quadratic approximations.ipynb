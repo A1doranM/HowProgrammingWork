{
 "cells": [
  {
   "cell_type": "markdown",
   "id": "8a4729be",
   "metadata": {},
   "source": [
    "# Content   "
   ]
  },
  {
   "cell_type": "markdown",
   "id": "a383c0ef",
   "metadata": {},
   "source": []
  }
 ],
 "metadata": {
  "language_info": {
   "name": "python"
  }
 },
 "nbformat": 4,
 "nbformat_minor": 5
}
