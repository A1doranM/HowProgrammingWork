{
 "cells": [
  {
   "cell_type": "markdown",
   "id": "eb922d0d",
   "metadata": {},
   "source": [
    "# Content\n",
    "\n",
    "[Defining convergent and divergent infinite series](#defining-convergent-and-divergent-infinite-series)"
   ]
  },
  {
   "cell_type": "markdown",
   "id": "d9a3f131",
   "metadata": {},
   "source": [
    "## Defining convergent and divergent infinite series"
   ]
  },
  {
   "cell_type": "markdown",
   "id": "e4b6379c",
   "metadata": {},
   "source": []
  }
 ],
 "metadata": {
  "language_info": {
   "name": "python"
  }
 },
 "nbformat": 4,
 "nbformat_minor": 5
}
