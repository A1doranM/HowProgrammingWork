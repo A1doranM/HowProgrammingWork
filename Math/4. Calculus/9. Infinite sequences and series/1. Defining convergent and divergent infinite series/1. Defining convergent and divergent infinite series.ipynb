{
 "cells": [
  {
   "cell_type": "markdown",
   "id": "eb922d0d",
   "metadata": {},
   "source": [
    "# Content"
   ]
  }
 ],
 "metadata": {
  "language_info": {
   "name": "python"
  }
 },
 "nbformat": 4,
 "nbformat_minor": 5
}
