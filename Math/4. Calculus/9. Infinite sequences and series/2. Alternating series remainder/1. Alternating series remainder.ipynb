{
 "cells": [
  {
   "cell_type": "markdown",
   "id": "50f325fe",
   "metadata": {},
   "source": [
    "# Content"
   ]
  },
  {
   "cell_type": "markdown",
   "id": "c6b82662",
   "metadata": {},
   "source": [
    "## Alternating series remainder"
   ]
  }
 ],
 "metadata": {
  "language_info": {
   "name": "python"
  }
 },
 "nbformat": 4,
 "nbformat_minor": 5
}
