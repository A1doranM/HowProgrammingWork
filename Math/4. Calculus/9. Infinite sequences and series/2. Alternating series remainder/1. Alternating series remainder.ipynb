{
 "cells": [
  {
   "cell_type": "markdown",
   "id": "50f325fe",
   "metadata": {},
   "source": [
    "# Content\n",
    "\n",
    "[Alternating series remainder](#alternating-series-remainder)"
   ]
  },
  {
   "cell_type": "markdown",
   "id": "c6b82662",
   "metadata": {},
   "source": [
    "## Alternating series remainder"
   ]
  },
  {
   "cell_type": "markdown",
   "id": "c8d9113b",
   "metadata": {},
   "source": []
  }
 ],
 "metadata": {
  "language_info": {
   "name": "python"
  }
 },
 "nbformat": 4,
 "nbformat_minor": 5
}
