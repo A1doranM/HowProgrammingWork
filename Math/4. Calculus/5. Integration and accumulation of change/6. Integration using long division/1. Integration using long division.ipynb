{
 "cells": [
  {
   "metadata": {},
   "cell_type": "markdown",
   "source": "# Integration using long division",
   "id": "993175c2087148d6"
  },
  {
   "metadata": {},
   "cell_type": "markdown",
   "source": [
    "![](./images/img.png)\n",
    "\n",
    "![](./images/img_1.png)\n",
    "\n",
    "![](./images/img_2.png)\n",
    "\n",
    "![](./images/img_3.png)\n",
    "\n",
    "![](./images/img_4.png)"
   ],
   "id": "aec1d9ca499baf3e"
  },
  {
   "metadata": {},
   "cell_type": "markdown",
   "source": "### Another examples",
   "id": "25c9631bb356bc1"
  },
  {
   "metadata": {},
   "cell_type": "markdown",
   "source": [
    "![](./images/img_5.png)\n",
    "\n",
    "![](./images/img_6.png)\n",
    "\n",
    "![](./images/img_7.png)\n",
    "\n",
    "![](./images/img_8.png)"
   ],
   "id": "ff74ea94320aa392"
  },
  {
   "metadata": {},
   "cell_type": "markdown",
   "source": "### Example ",
   "id": "9d48837127faf7e9"
  },
  {
   "metadata": {},
   "cell_type": "markdown",
   "source": [
    "![](./images/img_9.png)\n",
    "\n",
    "![](./images/img_10.png)"
   ],
   "id": "bf45e3551d314ce5"
  },
  {
   "metadata": {},
   "cell_type": "markdown",
   "source": "### Example ",
   "id": "eee5ad07cbbd806b"
  },
  {
   "metadata": {},
   "cell_type": "markdown",
   "source": [
    "![](./images/img_11.png)\n",
    "\n",
    "![](./images/img_12.png)\n",
    "\n",
    "![](./images/img_13.png)"
   ],
   "id": "1de01b322090074c"
  },
  {
   "metadata": {},
   "cell_type": "code",
   "outputs": [],
   "execution_count": null,
   "source": "",
   "id": "f2f91da4aff1ca0f"
  }
 ],
 "metadata": {
  "kernelspec": {
   "display_name": "Python 3",
   "language": "python",
   "name": "python3"
  },
  "language_info": {
   "codemirror_mode": {
    "name": "ipython",
    "version": 2
   },
   "file_extension": ".py",
   "mimetype": "text/x-python",
   "name": "python",
   "nbconvert_exporter": "python",
   "pygments_lexer": "ipython2",
   "version": "2.7.6"
  }
 },
 "nbformat": 4,
 "nbformat_minor": 5
}
