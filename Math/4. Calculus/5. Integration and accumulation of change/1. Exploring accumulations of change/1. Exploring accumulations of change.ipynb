{
 "cells": [
  {
   "metadata": {},
   "cell_type": "markdown",
   "source": "# Exploring accumulations of change",
   "id": "b568e9dd42878f20"
  },
  {
   "metadata": {},
   "cell_type": "markdown",
   "source": [
    "![](./images/img.png)\n",
    "\n",
    "![](./images/img_1.png)\n",
    "\n",
    "![](./images/img_2.png)\n",
    "\n",
    "![](./images/img_3.png)"
   ],
   "id": "d9f0b6db1e7d2d85"
  },
  {
   "metadata": {},
   "cell_type": "code",
   "outputs": [],
   "execution_count": null,
   "source": "",
   "id": "4e0b15d774b852fc"
  }
 ],
 "metadata": {
  "kernelspec": {
   "display_name": "Python 3",
   "language": "python",
   "name": "python3"
  },
  "language_info": {
   "codemirror_mode": {
    "name": "ipython",
    "version": 2
   },
   "file_extension": ".py",
   "mimetype": "text/x-python",
   "name": "python",
   "nbconvert_exporter": "python",
   "pygments_lexer": "ipython2",
   "version": "2.7.6"
  }
 },
 "nbformat": 4,
 "nbformat_minor": 5
}
