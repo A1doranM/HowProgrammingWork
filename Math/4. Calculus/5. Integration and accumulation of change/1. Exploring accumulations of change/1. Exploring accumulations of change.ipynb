{
 "cells": [
  {
   "cell_type": "markdown",
   "id": "b568e9dd42878f20",
   "metadata": {},
   "source": [
    "# Exploring accumulations of change"
   ]
  },
  {
   "cell_type": "markdown",
   "id": "d9f0b6db1e7d2d85",
   "metadata": {},
   "source": [
    "![](./images/img.png)\n",
    "\n",
    "![](./images/img_1.png)\n",
    "\n",
    "![](./images/img_2.png)\n",
    "\n",
    "![](./images/img_3.png)"
   ]
  },
  {
   "cell_type": "code",
   "execution_count": null,
   "id": "4e0b15d774b852fc",
   "metadata": {},
   "outputs": [],
   "source": []
  }
 ],
 "metadata": {
  "kernelspec": {
   "display_name": "venv",
   "language": "python",
   "name": "python3"
  },
  "language_info": {
   "codemirror_mode": {
    "name": "ipython",
    "version": 2
   },
   "file_extension": ".py",
   "mimetype": "text/x-python",
   "name": "python",
   "nbconvert_exporter": "python",
   "pygments_lexer": "ipython2",
   "version": "3.10.12"
  }
 },
 "nbformat": 4,
 "nbformat_minor": 5
}
