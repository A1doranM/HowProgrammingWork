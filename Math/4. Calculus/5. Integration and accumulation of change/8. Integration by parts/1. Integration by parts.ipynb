{
 "cells": [
  {
   "cell_type": "markdown",
   "id": "df63e10a",
   "metadata": {},
   "source": [
    "# Contents\n",
    "\n",
    "[Integration by parts](#integration-by-parts)\n"
   ]
  },
  {
   "cell_type": "markdown",
   "id": "2f136357",
   "metadata": {},
   "source": [
    "## Integration by parts\n",
    "\n",
    "![](./images/image.png)\n",
    "\n",
    "![](./images/image%20copy.png)\n",
    "\n",
    "![](./images/image%20copy%202.png)\n",
    "\n",
    "![](./images/image%20copy%203.png)"
   ]
  },
  {
   "cell_type": "markdown",
   "id": "bb4d0491",
   "metadata": {},
   "source": [
    "### Now for definite integrals \n",
    "\n",
    "![](./images/image%20copy%204.png)\n",
    "\n",
    "![](./images/image%20copy%205.png)"
   ]
  },
  {
   "cell_type": "code",
   "execution_count": 1,
   "id": "59baf0e7",
   "metadata": {},
   "outputs": [
    {
     "name": "stdout",
     "output_type": "stream",
     "text": [
      "∫_π^{2π} x·sin(x/2) dx = -4 + 4*pi\n",
      "∫_0^{π} x·cos(x) dx   = -2\n",
      "∫_0^{1} ln(x) dx      = -1\n",
      "∫_0^{∞} x² e^(−x) dx  = 2\n"
     ]
    }
   ],
   "source": [
    "import sympy as sp\n",
    "\n",
    "x = sp.symbols('x')\n",
    "\n",
    "# Original integral\n",
    "I1 = sp.integrate(x*sp.sin(x/2), (x, sp.pi, 2*sp.pi))\n",
    "\n",
    "# A different trig product\n",
    "I2 = sp.integrate(x*sp.cos(x), (x, 0, sp.pi))\n",
    "\n",
    "# A logarithmic integral on [0,1]\n",
    "I3 = sp.integrate(sp.log(x), (x, 0, 1))\n",
    "\n",
    "# An improper gamma‑type integral\n",
    "I4 = sp.integrate(x**2 * sp.exp(-x), (x, 0, sp.oo))\n",
    "\n",
    "print(\"∫_π^{2π} x·sin(x/2) dx =\", I1)\n",
    "print(\"∫_0^{π} x·cos(x) dx   =\", I2)\n",
    "print(\"∫_0^{1} ln(x) dx      =\", I3)\n",
    "print(\"∫_0^{∞} x² e^(−x) dx  =\", I4)\n"
   ]
  },
  {
   "cell_type": "markdown",
   "id": "6145a7f8",
   "metadata": {},
   "source": []
  }
 ],
 "metadata": {
  "kernelspec": {
   "display_name": "venv",
   "language": "python",
   "name": "python3"
  },
  "language_info": {
   "codemirror_mode": {
    "name": "ipython",
    "version": 3
   },
   "file_extension": ".py",
   "mimetype": "text/x-python",
   "name": "python",
   "nbconvert_exporter": "python",
   "pygments_lexer": "ipython3",
   "version": "3.10.12"
  }
 },
 "nbformat": 4,
 "nbformat_minor": 5
}
