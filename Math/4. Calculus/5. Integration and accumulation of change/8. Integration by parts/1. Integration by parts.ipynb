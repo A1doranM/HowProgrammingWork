{
 "cells": [
  {
   "cell_type": "markdown",
   "id": "df63e10a",
   "metadata": {},
   "source": [
    "# Contents\n",
    "\n",
    "[Integration by parts](#integration-by-parts)\n"
   ]
  },
  {
   "cell_type": "markdown",
   "id": "2f136357",
   "metadata": {},
   "source": [
    "## Integration by parts\n",
    "\n",
    "![](./images/image.png)\n",
    "\n",
    "![](./images/image%20copy.png)\n",
    "\n",
    "![](./images/image%20copy%202.png)\n",
    "\n",
    "![](./images/image%20copy%203.png)"
   ]
  },
  {
   "cell_type": "markdown",
   "id": "bb4d0491",
   "metadata": {},
   "source": []
  }
 ],
 "metadata": {
  "kernelspec": {
   "display_name": "venv",
   "language": "python",
   "name": "python3"
  },
  "language_info": {
   "name": "python",
   "version": "3.10.12"
  }
 },
 "nbformat": 4,
 "nbformat_minor": 5
}
