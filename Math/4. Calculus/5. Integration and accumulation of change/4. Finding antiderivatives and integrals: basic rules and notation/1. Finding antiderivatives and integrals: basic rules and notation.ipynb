{
 "cells": [
  {
   "metadata": {},
   "cell_type": "markdown",
   "source": [
    "# Contents\n",
    "\n",
    "[Finding antiderivatives and integrals: basic rules and notation](#finding-antiderivatives-and-integrals-basic-rules-and-notation)\n",
    "\n",
    "[Indefinite integrals sums and multiples](#indefinite-integrals-sums--multiples)\n",
    "\n",
    "[Indefinite integrals of sin(x), cos(x), and eˣ](#indefinite-integrals-of-sinx-cosx-and-eˣ)\n",
    "\n",
    "[Common integrals review](#common-integrals-review)\n"
   ],
   "id": "5c937ef7bf442100"
  },
  {
   "metadata": {},
   "cell_type": "markdown",
   "source": "# Finding antiderivatives and integrals: basic rules and notation",
   "id": "369046d83e4da8d4"
  },
  {
   "metadata": {},
   "cell_type": "markdown",
   "source": "## Reverse power rule",
   "id": "ba656257589c045f"
  },
  {
   "metadata": {},
   "cell_type": "markdown",
   "source": [
    "![](./images/img.png)\n",
    "\n",
    "![](./images/img_1.png)\n",
    "\n",
    "![](./images/img_2.png)"
   ],
   "id": "1af9fb17677d2d62"
  },
  {
   "metadata": {
    "ExecuteTime": {
     "end_time": "2025-01-16T16:15:50.043757Z",
     "start_time": "2025-01-16T16:15:50.032964Z"
    }
   },
   "cell_type": "code",
   "source": [
    "import sympy as sp\n",
    "\n",
    "# 1. Define the symbolic variable\n",
    "x = sp.Symbol('x')\n",
    "\n",
    "# 2. Define a function f(x) = x^n, say n=3\n",
    "f = x**3\n",
    "\n",
    "# 3. Find the indefinite integral (antiderivative)\n",
    "F = sp.integrate(f, (x,))\n",
    "print(\"Antiderivative of x^3 is:\", F)\n",
    "# This should print x^4/4, plus a constant of integration that sympy omits by default.\n",
    "\n",
    "# 4. Compute a definite integral, e.g. from 0 to 2\n",
    "definite_value = sp.integrate(f, (x, 0, 2))\n",
    "print(\"Integral of x^3 from 0 to 2 is:\", definite_value)\n",
    "# This should evaluate to (2^4)/4 = 4\n"
   ],
   "id": "5580ee859a373444",
   "outputs": [
    {
     "name": "stdout",
     "output_type": "stream",
     "text": [
      "Antiderivative of x^3 is: x**4/4\n",
      "Integral of x^3 from 0 to 2 is: 4\n"
     ]
    }
   ],
   "execution_count": 3
  },
  {
   "metadata": {},
   "cell_type": "markdown",
   "source": "# Indefinite integrals: sums & multiples",
   "id": "49c6ead0d5822923"
  },
  {
   "metadata": {},
   "cell_type": "markdown",
   "source": [
    "![](./images/img_3.png)\n",
    "\n",
    "![](./images/img_4.png)\n",
    "\n",
    "![](./images/img_5.png)"
   ],
   "id": "5c5080912c1fc99d"
  },
  {
   "metadata": {},
   "cell_type": "markdown",
   "source": "# Indefinite integrals of sin(x), cos(x), and eˣ",
   "id": "d1b38cc6f66e10e3"
  },
  {
   "metadata": {},
   "cell_type": "markdown",
   "source": [
    "![](./images/img_6.png)\n",
    "\n",
    "![](./images/img_7.png)"
   ],
   "id": "f6dba373adf74795"
  },
  {
   "metadata": {
    "ExecuteTime": {
     "end_time": "2025-01-17T17:15:44.742546Z",
     "start_time": "2025-01-17T17:15:44.035560Z"
    }
   },
   "cell_type": "code",
   "source": [
    "import sympy as sp\n",
    "\n",
    "# 1. Define the symbolic variable\n",
    "x = sp.Symbol('x', real=True)\n",
    "\n",
    "# 2. Define expressions we want to integrate\n",
    "expr_sin = sp.sin(x)\n",
    "expr_cos = sp.cos(x)\n",
    "expr_exp = sp.exp(x)\n",
    "\n",
    "# 3. Integrate each expression\n",
    "int_sin = sp.integrate(expr_sin, (x,))\n",
    "int_cos = sp.integrate(expr_cos, (x,))\n",
    "int_exp = sp.integrate(expr_exp, (x,))\n",
    "\n",
    "# 4. Print results\n",
    "print(\"∫ sin(x) dx =\", int_sin)  # should show -cos(x)\n",
    "print(\"∫ cos(x) dx =\", int_cos)  # should show sin(x)\n",
    "print(\"∫ e^x dx   =\", int_exp)   # should show e^x\n"
   ],
   "id": "fcef6c22d3222e35",
   "outputs": [
    {
     "name": "stdout",
     "output_type": "stream",
     "text": [
      "∫ sin(x) dx = -cos(x)\n",
      "∫ cos(x) dx = sin(x)\n",
      "∫ e^x dx   = exp(x)\n"
     ]
    }
   ],
   "execution_count": 1
  },
  {
   "metadata": {},
   "cell_type": "markdown",
   "source": "# Common integrals review",
   "id": "573c3c104cdb3b75"
  },
  {
   "metadata": {},
   "cell_type": "markdown",
   "source": [
    "![](./images/img_8.png)\n",
    "\n",
    "![](./images/img_9.png)\n",
    "\n",
    "![](./images/img_10.png)\n",
    "\n",
    "![](./images/img_11.png)"
   ],
   "id": "980a2dcfc8411a21"
  },
  {
   "metadata": {},
   "cell_type": "code",
   "outputs": [],
   "execution_count": null,
   "source": "",
   "id": "e65edf260af711b6"
  }
 ],
 "metadata": {
  "kernelspec": {
   "display_name": "Python 3",
   "language": "python",
   "name": "python3"
  },
  "language_info": {
   "codemirror_mode": {
    "name": "ipython",
    "version": 2
   },
   "file_extension": ".py",
   "mimetype": "text/x-python",
   "name": "python",
   "nbconvert_exporter": "python",
   "pygments_lexer": "ipython2",
   "version": "2.7.6"
  }
 },
 "nbformat": 4,
 "nbformat_minor": 5
}
