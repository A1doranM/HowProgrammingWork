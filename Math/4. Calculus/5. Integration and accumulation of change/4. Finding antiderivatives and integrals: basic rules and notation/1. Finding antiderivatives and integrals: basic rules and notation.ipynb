{
 "cells": [
  {
   "metadata": {},
   "cell_type": "markdown",
   "source": "# Finding antiderivatives and integrals: basic rules and notation",
   "id": "5c937ef7bf442100"
  },
  {
   "metadata": {},
   "cell_type": "markdown",
   "source": "## Reverse power rule",
   "id": "ba656257589c045f"
  },
  {
   "metadata": {},
   "cell_type": "markdown",
   "source": [
    "![](./images/img.png)\n",
    "\n",
    "![](./images/img_1.png)\n",
    "\n",
    "![](./images/img_2.png)"
   ],
   "id": "1af9fb17677d2d62"
  },
  {
   "metadata": {
    "ExecuteTime": {
     "end_time": "2025-01-16T16:15:50.043757Z",
     "start_time": "2025-01-16T16:15:50.032964Z"
    }
   },
   "cell_type": "code",
   "source": [
    "import sympy as sp\n",
    "\n",
    "# 1. Define the symbolic variable\n",
    "x = sp.Symbol('x')\n",
    "\n",
    "# 2. Define a function f(x) = x^n, say n=3\n",
    "f = x**3\n",
    "\n",
    "# 3. Find the indefinite integral (antiderivative)\n",
    "F = sp.integrate(f, (x,))\n",
    "print(\"Antiderivative of x^3 is:\", F)\n",
    "# This should print x^4/4, plus a constant of integration that sympy omits by default.\n",
    "\n",
    "# 4. Compute a definite integral, e.g. from 0 to 2\n",
    "definite_value = sp.integrate(f, (x, 0, 2))\n",
    "print(\"Integral of x^3 from 0 to 2 is:\", definite_value)\n",
    "# This should evaluate to (2^4)/4 = 4\n"
   ],
   "id": "5580ee859a373444",
   "outputs": [
    {
     "name": "stdout",
     "output_type": "stream",
     "text": [
      "Antiderivative of x^3 is: x**4/4\n",
      "Integral of x^3 from 0 to 2 is: 4\n"
     ]
    }
   ],
   "execution_count": 3
  },
  {
   "metadata": {},
   "cell_type": "markdown",
   "source": "# Indefinite integrals: sums & multiples",
   "id": "49c6ead0d5822923"
  },
  {
   "metadata": {},
   "cell_type": "markdown",
   "source": [
    "![](./images/img_3.png)\n",
    "\n",
    "![](./images/img_4.png)\n",
    "\n",
    "![](./images/img_5.png)"
   ],
   "id": "5c5080912c1fc99d"
  },
  {
   "metadata": {},
   "cell_type": "code",
   "outputs": [],
   "execution_count": null,
   "source": "",
   "id": "f3f9ab74539f237d"
  }
 ],
 "metadata": {
  "kernelspec": {
   "display_name": "Python 3",
   "language": "python",
   "name": "python3"
  },
  "language_info": {
   "codemirror_mode": {
    "name": "ipython",
    "version": 2
   },
   "file_extension": ".py",
   "mimetype": "text/x-python",
   "name": "python",
   "nbconvert_exporter": "python",
   "pygments_lexer": "ipython2",
   "version": "2.7.6"
  }
 },
 "nbformat": 4,
 "nbformat_minor": 5
}
