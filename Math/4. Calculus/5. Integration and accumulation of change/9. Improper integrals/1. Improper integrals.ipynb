{
 "cells": [
  {
   "cell_type": "markdown",
   "id": "1fad01f7",
   "metadata": {},
   "source": [
    "# Improper integrals"
   ]
  },
  {
   "cell_type": "markdown",
   "id": "a6004296",
   "metadata": {},
   "source": [
    "![](./images/image.png)\n",
    "\n",
    "![](./images/image%20copy.png)\n",
    "\n",
    "![](./images/image%20copy%202.png)"
   ]
  }
 ],
 "metadata": {
  "language_info": {
   "name": "python"
  }
 },
 "nbformat": 4,
 "nbformat_minor": 5
}
