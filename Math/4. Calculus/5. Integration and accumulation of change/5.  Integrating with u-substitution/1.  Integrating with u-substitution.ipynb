{
 "cells": [
  {
   "metadata": {},
   "cell_type": "markdown",
   "source": "#  Integrating with u-substitution",
   "id": "f83215e973bed8f7"
  },
  {
   "metadata": {},
   "cell_type": "markdown",
   "source": [
    "![](./images/img.png)\n",
    "\n",
    "![](./images/img.png)"
   ],
   "id": "bd5450623e39237b"
  },
  {
   "metadata": {
    "ExecuteTime": {
     "end_time": "2025-01-23T09:53:30.332827Z",
     "start_time": "2025-01-23T09:53:30.175101Z"
    }
   },
   "cell_type": "code",
   "source": [
    "import sympy as sp\n",
    "\n",
    "# 1. Define the symbolic variable x\n",
    "x = sp.Symbol('x', real=True)\n",
    "\n",
    "# 2. Define the integrand x * e^(x^2)\n",
    "expr = x * sp.exp(x**2)\n",
    "\n",
    "# 3. Use sympy.integrate to find the indefinite integral\n",
    "result = sp.integrate(expr, (x,))\n",
    "print(\"Integral of x * e^(x^2) dx =\", result, \"+ C\")\n",
    "\n",
    "# Optionally, we can evaluate a definite integral, say from 0 to 1\n",
    "definite_value = sp.integrate(expr, (x, 0, 1))\n",
    "print(\"Integral from 0 to 1 =\", definite_value)\n"
   ],
   "id": "124e186afb9739ba",
   "outputs": [
    {
     "ename": "ModuleNotFoundError",
     "evalue": "No module named 'sympy'",
     "output_type": "error",
     "traceback": [
      "\u001B[0;31m---------------------------------------------------------------------------\u001B[0m",
      "\u001B[0;31mModuleNotFoundError\u001B[0m                       Traceback (most recent call last)",
      "Cell \u001B[0;32mIn[1], line 1\u001B[0m\n\u001B[0;32m----> 1\u001B[0m \u001B[38;5;28;01mimport\u001B[39;00m \u001B[38;5;21;01msympy\u001B[39;00m \u001B[38;5;28;01mas\u001B[39;00m \u001B[38;5;21;01msp\u001B[39;00m\n\u001B[1;32m      3\u001B[0m \u001B[38;5;66;03m# 1. Define the symbolic variable x\u001B[39;00m\n\u001B[1;32m      4\u001B[0m x \u001B[38;5;241m=\u001B[39m sp\u001B[38;5;241m.\u001B[39mSymbol(\u001B[38;5;124m'\u001B[39m\u001B[38;5;124mx\u001B[39m\u001B[38;5;124m'\u001B[39m, real\u001B[38;5;241m=\u001B[39m\u001B[38;5;28;01mTrue\u001B[39;00m)\n",
      "\u001B[0;31mModuleNotFoundError\u001B[0m: No module named 'sympy'"
     ]
    }
   ],
   "execution_count": 1
  },
  {
   "metadata": {},
   "cell_type": "markdown",
   "source": [
    "![](./images/img_2.png)\n",
    "\n",
    "![](./images/img_8.png)\n",
    "\n",
    "![](./images/img_9.png)\n",
    "\n",
    "![](./images/img_7.png)\n",
    "\n",
    "![](./images/img_3.png)\n",
    "\n",
    "![](./images/img_4.png)"
   ],
   "id": "be6ce3f89d965967"
  },
  {
   "metadata": {},
   "cell_type": "code",
   "outputs": [],
   "execution_count": null,
   "source": [
    "import sympy as sp\n",
    "\n",
    "# Define the symbolic variable\n",
    "x = sp.Symbol('x', real=True, positive=True)\n",
    "\n",
    "############################################\n",
    "# Example 1: ∫ e^(sin(x)) cos(x) dx from 0 to π/3\n",
    "expr1 = sp.exp(sp.sin(x))*sp.cos(x)\n",
    "res1 = sp.integrate(expr1, (x, 0, sp.pi/sp.Integer(3)))\n",
    "print(\"Integral 1 =\", res1)\n",
    "\n",
    "############################################\n",
    "# Example 2: ∫ tan^3(x) sec^2(x) dx from 0 to π/4\n",
    "# Note: tan(x) = sin(x)/cos(x), sec(x) = 1/cos(x)\n",
    "expr2 = (sp.sin(x)/sp.cos(x))**3 * (1/sp.cos(x))**2\n",
    "res2 = sp.integrate(expr2, (x, 0, sp.pi/sp.Integer(4)))\n",
    "print(\"Integral 2 =\", res2)\n"
   ],
   "id": "c106ce124988ac54"
  },
  {
   "metadata": {},
   "cell_type": "markdown",
   "source": [
    "![](./images/img_5.png)\n",
    "\n",
    "![](./images/img_6.png)"
   ],
   "id": "e3612d4b03aa0867"
  },
  {
   "metadata": {},
   "cell_type": "code",
   "outputs": [],
   "execution_count": null,
   "source": [
    "import sympy as sp\n",
    "\n",
    "# Define the symbolic variable\n",
    "x = sp.Symbol('x', real=True, positive=True)\n",
    "\n",
    "############################################\n",
    "# Example 1: ∫ 2x/(1 + x^2) dx from 0 to 1\n",
    "\n",
    "expr1 = 2*x/(1 + x**2)\n",
    "res1 = sp.integrate(expr1, (x, 0, 1))\n",
    "print(\"Integral 1 =\", res1)  # Should be ln(2)\n",
    "\n",
    "############################################\n",
    "# Example 2: ∫ 1/(x ln(x)) dx from e to e^2\n",
    "\n",
    "expr2 = 1/(x*sp.log(x))\n",
    "res2 = sp.integrate(expr2, (x, sp.E, sp.E**2))\n",
    "print(\"Integral 2 =\", res2)  # Should be ln(2)\n"
   ],
   "id": "f7eaa5803ee9bf16"
  },
  {
   "metadata": {},
   "cell_type": "markdown",
   "source": "",
   "id": "433d499716dcdf30"
  },
  {
   "metadata": {},
   "cell_type": "markdown",
   "source": "# Definite integral of exponential function",
   "id": "d537c750b74e348e"
  },
  {
   "metadata": {},
   "cell_type": "markdown",
   "source": [
    " - Finding the definite integral from 0 to 1 of x²⋅2^(x³)\n",
    "\n",
    "![](./images/img_10.png)\n",
    "\n",
    "![](./images/img_11.png)"
   ],
   "id": "8bffc746a39c1f55"
  },
  {
   "metadata": {},
   "cell_type": "code",
   "outputs": [],
   "execution_count": null,
   "source": "",
   "id": "878b3766acc8bce6"
  }
 ],
 "metadata": {
  "kernelspec": {
   "display_name": "Python 3",
   "language": "python",
   "name": "python3"
  },
  "language_info": {
   "codemirror_mode": {
    "name": "ipython",
    "version": 2
   },
   "file_extension": ".py",
   "mimetype": "text/x-python",
   "name": "python",
   "nbconvert_exporter": "python",
   "pygments_lexer": "ipython2",
   "version": "2.7.6"
  }
 },
 "nbformat": 4,
 "nbformat_minor": 5
}
