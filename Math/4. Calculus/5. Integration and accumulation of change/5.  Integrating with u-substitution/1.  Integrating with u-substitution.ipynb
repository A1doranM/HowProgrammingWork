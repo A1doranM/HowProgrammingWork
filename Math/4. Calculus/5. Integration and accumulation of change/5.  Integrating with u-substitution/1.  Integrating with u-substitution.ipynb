{
 "cells": [
  {
   "cell_type": "markdown",
   "id": "f83215e973bed8f7",
   "metadata": {},
   "source": [
    "#  Contents\n",
    "\n",
    "[Integration with U substitution](#integrating-with-u-substitution)\n",
    "\n",
    "[Double substitution](#double-substitution)"
   ]
  },
  {
   "cell_type": "markdown",
   "id": "b221cc68ffc58abd",
   "metadata": {},
   "source": [
    "#  Integrating with u-substitution"
   ]
  },
  {
   "cell_type": "markdown",
   "id": "bd5450623e39237b",
   "metadata": {},
   "source": [
    "![](./images/img.png)"
   ]
  },
  {
   "cell_type": "code",
   "execution_count": 1,
   "id": "124e186afb9739ba",
   "metadata": {
    "ExecuteTime": {
     "end_time": "2025-01-28T16:14:05.660090Z",
     "start_time": "2025-01-28T16:14:05.020368Z"
    }
   },
   "outputs": [
    {
     "name": "stdout",
     "output_type": "stream",
     "text": [
      "Integral of x * e^(x^2) dx = exp(x**2)/2 + C\n",
      "Integral from 0 to 1 = -1/2 + E/2\n"
     ]
    }
   ],
   "source": [
    "import sympy as sp\n",
    "\n",
    "# 1. Define the symbolic variable x\n",
    "x = sp.Symbol('x', real=True)\n",
    "\n",
    "# 2. Define the integrand x * e^(x^2)\n",
    "expr = x * sp.exp(x**2)\n",
    "\n",
    "# 3. Use sympy.integrate to find the indefinite integral\n",
    "result = sp.integrate(expr, (x,))\n",
    "print(\"Integral of x * e^(x^2) dx =\", result, \"+ C\")\n",
    "\n",
    "# Optionally, we can evaluate a definite integral, say from 0 to 1\n",
    "definite_value = sp.integrate(expr, (x, 0, 1))\n",
    "print(\"Integral from 0 to 1 =\", definite_value)\n"
   ]
  },
  {
   "cell_type": "markdown",
   "id": "be6ce3f89d965967",
   "metadata": {},
   "source": [
    "![](./images/img_2.png)\n",
    "\n",
    "![](./images/img_8.png)\n",
    "\n",
    "![](./images/img_9.png)\n",
    "\n",
    "![](./images/img_7.png)\n",
    "\n",
    "![](./images/img_3.png)\n",
    "\n",
    "![](./images/img_4.png)"
   ]
  },
  {
   "cell_type": "code",
   "execution_count": 2,
   "id": "c106ce124988ac54",
   "metadata": {
    "ExecuteTime": {
     "end_time": "2025-01-28T16:14:07.164933Z",
     "start_time": "2025-01-28T16:14:06.848874Z"
    }
   },
   "outputs": [
    {
     "name": "stdout",
     "output_type": "stream",
     "text": [
      "Integral 1 = -1 + exp(sqrt(3)/2)\n",
      "Integral 2 = 1/4\n"
     ]
    }
   ],
   "source": [
    "import sympy as sp\n",
    "\n",
    "# Define the symbolic variable\n",
    "x = sp.Symbol('x', real=True, positive=True)\n",
    "\n",
    "############################################\n",
    "# Example 1: ∫ e^(sin(x)) cos(x) dx from 0 to π/3\n",
    "expr1 = sp.exp(sp.sin(x))*sp.cos(x)\n",
    "res1 = sp.integrate(expr1, (x, 0, sp.pi/sp.Integer(3)))\n",
    "print(\"Integral 1 =\", res1)\n",
    "\n",
    "############################################\n",
    "# Example 2: ∫ tan^3(x) sec^2(x) dx from 0 to π/4\n",
    "# Note: tan(x) = sin(x)/cos(x), sec(x) = 1/cos(x)\n",
    "expr2 = (sp.sin(x)/sp.cos(x))**3 * (1/sp.cos(x))**2\n",
    "res2 = sp.integrate(expr2, (x, 0, sp.pi/sp.Integer(4)))\n",
    "print(\"Integral 2 =\", res2)\n"
   ]
  },
  {
   "cell_type": "markdown",
   "id": "e3612d4b03aa0867",
   "metadata": {},
   "source": [
    "![](./images/img_5.png)\n",
    "\n",
    "![](./images/img_6.png)"
   ]
  },
  {
   "cell_type": "code",
   "execution_count": 3,
   "id": "f7eaa5803ee9bf16",
   "metadata": {
    "ExecuteTime": {
     "end_time": "2025-01-28T16:14:10.015064Z",
     "start_time": "2025-01-28T16:14:09.909719Z"
    }
   },
   "outputs": [
    {
     "name": "stdout",
     "output_type": "stream",
     "text": [
      "Integral 1 = log(2)\n",
      "Integral 2 = log(2)\n"
     ]
    }
   ],
   "source": [
    "import sympy as sp\n",
    "\n",
    "# Define the symbolic variable\n",
    "x = sp.Symbol('x', real=True, positive=True)\n",
    "\n",
    "############################################\n",
    "# Example 1: ∫ 2x/(1 + x^2) dx from 0 to 1\n",
    "\n",
    "expr1 = 2*x/(1 + x**2)\n",
    "res1 = sp.integrate(expr1, (x, 0, 1))\n",
    "print(\"Integral 1 =\", res1)  # Should be ln(2)\n",
    "\n",
    "############################################\n",
    "# Example 2: ∫ 1/(x ln(x)) dx from e to e^2\n",
    "\n",
    "expr2 = 1/(x*sp.log(x))\n",
    "res2 = sp.integrate(expr2, (x, sp.E, sp.E**2))\n",
    "print(\"Integral 2 =\", res2)  # Should be ln(2)\n"
   ]
  },
  {
   "cell_type": "markdown",
   "id": "d537c750b74e348e",
   "metadata": {},
   "source": [
    "# Definite integral of exponential function"
   ]
  },
  {
   "cell_type": "markdown",
   "id": "8bffc746a39c1f55",
   "metadata": {},
   "source": [
    " - Finding the definite integral from 0 to 1 of x²⋅2^(x³)\n",
    "\n",
    "![](./images/img_10.png)\n",
    "\n",
    "![](./images/img_11.png)"
   ]
  },
  {
   "cell_type": "markdown",
   "id": "29b8d183c009a7ca",
   "metadata": {},
   "source": [
    "# Double substitution\n",
    "\n",
    "![](./images/img_12.png)\n",
    "\n",
    "![](./images/img_13.png)\n",
    "\n",
    "![](./images/img_14.png)"
   ]
  }
 ],
 "metadata": {
  "kernelspec": {
   "display_name": "venv",
   "language": "python",
   "name": "python3"
  },
  "language_info": {
   "codemirror_mode": {
    "name": "ipython",
    "version": 2
   },
   "file_extension": ".py",
   "mimetype": "text/x-python",
   "name": "python",
   "nbconvert_exporter": "python",
   "pygments_lexer": "ipython2",
   "version": "3.10.12"
  }
 },
 "nbformat": 4,
 "nbformat_minor": 5
}
