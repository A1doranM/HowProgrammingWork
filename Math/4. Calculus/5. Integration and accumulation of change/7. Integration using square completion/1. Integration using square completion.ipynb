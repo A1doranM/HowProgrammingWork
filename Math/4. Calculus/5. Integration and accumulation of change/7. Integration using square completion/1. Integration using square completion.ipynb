{
 "cells": [
  {
   "metadata": {},
   "cell_type": "markdown",
   "source": "# Integration using square completion",
   "id": "e427f7866480e49c"
  },
  {
   "metadata": {},
   "cell_type": "markdown",
   "source": [
    "![](./images/img.png)\n",
    "\n",
    "![](./images/img_1.png)\n",
    "\n",
    "![](./images/img_2.png)\n",
    "\n",
    "![](./images/img_3.png)\n",
    "\n",
    "![](./images/img_4.png)\n",
    "\n",
    "![](./images/img_5.png)\n"
   ],
   "id": "f9f814aa187fb834"
  },
  {
   "metadata": {
    "ExecuteTime": {
     "end_time": "2025-01-28T16:46:48.750563Z",
     "start_time": "2025-01-28T16:46:48.169078Z"
    }
   },
   "cell_type": "code",
   "source": [
    "import sympy as sp\n",
    "\n",
    "# 1) Define our symbolic variable x\n",
    "x = sp.Symbol('x', real=True)\n",
    "\n",
    "# 2) Define each integrand\n",
    "expr1 = 1/(x**2 + 2*x + 5)\n",
    "expr2 = 1/sp.sqrt(x**2 - 6*x + 10)\n",
    "expr3 = 1/sp.sqrt(25 - (x-2)**2)\n",
    "\n",
    "# 3) Integrate each expression\n",
    "res1 = sp.integrate(expr1, (x,))\n",
    "res2 = sp.integrate(expr2, (x,))\n",
    "res3 = sp.integrate(expr3, (x,))\n",
    "\n",
    "print(\"Integral 1:\", res1, \"+ C\")  # Should involve arctan\n",
    "print(\"Integral 2:\", res2, \"+ C\")  # Should involve ln(...)\n",
    "print(\"Integral 3:\", res3, \"+ C\")  # Should involve asin(...)\n"
   ],
   "id": "95c69d8ebdc45dd1",
   "outputs": [
    {
     "name": "stdout",
     "output_type": "stream",
     "text": [
      "Integral 1: atan(x/2 + 1/2)/2 + C\n",
      "Integral 2: asinh(x - 3) + C\n",
      "Integral 3: Piecewise((-I*(x - 2)*acosh(Abs(x - 2)/5)/Abs(x - 2) + pi*(x - 2)/(2*Abs(x - 2)), (x - 2)**2 > 25), ((x - 2)*asin(Abs(x - 2)/5)/Abs(x - 2), True)) + C\n"
     ]
    }
   ],
   "execution_count": 2
  },
  {
   "metadata": {},
   "cell_type": "code",
   "outputs": [],
   "execution_count": null,
   "source": "",
   "id": "1337f5a0acf4f563"
  }
 ],
 "metadata": {
  "kernelspec": {
   "display_name": "Python 3",
   "language": "python",
   "name": "python3"
  },
  "language_info": {
   "codemirror_mode": {
    "name": "ipython",
    "version": 2
   },
   "file_extension": ".py",
   "mimetype": "text/x-python",
   "name": "python",
   "nbconvert_exporter": "python",
   "pygments_lexer": "ipython2",
   "version": "2.7.6"
  }
 },
 "nbformat": 4,
 "nbformat_minor": 5
}
