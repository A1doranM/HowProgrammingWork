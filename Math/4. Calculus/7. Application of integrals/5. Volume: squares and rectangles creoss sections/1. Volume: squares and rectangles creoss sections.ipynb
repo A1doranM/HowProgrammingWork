{
 "cells": [
  {
   "metadata": {},
   "cell_type": "markdown",
   "source": "# Volume: squares and rectangles creoss sections",
   "id": "b730e8085bb8c7ac"
  },
  {
   "metadata": {},
   "cell_type": "markdown",
   "source": [
    "![](./images/img.png)\n",
    "\n",
    "![](./images/img_1.png)\n",
    "\n",
    "![](./images/img_2.png)\n",
    "\n",
    "![](./images/img_3.png)"
   ],
   "id": "6c363b51f6f0dd6d"
  },
  {
   "metadata": {
    "ExecuteTime": {
     "end_time": "2025-03-03T15:14:05.087772Z",
     "start_time": "2025-03-03T15:14:04.565956Z"
    }
   },
   "cell_type": "code",
   "source": [
    "import sympy\n",
    "\n",
    "# 1) Define the symbolic variable\n",
    "x = sympy.Symbol('x', real=True, nonnegative=True)\n",
    "\n",
    "# 2) Define the side length for each slice (which is x^2)\n",
    "side_length = x**2\n",
    "\n",
    "# 3) The area for each cross section (since it's a square) is side^2 = (x^2)^2\n",
    "area = side_length**2  # which is x^4\n",
    "\n",
    "# 4) Integrate this area from x=0 to x=2 to get the volume\n",
    "volume = sympy.integrate(area, (x, 0, 2))\n",
    "\n",
    "# 5) Print the result\n",
    "print(\"Volume of the solid =\", volume)\n"
   ],
   "id": "63014c1cdb3e61e3",
   "outputs": [
    {
     "name": "stdout",
     "output_type": "stream",
     "text": [
      "Volume of the solid = 32/5\n"
     ]
    }
   ],
   "execution_count": 1
  },
  {
   "metadata": {},
   "cell_type": "markdown",
   "source": [
    "![](./images/img_4.png)\n",
    "\n",
    "![](./images/img_5.png)"
   ],
   "id": "c3b17acfffae0319"
  }
 ],
 "metadata": {
  "kernelspec": {
   "display_name": "Python 3",
   "language": "python",
   "name": "python3"
  },
  "language_info": {
   "codemirror_mode": {
    "name": "ipython",
    "version": 2
   },
   "file_extension": ".py",
   "mimetype": "text/x-python",
   "name": "python",
   "nbconvert_exporter": "python",
   "pygments_lexer": "ipython2",
   "version": "2.7.6"
  }
 },
 "nbformat": 4,
 "nbformat_minor": 5
}
