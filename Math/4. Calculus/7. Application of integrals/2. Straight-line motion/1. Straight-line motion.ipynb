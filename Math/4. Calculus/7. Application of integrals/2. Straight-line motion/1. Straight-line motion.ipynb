{
 "cells": [
  {
   "metadata": {},
   "cell_type": "markdown",
   "source": [
    "# Contents\n",
    "\n",
    "[Displacement vs Distance](#displacement-vs-distance)\n",
    "\n",
    "[Position](#position)\n",
    "\n",
    "[Total distance traveled](#total-distance-traveled)\n",
    "\n",
    "[Average acceleration over interval](#average-acceleration-over-interval)"
   ],
   "id": "84f88acb5b37f1"
  },
  {
   "metadata": {},
   "cell_type": "markdown",
   "source": [
    "# Straight-line motion\n",
    "\n"
   ],
   "id": "acae23d96509dc87"
  },
  {
   "metadata": {},
   "cell_type": "markdown",
   "source": [
    "## Displacement vs. Distance\n",
    "\n",
    "![](./images/img.png)\n",
    "\n",
    "![](./images/img_1.png)"
   ],
   "id": "7b4e35588176a34e"
  },
  {
   "metadata": {},
   "cell_type": "markdown",
   "source": [
    "## Position\n",
    "\n",
    "![](./images/img_2.png)"
   ],
   "id": "5f5073a5c7f8ded2"
  },
  {
   "metadata": {},
   "cell_type": "markdown",
   "source": [
    "## Total distance traveled\n",
    "\n",
    "![](./images/img_3.png)\n",
    "\n",
    "![](./images/img_4.png)"
   ],
   "id": "dc759fcf8d342d33"
  },
  {
   "metadata": {},
   "cell_type": "markdown",
   "source": [
    "## Average acceleration over interval\n",
    "\n",
    "![](./images/img_5.png)\n",
    "\n",
    "![](./images/img_6.png)\n",
    "\n",
    "![](./images/img_7.png)\n",
    "\n",
    "![](./images/img_8.png)\n"
   ],
   "id": "8ff79009b40d91d8"
  },
  {
   "metadata": {
    "ExecuteTime": {
     "end_time": "2025-02-20T14:14:49.396463Z",
     "start_time": "2025-02-20T14:14:48.901019Z"
    }
   },
   "cell_type": "code",
   "source": [
    "import sympy as sp\n",
    "\n",
    "# Define the time variable\n",
    "t = sp.Symbol('t', real=True, nonnegative=True)\n",
    "\n",
    "# Example 2's velocity: v(t) = 6 e^(2 t)\n",
    "v = 6*sp.exp(2*t)\n",
    "\n",
    "# 1) Find position from 0 to some T, with s(0) = 10\n",
    "s = sp.integrate(v, (t,)) + sp.Symbol('C', real=True)\n",
    "# s = 3 e^(2 t) + C ... but let's confirm\n",
    "\n",
    "print(\"Symbolic indefinite integral of v(t):\", s)\n",
    "\n",
    "# 2) Use the condition s(0)=10\n",
    "C = 10 - s.subs(t,0)  # Evaluate the expression at t=0, solve for C\n",
    "s = s.subs(sp.Symbol('C'), C)\n",
    "print(\"Position function with s(0)=10:\", s)\n",
    "\n",
    "# Evaluate at t=3\n",
    "s_at_3 = s.subs(t, 3)\n",
    "print(\"Position at t=3:\", s_at_3)\n"
   ],
   "id": "411ee778f76b36b5",
   "outputs": [
    {
     "name": "stdout",
     "output_type": "stream",
     "text": [
      "Symbolic indefinite integral of v(t): C + 3*exp(2*t)\n",
      "Position function with s(0)=10: C + 3*exp(2*t)\n",
      "Position at t=3: C + 3*exp(6)\n"
     ]
    }
   ],
   "execution_count": 1
  },
  {
   "metadata": {},
   "cell_type": "markdown",
   "source": "![](./images/img_9.png)",
   "id": "d14d32d6288471e5"
  },
  {
   "metadata": {},
   "cell_type": "code",
   "outputs": [],
   "execution_count": null,
   "source": "",
   "id": "b4137ea2d4657103"
  }
 ],
 "metadata": {
  "kernelspec": {
   "display_name": "Python 3",
   "language": "python",
   "name": "python3"
  },
  "language_info": {
   "codemirror_mode": {
    "name": "ipython",
    "version": 2
   },
   "file_extension": ".py",
   "mimetype": "text/x-python",
   "name": "python",
   "nbconvert_exporter": "python",
   "pygments_lexer": "ipython2",
   "version": "2.7.6"
  }
 },
 "nbformat": 4,
 "nbformat_minor": 5
}
