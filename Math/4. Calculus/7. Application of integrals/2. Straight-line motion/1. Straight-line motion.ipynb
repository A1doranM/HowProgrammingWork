{
 "cells": [
  {
   "metadata": {},
   "cell_type": "markdown",
   "source": [
    "# Contents\n",
    "\n",
    "[Displacement vs Distance](#displacement-vs-distance)\n",
    "\n",
    "[Position](#position)\n",
    "\n",
    "[Total distance traveled](#total-distance-traveled)\n",
    "\n",
    "[Average acceleration over interval](#average-acceleration-over-interval)"
   ],
   "id": "84f88acb5b37f1"
  },
  {
   "metadata": {},
   "cell_type": "markdown",
   "source": [
    "# Straight-line motion\n",
    "\n"
   ],
   "id": "acae23d96509dc87"
  },
  {
   "metadata": {},
   "cell_type": "markdown",
   "source": "## Displacement vs. Distance",
   "id": "7b4e35588176a34e"
  },
  {
   "metadata": {},
   "cell_type": "markdown",
   "source": "## Position",
   "id": "5f5073a5c7f8ded2"
  },
  {
   "metadata": {},
   "cell_type": "markdown",
   "source": "## Total distance traveled",
   "id": "dc759fcf8d342d33"
  },
  {
   "metadata": {},
   "cell_type": "markdown",
   "source": "## Average acceleration over interval",
   "id": "8ff79009b40d91d8"
  },
  {
   "metadata": {},
   "cell_type": "code",
   "outputs": [],
   "execution_count": null,
   "source": "",
   "id": "411ee778f76b36b5"
  }
 ],
 "metadata": {
  "kernelspec": {
   "display_name": "Python 3",
   "language": "python",
   "name": "python3"
  },
  "language_info": {
   "codemirror_mode": {
    "name": "ipython",
    "version": 2
   },
   "file_extension": ".py",
   "mimetype": "text/x-python",
   "name": "python",
   "nbconvert_exporter": "python",
   "pygments_lexer": "ipython2",
   "version": "2.7.6"
  }
 },
 "nbformat": 4,
 "nbformat_minor": 5
}
