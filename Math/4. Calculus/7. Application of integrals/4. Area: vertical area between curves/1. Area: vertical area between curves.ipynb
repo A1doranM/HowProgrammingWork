{
 "cells": [
  {
   "metadata": {},
   "cell_type": "markdown",
   "source": [
    "# Contents\n",
    "\n",
    "[Area between curve and x-axis](#area-between-curve-and-x-axis)\n",
    "\n",
    "[Area between curves](#area-between-curves)\n",
    "\n",
    "[Area between curve and y-axis](#area-between-curve-and-y-axis)"
   ],
   "id": "50be1543fbcd669a"
  },
  {
   "metadata": {},
   "cell_type": "markdown",
   "source": "# Area between curve and x-axis",
   "id": "690fd118db5826b"
  },
  {
   "metadata": {},
   "cell_type": "markdown",
   "source": [
    "![](./images/img.png)\n",
    "\n",
    "![](./images/img_1.png)"
   ],
   "id": "9639561a7cea2b78"
  },
  {
   "metadata": {},
   "cell_type": "markdown",
   "source": [
    "![](./images/img_2.png)\n",
    "\n",
    "![](./images/img_3.png)"
   ],
   "id": "477f24d1605ac67"
  },
  {
   "metadata": {},
   "cell_type": "markdown",
   "source": [
    "![](./images/img_4.png)\n",
    "\n",
    "![](./images/img_5.png)"
   ],
   "id": "d271f08feaf326b7"
  },
  {
   "metadata": {},
   "cell_type": "markdown",
   "source": "# Area between curves ",
   "id": "fc426cf55848edef"
  },
  {
   "metadata": {},
   "cell_type": "markdown",
   "source": [
    "![](./images/img_6.png)\n",
    "\n",
    "![](./images/img_7.png)\n",
    "\n",
    "![](./images/img_8.png)\n",
    "\n",
    "![](./images/img_9.png)\n",
    "\n",
    "![](./images/img_10.png)\n",
    "\n",
    "![](./images/img_11.png)\n",
    "\n",
    "![](./images/img_12.png)"
   ],
   "id": "5a7464e440b2107"
  },
  {
   "metadata": {
    "ExecuteTime": {
     "end_time": "2025-02-26T10:17:58.028750Z",
     "start_time": "2025-02-26T10:17:56.317098Z"
    }
   },
   "cell_type": "code",
   "source": [
    "import sympy as sp\n",
    "\n",
    "x = sp.Symbol('x', real=True)\n",
    "f1 = x**3 - 3*x**2 + 1\n",
    "f2 = 4 - x**2\n",
    "\n",
    "# Solve for intersection:\n",
    "sol = sp.solve(sp.Eq(f1, f2), x)\n",
    "print(\"Intersections:\", sol)\n",
    "\n",
    "# Suppose we found only one real solution near 2.49:\n",
    "x0 = 0\n",
    "x1_approx = [r for r in sol if r.is_real][0]  # might be the real root\n",
    "print(\"Numeric approx intersection:\", x1_approx.evalf())\n",
    "\n",
    "# Integrate top - bottom from 0 to that intersection:\n",
    "area_expr = sp.integrate((f2 - f1), (x, 0, x1_approx))\n",
    "print(\"Area exactly (symbolic):\", area_expr.simplify())\n",
    "print(\"Area numerically:\", area_expr.evalf())\n"
   ],
   "id": "8c5e564c6f3c9f08",
   "outputs": [
    {
     "name": "stdout",
     "output_type": "stream",
     "text": [
      "Intersections: [2/3 + (-1/2 - sqrt(3)*I/2)*(sqrt(113)/6 + 97/54)**(1/3) + 4/(9*(-1/2 - sqrt(3)*I/2)*(sqrt(113)/6 + 97/54)**(1/3)), 2/3 + 4/(9*(-1/2 + sqrt(3)*I/2)*(sqrt(113)/6 + 97/54)**(1/3)) + (-1/2 + sqrt(3)*I/2)*(sqrt(113)/6 + 97/54)**(1/3), 4/(9*(sqrt(113)/6 + 97/54)**(1/3)) + 2/3 + (sqrt(113)/6 + 97/54)**(1/3)]\n",
      "Numeric approx intersection: 2.48558399768860\n",
      "Area exactly (symbolic): -97*sqrt(113)*2**(1/3)*(9*sqrt(113) + 97)**(2/3)/768 - sqrt(113)*2**(2/3)*(9*sqrt(113) + 97)**(1/3)/48 + 22/9 + 97*2**(2/3)*(9*sqrt(113) + 97)**(1/3)/144 + 3179*2**(1/3)*(9*sqrt(113) + 97)**(2/3)/2304\n",
      "Area numerically: 8.15193993132123\n"
     ]
    }
   ],
   "execution_count": 1
  },
  {
   "metadata": {},
   "cell_type": "markdown",
   "source": [
    "![](./images/img_13.png)\n",
    "\n",
    "![](./images/img_14.png)\n",
    "\n",
    "![](./images/img_15.png)"
   ],
   "id": "3aaa03bd060f9480"
  },
  {
   "metadata": {},
   "cell_type": "markdown",
   "source": "# Area between curve and y-axis",
   "id": "d77bbf475940541e"
  },
  {
   "metadata": {},
   "cell_type": "markdown",
   "source": "",
   "id": "1de8c0487218403e"
  }
 ],
 "metadata": {
  "kernelspec": {
   "display_name": "Python 3",
   "language": "python",
   "name": "python3"
  },
  "language_info": {
   "codemirror_mode": {
    "name": "ipython",
    "version": 2
   },
   "file_extension": ".py",
   "mimetype": "text/x-python",
   "name": "python",
   "nbconvert_exporter": "python",
   "pygments_lexer": "ipython2",
   "version": "2.7.6"
  }
 },
 "nbformat": 4,
 "nbformat_minor": 5
}
