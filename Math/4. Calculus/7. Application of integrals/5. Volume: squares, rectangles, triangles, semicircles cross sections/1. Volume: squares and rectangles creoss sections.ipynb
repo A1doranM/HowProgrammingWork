{
 "cells": [
  {
   "metadata": {},
   "cell_type": "markdown",
   "source": [
    "# Contents\n",
    "\n",
    "[Volume: squares and rectangles cross sections](#volume-squares-and-rectangles-cross-sections)\n",
    "\n",
    "[Volume: triangles and semicircles cross sections](#volume-triangles-and-semicircles-cross-sections)"
   ],
   "id": "b730e8085bb8c7ac"
  },
  {
   "metadata": {},
   "cell_type": "markdown",
   "source": "# Volume: squares and rectangles cross sections",
   "id": "31ea927bf1e71a9e"
  },
  {
   "metadata": {},
   "cell_type": "markdown",
   "source": [
    "![](./images/img.png)\n",
    "\n",
    "![](./images/img_1.png)\n",
    "\n",
    "![](./images/img_2.png)\n",
    "\n",
    "![](./images/img_3.png)"
   ],
   "id": "6c363b51f6f0dd6d"
  },
  {
   "metadata": {
    "ExecuteTime": {
     "end_time": "2025-03-03T15:14:05.087772Z",
     "start_time": "2025-03-03T15:14:04.565956Z"
    }
   },
   "cell_type": "code",
   "source": [
    "import sympy\n",
    "\n",
    "# 1) Define the symbolic variable\n",
    "x = sympy.Symbol('x', real=True, nonnegative=True)\n",
    "\n",
    "# 2) Define the side length for each slice (which is x^2)\n",
    "side_length = x**2\n",
    "\n",
    "# 3) The area for each cross section (since it's a square) is side^2 = (x^2)^2\n",
    "area = side_length**2  # which is x^4\n",
    "\n",
    "# 4) Integrate this area from x=0 to x=2 to get the volume\n",
    "volume = sympy.integrate(area, (x, 0, 2))\n",
    "\n",
    "# 5) Print the result\n",
    "print(\"Volume of the solid =\", volume)\n"
   ],
   "id": "63014c1cdb3e61e3",
   "outputs": [
    {
     "name": "stdout",
     "output_type": "stream",
     "text": [
      "Volume of the solid = 32/5\n"
     ]
    }
   ],
   "execution_count": 1
  },
  {
   "metadata": {},
   "cell_type": "markdown",
   "source": [
    "![](./images/img_4.png)\n",
    "\n",
    "![](./images/img_5.png)"
   ],
   "id": "c3b17acfffae0319"
  },
  {
   "metadata": {},
   "cell_type": "markdown",
   "source": "# Volume: triangles and semicircles cross sections",
   "id": "672af2003fa70e44"
  },
  {
   "metadata": {},
   "cell_type": "markdown",
   "source": [
    "![](./images/img_6.png)\n",
    "\n",
    "![](./images/img_7.png)\n",
    "\n",
    "![](./images/img_8.png)\n",
    "\n",
    "![](./images/img_9.png)\n",
    "\n",
    "![](./images/img_10.png)\n",
    "\n",
    "![](./images/img_11.png)"
   ],
   "id": "c32d172d77c75209"
  },
  {
   "metadata": {
    "ExecuteTime": {
     "end_time": "2025-03-04T10:46:39.293121Z",
     "start_time": "2025-03-04T10:46:38.221570Z"
    }
   },
   "cell_type": "code",
   "source": [
    "import sympy\n",
    "\n",
    "x = sympy.Symbol('x', real=True, nonnegative=True)\n",
    "\n",
    "# --- Example 1: isosceles right triangles, leg = x,  x from 0..2 ---\n",
    "area1 = 0.5 * x**2\n",
    "vol1  = sympy.integrate(area1, (x, 0, 2))\n",
    "\n",
    "# --- Example 2: equilateral triangles, side = x^2,  x from 0..2 ---\n",
    "# Area of equilateral triangle = (sqrt(3)/4)*side^2\n",
    "area2 = (sympy.sqrt(3)/4) * (x**2)**2\n",
    "vol2  = sympy.integrate(area2, (x, 0, 2))\n",
    "\n",
    "# --- Example 3: semicircles, diameter = (2 - x), x from 0..2 ---\n",
    "# Area of semicircle with diameter d = (pi/8)*d^2\n",
    "area3 = (sympy.pi/8) * (2 - x)**2\n",
    "vol3  = sympy.integrate(area3, (x, 0, 2))\n",
    "\n",
    "# --- Example 4: isosceles right triangles, hypotenuse = x^2 + 1 - x, x in [1..3] ---\n",
    "# Area = ( hypotenuse^2 ) / 4\n",
    "hyp   = x**2 + 1 - x\n",
    "area4 = (hyp**2)/4\n",
    "vol4  = sympy.integrate(area4, (x, 1, 3))\n",
    "\n",
    "print(\"Example 1 Volume =\", vol1.simplify())\n",
    "print(\"Example 2 Volume =\", vol2.simplify())\n",
    "print(\"Example 3 Volume =\", vol3.simplify())\n",
    "print(\"Example 4 Volume =\", vol4.simplify())\n"
   ],
   "id": "8678a282dee317c",
   "outputs": [
    {
     "name": "stdout",
     "output_type": "stream",
     "text": [
      "Example 1 Volume = 1.33333333333333\n",
      "Example 2 Volume = 8*sqrt(3)/5\n",
      "Example 3 Volume = pi/3\n",
      "Example 4 Volume = 71/10\n"
     ]
    }
   ],
   "execution_count": 1
  },
  {
   "metadata": {},
   "cell_type": "code",
   "outputs": [],
   "execution_count": null,
   "source": "",
   "id": "59f050c81a9dc86e"
  }
 ],
 "metadata": {
  "kernelspec": {
   "display_name": "Python 3",
   "language": "python",
   "name": "python3"
  },
  "language_info": {
   "codemirror_mode": {
    "name": "ipython",
    "version": 2
   },
   "file_extension": ".py",
   "mimetype": "text/x-python",
   "name": "python",
   "nbconvert_exporter": "python",
   "pygments_lexer": "ipython2",
   "version": "2.7.6"
  }
 },
 "nbformat": 4,
 "nbformat_minor": 5
}
