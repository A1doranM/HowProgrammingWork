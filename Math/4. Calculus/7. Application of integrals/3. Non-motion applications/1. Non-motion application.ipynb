{
 "cells": [
  {
   "metadata": {},
   "cell_type": "markdown",
   "source": "# Contents",
   "id": "d79754ff1944c2ad"
  },
  {
   "metadata": {},
   "cell_type": "markdown",
   "source": "# Non-motion application",
   "id": "759e6c78179f4d7"
  },
  {
   "metadata": {},
   "cell_type": "markdown",
   "source": [
    "If you have a function representing rate, what does the area under its curve represent? Area under rate function gives the net change\n",
    "\n",
    "![](./images/img.png)\n",
    "\n",
    "![](./images/img_1.png)\n",
    "\n",
    "![](./images/img_2.png)\n",
    "\n",
    "![](./images/img_3.png)\n",
    "\n",
    "![](./images/img_4.png)\n",
    "\n",
    "![](./images/img_5.png)"
   ],
   "id": "137a971f7b614025"
  },
  {
   "metadata": {},
   "cell_type": "code",
   "outputs": [],
   "execution_count": null,
   "source": [
    "import sympy as sp\n",
    "\n",
    "t = sp.Symbol('t', real=True, nonnegative=True)\n",
    "\n",
    "# Inflow and Outflow rates\n",
    "R_in  = sp.exp(0.2*t) + 2\n",
    "R_out = 0.5*sp.sin(t) + 1\n",
    "\n",
    "net_rate = R_in - R_out\n",
    "\n",
    "# Integrate from t=0 to t=10\n",
    "net_change = sp.integrate(net_rate, (t, 0, 10))\n",
    "\n",
    "V0 = 30  # Initial volume\n",
    "\n",
    "V10 = V0 + net_change\n",
    "print(\"Exact expression for net change:\", net_change)\n",
    "print(\"Final volume at t=10:\", V10.simplify())\n"
   ],
   "id": "4b15d66175aa2f79"
  }
 ],
 "metadata": {
  "kernelspec": {
   "display_name": "Python 3",
   "language": "python",
   "name": "python3"
  },
  "language_info": {
   "codemirror_mode": {
    "name": "ipython",
    "version": 2
   },
   "file_extension": ".py",
   "mimetype": "text/x-python",
   "name": "python",
   "nbconvert_exporter": "python",
   "pygments_lexer": "ipython2",
   "version": "2.7.6"
  }
 },
 "nbformat": 4,
 "nbformat_minor": 5
}
