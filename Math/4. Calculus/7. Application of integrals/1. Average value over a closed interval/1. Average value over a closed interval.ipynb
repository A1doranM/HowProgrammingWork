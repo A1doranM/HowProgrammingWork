{
 "cells": [
  {
   "metadata": {},
   "cell_type": "markdown",
   "source": "# Average value over a closed interval",
   "id": "a084c5e17abc62c3"
  },
  {
   "metadata": {},
   "cell_type": "markdown",
   "source": [
    "![](./images/img.png)\n",
    "\n",
    "![](./images/img_1.png)\n",
    "\n",
    "![](./images/img_2.png)\n",
    "\n",
    "![](./images/img_3.png)"
   ],
   "id": "f2443d03a73b7a6d"
  },
  {
   "metadata": {
    "ExecuteTime": {
     "end_time": "2025-02-19T11:02:29.109602Z",
     "start_time": "2025-02-19T11:02:27.204187Z"
    }
   },
   "cell_type": "code",
   "source": [
    "import sympy as sp\n",
    "\n",
    "# 1) Create a symbolic variable x\n",
    "x = sp.Symbol('x', real=True)\n",
    "\n",
    "# 2) Define a function, e.g. f(x) = x * exp(2 x^2)\n",
    "f = x*sp.exp(2*x**2)\n",
    "\n",
    "# 3) Compute the integral from 0 to 1\n",
    "area = sp.integrate(f, (x, 0, 1))  # definite integral\n",
    "\n",
    "# 4) Average value\n",
    "avg_value = area/(1 - 0)\n",
    "\n",
    "print(\"Integral of f from 0 to 1:\", area)\n",
    "print(\"Average value on [0,1]:\", avg_value)\n",
    "\n",
    "# 5) We could attempt to find c with f(c) = avg_value:\n",
    "eq = sp.Eq(f, avg_value)\n",
    "c_candidates = sp.solve(eq, (x))\n",
    "print(\"Candidates for c in real domain:\", c_candidates)\n",
    "# We'll see if there's a real c in [0,1].\n"
   ],
   "id": "dcf8e16eafb71099",
   "outputs": [
    {
     "name": "stdout",
     "output_type": "stream",
     "text": [
      "Integral of f from 0 to 1: -1/4 + exp(2)/4\n",
      "Average value on [0,1]: -1/4 + exp(2)/4\n",
      "Candidates for c in real domain: [-(1 - exp(2))*exp(-LambertW(-exp(2)/2 + 1/4 + exp(4)/4)/2)/4]\n"
     ]
    }
   ],
   "execution_count": 2
  },
  {
   "metadata": {},
   "cell_type": "code",
   "outputs": [],
   "execution_count": null,
   "source": "",
   "id": "b53ffeae00a3f91b"
  }
 ],
 "metadata": {
  "kernelspec": {
   "display_name": "Python 3",
   "language": "python",
   "name": "python3"
  },
  "language_info": {
   "codemirror_mode": {
    "name": "ipython",
    "version": 2
   },
   "file_extension": ".py",
   "mimetype": "text/x-python",
   "name": "python",
   "nbconvert_exporter": "python",
   "pygments_lexer": "ipython2",
   "version": "2.7.6"
  }
 },
 "nbformat": 4,
 "nbformat_minor": 5
}
