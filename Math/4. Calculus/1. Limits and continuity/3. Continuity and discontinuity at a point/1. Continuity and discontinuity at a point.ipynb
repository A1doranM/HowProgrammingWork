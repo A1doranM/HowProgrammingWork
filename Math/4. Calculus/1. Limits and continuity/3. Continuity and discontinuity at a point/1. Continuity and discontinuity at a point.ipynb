{
 "cells": [
  {
   "metadata": {},
   "cell_type": "markdown",
   "source": [
    "# Content\n",
    "\n",
    "[Continuity at a Point]\n",
    "\n",
    "[Continuity Over an Interval]\n",
    "\n",
    "[Types of Discontinuities]"
   ],
   "id": "55b5c374c24f85ae"
  },
  {
   "metadata": {},
   "cell_type": "markdown",
   "source": [
    "# Continuity at a Point\n",
    "\n",
    "![](./images/img.png)\n",
    "\n",
    "![](./images/img_1.png)\n",
    "\n"
   ],
   "id": "3e6021cf69a8ba8a"
  },
  {
   "metadata": {},
   "cell_type": "markdown",
   "source": [
    "# Continuity Over an Interval\n",
    "\n",
    "![](./images/img_2.png)\n",
    "\n",
    "![](./images/img_3.png)"
   ],
   "id": "47ba167edb850eec"
  },
  {
   "metadata": {},
   "cell_type": "markdown",
   "source": [
    "# Types of Discontinuities\n",
    "\n",
    "![](./images/img_4.png)"
   ],
   "id": "55592be6d96db4c8"
  },
  {
   "metadata": {
    "ExecuteTime": {
     "end_time": "2024-09-11T07:11:06.476327Z",
     "start_time": "2024-09-11T07:11:06.471519Z"
    }
   },
   "cell_type": "code",
   "source": [
    "# Define the function\n",
    "def f(x):\n",
    "    return x**2\n",
    "\n",
    "# Check continuity at a point c\n",
    "def check_continuity_at_point(f, c):\n",
    "    # Left-hand limit\n",
    "    left_limit = f(c - 1e-5)\n",
    "\n",
    "    # Right-hand limit\n",
    "    right_limit = f(c + 1e-5)\n",
    "\n",
    "    # Function value at c\n",
    "    function_value = f(c)\n",
    "\n",
    "    print(f\"Left-hand limit: {left_limit}\")\n",
    "    print(f\"Right-hand limit: {right_limit}\")\n",
    "    print(f\"Function value: {function_value}\")\n",
    "\n",
    "    # Check if the function is continuous at c\n",
    "    if abs(left_limit - right_limit) < 1e-5 and abs(left_limit - function_value) < 1e-5:\n",
    "        print(f\"f(x) is continuous at x = {c}\")\n",
    "    else:\n",
    "        print(f\"f(x) is not continuous at x = {c}\")\n",
    "\n",
    "# Test the function at x = 2\n",
    "check_continuity_at_point(f, 2)\n"
   ],
   "id": "c46abd011285cd2",
   "outputs": [
    {
     "name": "stdout",
     "output_type": "stream",
     "text": [
      "Left-hand limit: 3.9999600000999997\n",
      "Right-hand limit: 4.0000400001\n",
      "Function value: 4\n",
      "f(x) is not continuous at x = 2\n"
     ]
    }
   ],
   "execution_count": 1
  },
  {
   "metadata": {},
   "cell_type": "markdown",
   "source": "![](./images/img_6.png)",
   "id": "36dfe30f6c2a7082"
  },
  {
   "metadata": {},
   "cell_type": "markdown",
   "source": [
    "# Removing discontinuities\n",
    "\n",
    "![](./images/img_7.png)\n",
    "\n",
    "![](./images/img_9.png)\n",
    "\n",
    "![](./images/img_8.png)\n",
    "\n",
    "![](./images/img_10.png)\n",
    "\n",
    "![](./images/img_11.png)\n",
    "\n",
    "![](./images/img_12.png)\n",
    "\n",
    "![](./images/img_13.png)"
   ],
   "id": "4431e5855041f327"
  },
  {
   "metadata": {
    "ExecuteTime": {
     "end_time": "2024-09-11T07:36:00.721167Z",
     "start_time": "2024-09-11T07:36:00.714779Z"
    }
   },
   "cell_type": "code",
   "source": [
    "# Define the original function with a removable discontinuity\n",
    "def f(x):\n",
    "    if x == 3:\n",
    "        return None  # Discontinuous at x = 3\n",
    "    else:\n",
    "        return (x**2 - 9) / (x - 3)\n",
    "\n",
    "# Find the limit of the function as x approaches 3\n",
    "def limit_at_3():\n",
    "    x_values = [2.9, 2.99, 2.999, 3.001, 3.01, 3.1]\n",
    "    for x in x_values:\n",
    "        print(f\"f({x}) = {f(x)}\")\n",
    "\n",
    "# Redefine the function to remove the discontinuity\n",
    "def f_redefined(x):\n",
    "    if x == 3:\n",
    "        return 6  # Redefine to remove the discontinuity\n",
    "    else:\n",
    "        return (x**2 - 9) / (x - 3)\n",
    "\n",
    "# Display the behavior of the original function around x = 3\n",
    "print(\"Original function values:\")\n",
    "limit_at_3()\n",
    "\n",
    "# Display the behavior of the redefined function\n",
    "print(\"\\nRedefined function values:\")\n",
    "for x in [2.9, 2.99, 3, 3.01, 3.1]:\n",
    "    print(f\"f_redefined({x}) = {f_redefined(x)}\")\n"
   ],
   "id": "9b2f91aec4f7dba6",
   "outputs": [
    {
     "name": "stdout",
     "output_type": "stream",
     "text": [
      "Original function values:\n",
      "f(2.9) = 5.899999999999993\n",
      "f(2.99) = 5.990000000000023\n",
      "f(2.999) = 5.99899999999986\n",
      "f(3.001) = 6.00100000000014\n",
      "f(3.01) = 6.009999999999977\n",
      "f(3.1) = 6.100000000000007\n",
      "\n",
      "Redefined function values:\n",
      "f_redefined(2.9) = 5.899999999999993\n",
      "f_redefined(2.99) = 5.990000000000023\n",
      "f_redefined(3) = 6\n",
      "f_redefined(3.01) = 6.009999999999977\n",
      "f_redefined(3.1) = 6.100000000000007\n"
     ]
    }
   ],
   "execution_count": 2
  }
 ],
 "metadata": {
  "kernelspec": {
   "display_name": "Python 3",
   "language": "python",
   "name": "python3"
  },
  "language_info": {
   "codemirror_mode": {
    "name": "ipython",
    "version": 2
   },
   "file_extension": ".py",
   "mimetype": "text/x-python",
   "name": "python",
   "nbconvert_exporter": "python",
   "pygments_lexer": "ipython2",
   "version": "2.7.6"
  }
 },
 "nbformat": 4,
 "nbformat_minor": 5
}
