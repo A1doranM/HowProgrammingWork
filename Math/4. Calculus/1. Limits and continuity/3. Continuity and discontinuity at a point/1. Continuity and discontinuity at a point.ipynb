{
 "cells": [
  {
   "metadata": {},
   "cell_type": "markdown",
   "source": [
    "# Content\n",
    "\n",
    "[Continuity at a Point]\n",
    "\n",
    "[Continuity Over an Interval]\n",
    "\n",
    "[Types of Discontinuities]"
   ],
   "id": "55b5c374c24f85ae"
  },
  {
   "metadata": {},
   "cell_type": "markdown",
   "source": [
    "# Continuity at a Point\n",
    "\n",
    "![](./images/img.png)\n",
    "\n",
    "![](./images/img_1.png)\n",
    "\n"
   ],
   "id": "3e6021cf69a8ba8a"
  },
  {
   "metadata": {},
   "cell_type": "markdown",
   "source": [
    "# Continuity Over an Interval\n",
    "\n",
    "![](./images/img_2.png)\n",
    "\n",
    "![](./images/img_3.png)"
   ],
   "id": "47ba167edb850eec"
  },
  {
   "metadata": {},
   "cell_type": "markdown",
   "source": [
    "# Types of Discontinuities\n",
    "\n",
    "![](./images/img_4.png)"
   ],
   "id": "55592be6d96db4c8"
  },
  {
   "metadata": {
    "ExecuteTime": {
     "end_time": "2024-09-11T07:11:06.476327Z",
     "start_time": "2024-09-11T07:11:06.471519Z"
    }
   },
   "cell_type": "code",
   "source": [
    "# Define the function\n",
    "def f(x):\n",
    "    return x**2\n",
    "\n",
    "# Check continuity at a point c\n",
    "def check_continuity_at_point(f, c):\n",
    "    # Left-hand limit\n",
    "    left_limit = f(c - 1e-5)\n",
    "\n",
    "    # Right-hand limit\n",
    "    right_limit = f(c + 1e-5)\n",
    "\n",
    "    # Function value at c\n",
    "    function_value = f(c)\n",
    "\n",
    "    print(f\"Left-hand limit: {left_limit}\")\n",
    "    print(f\"Right-hand limit: {right_limit}\")\n",
    "    print(f\"Function value: {function_value}\")\n",
    "\n",
    "    # Check if the function is continuous at c\n",
    "    if abs(left_limit - right_limit) < 1e-5 and abs(left_limit - function_value) < 1e-5:\n",
    "        print(f\"f(x) is continuous at x = {c}\")\n",
    "    else:\n",
    "        print(f\"f(x) is not continuous at x = {c}\")\n",
    "\n",
    "# Test the function at x = 2\n",
    "check_continuity_at_point(f, 2)\n"
   ],
   "id": "c46abd011285cd2",
   "outputs": [
    {
     "name": "stdout",
     "output_type": "stream",
     "text": [
      "Left-hand limit: 3.9999600000999997\n",
      "Right-hand limit: 4.0000400001\n",
      "Function value: 4\n",
      "f(x) is not continuous at x = 2\n"
     ]
    }
   ],
   "execution_count": 1
  },
  {
   "metadata": {},
   "cell_type": "markdown",
   "source": "![](./images/img_6.png)",
   "id": "36dfe30f6c2a7082"
  },
  {
   "metadata": {},
   "cell_type": "code",
   "outputs": [],
   "execution_count": null,
   "source": "",
   "id": "2dd03f9f62b1f9ec"
  }
 ],
 "metadata": {
  "kernelspec": {
   "display_name": "Python 3",
   "language": "python",
   "name": "python3"
  },
  "language_info": {
   "codemirror_mode": {
    "name": "ipython",
    "version": 2
   },
   "file_extension": ".py",
   "mimetype": "text/x-python",
   "name": "python",
   "nbconvert_exporter": "python",
   "pygments_lexer": "ipython2",
   "version": "2.7.6"
  }
 },
 "nbformat": 4,
 "nbformat_minor": 5
}
