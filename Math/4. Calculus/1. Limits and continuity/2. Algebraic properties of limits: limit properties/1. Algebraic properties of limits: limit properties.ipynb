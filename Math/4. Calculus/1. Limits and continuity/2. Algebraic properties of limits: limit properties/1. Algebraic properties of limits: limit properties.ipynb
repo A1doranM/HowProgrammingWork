{
 "cells": [
  {
   "metadata": {},
   "cell_type": "markdown",
   "source": [
    "# Content\n",
    "\n",
    "[Algebraic Properties of Limits: Limit Properties](#algebraic-properties-of-limits-limit-properties)\n",
    "\n",
    "[Theorem for Limits of Composite Functions (Limit of a Composite Function)](#theorem-for-limits-of-composite-functions-limit-of-a-composite-function)\n",
    "\n",
    "[Determining limits using direct substitution](#determining-limits-using-direct-substitution)\n",
    "\n",
    "[Determining limits using algebraic manipulation](#determining-limits-using-algebraic manipulation)"
   ],
   "id": "269eb2207863fc7d"
  },
  {
   "metadata": {},
   "cell_type": "markdown",
   "source": [
    "# Algebraic Properties of Limits: Limit Properties\n",
    "\n",
    "![](./images/img.png)\n",
    "\n",
    "![](./images/img_1.png)\n",
    "\n",
    "![](./images/img_2.png)\n",
    "\n",
    "![](./images/img_3.png)\n",
    "\n",
    "![](./images/img_4.png)\n",
    "\n",
    "![](./images/img_5.png)"
   ],
   "id": "dddbc3ab4a084a35"
  },
  {
   "metadata": {},
   "cell_type": "markdown",
   "source": "## Properties in code",
   "id": "73d327bc7f2dbc49"
  },
  {
   "metadata": {
    "ExecuteTime": {
     "end_time": "2024-09-06T06:20:04.074094Z",
     "start_time": "2024-09-06T06:20:04.066964Z"
    }
   },
   "cell_type": "code",
   "source": [
    "import math\n",
    "\n",
    "# Define the functions\n",
    "def f(x):\n",
    "    return x**2\n",
    "\n",
    "def g(x):\n",
    "    return 2 * x\n",
    "\n",
    "# Evaluate the limits as x approaches 3\n",
    "x = 3\n",
    "\n",
    "# Sum/Difference Property\n",
    "limit_sum = f(x) + g(x)\n",
    "print(f\"Sum/Difference Property. The limit of f(x) + g(x) as x approaches 3 is {limit_sum}\")\n",
    "\n",
    "# Product Property\n",
    "limit_product = f(x) * g(x)\n",
    "print(f\"Product Property. The limit of f(x) * g(x) as x approaches 3 is {limit_product}\")\n",
    "\n",
    "# Quotient Property\n",
    "if g(x) != 0:  # Ensure denominator is not zero\n",
    "    limit_quotient = f(x) / g(x)\n",
    "    print(f\"Quotient Property. The limit of f(x) / g(x) as x approaches 3 is {limit_quotient}\")\n",
    "else:\n",
    "    print(\"Quotient Property. The limit does not exist because the denominator approaches 0.\")\n",
    "\n",
    "# Constant Multiple Property\n",
    "constant = 4\n",
    "limit_constant_multiple = constant * f(x)\n",
    "print(f\"Constant Multiple Property. The limit of 4 * f(x) as x approaches 3 is {limit_constant_multiple}\")\n",
    "\n",
    "# Power Property\n",
    "power = 3\n",
    "limit_power = f(x)**power\n",
    "print(f\"Power Property. The limit of f(x)^3 as x approaches 3 is {limit_power}\")\n",
    "\n",
    "# Root Property\n",
    "limit_root = math.sqrt(f(x))\n",
    "print(f\"Root Property. The limit of sqrt(f(x)) as x approaches 3 is {limit_root}\")\n"
   ],
   "id": "8d9a6a2b71d43875",
   "outputs": [
    {
     "name": "stdout",
     "output_type": "stream",
     "text": [
      "Sum/Difference Property. The limit of f(x) + g(x) as x approaches 3 is 15\n",
      "Product Property. The limit of f(x) * g(x) as x approaches 3 is 54\n",
      "Quotient Property. The limit of f(x) / g(x) as x approaches 3 is 1.5\n",
      "Constant Multiple Property. The limit of 4 * f(x) as x approaches 3 is 36\n",
      "Power Property. The limit of f(x)^3 as x approaches 3 is 729\n",
      "Root Property. The limit of sqrt(f(x)) as x approaches 3 is 3.0\n"
     ]
    }
   ],
   "execution_count": 4
  },
  {
   "metadata": {},
   "cell_type": "markdown",
   "source": [
    "## Theorem for Limits of Composite Functions (Limit of a Composite Function)\n",
    "\n",
    "![](./images/img_6.png)\n",
    "\n",
    "![](./images/img_7.png)\n",
    "\n",
    "![](./images/img_8.png)\n",
    "\n",
    "![](./images/img_9.png)\n",
    "\n",
    "![](./images/img_10.png)"
   ],
   "id": "73a9874f396f8b74"
  },
  {
   "metadata": {
    "ExecuteTime": {
     "end_time": "2024-09-06T06:29:15.655622Z",
     "start_time": "2024-09-06T06:29:15.562061Z"
    }
   },
   "cell_type": "code",
   "source": [
    "import numpy as np\n",
    "\n",
    "# Define the inner and outer functions\n",
    "def g(x):\n",
    "    return 2 * x + 1\n",
    "\n",
    "def f(x):\n",
    "    return x**2\n",
    "\n",
    "# Compute the limit of the inner function at x = 3\n",
    "x_val = 3\n",
    "g_at_x = g(x_val)\n",
    "\n",
    "# Now apply the outer function to the result\n",
    "f_at_g = f(g_at_x)\n",
    "\n",
    "# Print the results\n",
    "print(f\"The limit of g(x) as x approaches {x_val} is: {g_at_x}\")\n",
    "print(f\"The limit of f(g(x)) as x approaches {x_val} is: {f_at_g}\")\n"
   ],
   "id": "b463d4b24f143783",
   "outputs": [
    {
     "name": "stdout",
     "output_type": "stream",
     "text": [
      "The limit of g(x) as x approaches 3 is: 7\n",
      "The limit of f(g(x)) as x approaches 3 is: 49\n"
     ]
    }
   ],
   "execution_count": 5
  },
  {
   "metadata": {},
   "cell_type": "markdown",
   "source": [
    "# Determining Limits Using Direct Substitution\n",
    "\n",
    "![](./images/img_11.png)\n",
    "\n",
    "![](./images/img_12.png)\n",
    "\n",
    "![](./images/img_17.png)"
   ],
   "id": "e58c7f2fea947681"
  },
  {
   "metadata": {
    "ExecuteTime": {
     "end_time": "2024-09-09T15:21:27.581557Z",
     "start_time": "2024-09-09T15:21:27.578053Z"
    }
   },
   "cell_type": "code",
   "source": [
    "# Define the function f(x)\n",
    "def f(x):\n",
    "    return x**2 + 3*x - 5\n",
    "\n",
    "# Set the value for x where we want to find the limit\n",
    "x_value = 2\n",
    "\n",
    "# Use direct substitution to find the limit\n",
    "limit_value = f(x_value)\n",
    "\n",
    "# Display the result\n",
    "print(f\"The limit of f(x) as x approaches {x_value} is: {limit_value}\")\n"
   ],
   "id": "625ea621053d05af",
   "outputs": [
    {
     "name": "stdout",
     "output_type": "stream",
     "text": [
      "The limit of f(x) as x approaches 2 is: 5\n"
     ]
    }
   ],
   "execution_count": 1
  },
  {
   "metadata": {},
   "cell_type": "markdown",
   "source": [
    "### Direct Substitution with Trigonometric Function\n",
    "\n",
    "![](./images/img_13.png)\n",
    "\n",
    "![](./images/img_14.png)"
   ],
   "id": "183d8bf9ffaff6fd"
  },
  {
   "metadata": {
    "ExecuteTime": {
     "end_time": "2024-09-09T15:22:36.378626Z",
     "start_time": "2024-09-09T15:22:36.186611Z"
    }
   },
   "cell_type": "code",
   "source": [
    "import numpy as np\n",
    "\n",
    "# Define the function f(x)\n",
    "def f(x):\n",
    "    return np.sin(x)\n",
    "\n",
    "# Set the value for x where we want to find the limit\n",
    "x_value = np.pi / 4\n",
    "\n",
    "# Use direct substitution to find the limit\n",
    "limit_value = f(x_value)\n",
    "\n",
    "# Display the result\n",
    "print(f\"The limit of f(x) as x approaches π/4 is: {limit_value}\")\n"
   ],
   "id": "ca4e2d73114198a8",
   "outputs": [
    {
     "name": "stdout",
     "output_type": "stream",
     "text": [
      "The limit of f(x) as x approaches π/4 is: 0.7071067811865475\n"
     ]
    }
   ],
   "execution_count": 2
  },
  {
   "metadata": {},
   "cell_type": "markdown",
   "source": [
    "### Direct Substitution with Exponential Function\n",
    "\n",
    "![](./images/img_15.png)\n",
    "\n",
    "![](./images/img_16.png)"
   ],
   "id": "14b8de8f63290bd"
  },
  {
   "metadata": {
    "ExecuteTime": {
     "end_time": "2024-09-09T15:23:48.593954Z",
     "start_time": "2024-09-09T15:23:48.590656Z"
    }
   },
   "cell_type": "code",
   "source": [
    "import numpy as np\n",
    "\n",
    "# Define the function f(x)\n",
    "def f(x):\n",
    "    return np.exp(x)\n",
    "\n",
    "# Set the value for x where we want to find the limit\n",
    "x_value = 1\n",
    "\n",
    "# Use direct substitution to find the limit\n",
    "limit_value = f(x_value)\n",
    "\n",
    "# Display the result\n",
    "print(f\"The limit of f(x) as x approaches 1 is: {limit_value}\")\n"
   ],
   "id": "dbdf89fe34078231",
   "outputs": [
    {
     "name": "stdout",
     "output_type": "stream",
     "text": [
      "The limit of f(x) as x approaches 1 is: 2.718281828459045\n"
     ]
    }
   ],
   "execution_count": 3
  },
  {
   "metadata": {},
   "cell_type": "markdown",
   "source": [
    "## Determining limits using algebraic manipulation\n",
    "\n",
    "![](./images/img_18.png)\n",
    "\n",
    "![](./images/img_19.png)\n",
    "\n",
    "![](./images/img_20.png)"
   ],
   "id": "e0d3cd84532e33d2"
  },
  {
   "metadata": {
    "ExecuteTime": {
     "end_time": "2024-09-10T05:41:59.602050Z",
     "start_time": "2024-09-10T05:41:59.595295Z"
    }
   },
   "cell_type": "code",
   "source": [
    "import numpy as np\n",
    "\n",
    "# Define the simplified function after rationalizing\n",
    "def f(x):\n",
    "    return 1 / (np.sqrt(x + 1) + 1)\n",
    "\n",
    "# Set the value where we want to find the limit\n",
    "x_value = 0\n",
    "\n",
    "# Compute the limit using direct substitution after rationalizing\n",
    "limit_value = f(x_value)\n",
    "\n",
    "# Display the result\n",
    "print(f\"The limit of f(x) as x approaches {x_value} is: {limit_value}\")\n"
   ],
   "id": "ac7cc260cc28aad4",
   "outputs": [
    {
     "name": "stdout",
     "output_type": "stream",
     "text": [
      "The limit of f(x) as x approaches 0 is: 0.5\n"
     ]
    }
   ],
   "execution_count": 3
  },
  {
   "metadata": {},
   "cell_type": "markdown",
   "source": [
    "![](./images/img_21.png)\n",
    "\n",
    "![](./images/img_22.png)"
   ],
   "id": "dadb77551d04bd64"
  },
  {
   "metadata": {
    "ExecuteTime": {
     "end_time": "2024-09-10T05:41:56.214420Z",
     "start_time": "2024-09-10T05:41:56.108817Z"
    }
   },
   "cell_type": "code",
   "source": [
    "import numpy as np\n",
    "\n",
    "# Define the simplified function after rationalizing\n",
    "def f(x):\n",
    "    return 1 / (np.sqrt(x + 1) + 1)\n",
    "\n",
    "# Set the value where we want to find the limit\n",
    "x_value = 0\n",
    "\n",
    "# Compute the limit using direct substitution after rationalizing\n",
    "limit_value = f(x_value)\n",
    "\n",
    "# Display the result\n",
    "print(f\"The limit of f(x) as x approaches {x_value} is: {limit_value}\")\n"
   ],
   "id": "8808a82c06abae8c",
   "outputs": [
    {
     "name": "stdout",
     "output_type": "stream",
     "text": [
      "The limit of f(x) as x approaches 0 is: 0.5\n"
     ]
    }
   ],
   "execution_count": 2
  },
  {
   "metadata": {},
   "cell_type": "markdown",
   "source": [
    "![](./images/img_23.png)\n",
    "\n",
    "![](./images/img_24.png)"
   ],
   "id": "d46095db52cc2379"
  },
  {
   "metadata": {
    "ExecuteTime": {
     "end_time": "2024-09-10T05:41:48.495965Z",
     "start_time": "2024-09-10T05:41:48.492386Z"
    }
   },
   "cell_type": "code",
   "source": [
    "# Define the simplified function after simplifying the complex fraction\n",
    "def f(x):\n",
    "    return -1 / x\n",
    "\n",
    "# Set the value where we want to find the limit\n",
    "x_value = 1\n",
    "\n",
    "# Compute the limit using direct substitution after simplifying\n",
    "limit_value = f(x_value)\n",
    "\n",
    "# Display the result\n",
    "print(f\"The limit of f(x) as x approaches {x_value} is: {limit_value}\")\n"
   ],
   "id": "5a590cc291c0b4d9",
   "outputs": [
    {
     "name": "stdout",
     "output_type": "stream",
     "text": [
      "The limit of f(x) as x approaches 1 is: -1.0\n"
     ]
    }
   ],
   "execution_count": 1
  },
  {
   "metadata": {},
   "cell_type": "markdown",
   "source": [
    "![](./images/img_25.png)\n",
    "\n",
    "![](./images/img_26.png)"
   ],
   "id": "f8d2d7fb295c1e38"
  }
 ],
 "metadata": {
  "kernelspec": {
   "display_name": "Python 3",
   "language": "python",
   "name": "python3"
  },
  "language_info": {
   "codemirror_mode": {
    "name": "ipython",
    "version": 2
   },
   "file_extension": ".py",
   "mimetype": "text/x-python",
   "name": "python",
   "nbconvert_exporter": "python",
   "pygments_lexer": "ipython2",
   "version": "2.7.6"
  }
 },
 "nbformat": 4,
 "nbformat_minor": 5
}
