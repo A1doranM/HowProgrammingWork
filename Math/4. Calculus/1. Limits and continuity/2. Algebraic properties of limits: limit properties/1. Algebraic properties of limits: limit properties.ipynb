{
 "cells": [
  {
   "metadata": {},
   "cell_type": "markdown",
   "source": "# Content\n",
   "id": "269eb2207863fc7d"
  },
  {
   "metadata": {},
   "cell_type": "markdown",
   "source": [
    "# Algebraic Properties of Limits: Limit Properties\n",
    "\n",
    "![](./images/img.png)\n",
    "\n",
    "![](./images/img_1.png)\n",
    "\n",
    "![](./images/img_2.png)\n",
    "\n",
    "![](./images/img_3.png)\n",
    "\n",
    "![](./images/img_4.png)\n",
    "\n",
    "![](./images/img_5.png)"
   ],
   "id": "dddbc3ab4a084a35"
  },
  {
   "metadata": {},
   "cell_type": "markdown",
   "source": "## Properties in code",
   "id": "73d327bc7f2dbc49"
  },
  {
   "metadata": {
    "ExecuteTime": {
     "end_time": "2024-09-06T06:20:04.074094Z",
     "start_time": "2024-09-06T06:20:04.066964Z"
    }
   },
   "cell_type": "code",
   "source": [
    "import math\n",
    "\n",
    "# Define the functions\n",
    "def f(x):\n",
    "    return x**2\n",
    "\n",
    "def g(x):\n",
    "    return 2 * x\n",
    "\n",
    "# Evaluate the limits as x approaches 3\n",
    "x = 3\n",
    "\n",
    "# Sum/Difference Property\n",
    "limit_sum = f(x) + g(x)\n",
    "print(f\"Sum/Difference Property. The limit of f(x) + g(x) as x approaches 3 is {limit_sum}\")\n",
    "\n",
    "# Product Property\n",
    "limit_product = f(x) * g(x)\n",
    "print(f\"Product Property. The limit of f(x) * g(x) as x approaches 3 is {limit_product}\")\n",
    "\n",
    "# Quotient Property\n",
    "if g(x) != 0:  # Ensure denominator is not zero\n",
    "    limit_quotient = f(x) / g(x)\n",
    "    print(f\"Quotient Property. The limit of f(x) / g(x) as x approaches 3 is {limit_quotient}\")\n",
    "else:\n",
    "    print(\"Quotient Property. The limit does not exist because the denominator approaches 0.\")\n",
    "\n",
    "# Constant Multiple Property\n",
    "constant = 4\n",
    "limit_constant_multiple = constant * f(x)\n",
    "print(f\"Constant Multiple Property. The limit of 4 * f(x) as x approaches 3 is {limit_constant_multiple}\")\n",
    "\n",
    "# Power Property\n",
    "power = 3\n",
    "limit_power = f(x)**power\n",
    "print(f\"Power Property. The limit of f(x)^3 as x approaches 3 is {limit_power}\")\n",
    "\n",
    "# Root Property\n",
    "limit_root = math.sqrt(f(x))\n",
    "print(f\"Root Property. The limit of sqrt(f(x)) as x approaches 3 is {limit_root}\")\n"
   ],
   "id": "8d9a6a2b71d43875",
   "outputs": [
    {
     "name": "stdout",
     "output_type": "stream",
     "text": [
      "Sum/Difference Property. The limit of f(x) + g(x) as x approaches 3 is 15\n",
      "Product Property. The limit of f(x) * g(x) as x approaches 3 is 54\n",
      "Quotient Property. The limit of f(x) / g(x) as x approaches 3 is 1.5\n",
      "Constant Multiple Property. The limit of 4 * f(x) as x approaches 3 is 36\n",
      "Power Property. The limit of f(x)^3 as x approaches 3 is 729\n",
      "Root Property. The limit of sqrt(f(x)) as x approaches 3 is 3.0\n"
     ]
    }
   ],
   "execution_count": 4
  },
  {
   "metadata": {},
   "cell_type": "code",
   "outputs": [],
   "execution_count": null,
   "source": "",
   "id": "475552d4d92febd4"
  }
 ],
 "metadata": {
  "kernelspec": {
   "display_name": "Python 3",
   "language": "python",
   "name": "python3"
  },
  "language_info": {
   "codemirror_mode": {
    "name": "ipython",
    "version": 2
   },
   "file_extension": ".py",
   "mimetype": "text/x-python",
   "name": "python",
   "nbconvert_exporter": "python",
   "pygments_lexer": "ipython2",
   "version": "2.7.6"
  }
 },
 "nbformat": 4,
 "nbformat_minor": 5
}
