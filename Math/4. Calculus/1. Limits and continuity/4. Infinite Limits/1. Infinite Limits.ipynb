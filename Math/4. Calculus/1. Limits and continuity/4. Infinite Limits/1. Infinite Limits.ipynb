{
 "cells": [
  {
   "metadata": {},
   "cell_type": "markdown",
   "source": "# Content",
   "id": "b709150ab0a7a048"
  },
  {
   "metadata": {},
   "cell_type": "markdown",
   "source": "# Infinite Limits\n",
   "id": "47b711d6b0853887"
  },
  {
   "metadata": {},
   "cell_type": "markdown",
   "source": [
    "![](./images/img.png)\n",
    "\n",
    "![](./images/img_1.png)\n",
    "\n",
    "![](./images/img_2.png)\n",
    "\n",
    "![](./images/img_3.png)"
   ],
   "id": "1ac2237eca321495"
  },
  {
   "metadata": {},
   "cell_type": "code",
   "outputs": [],
   "execution_count": null,
   "source": [
    "import numpy as np\n",
    "import matplotlib.pyplot as plt\n",
    "\n",
    "# Define the function\n",
    "def f(x):\n",
    "    return 1 / (x - 2)\n",
    "\n",
    "# Set up x-values, avoiding x = 2 to prevent division by zero\n",
    "x_values = np.linspace(1, 3, 500)\n",
    "x_values = x_values[x_values != 2]  # Exclude the point x = 2\n",
    "\n",
    "# Calculate the function values\n",
    "y_values = f(x_values)\n",
    "\n",
    "# Plot the function\n",
    "plt.plot(x_values, y_values, label=r'$f(x) = \\frac{1}{x - 2}$')\n",
    "\n",
    "# Add vertical asymptote at x = 2\n",
    "plt.axvline(x=2, color='r', linestyle='--', label='Vertical Asymptote at $x=2$')\n",
    "\n",
    "# Label the graph\n",
    "plt.axhline(0, color='black', linewidth=0.5)\n",
    "plt.axvline(0, color='black', linewidth=0.5)\n",
    "plt.title(r'Graph of $f(x) = \\frac{1}{x - 2}$ with Vertical Asymptote at $x=2$')\n",
    "plt.xlabel('x')\n",
    "plt.ylabel('f(x)')\n",
    "plt.legend()\n",
    "plt.grid(True)\n",
    "plt.ylim(-10, 10)\n",
    "plt.show()\n"
   ],
   "id": "6f82207b63160ce3"
  }
 ],
 "metadata": {
  "kernelspec": {
   "display_name": "Python 3",
   "language": "python",
   "name": "python3"
  },
  "language_info": {
   "codemirror_mode": {
    "name": "ipython",
    "version": 2
   },
   "file_extension": ".py",
   "mimetype": "text/x-python",
   "name": "python",
   "nbconvert_exporter": "python",
   "pygments_lexer": "ipython2",
   "version": "2.7.6"
  }
 },
 "nbformat": 4,
 "nbformat_minor": 5
}
