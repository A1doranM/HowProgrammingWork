{
 "cells": [
  {
   "metadata": {},
   "cell_type": "markdown",
   "source": "# Content",
   "id": "b709150ab0a7a048"
  },
  {
   "metadata": {},
   "cell_type": "markdown",
   "source": "# Infinite Limits\n",
   "id": "47b711d6b0853887"
  },
  {
   "metadata": {},
   "cell_type": "code",
   "outputs": [],
   "execution_count": null,
   "source": "",
   "id": "3113e3ba3113c8fe"
  }
 ],
 "metadata": {
  "kernelspec": {
   "display_name": "Python 3",
   "language": "python",
   "name": "python3"
  },
  "language_info": {
   "codemirror_mode": {
    "name": "ipython",
    "version": 2
   },
   "file_extension": ".py",
   "mimetype": "text/x-python",
   "name": "python",
   "nbconvert_exporter": "python",
   "pygments_lexer": "ipython2",
   "version": "2.7.6"
  }
 },
 "nbformat": 4,
 "nbformat_minor": 5
}
