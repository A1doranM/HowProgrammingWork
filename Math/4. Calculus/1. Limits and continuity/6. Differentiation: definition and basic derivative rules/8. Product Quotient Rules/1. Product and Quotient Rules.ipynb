{
 "cells": [
  {
   "metadata": {},
   "cell_type": "markdown",
   "source": "# Content",
   "id": "20ae827bb10244cc"
  },
  {
   "metadata": {},
   "cell_type": "markdown",
   "source": [
    "# Product Rule\n",
    "\n",
    "![](./images/img.png)\n",
    "\n",
    "![](./images/img_1.png)"
   ],
   "id": "a310299269315149"
  },
  {
   "metadata": {
    "ExecuteTime": {
     "end_time": "2024-09-27T07:46:15.607825Z",
     "start_time": "2024-09-27T07:46:15.602558Z"
    }
   },
   "cell_type": "code",
   "source": [
    "# Python code for function above\n",
    "\n",
    "import sympy as sp\n",
    "\n",
    "# Define the variables and functions\n",
    "x = sp.symbols('x')\n",
    "u = x**2\n",
    "v = sp.sin(x)\n",
    "\n",
    "# Differentiate using the product rule\n",
    "derivative_product = sp.diff(u * v, x)\n",
    "\n",
    "# Print the result\n",
    "print(derivative_product)  # Output: 2*x*sin(x) + x**2*cos(x)\n"
   ],
   "id": "741aeea4da38cfbc",
   "outputs": [
    {
     "name": "stdout",
     "output_type": "stream",
     "text": [
      "x**2*cos(x) + 2*x*sin(x)\n"
     ]
    }
   ],
   "execution_count": 3
  },
  {
   "metadata": {},
   "cell_type": "markdown",
   "source": "![](./images/img_2.png)",
   "id": "4a594047d4a5f123"
  },
  {
   "metadata": {},
   "cell_type": "markdown",
   "source": [
    "# Quotient Rule\n",
    "\n"
   ],
   "id": "1f361b83f103031e"
  }
 ],
 "metadata": {
  "kernelspec": {
   "display_name": "Python 3",
   "language": "python",
   "name": "python3"
  },
  "language_info": {
   "codemirror_mode": {
    "name": "ipython",
    "version": 2
   },
   "file_extension": ".py",
   "mimetype": "text/x-python",
   "name": "python",
   "nbconvert_exporter": "python",
   "pygments_lexer": "ipython2",
   "version": "2.7.6"
  }
 },
 "nbformat": 4,
 "nbformat_minor": 5
}
