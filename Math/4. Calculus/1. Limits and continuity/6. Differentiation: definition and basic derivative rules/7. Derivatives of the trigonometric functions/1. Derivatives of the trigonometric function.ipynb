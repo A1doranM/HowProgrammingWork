{
 "cells": [
  {
   "metadata": {},
   "cell_type": "markdown",
   "source": "# Content",
   "id": "97a4a95726abf44e"
  },
  {
   "metadata": {},
   "cell_type": "markdown",
   "source": [
    "# Derivatives of cos(x), sin(x), 𝑒ˣ, and ln(x)\n",
    "\n",
    "![](./images/img.png)"
   ],
   "id": "ef0e8af6ac4c48d8"
  },
  {
   "metadata": {},
   "cell_type": "code",
   "outputs": [],
   "execution_count": null,
   "source": [
    "import numpy as np\n",
    "from sympy import symbols, diff, cos\n",
    "\n",
    "x = symbols('x')\n",
    "# Derivative of cos(x)\n",
    "derivative_cos = diff(cos(x), x)\n",
    "print(derivative_cos)  # Output: -sin(x)\n"
   ],
   "id": "21e492778a8cf405"
  },
  {
   "metadata": {},
   "cell_type": "code",
   "outputs": [],
   "execution_count": null,
   "source": [
    "from sympy import sin\n",
    "\n",
    "# Derivative of sin(x)\n",
    "derivative_sin = diff(sin(x), x)\n",
    "print(derivative_sin)  # Output: cos(x)\n"
   ],
   "id": "b369cbac28ded47d"
  },
  {
   "metadata": {},
   "cell_type": "code",
   "outputs": [],
   "execution_count": null,
   "source": [
    "from sympy import exp\n",
    "\n",
    "# Derivative of e^x\n",
    "derivative_exp = diff(exp(x), x)\n",
    "print(derivative_exp)  # Output: exp(x)\n"
   ],
   "id": "90f68e64fe60c28"
  },
  {
   "metadata": {},
   "cell_type": "code",
   "outputs": [],
   "execution_count": null,
   "source": [
    "from sympy import log\n",
    "\n",
    "# Derivative of ln(x)\n",
    "derivative_log = diff(log(x), x)\n",
    "print(derivative_log)  # Output: 1/x\n"
   ],
   "id": "a523844d0c5866aa"
  }
 ],
 "metadata": {
  "kernelspec": {
   "display_name": "Python 3",
   "language": "python",
   "name": "python3"
  },
  "language_info": {
   "codemirror_mode": {
    "name": "ipython",
    "version": 2
   },
   "file_extension": ".py",
   "mimetype": "text/x-python",
   "name": "python",
   "nbconvert_exporter": "python",
   "pygments_lexer": "ipython2",
   "version": "2.7.6"
  }
 },
 "nbformat": 4,
 "nbformat_minor": 5
}
