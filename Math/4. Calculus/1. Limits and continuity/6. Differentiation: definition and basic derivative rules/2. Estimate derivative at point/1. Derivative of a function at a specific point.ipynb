{
 "cells": [
  {
   "metadata": {},
   "cell_type": "markdown",
   "source": [
    "# Estimating the Derivative of a Function at a Specific Point\n",
    "\n"
   ],
   "id": "187892e134a27009"
  },
  {
   "metadata": {},
   "cell_type": "markdown",
   "source": [
    "![](./images/img.png)\n",
    "\n",
    "![](./images/img_1.png)\n",
    "\n",
    "![](./images/img_2.png)\n",
    "\n",
    "![](./images/img_3.png)\n",
    "\n",
    "![](./images/img_4.png)"
   ],
   "id": "dea5856d8d0b7ba6"
  },
  {
   "metadata": {
    "ExecuteTime": {
     "end_time": "2024-09-24T06:18:31.421046Z",
     "start_time": "2024-09-24T06:18:31.312642Z"
    }
   },
   "cell_type": "code",
   "source": [
    "import numpy as np\n",
    "\n",
    "# Define the function f(x) = sin(x)\n",
    "def f(x):\n",
    "    return np.sin(x)\n",
    "\n",
    "# Define the point at which we want to estimate the derivative\n",
    "a = np.pi / 4  # x = π/4\n",
    "\n",
    "# Define a small step size h\n",
    "h = 0.001\n",
    "\n",
    "# Forward difference quotient\n",
    "forward_difference = (f(a + h) - f(a)) / h\n",
    "\n",
    "# Central difference quotient\n",
    "central_difference = (f(a + h) - f(a - h)) / (2 * h)\n",
    "\n",
    "# Exact derivative of sin(x) is cos(x), so let's calculate the exact derivative at x = π/4 for comparison\n",
    "exact_derivative = np.cos(a)\n",
    "\n",
    "# Print the results\n",
    "print(f\"Forward difference approximation: {forward_difference}\")\n",
    "print(f\"Central difference approximation: {central_difference}\")\n",
    "print(f\"Exact derivative (cos(π/4)): {exact_derivative}\")\n"
   ],
   "id": "7ff48b3bd8e3b8a1",
   "outputs": [
    {
     "name": "stdout",
     "output_type": "stream",
     "text": [
      "Forward difference approximation: 0.7067531099743674\n",
      "Central difference approximation: 0.707106663335455\n",
      "Exact derivative (cos(π/4)): 0.7071067811865476\n"
     ]
    }
   ],
   "execution_count": 1
  }
 ],
 "metadata": {
  "kernelspec": {
   "display_name": "Python 3",
   "language": "python",
   "name": "python3"
  },
  "language_info": {
   "codemirror_mode": {
    "name": "ipython",
    "version": 2
   },
   "file_extension": ".py",
   "mimetype": "text/x-python",
   "name": "python",
   "nbconvert_exporter": "python",
   "pygments_lexer": "ipython2",
   "version": "2.7.6"
  }
 },
 "nbformat": 4,
 "nbformat_minor": 5
}
