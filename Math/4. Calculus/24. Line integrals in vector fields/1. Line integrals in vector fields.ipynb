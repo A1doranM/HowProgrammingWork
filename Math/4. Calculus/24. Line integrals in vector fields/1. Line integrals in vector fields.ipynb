{
 "cells": [
  {
   "cell_type": "markdown",
   "id": "39174ab0",
   "metadata": {},
   "source": [
    "# Content   "
   ]
  },
  {
   "cell_type": "markdown",
   "id": "c56bc855",
   "metadata": {},
   "source": []
  }
 ],
 "metadata": {
  "kernelspec": {
   "display_name": ".venv",
   "language": "python",
   "name": "python3"
  },
  "language_info": {
   "name": "python",
   "version": "3.12.10"
  }
 },
 "nbformat": 4,
 "nbformat_minor": 5
}
