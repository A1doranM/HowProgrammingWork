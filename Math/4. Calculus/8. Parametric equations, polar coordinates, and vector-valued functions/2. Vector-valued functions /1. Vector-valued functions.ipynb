{
 "cells": [
  {
   "cell_type": "markdown",
   "id": "a4c3c69e",
   "metadata": {},
   "source": [
    "# Vector-valued functions \n",
    "\n",
    "\n",
    "## Content\n",
    "\n",
    "[Defining and differentiating vector-valued functions](#defining-and-differentiating-vector-valued-functions)"
   ]
  },
  {
   "cell_type": "markdown",
   "id": "f97ed876",
   "metadata": {},
   "source": [
    "## Defining and differentiating vector-valued functions\n",
    "\n"
   ]
  }
 ],
 "metadata": {
  "language_info": {
   "name": "python"
  }
 },
 "nbformat": 4,
 "nbformat_minor": 5
}
