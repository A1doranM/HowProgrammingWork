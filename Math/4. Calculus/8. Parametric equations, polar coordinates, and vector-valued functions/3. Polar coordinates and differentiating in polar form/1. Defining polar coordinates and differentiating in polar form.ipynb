{
 "cells": [
  {
   "cell_type": "markdown",
   "id": "71519c78",
   "metadata": {},
   "source": [
    "# Content "
   ]
  },
  {
   "cell_type": "markdown",
   "id": "346a1934",
   "metadata": {},
   "source": [
    "# Defining polar coordinates and differentiating in polar form"
   ]
  }
 ],
 "metadata": {
  "language_info": {
   "name": "python"
  }
 },
 "nbformat": 4,
 "nbformat_minor": 5
}
