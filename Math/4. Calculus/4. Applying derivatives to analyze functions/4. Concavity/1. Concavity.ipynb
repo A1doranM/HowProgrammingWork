{
 "cells": [
  {
   "metadata": {},
   "cell_type": "markdown",
   "source": "# Concavity",
   "id": "cd72862a3c1135b6"
  },
  {
   "metadata": {},
   "cell_type": "markdown",
   "source": [
    "![](./images/img.png)\n",
    "\n",
    "![](./images/img_1.png)\n",
    "\n",
    "![](./images/img_2.png)\n",
    "\n",
    "![](./images/img_3.png)\n",
    "\n",
    "![](./images/img_4.png)"
   ],
   "id": "177acfa9ed990179"
  },
  {
   "metadata": {
    "ExecuteTime": {
     "end_time": "2024-12-02T09:14:05.902981Z",
     "start_time": "2024-12-02T09:14:05.664728Z"
    }
   },
   "cell_type": "code",
   "source": [
    "import sympy as sp\n",
    "import numpy as np\n",
    "import matplotlib.pyplot as plt\n",
    "\n",
    "# Define the variable and function\n",
    "x = sp.Symbol('x')\n",
    "f = x**3 - 3*x**2 + 2\n",
    "\n",
    "# Step 1: Compute the first and second derivatives\n",
    "f_prime = sp.diff(f, x)\n",
    "f_double_prime = sp.diff(f_prime, x)\n",
    "\n",
    "print(\"First derivative (f'): \", f_prime)\n",
    "print(\"Second derivative (f''): \", f_double_prime)\n",
    "\n",
    "# Step 2: Solve for inflection points (where f''(x) = 0)\n",
    "inflection_points = sp.solveset(f_double_prime, x, domain=sp.Reals)\n",
    "print(\"Inflection points: \", inflection_points)\n",
    "\n",
    "# Step 3: Analyze concavity intervals\n",
    "# Convert second derivative into a callable function\n",
    "f_double_prime_func = sp.lambdify(x, f_double_prime, 'numpy')\n",
    "\n",
    "# Test intervals\n",
    "test_points = np.linspace(-1, 3, 100)  # Test points for x between -1 and 3\n",
    "concavity = [f_double_prime_func(point) for point in test_points]\n",
    "\n",
    "# Find intervals\n",
    "concave_up = [point for point in test_points if f_double_prime_func(point) > 0]\n",
    "concave_down = [point for point in test_points if f_double_prime_func(point) < 0]\n",
    "\n",
    "print(\"Concave up on: \", concave_up[:5], \"...\")  # Show start of the interval\n",
    "print(\"Concave down on: \", concave_down[:5], \"...\")  # Show start of the interval\n",
    "\n",
    "# Step 4: Plot the graph with concavity regions\n",
    "f_func = sp.lambdify(x, f, 'numpy')  # Convert f(x) to callable function\n",
    "x_vals = np.linspace(-1, 3, 500)\n",
    "y_vals = f_func(x_vals)\n",
    "double_prime_vals = f_double_prime_func(x_vals)\n",
    "\n",
    "plt.figure(figsize=(10, 6))\n",
    "\n",
    "# Plot the function\n",
    "plt.plot(x_vals, y_vals, label='f(x) = $x^3 - 3x^2 + 2$')\n",
    "\n",
    "# Highlight concavity regions\n",
    "plt.fill_between(x_vals, y_vals, where=(double_prime_vals > 0), color='lightgreen', alpha=0.3, label='Concave up')\n",
    "plt.fill_between(x_vals, y_vals, where=(double_prime_vals < 0), color='red', alpha=0.3, label='Concave down')\n",
    "\n",
    "# Plot inflection points\n",
    "inflection_x_vals = [float(point) for point in inflection_points]\n",
    "inflection_y_vals = [f_func(float(point)) for point in inflection_points]\n",
    "plt.scatter(inflection_x_vals, inflection_y_vals, color='blue', label='Inflection points')\n",
    "\n",
    "# Add labels and legend\n",
    "plt.axhline(0, color='black', linewidth=0.5, linestyle='--')\n",
    "plt.axvline(0, color='black', linewidth=0.5, linestyle='--')\n",
    "plt.title(\"Concavity Analysis of f(x)\")\n",
    "plt.xlabel(\"x\")\n",
    "plt.ylabel(\"f(x)\")\n",
    "plt.legend()\n",
    "plt.grid()\n",
    "plt.show()\n"
   ],
   "id": "2655890ea2b3d6ad",
   "outputs": [
    {
     "ename": "ModuleNotFoundError",
     "evalue": "No module named 'sympy'",
     "output_type": "error",
     "traceback": [
      "\u001B[0;31m---------------------------------------------------------------------------\u001B[0m",
      "\u001B[0;31mModuleNotFoundError\u001B[0m                       Traceback (most recent call last)",
      "Cell \u001B[0;32mIn[1], line 1\u001B[0m\n\u001B[0;32m----> 1\u001B[0m \u001B[38;5;28;01mimport\u001B[39;00m \u001B[38;5;21;01msympy\u001B[39;00m \u001B[38;5;28;01mas\u001B[39;00m \u001B[38;5;21;01msp\u001B[39;00m\n\u001B[1;32m      2\u001B[0m \u001B[38;5;28;01mimport\u001B[39;00m \u001B[38;5;21;01mnumpy\u001B[39;00m \u001B[38;5;28;01mas\u001B[39;00m \u001B[38;5;21;01mnp\u001B[39;00m\n\u001B[1;32m      3\u001B[0m \u001B[38;5;28;01mimport\u001B[39;00m \u001B[38;5;21;01mmatplotlib\u001B[39;00m\u001B[38;5;21;01m.\u001B[39;00m\u001B[38;5;21;01mpyplot\u001B[39;00m \u001B[38;5;28;01mas\u001B[39;00m \u001B[38;5;21;01mplt\u001B[39;00m\n",
      "\u001B[0;31mModuleNotFoundError\u001B[0m: No module named 'sympy'"
     ]
    }
   ],
   "execution_count": 1
  },
  {
   "metadata": {},
   "cell_type": "code",
   "outputs": [],
   "execution_count": null,
   "source": "",
   "id": "ba478962806a6bc7"
  }
 ],
 "metadata": {
  "kernelspec": {
   "display_name": "Python 3",
   "language": "python",
   "name": "python3"
  },
  "language_info": {
   "codemirror_mode": {
    "name": "ipython",
    "version": 2
   },
   "file_extension": ".py",
   "mimetype": "text/x-python",
   "name": "python",
   "nbconvert_exporter": "python",
   "pygments_lexer": "ipython2",
   "version": "2.7.6"
  }
 },
 "nbformat": 4,
 "nbformat_minor": 5
}
