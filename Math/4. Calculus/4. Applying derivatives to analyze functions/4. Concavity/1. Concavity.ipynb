{
 "cells": [
  {
   "metadata": {},
   "cell_type": "markdown",
   "source": "# Concavity",
   "id": "cd72862a3c1135b6"
  },
  {
   "metadata": {},
   "cell_type": "markdown",
   "source": [
    "![](./images/img.png)\n",
    "\n",
    "![](./images/img_1.png)\n",
    "\n",
    "![](./images/img_2.png)\n",
    "\n",
    "![](./images/img_3.png)\n",
    "\n",
    "![](./images/img_4.png)"
   ],
   "id": "177acfa9ed990179"
  },
  {
   "metadata": {},
   "cell_type": "code",
   "outputs": [],
   "execution_count": null,
   "source": "",
   "id": "2655890ea2b3d6ad"
  }
 ],
 "metadata": {
  "kernelspec": {
   "display_name": "Python 3",
   "language": "python",
   "name": "python3"
  },
  "language_info": {
   "codemirror_mode": {
    "name": "ipython",
    "version": 2
   },
   "file_extension": ".py",
   "mimetype": "text/x-python",
   "name": "python",
   "nbconvert_exporter": "python",
   "pygments_lexer": "ipython2",
   "version": "2.7.6"
  }
 },
 "nbformat": 4,
 "nbformat_minor": 5
}
