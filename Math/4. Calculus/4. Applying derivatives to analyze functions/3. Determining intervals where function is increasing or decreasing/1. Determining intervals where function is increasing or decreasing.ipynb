{
 "cells": [
  {
   "metadata": {},
   "cell_type": "markdown",
   "source": "# Determining intervals where function is increasing or decreasing",
   "id": "2ef123d191ced201"
  },
  {
   "metadata": {},
   "cell_type": "markdown",
   "source": [
    "![](./images/img.png)\n",
    "\n",
    "![](./images/img_1.png)\n",
    "\n",
    "![](./images/img_2.png)\n",
    "\n",
    "![](./images/img_3.png)\n",
    "\n",
    "![](./images/img_4.png)"
   ],
   "id": "ec151451bfc829c5"
  },
  {
   "metadata": {
    "ExecuteTime": {
     "end_time": "2024-11-26T11:42:43.129833Z",
     "start_time": "2024-11-26T11:42:42.735968Z"
    }
   },
   "cell_type": "code",
   "source": [
    "import sympy as sp\n",
    "\n",
    "# Define the function and variable\n",
    "x = sp.Symbol('x')\n",
    "f = x**3 - 3*x**2 + 2\n",
    "\n",
    "# Compute the derivative\n",
    "f_prime = sp.diff(f, x)\n",
    "\n",
    "# Solve f'(x) = 0\n",
    "critical_points = sp.solveset(f_prime, x, domain=sp.Reals)\n",
    "\n",
    "# Test intervals\n",
    "test_points = [-1, 1, 3]  # Example test points from intervals\n",
    "signs = {point: f_prime.subs(x, point) for point in test_points}\n",
    "\n",
    "# Print results\n",
    "print(\"Critical Points:\", critical_points)\n",
    "print(\"Derivative Signs at Test Points:\", signs)\n"
   ],
   "id": "1943d23c3d6a2296",
   "outputs": [
    {
     "name": "stdout",
     "output_type": "stream",
     "text": [
      "Critical Points: {0, 2}\n",
      "Derivative Signs at Test Points: {-1: 9, 1: -3, 3: 9}\n"
     ]
    }
   ],
   "execution_count": 1
  },
  {
   "metadata": {},
   "cell_type": "code",
   "outputs": [],
   "execution_count": null,
   "source": "",
   "id": "8a3ab5daef2f883a"
  }
 ],
 "metadata": {
  "kernelspec": {
   "display_name": "Python 3",
   "language": "python",
   "name": "python3"
  },
  "language_info": {
   "codemirror_mode": {
    "name": "ipython",
    "version": 2
   },
   "file_extension": ".py",
   "mimetype": "text/x-python",
   "name": "python",
   "nbconvert_exporter": "python",
   "pygments_lexer": "ipython2",
   "version": "2.7.6"
  }
 },
 "nbformat": 4,
 "nbformat_minor": 5
}
