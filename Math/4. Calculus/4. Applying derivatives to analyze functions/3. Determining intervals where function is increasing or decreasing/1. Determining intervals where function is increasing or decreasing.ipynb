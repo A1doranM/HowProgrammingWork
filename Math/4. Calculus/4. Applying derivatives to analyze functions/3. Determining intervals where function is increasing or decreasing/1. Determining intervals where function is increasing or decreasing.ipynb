{
 "cells": [
  {
   "metadata": {},
   "cell_type": "markdown",
   "source": "# Determining intervals where function is increasing or decreasing",
   "id": "2ef123d191ced201"
  },
  {
   "metadata": {},
   "cell_type": "markdown",
   "source": "",
   "id": "ec151451bfc829c5"
  }
 ],
 "metadata": {
  "kernelspec": {
   "display_name": "Python 3",
   "language": "python",
   "name": "python3"
  },
  "language_info": {
   "codemirror_mode": {
    "name": "ipython",
    "version": 2
   },
   "file_extension": ".py",
   "mimetype": "text/x-python",
   "name": "python",
   "nbconvert_exporter": "python",
   "pygments_lexer": "ipython2",
   "version": "2.7.6"
  }
 },
 "nbformat": 4,
 "nbformat_minor": 5
}
