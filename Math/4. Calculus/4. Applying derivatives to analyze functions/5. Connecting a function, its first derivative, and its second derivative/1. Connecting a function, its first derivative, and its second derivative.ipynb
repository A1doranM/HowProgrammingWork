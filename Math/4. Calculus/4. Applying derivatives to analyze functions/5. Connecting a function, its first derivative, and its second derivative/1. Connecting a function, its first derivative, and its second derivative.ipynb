{
 "cells": [
  {
   "cell_type": "markdown",
   "id": "290b8202a1605975",
   "metadata": {},
   "source": [
    "# Connecting a function, its first derivative, and its second derivative"
   ]
  },
  {
   "cell_type": "markdown",
   "id": "c189ea668022bd49",
   "metadata": {},
   "source": [
    "![](./images/img.png)\n",
    "\n",
    "![](./images/img_1.png)\n",
    "\n",
    "![](./images/img_2.png)\n",
    "\n",
    "![](./images/img_3.png)\n",
    "\n",
    "![](./images/img_4.png)\n",
    "\n",
    "![](./images/img_5.png)"
   ]
  },
  {
   "cell_type": "code",
   "execution_count": null,
   "id": "32faa6b830c7404a",
   "metadata": {},
   "outputs": [],
   "source": []
  }
 ],
 "metadata": {
  "kernelspec": {
   "display_name": "venv",
   "language": "python",
   "name": "python3"
  },
  "language_info": {
   "codemirror_mode": {
    "name": "ipython",
    "version": 2
   },
   "file_extension": ".py",
   "mimetype": "text/x-python",
   "name": "python",
   "nbconvert_exporter": "python",
   "pygments_lexer": "ipython2",
   "version": "3.10.12"
  }
 },
 "nbformat": 4,
 "nbformat_minor": 5
}
