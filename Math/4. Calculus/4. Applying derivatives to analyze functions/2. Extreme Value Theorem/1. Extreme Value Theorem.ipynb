{
 "cells": [
  {
   "metadata": {},
   "cell_type": "markdown",
   "source": "# Extreme Value Theorem",
   "id": "6a3c41e3a61ca020"
  },
  {
   "metadata": {},
   "cell_type": "markdown",
   "source": [
    "![](./images/img.png)\n",
    "\n",
    "![](./images/img_1.png)\n",
    "\n",
    "![](./images/img_2.png)"
   ],
   "id": "9aa8423862da55c2"
  },
  {
   "metadata": {
    "ExecuteTime": {
     "end_time": "2024-11-25T10:38:45.114389Z",
     "start_time": "2024-11-25T10:38:45.095155Z"
    }
   },
   "cell_type": "code",
   "source": [
    "import sympy as sp\n",
    "\n",
    "# Define the function and variable\n",
    "x = sp.Symbol('x')\n",
    "f = x**3 - 3*x**2 + 2\n",
    "\n",
    "# Define the interval\n",
    "a, b = 0, 3\n",
    "\n",
    "# Step 1: Find the derivative of f(x)\n",
    "f_prime = sp.diff(f, x)\n",
    "\n",
    "# Step 2: Solve f'(x) = 0 to find critical points\n",
    "critical_points = sp.solveset(f_prime, x, domain=sp.Interval(a, b))\n",
    "\n",
    "# Step 3: Evaluate f(x) at critical points and endpoints\n",
    "endpoints = [a, b]\n",
    "all_points = list(critical_points) + endpoints\n",
    "all_points = list(set(all_points))  # Remove duplicates if any\n",
    "\n",
    "# Compute the function values at all points\n",
    "values = {point: f.subs(x, point) for point in all_points}\n",
    "\n",
    "# Step 4: Find the maximum and minimum values\n",
    "max_point = max(values, key=values.get)\n",
    "min_point = min(values, key=values.get)\n",
    "\n",
    "# Print the results\n",
    "print(\"Function:\", f)\n",
    "print(f\"Interval: [{a}, {b}]\")\n",
    "print(\"Critical Points:\", critical_points)\n",
    "print(\"Values at critical points and endpoints:\", values)\n",
    "print(f\"Absolute Maximum: f({max_point}) = {values[max_point]}\")\n",
    "print(f\"Absolute Minimum: f({min_point}) = {values[min_point]}\")\n"
   ],
   "id": "f8f94baf601e44c8",
   "outputs": [
    {
     "name": "stdout",
     "output_type": "stream",
     "text": [
      "Function: x**3 - 3*x**2 + 2\n",
      "Interval: [0, 3]\n",
      "Critical Points: {0, 2}\n",
      "Values at critical points and endpoints: {0: 2, 2: -2, 3: 2}\n",
      "Absolute Maximum: f(0) = 2\n",
      "Absolute Minimum: f(2) = -2\n"
     ]
    }
   ],
   "execution_count": 3
  },
  {
   "metadata": {},
   "cell_type": "markdown",
   "source": [
    "## How to find critical points of a functions\n",
    "\n",
    "![](./images/img_4.png)\n",
    "\n",
    "![](./images/img_5.png)\n",
    "\n",
    "![](./images/img_6.png)\n",
    "\n",
    "![](./images/img_7.png)"
   ],
   "id": "c3246baa684e8c2f"
  },
  {
   "metadata": {
    "ExecuteTime": {
     "end_time": "2024-11-25T10:48:53.799644Z",
     "start_time": "2024-11-25T10:48:53.784405Z"
    }
   },
   "cell_type": "code",
   "source": [
    "import sympy as sp\n",
    "\n",
    "# Define the function\n",
    "x = sp.Symbol('x')\n",
    "f = x**3 - 3*x**2 + 2\n",
    "\n",
    "# Compute the derivative\n",
    "f_prime = sp.diff(f, x)\n",
    "\n",
    "# Solve f'(x) = 0\n",
    "critical_points = sp.solveset(f_prime, x)\n",
    "print(\"Critical Points:\", critical_points)\n"
   ],
   "id": "5261934ba32b2bcb",
   "outputs": [
    {
     "name": "stdout",
     "output_type": "stream",
     "text": [
      "Critical Points: {0, 2}\n"
     ]
    }
   ],
   "execution_count": 5
  },
  {
   "metadata": {},
   "cell_type": "markdown",
   "source": [
    "# Finding Relative Minimum and Maximum Points of a Function\n",
    "\n",
    "![](./images/img_8.png)\n",
    "\n",
    "![](./images/img_9.png)\n",
    "\n",
    "![](./images/img_10.png)\n",
    "\n",
    "![](./images/img_11.png)\n",
    "\n",
    "![](./images/img_12.png)"
   ],
   "id": "67670dc0412cff41"
  },
  {
   "metadata": {
    "ExecuteTime": {
     "end_time": "2024-11-27T10:25:51.150924Z",
     "start_time": "2024-11-27T10:25:50.459498Z"
    }
   },
   "cell_type": "code",
   "source": [
    "import sympy as sp\n",
    "\n",
    "# Define the variable and function\n",
    "x = sp.Symbol('x')\n",
    "f = x**3 - 3*x**2 + 2\n",
    "\n",
    "# Step 1: Find the derivative\n",
    "f_prime = sp.diff(f, x)\n",
    "\n",
    "# Step 2: Find critical points\n",
    "critical_points = sp.solveset(f_prime, x, domain=sp.Reals)\n",
    "\n",
    "# Step 3: Second Derivative Test\n",
    "f_double_prime = sp.diff(f_prime, x)\n",
    "\n",
    "# Analyze critical points\n",
    "results = {}\n",
    "for point in critical_points:\n",
    "    second_derivative = f_double_prime.subs(x, point)\n",
    "    if second_derivative > 0:\n",
    "        results[point] = \"Relative Minimum\"\n",
    "    elif second_derivative < 0:\n",
    "        results[point] = \"Relative Maximum\"\n",
    "    else:\n",
    "        results[point] = \"Inconclusive\"\n",
    "\n",
    "# Step 4: Evaluate function at critical points\n",
    "critical_values = {point: f.subs(x, point) for point in critical_points}\n",
    "\n",
    "# Print the results\n",
    "print(\"Function:\", f)\n",
    "print(\"Critical Points:\", critical_points)\n",
    "print(\"Second Derivative Test Results:\", results)\n",
    "print(\"Function Values at Critical Points:\", critical_values)\n"
   ],
   "id": "764b8cb38abeadb4",
   "outputs": [
    {
     "name": "stdout",
     "output_type": "stream",
     "text": [
      "Function: x**3 - 3*x**2 + 2\n",
      "Critical Points: {0, 2}\n",
      "Second Derivative Test Results: {0: 'Relative Maximum', 2: 'Relative Minimum'}\n",
      "Function Values at Critical Points: {0: 2, 2: -2}\n"
     ]
    }
   ],
   "execution_count": 1
  },
  {
   "metadata": {},
   "cell_type": "code",
   "outputs": [],
   "execution_count": null,
   "source": "",
   "id": "f29e002f2a95a3ef"
  }
 ],
 "metadata": {
  "kernelspec": {
   "display_name": "Python 3",
   "language": "python",
   "name": "python3"
  },
  "language_info": {
   "codemirror_mode": {
    "name": "ipython",
    "version": 2
   },
   "file_extension": ".py",
   "mimetype": "text/x-python",
   "name": "python",
   "nbconvert_exporter": "python",
   "pygments_lexer": "ipython2",
   "version": "2.7.6"
  }
 },
 "nbformat": 4,
 "nbformat_minor": 5
}
