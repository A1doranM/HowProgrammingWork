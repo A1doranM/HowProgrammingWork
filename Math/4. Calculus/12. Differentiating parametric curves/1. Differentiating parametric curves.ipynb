{
 "cells": [
  {
   "cell_type": "markdown",
   "id": "d4b7dc78",
   "metadata": {},
   "source": [
    "# Content"
   ]
  },
  {
   "cell_type": "markdown",
   "id": "7eaccd88",
   "metadata": {},
   "source": []
  }
 ],
 "metadata": {
  "language_info": {
   "name": "python"
  }
 },
 "nbformat": 4,
 "nbformat_minor": 5
}
