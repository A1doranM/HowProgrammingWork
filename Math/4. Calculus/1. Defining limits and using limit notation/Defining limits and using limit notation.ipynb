{
 "cells": [
  {
   "metadata": {},
   "cell_type": "markdown",
   "source": "# Content",
   "id": "207fdbb7c9211e73"
  },
  {
   "metadata": {},
   "cell_type": "markdown",
   "source": "# Estimating limit values from graphs",
   "id": "980ae9d1d730a799"
  },
  {
   "metadata": {},
   "cell_type": "code",
   "outputs": [],
   "execution_count": null,
   "source": "",
   "id": "ac1b8f443b1151fb"
  }
 ],
 "metadata": {
  "kernelspec": {
   "display_name": "Python 3",
   "language": "python",
   "name": "python3"
  },
  "language_info": {
   "codemirror_mode": {
    "name": "ipython",
    "version": 2
   },
   "file_extension": ".py",
   "mimetype": "text/x-python",
   "name": "python",
   "nbconvert_exporter": "python",
   "pygments_lexer": "ipython2",
   "version": "2.7.6"
  }
 },
 "nbformat": 4,
 "nbformat_minor": 5
}
