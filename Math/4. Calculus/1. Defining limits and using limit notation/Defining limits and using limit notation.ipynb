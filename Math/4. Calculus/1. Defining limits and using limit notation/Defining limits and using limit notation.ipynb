{
 "cells": [
  {
   "metadata": {},
   "cell_type": "markdown",
   "source": "# Content",
   "id": "207fdbb7c9211e73"
  },
  {
   "metadata": {},
   "cell_type": "markdown",
   "source": "# Estimating limit values from graphs",
   "id": "980ae9d1d730a799"
  },
  {
   "metadata": {},
   "cell_type": "markdown",
   "source": "",
   "id": "80abfa0585706b12"
  },
  {
   "metadata": {},
   "cell_type": "code",
   "outputs": [],
   "execution_count": null,
   "source": [
    "import numpy as np\n",
    "\n",
    "# Define the function\n",
    "def f(x):\n",
    "    return (x**2 - 4) / (x - 2)\n",
    "\n",
    "# Values approaching 2 from the left and right\n",
    "x_values = [1.9, 1.99, 1.999, 2.001, 2.01, 2.1]\n",
    "\n",
    "# Calculate the function values\n",
    "f_values = [f(x) for x in x_values]\n",
    "\n",
    "# Display the results\n",
    "print(\" x    |  f(x)\")\n",
    "print(\"-----------------\")\n",
    "for x, fx in zip(x_values, f_values):\n",
    "    print(f\"{x:.3f} | {fx:.6f}\")\n"
   ],
   "id": "1d0879ce015a29d"
  }
 ],
 "metadata": {
  "kernelspec": {
   "display_name": "Python 3",
   "language": "python",
   "name": "python3"
  },
  "language_info": {
   "codemirror_mode": {
    "name": "ipython",
    "version": 2
   },
   "file_extension": ".py",
   "mimetype": "text/x-python",
   "name": "python",
   "nbconvert_exporter": "python",
   "pygments_lexer": "ipython2",
   "version": "2.7.6"
  }
 },
 "nbformat": 4,
 "nbformat_minor": 5
}
