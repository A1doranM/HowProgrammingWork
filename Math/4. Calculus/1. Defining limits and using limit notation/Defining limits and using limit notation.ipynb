{
 "cells": [
  {
   "metadata": {},
   "cell_type": "markdown",
   "source": [
    "# Content\n",
    "\n",
    "[Estimating limit values from graphs](#estimating-limit-values-from-graphs)"
   ],
   "id": "207fdbb7c9211e73"
  },
  {
   "metadata": {},
   "cell_type": "markdown",
   "source": "# Estimating limit values from graphs",
   "id": "980ae9d1d730a799"
  },
  {
   "metadata": {},
   "cell_type": "markdown",
   "source": [
    "![](./images/img.png)\n",
    "\n",
    "![](./images/img_1.png)\n",
    "\n",
    "![](./images/img_2.png)\n",
    "\n",
    "![](./images/img_3.png)\n",
    "\n",
    "![](./images/img_4.png)\n",
    "\n",
    "![](./images/img_5.png)"
   ],
   "id": "80abfa0585706b12"
  },
  {
   "metadata": {
    "ExecuteTime": {
     "end_time": "2024-09-05T07:27:08.473800Z",
     "start_time": "2024-09-05T07:27:08.365679Z"
    }
   },
   "cell_type": "code",
   "source": [
    "import numpy as np\n",
    "\n",
    "# Define the function\n",
    "def f(x):\n",
    "    return (x**2 - 4) / (x - 2)\n",
    "\n",
    "# Values approaching 2 from the left and right\n",
    "x_values = [1.9, 1.99, 1.999, 2.001, 2.01, 2.1]\n",
    "\n",
    "# Calculate the function values\n",
    "f_values = [f(x) for x in x_values]\n",
    "\n",
    "# Display the results\n",
    "print(\" x    |  f(x)\")\n",
    "print(\"-----------------\")\n",
    "for x, fx in zip(x_values, f_values):\n",
    "    print(f\"{x:.3f} | {fx:.6f}\")\n"
   ],
   "id": "1d0879ce015a29d",
   "outputs": [
    {
     "name": "stdout",
     "output_type": "stream",
     "text": [
      " x    |  f(x)\n",
      "-----------------\n",
      "1.900 | 3.900000\n",
      "1.990 | 3.990000\n",
      "1.999 | 3.999000\n",
      "2.001 | 4.001000\n",
      "2.010 | 4.010000\n",
      "2.100 | 4.100000\n"
     ]
    }
   ],
   "execution_count": 1
  }
 ],
 "metadata": {
  "kernelspec": {
   "display_name": "Python 3",
   "language": "python",
   "name": "python3"
  },
  "language_info": {
   "codemirror_mode": {
    "name": "ipython",
    "version": 2
   },
   "file_extension": ".py",
   "mimetype": "text/x-python",
   "name": "python",
   "nbconvert_exporter": "python",
   "pygments_lexer": "ipython2",
   "version": "2.7.6"
  }
 },
 "nbformat": 4,
 "nbformat_minor": 5
}
