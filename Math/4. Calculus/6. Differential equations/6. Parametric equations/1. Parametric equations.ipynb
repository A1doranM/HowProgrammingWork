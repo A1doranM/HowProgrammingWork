{
 "cells": [
  {
   "cell_type": "markdown",
   "id": "523e783d",
   "metadata": {},
   "source": [
    "# Parametric equations\n",
    "\n",
    "## Content\n",
    "\n",
    "[Defining and differentiating parametric equations](#defining-and-differentiating-parametric-equations)"
   ]
  },
  {
   "cell_type": "markdown",
   "id": "837c252b",
   "metadata": {},
   "source": [
    "## Defining and differentiating parametric equations"
   ]
  }
 ],
 "metadata": {
  "language_info": {
   "name": "python"
  }
 },
 "nbformat": 4,
 "nbformat_minor": 5
}
