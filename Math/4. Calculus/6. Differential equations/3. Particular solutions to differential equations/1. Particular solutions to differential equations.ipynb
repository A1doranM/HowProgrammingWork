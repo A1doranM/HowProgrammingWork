{
 "cells": [
  {
   "metadata": {},
   "cell_type": "markdown",
   "source": "# Particular solutions to differential equations",
   "id": "5e76d9ad672daf0a"
  },
  {
   "metadata": {},
   "cell_type": "markdown",
   "source": [
    "![](./images/img.png)\n",
    "\n",
    "![](./images/img_1.png)\n",
    "\n",
    "![](./images/img_2.png)\n",
    "\n",
    "![](./images/img_3.png)\n",
    "\n",
    "![](./images/img_4.png)"
   ],
   "id": "b5006058b0f1e571"
  },
  {
   "metadata": {},
   "cell_type": "markdown",
   "source": [
    "### Another example\n",
    "\n",
    "![](./images/img_5.png)\n",
    "\n",
    "![](./images/img_6.png)\n",
    "\n",
    "### -----------------------------------------------------------------------------\n",
    "\n",
    "![](./images/img_7.png)\n",
    "\n",
    "![](./images/img_8.png)"
   ],
   "id": "bbe9baae80255605"
  },
  {
   "metadata": {},
   "cell_type": "code",
   "outputs": [],
   "execution_count": null,
   "source": "",
   "id": "85c6b037755ce396"
  }
 ],
 "metadata": {
  "kernelspec": {
   "display_name": "Python 3",
   "language": "python",
   "name": "python3"
  },
  "language_info": {
   "codemirror_mode": {
    "name": "ipython",
    "version": 2
   },
   "file_extension": ".py",
   "mimetype": "text/x-python",
   "name": "python",
   "nbconvert_exporter": "python",
   "pygments_lexer": "ipython2",
   "version": "2.7.6"
  }
 },
 "nbformat": 4,
 "nbformat_minor": 5
}
