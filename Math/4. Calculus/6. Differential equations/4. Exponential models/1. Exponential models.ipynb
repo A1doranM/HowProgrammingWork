{
 "cells": [
  {
   "metadata": {},
   "cell_type": "markdown",
   "source": "# Exponential models",
   "id": "119cc7b7d037a4c9"
  },
  {
   "metadata": {},
   "cell_type": "markdown",
   "source": [
    "![](./images/img.png)\n",
    "\n",
    "![](./images/img_1.png)\n",
    "\n",
    "![](./images/img_2.png)\n",
    "\n",
    "![](./images/img_3.png)\n",
    "\n",
    "![](./images/img_4.png)\n"
   ],
   "id": "ad82f6ef17aa698b"
  },
  {
   "metadata": {},
   "cell_type": "markdown",
   "source": [
    "# Examples\n",
    "\n",
    "![](./images/img_5.png)\n",
    "\n",
    "![](./images/img_6.png)"
   ],
   "id": "2bd5e0a89220db23"
  },
  {
   "metadata": {},
   "cell_type": "code",
   "outputs": [],
   "execution_count": null,
   "source": "",
   "id": "2960fc8d07833ac8"
  }
 ],
 "metadata": {
  "kernelspec": {
   "display_name": "Python 3",
   "language": "python",
   "name": "python3"
  },
  "language_info": {
   "codemirror_mode": {
    "name": "ipython",
    "version": 2
   },
   "file_extension": ".py",
   "mimetype": "text/x-python",
   "name": "python",
   "nbconvert_exporter": "python",
   "pygments_lexer": "ipython2",
   "version": "2.7.6"
  }
 },
 "nbformat": 4,
 "nbformat_minor": 5
}
