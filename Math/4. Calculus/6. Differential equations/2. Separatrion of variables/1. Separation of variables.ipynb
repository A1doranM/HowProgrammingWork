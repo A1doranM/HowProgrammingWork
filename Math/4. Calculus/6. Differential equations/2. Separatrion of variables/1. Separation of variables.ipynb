{
 "cells": [
  {
   "metadata": {},
   "cell_type": "markdown",
   "source": "# Separation of variables",
   "id": "d09e07e874bdfc81"
  },
  {
   "metadata": {},
   "cell_type": "markdown",
   "source": [
    "![](./images/img.png)\n",
    "\n",
    "![](./images/img_1.png)\n",
    "\n",
    "![](./images/img_2.png)\n",
    "\n",
    "![](./images/img_3.png)\n",
    "\n",
    "![](./images/img_5.png)\n",
    "\n",
    "![](./images/img_6.png)\n",
    "\n",
    "![](./images/img_7.png)\n",
    "\n",
    "![](./images/img_8.png)\n",
    "\n",
    "![](./images/img_9.png)\n",
    "\n",
    "![](./images/img_10.png)\n",
    "\n",
    "![](./images/img_4.png)"
   ],
   "id": "e41dae8038bc5e4"
  },
  {
   "metadata": {
    "ExecuteTime": {
     "end_time": "2025-02-11T10:41:23.307373Z",
     "start_time": "2025-02-11T10:41:23.126329Z"
    }
   },
   "cell_type": "code",
   "source": [
    "import sympy as sp\n",
    "\n",
    "# Define variables\n",
    "x, y = sp.symbols('x y')\n",
    "C = sp.symbols('C')\n",
    "\n",
    "# Define the separable equation dy/dx = xy\n",
    "eq = sp.Eq(sp.Derivative(y, x), x*y)\n",
    "\n",
    "# Separate variables and integrate\n",
    "sol = sp.dsolve(eq, y)\n",
    "print(sol)\n"
   ],
   "id": "194bdf63a1ab1685",
   "outputs": [
    {
     "ename": "ModuleNotFoundError",
     "evalue": "No module named 'sympy'",
     "output_type": "error",
     "traceback": [
      "\u001B[0;31m---------------------------------------------------------------------------\u001B[0m",
      "\u001B[0;31mModuleNotFoundError\u001B[0m                       Traceback (most recent call last)",
      "Cell \u001B[0;32mIn[1], line 1\u001B[0m\n\u001B[0;32m----> 1\u001B[0m \u001B[38;5;28;01mimport\u001B[39;00m \u001B[38;5;21;01msympy\u001B[39;00m \u001B[38;5;28;01mas\u001B[39;00m \u001B[38;5;21;01msp\u001B[39;00m\n\u001B[1;32m      3\u001B[0m \u001B[38;5;66;03m# Define variables\u001B[39;00m\n\u001B[1;32m      4\u001B[0m x, y \u001B[38;5;241m=\u001B[39m sp\u001B[38;5;241m.\u001B[39msymbols(\u001B[38;5;124m'\u001B[39m\u001B[38;5;124mx y\u001B[39m\u001B[38;5;124m'\u001B[39m)\n",
      "\u001B[0;31mModuleNotFoundError\u001B[0m: No module named 'sympy'"
     ]
    }
   ],
   "execution_count": 1
  },
  {
   "metadata": {},
   "cell_type": "code",
   "outputs": [],
   "execution_count": null,
   "source": "",
   "id": "e5cd00f46bc877c3"
  }
 ],
 "metadata": {
  "kernelspec": {
   "display_name": "Python 3",
   "language": "python",
   "name": "python3"
  },
  "language_info": {
   "codemirror_mode": {
    "name": "ipython",
    "version": 2
   },
   "file_extension": ".py",
   "mimetype": "text/x-python",
   "name": "python",
   "nbconvert_exporter": "python",
   "pygments_lexer": "ipython2",
   "version": "2.7.6"
  }
 },
 "nbformat": 4,
 "nbformat_minor": 5
}
