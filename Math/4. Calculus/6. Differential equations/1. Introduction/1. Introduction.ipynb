{
 "cells": [
  {
   "metadata": {},
   "cell_type": "markdown",
   "source": "# Introduction to Differential equation",
   "id": "e0c6c20be0190301"
  },
  {
   "metadata": {},
   "cell_type": "markdown",
   "source": [
    "## Verifying solutions to differential equations\n",
    "\n",
    "![](./images/img.png)\n",
    "\n",
    "![](./images/img_1.png)\n",
    "\n",
    "![](./images/img_2.png)"
   ],
   "id": "aa6dd39dd1b11663"
  },
  {
   "metadata": {},
   "cell_type": "markdown",
   "source": [
    "## Examples \n",
    "\n",
    "![](./images/img_3.png)\n",
    "\n",
    "![](./images/img_4.png)\n",
    "\n",
    "![](./images/img_5.png)\n",
    "\n",
    "![](./images/img_6.png)"
   ],
   "id": "aa87e5081af1f801"
  },
  {
   "metadata": {},
   "cell_type": "markdown",
   "source": [
    "![](./images/img_7.png)\n",
    "\n",
    "![](./images/img_8.png)\n",
    "\n",
    "![](./images/img_9.png)\n",
    "\n",
    "![](./images/img_10.png)"
   ],
   "id": "a8e8c3f12dc776d1"
  },
  {
   "metadata": {},
   "cell_type": "markdown",
   "source": [
    "![](./images/img_11.png)\n",
    "\n",
    "![](./images/img_12.png)\n",
    "\n",
    "![](./images/img_13.png)\n",
    "\n",
    "![](./images/img_14.png)"
   ],
   "id": "868d08dacef1799b"
  },
  {
   "metadata": {},
   "cell_type": "code",
   "outputs": [],
   "execution_count": null,
   "source": "",
   "id": "cb800256f4e80553"
  }
 ],
 "metadata": {
  "kernelspec": {
   "display_name": "Python 3",
   "language": "python",
   "name": "python3"
  },
  "language_info": {
   "codemirror_mode": {
    "name": "ipython",
    "version": 2
   },
   "file_extension": ".py",
   "mimetype": "text/x-python",
   "name": "python",
   "nbconvert_exporter": "python",
   "pygments_lexer": "ipython2",
   "version": "2.7.6"
  }
 },
 "nbformat": 4,
 "nbformat_minor": 5
}
