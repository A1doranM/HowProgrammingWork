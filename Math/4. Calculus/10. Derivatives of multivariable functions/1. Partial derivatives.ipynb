{
 "cells": [
  {
   "cell_type": "markdown",
   "id": "b50a6bde",
   "metadata": {},
   "source": [
    "# Content"
   ]
  },
  {
   "cell_type": "markdown",
   "id": "845692e2",
   "metadata": {},
   "source": []
  }
 ],
 "metadata": {
  "kernelspec": {
   "display_name": ".venv",
   "language": "python",
   "name": "python3"
  },
  "language_info": {
   "name": "python",
   "version": "3.12.10"
  }
 },
 "nbformat": 4,
 "nbformat_minor": 5
}
