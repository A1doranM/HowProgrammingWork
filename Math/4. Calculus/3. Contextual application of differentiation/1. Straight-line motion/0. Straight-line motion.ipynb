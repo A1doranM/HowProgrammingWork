{
 "cells": [
  {
   "metadata": {},
   "cell_type": "markdown",
   "source": "# Straight-line motion",
   "id": "fc7b6f09a80e761f"
  },
  {
   "metadata": {},
   "cell_type": "markdown",
   "source": [
    "![](./images/img.png)\n",
    "\n",
    "![](./images/img_1.png)\n",
    "\n",
    "![](./images/img_2.png)"
   ],
   "id": "64f693ae065d6f4c"
  },
  {
   "metadata": {
    "ExecuteTime": {
     "end_time": "2024-11-07T12:58:45.166260Z",
     "start_time": "2024-11-07T12:58:44.781527Z"
    }
   },
   "cell_type": "code",
   "source": [
    "import sympy as sp\n",
    "\n",
    "# Define the time variable\n",
    "t = sp.symbols('t')\n",
    "\n",
    "# Define the position function s(t)\n",
    "s_t = 5 * t**3 - 3 * t**2 + 2 * t\n",
    "\n",
    "# Calculate the velocity function v(t) as the first derivative of s(t)\n",
    "v_t = sp.diff(s_t, t)\n",
    "\n",
    "# Calculate the speed as the absolute value of velocity\n",
    "speed_t = sp.Abs(v_t)\n",
    "\n",
    "# Calculate the acceleration function a(t) as the derivative of v(t)\n",
    "a_t = sp.diff(v_t, t)\n",
    "\n",
    "# Display the functions\n",
    "print(\"Position function, s(t):\", s_t)\n",
    "print(\"Velocity function, v(t):\", v_t)\n",
    "print(\"Speed function, |v(t)|:\", speed_t)\n",
    "print(\"Acceleration function, a(t):\", a_t)\n",
    "\n",
    "# Evaluate at a specific time, t = 2\n",
    "t_value = 2\n",
    "position_at_t = s_t.subs(t, t_value)\n",
    "velocity_at_t = v_t.subs(t, t_value)\n",
    "speed_at_t = speed_t.subs(t, t_value)\n",
    "acceleration_at_t = a_t.subs(t, t_value)\n",
    "\n",
    "print(\"\\nAt t =\", t_value)\n",
    "print(\"Position, s(t):\", position_at_t)\n",
    "print(\"Velocity, v(t):\", velocity_at_t)\n",
    "print(\"Speed, |v(t)|:\", speed_at_t)\n",
    "print(\"Acceleration, a(t):\", acceleration_at_t)\n"
   ],
   "id": "e7d00b1465945906",
   "outputs": [
    {
     "name": "stdout",
     "output_type": "stream",
     "text": [
      "Position function, s(t): 5*t**3 - 3*t**2 + 2*t\n",
      "Velocity function, v(t): 15*t**2 - 6*t + 2\n",
      "Speed function, |v(t)|: Abs(15*t**2 - 6*t + 2)\n",
      "Acceleration function, a(t): 30*t - 6\n",
      "\n",
      "At t = 2\n",
      "Position, s(t): 32\n",
      "Velocity, v(t): 50\n",
      "Speed, |v(t)|: 50\n",
      "Acceleration, a(t): 54\n"
     ]
    }
   ],
   "execution_count": 1
  },
  {
   "metadata": {},
   "cell_type": "markdown",
   "source": "",
   "id": "c073263fabc5ea34"
  }
 ],
 "metadata": {
  "kernelspec": {
   "display_name": "Python 3",
   "language": "python",
   "name": "python3"
  },
  "language_info": {
   "codemirror_mode": {
    "name": "ipython",
    "version": 2
   },
   "file_extension": ".py",
   "mimetype": "text/x-python",
   "name": "python",
   "nbconvert_exporter": "python",
   "pygments_lexer": "ipython2",
   "version": "2.7.6"
  }
 },
 "nbformat": 4,
 "nbformat_minor": 5
}
