{
 "cells": [
  {
   "metadata": {},
   "cell_type": "markdown",
   "source": "# L'Hôpital's Rule",
   "id": "976078f39d5891f4"
  },
  {
   "metadata": {},
   "cell_type": "markdown",
   "source": [
    "![](./images/img.png)\n",
    "\n",
    "![](./images/img_1.png)\n",
    "\n",
    "![](./images/img_2.png)\n",
    "\n",
    "![](./images/img_3.png)"
   ],
   "id": "2c3a8bc4de9e600c"
  },
  {
   "metadata": {
    "ExecuteTime": {
     "end_time": "2024-11-18T16:17:47.794301Z",
     "start_time": "2024-11-18T16:17:47.468598Z"
    }
   },
   "cell_type": "code",
   "source": [
    "import sympy as sp\n",
    "\n",
    "# Define the variable and the function\n",
    "x = sp.symbols('x')\n",
    "f = sp.sin(x) / x\n",
    "\n",
    "# Compute the limit using L'Hôpital's Rule\n",
    "limit_result = sp.limit(f, x, 0)\n",
    "print(f\"The limit of sin(x)/x as x approaches 0 is: {limit_result}\")\n"
   ],
   "id": "7b309f5ee90ce384",
   "outputs": [
    {
     "name": "stdout",
     "output_type": "stream",
     "text": [
      "The limit of sin(x)/x as x approaches 0 is: 1\n"
     ]
    }
   ],
   "execution_count": 1
  },
  {
   "metadata": {},
   "cell_type": "code",
   "outputs": [],
   "execution_count": null,
   "source": "",
   "id": "8afa077460e03f76"
  }
 ],
 "metadata": {
  "kernelspec": {
   "display_name": "Python 3",
   "language": "python",
   "name": "python3"
  },
  "language_info": {
   "codemirror_mode": {
    "name": "ipython",
    "version": 2
   },
   "file_extension": ".py",
   "mimetype": "text/x-python",
   "name": "python",
   "nbconvert_exporter": "python",
   "pygments_lexer": "ipython2",
   "version": "2.7.6"
  }
 },
 "nbformat": 4,
 "nbformat_minor": 5
}
