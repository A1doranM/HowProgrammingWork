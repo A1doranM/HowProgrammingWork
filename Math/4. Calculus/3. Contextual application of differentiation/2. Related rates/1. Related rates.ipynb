{
 "cells": [
  {
   "metadata": {},
   "cell_type": "markdown",
   "source": "# Related rates ",
   "id": "50aaf48bef77cc2b"
  },
  {
   "metadata": {},
   "cell_type": "markdown",
   "source": [
    "\n",
    "Let's explore the relationship between the rate at which a circle's radius expands and the rate at which its area grows. This type of problem is known as a related rates problem, where we use derivatives to understand how one quantity's rate of change affects another."
   ],
   "id": "9e3cc4771e65e7d"
  },
  {
   "metadata": {},
   "cell_type": "markdown",
   "source": [
    "![](./images/img.png)\n",
    "\n",
    "![](./images/img_1.png)\n",
    "\n",
    "![](./images/img_2.png)\n",
    "\n",
    "![](./images/img_3.png)"
   ],
   "id": "c0abbc4f5caca727"
  },
  {
   "metadata": {
    "ExecuteTime": {
     "end_time": "2024-11-11T08:36:23.261715Z",
     "start_time": "2024-11-11T08:36:23.257212Z"
    }
   },
   "cell_type": "code",
   "source": [
    "import math\n",
    "\n",
    "# Given values\n",
    "pi = math.pi\n",
    "r = 5          # radius in cm\n",
    "dr_dt = 3      # rate of change of radius in cm/s\n",
    "\n",
    "# Calculate the rate of change of the area (dA/dt)\n",
    "dA_dt = 2 * pi * r * dr_dt\n",
    "\n",
    "print(\"The rate of change of the area (dA/dt) when r = 5 cm and dr/dt = 3 cm/s is:\", dA_dt, \"cm^2/s\")\n"
   ],
   "id": "ae6ae9e009f70d1",
   "outputs": [
    {
     "name": "stdout",
     "output_type": "stream",
     "text": [
      "The rate of change of the area (dA/dt) when r = 5 cm and dr/dt = 3 cm/s is: 94.24777960769379 cm^2/s\n"
     ]
    }
   ],
   "execution_count": 2
  },
  {
   "metadata": {},
   "cell_type": "markdown",
   "source": [
    "### Example for triangle \n",
    "\n",
    "![](./images/img_4.png)\n",
    "\n",
    "![](./images/img_5.png)\n",
    "\n",
    "![](./images/img_6.png)"
   ],
   "id": "4002415c634497fe"
  },
  {
   "metadata": {},
   "cell_type": "markdown",
   "source": [
    "### Example for cylinder \n",
    "\n",
    "![](./images/img_7.png)\n",
    "\n",
    "![](./images/img_8.png)\n",
    "\n",
    "![](./images/img_9.png)\n",
    "\n",
    "![](./images/img_10.png)\n",
    "\n",
    "![](./images/img_11.png)"
   ],
   "id": "bbfac84032616d1e"
  },
  {
   "metadata": {},
   "cell_type": "markdown",
   "source": [
    "### Example with cone \n",
    "\n",
    "![](./images/img_12.png)\n",
    "\n",
    "![](./images/img_13.png)\n",
    "\n",
    "![](./images/img_14.png)\n",
    "\n",
    "![](./images/img_15.png)\n",
    "\n",
    "![](./images/img_12.png)"
   ],
   "id": "8a29213403866e06"
  }
 ],
 "metadata": {
  "kernelspec": {
   "display_name": "Python 3",
   "language": "python",
   "name": "python3"
  },
  "language_info": {
   "codemirror_mode": {
    "name": "ipython",
    "version": 2
   },
   "file_extension": ".py",
   "mimetype": "text/x-python",
   "name": "python",
   "nbconvert_exporter": "python",
   "pygments_lexer": "ipython2",
   "version": "2.7.6"
  }
 },
 "nbformat": 4,
 "nbformat_minor": 5
}
