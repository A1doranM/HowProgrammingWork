{
 "cells": [
  {
   "metadata": {},
   "cell_type": "markdown",
   "source": "# Approximating using local linearity and linearization",
   "id": "4ac59e17e7c0a37a"
  },
  {
   "metadata": {},
   "cell_type": "markdown",
   "source": [
    "![](./images/img.png)\n",
    "\n",
    "![](./images/img_1.png)\n",
    "\n",
    "![](./images/img_2.png)"
   ],
   "id": "dad60930627310fe"
  },
  {
   "metadata": {
    "ExecuteTime": {
     "end_time": "2024-11-15T14:51:56.448587Z",
     "start_time": "2024-11-15T14:51:56.025207Z"
    }
   },
   "cell_type": "code",
   "source": [
    "import sympy as sp\n",
    "\n",
    "# Define the variable and the function\n",
    "x = sp.symbols('x')\n",
    "f = sp.sqrt(x)\n",
    "\n",
    "# Point of tangency\n",
    "a = 4\n",
    "\n",
    "# Calculate f(a) and f'(a)\n",
    "f_a = f.subs(x, a)\n",
    "f_prime = sp.diff(f, x)  # Derivative of f(x)\n",
    "f_prime_a = f_prime.subs(x, a)\n",
    "\n",
    "# Tangent line equation: y = f(a) + f'(a)(x - a)\n",
    "tangent_line = f_a + f_prime_a * (x - a)\n",
    "\n",
    "# Approximate f(4.1) using the tangent line\n",
    "approx_value = tangent_line.subs(x, 4.1)\n",
    "\n",
    "# Print results\n",
    "print(f\"Function: f(x) = {f}\")\n",
    "print(f\"f({a}) = {f_a}\")\n",
    "print(f\"f'({a}) = {f_prime_a}\")\n",
    "print(f\"Tangent line equation: y = {tangent_line}\")\n",
    "print(f\"Approximate value of sqrt(4.1) using tangent line: {approx_value}\")\n",
    "print(f\"Actual value of sqrt(4.1): {sp.sqrt(4.1)}\")\n"
   ],
   "id": "29548fe2484ba8a5",
   "outputs": [
    {
     "name": "stdout",
     "output_type": "stream",
     "text": [
      "Function: f(x) = sqrt(x)\n",
      "f(4) = 2\n",
      "f'(4) = 1/4\n",
      "Tangent line equation: y = x/4 + 1\n",
      "Approximate value of sqrt(4.1) using tangent line: 2.02500000000000\n",
      "Actual value of sqrt(4.1): 2.02484567313166\n"
     ]
    }
   ],
   "execution_count": 1
  },
  {
   "metadata": {},
   "cell_type": "code",
   "outputs": [],
   "execution_count": null,
   "source": "",
   "id": "1ea0cd1a8ce3e54"
  }
 ],
 "metadata": {
  "kernelspec": {
   "display_name": "Python 3",
   "language": "python",
   "name": "python3"
  },
  "language_info": {
   "codemirror_mode": {
    "name": "ipython",
    "version": 2
   },
   "file_extension": ".py",
   "mimetype": "text/x-python",
   "name": "python",
   "nbconvert_exporter": "python",
   "pygments_lexer": "ipython2",
   "version": "2.7.6"
  }
 },
 "nbformat": 4,
 "nbformat_minor": 5
}
