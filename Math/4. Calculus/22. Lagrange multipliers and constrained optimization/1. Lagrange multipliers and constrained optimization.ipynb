{
 "cells": [
  {
   "cell_type": "markdown",
   "id": "2f9a09a2",
   "metadata": {},
   "source": [
    "# Content"
   ]
  },
  {
   "cell_type": "markdown",
   "id": "ec3669f4",
   "metadata": {},
   "source": [
    "# "
   ]
  }
 ],
 "metadata": {
  "kernelspec": {
   "display_name": ".venv",
   "language": "python",
   "name": "python3"
  },
  "language_info": {
   "name": "python",
   "version": "3.12.10"
  }
 },
 "nbformat": 4,
 "nbformat_minor": 5
}
