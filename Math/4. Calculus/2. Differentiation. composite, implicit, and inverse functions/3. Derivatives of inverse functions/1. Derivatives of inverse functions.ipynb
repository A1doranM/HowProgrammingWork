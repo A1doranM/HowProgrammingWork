{
 "cells": [
  {
   "metadata": {},
   "cell_type": "markdown",
   "source": [
    "# Derivatives of inverse functions\n",
    "\n",
    "![](./images/img.png)\n",
    "\n",
    "![](./images/img_1.png)\n",
    "\n",
    "![](./images/img_2.png)\n",
    "\n",
    "![](./images/img_3.png)\n",
    "\n",
    "![](./images/img_4.png)\n",
    "\n",
    "### Another example \n",
    "\n",
    "![](./images/img_6.png)\n",
    "\n",
    "![](./images/img_7.png)\n",
    "\n",
    "![](./images/img_8.png)\n",
    "\n",
    "![](./images/img_5.png)"
   ],
   "id": "47a5ebe926ad7e92"
  },
  {
   "metadata": {
    "ExecuteTime": {
     "end_time": "2024-10-07T07:19:42.706Z",
     "start_time": "2024-10-07T07:19:42.331239Z"
    }
   },
   "cell_type": "code",
   "source": [
    "import sympy as sp\n",
    "\n",
    "# Example: Derivative of arcsin(x)\n",
    "\n",
    "# Define the variable and the inverse function\n",
    "x = sp.symbols('x')\n",
    "inverse_function = sp.asin(x) \n",
    "\n",
    "# Differentiate the inverse function\n",
    "derivative_inverse = sp.diff(inverse_function, x)\n",
    "\n",
    "# Print the result\n",
    "print(derivative_inverse)  # Output: 1/sqrt(1 - x**2)\n"
   ],
   "id": "647eeddd1bd6b729",
   "outputs": [
    {
     "name": "stdout",
     "output_type": "stream",
     "text": [
      "1/sqrt(1 - x**2)\n"
     ]
    }
   ],
   "execution_count": 1
  }
 ],
 "metadata": {
  "kernelspec": {
   "display_name": "Python 3",
   "language": "python",
   "name": "python3"
  },
  "language_info": {
   "codemirror_mode": {
    "name": "ipython",
    "version": 2
   },
   "file_extension": ".py",
   "mimetype": "text/x-python",
   "name": "python",
   "nbconvert_exporter": "python",
   "pygments_lexer": "ipython2",
   "version": "2.7.6"
  }
 },
 "nbformat": 4,
 "nbformat_minor": 5
}
