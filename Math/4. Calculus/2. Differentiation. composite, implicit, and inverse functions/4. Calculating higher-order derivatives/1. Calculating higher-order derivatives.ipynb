{
 "cells": [
  {
   "metadata": {},
   "cell_type": "markdown",
   "source": [
    "# Contents\n",
    "\n",
    "[Calculating higher-order derivatives](#calculating-higher-order-derivatives)\n",
    "\n",
    "[Determining the Second Derivative from an Implicit Equation](#determining-the-second-derivative-from-an-implicit-equation)\n",
    "\n",
    "[Disguised Derivatives](#disguised-derivatives)"
   ],
   "id": "42fb0e9723b5ae26"
  },
  {
   "metadata": {},
   "cell_type": "markdown",
   "source": [
    "# Calculating higher-order derivatives\n",
    "\n",
    "![](./images/img.png)\n",
    "\n",
    "![](./images/img_1.png)\n",
    "\n",
    "![](./images/img_2.png)\n",
    "\n",
    "![](./images/img_3.png)\n",
    "\n",
    "![](./images/img_4.png)\n",
    "\n",
    "![](./images/img_5.png)"
   ],
   "id": "d4dc647aab08177d"
  },
  {
   "metadata": {
    "ExecuteTime": {
     "end_time": "2024-10-14T09:17:51.595051Z",
     "start_time": "2024-10-14T09:17:51.590108Z"
    }
   },
   "cell_type": "code",
   "source": [
    "# Derivative of power function f(x) = x^4\n",
    "\n",
    "import sympy as sp\n",
    "\n",
    "# Define the variable and the function\n",
    "x = sp.symbols('x')\n",
    "f = x**4\n",
    "\n",
    "# First derivative\n",
    "f_prime = sp.diff(f, x)\n",
    "# Second derivative\n",
    "f_double_prime = sp.diff(f_prime, x)\n",
    "# Third derivative\n",
    "f_triple_prime = sp.diff(f_double_prime, x)\n",
    "# Fourth derivative\n",
    "f_fourth_prime = sp.diff(f_triple_prime, x)\n",
    "\n",
    "# Print the results\n",
    "print(\"First derivative:\", f_prime)\n",
    "print(\"Second derivative:\", f_double_prime)\n",
    "print(\"Third derivative:\", f_triple_prime)\n",
    "print(\"Fourth derivative:\", f_fourth_prime)\n"
   ],
   "id": "8c43b3eb9f81dde2",
   "outputs": [
    {
     "name": "stdout",
     "output_type": "stream",
     "text": [
      "First derivative: 4*x**3\n",
      "Second derivative: 12*x**2\n",
      "Third derivative: 24*x\n",
      "Fourth derivative: 24\n"
     ]
    }
   ],
   "execution_count": 3
  },
  {
   "metadata": {
    "ExecuteTime": {
     "end_time": "2024-10-14T09:17:58.076466Z",
     "start_time": "2024-10-14T09:17:58.070083Z"
    }
   },
   "cell_type": "code",
   "source": [
    "# Define the function\n",
    "f_trig = sp.sin(x)\n",
    "\n",
    "# First derivative\n",
    "f_prime_trig = sp.diff(f_trig, x)\n",
    "# Second derivative\n",
    "f_double_prime_trig = sp.diff(f_prime_trig, x)\n",
    "# Third derivative\n",
    "f_triple_prime_trig = sp.diff(f_double_prime_trig, x)\n",
    "# Fourth derivative\n",
    "f_fourth_prime_trig = sp.diff(f_triple_prime_trig, x)\n",
    "\n",
    "# Print the results\n",
    "print(\"First derivative:\", f_prime_trig)\n",
    "print(\"Second derivative:\", f_double_prime_trig)\n",
    "print(\"Third derivative:\", f_triple_prime_trig)\n",
    "print(\"Fourth derivative:\", f_fourth_prime_trig)\n"
   ],
   "id": "671a788238f99b04",
   "outputs": [
    {
     "name": "stdout",
     "output_type": "stream",
     "text": [
      "First derivative: cos(x)\n",
      "Second derivative: -sin(x)\n",
      "Third derivative: -cos(x)\n",
      "Fourth derivative: sin(x)\n"
     ]
    }
   ],
   "execution_count": 4
  },
  {
   "metadata": {},
   "cell_type": "markdown",
   "source": "![](./images/img_6.png)",
   "id": "f3af956e6039f2b3"
  },
  {
   "metadata": {},
   "cell_type": "markdown",
   "source": [
    "# Determining the Second Derivative from an Implicit Equation\n",
    "\n",
    "![](./images/img_7.png)\n",
    "\n",
    "![](./images/img_8.png)\n",
    "\n",
    "![](./images/img_9.png)\n",
    "\n",
    "![](./images/img_10.png)\n",
    "\n"
   ],
   "id": "e7528e1a2d3cd0c5"
  },
  {
   "metadata": {},
   "cell_type": "markdown",
   "source": [
    "# Disguised derivatives\n",
    "\n",
    "## Example 1 \n",
    "\n",
    "![](./images/img_11.png)\n",
    "\n",
    "![](./images/img_12.png)"
   ],
   "id": "c77b5f37e79400fe"
  },
  {
   "metadata": {},
   "cell_type": "code",
   "outputs": [],
   "execution_count": null,
   "source": "",
   "id": "8192809a0cb8befc"
  }
 ],
 "metadata": {
  "kernelspec": {
   "display_name": "Python 3",
   "language": "python",
   "name": "python3"
  },
  "language_info": {
   "codemirror_mode": {
    "name": "ipython",
    "version": 2
   },
   "file_extension": ".py",
   "mimetype": "text/x-python",
   "name": "python",
   "nbconvert_exporter": "python",
   "pygments_lexer": "ipython2",
   "version": "2.7.6"
  }
 },
 "nbformat": 4,
 "nbformat_minor": 5
}
