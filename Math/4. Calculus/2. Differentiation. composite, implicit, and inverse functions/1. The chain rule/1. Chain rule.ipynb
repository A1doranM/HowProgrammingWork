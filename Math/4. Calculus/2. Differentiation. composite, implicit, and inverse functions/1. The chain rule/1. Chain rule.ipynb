{
 "cells": [
  {
   "metadata": {},
   "cell_type": "markdown",
   "source": [
    "# Content\n",
    "\n",
    "[Chain rule](#chain-rule)\n",
    "\n",
    "[Derivative of aˣ (for any positive base a)](#derivative-of-aˣ-for-any-positive-base-a)\n",
    "\n",
    "[Derivative of logₐx (for any positive base a≠1)](#derivative-of-logₐx-for-any-positive-base-a1)"
   ],
   "id": "be9b92bc51d06f2c"
  },
  {
   "metadata": {},
   "cell_type": "markdown",
   "source": [
    "# Chain rule\n",
    "\n",
    "![](./images/img.png)\n",
    "\n",
    "![](./images/img_1.png)\n",
    "\n",
    "![](./images/img_2.png)\n",
    "\n",
    "![](./images/img_3.png)\n",
    "\n",
    "![](./images/img_4.png)"
   ],
   "id": "9a5b4a66c7085271"
  },
  {
   "metadata": {},
   "cell_type": "markdown",
   "source": [
    "# Derivative of aˣ (for any positive base a)\n",
    "\n",
    "![](./images/img_5.png)\n",
    "\n",
    "![](./images/img_6.png)\n",
    "\n",
    "![](./images/img_7.png)"
   ],
   "id": "2182ce0e7be0c521"
  },
  {
   "metadata": {},
   "cell_type": "markdown",
   "source": [
    "# Derivative of logₐx (for any positive base a≠1)\n",
    "\n",
    "![](./images/img_8.png)\n",
    "\n",
    "![](./images/img_9.png)\n",
    "\n",
    "![](./images/img_10.png)\n",
    "\n"
   ],
   "id": "4283a5b20f7bb168"
  }
 ],
 "metadata": {
  "kernelspec": {
   "display_name": "Python 3",
   "language": "python",
   "name": "python3"
  },
  "language_info": {
   "codemirror_mode": {
    "name": "ipython",
    "version": 2
   },
   "file_extension": ".py",
   "mimetype": "text/x-python",
   "name": "python",
   "nbconvert_exporter": "python",
   "pygments_lexer": "ipython2",
   "version": "2.7.6"
  }
 },
 "nbformat": 4,
 "nbformat_minor": 5
}
