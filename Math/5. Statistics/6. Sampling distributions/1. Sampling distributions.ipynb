{
 "cells": [
  {
   "cell_type": "markdown",
   "id": "236a6a30",
   "metadata": {},
   "source": [
    "# Content"
   ]
  },
  {
   "cell_type": "markdown",
   "id": "24aed284",
   "metadata": {},
   "source": [
    "# Sampling distributions"
   ]
  }
 ],
 "metadata": {
  "language_info": {
   "name": "python"
  }
 },
 "nbformat": 4,
 "nbformat_minor": 5
}
