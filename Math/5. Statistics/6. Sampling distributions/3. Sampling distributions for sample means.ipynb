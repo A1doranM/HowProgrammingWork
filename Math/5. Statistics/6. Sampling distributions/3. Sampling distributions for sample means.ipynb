{
 "cells": [
  {
   "cell_type": "markdown",
   "id": "7ddde79c",
   "metadata": {},
   "source": [
    "# Content   \n",
    "\n",
    "[Standard error of the mean]()\n",
    "\n",
    "[Probability of sample mean exceeding a value]()\n",
    "\n",
    "[Sampling distribution of the difference in sample means]()"
   ]
  },
  {
   "cell_type": "markdown",
   "id": "f813c554",
   "metadata": {},
   "source": [
    "# Sampling distributions for sample means"
   ]
  }
 ],
 "metadata": {
  "language_info": {
   "name": "python"
  }
 },
 "nbformat": 4,
 "nbformat_minor": 5
}
