{
 "cells": [
  {
   "cell_type": "markdown",
   "id": "7ddde79c",
   "metadata": {},
   "source": [
    "# Content   "
   ]
  },
  {
   "cell_type": "markdown",
   "id": "f813c554",
   "metadata": {},
   "source": [
    "# Sampling distributions for sample means"
   ]
  }
 ],
 "metadata": {
  "language_info": {
   "name": "python"
  }
 },
 "nbformat": 4,
 "nbformat_minor": 5
}
