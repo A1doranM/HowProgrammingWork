{
 "cells": [
  {
   "cell_type": "markdown",
   "id": "a9fe1e65",
   "metadata": {},
   "source": [
    "# Content   "
   ]
  },
  {
   "cell_type": "markdown",
   "id": "8414663e",
   "metadata": {},
   "source": [
    "# Confidence intervals"
   ]
  }
 ],
 "metadata": {
  "language_info": {
   "name": "python"
  }
 },
 "nbformat": 4,
 "nbformat_minor": 5
}
