{
 "cells": [
  {
   "cell_type": "markdown",
   "id": "7177bcd7",
   "metadata": {},
   "source": []
  },
  {
   "cell_type": "markdown",
   "id": "e8bc1916",
   "metadata": {},
   "source": []
  }
 ],
 "metadata": {
  "language_info": {
   "name": "python"
  }
 },
 "nbformat": 4,
 "nbformat_minor": 5
}
