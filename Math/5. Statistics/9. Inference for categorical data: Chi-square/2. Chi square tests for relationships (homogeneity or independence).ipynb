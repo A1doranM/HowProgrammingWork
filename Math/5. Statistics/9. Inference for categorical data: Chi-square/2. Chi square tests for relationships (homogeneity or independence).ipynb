{
 "cells": [
  {
   "cell_type": "markdown",
   "id": "925af505",
   "metadata": {},
   "source": [
    "# Content"
   ]
  },
  {
   "cell_type": "markdown",
   "id": "84917620",
   "metadata": {},
   "source": []
  }
 ],
 "metadata": {
  "language_info": {
   "name": "python"
  }
 },
 "nbformat": 4,
 "nbformat_minor": 5
}
