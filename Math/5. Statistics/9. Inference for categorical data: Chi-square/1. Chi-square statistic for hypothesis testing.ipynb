{
 "cells": [
  {
   "cell_type": "markdown",
   "id": "c7b68061",
   "metadata": {},
   "source": [
    "# Content"
   ]
  },
  {
   "cell_type": "markdown",
   "id": "675f42e1",
   "metadata": {},
   "source": []
  }
 ],
 "metadata": {
  "kernelspec": {
   "display_name": ".venv",
   "language": "python",
   "name": "python3"
  },
  "language_info": {
   "name": "python",
   "version": "3.12.10"
  }
 },
 "nbformat": 4,
 "nbformat_minor": 5
}
