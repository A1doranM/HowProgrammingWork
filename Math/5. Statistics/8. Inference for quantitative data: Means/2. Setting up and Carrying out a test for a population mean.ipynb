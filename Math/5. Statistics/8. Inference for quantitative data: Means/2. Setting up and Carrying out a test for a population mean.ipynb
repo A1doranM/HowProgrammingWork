{
 "cells": [
  {
   "cell_type": "markdown",
   "id": "099cfa24",
   "metadata": {},
   "source": [
    "# Content   "
   ]
  },
  {
   "cell_type": "markdown",
   "id": "58f7545e",
   "metadata": {},
   "source": []
  }
 ],
 "metadata": {
  "kernelspec": {
   "display_name": ".venv",
   "language": "python",
   "name": "python3"
  },
  "language_info": {
   "name": "python",
   "version": "3.12.10"
  }
 },
 "nbformat": 4,
 "nbformat_minor": 5
}
