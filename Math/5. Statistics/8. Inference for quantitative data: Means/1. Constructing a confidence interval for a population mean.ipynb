{
 "cells": [
  {
   "cell_type": "markdown",
   "id": "bb587a70",
   "metadata": {},
   "source": []
  },
  {
   "cell_type": "markdown",
   "id": "86e16e55",
   "metadata": {},
   "source": []
  }
 ],
 "metadata": {
  "kernelspec": {
   "display_name": ".venv",
   "language": "python",
   "name": "python3"
  },
  "language_info": {
   "name": "python",
   "version": "3.12.10"
  }
 },
 "nbformat": 4,
 "nbformat_minor": 5
}
