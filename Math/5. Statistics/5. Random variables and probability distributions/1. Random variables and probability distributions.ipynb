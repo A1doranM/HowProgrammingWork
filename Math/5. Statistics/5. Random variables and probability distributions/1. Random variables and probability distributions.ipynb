{
 "cells": [
  {
   "cell_type": "markdown",
   "id": "7b69627f",
   "metadata": {},
   "source": [
    "# Content"
   ]
  },
  {
   "cell_type": "markdown",
   "id": "1e0acfd3",
   "metadata": {},
   "source": []
  }
 ],
 "metadata": {
  "language_info": {
   "name": "python"
  }
 },
 "nbformat": 4,
 "nbformat_minor": 5
}
