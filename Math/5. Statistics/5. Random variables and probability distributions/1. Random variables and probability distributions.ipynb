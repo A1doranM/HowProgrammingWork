{
 "cells": [
  {
   "cell_type": "markdown",
   "id": "7b69627f",
   "metadata": {},
   "source": [
    "# Content\n",
    "\n",
    "[Constructing a probability distribution for random variable]()\n",
    "\n",
    "[Probability with discrete random variable]()"
   ]
  },
  {
   "cell_type": "markdown",
   "id": "1e0acfd3",
   "metadata": {},
   "source": []
  }
 ],
 "metadata": {
  "kernelspec": {
   "display_name": ".venv",
   "language": "python",
   "name": "python3"
  },
  "language_info": {
   "name": "python",
   "version": "3.12.10"
  }
 },
 "nbformat": 4,
 "nbformat_minor": 5
}
