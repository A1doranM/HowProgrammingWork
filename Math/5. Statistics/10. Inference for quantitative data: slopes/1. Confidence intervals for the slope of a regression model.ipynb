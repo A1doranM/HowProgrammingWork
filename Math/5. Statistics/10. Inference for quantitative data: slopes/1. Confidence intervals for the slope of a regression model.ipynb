{
 "cells": [
  {
   "cell_type": "markdown",
   "id": "dba37679",
   "metadata": {},
   "source": []
  },
  {
   "cell_type": "markdown",
   "id": "08958a2f",
   "metadata": {},
   "source": []
  }
 ],
 "metadata": {
  "language_info": {
   "name": "python"
  }
 },
 "nbformat": 4,
 "nbformat_minor": 5
}
