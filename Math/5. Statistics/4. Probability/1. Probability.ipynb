{
 "cells": [
  {
   "cell_type": "markdown",
   "id": "afe02a61",
   "metadata": {},
   "source": [
    "# Content\n",
    "\n",
    "[Intro to theoretical probability]\n",
    "\n",
    "[Experimental versus theoretical probability simulation]"
   ]
  },
  {
   "cell_type": "markdown",
   "id": "7b8bda8c",
   "metadata": {},
   "source": [
    "# Probability"
   ]
  }
 ],
 "metadata": {
  "language_info": {
   "name": "python"
  }
 },
 "nbformat": 4,
 "nbformat_minor": 5
}
