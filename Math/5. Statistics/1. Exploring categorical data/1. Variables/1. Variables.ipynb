{
 "cells": [
  {
   "cell_type": "markdown",
   "id": "5dc016ec",
   "metadata": {},
   "source": [
    "# Content\n",
    "\n",
    "[Representing a categorical variable with graphs](#representing-a-categorical-variable-with-graphs)\n",
    "\n",
    "[Representing two categorical variables](#representing-two-categorical-variables)\n",
    "\n",
    "[Statistics for two categorical variables](#statistics-for-two-categorical-variables)"
   ]
  },
  {
   "cell_type": "markdown",
   "id": "ecd264dd",
   "metadata": {},
   "source": [
    "## Representing a categorical variable with graphs"
   ]
  },
  {
   "cell_type": "markdown",
   "id": "534e4f1f",
   "metadata": {},
   "source": [
    "## Representing two categorical variables"
   ]
  },
  {
   "cell_type": "markdown",
   "id": "d02bd87e",
   "metadata": {},
   "source": [
    "## Statistics for two categorical variables"
   ]
  }
 ],
 "metadata": {
  "language_info": {
   "name": "python"
  }
 },
 "nbformat": 4,
 "nbformat_minor": 5
}
