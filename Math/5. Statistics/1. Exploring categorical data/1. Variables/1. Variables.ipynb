{
 "cells": [
  {
   "cell_type": "markdown",
   "id": "5dc016ec",
   "metadata": {},
   "source": [
    "# Content"
   ]
  },
  {
   "cell_type": "markdown",
   "id": "ecd264dd",
   "metadata": {},
   "source": [
    "## Representing a categorical variable with graphs"
   ]
  },
  {
   "cell_type": "markdown",
   "id": "534e4f1f",
   "metadata": {},
   "source": [
    "## Representing two categorical variables"
   ]
  }
 ],
 "metadata": {
  "language_info": {
   "name": "python"
  }
 },
 "nbformat": 4,
 "nbformat_minor": 5
}
