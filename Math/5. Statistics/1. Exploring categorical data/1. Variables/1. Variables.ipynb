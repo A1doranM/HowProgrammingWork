{
 "cells": [
  {
   "cell_type": "markdown",
   "id": "5dc016ec",
   "metadata": {},
   "source": [
    "# Content\n",
    "\n",
    "[Representing a categorical variable with graphs](#representing-a-categorical-variable-with-graphs)\n",
    "\n",
    "[Representing two categorical variables](#representing-two-categorical-variables)\n",
    "\n",
    "[Statistics for two categorical variables](#statistics-for-two-categorical-variables)"
   ]
  },
  {
   "cell_type": "markdown",
   "id": "ecd264dd",
   "metadata": {},
   "source": [
    "## Representing a categorical variable with graphs"
   ]
  },
  {
   "cell_type": "code",
   "execution_count": null,
   "id": "385901c4",
   "metadata": {},
   "outputs": [],
   "source": []
  },
  {
   "cell_type": "markdown",
   "id": "534e4f1f",
   "metadata": {},
   "source": [
    "## Representing two categorical variables"
   ]
  },
  {
   "cell_type": "code",
   "execution_count": null,
   "id": "038a0f60",
   "metadata": {},
   "outputs": [],
   "source": []
  },
  {
   "cell_type": "markdown",
   "id": "d02bd87e",
   "metadata": {},
   "source": [
    "## Statistics for two categorical variables"
   ]
  },
  {
   "cell_type": "code",
   "execution_count": null,
   "id": "24d2495b",
   "metadata": {},
   "outputs": [],
   "source": []
  }
 ],
 "metadata": {
  "kernelspec": {
   "display_name": "venv",
   "language": "python",
   "name": "python3"
  },
  "language_info": {
   "name": "python",
   "version": "3.10.12"
  }
 },
 "nbformat": 4,
 "nbformat_minor": 5
}
