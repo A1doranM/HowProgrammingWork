{
 "cells": [
  {
   "cell_type": "markdown",
   "id": "85ff5c1b",
   "metadata": {},
   "source": [
    "# Content\n",
    "\n"
   ]
  },
  {
   "cell_type": "markdown",
   "id": "b9f10cc9",
   "metadata": {},
   "source": [
    "# Exploring one-variable quantitative data: Percentiles, z-scores, and the normal distribution"
   ]
  }
 ],
 "metadata": {
  "language_info": {
   "name": "python"
  }
 },
 "nbformat": 4,
 "nbformat_minor": 5
}
