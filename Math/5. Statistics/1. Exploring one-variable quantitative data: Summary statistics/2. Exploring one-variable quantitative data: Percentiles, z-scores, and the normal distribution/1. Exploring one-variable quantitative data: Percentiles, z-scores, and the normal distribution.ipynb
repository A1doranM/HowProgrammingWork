{
 "cells": [
  {
   "cell_type": "markdown",
   "id": "85ff5c1b",
   "metadata": {},
   "source": [
    "# Content\n",
    "\n"
   ]
  },
  {
   "cell_type": "markdown",
   "id": "b9f10cc9",
   "metadata": {},
   "source": [
    "# Exploring one-variable quantitative data: Percentiles, z-scores, and the normal distribution"
   ]
  }
 ],
 "metadata": {
  "kernelspec": {
   "display_name": "venv",
   "language": "python",
   "name": "python3"
  },
  "language_info": {
   "name": "python",
   "version": "3.10.12"
  }
 },
 "nbformat": 4,
 "nbformat_minor": 5
}
