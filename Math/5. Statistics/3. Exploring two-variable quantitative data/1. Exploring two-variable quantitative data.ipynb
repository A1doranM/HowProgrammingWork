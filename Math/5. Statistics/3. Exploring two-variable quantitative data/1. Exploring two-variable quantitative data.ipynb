{
 "cells": [
  {
   "cell_type": "markdown",
   "id": "29603ff5",
   "metadata": {},
   "source": [
    "# Content"
   ]
  },
  {
   "cell_type": "markdown",
   "id": "713e07a1",
   "metadata": {},
   "source": [
    "## Exploring two-variable quantitative data"
   ]
  }
 ],
 "metadata": {
  "kernelspec": {
   "display_name": "venv",
   "language": "python",
   "name": "python3"
  },
  "language_info": {
   "name": "python",
   "version": "3.10.12"
  }
 },
 "nbformat": 4,
 "nbformat_minor": 5
}
