{
 "cells": [
  {
   "metadata": {},
   "cell_type": "markdown",
   "source": [
    "# Log Returns\n",
    "\n",
    " Logarithmic returns, also known as log returns, are a way of measuring the percentage change in the value of an asset over a period of time."
   ],
   "id": "d49e1e61d6e951a1"
  },
  {
   "metadata": {
    "ExecuteTime": {
     "end_time": "2024-10-29T13:42:30.984833Z",
     "start_time": "2024-10-29T13:42:30.384799Z"
    }
   },
   "cell_type": "code",
   "source": [
    "import pandas as pd\n",
    "import numpy as np\n"
   ],
   "id": "65eb12538d610ec8",
   "outputs": [],
   "execution_count": 1
  },
  {
   "metadata": {
    "ExecuteTime": {
     "end_time": "2024-10-29T13:43:00.739746Z",
     "start_time": "2024-10-29T13:43:00.695749Z"
    }
   },
   "cell_type": "code",
   "source": [
    "BA = pd.read_csv('ba_csv.csv', index_col=\"Date\", parse_dates=[\"Date\"])\n",
    "BA"
   ],
   "id": "b9ce6aadb006c59c",
   "outputs": [
    {
     "data": {
      "text/plain": [
       "                                Price   Returns\n",
       "Date                                           \n",
       "2014-10-21 00:00:00+00:00  127.120003       NaN\n",
       "2014-10-22 00:00:00+00:00  121.449997 -0.044604\n",
       "2014-10-23 00:00:00+00:00  122.029999  0.004776\n",
       "2014-10-24 00:00:00+00:00  122.239998  0.001721\n",
       "2014-10-27 00:00:00+00:00  122.120003 -0.000982\n",
       "...                               ...       ...\n",
       "2024-10-14 00:00:00+00:00  148.990005 -0.013442\n",
       "2024-10-15 00:00:00+00:00  152.350006  0.022552\n",
       "2024-10-16 00:00:00+00:00  154.899994  0.016738\n",
       "2024-10-17 00:00:00+00:00  155.309998  0.002647\n",
       "2024-10-18 00:00:00+00:00  155.000000 -0.001996\n",
       "\n",
       "[2516 rows x 2 columns]"
      ],
      "text/html": [
       "<div>\n",
       "<style scoped>\n",
       "    .dataframe tbody tr th:only-of-type {\n",
       "        vertical-align: middle;\n",
       "    }\n",
       "\n",
       "    .dataframe tbody tr th {\n",
       "        vertical-align: top;\n",
       "    }\n",
       "\n",
       "    .dataframe thead th {\n",
       "        text-align: right;\n",
       "    }\n",
       "</style>\n",
       "<table border=\"1\" class=\"dataframe\">\n",
       "  <thead>\n",
       "    <tr style=\"text-align: right;\">\n",
       "      <th></th>\n",
       "      <th>Price</th>\n",
       "      <th>Returns</th>\n",
       "    </tr>\n",
       "    <tr>\n",
       "      <th>Date</th>\n",
       "      <th></th>\n",
       "      <th></th>\n",
       "    </tr>\n",
       "  </thead>\n",
       "  <tbody>\n",
       "    <tr>\n",
       "      <th>2014-10-21 00:00:00+00:00</th>\n",
       "      <td>127.120003</td>\n",
       "      <td>NaN</td>\n",
       "    </tr>\n",
       "    <tr>\n",
       "      <th>2014-10-22 00:00:00+00:00</th>\n",
       "      <td>121.449997</td>\n",
       "      <td>-0.044604</td>\n",
       "    </tr>\n",
       "    <tr>\n",
       "      <th>2014-10-23 00:00:00+00:00</th>\n",
       "      <td>122.029999</td>\n",
       "      <td>0.004776</td>\n",
       "    </tr>\n",
       "    <tr>\n",
       "      <th>2014-10-24 00:00:00+00:00</th>\n",
       "      <td>122.239998</td>\n",
       "      <td>0.001721</td>\n",
       "    </tr>\n",
       "    <tr>\n",
       "      <th>2014-10-27 00:00:00+00:00</th>\n",
       "      <td>122.120003</td>\n",
       "      <td>-0.000982</td>\n",
       "    </tr>\n",
       "    <tr>\n",
       "      <th>...</th>\n",
       "      <td>...</td>\n",
       "      <td>...</td>\n",
       "    </tr>\n",
       "    <tr>\n",
       "      <th>2024-10-14 00:00:00+00:00</th>\n",
       "      <td>148.990005</td>\n",
       "      <td>-0.013442</td>\n",
       "    </tr>\n",
       "    <tr>\n",
       "      <th>2024-10-15 00:00:00+00:00</th>\n",
       "      <td>152.350006</td>\n",
       "      <td>0.022552</td>\n",
       "    </tr>\n",
       "    <tr>\n",
       "      <th>2024-10-16 00:00:00+00:00</th>\n",
       "      <td>154.899994</td>\n",
       "      <td>0.016738</td>\n",
       "    </tr>\n",
       "    <tr>\n",
       "      <th>2024-10-17 00:00:00+00:00</th>\n",
       "      <td>155.309998</td>\n",
       "      <td>0.002647</td>\n",
       "    </tr>\n",
       "    <tr>\n",
       "      <th>2024-10-18 00:00:00+00:00</th>\n",
       "      <td>155.000000</td>\n",
       "      <td>-0.001996</td>\n",
       "    </tr>\n",
       "  </tbody>\n",
       "</table>\n",
       "<p>2516 rows × 2 columns</p>\n",
       "</div>"
      ]
     },
     "execution_count": 2,
     "metadata": {},
     "output_type": "execute_result"
    }
   ],
   "execution_count": 2
  },
  {
   "metadata": {
    "ExecuteTime": {
     "end_time": "2024-10-29T13:44:28.541739Z",
     "start_time": "2024-10-29T13:44:28.529255Z"
    }
   },
   "cell_type": "code",
   "source": [
    "BA[\"log_ret_daily\"] = np.log(BA.Price / BA.Price.shift()) # daily log returns\n",
    "BA"
   ],
   "id": "7902ceb45bdb2387",
   "outputs": [
    {
     "data": {
      "text/plain": [
       "                                Price   Returns  log_ret_daily\n",
       "Date                                                          \n",
       "2014-10-21 00:00:00+00:00  127.120003       NaN            NaN\n",
       "2014-10-22 00:00:00+00:00  121.449997 -0.044604      -0.045629\n",
       "2014-10-23 00:00:00+00:00  122.029999  0.004776       0.004764\n",
       "2014-10-24 00:00:00+00:00  122.239998  0.001721       0.001719\n",
       "2014-10-27 00:00:00+00:00  122.120003 -0.000982      -0.000982\n",
       "...                               ...       ...            ...\n",
       "2024-10-14 00:00:00+00:00  148.990005 -0.013442      -0.013533\n",
       "2024-10-15 00:00:00+00:00  152.350006  0.022552       0.022301\n",
       "2024-10-16 00:00:00+00:00  154.899994  0.016738       0.016599\n",
       "2024-10-17 00:00:00+00:00  155.309998  0.002647       0.002643\n",
       "2024-10-18 00:00:00+00:00  155.000000 -0.001996      -0.001998\n",
       "\n",
       "[2516 rows x 3 columns]"
      ],
      "text/html": [
       "<div>\n",
       "<style scoped>\n",
       "    .dataframe tbody tr th:only-of-type {\n",
       "        vertical-align: middle;\n",
       "    }\n",
       "\n",
       "    .dataframe tbody tr th {\n",
       "        vertical-align: top;\n",
       "    }\n",
       "\n",
       "    .dataframe thead th {\n",
       "        text-align: right;\n",
       "    }\n",
       "</style>\n",
       "<table border=\"1\" class=\"dataframe\">\n",
       "  <thead>\n",
       "    <tr style=\"text-align: right;\">\n",
       "      <th></th>\n",
       "      <th>Price</th>\n",
       "      <th>Returns</th>\n",
       "      <th>log_ret_daily</th>\n",
       "    </tr>\n",
       "    <tr>\n",
       "      <th>Date</th>\n",
       "      <th></th>\n",
       "      <th></th>\n",
       "      <th></th>\n",
       "    </tr>\n",
       "  </thead>\n",
       "  <tbody>\n",
       "    <tr>\n",
       "      <th>2014-10-21 00:00:00+00:00</th>\n",
       "      <td>127.120003</td>\n",
       "      <td>NaN</td>\n",
       "      <td>NaN</td>\n",
       "    </tr>\n",
       "    <tr>\n",
       "      <th>2014-10-22 00:00:00+00:00</th>\n",
       "      <td>121.449997</td>\n",
       "      <td>-0.044604</td>\n",
       "      <td>-0.045629</td>\n",
       "    </tr>\n",
       "    <tr>\n",
       "      <th>2014-10-23 00:00:00+00:00</th>\n",
       "      <td>122.029999</td>\n",
       "      <td>0.004776</td>\n",
       "      <td>0.004764</td>\n",
       "    </tr>\n",
       "    <tr>\n",
       "      <th>2014-10-24 00:00:00+00:00</th>\n",
       "      <td>122.239998</td>\n",
       "      <td>0.001721</td>\n",
       "      <td>0.001719</td>\n",
       "    </tr>\n",
       "    <tr>\n",
       "      <th>2014-10-27 00:00:00+00:00</th>\n",
       "      <td>122.120003</td>\n",
       "      <td>-0.000982</td>\n",
       "      <td>-0.000982</td>\n",
       "    </tr>\n",
       "    <tr>\n",
       "      <th>...</th>\n",
       "      <td>...</td>\n",
       "      <td>...</td>\n",
       "      <td>...</td>\n",
       "    </tr>\n",
       "    <tr>\n",
       "      <th>2024-10-14 00:00:00+00:00</th>\n",
       "      <td>148.990005</td>\n",
       "      <td>-0.013442</td>\n",
       "      <td>-0.013533</td>\n",
       "    </tr>\n",
       "    <tr>\n",
       "      <th>2024-10-15 00:00:00+00:00</th>\n",
       "      <td>152.350006</td>\n",
       "      <td>0.022552</td>\n",
       "      <td>0.022301</td>\n",
       "    </tr>\n",
       "    <tr>\n",
       "      <th>2024-10-16 00:00:00+00:00</th>\n",
       "      <td>154.899994</td>\n",
       "      <td>0.016738</td>\n",
       "      <td>0.016599</td>\n",
       "    </tr>\n",
       "    <tr>\n",
       "      <th>2024-10-17 00:00:00+00:00</th>\n",
       "      <td>155.309998</td>\n",
       "      <td>0.002647</td>\n",
       "      <td>0.002643</td>\n",
       "    </tr>\n",
       "    <tr>\n",
       "      <th>2024-10-18 00:00:00+00:00</th>\n",
       "      <td>155.000000</td>\n",
       "      <td>-0.001996</td>\n",
       "      <td>-0.001998</td>\n",
       "    </tr>\n",
       "  </tbody>\n",
       "</table>\n",
       "<p>2516 rows × 3 columns</p>\n",
       "</div>"
      ]
     },
     "execution_count": 3,
     "metadata": {},
     "output_type": "execute_result"
    }
   ],
   "execution_count": 3
  },
  {
   "metadata": {
    "ExecuteTime": {
     "end_time": "2024-10-29T13:44:54.663909Z",
     "start_time": "2024-10-29T13:44:54.660083Z"
    }
   },
   "cell_type": "code",
   "source": [
    "BA_mean_log_ret = BA[\"log_ret_daily\"].mean()\n",
    "BA_mean_log_ret"
   ],
   "id": "d7e63b37e9c771be",
   "outputs": [
    {
     "data": {
      "text/plain": [
       "7.884436305549568e-05"
      ]
     },
     "execution_count": 4,
     "metadata": {},
     "output_type": "execute_result"
    }
   ],
   "execution_count": 4
  },
  {
   "metadata": {
    "ExecuteTime": {
     "end_time": "2024-10-29T13:45:48.937090Z",
     "start_time": "2024-10-29T13:45:48.932885Z"
    }
   },
   "cell_type": "code",
   "source": [
    "sigma = BA[\"log_ret_daily\"].std() # standard deviation of log returns -> Risk/Volatility\n",
    "sigma"
   ],
   "id": "16a0adb737067408",
   "outputs": [
    {
     "data": {
      "text/plain": [
       "0.02536894404295705"
      ]
     },
     "execution_count": 5,
     "metadata": {},
     "output_type": "execute_result"
    }
   ],
   "execution_count": 5
  },
  {
   "metadata": {
    "ExecuteTime": {
     "end_time": "2024-10-29T13:46:28.422051Z",
     "start_time": "2024-10-29T13:46:28.410462Z"
    }
   },
   "cell_type": "code",
   "source": "BA.describe()",
   "id": "34e8b4024dd59294",
   "outputs": [
    {
     "data": {
      "text/plain": [
       "             Price      Returns  log_ret_daily\n",
       "count  2516.000000  2515.000000    2515.000000\n",
       "mean    217.283299     0.000399       0.000079\n",
       "std      80.527555     0.025300       0.025369\n",
       "min      95.010002    -0.238484      -0.272444\n",
       "25%     149.777500    -0.010068      -0.010119\n",
       "50%     197.495003     0.000291       0.000291\n",
       "75%     255.654995     0.010768       0.010711\n",
       "max     440.619995     0.243186       0.217677"
      ],
      "text/html": [
       "<div>\n",
       "<style scoped>\n",
       "    .dataframe tbody tr th:only-of-type {\n",
       "        vertical-align: middle;\n",
       "    }\n",
       "\n",
       "    .dataframe tbody tr th {\n",
       "        vertical-align: top;\n",
       "    }\n",
       "\n",
       "    .dataframe thead th {\n",
       "        text-align: right;\n",
       "    }\n",
       "</style>\n",
       "<table border=\"1\" class=\"dataframe\">\n",
       "  <thead>\n",
       "    <tr style=\"text-align: right;\">\n",
       "      <th></th>\n",
       "      <th>Price</th>\n",
       "      <th>Returns</th>\n",
       "      <th>log_ret_daily</th>\n",
       "    </tr>\n",
       "  </thead>\n",
       "  <tbody>\n",
       "    <tr>\n",
       "      <th>count</th>\n",
       "      <td>2516.000000</td>\n",
       "      <td>2515.000000</td>\n",
       "      <td>2515.000000</td>\n",
       "    </tr>\n",
       "    <tr>\n",
       "      <th>mean</th>\n",
       "      <td>217.283299</td>\n",
       "      <td>0.000399</td>\n",
       "      <td>0.000079</td>\n",
       "    </tr>\n",
       "    <tr>\n",
       "      <th>std</th>\n",
       "      <td>80.527555</td>\n",
       "      <td>0.025300</td>\n",
       "      <td>0.025369</td>\n",
       "    </tr>\n",
       "    <tr>\n",
       "      <th>min</th>\n",
       "      <td>95.010002</td>\n",
       "      <td>-0.238484</td>\n",
       "      <td>-0.272444</td>\n",
       "    </tr>\n",
       "    <tr>\n",
       "      <th>25%</th>\n",
       "      <td>149.777500</td>\n",
       "      <td>-0.010068</td>\n",
       "      <td>-0.010119</td>\n",
       "    </tr>\n",
       "    <tr>\n",
       "      <th>50%</th>\n",
       "      <td>197.495003</td>\n",
       "      <td>0.000291</td>\n",
       "      <td>0.000291</td>\n",
       "    </tr>\n",
       "    <tr>\n",
       "      <th>75%</th>\n",
       "      <td>255.654995</td>\n",
       "      <td>0.010768</td>\n",
       "      <td>0.010711</td>\n",
       "    </tr>\n",
       "    <tr>\n",
       "      <th>max</th>\n",
       "      <td>440.619995</td>\n",
       "      <td>0.243186</td>\n",
       "      <td>0.217677</td>\n",
       "    </tr>\n",
       "  </tbody>\n",
       "</table>\n",
       "</div>"
      ]
     },
     "execution_count": 6,
     "metadata": {},
     "output_type": "execute_result"
    }
   ],
   "execution_count": 6
  },
  {
   "metadata": {},
   "cell_type": "markdown",
   "source": "# Simple Returns vs Log Returns (Part 1)",
   "id": "b77d229d985da9e7"
  },
  {
   "metadata": {
    "ExecuteTime": {
     "end_time": "2024-10-29T14:53:43.443748Z",
     "start_time": "2024-10-29T14:53:43.436421Z"
    }
   },
   "cell_type": "code",
   "source": [
    "df = pd.DataFrame(data = [100, 50, 90], columns=[\"Price\"])\n",
    "df"
   ],
   "id": "73ef25bb4ba78fee",
   "outputs": [
    {
     "data": {
      "text/plain": [
       "   Price\n",
       "0    100\n",
       "1     50\n",
       "2     90"
      ],
      "text/html": [
       "<div>\n",
       "<style scoped>\n",
       "    .dataframe tbody tr th:only-of-type {\n",
       "        vertical-align: middle;\n",
       "    }\n",
       "\n",
       "    .dataframe tbody tr th {\n",
       "        vertical-align: top;\n",
       "    }\n",
       "\n",
       "    .dataframe thead th {\n",
       "        text-align: right;\n",
       "    }\n",
       "</style>\n",
       "<table border=\"1\" class=\"dataframe\">\n",
       "  <thead>\n",
       "    <tr style=\"text-align: right;\">\n",
       "      <th></th>\n",
       "      <th>Price</th>\n",
       "    </tr>\n",
       "  </thead>\n",
       "  <tbody>\n",
       "    <tr>\n",
       "      <th>0</th>\n",
       "      <td>100</td>\n",
       "    </tr>\n",
       "    <tr>\n",
       "      <th>1</th>\n",
       "      <td>50</td>\n",
       "    </tr>\n",
       "    <tr>\n",
       "      <th>2</th>\n",
       "      <td>90</td>\n",
       "    </tr>\n",
       "  </tbody>\n",
       "</table>\n",
       "</div>"
      ]
     },
     "execution_count": 7,
     "metadata": {},
     "output_type": "execute_result"
    }
   ],
   "execution_count": 7
  },
  {
   "metadata": {
    "ExecuteTime": {
     "end_time": "2024-10-29T14:55:17.042929Z",
     "start_time": "2024-10-29T14:55:17.039412Z"
    }
   },
   "cell_type": "code",
   "source": "df[\"SR\"] = df.Price.pct_change() # simple returns",
   "id": "bdf8cd9608efea2c",
   "outputs": [],
   "execution_count": 8
  },
  {
   "metadata": {
    "ExecuteTime": {
     "end_time": "2024-10-29T14:56:28.000476Z",
     "start_time": "2024-10-29T14:56:27.996588Z"
    }
   },
   "cell_type": "code",
   "source": "df[\"LR\"] = np.log(df.Price / df.Price.shift()) # log returns",
   "id": "51f30698b5193452",
   "outputs": [],
   "execution_count": 10
  },
  {
   "metadata": {
    "ExecuteTime": {
     "end_time": "2024-10-29T14:56:29.704706Z",
     "start_time": "2024-10-29T14:56:29.699112Z"
    }
   },
   "cell_type": "code",
   "source": "df",
   "id": "efe896d237a830ec",
   "outputs": [
    {
     "data": {
      "text/plain": [
       "   Price   SR        LR\n",
       "0    100  NaN       NaN\n",
       "1     50 -0.5 -0.693147\n",
       "2     90  0.8  0.587787"
      ],
      "text/html": [
       "<div>\n",
       "<style scoped>\n",
       "    .dataframe tbody tr th:only-of-type {\n",
       "        vertical-align: middle;\n",
       "    }\n",
       "\n",
       "    .dataframe tbody tr th {\n",
       "        vertical-align: top;\n",
       "    }\n",
       "\n",
       "    .dataframe thead th {\n",
       "        text-align: right;\n",
       "    }\n",
       "</style>\n",
       "<table border=\"1\" class=\"dataframe\">\n",
       "  <thead>\n",
       "    <tr style=\"text-align: right;\">\n",
       "      <th></th>\n",
       "      <th>Price</th>\n",
       "      <th>SR</th>\n",
       "      <th>LR</th>\n",
       "    </tr>\n",
       "  </thead>\n",
       "  <tbody>\n",
       "    <tr>\n",
       "      <th>0</th>\n",
       "      <td>100</td>\n",
       "      <td>NaN</td>\n",
       "      <td>NaN</td>\n",
       "    </tr>\n",
       "    <tr>\n",
       "      <th>1</th>\n",
       "      <td>50</td>\n",
       "      <td>-0.5</td>\n",
       "      <td>-0.693147</td>\n",
       "    </tr>\n",
       "    <tr>\n",
       "      <th>2</th>\n",
       "      <td>90</td>\n",
       "      <td>0.8</td>\n",
       "      <td>0.587787</td>\n",
       "    </tr>\n",
       "  </tbody>\n",
       "</table>\n",
       "</div>"
      ]
     },
     "execution_count": 11,
     "metadata": {},
     "output_type": "execute_result"
    }
   ],
   "execution_count": 11
  },
  {
   "metadata": {
    "ExecuteTime": {
     "end_time": "2024-10-29T14:57:13.188779Z",
     "start_time": "2024-10-29T14:57:13.184649Z"
    }
   },
   "cell_type": "code",
   "source": [
    "periods = df.SR.count()\n",
    "periods"
   ],
   "id": "e336216b9d73c68b",
   "outputs": [
    {
     "data": {
      "text/plain": [
       "2"
      ]
     },
     "execution_count": 12,
     "metadata": {},
     "output_type": "execute_result"
    }
   ],
   "execution_count": 12
  },
  {
   "metadata": {
    "ExecuteTime": {
     "end_time": "2024-10-29T14:59:01.191154Z",
     "start_time": "2024-10-29T14:59:01.187347Z"
    }
   },
   "cell_type": "code",
   "source": [
    "mean_sr = df.SR.mean()\n",
    "mean_sr"
   ],
   "id": "ac5d21f368b7975f",
   "outputs": [
    {
     "data": {
      "text/plain": [
       "0.15000000000000002"
      ]
     },
     "execution_count": 13,
     "metadata": {},
     "output_type": "execute_result"
    }
   ],
   "execution_count": 13
  },
  {
   "metadata": {},
   "cell_type": "markdown",
   "source": "***The arithmetic mean of simple returns can be misleading*** Log Returns are better choice which are additive over time!",
   "id": "6973ce818722766c"
  },
  {
   "metadata": {
    "ExecuteTime": {
     "end_time": "2024-10-29T15:07:01.050501Z",
     "start_time": "2024-10-29T15:07:01.046089Z"
    }
   },
   "cell_type": "code",
   "source": [
    "sum_lr = df.LR.sum()\n",
    "sum_lr"
   ],
   "id": "df9838da10d457a3",
   "outputs": [
    {
     "data": {
      "text/plain": [
       "-0.10536051565782623"
      ]
     },
     "execution_count": 15,
     "metadata": {},
     "output_type": "execute_result"
    }
   ],
   "execution_count": 15
  },
  {
   "metadata": {
    "ExecuteTime": {
     "end_time": "2024-10-29T15:07:17.770250Z",
     "start_time": "2024-10-29T15:07:17.767194Z"
    }
   },
   "cell_type": "code",
   "source": "100 * np.exp(sum_lr)",
   "id": "796f86d9cbce5b50",
   "outputs": [
    {
     "data": {
      "text/plain": [
       "90.0"
      ]
     },
     "execution_count": 16,
     "metadata": {},
     "output_type": "execute_result"
    }
   ],
   "execution_count": 16
  },
  {
   "metadata": {
    "ExecuteTime": {
     "end_time": "2024-10-29T15:07:29.447310Z",
     "start_time": "2024-10-29T15:07:29.444101Z"
    }
   },
   "cell_type": "code",
   "source": [
    "mean_lr = df.LR.mean()\n",
    "mean_lr"
   ],
   "id": "262dafe3057af297",
   "outputs": [
    {
     "data": {
      "text/plain": [
       "-0.05268025782891311"
      ]
     },
     "execution_count": 17,
     "metadata": {},
     "output_type": "execute_result"
    }
   ],
   "execution_count": 17
  },
  {
   "metadata": {
    "ExecuteTime": {
     "end_time": "2024-10-29T15:08:21.054186Z",
     "start_time": "2024-10-29T15:08:21.050204Z"
    }
   },
   "cell_type": "code",
   "source": "100 * np.exp(mean_lr * periods)",
   "id": "1cb1547fae6c3aaa",
   "outputs": [
    {
     "data": {
      "text/plain": [
       "90.0"
      ]
     },
     "execution_count": 18,
     "metadata": {},
     "output_type": "execute_result"
    }
   ],
   "execution_count": 18
  },
  {
   "metadata": {},
   "cell_type": "markdown",
   "source": "Log Returns are additive over time. Simple Returns are not additive over time (but they can be multiplied/compounded)",
   "id": "20238ac36696be1"
  },
  {
   "metadata": {},
   "cell_type": "markdown",
   "source": "# Investment Multiple ",
   "id": "cda19a82936c3f54"
  },
  {
   "metadata": {
    "ExecuteTime": {
     "end_time": "2024-10-29T15:11:38.087865Z",
     "start_time": "2024-10-29T15:11:38.075348Z"
    }
   },
   "cell_type": "code",
   "source": "BA.Returns.add(1).cumprod() # compounding simple returns (\"compound returns\")",
   "id": "ff9402522474a33c",
   "outputs": [
    {
     "data": {
      "text/plain": [
       "Date\n",
       "2014-10-21 00:00:00+00:00         NaN\n",
       "2014-10-22 00:00:00+00:00    0.955396\n",
       "2014-10-23 00:00:00+00:00    0.959959\n",
       "2014-10-24 00:00:00+00:00    0.961611\n",
       "2014-10-27 00:00:00+00:00    0.960667\n",
       "                               ...   \n",
       "2024-10-14 00:00:00+00:00    1.172042\n",
       "2024-10-15 00:00:00+00:00    1.198474\n",
       "2024-10-16 00:00:00+00:00    1.218534\n",
       "2024-10-17 00:00:00+00:00    1.221759\n",
       "2024-10-18 00:00:00+00:00    1.219320\n",
       "Name: Returns, Length: 2516, dtype: float64"
      ]
     },
     "execution_count": 21,
     "metadata": {},
     "output_type": "execute_result"
    }
   ],
   "execution_count": 21
  },
  {
   "metadata": {
    "ExecuteTime": {
     "end_time": "2024-10-29T15:11:38.618361Z",
     "start_time": "2024-10-29T15:11:38.612458Z"
    }
   },
   "cell_type": "code",
   "source": "np.exp(BA.log_ret_daily.cumsum()) # adding log returns (\"cumulative returns\")",
   "id": "cfc259646bca9b75",
   "outputs": [
    {
     "data": {
      "text/plain": [
       "Date\n",
       "2014-10-21 00:00:00+00:00         NaN\n",
       "2014-10-22 00:00:00+00:00    0.955396\n",
       "2014-10-23 00:00:00+00:00    0.959959\n",
       "2014-10-24 00:00:00+00:00    0.961611\n",
       "2014-10-27 00:00:00+00:00    0.960667\n",
       "                               ...   \n",
       "2024-10-14 00:00:00+00:00    1.172042\n",
       "2024-10-15 00:00:00+00:00    1.198474\n",
       "2024-10-16 00:00:00+00:00    1.218534\n",
       "2024-10-17 00:00:00+00:00    1.221759\n",
       "2024-10-18 00:00:00+00:00    1.219320\n",
       "Name: log_ret_daily, Length: 2516, dtype: float64"
      ]
     },
     "execution_count": 22,
     "metadata": {},
     "output_type": "execute_result"
    }
   ],
   "execution_count": 22
  },
  {
   "metadata": {},
   "cell_type": "code",
   "outputs": [],
   "execution_count": null,
   "source": "",
   "id": "6ad85d1d137964c2"
  }
 ],
 "metadata": {
  "kernelspec": {
   "display_name": "Python 3",
   "language": "python",
   "name": "python3"
  },
  "language_info": {
   "codemirror_mode": {
    "name": "ipython",
    "version": 2
   },
   "file_extension": ".py",
   "mimetype": "text/x-python",
   "name": "python",
   "nbconvert_exporter": "python",
   "pygments_lexer": "ipython2",
   "version": "2.7.6"
  }
 },
 "nbformat": 4,
 "nbformat_minor": 5
}
