{
 "cells": [
  {
   "metadata": {},
   "cell_type": "markdown",
   "source": [
    "# Log Returns\n",
    "\n",
    " Logarithmic returns, also known as log returns, are a way of measuring the percentage change in the value of an asset over a period of time."
   ],
   "id": "d49e1e61d6e951a1"
  },
  {
   "metadata": {
    "ExecuteTime": {
     "end_time": "2024-10-29T13:42:30.984833Z",
     "start_time": "2024-10-29T13:42:30.384799Z"
    }
   },
   "cell_type": "code",
   "source": [
    "import pandas as pd\n",
    "import numpy as np\n"
   ],
   "id": "65eb12538d610ec8",
   "outputs": [],
   "execution_count": 1
  },
  {
   "metadata": {
    "ExecuteTime": {
     "end_time": "2024-10-29T13:43:00.739746Z",
     "start_time": "2024-10-29T13:43:00.695749Z"
    }
   },
   "cell_type": "code",
   "source": [
    "BA = pd.read_csv('ba_csv.csv', index_col=\"Date\", parse_dates=[\"Date\"])\n",
    "BA"
   ],
   "id": "b9ce6aadb006c59c",
   "outputs": [
    {
     "data": {
      "text/plain": [
       "                                Price   Returns\n",
       "Date                                           \n",
       "2014-10-21 00:00:00+00:00  127.120003       NaN\n",
       "2014-10-22 00:00:00+00:00  121.449997 -0.044604\n",
       "2014-10-23 00:00:00+00:00  122.029999  0.004776\n",
       "2014-10-24 00:00:00+00:00  122.239998  0.001721\n",
       "2014-10-27 00:00:00+00:00  122.120003 -0.000982\n",
       "...                               ...       ...\n",
       "2024-10-14 00:00:00+00:00  148.990005 -0.013442\n",
       "2024-10-15 00:00:00+00:00  152.350006  0.022552\n",
       "2024-10-16 00:00:00+00:00  154.899994  0.016738\n",
       "2024-10-17 00:00:00+00:00  155.309998  0.002647\n",
       "2024-10-18 00:00:00+00:00  155.000000 -0.001996\n",
       "\n",
       "[2516 rows x 2 columns]"
      ],
      "text/html": [
       "<div>\n",
       "<style scoped>\n",
       "    .dataframe tbody tr th:only-of-type {\n",
       "        vertical-align: middle;\n",
       "    }\n",
       "\n",
       "    .dataframe tbody tr th {\n",
       "        vertical-align: top;\n",
       "    }\n",
       "\n",
       "    .dataframe thead th {\n",
       "        text-align: right;\n",
       "    }\n",
       "</style>\n",
       "<table border=\"1\" class=\"dataframe\">\n",
       "  <thead>\n",
       "    <tr style=\"text-align: right;\">\n",
       "      <th></th>\n",
       "      <th>Price</th>\n",
       "      <th>Returns</th>\n",
       "    </tr>\n",
       "    <tr>\n",
       "      <th>Date</th>\n",
       "      <th></th>\n",
       "      <th></th>\n",
       "    </tr>\n",
       "  </thead>\n",
       "  <tbody>\n",
       "    <tr>\n",
       "      <th>2014-10-21 00:00:00+00:00</th>\n",
       "      <td>127.120003</td>\n",
       "      <td>NaN</td>\n",
       "    </tr>\n",
       "    <tr>\n",
       "      <th>2014-10-22 00:00:00+00:00</th>\n",
       "      <td>121.449997</td>\n",
       "      <td>-0.044604</td>\n",
       "    </tr>\n",
       "    <tr>\n",
       "      <th>2014-10-23 00:00:00+00:00</th>\n",
       "      <td>122.029999</td>\n",
       "      <td>0.004776</td>\n",
       "    </tr>\n",
       "    <tr>\n",
       "      <th>2014-10-24 00:00:00+00:00</th>\n",
       "      <td>122.239998</td>\n",
       "      <td>0.001721</td>\n",
       "    </tr>\n",
       "    <tr>\n",
       "      <th>2014-10-27 00:00:00+00:00</th>\n",
       "      <td>122.120003</td>\n",
       "      <td>-0.000982</td>\n",
       "    </tr>\n",
       "    <tr>\n",
       "      <th>...</th>\n",
       "      <td>...</td>\n",
       "      <td>...</td>\n",
       "    </tr>\n",
       "    <tr>\n",
       "      <th>2024-10-14 00:00:00+00:00</th>\n",
       "      <td>148.990005</td>\n",
       "      <td>-0.013442</td>\n",
       "    </tr>\n",
       "    <tr>\n",
       "      <th>2024-10-15 00:00:00+00:00</th>\n",
       "      <td>152.350006</td>\n",
       "      <td>0.022552</td>\n",
       "    </tr>\n",
       "    <tr>\n",
       "      <th>2024-10-16 00:00:00+00:00</th>\n",
       "      <td>154.899994</td>\n",
       "      <td>0.016738</td>\n",
       "    </tr>\n",
       "    <tr>\n",
       "      <th>2024-10-17 00:00:00+00:00</th>\n",
       "      <td>155.309998</td>\n",
       "      <td>0.002647</td>\n",
       "    </tr>\n",
       "    <tr>\n",
       "      <th>2024-10-18 00:00:00+00:00</th>\n",
       "      <td>155.000000</td>\n",
       "      <td>-0.001996</td>\n",
       "    </tr>\n",
       "  </tbody>\n",
       "</table>\n",
       "<p>2516 rows × 2 columns</p>\n",
       "</div>"
      ]
     },
     "execution_count": 2,
     "metadata": {},
     "output_type": "execute_result"
    }
   ],
   "execution_count": 2
  },
  {
   "metadata": {
    "ExecuteTime": {
     "end_time": "2024-10-29T13:44:28.541739Z",
     "start_time": "2024-10-29T13:44:28.529255Z"
    }
   },
   "cell_type": "code",
   "source": [
    "BA[\"log_ret_daily\"] = np.log(BA.Price / BA.Price.shift()) # daily log returns\n",
    "BA"
   ],
   "id": "7902ceb45bdb2387",
   "outputs": [
    {
     "data": {
      "text/plain": [
       "                                Price   Returns  log_ret_daily\n",
       "Date                                                          \n",
       "2014-10-21 00:00:00+00:00  127.120003       NaN            NaN\n",
       "2014-10-22 00:00:00+00:00  121.449997 -0.044604      -0.045629\n",
       "2014-10-23 00:00:00+00:00  122.029999  0.004776       0.004764\n",
       "2014-10-24 00:00:00+00:00  122.239998  0.001721       0.001719\n",
       "2014-10-27 00:00:00+00:00  122.120003 -0.000982      -0.000982\n",
       "...                               ...       ...            ...\n",
       "2024-10-14 00:00:00+00:00  148.990005 -0.013442      -0.013533\n",
       "2024-10-15 00:00:00+00:00  152.350006  0.022552       0.022301\n",
       "2024-10-16 00:00:00+00:00  154.899994  0.016738       0.016599\n",
       "2024-10-17 00:00:00+00:00  155.309998  0.002647       0.002643\n",
       "2024-10-18 00:00:00+00:00  155.000000 -0.001996      -0.001998\n",
       "\n",
       "[2516 rows x 3 columns]"
      ],
      "text/html": [
       "<div>\n",
       "<style scoped>\n",
       "    .dataframe tbody tr th:only-of-type {\n",
       "        vertical-align: middle;\n",
       "    }\n",
       "\n",
       "    .dataframe tbody tr th {\n",
       "        vertical-align: top;\n",
       "    }\n",
       "\n",
       "    .dataframe thead th {\n",
       "        text-align: right;\n",
       "    }\n",
       "</style>\n",
       "<table border=\"1\" class=\"dataframe\">\n",
       "  <thead>\n",
       "    <tr style=\"text-align: right;\">\n",
       "      <th></th>\n",
       "      <th>Price</th>\n",
       "      <th>Returns</th>\n",
       "      <th>log_ret_daily</th>\n",
       "    </tr>\n",
       "    <tr>\n",
       "      <th>Date</th>\n",
       "      <th></th>\n",
       "      <th></th>\n",
       "      <th></th>\n",
       "    </tr>\n",
       "  </thead>\n",
       "  <tbody>\n",
       "    <tr>\n",
       "      <th>2014-10-21 00:00:00+00:00</th>\n",
       "      <td>127.120003</td>\n",
       "      <td>NaN</td>\n",
       "      <td>NaN</td>\n",
       "    </tr>\n",
       "    <tr>\n",
       "      <th>2014-10-22 00:00:00+00:00</th>\n",
       "      <td>121.449997</td>\n",
       "      <td>-0.044604</td>\n",
       "      <td>-0.045629</td>\n",
       "    </tr>\n",
       "    <tr>\n",
       "      <th>2014-10-23 00:00:00+00:00</th>\n",
       "      <td>122.029999</td>\n",
       "      <td>0.004776</td>\n",
       "      <td>0.004764</td>\n",
       "    </tr>\n",
       "    <tr>\n",
       "      <th>2014-10-24 00:00:00+00:00</th>\n",
       "      <td>122.239998</td>\n",
       "      <td>0.001721</td>\n",
       "      <td>0.001719</td>\n",
       "    </tr>\n",
       "    <tr>\n",
       "      <th>2014-10-27 00:00:00+00:00</th>\n",
       "      <td>122.120003</td>\n",
       "      <td>-0.000982</td>\n",
       "      <td>-0.000982</td>\n",
       "    </tr>\n",
       "    <tr>\n",
       "      <th>...</th>\n",
       "      <td>...</td>\n",
       "      <td>...</td>\n",
       "      <td>...</td>\n",
       "    </tr>\n",
       "    <tr>\n",
       "      <th>2024-10-14 00:00:00+00:00</th>\n",
       "      <td>148.990005</td>\n",
       "      <td>-0.013442</td>\n",
       "      <td>-0.013533</td>\n",
       "    </tr>\n",
       "    <tr>\n",
       "      <th>2024-10-15 00:00:00+00:00</th>\n",
       "      <td>152.350006</td>\n",
       "      <td>0.022552</td>\n",
       "      <td>0.022301</td>\n",
       "    </tr>\n",
       "    <tr>\n",
       "      <th>2024-10-16 00:00:00+00:00</th>\n",
       "      <td>154.899994</td>\n",
       "      <td>0.016738</td>\n",
       "      <td>0.016599</td>\n",
       "    </tr>\n",
       "    <tr>\n",
       "      <th>2024-10-17 00:00:00+00:00</th>\n",
       "      <td>155.309998</td>\n",
       "      <td>0.002647</td>\n",
       "      <td>0.002643</td>\n",
       "    </tr>\n",
       "    <tr>\n",
       "      <th>2024-10-18 00:00:00+00:00</th>\n",
       "      <td>155.000000</td>\n",
       "      <td>-0.001996</td>\n",
       "      <td>-0.001998</td>\n",
       "    </tr>\n",
       "  </tbody>\n",
       "</table>\n",
       "<p>2516 rows × 3 columns</p>\n",
       "</div>"
      ]
     },
     "execution_count": 3,
     "metadata": {},
     "output_type": "execute_result"
    }
   ],
   "execution_count": 3
  },
  {
   "metadata": {
    "ExecuteTime": {
     "end_time": "2024-10-29T13:44:54.663909Z",
     "start_time": "2024-10-29T13:44:54.660083Z"
    }
   },
   "cell_type": "code",
   "source": [
    "BA_mean_log_ret = BA[\"log_ret_daily\"].mean()\n",
    "BA_mean_log_ret"
   ],
   "id": "d7e63b37e9c771be",
   "outputs": [
    {
     "data": {
      "text/plain": [
       "7.884436305549568e-05"
      ]
     },
     "execution_count": 4,
     "metadata": {},
     "output_type": "execute_result"
    }
   ],
   "execution_count": 4
  },
  {
   "metadata": {
    "ExecuteTime": {
     "end_time": "2024-10-29T13:45:48.937090Z",
     "start_time": "2024-10-29T13:45:48.932885Z"
    }
   },
   "cell_type": "code",
   "source": [
    "sigma = BA[\"log_ret_daily\"].std() # standard deviation of log returns -> Risk/Volatility\n",
    "sigma"
   ],
   "id": "16a0adb737067408",
   "outputs": [
    {
     "data": {
      "text/plain": [
       "0.02536894404295705"
      ]
     },
     "execution_count": 5,
     "metadata": {},
     "output_type": "execute_result"
    }
   ],
   "execution_count": 5
  },
  {
   "metadata": {
    "ExecuteTime": {
     "end_time": "2024-10-29T13:46:28.422051Z",
     "start_time": "2024-10-29T13:46:28.410462Z"
    }
   },
   "cell_type": "code",
   "source": "BA.describe()",
   "id": "34e8b4024dd59294",
   "outputs": [
    {
     "data": {
      "text/plain": [
       "             Price      Returns  log_ret_daily\n",
       "count  2516.000000  2515.000000    2515.000000\n",
       "mean    217.283299     0.000399       0.000079\n",
       "std      80.527555     0.025300       0.025369\n",
       "min      95.010002    -0.238484      -0.272444\n",
       "25%     149.777500    -0.010068      -0.010119\n",
       "50%     197.495003     0.000291       0.000291\n",
       "75%     255.654995     0.010768       0.010711\n",
       "max     440.619995     0.243186       0.217677"
      ],
      "text/html": [
       "<div>\n",
       "<style scoped>\n",
       "    .dataframe tbody tr th:only-of-type {\n",
       "        vertical-align: middle;\n",
       "    }\n",
       "\n",
       "    .dataframe tbody tr th {\n",
       "        vertical-align: top;\n",
       "    }\n",
       "\n",
       "    .dataframe thead th {\n",
       "        text-align: right;\n",
       "    }\n",
       "</style>\n",
       "<table border=\"1\" class=\"dataframe\">\n",
       "  <thead>\n",
       "    <tr style=\"text-align: right;\">\n",
       "      <th></th>\n",
       "      <th>Price</th>\n",
       "      <th>Returns</th>\n",
       "      <th>log_ret_daily</th>\n",
       "    </tr>\n",
       "  </thead>\n",
       "  <tbody>\n",
       "    <tr>\n",
       "      <th>count</th>\n",
       "      <td>2516.000000</td>\n",
       "      <td>2515.000000</td>\n",
       "      <td>2515.000000</td>\n",
       "    </tr>\n",
       "    <tr>\n",
       "      <th>mean</th>\n",
       "      <td>217.283299</td>\n",
       "      <td>0.000399</td>\n",
       "      <td>0.000079</td>\n",
       "    </tr>\n",
       "    <tr>\n",
       "      <th>std</th>\n",
       "      <td>80.527555</td>\n",
       "      <td>0.025300</td>\n",
       "      <td>0.025369</td>\n",
       "    </tr>\n",
       "    <tr>\n",
       "      <th>min</th>\n",
       "      <td>95.010002</td>\n",
       "      <td>-0.238484</td>\n",
       "      <td>-0.272444</td>\n",
       "    </tr>\n",
       "    <tr>\n",
       "      <th>25%</th>\n",
       "      <td>149.777500</td>\n",
       "      <td>-0.010068</td>\n",
       "      <td>-0.010119</td>\n",
       "    </tr>\n",
       "    <tr>\n",
       "      <th>50%</th>\n",
       "      <td>197.495003</td>\n",
       "      <td>0.000291</td>\n",
       "      <td>0.000291</td>\n",
       "    </tr>\n",
       "    <tr>\n",
       "      <th>75%</th>\n",
       "      <td>255.654995</td>\n",
       "      <td>0.010768</td>\n",
       "      <td>0.010711</td>\n",
       "    </tr>\n",
       "    <tr>\n",
       "      <th>max</th>\n",
       "      <td>440.619995</td>\n",
       "      <td>0.243186</td>\n",
       "      <td>0.217677</td>\n",
       "    </tr>\n",
       "  </tbody>\n",
       "</table>\n",
       "</div>"
      ]
     },
     "execution_count": 6,
     "metadata": {},
     "output_type": "execute_result"
    }
   ],
   "execution_count": 6
  },
  {
   "metadata": {},
   "cell_type": "markdown",
   "source": "# Simple Returns vs Log Returns (Part 1)",
   "id": "b77d229d985da9e7"
  },
  {
   "metadata": {},
   "cell_type": "code",
   "outputs": [],
   "execution_count": null,
   "source": "",
   "id": "73ef25bb4ba78fee"
  }
 ],
 "metadata": {
  "kernelspec": {
   "display_name": "Python 3",
   "language": "python",
   "name": "python3"
  },
  "language_info": {
   "codemirror_mode": {
    "name": "ipython",
    "version": 2
   },
   "file_extension": ".py",
   "mimetype": "text/x-python",
   "name": "python",
   "nbconvert_exporter": "python",
   "pygments_lexer": "ipython2",
   "version": "2.7.6"
  }
 },
 "nbformat": 4,
 "nbformat_minor": 5
}
