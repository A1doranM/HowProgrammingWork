{
 "cells": [
  {
   "metadata": {},
   "cell_type": "markdown",
   "source": "# Simple Returns vs Logarithmic Returns",
   "id": "fcfbb23d08ba0ea0"
  },
  {
   "metadata": {},
   "cell_type": "markdown",
   "source": [
    "Very often log returns are used instead of simple returns.\n",
    "\n",
    "- favourable characteristics of log returns\n",
    "- drawbacks of simple returns\n"
   ],
   "id": "fa3d3cdbf393db75"
  },
  {
   "metadata": {},
   "cell_type": "markdown",
   "source": [
    "# Discrete Compounding\n",
    "\n",
    "***Annual Compounding*** -> Interests accrue once a year at the end of the year\n",
    "\n",
    "Your Savings Bank offers an interest rate of ***8% p.a. (stated rate)*** with ***annual compounding*** on your savings ***(USD 100)***. Calculate the value of your savings account after one year and the corresponding effective annual interest rate.\n",
    "\n",
    "Interests are calculated and added to your savings account once at the end of each year\n",
    "\n"
   ],
   "id": "d7ff7a2d0452de7c"
  },
  {
   "metadata": {
    "ExecuteTime": {
     "end_time": "2024-10-28T16:42:44.003759Z",
     "start_time": "2024-10-28T16:42:43.999948Z"
    }
   },
   "cell_type": "code",
   "source": [
    "PV = 100\n",
    "r = 0.08\n",
    "n = 1"
   ],
   "id": "d1bba1f06093feb2",
   "outputs": [],
   "execution_count": 1
  },
  {
   "metadata": {
    "ExecuteTime": {
     "end_time": "2024-10-28T16:43:19.294982Z",
     "start_time": "2024-10-28T16:43:19.286914Z"
    }
   },
   "cell_type": "code",
   "source": [
    "FV = PV * (1+r)**n\n",
    "FV"
   ],
   "id": "523d98515cb234d2",
   "outputs": [
    {
     "data": {
      "text/plain": [
       "108.0"
      ]
     },
     "execution_count": 2,
     "metadata": {},
     "output_type": "execute_result"
    }
   ],
   "execution_count": 2
  },
  {
   "metadata": {
    "ExecuteTime": {
     "end_time": "2024-10-28T16:43:57.854645Z",
     "start_time": "2024-10-28T16:43:57.850273Z"
    }
   },
   "cell_type": "code",
   "source": [
    "effective_annual_rate = (FV / PV)**(1/n) - 1\n",
    "effective_annual_rate"
   ],
   "id": "9e2e65c4fd83760e",
   "outputs": [
    {
     "data": {
      "text/plain": [
       "0.08000000000000007"
      ]
     },
     "execution_count": 3,
     "metadata": {},
     "output_type": "execute_result"
    }
   ],
   "execution_count": 3
  },
  {
   "metadata": {},
   "cell_type": "markdown",
   "source": "# Continuous Compounding",
   "id": "1e78c93063e731cc"
  },
  {
   "metadata": {
    "ExecuteTime": {
     "end_time": "2024-10-28T16:47:53.678511Z",
     "start_time": "2024-10-28T16:47:53.430940Z"
    }
   },
   "cell_type": "code",
   "source": [
    "import numpy as np\n",
    "\n",
    "PV = 100\n",
    "r = 0.08\n",
    "n = 1"
   ],
   "id": "6a2e8bf043a83538",
   "outputs": [],
   "execution_count": 4
  },
  {
   "metadata": {
    "ExecuteTime": {
     "end_time": "2024-10-28T16:48:45.297200Z",
     "start_time": "2024-10-28T16:48:45.292086Z"
    }
   },
   "cell_type": "code",
   "source": [
    "FV = PV * np.exp(n * r) # exact math with e (euler number)\n",
    "FV"
   ],
   "id": "b299e306952f4404",
   "outputs": [
    {
     "data": {
      "text/plain": [
       "108.32870676749585"
      ]
     },
     "execution_count": 6,
     "metadata": {},
     "output_type": "execute_result"
    }
   ],
   "execution_count": 6
  },
  {
   "metadata": {
    "ExecuteTime": {
     "end_time": "2024-10-28T16:49:19.596540Z",
     "start_time": "2024-10-28T16:49:19.593093Z"
    }
   },
   "cell_type": "code",
   "source": [
    "euler = np.exp(1)\n",
    "euler"
   ],
   "id": "ff325f28d1f7b08d",
   "outputs": [
    {
     "data": {
      "text/plain": [
       "2.718281828459045"
      ]
     },
     "execution_count": 7,
     "metadata": {},
     "output_type": "execute_result"
    }
   ],
   "execution_count": 7
  },
  {
   "metadata": {
    "ExecuteTime": {
     "end_time": "2024-10-28T16:49:31.581850Z",
     "start_time": "2024-10-28T16:49:31.577986Z"
    }
   },
   "cell_type": "code",
   "source": "PV * euler**(n*r)",
   "id": "c51afa9d2443e4cf",
   "outputs": [
    {
     "data": {
      "text/plain": [
       "108.32870676749586"
      ]
     },
     "execution_count": 8,
     "metadata": {},
     "output_type": "execute_result"
    }
   ],
   "execution_count": 8
  },
  {
   "metadata": {
    "ExecuteTime": {
     "end_time": "2024-10-28T16:50:07.065214Z",
     "start_time": "2024-10-28T16:50:07.061514Z"
    }
   },
   "cell_type": "code",
   "source": [
    "effective_annual_rate = ((FV / PV)**(1/n) - 1) # Alt 1\n",
    "effective_annual_rate"
   ],
   "id": "7e6fce086eac850",
   "outputs": [
    {
     "data": {
      "text/plain": [
       "0.08328706767495841"
      ]
     },
     "execution_count": 9,
     "metadata": {},
     "output_type": "execute_result"
    }
   ],
   "execution_count": 9
  },
  {
   "metadata": {
    "ExecuteTime": {
     "end_time": "2024-10-28T16:50:54.296372Z",
     "start_time": "2024-10-28T16:50:54.291402Z"
    }
   },
   "cell_type": "code",
   "source": [
    "effective_annual_rate = np.exp(r) - 1 # Alt 2\n",
    "effective_annual_rate"
   ],
   "id": "d41804a86dfe762c",
   "outputs": [
    {
     "data": {
      "text/plain": [
       "0.08328706767495841"
      ]
     },
     "execution_count": 11,
     "metadata": {},
     "output_type": "execute_result"
    }
   ],
   "execution_count": 11
  },
  {
   "metadata": {},
   "cell_type": "markdown",
   "source": "Lets assume we only observe PV and FV, how to calculate the stated rate/continuously compounded rate of 8%?",
   "id": "9536b8ed3ab9a879"
  },
  {
   "metadata": {
    "ExecuteTime": {
     "end_time": "2024-10-28T16:52:52.193340Z",
     "start_time": "2024-10-28T16:52:52.189525Z"
    }
   },
   "cell_type": "code",
   "source": [
    "r = np.log(FV / PV)\n",
    "r"
   ],
   "id": "9f9153bf3c9d0c40",
   "outputs": [
    {
     "data": {
      "text/plain": [
       "0.07999999999999988"
      ]
     },
     "execution_count": 14,
     "metadata": {},
     "output_type": "execute_result"
    }
   ],
   "execution_count": 14
  },
  {
   "metadata": {
    "ExecuteTime": {
     "end_time": "2024-10-28T16:52:50.481048Z",
     "start_time": "2024-10-28T16:52:50.476874Z"
    }
   },
   "cell_type": "code",
   "source": [
    "r = np.log(effective_annual_rate + 1)\n",
    "r"
   ],
   "id": "1f3e9e904a43f236",
   "outputs": [
    {
     "data": {
      "text/plain": [
       "0.07999999999999988"
      ]
     },
     "execution_count": 13,
     "metadata": {},
     "output_type": "execute_result"
    }
   ],
   "execution_count": 13
  },
  {
   "metadata": {},
   "cell_type": "code",
   "outputs": [],
   "execution_count": null,
   "source": "",
   "id": "6729943fa85b2103"
  }
 ],
 "metadata": {
  "kernelspec": {
   "display_name": "Python 3",
   "language": "python",
   "name": "python3"
  },
  "language_info": {
   "codemirror_mode": {
    "name": "ipython",
    "version": 2
   },
   "file_extension": ".py",
   "mimetype": "text/x-python",
   "name": "python",
   "nbconvert_exporter": "python",
   "pygments_lexer": "ipython2",
   "version": "2.7.6"
  }
 },
 "nbformat": 4,
 "nbformat_minor": 5
}
