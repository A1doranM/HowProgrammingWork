{
 "cells": [
  {
   "metadata": {},
   "cell_type": "markdown",
   "source": "# Simple Returns vs Logarithmic Returns",
   "id": "fcfbb23d08ba0ea0"
  },
  {
   "metadata": {},
   "cell_type": "markdown",
   "source": [
    "Very often log returns are used instead of simple returns.\n",
    "\n",
    "- favourable characteristics of log returns\n",
    "- drawbacks of simple returns\n"
   ],
   "id": "fa3d3cdbf393db75"
  },
  {
   "metadata": {},
   "cell_type": "markdown",
   "source": [
    "# Discrete Compounding\n",
    "\n"
   ],
   "id": "d7ff7a2d0452de7c"
  }
 ],
 "metadata": {
  "kernelspec": {
   "display_name": "Python 3",
   "language": "python",
   "name": "python3"
  },
  "language_info": {
   "codemirror_mode": {
    "name": "ipython",
    "version": 2
   },
   "file_extension": ".py",
   "mimetype": "text/x-python",
   "name": "python",
   "nbconvert_exporter": "python",
   "pygments_lexer": "ipython2",
   "version": "2.7.6"
  }
 },
 "nbformat": 4,
 "nbformat_minor": 5
}
