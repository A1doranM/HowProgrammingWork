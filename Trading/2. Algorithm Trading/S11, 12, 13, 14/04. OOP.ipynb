{
 "cells": [
  {
   "cell_type": "markdown",
   "metadata": {},
   "source": [
    "# Object Oriented Programming (OOP): Creating a Financial Instrument Class"
   ]
  },
  {
   "cell_type": "markdown",
   "metadata": {},
   "source": [
    "## An example Class: pandas.DataFrame\n",
    "Goal: handling and manipulating any Tabular Data (efficiently)"
   ]
  },
  {
   "cell_type": "code",
   "metadata": {
    "ExecuteTime": {
     "end_time": "2024-11-07T13:23:09.416353Z",
     "start_time": "2024-11-07T13:23:09.414078Z"
    }
   },
   "source": [
    "import pandas as pd"
   ],
   "outputs": [],
   "execution_count": 13
  },
  {
   "cell_type": "markdown",
   "metadata": {},
   "source": [
    "__Instantiation__"
   ]
  },
  {
   "cell_type": "code",
   "metadata": {
    "ExecuteTime": {
     "end_time": "2024-11-07T13:23:10.034964Z",
     "start_time": "2024-11-07T13:23:10.029155Z"
    }
   },
   "source": [
    "df = pd.read_csv(\"titanic.csv\")"
   ],
   "outputs": [],
   "execution_count": 14
  },
  {
   "cell_type": "code",
   "metadata": {
    "ExecuteTime": {
     "end_time": "2024-11-07T13:23:10.245311Z",
     "start_time": "2024-11-07T13:23:10.231169Z"
    }
   },
   "source": [
    "df"
   ],
   "outputs": [
    {
     "data": {
      "text/plain": [
       "     survived  pclass     sex   age  sibsp  parch     fare embarked deck\n",
       "0           0       3    male  22.0      1      0   7.2500        S  NaN\n",
       "1           1       1  female  38.0      1      0  71.2833        C    C\n",
       "2           1       3  female  26.0      0      0   7.9250        S  NaN\n",
       "3           1       1  female  35.0      1      0  53.1000        S    C\n",
       "4           0       3    male  35.0      0      0   8.0500        S  NaN\n",
       "..        ...     ...     ...   ...    ...    ...      ...      ...  ...\n",
       "886         0       2    male  27.0      0      0  13.0000        S  NaN\n",
       "887         1       1  female  19.0      0      0  30.0000        S    B\n",
       "888         0       3  female   NaN      1      2  23.4500        S  NaN\n",
       "889         1       1    male  26.0      0      0  30.0000        C    C\n",
       "890         0       3    male  32.0      0      0   7.7500        Q  NaN\n",
       "\n",
       "[891 rows x 9 columns]"
      ],
      "text/html": [
       "<div>\n",
       "<style scoped>\n",
       "    .dataframe tbody tr th:only-of-type {\n",
       "        vertical-align: middle;\n",
       "    }\n",
       "\n",
       "    .dataframe tbody tr th {\n",
       "        vertical-align: top;\n",
       "    }\n",
       "\n",
       "    .dataframe thead th {\n",
       "        text-align: right;\n",
       "    }\n",
       "</style>\n",
       "<table border=\"1\" class=\"dataframe\">\n",
       "  <thead>\n",
       "    <tr style=\"text-align: right;\">\n",
       "      <th></th>\n",
       "      <th>survived</th>\n",
       "      <th>pclass</th>\n",
       "      <th>sex</th>\n",
       "      <th>age</th>\n",
       "      <th>sibsp</th>\n",
       "      <th>parch</th>\n",
       "      <th>fare</th>\n",
       "      <th>embarked</th>\n",
       "      <th>deck</th>\n",
       "    </tr>\n",
       "  </thead>\n",
       "  <tbody>\n",
       "    <tr>\n",
       "      <th>0</th>\n",
       "      <td>0</td>\n",
       "      <td>3</td>\n",
       "      <td>male</td>\n",
       "      <td>22.0</td>\n",
       "      <td>1</td>\n",
       "      <td>0</td>\n",
       "      <td>7.2500</td>\n",
       "      <td>S</td>\n",
       "      <td>NaN</td>\n",
       "    </tr>\n",
       "    <tr>\n",
       "      <th>1</th>\n",
       "      <td>1</td>\n",
       "      <td>1</td>\n",
       "      <td>female</td>\n",
       "      <td>38.0</td>\n",
       "      <td>1</td>\n",
       "      <td>0</td>\n",
       "      <td>71.2833</td>\n",
       "      <td>C</td>\n",
       "      <td>C</td>\n",
       "    </tr>\n",
       "    <tr>\n",
       "      <th>2</th>\n",
       "      <td>1</td>\n",
       "      <td>3</td>\n",
       "      <td>female</td>\n",
       "      <td>26.0</td>\n",
       "      <td>0</td>\n",
       "      <td>0</td>\n",
       "      <td>7.9250</td>\n",
       "      <td>S</td>\n",
       "      <td>NaN</td>\n",
       "    </tr>\n",
       "    <tr>\n",
       "      <th>3</th>\n",
       "      <td>1</td>\n",
       "      <td>1</td>\n",
       "      <td>female</td>\n",
       "      <td>35.0</td>\n",
       "      <td>1</td>\n",
       "      <td>0</td>\n",
       "      <td>53.1000</td>\n",
       "      <td>S</td>\n",
       "      <td>C</td>\n",
       "    </tr>\n",
       "    <tr>\n",
       "      <th>4</th>\n",
       "      <td>0</td>\n",
       "      <td>3</td>\n",
       "      <td>male</td>\n",
       "      <td>35.0</td>\n",
       "      <td>0</td>\n",
       "      <td>0</td>\n",
       "      <td>8.0500</td>\n",
       "      <td>S</td>\n",
       "      <td>NaN</td>\n",
       "    </tr>\n",
       "    <tr>\n",
       "      <th>...</th>\n",
       "      <td>...</td>\n",
       "      <td>...</td>\n",
       "      <td>...</td>\n",
       "      <td>...</td>\n",
       "      <td>...</td>\n",
       "      <td>...</td>\n",
       "      <td>...</td>\n",
       "      <td>...</td>\n",
       "      <td>...</td>\n",
       "    </tr>\n",
       "    <tr>\n",
       "      <th>886</th>\n",
       "      <td>0</td>\n",
       "      <td>2</td>\n",
       "      <td>male</td>\n",
       "      <td>27.0</td>\n",
       "      <td>0</td>\n",
       "      <td>0</td>\n",
       "      <td>13.0000</td>\n",
       "      <td>S</td>\n",
       "      <td>NaN</td>\n",
       "    </tr>\n",
       "    <tr>\n",
       "      <th>887</th>\n",
       "      <td>1</td>\n",
       "      <td>1</td>\n",
       "      <td>female</td>\n",
       "      <td>19.0</td>\n",
       "      <td>0</td>\n",
       "      <td>0</td>\n",
       "      <td>30.0000</td>\n",
       "      <td>S</td>\n",
       "      <td>B</td>\n",
       "    </tr>\n",
       "    <tr>\n",
       "      <th>888</th>\n",
       "      <td>0</td>\n",
       "      <td>3</td>\n",
       "      <td>female</td>\n",
       "      <td>NaN</td>\n",
       "      <td>1</td>\n",
       "      <td>2</td>\n",
       "      <td>23.4500</td>\n",
       "      <td>S</td>\n",
       "      <td>NaN</td>\n",
       "    </tr>\n",
       "    <tr>\n",
       "      <th>889</th>\n",
       "      <td>1</td>\n",
       "      <td>1</td>\n",
       "      <td>male</td>\n",
       "      <td>26.0</td>\n",
       "      <td>0</td>\n",
       "      <td>0</td>\n",
       "      <td>30.0000</td>\n",
       "      <td>C</td>\n",
       "      <td>C</td>\n",
       "    </tr>\n",
       "    <tr>\n",
       "      <th>890</th>\n",
       "      <td>0</td>\n",
       "      <td>3</td>\n",
       "      <td>male</td>\n",
       "      <td>32.0</td>\n",
       "      <td>0</td>\n",
       "      <td>0</td>\n",
       "      <td>7.7500</td>\n",
       "      <td>Q</td>\n",
       "      <td>NaN</td>\n",
       "    </tr>\n",
       "  </tbody>\n",
       "</table>\n",
       "<p>891 rows × 9 columns</p>\n",
       "</div>"
      ]
     },
     "execution_count": 15,
     "metadata": {},
     "output_type": "execute_result"
    }
   ],
   "execution_count": 15
  },
  {
   "cell_type": "code",
   "metadata": {
    "ExecuteTime": {
     "end_time": "2024-11-07T13:23:10.505524Z",
     "start_time": "2024-11-07T13:23:10.502377Z"
    }
   },
   "source": [
    "type(df)"
   ],
   "outputs": [
    {
     "data": {
      "text/plain": [
       "pandas.core.frame.DataFrame"
      ]
     },
     "execution_count": 16,
     "metadata": {},
     "output_type": "execute_result"
    }
   ],
   "execution_count": 16
  },
  {
   "cell_type": "markdown",
   "metadata": {},
   "source": [
    "__Attributes__"
   ]
  },
  {
   "cell_type": "code",
   "metadata": {
    "ExecuteTime": {
     "end_time": "2024-11-07T13:23:10.789344Z",
     "start_time": "2024-11-07T13:23:10.784887Z"
    }
   },
   "source": [
    "df.columns"
   ],
   "outputs": [
    {
     "data": {
      "text/plain": [
       "Index(['survived', 'pclass', 'sex', 'age', 'sibsp', 'parch', 'fare',\n",
       "       'embarked', 'deck'],\n",
       "      dtype='object')"
      ]
     },
     "execution_count": 17,
     "metadata": {},
     "output_type": "execute_result"
    }
   ],
   "execution_count": 17
  },
  {
   "cell_type": "code",
   "metadata": {
    "ExecuteTime": {
     "end_time": "2024-11-07T13:23:11.034772Z",
     "start_time": "2024-11-07T13:23:11.031687Z"
    }
   },
   "source": [
    "df.shape"
   ],
   "outputs": [
    {
     "data": {
      "text/plain": [
       "(891, 9)"
      ]
     },
     "execution_count": 18,
     "metadata": {},
     "output_type": "execute_result"
    }
   ],
   "execution_count": 18
  },
  {
   "cell_type": "markdown",
   "metadata": {},
   "source": [
    "__Methods__"
   ]
  },
  {
   "cell_type": "code",
   "metadata": {
    "ExecuteTime": {
     "end_time": "2024-11-07T13:23:11.530900Z",
     "start_time": "2024-11-07T13:23:11.519620Z"
    }
   },
   "source": [
    "df.info()"
   ],
   "outputs": [
    {
     "name": "stdout",
     "output_type": "stream",
     "text": [
      "<class 'pandas.core.frame.DataFrame'>\n",
      "RangeIndex: 891 entries, 0 to 890\n",
      "Data columns (total 9 columns):\n",
      " #   Column    Non-Null Count  Dtype  \n",
      "---  ------    --------------  -----  \n",
      " 0   survived  891 non-null    int64  \n",
      " 1   pclass    891 non-null    int64  \n",
      " 2   sex       891 non-null    object \n",
      " 3   age       714 non-null    float64\n",
      " 4   sibsp     891 non-null    int64  \n",
      " 5   parch     891 non-null    int64  \n",
      " 6   fare      891 non-null    float64\n",
      " 7   embarked  889 non-null    object \n",
      " 8   deck      203 non-null    object \n",
      "dtypes: float64(2), int64(4), object(3)\n",
      "memory usage: 62.8+ KB\n"
     ]
    }
   ],
   "execution_count": 19
  },
  {
   "cell_type": "code",
   "metadata": {
    "ExecuteTime": {
     "end_time": "2024-11-07T13:23:11.806416Z",
     "start_time": "2024-11-07T13:23:11.786271Z"
    }
   },
   "source": [
    "df.sort_values(by = \"age\", ascending = False)"
   ],
   "outputs": [
    {
     "data": {
      "text/plain": [
       "     survived  pclass     sex   age  sibsp  parch     fare embarked deck\n",
       "630         1       1    male  80.0      0      0  30.0000        S    A\n",
       "851         0       3    male  74.0      0      0   7.7750        S  NaN\n",
       "493         0       1    male  71.0      0      0  49.5042        C  NaN\n",
       "96          0       1    male  71.0      0      0  34.6542        C    A\n",
       "116         0       3    male  70.5      0      0   7.7500        Q  NaN\n",
       "..        ...     ...     ...   ...    ...    ...      ...      ...  ...\n",
       "859         0       3    male   NaN      0      0   7.2292        C  NaN\n",
       "863         0       3  female   NaN      8      2  69.5500        S  NaN\n",
       "868         0       3    male   NaN      0      0   9.5000        S  NaN\n",
       "878         0       3    male   NaN      0      0   7.8958        S  NaN\n",
       "888         0       3  female   NaN      1      2  23.4500        S  NaN\n",
       "\n",
       "[891 rows x 9 columns]"
      ],
      "text/html": [
       "<div>\n",
       "<style scoped>\n",
       "    .dataframe tbody tr th:only-of-type {\n",
       "        vertical-align: middle;\n",
       "    }\n",
       "\n",
       "    .dataframe tbody tr th {\n",
       "        vertical-align: top;\n",
       "    }\n",
       "\n",
       "    .dataframe thead th {\n",
       "        text-align: right;\n",
       "    }\n",
       "</style>\n",
       "<table border=\"1\" class=\"dataframe\">\n",
       "  <thead>\n",
       "    <tr style=\"text-align: right;\">\n",
       "      <th></th>\n",
       "      <th>survived</th>\n",
       "      <th>pclass</th>\n",
       "      <th>sex</th>\n",
       "      <th>age</th>\n",
       "      <th>sibsp</th>\n",
       "      <th>parch</th>\n",
       "      <th>fare</th>\n",
       "      <th>embarked</th>\n",
       "      <th>deck</th>\n",
       "    </tr>\n",
       "  </thead>\n",
       "  <tbody>\n",
       "    <tr>\n",
       "      <th>630</th>\n",
       "      <td>1</td>\n",
       "      <td>1</td>\n",
       "      <td>male</td>\n",
       "      <td>80.0</td>\n",
       "      <td>0</td>\n",
       "      <td>0</td>\n",
       "      <td>30.0000</td>\n",
       "      <td>S</td>\n",
       "      <td>A</td>\n",
       "    </tr>\n",
       "    <tr>\n",
       "      <th>851</th>\n",
       "      <td>0</td>\n",
       "      <td>3</td>\n",
       "      <td>male</td>\n",
       "      <td>74.0</td>\n",
       "      <td>0</td>\n",
       "      <td>0</td>\n",
       "      <td>7.7750</td>\n",
       "      <td>S</td>\n",
       "      <td>NaN</td>\n",
       "    </tr>\n",
       "    <tr>\n",
       "      <th>493</th>\n",
       "      <td>0</td>\n",
       "      <td>1</td>\n",
       "      <td>male</td>\n",
       "      <td>71.0</td>\n",
       "      <td>0</td>\n",
       "      <td>0</td>\n",
       "      <td>49.5042</td>\n",
       "      <td>C</td>\n",
       "      <td>NaN</td>\n",
       "    </tr>\n",
       "    <tr>\n",
       "      <th>96</th>\n",
       "      <td>0</td>\n",
       "      <td>1</td>\n",
       "      <td>male</td>\n",
       "      <td>71.0</td>\n",
       "      <td>0</td>\n",
       "      <td>0</td>\n",
       "      <td>34.6542</td>\n",
       "      <td>C</td>\n",
       "      <td>A</td>\n",
       "    </tr>\n",
       "    <tr>\n",
       "      <th>116</th>\n",
       "      <td>0</td>\n",
       "      <td>3</td>\n",
       "      <td>male</td>\n",
       "      <td>70.5</td>\n",
       "      <td>0</td>\n",
       "      <td>0</td>\n",
       "      <td>7.7500</td>\n",
       "      <td>Q</td>\n",
       "      <td>NaN</td>\n",
       "    </tr>\n",
       "    <tr>\n",
       "      <th>...</th>\n",
       "      <td>...</td>\n",
       "      <td>...</td>\n",
       "      <td>...</td>\n",
       "      <td>...</td>\n",
       "      <td>...</td>\n",
       "      <td>...</td>\n",
       "      <td>...</td>\n",
       "      <td>...</td>\n",
       "      <td>...</td>\n",
       "    </tr>\n",
       "    <tr>\n",
       "      <th>859</th>\n",
       "      <td>0</td>\n",
       "      <td>3</td>\n",
       "      <td>male</td>\n",
       "      <td>NaN</td>\n",
       "      <td>0</td>\n",
       "      <td>0</td>\n",
       "      <td>7.2292</td>\n",
       "      <td>C</td>\n",
       "      <td>NaN</td>\n",
       "    </tr>\n",
       "    <tr>\n",
       "      <th>863</th>\n",
       "      <td>0</td>\n",
       "      <td>3</td>\n",
       "      <td>female</td>\n",
       "      <td>NaN</td>\n",
       "      <td>8</td>\n",
       "      <td>2</td>\n",
       "      <td>69.5500</td>\n",
       "      <td>S</td>\n",
       "      <td>NaN</td>\n",
       "    </tr>\n",
       "    <tr>\n",
       "      <th>868</th>\n",
       "      <td>0</td>\n",
       "      <td>3</td>\n",
       "      <td>male</td>\n",
       "      <td>NaN</td>\n",
       "      <td>0</td>\n",
       "      <td>0</td>\n",
       "      <td>9.5000</td>\n",
       "      <td>S</td>\n",
       "      <td>NaN</td>\n",
       "    </tr>\n",
       "    <tr>\n",
       "      <th>878</th>\n",
       "      <td>0</td>\n",
       "      <td>3</td>\n",
       "      <td>male</td>\n",
       "      <td>NaN</td>\n",
       "      <td>0</td>\n",
       "      <td>0</td>\n",
       "      <td>7.8958</td>\n",
       "      <td>S</td>\n",
       "      <td>NaN</td>\n",
       "    </tr>\n",
       "    <tr>\n",
       "      <th>888</th>\n",
       "      <td>0</td>\n",
       "      <td>3</td>\n",
       "      <td>female</td>\n",
       "      <td>NaN</td>\n",
       "      <td>1</td>\n",
       "      <td>2</td>\n",
       "      <td>23.4500</td>\n",
       "      <td>S</td>\n",
       "      <td>NaN</td>\n",
       "    </tr>\n",
       "  </tbody>\n",
       "</table>\n",
       "<p>891 rows × 9 columns</p>\n",
       "</div>"
      ]
     },
     "execution_count": 20,
     "metadata": {},
     "output_type": "execute_result"
    }
   ],
   "execution_count": 20
  },
  {
   "cell_type": "code",
   "metadata": {
    "ExecuteTime": {
     "end_time": "2024-11-07T13:23:11.935114Z",
     "start_time": "2024-11-07T13:23:11.932822Z"
    }
   },
   "source": [],
   "outputs": [],
   "execution_count": null
  },
  {
   "cell_type": "markdown",
   "metadata": {},
   "source": [
    "## The FinancialInstrument Class live in action (Part 1)\n",
    "Goal: Analyzing Financial Instruments (e.g. stocks) efficiently"
   ]
  },
  {
   "cell_type": "code",
   "metadata": {
    "ExecuteTime": {
     "end_time": "2024-11-07T18:39:44.929241Z",
     "start_time": "2024-11-07T18:39:43.424709Z"
    }
   },
   "source": [
    "import pandas as pd\n",
    "import numpy as np\n",
    "import matplotlib.pyplot as plt\n",
    "import yfinance as yf\n",
    "plt.style.use(\"seaborn-v0_8\")"
   ],
   "outputs": [],
   "execution_count": 3
  },
  {
   "cell_type": "code",
   "metadata": {
    "ExecuteTime": {
     "end_time": "2024-11-07T18:42:05.871911Z",
     "start_time": "2024-11-07T18:42:05.860298Z"
    }
   },
   "source": [
    "class FinancialInstrument():\n",
    "    ''' Class for analyzing Financial Instruments like stocks.\n",
    "\n",
    "    Attributes\n",
    "    ==========\n",
    "    ticker: str\n",
    "        ticker symbol with which to work with\n",
    "    start: str\n",
    "        start date for data retrieval\n",
    "    end: str\n",
    "        end date for data retrieval\n",
    "\n",
    "    Methods\n",
    "    =======\n",
    "    get_data:\n",
    "        retrieves daily price data (from yahoo finance) and prepares the data\n",
    "    log_returns:\n",
    "        calculates log returns\n",
    "    plot_prices:\n",
    "        creates a price chart\n",
    "    plot_returns:\n",
    "        plots log returns either as time series (\"ts\") or histogram (\"hist\")\n",
    "    set_ticker:\n",
    "        sets a new ticker\n",
    "    mean_return:\n",
    "        calculates mean return\n",
    "    std_returns:\n",
    "        calculates the standard deviation of returns (risk)\n",
    "    annualized_perf:\n",
    "        calculates annulized return and risk\n",
    "    '''\n",
    "    \n",
    "    def __init__(self, ticker, start, end):\n",
    "        self.ticker = ticker\n",
    "        self.start = start\n",
    "        self.end = end\n",
    "        self.get_data()\n",
    "        self.log_returns()\n",
    "    \n",
    "    def __repr__(self): \n",
    "        return \"FinancialInstrument(ticker = {}, start = {}, end = {})\".format(self.ticker, \n",
    "                                                                               self.start, self.end)\n",
    "    def get_data(self):\n",
    "        ''' retrieves (from yahoo finance) and prepares the data\n",
    "        '''\n",
    "        raw = yf.download(self.ticker, self.start, self.end)[['Close']]\n",
    "        self.data = raw.rename(columns={\"Close\": \"price\"})\n",
    "        \n",
    "    def log_returns(self):\n",
    "        '''calculates log returns\n",
    "        '''\n",
    "        self.data[\"log_returns\"] = np.log(self.data.price/self.data.price.shift(1))\n",
    "        \n",
    "    def plot_prices(self):\n",
    "        ''' creates a price chart\n",
    "        '''\n",
    "        self.data.price.plot(figsize = (12, 8))\n",
    "        plt.title(\"Price Chart: {}\".format(self.ticker), fontsize = 15)\n",
    "    \n",
    "    def plot_returns(self, kind = \"ts\"):\n",
    "        ''' plots log returns either as time series (\"ts\") or histogram (\"hist\")\n",
    "        '''\n",
    "        if kind == \"ts\":\n",
    "            self.data.log_returns.plot(figsize = (12, 8))\n",
    "            plt.title(\"Returns: {}\".format(self.ticker), fontsize = 15)\n",
    "        elif kind == \"hist\":\n",
    "            self.data.log_returns.hist(figsize = (12, 8), bins = int(np.sqrt(len(self.data))))\n",
    "            plt.title(\"Frequency of Returns: {}\".format(self.ticker), fontsize = 15)\n",
    "    \n",
    "    def set_ticker(self, ticker = None):\n",
    "        '''sets a new ticker\n",
    "        '''\n",
    "        if ticker is not None:\n",
    "            self.ticker = ticker\n",
    "            self.get_data()\n",
    "            self.log_returns()\n",
    "            \n",
    "    def mean_return(self, freq = None):\n",
    "        '''calculates mean return\n",
    "        '''\n",
    "        if freq is None:\n",
    "            return self.data.log_returns.mean()\n",
    "        else:\n",
    "            resampled_price = self.data.price.resample(freq).last()\n",
    "            resampled_returns = np.log(resampled_price / resampled_price.shift(1))\n",
    "            return resampled_returns.mean()\n",
    "    \n",
    "    def std_returns(self, freq = None):\n",
    "        '''calculates the standard deviation of returns (risk)\n",
    "        '''\n",
    "        if freq is None:\n",
    "            return self.data.log_returns.std()\n",
    "        else:\n",
    "            resampled_price = self.data.price.resample(freq).last()\n",
    "            resampled_returns = np.log(resampled_price / resampled_price.shift(1))\n",
    "            return resampled_returns.std()\n",
    "        \n",
    "    def annualized_perf(self):\n",
    "        '''calculates annulized return and risk\n",
    "        '''\n",
    "        mean_return = round(self.data.log_returns.mean() * 252, 3)\n",
    "        risk = round(self.data.log_returns.std() * np.sqrt(252), 3)\n",
    "        print(\"Return: {} | Risk: {}\".format(mean_return, risk))"
   ],
   "outputs": [],
   "execution_count": 6
  },
  {
   "cell_type": "markdown",
   "metadata": {},
   "source": [
    "__Instantiation__"
   ]
  },
  {
   "cell_type": "code",
   "metadata": {
    "ExecuteTime": {
     "end_time": "2024-11-07T18:42:06.538832Z",
     "start_time": "2024-11-07T18:42:06.492875Z"
    }
   },
   "source": [
    "stock = FinancialInstrument(ticker = \"AAPL\", start = \"2015-01-01\", \n",
    "                            end =  \"2019-12-31\" ) # instantiation"
   ],
   "outputs": [
    {
     "name": "stderr",
     "output_type": "stream",
     "text": [
      "[*********************100%***********************]  1 of 1 completed\n"
     ]
    }
   ],
   "execution_count": 7
  },
  {
   "cell_type": "code",
   "metadata": {
    "ExecuteTime": {
     "end_time": "2024-11-07T18:42:07.835784Z",
     "start_time": "2024-11-07T18:42:07.828745Z"
    }
   },
   "source": [
    "stock"
   ],
   "outputs": [
    {
     "data": {
      "text/plain": [
       "FinancialInstrument(ticker = AAPL, start = 2015-01-01, end = 2019-12-31)"
      ]
     },
     "execution_count": 8,
     "metadata": {},
     "output_type": "execute_result"
    }
   ],
   "execution_count": 8
  },
  {
   "cell_type": "code",
   "metadata": {
    "ExecuteTime": {
     "end_time": "2024-11-07T18:42:08.645304Z",
     "start_time": "2024-11-07T18:42:08.641304Z"
    }
   },
   "source": [
    "type(stock)"
   ],
   "outputs": [
    {
     "data": {
      "text/plain": [
       "__main__.FinancialInstrument"
      ]
     },
     "execution_count": 9,
     "metadata": {},
     "output_type": "execute_result"
    }
   ],
   "execution_count": 9
  },
  {
   "cell_type": "markdown",
   "metadata": {},
   "source": [
    "__Attributes__"
   ]
  },
  {
   "cell_type": "code",
   "metadata": {
    "ExecuteTime": {
     "end_time": "2024-11-07T18:42:35.828742Z",
     "start_time": "2024-11-07T18:42:35.825605Z"
    }
   },
   "source": [
    "#stock."
   ],
   "outputs": [],
   "execution_count": 10
  },
  {
   "cell_type": "code",
   "metadata": {
    "ExecuteTime": {
     "end_time": "2024-11-07T18:42:36.191610Z",
     "start_time": "2024-11-07T18:42:36.185715Z"
    }
   },
   "source": [
    "stock.ticker"
   ],
   "outputs": [
    {
     "data": {
      "text/plain": [
       "'AAPL'"
      ]
     },
     "execution_count": 11,
     "metadata": {},
     "output_type": "execute_result"
    }
   ],
   "execution_count": 11
  },
  {
   "cell_type": "code",
   "metadata": {
    "ExecuteTime": {
     "end_time": "2024-11-07T18:42:36.528634Z",
     "start_time": "2024-11-07T18:42:36.519792Z"
    }
   },
   "source": [
    "stock.start"
   ],
   "outputs": [
    {
     "data": {
      "text/plain": [
       "'2015-01-01'"
      ]
     },
     "execution_count": 12,
     "metadata": {},
     "output_type": "execute_result"
    }
   ],
   "execution_count": 12
  },
  {
   "cell_type": "code",
   "metadata": {
    "ExecuteTime": {
     "end_time": "2024-11-07T18:42:36.965118Z",
     "start_time": "2024-11-07T18:42:36.955349Z"
    }
   },
   "source": [
    "stock.end"
   ],
   "outputs": [
    {
     "data": {
      "text/plain": [
       "'2019-12-31'"
      ]
     },
     "execution_count": 13,
     "metadata": {},
     "output_type": "execute_result"
    }
   ],
   "execution_count": 13
  },
  {
   "cell_type": "code",
   "metadata": {
    "ExecuteTime": {
     "end_time": "2024-11-07T18:42:37.295471Z",
     "start_time": "2024-11-07T18:42:37.266565Z"
    }
   },
   "source": [
    "stock.data"
   ],
   "outputs": [
    {
     "data": {
      "text/plain": [
       "Price                          price log_returns\n",
       "Ticker                          AAPL            \n",
       "Date                                            \n",
       "2015-01-02 00:00:00+00:00  27.332500         NaN\n",
       "2015-01-05 00:00:00+00:00  26.562500   -0.028576\n",
       "2015-01-06 00:00:00+00:00  26.565001    0.000094\n",
       "2015-01-07 00:00:00+00:00  26.937500    0.013925\n",
       "2015-01-08 00:00:00+00:00  27.972500    0.037703\n",
       "...                              ...         ...\n",
       "2019-12-23 00:00:00+00:00  71.000000    0.016187\n",
       "2019-12-24 00:00:00+00:00  71.067497    0.000950\n",
       "2019-12-26 00:00:00+00:00  72.477501    0.019646\n",
       "2019-12-27 00:00:00+00:00  72.449997   -0.000380\n",
       "2019-12-30 00:00:00+00:00  72.879997    0.005918\n",
       "\n",
       "[1257 rows x 2 columns]"
      ],
      "text/html": [
       "<div>\n",
       "<style scoped>\n",
       "    .dataframe tbody tr th:only-of-type {\n",
       "        vertical-align: middle;\n",
       "    }\n",
       "\n",
       "    .dataframe tbody tr th {\n",
       "        vertical-align: top;\n",
       "    }\n",
       "\n",
       "    .dataframe thead tr th {\n",
       "        text-align: left;\n",
       "    }\n",
       "\n",
       "    .dataframe thead tr:last-of-type th {\n",
       "        text-align: right;\n",
       "    }\n",
       "</style>\n",
       "<table border=\"1\" class=\"dataframe\">\n",
       "  <thead>\n",
       "    <tr>\n",
       "      <th>Price</th>\n",
       "      <th>price</th>\n",
       "      <th>log_returns</th>\n",
       "    </tr>\n",
       "    <tr>\n",
       "      <th>Ticker</th>\n",
       "      <th>AAPL</th>\n",
       "      <th></th>\n",
       "    </tr>\n",
       "    <tr>\n",
       "      <th>Date</th>\n",
       "      <th></th>\n",
       "      <th></th>\n",
       "    </tr>\n",
       "  </thead>\n",
       "  <tbody>\n",
       "    <tr>\n",
       "      <th>2015-01-02 00:00:00+00:00</th>\n",
       "      <td>27.332500</td>\n",
       "      <td>NaN</td>\n",
       "    </tr>\n",
       "    <tr>\n",
       "      <th>2015-01-05 00:00:00+00:00</th>\n",
       "      <td>26.562500</td>\n",
       "      <td>-0.028576</td>\n",
       "    </tr>\n",
       "    <tr>\n",
       "      <th>2015-01-06 00:00:00+00:00</th>\n",
       "      <td>26.565001</td>\n",
       "      <td>0.000094</td>\n",
       "    </tr>\n",
       "    <tr>\n",
       "      <th>2015-01-07 00:00:00+00:00</th>\n",
       "      <td>26.937500</td>\n",
       "      <td>0.013925</td>\n",
       "    </tr>\n",
       "    <tr>\n",
       "      <th>2015-01-08 00:00:00+00:00</th>\n",
       "      <td>27.972500</td>\n",
       "      <td>0.037703</td>\n",
       "    </tr>\n",
       "    <tr>\n",
       "      <th>...</th>\n",
       "      <td>...</td>\n",
       "      <td>...</td>\n",
       "    </tr>\n",
       "    <tr>\n",
       "      <th>2019-12-23 00:00:00+00:00</th>\n",
       "      <td>71.000000</td>\n",
       "      <td>0.016187</td>\n",
       "    </tr>\n",
       "    <tr>\n",
       "      <th>2019-12-24 00:00:00+00:00</th>\n",
       "      <td>71.067497</td>\n",
       "      <td>0.000950</td>\n",
       "    </tr>\n",
       "    <tr>\n",
       "      <th>2019-12-26 00:00:00+00:00</th>\n",
       "      <td>72.477501</td>\n",
       "      <td>0.019646</td>\n",
       "    </tr>\n",
       "    <tr>\n",
       "      <th>2019-12-27 00:00:00+00:00</th>\n",
       "      <td>72.449997</td>\n",
       "      <td>-0.000380</td>\n",
       "    </tr>\n",
       "    <tr>\n",
       "      <th>2019-12-30 00:00:00+00:00</th>\n",
       "      <td>72.879997</td>\n",
       "      <td>0.005918</td>\n",
       "    </tr>\n",
       "  </tbody>\n",
       "</table>\n",
       "<p>1257 rows × 2 columns</p>\n",
       "</div>"
      ]
     },
     "execution_count": 14,
     "metadata": {},
     "output_type": "execute_result"
    }
   ],
   "execution_count": 14
  },
  {
   "cell_type": "markdown",
   "metadata": {},
   "source": [
    "__Methods__"
   ]
  },
  {
   "cell_type": "code",
   "metadata": {
    "ExecuteTime": {
     "end_time": "2024-11-07T18:42:39.074697Z",
     "start_time": "2024-11-07T18:42:38.688080Z"
    }
   },
   "source": [
    "stock.plot_prices()"
   ],
   "outputs": [
    {
     "data": {
      "text/plain": [
       "<Figure size 1200x800 with 1 Axes>"
      ],
      "image/png": "[encoded data removed]"
     },
     "metadata": {},
     "output_type": "display_data"
    }
   ],
   "execution_count": 15
  },
  {
   "cell_type": "code",
   "metadata": {
    "ExecuteTime": {
     "end_time": "2024-11-07T18:42:39.654195Z",
     "start_time": "2024-11-07T18:42:39.241833Z"
    }
   },
   "source": [
    "stock.plot_returns()"
   ],
   "outputs": [
    {
     "data": {
      "text/plain": [
       "<Figure size 1200x800 with 1 Axes>"
      ],
      "image/png": "[encoded data removed]"
     },
     "metadata": {},
     "output_type": "display_data"
    }
   ],
   "execution_count": 16
  },
  {
   "cell_type": "code",
   "metadata": {
    "ExecuteTime": {
     "end_time": "2024-11-07T18:42:39.970571Z",
     "start_time": "2024-11-07T18:42:39.700059Z"
    }
   },
   "source": [
    "stock.plot_returns(kind = \"hist\")"
   ],
   "outputs": [
    {
     "data": {
      "text/plain": [
       "<Figure size 1200x800 with 1 Axes>"
      ],
      "image/png": "[encoded data removed]"
     },
     "metadata": {},
     "output_type": "display_data"
    }
   ],
   "execution_count": 17
  },
  {
   "cell_type": "code",
   "metadata": {
    "ExecuteTime": {
     "end_time": "2024-11-07T18:42:40.067264Z",
     "start_time": "2024-11-07T18:42:40.064460Z"
    }
   },
   "source": [],
   "outputs": [],
   "execution_count": null
  },
  {
   "cell_type": "markdown",
   "metadata": {},
   "source": [
    "## The FinancialInstrument Class live in action (Part 2)"
   ]
  },
  {
   "cell_type": "markdown",
   "metadata": {},
   "source": [
    "__More Methods__"
   ]
  },
  {
   "cell_type": "code",
   "execution_count": null,
   "metadata": {},
   "outputs": [],
   "source": [
    "stock.mean_return()"
   ]
  },
  {
   "cell_type": "code",
   "execution_count": null,
   "metadata": {},
   "outputs": [],
   "source": [
    "stock.data.log_returns.mean()"
   ]
  },
  {
   "cell_type": "code",
   "execution_count": null,
   "metadata": {},
   "outputs": [],
   "source": [
    "stock.mean_return(freq = \"W\") # NEW - replace w by W"
   ]
  },
  {
   "cell_type": "code",
   "execution_count": null,
   "metadata": {},
   "outputs": [],
   "source": [
    "stock.std_returns()"
   ]
  },
  {
   "cell_type": "code",
   "execution_count": null,
   "metadata": {},
   "outputs": [],
   "source": [
    "stock.std_returns(freq = \"W\") # NEW - replace w by W"
   ]
  },
  {
   "cell_type": "code",
   "execution_count": null,
   "metadata": {},
   "outputs": [],
   "source": [
    "stock.annualized_perf()"
   ]
  },
  {
   "cell_type": "code",
   "execution_count": null,
   "metadata": {},
   "outputs": [],
   "source": [
    "stock.set_ticker(\"GE\")"
   ]
  },
  {
   "cell_type": "code",
   "execution_count": null,
   "metadata": {},
   "outputs": [],
   "source": [
    "stock.ticker"
   ]
  },
  {
   "cell_type": "code",
   "execution_count": null,
   "metadata": {},
   "outputs": [],
   "source": [
    "stock.plot_prices()"
   ]
  },
  {
   "cell_type": "code",
   "execution_count": null,
   "metadata": {},
   "outputs": [],
   "source": [
    "stock.annualized_perf()"
   ]
  },
  {
   "cell_type": "code",
   "execution_count": null,
   "metadata": {},
   "outputs": [],
   "source": []
  },
  {
   "cell_type": "markdown",
   "metadata": {},
   "source": [
    "## Building the FinancialInstrument Class from scratch: Instantiation"
   ]
  },
  {
   "cell_type": "code",
   "execution_count": null,
   "metadata": {},
   "outputs": [],
   "source": [
    "class FinancialInstrument():\n",
    "    pass"
   ]
  },
  {
   "cell_type": "code",
   "execution_count": null,
   "metadata": {},
   "outputs": [],
   "source": [
    "stock = FinancialInstrument() # instantiation"
   ]
  },
  {
   "cell_type": "code",
   "execution_count": null,
   "metadata": {},
   "outputs": [],
   "source": [
    "stock"
   ]
  },
  {
   "cell_type": "code",
   "execution_count": null,
   "metadata": {},
   "outputs": [],
   "source": [
    "class FinancialInstrument():\n",
    "    def __init__(self, ticker, start, end):\n",
    "        self.ticker = ticker\n",
    "        self.start = start\n",
    "        self.end = end"
   ]
  },
  {
   "cell_type": "code",
   "execution_count": null,
   "metadata": {},
   "outputs": [],
   "source": [
    "stock = FinancialInstrument(\"AAPL\", \"2015-01-01\", \"2019-12-31\") # instantiation"
   ]
  },
  {
   "cell_type": "code",
   "execution_count": null,
   "metadata": {},
   "outputs": [],
   "source": [
    "stock"
   ]
  },
  {
   "cell_type": "code",
   "execution_count": null,
   "metadata": {},
   "outputs": [],
   "source": [
    "stock.ticker"
   ]
  },
  {
   "cell_type": "code",
   "execution_count": null,
   "metadata": {},
   "outputs": [],
   "source": [
    "stock.end"
   ]
  },
  {
   "cell_type": "code",
   "execution_count": null,
   "metadata": {},
   "outputs": [],
   "source": [
    "stock.start"
   ]
  },
  {
   "cell_type": "code",
   "execution_count": null,
   "metadata": {},
   "outputs": [],
   "source": []
  },
  {
   "cell_type": "markdown",
   "metadata": {},
   "source": [
    "## The method get_data()"
   ]
  },
  {
   "cell_type": "code",
   "execution_count": null,
   "metadata": {},
   "outputs": [],
   "source": [
    "yf.download(\"AAPL\", \"2015-01-01\", \"2019-12-31\").Close.to_frame()"
   ]
  },
  {
   "cell_type": "code",
   "execution_count": null,
   "metadata": {},
   "outputs": [],
   "source": [
    "raw = yf.download(\"AAPL\", \"2015-01-01\", \"2019-12-31\").Close.to_frame()"
   ]
  },
  {
   "cell_type": "code",
   "execution_count": null,
   "metadata": {},
   "outputs": [],
   "source": [
    "raw.rename(columns = {\"Close\":\"price\"}, inplace = True)"
   ]
  },
  {
   "cell_type": "code",
   "execution_count": null,
   "metadata": {},
   "outputs": [],
   "source": [
    "raw"
   ]
  },
  {
   "cell_type": "code",
   "execution_count": null,
   "metadata": {},
   "outputs": [],
   "source": [
    "class FinancialInstrument():\n",
    "    def __init__(self, ticker, start, end):\n",
    "        self.ticker = ticker\n",
    "        self.start = start\n",
    "        self.end = end\n",
    "        self.get_data()\n",
    "    def get_data(self):\n",
    "        raw = yf.download(self.ticker, self.start, self.end).Close.to_frame()\n",
    "        raw.rename(columns = {\"Close\":\"price\"}, inplace = True)\n",
    "        self.data = raw"
   ]
  },
  {
   "cell_type": "code",
   "execution_count": null,
   "metadata": {},
   "outputs": [],
   "source": [
    "stock = FinancialInstrument(\"AAPL\", \"2015-01-01\", \"2019-12-31\")"
   ]
  },
  {
   "cell_type": "code",
   "execution_count": null,
   "metadata": {},
   "outputs": [],
   "source": [
    "stock.ticker"
   ]
  },
  {
   "cell_type": "code",
   "execution_count": null,
   "metadata": {},
   "outputs": [],
   "source": [
    "stock.data"
   ]
  },
  {
   "cell_type": "code",
   "execution_count": null,
   "metadata": {},
   "outputs": [],
   "source": []
  },
  {
   "cell_type": "markdown",
   "metadata": {},
   "source": [
    "## The method log_returns()"
   ]
  },
  {
   "cell_type": "code",
   "execution_count": null,
   "metadata": {},
   "outputs": [],
   "source": [
    "stock.data"
   ]
  },
  {
   "cell_type": "code",
   "execution_count": null,
   "metadata": {},
   "outputs": [],
   "source": [
    "class FinancialInstrument():\n",
    "    def __init__(self, ticker, start, end):\n",
    "        self.ticker = ticker\n",
    "        self.start = start\n",
    "        self.end = end\n",
    "        self.get_data()\n",
    "        self.log_returns()\n",
    "    def get_data(self):\n",
    "        raw = yf.download(self.ticker, self.start, self.end).Close.to_frame()\n",
    "        raw.rename(columns = {\"Close\":\"price\"}, inplace = True)\n",
    "        self.data = raw\n",
    "    def log_returns(self):\n",
    "        self.data[\"log_returns\"] = np.log(self.data.price/self.data.price.shift(1))"
   ]
  },
  {
   "cell_type": "code",
   "execution_count": null,
   "metadata": {},
   "outputs": [],
   "source": [
    "stock = FinancialInstrument(\"AAPL\", \"2015-01-01\", \"2019-12-31\")"
   ]
  },
  {
   "cell_type": "code",
   "execution_count": null,
   "metadata": {},
   "outputs": [],
   "source": [
    "stock.data"
   ]
  },
  {
   "cell_type": "code",
   "execution_count": null,
   "metadata": {},
   "outputs": [],
   "source": [
    "stock.log_returns()"
   ]
  },
  {
   "cell_type": "code",
   "execution_count": null,
   "metadata": {},
   "outputs": [],
   "source": []
  },
  {
   "cell_type": "markdown",
   "metadata": {},
   "source": [
    "## (String) Representation"
   ]
  },
  {
   "cell_type": "code",
   "execution_count": null,
   "metadata": {},
   "outputs": [],
   "source": [
    "stock"
   ]
  },
  {
   "cell_type": "code",
   "execution_count": null,
   "metadata": {},
   "outputs": [],
   "source": [
    "print(stock)"
   ]
  },
  {
   "cell_type": "code",
   "execution_count": null,
   "metadata": {},
   "outputs": [],
   "source": [
    "class FinancialInstrument():\n",
    "    def __init__(self, ticker, start, end):\n",
    "        self.ticker = ticker\n",
    "        self.start = start\n",
    "        self.end = end\n",
    "        self.get_data()\n",
    "        self.log_returns()\n",
    "    \n",
    "    def __repr__(self):\n",
    "        return \"FinancialInstrument(ticker = {}, start = {}, end = {})\".format(self.ticker,\n",
    "                                                                               self.start, self.end)\n",
    "    def get_data(self):\n",
    "        raw = yf.download(self.ticker, self.start, self.end).Close.to_frame()\n",
    "        raw.rename(columns = {\"Close\":\"price\"}, inplace = True)\n",
    "        self.data = raw\n",
    "        \n",
    "    def log_returns(self):\n",
    "        self.data[\"log_returns\"] = np.log(self.data.price/self.data.price.shift(1))"
   ]
  },
  {
   "cell_type": "code",
   "execution_count": null,
   "metadata": {},
   "outputs": [],
   "source": [
    "stock = FinancialInstrument(\"AAPL\", \"2015-01-01\", \"2019-12-31\")"
   ]
  },
  {
   "cell_type": "code",
   "execution_count": null,
   "metadata": {},
   "outputs": [],
   "source": [
    "stock"
   ]
  },
  {
   "cell_type": "code",
   "execution_count": null,
   "metadata": {},
   "outputs": [],
   "source": [
    "print(stock)"
   ]
  },
  {
   "cell_type": "code",
   "execution_count": null,
   "metadata": {},
   "outputs": [],
   "source": []
  },
  {
   "cell_type": "markdown",
   "metadata": {},
   "source": [
    "## The methods plot_prices() and plot_returns()"
   ]
  },
  {
   "cell_type": "code",
   "execution_count": null,
   "metadata": {},
   "outputs": [],
   "source": [
    "stock"
   ]
  },
  {
   "cell_type": "code",
   "execution_count": null,
   "metadata": {},
   "outputs": [],
   "source": [
    "stock.data"
   ]
  },
  {
   "cell_type": "code",
   "execution_count": null,
   "metadata": {},
   "outputs": [],
   "source": [
    "stock.data.price.plot()\n",
    "plt.show()"
   ]
  },
  {
   "cell_type": "code",
   "execution_count": null,
   "metadata": {},
   "outputs": [],
   "source": [
    "stock.data.log_returns.plot()\n",
    "plt.show()"
   ]
  },
  {
   "cell_type": "code",
   "execution_count": null,
   "metadata": {},
   "outputs": [],
   "source": [
    "stock.data.log_returns.hist(bins = 100)\n",
    "plt.show()"
   ]
  },
  {
   "cell_type": "code",
   "execution_count": null,
   "metadata": {},
   "outputs": [],
   "source": [
    "class FinancialInstrument():\n",
    "    def __init__(self, ticker, start, end):\n",
    "        self.ticker = ticker\n",
    "        self.start = start\n",
    "        self.end = end\n",
    "        self.get_data()\n",
    "        self.log_returns()\n",
    "    \n",
    "    def __repr__(self): \n",
    "        return \"FinancialInstrument(ticker = {}, start = {}, end = {})\".format(self.ticker, \n",
    "                                                                               self.start, self.end)\n",
    "    def get_data(self):\n",
    "        raw = yf.download(self.ticker, self.start, self.end).Close.to_frame()\n",
    "        raw.rename(columns = {\"Close\":\"price\"}, inplace = True)\n",
    "        self.data = raw\n",
    "        \n",
    "    def log_returns(self):\n",
    "        self.data[\"log_returns\"] = np.log(self.data.price/self.data.price.shift(1))\n",
    "        \n",
    "    def plot_prices(self):\n",
    "        self.data.price.plot(figsize = (12, 8))\n",
    "        plt.title(\"Price Chart: {}\".format(self.ticker), fontsize = 15)\n",
    "    \n",
    "    def plot_returns(self, kind = \"ts\"):\n",
    "        if kind == \"ts\":\n",
    "            self.data.log_returns.plot(figsize = (12, 8))\n",
    "            plt.title(\"Returns: {}\".format(self.ticker), fontsize = 15)\n",
    "        elif kind == \"hist\":\n",
    "            self.data.log_returns.hist(figsize = (12, 8), bins = int(np.sqrt(len(self.data))))\n",
    "            plt.title(\"Frequency of Returns: {}\".format(self.ticker), fontsize = 15)  "
   ]
  },
  {
   "cell_type": "code",
   "execution_count": null,
   "metadata": {},
   "outputs": [],
   "source": [
    "stock = FinancialInstrument(\"aapl\", \"2015-01-01\", \"2019-12-31\")"
   ]
  },
  {
   "cell_type": "code",
   "execution_count": null,
   "metadata": {},
   "outputs": [],
   "source": [
    "stock.plot_prices()"
   ]
  },
  {
   "cell_type": "code",
   "execution_count": null,
   "metadata": {},
   "outputs": [],
   "source": [
    "stock.plot_returns()"
   ]
  },
  {
   "cell_type": "code",
   "execution_count": null,
   "metadata": {},
   "outputs": [],
   "source": [
    "stock.plot_returns(kind = \"hist\")"
   ]
  },
  {
   "cell_type": "code",
   "execution_count": null,
   "metadata": {},
   "outputs": [],
   "source": []
  },
  {
   "cell_type": "markdown",
   "metadata": {},
   "source": [
    "## Encapsulation"
   ]
  },
  {
   "cell_type": "code",
   "execution_count": null,
   "metadata": {},
   "outputs": [],
   "source": [
    "stock"
   ]
  },
  {
   "cell_type": "code",
   "execution_count": null,
   "metadata": {},
   "outputs": [],
   "source": [
    "stock.plot_prices()"
   ]
  },
  {
   "cell_type": "code",
   "execution_count": null,
   "metadata": {},
   "outputs": [],
   "source": [
    "stock.ticker"
   ]
  },
  {
   "cell_type": "code",
   "execution_count": null,
   "metadata": {},
   "outputs": [],
   "source": [
    "stock.ticker = \"GE\""
   ]
  },
  {
   "cell_type": "code",
   "execution_count": null,
   "metadata": {},
   "outputs": [],
   "source": [
    "stock.ticker"
   ]
  },
  {
   "cell_type": "code",
   "execution_count": null,
   "metadata": {},
   "outputs": [],
   "source": [
    "stock.plot_prices()"
   ]
  },
  {
   "cell_type": "code",
   "execution_count": null,
   "metadata": {},
   "outputs": [],
   "source": [
    "class FinancialInstrument():\n",
    "    def __init__(self, ticker, start, end):\n",
    "        self._ticker = ticker\n",
    "        self.start = start\n",
    "        self.end = end\n",
    "        self.get_data()\n",
    "        self.log_returns()\n",
    "    \n",
    "    def __repr__(self): \n",
    "        return \"FinancialInstrument(ticker = {}, start = {}, end = {})\".format(self._ticker, \n",
    "                                                                               self.start, self.end)\n",
    "    def get_data(self):\n",
    "        raw = yf.download(self._ticker, self.start, self.end).Close.to_frame()\n",
    "        raw.rename(columns = {\"Close\":\"price\"}, inplace = True)\n",
    "        self.data = raw\n",
    "        \n",
    "    def log_returns(self):\n",
    "        self.data[\"log_returns\"] = np.log(self.data.price/self.data.price.shift(1))\n",
    "        \n",
    "    def plot_prices(self):\n",
    "        self.data.price.plot(figsize = (12, 8))\n",
    "        plt.title(\"Price Chart: {}\".format(self._ticker), fontsize = 15)\n",
    "    \n",
    "    def plot_returns(self, kind = \"ts\"):\n",
    "        if kind == \"ts\":\n",
    "            self.data.log_returns.plot(figsize = (12, 8))\n",
    "            plt.title(\"Returns: {}\".format(self._ticker), fontsize = 15)\n",
    "        elif kind == \"hist\":\n",
    "            self.data.log_returns.hist(figsize = (12, 8), bins = int(np.sqrt(len(self.data))))\n",
    "            plt.title(\"Frequency of Returns: {}\".format(self._ticker), fontsize = 15)"
   ]
  },
  {
   "cell_type": "code",
   "execution_count": null,
   "metadata": {},
   "outputs": [],
   "source": [
    "stock = FinancialInstrument(\"aapl\", \"2015-01-01\", \"2019-12-31\")"
   ]
  },
  {
   "cell_type": "code",
   "execution_count": null,
   "metadata": {},
   "outputs": [],
   "source": [
    "stock"
   ]
  },
  {
   "cell_type": "code",
   "execution_count": null,
   "metadata": {},
   "outputs": [],
   "source": [
    "stock.ticker"
   ]
  },
  {
   "cell_type": "code",
   "execution_count": null,
   "metadata": {},
   "outputs": [],
   "source": [
    "stock."
   ]
  },
  {
   "cell_type": "code",
   "execution_count": null,
   "metadata": {},
   "outputs": [],
   "source": [
    "stock._ticker"
   ]
  },
  {
   "cell_type": "code",
   "execution_count": null,
   "metadata": {},
   "outputs": [],
   "source": []
  },
  {
   "cell_type": "markdown",
   "metadata": {},
   "source": [
    "## The method set_ticker()"
   ]
  },
  {
   "cell_type": "code",
   "execution_count": null,
   "metadata": {},
   "outputs": [],
   "source": [
    "class FinancialInstrument():\n",
    "    def __init__(self, ticker, start, end):\n",
    "        self._ticker = ticker\n",
    "        self.start = start\n",
    "        self.end = end\n",
    "        self.get_data()\n",
    "        self.log_returns()\n",
    "    \n",
    "    def __repr__(self): \n",
    "        return \"FinancialInstrument(ticker = {}, start = {}, end = {})\".format(self._ticker, \n",
    "                                                                               self.start, self.end)\n",
    "    def get_data(self):\n",
    "        raw = yf.download(self._ticker, self.start, self.end).Close.to_frame()\n",
    "        raw.rename(columns = {\"Close\":\"price\"}, inplace = True)\n",
    "        self.data = raw\n",
    "        \n",
    "    def log_returns(self):\n",
    "        self.data[\"log_returns\"] = np.log(self.data.price/self.data.price.shift(1))\n",
    "        \n",
    "    def plot_prices(self):\n",
    "        self.data.price.plot(figsize = (12, 8))\n",
    "        plt.title(\"Price Chart: {}\".format(self._ticker), fontsize = 15)\n",
    "    \n",
    "    def plot_returns(self, kind = \"ts\"):\n",
    "        if kind == \"ts\":\n",
    "            self.data.log_returns.plot(figsize = (12, 8))\n",
    "            plt.title(\"Returns: {}\".format(self._ticker), fontsize = 15)\n",
    "        elif kind == \"hist\":\n",
    "            self.data.log_returns.hist(figsize = (12, 8), bins = int(np.sqrt(len(self.data))))\n",
    "            plt.title(\"Frequency of Returns: {}\".format(self._ticker), fontsize = 15)\n",
    "    \n",
    "    def set_ticker(self, ticker = None):\n",
    "        if ticker is not None:\n",
    "            self._ticker = ticker\n",
    "            self.get_data()\n",
    "            self.log_returns()"
   ]
  },
  {
   "cell_type": "code",
   "execution_count": null,
   "metadata": {},
   "outputs": [],
   "source": [
    "stock = FinancialInstrument(\"aapl\", \"2015-01-01\", \"2019-12-31\")"
   ]
  },
  {
   "cell_type": "code",
   "execution_count": null,
   "metadata": {},
   "outputs": [],
   "source": [
    "stock.plot_prices()"
   ]
  },
  {
   "cell_type": "code",
   "execution_count": null,
   "metadata": {},
   "outputs": [],
   "source": [
    "stock.set_ticker(\"GE\")"
   ]
  },
  {
   "cell_type": "code",
   "execution_count": null,
   "metadata": {},
   "outputs": [],
   "source": [
    "stock.plot_prices()"
   ]
  },
  {
   "cell_type": "code",
   "execution_count": null,
   "metadata": {},
   "outputs": [],
   "source": []
  },
  {
   "cell_type": "markdown",
   "metadata": {},
   "source": [
    "## Adding more methods and performance metrics"
   ]
  },
  {
   "cell_type": "code",
   "execution_count": null,
   "metadata": {},
   "outputs": [],
   "source": [
    "class FinancialInstrument():\n",
    "    def __init__(self, ticker, start, end):\n",
    "        self._ticker = ticker\n",
    "        self.start = start\n",
    "        self.end = end\n",
    "        self.get_data()\n",
    "        self.log_returns()\n",
    "    \n",
    "    def __repr__(self): \n",
    "        return \"FinancialInstrument(ticker = {}, start = {}, end = {})\".format(self._ticker, \n",
    "                                                                               self.start, self.end)\n",
    "    def get_data(self):\n",
    "        raw = yf.download(self._ticker, self.start, self.end).Close.to_frame()\n",
    "        raw.rename(columns = {\"Close\":\"price\"}, inplace = True)\n",
    "        self.data = raw\n",
    "        \n",
    "    def log_returns(self):\n",
    "        self.data[\"log_returns\"] = np.log(self.data.price/self.data.price.shift(1))\n",
    "        \n",
    "    def plot_prices(self):\n",
    "        self.data.price.plot(figsize = (12, 8))\n",
    "        plt.title(\"Price Chart: {}\".format(self._ticker), fontsize = 15)\n",
    "    \n",
    "    def plot_returns(self, kind = \"ts\"):\n",
    "        if kind == \"ts\":\n",
    "            self.data.log_returns.plot(figsize = (12, 8))\n",
    "            plt.title(\"Returns: {}\".format(self._ticker), fontsize = 15)\n",
    "        elif kind == \"hist\":\n",
    "            self.data.log_returns.hist(figsize = (12, 8), bins = int(np.sqrt(len(self.data))))\n",
    "            plt.title(\"Frequency of Returns: {}\".format(self._ticker), fontsize = 15)\n",
    "    \n",
    "    def set_ticker(self, ticker = None):\n",
    "        if ticker is not None:\n",
    "            self._ticker = ticker\n",
    "            self.get_data()\n",
    "            self.log_returns()\n",
    "            \n",
    "    def mean_return(self, freq = None):\n",
    "        if freq is None:\n",
    "            return self.data.log_returns.mean()\n",
    "        else:\n",
    "            resampled_price = self.data.price.resample(freq).last()\n",
    "            resampled_returns = np.log(resampled_price / resampled_price.shift(1))\n",
    "            return resampled_returns.mean()\n",
    "    \n",
    "    def std_returns(self, freq = None):\n",
    "        if freq is None:\n",
    "            return self.data.log_returns.std()\n",
    "        else:\n",
    "            resampled_price = self.data.price.resample(freq).last()\n",
    "            resampled_returns = np.log(resampled_price / resampled_price.shift(1))\n",
    "            return resampled_returns.std()\n",
    "        \n",
    "    def annualized_perf(self):\n",
    "        mean_return = round(self.data.log_returns.mean() * 252, 3)\n",
    "        risk = round(self.data.log_returns.std() * np.sqrt(252), 3)\n",
    "        print(\"Return: {} | Risk: {}\".format(mean_return, risk))"
   ]
  },
  {
   "cell_type": "code",
   "execution_count": null,
   "metadata": {},
   "outputs": [],
   "source": [
    "stock = FinancialInstrument(\"aapl\", \"2015-01-01\", \"2019-12-31\")"
   ]
  },
  {
   "cell_type": "code",
   "execution_count": null,
   "metadata": {},
   "outputs": [],
   "source": [
    "stock.mean_return()"
   ]
  },
  {
   "cell_type": "code",
   "execution_count": null,
   "metadata": {},
   "outputs": [],
   "source": [
    "stock.mean_return(\"W\") # NEW - replace w by W"
   ]
  },
  {
   "cell_type": "code",
   "execution_count": null,
   "metadata": {},
   "outputs": [],
   "source": [
    "stock.std_returns()"
   ]
  },
  {
   "cell_type": "code",
   "execution_count": null,
   "metadata": {},
   "outputs": [],
   "source": [
    "stock.std_returns(\"YE\") # NEW - replace a by YE"
   ]
  },
  {
   "cell_type": "code",
   "execution_count": null,
   "metadata": {},
   "outputs": [],
   "source": [
    "stock.annualized_perf()"
   ]
  },
  {
   "cell_type": "code",
   "execution_count": null,
   "metadata": {},
   "outputs": [],
   "source": []
  },
  {
   "cell_type": "markdown",
   "metadata": {},
   "source": [
    "## Inheritance"
   ]
  },
  {
   "cell_type": "code",
   "execution_count": null,
   "metadata": {},
   "outputs": [],
   "source": [
    "class FinancialInstrumentBase(): # Parent\n",
    "    def __init__(self, ticker, start, end):\n",
    "        self._ticker = ticker\n",
    "        self.start = start\n",
    "        self.end = end\n",
    "        self.get_data()\n",
    "        self.log_returns()\n",
    "    \n",
    "    def __repr__(self): \n",
    "        return \"FinancialInstrument(ticker = {}, start = {}, end = {})\".format(self._ticker, \n",
    "                                                                               self.start, self.end)\n",
    "    def get_data(self):\n",
    "        raw = yf.download(self._ticker, self.start, self.end).Close.to_frame()\n",
    "        raw.rename(columns = {\"Close\":\"price\"}, inplace = True)\n",
    "        self.data = raw\n",
    "        \n",
    "    def log_returns(self):\n",
    "        self.data[\"log_returns\"] = np.log(self.data.price/self.data.price.shift(1))\n",
    "        \n",
    "    def plot_prices(self):\n",
    "        self.data.price.plot(figsize = (12, 8))\n",
    "        plt.title(\"Price Chart: {}\".format(self._ticker), fontsize = 15)\n",
    "    \n",
    "    def plot_returns(self, kind = \"ts\"):\n",
    "        if kind == \"ts\":\n",
    "            self.data.log_returns.plot(figsize = (12, 8))\n",
    "            plt.title(\"Returns: {}\".format(self._ticker), fontsize = 15)\n",
    "        elif kind == \"hist\":\n",
    "            self.data.log_returns.hist(figsize = (12, 8), bins = int(np.sqrt(len(self.data))))\n",
    "            plt.title(\"Frequency of Returns: {}\".format(self._ticker), fontsize = 15)\n",
    "    \n",
    "    def set_ticker(self, ticker = None):\n",
    "        if ticker is not None:\n",
    "            self._ticker = ticker\n",
    "            self.get_data()\n",
    "            self.log_returns()"
   ]
  },
  {
   "cell_type": "code",
   "execution_count": null,
   "metadata": {},
   "outputs": [],
   "source": [
    "class RiskReturn(FinancialInstrumentBase): # Child\n",
    "    \n",
    "    def __repr__(self): \n",
    "        return \"RiskReturn(ticker = {}, start = {}, end = {})\".format(self._ticker, \n",
    "                                                                          self.start, self.end)\n",
    "    def mean_return(self, freq = None):\n",
    "        if freq is None:\n",
    "            return self.data.log_returns.mean()\n",
    "        else:\n",
    "            resampled_price = self.data.price.resample(freq).last()\n",
    "            resampled_returns = np.log(resampled_price / resampled_price.shift(1))\n",
    "            return resampled_returns.mean()\n",
    "    \n",
    "    def std_returns(self, freq = None):\n",
    "        if freq is None:\n",
    "            return self.data.log_returns.std()\n",
    "        else:\n",
    "            resampled_price = self.data.price.resample(freq).last()\n",
    "            resampled_returns = np.log(resampled_price / resampled_price.shift(1))\n",
    "            return resampled_returns.std()\n",
    "        \n",
    "    def annualized_perf(self):\n",
    "        mean_return = round(self.data.log_returns.mean() * 252, 3)\n",
    "        risk = round(self.data.log_returns.std() * np.sqrt(252), 3)\n",
    "        print(\"Return: {} | Risk: {}\".format(mean_return, risk))"
   ]
  },
  {
   "cell_type": "code",
   "execution_count": null,
   "metadata": {},
   "outputs": [],
   "source": [
    "stock = RiskReturn(\"aapl\", \"2015-01-01\", \"2019-12-31\")"
   ]
  },
  {
   "cell_type": "code",
   "execution_count": null,
   "metadata": {},
   "outputs": [],
   "source": [
    "stock.annualized_perf()"
   ]
  },
  {
   "cell_type": "code",
   "execution_count": null,
   "metadata": {},
   "outputs": [],
   "source": [
    "stock.data"
   ]
  },
  {
   "cell_type": "code",
   "execution_count": null,
   "metadata": {},
   "outputs": [],
   "source": [
    "stock.plot_prices()"
   ]
  },
  {
   "cell_type": "code",
   "execution_count": null,
   "metadata": {},
   "outputs": [],
   "source": [
    "stock.set_ticker(\"ge\")"
   ]
  },
  {
   "cell_type": "code",
   "execution_count": null,
   "metadata": {},
   "outputs": [],
   "source": [
    "stock"
   ]
  },
  {
   "cell_type": "code",
   "execution_count": null,
   "metadata": {},
   "outputs": [],
   "source": [
    "stock.mean_return(\"W\") # NEW - replace w by W"
   ]
  },
  {
   "cell_type": "code",
   "execution_count": null,
   "metadata": {},
   "outputs": [],
   "source": []
  },
  {
   "cell_type": "markdown",
   "metadata": {},
   "source": [
    "## Inheritance and the super() Function"
   ]
  },
  {
   "cell_type": "code",
   "execution_count": null,
   "metadata": {},
   "outputs": [],
   "source": [
    "import pandas as pd\n",
    "import numpy as np\n",
    "import matplotlib.pyplot as plt\n",
    "import yfinance as yf\n",
    "plt.style.use(\"seaborn-v0_8\")"
   ]
  },
  {
   "cell_type": "code",
   "execution_count": null,
   "metadata": {},
   "outputs": [],
   "source": [
    "class FinancialInstrumentBase(): # Parent\n",
    "    def __init__(self, ticker, start, end):\n",
    "        self._ticker = ticker\n",
    "        self.start = start\n",
    "        self.end = end\n",
    "        self.get_data()\n",
    "        self.log_returns()\n",
    "    \n",
    "    def __repr__(self): \n",
    "        return \"FinancialInstrument(ticker = {}, start = {}, end = {})\".format(self._ticker, \n",
    "                                                                               self.start, self.end)\n",
    "    def get_data(self):\n",
    "        raw = yf.download(self._ticker, self.start, self.end).Close.to_frame()\n",
    "        raw.rename(columns = {\"Close\":\"price\"}, inplace = True)\n",
    "        self.data = raw\n",
    "        \n",
    "    def log_returns(self):\n",
    "        self.data[\"log_returns\"] = np.log(self.data.price/self.data.price.shift(1))\n",
    "        \n",
    "    def plot_prices(self):\n",
    "        self.data.price.plot(figsize = (12, 8))\n",
    "        plt.title(\"Price Chart: {}\".format(self._ticker), fontsize = 15)\n",
    "    \n",
    "    def plot_returns(self, kind = \"ts\"):\n",
    "        if kind == \"ts\":\n",
    "            self.data.log_returns.plot(figsize = (12, 8))\n",
    "            plt.title(\"Returns: {}\".format(self._ticker), fontsize = 15)\n",
    "        elif kind == \"hist\":\n",
    "            self.data.log_returns.hist(figsize = (12, 8), bins = int(np.sqrt(len(self.data))))\n",
    "            plt.title(\"Frequency of Returns: {}\".format(self._ticker), fontsize = 15)\n",
    "    \n",
    "    def set_ticker(self, ticker = None):\n",
    "        if ticker is not None:\n",
    "            self._ticker = ticker\n",
    "            self.get_data()\n",
    "            self.log_returns()"
   ]
  },
  {
   "cell_type": "code",
   "execution_count": null,
   "metadata": {},
   "outputs": [],
   "source": [
    "class RiskReturn(FinancialInstrumentBase): # Child\n",
    "    \n",
    "    def __init__(self, ticker, start, end, freq = None):\n",
    "        self.freq = freq\n",
    "        super().__init__(ticker, start, end)\n",
    "    \n",
    "    def __repr__(self): \n",
    "        return \"RiskReturn(ticker = {}, start = {}, end = {})\".format(self._ticker, \n",
    "                                                                          self.start, self.end)\n",
    "    def mean_return(self):\n",
    "        if self.freq is None:\n",
    "            return self.data.log_returns.mean()\n",
    "        else:\n",
    "            resampled_price = self.data.price.resample(self.freq).last()\n",
    "            resampled_returns = np.log(resampled_price / resampled_price.shift(1))\n",
    "            return resampled_returns.mean()\n",
    "    \n",
    "    def std_returns(self):\n",
    "        if self.freq is None:\n",
    "            return self.data.log_returns.std()\n",
    "        else:\n",
    "            resampled_price = self.data.price.resample(self.freq).last()\n",
    "            resampled_returns = np.log(resampled_price / resampled_price.shift(1))\n",
    "            return resampled_returns.std()\n",
    "        \n",
    "    def annualized_perf(self):\n",
    "        mean_return = round(self.data.log_returns.mean() * 252, 3)\n",
    "        risk = round(self.data.log_returns.std() * np.sqrt(252), 3)\n",
    "        print(\"Return: {} | Risk: {}\".format(mean_return, risk))"
   ]
  },
  {
   "cell_type": "code",
   "execution_count": null,
   "metadata": {},
   "outputs": [],
   "source": [
    "stock = RiskReturn(\"aapl\", \"2015-01-01\", \"2019-12-31\", freq = \"w\")"
   ]
  },
  {
   "cell_type": "code",
   "execution_count": null,
   "metadata": {},
   "outputs": [],
   "source": [
    "stock.freq"
   ]
  },
  {
   "cell_type": "code",
   "execution_count": null,
   "metadata": {},
   "outputs": [],
   "source": [
    "stock._ticker"
   ]
  },
  {
   "cell_type": "code",
   "execution_count": null,
   "metadata": {},
   "outputs": [],
   "source": [
    "stock.data"
   ]
  },
  {
   "cell_type": "code",
   "execution_count": null,
   "metadata": {},
   "outputs": [],
   "source": [
    "stock.plot_prices()"
   ]
  },
  {
   "cell_type": "code",
   "execution_count": null,
   "metadata": {},
   "outputs": [],
   "source": [
    "stock.mean_return()"
   ]
  },
  {
   "cell_type": "code",
   "execution_count": null,
   "metadata": {},
   "outputs": [],
   "source": [
    "stock.annualized_perf()"
   ]
  },
  {
   "cell_type": "code",
   "execution_count": null,
   "metadata": {},
   "outputs": [],
   "source": []
  },
  {
   "cell_type": "markdown",
   "metadata": {},
   "source": [
    "## Docstrings"
   ]
  },
  {
   "cell_type": "code",
   "execution_count": null,
   "metadata": {},
   "outputs": [],
   "source": [
    "class FinancialInstrument():\n",
    "    ''' Class to analyze Financial Instruments like stocks\n",
    "    '''\n",
    "    def __init__(self, ticker, start, end):\n",
    "        self._ticker = ticker\n",
    "        self.start = start\n",
    "        self.end = end\n",
    "        self.get_data()\n",
    "        self.log_returns()\n",
    "    \n",
    "    def __repr__(self): \n",
    "        return \"FinancialInstrument(ticker = {}, start = {}, end = {})\".format(self._ticker, \n",
    "                                                                               self.start, self.end)\n",
    "    def get_data(self):\n",
    "        raw = yf.download(self._ticker, self.start, self.end).Close.to_frame()\n",
    "        raw.rename(columns = {\"Close\":\"price\"}, inplace = True)\n",
    "        self.data = raw\n",
    "        \n",
    "    def log_returns(self):\n",
    "        self.data[\"log_returns\"] = np.log(self.data.price/self.data.price.shift(1))\n",
    "        \n",
    "    def plot_prices(self):\n",
    "        self.data.price.plot(figsize = (12, 8))\n",
    "        plt.title(\"Price Chart: {}\".format(self._ticker), fontsize = 15)\n",
    "    \n",
    "    def plot_returns(self, kind = \"ts\"):\n",
    "        ''' plots log returns either as time series (\"ts\") or as histogram (\"hist\")\n",
    "        '''\n",
    "        if kind == \"ts\":\n",
    "            self.data.log_returns.plot(figsize = (12, 8))\n",
    "            plt.title(\"Returns: {}\".format(self._ticker), fontsize = 15)\n",
    "        elif kind == \"hist\":\n",
    "            self.data.log_returns.hist(figsize = (12, 8), bins = int(np.sqrt(len(self.data))))\n",
    "            plt.title(\"Frequency of Returns: {}\".format(self._ticker), fontsize = 15)\n",
    "    \n",
    "    def set_ticker(self, ticker = None):\n",
    "        if ticker is not None:\n",
    "            self._ticker = ticker\n",
    "            self.get_data()\n",
    "            self.log_returns()\n",
    "            \n",
    "    def mean_return(self, freq = None):\n",
    "        if freq is None:\n",
    "            return self.data.log_returns.mean()\n",
    "        else:\n",
    "            resampled_price = self.data.price.resample(freq).last()\n",
    "            resampled_returns = np.log(resampled_price / resampled_price.shift(1))\n",
    "            return resampled_returns.mean()\n",
    "    \n",
    "    def std_returns(self, freq = None):\n",
    "        if freq is None:\n",
    "            return self.data.log_returns.std()\n",
    "        else:\n",
    "            resampled_price = self.data.price.resample(freq).last()\n",
    "            resampled_returns = np.log(resampled_price / resampled_price.shift(1))\n",
    "            return resampled_returns.std()\n",
    "        \n",
    "    def annualized_perf(self):\n",
    "        mean_return = round(self.data.log_returns.mean() * 252, 3)\n",
    "        risk = round(self.data.log_returns.std() * np.sqrt(252), 3)\n",
    "        print(\"Return: {} | Risk: {}\".format(mean_return, risk))"
   ]
  },
  {
   "cell_type": "code",
   "execution_count": null,
   "metadata": {},
   "outputs": [],
   "source": []
  },
  {
   "cell_type": "markdown",
   "metadata": {},
   "source": [
    "__Final Version__"
   ]
  },
  {
   "cell_type": "code",
   "execution_count": null,
   "metadata": {},
   "outputs": [],
   "source": [
    "class FinancialInstrument():\n",
    "    ''' Class for analyzing Financial Instruments like stocks.\n",
    "\n",
    "    Attributes\n",
    "    ==========\n",
    "    ticker: str\n",
    "        ticker symbol with which to work with\n",
    "    start: str\n",
    "        start date for data retrieval\n",
    "    end: str\n",
    "        end date for data retrieval\n",
    "\n",
    "    Methods\n",
    "    =======\n",
    "    get_data:\n",
    "        retrieves daily price data (from yahoo finance) and prepares the data\n",
    "    log_returns:\n",
    "        calculates log returns\n",
    "    plot_prices:\n",
    "        creates a price chart\n",
    "    plot_returns:\n",
    "        plots log returns either as time series (\"ts\") or histogram (\"hist\")\n",
    "    set_ticker:\n",
    "        sets a new ticker\n",
    "    mean_return:\n",
    "        calculates mean return\n",
    "    std_returns:\n",
    "        calculates the standard deviation of returns (risk)\n",
    "    annualized_perf:\n",
    "        calculates annulized return and risk\n",
    "    '''\n",
    "    \n",
    "    def __init__(self, ticker, start, end):\n",
    "        self._ticker = ticker\n",
    "        self.start = start\n",
    "        self.end = end\n",
    "        self.get_data()\n",
    "        self.log_returns()\n",
    "    \n",
    "    def __repr__(self): \n",
    "        return \"FinancialInstrument(ticker = {}, start = {}, end = {})\".format(self._ticker, \n",
    "                                                                               self.start, self.end)\n",
    "    def get_data(self):\n",
    "        ''' retrieves (from yahoo finance) and prepares the data\n",
    "        '''\n",
    "        raw = yf.download(self._ticker, self.start, self.end).Close.to_frame()\n",
    "        raw.rename(columns = {\"Close\":\"price\"}, inplace = True)\n",
    "        self.data = raw\n",
    "        \n",
    "    def log_returns(self):\n",
    "        '''calculates log returns\n",
    "        '''\n",
    "        self.data[\"log_returns\"] = np.log(self.data.price/self.data.price.shift(1))\n",
    "        \n",
    "    def plot_prices(self):\n",
    "        ''' creates a price chart\n",
    "        '''\n",
    "        self.data.price.plot(figsize = (12, 8))\n",
    "        plt.title(\"Price Chart: {}\".format(self._ticker), fontsize = 15)\n",
    "    \n",
    "    def plot_returns(self, kind = \"ts\"):\n",
    "        ''' plots log returns either as time series (\"ts\") or histogram (\"hist\")\n",
    "        '''\n",
    "        if kind == \"ts\":\n",
    "            self.data.log_returns.plot(figsize = (12, 8))\n",
    "            plt.title(\"Returns: {}\".format(self._ticker), fontsize = 15)\n",
    "        elif kind == \"hist\":\n",
    "            self.data.log_returns.hist(figsize = (12, 8), bins = int(np.sqrt(len(self.data))))\n",
    "            plt.title(\"Frequency of Returns: {}\".format(self._ticker), fontsize = 15)\n",
    "    \n",
    "    def set_ticker(self, ticker = None):\n",
    "        '''sets a new ticker\n",
    "        '''\n",
    "        if ticker is not None:\n",
    "            self._ticker = ticker\n",
    "            self.get_data()\n",
    "            self.log_returns()\n",
    "            \n",
    "    def mean_return(self, freq = None):\n",
    "        '''calculates mean return\n",
    "        '''\n",
    "        if freq is None:\n",
    "            return self.data.log_returns.mean()\n",
    "        else:\n",
    "            resampled_price = self.data.price.resample(freq).last()\n",
    "            resampled_returns = np.log(resampled_price / resampled_price.shift(1))\n",
    "            return resampled_returns.mean()\n",
    "    \n",
    "    def std_returns(self, freq = None):\n",
    "        '''calculates the standard deviation of returns (risk)\n",
    "        '''\n",
    "        if freq is None:\n",
    "            return self.data.log_returns.std()\n",
    "        else:\n",
    "            resampled_price = self.data.price.resample(freq).last()\n",
    "            resampled_returns = np.log(resampled_price / resampled_price.shift(1))\n",
    "            return resampled_returns.std()\n",
    "        \n",
    "    def annualized_perf(self):\n",
    "        '''calculates annulized return and risk\n",
    "        '''\n",
    "        mean_return = round(self.data.log_returns.mean() * 252, 3)\n",
    "        risk = round(self.data.log_returns.std() * np.sqrt(252), 3)\n",
    "        print(\"Return: {} | Risk: {}\".format(mean_return, risk))"
   ]
  },
  {
   "cell_type": "code",
   "execution_count": null,
   "metadata": {},
   "outputs": [],
   "source": []
  }
 ],
 "metadata": {
  "kernelspec": {
   "display_name": "Python 3 (ipykernel)",
   "language": "python",
   "name": "python3"
  },
  "language_info": {
   "codemirror_mode": {
    "name": "ipython",
    "version": 3
   },
   "file_extension": ".py",
   "mimetype": "text/x-python",
   "name": "python",
   "nbconvert_exporter": "python",
   "pygments_lexer": "ipython3",
   "version": "3.11.7"
  }
 },
 "nbformat": 4,
 "nbformat_minor": 4
}
