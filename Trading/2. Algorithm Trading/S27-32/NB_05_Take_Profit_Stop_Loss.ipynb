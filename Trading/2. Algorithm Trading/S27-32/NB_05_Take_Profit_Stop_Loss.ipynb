{
 "cells": [
  {
   "cell_type": "markdown",
   "id": "646af6f8",
   "metadata": {},
   "source": [
    "# Adding Limit Orders to the Trading Bot (Take Profit & Stop Loss) "
   ]
  },
  {
   "cell_type": "markdown",
   "id": "22dfa5b7",
   "metadata": {},
   "source": [
    "## Oanda: Contrader Class without Take Profit & Stop Loss (Recap)"
   ]
  },
  {
   "cell_type": "markdown",
   "id": "5dc0299b",
   "metadata": {},
   "source": [
    "_Disclaimer: <br>\n",
    "The following illustrative examples are for general information and educational purposes only. <br>\n",
    "It is neither investment advice nor a recommendation to trade, invest or take whatsoever actions.<br>\n",
    "The below code should only be used in combination with an OANDA Practice/Demo Account and NOT with a Live Trading Account._"
   ]
  },
  {
   "cell_type": "code",
   "execution_count": null,
   "id": "f8eb7eeb",
   "metadata": {},
   "outputs": [],
   "source": [
    "import pandas as pd\n",
    "import numpy as np\n",
    "import tpqoa\n",
    "from datetime import datetime, timezone, timedelta # timezone added\n",
    "import time\n",
    "import warnings\n",
    "warnings.filterwarnings('ignore')"
   ]
  },
  {
   "cell_type": "code",
   "execution_count": null,
   "id": "bc30806d",
   "metadata": {},
   "outputs": [],
   "source": [
    "class ConTrader(tpqoa.tpqoa):\n",
    "    def __init__(self, conf_file, instrument, bar_length, window, units):\n",
    "        super().__init__(conf_file)\n",
    "        self.instrument = instrument\n",
    "        self.bar_length = pd.to_timedelta(bar_length)\n",
    "        self.tick_data = pd.DataFrame()\n",
    "        self.raw_data = None\n",
    "        self.data = None \n",
    "        self.last_bar = None\n",
    "        self.units = units\n",
    "        self.position = 0\n",
    "        self.profits = [] \n",
    "        \n",
    "        #*****************add strategy-specific attributes here******************\n",
    "        self.window = window\n",
    "        #************************************************************************\n",
    "    \n",
    "    def get_most_recent(self, days = 5):\n",
    "        while True:\n",
    "            time.sleep(2)\n",
    "            now = datetime.now(timezone.utc).replace(tzinfo=None) # new (Python 3.12)\n",
    "            now = now - timedelta(microseconds = now.microsecond)\n",
    "            past = now - timedelta(days = days)\n",
    "            df = self.get_history(instrument = self.instrument, start = past, end = now,\n",
    "                                   granularity = \"S5\", price = \"M\", localize = False).c.dropna().to_frame()\n",
    "            df.rename(columns = {\"c\":self.instrument}, inplace = True)\n",
    "            df = df.resample(self.bar_length, label = \"right\").last().dropna().iloc[:-1]\n",
    "            self.raw_data = df.copy()\n",
    "            self.last_bar = self.raw_data.index[-1]\n",
    "            if pd.to_datetime(datetime.now(timezone.utc)) - self.last_bar < self.bar_length:\n",
    "                break\n",
    "            \n",
    "    def start_trading(self, days, max_attempts = 5, wait = 20, wait_increase = 0): # Error Handling\n",
    "        attempt = 0\n",
    "        success = False\n",
    "        while True:\n",
    "            try:\n",
    "                self.get_most_recent(days)\n",
    "                self.stream_data(self.instrument)\n",
    "            except Exception as e:\n",
    "                print(e, end = \" | \")\n",
    "            else:\n",
    "                success = True\n",
    "                break    \n",
    "            finally:\n",
    "                attempt +=1\n",
    "                print(\"Attempt: {}\".format(attempt), end = '\\n')\n",
    "                if success == False:\n",
    "                    if attempt >= max_attempts:\n",
    "                        print(\"max_attempts reached!\")\n",
    "                        try: # try to terminate session\n",
    "                            time.sleep(wait)\n",
    "                            self.terminate_session(cause = \"Unexpected Session Stop (too many errors).\")\n",
    "                        except Exception as e:\n",
    "                            print(e, end = \" | \")\n",
    "                            print(\"Could not terminate session properly!\")\n",
    "                        finally: \n",
    "                            break\n",
    "                    else: # try again\n",
    "                        time.sleep(wait)\n",
    "                        wait += wait_increase\n",
    "                        self.tick_data = pd.DataFrame()\n",
    "        \n",
    "    def on_success(self, time, bid, ask):\n",
    "        print(self.ticks, end = '\\r', flush = True)\n",
    "        \n",
    "        recent_tick = pd.to_datetime(time)\n",
    "        \n",
    "        # define stop\n",
    "        if self.ticks >= 200:\n",
    "            self.terminate_session(cause = \"Scheduled Session End.\")\n",
    "            return\n",
    "        \n",
    "        # collect and store tick data\n",
    "        df = pd.DataFrame({self.instrument:(ask + bid)/2}, \n",
    "                          index = [recent_tick])\n",
    "        self.tick_data = pd.concat([self.tick_data, df]) \n",
    "        \n",
    "        # if a time longer than the bar_lenght has elapsed between last full bar and the most recent tick\n",
    "        if recent_tick - self.last_bar >= self.bar_length:\n",
    "            self.resample_and_join()\n",
    "            self.define_strategy()\n",
    "            self.execute_trades()\n",
    "            \n",
    "    def resample_and_join(self):\n",
    "        self.raw_data = pd.concat([self.raw_data, self.tick_data.resample(self.bar_length, \n",
    "                                                                          label=\"right\").last().ffill().iloc[:-1]])\n",
    "        self.tick_data = self.tick_data.iloc[-1:]\n",
    "        self.last_bar = self.raw_data.index[-1]\n",
    "        \n",
    "    def define_strategy(self): # \"strategy-specific\"\n",
    "        df = self.raw_data.copy()\n",
    "        \n",
    "        #******************** define your strategy here ************************\n",
    "        df[\"returns\"] = np.log(df[self.instrument] / df[self.instrument].shift())\n",
    "        df[\"position\"] = -np.sign(df.returns.rolling(self.window).mean())\n",
    "        #***********************************************************************\n",
    "        \n",
    "        self.data = df.copy()\n",
    "        \n",
    "    def execute_trades(self):\n",
    "        if self.data[\"position\"].iloc[-1] == 1:\n",
    "            if self.position == 0:\n",
    "                order = self.create_order(self.instrument, self.units, suppress = True, ret = True)\n",
    "                self.report_trade(order, \"GOING LONG\")  \n",
    "            elif self.position == -1:\n",
    "                order = self.create_order(self.instrument, self.units * 2, suppress = True, ret = True) \n",
    "                self.report_trade(order, \"GOING LONG\")  \n",
    "            self.position = 1\n",
    "        elif self.data[\"position\"].iloc[-1] == -1: \n",
    "            if self.position == 0:\n",
    "                order = self.create_order(self.instrument, -self.units, suppress = True, ret = True)\n",
    "                self.report_trade(order, \"GOING SHORT\")  \n",
    "            elif self.position == 1:\n",
    "                order = self.create_order(self.instrument, -self.units * 2, suppress = True, ret = True)\n",
    "                self.report_trade(order, \"GOING SHORT\")  \n",
    "            self.position = -1\n",
    "        elif self.data[\"position\"].iloc[-1] == 0: \n",
    "            if self.position == -1:\n",
    "                order = self.create_order(self.instrument, self.units, suppress = True, ret = True) \n",
    "                self.report_trade(order, \"GOING NEUTRAL\")  \n",
    "            elif self.position == 1:\n",
    "                order = self.create_order(self.instrument, -self.units, suppress = True, ret = True)\n",
    "                self.report_trade(order, \"GOING NEUTRAL\")  \n",
    "            self.position = 0\n",
    "    \n",
    "    def report_trade(self, order, going):  \n",
    "        time = order[\"time\"]\n",
    "        units = order[\"units\"]\n",
    "        price = order[\"price\"]\n",
    "        pl = float(order[\"pl\"])\n",
    "        self.profits.append(pl)\n",
    "        cumpl = sum(self.profits)\n",
    "        print(\"\\n\" + 100* \"-\")\n",
    "        print(\"{} | {}\".format(time, going))\n",
    "        print(\"{} | units = {} | price = {} | P&L = {} | Cum P&L = {}\".format(time, units, price, pl, cumpl))\n",
    "        print(100 * \"-\" + \"\\n\")  \n",
    "        \n",
    "    def terminate_session(self, cause):\n",
    "        self.stop_stream = True\n",
    "        if self.position != 0:\n",
    "            close_order = self.create_order(self.instrument, units = -self.position * self.units,\n",
    "                                            suppress = True, ret = True) \n",
    "            self.report_trade(close_order, \"GOING NEUTRAL\")\n",
    "            self.position = 0\n",
    "        print(cause, end = \" | \")"
   ]
  },
  {
   "cell_type": "code",
   "execution_count": null,
   "id": "eaaad972",
   "metadata": {},
   "outputs": [],
   "source": [
    "trader = ConTrader(\"oanda.cfg\", \"EUR_USD\", \"1min\", window = 1, units = 10000)"
   ]
  },
  {
   "cell_type": "code",
   "execution_count": null,
   "id": "12eaf327",
   "metadata": {},
   "outputs": [],
   "source": [
    "trader.start_trading(days = 5, max_attempts =  3, wait = 20, wait_increase = 0) # trade 200 ticks"
   ]
  },
  {
   "cell_type": "code",
   "execution_count": null,
   "id": "07800ed4",
   "metadata": {},
   "outputs": [],
   "source": [
    "trader.data"
   ]
  },
  {
   "cell_type": "code",
   "execution_count": null,
   "id": "53e012ac",
   "metadata": {},
   "outputs": [],
   "source": [
    "trader.position"
   ]
  },
  {
   "cell_type": "code",
   "execution_count": null,
   "id": "3413f031",
   "metadata": {},
   "outputs": [],
   "source": []
  },
  {
   "cell_type": "markdown",
   "id": "3e88b578",
   "metadata": {},
   "source": [
    "## Oanda: How to create Stop Loss and Take Profit Orders"
   ]
  },
  {
   "cell_type": "code",
   "execution_count": null,
   "id": "9d5d6b4e",
   "metadata": {},
   "outputs": [],
   "source": [
    "trader"
   ]
  },
  {
   "cell_type": "code",
   "execution_count": null,
   "id": "114aae82",
   "metadata": {},
   "outputs": [],
   "source": [
    "current_price = trader.data[trader.instrument].iloc[-1]\n",
    "current_price"
   ]
  },
  {
   "cell_type": "markdown",
   "id": "ac0e4974",
   "metadata": {},
   "source": [
    "__Stop Loss (distance)__"
   ]
  },
  {
   "cell_type": "markdown",
   "id": "2d7e91be",
   "metadata": {},
   "source": [
    "Distance of 0.01 means 100 pips -> works in both directions (Long and Short)"
   ]
  },
  {
   "cell_type": "markdown",
   "id": "9d88fbae",
   "metadata": {},
   "source": [
    "If Current EUR/USD FX rate is 1.08:\n",
    "- Stop Loss Price for LONG position: 1.08 - 0.01 = 1.07\n",
    "- Stop Loss Price for SHORT position: 1.08 + 0.01 = 1.09"
   ]
  },
  {
   "cell_type": "code",
   "execution_count": null,
   "id": "0f6ceaa7",
   "metadata": {},
   "outputs": [],
   "source": [
    "# open long position with sl\n",
    "order = trader.create_order(trader.instrument, trader.units, suppress = True, ret = True,\n",
    "                            sl_distance = 0.01)\n",
    "order"
   ]
  },
  {
   "cell_type": "code",
   "execution_count": null,
   "id": "7cc88929",
   "metadata": {},
   "outputs": [],
   "source": [
    "# closing trade -> limit order automatically cancelled\n",
    "order = trader.create_order(trader.instrument, -trader.units, suppress = True, ret = True)\n",
    "order"
   ]
  },
  {
   "cell_type": "markdown",
   "id": "c289a861",
   "metadata": {},
   "source": [
    "__Take Profit (price)__"
   ]
  },
  {
   "cell_type": "markdown",
   "id": "2ab8484a",
   "metadata": {},
   "source": [
    "If Current EUR/USD FX rate is 1.08:\n",
    "- Take Profit Price for LONG position must be greater -> 1.09\n",
    "- Take Profit Price for SHORT position must be less -> 1.07 "
   ]
  },
  {
   "cell_type": "code",
   "execution_count": null,
   "id": "6a5e1380",
   "metadata": {},
   "outputs": [],
   "source": [
    "# open long position with tp\n",
    "order = trader.create_order(trader.instrument, trader.units, suppress = True, ret = True,\n",
    "                            tp_price = 1.09) # adjust tp_price based on current price!\n",
    "order"
   ]
  },
  {
   "cell_type": "code",
   "execution_count": null,
   "id": "c3ebb3be",
   "metadata": {},
   "outputs": [],
   "source": [
    "# close long position\n",
    "order = trader.create_order(trader.instrument, -trader.units, suppress = True, ret = True)\n",
    "order"
   ]
  },
  {
   "cell_type": "markdown",
   "id": "f5d71e28",
   "metadata": {},
   "source": [
    "__Stop Loss and Take Profit__"
   ]
  },
  {
   "cell_type": "markdown",
   "id": "7ca646b1",
   "metadata": {},
   "source": [
    "SL and TP can be combined!"
   ]
  },
  {
   "cell_type": "code",
   "execution_count": null,
   "id": "4089741a",
   "metadata": {},
   "outputs": [],
   "source": [
    "# open long position with sl & tp\n",
    "order = trader.create_order(trader.instrument, trader.units, suppress = True, ret = True,\n",
    "                            sl_distance = 0.01, tp_price = 1.09) # adjust tp_price based on current price!\n",
    "order"
   ]
  },
  {
   "cell_type": "code",
   "execution_count": null,
   "id": "76e26365",
   "metadata": {},
   "outputs": [],
   "source": [
    "# close long position\n",
    "order = trader.create_order(trader.instrument, -trader.units, suppress = True, ret = True)\n",
    "order"
   ]
  },
  {
   "cell_type": "markdown",
   "id": "c435595f",
   "metadata": {},
   "source": [
    "__Trailing Stop Loss__"
   ]
  },
  {
   "cell_type": "markdown",
   "id": "c501e210",
   "metadata": {},
   "source": [
    "Remember: Trailing Stop Loss Price moves if price moves into the right direction (Long position: increase, Short position: decrease)"
   ]
  },
  {
   "cell_type": "code",
   "execution_count": null,
   "id": "d44f8a52",
   "metadata": {},
   "outputs": [],
   "source": [
    "# open long position with tsl\n",
    "order = trader.create_order(trader.instrument, trader.units, suppress = True, ret = True,\n",
    "                            tsl_distance = 0.01)\n",
    "order"
   ]
  },
  {
   "cell_type": "code",
   "execution_count": null,
   "id": "ba62696d",
   "metadata": {},
   "outputs": [],
   "source": [
    "# close long position\n",
    "order = trader.create_order(trader.instrument, -trader.units, suppress = True, ret = True)\n",
    "order"
   ]
  },
  {
   "cell_type": "code",
   "execution_count": null,
   "id": "668d34d2",
   "metadata": {},
   "outputs": [],
   "source": []
  },
  {
   "cell_type": "markdown",
   "id": "a61bd4b2",
   "metadata": {},
   "source": [
    "## Oanda: Stop Loss and Take Profit Orders - Pitfalls"
   ]
  },
  {
   "cell_type": "code",
   "execution_count": null,
   "id": "1aa7c703",
   "metadata": {},
   "outputs": [],
   "source": [
    "trader"
   ]
  },
  {
   "cell_type": "code",
   "execution_count": null,
   "id": "018f431b",
   "metadata": {},
   "outputs": [],
   "source": [
    "# if sl_distance is 1 pip or less -> order Cancelled.\n",
    "order = trader.create_order(trader.instrument, trader.units, suppress = True, ret = True,\n",
    "                            sl_distance = 0.0001)\n",
    "order"
   ]
  },
  {
   "cell_type": "code",
   "execution_count": null,
   "id": "9b59f56b",
   "metadata": {},
   "outputs": [],
   "source": [
    "order[\"price\"] # consequence in the Trader Bot (KeyError: \"price\")"
   ]
  },
  {
   "cell_type": "code",
   "execution_count": null,
   "id": "01600bf0",
   "metadata": {},
   "outputs": [],
   "source": [
    "# if sl_distance has too many (>5) decimals -> order Cancelled.\n",
    "order = trader.create_order(trader.instrument, trader.units, suppress = True, ret = True,\n",
    "                            sl_distance = 0.014509485)\n",
    "order"
   ]
  },
  {
   "cell_type": "code",
   "execution_count": null,
   "id": "c9a762b9",
   "metadata": {},
   "outputs": [],
   "source": [
    "# if tp_price has too many (> 2-5) decimals -> order Cancelled.\n",
    "order = trader.create_order(trader.instrument, trader.units, suppress = True, ret = True,\n",
    "                            tp_price = 1.094585684)\n",
    "order"
   ]
  },
  {
   "cell_type": "code",
   "execution_count": null,
   "id": "d4aab545",
   "metadata": {},
   "outputs": [],
   "source": [
    "# if tp_price is less (LONG) or greater (SHORT) than current price -> order Cancelled.\n",
    "order = trader.create_order(trader.instrument, trader.units, suppress = True, ret = True,\n",
    "                            tp_price = 1.06)\n",
    "order"
   ]
  },
  {
   "cell_type": "code",
   "execution_count": null,
   "id": "173b2a87",
   "metadata": {},
   "outputs": [],
   "source": []
  },
  {
   "cell_type": "markdown",
   "id": "2d2f7e6e",
   "metadata": {},
   "source": [
    "## Oanda: Setting SL Distances and TP Prices in real-time"
   ]
  },
  {
   "cell_type": "markdown",
   "id": "3357a8bb",
   "metadata": {},
   "source": [
    "__Setting SL/TSL Distance__"
   ]
  },
  {
   "cell_type": "code",
   "execution_count": null,
   "id": "b3efd067",
   "metadata": {},
   "outputs": [],
   "source": [
    "trader"
   ]
  },
  {
   "cell_type": "code",
   "execution_count": null,
   "id": "ea0af154",
   "metadata": {},
   "outputs": [],
   "source": [
    "current_price = trader.get_prices(trader.instrument)[2]\n",
    "current_price"
   ]
  },
  {
   "cell_type": "markdown",
   "id": "2e3df578",
   "metadata": {},
   "source": [
    "Typically: Define Maximum Loss in % (e.g. 1% loss -> 10% if leverage == 10)"
   ]
  },
  {
   "cell_type": "code",
   "execution_count": null,
   "id": "7f08d7f5",
   "metadata": {},
   "outputs": [],
   "source": [
    "sl_perc = 0.01 # SL Event if Price moves in the wrong direction by 1%"
   ]
  },
  {
   "cell_type": "code",
   "execution_count": null,
   "id": "60237c76",
   "metadata": {},
   "outputs": [],
   "source": [
    "sl_dist = round(current_price * sl_perc, 4) # don´t forget rounding!!!\n",
    "sl_dist"
   ]
  },
  {
   "cell_type": "code",
   "execution_count": null,
   "id": "f22d06da",
   "metadata": {},
   "outputs": [],
   "source": [
    "# sl_price_long\n",
    "current_price - sl_dist"
   ]
  },
  {
   "cell_type": "code",
   "execution_count": null,
   "id": "b9cbfdee",
   "metadata": {},
   "outputs": [],
   "source": [
    "# sl_price_short\n",
    "current_price + sl_dist"
   ]
  },
  {
   "cell_type": "markdown",
   "id": "16a4ca31",
   "metadata": {},
   "source": [
    "__Setting TP Price__"
   ]
  },
  {
   "cell_type": "code",
   "execution_count": null,
   "id": "ae6da47d",
   "metadata": {},
   "outputs": [],
   "source": [
    "target_position = 1 # Going Long"
   ]
  },
  {
   "cell_type": "code",
   "execution_count": null,
   "id": "77ef3936",
   "metadata": {},
   "outputs": [],
   "source": [
    "tp_perc = 0.01 # if Price moves by 1% in the right direction"
   ]
  },
  {
   "cell_type": "code",
   "execution_count": null,
   "id": "64885d25",
   "metadata": {},
   "outputs": [],
   "source": [
    "if target_position == 1:\n",
    "    tp_price = round(current_price * (1 + tp_perc), 2) \n",
    "elif target_position == -1:\n",
    "    tp_price = round(current_price * (1 - tp_perc), 2)     "
   ]
  },
  {
   "cell_type": "code",
   "execution_count": null,
   "id": "27cd24f7",
   "metadata": {},
   "outputs": [],
   "source": [
    "tp_price"
   ]
  },
  {
   "cell_type": "code",
   "execution_count": null,
   "id": "8bf97ac2",
   "metadata": {},
   "outputs": [],
   "source": [
    "# open long position with sl & tp\n",
    "order = trader.create_order(trader.instrument, trader.units, suppress = True, ret = True,\n",
    "                            sl_distance = sl_dist, tp_price = tp_price) # adjust tp_price based on current price!\n",
    "order"
   ]
  },
  {
   "cell_type": "code",
   "execution_count": null,
   "id": "e0bfa1a6",
   "metadata": {},
   "outputs": [],
   "source": [
    "# close long position\n",
    "order = trader.create_order(trader.instrument, -trader.units, suppress = True, ret = True)\n",
    "order"
   ]
  },
  {
   "cell_type": "code",
   "execution_count": null,
   "id": "b989a486",
   "metadata": {},
   "outputs": [],
   "source": []
  },
  {
   "cell_type": "markdown",
   "id": "02170a9c",
   "metadata": {},
   "source": [
    "## Oanda: Check for SL/TP Events"
   ]
  },
  {
   "cell_type": "markdown",
   "id": "5694ce63",
   "metadata": {},
   "source": [
    "__Problem in Trading Bot: it doesn´t record TP/SL trades__"
   ]
  },
  {
   "cell_type": "code",
   "execution_count": null,
   "id": "6b337245",
   "metadata": {},
   "outputs": [],
   "source": [
    "trader.position = 1\n",
    "trader.position # trading position recorded by the class (-1, 0, 1)"
   ]
  },
  {
   "cell_type": "code",
   "execution_count": null,
   "id": "e90b34a4",
   "metadata": {},
   "outputs": [],
   "source": [
    "exp_position = round(trader.position*trader.units, 0) # expected_position in EUR units\n",
    "exp_position"
   ]
  },
  {
   "cell_type": "code",
   "execution_count": null,
   "id": "d2b2b9dd",
   "metadata": {},
   "outputs": [],
   "source": [
    "positions = trader.get_positions() # open positions on Oanda.com\n",
    "positions"
   ]
  },
  {
   "cell_type": "code",
   "execution_count": null,
   "id": "ec838ddc",
   "metadata": {},
   "outputs": [],
   "source": [
    "# actual/true EUR/USD position in EUR units\n",
    "actual_position = 0\n",
    "for pos in positions:\n",
    "    if pos[\"instrument\"] == trader.instrument:\n",
    "        actual_position = round(float(pos[\"long\"][\"units\"]) + float(pos[\"short\"][\"units\"]), 0)\n",
    "actual_position"
   ]
  },
  {
   "cell_type": "markdown",
   "id": "a417e54b",
   "metadata": {},
   "source": [
    "__Double-Check if expected EUR/USD position != actual/true EUR/USD position__"
   ]
  },
  {
   "cell_type": "markdown",
   "id": "8e95d4c7",
   "metadata": {},
   "source": [
    "(strong indication for SL/TP Event)"
   ]
  },
  {
   "cell_type": "code",
   "execution_count": null,
   "id": "f6126b50",
   "metadata": {},
   "outputs": [],
   "source": [
    "if actual_position != exp_position: # if not equal\n",
    "    trader.position = actual_position / trader.units # set true/actual trading position\n",
    "    print(\"Go Neutral and Stop Trading Session\") # most reasonable action to be taken"
   ]
  },
  {
   "cell_type": "code",
   "execution_count": null,
   "id": "cc53e337",
   "metadata": {},
   "outputs": [],
   "source": [
    "trader.position"
   ]
  },
  {
   "cell_type": "code",
   "execution_count": null,
   "id": "6d3af7e9",
   "metadata": {},
   "outputs": [],
   "source": []
  },
  {
   "cell_type": "markdown",
   "id": "2ca16816",
   "metadata": {},
   "source": [
    "## Oanda: Adding Stop Loss & Take Profit"
   ]
  },
  {
   "cell_type": "code",
   "execution_count": null,
   "id": "4372fc98",
   "metadata": {},
   "outputs": [],
   "source": [
    "import pandas as pd\n",
    "import numpy as np\n",
    "import tpqoa\n",
    "from datetime import datetime, timezone, timedelta # timezone added\n",
    "import time\n",
    "import warnings\n",
    "warnings.filterwarnings('ignore')"
   ]
  },
  {
   "cell_type": "code",
   "execution_count": null,
   "id": "d0cda190",
   "metadata": {},
   "outputs": [],
   "source": [
    "class ConTrader(tpqoa.tpqoa):\n",
    "    def __init__(self, conf_file, instrument, bar_length, window, units, sl_perc = None, tsl_perc = None, tp_perc = None):\n",
    "        super().__init__(conf_file)\n",
    "        self.instrument = instrument\n",
    "        self.bar_length = pd.to_timedelta(bar_length)\n",
    "        self.tick_data = pd.DataFrame()\n",
    "        self.raw_data = None\n",
    "        self.data = None \n",
    "        self.last_bar = None\n",
    "        self.units = units\n",
    "        self.position = 0\n",
    "        self.profits = [] \n",
    "        self.sl_perc = sl_perc # NEW\n",
    "        self.tsl_perc = tsl_perc # NEW\n",
    "        self.tp_perc = tp_perc # NEW\n",
    "        \n",
    "        #*****************add strategy-specific attributes here******************\n",
    "        self.window = window\n",
    "        #************************************************************************\n",
    "    \n",
    "    def get_most_recent(self, days = 5):\n",
    "        while True:\n",
    "            time.sleep(2)\n",
    "            now = datetime.now(timezone.utc).replace(tzinfo=None) # new (Python 3.12)\n",
    "            now = now - timedelta(microseconds = now.microsecond)\n",
    "            past = now - timedelta(days = days)\n",
    "            df = self.get_history(instrument = self.instrument, start = past, end = now,\n",
    "                                   granularity = \"S5\", price = \"M\", localize = False).c.dropna().to_frame()\n",
    "            df.rename(columns = {\"c\":self.instrument}, inplace = True)\n",
    "            df = df.resample(self.bar_length, label = \"right\").last().dropna().iloc[:-1]\n",
    "            self.raw_data = df.copy()\n",
    "            self.last_bar = self.raw_data.index[-1]\n",
    "            if pd.to_datetime(datetime.now(timezone.utc)) - self.last_bar < self.bar_length:\n",
    "                break\n",
    "            \n",
    "    def start_trading(self, days, max_attempts = 5, wait = 20, wait_increase = 0): # Error Handling\n",
    "        attempt = 0\n",
    "        success = False\n",
    "        while True:\n",
    "            try:\n",
    "                self.get_most_recent(days)\n",
    "                self.stream_data(self.instrument)\n",
    "            except Exception as e:\n",
    "                print(e, end = \" | \")\n",
    "            else:\n",
    "                success = True\n",
    "                break    \n",
    "            finally:\n",
    "                attempt +=1\n",
    "                print(\"Attempt: {}\".format(attempt), end = '\\n')\n",
    "                if success == False:\n",
    "                    if attempt >= max_attempts:\n",
    "                        print(\"max_attempts reached!\")\n",
    "                        try: # try to terminate session\n",
    "                            time.sleep(wait)\n",
    "                            self.terminate_session(cause = \"Unexpected Session Stop (too many errors).\")\n",
    "                        except Exception as e:\n",
    "                            print(e, end = \" | \")\n",
    "                            print(\"Could not terminate session properly!\")\n",
    "                        finally: \n",
    "                            break\n",
    "                    else: # try again\n",
    "                        time.sleep(wait)\n",
    "                        wait += wait_increase\n",
    "                        self.tick_data = pd.DataFrame()\n",
    "        \n",
    "    def on_success(self, time, bid, ask):\n",
    "        print(self.ticks, end = '\\r', flush = True)\n",
    "        \n",
    "        recent_tick = pd.to_datetime(time)\n",
    "        \n",
    "        # define stop\n",
    "        if self.ticks >= 200:\n",
    "            self.terminate_session(cause = \"Scheduled Session End.\")\n",
    "            return\n",
    "        \n",
    "        # collect and store tick data\n",
    "        df = pd.DataFrame({self.instrument:(ask + bid)/2}, \n",
    "                          index = [recent_tick])\n",
    "        self.tick_data = pd.concat([self.tick_data, df]) \n",
    "        \n",
    "        # if a time longer than the bar_lenght has elapsed between last full bar and the most recent tick\n",
    "        if recent_tick - self.last_bar >= self.bar_length:\n",
    "            self.resample_and_join()\n",
    "            self.define_strategy()\n",
    "            #self.execute_trades() now called inside self.check_positions()\n",
    "            self.check_positions()\n",
    "            \n",
    "    def resample_and_join(self):\n",
    "        self.raw_data = pd.concat([self.raw_data, self.tick_data.resample(self.bar_length, \n",
    "                                                                          label=\"right\").last().ffill().iloc[:-1]])\n",
    "        self.tick_data = self.tick_data.iloc[-1:]\n",
    "        self.last_bar = self.raw_data.index[-1]\n",
    "        \n",
    "    def define_strategy(self): # \"strategy-specific\"\n",
    "        df = self.raw_data.copy()\n",
    "        \n",
    "        #******************** define your strategy here ************************\n",
    "        df[\"returns\"] = np.log(df[self.instrument] / df[self.instrument].shift())\n",
    "        df[\"position\"] = -np.sign(df.returns.rolling(self.window).mean())\n",
    "        #***********************************************************************\n",
    "        \n",
    "        self.data = df.copy()\n",
    "        \n",
    "    def execute_trades(self):\n",
    "        \n",
    "        # NEW - determne SL distance and TP Price\n",
    "        current_price = self.data[self.instrument].iloc[-1]\n",
    "        \n",
    "        if self.sl_perc:\n",
    "            sl_dist = round(current_price * self.sl_perc, 4) \n",
    "        else: \n",
    "            sl_dist = None\n",
    "            \n",
    "            \n",
    "        if self.tsl_perc:\n",
    "            tsl_dist = round(current_price * self.tsl_perc, 4) \n",
    "        else: \n",
    "            tsl_dist = None\n",
    "            \n",
    "        \n",
    "        if self.tp_perc:\n",
    "            if self.data[\"position\"].iloc[-1] == 1:\n",
    "                tp_price = round(current_price * (1 + self.tp_perc), 2) \n",
    "            elif self.data[\"position\"].iloc[-1] == -1:\n",
    "                tp_price = round(current_price * (1 - self.tp_perc), 2)      \n",
    "        else: \n",
    "            tp_price = None\n",
    "        \n",
    "        if self.data[\"position\"].iloc[-1] == 1:\n",
    "            if self.position == 0:\n",
    "                order = self.create_order(self.instrument, self.units, suppress = True, ret = True,\n",
    "                                          sl_distance = sl_dist, tsl_distance = tsl_dist, tp_price = tp_price)\n",
    "                self.report_trade(order, \"GOING LONG\")  \n",
    "            elif self.position == -1:\n",
    "                order = self.create_order(self.instrument, self.units * 2, suppress = True, ret = True,\n",
    "                                          sl_distance = sl_dist, tsl_distance = tsl_dist, tp_price = tp_price) \n",
    "                self.report_trade(order, \"GOING LONG\")  \n",
    "            self.position = 1\n",
    "        elif self.data[\"position\"].iloc[-1] == -1: \n",
    "            if self.position == 0:\n",
    "                order = self.create_order(self.instrument, -self.units, suppress = True, ret = True,\n",
    "                                          sl_distance = sl_dist, tsl_distance = tsl_dist, tp_price = tp_price)\n",
    "                self.report_trade(order, \"GOING SHORT\")  \n",
    "            elif self.position == 1:\n",
    "                order = self.create_order(self.instrument, -self.units * 2, suppress = True, ret = True,\n",
    "                                          sl_distance = sl_dist, tsl_distance = tsl_dist, tp_price = tp_price)\n",
    "                self.report_trade(order, \"GOING SHORT\")  \n",
    "            self.position = -1\n",
    "        elif self.data[\"position\"].iloc[-1] == 0: \n",
    "            if self.position == -1:\n",
    "                order = self.create_order(self.instrument, self.units, suppress = True, ret = True) \n",
    "                self.report_trade(order, \"GOING NEUTRAL\")  \n",
    "            elif self.position == 1:\n",
    "                order = self.create_order(self.instrument, -self.units, suppress = True, ret = True)\n",
    "                self.report_trade(order, \"GOING NEUTRAL\")  \n",
    "            self.position = 0\n",
    "    \n",
    "    def report_trade(self, order, going):  \n",
    "        self.order_id = order[\"id\"] # Added! Order_ID of the latest recorded trade\n",
    "        time = order[\"time\"]\n",
    "        units = order[\"units\"]\n",
    "        price = order[\"price\"]\n",
    "        pl = float(order[\"pl\"])\n",
    "        self.profits.append(pl)\n",
    "        cumpl = sum(self.profits)\n",
    "        print(\"\\n\" + 100* \"-\")\n",
    "        print(\"{} | {}\".format(time, going))\n",
    "        print(\"{} | units = {} | price = {} | P&L = {} | Cum P&L = {}\".format(time, units, price, pl, cumpl))\n",
    "        print(100 * \"-\" + \"\\n\")  \n",
    "        \n",
    "    def terminate_session(self, cause):\n",
    "        self.stop_stream = True\n",
    "        if self.position != 0:\n",
    "            close_order = self.create_order(self.instrument, units = -self.position * self.units,\n",
    "                                            suppress = True, ret = True) \n",
    "            self.report_trade(close_order, \"GOING NEUTRAL\")\n",
    "            self.position = 0\n",
    "        print(cause, end = \" | \")\n",
    "    \n",
    "    def check_positions(self): # NEW!\n",
    "        exp_position = self.position*self.units # get current (exp.) position\n",
    "        \n",
    "        # get current actual position\n",
    "        try:\n",
    "            positions = self.get_positions()\n",
    "            actual_position = 0\n",
    "            for pos in positions:\n",
    "                if pos[\"instrument\"] == self.instrument:\n",
    "                    actual_position = round(float(pos[\"long\"][\"units\"]) + float(pos[\"short\"][\"units\"]), 0)\n",
    "        except:\n",
    "            actual_position = exp_position \n",
    "        \n",
    "        if actual_position != exp_position: # if mismatch (sl/tp triggered)\n",
    "            self.position = actual_position / self.units # update self.position\n",
    "            try:\n",
    "                latest_actions = self.get_transactions(self.order_id) # get all actions since last recorded trade (excl.)\n",
    "                for action in latest_actions:\n",
    "                    if action[\"type\"] == \"ORDER_FILL\": # last filled order/trade (sl/tp trade!) \n",
    "                        self.report_trade(action, \"GOING NEUTRAL\") # report sl/tp trade\n",
    "            except:\n",
    "                pass\n",
    "            finally:\n",
    "                self.terminate_session(\"SL/TP Event!\") # stop session\n",
    "        elif self.position != self.data[\"position\"].iloc[-1]: # if no mismatch and trade required\n",
    "            self.execute_trades()\n",
    "        else: # if no mismatch and no trade required\n",
    "            pass"
   ]
  },
  {
   "cell_type": "code",
   "execution_count": null,
   "id": "4b7bd426",
   "metadata": {},
   "outputs": [],
   "source": [
    "trader = ConTrader(\"oanda.cfg\", \"EUR_USD\", \"1min\", window = 1, units = 10000,\n",
    "                   sl_perc = 0.01, tp_perc = 0.01)"
   ]
  },
  {
   "cell_type": "code",
   "execution_count": null,
   "id": "141accde",
   "metadata": {},
   "outputs": [],
   "source": [
    "trader.start_trading(days = 5, max_attempts =  3, wait = 20, wait_increase = 0)"
   ]
  },
  {
   "cell_type": "code",
   "execution_count": null,
   "id": "dd691f3d",
   "metadata": {},
   "outputs": [],
   "source": []
  },
  {
   "cell_type": "markdown",
   "id": "3c3c01f2",
   "metadata": {},
   "source": [
    "## IBKR: Contrader Class without Take Profit & Stop Loss (Recap)"
   ]
  },
  {
   "cell_type": "markdown",
   "id": "78f3ad48",
   "metadata": {},
   "source": [
    "_Disclaimer: <br>\n",
    "The following illustrative examples are for general information and educational purposes only. <br>\n",
    "It is neither investment advice nor a recommendation to trade, invest or take whatsoever actions.<br>\n",
    "The below code should only be used in combination with an IBKR Practice/Demo Account and NOT with a Live Trading Account._"
   ]
  },
  {
   "cell_type": "code",
   "execution_count": null,
   "id": "397c5457",
   "metadata": {},
   "outputs": [],
   "source": [
    "from ib_async import * \n",
    "import pandas as pd\n",
    "import numpy as np\n",
    "import datetime as dt\n",
    "from datetime import datetime, timezone # new\n",
    "from IPython.display import display, clear_output\n",
    "util.startLoop()"
   ]
  },
  {
   "cell_type": "code",
   "execution_count": null,
   "id": "70872bb2",
   "metadata": {},
   "outputs": [],
   "source": [
    "def start_session():\n",
    "    global last_update, session_start\n",
    "    \n",
    "    last_update = datetime.now(timezone.utc) # NEW \n",
    "    session_start = pd.to_datetime(last_update) # Updated (Python 3.12)\n",
    "    \n",
    "    initialize_stream()  \n",
    "    stop_session()\n",
    "\n",
    "def initialize_stream(): \n",
    "    global bars, last_bar\n",
    "    \n",
    "    bars = ib.reqHistoricalData(\n",
    "            contract,\n",
    "            endDateTime='',\n",
    "            durationStr='1 D',\n",
    "            barSizeSetting=freq,\n",
    "            whatToShow='MIDPOINT',\n",
    "            useRTH=True,\n",
    "            formatDate=2,\n",
    "            keepUpToDate=True)\n",
    "    last_bar = bars[-1].date\n",
    "    bars.updateEvent += onBarUpdate \n",
    "    \n",
    "def onBarUpdate(bars, hasNewBar):  \n",
    "    global df, last_bar, last_update\n",
    "    \n",
    "    last_update = datetime.now(timezone.utc) # NEW\n",
    "    \n",
    "    if bars[-1].date > last_bar: \n",
    "        last_bar = bars[-1].date\n",
    "    \n",
    "        # Data Processing\n",
    "        df = pd.DataFrame(bars)[[\"date\", \"open\", \"high\", \"low\", \"close\"]].iloc[:-1] \n",
    "        df.set_index(\"date\", inplace = True)\n",
    "        \n",
    "        ####################### Trading Strategy ###########################\n",
    "        df = df[[\"close\"]].copy()\n",
    "        df[\"returns\"] = np.log(df[\"close\"] / df[\"close\"].shift())\n",
    "        df[\"position\"] = -np.sign(df.returns.rolling(window).mean())\n",
    "        ####################################################################\n",
    "        \n",
    "        # Trading\n",
    "        target = df[\"position\"][-1] * units\n",
    "        execute_trade(target = target)\n",
    "        \n",
    "        # Display\n",
    "        clear_output(wait=True)\n",
    "        display(df)\n",
    "    else:\n",
    "        try:\n",
    "            trade_reporting()\n",
    "        except:\n",
    "            pass\n",
    "\n",
    "def execute_trade(target):\n",
    "    global current_pos\n",
    "    \n",
    "    # 1. get current Position\n",
    "    try:\n",
    "        current_pos = [pos.position for pos in ib.positions() if pos.contract.conId == conID][0]\n",
    "    except:\n",
    "        current_pos = 0\n",
    "         \n",
    "    # 2. identify required trades\n",
    "    trades = target - current_pos\n",
    "        \n",
    "    # 3. trade execution\n",
    "    if trades > 0:\n",
    "        side = \"BUY\"\n",
    "        order = MarketOrder(side, abs(trades))\n",
    "        trade = ib.placeOrder(cfd, order)  \n",
    "    elif trades < 0:\n",
    "        side = \"SELL\"\n",
    "        order = MarketOrder(side, abs(trades))\n",
    "        trade = ib.placeOrder(cfd, order)\n",
    "    else:\n",
    "        pass\n",
    "\n",
    "def trade_reporting():\n",
    "    global report\n",
    "    \n",
    "    fill_df = util.df([fs.execution for fs in ib.fills()])[[\"execId\", \"time\", \"side\", \"cumQty\", \"avgPrice\"]].set_index(\"execId\")\n",
    "    profit_df = util.df([fs.commissionReport for fs in ib.fills()])[[\"execId\", \"realizedPNL\"]].set_index(\"execId\")\n",
    "    report = pd.concat([fill_df, profit_df], axis = 1).set_index(\"time\").loc[session_start:]\n",
    "    report = report.groupby(\"time\").agg({\"side\":\"first\", \"cumQty\":\"max\", \"avgPrice\":\"mean\", \"realizedPNL\":\"sum\"})\n",
    "    report[\"cumPNL\"] = report.realizedPNL.cumsum()\n",
    "        \n",
    "    clear_output(wait=True)\n",
    "    display(df, report)\n",
    "\n",
    "def stop_session():\n",
    "    while True:\n",
    "        ib.sleep(5) \n",
    "        if datetime.now(timezone.utc).time() >= end_time:\n",
    "            execute_trade(target = 0) \n",
    "            ib.cancelHistoricalData(bars) \n",
    "            ib.sleep(10)\n",
    "            try:\n",
    "                trade_reporting() \n",
    "            except:\n",
    "                pass\n",
    "            print(\"Session Stopped (planned).\")\n",
    "            ib.disconnect()\n",
    "            break\n",
    "        elif datetime.now(timezone.utc) - last_update > dt.timedelta(seconds=120):\n",
    "                # if there was no streaming update in the last 120 seconds\n",
    "                ib.cancelHistoricalData(bars)\n",
    "                ib.sleep(5)\n",
    "                try: # try to reestablish stream\n",
    "                    initialize_stream()\n",
    "                except: # stop session\n",
    "                    ib.sleep(5)\n",
    "                    try:\n",
    "                        execute_trade(target = 0) # close open position \n",
    "                    except:\n",
    "                        pass\n",
    "                    ib.sleep(10)\n",
    "                    try:\n",
    "                        trade_reporting() # final reporting\n",
    "                    except:\n",
    "                        pass\n",
    "                    print(\"Session Stopped - No Connection.\")\n",
    "                    ib.disconnect()\n",
    "                    break\n",
    "        else:\n",
    "            pass"
   ]
  },
  {
   "cell_type": "code",
   "execution_count": null,
   "id": "11585f30",
   "metadata": {},
   "outputs": [],
   "source": [
    "ib = IB()\n",
    "ib.connect()"
   ]
  },
  {
   "cell_type": "code",
   "execution_count": null,
   "id": "c0646526",
   "metadata": {},
   "outputs": [],
   "source": [
    "# strategy parameters\n",
    "freq = \"1 min\"\n",
    "window = 1\n",
    "units = 1000\n",
    "end_time = (datetime.now(timezone.utc) + dt.timedelta(seconds = 330)).time() # stop condition (5.5 mins from now)\n",
    "contract = Forex('EURUSD') \n",
    "ib.qualifyContracts(contract)\n",
    "cfd = CFD(\"EUR\", currency = \"USD\")\n",
    "ib.qualifyContracts(cfd)\n",
    "conID = cfd.conId"
   ]
  },
  {
   "cell_type": "code",
   "execution_count": null,
   "id": "893a5a44",
   "metadata": {},
   "outputs": [],
   "source": [
    "start_session()"
   ]
  },
  {
   "cell_type": "code",
   "execution_count": null,
   "id": "c1f62b22",
   "metadata": {},
   "outputs": [],
   "source": []
  },
  {
   "cell_type": "markdown",
   "id": "3087cdda",
   "metadata": {},
   "source": [
    "## IBKR: How to create Stop Loss and Take Profit Orders"
   ]
  },
  {
   "cell_type": "code",
   "execution_count": null,
   "id": "cfdb97bb",
   "metadata": {},
   "outputs": [],
   "source": [
    "from ib_async import * \n",
    "import pandas as pd\n",
    "import numpy as np\n",
    "import datetime as dt\n",
    "from datetime import datetime, timezone # new\n",
    "from IPython.display import display, clear_output\n",
    "util.startLoop()"
   ]
  },
  {
   "cell_type": "code",
   "execution_count": null,
   "id": "3af93717",
   "metadata": {},
   "outputs": [],
   "source": [
    "ib = IB()\n",
    "ib.connect()"
   ]
  },
  {
   "cell_type": "code",
   "execution_count": null,
   "id": "5db2df55",
   "metadata": {},
   "outputs": [],
   "source": [
    "cfd = CFD(\"EUR\", currency = \"USD\")\n",
    "ib.qualifyContracts(cfd)\n",
    "conID = cfd.conId"
   ]
  },
  {
   "cell_type": "code",
   "execution_count": null,
   "id": "96456d46",
   "metadata": {},
   "outputs": [],
   "source": [
    "def BracketOrder(parentOrderId, childOrderId1, childOrderId2,\n",
    "                 action, quantity, stopLossPrice = None, takeProfitPrice = None):\n",
    "    global stopLoss, takeProfit\n",
    "    \n",
    "    # Market Order (parent) - GO LONG or GO SHORT\n",
    "    parent = Order()\n",
    "    parent.orderId = parentOrderId\n",
    "    parent.action = action\n",
    "    parent.orderType = \"MKT\"\n",
    "    parent.totalQuantity = quantity\n",
    "    if not stopLossPrice and not takeProfitPrice: # if no sl/tp specified\n",
    "        parent.transmit = True # transmit mkt order only\n",
    "    else:\n",
    "        parent.transmit = False\n",
    "        \n",
    "    bracketOrder = [parent]\n",
    "\n",
    "    if stopLossPrice: # if sl specified\n",
    "        # attached Stop Loss Order (child) \n",
    "        stopLoss = Order()\n",
    "        stopLoss.orderId = childOrderId1\n",
    "        stopLoss.action = \"SELL\" if action == \"BUY\" else \"BUY\"\n",
    "        stopLoss.orderType = \"STP\"\n",
    "        stopLoss.auxPrice = stopLossPrice\n",
    "        stopLoss.totalQuantity = quantity\n",
    "        stopLoss.parentId = parentOrderId\n",
    "        if not takeProfitPrice: # if no tp specified\n",
    "            stopLoss.transmit = True # transmit mkt order and sl order\n",
    "        else:\n",
    "            stopLoss.transmit = False\n",
    "        bracketOrder.append(stopLoss)\n",
    "    \n",
    "    if takeProfitPrice:\n",
    "        # attached Take Profit Order (child)\n",
    "        takeProfit = Order()\n",
    "        takeProfit.orderId = childOrderId2\n",
    "        takeProfit.action = \"SELL\" if action == \"BUY\" else \"BUY\"\n",
    "        takeProfit.orderType = \"LMT\"\n",
    "        takeProfit.totalQuantity = quantity\n",
    "        takeProfit.lmtPrice = takeProfitPrice\n",
    "        takeProfit.parentId = parentOrderId\n",
    "        takeProfit.transmit = True # transmit all three orders\n",
    "        bracketOrder.append(takeProfit)\n",
    "        \n",
    "    return bracketOrder "
   ]
  },
  {
   "cell_type": "code",
   "execution_count": null,
   "id": "f4a2d28d",
   "metadata": {},
   "outputs": [],
   "source": [
    "# 1. BracketOrder with Mkt Order and SL (optional) and TP (optional)\n",
    "bracket = BracketOrder(parentOrderId = ib.client.getReqId(), \n",
    "                       childOrderId1 = ib.client.getReqId(), \n",
    "                       childOrderId2 = ib.client.getReqId(),\n",
    "                       action = \"BUY\",\n",
    "                       quantity = 1000,\n",
    "                       stopLossPrice = None, \n",
    "                       takeProfitPrice = None,\n",
    "                      )\n",
    "bracket"
   ]
  },
  {
   "cell_type": "code",
   "execution_count": null,
   "id": "2166ec36",
   "metadata": {},
   "outputs": [],
   "source": [
    "# place all orders in BracketOrder\n",
    "for o in bracket:\n",
    "    ib.placeOrder(cfd, o)"
   ]
  },
  {
   "cell_type": "code",
   "execution_count": null,
   "id": "8400868b",
   "metadata": {},
   "outputs": [],
   "source": [
    "# close all positions/orders\n",
    "try:\n",
    "    ib.cancelOrder(stopLoss)\n",
    "except:\n",
    "    pass\n",
    "try:\n",
    "    ib.cancelOrder(takeProfit)\n",
    "except:\n",
    "    pass\n",
    "order = MarketOrder(\"Sell\", 1000)\n",
    "ib.placeOrder(cfd, order)"
   ]
  },
  {
   "cell_type": "code",
   "execution_count": null,
   "id": "324b6584",
   "metadata": {},
   "outputs": [],
   "source": []
  },
  {
   "cell_type": "markdown",
   "id": "782242b1",
   "metadata": {},
   "source": [
    "## IBKR: Stop Loss and Take Profit - Pitfalls and other Considerations"
   ]
  },
  {
   "cell_type": "markdown",
   "id": "00876b94",
   "metadata": {},
   "source": [
    "__Be careful__: \n",
    "- SL Price must be below (above) Market Entry Price in Long (Short) position\n",
    "- TP Price must be above (below) Market Entry Price in Long (Short) position\n",
    "- Stop Loss and Take Profit Prices must be limited to [5] decimals [EUR/USD]"
   ]
  },
  {
   "cell_type": "markdown",
   "id": "f7144287",
   "metadata": {},
   "source": [
    "__Setting Stop Loss Price and Take Profit Price__"
   ]
  },
  {
   "cell_type": "markdown",
   "id": "81ae8801",
   "metadata": {},
   "source": [
    "Typically: Define Maximum Loss & Take Profit in % (e.g. 1% loss -> 10% if leverage == 10)"
   ]
  },
  {
   "cell_type": "code",
   "execution_count": null,
   "id": "a677e7df",
   "metadata": {},
   "outputs": [],
   "source": [
    "sl_perc = 0.01 # SL Event if Price moves into the wrong direction by 1%\n",
    "tp_perc = 0.01 # TP Event if Price moves into the right direction by 1%"
   ]
  },
  {
   "cell_type": "code",
   "execution_count": null,
   "id": "328af374",
   "metadata": {},
   "outputs": [],
   "source": [
    "current_price = 1.10"
   ]
  },
  {
   "cell_type": "code",
   "execution_count": null,
   "id": "98856b86",
   "metadata": {},
   "outputs": [],
   "source": [
    "target = -1 # (Target Position: -1/0/1)"
   ]
  },
  {
   "cell_type": "code",
   "execution_count": null,
   "id": "7a29eb2f",
   "metadata": {},
   "outputs": [],
   "source": [
    "if sl_perc:\n",
    "        if target > 0: # LONG\n",
    "            sl_price = round(current_price * (1 - sl_perc), 4) \n",
    "        elif target < 0: # SHORT\n",
    "            sl_price = round(current_price * (1 + sl_perc), 4)      \n",
    "        else: \n",
    "            sl_price = None\n",
    "\n",
    "if tp_perc:\n",
    "        if target > 0: # LONG\n",
    "            tp_price = round(current_price * (1 + tp_perc), 4) \n",
    "        elif target < 0: # SHORT\n",
    "            tp_price = round(current_price * (1 - tp_perc), 4)      \n",
    "        else: \n",
    "            tp_price = None"
   ]
  },
  {
   "cell_type": "code",
   "execution_count": null,
   "id": "a0b3da7b",
   "metadata": {},
   "outputs": [],
   "source": [
    "sl_price"
   ]
  },
  {
   "cell_type": "code",
   "execution_count": null,
   "id": "e5fb3d9d",
   "metadata": {},
   "outputs": [],
   "source": [
    "tp_price"
   ]
  },
  {
   "cell_type": "markdown",
   "id": "83ce2add",
   "metadata": {},
   "source": [
    "__Identification of SL/TP Events__"
   ]
  },
  {
   "cell_type": "markdown",
   "id": "d9e6b5ea",
   "metadata": {},
   "source": [
    "Problem in Trading Bot: it doesn´t record TP/SL trades"
   ]
  },
  {
   "cell_type": "markdown",
   "id": "de011e53",
   "metadata": {},
   "source": [
    "Solution: Check if expected trading position == actual trading position (if not: very likely SL/TP Event)"
   ]
  },
  {
   "cell_type": "code",
   "execution_count": null,
   "id": "873dc3b1",
   "metadata": {},
   "outputs": [],
   "source": []
  },
  {
   "cell_type": "markdown",
   "id": "29f4d23c",
   "metadata": {},
   "source": [
    "## IBKR: Adding Stop Loss and Take Profit to the Class"
   ]
  },
  {
   "cell_type": "code",
   "execution_count": null,
   "id": "92c1f896",
   "metadata": {},
   "outputs": [],
   "source": [
    "from ib_async import * \n",
    "import pandas as pd\n",
    "import numpy as np\n",
    "import datetime as dt\n",
    "from datetime import datetime, timezone # new\n",
    "from IPython.display import display, clear_output\n",
    "util.startLoop()"
   ]
  },
  {
   "cell_type": "code",
   "execution_count": null,
   "id": "6676dff3",
   "metadata": {},
   "outputs": [],
   "source": [
    "def start_session():\n",
    "    global last_update, session_start, exp_pos, current_pos\n",
    "    \n",
    "    exp_pos = 0 # Added\n",
    "    current_pos = 0 # Added\n",
    "    last_update = datetime.now(timezone.utc) # NEW \n",
    "    session_start = pd.to_datetime(last_update) # Updated (Python 3.12)\n",
    "    \n",
    "    initialize_stream()  \n",
    "    stop_session()\n",
    "\n",
    "def initialize_stream(): \n",
    "    global bars, last_bar\n",
    "    \n",
    "    bars = ib.reqHistoricalData(\n",
    "            contract,\n",
    "            endDateTime='',\n",
    "            durationStr='1 D',\n",
    "            barSizeSetting=freq,\n",
    "            whatToShow='MIDPOINT',\n",
    "            useRTH=True,\n",
    "            formatDate=2,\n",
    "            keepUpToDate=True)\n",
    "    last_bar = bars[-1].date\n",
    "    bars.updateEvent += onBarUpdate \n",
    "    \n",
    "def onBarUpdate(bars, hasNewBar):  \n",
    "    global df, last_bar, last_update\n",
    "    \n",
    "    last_update = datetime.now(timezone.utc) # NEW\n",
    "    \n",
    "    if bars[-1].date > last_bar: \n",
    "        last_bar = bars[-1].date\n",
    "    \n",
    "        # Data Processing\n",
    "        df = pd.DataFrame(bars)[[\"date\", \"open\", \"high\", \"low\", \"close\"]].iloc[:-1] \n",
    "        df.set_index(\"date\", inplace = True)\n",
    "        \n",
    "        ####################### Trading Strategy ###########################\n",
    "        df = df[[\"close\"]].copy()\n",
    "        df[\"returns\"] = np.log(df[\"close\"] / df[\"close\"].shift())\n",
    "        df[\"position\"] = -np.sign(df.returns.rolling(window).mean())\n",
    "        ####################################################################\n",
    "        \n",
    "        # Trading\n",
    "        target = df[\"position\"][-1] * units\n",
    "        execute_trade(target = target)\n",
    "        \n",
    "        # Display\n",
    "        clear_output(wait=True)\n",
    "        display(df)\n",
    "    else:\n",
    "        try:\n",
    "            trade_reporting()\n",
    "        except:\n",
    "            pass\n",
    "\n",
    "def execute_trade(target): # Modified!!!\n",
    "    global exp_pos\n",
    "         \n",
    "    # 1. identify required trades\n",
    "    trades = target - exp_pos\n",
    "    \n",
    "    # 2. determine SL Price and TP Price\n",
    "    current_price = df.close.iloc[-1]\n",
    "\n",
    "    if sl_perc:\n",
    "        if target > 0: # LONG\n",
    "            sl_price = round(current_price * (1 - sl_perc), 4) \n",
    "        elif target < 0: # SHORT\n",
    "            sl_price = round(current_price * (1 + sl_perc), 4)      \n",
    "    else: \n",
    "        sl_price = None\n",
    "\n",
    "    if tp_perc:\n",
    "        if target > 0: # LONG\n",
    "            tp_price = round(current_price * (1 + tp_perc), 4) \n",
    "        elif target < 0: # SHORT\n",
    "            tp_price = round(current_price * (1 - tp_perc), 4)      \n",
    "    else: \n",
    "        tp_price = None\n",
    "        \n",
    "    # 3. trade execution\n",
    "    if target > 0: # GOING LONG\n",
    "        if current_pos == 0: # from NEUTRAL\n",
    "            go_long_short(side = \"BUY\", target = target, sl_price = sl_price, tp_price = tp_price) \n",
    "        elif current_pos < 0: # from SHORT:\n",
    "            cancel_orders() # cancel sl/tp orders\n",
    "            go_neutral(side = \"BUY\", trades = current_pos)\n",
    "            go_long_short(side = \"BUY\", target = target, sl_price = sl_price, tp_price = tp_price)\n",
    "    elif target < 0: # GOING SHORT\n",
    "        if current_pos == 0: # from NEUTRAL  \n",
    "            go_long_short(side = \"SELL\", target = abs(target), sl_price = sl_price, tp_price = tp_price) \n",
    "        elif current_pos > 0: # from LONG\n",
    "            cancel_orders() # cancel sl/tp orders\n",
    "            go_neutral(side = \"SELL\", trades = current_pos)\n",
    "            go_long_short(side = \"SELL\", target = abs(target), sl_price = sl_price, tp_price = tp_price)\n",
    "    else: # GOING NEUTRAL\n",
    "        if current_pos < 0: # from SHORT\n",
    "            cancel_orders() # cancel sl/tp orders\n",
    "            go_neutral(side = \"BUY\", trades = current_pos)\n",
    "        elif current_pos > 0: # from LONG:\n",
    "            cancel_orders() # cancel sl/tp orders\n",
    "            go_neutral(side = \"SELL\", trades = current_pos)\n",
    "    exp_pos = target\n",
    "\n",
    "def go_long_short(side, target, sl_price, tp_price): # NEW Go Long/Short starting from Neutral posistion\n",
    "    bracket = BracketOrder(parentOrderId = ib.client.getReqId(), \n",
    "                           childOrderId1 = ib.client.getReqId(), \n",
    "                            childOrderId2 = ib.client.getReqId(),\n",
    "                            action = side,\n",
    "                            quantity = target,\n",
    "                            stopLossPrice = sl_price, \n",
    "                            takeProfitPrice = tp_price,\n",
    "                          )\n",
    "    for o in bracket:\n",
    "        order = ib.placeOrder(cfd, o)\n",
    "    \n",
    "def go_neutral(side, trades): # Close Long/Short position\n",
    "    order = MarketOrder(side, abs(trades))\n",
    "    trade = ib.placeOrder(cfd, order)    \n",
    "    \n",
    "def cancel_orders(): # cancel SL/TP orders\n",
    "    try:\n",
    "        sl_cancel = ib.cancelOrder(stopLoss)\n",
    "    except:\n",
    "        pass\n",
    "    try:\n",
    "        tp_cancel = ib.cancelOrder(takeProfit)\n",
    "    except:\n",
    "        pass \n",
    "\n",
    "def BracketOrder(parentOrderId, childOrderId1, childOrderId2,\n",
    "                 action, quantity, stopLossPrice, takeProfitPrice): # NEW\n",
    "    global stopLoss, takeProfit\n",
    "    \n",
    "    # Market Order (parent) - GO LONG or GO SHORT\n",
    "    parent = Order()\n",
    "    parent.orderId = parentOrderId\n",
    "    parent.action = action\n",
    "    parent.orderType = \"MKT\"\n",
    "    parent.totalQuantity = quantity\n",
    "    if not stopLossPrice and not takeProfitPrice: \n",
    "        parent.transmit = True\n",
    "    else:\n",
    "        parent.transmit = False\n",
    "        \n",
    "    bracketOrder = [parent]\n",
    "\n",
    "    if stopLossPrice:\n",
    "        # attached Stop Loss Order (child) \n",
    "        stopLoss = Order()\n",
    "        stopLoss.orderId = childOrderId1\n",
    "        stopLoss.action = \"SELL\" if action == \"BUY\" else \"BUY\"\n",
    "        stopLoss.orderType = \"STP\"\n",
    "        stopLoss.auxPrice = stopLossPrice\n",
    "        stopLoss.totalQuantity = quantity\n",
    "        stopLoss.parentId = parentOrderId\n",
    "        if not takeProfitPrice: \n",
    "            stopLoss.transmit = True\n",
    "        else:\n",
    "            stopLoss.transmit = False\n",
    "        bracketOrder.append(stopLoss)\n",
    "    \n",
    "    if takeProfitPrice:\n",
    "        # attached Take Profit Order (child)\n",
    "        takeProfit = Order()\n",
    "        takeProfit.orderId = childOrderId2\n",
    "        takeProfit.action = \"SELL\" if action == \"BUY\" else \"BUY\"\n",
    "        takeProfit.orderType = \"LMT\"\n",
    "        takeProfit.totalQuantity = quantity\n",
    "        takeProfit.lmtPrice = takeProfitPrice\n",
    "        takeProfit.parentId = parentOrderId\n",
    "        takeProfit.transmit = True\n",
    "        bracketOrder.append(takeProfit)\n",
    "        \n",
    "    return bracketOrder \n",
    "    \n",
    "def trade_reporting():\n",
    "    global report\n",
    "    \n",
    "    fill_df = util.df([fs.execution for fs in ib.fills()])[[\"execId\", \"time\", \"side\", \"shares\", \"avgPrice\"]].set_index(\"execId\")\n",
    "    profit_df = util.df([fs.commissionReport for fs in ib.fills()])[[\"execId\", \"realizedPNL\"]].set_index(\"execId\")\n",
    "    report = pd.concat([fill_df, profit_df], axis = 1).set_index(\"time\").loc[session_start:]\n",
    "    report = report.groupby([\"time\", \"side\"]).agg({\"shares\":\"sum\", \"avgPrice\":\"mean\", \"realizedPNL\":\"sum\"}).reset_index().set_index(\"time\")\n",
    "    report[\"cumPNL\"] = report.realizedPNL.cumsum()\n",
    "        \n",
    "    clear_output(wait=True)\n",
    "    display(df, report)\n",
    "\n",
    "def stop_session(): # Third case added\n",
    "    global current_pos\n",
    "    \n",
    "    while True:\n",
    "        ib.sleep(5) \n",
    "        try:\n",
    "            current_pos = [pos.position for pos in ib.positions() if pos.contract.conId == conID][0]\n",
    "        except:\n",
    "            current_pos = 0\n",
    "        if datetime.now(timezone.utc).time() >= end_time:\n",
    "            execute_trade(target = 0) \n",
    "            ib.cancelHistoricalData(bars) \n",
    "            ib.sleep(10)\n",
    "            try:\n",
    "                trade_reporting() \n",
    "            except:\n",
    "                pass\n",
    "            print(\"Session Stopped (planned).\")\n",
    "            ib.disconnect()\n",
    "            break\n",
    "        elif exp_pos != current_pos: # if SL/TP Event\n",
    "            ib.sleep(5)\n",
    "            try:\n",
    "                current_pos = [pos.position for pos in ib.positions() if pos.contract.conId == conID][0]\n",
    "            except:\n",
    "                current_pos = 0\n",
    "            if exp_pos != current_pos:\n",
    "                execute_trade(target = 0) \n",
    "                ib.cancelHistoricalData(bars) \n",
    "                ib.sleep(10)\n",
    "                try:\n",
    "                    trade_reporting() \n",
    "                except:\n",
    "                    pass\n",
    "                print(\"Session Stopped (SL/TP Event).\")\n",
    "                ib.disconnect()\n",
    "                break\n",
    "            else:\n",
    "                pass\n",
    "        elif datetime.now(timezone.utc) - last_update > dt.timedelta(seconds=120):\n",
    "                # if there was no streaming update in the last 120 seconds\n",
    "                ib.cancelHistoricalData(bars)\n",
    "                ib.sleep(5)\n",
    "                try: # try to reestablish stream\n",
    "                    initialize_stream()\n",
    "                except: # stop session\n",
    "                    ib.sleep(5)\n",
    "                    try:\n",
    "                        execute_trade(target = 0) # close open position \n",
    "                    except:\n",
    "                        pass\n",
    "                    ib.sleep(10)\n",
    "                    try:\n",
    "                        trade_reporting() # final reporting\n",
    "                    except:\n",
    "                        pass\n",
    "                    print(\"Session Stopped - No Connection.\")\n",
    "                    ib.disconnect()\n",
    "                    break\n",
    "        else:\n",
    "            pass"
   ]
  },
  {
   "cell_type": "code",
   "execution_count": null,
   "id": "b1052748",
   "metadata": {},
   "outputs": [],
   "source": [
    "ib = IB()\n",
    "ib.connect()"
   ]
  },
  {
   "cell_type": "code",
   "execution_count": null,
   "id": "2b2f37d5",
   "metadata": {},
   "outputs": [],
   "source": [
    "# strategy parameters\n",
    "freq = \"1 min\"\n",
    "window = 1\n",
    "units = 1000\n",
    "end_time = (datetime.now(timezone.utc) + dt.timedelta(seconds = 330)).time() # stop condition (5.5 mins from now)\n",
    "sl_perc = 0.1\n",
    "tp_perc = 0.1\n",
    "contract = Forex('EURUSD') \n",
    "ib.qualifyContracts(contract)\n",
    "cfd = CFD(\"EUR\", currency = \"USD\")\n",
    "ib.qualifyContracts(cfd)\n",
    "conID = cfd.conId"
   ]
  },
  {
   "cell_type": "code",
   "execution_count": null,
   "id": "e91a5d30",
   "metadata": {},
   "outputs": [],
   "source": [
    "start_session()"
   ]
  },
  {
   "cell_type": "code",
   "execution_count": null,
   "id": "32371467",
   "metadata": {},
   "outputs": [],
   "source": []
  }
 ],
 "metadata": {
  "kernelspec": {
   "display_name": "Python 3 (ipykernel)",
   "language": "python",
   "name": "python3"
  },
  "language_info": {
   "codemirror_mode": {
    "name": "ipython",
    "version": 3
   },
   "file_extension": ".py",
   "mimetype": "text/x-python",
   "name": "python",
   "nbconvert_exporter": "python",
   "pygments_lexer": "ipython3",
   "version": "3.12.0"
  }
 },
 "nbformat": 4,
 "nbformat_minor": 5
}
