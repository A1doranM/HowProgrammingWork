{
 "cells": [
  {
   "cell_type": "markdown",
   "metadata": {},
   "source": [
    "# Trading Hours, Spreads and Granularity - control and limit Trading Costs"
   ]
  },
  {
   "cell_type": "markdown",
   "metadata": {},
   "source": [
    "__Goal__: Finding the right Trading hours and granularity to control and limit costs."
   ]
  },
  {
   "cell_type": "markdown",
   "metadata": {},
   "source": [
    "__Problem__: We can´t forecast returns with high accuracy -> In all cases where we predict market direction correctly, price movements/volatility must be large enough to cover trading costs."
   ]
  },
  {
   "cell_type": "markdown",
   "metadata": {},
   "source": [
    "__Solution__: <br> \n",
    "-Make Trades only during busy Trading hours (increased Volatility)<br>\n",
    "-Lower Granularity leads to larger price movements per bar/candle (to cover Trading Costs) \n"
   ]
  },
  {
   "cell_type": "markdown",
   "metadata": {},
   "source": [
    "__Trade Off__: The higher the Granularity the more likely it is to find markets inefficiencies and mispricing."
   ]
  },
  {
   "cell_type": "markdown",
   "metadata": {},
   "source": [
    "## Getting and Preparing the Data"
   ]
  },
  {
   "cell_type": "code",
   "metadata": {
    "scrolled": true,
    "ExecuteTime": {
     "end_time": "2024-12-16T14:31:14.688096Z",
     "start_time": "2024-12-16T14:31:13.743074Z"
    }
   },
   "source": [
    "import pandas as pd\n",
    "import numpy as np\n",
    "import matplotlib.pyplot as plt\n",
    "plt.style.use(\"seaborn-v0_8\")"
   ],
   "outputs": [],
   "execution_count": 1
  },
  {
   "cell_type": "code",
   "metadata": {
    "ExecuteTime": {
     "end_time": "2024-12-16T14:31:15.309778Z",
     "start_time": "2024-12-16T14:31:14.698972Z"
    }
   },
   "source": [
    "df = pd.read_csv(\"bid_ask.csv\", parse_dates = [\"time\"], index_col = \"time\")"
   ],
   "outputs": [],
   "execution_count": 2
  },
  {
   "cell_type": "code",
   "metadata": {
    "ExecuteTime": {
     "end_time": "2024-12-16T14:31:15.620752Z",
     "start_time": "2024-12-16T14:31:15.597595Z"
    }
   },
   "source": [
    "df"
   ],
   "outputs": [
    {
     "data": {
      "text/plain": [
       "                           volume      ask      bid   spread       mid\n",
       "time                                                                  \n",
       "2019-07-21 21:00:00+00:00      12  1.12164  1.12131  0.00033  1.121475\n",
       "2019-07-21 21:05:00+00:00      12  1.12182  1.12157  0.00025  1.121695\n",
       "2019-07-21 21:10:00+00:00       1  1.12176  1.12158  0.00018  1.121670\n",
       "2019-07-21 21:15:00+00:00      18  1.12190  1.12141  0.00049  1.121655\n",
       "2019-07-21 21:20:00+00:00       9  1.12201  1.12167  0.00034  1.121840\n",
       "...                           ...      ...      ...      ...       ...\n",
       "2020-10-20 23:35:00+00:00      81  1.18275  1.18261  0.00014  1.182680\n",
       "2020-10-20 23:40:00+00:00      92  1.18276  1.18263  0.00013  1.182695\n",
       "2020-10-20 23:45:00+00:00     101  1.18275  1.18262  0.00013  1.182685\n",
       "2020-10-20 23:50:00+00:00      63  1.18311  1.18297  0.00014  1.183040\n",
       "2020-10-20 23:55:00+00:00      89  1.18298  1.18285  0.00013  1.182915\n",
       "\n",
       "[93021 rows x 5 columns]"
      ],
      "text/html": [
       "<div>\n",
       "<style scoped>\n",
       "    .dataframe tbody tr th:only-of-type {\n",
       "        vertical-align: middle;\n",
       "    }\n",
       "\n",
       "    .dataframe tbody tr th {\n",
       "        vertical-align: top;\n",
       "    }\n",
       "\n",
       "    .dataframe thead th {\n",
       "        text-align: right;\n",
       "    }\n",
       "</style>\n",
       "<table border=\"1\" class=\"dataframe\">\n",
       "  <thead>\n",
       "    <tr style=\"text-align: right;\">\n",
       "      <th></th>\n",
       "      <th>volume</th>\n",
       "      <th>ask</th>\n",
       "      <th>bid</th>\n",
       "      <th>spread</th>\n",
       "      <th>mid</th>\n",
       "    </tr>\n",
       "    <tr>\n",
       "      <th>time</th>\n",
       "      <th></th>\n",
       "      <th></th>\n",
       "      <th></th>\n",
       "      <th></th>\n",
       "      <th></th>\n",
       "    </tr>\n",
       "  </thead>\n",
       "  <tbody>\n",
       "    <tr>\n",
       "      <th>2019-07-21 21:00:00+00:00</th>\n",
       "      <td>12</td>\n",
       "      <td>1.12164</td>\n",
       "      <td>1.12131</td>\n",
       "      <td>0.00033</td>\n",
       "      <td>1.121475</td>\n",
       "    </tr>\n",
       "    <tr>\n",
       "      <th>2019-07-21 21:05:00+00:00</th>\n",
       "      <td>12</td>\n",
       "      <td>1.12182</td>\n",
       "      <td>1.12157</td>\n",
       "      <td>0.00025</td>\n",
       "      <td>1.121695</td>\n",
       "    </tr>\n",
       "    <tr>\n",
       "      <th>2019-07-21 21:10:00+00:00</th>\n",
       "      <td>1</td>\n",
       "      <td>1.12176</td>\n",
       "      <td>1.12158</td>\n",
       "      <td>0.00018</td>\n",
       "      <td>1.121670</td>\n",
       "    </tr>\n",
       "    <tr>\n",
       "      <th>2019-07-21 21:15:00+00:00</th>\n",
       "      <td>18</td>\n",
       "      <td>1.12190</td>\n",
       "      <td>1.12141</td>\n",
       "      <td>0.00049</td>\n",
       "      <td>1.121655</td>\n",
       "    </tr>\n",
       "    <tr>\n",
       "      <th>2019-07-21 21:20:00+00:00</th>\n",
       "      <td>9</td>\n",
       "      <td>1.12201</td>\n",
       "      <td>1.12167</td>\n",
       "      <td>0.00034</td>\n",
       "      <td>1.121840</td>\n",
       "    </tr>\n",
       "    <tr>\n",
       "      <th>...</th>\n",
       "      <td>...</td>\n",
       "      <td>...</td>\n",
       "      <td>...</td>\n",
       "      <td>...</td>\n",
       "      <td>...</td>\n",
       "    </tr>\n",
       "    <tr>\n",
       "      <th>2020-10-20 23:35:00+00:00</th>\n",
       "      <td>81</td>\n",
       "      <td>1.18275</td>\n",
       "      <td>1.18261</td>\n",
       "      <td>0.00014</td>\n",
       "      <td>1.182680</td>\n",
       "    </tr>\n",
       "    <tr>\n",
       "      <th>2020-10-20 23:40:00+00:00</th>\n",
       "      <td>92</td>\n",
       "      <td>1.18276</td>\n",
       "      <td>1.18263</td>\n",
       "      <td>0.00013</td>\n",
       "      <td>1.182695</td>\n",
       "    </tr>\n",
       "    <tr>\n",
       "      <th>2020-10-20 23:45:00+00:00</th>\n",
       "      <td>101</td>\n",
       "      <td>1.18275</td>\n",
       "      <td>1.18262</td>\n",
       "      <td>0.00013</td>\n",
       "      <td>1.182685</td>\n",
       "    </tr>\n",
       "    <tr>\n",
       "      <th>2020-10-20 23:50:00+00:00</th>\n",
       "      <td>63</td>\n",
       "      <td>1.18311</td>\n",
       "      <td>1.18297</td>\n",
       "      <td>0.00014</td>\n",
       "      <td>1.183040</td>\n",
       "    </tr>\n",
       "    <tr>\n",
       "      <th>2020-10-20 23:55:00+00:00</th>\n",
       "      <td>89</td>\n",
       "      <td>1.18298</td>\n",
       "      <td>1.18285</td>\n",
       "      <td>0.00013</td>\n",
       "      <td>1.182915</td>\n",
       "    </tr>\n",
       "  </tbody>\n",
       "</table>\n",
       "<p>93021 rows × 5 columns</p>\n",
       "</div>"
      ]
     },
     "execution_count": 3,
     "metadata": {},
     "output_type": "execute_result"
    }
   ],
   "execution_count": 3
  },
  {
   "cell_type": "code",
   "metadata": {
    "ExecuteTime": {
     "end_time": "2024-12-16T14:31:15.696859Z",
     "start_time": "2024-12-16T14:31:15.684041Z"
    }
   },
   "source": [
    "df.info()"
   ],
   "outputs": [
    {
     "name": "stdout",
     "output_type": "stream",
     "text": [
      "<class 'pandas.core.frame.DataFrame'>\n",
      "DatetimeIndex: 93021 entries, 2019-07-21 21:00:00+00:00 to 2020-10-20 23:55:00+00:00\n",
      "Data columns (total 5 columns):\n",
      " #   Column  Non-Null Count  Dtype  \n",
      "---  ------  --------------  -----  \n",
      " 0   volume  93021 non-null  int64  \n",
      " 1   ask     93021 non-null  float64\n",
      " 2   bid     93021 non-null  float64\n",
      " 3   spread  93021 non-null  float64\n",
      " 4   mid     93021 non-null  float64\n",
      "dtypes: float64(4), int64(1)\n",
      "memory usage: 4.3 MB\n"
     ]
    }
   ],
   "execution_count": 4
  },
  {
   "cell_type": "code",
   "metadata": {
    "ExecuteTime": {
     "end_time": "2024-12-16T14:31:15.744127Z",
     "start_time": "2024-12-16T14:31:15.740161Z"
    }
   },
   "source": [
    "df.index.tz"
   ],
   "outputs": [
    {
     "data": {
      "text/plain": [
       "datetime.timezone.utc"
      ]
     },
     "execution_count": 5,
     "metadata": {},
     "output_type": "execute_result"
    }
   ],
   "execution_count": 5
  },
  {
   "cell_type": "code",
   "metadata": {
    "ExecuteTime": {
     "end_time": "2024-12-16T14:31:15.808380Z",
     "start_time": "2024-12-16T14:31:15.802109Z"
    }
   },
   "source": [
    "df[\"NYTime\"] = df.index.tz_convert(\"America/New_York\")"
   ],
   "outputs": [],
   "execution_count": 6
  },
  {
   "cell_type": "code",
   "metadata": {
    "ExecuteTime": {
     "end_time": "2024-12-16T14:31:16.082094Z",
     "start_time": "2024-12-16T14:31:16.070487Z"
    }
   },
   "source": [
    "df"
   ],
   "outputs": [
    {
     "data": {
      "text/plain": [
       "                           volume      ask      bid   spread       mid  \\\n",
       "time                                                                     \n",
       "2019-07-21 21:00:00+00:00      12  1.12164  1.12131  0.00033  1.121475   \n",
       "2019-07-21 21:05:00+00:00      12  1.12182  1.12157  0.00025  1.121695   \n",
       "2019-07-21 21:10:00+00:00       1  1.12176  1.12158  0.00018  1.121670   \n",
       "2019-07-21 21:15:00+00:00      18  1.12190  1.12141  0.00049  1.121655   \n",
       "2019-07-21 21:20:00+00:00       9  1.12201  1.12167  0.00034  1.121840   \n",
       "...                           ...      ...      ...      ...       ...   \n",
       "2020-10-20 23:35:00+00:00      81  1.18275  1.18261  0.00014  1.182680   \n",
       "2020-10-20 23:40:00+00:00      92  1.18276  1.18263  0.00013  1.182695   \n",
       "2020-10-20 23:45:00+00:00     101  1.18275  1.18262  0.00013  1.182685   \n",
       "2020-10-20 23:50:00+00:00      63  1.18311  1.18297  0.00014  1.183040   \n",
       "2020-10-20 23:55:00+00:00      89  1.18298  1.18285  0.00013  1.182915   \n",
       "\n",
       "                                             NYTime  \n",
       "time                                                 \n",
       "2019-07-21 21:00:00+00:00 2019-07-21 17:00:00-04:00  \n",
       "2019-07-21 21:05:00+00:00 2019-07-21 17:05:00-04:00  \n",
       "2019-07-21 21:10:00+00:00 2019-07-21 17:10:00-04:00  \n",
       "2019-07-21 21:15:00+00:00 2019-07-21 17:15:00-04:00  \n",
       "2019-07-21 21:20:00+00:00 2019-07-21 17:20:00-04:00  \n",
       "...                                             ...  \n",
       "2020-10-20 23:35:00+00:00 2020-10-20 19:35:00-04:00  \n",
       "2020-10-20 23:40:00+00:00 2020-10-20 19:40:00-04:00  \n",
       "2020-10-20 23:45:00+00:00 2020-10-20 19:45:00-04:00  \n",
       "2020-10-20 23:50:00+00:00 2020-10-20 19:50:00-04:00  \n",
       "2020-10-20 23:55:00+00:00 2020-10-20 19:55:00-04:00  \n",
       "\n",
       "[93021 rows x 6 columns]"
      ],
      "text/html": [
       "<div>\n",
       "<style scoped>\n",
       "    .dataframe tbody tr th:only-of-type {\n",
       "        vertical-align: middle;\n",
       "    }\n",
       "\n",
       "    .dataframe tbody tr th {\n",
       "        vertical-align: top;\n",
       "    }\n",
       "\n",
       "    .dataframe thead th {\n",
       "        text-align: right;\n",
       "    }\n",
       "</style>\n",
       "<table border=\"1\" class=\"dataframe\">\n",
       "  <thead>\n",
       "    <tr style=\"text-align: right;\">\n",
       "      <th></th>\n",
       "      <th>volume</th>\n",
       "      <th>ask</th>\n",
       "      <th>bid</th>\n",
       "      <th>spread</th>\n",
       "      <th>mid</th>\n",
       "      <th>NYTime</th>\n",
       "    </tr>\n",
       "    <tr>\n",
       "      <th>time</th>\n",
       "      <th></th>\n",
       "      <th></th>\n",
       "      <th></th>\n",
       "      <th></th>\n",
       "      <th></th>\n",
       "      <th></th>\n",
       "    </tr>\n",
       "  </thead>\n",
       "  <tbody>\n",
       "    <tr>\n",
       "      <th>2019-07-21 21:00:00+00:00</th>\n",
       "      <td>12</td>\n",
       "      <td>1.12164</td>\n",
       "      <td>1.12131</td>\n",
       "      <td>0.00033</td>\n",
       "      <td>1.121475</td>\n",
       "      <td>2019-07-21 17:00:00-04:00</td>\n",
       "    </tr>\n",
       "    <tr>\n",
       "      <th>2019-07-21 21:05:00+00:00</th>\n",
       "      <td>12</td>\n",
       "      <td>1.12182</td>\n",
       "      <td>1.12157</td>\n",
       "      <td>0.00025</td>\n",
       "      <td>1.121695</td>\n",
       "      <td>2019-07-21 17:05:00-04:00</td>\n",
       "    </tr>\n",
       "    <tr>\n",
       "      <th>2019-07-21 21:10:00+00:00</th>\n",
       "      <td>1</td>\n",
       "      <td>1.12176</td>\n",
       "      <td>1.12158</td>\n",
       "      <td>0.00018</td>\n",
       "      <td>1.121670</td>\n",
       "      <td>2019-07-21 17:10:00-04:00</td>\n",
       "    </tr>\n",
       "    <tr>\n",
       "      <th>2019-07-21 21:15:00+00:00</th>\n",
       "      <td>18</td>\n",
       "      <td>1.12190</td>\n",
       "      <td>1.12141</td>\n",
       "      <td>0.00049</td>\n",
       "      <td>1.121655</td>\n",
       "      <td>2019-07-21 17:15:00-04:00</td>\n",
       "    </tr>\n",
       "    <tr>\n",
       "      <th>2019-07-21 21:20:00+00:00</th>\n",
       "      <td>9</td>\n",
       "      <td>1.12201</td>\n",
       "      <td>1.12167</td>\n",
       "      <td>0.00034</td>\n",
       "      <td>1.121840</td>\n",
       "      <td>2019-07-21 17:20:00-04:00</td>\n",
       "    </tr>\n",
       "    <tr>\n",
       "      <th>...</th>\n",
       "      <td>...</td>\n",
       "      <td>...</td>\n",
       "      <td>...</td>\n",
       "      <td>...</td>\n",
       "      <td>...</td>\n",
       "      <td>...</td>\n",
       "    </tr>\n",
       "    <tr>\n",
       "      <th>2020-10-20 23:35:00+00:00</th>\n",
       "      <td>81</td>\n",
       "      <td>1.18275</td>\n",
       "      <td>1.18261</td>\n",
       "      <td>0.00014</td>\n",
       "      <td>1.182680</td>\n",
       "      <td>2020-10-20 19:35:00-04:00</td>\n",
       "    </tr>\n",
       "    <tr>\n",
       "      <th>2020-10-20 23:40:00+00:00</th>\n",
       "      <td>92</td>\n",
       "      <td>1.18276</td>\n",
       "      <td>1.18263</td>\n",
       "      <td>0.00013</td>\n",
       "      <td>1.182695</td>\n",
       "      <td>2020-10-20 19:40:00-04:00</td>\n",
       "    </tr>\n",
       "    <tr>\n",
       "      <th>2020-10-20 23:45:00+00:00</th>\n",
       "      <td>101</td>\n",
       "      <td>1.18275</td>\n",
       "      <td>1.18262</td>\n",
       "      <td>0.00013</td>\n",
       "      <td>1.182685</td>\n",
       "      <td>2020-10-20 19:45:00-04:00</td>\n",
       "    </tr>\n",
       "    <tr>\n",
       "      <th>2020-10-20 23:50:00+00:00</th>\n",
       "      <td>63</td>\n",
       "      <td>1.18311</td>\n",
       "      <td>1.18297</td>\n",
       "      <td>0.00014</td>\n",
       "      <td>1.183040</td>\n",
       "      <td>2020-10-20 19:50:00-04:00</td>\n",
       "    </tr>\n",
       "    <tr>\n",
       "      <th>2020-10-20 23:55:00+00:00</th>\n",
       "      <td>89</td>\n",
       "      <td>1.18298</td>\n",
       "      <td>1.18285</td>\n",
       "      <td>0.00013</td>\n",
       "      <td>1.182915</td>\n",
       "      <td>2020-10-20 19:55:00-04:00</td>\n",
       "    </tr>\n",
       "  </tbody>\n",
       "</table>\n",
       "<p>93021 rows × 6 columns</p>\n",
       "</div>"
      ]
     },
     "execution_count": 7,
     "metadata": {},
     "output_type": "execute_result"
    }
   ],
   "execution_count": 7
  },
  {
   "cell_type": "code",
   "metadata": {
    "ExecuteTime": {
     "end_time": "2024-12-16T14:31:16.517083Z",
     "start_time": "2024-12-16T14:31:16.507013Z"
    }
   },
   "source": [
    "df[\"hour\"] = df.NYTime.dt.hour"
   ],
   "outputs": [],
   "execution_count": 8
  },
  {
   "cell_type": "code",
   "metadata": {
    "ExecuteTime": {
     "end_time": "2024-12-16T14:31:16.679086Z",
     "start_time": "2024-12-16T14:31:16.667048Z"
    }
   },
   "source": [
    "df"
   ],
   "outputs": [
    {
     "data": {
      "text/plain": [
       "                           volume      ask      bid   spread       mid  \\\n",
       "time                                                                     \n",
       "2019-07-21 21:00:00+00:00      12  1.12164  1.12131  0.00033  1.121475   \n",
       "2019-07-21 21:05:00+00:00      12  1.12182  1.12157  0.00025  1.121695   \n",
       "2019-07-21 21:10:00+00:00       1  1.12176  1.12158  0.00018  1.121670   \n",
       "2019-07-21 21:15:00+00:00      18  1.12190  1.12141  0.00049  1.121655   \n",
       "2019-07-21 21:20:00+00:00       9  1.12201  1.12167  0.00034  1.121840   \n",
       "...                           ...      ...      ...      ...       ...   \n",
       "2020-10-20 23:35:00+00:00      81  1.18275  1.18261  0.00014  1.182680   \n",
       "2020-10-20 23:40:00+00:00      92  1.18276  1.18263  0.00013  1.182695   \n",
       "2020-10-20 23:45:00+00:00     101  1.18275  1.18262  0.00013  1.182685   \n",
       "2020-10-20 23:50:00+00:00      63  1.18311  1.18297  0.00014  1.183040   \n",
       "2020-10-20 23:55:00+00:00      89  1.18298  1.18285  0.00013  1.182915   \n",
       "\n",
       "                                             NYTime  hour  \n",
       "time                                                       \n",
       "2019-07-21 21:00:00+00:00 2019-07-21 17:00:00-04:00    17  \n",
       "2019-07-21 21:05:00+00:00 2019-07-21 17:05:00-04:00    17  \n",
       "2019-07-21 21:10:00+00:00 2019-07-21 17:10:00-04:00    17  \n",
       "2019-07-21 21:15:00+00:00 2019-07-21 17:15:00-04:00    17  \n",
       "2019-07-21 21:20:00+00:00 2019-07-21 17:20:00-04:00    17  \n",
       "...                                             ...   ...  \n",
       "2020-10-20 23:35:00+00:00 2020-10-20 19:35:00-04:00    19  \n",
       "2020-10-20 23:40:00+00:00 2020-10-20 19:40:00-04:00    19  \n",
       "2020-10-20 23:45:00+00:00 2020-10-20 19:45:00-04:00    19  \n",
       "2020-10-20 23:50:00+00:00 2020-10-20 19:50:00-04:00    19  \n",
       "2020-10-20 23:55:00+00:00 2020-10-20 19:55:00-04:00    19  \n",
       "\n",
       "[93021 rows x 7 columns]"
      ],
      "text/html": [
       "<div>\n",
       "<style scoped>\n",
       "    .dataframe tbody tr th:only-of-type {\n",
       "        vertical-align: middle;\n",
       "    }\n",
       "\n",
       "    .dataframe tbody tr th {\n",
       "        vertical-align: top;\n",
       "    }\n",
       "\n",
       "    .dataframe thead th {\n",
       "        text-align: right;\n",
       "    }\n",
       "</style>\n",
       "<table border=\"1\" class=\"dataframe\">\n",
       "  <thead>\n",
       "    <tr style=\"text-align: right;\">\n",
       "      <th></th>\n",
       "      <th>volume</th>\n",
       "      <th>ask</th>\n",
       "      <th>bid</th>\n",
       "      <th>spread</th>\n",
       "      <th>mid</th>\n",
       "      <th>NYTime</th>\n",
       "      <th>hour</th>\n",
       "    </tr>\n",
       "    <tr>\n",
       "      <th>time</th>\n",
       "      <th></th>\n",
       "      <th></th>\n",
       "      <th></th>\n",
       "      <th></th>\n",
       "      <th></th>\n",
       "      <th></th>\n",
       "      <th></th>\n",
       "    </tr>\n",
       "  </thead>\n",
       "  <tbody>\n",
       "    <tr>\n",
       "      <th>2019-07-21 21:00:00+00:00</th>\n",
       "      <td>12</td>\n",
       "      <td>1.12164</td>\n",
       "      <td>1.12131</td>\n",
       "      <td>0.00033</td>\n",
       "      <td>1.121475</td>\n",
       "      <td>2019-07-21 17:00:00-04:00</td>\n",
       "      <td>17</td>\n",
       "    </tr>\n",
       "    <tr>\n",
       "      <th>2019-07-21 21:05:00+00:00</th>\n",
       "      <td>12</td>\n",
       "      <td>1.12182</td>\n",
       "      <td>1.12157</td>\n",
       "      <td>0.00025</td>\n",
       "      <td>1.121695</td>\n",
       "      <td>2019-07-21 17:05:00-04:00</td>\n",
       "      <td>17</td>\n",
       "    </tr>\n",
       "    <tr>\n",
       "      <th>2019-07-21 21:10:00+00:00</th>\n",
       "      <td>1</td>\n",
       "      <td>1.12176</td>\n",
       "      <td>1.12158</td>\n",
       "      <td>0.00018</td>\n",
       "      <td>1.121670</td>\n",
       "      <td>2019-07-21 17:10:00-04:00</td>\n",
       "      <td>17</td>\n",
       "    </tr>\n",
       "    <tr>\n",
       "      <th>2019-07-21 21:15:00+00:00</th>\n",
       "      <td>18</td>\n",
       "      <td>1.12190</td>\n",
       "      <td>1.12141</td>\n",
       "      <td>0.00049</td>\n",
       "      <td>1.121655</td>\n",
       "      <td>2019-07-21 17:15:00-04:00</td>\n",
       "      <td>17</td>\n",
       "    </tr>\n",
       "    <tr>\n",
       "      <th>2019-07-21 21:20:00+00:00</th>\n",
       "      <td>9</td>\n",
       "      <td>1.12201</td>\n",
       "      <td>1.12167</td>\n",
       "      <td>0.00034</td>\n",
       "      <td>1.121840</td>\n",
       "      <td>2019-07-21 17:20:00-04:00</td>\n",
       "      <td>17</td>\n",
       "    </tr>\n",
       "    <tr>\n",
       "      <th>...</th>\n",
       "      <td>...</td>\n",
       "      <td>...</td>\n",
       "      <td>...</td>\n",
       "      <td>...</td>\n",
       "      <td>...</td>\n",
       "      <td>...</td>\n",
       "      <td>...</td>\n",
       "    </tr>\n",
       "    <tr>\n",
       "      <th>2020-10-20 23:35:00+00:00</th>\n",
       "      <td>81</td>\n",
       "      <td>1.18275</td>\n",
       "      <td>1.18261</td>\n",
       "      <td>0.00014</td>\n",
       "      <td>1.182680</td>\n",
       "      <td>2020-10-20 19:35:00-04:00</td>\n",
       "      <td>19</td>\n",
       "    </tr>\n",
       "    <tr>\n",
       "      <th>2020-10-20 23:40:00+00:00</th>\n",
       "      <td>92</td>\n",
       "      <td>1.18276</td>\n",
       "      <td>1.18263</td>\n",
       "      <td>0.00013</td>\n",
       "      <td>1.182695</td>\n",
       "      <td>2020-10-20 19:40:00-04:00</td>\n",
       "      <td>19</td>\n",
       "    </tr>\n",
       "    <tr>\n",
       "      <th>2020-10-20 23:45:00+00:00</th>\n",
       "      <td>101</td>\n",
       "      <td>1.18275</td>\n",
       "      <td>1.18262</td>\n",
       "      <td>0.00013</td>\n",
       "      <td>1.182685</td>\n",
       "      <td>2020-10-20 19:45:00-04:00</td>\n",
       "      <td>19</td>\n",
       "    </tr>\n",
       "    <tr>\n",
       "      <th>2020-10-20 23:50:00+00:00</th>\n",
       "      <td>63</td>\n",
       "      <td>1.18311</td>\n",
       "      <td>1.18297</td>\n",
       "      <td>0.00014</td>\n",
       "      <td>1.183040</td>\n",
       "      <td>2020-10-20 19:50:00-04:00</td>\n",
       "      <td>19</td>\n",
       "    </tr>\n",
       "    <tr>\n",
       "      <th>2020-10-20 23:55:00+00:00</th>\n",
       "      <td>89</td>\n",
       "      <td>1.18298</td>\n",
       "      <td>1.18285</td>\n",
       "      <td>0.00013</td>\n",
       "      <td>1.182915</td>\n",
       "      <td>2020-10-20 19:55:00-04:00</td>\n",
       "      <td>19</td>\n",
       "    </tr>\n",
       "  </tbody>\n",
       "</table>\n",
       "<p>93021 rows × 7 columns</p>\n",
       "</div>"
      ]
     },
     "execution_count": 9,
     "metadata": {},
     "output_type": "execute_result"
    }
   ],
   "execution_count": 9
  },
  {
   "cell_type": "code",
   "metadata": {
    "ExecuteTime": {
     "end_time": "2024-12-16T14:31:16.816903Z",
     "start_time": "2024-12-16T14:31:16.811985Z"
    }
   },
   "source": [
    "df[\"price_change_abs\"] = df.mid.diff().abs()"
   ],
   "outputs": [],
   "execution_count": 10
  },
  {
   "cell_type": "code",
   "metadata": {
    "ExecuteTime": {
     "end_time": "2024-12-16T14:31:17.003885Z",
     "start_time": "2024-12-16T14:31:16.987727Z"
    }
   },
   "source": [
    "df"
   ],
   "outputs": [
    {
     "data": {
      "text/plain": [
       "                           volume      ask      bid   spread       mid  \\\n",
       "time                                                                     \n",
       "2019-07-21 21:00:00+00:00      12  1.12164  1.12131  0.00033  1.121475   \n",
       "2019-07-21 21:05:00+00:00      12  1.12182  1.12157  0.00025  1.121695   \n",
       "2019-07-21 21:10:00+00:00       1  1.12176  1.12158  0.00018  1.121670   \n",
       "2019-07-21 21:15:00+00:00      18  1.12190  1.12141  0.00049  1.121655   \n",
       "2019-07-21 21:20:00+00:00       9  1.12201  1.12167  0.00034  1.121840   \n",
       "...                           ...      ...      ...      ...       ...   \n",
       "2020-10-20 23:35:00+00:00      81  1.18275  1.18261  0.00014  1.182680   \n",
       "2020-10-20 23:40:00+00:00      92  1.18276  1.18263  0.00013  1.182695   \n",
       "2020-10-20 23:45:00+00:00     101  1.18275  1.18262  0.00013  1.182685   \n",
       "2020-10-20 23:50:00+00:00      63  1.18311  1.18297  0.00014  1.183040   \n",
       "2020-10-20 23:55:00+00:00      89  1.18298  1.18285  0.00013  1.182915   \n",
       "\n",
       "                                             NYTime  hour  price_change_abs  \n",
       "time                                                                         \n",
       "2019-07-21 21:00:00+00:00 2019-07-21 17:00:00-04:00    17               NaN  \n",
       "2019-07-21 21:05:00+00:00 2019-07-21 17:05:00-04:00    17          0.000220  \n",
       "2019-07-21 21:10:00+00:00 2019-07-21 17:10:00-04:00    17          0.000025  \n",
       "2019-07-21 21:15:00+00:00 2019-07-21 17:15:00-04:00    17          0.000015  \n",
       "2019-07-21 21:20:00+00:00 2019-07-21 17:20:00-04:00    17          0.000185  \n",
       "...                                             ...   ...               ...  \n",
       "2020-10-20 23:35:00+00:00 2020-10-20 19:35:00-04:00    19          0.000100  \n",
       "2020-10-20 23:40:00+00:00 2020-10-20 19:40:00-04:00    19          0.000015  \n",
       "2020-10-20 23:45:00+00:00 2020-10-20 19:45:00-04:00    19          0.000010  \n",
       "2020-10-20 23:50:00+00:00 2020-10-20 19:50:00-04:00    19          0.000355  \n",
       "2020-10-20 23:55:00+00:00 2020-10-20 19:55:00-04:00    19          0.000125  \n",
       "\n",
       "[93021 rows x 8 columns]"
      ],
      "text/html": [
       "<div>\n",
       "<style scoped>\n",
       "    .dataframe tbody tr th:only-of-type {\n",
       "        vertical-align: middle;\n",
       "    }\n",
       "\n",
       "    .dataframe tbody tr th {\n",
       "        vertical-align: top;\n",
       "    }\n",
       "\n",
       "    .dataframe thead th {\n",
       "        text-align: right;\n",
       "    }\n",
       "</style>\n",
       "<table border=\"1\" class=\"dataframe\">\n",
       "  <thead>\n",
       "    <tr style=\"text-align: right;\">\n",
       "      <th></th>\n",
       "      <th>volume</th>\n",
       "      <th>ask</th>\n",
       "      <th>bid</th>\n",
       "      <th>spread</th>\n",
       "      <th>mid</th>\n",
       "      <th>NYTime</th>\n",
       "      <th>hour</th>\n",
       "      <th>price_change_abs</th>\n",
       "    </tr>\n",
       "    <tr>\n",
       "      <th>time</th>\n",
       "      <th></th>\n",
       "      <th></th>\n",
       "      <th></th>\n",
       "      <th></th>\n",
       "      <th></th>\n",
       "      <th></th>\n",
       "      <th></th>\n",
       "      <th></th>\n",
       "    </tr>\n",
       "  </thead>\n",
       "  <tbody>\n",
       "    <tr>\n",
       "      <th>2019-07-21 21:00:00+00:00</th>\n",
       "      <td>12</td>\n",
       "      <td>1.12164</td>\n",
       "      <td>1.12131</td>\n",
       "      <td>0.00033</td>\n",
       "      <td>1.121475</td>\n",
       "      <td>2019-07-21 17:00:00-04:00</td>\n",
       "      <td>17</td>\n",
       "      <td>NaN</td>\n",
       "    </tr>\n",
       "    <tr>\n",
       "      <th>2019-07-21 21:05:00+00:00</th>\n",
       "      <td>12</td>\n",
       "      <td>1.12182</td>\n",
       "      <td>1.12157</td>\n",
       "      <td>0.00025</td>\n",
       "      <td>1.121695</td>\n",
       "      <td>2019-07-21 17:05:00-04:00</td>\n",
       "      <td>17</td>\n",
       "      <td>0.000220</td>\n",
       "    </tr>\n",
       "    <tr>\n",
       "      <th>2019-07-21 21:10:00+00:00</th>\n",
       "      <td>1</td>\n",
       "      <td>1.12176</td>\n",
       "      <td>1.12158</td>\n",
       "      <td>0.00018</td>\n",
       "      <td>1.121670</td>\n",
       "      <td>2019-07-21 17:10:00-04:00</td>\n",
       "      <td>17</td>\n",
       "      <td>0.000025</td>\n",
       "    </tr>\n",
       "    <tr>\n",
       "      <th>2019-07-21 21:15:00+00:00</th>\n",
       "      <td>18</td>\n",
       "      <td>1.12190</td>\n",
       "      <td>1.12141</td>\n",
       "      <td>0.00049</td>\n",
       "      <td>1.121655</td>\n",
       "      <td>2019-07-21 17:15:00-04:00</td>\n",
       "      <td>17</td>\n",
       "      <td>0.000015</td>\n",
       "    </tr>\n",
       "    <tr>\n",
       "      <th>2019-07-21 21:20:00+00:00</th>\n",
       "      <td>9</td>\n",
       "      <td>1.12201</td>\n",
       "      <td>1.12167</td>\n",
       "      <td>0.00034</td>\n",
       "      <td>1.121840</td>\n",
       "      <td>2019-07-21 17:20:00-04:00</td>\n",
       "      <td>17</td>\n",
       "      <td>0.000185</td>\n",
       "    </tr>\n",
       "    <tr>\n",
       "      <th>...</th>\n",
       "      <td>...</td>\n",
       "      <td>...</td>\n",
       "      <td>...</td>\n",
       "      <td>...</td>\n",
       "      <td>...</td>\n",
       "      <td>...</td>\n",
       "      <td>...</td>\n",
       "      <td>...</td>\n",
       "    </tr>\n",
       "    <tr>\n",
       "      <th>2020-10-20 23:35:00+00:00</th>\n",
       "      <td>81</td>\n",
       "      <td>1.18275</td>\n",
       "      <td>1.18261</td>\n",
       "      <td>0.00014</td>\n",
       "      <td>1.182680</td>\n",
       "      <td>2020-10-20 19:35:00-04:00</td>\n",
       "      <td>19</td>\n",
       "      <td>0.000100</td>\n",
       "    </tr>\n",
       "    <tr>\n",
       "      <th>2020-10-20 23:40:00+00:00</th>\n",
       "      <td>92</td>\n",
       "      <td>1.18276</td>\n",
       "      <td>1.18263</td>\n",
       "      <td>0.00013</td>\n",
       "      <td>1.182695</td>\n",
       "      <td>2020-10-20 19:40:00-04:00</td>\n",
       "      <td>19</td>\n",
       "      <td>0.000015</td>\n",
       "    </tr>\n",
       "    <tr>\n",
       "      <th>2020-10-20 23:45:00+00:00</th>\n",
       "      <td>101</td>\n",
       "      <td>1.18275</td>\n",
       "      <td>1.18262</td>\n",
       "      <td>0.00013</td>\n",
       "      <td>1.182685</td>\n",
       "      <td>2020-10-20 19:45:00-04:00</td>\n",
       "      <td>19</td>\n",
       "      <td>0.000010</td>\n",
       "    </tr>\n",
       "    <tr>\n",
       "      <th>2020-10-20 23:50:00+00:00</th>\n",
       "      <td>63</td>\n",
       "      <td>1.18311</td>\n",
       "      <td>1.18297</td>\n",
       "      <td>0.00014</td>\n",
       "      <td>1.183040</td>\n",
       "      <td>2020-10-20 19:50:00-04:00</td>\n",
       "      <td>19</td>\n",
       "      <td>0.000355</td>\n",
       "    </tr>\n",
       "    <tr>\n",
       "      <th>2020-10-20 23:55:00+00:00</th>\n",
       "      <td>89</td>\n",
       "      <td>1.18298</td>\n",
       "      <td>1.18285</td>\n",
       "      <td>0.00013</td>\n",
       "      <td>1.182915</td>\n",
       "      <td>2020-10-20 19:55:00-04:00</td>\n",
       "      <td>19</td>\n",
       "      <td>0.000125</td>\n",
       "    </tr>\n",
       "  </tbody>\n",
       "</table>\n",
       "<p>93021 rows × 8 columns</p>\n",
       "</div>"
      ]
     },
     "execution_count": 11,
     "metadata": {},
     "output_type": "execute_result"
    }
   ],
   "execution_count": 11
  },
  {
   "cell_type": "code",
   "metadata": {
    "ExecuteTime": {
     "end_time": "2024-12-16T14:31:17.155398Z",
     "start_time": "2024-12-16T14:31:17.142724Z"
    }
   },
   "source": [
    "df.dropna(inplace = True)"
   ],
   "outputs": [],
   "execution_count": 12
  },
  {
   "cell_type": "code",
   "metadata": {
    "ExecuteTime": {
     "end_time": "2024-12-16T14:31:17.446383Z",
     "start_time": "2024-12-16T14:31:17.443262Z"
    }
   },
   "source": [],
   "outputs": [],
   "execution_count": null
  },
  {
   "cell_type": "markdown",
   "metadata": {},
   "source": [
    "## The best time to trade (Part 1)"
   ]
  },
  {
   "cell_type": "code",
   "metadata": {
    "ExecuteTime": {
     "end_time": "2024-12-16T14:31:17.553710Z",
     "start_time": "2024-12-16T14:31:17.538065Z"
    }
   },
   "source": [
    "by_hour = df.groupby(\"hour\")[[\"volume\", \"spread\", \"price_change_abs\"]].mean()\n",
    "by_hour"
   ],
   "outputs": [
    {
     "data": {
      "text/plain": [
       "          volume    spread  price_change_abs\n",
       "hour                                        \n",
       "0      71.264365  0.000144          0.000105\n",
       "1     100.156001  0.000141          0.000135\n",
       "2     277.867658  0.000133          0.000220\n",
       "3     441.419231  0.000132          0.000281\n",
       "4     393.620256  0.000130          0.000257\n",
       "5     340.002052  0.000128          0.000231\n",
       "6     314.227238  0.000128          0.000231\n",
       "7     332.894872  0.000128          0.000241\n",
       "8     453.958462  0.000136          0.000301\n",
       "9     532.012821  0.000133          0.000318\n",
       "10    608.471282  0.000131          0.000360\n",
       "11    444.528462  0.000130          0.000289\n",
       "12    297.821703  0.000132          0.000218\n",
       "13    231.388661  0.000134          0.000187\n",
       "14    238.421783  0.000133          0.000192\n",
       "15    210.272259  0.000138          0.000165\n",
       "16     74.649846  0.000176          0.000127\n",
       "17     16.924507  0.000515          0.000119\n",
       "18     45.528434  0.000184          0.000105\n",
       "19     61.604370  0.000157          0.000113\n",
       "20    117.146385  0.000149          0.000166\n",
       "21    120.730424  0.000147          0.000155\n",
       "22     95.337702  0.000145          0.000126\n",
       "23     79.315898  0.000144          0.000108"
      ],
      "text/html": [
       "<div>\n",
       "<style scoped>\n",
       "    .dataframe tbody tr th:only-of-type {\n",
       "        vertical-align: middle;\n",
       "    }\n",
       "\n",
       "    .dataframe tbody tr th {\n",
       "        vertical-align: top;\n",
       "    }\n",
       "\n",
       "    .dataframe thead th {\n",
       "        text-align: right;\n",
       "    }\n",
       "</style>\n",
       "<table border=\"1\" class=\"dataframe\">\n",
       "  <thead>\n",
       "    <tr style=\"text-align: right;\">\n",
       "      <th></th>\n",
       "      <th>volume</th>\n",
       "      <th>spread</th>\n",
       "      <th>price_change_abs</th>\n",
       "    </tr>\n",
       "    <tr>\n",
       "      <th>hour</th>\n",
       "      <th></th>\n",
       "      <th></th>\n",
       "      <th></th>\n",
       "    </tr>\n",
       "  </thead>\n",
       "  <tbody>\n",
       "    <tr>\n",
       "      <th>0</th>\n",
       "      <td>71.264365</td>\n",
       "      <td>0.000144</td>\n",
       "      <td>0.000105</td>\n",
       "    </tr>\n",
       "    <tr>\n",
       "      <th>1</th>\n",
       "      <td>100.156001</td>\n",
       "      <td>0.000141</td>\n",
       "      <td>0.000135</td>\n",
       "    </tr>\n",
       "    <tr>\n",
       "      <th>2</th>\n",
       "      <td>277.867658</td>\n",
       "      <td>0.000133</td>\n",
       "      <td>0.000220</td>\n",
       "    </tr>\n",
       "    <tr>\n",
       "      <th>3</th>\n",
       "      <td>441.419231</td>\n",
       "      <td>0.000132</td>\n",
       "      <td>0.000281</td>\n",
       "    </tr>\n",
       "    <tr>\n",
       "      <th>4</th>\n",
       "      <td>393.620256</td>\n",
       "      <td>0.000130</td>\n",
       "      <td>0.000257</td>\n",
       "    </tr>\n",
       "    <tr>\n",
       "      <th>5</th>\n",
       "      <td>340.002052</td>\n",
       "      <td>0.000128</td>\n",
       "      <td>0.000231</td>\n",
       "    </tr>\n",
       "    <tr>\n",
       "      <th>6</th>\n",
       "      <td>314.227238</td>\n",
       "      <td>0.000128</td>\n",
       "      <td>0.000231</td>\n",
       "    </tr>\n",
       "    <tr>\n",
       "      <th>7</th>\n",
       "      <td>332.894872</td>\n",
       "      <td>0.000128</td>\n",
       "      <td>0.000241</td>\n",
       "    </tr>\n",
       "    <tr>\n",
       "      <th>8</th>\n",
       "      <td>453.958462</td>\n",
       "      <td>0.000136</td>\n",
       "      <td>0.000301</td>\n",
       "    </tr>\n",
       "    <tr>\n",
       "      <th>9</th>\n",
       "      <td>532.012821</td>\n",
       "      <td>0.000133</td>\n",
       "      <td>0.000318</td>\n",
       "    </tr>\n",
       "    <tr>\n",
       "      <th>10</th>\n",
       "      <td>608.471282</td>\n",
       "      <td>0.000131</td>\n",
       "      <td>0.000360</td>\n",
       "    </tr>\n",
       "    <tr>\n",
       "      <th>11</th>\n",
       "      <td>444.528462</td>\n",
       "      <td>0.000130</td>\n",
       "      <td>0.000289</td>\n",
       "    </tr>\n",
       "    <tr>\n",
       "      <th>12</th>\n",
       "      <td>297.821703</td>\n",
       "      <td>0.000132</td>\n",
       "      <td>0.000218</td>\n",
       "    </tr>\n",
       "    <tr>\n",
       "      <th>13</th>\n",
       "      <td>231.388661</td>\n",
       "      <td>0.000134</td>\n",
       "      <td>0.000187</td>\n",
       "    </tr>\n",
       "    <tr>\n",
       "      <th>14</th>\n",
       "      <td>238.421783</td>\n",
       "      <td>0.000133</td>\n",
       "      <td>0.000192</td>\n",
       "    </tr>\n",
       "    <tr>\n",
       "      <th>15</th>\n",
       "      <td>210.272259</td>\n",
       "      <td>0.000138</td>\n",
       "      <td>0.000165</td>\n",
       "    </tr>\n",
       "    <tr>\n",
       "      <th>16</th>\n",
       "      <td>74.649846</td>\n",
       "      <td>0.000176</td>\n",
       "      <td>0.000127</td>\n",
       "    </tr>\n",
       "    <tr>\n",
       "      <th>17</th>\n",
       "      <td>16.924507</td>\n",
       "      <td>0.000515</td>\n",
       "      <td>0.000119</td>\n",
       "    </tr>\n",
       "    <tr>\n",
       "      <th>18</th>\n",
       "      <td>45.528434</td>\n",
       "      <td>0.000184</td>\n",
       "      <td>0.000105</td>\n",
       "    </tr>\n",
       "    <tr>\n",
       "      <th>19</th>\n",
       "      <td>61.604370</td>\n",
       "      <td>0.000157</td>\n",
       "      <td>0.000113</td>\n",
       "    </tr>\n",
       "    <tr>\n",
       "      <th>20</th>\n",
       "      <td>117.146385</td>\n",
       "      <td>0.000149</td>\n",
       "      <td>0.000166</td>\n",
       "    </tr>\n",
       "    <tr>\n",
       "      <th>21</th>\n",
       "      <td>120.730424</td>\n",
       "      <td>0.000147</td>\n",
       "      <td>0.000155</td>\n",
       "    </tr>\n",
       "    <tr>\n",
       "      <th>22</th>\n",
       "      <td>95.337702</td>\n",
       "      <td>0.000145</td>\n",
       "      <td>0.000126</td>\n",
       "    </tr>\n",
       "    <tr>\n",
       "      <th>23</th>\n",
       "      <td>79.315898</td>\n",
       "      <td>0.000144</td>\n",
       "      <td>0.000108</td>\n",
       "    </tr>\n",
       "  </tbody>\n",
       "</table>\n",
       "</div>"
      ]
     },
     "execution_count": 13,
     "metadata": {},
     "output_type": "execute_result"
    }
   ],
   "execution_count": 13
  },
  {
   "cell_type": "code",
   "metadata": {
    "ExecuteTime": {
     "end_time": "2024-12-16T14:31:18.010856Z",
     "start_time": "2024-12-16T14:31:17.687298Z"
    }
   },
   "source": [
    "by_hour.volume.plot(kind = \"bar\", figsize = (12, 8), fontsize = 13)\n",
    "plt.xlabel(\"NY Time\", fontsize = 15)\n",
    "plt.ylabel(\"Trading Volumne EUR/USD\", fontsize = 15)\n",
    "plt.title(\"Trading Volume\", fontsize = 15)\n",
    "plt.show()"
   ],
   "outputs": [
    {
     "data": {
      "text/plain": [
       "<Figure size 1200x800 with 1 Axes>"
      ],
      "image/png": "[encoded data removed]"
     },
     "metadata": {},
     "output_type": "display_data"
    }
   ],
   "execution_count": 14
  },
  {
   "cell_type": "code",
   "metadata": {
    "ExecuteTime": {
     "end_time": "2024-12-16T14:31:18.350926Z",
     "start_time": "2024-12-16T14:31:18.090768Z"
    }
   },
   "source": [
    "by_hour.spread.plot(kind = \"bar\", figsize = (12, 8), fontsize = 13)\n",
    "plt.xlabel(\"NY Time\", fontsize = 15)\n",
    "plt.ylabel(\"Spread EUR/USD\", fontsize = 15)\n",
    "plt.title(\"Spread\", fontsize = 15)\n",
    "plt.show()"
   ],
   "outputs": [
    {
     "data": {
      "text/plain": [
       "<Figure size 1200x800 with 1 Axes>"
      ],
      "image/png": "[encoded data removed]"
     },
     "metadata": {},
     "output_type": "display_data"
    }
   ],
   "execution_count": 15
  },
  {
   "cell_type": "code",
   "metadata": {
    "ExecuteTime": {
     "end_time": "2024-12-16T14:31:18.617987Z",
     "start_time": "2024-12-16T14:31:18.404541Z"
    }
   },
   "source": [
    "by_hour.loc[0:16, \"spread\"].plot(kind = \"bar\", figsize = (12, 8), fontsize = 13)\n",
    "plt.xlabel(\"NY Time\", fontsize = 15)\n",
    "plt.ylabel(\"Spread EUR/USD\", fontsize = 15)\n",
    "plt.title(\"Spread\", fontsize = 15)\n",
    "plt.show()"
   ],
   "outputs": [
    {
     "data": {
      "text/plain": [
       "<Figure size 1200x800 with 1 Axes>"
      ],
      "image/png": "[encoded data removed]"
     },
     "metadata": {},
     "output_type": "display_data"
    }
   ],
   "execution_count": 16
  },
  {
   "cell_type": "code",
   "metadata": {
    "ExecuteTime": {
     "end_time": "2024-12-16T14:31:18.903949Z",
     "start_time": "2024-12-16T14:31:18.646332Z"
    }
   },
   "source": [
    "by_hour.price_change_abs.plot(kind = \"bar\", figsize = (12, 8), fontsize = 13)\n",
    "plt.xlabel(\"NY Time\", fontsize = 15)\n",
    "plt.ylabel(\"Price Changes EUR/USD\", fontsize = 15)\n",
    "plt.title(\"Price Changes\", fontsize = 15)\n",
    "plt.show()"
   ],
   "outputs": [
    {
     "data": {
      "text/plain": [
       "<Figure size 1200x800 with 1 Axes>"
      ],
      "image/png": "[encoded data removed]"
     },
     "metadata": {},
     "output_type": "display_data"
    }
   ],
   "execution_count": 17
  },
  {
   "cell_type": "code",
   "metadata": {
    "ExecuteTime": {
     "end_time": "2024-12-16T14:31:18.923980Z",
     "start_time": "2024-12-16T14:31:18.921724Z"
    }
   },
   "source": [],
   "outputs": [],
   "execution_count": null
  },
  {
   "cell_type": "markdown",
   "metadata": {},
   "source": [
    "## The best time to trade (Part 2)"
   ]
  },
  {
   "cell_type": "code",
   "metadata": {
    "ExecuteTime": {
     "end_time": "2024-12-16T14:31:18.976590Z",
     "start_time": "2024-12-16T14:31:18.967510Z"
    }
   },
   "source": [
    "df"
   ],
   "outputs": [
    {
     "data": {
      "text/plain": [
       "                           volume      ask      bid   spread       mid  \\\n",
       "time                                                                     \n",
       "2019-07-21 21:05:00+00:00      12  1.12182  1.12157  0.00025  1.121695   \n",
       "2019-07-21 21:10:00+00:00       1  1.12176  1.12158  0.00018  1.121670   \n",
       "2019-07-21 21:15:00+00:00      18  1.12190  1.12141  0.00049  1.121655   \n",
       "2019-07-21 21:20:00+00:00       9  1.12201  1.12167  0.00034  1.121840   \n",
       "2019-07-21 21:25:00+00:00       1  1.12201  1.12161  0.00040  1.121810   \n",
       "...                           ...      ...      ...      ...       ...   \n",
       "2020-10-20 23:35:00+00:00      81  1.18275  1.18261  0.00014  1.182680   \n",
       "2020-10-20 23:40:00+00:00      92  1.18276  1.18263  0.00013  1.182695   \n",
       "2020-10-20 23:45:00+00:00     101  1.18275  1.18262  0.00013  1.182685   \n",
       "2020-10-20 23:50:00+00:00      63  1.18311  1.18297  0.00014  1.183040   \n",
       "2020-10-20 23:55:00+00:00      89  1.18298  1.18285  0.00013  1.182915   \n",
       "\n",
       "                                             NYTime  hour  price_change_abs  \n",
       "time                                                                         \n",
       "2019-07-21 21:05:00+00:00 2019-07-21 17:05:00-04:00    17          0.000220  \n",
       "2019-07-21 21:10:00+00:00 2019-07-21 17:10:00-04:00    17          0.000025  \n",
       "2019-07-21 21:15:00+00:00 2019-07-21 17:15:00-04:00    17          0.000015  \n",
       "2019-07-21 21:20:00+00:00 2019-07-21 17:20:00-04:00    17          0.000185  \n",
       "2019-07-21 21:25:00+00:00 2019-07-21 17:25:00-04:00    17          0.000030  \n",
       "...                                             ...   ...               ...  \n",
       "2020-10-20 23:35:00+00:00 2020-10-20 19:35:00-04:00    19          0.000100  \n",
       "2020-10-20 23:40:00+00:00 2020-10-20 19:40:00-04:00    19          0.000015  \n",
       "2020-10-20 23:45:00+00:00 2020-10-20 19:45:00-04:00    19          0.000010  \n",
       "2020-10-20 23:50:00+00:00 2020-10-20 19:50:00-04:00    19          0.000355  \n",
       "2020-10-20 23:55:00+00:00 2020-10-20 19:55:00-04:00    19          0.000125  \n",
       "\n",
       "[93020 rows x 8 columns]"
      ],
      "text/html": [
       "<div>\n",
       "<style scoped>\n",
       "    .dataframe tbody tr th:only-of-type {\n",
       "        vertical-align: middle;\n",
       "    }\n",
       "\n",
       "    .dataframe tbody tr th {\n",
       "        vertical-align: top;\n",
       "    }\n",
       "\n",
       "    .dataframe thead th {\n",
       "        text-align: right;\n",
       "    }\n",
       "</style>\n",
       "<table border=\"1\" class=\"dataframe\">\n",
       "  <thead>\n",
       "    <tr style=\"text-align: right;\">\n",
       "      <th></th>\n",
       "      <th>volume</th>\n",
       "      <th>ask</th>\n",
       "      <th>bid</th>\n",
       "      <th>spread</th>\n",
       "      <th>mid</th>\n",
       "      <th>NYTime</th>\n",
       "      <th>hour</th>\n",
       "      <th>price_change_abs</th>\n",
       "    </tr>\n",
       "    <tr>\n",
       "      <th>time</th>\n",
       "      <th></th>\n",
       "      <th></th>\n",
       "      <th></th>\n",
       "      <th></th>\n",
       "      <th></th>\n",
       "      <th></th>\n",
       "      <th></th>\n",
       "      <th></th>\n",
       "    </tr>\n",
       "  </thead>\n",
       "  <tbody>\n",
       "    <tr>\n",
       "      <th>2019-07-21 21:05:00+00:00</th>\n",
       "      <td>12</td>\n",
       "      <td>1.12182</td>\n",
       "      <td>1.12157</td>\n",
       "      <td>0.00025</td>\n",
       "      <td>1.121695</td>\n",
       "      <td>2019-07-21 17:05:00-04:00</td>\n",
       "      <td>17</td>\n",
       "      <td>0.000220</td>\n",
       "    </tr>\n",
       "    <tr>\n",
       "      <th>2019-07-21 21:10:00+00:00</th>\n",
       "      <td>1</td>\n",
       "      <td>1.12176</td>\n",
       "      <td>1.12158</td>\n",
       "      <td>0.00018</td>\n",
       "      <td>1.121670</td>\n",
       "      <td>2019-07-21 17:10:00-04:00</td>\n",
       "      <td>17</td>\n",
       "      <td>0.000025</td>\n",
       "    </tr>\n",
       "    <tr>\n",
       "      <th>2019-07-21 21:15:00+00:00</th>\n",
       "      <td>18</td>\n",
       "      <td>1.12190</td>\n",
       "      <td>1.12141</td>\n",
       "      <td>0.00049</td>\n",
       "      <td>1.121655</td>\n",
       "      <td>2019-07-21 17:15:00-04:00</td>\n",
       "      <td>17</td>\n",
       "      <td>0.000015</td>\n",
       "    </tr>\n",
       "    <tr>\n",
       "      <th>2019-07-21 21:20:00+00:00</th>\n",
       "      <td>9</td>\n",
       "      <td>1.12201</td>\n",
       "      <td>1.12167</td>\n",
       "      <td>0.00034</td>\n",
       "      <td>1.121840</td>\n",
       "      <td>2019-07-21 17:20:00-04:00</td>\n",
       "      <td>17</td>\n",
       "      <td>0.000185</td>\n",
       "    </tr>\n",
       "    <tr>\n",
       "      <th>2019-07-21 21:25:00+00:00</th>\n",
       "      <td>1</td>\n",
       "      <td>1.12201</td>\n",
       "      <td>1.12161</td>\n",
       "      <td>0.00040</td>\n",
       "      <td>1.121810</td>\n",
       "      <td>2019-07-21 17:25:00-04:00</td>\n",
       "      <td>17</td>\n",
       "      <td>0.000030</td>\n",
       "    </tr>\n",
       "    <tr>\n",
       "      <th>...</th>\n",
       "      <td>...</td>\n",
       "      <td>...</td>\n",
       "      <td>...</td>\n",
       "      <td>...</td>\n",
       "      <td>...</td>\n",
       "      <td>...</td>\n",
       "      <td>...</td>\n",
       "      <td>...</td>\n",
       "    </tr>\n",
       "    <tr>\n",
       "      <th>2020-10-20 23:35:00+00:00</th>\n",
       "      <td>81</td>\n",
       "      <td>1.18275</td>\n",
       "      <td>1.18261</td>\n",
       "      <td>0.00014</td>\n",
       "      <td>1.182680</td>\n",
       "      <td>2020-10-20 19:35:00-04:00</td>\n",
       "      <td>19</td>\n",
       "      <td>0.000100</td>\n",
       "    </tr>\n",
       "    <tr>\n",
       "      <th>2020-10-20 23:40:00+00:00</th>\n",
       "      <td>92</td>\n",
       "      <td>1.18276</td>\n",
       "      <td>1.18263</td>\n",
       "      <td>0.00013</td>\n",
       "      <td>1.182695</td>\n",
       "      <td>2020-10-20 19:40:00-04:00</td>\n",
       "      <td>19</td>\n",
       "      <td>0.000015</td>\n",
       "    </tr>\n",
       "    <tr>\n",
       "      <th>2020-10-20 23:45:00+00:00</th>\n",
       "      <td>101</td>\n",
       "      <td>1.18275</td>\n",
       "      <td>1.18262</td>\n",
       "      <td>0.00013</td>\n",
       "      <td>1.182685</td>\n",
       "      <td>2020-10-20 19:45:00-04:00</td>\n",
       "      <td>19</td>\n",
       "      <td>0.000010</td>\n",
       "    </tr>\n",
       "    <tr>\n",
       "      <th>2020-10-20 23:50:00+00:00</th>\n",
       "      <td>63</td>\n",
       "      <td>1.18311</td>\n",
       "      <td>1.18297</td>\n",
       "      <td>0.00014</td>\n",
       "      <td>1.183040</td>\n",
       "      <td>2020-10-20 19:50:00-04:00</td>\n",
       "      <td>19</td>\n",
       "      <td>0.000355</td>\n",
       "    </tr>\n",
       "    <tr>\n",
       "      <th>2020-10-20 23:55:00+00:00</th>\n",
       "      <td>89</td>\n",
       "      <td>1.18298</td>\n",
       "      <td>1.18285</td>\n",
       "      <td>0.00013</td>\n",
       "      <td>1.182915</td>\n",
       "      <td>2020-10-20 19:55:00-04:00</td>\n",
       "      <td>19</td>\n",
       "      <td>0.000125</td>\n",
       "    </tr>\n",
       "  </tbody>\n",
       "</table>\n",
       "<p>93020 rows × 8 columns</p>\n",
       "</div>"
      ]
     },
     "execution_count": 18,
     "metadata": {},
     "output_type": "execute_result"
    }
   ],
   "execution_count": 18
  },
  {
   "cell_type": "code",
   "metadata": {
    "ExecuteTime": {
     "end_time": "2024-12-16T14:31:19.058550Z",
     "start_time": "2024-12-16T14:31:19.055783Z"
    }
   },
   "source": [
    "df[\"cover_cost\"] = df.price_change_abs > df.spread"
   ],
   "outputs": [],
   "execution_count": 19
  },
  {
   "cell_type": "code",
   "metadata": {
    "ExecuteTime": {
     "end_time": "2024-12-16T14:31:19.112670Z",
     "start_time": "2024-12-16T14:31:19.101297Z"
    }
   },
   "source": [
    "df"
   ],
   "outputs": [
    {
     "data": {
      "text/plain": [
       "                           volume      ask      bid   spread       mid  \\\n",
       "time                                                                     \n",
       "2019-07-21 21:05:00+00:00      12  1.12182  1.12157  0.00025  1.121695   \n",
       "2019-07-21 21:10:00+00:00       1  1.12176  1.12158  0.00018  1.121670   \n",
       "2019-07-21 21:15:00+00:00      18  1.12190  1.12141  0.00049  1.121655   \n",
       "2019-07-21 21:20:00+00:00       9  1.12201  1.12167  0.00034  1.121840   \n",
       "2019-07-21 21:25:00+00:00       1  1.12201  1.12161  0.00040  1.121810   \n",
       "...                           ...      ...      ...      ...       ...   \n",
       "2020-10-20 23:35:00+00:00      81  1.18275  1.18261  0.00014  1.182680   \n",
       "2020-10-20 23:40:00+00:00      92  1.18276  1.18263  0.00013  1.182695   \n",
       "2020-10-20 23:45:00+00:00     101  1.18275  1.18262  0.00013  1.182685   \n",
       "2020-10-20 23:50:00+00:00      63  1.18311  1.18297  0.00014  1.183040   \n",
       "2020-10-20 23:55:00+00:00      89  1.18298  1.18285  0.00013  1.182915   \n",
       "\n",
       "                                             NYTime  hour  price_change_abs  \\\n",
       "time                                                                          \n",
       "2019-07-21 21:05:00+00:00 2019-07-21 17:05:00-04:00    17          0.000220   \n",
       "2019-07-21 21:10:00+00:00 2019-07-21 17:10:00-04:00    17          0.000025   \n",
       "2019-07-21 21:15:00+00:00 2019-07-21 17:15:00-04:00    17          0.000015   \n",
       "2019-07-21 21:20:00+00:00 2019-07-21 17:20:00-04:00    17          0.000185   \n",
       "2019-07-21 21:25:00+00:00 2019-07-21 17:25:00-04:00    17          0.000030   \n",
       "...                                             ...   ...               ...   \n",
       "2020-10-20 23:35:00+00:00 2020-10-20 19:35:00-04:00    19          0.000100   \n",
       "2020-10-20 23:40:00+00:00 2020-10-20 19:40:00-04:00    19          0.000015   \n",
       "2020-10-20 23:45:00+00:00 2020-10-20 19:45:00-04:00    19          0.000010   \n",
       "2020-10-20 23:50:00+00:00 2020-10-20 19:50:00-04:00    19          0.000355   \n",
       "2020-10-20 23:55:00+00:00 2020-10-20 19:55:00-04:00    19          0.000125   \n",
       "\n",
       "                           cover_cost  \n",
       "time                                   \n",
       "2019-07-21 21:05:00+00:00       False  \n",
       "2019-07-21 21:10:00+00:00       False  \n",
       "2019-07-21 21:15:00+00:00       False  \n",
       "2019-07-21 21:20:00+00:00       False  \n",
       "2019-07-21 21:25:00+00:00       False  \n",
       "...                               ...  \n",
       "2020-10-20 23:35:00+00:00       False  \n",
       "2020-10-20 23:40:00+00:00       False  \n",
       "2020-10-20 23:45:00+00:00       False  \n",
       "2020-10-20 23:50:00+00:00        True  \n",
       "2020-10-20 23:55:00+00:00       False  \n",
       "\n",
       "[93020 rows x 9 columns]"
      ],
      "text/html": [
       "<div>\n",
       "<style scoped>\n",
       "    .dataframe tbody tr th:only-of-type {\n",
       "        vertical-align: middle;\n",
       "    }\n",
       "\n",
       "    .dataframe tbody tr th {\n",
       "        vertical-align: top;\n",
       "    }\n",
       "\n",
       "    .dataframe thead th {\n",
       "        text-align: right;\n",
       "    }\n",
       "</style>\n",
       "<table border=\"1\" class=\"dataframe\">\n",
       "  <thead>\n",
       "    <tr style=\"text-align: right;\">\n",
       "      <th></th>\n",
       "      <th>volume</th>\n",
       "      <th>ask</th>\n",
       "      <th>bid</th>\n",
       "      <th>spread</th>\n",
       "      <th>mid</th>\n",
       "      <th>NYTime</th>\n",
       "      <th>hour</th>\n",
       "      <th>price_change_abs</th>\n",
       "      <th>cover_cost</th>\n",
       "    </tr>\n",
       "    <tr>\n",
       "      <th>time</th>\n",
       "      <th></th>\n",
       "      <th></th>\n",
       "      <th></th>\n",
       "      <th></th>\n",
       "      <th></th>\n",
       "      <th></th>\n",
       "      <th></th>\n",
       "      <th></th>\n",
       "      <th></th>\n",
       "    </tr>\n",
       "  </thead>\n",
       "  <tbody>\n",
       "    <tr>\n",
       "      <th>2019-07-21 21:05:00+00:00</th>\n",
       "      <td>12</td>\n",
       "      <td>1.12182</td>\n",
       "      <td>1.12157</td>\n",
       "      <td>0.00025</td>\n",
       "      <td>1.121695</td>\n",
       "      <td>2019-07-21 17:05:00-04:00</td>\n",
       "      <td>17</td>\n",
       "      <td>0.000220</td>\n",
       "      <td>False</td>\n",
       "    </tr>\n",
       "    <tr>\n",
       "      <th>2019-07-21 21:10:00+00:00</th>\n",
       "      <td>1</td>\n",
       "      <td>1.12176</td>\n",
       "      <td>1.12158</td>\n",
       "      <td>0.00018</td>\n",
       "      <td>1.121670</td>\n",
       "      <td>2019-07-21 17:10:00-04:00</td>\n",
       "      <td>17</td>\n",
       "      <td>0.000025</td>\n",
       "      <td>False</td>\n",
       "    </tr>\n",
       "    <tr>\n",
       "      <th>2019-07-21 21:15:00+00:00</th>\n",
       "      <td>18</td>\n",
       "      <td>1.12190</td>\n",
       "      <td>1.12141</td>\n",
       "      <td>0.00049</td>\n",
       "      <td>1.121655</td>\n",
       "      <td>2019-07-21 17:15:00-04:00</td>\n",
       "      <td>17</td>\n",
       "      <td>0.000015</td>\n",
       "      <td>False</td>\n",
       "    </tr>\n",
       "    <tr>\n",
       "      <th>2019-07-21 21:20:00+00:00</th>\n",
       "      <td>9</td>\n",
       "      <td>1.12201</td>\n",
       "      <td>1.12167</td>\n",
       "      <td>0.00034</td>\n",
       "      <td>1.121840</td>\n",
       "      <td>2019-07-21 17:20:00-04:00</td>\n",
       "      <td>17</td>\n",
       "      <td>0.000185</td>\n",
       "      <td>False</td>\n",
       "    </tr>\n",
       "    <tr>\n",
       "      <th>2019-07-21 21:25:00+00:00</th>\n",
       "      <td>1</td>\n",
       "      <td>1.12201</td>\n",
       "      <td>1.12161</td>\n",
       "      <td>0.00040</td>\n",
       "      <td>1.121810</td>\n",
       "      <td>2019-07-21 17:25:00-04:00</td>\n",
       "      <td>17</td>\n",
       "      <td>0.000030</td>\n",
       "      <td>False</td>\n",
       "    </tr>\n",
       "    <tr>\n",
       "      <th>...</th>\n",
       "      <td>...</td>\n",
       "      <td>...</td>\n",
       "      <td>...</td>\n",
       "      <td>...</td>\n",
       "      <td>...</td>\n",
       "      <td>...</td>\n",
       "      <td>...</td>\n",
       "      <td>...</td>\n",
       "      <td>...</td>\n",
       "    </tr>\n",
       "    <tr>\n",
       "      <th>2020-10-20 23:35:00+00:00</th>\n",
       "      <td>81</td>\n",
       "      <td>1.18275</td>\n",
       "      <td>1.18261</td>\n",
       "      <td>0.00014</td>\n",
       "      <td>1.182680</td>\n",
       "      <td>2020-10-20 19:35:00-04:00</td>\n",
       "      <td>19</td>\n",
       "      <td>0.000100</td>\n",
       "      <td>False</td>\n",
       "    </tr>\n",
       "    <tr>\n",
       "      <th>2020-10-20 23:40:00+00:00</th>\n",
       "      <td>92</td>\n",
       "      <td>1.18276</td>\n",
       "      <td>1.18263</td>\n",
       "      <td>0.00013</td>\n",
       "      <td>1.182695</td>\n",
       "      <td>2020-10-20 19:40:00-04:00</td>\n",
       "      <td>19</td>\n",
       "      <td>0.000015</td>\n",
       "      <td>False</td>\n",
       "    </tr>\n",
       "    <tr>\n",
       "      <th>2020-10-20 23:45:00+00:00</th>\n",
       "      <td>101</td>\n",
       "      <td>1.18275</td>\n",
       "      <td>1.18262</td>\n",
       "      <td>0.00013</td>\n",
       "      <td>1.182685</td>\n",
       "      <td>2020-10-20 19:45:00-04:00</td>\n",
       "      <td>19</td>\n",
       "      <td>0.000010</td>\n",
       "      <td>False</td>\n",
       "    </tr>\n",
       "    <tr>\n",
       "      <th>2020-10-20 23:50:00+00:00</th>\n",
       "      <td>63</td>\n",
       "      <td>1.18311</td>\n",
       "      <td>1.18297</td>\n",
       "      <td>0.00014</td>\n",
       "      <td>1.183040</td>\n",
       "      <td>2020-10-20 19:50:00-04:00</td>\n",
       "      <td>19</td>\n",
       "      <td>0.000355</td>\n",
       "      <td>True</td>\n",
       "    </tr>\n",
       "    <tr>\n",
       "      <th>2020-10-20 23:55:00+00:00</th>\n",
       "      <td>89</td>\n",
       "      <td>1.18298</td>\n",
       "      <td>1.18285</td>\n",
       "      <td>0.00013</td>\n",
       "      <td>1.182915</td>\n",
       "      <td>2020-10-20 19:55:00-04:00</td>\n",
       "      <td>19</td>\n",
       "      <td>0.000125</td>\n",
       "      <td>False</td>\n",
       "    </tr>\n",
       "  </tbody>\n",
       "</table>\n",
       "<p>93020 rows × 9 columns</p>\n",
       "</div>"
      ]
     },
     "execution_count": 20,
     "metadata": {},
     "output_type": "execute_result"
    }
   ],
   "execution_count": 20
  },
  {
   "cell_type": "code",
   "metadata": {
    "ExecuteTime": {
     "end_time": "2024-12-16T14:31:19.242941Z",
     "start_time": "2024-12-16T14:31:19.235436Z"
    }
   },
   "source": [
    "df.groupby(\"hour\").cover_cost.mean()"
   ],
   "outputs": [
    {
     "data": {
      "text/plain": [
       "hour\n",
       "0     0.239371\n",
       "1     0.340786\n",
       "2     0.563221\n",
       "3     0.662051\n",
       "4     0.635128\n",
       "5     0.598872\n",
       "6     0.619390\n",
       "7     0.610000\n",
       "8     0.652051\n",
       "9     0.685385\n",
       "10    0.735641\n",
       "11    0.672051\n",
       "12    0.570806\n",
       "13    0.481016\n",
       "14    0.470588\n",
       "15    0.411220\n",
       "16    0.260041\n",
       "17    0.025450\n",
       "18    0.147494\n",
       "19    0.217995\n",
       "20    0.389246\n",
       "21    0.365340\n",
       "22    0.299152\n",
       "23    0.233960\n",
       "Name: cover_cost, dtype: float64"
      ]
     },
     "execution_count": 21,
     "metadata": {},
     "output_type": "execute_result"
    }
   ],
   "execution_count": 21
  },
  {
   "cell_type": "code",
   "metadata": {
    "ExecuteTime": {
     "end_time": "2024-12-16T14:31:19.762239Z",
     "start_time": "2024-12-16T14:31:19.490264Z"
    }
   },
   "source": [
    "df.groupby(\"hour\").cover_cost.mean().plot(kind = \"bar\", figsize = (12, 8), fontsize = 13)\n",
    "plt.xlabel(\"NY Time\", fontsize = 15)\n",
    "plt.ylabel(\"Percentage of Bars where Costs are covered\", fontsize = 15)\n",
    "plt.show()"
   ],
   "outputs": [
    {
     "data": {
      "text/plain": [
       "<Figure size 1200x800 with 1 Axes>"
      ],
      "image/png": "[encoded data removed]"
     },
     "metadata": {},
     "output_type": "display_data"
    }
   ],
   "execution_count": 22
  },
  {
   "cell_type": "markdown",
   "metadata": {},
   "source": [
    "Busy Trading Hours for __EUR/USD__: from __2:00 am__ to __12:59 pm__ New York Time"
   ]
  },
  {
   "cell_type": "code",
   "metadata": {
    "ExecuteTime": {
     "end_time": "2024-12-16T14:31:19.865691Z",
     "start_time": "2024-12-16T14:31:19.863433Z"
    }
   },
   "source": [],
   "outputs": [],
   "execution_count": null
  },
  {
   "cell_type": "markdown",
   "metadata": {},
   "source": [
    "## Proportional Trading Costs and Trading Hours"
   ]
  },
  {
   "cell_type": "code",
   "metadata": {
    "ExecuteTime": {
     "end_time": "2024-12-16T14:31:19.901145Z",
     "start_time": "2024-12-16T14:31:19.898701Z"
    }
   },
   "source": [
    "ptc = 0.00007"
   ],
   "outputs": [],
   "execution_count": 23
  },
  {
   "cell_type": "code",
   "metadata": {
    "ExecuteTime": {
     "end_time": "2024-12-16T14:31:20.024215Z",
     "start_time": "2024-12-16T14:31:20.020363Z"
    }
   },
   "source": [
    "ptc"
   ],
   "outputs": [
    {
     "data": {
      "text/plain": [
       "7e-05"
      ]
     },
     "execution_count": 24,
     "metadata": {},
     "output_type": "execute_result"
    }
   ],
   "execution_count": 24
  },
  {
   "cell_type": "code",
   "metadata": {
    "ExecuteTime": {
     "end_time": "2024-12-16T14:31:20.196826Z",
     "start_time": "2024-12-16T14:31:20.185198Z"
    }
   },
   "source": [
    "df"
   ],
   "outputs": [
    {
     "data": {
      "text/plain": [
       "                           volume      ask      bid   spread       mid  \\\n",
       "time                                                                     \n",
       "2019-07-21 21:05:00+00:00      12  1.12182  1.12157  0.00025  1.121695   \n",
       "2019-07-21 21:10:00+00:00       1  1.12176  1.12158  0.00018  1.121670   \n",
       "2019-07-21 21:15:00+00:00      18  1.12190  1.12141  0.00049  1.121655   \n",
       "2019-07-21 21:20:00+00:00       9  1.12201  1.12167  0.00034  1.121840   \n",
       "2019-07-21 21:25:00+00:00       1  1.12201  1.12161  0.00040  1.121810   \n",
       "...                           ...      ...      ...      ...       ...   \n",
       "2020-10-20 23:35:00+00:00      81  1.18275  1.18261  0.00014  1.182680   \n",
       "2020-10-20 23:40:00+00:00      92  1.18276  1.18263  0.00013  1.182695   \n",
       "2020-10-20 23:45:00+00:00     101  1.18275  1.18262  0.00013  1.182685   \n",
       "2020-10-20 23:50:00+00:00      63  1.18311  1.18297  0.00014  1.183040   \n",
       "2020-10-20 23:55:00+00:00      89  1.18298  1.18285  0.00013  1.182915   \n",
       "\n",
       "                                             NYTime  hour  price_change_abs  \\\n",
       "time                                                                          \n",
       "2019-07-21 21:05:00+00:00 2019-07-21 17:05:00-04:00    17          0.000220   \n",
       "2019-07-21 21:10:00+00:00 2019-07-21 17:10:00-04:00    17          0.000025   \n",
       "2019-07-21 21:15:00+00:00 2019-07-21 17:15:00-04:00    17          0.000015   \n",
       "2019-07-21 21:20:00+00:00 2019-07-21 17:20:00-04:00    17          0.000185   \n",
       "2019-07-21 21:25:00+00:00 2019-07-21 17:25:00-04:00    17          0.000030   \n",
       "...                                             ...   ...               ...   \n",
       "2020-10-20 23:35:00+00:00 2020-10-20 19:35:00-04:00    19          0.000100   \n",
       "2020-10-20 23:40:00+00:00 2020-10-20 19:40:00-04:00    19          0.000015   \n",
       "2020-10-20 23:45:00+00:00 2020-10-20 19:45:00-04:00    19          0.000010   \n",
       "2020-10-20 23:50:00+00:00 2020-10-20 19:50:00-04:00    19          0.000355   \n",
       "2020-10-20 23:55:00+00:00 2020-10-20 19:55:00-04:00    19          0.000125   \n",
       "\n",
       "                           cover_cost  \n",
       "time                                   \n",
       "2019-07-21 21:05:00+00:00       False  \n",
       "2019-07-21 21:10:00+00:00       False  \n",
       "2019-07-21 21:15:00+00:00       False  \n",
       "2019-07-21 21:20:00+00:00       False  \n",
       "2019-07-21 21:25:00+00:00       False  \n",
       "...                               ...  \n",
       "2020-10-20 23:35:00+00:00       False  \n",
       "2020-10-20 23:40:00+00:00       False  \n",
       "2020-10-20 23:45:00+00:00       False  \n",
       "2020-10-20 23:50:00+00:00        True  \n",
       "2020-10-20 23:55:00+00:00       False  \n",
       "\n",
       "[93020 rows x 9 columns]"
      ],
      "text/html": [
       "<div>\n",
       "<style scoped>\n",
       "    .dataframe tbody tr th:only-of-type {\n",
       "        vertical-align: middle;\n",
       "    }\n",
       "\n",
       "    .dataframe tbody tr th {\n",
       "        vertical-align: top;\n",
       "    }\n",
       "\n",
       "    .dataframe thead th {\n",
       "        text-align: right;\n",
       "    }\n",
       "</style>\n",
       "<table border=\"1\" class=\"dataframe\">\n",
       "  <thead>\n",
       "    <tr style=\"text-align: right;\">\n",
       "      <th></th>\n",
       "      <th>volume</th>\n",
       "      <th>ask</th>\n",
       "      <th>bid</th>\n",
       "      <th>spread</th>\n",
       "      <th>mid</th>\n",
       "      <th>NYTime</th>\n",
       "      <th>hour</th>\n",
       "      <th>price_change_abs</th>\n",
       "      <th>cover_cost</th>\n",
       "    </tr>\n",
       "    <tr>\n",
       "      <th>time</th>\n",
       "      <th></th>\n",
       "      <th></th>\n",
       "      <th></th>\n",
       "      <th></th>\n",
       "      <th></th>\n",
       "      <th></th>\n",
       "      <th></th>\n",
       "      <th></th>\n",
       "      <th></th>\n",
       "    </tr>\n",
       "  </thead>\n",
       "  <tbody>\n",
       "    <tr>\n",
       "      <th>2019-07-21 21:05:00+00:00</th>\n",
       "      <td>12</td>\n",
       "      <td>1.12182</td>\n",
       "      <td>1.12157</td>\n",
       "      <td>0.00025</td>\n",
       "      <td>1.121695</td>\n",
       "      <td>2019-07-21 17:05:00-04:00</td>\n",
       "      <td>17</td>\n",
       "      <td>0.000220</td>\n",
       "      <td>False</td>\n",
       "    </tr>\n",
       "    <tr>\n",
       "      <th>2019-07-21 21:10:00+00:00</th>\n",
       "      <td>1</td>\n",
       "      <td>1.12176</td>\n",
       "      <td>1.12158</td>\n",
       "      <td>0.00018</td>\n",
       "      <td>1.121670</td>\n",
       "      <td>2019-07-21 17:10:00-04:00</td>\n",
       "      <td>17</td>\n",
       "      <td>0.000025</td>\n",
       "      <td>False</td>\n",
       "    </tr>\n",
       "    <tr>\n",
       "      <th>2019-07-21 21:15:00+00:00</th>\n",
       "      <td>18</td>\n",
       "      <td>1.12190</td>\n",
       "      <td>1.12141</td>\n",
       "      <td>0.00049</td>\n",
       "      <td>1.121655</td>\n",
       "      <td>2019-07-21 17:15:00-04:00</td>\n",
       "      <td>17</td>\n",
       "      <td>0.000015</td>\n",
       "      <td>False</td>\n",
       "    </tr>\n",
       "    <tr>\n",
       "      <th>2019-07-21 21:20:00+00:00</th>\n",
       "      <td>9</td>\n",
       "      <td>1.12201</td>\n",
       "      <td>1.12167</td>\n",
       "      <td>0.00034</td>\n",
       "      <td>1.121840</td>\n",
       "      <td>2019-07-21 17:20:00-04:00</td>\n",
       "      <td>17</td>\n",
       "      <td>0.000185</td>\n",
       "      <td>False</td>\n",
       "    </tr>\n",
       "    <tr>\n",
       "      <th>2019-07-21 21:25:00+00:00</th>\n",
       "      <td>1</td>\n",
       "      <td>1.12201</td>\n",
       "      <td>1.12161</td>\n",
       "      <td>0.00040</td>\n",
       "      <td>1.121810</td>\n",
       "      <td>2019-07-21 17:25:00-04:00</td>\n",
       "      <td>17</td>\n",
       "      <td>0.000030</td>\n",
       "      <td>False</td>\n",
       "    </tr>\n",
       "    <tr>\n",
       "      <th>...</th>\n",
       "      <td>...</td>\n",
       "      <td>...</td>\n",
       "      <td>...</td>\n",
       "      <td>...</td>\n",
       "      <td>...</td>\n",
       "      <td>...</td>\n",
       "      <td>...</td>\n",
       "      <td>...</td>\n",
       "      <td>...</td>\n",
       "    </tr>\n",
       "    <tr>\n",
       "      <th>2020-10-20 23:35:00+00:00</th>\n",
       "      <td>81</td>\n",
       "      <td>1.18275</td>\n",
       "      <td>1.18261</td>\n",
       "      <td>0.00014</td>\n",
       "      <td>1.182680</td>\n",
       "      <td>2020-10-20 19:35:00-04:00</td>\n",
       "      <td>19</td>\n",
       "      <td>0.000100</td>\n",
       "      <td>False</td>\n",
       "    </tr>\n",
       "    <tr>\n",
       "      <th>2020-10-20 23:40:00+00:00</th>\n",
       "      <td>92</td>\n",
       "      <td>1.18276</td>\n",
       "      <td>1.18263</td>\n",
       "      <td>0.00013</td>\n",
       "      <td>1.182695</td>\n",
       "      <td>2020-10-20 19:40:00-04:00</td>\n",
       "      <td>19</td>\n",
       "      <td>0.000015</td>\n",
       "      <td>False</td>\n",
       "    </tr>\n",
       "    <tr>\n",
       "      <th>2020-10-20 23:45:00+00:00</th>\n",
       "      <td>101</td>\n",
       "      <td>1.18275</td>\n",
       "      <td>1.18262</td>\n",
       "      <td>0.00013</td>\n",
       "      <td>1.182685</td>\n",
       "      <td>2020-10-20 19:45:00-04:00</td>\n",
       "      <td>19</td>\n",
       "      <td>0.000010</td>\n",
       "      <td>False</td>\n",
       "    </tr>\n",
       "    <tr>\n",
       "      <th>2020-10-20 23:50:00+00:00</th>\n",
       "      <td>63</td>\n",
       "      <td>1.18311</td>\n",
       "      <td>1.18297</td>\n",
       "      <td>0.00014</td>\n",
       "      <td>1.183040</td>\n",
       "      <td>2020-10-20 19:50:00-04:00</td>\n",
       "      <td>19</td>\n",
       "      <td>0.000355</td>\n",
       "      <td>True</td>\n",
       "    </tr>\n",
       "    <tr>\n",
       "      <th>2020-10-20 23:55:00+00:00</th>\n",
       "      <td>89</td>\n",
       "      <td>1.18298</td>\n",
       "      <td>1.18285</td>\n",
       "      <td>0.00013</td>\n",
       "      <td>1.182915</td>\n",
       "      <td>2020-10-20 19:55:00-04:00</td>\n",
       "      <td>19</td>\n",
       "      <td>0.000125</td>\n",
       "      <td>False</td>\n",
       "    </tr>\n",
       "  </tbody>\n",
       "</table>\n",
       "<p>93020 rows × 9 columns</p>\n",
       "</div>"
      ]
     },
     "execution_count": 25,
     "metadata": {},
     "output_type": "execute_result"
    }
   ],
   "execution_count": 25
  },
  {
   "cell_type": "code",
   "metadata": {
    "ExecuteTime": {
     "end_time": "2024-12-16T14:31:20.315243Z",
     "start_time": "2024-12-16T14:31:20.310371Z"
    }
   },
   "source": [
    "df.spread.mean()"
   ],
   "outputs": [
    {
     "data": {
      "text/plain": [
       "0.00015465190281654777"
      ]
     },
     "execution_count": 26,
     "metadata": {},
     "output_type": "execute_result"
    }
   ],
   "execution_count": 26
  },
  {
   "cell_type": "code",
   "metadata": {
    "ExecuteTime": {
     "end_time": "2024-12-16T14:31:20.384270Z",
     "start_time": "2024-12-16T14:31:20.376967Z"
    }
   },
   "source": [
    "spread = df.loc[df.hour.between(2, 12), \"spread\"].mean()\n",
    "spread"
   ],
   "outputs": [
    {
     "data": {
      "text/plain": [
       "0.00013103112250839954"
      ]
     },
     "execution_count": 27,
     "metadata": {},
     "output_type": "execute_result"
    }
   ],
   "execution_count": 27
  },
  {
   "cell_type": "code",
   "metadata": {
    "ExecuteTime": {
     "end_time": "2024-12-16T14:31:20.448412Z",
     "start_time": "2024-12-16T14:31:20.443357Z"
    }
   },
   "source": [
    "ptc = (spread/2) / df.mid.mean()\n",
    "ptc"
   ],
   "outputs": [
    {
     "data": {
      "text/plain": [
       "5.8454351829187725e-05"
      ]
     },
     "execution_count": 28,
     "metadata": {},
     "output_type": "execute_result"
    }
   ],
   "execution_count": 28
  },
  {
   "cell_type": "code",
   "metadata": {
    "ExecuteTime": {
     "end_time": "2024-12-16T14:31:20.513379Z",
     "start_time": "2024-12-16T14:31:20.511624Z"
    }
   },
   "source": [],
   "outputs": [],
   "execution_count": null
  },
  {
   "cell_type": "markdown",
   "metadata": {},
   "source": [
    "## The Impact of Granularity"
   ]
  },
  {
   "cell_type": "code",
   "metadata": {
    "ExecuteTime": {
     "end_time": "2024-12-16T14:31:20.571215Z",
     "start_time": "2024-12-16T14:31:20.565253Z"
    }
   },
   "source": [
    "def hours_granularity(freq = None):\n",
    "    df = pd.read_csv(\"bid_ask.csv\", parse_dates = [\"time\"], index_col = \"time\",\n",
    "                     usecols = [\"time\", \"spread\", \"mid\"])\n",
    "    if freq is not None:\n",
    "        df = df.resample(freq).last().dropna()\n",
    "    df[\"NYTime\"] = df.index.tz_convert(\"America/New_York\")\n",
    "    df[\"hour\"] = df.NYTime.dt.hour\n",
    "    df[\"price_change_abs\"] = df.mid.diff().abs()\n",
    "    df[\"cover_cost\"] = df.price_change_abs > df.spread\n",
    "    \n",
    "    df.dropna().groupby(\"hour\").cover_cost.mean().plot(kind = \"bar\", figsize = (12, 8), fontsize = 13)\n",
    "    plt.xlabel(\"NY Time\", fontsize = 15)\n",
    "    plt.ylabel(\"Cover Costs\", fontsize = 15)\n",
    "    plt.title(\"Granularity: {}\".format(freq), fontsize = 18)\n",
    "    plt.yticks([0.1, 0.2, 0.3, 0.4, 0.5, 0.6, 0.7, 0.75, 0.8, 0.85, 0.9, 0.95])\n",
    "    plt.show()"
   ],
   "outputs": [],
   "execution_count": 29
  },
  {
   "cell_type": "code",
   "metadata": {
    "ExecuteTime": {
     "end_time": "2024-12-16T14:31:21.642015Z",
     "start_time": "2024-12-16T14:31:20.620731Z"
    }
   },
   "source": [
    "hours_granularity(freq = \"5min\")"
   ],
   "outputs": [
    {
     "data": {
      "text/plain": [
       "<Figure size 1200x800 with 1 Axes>"
      ],
      "image/png": "[encoded data removed]"
     },
     "metadata": {},
     "output_type": "display_data"
    }
   ],
   "execution_count": 30
  },
  {
   "cell_type": "code",
   "metadata": {
    "ExecuteTime": {
     "end_time": "2024-12-16T14:31:22.845289Z",
     "start_time": "2024-12-16T14:31:21.745284Z"
    }
   },
   "source": [
    "hours_granularity(freq = \"10min\")"
   ],
   "outputs": [
    {
     "data": {
      "text/plain": [
       "<Figure size 1200x800 with 1 Axes>"
      ],
      "image/png": "[encoded data removed]"
     },
     "metadata": {},
     "output_type": "display_data"
    }
   ],
   "execution_count": 31
  },
  {
   "cell_type": "code",
   "metadata": {
    "ExecuteTime": {
     "end_time": "2024-12-16T14:31:23.774811Z",
     "start_time": "2024-12-16T14:31:22.879833Z"
    }
   },
   "source": [
    "hours_granularity(freq = \"20min\")"
   ],
   "outputs": [
    {
     "data": {
      "text/plain": [
       "<Figure size 1200x800 with 1 Axes>"
      ],
      "image/png": "[encoded data removed]"
     },
     "metadata": {},
     "output_type": "display_data"
    }
   ],
   "execution_count": 32
  },
  {
   "cell_type": "code",
   "metadata": {
    "ExecuteTime": {
     "end_time": "2024-12-16T14:31:24.731712Z",
     "start_time": "2024-12-16T14:31:23.780745Z"
    }
   },
   "source": [
    "hours_granularity(freq = \"30min\")"
   ],
   "outputs": [
    {
     "data": {
      "text/plain": [
       "<Figure size 1200x800 with 1 Axes>"
      ],
      "image/png": "[encoded data removed]"
     },
     "metadata": {},
     "output_type": "display_data"
    }
   ],
   "execution_count": 33
  },
  {
   "cell_type": "code",
   "metadata": {
    "ExecuteTime": {
     "end_time": "2024-12-16T14:31:24.750080Z",
     "start_time": "2024-12-16T14:31:24.748045Z"
    }
   },
   "source": [
    "# hours_granularity(freq = \"1H\") # old"
   ],
   "outputs": [],
   "execution_count": 34
  },
  {
   "cell_type": "code",
   "metadata": {
    "ExecuteTime": {
     "end_time": "2024-12-16T14:31:25.683203Z",
     "start_time": "2024-12-16T14:31:24.796515Z"
    }
   },
   "source": [
    "hours_granularity(freq = \"1h\") # new (Pandas 3.x)"
   ],
   "outputs": [
    {
     "data": {
      "text/plain": [
       "<Figure size 1200x800 with 1 Axes>"
      ],
      "image/png": "[encoded data removed]"
     },
     "metadata": {},
     "output_type": "display_data"
    }
   ],
   "execution_count": 35
  },
  {
   "cell_type": "code",
   "metadata": {
    "ExecuteTime": {
     "end_time": "2024-12-16T14:31:25.702835Z",
     "start_time": "2024-12-16T14:31:25.701153Z"
    }
   },
   "source": [],
   "outputs": [],
   "execution_count": null
  }
 ],
 "metadata": {
  "kernelspec": {
   "display_name": "Python 3 (ipykernel)",
   "language": "python",
   "name": "python3"
  },
  "language_info": {
   "codemirror_mode": {
    "name": "ipython",
    "version": 3
   },
   "file_extension": ".py",
   "mimetype": "text/x-python",
   "name": "python",
   "nbconvert_exporter": "python",
   "pygments_lexer": "ipython3",
   "version": "3.12.0"
  }
 },
 "nbformat": 4,
 "nbformat_minor": 4
}
