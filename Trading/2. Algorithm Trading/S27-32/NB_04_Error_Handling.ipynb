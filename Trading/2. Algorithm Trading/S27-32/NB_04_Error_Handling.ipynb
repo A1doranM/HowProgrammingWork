{
 "cells": [
  {
   "cell_type": "markdown",
   "id": "424cf273",
   "metadata": {},
   "source": [
    "# Error Handling"
   ]
  },
  {
   "cell_type": "markdown",
   "id": "e7a63f2e",
   "metadata": {},
   "source": [
    "## Python Errors (Exceptions)"
   ]
  },
  {
   "cell_type": "code",
   "id": "3f1b80c3",
   "metadata": {},
   "source": [
    "my_list = [1, 2, 3, \"Four\", 5, 6, 7]"
   ],
   "outputs": [],
   "execution_count": null
  },
  {
   "cell_type": "code",
   "id": "9617f8fa",
   "metadata": {},
   "source": [
    "for element in my_list:\n",
    "    result = 10 + element\n",
    "    print(result)"
   ],
   "outputs": [],
   "execution_count": null
  },
  {
   "cell_type": "code",
   "id": "79c036b5",
   "metadata": {},
   "source": [],
   "outputs": [],
   "execution_count": null
  },
  {
   "cell_type": "markdown",
   "id": "d19b558f",
   "metadata": {},
   "source": [
    "## Try and except"
   ]
  },
  {
   "cell_type": "code",
   "id": "1af39726",
   "metadata": {},
   "source": [
    "my_list = [1, 2, 3, \"Four\", 5, 6, 7]"
   ],
   "outputs": [],
   "execution_count": null
  },
  {
   "cell_type": "code",
   "id": "a7e10468",
   "metadata": {},
   "source": [
    "for element in my_list:\n",
    "    try:\n",
    "        result = 10 + element\n",
    "        print(result)\n",
    "    except:\n",
    "        print(\"{} is not a number.\".format(element))"
   ],
   "outputs": [],
   "execution_count": null
  },
  {
   "cell_type": "code",
   "id": "3b44fe52",
   "metadata": {},
   "source": [],
   "outputs": [],
   "execution_count": null
  },
  {
   "cell_type": "markdown",
   "id": "719f2d4c",
   "metadata": {},
   "source": [
    "## Catching specific Errors"
   ]
  },
  {
   "cell_type": "code",
   "id": "c6910ca5",
   "metadata": {},
   "source": [
    "my_list = [1, 2, 3, \"Four\", 5, 6, 7]"
   ],
   "outputs": [],
   "execution_count": null
  },
  {
   "cell_type": "code",
   "id": "f0d4abd1",
   "metadata": {},
   "source": [
    "for element in my_list:\n",
    "    try:\n",
    "        result = 10 + element\n",
    "        print(result)\n",
    "    except TypeError: # only TypeErrors are handled\n",
    "        print(\"{} is not a number.\".format(element))"
   ],
   "outputs": [],
   "execution_count": null
  },
  {
   "cell_type": "code",
   "id": "aecda634",
   "metadata": {},
   "source": [
    "for element in my_list:\n",
    "    try:\n",
    "        result = 10 + element\n",
    "        print(result)\n",
    "    except ValueError: # only ValueErrors are handled\n",
    "        print(\"{} is not a number.\".format(element))"
   ],
   "outputs": [],
   "execution_count": null
  },
  {
   "cell_type": "code",
   "id": "f37f82eb",
   "metadata": {},
   "source": [],
   "outputs": [],
   "execution_count": null
  },
  {
   "cell_type": "markdown",
   "id": "d23af592",
   "metadata": {},
   "source": [
    "## The Exception class"
   ]
  },
  {
   "cell_type": "code",
   "id": "9780161b",
   "metadata": {},
   "source": [
    "my_list = [1, 2, 3, \"Four\", 5, 6, 7]"
   ],
   "outputs": [],
   "execution_count": null
  },
  {
   "cell_type": "code",
   "id": "c945d953",
   "metadata": {},
   "source": [
    "for element in my_list:\n",
    "    try:\n",
    "        result = 10 + element\n",
    "        print(result)\n",
    "    except Exception as e:\n",
    "        print(\"{} is not a number\".format(element), end = \" | \")\n",
    "        print(e)"
   ],
   "outputs": [],
   "execution_count": null
  },
  {
   "cell_type": "code",
   "id": "03702b3e",
   "metadata": {},
   "source": [],
   "outputs": [],
   "execution_count": null
  },
  {
   "cell_type": "markdown",
   "id": "6be25285",
   "metadata": {},
   "source": [
    "## try, except, else"
   ]
  },
  {
   "cell_type": "code",
   "id": "427d233e",
   "metadata": {},
   "source": [
    "my_list = [1, 2, 3, \"Four\", 5, 6, 7]"
   ],
   "outputs": [],
   "execution_count": null
  },
  {
   "cell_type": "code",
   "id": "d5b13c13",
   "metadata": {},
   "source": [
    "for element in my_list:\n",
    "    try:\n",
    "        result = 10 + element\n",
    "    except Exception as e:\n",
    "        print(\"{} is not a number\".format(element),  end = \" | \")\n",
    "        print(e)\n",
    "    else: # only if no error occured\n",
    "        print(result, end = \" | \")\n",
    "        print(\"{} is a valid input\".format(element))"
   ],
   "outputs": [],
   "execution_count": null
  },
  {
   "cell_type": "code",
   "id": "eca939c3",
   "metadata": {},
   "source": [
    "# isn´t this identical? no!\n",
    "for element in my_list:\n",
    "    try:\n",
    "        result = 10 + element\n",
    "        print(result, end = \" | \") # catches unexpected errors in this line as well\n",
    "        print(\"{} is a valid input\".format(element)) # catches unexpected errors in this line as well\n",
    "    except Exception as e:\n",
    "        print(\"{} is not a number\".format(element),  end = \" | \")\n",
    "        print(e)"
   ],
   "outputs": [],
   "execution_count": null
  },
  {
   "cell_type": "code",
   "id": "105279c8",
   "metadata": {},
   "source": [],
   "outputs": [],
   "execution_count": null
  },
  {
   "cell_type": "markdown",
   "id": "4715313a",
   "metadata": {},
   "source": [
    "## finally"
   ]
  },
  {
   "cell_type": "code",
   "id": "a524726c",
   "metadata": {},
   "source": [
    "my_list = [1, 2, 3, \"Four\", 5, 6, 7]"
   ],
   "outputs": [],
   "execution_count": null
  },
  {
   "cell_type": "code",
   "id": "4b02248c",
   "metadata": {},
   "source": [
    "for element in my_list:\n",
    "    try:\n",
    "        result = 10 + element\n",
    "    except Exception as e:\n",
    "        print(\"{} is not a number.\".format(element), end = \" | \")\n",
    "        print(e, end = \" | \")\n",
    "    else: # only if no error occured\n",
    "        print(result, end = \" | \")\n",
    "        print(\"{} is a valid input\".format(element), end = \" | \")\n",
    "    finally: # in any case\n",
    "        print(\"Valid or not valid, it doesn´t matter!\")"
   ],
   "outputs": [],
   "execution_count": null
  },
  {
   "cell_type": "code",
   "id": "022a14f0",
   "metadata": {},
   "source": [],
   "outputs": [],
   "execution_count": null
  },
  {
   "cell_type": "markdown",
   "id": "ad8d7679",
   "metadata": {},
   "source": [
    "## Try again (...until it works)"
   ]
  },
  {
   "cell_type": "code",
   "id": "809eb5f9",
   "metadata": {},
   "source": [
    "import numpy as np"
   ],
   "outputs": [],
   "execution_count": null
  },
  {
   "cell_type": "code",
   "id": "43005eb2",
   "metadata": {},
   "source": [
    "# process with random outcome (0: No Success, 1: Success)\n",
    "np.random.randint(0, 2)"
   ],
   "outputs": [],
   "execution_count": null
  },
  {
   "cell_type": "code",
   "id": "c7ed58fc",
   "metadata": {},
   "source": [
    "1 / 0 # if 0: Error"
   ],
   "outputs": [],
   "execution_count": null
  },
  {
   "cell_type": "code",
   "id": "37ca8c81",
   "metadata": {},
   "source": [
    "result = 1 / np.random.randint(0, 2)\n",
    "print(result)"
   ],
   "outputs": [],
   "execution_count": null
  },
  {
   "cell_type": "markdown",
   "id": "eee8b922",
   "metadata": {},
   "source": [
    "Goal: Re-try until it works (success)"
   ]
  },
  {
   "cell_type": "code",
   "id": "d20ad6b3",
   "metadata": {},
   "source": [
    "attempt = 0\n",
    "while True:\n",
    "    try:\n",
    "        result = 1 / np.random.randint(0, 2)\n",
    "    except Exception as e:\n",
    "        print(e, end = \" | \")\n",
    "    else: \n",
    "        print(result, end = \" | \")\n",
    "        break # stop when it worked\n",
    "    finally:\n",
    "        attempt += 1\n",
    "        print(\"Attempt: {}\".format(attempt))"
   ],
   "outputs": [],
   "execution_count": null
  },
  {
   "cell_type": "code",
   "id": "5658129a",
   "metadata": {},
   "source": [],
   "outputs": [],
   "execution_count": null
  },
  {
   "cell_type": "markdown",
   "id": "f7b1fbf7",
   "metadata": {},
   "source": [
    "## Limited number of retries"
   ]
  },
  {
   "cell_type": "markdown",
   "id": "f8bb129a",
   "metadata": {},
   "source": [
    "__Stop after [3] unsuccessful attempts.__"
   ]
  },
  {
   "cell_type": "code",
   "id": "86dd5ff6",
   "metadata": {},
   "source": [
    "import numpy as np"
   ],
   "outputs": [],
   "execution_count": null
  },
  {
   "cell_type": "code",
   "id": "0e614868",
   "metadata": {},
   "source": [
    "max_attempts = 3"
   ],
   "outputs": [],
   "execution_count": null
  },
  {
   "cell_type": "code",
   "id": "c3cccab0",
   "metadata": {},
   "source": [
    "attempt = 0\n",
    "success = False\n",
    "while True:\n",
    "    try:\n",
    "        result = 1 / np.random.randint(0, 2)\n",
    "    except Exception as e:\n",
    "        print(e, end = \" | \")\n",
    "    else: \n",
    "        print(result, end = \" | \")\n",
    "        success = True\n",
    "        break\n",
    "    finally:\n",
    "        attempt += 1\n",
    "        print(\"Attempt: {}\".format(attempt))\n",
    "        if success == False:\n",
    "            if attempt >= max_attempts: # if max_attempts is reached\n",
    "                print(\"Programm stopped: max_attempts reached!\")\n",
    "                break"
   ],
   "outputs": [],
   "execution_count": null
  },
  {
   "cell_type": "code",
   "id": "b04ed5ae",
   "metadata": {},
   "source": [],
   "outputs": [],
   "execution_count": null
  },
  {
   "cell_type": "markdown",
   "id": "65111a99",
   "metadata": {},
   "source": [
    "## Waiting periods between re-tries"
   ]
  },
  {
   "cell_type": "code",
   "id": "b646b376",
   "metadata": {},
   "source": [
    "import numpy as np\n",
    "import time"
   ],
   "outputs": [],
   "execution_count": null
  },
  {
   "cell_type": "code",
   "id": "e617bb96",
   "metadata": {},
   "source": [
    "attempt = 0\n",
    "max_attempts = 4\n",
    "success = False\n",
    "wait = 1 # initial waiting period: 1 second\n",
    "wait_increase = 5 # waiting period increase in seconds\n",
    "\n",
    "while True:\n",
    "    try:\n",
    "        result = 1 / np.random.randint(0, 2)\n",
    "    except Exception as e:\n",
    "        print(e, end = \" | \")\n",
    "    else: \n",
    "        print(result, end = \" | \")\n",
    "        success = True\n",
    "        break\n",
    "    finally:\n",
    "        attempt += 1\n",
    "        print(\"Attempt: {}\".format(attempt))\n",
    "        if success == False:\n",
    "            if attempt >= max_attempts: # if max_attempts is reached\n",
    "                print(\"Programm stopped: max_attempts reached!\")\n",
    "                break\n",
    "            else: # if we haven´t reached max_attempts, wait before we start the next try\n",
    "                time.sleep(wait)\n",
    "                wait += wait_increase # increase waiting time"
   ],
   "outputs": [],
   "execution_count": null
  },
  {
   "cell_type": "code",
   "id": "7ef90b37",
   "metadata": {},
   "source": [],
   "outputs": [],
   "execution_count": null
  },
  {
   "cell_type": "markdown",
   "id": "c57f6288",
   "metadata": {},
   "source": [
    "## Error Handling Application: Trading with IBKR"
   ]
  },
  {
   "cell_type": "markdown",
   "id": "5cee5673",
   "metadata": {},
   "source": [
    "_Disclaimer: <br>\n",
    "The following illustrative examples are for general information and educational purposes only. <br>\n",
    "It is neither investment advice nor a recommendation to trade, invest or take whatsoever actions.<br>\n",
    "The below code should only be used in combination with an IBKR Practice/Demo Account and NOT with a Live Trading Account._"
   ]
  },
  {
   "cell_type": "markdown",
   "id": "0009dc65",
   "metadata": {},
   "source": [
    "__What can go wrong?__\n",
    "- API Calls (mostly handled with try/except)\n",
    "- Connectivity Issues: IBKR very realiable, connect. breaks do not stop the whole session (but the stream...) "
   ]
  },
  {
   "cell_type": "markdown",
   "id": "34e62bf6",
   "metadata": {},
   "source": [
    "### Recap: Contrader with start and stop wrapped into functions"
   ]
  },
  {
   "cell_type": "code",
   "id": "45f8c6b3",
   "metadata": {},
   "source": [
    "from ib_async import * # now use ib_async \n",
    "import pandas as pd\n",
    "import numpy as np\n",
    "import datetime as dt\n",
    "from datetime import datetime, timezone # new\n",
    "from IPython.display import display, clear_output\n",
    "util.startLoop()"
   ],
   "outputs": [],
   "execution_count": null
  },
  {
   "cell_type": "code",
   "id": "2475bffd",
   "metadata": {},
   "source": [
    "def start_session(): # NEW\n",
    "    global session_start\n",
    "    \n",
    "    session_start = pd.to_datetime(datetime.now(timezone.utc))# new (Python 3.12)\n",
    "    \n",
    "    initialize_stream() # NEW \n",
    "    stop_session() # NEW\n",
    "\n",
    "def initialize_stream(): # NEW\n",
    "    global bars, last_bar\n",
    "    \n",
    "    bars = ib.reqHistoricalData(\n",
    "            contract,\n",
    "            endDateTime='',\n",
    "            durationStr='1 D',\n",
    "            barSizeSetting=freq,\n",
    "            whatToShow='MIDPOINT',\n",
    "            useRTH=True,\n",
    "            formatDate=2,\n",
    "            keepUpToDate=True)\n",
    "    last_bar = bars[-1].date\n",
    "    bars.updateEvent += onBarUpdate \n",
    "\n",
    "def onBarUpdate(bars, hasNewBar):  \n",
    "    global df, last_bar\n",
    "    \n",
    "    if bars[-1].date > last_bar: \n",
    "        last_bar = bars[-1].date\n",
    "    \n",
    "        # Data Processing\n",
    "        df = pd.DataFrame(bars)[[\"date\", \"open\", \"high\", \"low\", \"close\"]].iloc[:-1] \n",
    "        df.set_index(\"date\", inplace = True)\n",
    "        \n",
    "        ####################### Trading Strategy ###########################\n",
    "        df = df[[\"close\"]].copy()\n",
    "        df[\"returns\"] = np.log(df[\"close\"] / df[\"close\"].shift())\n",
    "        df[\"position\"] = -np.sign(df.returns.rolling(window).mean())\n",
    "        ####################################################################\n",
    "        \n",
    "        # Trading\n",
    "        target = df[\"position\"][-1] * units\n",
    "        execute_trade(target = target)\n",
    "        \n",
    "        # Display\n",
    "        clear_output(wait=True)\n",
    "        display(df)\n",
    "    else:\n",
    "        try:\n",
    "            trade_reporting()\n",
    "        except:\n",
    "            pass\n",
    "\n",
    "def execute_trade(target):\n",
    "    global current_pos\n",
    "    \n",
    "    # 1. get current Position\n",
    "    try:\n",
    "        current_pos = [pos.position for pos in ib.positions() if pos.contract.conId == conID][0]\n",
    "    except:\n",
    "        current_pos = 0\n",
    "         \n",
    "    # 2. identify required trades\n",
    "    trades = target - current_pos\n",
    "        \n",
    "    # 3. trade execution\n",
    "    if trades > 0:\n",
    "        side = \"BUY\"\n",
    "        order = MarketOrder(side, abs(trades))\n",
    "        trade = ib.placeOrder(cfd, order)  \n",
    "    elif trades < 0:\n",
    "        side = \"SELL\"\n",
    "        order = MarketOrder(side, abs(trades))\n",
    "        trade = ib.placeOrder(cfd, order)\n",
    "    else:\n",
    "        pass\n",
    "\n",
    "def trade_reporting():\n",
    "    global report\n",
    "    \n",
    "    fill_df = util.df([fs.execution for fs in ib.fills()])[[\"execId\", \"time\", \"side\", \"cumQty\", \"avgPrice\"]].set_index(\"execId\")\n",
    "    profit_df = util.df([fs.commissionReport for fs in ib.fills()])[[\"execId\", \"realizedPNL\"]].set_index(\"execId\")\n",
    "    report = pd.concat([fill_df, profit_df], axis = 1).set_index(\"time\").loc[session_start:]\n",
    "    report = report.groupby(\"time\").agg({\"side\":\"first\", \"cumQty\":\"max\", \"avgPrice\":\"mean\", \"realizedPNL\":\"sum\"})\n",
    "    report[\"cumPNL\"] = report.realizedPNL.cumsum()\n",
    "        \n",
    "    clear_output(wait=True)\n",
    "    display(df, report)\n",
    "\n",
    "def stop_session(): # NEW\n",
    "    while True:\n",
    "        ib.sleep(5) # check every 5 seconds\n",
    "        if datetime.now(timezone.utc).time() >= end_time: # if stop conditions has been met\n",
    "            execute_trade(target = 0) # close open position \n",
    "            ib.cancelHistoricalData(bars) # stop stream\n",
    "            ib.sleep(10)\n",
    "            try:\n",
    "                trade_reporting() # final reporting\n",
    "            except:\n",
    "                pass\n",
    "            print(\"Session Stopped.\")\n",
    "            ib.disconnect()\n",
    "            break\n",
    "        else:\n",
    "            pass"
   ],
   "outputs": [],
   "execution_count": null
  },
  {
   "cell_type": "code",
   "id": "02ed522c",
   "metadata": {},
   "source": [
    "ib = IB()\n",
    "ib.connect()"
   ],
   "outputs": [],
   "execution_count": null
  },
  {
   "cell_type": "code",
   "id": "714d293f",
   "metadata": {},
   "source": [
    "# strategy parameters\n",
    "freq = \"1 min\"\n",
    "window = 1\n",
    "units = 1000\n",
    "end_time = (datetime.now(timezone.utc) + dt.timedelta(seconds = 330)).time() # stop condition (5.5 mins from now)\n",
    "print(end_time)\n",
    "contract = Forex('EURUSD') \n",
    "ib.qualifyContracts(contract)\n",
    "cfd = CFD(\"EUR\", currency = \"USD\")\n",
    "ib.qualifyContracts(cfd)\n",
    "conID = cfd.conId"
   ],
   "outputs": [],
   "execution_count": null
  },
  {
   "cell_type": "code",
   "id": "cf39ace2",
   "metadata": {},
   "source": [
    "start_session()"
   ],
   "outputs": [],
   "execution_count": null
  },
  {
   "cell_type": "code",
   "id": "c2336911",
   "metadata": {},
   "source": [],
   "outputs": [],
   "execution_count": null
  },
  {
   "cell_type": "markdown",
   "id": "80cda605",
   "metadata": {},
   "source": [
    "## Error Handling: IBKR API Connectivity Issues"
   ]
  },
  {
   "cell_type": "code",
   "id": "c602d76a",
   "metadata": {},
   "source": [
    "from ib_async import * \n",
    "import pandas as pd\n",
    "import numpy as np\n",
    "import datetime as dt\n",
    "from datetime import datetime, timezone # new\n",
    "from IPython.display import display, clear_output\n",
    "util.startLoop()"
   ],
   "outputs": [],
   "execution_count": null
  },
  {
   "cell_type": "code",
   "id": "ab479bb1",
   "metadata": {},
   "source": [
    "def start_session():\n",
    "    global last_update, session_start\n",
    "    \n",
    "    last_update = datetime.now(timezone.utc) # NEW \n",
    "    session_start = pd.to_datetime(last_update) # Updated (Python 3.12)\n",
    "    \n",
    "    initialize_stream()  \n",
    "    stop_session()\n",
    "\n",
    "def initialize_stream(): \n",
    "    global bars, last_bar\n",
    "    \n",
    "    bars = ib.reqHistoricalData(\n",
    "            contract,\n",
    "            endDateTime='',\n",
    "            durationStr='1 D',\n",
    "            barSizeSetting=freq,\n",
    "            whatToShow='MIDPOINT',\n",
    "            useRTH=True,\n",
    "            formatDate=2,\n",
    "            keepUpToDate=True)\n",
    "    last_bar = bars[-1].date\n",
    "    bars.updateEvent += onBarUpdate \n",
    "    \n",
    "def onBarUpdate(bars, hasNewBar):  \n",
    "    global df, last_bar, last_update\n",
    "    \n",
    "    last_update = datetime.now(timezone.utc) # NEW\n",
    "    \n",
    "    if bars[-1].date > last_bar: \n",
    "        last_bar = bars[-1].date\n",
    "    \n",
    "        # Data Processing\n",
    "        df = pd.DataFrame(bars)[[\"date\", \"open\", \"high\", \"low\", \"close\"]].iloc[:-1] \n",
    "        df.set_index(\"date\", inplace = True)\n",
    "        \n",
    "        ####################### Trading Strategy ###########################\n",
    "        df = df[[\"close\"]].copy()\n",
    "        df[\"returns\"] = np.log(df[\"close\"] / df[\"close\"].shift())\n",
    "        df[\"position\"] = -np.sign(df.returns.rolling(window).mean())\n",
    "        ####################################################################\n",
    "        \n",
    "        # Trading\n",
    "        target = df[\"position\"][-1] * units\n",
    "        execute_trade(target = target)\n",
    "        \n",
    "        # Display\n",
    "        clear_output(wait=True)\n",
    "        display(df)\n",
    "    else:\n",
    "        try:\n",
    "            trade_reporting()\n",
    "        except:\n",
    "            pass\n",
    "\n",
    "def execute_trade(target):\n",
    "    global current_pos\n",
    "    \n",
    "    # 1. get current Position\n",
    "    try:\n",
    "        current_pos = [pos.position for pos in ib.positions() if pos.contract.conId == conID][0]\n",
    "    except:\n",
    "        current_pos = 0\n",
    "         \n",
    "    # 2. identify required trades\n",
    "    trades = target - current_pos\n",
    "        \n",
    "    # 3. trade execution\n",
    "    if trades > 0:\n",
    "        side = \"BUY\"\n",
    "        order = MarketOrder(side, abs(trades))\n",
    "        trade = ib.placeOrder(cfd, order)  \n",
    "    elif trades < 0:\n",
    "        side = \"SELL\"\n",
    "        order = MarketOrder(side, abs(trades))\n",
    "        trade = ib.placeOrder(cfd, order)\n",
    "    else:\n",
    "        pass\n",
    "\n",
    "def trade_reporting():\n",
    "    global report\n",
    "    \n",
    "    fill_df = util.df([fs.execution for fs in ib.fills()])[[\"execId\", \"time\", \"side\", \"cumQty\", \"avgPrice\"]].set_index(\"execId\")\n",
    "    profit_df = util.df([fs.commissionReport for fs in ib.fills()])[[\"execId\", \"realizedPNL\"]].set_index(\"execId\")\n",
    "    report = pd.concat([fill_df, profit_df], axis = 1).set_index(\"time\").loc[session_start:]\n",
    "    report = report.groupby(\"time\").agg({\"side\":\"first\", \"cumQty\":\"max\", \"avgPrice\":\"mean\", \"realizedPNL\":\"sum\"})\n",
    "    report[\"cumPNL\"] = report.realizedPNL.cumsum()\n",
    "        \n",
    "    clear_output(wait=True)\n",
    "    display(df, report)\n",
    "\n",
    "def stop_session():\n",
    "    while True:\n",
    "        ib.sleep(5) \n",
    "        if datetime.now(timezone.utc).time() >= end_time:\n",
    "            execute_trade(target = 0) \n",
    "            ib.cancelHistoricalData(bars) \n",
    "            ib.sleep(10)\n",
    "            try:\n",
    "                trade_reporting() \n",
    "            except:\n",
    "                pass\n",
    "            print(\"Session Stopped (planned).\")\n",
    "            ib.disconnect()\n",
    "            break\n",
    "        elif datetime.now(timezone.utc) - last_update > dt.timedelta(seconds=120):\n",
    "                # if there was no streaming response in the last 120 seconds\n",
    "                ib.cancelHistoricalData(bars)\n",
    "                ib.sleep(5)\n",
    "                try: # try to reestablish stream\n",
    "                    initialize_stream() # one retry\n",
    "                except: # stop session\n",
    "                    ib.sleep(5)\n",
    "                    try:\n",
    "                        execute_trade(target = 0) # close open position\n",
    "                    except:\n",
    "                        pass\n",
    "                    ib.sleep(10)\n",
    "                    try:\n",
    "                        trade_reporting() # final reporting\n",
    "                    except:\n",
    "                        pass\n",
    "                    print(\"Session Stopped - No Connection.\")\n",
    "                    ib.disconnect()\n",
    "                    break\n",
    "        else:\n",
    "            pass"
   ],
   "outputs": [],
   "execution_count": null
  },
  {
   "cell_type": "code",
   "id": "30f7d2da",
   "metadata": {},
   "source": [
    "ib = IB()\n",
    "ib.connect()"
   ],
   "outputs": [],
   "execution_count": null
  },
  {
   "cell_type": "code",
   "id": "a5d4b888",
   "metadata": {},
   "source": [
    "# strategy parameters\n",
    "freq = \"1 min\"\n",
    "window = 1\n",
    "units = 1000\n",
    "end_time = (datetime.now(timezone.utc) + dt.timedelta(seconds = 330)).time() # stop condition (5.5 mins from now)\n",
    "contract = Forex('EURUSD') \n",
    "ib.qualifyContracts(contract)\n",
    "cfd = CFD(\"EUR\", currency = \"USD\")\n",
    "ib.qualifyContracts(cfd)\n",
    "conID = cfd.conId"
   ],
   "outputs": [],
   "execution_count": null
  },
  {
   "cell_type": "code",
   "id": "d0aaa99c",
   "metadata": {},
   "source": [
    "start_session()"
   ],
   "outputs": [],
   "execution_count": null
  },
  {
   "cell_type": "code",
   "id": "f8f956cf",
   "metadata": {},
   "source": [],
   "outputs": [],
   "execution_count": null
  }
 ],
 "metadata": {
  "kernelspec": {
   "display_name": "Python 3 (ipykernel)",
   "language": "python",
   "name": "python3"
  },
  "language_info": {
   "codemirror_mode": {
    "name": "ipython",
    "version": 3
   },
   "file_extension": ".py",
   "mimetype": "text/x-python",
   "name": "python",
   "nbconvert_exporter": "python",
   "pygments_lexer": "ipython3",
   "version": "3.12.0"
  }
 },
 "nbformat": 4,
 "nbformat_minor": 5
}
