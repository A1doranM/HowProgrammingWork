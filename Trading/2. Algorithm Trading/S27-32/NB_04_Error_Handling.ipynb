{
 "cells": [
  {
   "cell_type": "markdown",
   "id": "424cf273",
   "metadata": {},
   "source": [
    "# Error Handling"
   ]
  },
  {
   "cell_type": "markdown",
   "id": "e7a63f2e",
   "metadata": {},
   "source": [
    "## Python Errors (Exceptions)"
   ]
  },
  {
   "cell_type": "code",
   "execution_count": null,
   "id": "3f1b80c3",
   "metadata": {},
   "outputs": [],
   "source": [
    "my_list = [1, 2, 3, \"Four\", 5, 6, 7]"
   ]
  },
  {
   "cell_type": "code",
   "execution_count": null,
   "id": "9617f8fa",
   "metadata": {},
   "outputs": [],
   "source": [
    "for element in my_list:\n",
    "    result = 10 + element\n",
    "    print(result)"
   ]
  },
  {
   "cell_type": "code",
   "execution_count": null,
   "id": "79c036b5",
   "metadata": {},
   "outputs": [],
   "source": []
  },
  {
   "cell_type": "markdown",
   "id": "d19b558f",
   "metadata": {},
   "source": [
    "## Try and except"
   ]
  },
  {
   "cell_type": "code",
   "execution_count": null,
   "id": "1af39726",
   "metadata": {},
   "outputs": [],
   "source": [
    "my_list = [1, 2, 3, \"Four\", 5, 6, 7]"
   ]
  },
  {
   "cell_type": "code",
   "execution_count": null,
   "id": "a7e10468",
   "metadata": {},
   "outputs": [],
   "source": [
    "for element in my_list:\n",
    "    try:\n",
    "        result = 10 + element\n",
    "        print(result)\n",
    "    except:\n",
    "        print(\"{} is not a number.\".format(element))"
   ]
  },
  {
   "cell_type": "code",
   "execution_count": null,
   "id": "3b44fe52",
   "metadata": {},
   "outputs": [],
   "source": []
  },
  {
   "cell_type": "markdown",
   "id": "719f2d4c",
   "metadata": {},
   "source": [
    "## Catching specific Errors"
   ]
  },
  {
   "cell_type": "code",
   "execution_count": null,
   "id": "c6910ca5",
   "metadata": {},
   "outputs": [],
   "source": [
    "my_list = [1, 2, 3, \"Four\", 5, 6, 7]"
   ]
  },
  {
   "cell_type": "code",
   "execution_count": null,
   "id": "f0d4abd1",
   "metadata": {},
   "outputs": [],
   "source": [
    "for element in my_list:\n",
    "    try:\n",
    "        result = 10 + element\n",
    "        print(result)\n",
    "    except TypeError: # only TypeErrors are handled\n",
    "        print(\"{} is not a number.\".format(element))"
   ]
  },
  {
   "cell_type": "code",
   "execution_count": null,
   "id": "aecda634",
   "metadata": {},
   "outputs": [],
   "source": [
    "for element in my_list:\n",
    "    try:\n",
    "        result = 10 + element\n",
    "        print(result)\n",
    "    except ValueError: # only ValueErrors are handled\n",
    "        print(\"{} is not a number.\".format(element))"
   ]
  },
  {
   "cell_type": "code",
   "execution_count": null,
   "id": "f37f82eb",
   "metadata": {},
   "outputs": [],
   "source": []
  },
  {
   "cell_type": "markdown",
   "id": "d23af592",
   "metadata": {},
   "source": [
    "## The Exception class"
   ]
  },
  {
   "cell_type": "code",
   "execution_count": null,
   "id": "9780161b",
   "metadata": {},
   "outputs": [],
   "source": [
    "my_list = [1, 2, 3, \"Four\", 5, 6, 7]"
   ]
  },
  {
   "cell_type": "code",
   "execution_count": null,
   "id": "c945d953",
   "metadata": {},
   "outputs": [],
   "source": [
    "for element in my_list:\n",
    "    try:\n",
    "        result = 10 + element\n",
    "        print(result)\n",
    "    except Exception as e:\n",
    "        print(\"{} is not a number\".format(element), end = \" | \")\n",
    "        print(e)"
   ]
  },
  {
   "cell_type": "code",
   "execution_count": null,
   "id": "03702b3e",
   "metadata": {},
   "outputs": [],
   "source": []
  },
  {
   "cell_type": "markdown",
   "id": "6be25285",
   "metadata": {},
   "source": [
    "## try, except, else"
   ]
  },
  {
   "cell_type": "code",
   "execution_count": null,
   "id": "427d233e",
   "metadata": {},
   "outputs": [],
   "source": [
    "my_list = [1, 2, 3, \"Four\", 5, 6, 7]"
   ]
  },
  {
   "cell_type": "code",
   "execution_count": null,
   "id": "d5b13c13",
   "metadata": {},
   "outputs": [],
   "source": [
    "for element in my_list:\n",
    "    try:\n",
    "        result = 10 + element\n",
    "    except Exception as e:\n",
    "        print(\"{} is not a number\".format(element),  end = \" | \")\n",
    "        print(e)\n",
    "    else: # only if no error occured\n",
    "        print(result, end = \" | \")\n",
    "        print(\"{} is a valid input\".format(element))"
   ]
  },
  {
   "cell_type": "code",
   "execution_count": null,
   "id": "eca939c3",
   "metadata": {},
   "outputs": [],
   "source": [
    "# isn´t this identical? no!\n",
    "for element in my_list:\n",
    "    try:\n",
    "        result = 10 + element\n",
    "        print(result, end = \" | \") # catches unexpected errors in this line as well\n",
    "        print(\"{} is a valid input\".format(element)) # catches unexpected errors in this line as well\n",
    "    except Exception as e:\n",
    "        print(\"{} is not a number\".format(element),  end = \" | \")\n",
    "        print(e)"
   ]
  },
  {
   "cell_type": "code",
   "execution_count": null,
   "id": "105279c8",
   "metadata": {},
   "outputs": [],
   "source": []
  },
  {
   "cell_type": "markdown",
   "id": "4715313a",
   "metadata": {},
   "source": [
    "## finally"
   ]
  },
  {
   "cell_type": "code",
   "execution_count": null,
   "id": "a524726c",
   "metadata": {},
   "outputs": [],
   "source": [
    "my_list = [1, 2, 3, \"Four\", 5, 6, 7]"
   ]
  },
  {
   "cell_type": "code",
   "execution_count": null,
   "id": "4b02248c",
   "metadata": {},
   "outputs": [],
   "source": [
    "for element in my_list:\n",
    "    try:\n",
    "        result = 10 + element\n",
    "    except Exception as e:\n",
    "        print(\"{} is not a number.\".format(element), end = \" | \")\n",
    "        print(e, end = \" | \")\n",
    "    else: # only if no error occured\n",
    "        print(result, end = \" | \")\n",
    "        print(\"{} is a valid input\".format(element), end = \" | \")\n",
    "    finally: # in any case\n",
    "        print(\"Valid or not valid, it doesn´t matter!\")"
   ]
  },
  {
   "cell_type": "code",
   "execution_count": null,
   "id": "022a14f0",
   "metadata": {},
   "outputs": [],
   "source": []
  },
  {
   "cell_type": "markdown",
   "id": "ad8d7679",
   "metadata": {},
   "source": [
    "## Try again (...until it works)"
   ]
  },
  {
   "cell_type": "code",
   "execution_count": null,
   "id": "809eb5f9",
   "metadata": {},
   "outputs": [],
   "source": [
    "import numpy as np"
   ]
  },
  {
   "cell_type": "code",
   "execution_count": null,
   "id": "43005eb2",
   "metadata": {},
   "outputs": [],
   "source": [
    "# process with random outcome (0: No Success, 1: Success)\n",
    "np.random.randint(0, 2)"
   ]
  },
  {
   "cell_type": "code",
   "execution_count": null,
   "id": "c7ed58fc",
   "metadata": {},
   "outputs": [],
   "source": [
    "1 / 0 # if 0: Error"
   ]
  },
  {
   "cell_type": "code",
   "execution_count": null,
   "id": "37ca8c81",
   "metadata": {},
   "outputs": [],
   "source": [
    "result = 1 / np.random.randint(0, 2)\n",
    "print(result)"
   ]
  },
  {
   "cell_type": "markdown",
   "id": "eee8b922",
   "metadata": {},
   "source": [
    "Goal: Re-try until it works (success)"
   ]
  },
  {
   "cell_type": "code",
   "execution_count": null,
   "id": "d20ad6b3",
   "metadata": {},
   "outputs": [],
   "source": [
    "attempt = 0\n",
    "while True:\n",
    "    try:\n",
    "        result = 1 / np.random.randint(0, 2)\n",
    "    except Exception as e:\n",
    "        print(e, end = \" | \")\n",
    "    else: \n",
    "        print(result, end = \" | \")\n",
    "        break # stop when it worked\n",
    "    finally:\n",
    "        attempt += 1\n",
    "        print(\"Attempt: {}\".format(attempt))"
   ]
  },
  {
   "cell_type": "code",
   "execution_count": null,
   "id": "5658129a",
   "metadata": {},
   "outputs": [],
   "source": []
  },
  {
   "cell_type": "markdown",
   "id": "f7b1fbf7",
   "metadata": {},
   "source": [
    "## Limited number of retries"
   ]
  },
  {
   "cell_type": "markdown",
   "id": "f8bb129a",
   "metadata": {},
   "source": [
    "__Stop after [3] unsuccessful attempts.__"
   ]
  },
  {
   "cell_type": "code",
   "execution_count": null,
   "id": "86dd5ff6",
   "metadata": {},
   "outputs": [],
   "source": [
    "import numpy as np"
   ]
  },
  {
   "cell_type": "code",
   "execution_count": null,
   "id": "0e614868",
   "metadata": {},
   "outputs": [],
   "source": [
    "max_attempts = 3"
   ]
  },
  {
   "cell_type": "code",
   "execution_count": null,
   "id": "c3cccab0",
   "metadata": {},
   "outputs": [],
   "source": [
    "attempt = 0\n",
    "success = False\n",
    "while True:\n",
    "    try:\n",
    "        result = 1 / np.random.randint(0, 2)\n",
    "    except Exception as e:\n",
    "        print(e, end = \" | \")\n",
    "    else: \n",
    "        print(result, end = \" | \")\n",
    "        success = True\n",
    "        break\n",
    "    finally:\n",
    "        attempt += 1\n",
    "        print(\"Attempt: {}\".format(attempt))\n",
    "        if success == False:\n",
    "            if attempt >= max_attempts: # if max_attempts is reached\n",
    "                print(\"Programm stopped: max_attempts reached!\")\n",
    "                break"
   ]
  },
  {
   "cell_type": "code",
   "execution_count": null,
   "id": "b04ed5ae",
   "metadata": {},
   "outputs": [],
   "source": []
  },
  {
   "cell_type": "markdown",
   "id": "65111a99",
   "metadata": {},
   "source": [
    "## Waiting periods between re-tries"
   ]
  },
  {
   "cell_type": "code",
   "execution_count": null,
   "id": "b646b376",
   "metadata": {},
   "outputs": [],
   "source": [
    "import numpy as np\n",
    "import time"
   ]
  },
  {
   "cell_type": "code",
   "execution_count": null,
   "id": "e617bb96",
   "metadata": {},
   "outputs": [],
   "source": [
    "attempt = 0\n",
    "max_attempts = 4\n",
    "success = False\n",
    "wait = 1 # initial waiting period: 1 second\n",
    "wait_increase = 5 # waiting period increase in seconds\n",
    "\n",
    "while True:\n",
    "    try:\n",
    "        result = 1 / np.random.randint(0, 2)\n",
    "    except Exception as e:\n",
    "        print(e, end = \" | \")\n",
    "    else: \n",
    "        print(result, end = \" | \")\n",
    "        success = True\n",
    "        break\n",
    "    finally:\n",
    "        attempt += 1\n",
    "        print(\"Attempt: {}\".format(attempt))\n",
    "        if success == False:\n",
    "            if attempt >= max_attempts: # if max_attempts is reached\n",
    "                print(\"Programm stopped: max_attempts reached!\")\n",
    "                break\n",
    "            else: # if we haven´t reached max_attempts, wait before we start the next try\n",
    "                time.sleep(wait)\n",
    "                wait += wait_increase # increase waiting time"
   ]
  },
  {
   "cell_type": "code",
   "execution_count": null,
   "id": "7ef90b37",
   "metadata": {},
   "outputs": [],
   "source": []
  },
  {
   "cell_type": "markdown",
   "id": "0b204b31",
   "metadata": {},
   "source": [
    "## Error Handling Application: Trading with Oanda"
   ]
  },
  {
   "cell_type": "markdown",
   "id": "f576ad5a",
   "metadata": {},
   "source": [
    "_Disclaimer: <br>\n",
    "The following illustrative examples are for general information and educational purposes only. <br>\n",
    "It is neither investment advice nor a recommendation to trade, invest or take whatsoever actions.<br>\n",
    "The below code should only be used in combination with an OANDA Practice/Demo Account and NOT with a Live Trading Account._"
   ]
  },
  {
   "cell_type": "markdown",
   "id": "fc36d109",
   "metadata": {},
   "source": [
    "### Added: Wrapper methods to start and terminate Trading Sessions"
   ]
  },
  {
   "cell_type": "code",
   "execution_count": null,
   "id": "dd0a6efd",
   "metadata": {},
   "outputs": [],
   "source": [
    "import pandas as pd\n",
    "import numpy as np\n",
    "import tpqoa\n",
    "from datetime import datetime, timezone, timedelta # timezone added\n",
    "import time\n",
    "import warnings\n",
    "warnings.filterwarnings('ignore')"
   ]
  },
  {
   "cell_type": "code",
   "execution_count": null,
   "id": "b32d4e43",
   "metadata": {},
   "outputs": [],
   "source": [
    "#Execution code to be replaced/wrapped:\n",
    "\n",
    "\n",
    "#### start #####\n",
    "trader.get_most_recent(days = 5)\n",
    "trader.stream_data(trader.instrument, stop = 100) # stop defined here\n",
    "\n",
    "#### end ####\n",
    "if trader.position != 0: # if we have a final open position\n",
    "    close_order = trader.create_order(trader.instrument, units = -trader.position * trader.units, \n",
    "                                      suppress = True, ret = True) \n",
    "    trader.report_trade(close_order, \"GOING NEUTRAL\")\n",
    "    trader.position = 0"
   ]
  },
  {
   "cell_type": "code",
   "execution_count": null,
   "id": "a463a5a2",
   "metadata": {},
   "outputs": [],
   "source": [
    "class ConTrader(tpqoa.tpqoa):\n",
    "    def __init__(self, conf_file, instrument, bar_length, window, units):\n",
    "        super().__init__(conf_file)\n",
    "        self.instrument = instrument\n",
    "        self.bar_length = pd.to_timedelta(bar_length)\n",
    "        self.tick_data = pd.DataFrame()\n",
    "        self.raw_data = None\n",
    "        self.data = None \n",
    "        self.last_bar = None\n",
    "        self.units = units\n",
    "        self.position = 0\n",
    "        self.profits = [] \n",
    "        \n",
    "        #*****************add strategy-specific attributes here******************\n",
    "        self.window = window\n",
    "        #************************************************************************\n",
    "    \n",
    "    def get_most_recent(self, days = 5):\n",
    "        while True:\n",
    "            time.sleep(2)\n",
    "            now = datetime.now(timezone.utc).replace(tzinfo=None) # new (Python 3.12)\n",
    "            now = now - timedelta(microseconds = now.microsecond)\n",
    "            past = now - timedelta(days = days)\n",
    "            df = self.get_history(instrument = self.instrument, start = past, end = now,\n",
    "                                   granularity = \"S5\", price = \"M\", localize = False).c.dropna().to_frame()\n",
    "            df.rename(columns = {\"c\":self.instrument}, inplace = True)\n",
    "            df = df.resample(self.bar_length, label = \"right\").last().dropna().iloc[:-1]\n",
    "            self.raw_data = df.copy()\n",
    "            self.last_bar = self.raw_data.index[-1]\n",
    "            if pd.to_datetime(datetime.now(timezone.utc)) - self.last_bar < self.bar_length: # new (Python 3.12)\n",
    "                break\n",
    "            \n",
    "    def start_trading(self, days): # NEW\n",
    "        \n",
    "        self.get_most_recent(days)\n",
    "        self.stream_data(self.instrument)\n",
    "            \n",
    "    def on_success(self, time, bid, ask):\n",
    "        print(self.ticks, end = \"\\r\", flush = True)\n",
    "        \n",
    "        recent_tick = pd.to_datetime(time)\n",
    "        \n",
    "        # define stop\n",
    "        if self.ticks >= 100:\n",
    "            self.terminate_session(cause = \"Scheduled Session End.\")\n",
    "            return\n",
    "        \n",
    "        # collect and store tick data\n",
    "        df = pd.DataFrame({self.instrument:(ask + bid)/2}, \n",
    "                          index = [recent_tick])\n",
    "        self.tick_data = pd.concat([self.tick_data, df]) \n",
    "        \n",
    "        # if a time longer than the bar_lenght has elapsed between last full bar and the most recent tick\n",
    "        if recent_tick - self.last_bar >= self.bar_length:\n",
    "            self.resample_and_join()\n",
    "            self.define_strategy()\n",
    "            self.execute_trades()\n",
    "            \n",
    "    def resample_and_join(self):\n",
    "        self.raw_data = pd.concat([self.raw_data, self.tick_data.resample(self.bar_length, \n",
    "                                                                          label=\"right\").last().ffill().iloc[:-1]])\n",
    "        self.tick_data = self.tick_data.iloc[-1:]\n",
    "        self.last_bar = self.raw_data.index[-1]\n",
    "        \n",
    "    def define_strategy(self): # \"strategy-specific\"\n",
    "        df = self.raw_data.copy()\n",
    "        \n",
    "        #******************** define your strategy here ************************\n",
    "        df[\"returns\"] = np.log(df[self.instrument] / df[self.instrument].shift())\n",
    "        df[\"position\"] = -np.sign(df.returns.rolling(self.window).mean())\n",
    "        #***********************************************************************\n",
    "        \n",
    "        self.data = df.copy()\n",
    "        \n",
    "    def execute_trades(self):\n",
    "        if self.data[\"position\"].iloc[-1] == 1:\n",
    "            if self.position == 0:\n",
    "                order = self.create_order(self.instrument, self.units, suppress = True, ret = True)\n",
    "                self.report_trade(order, \"GOING LONG\")  \n",
    "            elif self.position == -1:\n",
    "                order = self.create_order(self.instrument, self.units * 2, suppress = True, ret = True) \n",
    "                self.report_trade(order, \"GOING LONG\")  \n",
    "            self.position = 1\n",
    "        elif self.data[\"position\"].iloc[-1] == -1: \n",
    "            if self.position == 0:\n",
    "                order = self.create_order(self.instrument, -self.units, suppress = True, ret = True)\n",
    "                self.report_trade(order, \"GOING SHORT\")  \n",
    "            elif self.position == 1:\n",
    "                order = self.create_order(self.instrument, -self.units * 2, suppress = True, ret = True)\n",
    "                self.report_trade(order, \"GOING SHORT\")  \n",
    "            self.position = -1\n",
    "        elif self.data[\"position\"].iloc[-1] == 0: \n",
    "            if self.position == -1:\n",
    "                order = self.create_order(self.instrument, self.units, suppress = True, ret = True) \n",
    "                self.report_trade(order, \"GOING NEUTRAL\")  \n",
    "            elif self.position == 1:\n",
    "                order = self.create_order(self.instrument, -self.units, suppress = True, ret = True)\n",
    "                self.report_trade(order, \"GOING NEUTRAL\")  \n",
    "            self.position = 0\n",
    "    \n",
    "    def report_trade(self, order, going):  \n",
    "        time = order[\"time\"]\n",
    "        units = order[\"units\"]\n",
    "        price = order[\"price\"]\n",
    "        pl = float(order[\"pl\"])\n",
    "        self.profits.append(pl)\n",
    "        cumpl = sum(self.profits)\n",
    "        print(\"\\n\" + 100* \"-\")\n",
    "        print(\"{} | {}\".format(time, going))\n",
    "        print(\"{} | units = {} | price = {} | P&L = {} | Cum P&L = {}\".format(time, units, price, pl, cumpl))\n",
    "        print(100 * \"-\" + \"\\n\")  \n",
    "        \n",
    "    def terminate_session(self, cause): # NEW\n",
    "        self.stop_stream = True\n",
    "        if self.position != 0:\n",
    "            close_order = self.create_order(self.instrument, units = -self.position * self.units,\n",
    "                                            suppress = True, ret = True) \n",
    "            self.report_trade(close_order, \"GOING NEUTRAL\")\n",
    "            self.position = 0\n",
    "        print(cause)"
   ]
  },
  {
   "cell_type": "code",
   "execution_count": null,
   "id": "c506cc07",
   "metadata": {},
   "outputs": [],
   "source": [
    "trader = ConTrader(\"oanda.cfg\", \"EUR_USD\", \"1min\", window = 1, units = 100)"
   ]
  },
  {
   "cell_type": "code",
   "execution_count": null,
   "id": "bd4ab791",
   "metadata": {},
   "outputs": [],
   "source": [
    "trader.start_trading(days = 5)"
   ]
  },
  {
   "cell_type": "code",
   "execution_count": null,
   "id": "b836d8be",
   "metadata": {},
   "outputs": [],
   "source": []
  },
  {
   "cell_type": "markdown",
   "id": "5f591405",
   "metadata": {},
   "source": [
    "### Error Handling: Connectivity Problems Oanda V20 API"
   ]
  },
  {
   "cell_type": "code",
   "execution_count": null,
   "id": "0611c468",
   "metadata": {},
   "outputs": [],
   "source": [
    "import pandas as pd\n",
    "import numpy as np\n",
    "import tpqoa\n",
    "from datetime import datetime, timezone, timedelta # timezone added\n",
    "import time\n",
    "import warnings\n",
    "warnings.filterwarnings('ignore')"
   ]
  },
  {
   "cell_type": "code",
   "execution_count": null,
   "id": "88440d09",
   "metadata": {},
   "outputs": [],
   "source": [
    "class ConTrader(tpqoa.tpqoa):\n",
    "    def __init__(self, conf_file, instrument, bar_length, window, units):\n",
    "        super().__init__(conf_file)\n",
    "        self.instrument = instrument\n",
    "        self.bar_length = pd.to_timedelta(bar_length)\n",
    "        self.tick_data = pd.DataFrame()\n",
    "        self.raw_data = None\n",
    "        self.data = None \n",
    "        self.last_bar = None\n",
    "        self.units = units\n",
    "        self.position = 0\n",
    "        self.profits = [] \n",
    "        \n",
    "        #*****************add strategy-specific attributes here******************\n",
    "        self.window = window\n",
    "        #************************************************************************\n",
    "    \n",
    "    def get_most_recent(self, days = 5):\n",
    "        while True:\n",
    "            time.sleep(2)\n",
    "            now = datetime.now(timezone.utc).replace(tzinfo=None) # new (Python 3.12)\n",
    "            now = now - timedelta(microseconds = now.microsecond)\n",
    "            past = now - timedelta(days = days)\n",
    "            df = self.get_history(instrument = self.instrument, start = past, end = now,\n",
    "                                   granularity = \"S5\", price = \"M\", localize = False).c.dropna().to_frame()\n",
    "            df.rename(columns = {\"c\":self.instrument}, inplace = True)\n",
    "            df = df.resample(self.bar_length, label = \"right\").last().dropna().iloc[:-1]\n",
    "            self.raw_data = df.copy()\n",
    "            self.last_bar = self.raw_data.index[-1]\n",
    "            if pd.to_datetime(datetime.now(timezone.utc)) - self.last_bar < self.bar_length:\n",
    "                break\n",
    "            \n",
    "    def start_trading(self, days, max_attempts = 5, wait = 20, wait_increase = 0): # Error Handling\n",
    "        attempt = 0\n",
    "        success = False\n",
    "        while True:\n",
    "            try:\n",
    "                self.get_most_recent(days)\n",
    "                self.stream_data(self.instrument)\n",
    "            except Exception as e:\n",
    "                print(e, end = \" | \")\n",
    "            else:\n",
    "                success = True\n",
    "                break    \n",
    "            finally:\n",
    "                attempt +=1\n",
    "                print(\"Attempt: {}\".format(attempt), end = '\\n')\n",
    "                if success == False:\n",
    "                    if attempt >= max_attempts:\n",
    "                        print(\"max_attempts reached!\")\n",
    "                        try: # try to terminate session\n",
    "                            time.sleep(wait)\n",
    "                            self.terminate_session(cause = \"Unexpected Session Stop (too many errors).\")\n",
    "                        except Exception as e:\n",
    "                            print(e, end = \" | \")\n",
    "                            print(\"Could not terminate session properly!\")\n",
    "                        finally: \n",
    "                            break\n",
    "                    else: # try again\n",
    "                        time.sleep(wait)\n",
    "                        wait += wait_increase\n",
    "                        self.tick_data = pd.DataFrame()\n",
    "        \n",
    "    def on_success(self, time, bid, ask):\n",
    "        print(self.ticks, end = '\\r', flush = True)\n",
    "        \n",
    "        recent_tick = pd.to_datetime(time)\n",
    "        \n",
    "        # define stop\n",
    "        if self.ticks >= 100:\n",
    "            self.terminate_session(cause = \"Scheduled Session End.\")\n",
    "            return\n",
    "        \n",
    "        # collect and store tick data\n",
    "        df = pd.DataFrame({self.instrument:(ask + bid)/2}, \n",
    "                          index = [recent_tick])\n",
    "        self.tick_data = pd.concat([self.tick_data, df]) \n",
    "        \n",
    "        # if a time longer than the bar_lenght has elapsed between last full bar and the most recent tick\n",
    "        if recent_tick - self.last_bar >= self.bar_length:\n",
    "            self.resample_and_join()\n",
    "            self.define_strategy()\n",
    "            self.execute_trades()\n",
    "            \n",
    "    def resample_and_join(self):\n",
    "        self.raw_data = pd.concat([self.raw_data, self.tick_data.resample(self.bar_length, \n",
    "                                                                          label=\"right\").last().ffill().iloc[:-1]])\n",
    "        self.tick_data = self.tick_data.iloc[-1:]\n",
    "        self.last_bar = self.raw_data.index[-1]\n",
    "        \n",
    "    def define_strategy(self): # \"strategy-specific\"\n",
    "        df = self.raw_data.copy()\n",
    "        \n",
    "        #******************** define your strategy here ************************\n",
    "        df[\"returns\"] = np.log(df[self.instrument] / df[self.instrument].shift())\n",
    "        df[\"position\"] = -np.sign(df.returns.rolling(self.window).mean())\n",
    "        #***********************************************************************\n",
    "        \n",
    "        self.data = df.copy()\n",
    "        \n",
    "    def execute_trades(self):\n",
    "        if self.data[\"position\"].iloc[-1] == 1:\n",
    "            if self.position == 0:\n",
    "                order = self.create_order(self.instrument, self.units, suppress = True, ret = True)\n",
    "                self.report_trade(order, \"GOING LONG\")  \n",
    "            elif self.position == -1:\n",
    "                order = self.create_order(self.instrument, self.units * 2, suppress = True, ret = True) \n",
    "                self.report_trade(order, \"GOING LONG\")  \n",
    "            self.position = 1\n",
    "        elif self.data[\"position\"].iloc[-1] == -1: \n",
    "            if self.position == 0:\n",
    "                order = self.create_order(self.instrument, -self.units, suppress = True, ret = True)\n",
    "                self.report_trade(order, \"GOING SHORT\")  \n",
    "            elif self.position == 1:\n",
    "                order = self.create_order(self.instrument, -self.units * 2, suppress = True, ret = True)\n",
    "                self.report_trade(order, \"GOING SHORT\")  \n",
    "            self.position = -1\n",
    "        elif self.data[\"position\"].iloc[-1] == 0: \n",
    "            if self.position == -1:\n",
    "                order = self.create_order(self.instrument, self.units, suppress = True, ret = True) \n",
    "                self.report_trade(order, \"GOING NEUTRAL\")  \n",
    "            elif self.position == 1:\n",
    "                order = self.create_order(self.instrument, -self.units, suppress = True, ret = True)\n",
    "                self.report_trade(order, \"GOING NEUTRAL\")  \n",
    "            self.position = 0\n",
    "    \n",
    "    def report_trade(self, order, going):  \n",
    "        time = order[\"time\"]\n",
    "        units = order[\"units\"]\n",
    "        price = order[\"price\"]\n",
    "        pl = float(order[\"pl\"])\n",
    "        self.profits.append(pl)\n",
    "        cumpl = sum(self.profits)\n",
    "        print(\"\\n\" + 100* \"-\")\n",
    "        print(\"{} | {}\".format(time, going))\n",
    "        print(\"{} | units = {} | price = {} | P&L = {} | Cum P&L = {}\".format(time, units, price, pl, cumpl))\n",
    "        print(100 * \"-\" + \"\\n\")  \n",
    "        \n",
    "    def terminate_session(self, cause):\n",
    "        self.stop_stream = True\n",
    "        if self.position != 0:\n",
    "            close_order = self.create_order(self.instrument, units = -self.position * self.units,\n",
    "                                            suppress = True, ret = True) \n",
    "            self.report_trade(close_order, \"GOING NEUTRAL\")\n",
    "            self.position = 0\n",
    "        print(cause, end = \" | \")"
   ]
  },
  {
   "cell_type": "code",
   "execution_count": null,
   "id": "92d06ca8",
   "metadata": {},
   "outputs": [],
   "source": [
    "trader = ConTrader(\"oanda.cfg\", \"EUR_USD\", \"1min\", window = 1, units = 100)"
   ]
  },
  {
   "cell_type": "markdown",
   "id": "694c3601",
   "metadata": {},
   "source": [
    "__Example 1: One (short) Connectivity Issue__"
   ]
  },
  {
   "cell_type": "code",
   "execution_count": null,
   "id": "7c00cb7a",
   "metadata": {},
   "outputs": [],
   "source": [
    "trader.start_trading(days = 5, max_attempts =  3, wait = 20, wait_increase = 0)"
   ]
  },
  {
   "cell_type": "code",
   "execution_count": null,
   "id": "b6d914c1",
   "metadata": {},
   "outputs": [],
   "source": [
    "trader.data.tail(15)"
   ]
  },
  {
   "cell_type": "markdown",
   "id": "4393bfdc",
   "metadata": {},
   "source": [
    "__Example 2: Multiple (persistant) Errors (max Attempts reached) & no proper session end.__"
   ]
  },
  {
   "cell_type": "code",
   "execution_count": null,
   "id": "b40ca24d",
   "metadata": {},
   "outputs": [],
   "source": [
    "trader = ConTrader(\"oanda.cfg\", \"EUR_USD\", \"1min\", window = 1, units = 100)"
   ]
  },
  {
   "cell_type": "code",
   "execution_count": null,
   "id": "efcff6fa",
   "metadata": {},
   "outputs": [],
   "source": [
    "trader.start_trading(days = 5, max_attempts =  3, wait = 20, wait_increase = 0)"
   ]
  },
  {
   "cell_type": "code",
   "execution_count": null,
   "id": "c15c81b9",
   "metadata": {},
   "outputs": [],
   "source": []
  },
  {
   "cell_type": "markdown",
   "id": "a1c388ce",
   "metadata": {},
   "source": [
    "__Example 3: Multiple Errors (max Attempts reached) and proper session end.__"
   ]
  },
  {
   "cell_type": "code",
   "execution_count": null,
   "id": "86bfdeba",
   "metadata": {},
   "outputs": [],
   "source": [
    "trader = ConTrader(\"oanda.cfg\", \"EUR_USD\", \"1min\", window = 1, units = 100)"
   ]
  },
  {
   "cell_type": "code",
   "execution_count": null,
   "id": "8937ea2d",
   "metadata": {},
   "outputs": [],
   "source": [
    "trader.start_trading(days = 5, max_attempts =  3, wait = 20, wait_increase = 0)"
   ]
  },
  {
   "cell_type": "code",
   "execution_count": null,
   "id": "b2279a58",
   "metadata": {},
   "outputs": [],
   "source": []
  },
  {
   "cell_type": "markdown",
   "id": "c57f6288",
   "metadata": {},
   "source": [
    "## Error Handling Application: Trading with IBKR"
   ]
  },
  {
   "cell_type": "markdown",
   "id": "5cee5673",
   "metadata": {},
   "source": [
    "_Disclaimer: <br>\n",
    "The following illustrative examples are for general information and educational purposes only. <br>\n",
    "It is neither investment advice nor a recommendation to trade, invest or take whatsoever actions.<br>\n",
    "The below code should only be used in combination with an IBKR Practice/Demo Account and NOT with a Live Trading Account._"
   ]
  },
  {
   "cell_type": "markdown",
   "id": "0009dc65",
   "metadata": {},
   "source": [
    "__What can go wrong?__\n",
    "- API Calls (mostly handled with try/except)\n",
    "- Connectivity Issues: IBKR very realiable, connect. breaks do not stop the whole session (but the stream...) "
   ]
  },
  {
   "cell_type": "markdown",
   "id": "34e62bf6",
   "metadata": {},
   "source": [
    "### Recap: Contrader with start and stop wrapped into functions"
   ]
  },
  {
   "cell_type": "code",
   "execution_count": null,
   "id": "45f8c6b3",
   "metadata": {},
   "outputs": [],
   "source": [
    "from ib_async import * # now use ib_async \n",
    "import pandas as pd\n",
    "import numpy as np\n",
    "import datetime as dt\n",
    "from datetime import datetime, timezone # new\n",
    "from IPython.display import display, clear_output\n",
    "util.startLoop()"
   ]
  },
  {
   "cell_type": "code",
   "execution_count": null,
   "id": "2475bffd",
   "metadata": {},
   "outputs": [],
   "source": [
    "def start_session(): # NEW\n",
    "    global session_start\n",
    "    \n",
    "    session_start = pd.to_datetime(datetime.now(timezone.utc))# new (Python 3.12)\n",
    "    \n",
    "    initialize_stream() # NEW \n",
    "    stop_session() # NEW\n",
    "\n",
    "def initialize_stream(): # NEW\n",
    "    global bars, last_bar\n",
    "    \n",
    "    bars = ib.reqHistoricalData(\n",
    "            contract,\n",
    "            endDateTime='',\n",
    "            durationStr='1 D',\n",
    "            barSizeSetting=freq,\n",
    "            whatToShow='MIDPOINT',\n",
    "            useRTH=True,\n",
    "            formatDate=2,\n",
    "            keepUpToDate=True)\n",
    "    last_bar = bars[-1].date\n",
    "    bars.updateEvent += onBarUpdate \n",
    "\n",
    "def onBarUpdate(bars, hasNewBar):  \n",
    "    global df, last_bar\n",
    "    \n",
    "    if bars[-1].date > last_bar: \n",
    "        last_bar = bars[-1].date\n",
    "    \n",
    "        # Data Processing\n",
    "        df = pd.DataFrame(bars)[[\"date\", \"open\", \"high\", \"low\", \"close\"]].iloc[:-1] \n",
    "        df.set_index(\"date\", inplace = True)\n",
    "        \n",
    "        ####################### Trading Strategy ###########################\n",
    "        df = df[[\"close\"]].copy()\n",
    "        df[\"returns\"] = np.log(df[\"close\"] / df[\"close\"].shift())\n",
    "        df[\"position\"] = -np.sign(df.returns.rolling(window).mean())\n",
    "        ####################################################################\n",
    "        \n",
    "        # Trading\n",
    "        target = df[\"position\"][-1] * units\n",
    "        execute_trade(target = target)\n",
    "        \n",
    "        # Display\n",
    "        clear_output(wait=True)\n",
    "        display(df)\n",
    "    else:\n",
    "        try:\n",
    "            trade_reporting()\n",
    "        except:\n",
    "            pass\n",
    "\n",
    "def execute_trade(target):\n",
    "    global current_pos\n",
    "    \n",
    "    # 1. get current Position\n",
    "    try:\n",
    "        current_pos = [pos.position for pos in ib.positions() if pos.contract.conId == conID][0]\n",
    "    except:\n",
    "        current_pos = 0\n",
    "         \n",
    "    # 2. identify required trades\n",
    "    trades = target - current_pos\n",
    "        \n",
    "    # 3. trade execution\n",
    "    if trades > 0:\n",
    "        side = \"BUY\"\n",
    "        order = MarketOrder(side, abs(trades))\n",
    "        trade = ib.placeOrder(cfd, order)  \n",
    "    elif trades < 0:\n",
    "        side = \"SELL\"\n",
    "        order = MarketOrder(side, abs(trades))\n",
    "        trade = ib.placeOrder(cfd, order)\n",
    "    else:\n",
    "        pass\n",
    "\n",
    "def trade_reporting():\n",
    "    global report\n",
    "    \n",
    "    fill_df = util.df([fs.execution for fs in ib.fills()])[[\"execId\", \"time\", \"side\", \"cumQty\", \"avgPrice\"]].set_index(\"execId\")\n",
    "    profit_df = util.df([fs.commissionReport for fs in ib.fills()])[[\"execId\", \"realizedPNL\"]].set_index(\"execId\")\n",
    "    report = pd.concat([fill_df, profit_df], axis = 1).set_index(\"time\").loc[session_start:]\n",
    "    report = report.groupby(\"time\").agg({\"side\":\"first\", \"cumQty\":\"max\", \"avgPrice\":\"mean\", \"realizedPNL\":\"sum\"})\n",
    "    report[\"cumPNL\"] = report.realizedPNL.cumsum()\n",
    "        \n",
    "    clear_output(wait=True)\n",
    "    display(df, report)\n",
    "\n",
    "def stop_session(): # NEW\n",
    "    while True:\n",
    "        ib.sleep(5) # check every 5 seconds\n",
    "        if datetime.now(timezone.utc).time() >= end_time: # if stop conditions has been met\n",
    "            execute_trade(target = 0) # close open position \n",
    "            ib.cancelHistoricalData(bars) # stop stream\n",
    "            ib.sleep(10)\n",
    "            try:\n",
    "                trade_reporting() # final reporting\n",
    "            except:\n",
    "                pass\n",
    "            print(\"Session Stopped.\")\n",
    "            ib.disconnect()\n",
    "            break\n",
    "        else:\n",
    "            pass"
   ]
  },
  {
   "cell_type": "code",
   "execution_count": null,
   "id": "02ed522c",
   "metadata": {},
   "outputs": [],
   "source": [
    "ib = IB()\n",
    "ib.connect()"
   ]
  },
  {
   "cell_type": "code",
   "execution_count": null,
   "id": "714d293f",
   "metadata": {},
   "outputs": [],
   "source": [
    "# strategy parameters\n",
    "freq = \"1 min\"\n",
    "window = 1\n",
    "units = 1000\n",
    "end_time = (datetime.now(timezone.utc) + dt.timedelta(seconds = 330)).time() # stop condition (5.5 mins from now)\n",
    "print(end_time)\n",
    "contract = Forex('EURUSD') \n",
    "ib.qualifyContracts(contract)\n",
    "cfd = CFD(\"EUR\", currency = \"USD\")\n",
    "ib.qualifyContracts(cfd)\n",
    "conID = cfd.conId"
   ]
  },
  {
   "cell_type": "code",
   "execution_count": null,
   "id": "cf39ace2",
   "metadata": {},
   "outputs": [],
   "source": [
    "start_session()"
   ]
  },
  {
   "cell_type": "code",
   "execution_count": null,
   "id": "c2336911",
   "metadata": {},
   "outputs": [],
   "source": []
  },
  {
   "cell_type": "markdown",
   "id": "80cda605",
   "metadata": {},
   "source": [
    "## Error Handling: IBKR API Connectivity Issues"
   ]
  },
  {
   "cell_type": "code",
   "execution_count": null,
   "id": "c602d76a",
   "metadata": {},
   "outputs": [],
   "source": [
    "from ib_async import * \n",
    "import pandas as pd\n",
    "import numpy as np\n",
    "import datetime as dt\n",
    "from datetime import datetime, timezone # new\n",
    "from IPython.display import display, clear_output\n",
    "util.startLoop()"
   ]
  },
  {
   "cell_type": "code",
   "execution_count": null,
   "id": "ab479bb1",
   "metadata": {},
   "outputs": [],
   "source": [
    "def start_session():\n",
    "    global last_update, session_start\n",
    "    \n",
    "    last_update = datetime.now(timezone.utc) # NEW \n",
    "    session_start = pd.to_datetime(last_update) # Updated (Python 3.12)\n",
    "    \n",
    "    initialize_stream()  \n",
    "    stop_session()\n",
    "\n",
    "def initialize_stream(): \n",
    "    global bars, last_bar\n",
    "    \n",
    "    bars = ib.reqHistoricalData(\n",
    "            contract,\n",
    "            endDateTime='',\n",
    "            durationStr='1 D',\n",
    "            barSizeSetting=freq,\n",
    "            whatToShow='MIDPOINT',\n",
    "            useRTH=True,\n",
    "            formatDate=2,\n",
    "            keepUpToDate=True)\n",
    "    last_bar = bars[-1].date\n",
    "    bars.updateEvent += onBarUpdate \n",
    "    \n",
    "def onBarUpdate(bars, hasNewBar):  \n",
    "    global df, last_bar, last_update\n",
    "    \n",
    "    last_update = datetime.now(timezone.utc) # NEW\n",
    "    \n",
    "    if bars[-1].date > last_bar: \n",
    "        last_bar = bars[-1].date\n",
    "    \n",
    "        # Data Processing\n",
    "        df = pd.DataFrame(bars)[[\"date\", \"open\", \"high\", \"low\", \"close\"]].iloc[:-1] \n",
    "        df.set_index(\"date\", inplace = True)\n",
    "        \n",
    "        ####################### Trading Strategy ###########################\n",
    "        df = df[[\"close\"]].copy()\n",
    "        df[\"returns\"] = np.log(df[\"close\"] / df[\"close\"].shift())\n",
    "        df[\"position\"] = -np.sign(df.returns.rolling(window).mean())\n",
    "        ####################################################################\n",
    "        \n",
    "        # Trading\n",
    "        target = df[\"position\"][-1] * units\n",
    "        execute_trade(target = target)\n",
    "        \n",
    "        # Display\n",
    "        clear_output(wait=True)\n",
    "        display(df)\n",
    "    else:\n",
    "        try:\n",
    "            trade_reporting()\n",
    "        except:\n",
    "            pass\n",
    "\n",
    "def execute_trade(target):\n",
    "    global current_pos\n",
    "    \n",
    "    # 1. get current Position\n",
    "    try:\n",
    "        current_pos = [pos.position for pos in ib.positions() if pos.contract.conId == conID][0]\n",
    "    except:\n",
    "        current_pos = 0\n",
    "         \n",
    "    # 2. identify required trades\n",
    "    trades = target - current_pos\n",
    "        \n",
    "    # 3. trade execution\n",
    "    if trades > 0:\n",
    "        side = \"BUY\"\n",
    "        order = MarketOrder(side, abs(trades))\n",
    "        trade = ib.placeOrder(cfd, order)  \n",
    "    elif trades < 0:\n",
    "        side = \"SELL\"\n",
    "        order = MarketOrder(side, abs(trades))\n",
    "        trade = ib.placeOrder(cfd, order)\n",
    "    else:\n",
    "        pass\n",
    "\n",
    "def trade_reporting():\n",
    "    global report\n",
    "    \n",
    "    fill_df = util.df([fs.execution for fs in ib.fills()])[[\"execId\", \"time\", \"side\", \"cumQty\", \"avgPrice\"]].set_index(\"execId\")\n",
    "    profit_df = util.df([fs.commissionReport for fs in ib.fills()])[[\"execId\", \"realizedPNL\"]].set_index(\"execId\")\n",
    "    report = pd.concat([fill_df, profit_df], axis = 1).set_index(\"time\").loc[session_start:]\n",
    "    report = report.groupby(\"time\").agg({\"side\":\"first\", \"cumQty\":\"max\", \"avgPrice\":\"mean\", \"realizedPNL\":\"sum\"})\n",
    "    report[\"cumPNL\"] = report.realizedPNL.cumsum()\n",
    "        \n",
    "    clear_output(wait=True)\n",
    "    display(df, report)\n",
    "\n",
    "def stop_session():\n",
    "    while True:\n",
    "        ib.sleep(5) \n",
    "        if datetime.now(timezone.utc).time() >= end_time:\n",
    "            execute_trade(target = 0) \n",
    "            ib.cancelHistoricalData(bars) \n",
    "            ib.sleep(10)\n",
    "            try:\n",
    "                trade_reporting() \n",
    "            except:\n",
    "                pass\n",
    "            print(\"Session Stopped (planned).\")\n",
    "            ib.disconnect()\n",
    "            break\n",
    "        elif datetime.now(timezone.utc) - last_update > dt.timedelta(seconds=120):\n",
    "                # if there was no streaming response in the last 120 seconds\n",
    "                ib.cancelHistoricalData(bars)\n",
    "                ib.sleep(5)\n",
    "                try: # try to reestablish stream\n",
    "                    initialize_stream() # one retry\n",
    "                except: # stop session\n",
    "                    ib.sleep(5)\n",
    "                    try:\n",
    "                        execute_trade(target = 0) # close open position\n",
    "                    except:\n",
    "                        pass\n",
    "                    ib.sleep(10)\n",
    "                    try:\n",
    "                        trade_reporting() # final reporting\n",
    "                    except:\n",
    "                        pass\n",
    "                    print(\"Session Stopped - No Connection.\")\n",
    "                    ib.disconnect()\n",
    "                    break\n",
    "        else:\n",
    "            pass"
   ]
  },
  {
   "cell_type": "code",
   "execution_count": null,
   "id": "30f7d2da",
   "metadata": {},
   "outputs": [],
   "source": [
    "ib = IB()\n",
    "ib.connect()"
   ]
  },
  {
   "cell_type": "code",
   "execution_count": null,
   "id": "a5d4b888",
   "metadata": {},
   "outputs": [],
   "source": [
    "# strategy parameters\n",
    "freq = \"1 min\"\n",
    "window = 1\n",
    "units = 1000\n",
    "end_time = (datetime.now(timezone.utc) + dt.timedelta(seconds = 330)).time() # stop condition (5.5 mins from now)\n",
    "contract = Forex('EURUSD') \n",
    "ib.qualifyContracts(contract)\n",
    "cfd = CFD(\"EUR\", currency = \"USD\")\n",
    "ib.qualifyContracts(cfd)\n",
    "conID = cfd.conId"
   ]
  },
  {
   "cell_type": "code",
   "execution_count": null,
   "id": "d0aaa99c",
   "metadata": {},
   "outputs": [],
   "source": [
    "start_session()"
   ]
  },
  {
   "cell_type": "code",
   "execution_count": null,
   "id": "e79c5c58",
   "metadata": {},
   "outputs": [],
   "source": []
  },
  {
   "cell_type": "markdown",
   "id": "33952231",
   "metadata": {},
   "source": [
    "## Error Handling Application: Trading with FXCM"
   ]
  },
  {
   "cell_type": "markdown",
   "id": "7a9fefd2",
   "metadata": {},
   "source": [
    "### Added: Wrapper methods to start and terminate Trading Sessions"
   ]
  },
  {
   "cell_type": "code",
   "execution_count": null,
   "id": "1086712a",
   "metadata": {},
   "outputs": [],
   "source": [
    "import pandas as pd\n",
    "import numpy as np\n",
    "import fxcmpy\n",
    "import time\n",
    "from datetime import datetime"
   ]
  },
  {
   "cell_type": "code",
   "execution_count": null,
   "id": "32b50b11",
   "metadata": {},
   "outputs": [],
   "source": [
    "class ConTrader():\n",
    "    \n",
    "    def __init__(self, instrument, bar_length, window, units):\n",
    "        self.instrument = instrument\n",
    "        self.bar_length = pd.to_timedelta(bar_length) \n",
    "        self.tick_data = None\n",
    "        self.raw_data = None\n",
    "        self.data = None \n",
    "        self.ticks = 0\n",
    "        self.last_bar = None  \n",
    "        self.units = units\n",
    "        self.position = 0\n",
    "        \n",
    "        #*****************add strategy-specific attributes here******************\n",
    "        self.window = window\n",
    "        #************************************************************************        \n",
    "    \n",
    "    def get_most_recent(self, period = \"m1\", number = 10000):\n",
    "        while True:  \n",
    "            time.sleep(5)\n",
    "            df = self.api.get_candles(self.instrument, number = number, period = period, columns = [\"bidclose\", \"askclose\"])\n",
    "            df[self.instrument] = (df.bidclose + df.askclose) / 2\n",
    "            df = df[self.instrument].to_frame()\n",
    "            df = df.resample(self.bar_length, label = \"right\").last().dropna().iloc[:-1]\n",
    "            self.raw_data = df.copy()\n",
    "            self.last_bar = self.raw_data.index[-1]\n",
    "            if pd.to_datetime(datetime.utcnow()) - self.last_bar < self.bar_length:\n",
    "                break\n",
    "    \n",
    "    def start_trading(self, period = \"m1\", number = 10000): # NEW\n",
    "        \n",
    "        self.api = fxcmpy.fxcmpy(config_file= \"fxcm.cfg\")\n",
    "        self.get_most_recent(period = period, number = number)\n",
    "        self.api.subscribe_market_data(self.instrument, (self.get_tick_data, ))\n",
    "    \n",
    "    def get_tick_data(self, data, dataframe):\n",
    "        \n",
    "        self.ticks += 1\n",
    "        print(self.ticks, end = '\\r', flush = True)\n",
    "        \n",
    "        recent_tick = pd.to_datetime(data[\"Updated\"], unit = \"ms\")\n",
    "        \n",
    "        # define stop\n",
    "        if self.ticks >= 100:\n",
    "            self.terminate_session(cause = \"Scheduled Session End.\")\n",
    "            return\n",
    "        \n",
    "        # if a time longer than the bar_lenght has elapsed between last full bar and the most recent tick\n",
    "        if recent_tick - self.last_bar > self.bar_length:\n",
    "            self.tick_data = dataframe.loc[self.last_bar:, [\"Bid\", \"Ask\"]]\n",
    "            self.tick_data[self.instrument] = (self.tick_data.Ask + self.tick_data.Bid)/2\n",
    "            self.tick_data = self.tick_data[self.instrument].to_frame()\n",
    "            self.resample_and_join()\n",
    "            self.define_strategy() \n",
    "            self.execute_trades()\n",
    "            \n",
    "    def resample_and_join(self):\n",
    "        self.raw_data = self.raw_data.append(self.tick_data.resample(self.bar_length, \n",
    "                                                             label=\"right\").last().ffill().iloc[:-1])\n",
    "        self.last_bar = self.raw_data.index[-1]  \n",
    "        \n",
    "    def define_strategy(self): # \"strategy-specific\"\n",
    "        df = self.raw_data.copy()\n",
    "        \n",
    "        #******************** define your strategy here ************************\n",
    "        df[\"returns\"] = np.log(df[self.instrument] / df[self.instrument].shift())\n",
    "        df[\"position\"] = -np.sign(df.returns.rolling(self.window).mean())\n",
    "        #***********************************************************************\n",
    "        \n",
    "        self.data = df.copy()\n",
    "    \n",
    "    def execute_trades(self):\n",
    "        if self.data[\"position\"].iloc[-1] == 1:\n",
    "            if self.position == 0:\n",
    "                order = self.api.create_market_buy_order(self.instrument, self.units)\n",
    "                self.report_trade(order, \"GOING LONG\")  \n",
    "            elif self.position == -1:\n",
    "                order = self.api.create_market_buy_order(self.instrument, self.units * 2)\n",
    "                self.report_trade(order, \"GOING LONG\")  \n",
    "            self.position = 1\n",
    "        elif self.data[\"position\"].iloc[-1] == -1: \n",
    "            if self.position == 0:\n",
    "                order = self.api.create_market_sell_order(self.instrument, self.units)\n",
    "                self.report_trade(order, \"GOING SHORT\")  \n",
    "            elif self.position == 1:\n",
    "                order = self.api.create_market_sell_order(self.instrument, self.units * 2)\n",
    "                self.report_trade(order, \"GOING SHORT\")  \n",
    "            self.position = -1\n",
    "        elif self.data[\"position\"].iloc[-1] == 0: \n",
    "            if self.position == -1:\n",
    "                order = self.api.create_market_buy_order(self.instrument, self.units)\n",
    "                self.report_trade(order, \"GOING NEUTRAL\")  \n",
    "            elif self.position == 1:\n",
    "                order = self.api.create_market_sell_order(self.instrument, self.units)\n",
    "                self.report_trade(order, \"GOING NEUTRAL\")  \n",
    "            self.position = 0\n",
    "\n",
    "    def report_trade(self, order, going):  \n",
    "        time = order.get_time()\n",
    "        units = self.api.get_open_positions().amountK.iloc[-1]\n",
    "        price = self.api.get_open_positions().open.iloc[-1]\n",
    "        unreal_pl = self.api.get_open_positions().grossPL.sum()\n",
    "        print(\"\\n\" + 100* \"-\")\n",
    "        print(\"{} | {}\".format(time, going))\n",
    "        print(\"{} | units = {} | price = {} | Unreal. P&L = {}\".format(time, units, price, unreal_pl))\n",
    "        print(100 * \"-\" + \"\\n\")\n",
    "        \n",
    "    def terminate_session(self, cause): # NEW\n",
    "        self.api.unsubscribe_market_data(trader.instrument)\n",
    "        if len(self.api.get_open_positions()) != 0: # if we have final open position(s) (netting and hedging)\n",
    "            self.api.close_all_for_symbol(trader.instrument)\n",
    "            print(2*\"\\n\" + \"{} | GOING NEUTRAL\".format(str(datetime.utcnow())) + \"\\n\")\n",
    "            trader.position = 0\n",
    "            time.sleep(20)\n",
    "            print(self.api.get_closed_positions_summary()[[\"tradeId\", \"amountK\", \"currency\", \"grossPL\", \"isBuy\"]])\n",
    "        self.api.close()\n",
    "        print(cause, end = \" | \")\n",
    "        "
   ]
  },
  {
   "cell_type": "code",
   "execution_count": null,
   "id": "a50dbcdf",
   "metadata": {},
   "outputs": [],
   "source": [
    "trader = ConTrader(\"EUR/USD\", \"1min\", window = 1, units = 100)"
   ]
  },
  {
   "cell_type": "code",
   "execution_count": null,
   "id": "4aba0dc3",
   "metadata": {},
   "outputs": [],
   "source": [
    "trader.start_trading()"
   ]
  },
  {
   "cell_type": "code",
   "execution_count": null,
   "id": "22594f06",
   "metadata": {},
   "outputs": [],
   "source": []
  },
  {
   "cell_type": "markdown",
   "id": "f1b11868",
   "metadata": {},
   "source": [
    "### Error Handling: API Calls and Server Issues FXCM"
   ]
  },
  {
   "cell_type": "code",
   "execution_count": null,
   "id": "7f10fef3",
   "metadata": {},
   "outputs": [],
   "source": [
    "import pandas as pd\n",
    "import numpy as np\n",
    "import fxcmpy\n",
    "import time\n",
    "from datetime import datetime"
   ]
  },
  {
   "cell_type": "code",
   "execution_count": null,
   "id": "8b8773c5",
   "metadata": {},
   "outputs": [],
   "source": [
    "class ConTrader():\n",
    "    \n",
    "    def __init__(self, instrument, bar_length, window, units):\n",
    "        self.instrument = instrument\n",
    "        self.bar_length = pd.to_timedelta(bar_length) \n",
    "        self.tick_data = None\n",
    "        self.raw_data = None\n",
    "        self.data = None \n",
    "        self.ticks = 0\n",
    "        self.last_bar = None  \n",
    "        self.units = units\n",
    "        self.position = 0\n",
    "        \n",
    "        #*****************add strategy-specific attributes here******************\n",
    "        self.window = window\n",
    "        #************************************************************************        \n",
    "    \n",
    "    def get_most_recent(self, period = \"m1\", number = 10000):\n",
    "        while True:  \n",
    "            time.sleep(5)\n",
    "            df = self.api.get_candles(self.instrument, number = number, period = period, columns = [\"bidclose\", \"askclose\"])\n",
    "            df[self.instrument] = (df.bidclose + df.askclose) / 2\n",
    "            df = df[self.instrument].to_frame()\n",
    "            df = df.resample(self.bar_length, label = \"right\").last().dropna().iloc[:-1]\n",
    "            self.raw_data = df.copy()\n",
    "            self.last_bar = self.raw_data.index[-1]\n",
    "            if pd.to_datetime(datetime.utcnow()) - self.last_bar < self.bar_length:\n",
    "                break\n",
    "    \n",
    "    def start_trading(self, period = \"m1\", number = 10000, max_attempts = 5, wait = 20, wait_increase = 0): # NEW\n",
    "        attempt = 0\n",
    "        success = False\n",
    "        while True:\n",
    "            try:\n",
    "                self.api = fxcmpy.fxcmpy(config_file= \"fxcm.cfg\")\n",
    "                self.get_most_recent(period = period, number = number)\n",
    "            except Exception as e:\n",
    "                print(e, end = \" | \")\n",
    "            else:\n",
    "                success = True\n",
    "                break    \n",
    "            finally:\n",
    "                attempt +=1\n",
    "                print(\"Attempt: {}\".format(attempt), end = '\\n')\n",
    "                if success == False:\n",
    "                    if attempt >= max_attempts:\n",
    "                        print(\"max_attempts reached!\")\n",
    "                        print(\"Could not start Session.\")\n",
    "                        break\n",
    "                    else: # try again\n",
    "                        time.sleep(wait)\n",
    "                        wait += wait_increase\n",
    "        \n",
    "        if success == True:\n",
    "            self.api.subscribe_market_data(self.instrument, (self.get_tick_data, ))\n",
    "    \n",
    "    def get_tick_data(self, data, dataframe):\n",
    "        \n",
    "        self.ticks += 1\n",
    "        print(self.ticks, end = '\\r', flush = True)\n",
    "        \n",
    "        recent_tick = pd.to_datetime(data[\"Updated\"], unit = \"ms\")\n",
    "        \n",
    "        # define stop\n",
    "        if self.ticks >= 100:\n",
    "            self.terminate_session(cause = \"Scheduled Session End.\")\n",
    "            return\n",
    "        \n",
    "        # if a time longer than the bar_lenght has elapsed between last full bar and the most recent tick\n",
    "        if recent_tick - self.last_bar > self.bar_length:\n",
    "            self.tick_data = dataframe.loc[self.last_bar:, [\"Bid\", \"Ask\"]]\n",
    "            self.tick_data[self.instrument] = (self.tick_data.Ask + self.tick_data.Bid)/2\n",
    "            self.tick_data = self.tick_data[self.instrument].to_frame()\n",
    "            self.resample_and_join()\n",
    "            self.define_strategy() \n",
    "            self.execute_trades()\n",
    "            \n",
    "    def resample_and_join(self):\n",
    "        self.raw_data = self.raw_data.append(self.tick_data.resample(self.bar_length, \n",
    "                                                             label=\"right\").last().ffill().iloc[:-1])\n",
    "        self.last_bar = self.raw_data.index[-1]  \n",
    "        \n",
    "    def define_strategy(self): # \"strategy-specific\"\n",
    "        df = self.raw_data.copy()\n",
    "        \n",
    "        #******************** define your strategy here ************************\n",
    "        df[\"returns\"] = np.log(df[self.instrument] / df[self.instrument].shift())\n",
    "        df[\"position\"] = -np.sign(df.returns.rolling(self.window).mean())\n",
    "        #***********************************************************************\n",
    "        \n",
    "        self.data = df.copy()\n",
    "    \n",
    "    def execute_trades(self):\n",
    "        if self.data[\"position\"].iloc[-1] == 1:\n",
    "            if self.position == 0:\n",
    "                order = self.api.create_market_buy_order(self.instrument, self.units)\n",
    "                self.report_trade(order, \"GOING LONG\")  \n",
    "            elif self.position == -1:\n",
    "                order = self.api.create_market_buy_order(self.instrument, self.units * 2)\n",
    "                self.report_trade(order, \"GOING LONG\")  \n",
    "            self.position = 1\n",
    "        elif self.data[\"position\"].iloc[-1] == -1: \n",
    "            if self.position == 0:\n",
    "                order = self.api.create_market_sell_order(self.instrument, self.units)\n",
    "                self.report_trade(order, \"GOING SHORT\")  \n",
    "            elif self.position == 1:\n",
    "                order = self.api.create_market_sell_order(self.instrument, self.units * 2)\n",
    "                self.report_trade(order, \"GOING SHORT\")  \n",
    "            self.position = -1\n",
    "        elif self.data[\"position\"].iloc[-1] == 0: \n",
    "            if self.position == -1:\n",
    "                order = self.api.create_market_buy_order(self.instrument, self.units)\n",
    "                self.report_trade(order, \"GOING NEUTRAL\")  \n",
    "            elif self.position == 1:\n",
    "                order = self.api.create_market_sell_order(self.instrument, self.units)\n",
    "                self.report_trade(order, \"GOING NEUTRAL\")  \n",
    "            self.position = 0\n",
    "\n",
    "    def report_trade(self, order, going):  \n",
    "        try:\n",
    "            time = order.get_time()\n",
    "            open_position = self.api.get_open_positions()\n",
    "        except Exception as e:\n",
    "                print(e, end = \" | \")\n",
    "                print(\"Error in Trade Reporting.\")\n",
    "        else:\n",
    "            units = open_position.amountK.iloc[-1]\n",
    "            price = open_position.open.iloc[-1]\n",
    "            unreal_pl = open_position.grossPL.sum()\n",
    "        \n",
    "            print(\"\\n\" + 100* \"-\")\n",
    "            print(\"{} | {}\".format(time, going))\n",
    "            print(\"{} | units = {} | price = {} | Unreal. P&L = {}\".format(time, units, price, unreal_pl))\n",
    "            print(100 * \"-\" + \"\\n\")\n",
    "        \n",
    "    def terminate_session(self, cause): # NEW\n",
    "        self.api.unsubscribe_market_data(trader.instrument)\n",
    "        if len(self.api.get_open_positions()) != 0: # if we have final open position(s) (netting and hedging)\n",
    "            self.api.close_all_for_symbol(trader.instrument)\n",
    "            print(2*\"\\n\" + \"{} | GOING NEUTRAL\".format(str(datetime.utcnow())) + \"\\n\")\n",
    "            trader.position = 0\n",
    "            time.sleep(20)\n",
    "            print(self.api.get_closed_positions_summary()[[\"tradeId\", \"amountK\", \"currency\", \"grossPL\", \"isBuy\"]])\n",
    "        self.api.close()\n",
    "        print(cause, end = \" | \")     "
   ]
  },
  {
   "cell_type": "code",
   "execution_count": null,
   "id": "85841e16",
   "metadata": {},
   "outputs": [],
   "source": [
    "trader = ConTrader(\"EUR/USD\", \"1min\", window = 1, units = 100)"
   ]
  },
  {
   "cell_type": "code",
   "execution_count": null,
   "id": "8a8b63b3",
   "metadata": {},
   "outputs": [],
   "source": [
    "trader.start_trading(max_attempts = 3, wait = 10)"
   ]
  },
  {
   "cell_type": "code",
   "execution_count": null,
   "id": "6b553399",
   "metadata": {},
   "outputs": [],
   "source": [
    "trader.data"
   ]
  },
  {
   "cell_type": "code",
   "execution_count": null,
   "id": "f8f956cf",
   "metadata": {},
   "outputs": [],
   "source": []
  }
 ],
 "metadata": {
  "kernelspec": {
   "display_name": "Python 3 (ipykernel)",
   "language": "python",
   "name": "python3"
  },
  "language_info": {
   "codemirror_mode": {
    "name": "ipython",
    "version": 3
   },
   "file_extension": ".py",
   "mimetype": "text/x-python",
   "name": "python",
   "nbconvert_exporter": "python",
   "pygments_lexer": "ipython3",
   "version": "3.12.0"
  }
 },
 "nbformat": 4,
 "nbformat_minor": 5
}
