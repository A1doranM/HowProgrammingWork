{
 "cells": [
  {
   "metadata": {},
   "cell_type": "markdown",
   "source": "# Investment Multiple and CAGR",
   "id": "6cfb823a6f6d403c"
  },
  {
   "metadata": {},
   "cell_type": "markdown",
   "source": "### Two alternative reward metrics that are more intuitive and easier to interpret",
   "id": "658c435c82896879"
  },
  {
   "metadata": {
    "ExecuteTime": {
     "end_time": "2024-10-25T15:28:58.988723Z",
     "start_time": "2024-10-25T15:28:58.405478Z"
    }
   },
   "cell_type": "code",
   "source": [
    "import pandas as pd\n",
    "import numpy as np\n",
    "import matplotlib.pyplot as plt"
   ],
   "id": "685740d429094cb4",
   "outputs": [],
   "execution_count": 1
  },
  {
   "metadata": {
    "ExecuteTime": {
     "end_time": "2024-10-25T15:32:26.923673Z",
     "start_time": "2024-10-25T15:32:26.881603Z"
    }
   },
   "cell_type": "code",
   "source": [
    "BA = pd.read_csv('ba_csv.csv', index_col = \"Date\", parse_dates=[\"Date\"])\n",
    "BA"
   ],
   "id": "c0a532cac3d0e02f",
   "outputs": [
    {
     "data": {
      "text/plain": [
       "                                Price   Returns\n",
       "Date                                           \n",
       "2014-10-21 00:00:00+00:00  127.120003       NaN\n",
       "2014-10-22 00:00:00+00:00  121.449997 -0.044604\n",
       "2014-10-23 00:00:00+00:00  122.029999  0.004776\n",
       "2014-10-24 00:00:00+00:00  122.239998  0.001721\n",
       "2014-10-27 00:00:00+00:00  122.120003 -0.000982\n",
       "...                               ...       ...\n",
       "2024-10-14 00:00:00+00:00  148.990005 -0.013442\n",
       "2024-10-15 00:00:00+00:00  152.350006  0.022552\n",
       "2024-10-16 00:00:00+00:00  154.899994  0.016738\n",
       "2024-10-17 00:00:00+00:00  155.309998  0.002647\n",
       "2024-10-18 00:00:00+00:00  155.000000 -0.001996\n",
       "\n",
       "[2516 rows x 2 columns]"
      ],
      "text/html": [
       "<div>\n",
       "<style scoped>\n",
       "    .dataframe tbody tr th:only-of-type {\n",
       "        vertical-align: middle;\n",
       "    }\n",
       "\n",
       "    .dataframe tbody tr th {\n",
       "        vertical-align: top;\n",
       "    }\n",
       "\n",
       "    .dataframe thead th {\n",
       "        text-align: right;\n",
       "    }\n",
       "</style>\n",
       "<table border=\"1\" class=\"dataframe\">\n",
       "  <thead>\n",
       "    <tr style=\"text-align: right;\">\n",
       "      <th></th>\n",
       "      <th>Price</th>\n",
       "      <th>Returns</th>\n",
       "    </tr>\n",
       "    <tr>\n",
       "      <th>Date</th>\n",
       "      <th></th>\n",
       "      <th></th>\n",
       "    </tr>\n",
       "  </thead>\n",
       "  <tbody>\n",
       "    <tr>\n",
       "      <th>2014-10-21 00:00:00+00:00</th>\n",
       "      <td>127.120003</td>\n",
       "      <td>NaN</td>\n",
       "    </tr>\n",
       "    <tr>\n",
       "      <th>2014-10-22 00:00:00+00:00</th>\n",
       "      <td>121.449997</td>\n",
       "      <td>-0.044604</td>\n",
       "    </tr>\n",
       "    <tr>\n",
       "      <th>2014-10-23 00:00:00+00:00</th>\n",
       "      <td>122.029999</td>\n",
       "      <td>0.004776</td>\n",
       "    </tr>\n",
       "    <tr>\n",
       "      <th>2014-10-24 00:00:00+00:00</th>\n",
       "      <td>122.239998</td>\n",
       "      <td>0.001721</td>\n",
       "    </tr>\n",
       "    <tr>\n",
       "      <th>2014-10-27 00:00:00+00:00</th>\n",
       "      <td>122.120003</td>\n",
       "      <td>-0.000982</td>\n",
       "    </tr>\n",
       "    <tr>\n",
       "      <th>...</th>\n",
       "      <td>...</td>\n",
       "      <td>...</td>\n",
       "    </tr>\n",
       "    <tr>\n",
       "      <th>2024-10-14 00:00:00+00:00</th>\n",
       "      <td>148.990005</td>\n",
       "      <td>-0.013442</td>\n",
       "    </tr>\n",
       "    <tr>\n",
       "      <th>2024-10-15 00:00:00+00:00</th>\n",
       "      <td>152.350006</td>\n",
       "      <td>0.022552</td>\n",
       "    </tr>\n",
       "    <tr>\n",
       "      <th>2024-10-16 00:00:00+00:00</th>\n",
       "      <td>154.899994</td>\n",
       "      <td>0.016738</td>\n",
       "    </tr>\n",
       "    <tr>\n",
       "      <th>2024-10-17 00:00:00+00:00</th>\n",
       "      <td>155.309998</td>\n",
       "      <td>0.002647</td>\n",
       "    </tr>\n",
       "    <tr>\n",
       "      <th>2024-10-18 00:00:00+00:00</th>\n",
       "      <td>155.000000</td>\n",
       "      <td>-0.001996</td>\n",
       "    </tr>\n",
       "  </tbody>\n",
       "</table>\n",
       "<p>2516 rows × 2 columns</p>\n",
       "</div>"
      ]
     },
     "execution_count": 6,
     "metadata": {},
     "output_type": "execute_result"
    }
   ],
   "execution_count": 6
  },
  {
   "metadata": {},
   "cell_type": "markdown",
   "source": [
    "***Investment Multiple***: Ending Value of 1 invested.\n",
    "Multiple = Ending Value / Initial Investment"
   ],
   "id": "6800b2057783ca1"
  },
  {
   "metadata": {
    "ExecuteTime": {
     "end_time": "2024-10-25T15:30:54.267453Z",
     "start_time": "2024-10-25T15:30:54.256545Z"
    }
   },
   "cell_type": "code",
   "source": [
    "multiple = (BA.Price[-1] / BA.Price[0])\n",
    "multiple"
   ],
   "id": "99e153235df41911",
   "outputs": [
    {
     "name": "stderr",
     "output_type": "stream",
     "text": [
      "/tmp/ipykernel_36041/2584416753.py:1: FutureWarning: Series.__getitem__ treating keys as positions is deprecated. In a future version, integer keys will always be treated as labels (consistent with DataFrame behavior). To access a value by position, use `ser.iloc[pos]`\n",
      "  multiple = (BA.Price[-1] / BA.Price[0])\n"
     ]
    },
    {
     "data": {
      "text/plain": [
       "1.2193203009049463"
      ]
     },
     "execution_count": 4,
     "metadata": {},
     "output_type": "execute_result"
    }
   ],
   "execution_count": 4
  },
  {
   "metadata": {},
   "cell_type": "markdown",
   "source": "***Price Increase (in %)***",
   "id": "973c97f57d90cf00"
  },
  {
   "metadata": {
    "ExecuteTime": {
     "end_time": "2024-10-25T15:33:03.521048Z",
     "start_time": "2024-10-25T15:33:03.517855Z"
    }
   },
   "cell_type": "code",
   "source": "(multiple - 1) * 100",
   "id": "136e5dc9c141a7a1",
   "outputs": [
    {
     "data": {
      "text/plain": [
       "21.932030090494624"
      ]
     },
     "execution_count": 7,
     "metadata": {},
     "output_type": "execute_result"
    }
   ],
   "execution_count": 7
  },
  {
   "metadata": {
    "ExecuteTime": {
     "end_time": "2024-10-25T15:33:48.998986Z",
     "start_time": "2024-10-25T15:33:48.993962Z"
    }
   },
   "cell_type": "code",
   "source": "BA.Price / BA.Price[0] # similar/identical concept: Normalized Price with Base Value 1",
   "id": "34b0c9b2c5c8504a",
   "outputs": [
    {
     "name": "stderr",
     "output_type": "stream",
     "text": [
      "/tmp/ipykernel_36041/563967403.py:1: FutureWarning: Series.__getitem__ treating keys as positions is deprecated. In a future version, integer keys will always be treated as labels (consistent with DataFrame behavior). To access a value by position, use `ser.iloc[pos]`\n",
      "  BA.Price / BA.Price[0] # similar/identical concept: Normalized Price with Base Value 1\n"
     ]
    },
    {
     "data": {
      "text/plain": [
       "Date\n",
       "2014-10-21 00:00:00+00:00    1.000000\n",
       "2014-10-22 00:00:00+00:00    0.955396\n",
       "2014-10-23 00:00:00+00:00    0.959959\n",
       "2014-10-24 00:00:00+00:00    0.961611\n",
       "2014-10-27 00:00:00+00:00    0.960667\n",
       "                               ...   \n",
       "2024-10-14 00:00:00+00:00    1.172042\n",
       "2024-10-15 00:00:00+00:00    1.198474\n",
       "2024-10-16 00:00:00+00:00    1.218534\n",
       "2024-10-17 00:00:00+00:00    1.221759\n",
       "2024-10-18 00:00:00+00:00    1.219320\n",
       "Name: Price, Length: 2516, dtype: float64"
      ]
     },
     "execution_count": 8,
     "metadata": {},
     "output_type": "execute_result"
    }
   ],
   "execution_count": 8
  },
  {
   "metadata": {},
   "cell_type": "markdown",
   "source": [
    "***Drawback of Investment Multiple: Does not take into account investment Period. Meaningful only in conjunction with Investment Period***\n",
    "\n",
    "***Compound Annual Growth Rate (CAGR):*** The (constant annual) rate of return that would be required for an investment to grow from its beginning balance to its ending balance, assuming the profit were reinvested at the end of each year of the investments`s lifespan."
   ],
   "id": "b0df37ae971de0c9"
  },
  {
   "metadata": {
    "ExecuteTime": {
     "end_time": "2024-10-25T15:39:08.377822Z",
     "start_time": "2024-10-25T15:39:08.374003Z"
    }
   },
   "cell_type": "code",
   "source": [
    "start = BA.index[0]\n",
    "start"
   ],
   "id": "389777b7d36e9b13",
   "outputs": [
    {
     "data": {
      "text/plain": [
       "Timestamp('2014-10-21 00:00:00+0000', tz='UTC')"
      ]
     },
     "execution_count": 16,
     "metadata": {},
     "output_type": "execute_result"
    }
   ],
   "execution_count": 16
  },
  {
   "metadata": {
    "ExecuteTime": {
     "end_time": "2024-10-25T15:39:21.035934Z",
     "start_time": "2024-10-25T15:39:21.030469Z"
    }
   },
   "cell_type": "code",
   "source": [
    "end = BA.index[-1]\n",
    "end"
   ],
   "id": "a6914058dacbd478",
   "outputs": [
    {
     "data": {
      "text/plain": [
       "Timestamp('2024-10-18 00:00:00+0000', tz='UTC')"
      ]
     },
     "execution_count": 19,
     "metadata": {},
     "output_type": "execute_result"
    }
   ],
   "execution_count": 19
  },
  {
   "metadata": {
    "ExecuteTime": {
     "end_time": "2024-10-25T15:39:21.331189Z",
     "start_time": "2024-10-25T15:39:21.322794Z"
    }
   },
   "cell_type": "code",
   "source": [
    "time_delta = end - start\n",
    "time_delta"
   ],
   "id": "a3d95d68048ef2b1",
   "outputs": [
    {
     "data": {
      "text/plain": [
       "Timedelta('3650 days 00:00:00')"
      ]
     },
     "execution_count": 20,
     "metadata": {},
     "output_type": "execute_result"
    }
   ],
   "execution_count": 20
  },
  {
   "metadata": {
    "ExecuteTime": {
     "end_time": "2024-10-25T15:39:21.976763Z",
     "start_time": "2024-10-25T15:39:21.968946Z"
    }
   },
   "cell_type": "code",
   "source": [
    "time_delta_years = time_delta.days / 365.25\n",
    "time_delta_years"
   ],
   "id": "6609b4b6460a4197",
   "outputs": [
    {
     "data": {
      "text/plain": [
       "9.99315537303217"
      ]
     },
     "execution_count": 21,
     "metadata": {},
     "output_type": "execute_result"
    }
   ],
   "execution_count": 21
  },
  {
   "metadata": {
    "ExecuteTime": {
     "end_time": "2024-10-25T15:40:07.354357Z",
     "start_time": "2024-10-25T15:40:07.350876Z"
    }
   },
   "cell_type": "code",
   "source": [
    "CAGR = multiple**(1 / time_delta_years) - 1 # short version\n",
    "CAGR"
   ],
   "id": "82003e16ad69bb39",
   "outputs": [
    {
     "data": {
      "text/plain": [
       "0.02004111882791637"
      ]
     },
     "execution_count": 22,
     "metadata": {},
     "output_type": "execute_result"
    }
   ],
   "execution_count": 22
  },
  {
   "metadata": {
    "ExecuteTime": {
     "end_time": "2024-10-25T15:54:45.446730Z",
     "start_time": "2024-10-25T15:54:45.441679Z"
    }
   },
   "cell_type": "code",
   "source": [
    "CAGR = (BA.Price[-1]/BA.Price[0])**(1/((BA.index[-1] - BA.index[0]).days / 365.25)) - 1 # long version\n",
    "CAGR"
   ],
   "id": "b313ee41b80f3ef0",
   "outputs": [
    {
     "name": "stderr",
     "output_type": "stream",
     "text": [
      "/tmp/ipykernel_36041/820358502.py:1: FutureWarning: Series.__getitem__ treating keys as positions is deprecated. In a future version, integer keys will always be treated as labels (consistent with DataFrame behavior). To access a value by position, use `ser.iloc[pos]`\n",
      "  CAGR = (BA.Price[-1]/BA.Price[0])**(1/((BA.index[-1] - BA.index[0]).days / 365.25)) - 1 # long version\n"
     ]
    },
    {
     "data": {
      "text/plain": [
       "0.02004111882791637"
      ]
     },
     "execution_count": 35,
     "metadata": {},
     "output_type": "execute_result"
    }
   ],
   "execution_count": 35
  },
  {
   "metadata": {},
   "cell_type": "markdown",
   "source": "# Compound Returns & Geometric Mean Return",
   "id": "ed80efa927844a72"
  },
  {
   "metadata": {
    "ExecuteTime": {
     "end_time": "2024-10-25T15:44:28.429505Z",
     "start_time": "2024-10-25T15:44:28.425053Z"
    }
   },
   "cell_type": "code",
   "source": [
    "multiple = (1 + BA.Returns).prod() # Alternative #3 to calculate multiple (compound daily returns)\n",
    "multiple"
   ],
   "id": "3b10179da2bccf09",
   "outputs": [
    {
     "data": {
      "text/plain": [
       "1.2193203009050204"
      ]
     },
     "execution_count": 24,
     "metadata": {},
     "output_type": "execute_result"
    }
   ],
   "execution_count": 24
  },
  {
   "metadata": {
    "ExecuteTime": {
     "end_time": "2024-10-25T15:44:52.051669Z",
     "start_time": "2024-10-25T15:44:52.047433Z"
    }
   },
   "cell_type": "code",
   "source": [
    "n = BA.Returns.count()\n",
    "n"
   ],
   "id": "fa730e2af1b6737",
   "outputs": [
    {
     "data": {
      "text/plain": [
       "2515"
      ]
     },
     "execution_count": 25,
     "metadata": {},
     "output_type": "execute_result"
    }
   ],
   "execution_count": 25
  },
  {
   "metadata": {},
   "cell_type": "markdown",
   "source": "***Geometric return*** actually has a similar definition as the compound annual growth rate (CAGR). So the only difference is that in our case the geometric mean return is based on daily data. Sp we could say that the geometric mean return is the constant daily rate of return that would be required for investment to grow from its beginning balance to its ending balance, assuming the profits were reinvested. ",
   "id": "4a97ed005ef7a545"
  },
  {
   "metadata": {
    "ExecuteTime": {
     "end_time": "2024-10-25T15:45:25.855875Z",
     "start_time": "2024-10-25T15:45:25.852821Z"
    }
   },
   "cell_type": "code",
   "source": [
    "geo_mean = multiple**(1 / n) - 1 # Geometric mean return (daily)\n",
    "geo_mean"
   ],
   "id": "7b241d484c1a94df",
   "outputs": [
    {
     "data": {
      "text/plain": [
       "7.884747135400438e-05"
      ]
     },
     "execution_count": 26,
     "metadata": {},
     "output_type": "execute_result"
    }
   ],
   "execution_count": 26
  },
  {
   "metadata": {
    "ExecuteTime": {
     "end_time": "2024-10-25T15:45:58.369537Z",
     "start_time": "2024-10-25T15:45:58.366285Z"
    }
   },
   "cell_type": "code",
   "source": "(1 + geo_mean)**n # alternative #4 to calculate multiple (geometric mean)",
   "id": "be57cc22f9ae8104",
   "outputs": [
    {
     "data": {
      "text/plain": [
       "1.2193203009050257"
      ]
     },
     "execution_count": 27,
     "metadata": {},
     "output_type": "execute_result"
    }
   ],
   "execution_count": 27
  },
  {
   "metadata": {},
   "cell_type": "markdown",
   "source": "***-> Compound returns, CAGR & geometric mean return are closely related concepts.***",
   "id": "66d5c4ac2d23c3ee"
  },
  {
   "metadata": {
    "ExecuteTime": {
     "end_time": "2024-10-25T15:48:25.192208Z",
     "start_time": "2024-10-25T15:48:25.188931Z"
    }
   },
   "cell_type": "code",
   "source": [
    "mu = BA.Returns.mean() # arithmetic mean return\n",
    "mu"
   ],
   "id": "41b2eb24fd8a4400",
   "outputs": [
    {
     "data": {
      "text/plain": [
       "0.0003994943930349097"
      ]
     },
     "execution_count": 29,
     "metadata": {},
     "output_type": "execute_result"
    }
   ],
   "execution_count": 29
  },
  {
   "metadata": {},
   "cell_type": "markdown",
   "source": "***The arithmetic mean return is always greater than the geometric mean return and less useful.*** So it`s better to use the geometric mean or event better, we should work with ***logarithmic returns***.",
   "id": "db666684d2cdbdc1"
  },
  {
   "metadata": {
    "ExecuteTime": {
     "end_time": "2024-10-25T15:50:37.124688Z",
     "start_time": "2024-10-25T15:50:37.121600Z"
    }
   },
   "cell_type": "code",
   "source": "(1 + mu)**n # calculate multiple? not possible with arithmetic mean!",
   "id": "8c5b3bbae6e53705",
   "outputs": [
    {
     "data": {
      "text/plain": [
       "2.730617462154803"
      ]
     },
     "execution_count": 30,
     "metadata": {},
     "output_type": "execute_result"
    }
   ],
   "execution_count": 30
  },
  {
   "metadata": {},
   "cell_type": "code",
   "outputs": [],
   "execution_count": null,
   "source": "",
   "id": "cffe9db4fbe0a53e"
  }
 ],
 "metadata": {
  "kernelspec": {
   "display_name": "Python 3",
   "language": "python",
   "name": "python3"
  },
  "language_info": {
   "codemirror_mode": {
    "name": "ipython",
    "version": 2
   },
   "file_extension": ".py",
   "mimetype": "text/x-python",
   "name": "python",
   "nbconvert_exporter": "python",
   "pygments_lexer": "ipython2",
   "version": "2.7.6"
  }
 },
 "nbformat": 4,
 "nbformat_minor": 5
}
