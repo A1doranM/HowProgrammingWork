{
 "cells": [
  {
   "cell_type": "markdown",
   "id": "959f72e2",
   "metadata": {},
   "source": [
    "# Real-time Implementation and Automation with IBKR"
   ]
  },
  {
   "cell_type": "markdown",
   "id": "00fe4e1f",
   "metadata": {},
   "source": [
    "--------------------------------------------------------------------------------------------------------------------"
   ]
  },
  {
   "cell_type": "markdown",
   "id": "ec4597eb",
   "metadata": {},
   "source": [
    "_Disclaimer: <br>\n",
    "The following illustrative examples are for general information and educational purposes only. <br>\n",
    "It is neither investment advice nor a recommendation to trade, invest or take whatsoever actions.<br>\n",
    "The below code should only be used in combination with an IBKR Practice/Demo Account and NOT with a Live Trading Account._"
   ]
  },
  {
   "cell_type": "markdown",
   "id": "290c7d15",
   "metadata": {},
   "source": [
    "------------------------------------------------------------------------------------"
   ]
  },
  {
   "cell_type": "markdown",
   "id": "183c14fc",
   "metadata": {},
   "source": [
    "## IBKR API - Recap"
   ]
  },
  {
   "cell_type": "markdown",
   "id": "26efa78f-5bef-4305-929b-499655068f44",
   "metadata": {},
   "source": [
    "__Update__: ib_insync has been migrated to __ib_async__. From now on, __please use ib_async:__"
   ]
  },
  {
   "cell_type": "markdown",
   "id": "452224c4-bd88-4bfc-a4d4-f71002c4ab48",
   "metadata": {},
   "source": [
    "pip install ib_async"
   ]
  },
  {
   "cell_type": "code",
   "execution_count": null,
   "id": "996516c5",
   "metadata": {},
   "outputs": [],
   "source": [
    "from ib_async import *\n",
    "util.startLoop() "
   ]
  },
  {
   "cell_type": "code",
   "execution_count": null,
   "id": "1b02d8b9",
   "metadata": {},
   "outputs": [],
   "source": [
    "ib = IB()"
   ]
  },
  {
   "cell_type": "code",
   "execution_count": null,
   "id": "34667272",
   "metadata": {},
   "outputs": [],
   "source": [
    "ib.connect()"
   ]
  },
  {
   "cell_type": "code",
   "execution_count": null,
   "id": "0939789b",
   "metadata": {},
   "outputs": [],
   "source": [
    "ib.positions()"
   ]
  },
  {
   "cell_type": "code",
   "execution_count": null,
   "id": "1c3f3e68",
   "metadata": {},
   "outputs": [],
   "source": [
    "contract = Forex('EURUSD')\n",
    "contract"
   ]
  },
  {
   "cell_type": "code",
   "execution_count": null,
   "id": "bfb6bb30",
   "metadata": {},
   "outputs": [],
   "source": [
    "ib.qualifyContracts(contract)"
   ]
  },
  {
   "cell_type": "code",
   "execution_count": null,
   "id": "5da24b4e",
   "metadata": {},
   "outputs": [],
   "source": [
    "data = ib.reqMktData(contract) # subscribe to tick data\n",
    "data"
   ]
  },
  {
   "cell_type": "code",
   "execution_count": null,
   "id": "a80b0f42",
   "metadata": {},
   "outputs": [],
   "source": [
    "data"
   ]
  },
  {
   "cell_type": "code",
   "execution_count": null,
   "id": "1cd3a77b",
   "metadata": {},
   "outputs": [],
   "source": [
    "data.bid"
   ]
  },
  {
   "cell_type": "code",
   "execution_count": null,
   "id": "3b051f73",
   "metadata": {},
   "outputs": [],
   "source": [
    "ib.cancelMktData(contract) # unsubscribe market data"
   ]
  },
  {
   "cell_type": "code",
   "execution_count": null,
   "id": "3f0d14dc",
   "metadata": {},
   "outputs": [],
   "source": [
    "ib.reqMktData(contract)"
   ]
  },
  {
   "cell_type": "code",
   "execution_count": null,
   "id": "c29e7951",
   "metadata": {},
   "outputs": [],
   "source": [
    "ticker = ib.ticker(contract)\n",
    "ticker"
   ]
  },
  {
   "cell_type": "code",
   "execution_count": null,
   "id": "35d5fe9d",
   "metadata": {},
   "outputs": [],
   "source": [
    "ticker.bid"
   ]
  },
  {
   "cell_type": "code",
   "execution_count": null,
   "id": "532f9b2f",
   "metadata": {},
   "outputs": [],
   "source": [
    "ib.cancelMktData(contract) # unsubscribe market data"
   ]
  },
  {
   "cell_type": "code",
   "execution_count": null,
   "id": "9d7c6340",
   "metadata": {},
   "outputs": [],
   "source": [
    "ib.disconnect()"
   ]
  },
  {
   "cell_type": "code",
   "execution_count": null,
   "id": "f16f2925",
   "metadata": {},
   "outputs": [],
   "source": []
  },
  {
   "cell_type": "markdown",
   "id": "ddf18e09",
   "metadata": {},
   "source": [
    "## Streaming Tick Data"
   ]
  },
  {
   "cell_type": "code",
   "execution_count": null,
   "id": "bde78b8f",
   "metadata": {},
   "outputs": [],
   "source": [
    "from ib_async import *\n",
    "import pandas as pd\n",
    "util.startLoop() \n",
    "ib = IB()"
   ]
  },
  {
   "cell_type": "code",
   "execution_count": null,
   "id": "37bda241",
   "metadata": {},
   "outputs": [],
   "source": [
    "ib.connect()"
   ]
  },
  {
   "cell_type": "code",
   "execution_count": null,
   "id": "d4d38d92",
   "metadata": {},
   "outputs": [],
   "source": [
    "contract = Forex('EURUSD')\n",
    "ib.reqMktData(contract)\n",
    "ticker = ib.ticker(contract)"
   ]
  },
  {
   "cell_type": "code",
   "execution_count": null,
   "id": "75c4477b",
   "metadata": {},
   "outputs": [],
   "source": [
    "ticker"
   ]
  },
  {
   "cell_type": "code",
   "execution_count": null,
   "id": "1dda693a",
   "metadata": {},
   "outputs": [],
   "source": [
    "def onPendingTickers(tickers): # what shall happen after receiving a new tick\n",
    "    global message\n",
    "    message = \"time: {} | Bid: {} | Ask:{}\".format(ticker.time, ticker.bid, ticker.ask)\n",
    "    print(message, end = '\\r')"
   ]
  },
  {
   "cell_type": "code",
   "execution_count": null,
   "id": "f3700b57",
   "metadata": {},
   "outputs": [],
   "source": [
    "ib.pendingTickersEvent += onPendingTickers # activate onPendingTickers\n",
    "ib.sleep(30) # new, to be added!!!"
   ]
  },
  {
   "cell_type": "code",
   "execution_count": null,
   "id": "c45e5ce0-af9b-4d7a-b585-6a56c06d209a",
   "metadata": {},
   "outputs": [],
   "source": [
    "message # still getting updated"
   ]
  },
  {
   "cell_type": "code",
   "execution_count": null,
   "id": "de31ca12",
   "metadata": {},
   "outputs": [],
   "source": [
    "ib.pendingTickersEvent -= onPendingTickers # de-activate onPendingTickers"
   ]
  },
  {
   "cell_type": "code",
   "execution_count": null,
   "id": "49890b53",
   "metadata": {},
   "outputs": [],
   "source": [
    "ticker"
   ]
  },
  {
   "cell_type": "code",
   "execution_count": null,
   "id": "529a67c4",
   "metadata": {},
   "outputs": [],
   "source": [
    "ib.cancelMktData(contract)"
   ]
  },
  {
   "cell_type": "code",
   "execution_count": null,
   "id": "6ad1f983",
   "metadata": {},
   "outputs": [],
   "source": [
    "ib.disconnect()"
   ]
  },
  {
   "cell_type": "code",
   "execution_count": null,
   "id": "70733298-61ca-4c45-8177-7305ed89d3e7",
   "metadata": {},
   "outputs": [],
   "source": []
  },
  {
   "cell_type": "markdown",
   "id": "2fc65232",
   "metadata": {},
   "source": [
    "## Streaming Tick Data for multiple Symbols"
   ]
  },
  {
   "cell_type": "code",
   "execution_count": null,
   "id": "3a7103f2",
   "metadata": {},
   "outputs": [],
   "source": [
    "from ib_async import *\n",
    "import pandas as pd\n",
    "from IPython.display import display, clear_output\n",
    "util.startLoop() \n",
    "ib = IB()"
   ]
  },
  {
   "cell_type": "code",
   "execution_count": null,
   "id": "92743702",
   "metadata": {},
   "outputs": [],
   "source": [
    "ib.connect()"
   ]
  },
  {
   "cell_type": "code",
   "execution_count": null,
   "id": "2c1309ef",
   "metadata": {},
   "outputs": [],
   "source": [
    "contracts = [Forex(pair) for pair in ('EURUSD', 'USDJPY', 'GBPUSD', 'USDCHF', 'USDCAD', 'AUDUSD')]\n",
    "ib.qualifyContracts(*contracts)"
   ]
  },
  {
   "cell_type": "code",
   "execution_count": null,
   "id": "2b4e0c5b",
   "metadata": {},
   "outputs": [],
   "source": [
    "for contract in contracts:\n",
    "    ib.reqMktData(contract)"
   ]
  },
  {
   "cell_type": "code",
   "execution_count": null,
   "id": "fae56e5e",
   "metadata": {},
   "outputs": [],
   "source": [
    "df = pd.DataFrame(\n",
    "    index=[c.pair() for c in contracts],\n",
    "    columns=['bidSize', 'bid', 'ask', 'askSize', 'high', 'low', 'close'])\n",
    "df"
   ]
  },
  {
   "cell_type": "code",
   "execution_count": null,
   "id": "009763c5",
   "metadata": {},
   "outputs": [],
   "source": [
    "def onPendingTickers(tickers): # what shall happen after receiving a new tick\n",
    "    for t in tickers:\n",
    "        df.loc[t.contract.pair()] = (\n",
    "            t.bidSize, t.bid, t.ask, t.askSize, t.high, t.low, t.close)\n",
    "        clear_output(wait=True)\n",
    "    display(df) "
   ]
  },
  {
   "cell_type": "code",
   "execution_count": null,
   "id": "1edb91f7",
   "metadata": {},
   "outputs": [],
   "source": [
    "ib.pendingTickersEvent += onPendingTickers # activate onPendingTickers\n",
    "ib.sleep(30) # new to be added!!!"
   ]
  },
  {
   "cell_type": "code",
   "execution_count": null,
   "id": "771fd608-2923-4725-bb00-132f3e53b597",
   "metadata": {},
   "outputs": [],
   "source": [
    "df # still getting updated"
   ]
  },
  {
   "cell_type": "code",
   "execution_count": null,
   "id": "4375f9d8",
   "metadata": {},
   "outputs": [],
   "source": [
    "ib.pendingTickersEvent -= onPendingTickers # de-activate onPendingTickers"
   ]
  },
  {
   "cell_type": "code",
   "execution_count": null,
   "id": "909854de",
   "metadata": {},
   "outputs": [],
   "source": [
    "for contract in contracts:\n",
    "    ib.cancelMktData(contract)"
   ]
  },
  {
   "cell_type": "code",
   "execution_count": null,
   "id": "4525eacd",
   "metadata": {},
   "outputs": [],
   "source": [
    "ib.disconnect()"
   ]
  },
  {
   "cell_type": "code",
   "execution_count": null,
   "id": "43302e4f",
   "metadata": {},
   "outputs": [],
   "source": []
  },
  {
   "cell_type": "markdown",
   "id": "e6766699",
   "metadata": {},
   "source": [
    "## Streaming Real Time Bars (and Historical)"
   ]
  },
  {
   "cell_type": "markdown",
   "id": "71a92b8a",
   "metadata": {},
   "source": [
    "- Trading Stratgies use bar data (uniform time periods with ohlc data), not tick data (non-constant frequency, based on trades and quotes)\n",
    "- An SMA Crossover 50/200 (days) Strategy works with daily bars.\n",
    "- Day Trading Strategies are based on e.g. [1min, 5min, 20min, 1h, 3h, 6h] bars\n",
    "- Bar Size / Frequency itself is a Strategy Parameter (to be optimized)"
   ]
  },
  {
   "cell_type": "code",
   "execution_count": null,
   "id": "8b95f649",
   "metadata": {},
   "outputs": [],
   "source": [
    "from ib_async import *\n",
    "import pandas as pd\n",
    "import matplotlib.pyplot as plt\n",
    "from IPython.display import display, clear_output\n",
    "util.startLoop() "
   ]
  },
  {
   "cell_type": "code",
   "execution_count": null,
   "id": "41e4a270",
   "metadata": {},
   "outputs": [],
   "source": [
    "ib = IB()\n",
    "ib.connect()"
   ]
  },
  {
   "cell_type": "code",
   "execution_count": null,
   "id": "9b9d1c76",
   "metadata": {},
   "outputs": [],
   "source": [
    "contract = Forex('EURUSD')\n",
    "contract"
   ]
  },
  {
   "cell_type": "markdown",
   "id": "da9aaccb",
   "metadata": {},
   "source": [
    "__durationStr__: Time span of all the bars. Examples:\n",
    "        __'60 S', '30 D', '13 W', '6 M', '10 Y'__."
   ]
  },
  {
   "cell_type": "markdown",
   "id": "3a0574a6",
   "metadata": {},
   "source": [
    "__barSizeSetting__: Time period of one bar. Must be one of:\n",
    "        __'1 secs', '5 secs', '10 secs' 15 secs', '30 secs',\n",
    "        '1 min', '2 mins', '3 mins', '5 mins', '10 mins', '15 mins',\n",
    "        '20 mins', '30 mins',\n",
    "        '1 hour', '2 hours', '3 hours', '4 hours', '8 hours',\n",
    "        '1 day', '1 week', '1 month'__."
   ]
  },
  {
   "cell_type": "code",
   "execution_count": null,
   "id": "f7466dd3",
   "metadata": {},
   "outputs": [],
   "source": [
    "bars = ib.reqHistoricalData(\n",
    "        contract,\n",
    "        endDateTime='',\n",
    "        durationStr='100 S',\n",
    "        barSizeSetting='10 secs',\n",
    "        whatToShow='MIDPOINT',\n",
    "        useRTH=True,\n",
    "        formatDate=2,\n",
    "        keepUpToDate=True)"
   ]
  },
  {
   "cell_type": "code",
   "execution_count": null,
   "id": "4974c543",
   "metadata": {},
   "outputs": [],
   "source": [
    "bars"
   ]
  },
  {
   "cell_type": "code",
   "execution_count": null,
   "id": "1c79853d",
   "metadata": {},
   "outputs": [],
   "source": [
    "pd.DataFrame(bars)"
   ]
  },
  {
   "cell_type": "code",
   "execution_count": null,
   "id": "8ff6d024",
   "metadata": {},
   "outputs": [],
   "source": [
    "ib.cancelHistoricalData(bars) # cancel subscription"
   ]
  },
  {
   "cell_type": "code",
   "execution_count": null,
   "id": "8e668cef",
   "metadata": {},
   "outputs": [],
   "source": [
    "def onBarUpdate(bars, hasNewBar):  # what shall happen after receiving a new bar\n",
    "    global df\n",
    "    df = pd.DataFrame(bars)[[\"date\", \"open\", \"high\", \"low\", \"close\"]]\n",
    "    df.set_index(\"date\", inplace = True)\n",
    "    clear_output(wait=True)\n",
    "    display(df)"
   ]
  },
  {
   "cell_type": "code",
   "execution_count": null,
   "id": "cae32efd",
   "metadata": {},
   "outputs": [],
   "source": [
    "# start stream\n",
    "bars = ib.reqHistoricalData(\n",
    "        contract,\n",
    "        endDateTime='',\n",
    "        durationStr='50 S',\n",
    "        barSizeSetting='5 secs',\n",
    "        whatToShow='MIDPOINT',\n",
    "        useRTH=True,\n",
    "        formatDate=2,\n",
    "        keepUpToDate=True)"
   ]
  },
  {
   "cell_type": "code",
   "execution_count": null,
   "id": "48c10737",
   "metadata": {},
   "outputs": [],
   "source": [
    "bars.updateEvent += onBarUpdate # activate onBarUpdate\n",
    "ib.sleep(30) # new to be added!!!"
   ]
  },
  {
   "cell_type": "code",
   "execution_count": null,
   "id": "987143a4-556b-402e-aac0-ac1e3ecc424d",
   "metadata": {},
   "outputs": [],
   "source": [
    "df # still getting updated until you de-activate or cancel"
   ]
  },
  {
   "cell_type": "code",
   "execution_count": null,
   "id": "a7e90440",
   "metadata": {},
   "outputs": [],
   "source": [
    "bars.updateEvent -= onBarUpdate # de-activate onBarUpdate"
   ]
  },
  {
   "cell_type": "code",
   "execution_count": null,
   "id": "2d416f8e",
   "metadata": {},
   "outputs": [],
   "source": [
    "ib.cancelHistoricalData(bars) # cancel subscription"
   ]
  },
  {
   "cell_type": "code",
   "execution_count": null,
   "id": "f4d2e045",
   "metadata": {},
   "outputs": [],
   "source": []
  },
  {
   "cell_type": "markdown",
   "id": "acdfb0ed",
   "metadata": {},
   "source": [
    "## Application: Creating a live Candle Stick Chart "
   ]
  },
  {
   "cell_type": "code",
   "execution_count": null,
   "id": "aa74a57a",
   "metadata": {},
   "outputs": [],
   "source": [
    "def onBarUpdate(bars, hasNewBar):\n",
    "    plt.close()\n",
    "    plot = util.barplot(bars, title = \"EURUSD\", upColor = \"green\", downColor = \"red\")\n",
    "    clear_output(wait=True)\n",
    "    display(plot)"
   ]
  },
  {
   "cell_type": "code",
   "execution_count": null,
   "id": "43d30ff7",
   "metadata": {},
   "outputs": [],
   "source": [
    "bars = ib.reqHistoricalData(\n",
    "        contract,\n",
    "        endDateTime='',\n",
    "        durationStr='1000 S',\n",
    "        barSizeSetting='10 secs',\n",
    "        whatToShow='MIDPOINT',\n",
    "        useRTH=True,\n",
    "        formatDate=2,\n",
    "        keepUpToDate=True)"
   ]
  },
  {
   "cell_type": "code",
   "execution_count": null,
   "id": "0c849440",
   "metadata": {},
   "outputs": [],
   "source": [
    "bars.updateEvent += onBarUpdate # activate onBarUpdate\n",
    "ib.sleep(30) # new to be added!!!"
   ]
  },
  {
   "cell_type": "code",
   "execution_count": null,
   "id": "f3fb8301",
   "metadata": {},
   "outputs": [],
   "source": [
    "bars.updateEvent -= onBarUpdate # de-activate onBarUpdate"
   ]
  },
  {
   "cell_type": "code",
   "execution_count": null,
   "id": "356517b4",
   "metadata": {},
   "outputs": [],
   "source": [
    "ib.cancelHistoricalData(bars) # cancel subscription"
   ]
  },
  {
   "cell_type": "code",
   "execution_count": null,
   "id": "2e92e6a5",
   "metadata": {},
   "outputs": [],
   "source": [
    "ib.disconnect()"
   ]
  },
  {
   "cell_type": "code",
   "execution_count": null,
   "id": "6336a401",
   "metadata": {},
   "outputs": [],
   "source": []
  },
  {
   "cell_type": "markdown",
   "id": "8ce61d6b",
   "metadata": {},
   "source": [
    "## Preparing the Data for Day Trading"
   ]
  },
  {
   "cell_type": "markdown",
   "id": "f3f4318a",
   "metadata": {},
   "source": [
    "- Problem: most recent bar is (typically) incomplete (until the end of the bar has been reached)\n",
    "- In Trading: Take actions once a new bar is complete "
   ]
  },
  {
   "cell_type": "code",
   "execution_count": null,
   "id": "c829ac67",
   "metadata": {},
   "outputs": [],
   "source": [
    "from ib_async import * \n",
    "import pandas as pd\n",
    "import numpy as np\n",
    "import datetime as dt # old\n",
    "from datetime import datetime, timezone # new\n",
    "from IPython.display import display, clear_output\n",
    "util.startLoop() "
   ]
  },
  {
   "cell_type": "code",
   "execution_count": null,
   "id": "ac9f9b38",
   "metadata": {},
   "outputs": [],
   "source": [
    "ib = IB()\n",
    "ib.connect()"
   ]
  },
  {
   "cell_type": "code",
   "execution_count": null,
   "id": "c59de438",
   "metadata": {},
   "outputs": [],
   "source": [
    "contract = Forex('EURUSD')\n",
    "contract"
   ]
  },
  {
   "cell_type": "code",
   "execution_count": null,
   "id": "1ccdb67a-3279-4626-871f-acb1e171092a",
   "metadata": {},
   "outputs": [],
   "source": [
    "dt.datetime.utcnow() # old"
   ]
  },
  {
   "cell_type": "code",
   "execution_count": null,
   "id": "ff07201c-8e38-4527-bfc4-d2d6e30ea040",
   "metadata": {},
   "outputs": [],
   "source": [
    "datetime.now(timezone.utc) # new (Python 3.12)"
   ]
  },
  {
   "cell_type": "code",
   "execution_count": null,
   "id": "492e08b1",
   "metadata": {},
   "outputs": [],
   "source": [
    "def onBarUpdate(bars, hasNewBar):\n",
    "    # print(dt.datetime.utcnow()) # old\n",
    "    print(datetime.now(timezone.utc)) # new (Python 3.12)"
   ]
  },
  {
   "cell_type": "code",
   "execution_count": null,
   "id": "47f34569",
   "metadata": {},
   "outputs": [],
   "source": [
    "bars = ib.reqHistoricalData(\n",
    "        contract,\n",
    "        endDateTime='',\n",
    "        durationStr='1 D',\n",
    "        barSizeSetting='1 min',\n",
    "        whatToShow='MIDPOINT',\n",
    "        useRTH=True,\n",
    "        formatDate=2,\n",
    "        keepUpToDate=True)"
   ]
  },
  {
   "cell_type": "code",
   "execution_count": null,
   "id": "299e74d7",
   "metadata": {},
   "outputs": [],
   "source": [
    "bars.updateEvent += onBarUpdate\n",
    "ib.sleep(30) # new to be added!!!"
   ]
  },
  {
   "cell_type": "code",
   "execution_count": null,
   "id": "57befe9c",
   "metadata": {},
   "outputs": [],
   "source": [
    "ib.cancelHistoricalData(bars) "
   ]
  },
  {
   "cell_type": "code",
   "execution_count": null,
   "id": "3182e29b",
   "metadata": {},
   "outputs": [],
   "source": [
    "def onBarUpdate(bars, hasNewBar): \n",
    "    global df\n",
    "    df = pd.DataFrame(bars)[[\"date\", \"open\", \"high\", \"low\", \"close\"]].iloc[:-1] # remove current bar (incomplete)\n",
    "    df.set_index(\"date\", inplace = True)\n",
    "    clear_output(wait=True)\n",
    "    display(df)"
   ]
  },
  {
   "cell_type": "code",
   "execution_count": null,
   "id": "d7ceff64",
   "metadata": {},
   "outputs": [],
   "source": [
    "bars = ib.reqHistoricalData(\n",
    "        contract,\n",
    "        endDateTime='',\n",
    "        durationStr='1 D',\n",
    "        barSizeSetting='1 min',\n",
    "        whatToShow='MIDPOINT',\n",
    "        useRTH=True,\n",
    "        formatDate=2,\n",
    "        keepUpToDate=True)\n",
    "bars.updateEvent += onBarUpdate \n",
    "ib.sleep(90) # new to be added!!!"
   ]
  },
  {
   "cell_type": "code",
   "execution_count": null,
   "id": "25c3c518-86cd-4231-a6dd-4f15fdbc433f",
   "metadata": {},
   "outputs": [],
   "source": [
    "df # still getting updated until you cancel"
   ]
  },
  {
   "cell_type": "code",
   "execution_count": null,
   "id": "20e954f6",
   "metadata": {},
   "outputs": [],
   "source": [
    "ib.cancelHistoricalData(bars) "
   ]
  },
  {
   "cell_type": "code",
   "execution_count": null,
   "id": "6ef78943",
   "metadata": {},
   "outputs": [],
   "source": []
  },
  {
   "cell_type": "markdown",
   "id": "bd123446",
   "metadata": {},
   "source": [
    "## Improving Code Efficiency"
   ]
  },
  {
   "cell_type": "markdown",
   "id": "618049f4",
   "metadata": {},
   "source": [
    "Idea: We need to run major parts of onBarUpdate only if a bar is complete (== new bar has been added)"
   ]
  },
  {
   "cell_type": "code",
   "execution_count": null,
   "id": "99a0f060",
   "metadata": {},
   "outputs": [],
   "source": [
    "bars"
   ]
  },
  {
   "cell_type": "code",
   "execution_count": null,
   "id": "9777cfb4",
   "metadata": {},
   "outputs": [],
   "source": [
    "# check if current (incomplete) bar is more recent than the last complete bar\n",
    "bars[-1].date > bars[-2].date"
   ]
  },
  {
   "cell_type": "code",
   "execution_count": null,
   "id": "ac98470f",
   "metadata": {},
   "outputs": [],
   "source": [
    "def onBarUpdate(bars, hasNewBar):  \n",
    "    global df, last_bar\n",
    "    if bars[-1].date > last_bar: # if bar completed / new bar\n",
    "        last_bar = bars[-1].date\n",
    "    \n",
    "        df = pd.DataFrame(bars)[[\"date\", \"open\", \"high\", \"low\", \"close\"]].iloc[:-1] \n",
    "        df.set_index(\"date\", inplace = True)\n",
    "        clear_output(wait=True)\n",
    "        display(df)"
   ]
  },
  {
   "cell_type": "code",
   "execution_count": null,
   "id": "c38d1167",
   "metadata": {},
   "outputs": [],
   "source": [
    "bars = ib.reqHistoricalData(\n",
    "        contract,\n",
    "        endDateTime='',\n",
    "        durationStr='1 D',\n",
    "        barSizeSetting='1 min',\n",
    "        whatToShow='MIDPOINT',\n",
    "        useRTH=True,\n",
    "        formatDate=2,\n",
    "        keepUpToDate=True)\n",
    "last_bar = bars[-1].date # initialize last_bar\n",
    "bars.updateEvent += onBarUpdate\n",
    "ib.sleep(90) # new to be added!!!"
   ]
  },
  {
   "cell_type": "code",
   "execution_count": null,
   "id": "22de3322-a70a-406f-b66a-47f6159d1bfb",
   "metadata": {},
   "outputs": [],
   "source": [
    "df # still getting updated until you cancel"
   ]
  },
  {
   "cell_type": "code",
   "execution_count": null,
   "id": "106aa277",
   "metadata": {},
   "outputs": [],
   "source": [
    "ib.cancelHistoricalData(bars) "
   ]
  },
  {
   "cell_type": "code",
   "execution_count": null,
   "id": "382beb6e",
   "metadata": {},
   "outputs": [],
   "source": [
    "ib.disconnect()"
   ]
  },
  {
   "cell_type": "code",
   "execution_count": null,
   "id": "053dab79",
   "metadata": {},
   "outputs": [],
   "source": [
    "df"
   ]
  },
  {
   "cell_type": "code",
   "execution_count": null,
   "id": "c38043b2",
   "metadata": {},
   "outputs": [],
   "source": [
    "last_bar"
   ]
  },
  {
   "cell_type": "code",
   "execution_count": null,
   "id": "d77a077c",
   "metadata": {},
   "outputs": [],
   "source": []
  },
  {
   "cell_type": "markdown",
   "id": "751de213",
   "metadata": {},
   "source": [
    "## Define an SMA Day Trading Strategy"
   ]
  },
  {
   "cell_type": "code",
   "execution_count": null,
   "id": "0b559ba5",
   "metadata": {},
   "outputs": [],
   "source": [
    "from ib_async import * \n",
    "import pandas as pd\n",
    "import numpy as np\n",
    "#import datetime as dt\n",
    "from IPython.display import display, clear_output\n",
    "util.startLoop() "
   ]
  },
  {
   "cell_type": "code",
   "execution_count": null,
   "id": "6b99a3bf",
   "metadata": {},
   "outputs": [],
   "source": [
    "ib = IB()\n",
    "ib.connect()"
   ]
  },
  {
   "cell_type": "code",
   "execution_count": null,
   "id": "88415e43",
   "metadata": {},
   "outputs": [],
   "source": [
    "contract = Forex('EURUSD')\n",
    "contract"
   ]
  },
  {
   "cell_type": "markdown",
   "id": "d9b84a39",
   "metadata": {},
   "source": [
    "Strategy: SMA 50/200 (minutes) Crossover (needs to be backtested!!!)"
   ]
  },
  {
   "cell_type": "code",
   "execution_count": null,
   "id": "c6c29ce1",
   "metadata": {},
   "outputs": [],
   "source": [
    "sma_s = 50\n",
    "sma_l = 200"
   ]
  },
  {
   "cell_type": "code",
   "execution_count": null,
   "id": "3d564884",
   "metadata": {},
   "outputs": [],
   "source": [
    "def onBarUpdate(bars, hasNewBar): \n",
    "    global df, last_bar\n",
    "    \n",
    "    if bars[-1].date > last_bar: \n",
    "        last_bar = bars[-1].date\n",
    "    \n",
    "        # Data Processing\n",
    "        df = pd.DataFrame(bars)[[\"date\", \"open\", \"high\", \"low\", \"close\"]].iloc[:-1]\n",
    "        df.set_index(\"date\", inplace = True)\n",
    "        \n",
    "        ####################### Trading Strategy ###########################\n",
    "        df = df[[\"close\"]].copy()\n",
    "        df[\"sma_s\"] = df.close.rolling(sma_s).mean()\n",
    "        df[\"sma_l\"] = df.close.rolling(sma_l).mean()\n",
    "        df.dropna(inplace = True)\n",
    "        df[\"position\"] = np.where(df[\"sma_s\"] > df[\"sma_l\"], 1, -1 )\n",
    "        ####################################################################\n",
    "        \n",
    "        # Action\n",
    "        clear_output(wait=True)\n",
    "        display(df)\n",
    "        "
   ]
  },
  {
   "cell_type": "code",
   "execution_count": null,
   "id": "6077da72",
   "metadata": {},
   "outputs": [],
   "source": [
    "bars = ib.reqHistoricalData(\n",
    "        contract,\n",
    "        endDateTime='',\n",
    "        durationStr='1 D',\n",
    "        barSizeSetting='1 min',\n",
    "        whatToShow='MIDPOINT',\n",
    "        useRTH=True,\n",
    "        formatDate=2,\n",
    "        keepUpToDate=True)\n",
    "last_bar = bars[-1].date\n",
    "bars.updateEvent += onBarUpdate \n",
    "ib.sleep(120) # new to be added!!!"
   ]
  },
  {
   "cell_type": "code",
   "execution_count": null,
   "id": "159cbd8c-1294-4f2c-be18-ff9368270330",
   "metadata": {},
   "outputs": [],
   "source": [
    "df # still getting updated until you cancel"
   ]
  },
  {
   "cell_type": "code",
   "execution_count": null,
   "id": "29017466",
   "metadata": {},
   "outputs": [],
   "source": [
    "ib.cancelHistoricalData(bars) "
   ]
  },
  {
   "cell_type": "code",
   "execution_count": null,
   "id": "5a8f72fc",
   "metadata": {},
   "outputs": [],
   "source": [
    "ib.disconnect()"
   ]
  },
  {
   "cell_type": "code",
   "execution_count": null,
   "id": "98b8ed79",
   "metadata": {},
   "outputs": [],
   "source": []
  },
  {
   "cell_type": "markdown",
   "id": "67330e78",
   "metadata": {},
   "source": [
    "## Trading"
   ]
  },
  {
   "cell_type": "markdown",
   "id": "54b121fd",
   "metadata": {},
   "source": [
    "__Please run the following code only with your Paper Trading Account!!!__"
   ]
  },
  {
   "cell_type": "markdown",
   "id": "7c3d17f0",
   "metadata": {},
   "source": [
    "__Check the Regular Trading Hours!!!__"
   ]
  },
  {
   "cell_type": "code",
   "execution_count": null,
   "id": "fc543c96",
   "metadata": {},
   "outputs": [],
   "source": [
    "from ib_async import * \n",
    "import pandas as pd\n",
    "import numpy as np\n",
    "#import datetime as dt\n",
    "from IPython.display import display, clear_output\n",
    "util.startLoop() "
   ]
  },
  {
   "cell_type": "code",
   "execution_count": null,
   "id": "fc405333",
   "metadata": {},
   "outputs": [],
   "source": [
    "ib = IB()\n",
    "ib.connect()"
   ]
  },
  {
   "cell_type": "code",
   "execution_count": null,
   "id": "58cab0a4",
   "metadata": {},
   "outputs": [],
   "source": [
    "# strategy parameters\n",
    "sma_s = 50\n",
    "sma_l = 200\n",
    "freq = \"1 min\"\n",
    "units = 1000\n",
    "contract = Forex('EURUSD') # for data streaming\n",
    "ib.qualifyContracts(contract)\n",
    "cfd = CFD(\"EUR\", currency = \"USD\") # for trading\n",
    "ib.qualifyContracts(cfd)\n",
    "conID = cfd.conId"
   ]
  },
  {
   "cell_type": "code",
   "execution_count": null,
   "id": "bda6da5f",
   "metadata": {},
   "outputs": [],
   "source": [
    "conID"
   ]
  },
  {
   "cell_type": "markdown",
   "id": "8c18c259",
   "metadata": {},
   "source": [
    "__barSizeSetting__: Time period of one bar. Must be one of:\n",
    "        __'1 secs', '5 secs', '10 secs' 15 secs', '30 secs',\n",
    "        '1 min', '2 mins', '3 mins', '5 mins', '10 mins', '15 mins',\n",
    "        '20 mins', '30 mins',\n",
    "        '1 hour', '2 hours', '3 hours', '4 hours', '8 hours',\n",
    "        '1 day', '1 week', '1 month'__."
   ]
  },
  {
   "cell_type": "code",
   "execution_count": null,
   "id": "238ec94d",
   "metadata": {},
   "outputs": [],
   "source": [
    "def onBarUpdate(bars, hasNewBar):  \n",
    "    global df, last_bar\n",
    "    \n",
    "    if bars[-1].date > last_bar: \n",
    "        last_bar = bars[-1].date\n",
    "    \n",
    "        # Data Processing\n",
    "        df = pd.DataFrame(bars)[[\"date\", \"open\", \"high\", \"low\", \"close\"]].iloc[:-1] \n",
    "        df.set_index(\"date\", inplace = True)\n",
    "        \n",
    "        ####################### Trading Strategy ###########################\n",
    "        df = df[[\"close\"]].copy()\n",
    "        df[\"sma_s\"] = df.close.rolling(sma_s).mean()\n",
    "        df[\"sma_l\"] = df.close.rolling(sma_l).mean()\n",
    "        df.dropna(inplace = True)\n",
    "        df[\"position\"] = np.where(df[\"sma_s\"] > df[\"sma_l\"], 1, -1 )\n",
    "        ####################################################################\n",
    "        \n",
    "        # Trading\n",
    "        target = df[\"position\"][-1] * units\n",
    "        execute_trade(target = target)\n",
    "        \n",
    "        # Display\n",
    "        clear_output(wait=True)\n",
    "        display(df)\n",
    "    else:\n",
    "        pass\n",
    "\n",
    "def execute_trade(target):\n",
    "    global current_pos\n",
    "    \n",
    "    # 1. get current Position\n",
    "    try:\n",
    "        current_pos = [pos.position for pos in ib.positions() if pos.contract.conId == conID][0]\n",
    "    except:\n",
    "        current_pos = 0\n",
    "         \n",
    "    # 2. identify required trades\n",
    "    trades = target - current_pos\n",
    "        \n",
    "    # 3. trade execution\n",
    "    if trades > 0:\n",
    "        side = \"BUY\"\n",
    "        order = MarketOrder(side, abs(trades))\n",
    "        trade = ib.placeOrder(cfd, order)  \n",
    "    elif trades < 0:\n",
    "        side = \"SELL\"\n",
    "        order = MarketOrder(side, abs(trades))\n",
    "        trade = ib.placeOrder(cfd, order)\n",
    "    else:\n",
    "        pass"
   ]
  },
  {
   "cell_type": "code",
   "execution_count": null,
   "id": "5285dd5e",
   "metadata": {},
   "outputs": [],
   "source": [
    "bars = ib.reqHistoricalData(\n",
    "        contract,\n",
    "        endDateTime='',\n",
    "        durationStr='1 D', # must be sufficiently long!!! (200 * 1 min)\n",
    "        barSizeSetting=freq,\n",
    "        whatToShow='MIDPOINT',\n",
    "        useRTH=True,\n",
    "        formatDate=2,\n",
    "        keepUpToDate=True)\n",
    "last_bar = bars[-1].date\n",
    "bars.updateEvent += onBarUpdate\n",
    "ib.sleep(240) # new - to be added"
   ]
  },
  {
   "cell_type": "code",
   "execution_count": null,
   "id": "c286d2b2-e047-4e48-819c-9c3a79e1704f",
   "metadata": {},
   "outputs": [],
   "source": [
    "### remember: Trading continues until you cancel!!!"
   ]
  },
  {
   "cell_type": "code",
   "execution_count": null,
   "id": "8c6b2059",
   "metadata": {},
   "outputs": [],
   "source": [
    "ib.cancelHistoricalData(bars)  # cancel trading"
   ]
  },
  {
   "cell_type": "code",
   "execution_count": null,
   "id": "112f01d2",
   "metadata": {},
   "outputs": [],
   "source": [
    "df"
   ]
  },
  {
   "cell_type": "code",
   "execution_count": null,
   "id": "cb0a88d1",
   "metadata": {},
   "outputs": [],
   "source": [
    "ib.disconnect()"
   ]
  },
  {
   "cell_type": "code",
   "execution_count": null,
   "id": "93dcfefe",
   "metadata": {},
   "outputs": [],
   "source": []
  },
  {
   "cell_type": "markdown",
   "id": "a91b9644",
   "metadata": {},
   "source": [
    "## Trade Reporting"
   ]
  },
  {
   "cell_type": "code",
   "execution_count": null,
   "id": "80e0e12b",
   "metadata": {},
   "outputs": [],
   "source": [
    "from ib_async import * \n",
    "import pandas as pd\n",
    "import numpy as np\n",
    "#import datetime as dt\n",
    "from datetime import datetime, timezone # new\n",
    "from IPython.display import display, clear_output\n",
    "util.startLoop()"
   ]
  },
  {
   "cell_type": "code",
   "execution_count": null,
   "id": "d2a0a2c0",
   "metadata": {},
   "outputs": [],
   "source": [
    "ib = IB()\n",
    "ib.connect()"
   ]
  },
  {
   "cell_type": "code",
   "execution_count": null,
   "id": "ee4b2599",
   "metadata": {},
   "outputs": [],
   "source": [
    "ib.fills()"
   ]
  },
  {
   "cell_type": "code",
   "execution_count": null,
   "id": "bb5d1924",
   "metadata": {},
   "outputs": [],
   "source": [
    "util.df([fs.execution for fs in ib.fills()])[[\"execId\", \"time\", \"side\", \"cumQty\", \"avgPrice\"]].set_index(\"execId\")"
   ]
  },
  {
   "cell_type": "code",
   "execution_count": null,
   "id": "3e076ba5",
   "metadata": {},
   "outputs": [],
   "source": [
    "util.df([fs.commissionReport for fs in ib.fills()])[[\"execId\", \"realizedPNL\"]].set_index(\"execId\")"
   ]
  },
  {
   "cell_type": "code",
   "execution_count": null,
   "id": "a4cf5a6e",
   "metadata": {},
   "outputs": [],
   "source": [
    "# strategy parameters\n",
    "sma_s = 2\n",
    "sma_l = 5\n",
    "freq = \"1 min\"\n",
    "units = 1000\n",
    "contract = Forex('EURUSD') \n",
    "ib.qualifyContracts(contract)\n",
    "cfd = CFD(\"EUR\", currency = \"USD\")\n",
    "ib.qualifyContracts(cfd)\n",
    "conID = cfd.conId"
   ]
  },
  {
   "cell_type": "code",
   "execution_count": null,
   "id": "0f800229",
   "metadata": {},
   "outputs": [],
   "source": [
    "def onBarUpdate(bars, hasNewBar):  \n",
    "    global df, last_bar\n",
    "    \n",
    "    if bars[-1].date > last_bar: \n",
    "        last_bar = bars[-1].date\n",
    "    \n",
    "        # Data Processing\n",
    "        df = pd.DataFrame(bars)[[\"date\", \"open\", \"high\", \"low\", \"close\"]].iloc[:-1] \n",
    "        df.set_index(\"date\", inplace = True)\n",
    "        \n",
    "        ####################### Trading Strategy ###########################\n",
    "        df = df[[\"close\"]].copy()\n",
    "        df[\"sma_s\"] = df.close.rolling(sma_s).mean()\n",
    "        df[\"sma_l\"] = df.close.rolling(sma_l).mean()\n",
    "        df.dropna(inplace = True)\n",
    "        df[\"position\"] = np.where(df[\"sma_s\"] > df[\"sma_l\"], 1, -1 )\n",
    "        ####################################################################\n",
    "        \n",
    "        # Trading\n",
    "        target = df[\"position\"][-1] * units\n",
    "        execute_trade(target = target)\n",
    "        \n",
    "        # Display\n",
    "        clear_output(wait=True)\n",
    "        display(df)\n",
    "    else:\n",
    "        try:\n",
    "            trade_reporting()\n",
    "        except:\n",
    "            pass\n",
    "\n",
    "def execute_trade(target):\n",
    "    global current_pos\n",
    "    \n",
    "    # 1. get current Position\n",
    "    try:\n",
    "        current_pos = [pos.position for pos in ib.positions() if pos.contract.conId == conID][0]\n",
    "    except:\n",
    "        current_pos = 0\n",
    "         \n",
    "    # 2. identify required trades\n",
    "    trades = target - current_pos\n",
    "        \n",
    "    # 3. trade execution\n",
    "    if trades > 0:\n",
    "        side = \"BUY\"\n",
    "        order = MarketOrder(side, abs(trades))\n",
    "        trade = ib.placeOrder(cfd, order)  \n",
    "    elif trades < 0:\n",
    "        side = \"SELL\"\n",
    "        order = MarketOrder(side, abs(trades))\n",
    "        trade = ib.placeOrder(cfd, order)\n",
    "    else:\n",
    "        pass\n",
    "\n",
    "def trade_reporting():\n",
    "    global report\n",
    "    \n",
    "    fill_df = util.df([fs.execution for fs in ib.fills()])[[\"execId\", \"time\", \"side\", \"cumQty\", \"avgPrice\"]].set_index(\"execId\")\n",
    "    profit_df = util.df([fs.commissionReport for fs in ib.fills()])[[\"execId\", \"realizedPNL\"]].set_index(\"execId\")\n",
    "    report = pd.concat([fill_df, profit_df], axis = 1).set_index(\"time\").loc[session_start:]\n",
    "    report = report.groupby(\"time\").agg({\"side\":\"first\", \"cumQty\":\"max\", \"avgPrice\":\"mean\", \"realizedPNL\":\"sum\"})\n",
    "    report[\"cumPNL\"] = report.realizedPNL.cumsum()\n",
    "        \n",
    "    clear_output(wait=True)\n",
    "    display(df, report)"
   ]
  },
  {
   "cell_type": "code",
   "execution_count": null,
   "id": "6a624a53",
   "metadata": {},
   "outputs": [],
   "source": [
    "# session_start = pd.to_datetime(dt.datetime.utcnow()).tz_localize(\"utc\") # old\n",
    "session_start = pd.to_datetime(datetime.now(timezone.utc))# new \n",
    "bars = ib.reqHistoricalData(\n",
    "        contract,\n",
    "        endDateTime='',\n",
    "        durationStr='1 D',\n",
    "        barSizeSetting=freq,\n",
    "        whatToShow='MIDPOINT',\n",
    "        useRTH=True,\n",
    "        formatDate=2,\n",
    "        keepUpToDate=True)\n",
    "last_bar = bars[-1].date\n",
    "bars.updateEvent += onBarUpdate\n",
    "ib.sleep(120) # new - to be added"
   ]
  },
  {
   "cell_type": "code",
   "execution_count": null,
   "id": "d04b0c7e-2d86-4cab-8b65-ef9ca91994e7",
   "metadata": {},
   "outputs": [],
   "source": [
    "df # still getting updated until you cancel. Trading continues until you cancel!!!"
   ]
  },
  {
   "cell_type": "code",
   "execution_count": null,
   "id": "06b9c926-24e7-4d54-8e4a-568a0493e71d",
   "metadata": {},
   "outputs": [],
   "source": [
    "report # still getting updated until you cancel. Trading continues until you cancel!!!"
   ]
  },
  {
   "cell_type": "code",
   "execution_count": null,
   "id": "317e0639",
   "metadata": {},
   "outputs": [],
   "source": [
    "ib.cancelHistoricalData(bars) # cancel trading"
   ]
  },
  {
   "cell_type": "code",
   "execution_count": null,
   "id": "c7641a58",
   "metadata": {},
   "outputs": [],
   "source": [
    "ib.disconnect()"
   ]
  },
  {
   "cell_type": "code",
   "execution_count": null,
   "id": "881020a9",
   "metadata": {},
   "outputs": [],
   "source": []
  },
  {
   "cell_type": "markdown",
   "id": "279ce160",
   "metadata": {},
   "source": [
    "## Stop the Trading Session"
   ]
  },
  {
   "cell_type": "markdown",
   "id": "608c22a7",
   "metadata": {},
   "source": [
    "Potential Triggers:\n",
    "- stop at a certain time (e.g. 21:59 UTC time)\n",
    "- stop once a certain profit/loss limit has been reached\n",
    "- etc."
   ]
  },
  {
   "cell_type": "markdown",
   "id": "834a81fb",
   "metadata": {},
   "source": [
    "Required Actions:\n",
    "- Stop Stream/Session\n",
    "- Close Open Position (go neutral)"
   ]
  },
  {
   "cell_type": "code",
   "execution_count": null,
   "id": "797e866a",
   "metadata": {},
   "outputs": [],
   "source": [
    "from ib_async import * \n",
    "import pandas as pd\n",
    "import numpy as np\n",
    "import datetime as dt\n",
    "from datetime import datetime, timezone # new\n",
    "from IPython.display import display, clear_output\n",
    "util.startLoop()"
   ]
  },
  {
   "cell_type": "code",
   "execution_count": null,
   "id": "f7d265a7",
   "metadata": {},
   "outputs": [],
   "source": [
    "ib = IB()\n",
    "ib.connect()"
   ]
  },
  {
   "cell_type": "code",
   "execution_count": null,
   "id": "2865a698",
   "metadata": {},
   "outputs": [],
   "source": [
    "# strategy parameters\n",
    "sma_s = 2\n",
    "sma_l = 5\n",
    "freq = \"1 min\"\n",
    "units = 1000\n",
    "end_time = dt.time(11, 5, 0) # stop condition\n",
    "contract = Forex('EURUSD') \n",
    "ib.qualifyContracts(contract)\n",
    "cfd = CFD(\"EUR\", currency = \"USD\")\n",
    "ib.qualifyContracts(cfd)\n",
    "conID = cfd.conId"
   ]
  },
  {
   "cell_type": "code",
   "execution_count": null,
   "id": "747e2f6f",
   "metadata": {},
   "outputs": [],
   "source": [
    "# dt.datetime.utcnow().time() #old"
   ]
  },
  {
   "cell_type": "code",
   "execution_count": null,
   "id": "dedb80e6-0405-4b76-b0ab-c3e846870dc8",
   "metadata": {},
   "outputs": [],
   "source": [
    "datetime.now(timezone.utc).time() # new"
   ]
  },
  {
   "cell_type": "code",
   "execution_count": null,
   "id": "0d99d25d",
   "metadata": {},
   "outputs": [],
   "source": [
    "datetime.now(timezone.utc).time() >= end_time # new"
   ]
  },
  {
   "cell_type": "code",
   "execution_count": null,
   "id": "2c18795b",
   "metadata": {},
   "outputs": [],
   "source": [
    "def onBarUpdate(bars, hasNewBar):  \n",
    "    global df, last_bar\n",
    "    \n",
    "    if bars[-1].date > last_bar: \n",
    "        last_bar = bars[-1].date\n",
    "    \n",
    "        # Data Processing\n",
    "        df = pd.DataFrame(bars)[[\"date\", \"open\", \"high\", \"low\", \"close\"]].iloc[:-1] \n",
    "        df.set_index(\"date\", inplace = True)\n",
    "        \n",
    "        ####################### Trading Strategy ###########################\n",
    "        df = df[[\"close\"]].copy()\n",
    "        df[\"sma_s\"] = df.close.rolling(sma_s).mean()\n",
    "        df[\"sma_l\"] = df.close.rolling(sma_l).mean()\n",
    "        df.dropna(inplace = True)\n",
    "        df[\"position\"] = np.where(df[\"sma_s\"] > df[\"sma_l\"], 1, -1 )\n",
    "        ####################################################################\n",
    "        \n",
    "        # Trading\n",
    "        target = df[\"position\"][-1] * units\n",
    "        execute_trade(target = target)\n",
    "        \n",
    "        # Display\n",
    "        clear_output(wait=True)\n",
    "        display(df)\n",
    "    else:\n",
    "        try:\n",
    "            trade_reporting()\n",
    "        except:\n",
    "            pass\n",
    "\n",
    "def execute_trade(target):\n",
    "    global current_pos\n",
    "    \n",
    "    # 1. get current Position\n",
    "    try:\n",
    "        current_pos = [pos.position for pos in ib.positions() if pos.contract.conId == conID][0]\n",
    "    except:\n",
    "        current_pos = 0\n",
    "         \n",
    "    # 2. identify required trades\n",
    "    trades = target - current_pos\n",
    "        \n",
    "    # 3. trade execution\n",
    "    if trades > 0:\n",
    "        side = \"BUY\"\n",
    "        order = MarketOrder(side, abs(trades))\n",
    "        trade = ib.placeOrder(cfd, order)  \n",
    "    elif trades < 0:\n",
    "        side = \"SELL\"\n",
    "        order = MarketOrder(side, abs(trades))\n",
    "        trade = ib.placeOrder(cfd, order)\n",
    "    else:\n",
    "        pass\n",
    "\n",
    "def trade_reporting():\n",
    "    global report\n",
    "    \n",
    "    fill_df = util.df([fs.execution for fs in ib.fills()])[[\"execId\", \"time\", \"side\", \"cumQty\", \"avgPrice\"]].set_index(\"execId\")\n",
    "    profit_df = util.df([fs.commissionReport for fs in ib.fills()])[[\"execId\", \"realizedPNL\"]].set_index(\"execId\")\n",
    "    report = pd.concat([fill_df, profit_df], axis = 1).set_index(\"time\").loc[session_start:]\n",
    "    report = report.groupby(\"time\").agg({\"side\":\"first\", \"cumQty\":\"max\", \"avgPrice\":\"mean\", \"realizedPNL\":\"sum\"})\n",
    "    report[\"cumPNL\"] = report.realizedPNL.cumsum()\n",
    "        \n",
    "    clear_output(wait=True)\n",
    "    display(df, report)\n",
    "  "
   ]
  },
  {
   "cell_type": "code",
   "execution_count": null,
   "id": "d7e6a365",
   "metadata": {},
   "outputs": [],
   "source": [
    "# start trading session\n",
    "session_start = pd.to_datetime(datetime.now(timezone.utc))# new\n",
    "bars = ib.reqHistoricalData(\n",
    "        contract,\n",
    "        endDateTime='',\n",
    "        durationStr='1 D',\n",
    "        barSizeSetting=freq,\n",
    "        whatToShow='MIDPOINT',\n",
    "        useRTH=True,\n",
    "        formatDate=2,\n",
    "        keepUpToDate=True)\n",
    "last_bar = bars[-1].date\n",
    "bars.updateEvent += onBarUpdate\n",
    "ib.sleep(30) # new - to be added (optional)\n",
    "\n",
    "# stop trading session\n",
    "while True:\n",
    "    ib.sleep(5) # check every 5 seconds\n",
    "    if datetime.now(timezone.utc).time() >= end_time: # if stop conditions has been met\n",
    "        execute_trade(target = 0) # close open position \n",
    "        ib.cancelHistoricalData(bars) # stop stream\n",
    "        ib.sleep(10)\n",
    "        try:\n",
    "            trade_reporting() # final reporting\n",
    "        except:\n",
    "            pass\n",
    "        print(\"Session Stopped.\")\n",
    "        ib.disconnect()\n",
    "        break\n",
    "    else:\n",
    "        pass"
   ]
  },
  {
   "cell_type": "code",
   "execution_count": null,
   "id": "f4f56c95",
   "metadata": {},
   "outputs": [],
   "source": []
  },
  {
   "cell_type": "markdown",
   "id": "16a02a34",
   "metadata": {},
   "source": [
    "## Trading other Strategies - Coding Challenge"
   ]
  },
  {
   "cell_type": "code",
   "execution_count": null,
   "id": "ece36f56",
   "metadata": {},
   "outputs": [],
   "source": [
    "from ib_async import * \n",
    "import pandas as pd\n",
    "import numpy as np\n",
    "import datetime as dt\n",
    "from datetime import datetime, timezone # new\n",
    "from IPython.display import display, clear_output\n",
    "util.startLoop()"
   ]
  },
  {
   "cell_type": "code",
   "execution_count": null,
   "id": "d67af75f",
   "metadata": {},
   "outputs": [],
   "source": [
    "ib = IB()\n",
    "ib.connect()"
   ]
  },
  {
   "cell_type": "markdown",
   "id": "67b877d5",
   "metadata": {},
   "source": [
    "__Strategy 1__: Simple Contrarian Strategy (1min / window = 1)"
   ]
  },
  {
   "cell_type": "code",
   "execution_count": null,
   "id": "e1402c00",
   "metadata": {},
   "outputs": [],
   "source": []
  },
  {
   "cell_type": "markdown",
   "id": "baa4a4a9",
   "metadata": {},
   "source": [
    "## Stop here if you don´t want to see the solution!"
   ]
  },
  {
   "cell_type": "markdown",
   "id": "74f8c4f9",
   "metadata": {},
   "source": [
    "###############################################################"
   ]
  },
  {
   "cell_type": "code",
   "execution_count": null,
   "id": "0124bd81",
   "metadata": {},
   "outputs": [],
   "source": []
  },
  {
   "cell_type": "code",
   "execution_count": null,
   "id": "890541cc",
   "metadata": {},
   "outputs": [],
   "source": [
    "# strategy parameters\n",
    "freq = \"1 min\"\n",
    "window = 1\n",
    "units = 1000\n",
    "end_time = dt.time(21, 59, 0) # stop condition\n",
    "contract = Forex('EURUSD') \n",
    "ib.qualifyContracts(contract)\n",
    "cfd = CFD(\"EUR\", currency = \"USD\")\n",
    "ib.qualifyContracts(cfd)\n",
    "conID = cfd.conId"
   ]
  },
  {
   "cell_type": "code",
   "execution_count": null,
   "id": "b1ef525b",
   "metadata": {},
   "outputs": [],
   "source": [
    "def onBarUpdate(bars, hasNewBar):  \n",
    "    global df, last_bar\n",
    "    \n",
    "    if bars[-1].date > last_bar: \n",
    "        last_bar = bars[-1].date\n",
    "    \n",
    "        # Data Processing\n",
    "        df = pd.DataFrame(bars)[[\"date\", \"open\", \"high\", \"low\", \"close\"]].iloc[:-1] \n",
    "        df.set_index(\"date\", inplace = True)\n",
    "        \n",
    "        ####################### Trading Strategy ###########################\n",
    "        df = df[[\"close\"]].copy()\n",
    "        df[\"returns\"] = np.log(df[\"close\"] / df[\"close\"].shift())\n",
    "        df[\"position\"] = -np.sign(df.returns.rolling(window).mean())\n",
    "        ####################################################################\n",
    "        \n",
    "        # Trading\n",
    "        target = df[\"position\"][-1] * units\n",
    "        execute_trade(target = target)\n",
    "        \n",
    "        # Display\n",
    "        clear_output(wait=True)\n",
    "        display(df)\n",
    "    else:\n",
    "        try:\n",
    "            trade_reporting()\n",
    "        except:\n",
    "            pass\n",
    "\n",
    "def execute_trade(target):\n",
    "    global current_pos\n",
    "    \n",
    "    # 1. get current Position\n",
    "    try:\n",
    "        current_pos = [pos.position for pos in ib.positions() if pos.contract.conId == conID][0]\n",
    "    except:\n",
    "        current_pos = 0\n",
    "         \n",
    "    # 2. identify required trades\n",
    "    trades = target - current_pos\n",
    "        \n",
    "    # 3. trade execution\n",
    "    if trades > 0:\n",
    "        side = \"BUY\"\n",
    "        order = MarketOrder(side, abs(trades))\n",
    "        trade = ib.placeOrder(cfd, order)  \n",
    "    elif trades < 0:\n",
    "        side = \"SELL\"\n",
    "        order = MarketOrder(side, abs(trades))\n",
    "        trade = ib.placeOrder(cfd, order)\n",
    "    else:\n",
    "        pass\n",
    "\n",
    "def trade_reporting():\n",
    "    global report\n",
    "    \n",
    "    fill_df = util.df([fs.execution for fs in ib.fills()])[[\"execId\", \"time\", \"side\", \"cumQty\", \"avgPrice\"]].set_index(\"execId\")\n",
    "    profit_df = util.df([fs.commissionReport for fs in ib.fills()])[[\"execId\", \"realizedPNL\"]].set_index(\"execId\")\n",
    "    report = pd.concat([fill_df, profit_df], axis = 1).set_index(\"time\").loc[session_start:]\n",
    "    report = report.groupby(\"time\").agg({\"side\":\"first\", \"cumQty\":\"max\", \"avgPrice\":\"mean\", \"realizedPNL\":\"sum\"})\n",
    "    report[\"cumPNL\"] = report.realizedPNL.cumsum()\n",
    "        \n",
    "    clear_output(wait=True)\n",
    "    display(df, report)\n",
    "  "
   ]
  },
  {
   "cell_type": "code",
   "execution_count": null,
   "id": "dcab5fe7",
   "metadata": {},
   "outputs": [],
   "source": [
    "# start trading session\n",
    "session_start = pd.to_datetime(datetime.now(timezone.utc))# new\n",
    "bars = ib.reqHistoricalData(\n",
    "        contract,\n",
    "        endDateTime='',\n",
    "        durationStr='1 D',\n",
    "        barSizeSetting=freq,\n",
    "        whatToShow='MIDPOINT',\n",
    "        useRTH=True,\n",
    "        formatDate=2,\n",
    "        keepUpToDate=True)\n",
    "last_bar = bars[-1].date\n",
    "bars.updateEvent += onBarUpdate\n",
    "ib.sleep(30) # new - to be added (optional)\n",
    "\n",
    "# stop trading session\n",
    "while True:\n",
    "    ib.sleep(5) # check every 5 seconds\n",
    "    if datetime.now(timezone.utc).time() >= end_time: # if stop conditions has been met\n",
    "        execute_trade(target = 0) # close open position \n",
    "        ib.cancelHistoricalData(bars) # stop stream\n",
    "        ib.sleep(10)\n",
    "        try:\n",
    "            trade_reporting() # final reporting\n",
    "        except:\n",
    "            pass\n",
    "        print(\"Session Stopped.\")\n",
    "        ib.disconnect()\n",
    "        break\n",
    "    else:\n",
    "        pass"
   ]
  },
  {
   "cell_type": "code",
   "execution_count": null,
   "id": "fb62b3e4",
   "metadata": {},
   "outputs": [],
   "source": []
  },
  {
   "cell_type": "markdown",
   "id": "de5186e0",
   "metadata": {},
   "source": [
    "__Strategy 2__: Bollinger Bands SMA 20 (minutes) / 1 Standard Deviation"
   ]
  },
  {
   "cell_type": "code",
   "execution_count": null,
   "id": "9ac16e97",
   "metadata": {},
   "outputs": [],
   "source": []
  },
  {
   "cell_type": "markdown",
   "id": "df06cc64",
   "metadata": {},
   "source": [
    "## Stop here if you don´t want to see the solution!"
   ]
  },
  {
   "cell_type": "markdown",
   "id": "e0ea3b5f",
   "metadata": {},
   "source": [
    "###############################################################"
   ]
  },
  {
   "cell_type": "code",
   "execution_count": null,
   "id": "d402f250",
   "metadata": {},
   "outputs": [],
   "source": []
  },
  {
   "cell_type": "code",
   "execution_count": null,
   "id": "0c6f0b00",
   "metadata": {},
   "outputs": [],
   "source": [
    "from ib_async import * \n",
    "import pandas as pd\n",
    "import numpy as np\n",
    "import datetime as dt\n",
    "from datetime import datetime, timezone # new\n",
    "from IPython.display import display, clear_output\n",
    "util.startLoop()"
   ]
  },
  {
   "cell_type": "code",
   "execution_count": null,
   "id": "0eacaab3",
   "metadata": {},
   "outputs": [],
   "source": [
    "ib = IB()\n",
    "ib.connect()"
   ]
  },
  {
   "cell_type": "code",
   "execution_count": null,
   "id": "3f3ce757",
   "metadata": {},
   "outputs": [],
   "source": [
    "# strategy parameters\n",
    "freq = \"1 min\"\n",
    "sma = 20\n",
    "dev = 1\n",
    "units = 1000\n",
    "end_time = dt.time(21, 59, 0) # stop condition\n",
    "contract = Forex('EURUSD') \n",
    "ib.qualifyContracts(contract)\n",
    "cfd = CFD(\"EUR\", currency = \"USD\")\n",
    "ib.qualifyContracts(cfd)\n",
    "conID = cfd.conId"
   ]
  },
  {
   "cell_type": "code",
   "execution_count": null,
   "id": "ce0ffcf6",
   "metadata": {},
   "outputs": [],
   "source": [
    "def onBarUpdate(bars, hasNewBar):  \n",
    "    global df, last_bar\n",
    "    \n",
    "    if bars[-1].date > last_bar: \n",
    "        last_bar = bars[-1].date\n",
    "    \n",
    "        # Data Processing\n",
    "        df = pd.DataFrame(bars)[[\"date\", \"open\", \"high\", \"low\", \"close\"]].iloc[:-1] \n",
    "        df.set_index(\"date\", inplace = True)\n",
    "        \n",
    "        ####################### Trading Strategy ###########################\n",
    "        df = df[[\"close\"]].copy()\n",
    "        df[\"SMA\"] = df[\"close\"].rolling(sma).mean()\n",
    "        df[\"Lower\"] = df[\"SMA\"] - df[\"close\"].rolling(sma).std() * dev\n",
    "        df[\"Upper\"] = df[\"SMA\"] + df[\"close\"].rolling(sma).std() * dev\n",
    "        df[\"distance\"] = df[\"close\"] - df.SMA\n",
    "        df[\"position\"] = np.where(df[\"close\"] < df.Lower, 1, np.nan)\n",
    "        df[\"position\"] = np.where(df[\"close\"] > df.Upper, -1, df[\"position\"])\n",
    "        df[\"position\"] = np.where(df.distance * df.distance.shift(1) < 0, 0, df[\"position\"])\n",
    "        df[\"position\"] = df.position.ffill().fillna(0)\n",
    "        ####################################################################\n",
    "        \n",
    "        # Trading\n",
    "        target = df[\"position\"][-1] * units\n",
    "        execute_trade(target = target)\n",
    "        \n",
    "        # Display\n",
    "        clear_output(wait=True)\n",
    "        display(df)\n",
    "    else:\n",
    "        try:\n",
    "            trade_reporting()\n",
    "        except:\n",
    "            pass\n",
    "\n",
    "def execute_trade(target):\n",
    "    global current_pos\n",
    "    \n",
    "    # 1. get current Position\n",
    "    try:\n",
    "        current_pos = [pos.position for pos in ib.positions() if pos.contract.conId == conID][0]\n",
    "    except:\n",
    "        current_pos = 0\n",
    "         \n",
    "    # 2. identify required trades\n",
    "    trades = target - current_pos\n",
    "        \n",
    "    # 3. trade execution\n",
    "    if trades > 0:\n",
    "        side = \"BUY\"\n",
    "        order = MarketOrder(side, abs(trades))\n",
    "        trade = ib.placeOrder(cfd, order)  \n",
    "    elif trades < 0:\n",
    "        side = \"SELL\"\n",
    "        order = MarketOrder(side, abs(trades))\n",
    "        trade = ib.placeOrder(cfd, order)\n",
    "    else:\n",
    "        pass\n",
    "\n",
    "def trade_reporting():\n",
    "    global report\n",
    "    \n",
    "    fill_df = util.df([fs.execution for fs in ib.fills()])[[\"execId\", \"time\", \"side\", \"cumQty\", \"avgPrice\"]].set_index(\"execId\")\n",
    "    profit_df = util.df([fs.commissionReport for fs in ib.fills()])[[\"execId\", \"realizedPNL\"]].set_index(\"execId\")\n",
    "    report = pd.concat([fill_df, profit_df], axis = 1).set_index(\"time\").loc[session_start:]\n",
    "    report = report.groupby(\"time\").agg({\"side\":\"first\", \"cumQty\":\"max\", \"avgPrice\":\"mean\", \"realizedPNL\":\"sum\"})\n",
    "    report[\"cumPNL\"] = report.realizedPNL.cumsum()\n",
    "        \n",
    "    clear_output(wait=True)\n",
    "    display(df, report)\n",
    "  "
   ]
  },
  {
   "cell_type": "code",
   "execution_count": null,
   "id": "38b2681f",
   "metadata": {},
   "outputs": [],
   "source": [
    "# start trading session\n",
    "session_start = pd.to_datetime(datetime.now(timezone.utc))# new\n",
    "bars = ib.reqHistoricalData(\n",
    "        contract,\n",
    "        endDateTime='',\n",
    "        durationStr='1 D',\n",
    "        barSizeSetting=freq,\n",
    "        whatToShow='MIDPOINT',\n",
    "        useRTH=True,\n",
    "        formatDate=2,\n",
    "        keepUpToDate=True)\n",
    "last_bar = bars[-1].date\n",
    "bars.updateEvent += onBarUpdate\n",
    "ib.sleep(30) # new - to be added (optional)\n",
    "\n",
    "# stop trading session\n",
    "while True:\n",
    "    ib.sleep(5) # check every 5 seconds\n",
    "    if datetime.now(timezone.utc).time() >= end_time: # if stop conditions has been met\n",
    "        execute_trade(target = 0) # close open position \n",
    "        ib.cancelHistoricalData(bars) # stop stream\n",
    "        ib.sleep(10)\n",
    "        try:\n",
    "            trade_reporting() # final reporting\n",
    "        except:\n",
    "            pass\n",
    "        print(\"Session Stopped.\")\n",
    "        ib.disconnect()\n",
    "        break\n",
    "    else:\n",
    "        pass"
   ]
  },
  {
   "cell_type": "code",
   "execution_count": null,
   "id": "d77142c1-6994-42b4-95ca-eb17c474aa51",
   "metadata": {},
   "outputs": [],
   "source": []
  },
  {
   "cell_type": "markdown",
   "id": "b872e566-624f-4b14-acc7-c3b175943234",
   "metadata": {},
   "source": [
    "## Machine Learning Strategies (1) - Model Fitting"
   ]
  },
  {
   "cell_type": "code",
   "execution_count": null,
   "id": "84e97678",
   "metadata": {},
   "outputs": [],
   "source": [
    "import pandas as pd\n",
    "import numpy as np\n",
    "from sklearn.linear_model import LogisticRegression\n",
    "from sklearn.multiclass import OneVsRestClassifier # added (from sklearn v. 1.7)"
   ]
  },
  {
   "cell_type": "code",
   "execution_count": null,
   "id": "4293eb3d-21ef-475d-883a-a79c39ed0b8a",
   "metadata": {},
   "outputs": [],
   "source": [
    "data = pd.read_csv(\"five_minute.csv\", parse_dates = [\"time\"], index_col = \"time\")\n",
    "data"
   ]
  },
  {
   "cell_type": "code",
   "execution_count": null,
   "id": "569c6d07-100a-4da1-87c4-e3fab1d6218e",
   "metadata": {},
   "outputs": [],
   "source": [
    "data[\"returns\"] = np.log(data.div(data.shift(1)))"
   ]
  },
  {
   "cell_type": "code",
   "execution_count": null,
   "id": "d5578b9d-0331-43ff-9f30-dc41327441a9",
   "metadata": {},
   "outputs": [],
   "source": [
    "data.dropna(inplace = True)"
   ]
  },
  {
   "cell_type": "code",
   "execution_count": null,
   "id": "7622313e-bc82-422c-9099-63d07faeaea6",
   "metadata": {},
   "outputs": [],
   "source": [
    "data[\"direction\"] = np.sign(data.returns)\n",
    "data"
   ]
  },
  {
   "cell_type": "code",
   "execution_count": null,
   "id": "bf46809d-8a02-4c57-a51b-bbcb466afa21",
   "metadata": {},
   "outputs": [],
   "source": [
    "lags = 2"
   ]
  },
  {
   "cell_type": "code",
   "execution_count": null,
   "id": "8c542836-7d43-44f4-bd40-0f7b033a9e68",
   "metadata": {},
   "outputs": [],
   "source": [
    "cols = []\n",
    "for lag in range(1, lags + 1):\n",
    "    col = \"lag{}\".format(lag)\n",
    "    data[col] = data.returns.shift(lag)\n",
    "    cols.append(col)\n",
    "data.dropna(inplace = True)"
   ]
  },
  {
   "cell_type": "markdown",
   "id": "92250ea7-0c54-4034-8c29-9a91c09e7efe",
   "metadata": {},
   "source": [
    "++++++++++++++++++++++++++++"
   ]
  },
  {
   "cell_type": "markdown",
   "id": "2bba69d1-3897-4b1e-96dd-53093e2ab2d8",
   "metadata": {},
   "source": [
    "__Scaling/Standardizing Features (new)__"
   ]
  },
  {
   "cell_type": "code",
   "execution_count": null,
   "id": "b448aba0-685e-4cb8-98a2-116214d7863d",
   "metadata": {},
   "outputs": [],
   "source": [
    "means = data[cols].mean()\n",
    "means"
   ]
  },
  {
   "cell_type": "code",
   "execution_count": null,
   "id": "dac67053-3fe0-4869-bac9-b7a654bbe549",
   "metadata": {},
   "outputs": [],
   "source": [
    "stand_devs = data[cols].std()\n",
    "stand_devs"
   ]
  },
  {
   "cell_type": "code",
   "execution_count": null,
   "id": "afb48190-462e-4318-9245-ea668847da89",
   "metadata": {},
   "outputs": [],
   "source": [
    "data[cols] = (data[cols]-means) / stand_devs\n",
    "data"
   ]
  },
  {
   "cell_type": "markdown",
   "id": "53b8eb7a-f320-4e7c-8eb3-fb6d5daecf9a",
   "metadata": {},
   "source": [
    "+++++++++++++++++++++++++++"
   ]
  },
  {
   "cell_type": "code",
   "execution_count": null,
   "id": "abf2ff66-c6b7-4cf0-b558-22eeebe5c862",
   "metadata": {},
   "outputs": [],
   "source": [
    "lm = OneVsRestClassifier(LogisticRegression(C = 1e6, max_iter = 100000)) # new (from sklearn v. 1.7)"
   ]
  },
  {
   "cell_type": "code",
   "execution_count": null,
   "id": "bd9c14fd-5237-41ff-b72c-51f66bd9a2ee",
   "metadata": {},
   "outputs": [],
   "source": [
    "lm.fit(data[cols], data.direction)\n",
    "lm"
   ]
  },
  {
   "cell_type": "markdown",
   "id": "ddcde778-f18c-41bb-a98b-28569a5d48b9",
   "metadata": {},
   "source": [
    "__In-Sample \"Prediction\"__"
   ]
  },
  {
   "cell_type": "code",
   "execution_count": null,
   "id": "c9341ad1-897c-450c-9e93-44742a999fa2",
   "metadata": {},
   "outputs": [],
   "source": [
    "data[\"pred\"] = lm.predict(data[cols])\n",
    "data"
   ]
  },
  {
   "cell_type": "code",
   "execution_count": null,
   "id": "332b53c3-6983-4315-be76-d7f44d9d4645",
   "metadata": {},
   "outputs": [],
   "source": [
    "hits = np.sign(data.direction * data.pred).value_counts()\n",
    "hits"
   ]
  },
  {
   "cell_type": "code",
   "execution_count": null,
   "id": "52a58401-e2b1-43eb-b015-6265c566194e",
   "metadata": {},
   "outputs": [],
   "source": [
    "hit_ratio = hits[1.0] / sum(hits)\n",
    "hit_ratio"
   ]
  },
  {
   "cell_type": "markdown",
   "id": "d430ce35-f70b-4a19-b274-c487fedc09f6",
   "metadata": {},
   "source": [
    "__Saving the model__"
   ]
  },
  {
   "cell_type": "code",
   "execution_count": null,
   "id": "54af1fc1-b8eb-484e-9b7c-1e545b3aee86",
   "metadata": {},
   "outputs": [],
   "source": [
    "lm"
   ]
  },
  {
   "cell_type": "code",
   "execution_count": null,
   "id": "7108cbce-5b1d-48a0-a99d-811f8236b93f",
   "metadata": {},
   "outputs": [],
   "source": [
    "import pickle"
   ]
  },
  {
   "cell_type": "code",
   "execution_count": null,
   "id": "2c04d86f-13f9-4a0e-aa01-599be9a87555",
   "metadata": {},
   "outputs": [],
   "source": [
    "pickle.dump(lm, open(\"logreg.pkl\", \"wb\"))"
   ]
  },
  {
   "cell_type": "markdown",
   "id": "73679029-c6e5-4e41-8165-9dc9ca5740ff",
   "metadata": {},
   "source": [
    "__Saving the parameters (mean, std)__ NEW"
   ]
  },
  {
   "cell_type": "code",
   "execution_count": null,
   "id": "cb217838-3035-4711-a93b-60adb844ca1b",
   "metadata": {},
   "outputs": [],
   "source": [
    "params = {\"mu\":means, \"std\":stand_devs}\n",
    "params"
   ]
  },
  {
   "cell_type": "code",
   "execution_count": null,
   "id": "0ecd58ff-c1a0-4037-a2f3-d4f824822a27",
   "metadata": {},
   "outputs": [],
   "source": [
    "pickle.dump(params, open(\"params.pkl\", \"wb\"))"
   ]
  },
  {
   "cell_type": "code",
   "execution_count": null,
   "id": "363b4335-5434-496f-8662-c436b5440395",
   "metadata": {},
   "outputs": [],
   "source": []
  },
  {
   "cell_type": "markdown",
   "id": "36dd6529-e803-4d89-8136-4f88c4bfe36b",
   "metadata": {},
   "source": [
    "## Machine Learning Strategies (2) - Implementation"
   ]
  },
  {
   "cell_type": "code",
   "execution_count": null,
   "id": "c939b429-3c5d-471a-b3be-50f5b11bee59",
   "metadata": {},
   "outputs": [],
   "source": [
    "from ib_async import * \n",
    "import pandas as pd\n",
    "import numpy as np\n",
    "from sklearn.linear_model import LogisticRegression\n",
    "from sklearn.multiclass import OneVsRestClassifier\n",
    "import pickle\n",
    "import datetime as dt\n",
    "from datetime import datetime, timezone # new\n",
    "from IPython.display import display, clear_output\n",
    "util.startLoop()"
   ]
  },
  {
   "cell_type": "code",
   "execution_count": null,
   "id": "7608be7c-977d-4a13-ae38-745dc6013163",
   "metadata": {},
   "outputs": [],
   "source": [
    "ib = IB()\n",
    "ib.connect()"
   ]
  },
  {
   "cell_type": "code",
   "execution_count": null,
   "id": "0e8378ef-c292-4c81-b3d7-4165088a8c7a",
   "metadata": {},
   "outputs": [],
   "source": [
    "# strategy parameters\n",
    "freq = \"5 mins\"\n",
    "lm = pickle.load(open(\"logreg.pkl\", \"rb\"))\n",
    "lags = 2\n",
    "params = pickle.load(open(\"params.pkl\", \"rb\"))\n",
    "means = params[\"mu\"]\n",
    "stand_devs = params[\"std\"]\n",
    "units = 1000\n",
    "end_time = dt.time(21, 59, 0) # stop condition\n",
    "contract = Forex('EURUSD') \n",
    "ib.qualifyContracts(contract)\n",
    "cfd = CFD(\"EUR\", currency = \"USD\")\n",
    "ib.qualifyContracts(cfd)\n",
    "conID = cfd.conId"
   ]
  },
  {
   "cell_type": "code",
   "execution_count": null,
   "id": "8fd43921-e877-4962-bd55-8434ca22b15c",
   "metadata": {},
   "outputs": [],
   "source": [
    "lm"
   ]
  },
  {
   "cell_type": "code",
   "execution_count": null,
   "id": "eb4256ff-e5ac-4ee3-a334-21b20b91759d",
   "metadata": {},
   "outputs": [],
   "source": [
    "def onBarUpdate(bars, hasNewBar):  \n",
    "    global df, last_bar\n",
    "    \n",
    "    if bars[-1].date > last_bar: \n",
    "        last_bar = bars[-1].date\n",
    "    \n",
    "        # Data Processing\n",
    "        df = pd.DataFrame(bars)[[\"date\", \"open\", \"high\", \"low\", \"close\"]]#.iloc[:-1] keep latest incomplete bar\n",
    "        df.set_index(\"date\", inplace = True)\n",
    "        \n",
    "        ####################### Trading Strategy ###########################\n",
    "        df = df[[\"close\"]].copy()\n",
    "        df[\"returns\"] = np.log(df[\"close\"] / df[\"close\"].shift())\n",
    "\n",
    "        cols = []\n",
    "        for lag in range(1, lags + 1):\n",
    "            col = \"lag{}\".format(lag)\n",
    "            df[col] = df.returns.shift(lag)\n",
    "            cols.append(col)\n",
    "        df.dropna(inplace = True)\n",
    "        df[cols] = (df[cols] - means) / stand_devs\n",
    "        \n",
    "        df[\"position\"] = lm.predict(df[cols])\n",
    "        ####################################################################\n",
    "        \n",
    "        # Trading\n",
    "        target = df[\"position\"][-1] * units\n",
    "        execute_trade(target = target)\n",
    "        \n",
    "        # Display\n",
    "        clear_output(wait=True)\n",
    "        display(df)\n",
    "    else:\n",
    "        try:\n",
    "            trade_reporting()\n",
    "        except:\n",
    "            pass\n",
    "\n",
    "def execute_trade(target):\n",
    "    global current_pos\n",
    "    \n",
    "    # 1. get current Position\n",
    "    try:\n",
    "        current_pos = [pos.position for pos in ib.positions() if pos.contract.conId == conID][0]\n",
    "    except:\n",
    "        current_pos = 0\n",
    "         \n",
    "    # 2. identify required trades\n",
    "    trades = target - current_pos\n",
    "        \n",
    "    # 3. trade execution\n",
    "    if trades > 0:\n",
    "        side = \"BUY\"\n",
    "        order = MarketOrder(side, abs(trades))\n",
    "        trade = ib.placeOrder(cfd, order)  \n",
    "    elif trades < 0:\n",
    "        side = \"SELL\"\n",
    "        order = MarketOrder(side, abs(trades))\n",
    "        trade = ib.placeOrder(cfd, order)\n",
    "    else:\n",
    "        pass\n",
    "\n",
    "def trade_reporting():\n",
    "    global report\n",
    "    \n",
    "    fill_df = util.df([fs.execution for fs in ib.fills()])[[\"execId\", \"time\", \"side\", \"cumQty\", \"avgPrice\"]].set_index(\"execId\")\n",
    "    profit_df = util.df([fs.commissionReport for fs in ib.fills()])[[\"execId\", \"realizedPNL\"]].set_index(\"execId\")\n",
    "    report = pd.concat([fill_df, profit_df], axis = 1).set_index(\"time\").loc[session_start:]\n",
    "    report = report.groupby(\"time\").agg({\"side\":\"first\", \"cumQty\":\"max\", \"avgPrice\":\"mean\", \"realizedPNL\":\"sum\"})\n",
    "    report[\"cumPNL\"] = report.realizedPNL.cumsum()\n",
    "        \n",
    "    clear_output(wait=True)\n",
    "    display(df, report)"
   ]
  },
  {
   "cell_type": "code",
   "execution_count": null,
   "id": "901af9b6-58db-43ec-8e29-f9f92eb73632",
   "metadata": {},
   "outputs": [],
   "source": [
    "# start trading session\n",
    "session_start = pd.to_datetime(datetime.now(timezone.utc))# new\n",
    "bars = ib.reqHistoricalData(\n",
    "        contract,\n",
    "        endDateTime='',\n",
    "        durationStr='1 D',\n",
    "        barSizeSetting=freq,\n",
    "        whatToShow='MIDPOINT',\n",
    "        useRTH=True,\n",
    "        formatDate=2,\n",
    "        keepUpToDate=True)\n",
    "last_bar = bars[-1].date\n",
    "bars.updateEvent += onBarUpdate\n",
    "ib.sleep(30) # new - to be added (optional)\n",
    "\n",
    "# stop trading session\n",
    "while True:\n",
    "    ib.sleep(5) # check every 5 seconds\n",
    "    if datetime.now(timezone.utc).time() >= end_time: # if stop conditions has been met\n",
    "        execute_trade(target = 0) # close open position \n",
    "        ib.cancelHistoricalData(bars) # stop stream\n",
    "        ib.sleep(10)\n",
    "        try:\n",
    "            trade_reporting() # final reporting\n",
    "        except:\n",
    "            pass\n",
    "        print(\"Session Stopped.\")\n",
    "        ib.disconnect()\n",
    "        break\n",
    "    else:\n",
    "        pass"
   ]
  },
  {
   "cell_type": "code",
   "execution_count": null,
   "id": "c6704271-19d5-4c5a-beeb-e46bf77e332f",
   "metadata": {},
   "outputs": [],
   "source": []
  }
 ],
 "metadata": {
  "kernelspec": {
   "display_name": "Python 3 (ipykernel)",
   "language": "python",
   "name": "python3"
  },
  "language_info": {
   "codemirror_mode": {
    "name": "ipython",
    "version": 3
   },
   "file_extension": ".py",
   "mimetype": "text/x-python",
   "name": "python",
   "nbconvert_exporter": "python",
   "pygments_lexer": "ipython3",
   "version": "3.12.0"
  }
 },
 "nbformat": 4,
 "nbformat_minor": 5
}
