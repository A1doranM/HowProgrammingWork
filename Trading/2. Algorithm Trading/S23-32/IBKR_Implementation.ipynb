{
 "cells": [
  {
   "metadata": {},
   "cell_type": "markdown",
   "source": "# Real-time Implementation and Automation with IBKR",
   "id": "910fb4bbadd1312e"
  },
  {
   "metadata": {},
   "cell_type": "markdown",
   "source": "--------------------------------------------------------------------------------------------------------------------",
   "id": "a17318bcccdb3981"
  },
  {
   "metadata": {},
   "cell_type": "markdown",
   "source": [
    "_Disclaimer: <br>\n",
    "The following illustrative examples are for general information and educational purposes only. <br>\n",
    "It is neither investment advice nor a recommendation to trade, invest or take whatsoever actions.<br>\n",
    "The below code should only be used in combination with an IBKR Practice/Demo Account and NOT with a Live Trading Account._"
   ],
   "id": "6f156c0b3e92425a"
  },
  {
   "metadata": {},
   "cell_type": "markdown",
   "source": "------------------------------------------------------------------------------------",
   "id": "3df477838c9b769e"
  },
  {
   "metadata": {},
   "cell_type": "markdown",
   "source": "## IBKR API - Recap",
   "id": "33e7183d132b9516"
  },
  {
   "metadata": {},
   "cell_type": "markdown",
   "source": "__Update__: ib_insync has been migrated to __ib_async__. From now on, __please use ib_async:__",
   "id": "bdf18bcea2c4de8f"
  },
  {
   "metadata": {
    "ExecuteTime": {
     "end_time": "2024-12-02T11:40:45.079555Z",
     "start_time": "2024-12-02T11:40:43.146406Z"
    }
   },
   "cell_type": "code",
   "source": "!pip install ib_async --break-system-packages",
   "id": "d1ecd4b2aa1b44bf",
   "outputs": [
    {
     "name": "stdout",
     "output_type": "stream",
     "text": [
      "Defaulting to user installation because normal site-packages is not writeable\r\n",
      "Requirement already satisfied: ib_async in /home/aldoran/.local/lib/python3.12/site-packages (1.0.3)\r\n",
      "Requirement already satisfied: eventkit in /home/aldoran/.local/lib/python3.12/site-packages (from ib_async) (1.0.3)\r\n",
      "Requirement already satisfied: nest_asyncio in /usr/lib/python3/dist-packages (from ib_async) (1.5.4)\r\n",
      "Requirement already satisfied: numpy in /usr/lib/python3/dist-packages (from eventkit->ib_async) (1.26.4)\r\n"
     ]
    }
   ],
   "execution_count": 1
  },
  {
   "metadata": {
    "ExecuteTime": {
     "end_time": "2024-12-02T11:40:45.331571Z",
     "start_time": "2024-12-02T11:40:45.088918Z"
    }
   },
   "cell_type": "code",
   "source": [
    "from ib_async import *\n",
    "util.startLoop() "
   ],
   "id": "22f2f2cac60fab15",
   "outputs": [],
   "execution_count": 2
  },
  {
   "metadata": {
    "ExecuteTime": {
     "end_time": "2024-12-02T11:40:45.542678Z",
     "start_time": "2024-12-02T11:40:45.539037Z"
    }
   },
   "cell_type": "code",
   "source": "ib = IB()",
   "id": "a5b81ec25fbecb75",
   "outputs": [],
   "execution_count": 3
  },
  {
   "metadata": {
    "ExecuteTime": {
     "end_time": "2024-12-02T11:40:46.330123Z",
     "start_time": "2024-12-02T11:40:45.670327Z"
    }
   },
   "cell_type": "code",
   "source": "ib.connect()",
   "id": "93f039f5a3e8c819",
   "outputs": [
    {
     "name": "stderr",
     "output_type": "stream",
     "text": [
      "API connection failed: ConnectionRefusedError(111, \"Connect call failed ('127.0.0.1', 7497)\")\n",
      "Make sure API port on TWS/IBG is open\n"
     ]
    },
    {
     "ename": "ConnectionRefusedError",
     "evalue": "[Errno 111] Connect call failed ('127.0.0.1', 7497)",
     "output_type": "error",
     "traceback": [
      "\u001B[0;31m---------------------------------------------------------------------------\u001B[0m",
      "\u001B[0;31mConnectionRefusedError\u001B[0m                    Traceback (most recent call last)",
      "Cell \u001B[0;32mIn[4], line 1\u001B[0m\n\u001B[0;32m----> 1\u001B[0m \u001B[43mib\u001B[49m\u001B[38;5;241;43m.\u001B[39;49m\u001B[43mconnect\u001B[49m\u001B[43m(\u001B[49m\u001B[43m)\u001B[49m\n",
      "File \u001B[0;32m~/.local/lib/python3.12/site-packages/ib_async/ib.py:367\u001B[0m, in \u001B[0;36mIB.connect\u001B[0;34m(self, host, port, clientId, timeout, readonly, account, raiseSyncErrors, fetchFields)\u001B[0m\n\u001B[1;32m    327\u001B[0m \u001B[38;5;28;01mdef\u001B[39;00m \u001B[38;5;21mconnect\u001B[39m(\n\u001B[1;32m    328\u001B[0m     \u001B[38;5;28mself\u001B[39m,\n\u001B[1;32m    329\u001B[0m     host: \u001B[38;5;28mstr\u001B[39m \u001B[38;5;241m=\u001B[39m \u001B[38;5;124m\"\u001B[39m\u001B[38;5;124m127.0.0.1\u001B[39m\u001B[38;5;124m\"\u001B[39m,\n\u001B[0;32m   (...)\u001B[0m\n\u001B[1;32m    336\u001B[0m     fetchFields: StartupFetch \u001B[38;5;241m=\u001B[39m StartupFetchALL,\n\u001B[1;32m    337\u001B[0m ):\n\u001B[1;32m    338\u001B[0m \u001B[38;5;250m    \u001B[39m\u001B[38;5;124;03m\"\"\"\u001B[39;00m\n\u001B[1;32m    339\u001B[0m \u001B[38;5;124;03m    Connect to a running TWS or IB gateway application.\u001B[39;00m\n\u001B[1;32m    340\u001B[0m \u001B[38;5;124;03m    After the connection is made the client is fully synchronized\u001B[39;00m\n\u001B[0;32m   (...)\u001B[0m\n\u001B[1;32m    365\u001B[0m \u001B[38;5;124;03m          to the ``fetchFields`` parameter as needed.\u001B[39;00m\n\u001B[1;32m    366\u001B[0m \u001B[38;5;124;03m    \"\"\"\u001B[39;00m\n\u001B[0;32m--> 367\u001B[0m     \u001B[38;5;28;01mreturn\u001B[39;00m \u001B[38;5;28;43mself\u001B[39;49m\u001B[38;5;241;43m.\u001B[39;49m\u001B[43m_run\u001B[49m\u001B[43m(\u001B[49m\n\u001B[1;32m    368\u001B[0m \u001B[43m        \u001B[49m\u001B[38;5;28;43mself\u001B[39;49m\u001B[38;5;241;43m.\u001B[39;49m\u001B[43mconnectAsync\u001B[49m\u001B[43m(\u001B[49m\n\u001B[1;32m    369\u001B[0m \u001B[43m            \u001B[49m\u001B[43mhost\u001B[49m\u001B[43m,\u001B[49m\n\u001B[1;32m    370\u001B[0m \u001B[43m            \u001B[49m\u001B[43mport\u001B[49m\u001B[43m,\u001B[49m\n\u001B[1;32m    371\u001B[0m \u001B[43m            \u001B[49m\u001B[43mclientId\u001B[49m\u001B[43m,\u001B[49m\n\u001B[1;32m    372\u001B[0m \u001B[43m            \u001B[49m\u001B[43mtimeout\u001B[49m\u001B[43m,\u001B[49m\n\u001B[1;32m    373\u001B[0m \u001B[43m            \u001B[49m\u001B[43mreadonly\u001B[49m\u001B[43m,\u001B[49m\n\u001B[1;32m    374\u001B[0m \u001B[43m            \u001B[49m\u001B[43maccount\u001B[49m\u001B[43m,\u001B[49m\n\u001B[1;32m    375\u001B[0m \u001B[43m            \u001B[49m\u001B[43mraiseSyncErrors\u001B[49m\u001B[43m,\u001B[49m\n\u001B[1;32m    376\u001B[0m \u001B[43m            \u001B[49m\u001B[43mfetchFields\u001B[49m\u001B[43m,\u001B[49m\n\u001B[1;32m    377\u001B[0m \u001B[43m        \u001B[49m\u001B[43m)\u001B[49m\n\u001B[1;32m    378\u001B[0m \u001B[43m    \u001B[49m\u001B[43m)\u001B[49m\n",
      "File \u001B[0;32m~/.local/lib/python3.12/site-packages/ib_async/ib.py:418\u001B[0m, in \u001B[0;36mIB._run\u001B[0;34m(self, *awaitables)\u001B[0m\n\u001B[1;32m    417\u001B[0m \u001B[38;5;28;01mdef\u001B[39;00m \u001B[38;5;21m_run\u001B[39m(\u001B[38;5;28mself\u001B[39m, \u001B[38;5;241m*\u001B[39mawaitables: Awaitable):\n\u001B[0;32m--> 418\u001B[0m     \u001B[38;5;28;01mreturn\u001B[39;00m \u001B[43mutil\u001B[49m\u001B[38;5;241;43m.\u001B[39;49m\u001B[43mrun\u001B[49m\u001B[43m(\u001B[49m\u001B[38;5;241;43m*\u001B[39;49m\u001B[43mawaitables\u001B[49m\u001B[43m,\u001B[49m\u001B[43m \u001B[49m\u001B[43mtimeout\u001B[49m\u001B[38;5;241;43m=\u001B[39;49m\u001B[38;5;28;43mself\u001B[39;49m\u001B[38;5;241;43m.\u001B[39;49m\u001B[43mRequestTimeout\u001B[49m\u001B[43m)\u001B[49m\n",
      "File \u001B[0;32m~/.local/lib/python3.12/site-packages/ib_async/util.py:360\u001B[0m, in \u001B[0;36mrun\u001B[0;34m(timeout, *awaitables)\u001B[0m\n\u001B[1;32m    358\u001B[0m globalErrorEvent\u001B[38;5;241m.\u001B[39mconnect(onError)\n\u001B[1;32m    359\u001B[0m \u001B[38;5;28;01mtry\u001B[39;00m:\n\u001B[0;32m--> 360\u001B[0m     result \u001B[38;5;241m=\u001B[39m \u001B[43mloop\u001B[49m\u001B[38;5;241;43m.\u001B[39;49m\u001B[43mrun_until_complete\u001B[49m\u001B[43m(\u001B[49m\u001B[43mtask\u001B[49m\u001B[43m)\u001B[49m\n\u001B[1;32m    361\u001B[0m \u001B[38;5;28;01mexcept\u001B[39;00m asyncio\u001B[38;5;241m.\u001B[39mCancelledError \u001B[38;5;28;01mas\u001B[39;00m e:\n\u001B[1;32m    362\u001B[0m     \u001B[38;5;28;01mraise\u001B[39;00m globalErrorEvent\u001B[38;5;241m.\u001B[39mvalue() \u001B[38;5;129;01mor\u001B[39;00m e\n",
      "File \u001B[0;32m/usr/lib/python3/dist-packages/nest_asyncio.py:81\u001B[0m, in \u001B[0;36m_patch_loop.<locals>.run_until_complete\u001B[0;34m(self, future)\u001B[0m\n\u001B[1;32m     78\u001B[0m \u001B[38;5;28;01mif\u001B[39;00m \u001B[38;5;129;01mnot\u001B[39;00m f\u001B[38;5;241m.\u001B[39mdone():\n\u001B[1;32m     79\u001B[0m     \u001B[38;5;28;01mraise\u001B[39;00m \u001B[38;5;167;01mRuntimeError\u001B[39;00m(\n\u001B[1;32m     80\u001B[0m         \u001B[38;5;124m'\u001B[39m\u001B[38;5;124mEvent loop stopped before Future completed.\u001B[39m\u001B[38;5;124m'\u001B[39m)\n\u001B[0;32m---> 81\u001B[0m \u001B[38;5;28;01mreturn\u001B[39;00m \u001B[43mf\u001B[49m\u001B[38;5;241;43m.\u001B[39;49m\u001B[43mresult\u001B[49m\u001B[43m(\u001B[49m\u001B[43m)\u001B[49m\n",
      "File \u001B[0;32m/usr/lib/python3.12/asyncio/futures.py:203\u001B[0m, in \u001B[0;36mFuture.result\u001B[0;34m(self)\u001B[0m\n\u001B[1;32m    201\u001B[0m \u001B[38;5;28mself\u001B[39m\u001B[38;5;241m.\u001B[39m__log_traceback \u001B[38;5;241m=\u001B[39m \u001B[38;5;28;01mFalse\u001B[39;00m\n\u001B[1;32m    202\u001B[0m \u001B[38;5;28;01mif\u001B[39;00m \u001B[38;5;28mself\u001B[39m\u001B[38;5;241m.\u001B[39m_exception \u001B[38;5;129;01mis\u001B[39;00m \u001B[38;5;129;01mnot\u001B[39;00m \u001B[38;5;28;01mNone\u001B[39;00m:\n\u001B[0;32m--> 203\u001B[0m     \u001B[38;5;28;01mraise\u001B[39;00m \u001B[38;5;28mself\u001B[39m\u001B[38;5;241m.\u001B[39m_exception\u001B[38;5;241m.\u001B[39mwith_traceback(\u001B[38;5;28mself\u001B[39m\u001B[38;5;241m.\u001B[39m_exception_tb)\n\u001B[1;32m    204\u001B[0m \u001B[38;5;28;01mreturn\u001B[39;00m \u001B[38;5;28mself\u001B[39m\u001B[38;5;241m.\u001B[39m_result\n",
      "File \u001B[0;32m/usr/lib/python3.12/asyncio/tasks.py:316\u001B[0m, in \u001B[0;36mTask.__step_run_and_handle_result\u001B[0;34m(***failed resolving arguments***)\u001B[0m\n\u001B[1;32m    314\u001B[0m         result \u001B[38;5;241m=\u001B[39m coro\u001B[38;5;241m.\u001B[39msend(\u001B[38;5;28;01mNone\u001B[39;00m)\n\u001B[1;32m    315\u001B[0m     \u001B[38;5;28;01melse\u001B[39;00m:\n\u001B[0;32m--> 316\u001B[0m         result \u001B[38;5;241m=\u001B[39m \u001B[43mcoro\u001B[49m\u001B[38;5;241;43m.\u001B[39;49m\u001B[43mthrow\u001B[49m\u001B[43m(\u001B[49m\u001B[43mexc\u001B[49m\u001B[43m)\u001B[49m\n\u001B[1;32m    317\u001B[0m \u001B[38;5;28;01mexcept\u001B[39;00m \u001B[38;5;167;01mStopIteration\u001B[39;00m \u001B[38;5;28;01mas\u001B[39;00m exc:\n\u001B[1;32m    318\u001B[0m     \u001B[38;5;28;01mif\u001B[39;00m \u001B[38;5;28mself\u001B[39m\u001B[38;5;241m.\u001B[39m_must_cancel:\n\u001B[1;32m    319\u001B[0m         \u001B[38;5;66;03m# Task is cancelled right before coro stops.\u001B[39;00m\n",
      "File \u001B[0;32m~/.local/lib/python3.12/site-packages/ib_async/ib.py:2020\u001B[0m, in \u001B[0;36mIB.connectAsync\u001B[0;34m(self, host, port, clientId, timeout, readonly, account, raiseSyncErrors, fetchFields)\u001B[0m\n\u001B[1;32m   2017\u001B[0m timeout \u001B[38;5;241m=\u001B[39m timeout \u001B[38;5;129;01mor\u001B[39;00m \u001B[38;5;28;01mNone\u001B[39;00m\n\u001B[1;32m   2018\u001B[0m \u001B[38;5;28;01mtry\u001B[39;00m:\n\u001B[1;32m   2019\u001B[0m     \u001B[38;5;66;03m# establish API connection\u001B[39;00m\n\u001B[0;32m-> 2020\u001B[0m     \u001B[38;5;28;01mawait\u001B[39;00m \u001B[38;5;28mself\u001B[39m\u001B[38;5;241m.\u001B[39mclient\u001B[38;5;241m.\u001B[39mconnectAsync(host, port, clientId, timeout)\n\u001B[1;32m   2022\u001B[0m     \u001B[38;5;66;03m# autobind manual orders\u001B[39;00m\n\u001B[1;32m   2023\u001B[0m     \u001B[38;5;28;01mif\u001B[39;00m clientId \u001B[38;5;241m==\u001B[39m \u001B[38;5;241m0\u001B[39m:\n",
      "File \u001B[0;32m~/.local/lib/python3.12/site-packages/ib_async/client.py:217\u001B[0m, in \u001B[0;36mClient.connectAsync\u001B[0;34m(self, host, port, clientId, timeout)\u001B[0m\n\u001B[1;32m    215\u001B[0m \u001B[38;5;28mself\u001B[39m\u001B[38;5;241m.\u001B[39mconnState \u001B[38;5;241m=\u001B[39m Client\u001B[38;5;241m.\u001B[39mCONNECTING\n\u001B[1;32m    216\u001B[0m timeout \u001B[38;5;241m=\u001B[39m timeout \u001B[38;5;129;01mor\u001B[39;00m \u001B[38;5;28;01mNone\u001B[39;00m\n\u001B[0;32m--> 217\u001B[0m \u001B[38;5;28;01mawait\u001B[39;00m asyncio\u001B[38;5;241m.\u001B[39mwait_for(\u001B[38;5;28mself\u001B[39m\u001B[38;5;241m.\u001B[39mconn\u001B[38;5;241m.\u001B[39mconnectAsync(host, port), timeout)\n\u001B[1;32m    218\u001B[0m \u001B[38;5;28mself\u001B[39m\u001B[38;5;241m.\u001B[39m_logger\u001B[38;5;241m.\u001B[39minfo(\u001B[38;5;124m\"\u001B[39m\u001B[38;5;124mConnected\u001B[39m\u001B[38;5;124m\"\u001B[39m)\n\u001B[1;32m    219\u001B[0m msg \u001B[38;5;241m=\u001B[39m \u001B[38;5;124mb\u001B[39m\u001B[38;5;124m\"\u001B[39m\u001B[38;5;124mAPI\u001B[39m\u001B[38;5;130;01m\\0\u001B[39;00m\u001B[38;5;124m\"\u001B[39m \u001B[38;5;241m+\u001B[39m \u001B[38;5;28mself\u001B[39m\u001B[38;5;241m.\u001B[39m_prefix(\n\u001B[1;32m    220\u001B[0m     \u001B[38;5;124mb\u001B[39m\u001B[38;5;124m\"\u001B[39m\u001B[38;5;124mv\u001B[39m\u001B[38;5;132;01m%d\u001B[39;00m\u001B[38;5;124m..\u001B[39m\u001B[38;5;132;01m%d\u001B[39;00m\u001B[38;5;132;01m%s\u001B[39;00m\u001B[38;5;124m\"\u001B[39m\n\u001B[1;32m    221\u001B[0m     \u001B[38;5;241m%\u001B[39m (\n\u001B[0;32m   (...)\u001B[0m\n\u001B[1;32m    225\u001B[0m     )\n\u001B[1;32m    226\u001B[0m )\n",
      "File \u001B[0;32m/usr/lib/python3.12/asyncio/tasks.py:520\u001B[0m, in \u001B[0;36mwait_for\u001B[0;34m(fut, timeout)\u001B[0m\n\u001B[1;32m    517\u001B[0m         \u001B[38;5;28;01mraise\u001B[39;00m \u001B[38;5;167;01mTimeoutError\u001B[39;00m \u001B[38;5;28;01mfrom\u001B[39;00m \u001B[38;5;21;01mexc\u001B[39;00m\n\u001B[1;32m    519\u001B[0m \u001B[38;5;28;01masync\u001B[39;00m \u001B[38;5;28;01mwith\u001B[39;00m timeouts\u001B[38;5;241m.\u001B[39mtimeout(timeout):\n\u001B[0;32m--> 520\u001B[0m     \u001B[38;5;28;01mreturn\u001B[39;00m \u001B[38;5;28;01mawait\u001B[39;00m fut\n",
      "File \u001B[0;32m~/.local/lib/python3.12/site-packages/ib_async/connection.py:39\u001B[0m, in \u001B[0;36mConnection.connectAsync\u001B[0;34m(self, host, port)\u001B[0m\n\u001B[1;32m     37\u001B[0m \u001B[38;5;28mself\u001B[39m\u001B[38;5;241m.\u001B[39mreset()\n\u001B[1;32m     38\u001B[0m loop \u001B[38;5;241m=\u001B[39m getLoop()\n\u001B[0;32m---> 39\u001B[0m \u001B[38;5;28mself\u001B[39m\u001B[38;5;241m.\u001B[39mtransport, _ \u001B[38;5;241m=\u001B[39m \u001B[38;5;28;01mawait\u001B[39;00m loop\u001B[38;5;241m.\u001B[39mcreate_connection(\u001B[38;5;28;01mlambda\u001B[39;00m: \u001B[38;5;28mself\u001B[39m, host, port)\n",
      "File \u001B[0;32m/usr/lib/python3.12/asyncio/base_events.py:1122\u001B[0m, in \u001B[0;36mBaseEventLoop.create_connection\u001B[0;34m(self, protocol_factory, host, port, ssl, family, proto, flags, sock, local_addr, server_hostname, ssl_handshake_timeout, ssl_shutdown_timeout, happy_eyeballs_delay, interleave, all_errors)\u001B[0m\n\u001B[1;32m   1120\u001B[0m     \u001B[38;5;28;01mraise\u001B[39;00m ExceptionGroup(\u001B[38;5;124m\"\u001B[39m\u001B[38;5;124mcreate_connection failed\u001B[39m\u001B[38;5;124m\"\u001B[39m, exceptions)\n\u001B[1;32m   1121\u001B[0m \u001B[38;5;28;01mif\u001B[39;00m \u001B[38;5;28mlen\u001B[39m(exceptions) \u001B[38;5;241m==\u001B[39m \u001B[38;5;241m1\u001B[39m:\n\u001B[0;32m-> 1122\u001B[0m     \u001B[38;5;28;01mraise\u001B[39;00m exceptions[\u001B[38;5;241m0\u001B[39m]\n\u001B[1;32m   1123\u001B[0m \u001B[38;5;28;01melse\u001B[39;00m:\n\u001B[1;32m   1124\u001B[0m     \u001B[38;5;66;03m# If they all have the same str(), raise one.\u001B[39;00m\n\u001B[1;32m   1125\u001B[0m     model \u001B[38;5;241m=\u001B[39m \u001B[38;5;28mstr\u001B[39m(exceptions[\u001B[38;5;241m0\u001B[39m])\n",
      "File \u001B[0;32m/usr/lib/python3.12/asyncio/base_events.py:1104\u001B[0m, in \u001B[0;36mBaseEventLoop.create_connection\u001B[0;34m(self, protocol_factory, host, port, ssl, family, proto, flags, sock, local_addr, server_hostname, ssl_handshake_timeout, ssl_shutdown_timeout, happy_eyeballs_delay, interleave, all_errors)\u001B[0m\n\u001B[1;32m   1102\u001B[0m \u001B[38;5;28;01mfor\u001B[39;00m addrinfo \u001B[38;5;129;01min\u001B[39;00m infos:\n\u001B[1;32m   1103\u001B[0m     \u001B[38;5;28;01mtry\u001B[39;00m:\n\u001B[0;32m-> 1104\u001B[0m         sock \u001B[38;5;241m=\u001B[39m \u001B[38;5;28;01mawait\u001B[39;00m \u001B[38;5;28mself\u001B[39m\u001B[38;5;241m.\u001B[39m_connect_sock(\n\u001B[1;32m   1105\u001B[0m             exceptions, addrinfo, laddr_infos)\n\u001B[1;32m   1106\u001B[0m         \u001B[38;5;28;01mbreak\u001B[39;00m\n\u001B[1;32m   1107\u001B[0m     \u001B[38;5;28;01mexcept\u001B[39;00m \u001B[38;5;167;01mOSError\u001B[39;00m:\n",
      "File \u001B[0;32m/usr/lib/python3.12/asyncio/base_events.py:1007\u001B[0m, in \u001B[0;36mBaseEventLoop._connect_sock\u001B[0;34m(self, exceptions, addr_info, local_addr_infos)\u001B[0m\n\u001B[1;32m   1005\u001B[0m             \u001B[38;5;28;01melse\u001B[39;00m:\n\u001B[1;32m   1006\u001B[0m                 \u001B[38;5;28;01mraise\u001B[39;00m \u001B[38;5;167;01mOSError\u001B[39;00m(\u001B[38;5;124mf\u001B[39m\u001B[38;5;124m\"\u001B[39m\u001B[38;5;124mno matching local address with \u001B[39m\u001B[38;5;132;01m{\u001B[39;00mfamily\u001B[38;5;132;01m=}\u001B[39;00m\u001B[38;5;124m found\u001B[39m\u001B[38;5;124m\"\u001B[39m)\n\u001B[0;32m-> 1007\u001B[0m     \u001B[38;5;28;01mawait\u001B[39;00m \u001B[38;5;28mself\u001B[39m\u001B[38;5;241m.\u001B[39msock_connect(sock, address)\n\u001B[1;32m   1008\u001B[0m     \u001B[38;5;28;01mreturn\u001B[39;00m sock\n\u001B[1;32m   1009\u001B[0m \u001B[38;5;28;01mexcept\u001B[39;00m \u001B[38;5;167;01mOSError\u001B[39;00m \u001B[38;5;28;01mas\u001B[39;00m exc:\n",
      "File \u001B[0;32m/usr/lib/python3.12/asyncio/selector_events.py:651\u001B[0m, in \u001B[0;36mBaseSelectorEventLoop.sock_connect\u001B[0;34m(self, sock, address)\u001B[0m\n\u001B[1;32m    649\u001B[0m \u001B[38;5;28mself\u001B[39m\u001B[38;5;241m.\u001B[39m_sock_connect(fut, sock, address)\n\u001B[1;32m    650\u001B[0m \u001B[38;5;28;01mtry\u001B[39;00m:\n\u001B[0;32m--> 651\u001B[0m     \u001B[38;5;28;01mreturn\u001B[39;00m \u001B[38;5;28;01mawait\u001B[39;00m fut\n\u001B[1;32m    652\u001B[0m \u001B[38;5;28;01mfinally\u001B[39;00m:\n\u001B[1;32m    653\u001B[0m     \u001B[38;5;66;03m# Needed to break cycles when an exception occurs.\u001B[39;00m\n\u001B[1;32m    654\u001B[0m     fut \u001B[38;5;241m=\u001B[39m \u001B[38;5;28;01mNone\u001B[39;00m\n",
      "File \u001B[0;32m/usr/lib/python3.12/asyncio/futures.py:287\u001B[0m, in \u001B[0;36mFuture.__await__\u001B[0;34m(self)\u001B[0m\n\u001B[1;32m    285\u001B[0m \u001B[38;5;28;01mif\u001B[39;00m \u001B[38;5;129;01mnot\u001B[39;00m \u001B[38;5;28mself\u001B[39m\u001B[38;5;241m.\u001B[39mdone():\n\u001B[1;32m    286\u001B[0m     \u001B[38;5;28mself\u001B[39m\u001B[38;5;241m.\u001B[39m_asyncio_future_blocking \u001B[38;5;241m=\u001B[39m \u001B[38;5;28;01mTrue\u001B[39;00m\n\u001B[0;32m--> 287\u001B[0m     \u001B[38;5;28;01myield\u001B[39;00m \u001B[38;5;28mself\u001B[39m  \u001B[38;5;66;03m# This tells Task to wait for completion.\u001B[39;00m\n\u001B[1;32m    288\u001B[0m \u001B[38;5;28;01mif\u001B[39;00m \u001B[38;5;129;01mnot\u001B[39;00m \u001B[38;5;28mself\u001B[39m\u001B[38;5;241m.\u001B[39mdone():\n\u001B[1;32m    289\u001B[0m     \u001B[38;5;28;01mraise\u001B[39;00m \u001B[38;5;167;01mRuntimeError\u001B[39;00m(\u001B[38;5;124m\"\u001B[39m\u001B[38;5;124mawait wasn\u001B[39m\u001B[38;5;124m'\u001B[39m\u001B[38;5;124mt used with future\u001B[39m\u001B[38;5;124m\"\u001B[39m)\n",
      "File \u001B[0;32m/usr/lib/python3.12/asyncio/tasks.py:385\u001B[0m, in \u001B[0;36mTask.__wakeup\u001B[0;34m(self, future)\u001B[0m\n\u001B[1;32m    383\u001B[0m \u001B[38;5;28;01mdef\u001B[39;00m \u001B[38;5;21m__wakeup\u001B[39m(\u001B[38;5;28mself\u001B[39m, future):\n\u001B[1;32m    384\u001B[0m     \u001B[38;5;28;01mtry\u001B[39;00m:\n\u001B[0;32m--> 385\u001B[0m         \u001B[43mfuture\u001B[49m\u001B[38;5;241;43m.\u001B[39;49m\u001B[43mresult\u001B[49m\u001B[43m(\u001B[49m\u001B[43m)\u001B[49m\n\u001B[1;32m    386\u001B[0m     \u001B[38;5;28;01mexcept\u001B[39;00m \u001B[38;5;167;01mBaseException\u001B[39;00m \u001B[38;5;28;01mas\u001B[39;00m exc:\n\u001B[1;32m    387\u001B[0m         \u001B[38;5;66;03m# This may also be a cancellation.\u001B[39;00m\n\u001B[1;32m    388\u001B[0m         \u001B[38;5;28mself\u001B[39m\u001B[38;5;241m.\u001B[39m__step(exc)\n",
      "File \u001B[0;32m/usr/lib/python3.12/asyncio/futures.py:203\u001B[0m, in \u001B[0;36mFuture.result\u001B[0;34m(self)\u001B[0m\n\u001B[1;32m    201\u001B[0m \u001B[38;5;28mself\u001B[39m\u001B[38;5;241m.\u001B[39m__log_traceback \u001B[38;5;241m=\u001B[39m \u001B[38;5;28;01mFalse\u001B[39;00m\n\u001B[1;32m    202\u001B[0m \u001B[38;5;28;01mif\u001B[39;00m \u001B[38;5;28mself\u001B[39m\u001B[38;5;241m.\u001B[39m_exception \u001B[38;5;129;01mis\u001B[39;00m \u001B[38;5;129;01mnot\u001B[39;00m \u001B[38;5;28;01mNone\u001B[39;00m:\n\u001B[0;32m--> 203\u001B[0m     \u001B[38;5;28;01mraise\u001B[39;00m \u001B[38;5;28mself\u001B[39m\u001B[38;5;241m.\u001B[39m_exception\u001B[38;5;241m.\u001B[39mwith_traceback(\u001B[38;5;28mself\u001B[39m\u001B[38;5;241m.\u001B[39m_exception_tb)\n\u001B[1;32m    204\u001B[0m \u001B[38;5;28;01mreturn\u001B[39;00m \u001B[38;5;28mself\u001B[39m\u001B[38;5;241m.\u001B[39m_result\n",
      "File \u001B[0;32m/usr/lib/python3.12/asyncio/selector_events.py:691\u001B[0m, in \u001B[0;36mBaseSelectorEventLoop._sock_connect_cb\u001B[0;34m(self, fut, sock, address)\u001B[0m\n\u001B[1;32m    688\u001B[0m     err \u001B[38;5;241m=\u001B[39m sock\u001B[38;5;241m.\u001B[39mgetsockopt(socket\u001B[38;5;241m.\u001B[39mSOL_SOCKET, socket\u001B[38;5;241m.\u001B[39mSO_ERROR)\n\u001B[1;32m    689\u001B[0m     \u001B[38;5;28;01mif\u001B[39;00m err \u001B[38;5;241m!=\u001B[39m \u001B[38;5;241m0\u001B[39m:\n\u001B[1;32m    690\u001B[0m         \u001B[38;5;66;03m# Jump to any except clause below.\u001B[39;00m\n\u001B[0;32m--> 691\u001B[0m         \u001B[38;5;28;01mraise\u001B[39;00m \u001B[38;5;167;01mOSError\u001B[39;00m(err, \u001B[38;5;124mf\u001B[39m\u001B[38;5;124m'\u001B[39m\u001B[38;5;124mConnect call failed \u001B[39m\u001B[38;5;132;01m{\u001B[39;00maddress\u001B[38;5;132;01m}\u001B[39;00m\u001B[38;5;124m'\u001B[39m)\n\u001B[1;32m    692\u001B[0m \u001B[38;5;28;01mexcept\u001B[39;00m (\u001B[38;5;167;01mBlockingIOError\u001B[39;00m, \u001B[38;5;167;01mInterruptedError\u001B[39;00m):\n\u001B[1;32m    693\u001B[0m     \u001B[38;5;66;03m# socket is still registered, the callback will be retried later\u001B[39;00m\n\u001B[1;32m    694\u001B[0m     \u001B[38;5;28;01mpass\u001B[39;00m\n",
      "\u001B[0;31mConnectionRefusedError\u001B[0m: [Errno 111] Connect call failed ('127.0.0.1', 7497)"
     ]
    }
   ],
   "execution_count": 4
  },
  {
   "metadata": {},
   "cell_type": "code",
   "outputs": [],
   "execution_count": null,
   "source": "ib.positions()",
   "id": "a7c7a3392c9a14b8"
  },
  {
   "metadata": {},
   "cell_type": "code",
   "outputs": [],
   "execution_count": null,
   "source": [
    "contract = Forex('EURUSD')\n",
    "contract"
   ],
   "id": "8e7b96374f50b2d6"
  },
  {
   "metadata": {},
   "cell_type": "code",
   "outputs": [],
   "execution_count": null,
   "source": "ib.qualifyContracts(contract)",
   "id": "36159901defe8736"
  },
  {
   "metadata": {},
   "cell_type": "code",
   "outputs": [],
   "execution_count": null,
   "source": [
    "data = ib.reqMktData(contract) # subscribe to tick data\n",
    "data"
   ],
   "id": "35b7b4bd89805b1"
  },
  {
   "metadata": {},
   "cell_type": "code",
   "outputs": [],
   "execution_count": null,
   "source": "data",
   "id": "4115eeeb3a3c5fee"
  },
  {
   "metadata": {},
   "cell_type": "code",
   "outputs": [],
   "execution_count": null,
   "source": "data.bid",
   "id": "d5fab5a9973135c6"
  },
  {
   "metadata": {},
   "cell_type": "code",
   "outputs": [],
   "execution_count": null,
   "source": "ib.cancelMktData(contract) # unsubscribe market data",
   "id": "e4b2838892fa2720"
  },
  {
   "metadata": {},
   "cell_type": "code",
   "outputs": [],
   "execution_count": null,
   "source": "ib.reqMktData(contract)",
   "id": "5bce5181152f2923"
  },
  {
   "metadata": {},
   "cell_type": "code",
   "outputs": [],
   "execution_count": null,
   "source": [
    "ticker = ib.ticker(contract)\n",
    "ticker"
   ],
   "id": "fdbca8a495f2f857"
  },
  {
   "metadata": {},
   "cell_type": "code",
   "outputs": [],
   "execution_count": null,
   "source": "ticker.bid",
   "id": "e93f157db6703a6e"
  },
  {
   "metadata": {},
   "cell_type": "code",
   "outputs": [],
   "execution_count": null,
   "source": "ib.cancelMktData(contract) # unsubscribe market data",
   "id": "35becc6168e767ef"
  },
  {
   "metadata": {},
   "cell_type": "code",
   "outputs": [],
   "execution_count": null,
   "source": "ib.disconnect()",
   "id": "fe361a7dc29607a9"
  },
  {
   "metadata": {},
   "cell_type": "code",
   "outputs": [],
   "execution_count": null,
   "source": "",
   "id": "39d5933f1bc55f37"
  },
  {
   "metadata": {},
   "cell_type": "markdown",
   "source": "## Streaming Tick Data",
   "id": "b8474a565c8746c0"
  },
  {
   "metadata": {},
   "cell_type": "code",
   "outputs": [],
   "execution_count": null,
   "source": [
    "from ib_async import *\n",
    "import pandas as pd\n",
    "util.startLoop() \n",
    "ib = IB()"
   ],
   "id": "62834d53a9afe10b"
  },
  {
   "metadata": {},
   "cell_type": "code",
   "outputs": [],
   "execution_count": null,
   "source": "ib.connect()",
   "id": "c8654dc0dcd7e898"
  },
  {
   "metadata": {},
   "cell_type": "code",
   "outputs": [],
   "execution_count": null,
   "source": [
    "contract = Forex('EURUSD')\n",
    "ib.reqMktData(contract)\n",
    "ticker = ib.ticker(contract)"
   ],
   "id": "53bec8f496afd5e8"
  },
  {
   "metadata": {},
   "cell_type": "code",
   "outputs": [],
   "execution_count": null,
   "source": "ticker",
   "id": "8abcebebe1a6847b"
  },
  {
   "metadata": {},
   "cell_type": "code",
   "outputs": [],
   "execution_count": null,
   "source": [
    "def onPendingTickers(tickers): # what shall happen after receiving a new tick\n",
    "    global message\n",
    "    message = \"time: {} | Bid: {} | Ask:{}\".format(ticker.time, ticker.bid, ticker.ask)\n",
    "    print(message, end = '\\r')"
   ],
   "id": "4e44fa6480630317"
  },
  {
   "metadata": {},
   "cell_type": "code",
   "outputs": [],
   "execution_count": null,
   "source": [
    "ib.pendingTickersEvent += onPendingTickers # activate onPendingTickers\n",
    "ib.sleep(30) # new, to be added!!!"
   ],
   "id": "8e56915c5fe1ee1a"
  },
  {
   "metadata": {},
   "cell_type": "code",
   "outputs": [],
   "execution_count": null,
   "source": "message # still getting updated",
   "id": "e43790ea71ed282c"
  },
  {
   "metadata": {},
   "cell_type": "code",
   "outputs": [],
   "execution_count": null,
   "source": "ib.pendingTickersEvent -= onPendingTickers # de-activate onPendingTickers",
   "id": "e8582a63f5e24586"
  },
  {
   "metadata": {},
   "cell_type": "code",
   "outputs": [],
   "execution_count": null,
   "source": "ticker",
   "id": "2ec7db9f223f2741"
  },
  {
   "metadata": {},
   "cell_type": "code",
   "outputs": [],
   "execution_count": null,
   "source": "ib.cancelMktData(contract)",
   "id": "65fb0260dec01035"
  },
  {
   "metadata": {},
   "cell_type": "code",
   "outputs": [],
   "execution_count": null,
   "source": "ib.disconnect()",
   "id": "45739c9fe4130f89"
  },
  {
   "metadata": {},
   "cell_type": "code",
   "outputs": [],
   "execution_count": null,
   "source": "",
   "id": "4f0f1637d1c263d2"
  },
  {
   "metadata": {},
   "cell_type": "markdown",
   "source": "## Streaming Tick Data for multiple Symbols",
   "id": "6414c0025d33244a"
  },
  {
   "metadata": {},
   "cell_type": "code",
   "outputs": [],
   "execution_count": null,
   "source": [
    "from ib_async import *\n",
    "import pandas as pd\n",
    "from IPython.display import display, clear_output\n",
    "util.startLoop() \n",
    "ib = IB()"
   ],
   "id": "b4f6f6f88f41e4e0"
  },
  {
   "metadata": {},
   "cell_type": "code",
   "outputs": [],
   "execution_count": null,
   "source": "ib.connect()",
   "id": "75ff5f1ce05a7b7b"
  },
  {
   "metadata": {},
   "cell_type": "code",
   "outputs": [],
   "execution_count": null,
   "source": [
    "contracts = [Forex(pair) for pair in ('EURUSD', 'USDJPY', 'GBPUSD', 'USDCHF', 'USDCAD', 'AUDUSD')]\n",
    "ib.qualifyContracts(*contracts)"
   ],
   "id": "addf35dfa3ab6b96"
  },
  {
   "metadata": {},
   "cell_type": "code",
   "outputs": [],
   "execution_count": null,
   "source": [
    "for contract in contracts:\n",
    "    ib.reqMktData(contract)"
   ],
   "id": "663305ea9bc5977"
  },
  {
   "metadata": {},
   "cell_type": "code",
   "outputs": [],
   "execution_count": null,
   "source": [
    "df = pd.DataFrame(\n",
    "    index=[c.pair() for c in contracts],\n",
    "    columns=['bidSize', 'bid', 'ask', 'askSize', 'high', 'low', 'close'])\n",
    "df"
   ],
   "id": "3ac48d553401b7a"
  },
  {
   "metadata": {},
   "cell_type": "code",
   "outputs": [],
   "execution_count": null,
   "source": [
    "def onPendingTickers(tickers): # what shall happen after receiving a new tick\n",
    "    for t in tickers:\n",
    "        df.loc[t.contract.pair()] = (\n",
    "            t.bidSize, t.bid, t.ask, t.askSize, t.high, t.low, t.close)\n",
    "        clear_output(wait=True)\n",
    "    display(df) "
   ],
   "id": "7c9d612658ebb152"
  },
  {
   "metadata": {},
   "cell_type": "code",
   "outputs": [],
   "execution_count": null,
   "source": [
    "ib.pendingTickersEvent += onPendingTickers # activate onPendingTickers\n",
    "ib.sleep(30) # new to be added!!!"
   ],
   "id": "b1961efa6341c14f"
  },
  {
   "metadata": {},
   "cell_type": "code",
   "outputs": [],
   "execution_count": null,
   "source": "df # still getting updated",
   "id": "2307842dbf553725"
  },
  {
   "metadata": {},
   "cell_type": "code",
   "outputs": [],
   "execution_count": null,
   "source": "ib.pendingTickersEvent -= onPendingTickers # de-activate onPendingTickers",
   "id": "a04151b374b8492f"
  },
  {
   "metadata": {},
   "cell_type": "code",
   "outputs": [],
   "execution_count": null,
   "source": [
    "for contract in contracts:\n",
    "    ib.cancelMktData(contract)"
   ],
   "id": "796982155a80b13"
  },
  {
   "metadata": {},
   "cell_type": "code",
   "outputs": [],
   "execution_count": null,
   "source": "ib.disconnect()",
   "id": "30df1ec02e426ff3"
  },
  {
   "metadata": {},
   "cell_type": "code",
   "outputs": [],
   "execution_count": null,
   "source": "",
   "id": "cb55400b8226393f"
  },
  {
   "metadata": {},
   "cell_type": "markdown",
   "source": "## Streaming Real Time Bars (and Historical)",
   "id": "a0fbe56a2e81ce92"
  },
  {
   "metadata": {},
   "cell_type": "markdown",
   "source": [
    "- Trading Stratgies use bar data (uniform time periods with ohlc data), not tick data (non-constant frequency, based on trades and quotes)\n",
    "- An SMA Crossover 50/200 (days) Strategy works with daily bars.\n",
    "- Day Trading Strategies are based on e.g. [1min, 5min, 20min, 1h, 3h, 6h] bars\n",
    "- Bar Size / Frequency itself is a Strategy Parameter (to be optimized)"
   ],
   "id": "a6d117d67ecbfad9"
  },
  {
   "metadata": {},
   "cell_type": "code",
   "outputs": [],
   "execution_count": null,
   "source": [
    "from ib_async import *\n",
    "import pandas as pd\n",
    "import matplotlib.pyplot as plt\n",
    "from IPython.display import display, clear_output\n",
    "util.startLoop() "
   ],
   "id": "8e84faae76f29915"
  },
  {
   "metadata": {},
   "cell_type": "code",
   "outputs": [],
   "execution_count": null,
   "source": [
    "ib = IB()\n",
    "ib.connect()"
   ],
   "id": "8adceca7a2788516"
  },
  {
   "metadata": {},
   "cell_type": "code",
   "outputs": [],
   "execution_count": null,
   "source": [
    "contract = Forex('EURUSD')\n",
    "contract"
   ],
   "id": "54c70005675b2678"
  },
  {
   "metadata": {},
   "cell_type": "markdown",
   "source": [
    "__durationStr__: Time span of all the bars. Examples:\n",
    "        __'60 S', '30 D', '13 W', '6 M', '10 Y'__."
   ],
   "id": "f04ae866a6c16c1c"
  },
  {
   "metadata": {},
   "cell_type": "markdown",
   "source": [
    "__barSizeSetting__: Time period of one bar. Must be one of:\n",
    "        __'1 secs', '5 secs', '10 secs' 15 secs', '30 secs',\n",
    "        '1 min', '2 mins', '3 mins', '5 mins', '10 mins', '15 mins',\n",
    "        '20 mins', '30 mins',\n",
    "        '1 hour', '2 hours', '3 hours', '4 hours', '8 hours',\n",
    "        '1 day', '1 week', '1 month'__."
   ],
   "id": "3ca5132973d7000e"
  },
  {
   "metadata": {},
   "cell_type": "code",
   "outputs": [],
   "execution_count": null,
   "source": [
    "bars = ib.reqHistoricalData(\n",
    "        contract,\n",
    "        endDateTime='',\n",
    "        durationStr='100 S',\n",
    "        barSizeSetting='10 secs',\n",
    "        whatToShow='MIDPOINT',\n",
    "        useRTH=True,\n",
    "        formatDate=2,\n",
    "        keepUpToDate=True)"
   ],
   "id": "32f2ebab3e95d725"
  },
  {
   "metadata": {},
   "cell_type": "code",
   "outputs": [],
   "execution_count": null,
   "source": "bars",
   "id": "289ba06d68193d1f"
  },
  {
   "metadata": {},
   "cell_type": "code",
   "outputs": [],
   "execution_count": null,
   "source": "pd.DataFrame(bars)",
   "id": "cfcd412d0ff9bea0"
  },
  {
   "metadata": {},
   "cell_type": "code",
   "outputs": [],
   "execution_count": null,
   "source": "ib.cancelHistoricalData(bars) # cancel subscription",
   "id": "19e648f87fe92e3a"
  },
  {
   "metadata": {},
   "cell_type": "code",
   "outputs": [],
   "execution_count": null,
   "source": [
    "def onBarUpdate(bars, hasNewBar):  # what shall happen after receiving a new bar\n",
    "    global df\n",
    "    df = pd.DataFrame(bars)[[\"date\", \"open\", \"high\", \"low\", \"close\"]]\n",
    "    df.set_index(\"date\", inplace = True)\n",
    "    clear_output(wait=True)\n",
    "    display(df)"
   ],
   "id": "bd41dd180994cedb"
  },
  {
   "metadata": {},
   "cell_type": "code",
   "outputs": [],
   "execution_count": null,
   "source": [
    "# start stream\n",
    "bars = ib.reqHistoricalData(\n",
    "        contract,\n",
    "        endDateTime='',\n",
    "        durationStr='50 S',\n",
    "        barSizeSetting='5 secs',\n",
    "        whatToShow='MIDPOINT',\n",
    "        useRTH=True,\n",
    "        formatDate=2,\n",
    "        keepUpToDate=True)"
   ],
   "id": "e11a746273cc4a7e"
  },
  {
   "metadata": {},
   "cell_type": "code",
   "outputs": [],
   "execution_count": null,
   "source": [
    "bars.updateEvent += onBarUpdate # activate onBarUpdate\n",
    "ib.sleep(30) # new to be added!!!"
   ],
   "id": "3cd2c708b2b1fc3b"
  },
  {
   "metadata": {},
   "cell_type": "code",
   "outputs": [],
   "execution_count": null,
   "source": "df # still getting updated until you de-activate or cancel",
   "id": "5b228b8d7fcff0"
  },
  {
   "metadata": {},
   "cell_type": "code",
   "outputs": [],
   "execution_count": null,
   "source": "bars.updateEvent -= onBarUpdate # de-activate onBarUpdate",
   "id": "f210d1c5a9bb2d59"
  },
  {
   "metadata": {},
   "cell_type": "code",
   "outputs": [],
   "execution_count": null,
   "source": "ib.cancelHistoricalData(bars) # cancel subscription",
   "id": "b3b312cd70dd4a4"
  },
  {
   "metadata": {},
   "cell_type": "code",
   "outputs": [],
   "execution_count": null,
   "source": "",
   "id": "19707fa1c02f3b51"
  },
  {
   "metadata": {},
   "cell_type": "markdown",
   "source": "## Application: Creating a live Candle Stick Chart ",
   "id": "6197f43e19f70560"
  },
  {
   "metadata": {},
   "cell_type": "code",
   "outputs": [],
   "execution_count": null,
   "source": [
    "def onBarUpdate(bars, hasNewBar):\n",
    "    plt.close()\n",
    "    plot = util.barplot(bars, title = \"EURUSD\", upColor = \"green\", downColor = \"red\")\n",
    "    clear_output(wait=True)\n",
    "    display(plot)"
   ],
   "id": "8ec0432c11f586ce"
  },
  {
   "metadata": {},
   "cell_type": "code",
   "outputs": [],
   "execution_count": null,
   "source": [
    "bars = ib.reqHistoricalData(\n",
    "        contract,\n",
    "        endDateTime='',\n",
    "        durationStr='1000 S',\n",
    "        barSizeSetting='10 secs',\n",
    "        whatToShow='MIDPOINT',\n",
    "        useRTH=True,\n",
    "        formatDate=2,\n",
    "        keepUpToDate=True)"
   ],
   "id": "2d1ea8be8b2e4352"
  },
  {
   "metadata": {},
   "cell_type": "code",
   "outputs": [],
   "execution_count": null,
   "source": [
    "bars.updateEvent += onBarUpdate # activate onBarUpdate\n",
    "ib.sleep(30) # new to be added!!!"
   ],
   "id": "d0e0daf4b6a073cd"
  },
  {
   "metadata": {},
   "cell_type": "code",
   "outputs": [],
   "execution_count": null,
   "source": "bars.updateEvent -= onBarUpdate # de-activate onBarUpdate",
   "id": "a56ecea6433807dc"
  },
  {
   "metadata": {},
   "cell_type": "code",
   "outputs": [],
   "execution_count": null,
   "source": "ib.cancelHistoricalData(bars) # cancel subscription",
   "id": "a670fdbd2cc3b535"
  },
  {
   "metadata": {},
   "cell_type": "code",
   "outputs": [],
   "execution_count": null,
   "source": "ib.disconnect()",
   "id": "a92d03647ac4e033"
  },
  {
   "metadata": {},
   "cell_type": "code",
   "outputs": [],
   "execution_count": null,
   "source": "",
   "id": "b24d564c753f9942"
  },
  {
   "metadata": {},
   "cell_type": "markdown",
   "source": "## Preparing the Data for Day Trading",
   "id": "4d0989bd9d7d9a68"
  },
  {
   "metadata": {},
   "cell_type": "markdown",
   "source": [
    "- Problem: most recent bar is (typically) incomplete (until the end of the bar has been reached)\n",
    "- In Trading: Take actions once a new bar is complete "
   ],
   "id": "37dc1118cb458a39"
  },
  {
   "metadata": {},
   "cell_type": "code",
   "outputs": [],
   "execution_count": null,
   "source": [
    "from ib_async import * \n",
    "import pandas as pd\n",
    "import numpy as np\n",
    "import datetime as dt # old\n",
    "from datetime import datetime, timezone # new\n",
    "from IPython.display import display, clear_output\n",
    "util.startLoop() "
   ],
   "id": "baea504ded3d3b7b"
  },
  {
   "metadata": {},
   "cell_type": "code",
   "outputs": [],
   "execution_count": null,
   "source": [
    "ib = IB()\n",
    "ib.connect()"
   ],
   "id": "c8f6b6dda14437b4"
  },
  {
   "metadata": {},
   "cell_type": "code",
   "outputs": [],
   "execution_count": null,
   "source": [
    "contract = Forex('EURUSD')\n",
    "contract"
   ],
   "id": "82c5a62f4a52fb5d"
  },
  {
   "metadata": {},
   "cell_type": "code",
   "outputs": [],
   "execution_count": null,
   "source": "datetime.now(timezone.utc) # new (Python 3.12)",
   "id": "faefbd0a6939b92e"
  },
  {
   "metadata": {},
   "cell_type": "code",
   "outputs": [],
   "execution_count": null,
   "source": [
    "def onBarUpdate(bars, hasNewBar):\n",
    "    print(datetime.now(timezone.utc)) # new (Python 3.12)"
   ],
   "id": "c7fd6e4324d80d89"
  },
  {
   "metadata": {},
   "cell_type": "code",
   "outputs": [],
   "execution_count": null,
   "source": [
    "bars = ib.reqHistoricalData(\n",
    "        contract,\n",
    "        endDateTime='',\n",
    "        durationStr='1 D',\n",
    "        barSizeSetting='1 min',\n",
    "        whatToShow='MIDPOINT',\n",
    "        useRTH=True,\n",
    "        formatDate=2,\n",
    "        keepUpToDate=True)"
   ],
   "id": "ce1e93064af0088"
  },
  {
   "metadata": {},
   "cell_type": "code",
   "outputs": [],
   "execution_count": null,
   "source": [
    "bars.updateEvent += onBarUpdate\n",
    "ib.sleep(30) # new to be added!!!"
   ],
   "id": "aa72b2f5809958f3"
  },
  {
   "metadata": {},
   "cell_type": "code",
   "outputs": [],
   "execution_count": null,
   "source": "ib.cancelHistoricalData(bars) ",
   "id": "4e7b48a327450a06"
  },
  {
   "metadata": {},
   "cell_type": "code",
   "outputs": [],
   "execution_count": null,
   "source": [
    "def onBarUpdate(bars, hasNewBar): \n",
    "    global df\n",
    "    df = pd.DataFrame(bars)[[\"date\", \"open\", \"high\", \"low\", \"close\"]].iloc[:-1] # remove current bar (incomplete)\n",
    "    df.set_index(\"date\", inplace = True)\n",
    "    clear_output(wait=True)\n",
    "    display(df)"
   ],
   "id": "dce0b558531d356"
  },
  {
   "metadata": {},
   "cell_type": "code",
   "outputs": [],
   "execution_count": null,
   "source": [
    "bars = ib.reqHistoricalData(\n",
    "        contract,\n",
    "        endDateTime='',\n",
    "        durationStr='1 D',\n",
    "        barSizeSetting='1 min',\n",
    "        whatToShow='MIDPOINT',\n",
    "        useRTH=True,\n",
    "        formatDate=2,\n",
    "        keepUpToDate=True)\n",
    "bars.updateEvent += onBarUpdate \n",
    "ib.sleep(90) # new to be added!!!"
   ],
   "id": "78e48a7fc8c22985"
  },
  {
   "metadata": {},
   "cell_type": "code",
   "outputs": [],
   "execution_count": null,
   "source": "df # still getting updated until you cancel",
   "id": "c1229a3064024bf8"
  },
  {
   "metadata": {},
   "cell_type": "code",
   "outputs": [],
   "execution_count": null,
   "source": "ib.cancelHistoricalData(bars) ",
   "id": "eee15e5e3d276a46"
  },
  {
   "metadata": {},
   "cell_type": "code",
   "outputs": [],
   "execution_count": null,
   "source": "",
   "id": "56d6b61d9cafffed"
  },
  {
   "metadata": {},
   "cell_type": "markdown",
   "source": "## Improving Code Efficiency",
   "id": "7f93af15e8e59a7a"
  },
  {
   "metadata": {},
   "cell_type": "markdown",
   "source": "Idea: We need to run major parts of onBarUpdate only if a bar is complete (== new bar has been added)",
   "id": "fcf4949fa63760b"
  },
  {
   "metadata": {},
   "cell_type": "code",
   "outputs": [],
   "execution_count": null,
   "source": "bars",
   "id": "4fd65401b3790557"
  },
  {
   "metadata": {},
   "cell_type": "code",
   "outputs": [],
   "execution_count": null,
   "source": [
    "# check if current (incomplete) bar is more recent than the last complete bar\n",
    "bars[-1].date > bars[-2].date"
   ],
   "id": "e549dedb18abd2f7"
  },
  {
   "metadata": {},
   "cell_type": "code",
   "outputs": [],
   "execution_count": null,
   "source": [
    "def onBarUpdate(bars, hasNewBar):  \n",
    "    global df, last_bar\n",
    "    if bars[-1].date > last_bar: # if bar completed / new bar\n",
    "        last_bar = bars[-1].date\n",
    "    \n",
    "        df = pd.DataFrame(bars)[[\"date\", \"open\", \"high\", \"low\", \"close\"]].iloc[:-1] \n",
    "        df.set_index(\"date\", inplace = True)\n",
    "        clear_output(wait=True)\n",
    "        display(df)"
   ],
   "id": "95225f2973f81c23"
  },
  {
   "metadata": {},
   "cell_type": "code",
   "outputs": [],
   "execution_count": null,
   "source": [
    "bars = ib.reqHistoricalData(\n",
    "        contract,\n",
    "        endDateTime='',\n",
    "        durationStr='1 D',\n",
    "        barSizeSetting='1 min',\n",
    "        whatToShow='MIDPOINT',\n",
    "        useRTH=True,\n",
    "        formatDate=2,\n",
    "        keepUpToDate=True)\n",
    "last_bar = bars[-1].date # initialize last_bar\n",
    "bars.updateEvent += onBarUpdate\n",
    "ib.sleep(90) # new to be added!!!"
   ],
   "id": "5fc894efcf0a74fd"
  },
  {
   "metadata": {},
   "cell_type": "code",
   "outputs": [],
   "execution_count": null,
   "source": "df # still getting updated until you cancel",
   "id": "ff2a11cfae0f24f3"
  },
  {
   "metadata": {},
   "cell_type": "code",
   "outputs": [],
   "execution_count": null,
   "source": "ib.cancelHistoricalData(bars) ",
   "id": "66e91d935dbf414b"
  },
  {
   "metadata": {},
   "cell_type": "code",
   "outputs": [],
   "execution_count": null,
   "source": "ib.disconnect()",
   "id": "1bfb96b552f61ffb"
  },
  {
   "metadata": {},
   "cell_type": "code",
   "outputs": [],
   "execution_count": null,
   "source": "df",
   "id": "efa71f34006d99fb"
  },
  {
   "metadata": {},
   "cell_type": "code",
   "outputs": [],
   "execution_count": null,
   "source": "last_bar",
   "id": "a1febf37ecbee55f"
  },
  {
   "metadata": {},
   "cell_type": "code",
   "outputs": [],
   "execution_count": null,
   "source": "",
   "id": "47d142c8aa84b6db"
  },
  {
   "metadata": {},
   "cell_type": "markdown",
   "source": "## Define an SMA Day Trading Strategy",
   "id": "2b2a5c121896fb77"
  },
  {
   "metadata": {},
   "cell_type": "code",
   "outputs": [],
   "execution_count": null,
   "source": [
    "from ib_async import * \n",
    "import pandas as pd\n",
    "import numpy as np\n",
    "#import datetime as dt\n",
    "from IPython.display import display, clear_output\n",
    "util.startLoop() "
   ],
   "id": "e2df49bc67741791"
  },
  {
   "metadata": {},
   "cell_type": "code",
   "outputs": [],
   "execution_count": null,
   "source": [
    "ib = IB()\n",
    "ib.connect()"
   ],
   "id": "69598e8297eb15f4"
  },
  {
   "metadata": {},
   "cell_type": "code",
   "outputs": [],
   "execution_count": null,
   "source": [
    "contract = Forex('EURUSD')\n",
    "contract"
   ],
   "id": "9ef7e1e19f107cda"
  },
  {
   "metadata": {},
   "cell_type": "markdown",
   "source": "Strategy: SMA 50/200 (minutes) Crossover (needs to be backtested!!!)",
   "id": "6c61c7cd1e45622f"
  },
  {
   "metadata": {},
   "cell_type": "code",
   "outputs": [],
   "execution_count": null,
   "source": [
    "sma_s = 50\n",
    "sma_l = 200"
   ],
   "id": "ee94e3bb51cb0ecf"
  },
  {
   "metadata": {},
   "cell_type": "code",
   "outputs": [],
   "execution_count": null,
   "source": [
    "def onBarUpdate(bars, hasNewBar): \n",
    "    global df, last_bar\n",
    "    \n",
    "    if bars[-1].date > last_bar: \n",
    "        last_bar = bars[-1].date\n",
    "    \n",
    "        # Data Processing\n",
    "        df = pd.DataFrame(bars)[[\"date\", \"open\", \"high\", \"low\", \"close\"]].iloc[:-1]\n",
    "        df.set_index(\"date\", inplace = True)\n",
    "        \n",
    "        ####################### Trading Strategy ###########################\n",
    "        df = df[[\"close\"]].copy()\n",
    "        df[\"sma_s\"] = df.close.rolling(sma_s).mean()\n",
    "        df[\"sma_l\"] = df.close.rolling(sma_l).mean()\n",
    "        df.dropna(inplace = True)\n",
    "        df[\"position\"] = np.where(df[\"sma_s\"] > df[\"sma_l\"], 1, -1 )\n",
    "        ####################################################################\n",
    "        \n",
    "        # Action\n",
    "        clear_output(wait=True)\n",
    "        display(df)\n",
    "        "
   ],
   "id": "b74516835620740"
  },
  {
   "metadata": {},
   "cell_type": "code",
   "outputs": [],
   "execution_count": null,
   "source": [
    "bars = ib.reqHistoricalData(\n",
    "        contract,\n",
    "        endDateTime='',\n",
    "        durationStr='1 D',\n",
    "        barSizeSetting='1 min',\n",
    "        whatToShow='MIDPOINT',\n",
    "        useRTH=True,\n",
    "        formatDate=2,\n",
    "        keepUpToDate=True)\n",
    "last_bar = bars[-1].date\n",
    "bars.updateEvent += onBarUpdate \n",
    "ib.sleep(120) # new to be added!!!"
   ],
   "id": "eb7a78ee28fbf471"
  },
  {
   "metadata": {},
   "cell_type": "code",
   "outputs": [],
   "execution_count": null,
   "source": "df # still getting updated until you cancel",
   "id": "dfdbc3759c17e489"
  },
  {
   "metadata": {},
   "cell_type": "code",
   "outputs": [],
   "execution_count": null,
   "source": "ib.cancelHistoricalData(bars) ",
   "id": "c7fcd70f6f0a7e9e"
  },
  {
   "metadata": {},
   "cell_type": "code",
   "outputs": [],
   "execution_count": null,
   "source": "ib.disconnect()",
   "id": "6d3e5cd94c481518"
  },
  {
   "metadata": {},
   "cell_type": "code",
   "outputs": [],
   "execution_count": null,
   "source": "",
   "id": "76556d49d428c709"
  },
  {
   "metadata": {},
   "cell_type": "markdown",
   "source": "## Trading",
   "id": "313d0bcb9daa960c"
  },
  {
   "metadata": {},
   "cell_type": "markdown",
   "source": "__Please run the following code only with your Paper Trading Account!!!__",
   "id": "4c6b5409c722ba4a"
  },
  {
   "metadata": {},
   "cell_type": "markdown",
   "source": "__Check the Regular Trading Hours!!!__",
   "id": "25084ee9694b7ab0"
  },
  {
   "metadata": {
    "ExecuteTime": {
     "end_time": "2024-12-02T11:44:37.151381Z",
     "start_time": "2024-12-02T11:44:36.772911Z"
    }
   },
   "cell_type": "code",
   "source": [
    "from ib_async import * \n",
    "import pandas as pd\n",
    "import numpy as np\n",
    "#import datetime as dt\n",
    "from IPython.display import display, clear_output\n",
    "util.startLoop() "
   ],
   "id": "3cdb201be32b6615",
   "outputs": [],
   "execution_count": 5
  },
  {
   "metadata": {
    "ExecuteTime": {
     "end_time": "2024-12-02T11:44:37.699965Z",
     "start_time": "2024-12-02T11:44:37.159658Z"
    }
   },
   "cell_type": "code",
   "source": [
    "ib = IB()\n",
    "ib.connect()"
   ],
   "id": "9813a0c757401d47",
   "outputs": [
    {
     "data": {
      "text/plain": [
       "<IB connected to 127.0.0.1:7497 clientId=1>"
      ]
     },
     "execution_count": 6,
     "metadata": {},
     "output_type": "execute_result"
    }
   ],
   "execution_count": 6
  },
  {
   "metadata": {
    "ExecuteTime": {
     "end_time": "2024-12-02T11:44:38.451050Z",
     "start_time": "2024-12-02T11:44:37.870698Z"
    }
   },
   "cell_type": "code",
   "source": [
    "# strategy parameters\n",
    "sma_s = 50\n",
    "sma_l = 200\n",
    "freq = \"1 min\"\n",
    "units = 1000\n",
    "contract = Forex('EURUSD') # for data streaming\n",
    "ib.qualifyContracts(contract)\n",
    "cfd = CFD(\"EUR\", currency = \"USD\") # for trading\n",
    "ib.qualifyContracts(cfd)\n",
    "conID = cfd.conId"
   ],
   "id": "cdb4034dfd27bce3",
   "outputs": [],
   "execution_count": 7
  },
  {
   "metadata": {
    "ExecuteTime": {
     "end_time": "2024-12-02T11:44:38.564367Z",
     "start_time": "2024-12-02T11:44:38.560726Z"
    }
   },
   "cell_type": "code",
   "source": "conID",
   "id": "ffc33750351c922f",
   "outputs": [
    {
     "data": {
      "text/plain": [
       "143916318"
      ]
     },
     "execution_count": 8,
     "metadata": {},
     "output_type": "execute_result"
    }
   ],
   "execution_count": 8
  },
  {
   "metadata": {},
   "cell_type": "markdown",
   "source": [
    "__barSizeSetting__: Time period of one bar. Must be one of:\n",
    "        __'1 secs', '5 secs', '10 secs' 15 secs', '30 secs',\n",
    "        '1 min', '2 mins', '3 mins', '5 mins', '10 mins', '15 mins',\n",
    "        '20 mins', '30 mins',\n",
    "        '1 hour', '2 hours', '3 hours', '4 hours', '8 hours',\n",
    "        '1 day', '1 week', '1 month'__."
   ],
   "id": "e67cb0bbf52ead0"
  },
  {
   "metadata": {
    "ExecuteTime": {
     "end_time": "2024-12-02T11:44:40.296681Z",
     "start_time": "2024-12-02T11:44:40.289724Z"
    }
   },
   "cell_type": "code",
   "source": [
    "def onBarUpdate(bars, hasNewBar):  \n",
    "    global df, last_bar\n",
    "    \n",
    "    if bars[-1].date > last_bar: \n",
    "        last_bar = bars[-1].date\n",
    "    \n",
    "        # Data Processing\n",
    "        df = pd.DataFrame(bars)[[\"date\", \"open\", \"high\", \"low\", \"close\"]].iloc[:-1] \n",
    "        df.set_index(\"date\", inplace = True)\n",
    "        \n",
    "        ####################### Trading Strategy ###########################\n",
    "        df = df[[\"close\"]].copy()\n",
    "        df[\"sma_s\"] = df.close.rolling(sma_s).mean()\n",
    "        df[\"sma_l\"] = df.close.rolling(sma_l).mean()\n",
    "        df.dropna(inplace = True)\n",
    "        df[\"position\"] = np.where(df[\"sma_s\"] > df[\"sma_l\"], 1, -1 )\n",
    "        ####################################################################\n",
    "        \n",
    "        # Trading\n",
    "        target = df[\"position\"][-1] * units\n",
    "        execute_trade(target = target)\n",
    "        \n",
    "        # Display\n",
    "        clear_output(wait=True)\n",
    "        display(df)\n",
    "    else:\n",
    "        pass\n",
    "\n",
    "def execute_trade(target):\n",
    "    global current_pos\n",
    "    \n",
    "    # 1. get current Position\n",
    "    try:\n",
    "        current_pos = [pos.position for pos in ib.positions() if pos.contract.conId == conID][0]\n",
    "    except:\n",
    "        current_pos = 0\n",
    "         \n",
    "    # 2. identify required trades\n",
    "    trades = target - current_pos\n",
    "        \n",
    "    # 3. trade execution\n",
    "    if trades > 0:\n",
    "        side = \"BUY\"\n",
    "        order = MarketOrder(side, abs(trades))\n",
    "        trade = ib.placeOrder(cfd, order)  \n",
    "    elif trades < 0:\n",
    "        side = \"SELL\"\n",
    "        order = MarketOrder(side, abs(trades))\n",
    "        trade = ib.placeOrder(cfd, order)\n",
    "    else:\n",
    "        pass"
   ],
   "id": "f195e099ee32df7b",
   "outputs": [],
   "execution_count": 9
  },
  {
   "metadata": {},
   "cell_type": "code",
   "source": [
    "bars = ib.reqHistoricalData(\n",
    "        contract,\n",
    "        endDateTime='',\n",
    "        durationStr='1 D', # must be sufficiently long!!! (200 * 1 min)\n",
    "        barSizeSetting=freq,\n",
    "        whatToShow='MIDPOINT',\n",
    "        useRTH=True,\n",
    "        formatDate=2,\n",
    "        keepUpToDate=True)\n",
    "last_bar = bars[-1].date\n",
    "bars.updateEvent += onBarUpdate\n",
    "ib.sleep(240) # new - to be added"
   ],
   "id": "588c43e0b87d0fb",
   "execution_count": 10,
   "outputs": [
    {
     "ename": "KeyboardInterrupt",
     "evalue": "",
     "output_type": "error",
     "traceback": [
      "\u001B[0;31m---------------------------------------------------------------------------\u001B[0m",
      "\u001B[0;31mKeyboardInterrupt\u001B[0m                         Traceback (most recent call last)",
      "Cell \u001B[0;32mIn[10], line 12\u001B[0m\n\u001B[1;32m     10\u001B[0m last_bar \u001B[38;5;241m=\u001B[39m bars[\u001B[38;5;241m-\u001B[39m\u001B[38;5;241m1\u001B[39m]\u001B[38;5;241m.\u001B[39mdate\n\u001B[1;32m     11\u001B[0m bars\u001B[38;5;241m.\u001B[39mupdateEvent \u001B[38;5;241m+\u001B[39m\u001B[38;5;241m=\u001B[39m onBarUpdate\n\u001B[0;32m---> 12\u001B[0m \u001B[43mib\u001B[49m\u001B[38;5;241;43m.\u001B[39;49m\u001B[43msleep\u001B[49m\u001B[43m(\u001B[49m\u001B[38;5;241;43m240\u001B[39;49m\u001B[43m)\u001B[49m \u001B[38;5;66;03m# new - to be added\u001B[39;00m\n",
      "File \u001B[0;32m~/.local/lib/python3.12/site-packages/ib_async/util.py:405\u001B[0m, in \u001B[0;36msleep\u001B[0;34m(secs)\u001B[0m\n\u001B[1;32m    397\u001B[0m \u001B[38;5;28;01mdef\u001B[39;00m \u001B[38;5;21msleep\u001B[39m(secs: \u001B[38;5;28mfloat\u001B[39m \u001B[38;5;241m=\u001B[39m \u001B[38;5;241m0.02\u001B[39m) \u001B[38;5;241m-\u001B[39m\u001B[38;5;241m>\u001B[39m \u001B[38;5;28mbool\u001B[39m:\n\u001B[1;32m    398\u001B[0m \u001B[38;5;250m    \u001B[39m\u001B[38;5;124;03m\"\"\"\u001B[39;00m\n\u001B[1;32m    399\u001B[0m \u001B[38;5;124;03m    Wait for the given amount of seconds while everything still keeps\u001B[39;00m\n\u001B[1;32m    400\u001B[0m \u001B[38;5;124;03m    processing in the background. Never use time.sleep().\u001B[39;00m\n\u001B[0;32m   (...)\u001B[0m\n\u001B[1;32m    403\u001B[0m \u001B[38;5;124;03m        secs (float): Time in seconds to wait.\u001B[39;00m\n\u001B[1;32m    404\u001B[0m \u001B[38;5;124;03m    \"\"\"\u001B[39;00m\n\u001B[0;32m--> 405\u001B[0m     \u001B[43mrun\u001B[49m\u001B[43m(\u001B[49m\u001B[43masyncio\u001B[49m\u001B[38;5;241;43m.\u001B[39;49m\u001B[43msleep\u001B[49m\u001B[43m(\u001B[49m\u001B[43msecs\u001B[49m\u001B[43m)\u001B[49m\u001B[43m)\u001B[49m\n\u001B[1;32m    406\u001B[0m     \u001B[38;5;28;01mreturn\u001B[39;00m \u001B[38;5;28;01mTrue\u001B[39;00m\n",
      "File \u001B[0;32m~/.local/lib/python3.12/site-packages/ib_async/util.py:360\u001B[0m, in \u001B[0;36mrun\u001B[0;34m(timeout, *awaitables)\u001B[0m\n\u001B[1;32m    358\u001B[0m globalErrorEvent\u001B[38;5;241m.\u001B[39mconnect(onError)\n\u001B[1;32m    359\u001B[0m \u001B[38;5;28;01mtry\u001B[39;00m:\n\u001B[0;32m--> 360\u001B[0m     result \u001B[38;5;241m=\u001B[39m \u001B[43mloop\u001B[49m\u001B[38;5;241;43m.\u001B[39;49m\u001B[43mrun_until_complete\u001B[49m\u001B[43m(\u001B[49m\u001B[43mtask\u001B[49m\u001B[43m)\u001B[49m\n\u001B[1;32m    361\u001B[0m \u001B[38;5;28;01mexcept\u001B[39;00m asyncio\u001B[38;5;241m.\u001B[39mCancelledError \u001B[38;5;28;01mas\u001B[39;00m e:\n\u001B[1;32m    362\u001B[0m     \u001B[38;5;28;01mraise\u001B[39;00m globalErrorEvent\u001B[38;5;241m.\u001B[39mvalue() \u001B[38;5;129;01mor\u001B[39;00m e\n",
      "File \u001B[0;32m/usr/lib/python3/dist-packages/nest_asyncio.py:75\u001B[0m, in \u001B[0;36m_patch_loop.<locals>.run_until_complete\u001B[0;34m(self, future)\u001B[0m\n\u001B[1;32m     73\u001B[0m     f\u001B[38;5;241m.\u001B[39m_log_destroy_pending \u001B[38;5;241m=\u001B[39m \u001B[38;5;28;01mFalse\u001B[39;00m\n\u001B[1;32m     74\u001B[0m \u001B[38;5;28;01mwhile\u001B[39;00m \u001B[38;5;129;01mnot\u001B[39;00m f\u001B[38;5;241m.\u001B[39mdone():\n\u001B[0;32m---> 75\u001B[0m     \u001B[38;5;28;43mself\u001B[39;49m\u001B[38;5;241;43m.\u001B[39;49m\u001B[43m_run_once\u001B[49m\u001B[43m(\u001B[49m\u001B[43m)\u001B[49m\n\u001B[1;32m     76\u001B[0m     \u001B[38;5;28;01mif\u001B[39;00m \u001B[38;5;28mself\u001B[39m\u001B[38;5;241m.\u001B[39m_stopping:\n\u001B[1;32m     77\u001B[0m         \u001B[38;5;28;01mbreak\u001B[39;00m\n",
      "File \u001B[0;32m/usr/lib/python3/dist-packages/nest_asyncio.py:98\u001B[0m, in \u001B[0;36m_patch_loop.<locals>._run_once\u001B[0;34m(self)\u001B[0m\n\u001B[1;32m     91\u001B[0m     heappop(scheduled)\n\u001B[1;32m     93\u001B[0m timeout \u001B[38;5;241m=\u001B[39m (\n\u001B[1;32m     94\u001B[0m     \u001B[38;5;241m0\u001B[39m \u001B[38;5;28;01mif\u001B[39;00m ready \u001B[38;5;129;01mor\u001B[39;00m \u001B[38;5;28mself\u001B[39m\u001B[38;5;241m.\u001B[39m_stopping\n\u001B[1;32m     95\u001B[0m     \u001B[38;5;28;01melse\u001B[39;00m \u001B[38;5;28mmin\u001B[39m(\u001B[38;5;28mmax\u001B[39m(\n\u001B[1;32m     96\u001B[0m         scheduled[\u001B[38;5;241m0\u001B[39m]\u001B[38;5;241m.\u001B[39m_when \u001B[38;5;241m-\u001B[39m \u001B[38;5;28mself\u001B[39m\u001B[38;5;241m.\u001B[39mtime(), \u001B[38;5;241m0\u001B[39m), \u001B[38;5;241m86400\u001B[39m) \u001B[38;5;28;01mif\u001B[39;00m scheduled\n\u001B[1;32m     97\u001B[0m     \u001B[38;5;28;01melse\u001B[39;00m \u001B[38;5;28;01mNone\u001B[39;00m)\n\u001B[0;32m---> 98\u001B[0m event_list \u001B[38;5;241m=\u001B[39m \u001B[38;5;28;43mself\u001B[39;49m\u001B[38;5;241;43m.\u001B[39;49m\u001B[43m_selector\u001B[49m\u001B[38;5;241;43m.\u001B[39;49m\u001B[43mselect\u001B[49m\u001B[43m(\u001B[49m\u001B[43mtimeout\u001B[49m\u001B[43m)\u001B[49m\n\u001B[1;32m     99\u001B[0m \u001B[38;5;28mself\u001B[39m\u001B[38;5;241m.\u001B[39m_process_events(event_list)\n\u001B[1;32m    101\u001B[0m end_time \u001B[38;5;241m=\u001B[39m \u001B[38;5;28mself\u001B[39m\u001B[38;5;241m.\u001B[39mtime() \u001B[38;5;241m+\u001B[39m \u001B[38;5;28mself\u001B[39m\u001B[38;5;241m.\u001B[39m_clock_resolution\n",
      "File \u001B[0;32m/usr/lib/python3.12/selectors.py:468\u001B[0m, in \u001B[0;36mEpollSelector.select\u001B[0;34m(self, timeout)\u001B[0m\n\u001B[1;32m    466\u001B[0m ready \u001B[38;5;241m=\u001B[39m []\n\u001B[1;32m    467\u001B[0m \u001B[38;5;28;01mtry\u001B[39;00m:\n\u001B[0;32m--> 468\u001B[0m     fd_event_list \u001B[38;5;241m=\u001B[39m \u001B[38;5;28;43mself\u001B[39;49m\u001B[38;5;241;43m.\u001B[39;49m\u001B[43m_selector\u001B[49m\u001B[38;5;241;43m.\u001B[39;49m\u001B[43mpoll\u001B[49m\u001B[43m(\u001B[49m\u001B[43mtimeout\u001B[49m\u001B[43m,\u001B[49m\u001B[43m \u001B[49m\u001B[43mmax_ev\u001B[49m\u001B[43m)\u001B[49m\n\u001B[1;32m    469\u001B[0m \u001B[38;5;28;01mexcept\u001B[39;00m \u001B[38;5;167;01mInterruptedError\u001B[39;00m:\n\u001B[1;32m    470\u001B[0m     \u001B[38;5;28;01mreturn\u001B[39;00m ready\n",
      "\u001B[0;31mKeyboardInterrupt\u001B[0m: "
     ]
    }
   ]
  },
  {
   "metadata": {},
   "cell_type": "code",
   "outputs": [],
   "execution_count": null,
   "source": "### remember: Trading continues until you cancel!!!",
   "id": "84d4a852dd13e662"
  },
  {
   "metadata": {
    "ExecuteTime": {
     "end_time": "2024-12-02T11:45:58.385693Z",
     "start_time": "2024-12-02T11:45:58.383217Z"
    }
   },
   "cell_type": "code",
   "source": "ib.cancelHistoricalData(bars)  # cancel trading",
   "id": "c01dfb59ff545e43",
   "outputs": [],
   "execution_count": 12
  },
  {
   "metadata": {
    "ExecuteTime": {
     "end_time": "2024-12-02T11:45:58.975324Z",
     "start_time": "2024-12-02T11:45:58.968028Z"
    }
   },
   "cell_type": "code",
   "source": "df",
   "id": "169ef8e783c58950",
   "outputs": [
    {
     "data": {
      "text/plain": [
       "                              close     sma_s     sma_l  position\n",
       "date                                                             \n",
       "2024-12-02 01:34:00+00:00  1.053200  1.053307  1.054595        -1\n",
       "2024-12-02 01:35:00+00:00  1.053410  1.053311  1.054577        -1\n",
       "2024-12-02 01:36:00+00:00  1.053360  1.053314  1.054560        -1\n",
       "2024-12-02 01:37:00+00:00  1.053320  1.053314  1.054542        -1\n",
       "2024-12-02 01:38:00+00:00  1.053355  1.053314  1.054525        -1\n",
       "...                             ...       ...       ...       ...\n",
       "2024-12-02 11:40:00+00:00  1.052745  1.052390  1.051401         1\n",
       "2024-12-02 11:41:00+00:00  1.052725  1.052407  1.051411         1\n",
       "2024-12-02 11:42:00+00:00  1.052710  1.052422  1.051421         1\n",
       "2024-12-02 11:43:00+00:00  1.052525  1.052431  1.051430         1\n",
       "2024-12-02 11:44:00+00:00  1.052525  1.052443  1.051439         1\n",
       "\n",
       "[611 rows x 4 columns]"
      ],
      "text/html": [
       "<div>\n",
       "<style scoped>\n",
       "    .dataframe tbody tr th:only-of-type {\n",
       "        vertical-align: middle;\n",
       "    }\n",
       "\n",
       "    .dataframe tbody tr th {\n",
       "        vertical-align: top;\n",
       "    }\n",
       "\n",
       "    .dataframe thead th {\n",
       "        text-align: right;\n",
       "    }\n",
       "</style>\n",
       "<table border=\"1\" class=\"dataframe\">\n",
       "  <thead>\n",
       "    <tr style=\"text-align: right;\">\n",
       "      <th></th>\n",
       "      <th>close</th>\n",
       "      <th>sma_s</th>\n",
       "      <th>sma_l</th>\n",
       "      <th>position</th>\n",
       "    </tr>\n",
       "    <tr>\n",
       "      <th>date</th>\n",
       "      <th></th>\n",
       "      <th></th>\n",
       "      <th></th>\n",
       "      <th></th>\n",
       "    </tr>\n",
       "  </thead>\n",
       "  <tbody>\n",
       "    <tr>\n",
       "      <th>2024-12-02 01:34:00+00:00</th>\n",
       "      <td>1.053200</td>\n",
       "      <td>1.053307</td>\n",
       "      <td>1.054595</td>\n",
       "      <td>-1</td>\n",
       "    </tr>\n",
       "    <tr>\n",
       "      <th>2024-12-02 01:35:00+00:00</th>\n",
       "      <td>1.053410</td>\n",
       "      <td>1.053311</td>\n",
       "      <td>1.054577</td>\n",
       "      <td>-1</td>\n",
       "    </tr>\n",
       "    <tr>\n",
       "      <th>2024-12-02 01:36:00+00:00</th>\n",
       "      <td>1.053360</td>\n",
       "      <td>1.053314</td>\n",
       "      <td>1.054560</td>\n",
       "      <td>-1</td>\n",
       "    </tr>\n",
       "    <tr>\n",
       "      <th>2024-12-02 01:37:00+00:00</th>\n",
       "      <td>1.053320</td>\n",
       "      <td>1.053314</td>\n",
       "      <td>1.054542</td>\n",
       "      <td>-1</td>\n",
       "    </tr>\n",
       "    <tr>\n",
       "      <th>2024-12-02 01:38:00+00:00</th>\n",
       "      <td>1.053355</td>\n",
       "      <td>1.053314</td>\n",
       "      <td>1.054525</td>\n",
       "      <td>-1</td>\n",
       "    </tr>\n",
       "    <tr>\n",
       "      <th>...</th>\n",
       "      <td>...</td>\n",
       "      <td>...</td>\n",
       "      <td>...</td>\n",
       "      <td>...</td>\n",
       "    </tr>\n",
       "    <tr>\n",
       "      <th>2024-12-02 11:40:00+00:00</th>\n",
       "      <td>1.052745</td>\n",
       "      <td>1.052390</td>\n",
       "      <td>1.051401</td>\n",
       "      <td>1</td>\n",
       "    </tr>\n",
       "    <tr>\n",
       "      <th>2024-12-02 11:41:00+00:00</th>\n",
       "      <td>1.052725</td>\n",
       "      <td>1.052407</td>\n",
       "      <td>1.051411</td>\n",
       "      <td>1</td>\n",
       "    </tr>\n",
       "    <tr>\n",
       "      <th>2024-12-02 11:42:00+00:00</th>\n",
       "      <td>1.052710</td>\n",
       "      <td>1.052422</td>\n",
       "      <td>1.051421</td>\n",
       "      <td>1</td>\n",
       "    </tr>\n",
       "    <tr>\n",
       "      <th>2024-12-02 11:43:00+00:00</th>\n",
       "      <td>1.052525</td>\n",
       "      <td>1.052431</td>\n",
       "      <td>1.051430</td>\n",
       "      <td>1</td>\n",
       "    </tr>\n",
       "    <tr>\n",
       "      <th>2024-12-02 11:44:00+00:00</th>\n",
       "      <td>1.052525</td>\n",
       "      <td>1.052443</td>\n",
       "      <td>1.051439</td>\n",
       "      <td>1</td>\n",
       "    </tr>\n",
       "  </tbody>\n",
       "</table>\n",
       "<p>611 rows × 4 columns</p>\n",
       "</div>"
      ]
     },
     "execution_count": 13,
     "metadata": {},
     "output_type": "execute_result"
    }
   ],
   "execution_count": 13
  },
  {
   "metadata": {
    "ExecuteTime": {
     "end_time": "2024-12-02T11:45:59.194681Z",
     "start_time": "2024-12-02T11:45:59.191130Z"
    }
   },
   "cell_type": "code",
   "source": "ib.disconnect()",
   "id": "cf0ae3043134d2e",
   "outputs": [],
   "execution_count": 14
  },
  {
   "metadata": {
    "ExecuteTime": {
     "end_time": "2024-12-02T11:45:59.555519Z",
     "start_time": "2024-12-02T11:45:59.553092Z"
    }
   },
   "cell_type": "code",
   "source": "",
   "id": "8bff7712bad2e8af",
   "outputs": [],
   "execution_count": null
  },
  {
   "metadata": {},
   "cell_type": "markdown",
   "source": "## Trade Reporting",
   "id": "9cf8ab571913d38c"
  },
  {
   "metadata": {
    "ExecuteTime": {
     "end_time": "2024-12-02T11:46:00.375647Z",
     "start_time": "2024-12-02T11:46:00.373038Z"
    }
   },
   "cell_type": "code",
   "source": [
    "from ib_async import * \n",
    "import pandas as pd\n",
    "import numpy as np\n",
    "#import datetime as dt\n",
    "from datetime import datetime, timezone # new\n",
    "from IPython.display import display, clear_output\n",
    "util.startLoop()"
   ],
   "id": "b63396185bb55fc",
   "outputs": [],
   "execution_count": 15
  },
  {
   "metadata": {
    "ExecuteTime": {
     "end_time": "2024-12-02T11:46:01.306666Z",
     "start_time": "2024-12-02T11:46:00.909950Z"
    }
   },
   "cell_type": "code",
   "source": [
    "ib = IB()\n",
    "ib.connect()"
   ],
   "id": "56620208151470eb",
   "outputs": [
    {
     "data": {
      "text/plain": [
       "<IB connected to 127.0.0.1:7497 clientId=1>"
      ]
     },
     "execution_count": 16,
     "metadata": {},
     "output_type": "execute_result"
    }
   ],
   "execution_count": 16
  },
  {
   "metadata": {
    "ExecuteTime": {
     "end_time": "2024-12-02T11:46:01.329556Z",
     "start_time": "2024-12-02T11:46:01.325788Z"
    }
   },
   "cell_type": "code",
   "source": "ib.fills()",
   "id": "5b3e64a280a5ec34",
   "outputs": [
    {
     "data": {
      "text/plain": [
       "[Fill(contract=CFD(conId=143916318, symbol='EUR', right='?', exchange='SMART', currency='USD', localSymbol='EUR.USD', tradingClass='EUR.USD'), execution=Execution(execId='0000e20f.674d4620.01.01', time=datetime.datetime(2024, 12, 2, 11, 45, 6, tzinfo=datetime.timezone.utc), acctNumber='DU9519531', exchange='SMART', side='BOT', shares=1000.0, price=1.05255, permId=291660412, clientId=1, orderId=177, liquidation=0, cumQty=1000.0, avgPrice=1.05255, orderRef='', evRule='', evMultiplier=0.0, modelCode='', lastLiquidity=2, pendingPriceRevision=False), commissionReport=CommissionReport(execId='0000e20f.674d4620.01.01', commission=2.0, currency='USD', realizedPNL=0.0, yield_=0.0, yieldRedemptionDate=0), time=datetime.datetime(2024, 12, 2, 11, 45, 6, tzinfo=datetime.timezone.utc))]"
      ]
     },
     "execution_count": 17,
     "metadata": {},
     "output_type": "execute_result"
    }
   ],
   "execution_count": 17
  },
  {
   "metadata": {
    "ExecuteTime": {
     "end_time": "2024-12-02T11:46:01.430983Z",
     "start_time": "2024-12-02T11:46:01.418943Z"
    }
   },
   "cell_type": "code",
   "source": "util.df([fs.execution for fs in ib.fills()])[[\"execId\", \"time\", \"side\", \"cumQty\", \"avgPrice\"]].set_index(\"execId\")",
   "id": "3718c8c44a884399",
   "outputs": [
    {
     "data": {
      "text/plain": [
       "                                             time side  cumQty  avgPrice\n",
       "execId                                                                  \n",
       "0000e20f.674d4620.01.01 2024-12-02 11:45:06+00:00  BOT  1000.0   1.05255"
      ],
      "text/html": [
       "<div>\n",
       "<style scoped>\n",
       "    .dataframe tbody tr th:only-of-type {\n",
       "        vertical-align: middle;\n",
       "    }\n",
       "\n",
       "    .dataframe tbody tr th {\n",
       "        vertical-align: top;\n",
       "    }\n",
       "\n",
       "    .dataframe thead th {\n",
       "        text-align: right;\n",
       "    }\n",
       "</style>\n",
       "<table border=\"1\" class=\"dataframe\">\n",
       "  <thead>\n",
       "    <tr style=\"text-align: right;\">\n",
       "      <th></th>\n",
       "      <th>time</th>\n",
       "      <th>side</th>\n",
       "      <th>cumQty</th>\n",
       "      <th>avgPrice</th>\n",
       "    </tr>\n",
       "    <tr>\n",
       "      <th>execId</th>\n",
       "      <th></th>\n",
       "      <th></th>\n",
       "      <th></th>\n",
       "      <th></th>\n",
       "    </tr>\n",
       "  </thead>\n",
       "  <tbody>\n",
       "    <tr>\n",
       "      <th>0000e20f.674d4620.01.01</th>\n",
       "      <td>2024-12-02 11:45:06+00:00</td>\n",
       "      <td>BOT</td>\n",
       "      <td>1000.0</td>\n",
       "      <td>1.05255</td>\n",
       "    </tr>\n",
       "  </tbody>\n",
       "</table>\n",
       "</div>"
      ]
     },
     "execution_count": 18,
     "metadata": {},
     "output_type": "execute_result"
    }
   ],
   "execution_count": 18
  },
  {
   "metadata": {
    "ExecuteTime": {
     "end_time": "2024-12-02T11:46:01.650558Z",
     "start_time": "2024-12-02T11:46:01.639241Z"
    }
   },
   "cell_type": "code",
   "source": "util.df([fs.commissionReport for fs in ib.fills()])[[\"execId\", \"realizedPNL\"]].set_index(\"execId\")",
   "id": "a005bec94eeee961",
   "outputs": [
    {
     "data": {
      "text/plain": [
       "                         realizedPNL\n",
       "execId                              \n",
       "0000e20f.674d4620.01.01          0.0"
      ],
      "text/html": [
       "<div>\n",
       "<style scoped>\n",
       "    .dataframe tbody tr th:only-of-type {\n",
       "        vertical-align: middle;\n",
       "    }\n",
       "\n",
       "    .dataframe tbody tr th {\n",
       "        vertical-align: top;\n",
       "    }\n",
       "\n",
       "    .dataframe thead th {\n",
       "        text-align: right;\n",
       "    }\n",
       "</style>\n",
       "<table border=\"1\" class=\"dataframe\">\n",
       "  <thead>\n",
       "    <tr style=\"text-align: right;\">\n",
       "      <th></th>\n",
       "      <th>realizedPNL</th>\n",
       "    </tr>\n",
       "    <tr>\n",
       "      <th>execId</th>\n",
       "      <th></th>\n",
       "    </tr>\n",
       "  </thead>\n",
       "  <tbody>\n",
       "    <tr>\n",
       "      <th>0000e20f.674d4620.01.01</th>\n",
       "      <td>0.0</td>\n",
       "    </tr>\n",
       "  </tbody>\n",
       "</table>\n",
       "</div>"
      ]
     },
     "execution_count": 19,
     "metadata": {},
     "output_type": "execute_result"
    }
   ],
   "execution_count": 19
  },
  {
   "metadata": {
    "ExecuteTime": {
     "end_time": "2024-12-02T11:46:03.969241Z",
     "start_time": "2024-12-02T11:46:03.638748Z"
    }
   },
   "cell_type": "code",
   "source": [
    "# strategy parameters\n",
    "sma_s = 2\n",
    "sma_l = 5\n",
    "freq = \"1 min\"\n",
    "units = 1000\n",
    "contract = Forex('EURUSD') \n",
    "ib.qualifyContracts(contract)\n",
    "cfd = CFD(\"EUR\", currency = \"USD\")\n",
    "ib.qualifyContracts(cfd)\n",
    "conID = cfd.conId"
   ],
   "id": "9f36568fb01c4b07",
   "outputs": [],
   "execution_count": 20
  },
  {
   "metadata": {
    "ExecuteTime": {
     "end_time": "2024-12-02T11:46:04.246950Z",
     "start_time": "2024-12-02T11:46:04.237986Z"
    }
   },
   "cell_type": "code",
   "source": [
    "def onBarUpdate(bars, hasNewBar):  \n",
    "    global df, last_bar\n",
    "    \n",
    "    if bars[-1].date > last_bar: \n",
    "        last_bar = bars[-1].date\n",
    "    \n",
    "        # Data Processing\n",
    "        df = pd.DataFrame(bars)[[\"date\", \"open\", \"high\", \"low\", \"close\"]].iloc[:-1] \n",
    "        df.set_index(\"date\", inplace = True)\n",
    "        \n",
    "        ####################### Trading Strategy ###########################\n",
    "        df = df[[\"close\"]].copy()\n",
    "        df[\"sma_s\"] = df.close.rolling(sma_s).mean()\n",
    "        df[\"sma_l\"] = df.close.rolling(sma_l).mean()\n",
    "        df.dropna(inplace = True)\n",
    "        df[\"position\"] = np.where(df[\"sma_s\"] > df[\"sma_l\"], 1, -1 )\n",
    "        ####################################################################\n",
    "        \n",
    "        # Trading\n",
    "        target = df[\"position\"][-1] * units\n",
    "        execute_trade(target = target)\n",
    "        \n",
    "        # Display\n",
    "        clear_output(wait=True)\n",
    "        display(df)\n",
    "    else:\n",
    "        try:\n",
    "            trade_reporting()\n",
    "        except:\n",
    "            pass\n",
    "\n",
    "def execute_trade(target):\n",
    "    global current_pos\n",
    "    \n",
    "    # 1. get current Position\n",
    "    try:\n",
    "        current_pos = [pos.position for pos in ib.positions() if pos.contract.conId == conID][0]\n",
    "    except:\n",
    "        current_pos = 0\n",
    "         \n",
    "    # 2. identify required trades\n",
    "    trades = target - current_pos\n",
    "        \n",
    "    # 3. trade execution\n",
    "    if trades > 0:\n",
    "        side = \"BUY\"\n",
    "        order = MarketOrder(side, abs(trades))\n",
    "        trade = ib.placeOrder(cfd, order)  \n",
    "    elif trades < 0:\n",
    "        side = \"SELL\"\n",
    "        order = MarketOrder(side, abs(trades))\n",
    "        trade = ib.placeOrder(cfd, order)\n",
    "    else:\n",
    "        pass\n",
    "\n",
    "def trade_reporting():\n",
    "    global report\n",
    "    \n",
    "    fill_df = util.df([fs.execution for fs in ib.fills()])[[\"execId\", \"time\", \"side\", \"cumQty\", \"avgPrice\"]].set_index(\"execId\")\n",
    "    profit_df = util.df([fs.commissionReport for fs in ib.fills()])[[\"execId\", \"realizedPNL\"]].set_index(\"execId\")\n",
    "    report = pd.concat([fill_df, profit_df], axis = 1).set_index(\"time\").loc[session_start:]\n",
    "    report = report.groupby(\"time\").agg({\"side\":\"first\", \"cumQty\":\"max\", \"avgPrice\":\"mean\", \"realizedPNL\":\"sum\"})\n",
    "    report[\"cumPNL\"] = report.realizedPNL.cumsum()\n",
    "        \n",
    "    clear_output(wait=True)\n",
    "    display(df, report)"
   ],
   "id": "e43f5a7e79630b25",
   "outputs": [],
   "execution_count": 21
  },
  {
   "metadata": {},
   "cell_type": "code",
   "source": [
    "# session_start = pd.to_datetime(dt.datetime.utcnow()).tz_localize(\"utc\") # old\n",
    "session_start = pd.to_datetime(datetime.now(timezone.utc))# new \n",
    "bars = ib.reqHistoricalData(\n",
    "        contract,\n",
    "        endDateTime='',\n",
    "        durationStr='1 D',\n",
    "        barSizeSetting=freq,\n",
    "        whatToShow='MIDPOINT',\n",
    "        useRTH=True,\n",
    "        formatDate=2,\n",
    "        keepUpToDate=True)\n",
    "last_bar = bars[-1].date\n",
    "bars.updateEvent += onBarUpdate\n",
    "ib.sleep(120) # new - to be added"
   ],
   "id": "47491fe1c3dd3795",
   "execution_count": 22,
   "outputs": [
    {
     "data": {
      "text/plain": [
       "Empty DataFrame\n",
       "Columns: [side, cumQty, avgPrice, realizedPNL, cumPNL]\n",
       "Index: []"
      ],
      "text/html": [
       "<div>\n",
       "<style scoped>\n",
       "    .dataframe tbody tr th:only-of-type {\n",
       "        vertical-align: middle;\n",
       "    }\n",
       "\n",
       "    .dataframe tbody tr th {\n",
       "        vertical-align: top;\n",
       "    }\n",
       "\n",
       "    .dataframe thead th {\n",
       "        text-align: right;\n",
       "    }\n",
       "</style>\n",
       "<table border=\"1\" class=\"dataframe\">\n",
       "  <thead>\n",
       "    <tr style=\"text-align: right;\">\n",
       "      <th></th>\n",
       "      <th>side</th>\n",
       "      <th>cumQty</th>\n",
       "      <th>avgPrice</th>\n",
       "      <th>realizedPNL</th>\n",
       "      <th>cumPNL</th>\n",
       "    </tr>\n",
       "    <tr>\n",
       "      <th>time</th>\n",
       "      <th></th>\n",
       "      <th></th>\n",
       "      <th></th>\n",
       "      <th></th>\n",
       "      <th></th>\n",
       "    </tr>\n",
       "  </thead>\n",
       "  <tbody>\n",
       "  </tbody>\n",
       "</table>\n",
       "</div>"
      ]
     },
     "metadata": {},
     "output_type": "display_data"
    },
    {
     "ename": "KeyboardInterrupt",
     "evalue": "",
     "output_type": "error",
     "traceback": [
      "\u001B[0;31m---------------------------------------------------------------------------\u001B[0m",
      "\u001B[0;31mKeyboardInterrupt\u001B[0m                         Traceback (most recent call last)",
      "Cell \u001B[0;32mIn[22], line 14\u001B[0m\n\u001B[1;32m     12\u001B[0m last_bar \u001B[38;5;241m=\u001B[39m bars[\u001B[38;5;241m-\u001B[39m\u001B[38;5;241m1\u001B[39m]\u001B[38;5;241m.\u001B[39mdate\n\u001B[1;32m     13\u001B[0m bars\u001B[38;5;241m.\u001B[39mupdateEvent \u001B[38;5;241m+\u001B[39m\u001B[38;5;241m=\u001B[39m onBarUpdate\n\u001B[0;32m---> 14\u001B[0m \u001B[43mib\u001B[49m\u001B[38;5;241;43m.\u001B[39;49m\u001B[43msleep\u001B[49m\u001B[43m(\u001B[49m\u001B[38;5;241;43m120\u001B[39;49m\u001B[43m)\u001B[49m \u001B[38;5;66;03m# new - to be added\u001B[39;00m\n",
      "File \u001B[0;32m~/.local/lib/python3.12/site-packages/ib_async/util.py:405\u001B[0m, in \u001B[0;36msleep\u001B[0;34m(secs)\u001B[0m\n\u001B[1;32m    397\u001B[0m \u001B[38;5;28;01mdef\u001B[39;00m \u001B[38;5;21msleep\u001B[39m(secs: \u001B[38;5;28mfloat\u001B[39m \u001B[38;5;241m=\u001B[39m \u001B[38;5;241m0.02\u001B[39m) \u001B[38;5;241m-\u001B[39m\u001B[38;5;241m>\u001B[39m \u001B[38;5;28mbool\u001B[39m:\n\u001B[1;32m    398\u001B[0m \u001B[38;5;250m    \u001B[39m\u001B[38;5;124;03m\"\"\"\u001B[39;00m\n\u001B[1;32m    399\u001B[0m \u001B[38;5;124;03m    Wait for the given amount of seconds while everything still keeps\u001B[39;00m\n\u001B[1;32m    400\u001B[0m \u001B[38;5;124;03m    processing in the background. Never use time.sleep().\u001B[39;00m\n\u001B[0;32m   (...)\u001B[0m\n\u001B[1;32m    403\u001B[0m \u001B[38;5;124;03m        secs (float): Time in seconds to wait.\u001B[39;00m\n\u001B[1;32m    404\u001B[0m \u001B[38;5;124;03m    \"\"\"\u001B[39;00m\n\u001B[0;32m--> 405\u001B[0m     \u001B[43mrun\u001B[49m\u001B[43m(\u001B[49m\u001B[43masyncio\u001B[49m\u001B[38;5;241;43m.\u001B[39;49m\u001B[43msleep\u001B[49m\u001B[43m(\u001B[49m\u001B[43msecs\u001B[49m\u001B[43m)\u001B[49m\u001B[43m)\u001B[49m\n\u001B[1;32m    406\u001B[0m     \u001B[38;5;28;01mreturn\u001B[39;00m \u001B[38;5;28;01mTrue\u001B[39;00m\n",
      "File \u001B[0;32m~/.local/lib/python3.12/site-packages/ib_async/util.py:360\u001B[0m, in \u001B[0;36mrun\u001B[0;34m(timeout, *awaitables)\u001B[0m\n\u001B[1;32m    358\u001B[0m globalErrorEvent\u001B[38;5;241m.\u001B[39mconnect(onError)\n\u001B[1;32m    359\u001B[0m \u001B[38;5;28;01mtry\u001B[39;00m:\n\u001B[0;32m--> 360\u001B[0m     result \u001B[38;5;241m=\u001B[39m \u001B[43mloop\u001B[49m\u001B[38;5;241;43m.\u001B[39;49m\u001B[43mrun_until_complete\u001B[49m\u001B[43m(\u001B[49m\u001B[43mtask\u001B[49m\u001B[43m)\u001B[49m\n\u001B[1;32m    361\u001B[0m \u001B[38;5;28;01mexcept\u001B[39;00m asyncio\u001B[38;5;241m.\u001B[39mCancelledError \u001B[38;5;28;01mas\u001B[39;00m e:\n\u001B[1;32m    362\u001B[0m     \u001B[38;5;28;01mraise\u001B[39;00m globalErrorEvent\u001B[38;5;241m.\u001B[39mvalue() \u001B[38;5;129;01mor\u001B[39;00m e\n",
      "File \u001B[0;32m/usr/lib/python3/dist-packages/nest_asyncio.py:75\u001B[0m, in \u001B[0;36m_patch_loop.<locals>.run_until_complete\u001B[0;34m(self, future)\u001B[0m\n\u001B[1;32m     73\u001B[0m     f\u001B[38;5;241m.\u001B[39m_log_destroy_pending \u001B[38;5;241m=\u001B[39m \u001B[38;5;28;01mFalse\u001B[39;00m\n\u001B[1;32m     74\u001B[0m \u001B[38;5;28;01mwhile\u001B[39;00m \u001B[38;5;129;01mnot\u001B[39;00m f\u001B[38;5;241m.\u001B[39mdone():\n\u001B[0;32m---> 75\u001B[0m     \u001B[38;5;28;43mself\u001B[39;49m\u001B[38;5;241;43m.\u001B[39;49m\u001B[43m_run_once\u001B[49m\u001B[43m(\u001B[49m\u001B[43m)\u001B[49m\n\u001B[1;32m     76\u001B[0m     \u001B[38;5;28;01mif\u001B[39;00m \u001B[38;5;28mself\u001B[39m\u001B[38;5;241m.\u001B[39m_stopping:\n\u001B[1;32m     77\u001B[0m         \u001B[38;5;28;01mbreak\u001B[39;00m\n",
      "File \u001B[0;32m/usr/lib/python3/dist-packages/nest_asyncio.py:98\u001B[0m, in \u001B[0;36m_patch_loop.<locals>._run_once\u001B[0;34m(self)\u001B[0m\n\u001B[1;32m     91\u001B[0m     heappop(scheduled)\n\u001B[1;32m     93\u001B[0m timeout \u001B[38;5;241m=\u001B[39m (\n\u001B[1;32m     94\u001B[0m     \u001B[38;5;241m0\u001B[39m \u001B[38;5;28;01mif\u001B[39;00m ready \u001B[38;5;129;01mor\u001B[39;00m \u001B[38;5;28mself\u001B[39m\u001B[38;5;241m.\u001B[39m_stopping\n\u001B[1;32m     95\u001B[0m     \u001B[38;5;28;01melse\u001B[39;00m \u001B[38;5;28mmin\u001B[39m(\u001B[38;5;28mmax\u001B[39m(\n\u001B[1;32m     96\u001B[0m         scheduled[\u001B[38;5;241m0\u001B[39m]\u001B[38;5;241m.\u001B[39m_when \u001B[38;5;241m-\u001B[39m \u001B[38;5;28mself\u001B[39m\u001B[38;5;241m.\u001B[39mtime(), \u001B[38;5;241m0\u001B[39m), \u001B[38;5;241m86400\u001B[39m) \u001B[38;5;28;01mif\u001B[39;00m scheduled\n\u001B[1;32m     97\u001B[0m     \u001B[38;5;28;01melse\u001B[39;00m \u001B[38;5;28;01mNone\u001B[39;00m)\n\u001B[0;32m---> 98\u001B[0m event_list \u001B[38;5;241m=\u001B[39m \u001B[38;5;28;43mself\u001B[39;49m\u001B[38;5;241;43m.\u001B[39;49m\u001B[43m_selector\u001B[49m\u001B[38;5;241;43m.\u001B[39;49m\u001B[43mselect\u001B[49m\u001B[43m(\u001B[49m\u001B[43mtimeout\u001B[49m\u001B[43m)\u001B[49m\n\u001B[1;32m     99\u001B[0m \u001B[38;5;28mself\u001B[39m\u001B[38;5;241m.\u001B[39m_process_events(event_list)\n\u001B[1;32m    101\u001B[0m end_time \u001B[38;5;241m=\u001B[39m \u001B[38;5;28mself\u001B[39m\u001B[38;5;241m.\u001B[39mtime() \u001B[38;5;241m+\u001B[39m \u001B[38;5;28mself\u001B[39m\u001B[38;5;241m.\u001B[39m_clock_resolution\n",
      "File \u001B[0;32m/usr/lib/python3.12/selectors.py:468\u001B[0m, in \u001B[0;36mEpollSelector.select\u001B[0;34m(self, timeout)\u001B[0m\n\u001B[1;32m    466\u001B[0m ready \u001B[38;5;241m=\u001B[39m []\n\u001B[1;32m    467\u001B[0m \u001B[38;5;28;01mtry\u001B[39;00m:\n\u001B[0;32m--> 468\u001B[0m     fd_event_list \u001B[38;5;241m=\u001B[39m \u001B[38;5;28;43mself\u001B[39;49m\u001B[38;5;241;43m.\u001B[39;49m\u001B[43m_selector\u001B[49m\u001B[38;5;241;43m.\u001B[39;49m\u001B[43mpoll\u001B[49m\u001B[43m(\u001B[49m\u001B[43mtimeout\u001B[49m\u001B[43m,\u001B[49m\u001B[43m \u001B[49m\u001B[43mmax_ev\u001B[49m\u001B[43m)\u001B[49m\n\u001B[1;32m    469\u001B[0m \u001B[38;5;28;01mexcept\u001B[39;00m \u001B[38;5;167;01mInterruptedError\u001B[39;00m:\n\u001B[1;32m    470\u001B[0m     \u001B[38;5;28;01mreturn\u001B[39;00m ready\n",
      "\u001B[0;31mKeyboardInterrupt\u001B[0m: "
     ]
    }
   ]
  },
  {
   "metadata": {
    "ExecuteTime": {
     "end_time": "2024-12-02T11:46:31.770875Z",
     "start_time": "2024-12-02T11:46:31.761872Z"
    }
   },
   "cell_type": "code",
   "source": "df # still getting updated until you cancel. Trading continues until you cancel!!!",
   "id": "c46910f4d7cdfb71",
   "outputs": [
    {
     "data": {
      "text/plain": [
       "                              close     sma_s     sma_l  position\n",
       "date                                                             \n",
       "2024-12-02 01:34:00+00:00  1.053200  1.053307  1.054595        -1\n",
       "2024-12-02 01:35:00+00:00  1.053410  1.053311  1.054577        -1\n",
       "2024-12-02 01:36:00+00:00  1.053360  1.053314  1.054560        -1\n",
       "2024-12-02 01:37:00+00:00  1.053320  1.053314  1.054542        -1\n",
       "2024-12-02 01:38:00+00:00  1.053355  1.053314  1.054525        -1\n",
       "...                             ...       ...       ...       ...\n",
       "2024-12-02 11:40:00+00:00  1.052745  1.052390  1.051401         1\n",
       "2024-12-02 11:41:00+00:00  1.052725  1.052407  1.051411         1\n",
       "2024-12-02 11:42:00+00:00  1.052710  1.052422  1.051421         1\n",
       "2024-12-02 11:43:00+00:00  1.052525  1.052431  1.051430         1\n",
       "2024-12-02 11:44:00+00:00  1.052525  1.052443  1.051439         1\n",
       "\n",
       "[611 rows x 4 columns]"
      ],
      "text/html": [
       "<div>\n",
       "<style scoped>\n",
       "    .dataframe tbody tr th:only-of-type {\n",
       "        vertical-align: middle;\n",
       "    }\n",
       "\n",
       "    .dataframe tbody tr th {\n",
       "        vertical-align: top;\n",
       "    }\n",
       "\n",
       "    .dataframe thead th {\n",
       "        text-align: right;\n",
       "    }\n",
       "</style>\n",
       "<table border=\"1\" class=\"dataframe\">\n",
       "  <thead>\n",
       "    <tr style=\"text-align: right;\">\n",
       "      <th></th>\n",
       "      <th>close</th>\n",
       "      <th>sma_s</th>\n",
       "      <th>sma_l</th>\n",
       "      <th>position</th>\n",
       "    </tr>\n",
       "    <tr>\n",
       "      <th>date</th>\n",
       "      <th></th>\n",
       "      <th></th>\n",
       "      <th></th>\n",
       "      <th></th>\n",
       "    </tr>\n",
       "  </thead>\n",
       "  <tbody>\n",
       "    <tr>\n",
       "      <th>2024-12-02 01:34:00+00:00</th>\n",
       "      <td>1.053200</td>\n",
       "      <td>1.053307</td>\n",
       "      <td>1.054595</td>\n",
       "      <td>-1</td>\n",
       "    </tr>\n",
       "    <tr>\n",
       "      <th>2024-12-02 01:35:00+00:00</th>\n",
       "      <td>1.053410</td>\n",
       "      <td>1.053311</td>\n",
       "      <td>1.054577</td>\n",
       "      <td>-1</td>\n",
       "    </tr>\n",
       "    <tr>\n",
       "      <th>2024-12-02 01:36:00+00:00</th>\n",
       "      <td>1.053360</td>\n",
       "      <td>1.053314</td>\n",
       "      <td>1.054560</td>\n",
       "      <td>-1</td>\n",
       "    </tr>\n",
       "    <tr>\n",
       "      <th>2024-12-02 01:37:00+00:00</th>\n",
       "      <td>1.053320</td>\n",
       "      <td>1.053314</td>\n",
       "      <td>1.054542</td>\n",
       "      <td>-1</td>\n",
       "    </tr>\n",
       "    <tr>\n",
       "      <th>2024-12-02 01:38:00+00:00</th>\n",
       "      <td>1.053355</td>\n",
       "      <td>1.053314</td>\n",
       "      <td>1.054525</td>\n",
       "      <td>-1</td>\n",
       "    </tr>\n",
       "    <tr>\n",
       "      <th>...</th>\n",
       "      <td>...</td>\n",
       "      <td>...</td>\n",
       "      <td>...</td>\n",
       "      <td>...</td>\n",
       "    </tr>\n",
       "    <tr>\n",
       "      <th>2024-12-02 11:40:00+00:00</th>\n",
       "      <td>1.052745</td>\n",
       "      <td>1.052390</td>\n",
       "      <td>1.051401</td>\n",
       "      <td>1</td>\n",
       "    </tr>\n",
       "    <tr>\n",
       "      <th>2024-12-02 11:41:00+00:00</th>\n",
       "      <td>1.052725</td>\n",
       "      <td>1.052407</td>\n",
       "      <td>1.051411</td>\n",
       "      <td>1</td>\n",
       "    </tr>\n",
       "    <tr>\n",
       "      <th>2024-12-02 11:42:00+00:00</th>\n",
       "      <td>1.052710</td>\n",
       "      <td>1.052422</td>\n",
       "      <td>1.051421</td>\n",
       "      <td>1</td>\n",
       "    </tr>\n",
       "    <tr>\n",
       "      <th>2024-12-02 11:43:00+00:00</th>\n",
       "      <td>1.052525</td>\n",
       "      <td>1.052431</td>\n",
       "      <td>1.051430</td>\n",
       "      <td>1</td>\n",
       "    </tr>\n",
       "    <tr>\n",
       "      <th>2024-12-02 11:44:00+00:00</th>\n",
       "      <td>1.052525</td>\n",
       "      <td>1.052443</td>\n",
       "      <td>1.051439</td>\n",
       "      <td>1</td>\n",
       "    </tr>\n",
       "  </tbody>\n",
       "</table>\n",
       "<p>611 rows × 4 columns</p>\n",
       "</div>"
      ]
     },
     "execution_count": 23,
     "metadata": {},
     "output_type": "execute_result"
    }
   ],
   "execution_count": 23
  },
  {
   "metadata": {
    "ExecuteTime": {
     "end_time": "2024-12-02T11:46:32.360377Z",
     "start_time": "2024-12-02T11:46:32.353992Z"
    }
   },
   "cell_type": "code",
   "source": "report # still getting updated until you cancel. Trading continues until you cancel!!!",
   "id": "5ca81b966006d2a4",
   "outputs": [
    {
     "data": {
      "text/plain": [
       "Empty DataFrame\n",
       "Columns: [side, cumQty, avgPrice, realizedPNL, cumPNL]\n",
       "Index: []"
      ],
      "text/html": [
       "<div>\n",
       "<style scoped>\n",
       "    .dataframe tbody tr th:only-of-type {\n",
       "        vertical-align: middle;\n",
       "    }\n",
       "\n",
       "    .dataframe tbody tr th {\n",
       "        vertical-align: top;\n",
       "    }\n",
       "\n",
       "    .dataframe thead th {\n",
       "        text-align: right;\n",
       "    }\n",
       "</style>\n",
       "<table border=\"1\" class=\"dataframe\">\n",
       "  <thead>\n",
       "    <tr style=\"text-align: right;\">\n",
       "      <th></th>\n",
       "      <th>side</th>\n",
       "      <th>cumQty</th>\n",
       "      <th>avgPrice</th>\n",
       "      <th>realizedPNL</th>\n",
       "      <th>cumPNL</th>\n",
       "    </tr>\n",
       "    <tr>\n",
       "      <th>time</th>\n",
       "      <th></th>\n",
       "      <th></th>\n",
       "      <th></th>\n",
       "      <th></th>\n",
       "      <th></th>\n",
       "    </tr>\n",
       "  </thead>\n",
       "  <tbody>\n",
       "  </tbody>\n",
       "</table>\n",
       "</div>"
      ]
     },
     "execution_count": 24,
     "metadata": {},
     "output_type": "execute_result"
    }
   ],
   "execution_count": 24
  },
  {
   "metadata": {
    "ExecuteTime": {
     "end_time": "2024-12-02T11:46:32.760585Z",
     "start_time": "2024-12-02T11:46:32.757813Z"
    }
   },
   "cell_type": "code",
   "source": "ib.cancelHistoricalData(bars) # cancel trading",
   "id": "603cfec2d287f3ed",
   "outputs": [],
   "execution_count": 25
  },
  {
   "metadata": {
    "ExecuteTime": {
     "end_time": "2024-12-02T11:46:33.287387Z",
     "start_time": "2024-12-02T11:46:33.284794Z"
    }
   },
   "cell_type": "code",
   "source": "ib.disconnect()",
   "id": "aec62f288034d0df",
   "outputs": [],
   "execution_count": 26
  },
  {
   "metadata": {
    "ExecuteTime": {
     "end_time": "2024-12-02T11:46:34.447050Z",
     "start_time": "2024-12-02T11:46:34.445081Z"
    }
   },
   "cell_type": "code",
   "source": "",
   "id": "701217396bd2c270",
   "outputs": [],
   "execution_count": null
  },
  {
   "metadata": {},
   "cell_type": "markdown",
   "source": "## Stop the Trading Session",
   "id": "a7a0633b6139a2b9"
  },
  {
   "metadata": {},
   "cell_type": "markdown",
   "source": [
    "Potential Triggers:\n",
    "- stop at a certain time (e.g. 21:59 UTC time)\n",
    "- stop once a certain profit/loss limit has been reached\n",
    "- etc."
   ],
   "id": "e2d01fc972cf9cff"
  },
  {
   "metadata": {},
   "cell_type": "markdown",
   "source": [
    "Required Actions:\n",
    "- Stop Stream/Session\n",
    "- Close Open Position (go neutral)"
   ],
   "id": "bd62eb9b8e272eae"
  },
  {
   "metadata": {
    "ExecuteTime": {
     "end_time": "2024-12-02T11:46:38.939884Z",
     "start_time": "2024-12-02T11:46:38.937302Z"
    }
   },
   "cell_type": "code",
   "source": [
    "from ib_async import * \n",
    "import pandas as pd\n",
    "import numpy as np\n",
    "import datetime as dt\n",
    "from datetime import datetime, timezone # new\n",
    "from IPython.display import display, clear_output\n",
    "util.startLoop()"
   ],
   "id": "315c315c7c99995d",
   "outputs": [],
   "execution_count": 27
  },
  {
   "metadata": {
    "ExecuteTime": {
     "end_time": "2024-12-02T11:46:40.780215Z",
     "start_time": "2024-12-02T11:46:40.347822Z"
    }
   },
   "cell_type": "code",
   "source": [
    "ib = IB()\n",
    "ib.connect()"
   ],
   "id": "c6262a3b2fd4e9c4",
   "outputs": [
    {
     "data": {
      "text/plain": [
       "<IB connected to 127.0.0.1:7497 clientId=1>"
      ]
     },
     "execution_count": 28,
     "metadata": {},
     "output_type": "execute_result"
    }
   ],
   "execution_count": 28
  },
  {
   "metadata": {
    "ExecuteTime": {
     "end_time": "2024-12-02T11:46:41.135720Z",
     "start_time": "2024-12-02T11:46:40.844521Z"
    }
   },
   "cell_type": "code",
   "source": [
    "# strategy parameters\n",
    "sma_s = 2\n",
    "sma_l = 5\n",
    "freq = \"1 min\"\n",
    "units = 1000\n",
    "end_time = dt.time(11, 5, 0) # stop condition\n",
    "contract = Forex('EURUSD') \n",
    "ib.qualifyContracts(contract)\n",
    "cfd = CFD(\"EUR\", currency = \"USD\")\n",
    "ib.qualifyContracts(cfd)\n",
    "conID = cfd.conId"
   ],
   "id": "cec749f37fe68b1a",
   "outputs": [],
   "execution_count": 29
  },
  {
   "metadata": {
    "ExecuteTime": {
     "end_time": "2024-12-02T11:46:41.153667Z",
     "start_time": "2024-12-02T11:46:41.151441Z"
    }
   },
   "cell_type": "code",
   "source": "# dt.datetime.utcnow().time() #old",
   "id": "e532239355c332c0",
   "outputs": [],
   "execution_count": 30
  },
  {
   "metadata": {
    "ExecuteTime": {
     "end_time": "2024-12-02T11:46:41.461969Z",
     "start_time": "2024-12-02T11:46:41.459082Z"
    }
   },
   "cell_type": "code",
   "source": "datetime.now(timezone.utc).time() # new",
   "id": "89ae835b18eb36f6",
   "outputs": [
    {
     "data": {
      "text/plain": [
       "datetime.time(11, 46, 41, 459840)"
      ]
     },
     "execution_count": 31,
     "metadata": {},
     "output_type": "execute_result"
    }
   ],
   "execution_count": 31
  },
  {
   "metadata": {
    "ExecuteTime": {
     "end_time": "2024-12-02T11:46:41.661426Z",
     "start_time": "2024-12-02T11:46:41.657434Z"
    }
   },
   "cell_type": "code",
   "source": "datetime.now(timezone.utc).time() >= end_time # new",
   "id": "b8f647fcbb96d75d",
   "outputs": [
    {
     "data": {
      "text/plain": [
       "True"
      ]
     },
     "execution_count": 32,
     "metadata": {},
     "output_type": "execute_result"
    }
   ],
   "execution_count": 32
  },
  {
   "metadata": {
    "ExecuteTime": {
     "end_time": "2024-12-02T11:46:42.377568Z",
     "start_time": "2024-12-02T11:46:42.368482Z"
    }
   },
   "cell_type": "code",
   "source": [
    "def onBarUpdate(bars, hasNewBar):  \n",
    "    global df, last_bar\n",
    "    \n",
    "    if bars[-1].date > last_bar: \n",
    "        last_bar = bars[-1].date\n",
    "    \n",
    "        # Data Processing\n",
    "        df = pd.DataFrame(bars)[[\"date\", \"open\", \"high\", \"low\", \"close\"]].iloc[:-1] \n",
    "        df.set_index(\"date\", inplace = True)\n",
    "        \n",
    "        ####################### Trading Strategy ###########################\n",
    "        df = df[[\"close\"]].copy()\n",
    "        df[\"sma_s\"] = df.close.rolling(sma_s).mean()\n",
    "        df[\"sma_l\"] = df.close.rolling(sma_l).mean()\n",
    "        df.dropna(inplace = True)\n",
    "        df[\"position\"] = np.where(df[\"sma_s\"] > df[\"sma_l\"], 1, -1 )\n",
    "        ####################################################################\n",
    "        \n",
    "        # Trading\n",
    "        target = df[\"position\"][-1] * units\n",
    "        execute_trade(target = target)\n",
    "        \n",
    "        # Display\n",
    "        clear_output(wait=True)\n",
    "        display(df)\n",
    "    else:\n",
    "        try:\n",
    "            trade_reporting()\n",
    "        except:\n",
    "            pass\n",
    "\n",
    "def execute_trade(target):\n",
    "    global current_pos\n",
    "    \n",
    "    # 1. get current Position\n",
    "    try:\n",
    "        current_pos = [pos.position for pos in ib.positions() if pos.contract.conId == conID][0]\n",
    "    except:\n",
    "        current_pos = 0\n",
    "         \n",
    "    # 2. identify required trades\n",
    "    trades = target - current_pos\n",
    "        \n",
    "    # 3. trade execution\n",
    "    if trades > 0:\n",
    "        side = \"BUY\"\n",
    "        order = MarketOrder(side, abs(trades))\n",
    "        trade = ib.placeOrder(cfd, order)  \n",
    "    elif trades < 0:\n",
    "        side = \"SELL\"\n",
    "        order = MarketOrder(side, abs(trades))\n",
    "        trade = ib.placeOrder(cfd, order)\n",
    "    else:\n",
    "        pass\n",
    "\n",
    "def trade_reporting():\n",
    "    global report\n",
    "    \n",
    "    fill_df = util.df([fs.execution for fs in ib.fills()])[[\"execId\", \"time\", \"side\", \"cumQty\", \"avgPrice\"]].set_index(\"execId\")\n",
    "    profit_df = util.df([fs.commissionReport for fs in ib.fills()])[[\"execId\", \"realizedPNL\"]].set_index(\"execId\")\n",
    "    report = pd.concat([fill_df, profit_df], axis = 1).set_index(\"time\").loc[session_start:]\n",
    "    report = report.groupby(\"time\").agg({\"side\":\"first\", \"cumQty\":\"max\", \"avgPrice\":\"mean\", \"realizedPNL\":\"sum\"})\n",
    "    report[\"cumPNL\"] = report.realizedPNL.cumsum()\n",
    "        \n",
    "    clear_output(wait=True)\n",
    "    display(df, report)\n",
    "  "
   ],
   "id": "c103b173f1817176",
   "outputs": [],
   "execution_count": 33
  },
  {
   "metadata": {},
   "cell_type": "code",
   "source": [
    "# start trading session\n",
    "session_start = pd.to_datetime(datetime.now(timezone.utc))# new\n",
    "bars = ib.reqHistoricalData(\n",
    "        contract,\n",
    "        endDateTime='',\n",
    "        durationStr='1 D',\n",
    "        barSizeSetting=freq,\n",
    "        whatToShow='MIDPOINT',\n",
    "        useRTH=True,\n",
    "        formatDate=2,\n",
    "        keepUpToDate=True)\n",
    "last_bar = bars[-1].date\n",
    "bars.updateEvent += onBarUpdate\n",
    "ib.sleep(30) # new - to be added (optional)\n",
    "\n",
    "# stop trading session\n",
    "while True:\n",
    "    ib.sleep(5) # check every 5 seconds\n",
    "    if datetime.now(timezone.utc).time() >= end_time: # if stop conditions has been met\n",
    "        execute_trade(target = 0) # close open position \n",
    "        ib.cancelHistoricalData(bars) # stop stream\n",
    "        ib.sleep(10)\n",
    "        try:\n",
    "            trade_reporting() # final reporting\n",
    "        except:\n",
    "            pass\n",
    "        print(\"Session Stopped.\")\n",
    "        ib.disconnect()\n",
    "        break\n",
    "    else:\n",
    "        pass"
   ],
   "id": "8c8b707004a376c",
   "execution_count": 34,
   "outputs": [
    {
     "data": {
      "text/plain": [
       "Empty DataFrame\n",
       "Columns: [side, cumQty, avgPrice, realizedPNL, cumPNL]\n",
       "Index: []"
      ],
      "text/html": [
       "<div>\n",
       "<style scoped>\n",
       "    .dataframe tbody tr th:only-of-type {\n",
       "        vertical-align: middle;\n",
       "    }\n",
       "\n",
       "    .dataframe tbody tr th {\n",
       "        vertical-align: top;\n",
       "    }\n",
       "\n",
       "    .dataframe thead th {\n",
       "        text-align: right;\n",
       "    }\n",
       "</style>\n",
       "<table border=\"1\" class=\"dataframe\">\n",
       "  <thead>\n",
       "    <tr style=\"text-align: right;\">\n",
       "      <th></th>\n",
       "      <th>side</th>\n",
       "      <th>cumQty</th>\n",
       "      <th>avgPrice</th>\n",
       "      <th>realizedPNL</th>\n",
       "      <th>cumPNL</th>\n",
       "    </tr>\n",
       "    <tr>\n",
       "      <th>time</th>\n",
       "      <th></th>\n",
       "      <th></th>\n",
       "      <th></th>\n",
       "      <th></th>\n",
       "      <th></th>\n",
       "    </tr>\n",
       "  </thead>\n",
       "  <tbody>\n",
       "  </tbody>\n",
       "</table>\n",
       "</div>"
      ]
     },
     "metadata": {},
     "output_type": "display_data"
    },
    {
     "ename": "KeyboardInterrupt",
     "evalue": "",
     "output_type": "error",
     "traceback": [
      "\u001B[0;31m---------------------------------------------------------------------------\u001B[0m",
      "\u001B[0;31mKeyboardInterrupt\u001B[0m                         Traceback (most recent call last)",
      "Cell \u001B[0;32mIn[34], line 14\u001B[0m\n\u001B[1;32m     12\u001B[0m last_bar \u001B[38;5;241m=\u001B[39m bars[\u001B[38;5;241m-\u001B[39m\u001B[38;5;241m1\u001B[39m]\u001B[38;5;241m.\u001B[39mdate\n\u001B[1;32m     13\u001B[0m bars\u001B[38;5;241m.\u001B[39mupdateEvent \u001B[38;5;241m+\u001B[39m\u001B[38;5;241m=\u001B[39m onBarUpdate\n\u001B[0;32m---> 14\u001B[0m \u001B[43mib\u001B[49m\u001B[38;5;241;43m.\u001B[39;49m\u001B[43msleep\u001B[49m\u001B[43m(\u001B[49m\u001B[38;5;241;43m30\u001B[39;49m\u001B[43m)\u001B[49m \u001B[38;5;66;03m# new - to be added (optional)\u001B[39;00m\n\u001B[1;32m     16\u001B[0m \u001B[38;5;66;03m# stop trading session\u001B[39;00m\n\u001B[1;32m     17\u001B[0m \u001B[38;5;28;01mwhile\u001B[39;00m \u001B[38;5;28;01mTrue\u001B[39;00m:\n",
      "File \u001B[0;32m~/.local/lib/python3.12/site-packages/ib_async/util.py:405\u001B[0m, in \u001B[0;36msleep\u001B[0;34m(secs)\u001B[0m\n\u001B[1;32m    397\u001B[0m \u001B[38;5;28;01mdef\u001B[39;00m \u001B[38;5;21msleep\u001B[39m(secs: \u001B[38;5;28mfloat\u001B[39m \u001B[38;5;241m=\u001B[39m \u001B[38;5;241m0.02\u001B[39m) \u001B[38;5;241m-\u001B[39m\u001B[38;5;241m>\u001B[39m \u001B[38;5;28mbool\u001B[39m:\n\u001B[1;32m    398\u001B[0m \u001B[38;5;250m    \u001B[39m\u001B[38;5;124;03m\"\"\"\u001B[39;00m\n\u001B[1;32m    399\u001B[0m \u001B[38;5;124;03m    Wait for the given amount of seconds while everything still keeps\u001B[39;00m\n\u001B[1;32m    400\u001B[0m \u001B[38;5;124;03m    processing in the background. Never use time.sleep().\u001B[39;00m\n\u001B[0;32m   (...)\u001B[0m\n\u001B[1;32m    403\u001B[0m \u001B[38;5;124;03m        secs (float): Time in seconds to wait.\u001B[39;00m\n\u001B[1;32m    404\u001B[0m \u001B[38;5;124;03m    \"\"\"\u001B[39;00m\n\u001B[0;32m--> 405\u001B[0m     \u001B[43mrun\u001B[49m\u001B[43m(\u001B[49m\u001B[43masyncio\u001B[49m\u001B[38;5;241;43m.\u001B[39;49m\u001B[43msleep\u001B[49m\u001B[43m(\u001B[49m\u001B[43msecs\u001B[49m\u001B[43m)\u001B[49m\u001B[43m)\u001B[49m\n\u001B[1;32m    406\u001B[0m     \u001B[38;5;28;01mreturn\u001B[39;00m \u001B[38;5;28;01mTrue\u001B[39;00m\n",
      "File \u001B[0;32m~/.local/lib/python3.12/site-packages/ib_async/util.py:360\u001B[0m, in \u001B[0;36mrun\u001B[0;34m(timeout, *awaitables)\u001B[0m\n\u001B[1;32m    358\u001B[0m globalErrorEvent\u001B[38;5;241m.\u001B[39mconnect(onError)\n\u001B[1;32m    359\u001B[0m \u001B[38;5;28;01mtry\u001B[39;00m:\n\u001B[0;32m--> 360\u001B[0m     result \u001B[38;5;241m=\u001B[39m \u001B[43mloop\u001B[49m\u001B[38;5;241;43m.\u001B[39;49m\u001B[43mrun_until_complete\u001B[49m\u001B[43m(\u001B[49m\u001B[43mtask\u001B[49m\u001B[43m)\u001B[49m\n\u001B[1;32m    361\u001B[0m \u001B[38;5;28;01mexcept\u001B[39;00m asyncio\u001B[38;5;241m.\u001B[39mCancelledError \u001B[38;5;28;01mas\u001B[39;00m e:\n\u001B[1;32m    362\u001B[0m     \u001B[38;5;28;01mraise\u001B[39;00m globalErrorEvent\u001B[38;5;241m.\u001B[39mvalue() \u001B[38;5;129;01mor\u001B[39;00m e\n",
      "File \u001B[0;32m/usr/lib/python3/dist-packages/nest_asyncio.py:75\u001B[0m, in \u001B[0;36m_patch_loop.<locals>.run_until_complete\u001B[0;34m(self, future)\u001B[0m\n\u001B[1;32m     73\u001B[0m     f\u001B[38;5;241m.\u001B[39m_log_destroy_pending \u001B[38;5;241m=\u001B[39m \u001B[38;5;28;01mFalse\u001B[39;00m\n\u001B[1;32m     74\u001B[0m \u001B[38;5;28;01mwhile\u001B[39;00m \u001B[38;5;129;01mnot\u001B[39;00m f\u001B[38;5;241m.\u001B[39mdone():\n\u001B[0;32m---> 75\u001B[0m     \u001B[38;5;28;43mself\u001B[39;49m\u001B[38;5;241;43m.\u001B[39;49m\u001B[43m_run_once\u001B[49m\u001B[43m(\u001B[49m\u001B[43m)\u001B[49m\n\u001B[1;32m     76\u001B[0m     \u001B[38;5;28;01mif\u001B[39;00m \u001B[38;5;28mself\u001B[39m\u001B[38;5;241m.\u001B[39m_stopping:\n\u001B[1;32m     77\u001B[0m         \u001B[38;5;28;01mbreak\u001B[39;00m\n",
      "File \u001B[0;32m/usr/lib/python3/dist-packages/nest_asyncio.py:98\u001B[0m, in \u001B[0;36m_patch_loop.<locals>._run_once\u001B[0;34m(self)\u001B[0m\n\u001B[1;32m     91\u001B[0m     heappop(scheduled)\n\u001B[1;32m     93\u001B[0m timeout \u001B[38;5;241m=\u001B[39m (\n\u001B[1;32m     94\u001B[0m     \u001B[38;5;241m0\u001B[39m \u001B[38;5;28;01mif\u001B[39;00m ready \u001B[38;5;129;01mor\u001B[39;00m \u001B[38;5;28mself\u001B[39m\u001B[38;5;241m.\u001B[39m_stopping\n\u001B[1;32m     95\u001B[0m     \u001B[38;5;28;01melse\u001B[39;00m \u001B[38;5;28mmin\u001B[39m(\u001B[38;5;28mmax\u001B[39m(\n\u001B[1;32m     96\u001B[0m         scheduled[\u001B[38;5;241m0\u001B[39m]\u001B[38;5;241m.\u001B[39m_when \u001B[38;5;241m-\u001B[39m \u001B[38;5;28mself\u001B[39m\u001B[38;5;241m.\u001B[39mtime(), \u001B[38;5;241m0\u001B[39m), \u001B[38;5;241m86400\u001B[39m) \u001B[38;5;28;01mif\u001B[39;00m scheduled\n\u001B[1;32m     97\u001B[0m     \u001B[38;5;28;01melse\u001B[39;00m \u001B[38;5;28;01mNone\u001B[39;00m)\n\u001B[0;32m---> 98\u001B[0m event_list \u001B[38;5;241m=\u001B[39m \u001B[38;5;28;43mself\u001B[39;49m\u001B[38;5;241;43m.\u001B[39;49m\u001B[43m_selector\u001B[49m\u001B[38;5;241;43m.\u001B[39;49m\u001B[43mselect\u001B[49m\u001B[43m(\u001B[49m\u001B[43mtimeout\u001B[49m\u001B[43m)\u001B[49m\n\u001B[1;32m     99\u001B[0m \u001B[38;5;28mself\u001B[39m\u001B[38;5;241m.\u001B[39m_process_events(event_list)\n\u001B[1;32m    101\u001B[0m end_time \u001B[38;5;241m=\u001B[39m \u001B[38;5;28mself\u001B[39m\u001B[38;5;241m.\u001B[39mtime() \u001B[38;5;241m+\u001B[39m \u001B[38;5;28mself\u001B[39m\u001B[38;5;241m.\u001B[39m_clock_resolution\n",
      "File \u001B[0;32m/usr/lib/python3.12/selectors.py:468\u001B[0m, in \u001B[0;36mEpollSelector.select\u001B[0;34m(self, timeout)\u001B[0m\n\u001B[1;32m    466\u001B[0m ready \u001B[38;5;241m=\u001B[39m []\n\u001B[1;32m    467\u001B[0m \u001B[38;5;28;01mtry\u001B[39;00m:\n\u001B[0;32m--> 468\u001B[0m     fd_event_list \u001B[38;5;241m=\u001B[39m \u001B[38;5;28;43mself\u001B[39;49m\u001B[38;5;241;43m.\u001B[39;49m\u001B[43m_selector\u001B[49m\u001B[38;5;241;43m.\u001B[39;49m\u001B[43mpoll\u001B[49m\u001B[43m(\u001B[49m\u001B[43mtimeout\u001B[49m\u001B[43m,\u001B[49m\u001B[43m \u001B[49m\u001B[43mmax_ev\u001B[49m\u001B[43m)\u001B[49m\n\u001B[1;32m    469\u001B[0m \u001B[38;5;28;01mexcept\u001B[39;00m \u001B[38;5;167;01mInterruptedError\u001B[39;00m:\n\u001B[1;32m    470\u001B[0m     \u001B[38;5;28;01mreturn\u001B[39;00m ready\n",
      "\u001B[0;31mKeyboardInterrupt\u001B[0m: "
     ]
    }
   ]
  },
  {
   "metadata": {},
   "cell_type": "code",
   "outputs": [],
   "execution_count": null,
   "source": "",
   "id": "f9301fbd0ea4584e"
  },
  {
   "metadata": {},
   "cell_type": "markdown",
   "source": "## Trading other Strategies - Coding Challenge",
   "id": "e48871dfb5b892f5"
  },
  {
   "metadata": {
    "ExecuteTime": {
     "end_time": "2024-12-02T11:46:52.569947Z",
     "start_time": "2024-12-02T11:46:52.567333Z"
    }
   },
   "cell_type": "code",
   "source": [
    "from ib_async import * \n",
    "import pandas as pd\n",
    "import numpy as np\n",
    "import datetime as dt\n",
    "from datetime import datetime, timezone # new\n",
    "from IPython.display import display, clear_output\n",
    "util.startLoop()"
   ],
   "id": "928d008cb496b5b5",
   "outputs": [],
   "execution_count": 35
  },
  {
   "metadata": {
    "ExecuteTime": {
     "end_time": "2024-12-02T11:46:57.594024Z",
     "start_time": "2024-12-02T11:46:53.986266Z"
    }
   },
   "cell_type": "code",
   "source": [
    "ib = IB()\n",
    "ib.connect()"
   ],
   "id": "4afc00d2fb799ec",
   "outputs": [
    {
     "name": "stderr",
     "output_type": "stream",
     "text": [
      "Peer closed connection. clientId 1 already in use?\n"
     ]
    },
    {
     "ename": "KeyboardInterrupt",
     "evalue": "",
     "output_type": "error",
     "traceback": [
      "\u001B[0;31m---------------------------------------------------------------------------\u001B[0m",
      "\u001B[0;31mKeyboardInterrupt\u001B[0m                         Traceback (most recent call last)",
      "Cell \u001B[0;32mIn[36], line 2\u001B[0m\n\u001B[1;32m      1\u001B[0m ib \u001B[38;5;241m=\u001B[39m IB()\n\u001B[0;32m----> 2\u001B[0m \u001B[43mib\u001B[49m\u001B[38;5;241;43m.\u001B[39;49m\u001B[43mconnect\u001B[49m\u001B[43m(\u001B[49m\u001B[43m)\u001B[49m\n",
      "File \u001B[0;32m~/.local/lib/python3.12/site-packages/ib_async/ib.py:367\u001B[0m, in \u001B[0;36mIB.connect\u001B[0;34m(self, host, port, clientId, timeout, readonly, account, raiseSyncErrors, fetchFields)\u001B[0m\n\u001B[1;32m    327\u001B[0m \u001B[38;5;28;01mdef\u001B[39;00m \u001B[38;5;21mconnect\u001B[39m(\n\u001B[1;32m    328\u001B[0m     \u001B[38;5;28mself\u001B[39m,\n\u001B[1;32m    329\u001B[0m     host: \u001B[38;5;28mstr\u001B[39m \u001B[38;5;241m=\u001B[39m \u001B[38;5;124m\"\u001B[39m\u001B[38;5;124m127.0.0.1\u001B[39m\u001B[38;5;124m\"\u001B[39m,\n\u001B[0;32m   (...)\u001B[0m\n\u001B[1;32m    336\u001B[0m     fetchFields: StartupFetch \u001B[38;5;241m=\u001B[39m StartupFetchALL,\n\u001B[1;32m    337\u001B[0m ):\n\u001B[1;32m    338\u001B[0m \u001B[38;5;250m    \u001B[39m\u001B[38;5;124;03m\"\"\"\u001B[39;00m\n\u001B[1;32m    339\u001B[0m \u001B[38;5;124;03m    Connect to a running TWS or IB gateway application.\u001B[39;00m\n\u001B[1;32m    340\u001B[0m \u001B[38;5;124;03m    After the connection is made the client is fully synchronized\u001B[39;00m\n\u001B[0;32m   (...)\u001B[0m\n\u001B[1;32m    365\u001B[0m \u001B[38;5;124;03m          to the ``fetchFields`` parameter as needed.\u001B[39;00m\n\u001B[1;32m    366\u001B[0m \u001B[38;5;124;03m    \"\"\"\u001B[39;00m\n\u001B[0;32m--> 367\u001B[0m     \u001B[38;5;28;01mreturn\u001B[39;00m \u001B[38;5;28;43mself\u001B[39;49m\u001B[38;5;241;43m.\u001B[39;49m\u001B[43m_run\u001B[49m\u001B[43m(\u001B[49m\n\u001B[1;32m    368\u001B[0m \u001B[43m        \u001B[49m\u001B[38;5;28;43mself\u001B[39;49m\u001B[38;5;241;43m.\u001B[39;49m\u001B[43mconnectAsync\u001B[49m\u001B[43m(\u001B[49m\n\u001B[1;32m    369\u001B[0m \u001B[43m            \u001B[49m\u001B[43mhost\u001B[49m\u001B[43m,\u001B[49m\n\u001B[1;32m    370\u001B[0m \u001B[43m            \u001B[49m\u001B[43mport\u001B[49m\u001B[43m,\u001B[49m\n\u001B[1;32m    371\u001B[0m \u001B[43m            \u001B[49m\u001B[43mclientId\u001B[49m\u001B[43m,\u001B[49m\n\u001B[1;32m    372\u001B[0m \u001B[43m            \u001B[49m\u001B[43mtimeout\u001B[49m\u001B[43m,\u001B[49m\n\u001B[1;32m    373\u001B[0m \u001B[43m            \u001B[49m\u001B[43mreadonly\u001B[49m\u001B[43m,\u001B[49m\n\u001B[1;32m    374\u001B[0m \u001B[43m            \u001B[49m\u001B[43maccount\u001B[49m\u001B[43m,\u001B[49m\n\u001B[1;32m    375\u001B[0m \u001B[43m            \u001B[49m\u001B[43mraiseSyncErrors\u001B[49m\u001B[43m,\u001B[49m\n\u001B[1;32m    376\u001B[0m \u001B[43m            \u001B[49m\u001B[43mfetchFields\u001B[49m\u001B[43m,\u001B[49m\n\u001B[1;32m    377\u001B[0m \u001B[43m        \u001B[49m\u001B[43m)\u001B[49m\n\u001B[1;32m    378\u001B[0m \u001B[43m    \u001B[49m\u001B[43m)\u001B[49m\n",
      "File \u001B[0;32m~/.local/lib/python3.12/site-packages/ib_async/ib.py:418\u001B[0m, in \u001B[0;36mIB._run\u001B[0;34m(self, *awaitables)\u001B[0m\n\u001B[1;32m    417\u001B[0m \u001B[38;5;28;01mdef\u001B[39;00m \u001B[38;5;21m_run\u001B[39m(\u001B[38;5;28mself\u001B[39m, \u001B[38;5;241m*\u001B[39mawaitables: Awaitable):\n\u001B[0;32m--> 418\u001B[0m     \u001B[38;5;28;01mreturn\u001B[39;00m \u001B[43mutil\u001B[49m\u001B[38;5;241;43m.\u001B[39;49m\u001B[43mrun\u001B[49m\u001B[43m(\u001B[49m\u001B[38;5;241;43m*\u001B[39;49m\u001B[43mawaitables\u001B[49m\u001B[43m,\u001B[49m\u001B[43m \u001B[49m\u001B[43mtimeout\u001B[49m\u001B[38;5;241;43m=\u001B[39;49m\u001B[38;5;28;43mself\u001B[39;49m\u001B[38;5;241;43m.\u001B[39;49m\u001B[43mRequestTimeout\u001B[49m\u001B[43m)\u001B[49m\n",
      "File \u001B[0;32m~/.local/lib/python3.12/site-packages/ib_async/util.py:360\u001B[0m, in \u001B[0;36mrun\u001B[0;34m(timeout, *awaitables)\u001B[0m\n\u001B[1;32m    358\u001B[0m globalErrorEvent\u001B[38;5;241m.\u001B[39mconnect(onError)\n\u001B[1;32m    359\u001B[0m \u001B[38;5;28;01mtry\u001B[39;00m:\n\u001B[0;32m--> 360\u001B[0m     result \u001B[38;5;241m=\u001B[39m \u001B[43mloop\u001B[49m\u001B[38;5;241;43m.\u001B[39;49m\u001B[43mrun_until_complete\u001B[49m\u001B[43m(\u001B[49m\u001B[43mtask\u001B[49m\u001B[43m)\u001B[49m\n\u001B[1;32m    361\u001B[0m \u001B[38;5;28;01mexcept\u001B[39;00m asyncio\u001B[38;5;241m.\u001B[39mCancelledError \u001B[38;5;28;01mas\u001B[39;00m e:\n\u001B[1;32m    362\u001B[0m     \u001B[38;5;28;01mraise\u001B[39;00m globalErrorEvent\u001B[38;5;241m.\u001B[39mvalue() \u001B[38;5;129;01mor\u001B[39;00m e\n",
      "File \u001B[0;32m/usr/lib/python3/dist-packages/nest_asyncio.py:75\u001B[0m, in \u001B[0;36m_patch_loop.<locals>.run_until_complete\u001B[0;34m(self, future)\u001B[0m\n\u001B[1;32m     73\u001B[0m     f\u001B[38;5;241m.\u001B[39m_log_destroy_pending \u001B[38;5;241m=\u001B[39m \u001B[38;5;28;01mFalse\u001B[39;00m\n\u001B[1;32m     74\u001B[0m \u001B[38;5;28;01mwhile\u001B[39;00m \u001B[38;5;129;01mnot\u001B[39;00m f\u001B[38;5;241m.\u001B[39mdone():\n\u001B[0;32m---> 75\u001B[0m     \u001B[38;5;28;43mself\u001B[39;49m\u001B[38;5;241;43m.\u001B[39;49m\u001B[43m_run_once\u001B[49m\u001B[43m(\u001B[49m\u001B[43m)\u001B[49m\n\u001B[1;32m     76\u001B[0m     \u001B[38;5;28;01mif\u001B[39;00m \u001B[38;5;28mself\u001B[39m\u001B[38;5;241m.\u001B[39m_stopping:\n\u001B[1;32m     77\u001B[0m         \u001B[38;5;28;01mbreak\u001B[39;00m\n",
      "File \u001B[0;32m/usr/lib/python3/dist-packages/nest_asyncio.py:98\u001B[0m, in \u001B[0;36m_patch_loop.<locals>._run_once\u001B[0;34m(self)\u001B[0m\n\u001B[1;32m     91\u001B[0m     heappop(scheduled)\n\u001B[1;32m     93\u001B[0m timeout \u001B[38;5;241m=\u001B[39m (\n\u001B[1;32m     94\u001B[0m     \u001B[38;5;241m0\u001B[39m \u001B[38;5;28;01mif\u001B[39;00m ready \u001B[38;5;129;01mor\u001B[39;00m \u001B[38;5;28mself\u001B[39m\u001B[38;5;241m.\u001B[39m_stopping\n\u001B[1;32m     95\u001B[0m     \u001B[38;5;28;01melse\u001B[39;00m \u001B[38;5;28mmin\u001B[39m(\u001B[38;5;28mmax\u001B[39m(\n\u001B[1;32m     96\u001B[0m         scheduled[\u001B[38;5;241m0\u001B[39m]\u001B[38;5;241m.\u001B[39m_when \u001B[38;5;241m-\u001B[39m \u001B[38;5;28mself\u001B[39m\u001B[38;5;241m.\u001B[39mtime(), \u001B[38;5;241m0\u001B[39m), \u001B[38;5;241m86400\u001B[39m) \u001B[38;5;28;01mif\u001B[39;00m scheduled\n\u001B[1;32m     97\u001B[0m     \u001B[38;5;28;01melse\u001B[39;00m \u001B[38;5;28;01mNone\u001B[39;00m)\n\u001B[0;32m---> 98\u001B[0m event_list \u001B[38;5;241m=\u001B[39m \u001B[38;5;28;43mself\u001B[39;49m\u001B[38;5;241;43m.\u001B[39;49m\u001B[43m_selector\u001B[49m\u001B[38;5;241;43m.\u001B[39;49m\u001B[43mselect\u001B[49m\u001B[43m(\u001B[49m\u001B[43mtimeout\u001B[49m\u001B[43m)\u001B[49m\n\u001B[1;32m     99\u001B[0m \u001B[38;5;28mself\u001B[39m\u001B[38;5;241m.\u001B[39m_process_events(event_list)\n\u001B[1;32m    101\u001B[0m end_time \u001B[38;5;241m=\u001B[39m \u001B[38;5;28mself\u001B[39m\u001B[38;5;241m.\u001B[39mtime() \u001B[38;5;241m+\u001B[39m \u001B[38;5;28mself\u001B[39m\u001B[38;5;241m.\u001B[39m_clock_resolution\n",
      "File \u001B[0;32m/usr/lib/python3.12/selectors.py:468\u001B[0m, in \u001B[0;36mEpollSelector.select\u001B[0;34m(self, timeout)\u001B[0m\n\u001B[1;32m    466\u001B[0m ready \u001B[38;5;241m=\u001B[39m []\n\u001B[1;32m    467\u001B[0m \u001B[38;5;28;01mtry\u001B[39;00m:\n\u001B[0;32m--> 468\u001B[0m     fd_event_list \u001B[38;5;241m=\u001B[39m \u001B[38;5;28;43mself\u001B[39;49m\u001B[38;5;241;43m.\u001B[39;49m\u001B[43m_selector\u001B[49m\u001B[38;5;241;43m.\u001B[39;49m\u001B[43mpoll\u001B[49m\u001B[43m(\u001B[49m\u001B[43mtimeout\u001B[49m\u001B[43m,\u001B[49m\u001B[43m \u001B[49m\u001B[43mmax_ev\u001B[49m\u001B[43m)\u001B[49m\n\u001B[1;32m    469\u001B[0m \u001B[38;5;28;01mexcept\u001B[39;00m \u001B[38;5;167;01mInterruptedError\u001B[39;00m:\n\u001B[1;32m    470\u001B[0m     \u001B[38;5;28;01mreturn\u001B[39;00m ready\n",
      "\u001B[0;31mKeyboardInterrupt\u001B[0m: "
     ]
    }
   ],
   "execution_count": 36
  },
  {
   "metadata": {},
   "cell_type": "markdown",
   "source": "__Strategy 1__: Simple Contrarian Strategy (1min / window = 1)",
   "id": "429289fc34f213b6"
  },
  {
   "metadata": {},
   "cell_type": "code",
   "outputs": [],
   "execution_count": null,
   "source": "",
   "id": "dd7bf23c80a5dae2"
  },
  {
   "metadata": {},
   "cell_type": "markdown",
   "source": "## Stop here if you don´t want to see the solution!",
   "id": "e81b2fcc8f2ee3c6"
  },
  {
   "metadata": {},
   "cell_type": "markdown",
   "source": "###############################################################",
   "id": "54de20636be6bb60"
  },
  {
   "metadata": {},
   "cell_type": "code",
   "outputs": [],
   "execution_count": null,
   "source": "",
   "id": "ecb66585d649164b"
  },
  {
   "metadata": {
    "ExecuteTime": {
     "end_time": "2024-12-02T11:47:03.605986Z",
     "start_time": "2024-12-02T11:47:03.539097Z"
    }
   },
   "cell_type": "code",
   "source": [
    "# strategy parameters\n",
    "freq = \"1 min\"\n",
    "window = 1\n",
    "units = 1000\n",
    "end_time = dt.time(21, 59, 0) # stop condition\n",
    "contract = Forex('EURUSD') \n",
    "ib.qualifyContracts(contract)\n",
    "cfd = CFD(\"EUR\", currency = \"USD\")\n",
    "ib.qualifyContracts(cfd)\n",
    "conID = cfd.conId"
   ],
   "id": "2b25e4d7ac68556",
   "outputs": [
    {
     "name": "stderr",
     "output_type": "stream",
     "text": [
      "Task exception was never retrieved\n",
      "future: <Task finished name='Task-32' coro=<IB.connectAsync() done, defined at /home/aldoran/.local/lib/python3.12/site-packages/ib_async/ib.py:2004> exception=TimeoutError()>\n",
      "Traceback (most recent call last):\n",
      "  File \"/usr/lib/python3.12/asyncio/tasks.py\", line 520, in wait_for\n",
      "    return await fut\n",
      "           ^^^^^^^^^\n",
      "  File \"/usr/lib/python3.12/asyncio/futures.py\", line 287, in __await__\n",
      "    yield self  # This tells Task to wait for completion.\n",
      "    ^^^^^^^^^^\n",
      "  File \"/usr/lib/python3.12/asyncio/tasks.py\", line 385, in __wakeup\n",
      "    future.result()\n",
      "  File \"/usr/lib/python3.12/asyncio/futures.py\", line 198, in result\n",
      "    raise exc\n",
      "asyncio.exceptions.CancelledError\n",
      "\n",
      "The above exception was the direct cause of the following exception:\n",
      "\n",
      "Traceback (most recent call last):\n",
      "  File \"/usr/lib/python3.12/asyncio/tasks.py\", line 316, in __step_run_and_handle_result\n",
      "    result = coro.throw(exc)\n",
      "             ^^^^^^^^^^^^^^^\n",
      "  File \"/home/aldoran/.local/lib/python3.12/site-packages/ib_async/ib.py\", line 2020, in connectAsync\n",
      "    await self.client.connectAsync(host, port, clientId, timeout)\n",
      "  File \"/home/aldoran/.local/lib/python3.12/site-packages/ib_async/client.py\", line 228, in connectAsync\n",
      "    await asyncio.wait_for(self.apiStart, timeout)\n",
      "  File \"/usr/lib/python3.12/asyncio/tasks.py\", line 519, in wait_for\n",
      "    async with timeouts.timeout(timeout):\n",
      "  File \"/usr/lib/python3.12/asyncio/timeouts.py\", line 115, in __aexit__\n",
      "    raise TimeoutError from exc_val\n",
      "TimeoutError\n"
     ]
    },
    {
     "ename": "ConnectionError",
     "evalue": "Not connected",
     "output_type": "error",
     "traceback": [
      "\u001B[0;31m---------------------------------------------------------------------------\u001B[0m",
      "\u001B[0;31mConnectionError\u001B[0m                           Traceback (most recent call last)",
      "Cell \u001B[0;32mIn[37], line 7\u001B[0m\n\u001B[1;32m      5\u001B[0m end_time \u001B[38;5;241m=\u001B[39m dt\u001B[38;5;241m.\u001B[39mtime(\u001B[38;5;241m21\u001B[39m, \u001B[38;5;241m59\u001B[39m, \u001B[38;5;241m0\u001B[39m) \u001B[38;5;66;03m# stop condition\u001B[39;00m\n\u001B[1;32m      6\u001B[0m contract \u001B[38;5;241m=\u001B[39m Forex(\u001B[38;5;124m'\u001B[39m\u001B[38;5;124mEURUSD\u001B[39m\u001B[38;5;124m'\u001B[39m) \n\u001B[0;32m----> 7\u001B[0m \u001B[43mib\u001B[49m\u001B[38;5;241;43m.\u001B[39;49m\u001B[43mqualifyContracts\u001B[49m\u001B[43m(\u001B[49m\u001B[43mcontract\u001B[49m\u001B[43m)\u001B[49m\n\u001B[1;32m      8\u001B[0m cfd \u001B[38;5;241m=\u001B[39m CFD(\u001B[38;5;124m\"\u001B[39m\u001B[38;5;124mEUR\u001B[39m\u001B[38;5;124m\"\u001B[39m, currency \u001B[38;5;241m=\u001B[39m \u001B[38;5;124m\"\u001B[39m\u001B[38;5;124mUSD\u001B[39m\u001B[38;5;124m\"\u001B[39m)\n\u001B[1;32m      9\u001B[0m ib\u001B[38;5;241m.\u001B[39mqualifyContracts(cfd)\n",
      "File \u001B[0;32m~/.local/lib/python3.12/site-packages/ib_async/ib.py:682\u001B[0m, in \u001B[0;36mIB.qualifyContracts\u001B[0;34m(self, *contracts)\u001B[0m\n\u001B[1;32m    670\u001B[0m \u001B[38;5;28;01mdef\u001B[39;00m \u001B[38;5;21mqualifyContracts\u001B[39m(\u001B[38;5;28mself\u001B[39m, \u001B[38;5;241m*\u001B[39mcontracts: Contract) \u001B[38;5;241m-\u001B[39m\u001B[38;5;241m>\u001B[39m List[Contract]:\n\u001B[1;32m    671\u001B[0m \u001B[38;5;250m    \u001B[39m\u001B[38;5;124;03m\"\"\"\u001B[39;00m\n\u001B[1;32m    672\u001B[0m \u001B[38;5;124;03m    Fully qualify the given contracts in-place. This will fill in\u001B[39;00m\n\u001B[1;32m    673\u001B[0m \u001B[38;5;124;03m    the missing fields in the contract, especially the conId.\u001B[39;00m\n\u001B[0;32m   (...)\u001B[0m\n\u001B[1;32m    680\u001B[0m \u001B[38;5;124;03m        contracts: Contracts to qualify.\u001B[39;00m\n\u001B[1;32m    681\u001B[0m \u001B[38;5;124;03m    \"\"\"\u001B[39;00m\n\u001B[0;32m--> 682\u001B[0m     \u001B[38;5;28;01mreturn\u001B[39;00m \u001B[38;5;28;43mself\u001B[39;49m\u001B[38;5;241;43m.\u001B[39;49m\u001B[43m_run\u001B[49m\u001B[43m(\u001B[49m\u001B[38;5;28;43mself\u001B[39;49m\u001B[38;5;241;43m.\u001B[39;49m\u001B[43mqualifyContractsAsync\u001B[49m\u001B[43m(\u001B[49m\u001B[38;5;241;43m*\u001B[39;49m\u001B[43mcontracts\u001B[49m\u001B[43m)\u001B[49m\u001B[43m)\u001B[49m\n",
      "File \u001B[0;32m~/.local/lib/python3.12/site-packages/ib_async/ib.py:418\u001B[0m, in \u001B[0;36mIB._run\u001B[0;34m(self, *awaitables)\u001B[0m\n\u001B[1;32m    417\u001B[0m \u001B[38;5;28;01mdef\u001B[39;00m \u001B[38;5;21m_run\u001B[39m(\u001B[38;5;28mself\u001B[39m, \u001B[38;5;241m*\u001B[39mawaitables: Awaitable):\n\u001B[0;32m--> 418\u001B[0m     \u001B[38;5;28;01mreturn\u001B[39;00m \u001B[43mutil\u001B[49m\u001B[38;5;241;43m.\u001B[39;49m\u001B[43mrun\u001B[49m\u001B[43m(\u001B[49m\u001B[38;5;241;43m*\u001B[39;49m\u001B[43mawaitables\u001B[49m\u001B[43m,\u001B[49m\u001B[43m \u001B[49m\u001B[43mtimeout\u001B[49m\u001B[38;5;241;43m=\u001B[39;49m\u001B[38;5;28;43mself\u001B[39;49m\u001B[38;5;241;43m.\u001B[39;49m\u001B[43mRequestTimeout\u001B[49m\u001B[43m)\u001B[49m\n",
      "File \u001B[0;32m~/.local/lib/python3.12/site-packages/ib_async/util.py:360\u001B[0m, in \u001B[0;36mrun\u001B[0;34m(timeout, *awaitables)\u001B[0m\n\u001B[1;32m    358\u001B[0m globalErrorEvent\u001B[38;5;241m.\u001B[39mconnect(onError)\n\u001B[1;32m    359\u001B[0m \u001B[38;5;28;01mtry\u001B[39;00m:\n\u001B[0;32m--> 360\u001B[0m     result \u001B[38;5;241m=\u001B[39m \u001B[43mloop\u001B[49m\u001B[38;5;241;43m.\u001B[39;49m\u001B[43mrun_until_complete\u001B[49m\u001B[43m(\u001B[49m\u001B[43mtask\u001B[49m\u001B[43m)\u001B[49m\n\u001B[1;32m    361\u001B[0m \u001B[38;5;28;01mexcept\u001B[39;00m asyncio\u001B[38;5;241m.\u001B[39mCancelledError \u001B[38;5;28;01mas\u001B[39;00m e:\n\u001B[1;32m    362\u001B[0m     \u001B[38;5;28;01mraise\u001B[39;00m globalErrorEvent\u001B[38;5;241m.\u001B[39mvalue() \u001B[38;5;129;01mor\u001B[39;00m e\n",
      "File \u001B[0;32m/usr/lib/python3/dist-packages/nest_asyncio.py:81\u001B[0m, in \u001B[0;36m_patch_loop.<locals>.run_until_complete\u001B[0;34m(self, future)\u001B[0m\n\u001B[1;32m     78\u001B[0m \u001B[38;5;28;01mif\u001B[39;00m \u001B[38;5;129;01mnot\u001B[39;00m f\u001B[38;5;241m.\u001B[39mdone():\n\u001B[1;32m     79\u001B[0m     \u001B[38;5;28;01mraise\u001B[39;00m \u001B[38;5;167;01mRuntimeError\u001B[39;00m(\n\u001B[1;32m     80\u001B[0m         \u001B[38;5;124m'\u001B[39m\u001B[38;5;124mEvent loop stopped before Future completed.\u001B[39m\u001B[38;5;124m'\u001B[39m)\n\u001B[0;32m---> 81\u001B[0m \u001B[38;5;28;01mreturn\u001B[39;00m \u001B[43mf\u001B[49m\u001B[38;5;241;43m.\u001B[39;49m\u001B[43mresult\u001B[49m\u001B[43m(\u001B[49m\u001B[43m)\u001B[49m\n",
      "File \u001B[0;32m/usr/lib/python3.12/asyncio/futures.py:203\u001B[0m, in \u001B[0;36mFuture.result\u001B[0;34m(self)\u001B[0m\n\u001B[1;32m    201\u001B[0m \u001B[38;5;28mself\u001B[39m\u001B[38;5;241m.\u001B[39m__log_traceback \u001B[38;5;241m=\u001B[39m \u001B[38;5;28;01mFalse\u001B[39;00m\n\u001B[1;32m    202\u001B[0m \u001B[38;5;28;01mif\u001B[39;00m \u001B[38;5;28mself\u001B[39m\u001B[38;5;241m.\u001B[39m_exception \u001B[38;5;129;01mis\u001B[39;00m \u001B[38;5;129;01mnot\u001B[39;00m \u001B[38;5;28;01mNone\u001B[39;00m:\n\u001B[0;32m--> 203\u001B[0m     \u001B[38;5;28;01mraise\u001B[39;00m \u001B[38;5;28mself\u001B[39m\u001B[38;5;241m.\u001B[39m_exception\u001B[38;5;241m.\u001B[39mwith_traceback(\u001B[38;5;28mself\u001B[39m\u001B[38;5;241m.\u001B[39m_exception_tb)\n\u001B[1;32m    204\u001B[0m \u001B[38;5;28;01mreturn\u001B[39;00m \u001B[38;5;28mself\u001B[39m\u001B[38;5;241m.\u001B[39m_result\n",
      "File \u001B[0;32m/usr/lib/python3.12/asyncio/tasks.py:314\u001B[0m, in \u001B[0;36mTask.__step_run_and_handle_result\u001B[0;34m(***failed resolving arguments***)\u001B[0m\n\u001B[1;32m    310\u001B[0m \u001B[38;5;28;01mtry\u001B[39;00m:\n\u001B[1;32m    311\u001B[0m     \u001B[38;5;28;01mif\u001B[39;00m exc \u001B[38;5;129;01mis\u001B[39;00m \u001B[38;5;28;01mNone\u001B[39;00m:\n\u001B[1;32m    312\u001B[0m         \u001B[38;5;66;03m# We use the `send` method directly, because coroutines\u001B[39;00m\n\u001B[1;32m    313\u001B[0m         \u001B[38;5;66;03m# don't have `__iter__` and `__next__` methods.\u001B[39;00m\n\u001B[0;32m--> 314\u001B[0m         result \u001B[38;5;241m=\u001B[39m \u001B[43mcoro\u001B[49m\u001B[38;5;241;43m.\u001B[39;49m\u001B[43msend\u001B[49m\u001B[43m(\u001B[49m\u001B[38;5;28;43;01mNone\u001B[39;49;00m\u001B[43m)\u001B[49m\n\u001B[1;32m    315\u001B[0m     \u001B[38;5;28;01melse\u001B[39;00m:\n\u001B[1;32m    316\u001B[0m         result \u001B[38;5;241m=\u001B[39m coro\u001B[38;5;241m.\u001B[39mthrow(exc)\n",
      "File \u001B[0;32m~/.local/lib/python3.12/site-packages/ib_async/ib.py:2088\u001B[0m, in \u001B[0;36mIB.qualifyContractsAsync\u001B[0;34m(self, *contracts)\u001B[0m\n\u001B[1;32m   2087\u001B[0m \u001B[38;5;28;01masync\u001B[39;00m \u001B[38;5;28;01mdef\u001B[39;00m \u001B[38;5;21mqualifyContractsAsync\u001B[39m(\u001B[38;5;28mself\u001B[39m, \u001B[38;5;241m*\u001B[39mcontracts: Contract) \u001B[38;5;241m-\u001B[39m\u001B[38;5;241m>\u001B[39m List[Contract]:\n\u001B[0;32m-> 2088\u001B[0m     detailsLists \u001B[38;5;241m=\u001B[39m \u001B[38;5;28;01mawait\u001B[39;00m \u001B[43masyncio\u001B[49m\u001B[38;5;241;43m.\u001B[39;49m\u001B[43mgather\u001B[49m\u001B[43m(\u001B[49m\n\u001B[1;32m   2089\u001B[0m \u001B[43m        \u001B[49m\u001B[38;5;241;43m*\u001B[39;49m\u001B[43m(\u001B[49m\u001B[38;5;28;43mself\u001B[39;49m\u001B[38;5;241;43m.\u001B[39;49m\u001B[43mreqContractDetailsAsync\u001B[49m\u001B[43m(\u001B[49m\u001B[43mc\u001B[49m\u001B[43m)\u001B[49m\u001B[43m \u001B[49m\u001B[38;5;28;43;01mfor\u001B[39;49;00m\u001B[43m \u001B[49m\u001B[43mc\u001B[49m\u001B[43m \u001B[49m\u001B[38;5;129;43;01min\u001B[39;49;00m\u001B[43m \u001B[49m\u001B[43mcontracts\u001B[49m\u001B[43m)\u001B[49m\n\u001B[1;32m   2090\u001B[0m \u001B[43m    \u001B[49m\u001B[43m)\u001B[49m\n\u001B[1;32m   2091\u001B[0m     result \u001B[38;5;241m=\u001B[39m []\n\u001B[1;32m   2092\u001B[0m     \u001B[38;5;28;01mfor\u001B[39;00m contract, detailsList \u001B[38;5;129;01min\u001B[39;00m \u001B[38;5;28mzip\u001B[39m(contracts, detailsLists):\n",
      "File \u001B[0;32m~/.local/lib/python3.12/site-packages/ib_async/ib.py:2089\u001B[0m, in \u001B[0;36m<genexpr>\u001B[0;34m(.0)\u001B[0m\n\u001B[1;32m   2087\u001B[0m \u001B[38;5;28;01masync\u001B[39;00m \u001B[38;5;28;01mdef\u001B[39;00m \u001B[38;5;21mqualifyContractsAsync\u001B[39m(\u001B[38;5;28mself\u001B[39m, \u001B[38;5;241m*\u001B[39mcontracts: Contract) \u001B[38;5;241m-\u001B[39m\u001B[38;5;241m>\u001B[39m List[Contract]:\n\u001B[1;32m   2088\u001B[0m     detailsLists \u001B[38;5;241m=\u001B[39m \u001B[38;5;28;01mawait\u001B[39;00m asyncio\u001B[38;5;241m.\u001B[39mgather(\n\u001B[0;32m-> 2089\u001B[0m         \u001B[38;5;241m*\u001B[39m(\u001B[38;5;28;43mself\u001B[39;49m\u001B[38;5;241;43m.\u001B[39;49m\u001B[43mreqContractDetailsAsync\u001B[49m\u001B[43m(\u001B[49m\u001B[43mc\u001B[49m\u001B[43m)\u001B[49m \u001B[38;5;28;01mfor\u001B[39;00m c \u001B[38;5;129;01min\u001B[39;00m contracts)\n\u001B[1;32m   2090\u001B[0m     )\n\u001B[1;32m   2091\u001B[0m     result \u001B[38;5;241m=\u001B[39m []\n\u001B[1;32m   2092\u001B[0m     \u001B[38;5;28;01mfor\u001B[39;00m contract, detailsList \u001B[38;5;129;01min\u001B[39;00m \u001B[38;5;28mzip\u001B[39m(contracts, detailsLists):\n",
      "File \u001B[0;32m~/.local/lib/python3.12/site-packages/ib_async/ib.py:2224\u001B[0m, in \u001B[0;36mIB.reqContractDetailsAsync\u001B[0;34m(self, contract)\u001B[0m\n\u001B[1;32m   2221\u001B[0m \u001B[38;5;28;01mdef\u001B[39;00m \u001B[38;5;21mreqContractDetailsAsync\u001B[39m(\n\u001B[1;32m   2222\u001B[0m     \u001B[38;5;28mself\u001B[39m, contract: Contract\n\u001B[1;32m   2223\u001B[0m ) \u001B[38;5;241m-\u001B[39m\u001B[38;5;241m>\u001B[39m Awaitable[List[ContractDetails]]:\n\u001B[0;32m-> 2224\u001B[0m     reqId \u001B[38;5;241m=\u001B[39m \u001B[38;5;28;43mself\u001B[39;49m\u001B[38;5;241;43m.\u001B[39;49m\u001B[43mclient\u001B[49m\u001B[38;5;241;43m.\u001B[39;49m\u001B[43mgetReqId\u001B[49m\u001B[43m(\u001B[49m\u001B[43m)\u001B[49m\n\u001B[1;32m   2225\u001B[0m     future \u001B[38;5;241m=\u001B[39m \u001B[38;5;28mself\u001B[39m\u001B[38;5;241m.\u001B[39mwrapper\u001B[38;5;241m.\u001B[39mstartReq(reqId, contract)\n\u001B[1;32m   2226\u001B[0m     \u001B[38;5;28mself\u001B[39m\u001B[38;5;241m.\u001B[39mclient\u001B[38;5;241m.\u001B[39mreqContractDetails(reqId, contract)\n",
      "File \u001B[0;32m~/.local/lib/python3.12/site-packages/ib_async/client.py:164\u001B[0m, in \u001B[0;36mClient.getReqId\u001B[0;34m(self)\u001B[0m\n\u001B[1;32m    162\u001B[0m \u001B[38;5;250m\u001B[39m\u001B[38;5;124;03m\"\"\"Get new request ID.\"\"\"\u001B[39;00m\n\u001B[1;32m    163\u001B[0m \u001B[38;5;28;01mif\u001B[39;00m \u001B[38;5;129;01mnot\u001B[39;00m \u001B[38;5;28mself\u001B[39m\u001B[38;5;241m.\u001B[39misReady():\n\u001B[0;32m--> 164\u001B[0m     \u001B[38;5;28;01mraise\u001B[39;00m \u001B[38;5;167;01mConnectionError\u001B[39;00m(\u001B[38;5;124m\"\u001B[39m\u001B[38;5;124mNot connected\u001B[39m\u001B[38;5;124m\"\u001B[39m)\n\u001B[1;32m    166\u001B[0m newId \u001B[38;5;241m=\u001B[39m \u001B[38;5;28mself\u001B[39m\u001B[38;5;241m.\u001B[39m_reqIdSeq\n\u001B[1;32m    167\u001B[0m \u001B[38;5;28mself\u001B[39m\u001B[38;5;241m.\u001B[39m_reqIdSeq \u001B[38;5;241m+\u001B[39m\u001B[38;5;241m=\u001B[39m \u001B[38;5;241m1\u001B[39m\n",
      "\u001B[0;31mConnectionError\u001B[0m: Not connected"
     ]
    }
   ],
   "execution_count": 37
  },
  {
   "metadata": {
    "ExecuteTime": {
     "end_time": "2024-12-02T11:47:04.562017Z",
     "start_time": "2024-12-02T11:47:04.554917Z"
    }
   },
   "cell_type": "code",
   "source": [
    "def onBarUpdate(bars, hasNewBar):  \n",
    "    global df, last_bar\n",
    "    \n",
    "    if bars[-1].date > last_bar: \n",
    "        last_bar = bars[-1].date\n",
    "    \n",
    "        # Data Processing\n",
    "        df = pd.DataFrame(bars)[[\"date\", \"open\", \"high\", \"low\", \"close\"]].iloc[:-1] \n",
    "        df.set_index(\"date\", inplace = True)\n",
    "        \n",
    "        ####################### Trading Strategy ###########################\n",
    "        df = df[[\"close\"]].copy()\n",
    "        df[\"returns\"] = np.log(df[\"close\"] / df[\"close\"].shift())\n",
    "        df[\"position\"] = -np.sign(df.returns.rolling(window).mean())\n",
    "        ####################################################################\n",
    "        \n",
    "        # Trading\n",
    "        target = df[\"position\"][-1] * units\n",
    "        execute_trade(target = target)\n",
    "        \n",
    "        # Display\n",
    "        clear_output(wait=True)\n",
    "        display(df)\n",
    "    else:\n",
    "        try:\n",
    "            trade_reporting()\n",
    "        except:\n",
    "            pass\n",
    "\n",
    "def execute_trade(target):\n",
    "    global current_pos\n",
    "    \n",
    "    # 1. get current Position\n",
    "    try:\n",
    "        current_pos = [pos.position for pos in ib.positions() if pos.contract.conId == conID][0]\n",
    "    except:\n",
    "        current_pos = 0\n",
    "         \n",
    "    # 2. identify required trades\n",
    "    trades = target - current_pos\n",
    "        \n",
    "    # 3. trade execution\n",
    "    if trades > 0:\n",
    "        side = \"BUY\"\n",
    "        order = MarketOrder(side, abs(trades))\n",
    "        trade = ib.placeOrder(cfd, order)  \n",
    "    elif trades < 0:\n",
    "        side = \"SELL\"\n",
    "        order = MarketOrder(side, abs(trades))\n",
    "        trade = ib.placeOrder(cfd, order)\n",
    "    else:\n",
    "        pass\n",
    "\n",
    "def trade_reporting():\n",
    "    global report\n",
    "    \n",
    "    fill_df = util.df([fs.execution for fs in ib.fills()])[[\"execId\", \"time\", \"side\", \"cumQty\", \"avgPrice\"]].set_index(\"execId\")\n",
    "    profit_df = util.df([fs.commissionReport for fs in ib.fills()])[[\"execId\", \"realizedPNL\"]].set_index(\"execId\")\n",
    "    report = pd.concat([fill_df, profit_df], axis = 1).set_index(\"time\").loc[session_start:]\n",
    "    report = report.groupby(\"time\").agg({\"side\":\"first\", \"cumQty\":\"max\", \"avgPrice\":\"mean\", \"realizedPNL\":\"sum\"})\n",
    "    report[\"cumPNL\"] = report.realizedPNL.cumsum()\n",
    "        \n",
    "    clear_output(wait=True)\n",
    "    display(df, report)\n",
    "  "
   ],
   "id": "146e490855bda77d",
   "outputs": [],
   "execution_count": 38
  },
  {
   "metadata": {
    "ExecuteTime": {
     "end_time": "2024-12-02T11:47:05.706894Z",
     "start_time": "2024-12-02T11:47:05.617484Z"
    }
   },
   "cell_type": "code",
   "source": [
    "# start trading session\n",
    "session_start = pd.to_datetime(datetime.now(timezone.utc))# new\n",
    "bars = ib.reqHistoricalData(\n",
    "        contract,\n",
    "        endDateTime='',\n",
    "        durationStr='1 D',\n",
    "        barSizeSetting=freq,\n",
    "        whatToShow='MIDPOINT',\n",
    "        useRTH=True,\n",
    "        formatDate=2,\n",
    "        keepUpToDate=True)\n",
    "last_bar = bars[-1].date\n",
    "bars.updateEvent += onBarUpdate\n",
    "ib.sleep(30) # new - to be added (optional)\n",
    "\n",
    "# stop trading session\n",
    "while True:\n",
    "    ib.sleep(5) # check every 5 seconds\n",
    "    if datetime.now(timezone.utc).time() >= end_time: # if stop conditions has been met\n",
    "        execute_trade(target = 0) # close open position \n",
    "        ib.cancelHistoricalData(bars) # stop stream\n",
    "        ib.sleep(10)\n",
    "        try:\n",
    "            trade_reporting() # final reporting\n",
    "        except:\n",
    "            pass\n",
    "        print(\"Session Stopped.\")\n",
    "        ib.disconnect()\n",
    "        break\n",
    "    else:\n",
    "        pass"
   ],
   "id": "1e0c0b271bd3f9ad",
   "outputs": [
    {
     "ename": "ConnectionError",
     "evalue": "Not connected",
     "output_type": "error",
     "traceback": [
      "\u001B[0;31m---------------------------------------------------------------------------\u001B[0m",
      "\u001B[0;31mConnectionError\u001B[0m                           Traceback (most recent call last)",
      "Cell \u001B[0;32mIn[39], line 3\u001B[0m\n\u001B[1;32m      1\u001B[0m \u001B[38;5;66;03m# start trading session\u001B[39;00m\n\u001B[1;32m      2\u001B[0m session_start \u001B[38;5;241m=\u001B[39m pd\u001B[38;5;241m.\u001B[39mto_datetime(datetime\u001B[38;5;241m.\u001B[39mnow(timezone\u001B[38;5;241m.\u001B[39mutc))\u001B[38;5;66;03m# new\u001B[39;00m\n\u001B[0;32m----> 3\u001B[0m bars \u001B[38;5;241m=\u001B[39m \u001B[43mib\u001B[49m\u001B[38;5;241;43m.\u001B[39;49m\u001B[43mreqHistoricalData\u001B[49m\u001B[43m(\u001B[49m\n\u001B[1;32m      4\u001B[0m \u001B[43m        \u001B[49m\u001B[43mcontract\u001B[49m\u001B[43m,\u001B[49m\n\u001B[1;32m      5\u001B[0m \u001B[43m        \u001B[49m\u001B[43mendDateTime\u001B[49m\u001B[38;5;241;43m=\u001B[39;49m\u001B[38;5;124;43m'\u001B[39;49m\u001B[38;5;124;43m'\u001B[39;49m\u001B[43m,\u001B[49m\n\u001B[1;32m      6\u001B[0m \u001B[43m        \u001B[49m\u001B[43mdurationStr\u001B[49m\u001B[38;5;241;43m=\u001B[39;49m\u001B[38;5;124;43m'\u001B[39;49m\u001B[38;5;124;43m1 D\u001B[39;49m\u001B[38;5;124;43m'\u001B[39;49m\u001B[43m,\u001B[49m\n\u001B[1;32m      7\u001B[0m \u001B[43m        \u001B[49m\u001B[43mbarSizeSetting\u001B[49m\u001B[38;5;241;43m=\u001B[39;49m\u001B[43mfreq\u001B[49m\u001B[43m,\u001B[49m\n\u001B[1;32m      8\u001B[0m \u001B[43m        \u001B[49m\u001B[43mwhatToShow\u001B[49m\u001B[38;5;241;43m=\u001B[39;49m\u001B[38;5;124;43m'\u001B[39;49m\u001B[38;5;124;43mMIDPOINT\u001B[39;49m\u001B[38;5;124;43m'\u001B[39;49m\u001B[43m,\u001B[49m\n\u001B[1;32m      9\u001B[0m \u001B[43m        \u001B[49m\u001B[43museRTH\u001B[49m\u001B[38;5;241;43m=\u001B[39;49m\u001B[38;5;28;43;01mTrue\u001B[39;49;00m\u001B[43m,\u001B[49m\n\u001B[1;32m     10\u001B[0m \u001B[43m        \u001B[49m\u001B[43mformatDate\u001B[49m\u001B[38;5;241;43m=\u001B[39;49m\u001B[38;5;241;43m2\u001B[39;49m\u001B[43m,\u001B[49m\n\u001B[1;32m     11\u001B[0m \u001B[43m        \u001B[49m\u001B[43mkeepUpToDate\u001B[49m\u001B[38;5;241;43m=\u001B[39;49m\u001B[38;5;28;43;01mTrue\u001B[39;49;00m\u001B[43m)\u001B[49m\n\u001B[1;32m     12\u001B[0m last_bar \u001B[38;5;241m=\u001B[39m bars[\u001B[38;5;241m-\u001B[39m\u001B[38;5;241m1\u001B[39m]\u001B[38;5;241m.\u001B[39mdate\n\u001B[1;32m     13\u001B[0m bars\u001B[38;5;241m.\u001B[39mupdateEvent \u001B[38;5;241m+\u001B[39m\u001B[38;5;241m=\u001B[39m onBarUpdate\n",
      "File \u001B[0;32m~/.local/lib/python3.12/site-packages/ib_async/ib.py:1212\u001B[0m, in \u001B[0;36mIB.reqHistoricalData\u001B[0;34m(self, contract, endDateTime, durationStr, barSizeSetting, whatToShow, useRTH, formatDate, keepUpToDate, chartOptions, timeout)\u001B[0m\n\u001B[1;32m   1157\u001B[0m \u001B[38;5;28;01mdef\u001B[39;00m \u001B[38;5;21mreqHistoricalData\u001B[39m(\n\u001B[1;32m   1158\u001B[0m     \u001B[38;5;28mself\u001B[39m,\n\u001B[1;32m   1159\u001B[0m     contract: Contract,\n\u001B[0;32m   (...)\u001B[0m\n\u001B[1;32m   1168\u001B[0m     timeout: \u001B[38;5;28mfloat\u001B[39m \u001B[38;5;241m=\u001B[39m \u001B[38;5;241m60\u001B[39m,\n\u001B[1;32m   1169\u001B[0m ) \u001B[38;5;241m-\u001B[39m\u001B[38;5;241m>\u001B[39m BarDataList:\n\u001B[1;32m   1170\u001B[0m \u001B[38;5;250m    \u001B[39m\u001B[38;5;124;03m\"\"\"\u001B[39;00m\n\u001B[1;32m   1171\u001B[0m \u001B[38;5;124;03m    Request historical bar data.\u001B[39;00m\n\u001B[1;32m   1172\u001B[0m \n\u001B[0;32m   (...)\u001B[0m\n\u001B[1;32m   1210\u001B[0m \u001B[38;5;124;03m            indefinitely.\u001B[39;00m\n\u001B[1;32m   1211\u001B[0m \u001B[38;5;124;03m    \"\"\"\u001B[39;00m\n\u001B[0;32m-> 1212\u001B[0m     \u001B[38;5;28;01mreturn\u001B[39;00m \u001B[38;5;28;43mself\u001B[39;49m\u001B[38;5;241;43m.\u001B[39;49m\u001B[43m_run\u001B[49m\u001B[43m(\u001B[49m\n\u001B[1;32m   1213\u001B[0m \u001B[43m        \u001B[49m\u001B[38;5;28;43mself\u001B[39;49m\u001B[38;5;241;43m.\u001B[39;49m\u001B[43mreqHistoricalDataAsync\u001B[49m\u001B[43m(\u001B[49m\n\u001B[1;32m   1214\u001B[0m \u001B[43m            \u001B[49m\u001B[43mcontract\u001B[49m\u001B[43m,\u001B[49m\n\u001B[1;32m   1215\u001B[0m \u001B[43m            \u001B[49m\u001B[43mendDateTime\u001B[49m\u001B[43m,\u001B[49m\n\u001B[1;32m   1216\u001B[0m \u001B[43m            \u001B[49m\u001B[43mdurationStr\u001B[49m\u001B[43m,\u001B[49m\n\u001B[1;32m   1217\u001B[0m \u001B[43m            \u001B[49m\u001B[43mbarSizeSetting\u001B[49m\u001B[43m,\u001B[49m\n\u001B[1;32m   1218\u001B[0m \u001B[43m            \u001B[49m\u001B[43mwhatToShow\u001B[49m\u001B[43m,\u001B[49m\n\u001B[1;32m   1219\u001B[0m \u001B[43m            \u001B[49m\u001B[43museRTH\u001B[49m\u001B[43m,\u001B[49m\n\u001B[1;32m   1220\u001B[0m \u001B[43m            \u001B[49m\u001B[43mformatDate\u001B[49m\u001B[43m,\u001B[49m\n\u001B[1;32m   1221\u001B[0m \u001B[43m            \u001B[49m\u001B[43mkeepUpToDate\u001B[49m\u001B[43m,\u001B[49m\n\u001B[1;32m   1222\u001B[0m \u001B[43m            \u001B[49m\u001B[43mchartOptions\u001B[49m\u001B[43m,\u001B[49m\n\u001B[1;32m   1223\u001B[0m \u001B[43m            \u001B[49m\u001B[43mtimeout\u001B[49m\u001B[43m,\u001B[49m\n\u001B[1;32m   1224\u001B[0m \u001B[43m        \u001B[49m\u001B[43m)\u001B[49m\n\u001B[1;32m   1225\u001B[0m \u001B[43m    \u001B[49m\u001B[43m)\u001B[49m\n",
      "File \u001B[0;32m~/.local/lib/python3.12/site-packages/ib_async/ib.py:418\u001B[0m, in \u001B[0;36mIB._run\u001B[0;34m(self, *awaitables)\u001B[0m\n\u001B[1;32m    417\u001B[0m \u001B[38;5;28;01mdef\u001B[39;00m \u001B[38;5;21m_run\u001B[39m(\u001B[38;5;28mself\u001B[39m, \u001B[38;5;241m*\u001B[39mawaitables: Awaitable):\n\u001B[0;32m--> 418\u001B[0m     \u001B[38;5;28;01mreturn\u001B[39;00m \u001B[43mutil\u001B[49m\u001B[38;5;241;43m.\u001B[39;49m\u001B[43mrun\u001B[49m\u001B[43m(\u001B[49m\u001B[38;5;241;43m*\u001B[39;49m\u001B[43mawaitables\u001B[49m\u001B[43m,\u001B[49m\u001B[43m \u001B[49m\u001B[43mtimeout\u001B[49m\u001B[38;5;241;43m=\u001B[39;49m\u001B[38;5;28;43mself\u001B[39;49m\u001B[38;5;241;43m.\u001B[39;49m\u001B[43mRequestTimeout\u001B[49m\u001B[43m)\u001B[49m\n",
      "File \u001B[0;32m~/.local/lib/python3.12/site-packages/ib_async/util.py:360\u001B[0m, in \u001B[0;36mrun\u001B[0;34m(timeout, *awaitables)\u001B[0m\n\u001B[1;32m    358\u001B[0m globalErrorEvent\u001B[38;5;241m.\u001B[39mconnect(onError)\n\u001B[1;32m    359\u001B[0m \u001B[38;5;28;01mtry\u001B[39;00m:\n\u001B[0;32m--> 360\u001B[0m     result \u001B[38;5;241m=\u001B[39m \u001B[43mloop\u001B[49m\u001B[38;5;241;43m.\u001B[39;49m\u001B[43mrun_until_complete\u001B[49m\u001B[43m(\u001B[49m\u001B[43mtask\u001B[49m\u001B[43m)\u001B[49m\n\u001B[1;32m    361\u001B[0m \u001B[38;5;28;01mexcept\u001B[39;00m asyncio\u001B[38;5;241m.\u001B[39mCancelledError \u001B[38;5;28;01mas\u001B[39;00m e:\n\u001B[1;32m    362\u001B[0m     \u001B[38;5;28;01mraise\u001B[39;00m globalErrorEvent\u001B[38;5;241m.\u001B[39mvalue() \u001B[38;5;129;01mor\u001B[39;00m e\n",
      "File \u001B[0;32m/usr/lib/python3/dist-packages/nest_asyncio.py:81\u001B[0m, in \u001B[0;36m_patch_loop.<locals>.run_until_complete\u001B[0;34m(self, future)\u001B[0m\n\u001B[1;32m     78\u001B[0m \u001B[38;5;28;01mif\u001B[39;00m \u001B[38;5;129;01mnot\u001B[39;00m f\u001B[38;5;241m.\u001B[39mdone():\n\u001B[1;32m     79\u001B[0m     \u001B[38;5;28;01mraise\u001B[39;00m \u001B[38;5;167;01mRuntimeError\u001B[39;00m(\n\u001B[1;32m     80\u001B[0m         \u001B[38;5;124m'\u001B[39m\u001B[38;5;124mEvent loop stopped before Future completed.\u001B[39m\u001B[38;5;124m'\u001B[39m)\n\u001B[0;32m---> 81\u001B[0m \u001B[38;5;28;01mreturn\u001B[39;00m \u001B[43mf\u001B[49m\u001B[38;5;241;43m.\u001B[39;49m\u001B[43mresult\u001B[49m\u001B[43m(\u001B[49m\u001B[43m)\u001B[49m\n",
      "File \u001B[0;32m/usr/lib/python3.12/asyncio/futures.py:203\u001B[0m, in \u001B[0;36mFuture.result\u001B[0;34m(self)\u001B[0m\n\u001B[1;32m    201\u001B[0m \u001B[38;5;28mself\u001B[39m\u001B[38;5;241m.\u001B[39m__log_traceback \u001B[38;5;241m=\u001B[39m \u001B[38;5;28;01mFalse\u001B[39;00m\n\u001B[1;32m    202\u001B[0m \u001B[38;5;28;01mif\u001B[39;00m \u001B[38;5;28mself\u001B[39m\u001B[38;5;241m.\u001B[39m_exception \u001B[38;5;129;01mis\u001B[39;00m \u001B[38;5;129;01mnot\u001B[39;00m \u001B[38;5;28;01mNone\u001B[39;00m:\n\u001B[0;32m--> 203\u001B[0m     \u001B[38;5;28;01mraise\u001B[39;00m \u001B[38;5;28mself\u001B[39m\u001B[38;5;241m.\u001B[39m_exception\u001B[38;5;241m.\u001B[39mwith_traceback(\u001B[38;5;28mself\u001B[39m\u001B[38;5;241m.\u001B[39m_exception_tb)\n\u001B[1;32m    204\u001B[0m \u001B[38;5;28;01mreturn\u001B[39;00m \u001B[38;5;28mself\u001B[39m\u001B[38;5;241m.\u001B[39m_result\n",
      "File \u001B[0;32m/usr/lib/python3.12/asyncio/tasks.py:314\u001B[0m, in \u001B[0;36mTask.__step_run_and_handle_result\u001B[0;34m(***failed resolving arguments***)\u001B[0m\n\u001B[1;32m    310\u001B[0m \u001B[38;5;28;01mtry\u001B[39;00m:\n\u001B[1;32m    311\u001B[0m     \u001B[38;5;28;01mif\u001B[39;00m exc \u001B[38;5;129;01mis\u001B[39;00m \u001B[38;5;28;01mNone\u001B[39;00m:\n\u001B[1;32m    312\u001B[0m         \u001B[38;5;66;03m# We use the `send` method directly, because coroutines\u001B[39;00m\n\u001B[1;32m    313\u001B[0m         \u001B[38;5;66;03m# don't have `__iter__` and `__next__` methods.\u001B[39;00m\n\u001B[0;32m--> 314\u001B[0m         result \u001B[38;5;241m=\u001B[39m \u001B[43mcoro\u001B[49m\u001B[38;5;241;43m.\u001B[39;49m\u001B[43msend\u001B[49m\u001B[43m(\u001B[49m\u001B[38;5;28;43;01mNone\u001B[39;49;00m\u001B[43m)\u001B[49m\n\u001B[1;32m    315\u001B[0m     \u001B[38;5;28;01melse\u001B[39;00m:\n\u001B[1;32m    316\u001B[0m         result \u001B[38;5;241m=\u001B[39m coro\u001B[38;5;241m.\u001B[39mthrow(exc)\n",
      "File \u001B[0;32m~/.local/lib/python3.12/site-packages/ib_async/ib.py:2267\u001B[0m, in \u001B[0;36mIB.reqHistoricalDataAsync\u001B[0;34m(self, contract, endDateTime, durationStr, barSizeSetting, whatToShow, useRTH, formatDate, keepUpToDate, chartOptions, timeout)\u001B[0m\n\u001B[1;32m   2254\u001B[0m \u001B[38;5;28;01masync\u001B[39;00m \u001B[38;5;28;01mdef\u001B[39;00m \u001B[38;5;21mreqHistoricalDataAsync\u001B[39m(\n\u001B[1;32m   2255\u001B[0m     \u001B[38;5;28mself\u001B[39m,\n\u001B[1;32m   2256\u001B[0m     contract: Contract,\n\u001B[0;32m   (...)\u001B[0m\n\u001B[1;32m   2265\u001B[0m     timeout: \u001B[38;5;28mfloat\u001B[39m \u001B[38;5;241m=\u001B[39m \u001B[38;5;241m60\u001B[39m,\n\u001B[1;32m   2266\u001B[0m ) \u001B[38;5;241m-\u001B[39m\u001B[38;5;241m>\u001B[39m BarDataList:\n\u001B[0;32m-> 2267\u001B[0m     reqId \u001B[38;5;241m=\u001B[39m \u001B[38;5;28;43mself\u001B[39;49m\u001B[38;5;241;43m.\u001B[39;49m\u001B[43mclient\u001B[49m\u001B[38;5;241;43m.\u001B[39;49m\u001B[43mgetReqId\u001B[49m\u001B[43m(\u001B[49m\u001B[43m)\u001B[49m\n\u001B[1;32m   2268\u001B[0m     bars \u001B[38;5;241m=\u001B[39m BarDataList()\n\u001B[1;32m   2269\u001B[0m     bars\u001B[38;5;241m.\u001B[39mreqId \u001B[38;5;241m=\u001B[39m reqId\n",
      "File \u001B[0;32m~/.local/lib/python3.12/site-packages/ib_async/client.py:164\u001B[0m, in \u001B[0;36mClient.getReqId\u001B[0;34m(self)\u001B[0m\n\u001B[1;32m    162\u001B[0m \u001B[38;5;250m\u001B[39m\u001B[38;5;124;03m\"\"\"Get new request ID.\"\"\"\u001B[39;00m\n\u001B[1;32m    163\u001B[0m \u001B[38;5;28;01mif\u001B[39;00m \u001B[38;5;129;01mnot\u001B[39;00m \u001B[38;5;28mself\u001B[39m\u001B[38;5;241m.\u001B[39misReady():\n\u001B[0;32m--> 164\u001B[0m     \u001B[38;5;28;01mraise\u001B[39;00m \u001B[38;5;167;01mConnectionError\u001B[39;00m(\u001B[38;5;124m\"\u001B[39m\u001B[38;5;124mNot connected\u001B[39m\u001B[38;5;124m\"\u001B[39m)\n\u001B[1;32m    166\u001B[0m newId \u001B[38;5;241m=\u001B[39m \u001B[38;5;28mself\u001B[39m\u001B[38;5;241m.\u001B[39m_reqIdSeq\n\u001B[1;32m    167\u001B[0m \u001B[38;5;28mself\u001B[39m\u001B[38;5;241m.\u001B[39m_reqIdSeq \u001B[38;5;241m+\u001B[39m\u001B[38;5;241m=\u001B[39m \u001B[38;5;241m1\u001B[39m\n",
      "\u001B[0;31mConnectionError\u001B[0m: Not connected"
     ]
    }
   ],
   "execution_count": 39
  },
  {
   "metadata": {},
   "cell_type": "code",
   "outputs": [],
   "execution_count": null,
   "source": "",
   "id": "dec7cbc8e1fb9efb"
  },
  {
   "metadata": {},
   "cell_type": "markdown",
   "source": "__Strategy 2__: Bollinger Bands SMA 20 (minutes) / 1 Standard Deviation",
   "id": "d037ac490603076e"
  },
  {
   "metadata": {},
   "cell_type": "code",
   "outputs": [],
   "execution_count": null,
   "source": "",
   "id": "e8744d1dea7c579"
  },
  {
   "metadata": {},
   "cell_type": "markdown",
   "source": "## Stop here if you don´t want to see the solution!",
   "id": "e000ef6c9e6ab598"
  },
  {
   "metadata": {},
   "cell_type": "markdown",
   "source": "###############################################################",
   "id": "e04ff8d0d5b11b19"
  },
  {
   "metadata": {},
   "cell_type": "code",
   "outputs": [],
   "execution_count": null,
   "source": "",
   "id": "2a1055b6e4e31fb3"
  },
  {
   "metadata": {},
   "cell_type": "code",
   "outputs": [],
   "execution_count": null,
   "source": [
    "from ib_async import * \n",
    "import pandas as pd\n",
    "import numpy as np\n",
    "import datetime as dt\n",
    "from datetime import datetime, timezone # new\n",
    "from IPython.display import display, clear_output\n",
    "util.startLoop()"
   ],
   "id": "6905653dfd6815b5"
  },
  {
   "metadata": {},
   "cell_type": "code",
   "outputs": [],
   "execution_count": null,
   "source": [
    "ib = IB()\n",
    "ib.connect()"
   ],
   "id": "424b64f8e611b05a"
  },
  {
   "metadata": {},
   "cell_type": "code",
   "outputs": [],
   "execution_count": null,
   "source": [
    "# strategy parameters\n",
    "freq = \"1 min\"\n",
    "sma = 20\n",
    "dev = 1\n",
    "units = 1000\n",
    "end_time = dt.time(21, 59, 0) # stop condition\n",
    "contract = Forex('EURUSD') \n",
    "ib.qualifyContracts(contract)\n",
    "cfd = CFD(\"EUR\", currency = \"USD\")\n",
    "ib.qualifyContracts(cfd)\n",
    "conID = cfd.conId"
   ],
   "id": "dd6c04d708951527"
  },
  {
   "metadata": {},
   "cell_type": "code",
   "outputs": [],
   "execution_count": null,
   "source": [
    "def onBarUpdate(bars, hasNewBar):  \n",
    "    global df, last_bar\n",
    "    \n",
    "    if bars[-1].date > last_bar: \n",
    "        last_bar = bars[-1].date\n",
    "    \n",
    "        # Data Processing\n",
    "        df = pd.DataFrame(bars)[[\"date\", \"open\", \"high\", \"low\", \"close\"]].iloc[:-1] \n",
    "        df.set_index(\"date\", inplace = True)\n",
    "        \n",
    "        ####################### Trading Strategy ###########################\n",
    "        df = df[[\"close\"]].copy()\n",
    "        df[\"SMA\"] = df[\"close\"].rolling(sma).mean()\n",
    "        df[\"Lower\"] = df[\"SMA\"] - df[\"close\"].rolling(sma).std() * dev\n",
    "        df[\"Upper\"] = df[\"SMA\"] + df[\"close\"].rolling(sma).std() * dev\n",
    "        df[\"distance\"] = df[\"close\"] - df.SMA\n",
    "        df[\"position\"] = np.where(df[\"close\"] < df.Lower, 1, np.nan)\n",
    "        df[\"position\"] = np.where(df[\"close\"] > df.Upper, -1, df[\"position\"])\n",
    "        df[\"position\"] = np.where(df.distance * df.distance.shift(1) < 0, 0, df[\"position\"])\n",
    "        df[\"position\"] = df.position.ffill().fillna(0)\n",
    "        ####################################################################\n",
    "        \n",
    "        # Trading\n",
    "        target = df[\"position\"][-1] * units\n",
    "        execute_trade(target = target)\n",
    "        \n",
    "        # Display\n",
    "        clear_output(wait=True)\n",
    "        display(df)\n",
    "    else:\n",
    "        try:\n",
    "            trade_reporting()\n",
    "        except:\n",
    "            pass\n",
    "\n",
    "def execute_trade(target):\n",
    "    global current_pos\n",
    "    \n",
    "    # 1. get current Position\n",
    "    try:\n",
    "        current_pos = [pos.position for pos in ib.positions() if pos.contract.conId == conID][0]\n",
    "    except:\n",
    "        current_pos = 0\n",
    "         \n",
    "    # 2. identify required trades\n",
    "    trades = target - current_pos\n",
    "        \n",
    "    # 3. trade execution\n",
    "    if trades > 0:\n",
    "        side = \"BUY\"\n",
    "        order = MarketOrder(side, abs(trades))\n",
    "        trade = ib.placeOrder(cfd, order)  \n",
    "    elif trades < 0:\n",
    "        side = \"SELL\"\n",
    "        order = MarketOrder(side, abs(trades))\n",
    "        trade = ib.placeOrder(cfd, order)\n",
    "    else:\n",
    "        pass\n",
    "\n",
    "def trade_reporting():\n",
    "    global report\n",
    "    \n",
    "    fill_df = util.df([fs.execution for fs in ib.fills()])[[\"execId\", \"time\", \"side\", \"cumQty\", \"avgPrice\"]].set_index(\"execId\")\n",
    "    profit_df = util.df([fs.commissionReport for fs in ib.fills()])[[\"execId\", \"realizedPNL\"]].set_index(\"execId\")\n",
    "    report = pd.concat([fill_df, profit_df], axis = 1).set_index(\"time\").loc[session_start:]\n",
    "    report = report.groupby(\"time\").agg({\"side\":\"first\", \"cumQty\":\"max\", \"avgPrice\":\"mean\", \"realizedPNL\":\"sum\"})\n",
    "    report[\"cumPNL\"] = report.realizedPNL.cumsum()\n",
    "        \n",
    "    clear_output(wait=True)\n",
    "    display(df, report)\n",
    "  "
   ],
   "id": "b7e154430dc6d420"
  },
  {
   "metadata": {},
   "cell_type": "code",
   "outputs": [],
   "execution_count": null,
   "source": [
    "# start trading session\n",
    "session_start = pd.to_datetime(datetime.now(timezone.utc))# new\n",
    "bars = ib.reqHistoricalData(\n",
    "        contract,\n",
    "        endDateTime='',\n",
    "        durationStr='1 D',\n",
    "        barSizeSetting=freq,\n",
    "        whatToShow='MIDPOINT',\n",
    "        useRTH=True,\n",
    "        formatDate=2,\n",
    "        keepUpToDate=True)\n",
    "last_bar = bars[-1].date\n",
    "bars.updateEvent += onBarUpdate\n",
    "ib.sleep(30) # new - to be added (optional)\n",
    "\n",
    "# stop trading session\n",
    "while True:\n",
    "    ib.sleep(5) # check every 5 seconds\n",
    "    if datetime.now(timezone.utc).time() >= end_time: # if stop conditions has been met\n",
    "        execute_trade(target = 0) # close open position \n",
    "        ib.cancelHistoricalData(bars) # stop stream\n",
    "        ib.sleep(10)\n",
    "        try:\n",
    "            trade_reporting() # final reporting\n",
    "        except:\n",
    "            pass\n",
    "        print(\"Session Stopped.\")\n",
    "        ib.disconnect()\n",
    "        break\n",
    "    else:\n",
    "        pass"
   ],
   "id": "c305caabc104da68"
  },
  {
   "metadata": {},
   "cell_type": "code",
   "outputs": [],
   "execution_count": null,
   "source": "",
   "id": "9d71dac0bb2d97f7"
  },
  {
   "metadata": {},
   "cell_type": "markdown",
   "source": "## Machine Learning Strategies (1) - Model Fitting",
   "id": "867586c785e8ac8f"
  },
  {
   "metadata": {},
   "cell_type": "code",
   "outputs": [],
   "execution_count": null,
   "source": [
    "import pandas as pd\n",
    "import numpy as np\n",
    "from sklearn.linear_model import LogisticRegression\n",
    "from sklearn.multiclass import OneVsRestClassifier # added (from sklearn v. 1.7)"
   ],
   "id": "df5e4d2bc873765c"
  },
  {
   "metadata": {},
   "cell_type": "code",
   "outputs": [],
   "execution_count": null,
   "source": [
    "data = pd.read_csv(\"five_minute.csv\", parse_dates = [\"time\"], index_col = \"time\")\n",
    "data"
   ],
   "id": "8b2633492998de0"
  },
  {
   "metadata": {},
   "cell_type": "code",
   "outputs": [],
   "execution_count": null,
   "source": "data[\"returns\"] = np.log(data.div(data.shift(1)))",
   "id": "5b4bd83deb3c3fbc"
  },
  {
   "metadata": {},
   "cell_type": "code",
   "outputs": [],
   "execution_count": null,
   "source": "data.dropna(inplace = True)",
   "id": "8cfa2b2cfcc974b1"
  },
  {
   "metadata": {},
   "cell_type": "code",
   "outputs": [],
   "execution_count": null,
   "source": [
    "data[\"direction\"] = np.sign(data.returns)\n",
    "data"
   ],
   "id": "1a57e09fa7d2dc49"
  },
  {
   "metadata": {},
   "cell_type": "code",
   "outputs": [],
   "execution_count": null,
   "source": "lags = 2",
   "id": "c1a38965e4268500"
  },
  {
   "metadata": {},
   "cell_type": "code",
   "outputs": [],
   "execution_count": null,
   "source": [
    "cols = []\n",
    "for lag in range(1, lags + 1):\n",
    "    col = \"lag{}\".format(lag)\n",
    "    data[col] = data.returns.shift(lag)\n",
    "    cols.append(col)\n",
    "data.dropna(inplace = True)"
   ],
   "id": "d02305b664074d70"
  },
  {
   "metadata": {},
   "cell_type": "markdown",
   "source": "++++++++++++++++++++++++++++",
   "id": "a5cab82baa5ecd53"
  },
  {
   "metadata": {},
   "cell_type": "markdown",
   "source": "__Scaling/Standardizing Features (new)__",
   "id": "b98545def879ced3"
  },
  {
   "metadata": {},
   "cell_type": "code",
   "outputs": [],
   "execution_count": null,
   "source": [
    "means = data[cols].mean()\n",
    "means"
   ],
   "id": "f26b66dd853c8f65"
  },
  {
   "metadata": {},
   "cell_type": "code",
   "outputs": [],
   "execution_count": null,
   "source": [
    "stand_devs = data[cols].std()\n",
    "stand_devs"
   ],
   "id": "9298f066d84dd8d3"
  },
  {
   "metadata": {},
   "cell_type": "code",
   "outputs": [],
   "execution_count": null,
   "source": [
    "data[cols] = (data[cols]-means) / stand_devs\n",
    "data"
   ],
   "id": "1e0b3ef38a79f617"
  },
  {
   "metadata": {},
   "cell_type": "markdown",
   "source": "+++++++++++++++++++++++++++",
   "id": "bf19f8aca302fec"
  },
  {
   "metadata": {},
   "cell_type": "code",
   "outputs": [],
   "execution_count": null,
   "source": "lm = OneVsRestClassifier(LogisticRegression(C = 1e6, max_iter = 100000)) # new (from sklearn v. 1.7)",
   "id": "d5ba5d582ff269ff"
  },
  {
   "metadata": {},
   "cell_type": "code",
   "outputs": [],
   "execution_count": null,
   "source": [
    "lm.fit(data[cols], data.direction)\n",
    "lm"
   ],
   "id": "d281e06657d52e2"
  },
  {
   "metadata": {},
   "cell_type": "markdown",
   "source": "__In-Sample \"Prediction\"__",
   "id": "514d19d53261dac8"
  },
  {
   "metadata": {},
   "cell_type": "code",
   "outputs": [],
   "execution_count": null,
   "source": [
    "data[\"pred\"] = lm.predict(data[cols])\n",
    "data"
   ],
   "id": "85cc50cea1af05a7"
  },
  {
   "metadata": {},
   "cell_type": "code",
   "outputs": [],
   "execution_count": null,
   "source": [
    "hits = np.sign(data.direction * data.pred).value_counts()\n",
    "hits"
   ],
   "id": "29420c8bbec1ccd9"
  },
  {
   "metadata": {},
   "cell_type": "code",
   "outputs": [],
   "execution_count": null,
   "source": [
    "hit_ratio = hits[1.0] / sum(hits)\n",
    "hit_ratio"
   ],
   "id": "8b95cbb83d2b52a4"
  },
  {
   "metadata": {},
   "cell_type": "markdown",
   "source": "__Saving the model__",
   "id": "1edc8ebf63da9226"
  },
  {
   "metadata": {},
   "cell_type": "code",
   "outputs": [],
   "execution_count": null,
   "source": "lm",
   "id": "66d793fa4253a8f1"
  },
  {
   "metadata": {},
   "cell_type": "code",
   "outputs": [],
   "execution_count": null,
   "source": "import pickle",
   "id": "aec5328b948646dc"
  },
  {
   "metadata": {},
   "cell_type": "code",
   "outputs": [],
   "execution_count": null,
   "source": "pickle.dump(lm, open(\"logreg.pkl\", \"wb\"))",
   "id": "bafbeddb07f16d3b"
  },
  {
   "metadata": {},
   "cell_type": "markdown",
   "source": "__Saving the parameters (mean, std)__ NEW",
   "id": "8b28c9384f73314c"
  },
  {
   "metadata": {},
   "cell_type": "code",
   "outputs": [],
   "execution_count": null,
   "source": [
    "params = {\"mu\":means, \"std\":stand_devs}\n",
    "params"
   ],
   "id": "1000ac43050aa822"
  },
  {
   "metadata": {},
   "cell_type": "code",
   "outputs": [],
   "execution_count": null,
   "source": "pickle.dump(params, open(\"params.pkl\", \"wb\"))",
   "id": "bc3df95638392ada"
  },
  {
   "metadata": {},
   "cell_type": "code",
   "outputs": [],
   "execution_count": null,
   "source": "",
   "id": "62079b5aad751668"
  },
  {
   "metadata": {},
   "cell_type": "markdown",
   "source": "## Machine Learning Strategies (2) - Implementation",
   "id": "fe7facefc232d763"
  },
  {
   "metadata": {},
   "cell_type": "code",
   "outputs": [],
   "execution_count": null,
   "source": [
    "from ib_async import * \n",
    "import pandas as pd\n",
    "import numpy as np\n",
    "from sklearn.linear_model import LogisticRegression\n",
    "from sklearn.multiclass import OneVsRestClassifier\n",
    "import pickle\n",
    "import datetime as dt\n",
    "from datetime import datetime, timezone # new\n",
    "from IPython.display import display, clear_output\n",
    "util.startLoop()"
   ],
   "id": "ab21d17edde0c304"
  },
  {
   "metadata": {},
   "cell_type": "code",
   "outputs": [],
   "execution_count": null,
   "source": [
    "ib = IB()\n",
    "ib.connect()"
   ],
   "id": "f70e644abecebc12"
  },
  {
   "metadata": {},
   "cell_type": "code",
   "outputs": [],
   "execution_count": null,
   "source": [
    "# strategy parameters\n",
    "freq = \"5 mins\"\n",
    "lm = pickle.load(open(\"logreg.pkl\", \"rb\"))\n",
    "lags = 2\n",
    "params = pickle.load(open(\"params.pkl\", \"rb\"))\n",
    "means = params[\"mu\"]\n",
    "stand_devs = params[\"std\"]\n",
    "units = 1000\n",
    "end_time = dt.time(21, 59, 0) # stop condition\n",
    "contract = Forex('EURUSD') \n",
    "ib.qualifyContracts(contract)\n",
    "cfd = CFD(\"EUR\", currency = \"USD\")\n",
    "ib.qualifyContracts(cfd)\n",
    "conID = cfd.conId"
   ],
   "id": "25a80897322e492"
  },
  {
   "metadata": {},
   "cell_type": "code",
   "outputs": [],
   "execution_count": null,
   "source": "lm",
   "id": "7fb8a1c0cd5bfa25"
  },
  {
   "metadata": {},
   "cell_type": "code",
   "outputs": [],
   "execution_count": null,
   "source": [
    "def onBarUpdate(bars, hasNewBar):  \n",
    "    global df, last_bar\n",
    "    \n",
    "    if bars[-1].date > last_bar: \n",
    "        last_bar = bars[-1].date\n",
    "    \n",
    "        # Data Processing\n",
    "        df = pd.DataFrame(bars)[[\"date\", \"open\", \"high\", \"low\", \"close\"]]#.iloc[:-1] keep latest incomplete bar\n",
    "        df.set_index(\"date\", inplace = True)\n",
    "        \n",
    "        ####################### Trading Strategy ###########################\n",
    "        df = df[[\"close\"]].copy()\n",
    "        df[\"returns\"] = np.log(df[\"close\"] / df[\"close\"].shift())\n",
    "\n",
    "        cols = []\n",
    "        for lag in range(1, lags + 1):\n",
    "            col = \"lag{}\".format(lag)\n",
    "            df[col] = df.returns.shift(lag)\n",
    "            cols.append(col)\n",
    "        df.dropna(inplace = True)\n",
    "        df[cols] = (df[cols] - means) / stand_devs\n",
    "        \n",
    "        df[\"position\"] = lm.predict(df[cols])\n",
    "        ####################################################################\n",
    "        \n",
    "        # Trading\n",
    "        target = df[\"position\"][-1] * units\n",
    "        execute_trade(target = target)\n",
    "        \n",
    "        # Display\n",
    "        clear_output(wait=True)\n",
    "        display(df)\n",
    "    else:\n",
    "        try:\n",
    "            trade_reporting()\n",
    "        except:\n",
    "            pass\n",
    "\n",
    "def execute_trade(target):\n",
    "    global current_pos\n",
    "    \n",
    "    # 1. get current Position\n",
    "    try:\n",
    "        current_pos = [pos.position for pos in ib.positions() if pos.contract.conId == conID][0]\n",
    "    except:\n",
    "        current_pos = 0\n",
    "         \n",
    "    # 2. identify required trades\n",
    "    trades = target - current_pos\n",
    "        \n",
    "    # 3. trade execution\n",
    "    if trades > 0:\n",
    "        side = \"BUY\"\n",
    "        order = MarketOrder(side, abs(trades))\n",
    "        trade = ib.placeOrder(cfd, order)  \n",
    "    elif trades < 0:\n",
    "        side = \"SELL\"\n",
    "        order = MarketOrder(side, abs(trades))\n",
    "        trade = ib.placeOrder(cfd, order)\n",
    "    else:\n",
    "        pass\n",
    "\n",
    "def trade_reporting():\n",
    "    global report\n",
    "    \n",
    "    fill_df = util.df([fs.execution for fs in ib.fills()])[[\"execId\", \"time\", \"side\", \"cumQty\", \"avgPrice\"]].set_index(\"execId\")\n",
    "    profit_df = util.df([fs.commissionReport for fs in ib.fills()])[[\"execId\", \"realizedPNL\"]].set_index(\"execId\")\n",
    "    report = pd.concat([fill_df, profit_df], axis = 1).set_index(\"time\").loc[session_start:]\n",
    "    report = report.groupby(\"time\").agg({\"side\":\"first\", \"cumQty\":\"max\", \"avgPrice\":\"mean\", \"realizedPNL\":\"sum\"})\n",
    "    report[\"cumPNL\"] = report.realizedPNL.cumsum()\n",
    "        \n",
    "    clear_output(wait=True)\n",
    "    display(df, report)"
   ],
   "id": "5ea26898c31661e2"
  },
  {
   "metadata": {},
   "cell_type": "code",
   "outputs": [],
   "execution_count": null,
   "source": [
    "# start trading session\n",
    "session_start = pd.to_datetime(datetime.now(timezone.utc))# new\n",
    "bars = ib.reqHistoricalData(\n",
    "        contract,\n",
    "        endDateTime='',\n",
    "        durationStr='1 D',\n",
    "        barSizeSetting=freq,\n",
    "        whatToShow='MIDPOINT',\n",
    "        useRTH=True,\n",
    "        formatDate=2,\n",
    "        keepUpToDate=True)\n",
    "last_bar = bars[-1].date\n",
    "bars.updateEvent += onBarUpdate\n",
    "ib.sleep(30) # new - to be added (optional)\n",
    "\n",
    "# stop trading session\n",
    "while True:\n",
    "    ib.sleep(5) # check every 5 seconds\n",
    "    if datetime.now(timezone.utc).time() >= end_time: # if stop conditions has been met\n",
    "        execute_trade(target = 0) # close open position \n",
    "        ib.cancelHistoricalData(bars) # stop stream\n",
    "        ib.sleep(10)\n",
    "        try:\n",
    "            trade_reporting() # final reporting\n",
    "        except:\n",
    "            pass\n",
    "        print(\"Session Stopped.\")\n",
    "        ib.disconnect()\n",
    "        break\n",
    "    else:\n",
    "        pass"
   ],
   "id": "358f7031e669e147"
  },
  {
   "metadata": {},
   "cell_type": "code",
   "outputs": [],
   "execution_count": null,
   "source": "",
   "id": "85c391835117f56d"
  }
 ],
 "metadata": {
  "kernelspec": {
   "display_name": "Python 3 (ipykernel)",
   "language": "python",
   "name": "python3"
  },
  "language_info": {
   "codemirror_mode": {
    "name": "ipython",
    "version": 3
   },
   "file_extension": ".py",
   "mimetype": "text/x-python",
   "name": "python",
   "nbconvert_exporter": "python",
   "pygments_lexer": "ipython3",
   "version": "3.12.0"
  }
 },
 "nbformat": 4,
 "nbformat_minor": 5
}
