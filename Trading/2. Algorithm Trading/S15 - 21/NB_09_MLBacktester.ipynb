{
 "cells": [
  {
   "cell_type": "markdown",
   "metadata": {},
   "source": [
    "# Generalization with OOP: The MLBacktester Class"
   ]
  },
  {
   "cell_type": "markdown",
   "metadata": {},
   "source": [
    "## Using the MLBacktester Class"
   ]
  },
  {
   "cell_type": "code",
   "metadata": {
    "scrolled": true,
    "ExecuteTime": {
     "end_time": "2024-11-20T13:49:53.061618Z",
     "start_time": "2024-11-20T13:49:52.037350Z"
    }
   },
   "source": [
    "import pandas as pd\n",
    "import numpy as np\n",
    "from sklearn.linear_model import LogisticRegression\n",
    "import matplotlib.pyplot as plt\n",
    "plt.style.use(\"seaborn-v0_8\")"
   ],
   "outputs": [],
   "execution_count": 1
  },
  {
   "cell_type": "code",
   "metadata": {
    "ExecuteTime": {
     "end_time": "2024-11-20T13:49:53.789950Z",
     "start_time": "2024-11-20T13:49:53.068721Z"
    }
   },
   "source": [
    "df = pd.read_csv(\"five_minute_pairs.csv\", parse_dates = [\"time\"], index_col = \"time\")\n",
    "df"
   ],
   "outputs": [
    {
     "data": {
      "text/plain": [
       "                             EURUSD    GBPUSD    EURAUD\n",
       "time                                                   \n",
       "2019-01-01 22:00:00+00:00  1.146580  1.274680  1.626230\n",
       "2019-01-01 22:05:00+00:00  1.146350  1.274270  1.626170\n",
       "2019-01-01 22:10:00+00:00  1.146320  1.274760  1.626290\n",
       "2019-01-01 22:15:00+00:00  1.146320  1.274770  1.626290\n",
       "2019-01-01 22:20:00+00:00  1.146530  1.274760  1.625620\n",
       "...                             ...       ...       ...\n",
       "2020-08-30 23:35:00+00:00  1.190895  1.335140  1.617190\n",
       "2020-08-30 23:40:00+00:00  1.191240  1.335250  1.616890\n",
       "2020-08-30 23:45:00+00:00  1.191515  1.335515  1.616870\n",
       "2020-08-30 23:50:00+00:00  1.191685  1.335580  1.617060\n",
       "2020-08-30 23:55:00+00:00  1.191715  1.335490  1.616945\n",
       "\n",
       "[124056 rows x 3 columns]"
      ],
      "text/html": [
       "<div>\n",
       "<style scoped>\n",
       "    .dataframe tbody tr th:only-of-type {\n",
       "        vertical-align: middle;\n",
       "    }\n",
       "\n",
       "    .dataframe tbody tr th {\n",
       "        vertical-align: top;\n",
       "    }\n",
       "\n",
       "    .dataframe thead th {\n",
       "        text-align: right;\n",
       "    }\n",
       "</style>\n",
       "<table border=\"1\" class=\"dataframe\">\n",
       "  <thead>\n",
       "    <tr style=\"text-align: right;\">\n",
       "      <th></th>\n",
       "      <th>EURUSD</th>\n",
       "      <th>GBPUSD</th>\n",
       "      <th>EURAUD</th>\n",
       "    </tr>\n",
       "    <tr>\n",
       "      <th>time</th>\n",
       "      <th></th>\n",
       "      <th></th>\n",
       "      <th></th>\n",
       "    </tr>\n",
       "  </thead>\n",
       "  <tbody>\n",
       "    <tr>\n",
       "      <th>2019-01-01 22:00:00+00:00</th>\n",
       "      <td>1.146580</td>\n",
       "      <td>1.274680</td>\n",
       "      <td>1.626230</td>\n",
       "    </tr>\n",
       "    <tr>\n",
       "      <th>2019-01-01 22:05:00+00:00</th>\n",
       "      <td>1.146350</td>\n",
       "      <td>1.274270</td>\n",
       "      <td>1.626170</td>\n",
       "    </tr>\n",
       "    <tr>\n",
       "      <th>2019-01-01 22:10:00+00:00</th>\n",
       "      <td>1.146320</td>\n",
       "      <td>1.274760</td>\n",
       "      <td>1.626290</td>\n",
       "    </tr>\n",
       "    <tr>\n",
       "      <th>2019-01-01 22:15:00+00:00</th>\n",
       "      <td>1.146320</td>\n",
       "      <td>1.274770</td>\n",
       "      <td>1.626290</td>\n",
       "    </tr>\n",
       "    <tr>\n",
       "      <th>2019-01-01 22:20:00+00:00</th>\n",
       "      <td>1.146530</td>\n",
       "      <td>1.274760</td>\n",
       "      <td>1.625620</td>\n",
       "    </tr>\n",
       "    <tr>\n",
       "      <th>...</th>\n",
       "      <td>...</td>\n",
       "      <td>...</td>\n",
       "      <td>...</td>\n",
       "    </tr>\n",
       "    <tr>\n",
       "      <th>2020-08-30 23:35:00+00:00</th>\n",
       "      <td>1.190895</td>\n",
       "      <td>1.335140</td>\n",
       "      <td>1.617190</td>\n",
       "    </tr>\n",
       "    <tr>\n",
       "      <th>2020-08-30 23:40:00+00:00</th>\n",
       "      <td>1.191240</td>\n",
       "      <td>1.335250</td>\n",
       "      <td>1.616890</td>\n",
       "    </tr>\n",
       "    <tr>\n",
       "      <th>2020-08-30 23:45:00+00:00</th>\n",
       "      <td>1.191515</td>\n",
       "      <td>1.335515</td>\n",
       "      <td>1.616870</td>\n",
       "    </tr>\n",
       "    <tr>\n",
       "      <th>2020-08-30 23:50:00+00:00</th>\n",
       "      <td>1.191685</td>\n",
       "      <td>1.335580</td>\n",
       "      <td>1.617060</td>\n",
       "    </tr>\n",
       "    <tr>\n",
       "      <th>2020-08-30 23:55:00+00:00</th>\n",
       "      <td>1.191715</td>\n",
       "      <td>1.335490</td>\n",
       "      <td>1.616945</td>\n",
       "    </tr>\n",
       "  </tbody>\n",
       "</table>\n",
       "<p>124056 rows × 3 columns</p>\n",
       "</div>"
      ]
     },
     "execution_count": 2,
     "metadata": {},
     "output_type": "execute_result"
    }
   ],
   "execution_count": 2
  },
  {
   "cell_type": "code",
   "metadata": {
    "ExecuteTime": {
     "end_time": "2024-11-20T13:49:54.111710Z",
     "start_time": "2024-11-20T13:49:54.091961Z"
    }
   },
   "source": [
    "df.info()"
   ],
   "outputs": [
    {
     "name": "stdout",
     "output_type": "stream",
     "text": [
      "<class 'pandas.core.frame.DataFrame'>\n",
      "DatetimeIndex: 124056 entries, 2019-01-01 22:00:00+00:00 to 2020-08-30 23:55:00+00:00\n",
      "Data columns (total 3 columns):\n",
      " #   Column  Non-Null Count   Dtype  \n",
      "---  ------  --------------   -----  \n",
      " 0   EURUSD  123350 non-null  float64\n",
      " 1   GBPUSD  123169 non-null  float64\n",
      " 2   EURAUD  123742 non-null  float64\n",
      "dtypes: float64(3)\n",
      "memory usage: 3.8 MB\n"
     ]
    }
   ],
   "execution_count": 3
  },
  {
   "cell_type": "code",
   "metadata": {
    "ExecuteTime": {
     "end_time": "2024-11-20T13:49:54.175646Z",
     "start_time": "2024-11-20T13:49:54.166435Z"
    }
   },
   "source": [
    "import MLBacktester as MLB"
   ],
   "outputs": [],
   "execution_count": 4
  },
  {
   "cell_type": "markdown",
   "metadata": {},
   "source": [
    "### EURUSD"
   ]
  },
  {
   "cell_type": "code",
   "metadata": {
    "ExecuteTime": {
     "end_time": "2024-11-20T13:49:54.261231Z",
     "start_time": "2024-11-20T13:49:54.258831Z"
    }
   },
   "source": [
    "symbol = \"EURUSD\""
   ],
   "outputs": [],
   "execution_count": 5
  },
  {
   "cell_type": "code",
   "metadata": {
    "ExecuteTime": {
     "end_time": "2024-11-20T13:49:54.327603Z",
     "start_time": "2024-11-20T13:49:54.324252Z"
    }
   },
   "source": [
    "ptc = 0.00007 * 0"
   ],
   "outputs": [],
   "execution_count": 6
  },
  {
   "cell_type": "code",
   "metadata": {
    "ExecuteTime": {
     "end_time": "2024-11-20T13:49:55.252275Z",
     "start_time": "2024-11-20T13:49:54.374518Z"
    }
   },
   "source": [
    "ml = MLB.MLBacktester(symbol, \"2019-01-01\", \"2020-08-31\", ptc)"
   ],
   "outputs": [],
   "execution_count": 7
  },
  {
   "cell_type": "code",
   "metadata": {
    "ExecuteTime": {
     "end_time": "2024-11-20T13:49:55.280724Z",
     "start_time": "2024-11-20T13:49:55.277391Z"
    }
   },
   "source": [
    "ml"
   ],
   "outputs": [
    {
     "data": {
      "text/plain": [
       "MLBacktester(symbol = EURUSD, start = 2019-01-01, end = 2020-08-31, tc = 0.0)"
      ]
     },
     "execution_count": 8,
     "metadata": {},
     "output_type": "execute_result"
    }
   ],
   "execution_count": 8
  },
  {
   "cell_type": "code",
   "metadata": {
    "ExecuteTime": {
     "end_time": "2024-11-20T13:49:55.367653Z",
     "start_time": "2024-11-20T13:49:55.358395Z"
    }
   },
   "source": [
    "ml.data"
   ],
   "outputs": [
    {
     "data": {
      "text/plain": [
       "                              price   returns\n",
       "time                                         \n",
       "2019-01-01 22:00:00+00:00  1.146580       NaN\n",
       "2019-01-01 22:05:00+00:00  1.146350 -0.000201\n",
       "2019-01-01 22:10:00+00:00  1.146320 -0.000026\n",
       "2019-01-01 22:15:00+00:00  1.146320  0.000000\n",
       "2019-01-01 22:20:00+00:00  1.146530  0.000183\n",
       "...                             ...       ...\n",
       "2020-08-30 23:35:00+00:00  1.190895 -0.000080\n",
       "2020-08-30 23:40:00+00:00  1.191240  0.000290\n",
       "2020-08-30 23:45:00+00:00  1.191515  0.000231\n",
       "2020-08-30 23:50:00+00:00  1.191685  0.000143\n",
       "2020-08-30 23:55:00+00:00  1.191715  0.000025\n",
       "\n",
       "[123350 rows x 2 columns]"
      ],
      "text/html": [
       "<div>\n",
       "<style scoped>\n",
       "    .dataframe tbody tr th:only-of-type {\n",
       "        vertical-align: middle;\n",
       "    }\n",
       "\n",
       "    .dataframe tbody tr th {\n",
       "        vertical-align: top;\n",
       "    }\n",
       "\n",
       "    .dataframe thead th {\n",
       "        text-align: right;\n",
       "    }\n",
       "</style>\n",
       "<table border=\"1\" class=\"dataframe\">\n",
       "  <thead>\n",
       "    <tr style=\"text-align: right;\">\n",
       "      <th></th>\n",
       "      <th>price</th>\n",
       "      <th>returns</th>\n",
       "    </tr>\n",
       "    <tr>\n",
       "      <th>time</th>\n",
       "      <th></th>\n",
       "      <th></th>\n",
       "    </tr>\n",
       "  </thead>\n",
       "  <tbody>\n",
       "    <tr>\n",
       "      <th>2019-01-01 22:00:00+00:00</th>\n",
       "      <td>1.146580</td>\n",
       "      <td>NaN</td>\n",
       "    </tr>\n",
       "    <tr>\n",
       "      <th>2019-01-01 22:05:00+00:00</th>\n",
       "      <td>1.146350</td>\n",
       "      <td>-0.000201</td>\n",
       "    </tr>\n",
       "    <tr>\n",
       "      <th>2019-01-01 22:10:00+00:00</th>\n",
       "      <td>1.146320</td>\n",
       "      <td>-0.000026</td>\n",
       "    </tr>\n",
       "    <tr>\n",
       "      <th>2019-01-01 22:15:00+00:00</th>\n",
       "      <td>1.146320</td>\n",
       "      <td>0.000000</td>\n",
       "    </tr>\n",
       "    <tr>\n",
       "      <th>2019-01-01 22:20:00+00:00</th>\n",
       "      <td>1.146530</td>\n",
       "      <td>0.000183</td>\n",
       "    </tr>\n",
       "    <tr>\n",
       "      <th>...</th>\n",
       "      <td>...</td>\n",
       "      <td>...</td>\n",
       "    </tr>\n",
       "    <tr>\n",
       "      <th>2020-08-30 23:35:00+00:00</th>\n",
       "      <td>1.190895</td>\n",
       "      <td>-0.000080</td>\n",
       "    </tr>\n",
       "    <tr>\n",
       "      <th>2020-08-30 23:40:00+00:00</th>\n",
       "      <td>1.191240</td>\n",
       "      <td>0.000290</td>\n",
       "    </tr>\n",
       "    <tr>\n",
       "      <th>2020-08-30 23:45:00+00:00</th>\n",
       "      <td>1.191515</td>\n",
       "      <td>0.000231</td>\n",
       "    </tr>\n",
       "    <tr>\n",
       "      <th>2020-08-30 23:50:00+00:00</th>\n",
       "      <td>1.191685</td>\n",
       "      <td>0.000143</td>\n",
       "    </tr>\n",
       "    <tr>\n",
       "      <th>2020-08-30 23:55:00+00:00</th>\n",
       "      <td>1.191715</td>\n",
       "      <td>0.000025</td>\n",
       "    </tr>\n",
       "  </tbody>\n",
       "</table>\n",
       "<p>123350 rows × 2 columns</p>\n",
       "</div>"
      ]
     },
     "execution_count": 9,
     "metadata": {},
     "output_type": "execute_result"
    }
   ],
   "execution_count": 9
  },
  {
   "cell_type": "code",
   "metadata": {
    "ExecuteTime": {
     "end_time": "2024-11-20T13:49:55.604128Z",
     "start_time": "2024-11-20T13:49:55.418466Z"
    }
   },
   "source": [
    "ml.test_strategy(train_ratio = 0.7, lags = 5)"
   ],
   "outputs": [
    {
     "data": {
      "text/plain": [
       "(1.349309, 0.279355)"
      ]
     },
     "execution_count": 10,
     "metadata": {},
     "output_type": "execute_result"
    }
   ],
   "execution_count": 10
  },
  {
   "cell_type": "code",
   "metadata": {
    "ExecuteTime": {
     "end_time": "2024-11-20T13:49:56.975938Z",
     "start_time": "2024-11-20T13:49:55.746264Z"
    }
   },
   "source": [
    "ml.plot_results()"
   ],
   "outputs": [
    {
     "data": {
      "text/plain": [
       "<Figure size 1200x800 with 1 Axes>"
      ],
      "image/png": "[encoded data removed]"
     },
     "metadata": {},
     "output_type": "display_data"
    }
   ],
   "execution_count": 11
  },
  {
   "cell_type": "code",
   "metadata": {
    "ExecuteTime": {
     "end_time": "2024-11-20T13:49:57.146646Z",
     "start_time": "2024-11-20T13:49:57.131365Z"
    }
   },
   "source": [
    "ml.results"
   ],
   "outputs": [
    {
     "data": {
      "text/plain": [
       "                              price   returns      lag1      lag2      lag3  \\\n",
       "time                                                                          \n",
       "2020-03-03 00:20:00+00:00  1.113645 -0.000139 -1.044778 -0.680691 -1.340053   \n",
       "2020-03-03 00:25:00+00:00  1.113745  0.000090 -0.703667 -1.044788 -0.680713   \n",
       "2020-03-03 00:30:00+00:00  1.113755  0.000009  0.456737 -0.703678 -1.044813   \n",
       "2020-03-03 00:35:00+00:00  1.113770  0.000013  0.047174  0.456720 -0.703700   \n",
       "2020-03-03 00:40:00+00:00  1.113450 -0.000287  0.069925  0.047160  0.456710   \n",
       "...                             ...       ...       ...       ...       ...   \n",
       "2020-08-30 23:35:00+00:00  1.190895 -0.000080 -0.466396  1.512378  0.235739   \n",
       "2020-08-30 23:40:00+00:00  1.191240  0.000290 -0.402603 -0.466408  1.512377   \n",
       "2020-08-30 23:45:00+00:00  1.191515  0.000231  1.469664 -0.402616 -0.466427   \n",
       "2020-08-30 23:50:00+00:00  1.191685  0.000143  1.171506  1.469644 -0.402635   \n",
       "2020-08-30 23:55:00+00:00  1.191715  0.000025  0.724706  1.171486  1.469643   \n",
       "\n",
       "                               lag4      lag5  pred  strategy  trades  \\\n",
       "time                                                                    \n",
       "2020-03-03 00:20:00+00:00  0.138070  0.297270   1.0 -0.000139     0.0   \n",
       "2020-03-03 00:25:00+00:00 -1.340050  0.138093   1.0  0.000090     0.0   \n",
       "2020-03-03 00:30:00+00:00 -0.680710 -1.340026   1.0  0.000009     0.0   \n",
       "2020-03-03 00:35:00+00:00 -1.044810 -0.680687   1.0  0.000013     0.0   \n",
       "2020-03-03 00:40:00+00:00 -0.703697 -1.044787   1.0 -0.000287     0.0   \n",
       "...                             ...       ...   ...       ...     ...   \n",
       "2020-08-30 23:35:00+00:00  0.001643 -0.764433   1.0 -0.000080     2.0   \n",
       "2020-08-30 23:40:00+00:00  0.235741  0.001666   1.0  0.000290     0.0   \n",
       "2020-08-30 23:45:00+00:00  1.512380  0.235764  -1.0 -0.000231     2.0   \n",
       "2020-08-30 23:50:00+00:00 -0.466425  1.512402  -1.0 -0.000143     0.0   \n",
       "2020-08-30 23:55:00+00:00 -0.402632 -0.466401  -1.0 -0.000025     0.0   \n",
       "\n",
       "                           creturns  cstrategy  \n",
       "time                                            \n",
       "2020-03-03 00:20:00+00:00  0.999861   0.999861  \n",
       "2020-03-03 00:25:00+00:00  0.999951   0.999951  \n",
       "2020-03-03 00:30:00+00:00  0.999960   0.999960  \n",
       "2020-03-03 00:35:00+00:00  0.999973   0.999973  \n",
       "2020-03-03 00:40:00+00:00  0.999686   0.999686  \n",
       "...                             ...        ...  \n",
       "2020-08-30 23:35:00+00:00  1.069218   1.349456  \n",
       "2020-08-30 23:40:00+00:00  1.069528   1.349847  \n",
       "2020-08-30 23:45:00+00:00  1.069775   1.349535  \n",
       "2020-08-30 23:50:00+00:00  1.069927   1.349343  \n",
       "2020-08-30 23:55:00+00:00  1.069954   1.349309  \n",
       "\n",
       "[37001 rows x 12 columns]"
      ],
      "text/html": [
       "<div>\n",
       "<style scoped>\n",
       "    .dataframe tbody tr th:only-of-type {\n",
       "        vertical-align: middle;\n",
       "    }\n",
       "\n",
       "    .dataframe tbody tr th {\n",
       "        vertical-align: top;\n",
       "    }\n",
       "\n",
       "    .dataframe thead th {\n",
       "        text-align: right;\n",
       "    }\n",
       "</style>\n",
       "<table border=\"1\" class=\"dataframe\">\n",
       "  <thead>\n",
       "    <tr style=\"text-align: right;\">\n",
       "      <th></th>\n",
       "      <th>price</th>\n",
       "      <th>returns</th>\n",
       "      <th>lag1</th>\n",
       "      <th>lag2</th>\n",
       "      <th>lag3</th>\n",
       "      <th>lag4</th>\n",
       "      <th>lag5</th>\n",
       "      <th>pred</th>\n",
       "      <th>strategy</th>\n",
       "      <th>trades</th>\n",
       "      <th>creturns</th>\n",
       "      <th>cstrategy</th>\n",
       "    </tr>\n",
       "    <tr>\n",
       "      <th>time</th>\n",
       "      <th></th>\n",
       "      <th></th>\n",
       "      <th></th>\n",
       "      <th></th>\n",
       "      <th></th>\n",
       "      <th></th>\n",
       "      <th></th>\n",
       "      <th></th>\n",
       "      <th></th>\n",
       "      <th></th>\n",
       "      <th></th>\n",
       "      <th></th>\n",
       "    </tr>\n",
       "  </thead>\n",
       "  <tbody>\n",
       "    <tr>\n",
       "      <th>2020-03-03 00:20:00+00:00</th>\n",
       "      <td>1.113645</td>\n",
       "      <td>-0.000139</td>\n",
       "      <td>-1.044778</td>\n",
       "      <td>-0.680691</td>\n",
       "      <td>-1.340053</td>\n",
       "      <td>0.138070</td>\n",
       "      <td>0.297270</td>\n",
       "      <td>1.0</td>\n",
       "      <td>-0.000139</td>\n",
       "      <td>0.0</td>\n",
       "      <td>0.999861</td>\n",
       "      <td>0.999861</td>\n",
       "    </tr>\n",
       "    <tr>\n",
       "      <th>2020-03-03 00:25:00+00:00</th>\n",
       "      <td>1.113745</td>\n",
       "      <td>0.000090</td>\n",
       "      <td>-0.703667</td>\n",
       "      <td>-1.044788</td>\n",
       "      <td>-0.680713</td>\n",
       "      <td>-1.340050</td>\n",
       "      <td>0.138093</td>\n",
       "      <td>1.0</td>\n",
       "      <td>0.000090</td>\n",
       "      <td>0.0</td>\n",
       "      <td>0.999951</td>\n",
       "      <td>0.999951</td>\n",
       "    </tr>\n",
       "    <tr>\n",
       "      <th>2020-03-03 00:30:00+00:00</th>\n",
       "      <td>1.113755</td>\n",
       "      <td>0.000009</td>\n",
       "      <td>0.456737</td>\n",
       "      <td>-0.703678</td>\n",
       "      <td>-1.044813</td>\n",
       "      <td>-0.680710</td>\n",
       "      <td>-1.340026</td>\n",
       "      <td>1.0</td>\n",
       "      <td>0.000009</td>\n",
       "      <td>0.0</td>\n",
       "      <td>0.999960</td>\n",
       "      <td>0.999960</td>\n",
       "    </tr>\n",
       "    <tr>\n",
       "      <th>2020-03-03 00:35:00+00:00</th>\n",
       "      <td>1.113770</td>\n",
       "      <td>0.000013</td>\n",
       "      <td>0.047174</td>\n",
       "      <td>0.456720</td>\n",
       "      <td>-0.703700</td>\n",
       "      <td>-1.044810</td>\n",
       "      <td>-0.680687</td>\n",
       "      <td>1.0</td>\n",
       "      <td>0.000013</td>\n",
       "      <td>0.0</td>\n",
       "      <td>0.999973</td>\n",
       "      <td>0.999973</td>\n",
       "    </tr>\n",
       "    <tr>\n",
       "      <th>2020-03-03 00:40:00+00:00</th>\n",
       "      <td>1.113450</td>\n",
       "      <td>-0.000287</td>\n",
       "      <td>0.069925</td>\n",
       "      <td>0.047160</td>\n",
       "      <td>0.456710</td>\n",
       "      <td>-0.703697</td>\n",
       "      <td>-1.044787</td>\n",
       "      <td>1.0</td>\n",
       "      <td>-0.000287</td>\n",
       "      <td>0.0</td>\n",
       "      <td>0.999686</td>\n",
       "      <td>0.999686</td>\n",
       "    </tr>\n",
       "    <tr>\n",
       "      <th>...</th>\n",
       "      <td>...</td>\n",
       "      <td>...</td>\n",
       "      <td>...</td>\n",
       "      <td>...</td>\n",
       "      <td>...</td>\n",
       "      <td>...</td>\n",
       "      <td>...</td>\n",
       "      <td>...</td>\n",
       "      <td>...</td>\n",
       "      <td>...</td>\n",
       "      <td>...</td>\n",
       "      <td>...</td>\n",
       "    </tr>\n",
       "    <tr>\n",
       "      <th>2020-08-30 23:35:00+00:00</th>\n",
       "      <td>1.190895</td>\n",
       "      <td>-0.000080</td>\n",
       "      <td>-0.466396</td>\n",
       "      <td>1.512378</td>\n",
       "      <td>0.235739</td>\n",
       "      <td>0.001643</td>\n",
       "      <td>-0.764433</td>\n",
       "      <td>1.0</td>\n",
       "      <td>-0.000080</td>\n",
       "      <td>2.0</td>\n",
       "      <td>1.069218</td>\n",
       "      <td>1.349456</td>\n",
       "    </tr>\n",
       "    <tr>\n",
       "      <th>2020-08-30 23:40:00+00:00</th>\n",
       "      <td>1.191240</td>\n",
       "      <td>0.000290</td>\n",
       "      <td>-0.402603</td>\n",
       "      <td>-0.466408</td>\n",
       "      <td>1.512377</td>\n",
       "      <td>0.235741</td>\n",
       "      <td>0.001666</td>\n",
       "      <td>1.0</td>\n",
       "      <td>0.000290</td>\n",
       "      <td>0.0</td>\n",
       "      <td>1.069528</td>\n",
       "      <td>1.349847</td>\n",
       "    </tr>\n",
       "    <tr>\n",
       "      <th>2020-08-30 23:45:00+00:00</th>\n",
       "      <td>1.191515</td>\n",
       "      <td>0.000231</td>\n",
       "      <td>1.469664</td>\n",
       "      <td>-0.402616</td>\n",
       "      <td>-0.466427</td>\n",
       "      <td>1.512380</td>\n",
       "      <td>0.235764</td>\n",
       "      <td>-1.0</td>\n",
       "      <td>-0.000231</td>\n",
       "      <td>2.0</td>\n",
       "      <td>1.069775</td>\n",
       "      <td>1.349535</td>\n",
       "    </tr>\n",
       "    <tr>\n",
       "      <th>2020-08-30 23:50:00+00:00</th>\n",
       "      <td>1.191685</td>\n",
       "      <td>0.000143</td>\n",
       "      <td>1.171506</td>\n",
       "      <td>1.469644</td>\n",
       "      <td>-0.402635</td>\n",
       "      <td>-0.466425</td>\n",
       "      <td>1.512402</td>\n",
       "      <td>-1.0</td>\n",
       "      <td>-0.000143</td>\n",
       "      <td>0.0</td>\n",
       "      <td>1.069927</td>\n",
       "      <td>1.349343</td>\n",
       "    </tr>\n",
       "    <tr>\n",
       "      <th>2020-08-30 23:55:00+00:00</th>\n",
       "      <td>1.191715</td>\n",
       "      <td>0.000025</td>\n",
       "      <td>0.724706</td>\n",
       "      <td>1.171486</td>\n",
       "      <td>1.469643</td>\n",
       "      <td>-0.402632</td>\n",
       "      <td>-0.466401</td>\n",
       "      <td>-1.0</td>\n",
       "      <td>-0.000025</td>\n",
       "      <td>0.0</td>\n",
       "      <td>1.069954</td>\n",
       "      <td>1.349309</td>\n",
       "    </tr>\n",
       "  </tbody>\n",
       "</table>\n",
       "<p>37001 rows × 12 columns</p>\n",
       "</div>"
      ]
     },
     "execution_count": 12,
     "metadata": {},
     "output_type": "execute_result"
    }
   ],
   "execution_count": 12
  },
  {
   "cell_type": "code",
   "metadata": {
    "ExecuteTime": {
     "end_time": "2024-11-20T13:49:57.223846Z",
     "start_time": "2024-11-20T13:49:57.220790Z"
    }
   },
   "source": [],
   "outputs": [],
   "execution_count": null
  },
  {
   "cell_type": "markdown",
   "metadata": {},
   "source": [
    "__The optimal Number of Lags__"
   ]
  },
  {
   "cell_type": "code",
   "metadata": {
    "ExecuteTime": {
     "end_time": "2024-11-20T13:50:01.116269Z",
     "start_time": "2024-11-20T13:49:57.263726Z"
    }
   },
   "source": [
    "for lags in range(1, 21):\n",
    "    print(lags, ml.test_strategy(train_ratio = 0.7, lags = lags))"
   ],
   "outputs": [
    {
     "name": "stdout",
     "output_type": "stream",
     "text": [
      "1 (1.282642, 0.213307)\n",
      "2 (1.260498, 0.191192)\n",
      "3 (1.228282, 0.158693)\n",
      "4 (1.334458, 0.264725)\n",
      "5 (1.349309, 0.279355)\n",
      "6 (1.289346, 0.219243)\n",
      "7 (1.282049, 0.212042)\n",
      "8 (1.303185, 0.233188)\n",
      "9 (1.3462, 0.276217)\n",
      "10 (1.314879, 0.244588)\n",
      "11 (1.332232, 0.26185)\n",
      "12 (1.329267, 0.258822)\n",
      "13 (1.318944, 0.248466)\n",
      "14 (1.257105, 0.186458)\n",
      "15 (1.290008, 0.219256)\n",
      "16 (1.297938, 0.226613)\n",
      "17 (1.292853, 0.221413)\n",
      "18 (1.327898, 0.25692)\n",
      "19 (1.34056, 0.269711)\n",
      "20 (1.361615, 0.290704)\n"
     ]
    }
   ],
   "execution_count": 13
  },
  {
   "cell_type": "code",
   "metadata": {
    "ExecuteTime": {
     "end_time": "2024-11-20T13:50:01.160927Z",
     "start_time": "2024-11-20T13:50:01.156727Z"
    }
   },
   "source": [
    "ml.results.trades.value_counts()"
   ],
   "outputs": [
    {
     "data": {
      "text/plain": [
       "trades\n",
       "0.0    23263\n",
       "2.0    13723\n",
       "Name: count, dtype: int64"
      ]
     },
     "execution_count": 14,
     "metadata": {},
     "output_type": "execute_result"
    }
   ],
   "execution_count": 14
  },
  {
   "cell_type": "markdown",
   "metadata": {},
   "source": [
    "### EURAUD"
   ]
  },
  {
   "cell_type": "code",
   "metadata": {
    "ExecuteTime": {
     "end_time": "2024-11-20T13:50:01.194961Z",
     "start_time": "2024-11-20T13:50:01.192703Z"
    }
   },
   "source": [
    "symbol = \"EURAUD\""
   ],
   "outputs": [],
   "execution_count": 15
  },
  {
   "cell_type": "code",
   "metadata": {
    "ExecuteTime": {
     "end_time": "2024-11-20T13:50:01.978373Z",
     "start_time": "2024-11-20T13:50:01.258368Z"
    }
   },
   "source": [
    "ml = MLB.MLBacktester(symbol, \"2019-01-01\", \"2020-08-31\", 0)"
   ],
   "outputs": [],
   "execution_count": 16
  },
  {
   "cell_type": "code",
   "metadata": {
    "ExecuteTime": {
     "end_time": "2024-11-20T13:50:02.258247Z",
     "start_time": "2024-11-20T13:50:02.008782Z"
    }
   },
   "source": [
    "ml.test_strategy(train_ratio = 0.7, lags = 15)"
   ],
   "outputs": [
    {
     "data": {
      "text/plain": [
       "(1.717154, 0.768368)"
      ]
     },
     "execution_count": 17,
     "metadata": {},
     "output_type": "execute_result"
    }
   ],
   "execution_count": 17
  },
  {
   "cell_type": "code",
   "metadata": {
    "ExecuteTime": {
     "end_time": "2024-11-20T13:50:03.393274Z",
     "start_time": "2024-11-20T13:50:02.306859Z"
    }
   },
   "source": [
    "ml.plot_results()"
   ],
   "outputs": [
    {
     "data": {
      "text/plain": [
       "<Figure size 1200x800 with 1 Axes>"
      ],
      "image/png": "[encoded data removed]"
     },
     "metadata": {},
     "output_type": "display_data"
    }
   ],
   "execution_count": 18
  },
  {
   "cell_type": "markdown",
   "metadata": {},
   "source": [
    "__The optimal Number of Lags__"
   ]
  },
  {
   "cell_type": "code",
   "metadata": {
    "ExecuteTime": {
     "end_time": "2024-11-20T13:50:07.362457Z",
     "start_time": "2024-11-20T13:50:03.398936Z"
    }
   },
   "source": [
    "for lags in range(1, 21):\n",
    "    print(lags, ml.test_strategy(train_ratio = 0.7, lags = lags))"
   ],
   "outputs": [
    {
     "name": "stdout",
     "output_type": "stream",
     "text": [
      "1 (1.618959, 0.669992)\n",
      "2 (1.716888, 0.767907)\n",
      "3 (1.688469, 0.738861)\n",
      "4 (1.724796, 0.775748)\n",
      "5 (1.580015, 0.630681)\n",
      "6 (1.552084, 0.603064)\n",
      "7 (1.598368, 0.649225)\n",
      "8 (1.59297, 0.644212)\n",
      "9 (1.671134, 0.722615)\n",
      "10 (1.678289, 0.728932)\n",
      "11 (1.743925, 0.794683)\n",
      "12 (1.796364, 0.847291)\n",
      "13 (1.746722, 0.797919)\n",
      "14 (1.85507, 0.906329)\n",
      "15 (1.717154, 0.768368)\n",
      "16 (1.74043, 0.791811)\n",
      "17 (1.705563, 0.756991)\n",
      "18 (1.752607, 0.80381)\n",
      "19 (1.730026, 0.780883)\n",
      "20 (1.735845, 0.786101)\n"
     ]
    }
   ],
   "execution_count": 19
  },
  {
   "cell_type": "code",
   "metadata": {
    "ExecuteTime": {
     "end_time": "2024-11-20T13:50:07.417660Z",
     "start_time": "2024-11-20T13:50:07.384380Z"
    }
   },
   "source": [
    "ml.results"
   ],
   "outputs": [
    {
     "data": {
      "text/plain": [
       "                              price   returns      lag1      lag2      lag3  \\\n",
       "time                                                                          \n",
       "2020-03-02 23:55:00+00:00  1.701685 -0.000482 -2.436979 -1.399182 -0.914437   \n",
       "2020-03-03 00:00:00+00:00  1.703020  0.000784 -1.851825 -2.436977 -1.399217   \n",
       "2020-03-03 00:05:00+00:00  1.703940  0.000540  3.009009 -1.851824 -2.437050   \n",
       "2020-03-03 00:10:00+00:00  1.703895 -0.000026  2.071612  3.009010 -1.851875   \n",
       "2020-03-03 00:15:00+00:00  1.703560 -0.000197 -0.103457  2.071613  3.009135   \n",
       "...                             ...       ...       ...       ...       ...   \n",
       "2020-08-30 23:35:00+00:00  1.617190 -0.000108  0.152259 -0.168235  0.021704   \n",
       "2020-08-30 23:40:00+00:00  1.616890 -0.000186 -0.417525  0.152260 -0.168225   \n",
       "2020-08-30 23:45:00+00:00  1.616870 -0.000012 -0.714396 -0.417524  0.152282   \n",
       "2020-08-30 23:50:00+00:00  1.617060  0.000118 -0.049548 -0.714394 -0.417523   \n",
       "2020-08-30 23:55:00+00:00  1.616945 -0.000071  0.449117 -0.049547 -0.714404   \n",
       "\n",
       "                               lag4      lag5      lag6      lag7      lag8  \\\n",
       "time                                                                          \n",
       "2020-03-02 23:55:00+00:00  0.189478  0.673899 -0.182257  0.245863  1.091005   \n",
       "2020-03-03 00:00:00+00:00 -0.914447  0.189483  0.673898 -0.182244  0.245868   \n",
       "2020-03-03 00:05:00+00:00 -1.399250 -0.914446  0.189479  0.673921 -0.182237   \n",
       "2020-03-03 00:10:00+00:00 -2.437131 -1.399251 -0.914456  0.189497  0.673925   \n",
       "2020-03-03 00:15:00+00:00 -1.851929 -2.437137 -1.399263 -0.914451  0.189502   \n",
       "...                             ...       ...       ...       ...       ...   \n",
       "2020-08-30 23:35:00+00:00  0.045480  0.461005  0.377940 -0.322574  0.746086   \n",
       "2020-08-30 23:40:00+00:00  0.021738  0.045485  0.461002  0.377960 -0.322566   \n",
       "2020-08-30 23:45:00+00:00 -0.168201  0.021742  0.045480  0.461023  0.377965   \n",
       "2020-08-30 23:50:00+00:00  0.152321 -0.168197  0.021737  0.045496  0.461027   \n",
       "2020-08-30 23:55:00+00:00 -0.417510  0.152326 -0.168203  0.021753  0.045502   \n",
       "\n",
       "                           ...     lag16     lag17     lag18     lag19  \\\n",
       "time                       ...                                           \n",
       "2020-03-02 23:55:00+00:00  ... -1.163292  2.264135 -2.539139 -0.058540   \n",
       "2020-03-03 00:00:00+00:00  ...  1.271709 -1.163255  2.264292 -2.539206   \n",
       "2020-03-03 00:05:00+00:00  ... -0.498113  1.271745 -1.163405  2.264308   \n",
       "2020-03-03 00:10:00+00:00  ...  1.553163 -0.498077  1.271814 -1.163449   \n",
       "2020-03-03 00:15:00+00:00  ...  0.966785  1.553200 -0.498167  1.271812   \n",
       "...                        ...       ...       ...       ...       ...   \n",
       "2020-08-30 23:35:00+00:00  ...  0.888849 -0.429816 -0.548648 -0.988061   \n",
       "2020-08-30 23:40:00+00:00  ...  1.363646  0.888885 -0.429900 -0.548682   \n",
       "2020-08-30 23:45:00+00:00  ...  0.365939  1.363683  0.888920 -0.429931   \n",
       "2020-08-30 23:50:00+00:00  ... -1.783545  0.365976  1.363759  0.888912   \n",
       "2020-08-30 23:55:00+00:00  ...  0.651126 -1.783508  0.365963  1.363760   \n",
       "\n",
       "                              lag20  pred  strategy  trades  creturns  \\\n",
       "time                                                                    \n",
       "2020-03-02 23:55:00+00:00 -1.591168   1.0 -0.000482     0.0  0.999518   \n",
       "2020-03-03 00:00:00+00:00 -0.058532   1.0  0.000784     0.0  1.000302   \n",
       "2020-03-03 00:05:00+00:00 -2.539203  -1.0 -0.000540     2.0  1.000843   \n",
       "2020-03-03 00:10:00+00:00  2.264321  -1.0  0.000026     0.0  1.000816   \n",
       "2020-03-03 00:15:00+00:00 -1.163442  -1.0  0.000197     0.0  1.000620   \n",
       "...                             ...   ...       ...     ...       ...   \n",
       "2020-08-30 23:35:00+00:00 -1.130281  -1.0  0.000108     0.0  0.949889   \n",
       "2020-08-30 23:40:00+00:00 -0.988055   1.0 -0.000186     2.0  0.949712   \n",
       "2020-08-30 23:45:00+00:00 -0.548674   1.0 -0.000012     0.0  0.949701   \n",
       "2020-08-30 23:50:00+00:00 -0.429924   1.0  0.000118     0.0  0.949812   \n",
       "2020-08-30 23:55:00+00:00  0.888922  -1.0  0.000071     2.0  0.949745   \n",
       "\n",
       "                           cstrategy  \n",
       "time                                  \n",
       "2020-03-02 23:55:00+00:00   0.999518  \n",
       "2020-03-03 00:00:00+00:00   1.000302  \n",
       "2020-03-03 00:05:00+00:00   0.999762  \n",
       "2020-03-03 00:10:00+00:00   0.999789  \n",
       "2020-03-03 00:15:00+00:00   0.999985  \n",
       "...                              ...  \n",
       "2020-08-30 23:35:00+00:00   1.735861  \n",
       "2020-08-30 23:40:00+00:00   1.735539  \n",
       "2020-08-30 23:45:00+00:00   1.735518  \n",
       "2020-08-30 23:50:00+00:00   1.735722  \n",
       "2020-08-30 23:55:00+00:00   1.735845  \n",
       "\n",
       "[37104 rows x 27 columns]"
      ],
      "text/html": [
       "<div>\n",
       "<style scoped>\n",
       "    .dataframe tbody tr th:only-of-type {\n",
       "        vertical-align: middle;\n",
       "    }\n",
       "\n",
       "    .dataframe tbody tr th {\n",
       "        vertical-align: top;\n",
       "    }\n",
       "\n",
       "    .dataframe thead th {\n",
       "        text-align: right;\n",
       "    }\n",
       "</style>\n",
       "<table border=\"1\" class=\"dataframe\">\n",
       "  <thead>\n",
       "    <tr style=\"text-align: right;\">\n",
       "      <th></th>\n",
       "      <th>price</th>\n",
       "      <th>returns</th>\n",
       "      <th>lag1</th>\n",
       "      <th>lag2</th>\n",
       "      <th>lag3</th>\n",
       "      <th>lag4</th>\n",
       "      <th>lag5</th>\n",
       "      <th>lag6</th>\n",
       "      <th>lag7</th>\n",
       "      <th>lag8</th>\n",
       "      <th>...</th>\n",
       "      <th>lag16</th>\n",
       "      <th>lag17</th>\n",
       "      <th>lag18</th>\n",
       "      <th>lag19</th>\n",
       "      <th>lag20</th>\n",
       "      <th>pred</th>\n",
       "      <th>strategy</th>\n",
       "      <th>trades</th>\n",
       "      <th>creturns</th>\n",
       "      <th>cstrategy</th>\n",
       "    </tr>\n",
       "    <tr>\n",
       "      <th>time</th>\n",
       "      <th></th>\n",
       "      <th></th>\n",
       "      <th></th>\n",
       "      <th></th>\n",
       "      <th></th>\n",
       "      <th></th>\n",
       "      <th></th>\n",
       "      <th></th>\n",
       "      <th></th>\n",
       "      <th></th>\n",
       "      <th></th>\n",
       "      <th></th>\n",
       "      <th></th>\n",
       "      <th></th>\n",
       "      <th></th>\n",
       "      <th></th>\n",
       "      <th></th>\n",
       "      <th></th>\n",
       "      <th></th>\n",
       "      <th></th>\n",
       "      <th></th>\n",
       "    </tr>\n",
       "  </thead>\n",
       "  <tbody>\n",
       "    <tr>\n",
       "      <th>2020-03-02 23:55:00+00:00</th>\n",
       "      <td>1.701685</td>\n",
       "      <td>-0.000482</td>\n",
       "      <td>-2.436979</td>\n",
       "      <td>-1.399182</td>\n",
       "      <td>-0.914437</td>\n",
       "      <td>0.189478</td>\n",
       "      <td>0.673899</td>\n",
       "      <td>-0.182257</td>\n",
       "      <td>0.245863</td>\n",
       "      <td>1.091005</td>\n",
       "      <td>...</td>\n",
       "      <td>-1.163292</td>\n",
       "      <td>2.264135</td>\n",
       "      <td>-2.539139</td>\n",
       "      <td>-0.058540</td>\n",
       "      <td>-1.591168</td>\n",
       "      <td>1.0</td>\n",
       "      <td>-0.000482</td>\n",
       "      <td>0.0</td>\n",
       "      <td>0.999518</td>\n",
       "      <td>0.999518</td>\n",
       "    </tr>\n",
       "    <tr>\n",
       "      <th>2020-03-03 00:00:00+00:00</th>\n",
       "      <td>1.703020</td>\n",
       "      <td>0.000784</td>\n",
       "      <td>-1.851825</td>\n",
       "      <td>-2.436977</td>\n",
       "      <td>-1.399217</td>\n",
       "      <td>-0.914447</td>\n",
       "      <td>0.189483</td>\n",
       "      <td>0.673898</td>\n",
       "      <td>-0.182244</td>\n",
       "      <td>0.245868</td>\n",
       "      <td>...</td>\n",
       "      <td>1.271709</td>\n",
       "      <td>-1.163255</td>\n",
       "      <td>2.264292</td>\n",
       "      <td>-2.539206</td>\n",
       "      <td>-0.058532</td>\n",
       "      <td>1.0</td>\n",
       "      <td>0.000784</td>\n",
       "      <td>0.0</td>\n",
       "      <td>1.000302</td>\n",
       "      <td>1.000302</td>\n",
       "    </tr>\n",
       "    <tr>\n",
       "      <th>2020-03-03 00:05:00+00:00</th>\n",
       "      <td>1.703940</td>\n",
       "      <td>0.000540</td>\n",
       "      <td>3.009009</td>\n",
       "      <td>-1.851824</td>\n",
       "      <td>-2.437050</td>\n",
       "      <td>-1.399250</td>\n",
       "      <td>-0.914446</td>\n",
       "      <td>0.189479</td>\n",
       "      <td>0.673921</td>\n",
       "      <td>-0.182237</td>\n",
       "      <td>...</td>\n",
       "      <td>-0.498113</td>\n",
       "      <td>1.271745</td>\n",
       "      <td>-1.163405</td>\n",
       "      <td>2.264308</td>\n",
       "      <td>-2.539203</td>\n",
       "      <td>-1.0</td>\n",
       "      <td>-0.000540</td>\n",
       "      <td>2.0</td>\n",
       "      <td>1.000843</td>\n",
       "      <td>0.999762</td>\n",
       "    </tr>\n",
       "    <tr>\n",
       "      <th>2020-03-03 00:10:00+00:00</th>\n",
       "      <td>1.703895</td>\n",
       "      <td>-0.000026</td>\n",
       "      <td>2.071612</td>\n",
       "      <td>3.009010</td>\n",
       "      <td>-1.851875</td>\n",
       "      <td>-2.437131</td>\n",
       "      <td>-1.399251</td>\n",
       "      <td>-0.914456</td>\n",
       "      <td>0.189497</td>\n",
       "      <td>0.673925</td>\n",
       "      <td>...</td>\n",
       "      <td>1.553163</td>\n",
       "      <td>-0.498077</td>\n",
       "      <td>1.271814</td>\n",
       "      <td>-1.163449</td>\n",
       "      <td>2.264321</td>\n",
       "      <td>-1.0</td>\n",
       "      <td>0.000026</td>\n",
       "      <td>0.0</td>\n",
       "      <td>1.000816</td>\n",
       "      <td>0.999789</td>\n",
       "    </tr>\n",
       "    <tr>\n",
       "      <th>2020-03-03 00:15:00+00:00</th>\n",
       "      <td>1.703560</td>\n",
       "      <td>-0.000197</td>\n",
       "      <td>-0.103457</td>\n",
       "      <td>2.071613</td>\n",
       "      <td>3.009135</td>\n",
       "      <td>-1.851929</td>\n",
       "      <td>-2.437137</td>\n",
       "      <td>-1.399263</td>\n",
       "      <td>-0.914451</td>\n",
       "      <td>0.189502</td>\n",
       "      <td>...</td>\n",
       "      <td>0.966785</td>\n",
       "      <td>1.553200</td>\n",
       "      <td>-0.498167</td>\n",
       "      <td>1.271812</td>\n",
       "      <td>-1.163442</td>\n",
       "      <td>-1.0</td>\n",
       "      <td>0.000197</td>\n",
       "      <td>0.0</td>\n",
       "      <td>1.000620</td>\n",
       "      <td>0.999985</td>\n",
       "    </tr>\n",
       "    <tr>\n",
       "      <th>...</th>\n",
       "      <td>...</td>\n",
       "      <td>...</td>\n",
       "      <td>...</td>\n",
       "      <td>...</td>\n",
       "      <td>...</td>\n",
       "      <td>...</td>\n",
       "      <td>...</td>\n",
       "      <td>...</td>\n",
       "      <td>...</td>\n",
       "      <td>...</td>\n",
       "      <td>...</td>\n",
       "      <td>...</td>\n",
       "      <td>...</td>\n",
       "      <td>...</td>\n",
       "      <td>...</td>\n",
       "      <td>...</td>\n",
       "      <td>...</td>\n",
       "      <td>...</td>\n",
       "      <td>...</td>\n",
       "      <td>...</td>\n",
       "      <td>...</td>\n",
       "    </tr>\n",
       "    <tr>\n",
       "      <th>2020-08-30 23:35:00+00:00</th>\n",
       "      <td>1.617190</td>\n",
       "      <td>-0.000108</td>\n",
       "      <td>0.152259</td>\n",
       "      <td>-0.168235</td>\n",
       "      <td>0.021704</td>\n",
       "      <td>0.045480</td>\n",
       "      <td>0.461005</td>\n",
       "      <td>0.377940</td>\n",
       "      <td>-0.322574</td>\n",
       "      <td>0.746086</td>\n",
       "      <td>...</td>\n",
       "      <td>0.888849</td>\n",
       "      <td>-0.429816</td>\n",
       "      <td>-0.548648</td>\n",
       "      <td>-0.988061</td>\n",
       "      <td>-1.130281</td>\n",
       "      <td>-1.0</td>\n",
       "      <td>0.000108</td>\n",
       "      <td>0.0</td>\n",
       "      <td>0.949889</td>\n",
       "      <td>1.735861</td>\n",
       "    </tr>\n",
       "    <tr>\n",
       "      <th>2020-08-30 23:40:00+00:00</th>\n",
       "      <td>1.616890</td>\n",
       "      <td>-0.000186</td>\n",
       "      <td>-0.417525</td>\n",
       "      <td>0.152260</td>\n",
       "      <td>-0.168225</td>\n",
       "      <td>0.021738</td>\n",
       "      <td>0.045485</td>\n",
       "      <td>0.461002</td>\n",
       "      <td>0.377960</td>\n",
       "      <td>-0.322566</td>\n",
       "      <td>...</td>\n",
       "      <td>1.363646</td>\n",
       "      <td>0.888885</td>\n",
       "      <td>-0.429900</td>\n",
       "      <td>-0.548682</td>\n",
       "      <td>-0.988055</td>\n",
       "      <td>1.0</td>\n",
       "      <td>-0.000186</td>\n",
       "      <td>2.0</td>\n",
       "      <td>0.949712</td>\n",
       "      <td>1.735539</td>\n",
       "    </tr>\n",
       "    <tr>\n",
       "      <th>2020-08-30 23:45:00+00:00</th>\n",
       "      <td>1.616870</td>\n",
       "      <td>-0.000012</td>\n",
       "      <td>-0.714396</td>\n",
       "      <td>-0.417524</td>\n",
       "      <td>0.152282</td>\n",
       "      <td>-0.168201</td>\n",
       "      <td>0.021742</td>\n",
       "      <td>0.045480</td>\n",
       "      <td>0.461023</td>\n",
       "      <td>0.377965</td>\n",
       "      <td>...</td>\n",
       "      <td>0.365939</td>\n",
       "      <td>1.363683</td>\n",
       "      <td>0.888920</td>\n",
       "      <td>-0.429931</td>\n",
       "      <td>-0.548674</td>\n",
       "      <td>1.0</td>\n",
       "      <td>-0.000012</td>\n",
       "      <td>0.0</td>\n",
       "      <td>0.949701</td>\n",
       "      <td>1.735518</td>\n",
       "    </tr>\n",
       "    <tr>\n",
       "      <th>2020-08-30 23:50:00+00:00</th>\n",
       "      <td>1.617060</td>\n",
       "      <td>0.000118</td>\n",
       "      <td>-0.049548</td>\n",
       "      <td>-0.714394</td>\n",
       "      <td>-0.417523</td>\n",
       "      <td>0.152321</td>\n",
       "      <td>-0.168197</td>\n",
       "      <td>0.021737</td>\n",
       "      <td>0.045496</td>\n",
       "      <td>0.461027</td>\n",
       "      <td>...</td>\n",
       "      <td>-1.783545</td>\n",
       "      <td>0.365976</td>\n",
       "      <td>1.363759</td>\n",
       "      <td>0.888912</td>\n",
       "      <td>-0.429924</td>\n",
       "      <td>1.0</td>\n",
       "      <td>0.000118</td>\n",
       "      <td>0.0</td>\n",
       "      <td>0.949812</td>\n",
       "      <td>1.735722</td>\n",
       "    </tr>\n",
       "    <tr>\n",
       "      <th>2020-08-30 23:55:00+00:00</th>\n",
       "      <td>1.616945</td>\n",
       "      <td>-0.000071</td>\n",
       "      <td>0.449117</td>\n",
       "      <td>-0.049547</td>\n",
       "      <td>-0.714404</td>\n",
       "      <td>-0.417510</td>\n",
       "      <td>0.152326</td>\n",
       "      <td>-0.168203</td>\n",
       "      <td>0.021753</td>\n",
       "      <td>0.045502</td>\n",
       "      <td>...</td>\n",
       "      <td>0.651126</td>\n",
       "      <td>-1.783508</td>\n",
       "      <td>0.365963</td>\n",
       "      <td>1.363760</td>\n",
       "      <td>0.888922</td>\n",
       "      <td>-1.0</td>\n",
       "      <td>0.000071</td>\n",
       "      <td>2.0</td>\n",
       "      <td>0.949745</td>\n",
       "      <td>1.735845</td>\n",
       "    </tr>\n",
       "  </tbody>\n",
       "</table>\n",
       "<p>37104 rows × 27 columns</p>\n",
       "</div>"
      ]
     },
     "execution_count": 20,
     "metadata": {},
     "output_type": "execute_result"
    }
   ],
   "execution_count": 20
  },
  {
   "cell_type": "code",
   "metadata": {
    "ExecuteTime": {
     "end_time": "2024-11-20T13:50:07.481325Z",
     "start_time": "2024-11-20T13:50:07.475716Z"
    }
   },
   "source": [
    "hits = np.sign(ml.results.returns * ml.results.pred).value_counts()\n",
    "hits"
   ],
   "outputs": [
    {
     "data": {
      "text/plain": [
       " 1.0    19238\n",
       "-1.0    17724\n",
       " 0.0      142\n",
       "Name: count, dtype: int64"
      ]
     },
     "execution_count": 21,
     "metadata": {},
     "output_type": "execute_result"
    }
   ],
   "execution_count": 21
  },
  {
   "cell_type": "code",
   "metadata": {
    "ExecuteTime": {
     "end_time": "2024-11-20T13:50:07.491976Z",
     "start_time": "2024-11-20T13:50:07.488846Z"
    }
   },
   "source": [
    "hit_ratio = hits[1.0] / sum(hits)\n",
    "hit_ratio"
   ],
   "outputs": [
    {
     "data": {
      "text/plain": [
       "0.5184885726606295"
      ]
     },
     "execution_count": 22,
     "metadata": {},
     "output_type": "execute_result"
    }
   ],
   "execution_count": 22
  },
  {
   "cell_type": "code",
   "metadata": {
    "ExecuteTime": {
     "end_time": "2024-11-20T13:50:07.589566Z",
     "start_time": "2024-11-20T13:50:07.583642Z"
    }
   },
   "source": [],
   "outputs": [],
   "execution_count": null
  }
 ],
 "metadata": {
  "kernelspec": {
   "display_name": "Python 3 (ipykernel)",
   "language": "python",
   "name": "python3"
  },
  "language_info": {
   "codemirror_mode": {
    "name": "ipython",
    "version": 3
   },
   "file_extension": ".py",
   "mimetype": "text/x-python",
   "name": "python",
   "nbconvert_exporter": "python",
   "pygments_lexer": "ipython3",
   "version": "3.12.0"
  }
 },
 "nbformat": 4,
 "nbformat_minor": 4
}
